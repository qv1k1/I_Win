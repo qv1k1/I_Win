{
 "cells": [
  {
   "cell_type": "code",
   "execution_count": 1,
   "metadata": {},
   "outputs": [],
   "source": [
    "import pandas as pd"
   ]
  },
  {
   "cell_type": "code",
   "execution_count": 2,
   "metadata": {},
   "outputs": [],
   "source": [
    "stat = pd.read_csv('data/stat_19.05.23.csv', sep=',')\n"
   ]
  },
  {
   "cell_type": "code",
   "execution_count": 3,
   "metadata": {},
   "outputs": [],
   "source": [
    "new_infa = pd.DataFrame({'date': ['2023-07-09'],\n",
    "                         'pr_gema': ['953.5'],\n",
    "                         'pr_abrd': ['333.4'],\n",
    "                         'pr_alrs': ['77.89'],\n",
    "                         'pr_afks': ['17.7'],\n",
    "                         'pr_aflt': ['42.39'],\n",
    "                         'pr_bspb': ['186.67'],\n",
    "                         'pr_belu': ['4538.0'],\n",
    "                         'pr_vtbr': ['0.023275'],\n",
    "                         'pr_gazp': ['169.7'],\n",
    "                         'pr_gche': ['3180.0'],\n",
    "                         'pr_aqua': ['628.0'],                     \n",
    "                         'pr_irao': ['4.1515'],\n",
    "                         'pr_iskj': ['106.5'],\n",
    "                         'pr_kzos': ['109.4'],\n",
    "                         'pr_kmaz': ['211.0'],\n",
    "                         'pr_krsb': ['15.06'],\n",
    "                         'pr_kazt': ['645.8'],\n",
    "                         'pr_mgnt': ['5506.0'],\n",
    "                         'pr_magn': ['50.77'],\n",
    "                         'pr_moex': ['125.7'],\n",
    "                         'pr_mstt': ['229.0'],\n",
    "                         'pr_mtss': ['296.8'],\n",
    "                         'pr_nknc': ['121.1'],\n",
    "                         'pr_nlmk': ['193.5'],\n",
    "                         'pr_nmtp': ['9.18'],\n",
    "                         'pr_nvtk': ['1440.0'],\n",
    "                         'pr_pmsb': ['160.6'],\n",
    "                         'pr_pikk': ['771.8'],\n",
    "                         'pr_rosn': ['487.65'],\n",
    "                         'pr_mrkp': ['0.3043'],\n",
    "                         'pr_rtkm': ['72.66'],\n",
    "                         'pr_rual': ['41.97'],\n",
    "                         'pr_sber': ['246.45'],\n",
    "                         'pr_sgzh': ['6.142'],\n",
    "                         'pr_phor': ['7318.0'] \n",
    " })\n"
   ]
  },
  {
   "cell_type": "code",
   "execution_count": 4,
   "metadata": {},
   "outputs": [],
   "source": [
    "new_infa.to_csv('data/stat_19.05.23.csv', mode='a', index= False , header= False )"
   ]
  }
 ],
 "metadata": {
  "kernelspec": {
   "display_name": "Python 3",
   "language": "python",
   "name": "python3"
  },
  "language_info": {
   "codemirror_mode": {
    "name": "ipython",
    "version": 3
   },
   "file_extension": ".py",
   "mimetype": "text/x-python",
   "name": "python",
   "nbconvert_exporter": "python",
   "pygments_lexer": "ipython3",
   "version": "3.11.2"
  },
  "orig_nbformat": 4
 },
 "nbformat": 4,
 "nbformat_minor": 2
}
