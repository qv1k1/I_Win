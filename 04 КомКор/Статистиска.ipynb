{
 "cells": [
  {
   "cell_type": "code",
   "execution_count": 1,
   "metadata": {},
   "outputs": [],
   "source": [
    "import pandas as pd"
   ]
  },
  {
   "cell_type": "code",
   "execution_count": 2,
   "metadata": {},
   "outputs": [],
   "source": [
    "stat = pd.read_csv('data/stat_19.05.23.csv', sep=',')"
   ]
  },
  {
   "cell_type": "code",
   "execution_count": 3,
   "metadata": {},
   "outputs": [],
   "source": [
    "stat['date'] = pd.to_datetime(stat['date'], dayfirst=False)"
   ]
  },
  {
   "cell_type": "code",
   "execution_count": 4,
   "metadata": {},
   "outputs": [],
   "source": [
    "stat['abrd1'] = stat['pr_abrd'] - 195.5\n",
    "stat['afks1'] = stat['pr_afks'] - 30.97\n",
    "stat['aflt1'] = stat['pr_aflt'] - 69.4\n",
    "stat['sber1'] = stat['pr_sber'] - 329.71\n",
    "stat['gazp1'] = stat['pr_gazp'] - 317.94\n",
    "stat['alrs1'] = stat['pr_alrs'] - 145.83\n",
    "stat['aqua1'] = stat['pr_aqua'] - 452.5\n",
    "stat['belu1'] = stat['pr_belu'] - 3285.0\n",
    "stat['bspb1'] = stat['pr_bspb'] - 74.8\n",
    "stat['gche1'] = stat['pr_gche'] - 2862.0\n",
    "stat['gema1'] = stat['pr_gema'] - 902.5\n",
    "stat['irao1'] = stat['pr_irao'] - 4.7905\n",
    "stat['iskj1'] = stat['pr_iskj'] - 92.69\n",
    "stat['kazt1'] = stat['pr_kazt'] - 386.8\n",
    "stat['kmaz1'] = stat['pr_kmaz'] - 113.5\n",
    "stat['krsb1'] = stat['pr_krsb'] - 9.12\n",
    "stat['kzos1'] = stat['pr_kzos'] - 115.0\n",
    "stat['magn1'] = stat['pr_magn'] - 76.67\n",
    "stat['mgnt1'] = stat['pr_mgnt'] - 5517.5\n",
    "stat['moex1'] = stat['pr_moex'] - 186.39\n",
    "stat['mrkp1'] = stat['pr_mrkp'] - 0.2579\n",
    "stat['mstt1'] = stat['pr_mstt'] - 93.2\n",
    "stat['mtss1'] = stat['pr_mtss'] - 329.1\n",
    "stat['nknc1'] = stat['pr_nknc'] - 153.5\n",
    "stat['nlmk1'] = stat['pr_nlmk'] - 246.32\n",
    "stat['nmtp1'] = stat['pr_nmtp'] - 8.205\n",
    "stat['nvtk1'] = stat['pr_nvtk'] - 1840.40\n",
    "stat['phor1'] = stat['pr_phor'] - 4724.0\n",
    "stat['pikk1'] = stat['pr_pikk'] - 1388.5\n",
    "stat['pmsb1'] = stat['pr_pmsb'] - 159.4\n",
    "stat['rosn1'] = stat['pr_rosn'] - 555.4\n",
    "stat['rtkm1'] = stat['pr_rtkm'] - 95.71\n",
    "stat['rual1'] = stat['pr_rual'] - 62.4\n",
    "stat['sgzh1'] = stat['pr_sgzh'] - 8.821\n",
    "stat['vtbr1'] = stat['pr_vtbr'] - 0.052400"
   ]
  },
  {
   "cell_type": "code",
   "execution_count": 5,
   "metadata": {},
   "outputs": [
    {
     "data": {
      "text/html": [
       "<div>\n",
       "<style scoped>\n",
       "    .dataframe tbody tr th:only-of-type {\n",
       "        vertical-align: middle;\n",
       "    }\n",
       "\n",
       "    .dataframe tbody tr th {\n",
       "        vertical-align: top;\n",
       "    }\n",
       "\n",
       "    .dataframe thead th {\n",
       "        text-align: right;\n",
       "    }\n",
       "</style>\n",
       "<table border=\"1\" class=\"dataframe\">\n",
       "  <thead>\n",
       "    <tr style=\"text-align: right;\">\n",
       "      <th></th>\n",
       "      <th>date</th>\n",
       "      <th>moex1</th>\n",
       "      <th>mrkp1</th>\n",
       "      <th>mstt1</th>\n",
       "      <th>nknc1</th>\n",
       "      <th>nlmk1</th>\n",
       "      <th>nmtp1</th>\n",
       "      <th>nvtk1</th>\n",
       "      <th>phor1</th>\n",
       "      <th>pikk1</th>\n",
       "      <th>rosn1</th>\n",
       "      <th>rtkm1</th>\n",
       "      <th>sgzh1</th>\n",
       "      <th>vtbr1</th>\n",
       "    </tr>\n",
       "  </thead>\n",
       "  <tbody>\n",
       "    <tr>\n",
       "      <th>0</th>\n",
       "      <td>2021-08-29</td>\n",
       "      <td>0.00</td>\n",
       "      <td>0.0000</td>\n",
       "      <td>0.00</td>\n",
       "      <td>0.00</td>\n",
       "      <td>0.00</td>\n",
       "      <td>0.000</td>\n",
       "      <td>0.0</td>\n",
       "      <td>0.0</td>\n",
       "      <td>0.0</td>\n",
       "      <td>0.00</td>\n",
       "      <td>0.00</td>\n",
       "      <td>0.000</td>\n",
       "      <td>0.000000</td>\n",
       "    </tr>\n",
       "    <tr>\n",
       "      <th>1</th>\n",
       "      <td>2021-09-05</td>\n",
       "      <td>-0.30</td>\n",
       "      <td>0.0156</td>\n",
       "      <td>-0.35</td>\n",
       "      <td>2.95</td>\n",
       "      <td>-15.08</td>\n",
       "      <td>0.255</td>\n",
       "      <td>72.6</td>\n",
       "      <td>101.0</td>\n",
       "      <td>57.6</td>\n",
       "      <td>-12.10</td>\n",
       "      <td>-2.51</td>\n",
       "      <td>-0.140</td>\n",
       "      <td>-0.000450</td>\n",
       "    </tr>\n",
       "    <tr>\n",
       "      <th>2</th>\n",
       "      <td>2021-09-12</td>\n",
       "      <td>-4.31</td>\n",
       "      <td>0.0167</td>\n",
       "      <td>-1.40</td>\n",
       "      <td>-8.40</td>\n",
       "      <td>-25.22</td>\n",
       "      <td>0.145</td>\n",
       "      <td>9.6</td>\n",
       "      <td>213.0</td>\n",
       "      <td>96.3</td>\n",
       "      <td>11.70</td>\n",
       "      <td>-3.03</td>\n",
       "      <td>-0.041</td>\n",
       "      <td>-0.001000</td>\n",
       "    </tr>\n",
       "    <tr>\n",
       "      <th>3</th>\n",
       "      <td>2021-09-19</td>\n",
       "      <td>-7.02</td>\n",
       "      <td>0.0033</td>\n",
       "      <td>-2.75</td>\n",
       "      <td>-19.00</td>\n",
       "      <td>-21.82</td>\n",
       "      <td>-0.300</td>\n",
       "      <td>44.2</td>\n",
       "      <td>324.0</td>\n",
       "      <td>55.5</td>\n",
       "      <td>58.60</td>\n",
       "      <td>-3.33</td>\n",
       "      <td>-0.138</td>\n",
       "      <td>-0.001475</td>\n",
       "    </tr>\n",
       "    <tr>\n",
       "      <th>4</th>\n",
       "      <td>2021-09-26</td>\n",
       "      <td>-15.43</td>\n",
       "      <td>0.0004</td>\n",
       "      <td>-3.35</td>\n",
       "      <td>-20.80</td>\n",
       "      <td>-33.82</td>\n",
       "      <td>-0.365</td>\n",
       "      <td>91.4</td>\n",
       "      <td>391.0</td>\n",
       "      <td>-110.5</td>\n",
       "      <td>63.05</td>\n",
       "      <td>-5.72</td>\n",
       "      <td>-0.125</td>\n",
       "      <td>-0.000915</td>\n",
       "    </tr>\n",
       "    <tr>\n",
       "      <th>...</th>\n",
       "      <td>...</td>\n",
       "      <td>...</td>\n",
       "      <td>...</td>\n",
       "      <td>...</td>\n",
       "      <td>...</td>\n",
       "      <td>...</td>\n",
       "      <td>...</td>\n",
       "      <td>...</td>\n",
       "      <td>...</td>\n",
       "      <td>...</td>\n",
       "      <td>...</td>\n",
       "      <td>...</td>\n",
       "      <td>...</td>\n",
       "      <td>...</td>\n",
       "    </tr>\n",
       "    <tr>\n",
       "      <th>89</th>\n",
       "      <td>2023-06-11</td>\n",
       "      <td>-62.33</td>\n",
       "      <td>-0.0141</td>\n",
       "      <td>135.65</td>\n",
       "      <td>-40.15</td>\n",
       "      <td>-81.82</td>\n",
       "      <td>0.810</td>\n",
       "      <td>-461.6</td>\n",
       "      <td>2752.0</td>\n",
       "      <td>-649.3</td>\n",
       "      <td>-75.00</td>\n",
       "      <td>-23.55</td>\n",
       "      <td>-3.347</td>\n",
       "      <td>-0.029425</td>\n",
       "    </tr>\n",
       "    <tr>\n",
       "      <th>90</th>\n",
       "      <td>2023-06-18</td>\n",
       "      <td>-65.67</td>\n",
       "      <td>-0.0163</td>\n",
       "      <td>135.10</td>\n",
       "      <td>-38.30</td>\n",
       "      <td>-74.96</td>\n",
       "      <td>1.200</td>\n",
       "      <td>-523.4</td>\n",
       "      <td>2669.0</td>\n",
       "      <td>-639.5</td>\n",
       "      <td>-87.85</td>\n",
       "      <td>-24.11</td>\n",
       "      <td>-3.620</td>\n",
       "      <td>-0.030400</td>\n",
       "    </tr>\n",
       "    <tr>\n",
       "      <th>91</th>\n",
       "      <td>2023-06-25</td>\n",
       "      <td>-63.33</td>\n",
       "      <td>-0.0048</td>\n",
       "      <td>129.45</td>\n",
       "      <td>-32.10</td>\n",
       "      <td>-73.58</td>\n",
       "      <td>1.600</td>\n",
       "      <td>-505.4</td>\n",
       "      <td>2586.0</td>\n",
       "      <td>-630.2</td>\n",
       "      <td>-73.05</td>\n",
       "      <td>-23.88</td>\n",
       "      <td>-2.976</td>\n",
       "      <td>-0.030715</td>\n",
       "    </tr>\n",
       "    <tr>\n",
       "      <th>92</th>\n",
       "      <td>2023-07-02</td>\n",
       "      <td>-63.65</td>\n",
       "      <td>0.0244</td>\n",
       "      <td>127.80</td>\n",
       "      <td>-31.60</td>\n",
       "      <td>-64.98</td>\n",
       "      <td>0.945</td>\n",
       "      <td>-444.0</td>\n",
       "      <td>2667.0</td>\n",
       "      <td>-628.1</td>\n",
       "      <td>-73.00</td>\n",
       "      <td>-23.74</td>\n",
       "      <td>-2.686</td>\n",
       "      <td>-0.029915</td>\n",
       "    </tr>\n",
       "    <tr>\n",
       "      <th>93</th>\n",
       "      <td>2023-07-09</td>\n",
       "      <td>-60.69</td>\n",
       "      <td>0.0464</td>\n",
       "      <td>135.80</td>\n",
       "      <td>-32.40</td>\n",
       "      <td>-52.82</td>\n",
       "      <td>0.975</td>\n",
       "      <td>-400.4</td>\n",
       "      <td>2594.0</td>\n",
       "      <td>-616.7</td>\n",
       "      <td>-67.75</td>\n",
       "      <td>-23.05</td>\n",
       "      <td>-2.679</td>\n",
       "      <td>-0.029125</td>\n",
       "    </tr>\n",
       "  </tbody>\n",
       "</table>\n",
       "<p>94 rows × 14 columns</p>\n",
       "</div>"
      ],
      "text/plain": [
       "         date  moex1   mrkp1   mstt1  nknc1  nlmk1  nmtp1  nvtk1   phor1   \n",
       "0  2021-08-29   0.00  0.0000    0.00   0.00   0.00  0.000    0.0     0.0  \\\n",
       "1  2021-09-05  -0.30  0.0156   -0.35   2.95 -15.08  0.255   72.6   101.0   \n",
       "2  2021-09-12  -4.31  0.0167   -1.40  -8.40 -25.22  0.145    9.6   213.0   \n",
       "3  2021-09-19  -7.02  0.0033   -2.75 -19.00 -21.82 -0.300   44.2   324.0   \n",
       "4  2021-09-26 -15.43  0.0004   -3.35 -20.80 -33.82 -0.365   91.4   391.0   \n",
       "..        ...    ...     ...     ...    ...    ...    ...    ...     ...   \n",
       "89 2023-06-11 -62.33 -0.0141  135.65 -40.15 -81.82  0.810 -461.6  2752.0   \n",
       "90 2023-06-18 -65.67 -0.0163  135.10 -38.30 -74.96  1.200 -523.4  2669.0   \n",
       "91 2023-06-25 -63.33 -0.0048  129.45 -32.10 -73.58  1.600 -505.4  2586.0   \n",
       "92 2023-07-02 -63.65  0.0244  127.80 -31.60 -64.98  0.945 -444.0  2667.0   \n",
       "93 2023-07-09 -60.69  0.0464  135.80 -32.40 -52.82  0.975 -400.4  2594.0   \n",
       "\n",
       "    pikk1  rosn1  rtkm1  sgzh1     vtbr1  \n",
       "0     0.0   0.00   0.00  0.000  0.000000  \n",
       "1    57.6 -12.10  -2.51 -0.140 -0.000450  \n",
       "2    96.3  11.70  -3.03 -0.041 -0.001000  \n",
       "3    55.5  58.60  -3.33 -0.138 -0.001475  \n",
       "4  -110.5  63.05  -5.72 -0.125 -0.000915  \n",
       "..    ...    ...    ...    ...       ...  \n",
       "89 -649.3 -75.00 -23.55 -3.347 -0.029425  \n",
       "90 -639.5 -87.85 -24.11 -3.620 -0.030400  \n",
       "91 -630.2 -73.05 -23.88 -2.976 -0.030715  \n",
       "92 -628.1 -73.00 -23.74 -2.686 -0.029915  \n",
       "93 -616.7 -67.75 -23.05 -2.679 -0.029125  \n",
       "\n",
       "[94 rows x 14 columns]"
      ]
     },
     "execution_count": 5,
     "metadata": {},
     "output_type": "execute_result"
    }
   ],
   "source": [
    "stat.sort_values(by=['date', 'moex1', 'mrkp1',\n",
    "                     'mstt1', 'nknc1', 'nlmk1',\n",
    "                     'nmtp1', 'nvtk1', 'phor1',\n",
    "                     'pikk1', 'rosn1', 'rtkm1',\n",
    "                     'sgzh1', 'vtbr1']).loc[:, ['date', 'moex1', 'mrkp1',\n",
    "                                                         'mstt1', 'nknc1', 'nlmk1',\n",
    "                                                         'nmtp1', 'nvtk1', 'phor1',\n",
    "                                                         'pikk1', 'rosn1', 'rtkm1',\n",
    "                                                         'sgzh1', 'vtbr1']]"
   ]
  },
  {
   "cell_type": "code",
   "execution_count": 6,
   "metadata": {},
   "outputs": [
    {
     "data": {
      "text/html": [
       "<div>\n",
       "<style scoped>\n",
       "    .dataframe tbody tr th:only-of-type {\n",
       "        vertical-align: middle;\n",
       "    }\n",
       "\n",
       "    .dataframe tbody tr th {\n",
       "        vertical-align: top;\n",
       "    }\n",
       "\n",
       "    .dataframe thead th {\n",
       "        text-align: right;\n",
       "    }\n",
       "</style>\n",
       "<table border=\"1\" class=\"dataframe\">\n",
       "  <thead>\n",
       "    <tr style=\"text-align: right;\">\n",
       "      <th></th>\n",
       "      <th>date</th>\n",
       "      <th>alrs1</th>\n",
       "      <th>rual1</th>\n",
       "      <th>sber1</th>\n",
       "      <th>gazp1</th>\n",
       "      <th>aqua1</th>\n",
       "      <th>belu1</th>\n",
       "      <th>bspb1</th>\n",
       "      <th>gche1</th>\n",
       "      <th>gema1</th>\n",
       "      <th>irao1</th>\n",
       "      <th>iskj1</th>\n",
       "      <th>kazt1</th>\n",
       "      <th>kmaz1</th>\n",
       "      <th>krsb1</th>\n",
       "      <th>kzos1</th>\n",
       "      <th>magn1</th>\n",
       "      <th>mgnt1</th>\n",
       "    </tr>\n",
       "  </thead>\n",
       "  <tbody>\n",
       "    <tr>\n",
       "      <th>0</th>\n",
       "      <td>2021-08-29</td>\n",
       "      <td>0.00</td>\n",
       "      <td>0.000</td>\n",
       "      <td>0.00</td>\n",
       "      <td>0.00</td>\n",
       "      <td>0.0</td>\n",
       "      <td>0.0</td>\n",
       "      <td>0.00</td>\n",
       "      <td>0.0</td>\n",
       "      <td>0.0</td>\n",
       "      <td>0.0000</td>\n",
       "      <td>0.00</td>\n",
       "      <td>0.0</td>\n",
       "      <td>0.0</td>\n",
       "      <td>0.00</td>\n",
       "      <td>0.0</td>\n",
       "      <td>0.000</td>\n",
       "      <td>0.0</td>\n",
       "    </tr>\n",
       "    <tr>\n",
       "      <th>1</th>\n",
       "      <td>2021-09-05</td>\n",
       "      <td>3.34</td>\n",
       "      <td>9.730</td>\n",
       "      <td>-3.46</td>\n",
       "      <td>8.49</td>\n",
       "      <td>7.5</td>\n",
       "      <td>-109.0</td>\n",
       "      <td>0.16</td>\n",
       "      <td>137.5</td>\n",
       "      <td>42.0</td>\n",
       "      <td>-0.0665</td>\n",
       "      <td>-2.42</td>\n",
       "      <td>17.8</td>\n",
       "      <td>-7.0</td>\n",
       "      <td>-0.07</td>\n",
       "      <td>1.0</td>\n",
       "      <td>1.580</td>\n",
       "      <td>-199.0</td>\n",
       "    </tr>\n",
       "    <tr>\n",
       "      <th>2</th>\n",
       "      <td>2021-09-12</td>\n",
       "      <td>-2.03</td>\n",
       "      <td>9.895</td>\n",
       "      <td>-0.15</td>\n",
       "      <td>16.56</td>\n",
       "      <td>14.5</td>\n",
       "      <td>62.0</td>\n",
       "      <td>2.46</td>\n",
       "      <td>532.5</td>\n",
       "      <td>22.0</td>\n",
       "      <td>-0.1395</td>\n",
       "      <td>-2.98</td>\n",
       "      <td>-4.8</td>\n",
       "      <td>-7.0</td>\n",
       "      <td>-0.07</td>\n",
       "      <td>-1.7</td>\n",
       "      <td>-2.600</td>\n",
       "      <td>210.0</td>\n",
       "    </tr>\n",
       "    <tr>\n",
       "      <th>3</th>\n",
       "      <td>2021-09-19</td>\n",
       "      <td>-6.09</td>\n",
       "      <td>10.795</td>\n",
       "      <td>-4.27</td>\n",
       "      <td>26.35</td>\n",
       "      <td>10.5</td>\n",
       "      <td>137.0</td>\n",
       "      <td>-0.90</td>\n",
       "      <td>227.0</td>\n",
       "      <td>84.5</td>\n",
       "      <td>-0.2025</td>\n",
       "      <td>-4.14</td>\n",
       "      <td>27.4</td>\n",
       "      <td>-7.4</td>\n",
       "      <td>-0.11</td>\n",
       "      <td>-7.0</td>\n",
       "      <td>-3.530</td>\n",
       "      <td>427.0</td>\n",
       "    </tr>\n",
       "    <tr>\n",
       "      <th>4</th>\n",
       "      <td>2021-09-26</td>\n",
       "      <td>-7.82</td>\n",
       "      <td>9.050</td>\n",
       "      <td>8.77</td>\n",
       "      <td>45.31</td>\n",
       "      <td>51.0</td>\n",
       "      <td>31.0</td>\n",
       "      <td>1.71</td>\n",
       "      <td>100.0</td>\n",
       "      <td>NaN</td>\n",
       "      <td>-0.0325</td>\n",
       "      <td>-3.60</td>\n",
       "      <td>7.0</td>\n",
       "      <td>-10.8</td>\n",
       "      <td>-0.10</td>\n",
       "      <td>-16.1</td>\n",
       "      <td>-6.990</td>\n",
       "      <td>496.5</td>\n",
       "    </tr>\n",
       "    <tr>\n",
       "      <th>...</th>\n",
       "      <td>...</td>\n",
       "      <td>...</td>\n",
       "      <td>...</td>\n",
       "      <td>...</td>\n",
       "      <td>...</td>\n",
       "      <td>...</td>\n",
       "      <td>...</td>\n",
       "      <td>...</td>\n",
       "      <td>...</td>\n",
       "      <td>...</td>\n",
       "      <td>...</td>\n",
       "      <td>...</td>\n",
       "      <td>...</td>\n",
       "      <td>...</td>\n",
       "      <td>...</td>\n",
       "      <td>...</td>\n",
       "      <td>...</td>\n",
       "      <td>...</td>\n",
       "    </tr>\n",
       "    <tr>\n",
       "      <th>89</th>\n",
       "      <td>2023-06-11</td>\n",
       "      <td>-78.79</td>\n",
       "      <td>-21.810</td>\n",
       "      <td>-85.84</td>\n",
       "      <td>-148.07</td>\n",
       "      <td>140.0</td>\n",
       "      <td>928.0</td>\n",
       "      <td>93.59</td>\n",
       "      <td>238.5</td>\n",
       "      <td>43.5</td>\n",
       "      <td>-0.6140</td>\n",
       "      <td>13.31</td>\n",
       "      <td>265.0</td>\n",
       "      <td>74.7</td>\n",
       "      <td>4.91</td>\n",
       "      <td>2.9</td>\n",
       "      <td>-32.630</td>\n",
       "      <td>-621.0</td>\n",
       "    </tr>\n",
       "    <tr>\n",
       "      <th>90</th>\n",
       "      <td>2023-06-18</td>\n",
       "      <td>-78.94</td>\n",
       "      <td>-23.325</td>\n",
       "      <td>-94.04</td>\n",
       "      <td>-152.14</td>\n",
       "      <td>164.5</td>\n",
       "      <td>887.0</td>\n",
       "      <td>96.80</td>\n",
       "      <td>237.0</td>\n",
       "      <td>60.0</td>\n",
       "      <td>-0.7695</td>\n",
       "      <td>11.43</td>\n",
       "      <td>250.2</td>\n",
       "      <td>89.9</td>\n",
       "      <td>5.24</td>\n",
       "      <td>4.3</td>\n",
       "      <td>-31.925</td>\n",
       "      <td>-792.5</td>\n",
       "    </tr>\n",
       "    <tr>\n",
       "      <th>91</th>\n",
       "      <td>2023-06-25</td>\n",
       "      <td>-75.53</td>\n",
       "      <td>-23.170</td>\n",
       "      <td>-90.10</td>\n",
       "      <td>-151.08</td>\n",
       "      <td>182.0</td>\n",
       "      <td>911.0</td>\n",
       "      <td>90.21</td>\n",
       "      <td>264.5</td>\n",
       "      <td>71.5</td>\n",
       "      <td>-0.7535</td>\n",
       "      <td>11.33</td>\n",
       "      <td>258.2</td>\n",
       "      <td>94.1</td>\n",
       "      <td>5.42</td>\n",
       "      <td>8.0</td>\n",
       "      <td>-29.260</td>\n",
       "      <td>-361.5</td>\n",
       "    </tr>\n",
       "    <tr>\n",
       "      <th>92</th>\n",
       "      <td>2023-07-02</td>\n",
       "      <td>-73.65</td>\n",
       "      <td>-21.255</td>\n",
       "      <td>-86.04</td>\n",
       "      <td>-151.60</td>\n",
       "      <td>169.5</td>\n",
       "      <td>945.0</td>\n",
       "      <td>88.89</td>\n",
       "      <td>268.0</td>\n",
       "      <td>53.5</td>\n",
       "      <td>-0.8200</td>\n",
       "      <td>10.33</td>\n",
       "      <td>248.2</td>\n",
       "      <td>91.6</td>\n",
       "      <td>5.53</td>\n",
       "      <td>0.1</td>\n",
       "      <td>-29.115</td>\n",
       "      <td>-192.5</td>\n",
       "    </tr>\n",
       "    <tr>\n",
       "      <th>93</th>\n",
       "      <td>2023-07-09</td>\n",
       "      <td>-67.94</td>\n",
       "      <td>-20.430</td>\n",
       "      <td>-83.26</td>\n",
       "      <td>-148.24</td>\n",
       "      <td>175.5</td>\n",
       "      <td>1253.0</td>\n",
       "      <td>111.87</td>\n",
       "      <td>318.0</td>\n",
       "      <td>51.0</td>\n",
       "      <td>-0.6390</td>\n",
       "      <td>13.81</td>\n",
       "      <td>259.0</td>\n",
       "      <td>97.5</td>\n",
       "      <td>5.94</td>\n",
       "      <td>-5.6</td>\n",
       "      <td>-25.900</td>\n",
       "      <td>-11.5</td>\n",
       "    </tr>\n",
       "  </tbody>\n",
       "</table>\n",
       "<p>94 rows × 18 columns</p>\n",
       "</div>"
      ],
      "text/plain": [
       "         date  alrs1   rual1  sber1   gazp1  aqua1   belu1   bspb1  gche1   \n",
       "0  2021-08-29   0.00   0.000   0.00    0.00    0.0     0.0    0.00    0.0  \\\n",
       "1  2021-09-05   3.34   9.730  -3.46    8.49    7.5  -109.0    0.16  137.5   \n",
       "2  2021-09-12  -2.03   9.895  -0.15   16.56   14.5    62.0    2.46  532.5   \n",
       "3  2021-09-19  -6.09  10.795  -4.27   26.35   10.5   137.0   -0.90  227.0   \n",
       "4  2021-09-26  -7.82   9.050   8.77   45.31   51.0    31.0    1.71  100.0   \n",
       "..        ...    ...     ...    ...     ...    ...     ...     ...    ...   \n",
       "89 2023-06-11 -78.79 -21.810 -85.84 -148.07  140.0   928.0   93.59  238.5   \n",
       "90 2023-06-18 -78.94 -23.325 -94.04 -152.14  164.5   887.0   96.80  237.0   \n",
       "91 2023-06-25 -75.53 -23.170 -90.10 -151.08  182.0   911.0   90.21  264.5   \n",
       "92 2023-07-02 -73.65 -21.255 -86.04 -151.60  169.5   945.0   88.89  268.0   \n",
       "93 2023-07-09 -67.94 -20.430 -83.26 -148.24  175.5  1253.0  111.87  318.0   \n",
       "\n",
       "    gema1   irao1  iskj1  kazt1  kmaz1  krsb1  kzos1   magn1  mgnt1  \n",
       "0     0.0  0.0000   0.00    0.0    0.0   0.00    0.0   0.000    0.0  \n",
       "1    42.0 -0.0665  -2.42   17.8   -7.0  -0.07    1.0   1.580 -199.0  \n",
       "2    22.0 -0.1395  -2.98   -4.8   -7.0  -0.07   -1.7  -2.600  210.0  \n",
       "3    84.5 -0.2025  -4.14   27.4   -7.4  -0.11   -7.0  -3.530  427.0  \n",
       "4     NaN -0.0325  -3.60    7.0  -10.8  -0.10  -16.1  -6.990  496.5  \n",
       "..    ...     ...    ...    ...    ...    ...    ...     ...    ...  \n",
       "89   43.5 -0.6140  13.31  265.0   74.7   4.91    2.9 -32.630 -621.0  \n",
       "90   60.0 -0.7695  11.43  250.2   89.9   5.24    4.3 -31.925 -792.5  \n",
       "91   71.5 -0.7535  11.33  258.2   94.1   5.42    8.0 -29.260 -361.5  \n",
       "92   53.5 -0.8200  10.33  248.2   91.6   5.53    0.1 -29.115 -192.5  \n",
       "93   51.0 -0.6390  13.81  259.0   97.5   5.94   -5.6 -25.900  -11.5  \n",
       "\n",
       "[94 rows x 18 columns]"
      ]
     },
     "execution_count": 6,
     "metadata": {},
     "output_type": "execute_result"
    }
   ],
   "source": [
    "stat.sort_values(by=['date', 'alrs1', 'rual1',\n",
    "                     'sber1', 'gazp1', 'aqua1',\n",
    "                     'belu1', 'bspb1', 'gche1',\n",
    "                     'gema1', 'irao1', 'iskj1',\n",
    "                     'kazt1', 'kmaz1', 'krsb1',\n",
    "                     'kzos1', 'magn1', 'mgnt1']).loc[:, ['date', 'alrs1', 'rual1',\n",
    "                                                         'sber1', 'gazp1', 'aqua1',\n",
    "                                                         'belu1', 'bspb1', 'gche1',\n",
    "                                                         'gema1', 'irao1', 'iskj1',\n",
    "                                                         'kazt1', 'kmaz1', 'krsb1',\n",
    "                                                         'kzos1', 'magn1', 'mgnt1']]"
   ]
  },
  {
   "cell_type": "code",
   "execution_count": 7,
   "metadata": {},
   "outputs": [],
   "source": [
    "stat['ch_abrd'] = round(stat['pr_abrd'] * 100 / 195.5 - 100, 2)\n",
    "stat['ch_afks'] = round(stat['pr_afks'] * 100 / 30.97  - 100, 2)\n",
    "stat['ch_aflt'] = round(stat['pr_aflt'] * 100 / 69.4 - 100, 2)\n",
    "stat['ch_sber'] = round(stat['pr_sber'] * 100 / 329.71 - 100, 2)\n",
    "stat['ch_gazp'] = round(stat['pr_gazp'] * 100 / 317.94 - 100, 2)\n",
    "stat['ch_alrs'] = round(stat['pr_alrs'] * 100 / 145.83 - 100, 2)\n",
    "stat['ch_aqua'] = round(stat['pr_aqua'] * 100 / 452.5 - 100, 2)\n",
    "stat['ch_belu'] = round(stat['pr_belu'] * 100 / 3285.0 - 100, 2)\n",
    "stat['ch_bspb'] = round(stat['pr_bspb'] * 100 / 74.8 - 100, 2)\n",
    "stat['ch_gche'] = round(stat['pr_gche'] * 100 / 2862.0 - 100, 2)\n",
    "stat['ch_gema'] = round(stat['pr_gema'] * 100 / 902.5 - 100, 2)\n",
    "stat['ch_irao'] = round(stat['pr_irao'] * 100 / 4.7905 - 100, 2)\n",
    "stat['ch_iskj'] = round(stat['pr_iskj'] * 100 / 92.69 - 100, 2)\n",
    "stat['ch_kazt'] = round(stat['pr_kazt'] * 100 / 386.8 - 100, 2)\n",
    "stat['ch_kmaz'] = round(stat['pr_kmaz'] * 100 / 113.5 - 100, 2)\n",
    "stat['ch_krsb'] = round(stat['pr_krsb'] * 100 / 9.12 - 100, 2)\n",
    "stat['ch_kzos'] = round(stat['pr_kzos'] * 100 / 115.0 - 100, 2)\n",
    "stat['ch_magn'] = round(stat['pr_magn'] * 100 / 76.67 - 100, 2)\n",
    "stat['ch_mgnt'] = round(stat['pr_mgnt'] * 100 / 5517.5 - 100, 2)\n",
    "stat['ch_moex'] = round(stat['pr_moex'] * 100 / 186.39 - 100, 2)\n",
    "stat['ch_mrkp'] = round(stat['pr_mrkp'] * 100 / 0.2579 - 100, 2)\n",
    "stat['ch_mstt'] = round(stat['pr_mstt'] * 100 / 93.2 - 100, 2)\n",
    "stat['ch_mtss'] = round(stat['pr_mtss'] * 100 / 329.1 - 100, 2)\n",
    "stat['ch_nknc'] = round(stat['pr_nknc'] * 100 / 153.5 - 100, 2)\n",
    "stat['ch_nlmk'] = round(stat['pr_nlmk'] * 100 / 246.32 - 100, 2)\n",
    "stat['ch_nmtp'] = round(stat['pr_nmtp'] * 100 / 8.205 - 100, 2)\n",
    "stat['ch_nvtk'] = round(stat['pr_nvtk'] * 100 / 1840.40 - 100, 2)\n",
    "stat['ch_phor'] = round(stat['pr_phor'] * 100 / 4724.0 - 100, 2)\n",
    "stat['ch_pikk'] = round(stat['pr_pikk'] * 100 / 1388.5 - 100, 2)\n",
    "stat['ch_pmsb'] = round(stat['pr_pmsb'] * 100 / 159.4 - 100, 2)\n",
    "stat['ch_rosn'] = round(stat['pr_rosn'] * 100 / 555.4 - 100, 2)\n",
    "stat['ch_rtkm'] = round(stat['pr_rtkm'] * 100 / 95.71 - 100, 2)\n",
    "stat['ch_rual'] = round(stat['pr_rual'] * 100 / 62.4 - 100, 2)\n",
    "stat['ch_sgzh'] = round(stat['pr_sgzh'] * 100 / 8.821 - 100, 2)\n",
    "stat['ch_vtbr'] = round(stat['pr_vtbr'] * 100 / 0.052400 - 100, 2)\n",
    "\n"
   ]
  },
  {
   "cell_type": "code",
   "execution_count": 8,
   "metadata": {},
   "outputs": [
    {
     "name": "stdout",
     "output_type": "stream",
     "text": [
      "     Column  Min Value\n",
      "34  ch_vtbr     -55.58\n",
      "4   ch_gazp     -46.63\n",
      "5   ch_alrs     -46.59\n",
      "28  ch_pikk     -44.41\n",
      "1   ch_afks     -42.85\n",
      "2   ch_aflt     -38.92\n",
      "17  ch_magn     -33.78\n",
      "32  ch_rual     -32.74\n",
      "19  ch_moex     -32.56\n",
      "33  ch_sgzh     -30.37\n",
      "3   ch_sber     -25.25\n",
      "31  ch_rtkm     -24.08\n",
      "26  ch_nvtk     -21.76\n",
      "24  ch_nlmk     -21.44\n",
      "23  ch_nknc     -21.11\n",
      "11  ch_irao     -13.34\n",
      "30  ch_rosn     -12.20\n",
      "22  ch_mtss      -9.81\n",
      "16  ch_kzos      -4.87\n",
      "18  ch_mgnt      -0.21\n",
      "29  ch_pmsb       0.75\n",
      "10  ch_gema       5.65\n",
      "9   ch_gche      11.11\n",
      "25  ch_nmtp      11.88\n",
      "12  ch_iskj      14.90\n",
      "20  ch_mrkp      17.99\n",
      "7   ch_belu      38.14\n",
      "6   ch_aqua      38.78\n",
      "27  ch_phor      54.91\n",
      "15  ch_krsb      65.13\n",
      "13  ch_kazt      66.96\n",
      "0   ch_abrd      70.54\n",
      "14  ch_kmaz      85.90\n",
      "21  ch_mstt     145.71\n",
      "8   ch_bspb     149.56\n"
     ]
    }
   ],
   "source": [
    "import pandas as pd\n",
    "\n",
    "\n",
    "\n",
    "# Выбор только столбцов, у которых название начинается со строк \"ch_\"\n",
    "df_filtered = stat.filter(regex='^ch_')\n",
    "\n",
    "# Отбор последней строки и нахождение минимального значения в каждом столбце\n",
    "min_values = df_filtered.tail(1).apply(min)\n",
    "\n",
    "# Получение названий столбцов\n",
    "columns = min_values.index.values.tolist()\n",
    "\n",
    "# Создание DataFrame с названиями столбцов и минимальными значениями\n",
    "min_df = pd.DataFrame({'Column': columns, 'Min Value': min_values.values})\n",
    "\n",
    "# Сортировка по возрастанию минимального значения\n",
    "min_df.sort_values('Min Value', inplace=True)\n",
    "\n",
    "# Вывод результата\n",
    "print(min_df)\n"
   ]
  },
  {
   "cell_type": "code",
   "execution_count": 9,
   "metadata": {},
   "outputs": [
    {
     "data": {
      "application/vnd.plotly.v1+json": {
       "config": {
        "plotlyServerURL": "https://plot.ly"
       },
       "data": [
        {
         "hovertemplate": "variable=ch_vtbr<br>index=%{x}<br>value=%{y}<extra></extra>",
         "legendgroup": "ch_vtbr",
         "line": {
          "color": "#636efa",
          "dash": "solid"
         },
         "marker": {
          "symbol": "circle"
         },
         "mode": "lines",
         "name": "ch_vtbr",
         "orientation": "v",
         "showlegend": true,
         "type": "scatter",
         "x": [
          0,
          1,
          2,
          3,
          4,
          5,
          6,
          7,
          8,
          9,
          10,
          11,
          12,
          13,
          14,
          15,
          16,
          17,
          18,
          19,
          20,
          21,
          22,
          23,
          24,
          25,
          26,
          27,
          28,
          29,
          30,
          31,
          32,
          33,
          34,
          35,
          36,
          37,
          38,
          39,
          40,
          41,
          42,
          43,
          44,
          45,
          46,
          47,
          48,
          49,
          50,
          51,
          52,
          53,
          54,
          55,
          56,
          57,
          58,
          59,
          60,
          61,
          62,
          63,
          64,
          65,
          66,
          67,
          68,
          69,
          70,
          71,
          72,
          73,
          74,
          75,
          76,
          77,
          78,
          79,
          80,
          81,
          82,
          83,
          84,
          85,
          86,
          87,
          88,
          89,
          90,
          91,
          92,
          93
         ],
         "xaxis": "x",
         "y": [
          0,
          -0.86,
          -1.91,
          -2.81,
          -1.75,
          4.19,
          6.11,
          3.82,
          0.63,
          0.79,
          -4.03,
          -3.64,
          -11.11,
          -7.23,
          -12.34,
          -10.49,
          -10.13,
          -8.02,
          -7.55,
          -11.43,
          -16.15,
          -17.19,
          -21.28,
          -22.71,
          -25.02,
          -61.62,
          -57.06,
          -57.33,
          -61.59,
          -64.1,
          -61.65,
          -62.82,
          -64.41,
          -63.98,
          -64.5,
          -66.51,
          -67.56,
          -65.84,
          -64.5,
          -66.59,
          -64.06,
          -65.68,
          -64.9,
          -64.53,
          -66.37,
          -65.73,
          -65.65,
          -65.19,
          -61.66,
          -62.1,
          -61.95,
          -67.53,
          -71.51,
          -72.47,
          -70.99,
          -69.12,
          -67.72,
          -68.7,
          -67.25,
          -67.49,
          -67.6,
          -67.88,
          -68.1,
          -69.12,
          -67.69,
          -68.72,
          -69.07,
          -68.23,
          -68.1,
          -68.35,
          -67.72,
          -67.66,
          -69.49,
          -69.07,
          -68.35,
          -68.53,
          -68.15,
          -65.84,
          -65.38,
          -64.06,
          -64.32,
          -61.46,
          -57.6,
          -59.81,
          -58.57,
          -55.86,
          -55.63,
          -56.81,
          -56.52,
          -56.15,
          -58.02,
          -58.62,
          -57.09,
          -55.58
         ],
         "yaxis": "y"
        },
        {
         "hovertemplate": "variable=ch_gazp<br>index=%{x}<br>value=%{y}<extra></extra>",
         "legendgroup": "ch_gazp",
         "line": {
          "color": "#EF553B",
          "dash": "solid"
         },
         "marker": {
          "symbol": "circle"
         },
         "mode": "lines",
         "name": "ch_gazp",
         "orientation": "v",
         "showlegend": true,
         "type": "scatter",
         "x": [
          0,
          1,
          2,
          3,
          4,
          5,
          6,
          7,
          8,
          9,
          10,
          11,
          12,
          13,
          14,
          15,
          16,
          17,
          18,
          19,
          20,
          21,
          22,
          23,
          24,
          25,
          26,
          27,
          28,
          29,
          30,
          31,
          32,
          33,
          34,
          35,
          36,
          37,
          38,
          39,
          40,
          41,
          42,
          43,
          44,
          45,
          46,
          47,
          48,
          49,
          50,
          51,
          52,
          53,
          54,
          55,
          56,
          57,
          58,
          59,
          60,
          61,
          62,
          63,
          64,
          65,
          66,
          67,
          68,
          69,
          70,
          71,
          72,
          73,
          74,
          75,
          76,
          77,
          78,
          79,
          80,
          81,
          82,
          83,
          84,
          85,
          86,
          87,
          88,
          89,
          90,
          91,
          92,
          93
         ],
         "xaxis": "x",
         "y": [
          0,
          2.67,
          5.21,
          8.29,
          14.25,
          15.17,
          15.67,
          12.64,
          10.14,
          10.27,
          4.93,
          6.19,
          2.54,
          8.82,
          4.42,
          2.94,
          6.56,
          7.69,
          8.87,
          5.6,
          -1.99,
          3.66,
          2.09,
          0.05,
          -2.66,
          -28.29,
          -20.93,
          -24.18,
          -29.55,
          -34.58,
          -24.39,
          -24.48,
          -25.92,
          -17.28,
          -7.37,
          -6.59,
          -2.75,
          -0.77,
          -6.9,
          -39.45,
          -37.72,
          -40.99,
          -39.53,
          -38.59,
          -44.46,
          -45.16,
          -44.14,
          -42.25,
          -20.49,
          -22.83,
          -23.32,
          -29.28,
          -31.53,
          -38.62,
          -49.8,
          -47.48,
          -46.3,
          -46.8,
          -46.57,
          -46.91,
          -46.84,
          -47.83,
          -48.81,
          -49.6,
          -49.4,
          -48.87,
          -49.02,
          -48.24,
          -50.04,
          -49.97,
          -49.4,
          -50.09,
          -51.68,
          -51.49,
          -48.96,
          -49.66,
          -48.64,
          -46.84,
          -46.58,
          -45.56,
          -43.54,
          -42.84,
          -43.03,
          -45.87,
          -45.29,
          -45.14,
          -48.27,
          -48.86,
          -47.92,
          -46.57,
          -47.85,
          -47.52,
          -47.68,
          -46.63
         ],
         "yaxis": "y"
        },
        {
         "hovertemplate": "variable=ch_alrs<br>index=%{x}<br>value=%{y}<extra></extra>",
         "legendgroup": "ch_alrs",
         "line": {
          "color": "#00cc96",
          "dash": "solid"
         },
         "marker": {
          "symbol": "circle"
         },
         "mode": "lines",
         "name": "ch_alrs",
         "orientation": "v",
         "showlegend": true,
         "type": "scatter",
         "x": [
          0,
          1,
          2,
          3,
          4,
          5,
          6,
          7,
          8,
          9,
          10,
          11,
          12,
          13,
          14,
          15,
          16,
          17,
          18,
          19,
          20,
          21,
          22,
          23,
          24,
          25,
          26,
          27,
          28,
          29,
          30,
          31,
          32,
          33,
          34,
          35,
          36,
          37,
          38,
          39,
          40,
          41,
          42,
          43,
          44,
          45,
          46,
          47,
          48,
          49,
          50,
          51,
          52,
          53,
          54,
          55,
          56,
          57,
          58,
          59,
          60,
          61,
          62,
          63,
          64,
          65,
          66,
          67,
          68,
          69,
          70,
          71,
          72,
          73,
          74,
          75,
          76,
          77,
          78,
          79,
          80,
          81,
          82,
          83,
          84,
          85,
          86,
          87,
          88,
          89,
          90,
          91,
          92,
          93
         ],
         "xaxis": "x",
         "y": [
          0,
          2.29,
          -1.39,
          -4.18,
          -5.36,
          -5.04,
          -5.4,
          -12.5,
          -14.14,
          -11.95,
          -9.97,
          -10.56,
          -17.31,
          -12.41,
          -15.92,
          -21.3,
          -20.94,
          -16.11,
          -18.17,
          -18.67,
          -26.63,
          -24.17,
          -20.22,
          -19.17,
          -29.07,
          -45.42,
          -35.53,
          -43.41,
          -45.83,
          -45.07,
          -44.92,
          -47.02,
          -48.97,
          -49.26,
          -49.35,
          -51.92,
          -53.36,
          -53.44,
          -51.13,
          -54.58,
          -54.17,
          -56.28,
          -56.9,
          -55.77,
          -58.03,
          -55.74,
          -54.21,
          -50.63,
          -49.11,
          -48.44,
          -46.65,
          -55,
          -58.86,
          -56.23,
          -54.24,
          -54.84,
          -54.47,
          -55.15,
          -52.95,
          -54.4,
          -55.24,
          -56,
          -57.81,
          -58.24,
          -59.4,
          -59.67,
          -59.66,
          -58.79,
          -58.75,
          -58.32,
          -57.68,
          -57.61,
          -59.27,
          -59.27,
          -57.36,
          -57.79,
          -58.31,
          -56.43,
          -54.75,
          -54.3,
          -54.47,
          -53.25,
          -53.54,
          -55.57,
          -54.98,
          -54.57,
          -54.21,
          -54.69,
          -54.1,
          -54.03,
          -54.13,
          -51.79,
          -50.5,
          -46.59
         ],
         "yaxis": "y"
        },
        {
         "hovertemplate": "variable=ch_pikk<br>index=%{x}<br>value=%{y}<extra></extra>",
         "legendgroup": "ch_pikk",
         "line": {
          "color": "#ab63fa",
          "dash": "solid"
         },
         "marker": {
          "symbol": "circle"
         },
         "mode": "lines",
         "name": "ch_pikk",
         "orientation": "v",
         "showlegend": true,
         "type": "scatter",
         "x": [
          0,
          1,
          2,
          3,
          4,
          5,
          6,
          7,
          8,
          9,
          10,
          11,
          12,
          13,
          14,
          15,
          16,
          17,
          18,
          19,
          20,
          21,
          22,
          23,
          24,
          25,
          26,
          27,
          28,
          29,
          30,
          31,
          32,
          33,
          34,
          35,
          36,
          37,
          38,
          39,
          40,
          41,
          42,
          43,
          44,
          45,
          46,
          47,
          48,
          49,
          50,
          51,
          52,
          53,
          54,
          55,
          56,
          57,
          58,
          59,
          60,
          61,
          62,
          63,
          64,
          65,
          66,
          67,
          68,
          69,
          70,
          71,
          72,
          73,
          74,
          75,
          76,
          77,
          78,
          79,
          80,
          81,
          82,
          83,
          84,
          85,
          86,
          87,
          88,
          89,
          90,
          91,
          92,
          93
         ],
         "xaxis": "x",
         "y": [
          0,
          4.15,
          6.94,
          4,
          -7.96,
          -5.47,
          -8.17,
          -13.79,
          -15.23,
          -19.73,
          -20.62,
          -20.71,
          -22.06,
          -19.55,
          -15.28,
          -23.13,
          -27.79,
          -20.6,
          -17.73,
          -11.86,
          -22.83,
          -34.4,
          -31.94,
          -33.02,
          -36.59,
          -64.35,
          -51.6,
          -56.79,
          -59.27,
          -60.39,
          -59.66,
          -61.76,
          -61.52,
          -60.73,
          -59.59,
          -60.99,
          -60.03,
          -58.35,
          -48.94,
          -43.82,
          -45.48,
          -46.76,
          -44.11,
          -44.47,
          -47.27,
          -47.51,
          -48.07,
          -47.66,
          -44.69,
          -44.7,
          -43.56,
          -57.16,
          -59.76,
          -62.12,
          -55.89,
          -55.95,
          -55.48,
          -56.23,
          -57.18,
          -55.02,
          -55.27,
          -56.72,
          -57.06,
          -56.36,
          -56.95,
          -56.61,
          -56.62,
          -56.74,
          -56.49,
          -56.02,
          -55.56,
          -54.6,
          -56.61,
          -55.52,
          -55.17,
          -55.28,
          -54.9,
          -53.74,
          -52.85,
          -52.53,
          -52.86,
          -52.52,
          -50.39,
          -53.52,
          -51.98,
          -50.38,
          -50.32,
          -49.15,
          -48.89,
          -46.76,
          -46.06,
          -45.39,
          -45.24,
          -44.41
         ],
         "yaxis": "y"
        },
        {
         "hovertemplate": "variable=ch_afks<br>index=%{x}<br>value=%{y}<extra></extra>",
         "legendgroup": "ch_afks",
         "line": {
          "color": "#FFA15A",
          "dash": "solid"
         },
         "marker": {
          "symbol": "circle"
         },
         "mode": "lines",
         "name": "ch_afks",
         "orientation": "v",
         "showlegend": true,
         "type": "scatter",
         "x": [
          0,
          1,
          2,
          3,
          4,
          5,
          6,
          7,
          8,
          9,
          10,
          11,
          12,
          13,
          14,
          15,
          16,
          17,
          18,
          19,
          20,
          21,
          22,
          23,
          24,
          25,
          26,
          27,
          28,
          29,
          30,
          31,
          32,
          33,
          34,
          35,
          36,
          37,
          38,
          39,
          40,
          41,
          42,
          43,
          44,
          45,
          46,
          47,
          48,
          49,
          50,
          51,
          52,
          53,
          54,
          55,
          56,
          57,
          58,
          59,
          60,
          61,
          62,
          63,
          64,
          65,
          66,
          67,
          68,
          69,
          70,
          71,
          72,
          73,
          74,
          75,
          76,
          77,
          78,
          79,
          80,
          81,
          82,
          83,
          84,
          85,
          86,
          87,
          88,
          89,
          90,
          91,
          92,
          93
         ],
         "xaxis": "x",
         "y": [
          0,
          -5.07,
          -6.1,
          -8.62,
          -12.21,
          -9.78,
          -8.59,
          -9.88,
          -12.56,
          -9.17,
          -11.49,
          -12.82,
          -18.63,
          -20.99,
          -26.28,
          -24.93,
          -27.9,
          -24.57,
          -21.86,
          -27.22,
          -30.74,
          -35.45,
          -36.23,
          -37.52,
          -39.01,
          -59.22,
          -55.15,
          -57.35,
          -59.09,
          -60.28,
          -58.31,
          -58.35,
          -60.54,
          -58.8,
          -58.8,
          -58.54,
          -59.8,
          -59.61,
          -54.89,
          -52.05,
          -51.44,
          -55.76,
          -56.22,
          -52.31,
          -55.67,
          -53.83,
          -53.86,
          -53.18,
          -52.7,
          -51.53,
          -52.11,
          -62.03,
          -65.52,
          -67.26,
          -64.51,
          -61.74,
          -58.99,
          -59.8,
          -57.96,
          -58.9,
          -59.44,
          -59.54,
          -59.8,
          -61.35,
          -61.12,
          -61.45,
          -61.12,
          -59.41,
          -60.51,
          -60.12,
          -57.8,
          -56.7,
          -59.64,
          -58.64,
          -57.22,
          -57.12,
          -57.18,
          -53.73,
          -52.24,
          -52.28,
          -52.21,
          -51.86,
          -49.02,
          -52.11,
          -50.71,
          -48.65,
          -49.07,
          -49.01,
          -48.62,
          -46.52,
          -45.92,
          -43.6,
          -44.05,
          -42.85
         ],
         "yaxis": "y"
        },
        {
         "hovertemplate": "variable=ch_aflt<br>index=%{x}<br>value=%{y}<extra></extra>",
         "legendgroup": "ch_aflt",
         "line": {
          "color": "#19d3f3",
          "dash": "solid"
         },
         "marker": {
          "symbol": "circle"
         },
         "mode": "lines",
         "name": "ch_aflt",
         "orientation": "v",
         "showlegend": true,
         "type": "scatter",
         "x": [
          0,
          1,
          2,
          3,
          4,
          5,
          6,
          7,
          8,
          9,
          10,
          11,
          12,
          13,
          14,
          15,
          16,
          17,
          18,
          19,
          20,
          21,
          22,
          23,
          24,
          25,
          26,
          27,
          28,
          29,
          30,
          31,
          32,
          33,
          34,
          35,
          36,
          37,
          38,
          39,
          40,
          41,
          42,
          43,
          44,
          45,
          46,
          47,
          48,
          49,
          50,
          51,
          52,
          53,
          54,
          55,
          56,
          57,
          58,
          59,
          60,
          61,
          62,
          63,
          64,
          65,
          66,
          67,
          68,
          69,
          70,
          71,
          72,
          73,
          74,
          75,
          76,
          77,
          78,
          79,
          80,
          81,
          82,
          83,
          84,
          85,
          86,
          87,
          88,
          89,
          90,
          91,
          92,
          93
         ],
         "xaxis": "x",
         "y": [
          0,
          -3.49,
          -3.75,
          -0.43,
          0.86,
          2.28,
          0.4,
          -2.16,
          -1.33,
          -1.41,
          -4.93,
          -4.84,
          -12.13,
          -10.29,
          -13.26,
          -13.49,
          -15.04,
          -14.76,
          -9.28,
          -13.75,
          -18.5,
          -19.97,
          -19.05,
          -15.99,
          -19.74,
          -47.06,
          -44.09,
          -46.77,
          -52.51,
          -55.88,
          -55.13,
          -56.63,
          -57.84,
          -57.75,
          -58.88,
          -61.47,
          -62.1,
          -60.35,
          -61.35,
          -61.47,
          -60.23,
          -61.01,
          -60.66,
          -60.09,
          -62.31,
          -60.89,
          -61.27,
          -59.31,
          -55.39,
          -55.91,
          -57.95,
          -62.42,
          -66.66,
          -67.67,
          -66.17,
          -64.81,
          -63.23,
          -63.05,
          -63.08,
          -63.75,
          -64.01,
          -64.24,
          -64.41,
          -65.07,
          -65.1,
          -64.55,
          -63.31,
          -60.12,
          -59.94,
          -60.09,
          -59.87,
          -58.47,
          -60.32,
          -59.42,
          -59.42,
          -59.27,
          -59.01,
          -57.33,
          -54.39,
          -52.75,
          -50.07,
          -43.85,
          -42.02,
          -46.51,
          -44.9,
          -43.98,
          -42.15,
          -42.36,
          -42.28,
          -37.49,
          -41.34,
          -38.47,
          -40.3,
          -38.92
         ],
         "yaxis": "y"
        }
       ],
       "layout": {
        "legend": {
         "title": {
          "text": "variable"
         },
         "tracegroupgap": 0
        },
        "margin": {
         "t": 60
        },
        "template": {
         "data": {
          "bar": [
           {
            "error_x": {
             "color": "#2a3f5f"
            },
            "error_y": {
             "color": "#2a3f5f"
            },
            "marker": {
             "line": {
              "color": "#E5ECF6",
              "width": 0.5
             },
             "pattern": {
              "fillmode": "overlay",
              "size": 10,
              "solidity": 0.2
             }
            },
            "type": "bar"
           }
          ],
          "barpolar": [
           {
            "marker": {
             "line": {
              "color": "#E5ECF6",
              "width": 0.5
             },
             "pattern": {
              "fillmode": "overlay",
              "size": 10,
              "solidity": 0.2
             }
            },
            "type": "barpolar"
           }
          ],
          "carpet": [
           {
            "aaxis": {
             "endlinecolor": "#2a3f5f",
             "gridcolor": "white",
             "linecolor": "white",
             "minorgridcolor": "white",
             "startlinecolor": "#2a3f5f"
            },
            "baxis": {
             "endlinecolor": "#2a3f5f",
             "gridcolor": "white",
             "linecolor": "white",
             "minorgridcolor": "white",
             "startlinecolor": "#2a3f5f"
            },
            "type": "carpet"
           }
          ],
          "choropleth": [
           {
            "colorbar": {
             "outlinewidth": 0,
             "ticks": ""
            },
            "type": "choropleth"
           }
          ],
          "contour": [
           {
            "colorbar": {
             "outlinewidth": 0,
             "ticks": ""
            },
            "colorscale": [
             [
              0,
              "#0d0887"
             ],
             [
              0.1111111111111111,
              "#46039f"
             ],
             [
              0.2222222222222222,
              "#7201a8"
             ],
             [
              0.3333333333333333,
              "#9c179e"
             ],
             [
              0.4444444444444444,
              "#bd3786"
             ],
             [
              0.5555555555555556,
              "#d8576b"
             ],
             [
              0.6666666666666666,
              "#ed7953"
             ],
             [
              0.7777777777777778,
              "#fb9f3a"
             ],
             [
              0.8888888888888888,
              "#fdca26"
             ],
             [
              1,
              "#f0f921"
             ]
            ],
            "type": "contour"
           }
          ],
          "contourcarpet": [
           {
            "colorbar": {
             "outlinewidth": 0,
             "ticks": ""
            },
            "type": "contourcarpet"
           }
          ],
          "heatmap": [
           {
            "colorbar": {
             "outlinewidth": 0,
             "ticks": ""
            },
            "colorscale": [
             [
              0,
              "#0d0887"
             ],
             [
              0.1111111111111111,
              "#46039f"
             ],
             [
              0.2222222222222222,
              "#7201a8"
             ],
             [
              0.3333333333333333,
              "#9c179e"
             ],
             [
              0.4444444444444444,
              "#bd3786"
             ],
             [
              0.5555555555555556,
              "#d8576b"
             ],
             [
              0.6666666666666666,
              "#ed7953"
             ],
             [
              0.7777777777777778,
              "#fb9f3a"
             ],
             [
              0.8888888888888888,
              "#fdca26"
             ],
             [
              1,
              "#f0f921"
             ]
            ],
            "type": "heatmap"
           }
          ],
          "heatmapgl": [
           {
            "colorbar": {
             "outlinewidth": 0,
             "ticks": ""
            },
            "colorscale": [
             [
              0,
              "#0d0887"
             ],
             [
              0.1111111111111111,
              "#46039f"
             ],
             [
              0.2222222222222222,
              "#7201a8"
             ],
             [
              0.3333333333333333,
              "#9c179e"
             ],
             [
              0.4444444444444444,
              "#bd3786"
             ],
             [
              0.5555555555555556,
              "#d8576b"
             ],
             [
              0.6666666666666666,
              "#ed7953"
             ],
             [
              0.7777777777777778,
              "#fb9f3a"
             ],
             [
              0.8888888888888888,
              "#fdca26"
             ],
             [
              1,
              "#f0f921"
             ]
            ],
            "type": "heatmapgl"
           }
          ],
          "histogram": [
           {
            "marker": {
             "pattern": {
              "fillmode": "overlay",
              "size": 10,
              "solidity": 0.2
             }
            },
            "type": "histogram"
           }
          ],
          "histogram2d": [
           {
            "colorbar": {
             "outlinewidth": 0,
             "ticks": ""
            },
            "colorscale": [
             [
              0,
              "#0d0887"
             ],
             [
              0.1111111111111111,
              "#46039f"
             ],
             [
              0.2222222222222222,
              "#7201a8"
             ],
             [
              0.3333333333333333,
              "#9c179e"
             ],
             [
              0.4444444444444444,
              "#bd3786"
             ],
             [
              0.5555555555555556,
              "#d8576b"
             ],
             [
              0.6666666666666666,
              "#ed7953"
             ],
             [
              0.7777777777777778,
              "#fb9f3a"
             ],
             [
              0.8888888888888888,
              "#fdca26"
             ],
             [
              1,
              "#f0f921"
             ]
            ],
            "type": "histogram2d"
           }
          ],
          "histogram2dcontour": [
           {
            "colorbar": {
             "outlinewidth": 0,
             "ticks": ""
            },
            "colorscale": [
             [
              0,
              "#0d0887"
             ],
             [
              0.1111111111111111,
              "#46039f"
             ],
             [
              0.2222222222222222,
              "#7201a8"
             ],
             [
              0.3333333333333333,
              "#9c179e"
             ],
             [
              0.4444444444444444,
              "#bd3786"
             ],
             [
              0.5555555555555556,
              "#d8576b"
             ],
             [
              0.6666666666666666,
              "#ed7953"
             ],
             [
              0.7777777777777778,
              "#fb9f3a"
             ],
             [
              0.8888888888888888,
              "#fdca26"
             ],
             [
              1,
              "#f0f921"
             ]
            ],
            "type": "histogram2dcontour"
           }
          ],
          "mesh3d": [
           {
            "colorbar": {
             "outlinewidth": 0,
             "ticks": ""
            },
            "type": "mesh3d"
           }
          ],
          "parcoords": [
           {
            "line": {
             "colorbar": {
              "outlinewidth": 0,
              "ticks": ""
             }
            },
            "type": "parcoords"
           }
          ],
          "pie": [
           {
            "automargin": true,
            "type": "pie"
           }
          ],
          "scatter": [
           {
            "fillpattern": {
             "fillmode": "overlay",
             "size": 10,
             "solidity": 0.2
            },
            "type": "scatter"
           }
          ],
          "scatter3d": [
           {
            "line": {
             "colorbar": {
              "outlinewidth": 0,
              "ticks": ""
             }
            },
            "marker": {
             "colorbar": {
              "outlinewidth": 0,
              "ticks": ""
             }
            },
            "type": "scatter3d"
           }
          ],
          "scattercarpet": [
           {
            "marker": {
             "colorbar": {
              "outlinewidth": 0,
              "ticks": ""
             }
            },
            "type": "scattercarpet"
           }
          ],
          "scattergeo": [
           {
            "marker": {
             "colorbar": {
              "outlinewidth": 0,
              "ticks": ""
             }
            },
            "type": "scattergeo"
           }
          ],
          "scattergl": [
           {
            "marker": {
             "colorbar": {
              "outlinewidth": 0,
              "ticks": ""
             }
            },
            "type": "scattergl"
           }
          ],
          "scattermapbox": [
           {
            "marker": {
             "colorbar": {
              "outlinewidth": 0,
              "ticks": ""
             }
            },
            "type": "scattermapbox"
           }
          ],
          "scatterpolar": [
           {
            "marker": {
             "colorbar": {
              "outlinewidth": 0,
              "ticks": ""
             }
            },
            "type": "scatterpolar"
           }
          ],
          "scatterpolargl": [
           {
            "marker": {
             "colorbar": {
              "outlinewidth": 0,
              "ticks": ""
             }
            },
            "type": "scatterpolargl"
           }
          ],
          "scatterternary": [
           {
            "marker": {
             "colorbar": {
              "outlinewidth": 0,
              "ticks": ""
             }
            },
            "type": "scatterternary"
           }
          ],
          "surface": [
           {
            "colorbar": {
             "outlinewidth": 0,
             "ticks": ""
            },
            "colorscale": [
             [
              0,
              "#0d0887"
             ],
             [
              0.1111111111111111,
              "#46039f"
             ],
             [
              0.2222222222222222,
              "#7201a8"
             ],
             [
              0.3333333333333333,
              "#9c179e"
             ],
             [
              0.4444444444444444,
              "#bd3786"
             ],
             [
              0.5555555555555556,
              "#d8576b"
             ],
             [
              0.6666666666666666,
              "#ed7953"
             ],
             [
              0.7777777777777778,
              "#fb9f3a"
             ],
             [
              0.8888888888888888,
              "#fdca26"
             ],
             [
              1,
              "#f0f921"
             ]
            ],
            "type": "surface"
           }
          ],
          "table": [
           {
            "cells": {
             "fill": {
              "color": "#EBF0F8"
             },
             "line": {
              "color": "white"
             }
            },
            "header": {
             "fill": {
              "color": "#C8D4E3"
             },
             "line": {
              "color": "white"
             }
            },
            "type": "table"
           }
          ]
         },
         "layout": {
          "annotationdefaults": {
           "arrowcolor": "#2a3f5f",
           "arrowhead": 0,
           "arrowwidth": 1
          },
          "autotypenumbers": "strict",
          "coloraxis": {
           "colorbar": {
            "outlinewidth": 0,
            "ticks": ""
           }
          },
          "colorscale": {
           "diverging": [
            [
             0,
             "#8e0152"
            ],
            [
             0.1,
             "#c51b7d"
            ],
            [
             0.2,
             "#de77ae"
            ],
            [
             0.3,
             "#f1b6da"
            ],
            [
             0.4,
             "#fde0ef"
            ],
            [
             0.5,
             "#f7f7f7"
            ],
            [
             0.6,
             "#e6f5d0"
            ],
            [
             0.7,
             "#b8e186"
            ],
            [
             0.8,
             "#7fbc41"
            ],
            [
             0.9,
             "#4d9221"
            ],
            [
             1,
             "#276419"
            ]
           ],
           "sequential": [
            [
             0,
             "#0d0887"
            ],
            [
             0.1111111111111111,
             "#46039f"
            ],
            [
             0.2222222222222222,
             "#7201a8"
            ],
            [
             0.3333333333333333,
             "#9c179e"
            ],
            [
             0.4444444444444444,
             "#bd3786"
            ],
            [
             0.5555555555555556,
             "#d8576b"
            ],
            [
             0.6666666666666666,
             "#ed7953"
            ],
            [
             0.7777777777777778,
             "#fb9f3a"
            ],
            [
             0.8888888888888888,
             "#fdca26"
            ],
            [
             1,
             "#f0f921"
            ]
           ],
           "sequentialminus": [
            [
             0,
             "#0d0887"
            ],
            [
             0.1111111111111111,
             "#46039f"
            ],
            [
             0.2222222222222222,
             "#7201a8"
            ],
            [
             0.3333333333333333,
             "#9c179e"
            ],
            [
             0.4444444444444444,
             "#bd3786"
            ],
            [
             0.5555555555555556,
             "#d8576b"
            ],
            [
             0.6666666666666666,
             "#ed7953"
            ],
            [
             0.7777777777777778,
             "#fb9f3a"
            ],
            [
             0.8888888888888888,
             "#fdca26"
            ],
            [
             1,
             "#f0f921"
            ]
           ]
          },
          "colorway": [
           "#636efa",
           "#EF553B",
           "#00cc96",
           "#ab63fa",
           "#FFA15A",
           "#19d3f3",
           "#FF6692",
           "#B6E880",
           "#FF97FF",
           "#FECB52"
          ],
          "font": {
           "color": "#2a3f5f"
          },
          "geo": {
           "bgcolor": "white",
           "lakecolor": "white",
           "landcolor": "#E5ECF6",
           "showlakes": true,
           "showland": true,
           "subunitcolor": "white"
          },
          "hoverlabel": {
           "align": "left"
          },
          "hovermode": "closest",
          "mapbox": {
           "style": "light"
          },
          "paper_bgcolor": "white",
          "plot_bgcolor": "#E5ECF6",
          "polar": {
           "angularaxis": {
            "gridcolor": "white",
            "linecolor": "white",
            "ticks": ""
           },
           "bgcolor": "#E5ECF6",
           "radialaxis": {
            "gridcolor": "white",
            "linecolor": "white",
            "ticks": ""
           }
          },
          "scene": {
           "xaxis": {
            "backgroundcolor": "#E5ECF6",
            "gridcolor": "white",
            "gridwidth": 2,
            "linecolor": "white",
            "showbackground": true,
            "ticks": "",
            "zerolinecolor": "white"
           },
           "yaxis": {
            "backgroundcolor": "#E5ECF6",
            "gridcolor": "white",
            "gridwidth": 2,
            "linecolor": "white",
            "showbackground": true,
            "ticks": "",
            "zerolinecolor": "white"
           },
           "zaxis": {
            "backgroundcolor": "#E5ECF6",
            "gridcolor": "white",
            "gridwidth": 2,
            "linecolor": "white",
            "showbackground": true,
            "ticks": "",
            "zerolinecolor": "white"
           }
          },
          "shapedefaults": {
           "line": {
            "color": "#2a3f5f"
           }
          },
          "ternary": {
           "aaxis": {
            "gridcolor": "white",
            "linecolor": "white",
            "ticks": ""
           },
           "baxis": {
            "gridcolor": "white",
            "linecolor": "white",
            "ticks": ""
           },
           "bgcolor": "#E5ECF6",
           "caxis": {
            "gridcolor": "white",
            "linecolor": "white",
            "ticks": ""
           }
          },
          "title": {
           "x": 0.05
          },
          "xaxis": {
           "automargin": true,
           "gridcolor": "white",
           "linecolor": "white",
           "ticks": "",
           "title": {
            "standoff": 15
           },
           "zerolinecolor": "white",
           "zerolinewidth": 2
          },
          "yaxis": {
           "automargin": true,
           "gridcolor": "white",
           "linecolor": "white",
           "ticks": "",
           "title": {
            "standoff": 15
           },
           "zerolinecolor": "white",
           "zerolinewidth": 2
          }
         }
        },
        "title": {
         "text": "Диапозон с 0 по 6 акции"
        },
        "xaxis": {
         "anchor": "y",
         "domain": [
          0,
          1
         ],
         "title": {
          "text": "Неделя с начала инвестирования"
         }
        },
        "yaxis": {
         "anchor": "x",
         "domain": [
          0,
          1
         ],
         "title": {
          "text": "Процент"
         }
        }
       }
      }
     },
     "metadata": {},
     "output_type": "display_data"
    }
   ],
   "source": [
    "import plotly.express as px\n",
    "# Взятие диапазона имен от 0 до 6 из table1\n",
    "selected_names = min_df['Column'].iloc[0:6]\n",
    "\n",
    "# Выбор столбцов в table2 на основе имен из table1 и отображение их данных\n",
    "top_0_6 = stat[selected_names]\n",
    "selected_columns = top_0_6.columns\n",
    "\n",
    "\n",
    "# Построение графика px.line\n",
    "fig = px.line(top_0_6, x=top_0_6.index, y=selected_columns)\n",
    "fig.update_layout(xaxis_title=\"Неделя с начала инвестирования\", yaxis_title=\"Процент\", title=\"Диапозон с 0 по 6 акции\")\n",
    "\n",
    "# Отображение графика\n",
    "fig.show()"
   ]
  },
  {
   "cell_type": "code",
   "execution_count": 10,
   "metadata": {},
   "outputs": [
    {
     "data": {
      "application/vnd.plotly.v1+json": {
       "config": {
        "plotlyServerURL": "https://plot.ly"
       },
       "data": [
        {
         "hovertemplate": "variable=ch_rual<br>index=%{x}<br>value=%{y}<extra></extra>",
         "legendgroup": "ch_rual",
         "line": {
          "color": "#636efa",
          "dash": "solid"
         },
         "marker": {
          "symbol": "circle"
         },
         "mode": "lines",
         "name": "ch_rual",
         "orientation": "v",
         "showlegend": true,
         "type": "scatter",
         "x": [
          0,
          1,
          2,
          3,
          4,
          5,
          6,
          7,
          8,
          9,
          10,
          11,
          12,
          13,
          14,
          15,
          16,
          17,
          18,
          19,
          20,
          21,
          22,
          23,
          24,
          25,
          26,
          27,
          28,
          29,
          30,
          31,
          32,
          33,
          34,
          35,
          36,
          37,
          38,
          39,
          40,
          41,
          42,
          43,
          44,
          45,
          46,
          47,
          48,
          49,
          50,
          51,
          52,
          53,
          54,
          55,
          56,
          57,
          58,
          59,
          60,
          61,
          62,
          63,
          64,
          65,
          66,
          67,
          68,
          69,
          70,
          71,
          72,
          73,
          74,
          75,
          76,
          77,
          78,
          79,
          80,
          81,
          82,
          83,
          84,
          85,
          86,
          87,
          88,
          89,
          90,
          91,
          92,
          93
         ],
         "xaxis": "x",
         "y": [
          0,
          15.59,
          15.86,
          17.3,
          14.5,
          19.09,
          33.67,
          24.33,
          14.91,
          8.81,
          18.61,
          12.49,
          10.9,
          9.97,
          12.26,
          9.13,
          13.3,
          17.38,
          19.46,
          18.59,
          17.87,
          15.53,
          14.36,
          27.72,
          29.01,
          -3.76,
          11.38,
          10.18,
          6.97,
          4,
          8.17,
          4.65,
          0.92,
          -2.27,
          -2.16,
          -2.56,
          -7.15,
          -9.36,
          -11.92,
          -15.32,
          -10.53,
          -20.67,
          -22.26,
          -19.5,
          -29.75,
          -29.46,
          -26.36,
          -22.17,
          -20.67,
          -21.16,
          -23.56,
          -39.7,
          -45.78,
          -46.6,
          -45.95,
          -47.56,
          -40.46,
          -42.75,
          -36.88,
          -38.27,
          -39.57,
          -37.54,
          -36.67,
          -39.05,
          -35.9,
          -35.68,
          -34.9,
          -34.66,
          -34.46,
          -32.51,
          -32.32,
          -33.61,
          -37.96,
          -36.89,
          -33.82,
          -33.73,
          -35.85,
          -33.65,
          -35.26,
          -34.13,
          -32.1,
          -30.99,
          -34.51,
          -35.76,
          -35.27,
          -35.53,
          -37,
          -36.72,
          -38.22,
          -34.95,
          -37.38,
          -37.13,
          -34.06,
          -32.74
         ],
         "yaxis": "y"
        },
        {
         "hovertemplate": "variable=ch_moex<br>index=%{x}<br>value=%{y}<extra></extra>",
         "legendgroup": "ch_moex",
         "line": {
          "color": "#EF553B",
          "dash": "solid"
         },
         "marker": {
          "symbol": "circle"
         },
         "mode": "lines",
         "name": "ch_moex",
         "orientation": "v",
         "showlegend": true,
         "type": "scatter",
         "x": [
          0,
          1,
          2,
          3,
          4,
          5,
          6,
          7,
          8,
          9,
          10,
          11,
          12,
          13,
          14,
          15,
          16,
          17,
          18,
          19,
          20,
          21,
          22,
          23,
          24,
          25,
          26,
          27,
          28,
          29,
          30,
          31,
          32,
          33,
          34,
          35,
          36,
          37,
          38,
          39,
          40,
          41,
          42,
          43,
          44,
          45,
          46,
          47,
          48,
          49,
          50,
          51,
          52,
          53,
          54,
          55,
          56,
          57,
          58,
          59,
          60,
          61,
          62,
          63,
          64,
          65,
          66,
          67,
          68,
          69,
          70,
          71,
          72,
          73,
          74,
          75,
          76,
          77,
          78,
          79,
          80,
          81,
          82,
          83,
          84,
          85,
          86,
          87,
          88,
          89,
          90,
          91,
          92,
          93
         ],
         "xaxis": "x",
         "y": [
          0,
          -0.16,
          -2.31,
          -3.77,
          -8.28,
          -6.16,
          -0.36,
          -8.26,
          -7,
          -7.2,
          -8.99,
          -13.19,
          -19.5,
          -15.34,
          -18.17,
          -20.88,
          -19.78,
          -17.8,
          -20.05,
          -22.6,
          -21.68,
          -22.53,
          -24.3,
          -26.93,
          -28.56,
          -48.76,
          -40.21,
          -45.12,
          -49.76,
          -51.69,
          -49.14,
          -51.57,
          -52.63,
          -51.93,
          -51.37,
          -52.41,
          -54.02,
          -53.83,
          -52.05,
          -54.2,
          -54.29,
          -55.74,
          -54.5,
          -53.75,
          -56.37,
          -53.99,
          -53.45,
          -52.09,
          -48.56,
          -48.9,
          -49.04,
          -55.08,
          -58.71,
          -60.73,
          -58.99,
          -55.74,
          -54.19,
          -54.44,
          -53.45,
          -52.35,
          -53,
          -53.31,
          -52.7,
          -54.42,
          -50.18,
          -48.82,
          -48.93,
          -46.9,
          -45.71,
          -44.34,
          -42.26,
          -41.95,
          -42.53,
          -40.72,
          -36.72,
          -37.23,
          -39.43,
          -39.55,
          -39.62,
          -39.77,
          -40.01,
          -40.46,
          -40.96,
          -41.17,
          -41.43,
          -38.93,
          -38.68,
          -35.15,
          -32.29,
          -33.44,
          -35.23,
          -33.98,
          -34.15,
          -32.56
         ],
         "yaxis": "y"
        },
        {
         "hovertemplate": "variable=ch_sgzh<br>index=%{x}<br>value=%{y}<extra></extra>",
         "legendgroup": "ch_sgzh",
         "line": {
          "color": "#00cc96",
          "dash": "solid"
         },
         "marker": {
          "symbol": "circle"
         },
         "mode": "lines",
         "name": "ch_sgzh",
         "orientation": "v",
         "showlegend": true,
         "type": "scatter",
         "x": [
          0,
          1,
          2,
          3,
          4,
          5,
          6,
          7,
          8,
          9,
          10,
          11,
          12,
          13,
          14,
          15,
          16,
          17,
          18,
          19,
          20,
          21,
          22,
          23,
          24,
          25,
          26,
          27,
          28,
          29,
          30,
          31,
          32,
          33,
          34,
          35,
          36,
          37,
          38,
          39,
          40,
          41,
          42,
          43,
          44,
          45,
          46,
          47,
          48,
          49,
          50,
          51,
          52,
          53,
          54,
          55,
          56,
          57,
          58,
          59,
          60,
          61,
          62,
          63,
          64,
          65,
          66,
          67,
          68,
          69,
          70,
          71,
          72,
          73,
          74,
          75,
          76,
          77,
          78,
          79,
          80,
          81,
          82,
          83,
          84,
          85,
          86,
          87,
          88,
          89,
          90,
          91,
          92,
          93
         ],
         "xaxis": "x",
         "y": [
          0,
          -1.59,
          -0.46,
          -1.56,
          -1.42,
          7.48,
          21.87,
          21.87,
          11.71,
          16.78,
          23.13,
          19.9,
          14.5,
          21.06,
          22.44,
          20.96,
          23.89,
          25.72,
          20.42,
          18.47,
          11.11,
          13.35,
          8.79,
          10.86,
          7.13,
          -12.25,
          9.15,
          1.69,
          0.84,
          -0.58,
          3.78,
          2.1,
          1.87,
          2.14,
          1.85,
          -5.66,
          -6.88,
          -6.09,
          -5.29,
          -8.31,
          -7.62,
          -11.02,
          -14.09,
          -11.01,
          -15.67,
          -14.87,
          -14.91,
          -15.2,
          -18.08,
          -19.57,
          -20.75,
          -35.63,
          -45.92,
          -46.3,
          -44.88,
          -44.5,
          -40.83,
          -42.35,
          -43.06,
          -43.11,
          -43.49,
          -44.68,
          -47.8,
          -51.09,
          -48.99,
          -48.12,
          -47.47,
          -45.62,
          -47,
          -46.36,
          -44.2,
          -40.26,
          -43.44,
          -42.86,
          -41.11,
          -41.28,
          -42.17,
          -39.18,
          -38.5,
          -35.76,
          -36.54,
          -36.2,
          -35.71,
          -40.39,
          -37.33,
          -37.63,
          -42.01,
          -41.31,
          -41.33,
          -37.94,
          -41.04,
          -33.74,
          -30.45,
          -30.37
         ],
         "yaxis": "y"
        },
        {
         "hovertemplate": "variable=ch_sber<br>index=%{x}<br>value=%{y}<extra></extra>",
         "legendgroup": "ch_sber",
         "line": {
          "color": "#ab63fa",
          "dash": "solid"
         },
         "marker": {
          "symbol": "circle"
         },
         "mode": "lines",
         "name": "ch_sber",
         "orientation": "v",
         "showlegend": true,
         "type": "scatter",
         "x": [
          0,
          1,
          2,
          3,
          4,
          5,
          6,
          7,
          8,
          9,
          10,
          11,
          12,
          13,
          14,
          15,
          16,
          17,
          18,
          19,
          20,
          21,
          22,
          23,
          24,
          25,
          26,
          27,
          28,
          29,
          30,
          31,
          32,
          33,
          34,
          35,
          36,
          37,
          38,
          39,
          40,
          41,
          42,
          43,
          44,
          45,
          46,
          47,
          48,
          49,
          50,
          51,
          52,
          53,
          54,
          55,
          56,
          57,
          58,
          59,
          60,
          61,
          62,
          63,
          64,
          65,
          66,
          67,
          68,
          69,
          70,
          71,
          72,
          73,
          74,
          75,
          76,
          77,
          78,
          79,
          80,
          81,
          82,
          83,
          84,
          85,
          86,
          87,
          88,
          89,
          90,
          91,
          92,
          93
         ],
         "xaxis": "x",
         "y": [
          0,
          -1.05,
          -0.05,
          -1.3,
          2.66,
          13.13,
          12.77,
          10.51,
          8.02,
          9.25,
          5.42,
          -0.65,
          -7.67,
          -2.74,
          -9.79,
          -10.56,
          -10.86,
          -10.99,
          -10.85,
          -20.84,
          -25.12,
          -21.8,
          -22.2,
          -20.89,
          -24.09,
          -60.23,
          -53.14,
          -56.41,
          -60.3,
          -64.52,
          -60.94,
          -62.66,
          -63.54,
          -62.94,
          -63.23,
          -63.84,
          -64.19,
          -62.43,
          -58.22,
          -60.6,
          -59.57,
          -60.91,
          -60.93,
          -60,
          -62.88,
          -62.12,
          -62.03,
          -60.45,
          -56.39,
          -58.1,
          -58.23,
          -63.79,
          -66.57,
          -69.22,
          -67.31,
          -63.77,
          -61.49,
          -61.86,
          -58.45,
          -58.48,
          -58.59,
          -58.55,
          -57.53,
          -58.92,
          -58.16,
          -57.19,
          -57.11,
          -53.99,
          -54.09,
          -53.53,
          -51.09,
          -49.8,
          -51.55,
          -50.17,
          -48.09,
          -47.67,
          -41.28,
          -38.26,
          -34.31,
          -34.41,
          -32.71,
          -28.67,
          -27.09,
          -27.91,
          -30.46,
          -29.86,
          -24.75,
          -26.01,
          -27.09,
          -26.04,
          -28.52,
          -27.33,
          -26.1,
          -25.25
         ],
         "yaxis": "y"
        },
        {
         "hovertemplate": "variable=ch_rtkm<br>index=%{x}<br>value=%{y}<extra></extra>",
         "legendgroup": "ch_rtkm",
         "line": {
          "color": "#FFA15A",
          "dash": "solid"
         },
         "marker": {
          "symbol": "circle"
         },
         "mode": "lines",
         "name": "ch_rtkm",
         "orientation": "v",
         "showlegend": true,
         "type": "scatter",
         "x": [
          0,
          1,
          2,
          3,
          4,
          5,
          6,
          7,
          8,
          9,
          10,
          11,
          12,
          13,
          14,
          15,
          16,
          17,
          18,
          19,
          20,
          21,
          22,
          23,
          24,
          25,
          26,
          27,
          28,
          29,
          30,
          31,
          32,
          33,
          34,
          35,
          36,
          37,
          38,
          39,
          40,
          41,
          42,
          43,
          44,
          45,
          46,
          47,
          48,
          49,
          50,
          51,
          52,
          53,
          54,
          55,
          56,
          57,
          58,
          59,
          60,
          61,
          62,
          63,
          64,
          65,
          66,
          67,
          68,
          69,
          70,
          71,
          72,
          73,
          74,
          75,
          76,
          77,
          78,
          79,
          80,
          81,
          82,
          83,
          84,
          85,
          86,
          87,
          88,
          89,
          90,
          91,
          92,
          93
         ],
         "xaxis": "x",
         "y": [
          0,
          -2.62,
          -3.17,
          -3.48,
          -5.98,
          -4.27,
          -2.39,
          -0.91,
          -2.57,
          -3.25,
          -3.69,
          -4.25,
          -10.88,
          -10.56,
          -9.06,
          -11.19,
          -14.06,
          -9.49,
          -11.98,
          -17.75,
          -21.85,
          -23.73,
          -22.59,
          -26.28,
          -27.66,
          -34.94,
          -31.03,
          -32.7,
          -37.05,
          -39.5,
          -36.9,
          -38.33,
          -39.61,
          -39.23,
          -38.99,
          -39.6,
          -39.65,
          -37.49,
          -36.89,
          -31.6,
          -30.48,
          -32.61,
          -37.05,
          -36.31,
          -39.14,
          -35.68,
          -36.97,
          -36.96,
          -36.76,
          -37.29,
          -37.39,
          -43.25,
          -44.61,
          -43.16,
          -41.53,
          -40.33,
          -39.59,
          -40.02,
          -39.82,
          -40.19,
          -40.51,
          -40.53,
          -41.24,
          -42.85,
          -42.53,
          -41.54,
          -41.59,
          -40.61,
          -41.13,
          -41.08,
          -38.17,
          -37.94,
          -40,
          -38.88,
          -38.62,
          -38.51,
          -35.92,
          -35.96,
          -35.97,
          -35.27,
          -34.67,
          -34.07,
          -31.57,
          -33.01,
          -32.88,
          -25.02,
          -24.77,
          -22.51,
          -25.54,
          -24.61,
          -25.19,
          -24.95,
          -24.8,
          -24.08
         ],
         "yaxis": "y"
        },
        {
         "hovertemplate": "variable=ch_nvtk<br>index=%{x}<br>value=%{y}<extra></extra>",
         "legendgroup": "ch_nvtk",
         "line": {
          "color": "#19d3f3",
          "dash": "solid"
         },
         "marker": {
          "symbol": "circle"
         },
         "mode": "lines",
         "name": "ch_nvtk",
         "orientation": "v",
         "showlegend": true,
         "type": "scatter",
         "x": [
          0,
          1,
          2,
          3,
          4,
          5,
          6,
          7,
          8,
          9,
          10,
          11,
          12,
          13,
          14,
          15,
          16,
          17,
          18,
          19,
          20,
          21,
          22,
          23,
          24,
          25,
          26,
          27,
          28,
          29,
          30,
          31,
          32,
          33,
          34,
          35,
          36,
          37,
          38,
          39,
          40,
          41,
          42,
          43,
          44,
          45,
          46,
          47,
          48,
          49,
          50,
          51,
          52,
          53,
          54,
          55,
          56,
          57,
          58,
          59,
          60,
          61,
          62,
          63,
          64,
          65,
          66,
          67,
          68,
          69,
          70,
          71,
          72,
          73,
          74,
          75,
          76,
          77,
          78,
          79,
          80,
          81,
          82,
          83,
          84,
          85,
          86,
          87,
          88,
          89,
          90,
          91,
          92,
          93
         ],
         "xaxis": "x",
         "y": [
          0,
          3.94,
          0.52,
          2.4,
          4.97,
          3.59,
          3.54,
          -0.21,
          -1.93,
          -3.18,
          -3.27,
          -11.76,
          -12.45,
          -6.81,
          -8.9,
          -9.47,
          -10.2,
          -6.57,
          -4.97,
          -6.22,
          -13.45,
          -13.53,
          -11.52,
          -15.42,
          -18.89,
          -38.38,
          -24.47,
          -34.76,
          -42.62,
          -47.28,
          -41.53,
          -46.26,
          -47.24,
          -46.16,
          -47.83,
          -55.61,
          -56.64,
          -52.41,
          -45.5,
          -42.39,
          -46.04,
          -48.22,
          -48.71,
          -42.84,
          -47.02,
          -43.71,
          -41.05,
          -37.18,
          -37.58,
          -36.97,
          -35.88,
          -48.34,
          -47.35,
          -50.75,
          -47.08,
          -45.25,
          -39.89,
          -39.8,
          -39.52,
          -40.65,
          -42.11,
          -43.16,
          -43.35,
          -44.79,
          -43.06,
          -41.4,
          -42.81,
          -43.38,
          -44.16,
          -44.44,
          -44.02,
          -41.12,
          -43.96,
          -43.35,
          -41.74,
          -42.19,
          -41.61,
          -37.96,
          -37.23,
          -33.26,
          -29.58,
          -28.2,
          -27.15,
          -33.6,
          -30.97,
          -31.34,
          -29.07,
          -27.17,
          -26.34,
          -25.08,
          -28.44,
          -27.46,
          -24.13,
          -21.76
         ],
         "yaxis": "y"
        }
       ],
       "layout": {
        "legend": {
         "title": {
          "text": "variable"
         },
         "tracegroupgap": 0
        },
        "margin": {
         "t": 60
        },
        "template": {
         "data": {
          "bar": [
           {
            "error_x": {
             "color": "#2a3f5f"
            },
            "error_y": {
             "color": "#2a3f5f"
            },
            "marker": {
             "line": {
              "color": "#E5ECF6",
              "width": 0.5
             },
             "pattern": {
              "fillmode": "overlay",
              "size": 10,
              "solidity": 0.2
             }
            },
            "type": "bar"
           }
          ],
          "barpolar": [
           {
            "marker": {
             "line": {
              "color": "#E5ECF6",
              "width": 0.5
             },
             "pattern": {
              "fillmode": "overlay",
              "size": 10,
              "solidity": 0.2
             }
            },
            "type": "barpolar"
           }
          ],
          "carpet": [
           {
            "aaxis": {
             "endlinecolor": "#2a3f5f",
             "gridcolor": "white",
             "linecolor": "white",
             "minorgridcolor": "white",
             "startlinecolor": "#2a3f5f"
            },
            "baxis": {
             "endlinecolor": "#2a3f5f",
             "gridcolor": "white",
             "linecolor": "white",
             "minorgridcolor": "white",
             "startlinecolor": "#2a3f5f"
            },
            "type": "carpet"
           }
          ],
          "choropleth": [
           {
            "colorbar": {
             "outlinewidth": 0,
             "ticks": ""
            },
            "type": "choropleth"
           }
          ],
          "contour": [
           {
            "colorbar": {
             "outlinewidth": 0,
             "ticks": ""
            },
            "colorscale": [
             [
              0,
              "#0d0887"
             ],
             [
              0.1111111111111111,
              "#46039f"
             ],
             [
              0.2222222222222222,
              "#7201a8"
             ],
             [
              0.3333333333333333,
              "#9c179e"
             ],
             [
              0.4444444444444444,
              "#bd3786"
             ],
             [
              0.5555555555555556,
              "#d8576b"
             ],
             [
              0.6666666666666666,
              "#ed7953"
             ],
             [
              0.7777777777777778,
              "#fb9f3a"
             ],
             [
              0.8888888888888888,
              "#fdca26"
             ],
             [
              1,
              "#f0f921"
             ]
            ],
            "type": "contour"
           }
          ],
          "contourcarpet": [
           {
            "colorbar": {
             "outlinewidth": 0,
             "ticks": ""
            },
            "type": "contourcarpet"
           }
          ],
          "heatmap": [
           {
            "colorbar": {
             "outlinewidth": 0,
             "ticks": ""
            },
            "colorscale": [
             [
              0,
              "#0d0887"
             ],
             [
              0.1111111111111111,
              "#46039f"
             ],
             [
              0.2222222222222222,
              "#7201a8"
             ],
             [
              0.3333333333333333,
              "#9c179e"
             ],
             [
              0.4444444444444444,
              "#bd3786"
             ],
             [
              0.5555555555555556,
              "#d8576b"
             ],
             [
              0.6666666666666666,
              "#ed7953"
             ],
             [
              0.7777777777777778,
              "#fb9f3a"
             ],
             [
              0.8888888888888888,
              "#fdca26"
             ],
             [
              1,
              "#f0f921"
             ]
            ],
            "type": "heatmap"
           }
          ],
          "heatmapgl": [
           {
            "colorbar": {
             "outlinewidth": 0,
             "ticks": ""
            },
            "colorscale": [
             [
              0,
              "#0d0887"
             ],
             [
              0.1111111111111111,
              "#46039f"
             ],
             [
              0.2222222222222222,
              "#7201a8"
             ],
             [
              0.3333333333333333,
              "#9c179e"
             ],
             [
              0.4444444444444444,
              "#bd3786"
             ],
             [
              0.5555555555555556,
              "#d8576b"
             ],
             [
              0.6666666666666666,
              "#ed7953"
             ],
             [
              0.7777777777777778,
              "#fb9f3a"
             ],
             [
              0.8888888888888888,
              "#fdca26"
             ],
             [
              1,
              "#f0f921"
             ]
            ],
            "type": "heatmapgl"
           }
          ],
          "histogram": [
           {
            "marker": {
             "pattern": {
              "fillmode": "overlay",
              "size": 10,
              "solidity": 0.2
             }
            },
            "type": "histogram"
           }
          ],
          "histogram2d": [
           {
            "colorbar": {
             "outlinewidth": 0,
             "ticks": ""
            },
            "colorscale": [
             [
              0,
              "#0d0887"
             ],
             [
              0.1111111111111111,
              "#46039f"
             ],
             [
              0.2222222222222222,
              "#7201a8"
             ],
             [
              0.3333333333333333,
              "#9c179e"
             ],
             [
              0.4444444444444444,
              "#bd3786"
             ],
             [
              0.5555555555555556,
              "#d8576b"
             ],
             [
              0.6666666666666666,
              "#ed7953"
             ],
             [
              0.7777777777777778,
              "#fb9f3a"
             ],
             [
              0.8888888888888888,
              "#fdca26"
             ],
             [
              1,
              "#f0f921"
             ]
            ],
            "type": "histogram2d"
           }
          ],
          "histogram2dcontour": [
           {
            "colorbar": {
             "outlinewidth": 0,
             "ticks": ""
            },
            "colorscale": [
             [
              0,
              "#0d0887"
             ],
             [
              0.1111111111111111,
              "#46039f"
             ],
             [
              0.2222222222222222,
              "#7201a8"
             ],
             [
              0.3333333333333333,
              "#9c179e"
             ],
             [
              0.4444444444444444,
              "#bd3786"
             ],
             [
              0.5555555555555556,
              "#d8576b"
             ],
             [
              0.6666666666666666,
              "#ed7953"
             ],
             [
              0.7777777777777778,
              "#fb9f3a"
             ],
             [
              0.8888888888888888,
              "#fdca26"
             ],
             [
              1,
              "#f0f921"
             ]
            ],
            "type": "histogram2dcontour"
           }
          ],
          "mesh3d": [
           {
            "colorbar": {
             "outlinewidth": 0,
             "ticks": ""
            },
            "type": "mesh3d"
           }
          ],
          "parcoords": [
           {
            "line": {
             "colorbar": {
              "outlinewidth": 0,
              "ticks": ""
             }
            },
            "type": "parcoords"
           }
          ],
          "pie": [
           {
            "automargin": true,
            "type": "pie"
           }
          ],
          "scatter": [
           {
            "fillpattern": {
             "fillmode": "overlay",
             "size": 10,
             "solidity": 0.2
            },
            "type": "scatter"
           }
          ],
          "scatter3d": [
           {
            "line": {
             "colorbar": {
              "outlinewidth": 0,
              "ticks": ""
             }
            },
            "marker": {
             "colorbar": {
              "outlinewidth": 0,
              "ticks": ""
             }
            },
            "type": "scatter3d"
           }
          ],
          "scattercarpet": [
           {
            "marker": {
             "colorbar": {
              "outlinewidth": 0,
              "ticks": ""
             }
            },
            "type": "scattercarpet"
           }
          ],
          "scattergeo": [
           {
            "marker": {
             "colorbar": {
              "outlinewidth": 0,
              "ticks": ""
             }
            },
            "type": "scattergeo"
           }
          ],
          "scattergl": [
           {
            "marker": {
             "colorbar": {
              "outlinewidth": 0,
              "ticks": ""
             }
            },
            "type": "scattergl"
           }
          ],
          "scattermapbox": [
           {
            "marker": {
             "colorbar": {
              "outlinewidth": 0,
              "ticks": ""
             }
            },
            "type": "scattermapbox"
           }
          ],
          "scatterpolar": [
           {
            "marker": {
             "colorbar": {
              "outlinewidth": 0,
              "ticks": ""
             }
            },
            "type": "scatterpolar"
           }
          ],
          "scatterpolargl": [
           {
            "marker": {
             "colorbar": {
              "outlinewidth": 0,
              "ticks": ""
             }
            },
            "type": "scatterpolargl"
           }
          ],
          "scatterternary": [
           {
            "marker": {
             "colorbar": {
              "outlinewidth": 0,
              "ticks": ""
             }
            },
            "type": "scatterternary"
           }
          ],
          "surface": [
           {
            "colorbar": {
             "outlinewidth": 0,
             "ticks": ""
            },
            "colorscale": [
             [
              0,
              "#0d0887"
             ],
             [
              0.1111111111111111,
              "#46039f"
             ],
             [
              0.2222222222222222,
              "#7201a8"
             ],
             [
              0.3333333333333333,
              "#9c179e"
             ],
             [
              0.4444444444444444,
              "#bd3786"
             ],
             [
              0.5555555555555556,
              "#d8576b"
             ],
             [
              0.6666666666666666,
              "#ed7953"
             ],
             [
              0.7777777777777778,
              "#fb9f3a"
             ],
             [
              0.8888888888888888,
              "#fdca26"
             ],
             [
              1,
              "#f0f921"
             ]
            ],
            "type": "surface"
           }
          ],
          "table": [
           {
            "cells": {
             "fill": {
              "color": "#EBF0F8"
             },
             "line": {
              "color": "white"
             }
            },
            "header": {
             "fill": {
              "color": "#C8D4E3"
             },
             "line": {
              "color": "white"
             }
            },
            "type": "table"
           }
          ]
         },
         "layout": {
          "annotationdefaults": {
           "arrowcolor": "#2a3f5f",
           "arrowhead": 0,
           "arrowwidth": 1
          },
          "autotypenumbers": "strict",
          "coloraxis": {
           "colorbar": {
            "outlinewidth": 0,
            "ticks": ""
           }
          },
          "colorscale": {
           "diverging": [
            [
             0,
             "#8e0152"
            ],
            [
             0.1,
             "#c51b7d"
            ],
            [
             0.2,
             "#de77ae"
            ],
            [
             0.3,
             "#f1b6da"
            ],
            [
             0.4,
             "#fde0ef"
            ],
            [
             0.5,
             "#f7f7f7"
            ],
            [
             0.6,
             "#e6f5d0"
            ],
            [
             0.7,
             "#b8e186"
            ],
            [
             0.8,
             "#7fbc41"
            ],
            [
             0.9,
             "#4d9221"
            ],
            [
             1,
             "#276419"
            ]
           ],
           "sequential": [
            [
             0,
             "#0d0887"
            ],
            [
             0.1111111111111111,
             "#46039f"
            ],
            [
             0.2222222222222222,
             "#7201a8"
            ],
            [
             0.3333333333333333,
             "#9c179e"
            ],
            [
             0.4444444444444444,
             "#bd3786"
            ],
            [
             0.5555555555555556,
             "#d8576b"
            ],
            [
             0.6666666666666666,
             "#ed7953"
            ],
            [
             0.7777777777777778,
             "#fb9f3a"
            ],
            [
             0.8888888888888888,
             "#fdca26"
            ],
            [
             1,
             "#f0f921"
            ]
           ],
           "sequentialminus": [
            [
             0,
             "#0d0887"
            ],
            [
             0.1111111111111111,
             "#46039f"
            ],
            [
             0.2222222222222222,
             "#7201a8"
            ],
            [
             0.3333333333333333,
             "#9c179e"
            ],
            [
             0.4444444444444444,
             "#bd3786"
            ],
            [
             0.5555555555555556,
             "#d8576b"
            ],
            [
             0.6666666666666666,
             "#ed7953"
            ],
            [
             0.7777777777777778,
             "#fb9f3a"
            ],
            [
             0.8888888888888888,
             "#fdca26"
            ],
            [
             1,
             "#f0f921"
            ]
           ]
          },
          "colorway": [
           "#636efa",
           "#EF553B",
           "#00cc96",
           "#ab63fa",
           "#FFA15A",
           "#19d3f3",
           "#FF6692",
           "#B6E880",
           "#FF97FF",
           "#FECB52"
          ],
          "font": {
           "color": "#2a3f5f"
          },
          "geo": {
           "bgcolor": "white",
           "lakecolor": "white",
           "landcolor": "#E5ECF6",
           "showlakes": true,
           "showland": true,
           "subunitcolor": "white"
          },
          "hoverlabel": {
           "align": "left"
          },
          "hovermode": "closest",
          "mapbox": {
           "style": "light"
          },
          "paper_bgcolor": "white",
          "plot_bgcolor": "#E5ECF6",
          "polar": {
           "angularaxis": {
            "gridcolor": "white",
            "linecolor": "white",
            "ticks": ""
           },
           "bgcolor": "#E5ECF6",
           "radialaxis": {
            "gridcolor": "white",
            "linecolor": "white",
            "ticks": ""
           }
          },
          "scene": {
           "xaxis": {
            "backgroundcolor": "#E5ECF6",
            "gridcolor": "white",
            "gridwidth": 2,
            "linecolor": "white",
            "showbackground": true,
            "ticks": "",
            "zerolinecolor": "white"
           },
           "yaxis": {
            "backgroundcolor": "#E5ECF6",
            "gridcolor": "white",
            "gridwidth": 2,
            "linecolor": "white",
            "showbackground": true,
            "ticks": "",
            "zerolinecolor": "white"
           },
           "zaxis": {
            "backgroundcolor": "#E5ECF6",
            "gridcolor": "white",
            "gridwidth": 2,
            "linecolor": "white",
            "showbackground": true,
            "ticks": "",
            "zerolinecolor": "white"
           }
          },
          "shapedefaults": {
           "line": {
            "color": "#2a3f5f"
           }
          },
          "ternary": {
           "aaxis": {
            "gridcolor": "white",
            "linecolor": "white",
            "ticks": ""
           },
           "baxis": {
            "gridcolor": "white",
            "linecolor": "white",
            "ticks": ""
           },
           "bgcolor": "#E5ECF6",
           "caxis": {
            "gridcolor": "white",
            "linecolor": "white",
            "ticks": ""
           }
          },
          "title": {
           "x": 0.05
          },
          "xaxis": {
           "automargin": true,
           "gridcolor": "white",
           "linecolor": "white",
           "ticks": "",
           "title": {
            "standoff": 15
           },
           "zerolinecolor": "white",
           "zerolinewidth": 2
          },
          "yaxis": {
           "automargin": true,
           "gridcolor": "white",
           "linecolor": "white",
           "ticks": "",
           "title": {
            "standoff": 15
           },
           "zerolinecolor": "white",
           "zerolinewidth": 2
          }
         }
        },
        "title": {
         "text": "Диапозон с 7 по 13 акции"
        },
        "xaxis": {
         "anchor": "y",
         "domain": [
          0,
          1
         ],
         "title": {
          "text": "Неделя с начала инвестирования"
         }
        },
        "yaxis": {
         "anchor": "x",
         "domain": [
          0,
          1
         ],
         "title": {
          "text": "Процент"
         }
        }
       }
      }
     },
     "metadata": {},
     "output_type": "display_data"
    }
   ],
   "source": [
    "# Взятие диапазона имен от 7 до 13 из table1\n",
    "selected_names = min_df['Column'].iloc[7:13]\n",
    "\n",
    "# Выбор столбцов в table2 на основе имен из table1 и отображение их данных\n",
    "top_7_13 = stat[selected_names]\n",
    "selected_columns = top_7_13.columns\n",
    "\n",
    "\n",
    "# Построение графика px.line\n",
    "fig = px.line(top_7_13, x=top_7_13.index, y=selected_columns)\n",
    "fig.update_layout(xaxis_title=\"Неделя с начала инвестирования\", yaxis_title=\"Процент\", title=\"Диапозон с 7 по 13 акции\")\n",
    "\n",
    "# Отображение графика\n",
    "fig.show()\n",
    "\n",
    "\n"
   ]
  },
  {
   "cell_type": "code",
   "execution_count": 11,
   "metadata": {},
   "outputs": [
    {
     "data": {
      "application/vnd.plotly.v1+json": {
       "config": {
        "plotlyServerURL": "https://plot.ly"
       },
       "data": [
        {
         "hovertemplate": "variable=ch_nknc<br>index=%{x}<br>value=%{y}<extra></extra>",
         "legendgroup": "ch_nknc",
         "line": {
          "color": "#636efa",
          "dash": "solid"
         },
         "marker": {
          "symbol": "circle"
         },
         "mode": "lines",
         "name": "ch_nknc",
         "orientation": "v",
         "showlegend": true,
         "type": "scatter",
         "x": [
          0,
          1,
          2,
          3,
          4,
          5,
          6,
          7,
          8,
          9,
          10,
          11,
          12,
          13,
          14,
          15,
          16,
          17,
          18,
          19,
          20,
          21,
          22,
          23,
          24,
          25,
          26,
          27,
          28,
          29,
          30,
          31,
          32,
          33,
          34,
          35,
          36,
          37,
          38,
          39,
          40,
          41,
          42,
          43,
          44,
          45,
          46,
          47,
          48,
          49,
          50,
          51,
          52,
          53,
          54,
          55,
          56,
          57,
          58,
          59,
          60,
          61,
          62,
          63,
          64,
          65,
          66,
          67,
          68,
          69,
          70,
          71,
          72,
          73,
          74,
          75,
          76,
          77,
          78,
          79,
          80,
          81,
          82,
          83,
          84,
          85,
          86,
          87,
          88,
          89,
          90,
          91,
          92,
          93
         ],
         "xaxis": "x",
         "y": [
          0,
          1.92,
          -5.47,
          -12.38,
          -13.55,
          -9.12,
          -13.71,
          -15.99,
          -16.94,
          -16.25,
          -14.95,
          -20.68,
          -22.48,
          -24.79,
          -25.37,
          -32.54,
          -27.23,
          -27.75,
          -25.18,
          -27.23,
          -28.6,
          -27.95,
          -28.34,
          -25.34,
          -26.68,
          -40.13,
          -33.81,
          -39.12,
          -43.16,
          -45.41,
          -45.44,
          -47.17,
          -45.57,
          -40.29,
          -47.79,
          -50.16,
          -49.22,
          -46.94,
          -48.83,
          -49.54,
          -48.18,
          -49.97,
          -48.63,
          -45.67,
          -46.81,
          -44.79,
          -41.92,
          -34.43,
          -35.15,
          -35.8,
          -37.13,
          -48.31,
          -52.44,
          -49.06,
          -45.41,
          -44.01,
          -42.87,
          -41.04,
          -41.66,
          -41.89,
          -44.59,
          -43.62,
          -43.29,
          -47.33,
          -46.29,
          -45.21,
          -44.69,
          -42.12,
          -41.79,
          -35.21,
          -33.55,
          -29.87,
          -25.93,
          -25.99,
          -23.75,
          -22.51,
          -24.5,
          -21.11,
          -22.57,
          -20.62,
          -17.39,
          -20.85,
          -20.98,
          -28.21,
          -25.24,
          -20.75,
          -27.72,
          -27.92,
          -27.49,
          -26.16,
          -24.95,
          -20.91,
          -20.59,
          -21.11
         ],
         "yaxis": "y"
        },
        {
         "hovertemplate": "variable=ch_irao<br>index=%{x}<br>value=%{y}<extra></extra>",
         "legendgroup": "ch_irao",
         "line": {
          "color": "#EF553B",
          "dash": "solid"
         },
         "marker": {
          "symbol": "circle"
         },
         "mode": "lines",
         "name": "ch_irao",
         "orientation": "v",
         "showlegend": true,
         "type": "scatter",
         "x": [
          0,
          1,
          2,
          3,
          4,
          5,
          6,
          7,
          8,
          9,
          10,
          11,
          12,
          13,
          14,
          15,
          16,
          17,
          18,
          19,
          20,
          21,
          22,
          23,
          24,
          25,
          26,
          27,
          28,
          29,
          30,
          31,
          32,
          33,
          34,
          35,
          36,
          37,
          38,
          39,
          40,
          41,
          42,
          43,
          44,
          45,
          46,
          47,
          48,
          49,
          50,
          51,
          52,
          53,
          54,
          55,
          56,
          57,
          58,
          59,
          60,
          61,
          62,
          63,
          64,
          65,
          66,
          67,
          68,
          69,
          70,
          71,
          72,
          73,
          74,
          75,
          76,
          77,
          78,
          79,
          80,
          81,
          82,
          83,
          84,
          85,
          86,
          87,
          88,
          89,
          90,
          91,
          92,
          93
         ],
         "xaxis": "x",
         "y": [
          0,
          -1.39,
          -2.91,
          -4.23,
          -0.68,
          3.8,
          5.39,
          3.5,
          -0.3,
          -1,
          -1.09,
          -6.23,
          -10.19,
          -7.37,
          -8.75,
          -11.22,
          -13.18,
          -11.07,
          -11.33,
          -10.32,
          -15.61,
          -19.38,
          -20.15,
          -24.12,
          -27.15,
          -46.16,
          -39.88,
          -43.73,
          -46.77,
          -49.27,
          -43.65,
          -42.51,
          -42.4,
          -39.86,
          -34.04,
          -32.11,
          -34.45,
          -28.09,
          -24.23,
          -28.24,
          -29.05,
          -28.94,
          -31.47,
          -32.51,
          -36.5,
          -38.1,
          -37.38,
          -33.49,
          -32.32,
          -32.26,
          -32.32,
          -42.07,
          -46.08,
          -45.54,
          -40.79,
          -40.18,
          -35.93,
          -36.77,
          -33.24,
          -34.98,
          -31.77,
          -31.29,
          -32.72,
          -34.9,
          -33.72,
          -29.14,
          -26.87,
          -27.24,
          -28.56,
          -26.76,
          -27.01,
          -27.39,
          -30.51,
          -29.76,
          -28.17,
          -29.49,
          -28.78,
          -25.11,
          -22.66,
          -20.11,
          -18.55,
          -17.17,
          -15.04,
          -17.31,
          -13.34,
          -11.06,
          -8.85,
          -14.91,
          -15.3,
          -12.82,
          -16.06,
          -15.73,
          -17.12,
          -13.34
         ],
         "yaxis": "y"
        },
        {
         "hovertemplate": "variable=ch_rosn<br>index=%{x}<br>value=%{y}<extra></extra>",
         "legendgroup": "ch_rosn",
         "line": {
          "color": "#00cc96",
          "dash": "solid"
         },
         "marker": {
          "symbol": "circle"
         },
         "mode": "lines",
         "name": "ch_rosn",
         "orientation": "v",
         "showlegend": true,
         "type": "scatter",
         "x": [
          0,
          1,
          2,
          3,
          4,
          5,
          6,
          7,
          8,
          9,
          10,
          11,
          12,
          13,
          14,
          15,
          16,
          17,
          18,
          19,
          20,
          21,
          22,
          23,
          24,
          25,
          26,
          27,
          28,
          29,
          30,
          31,
          32,
          33,
          34,
          35,
          36,
          37,
          38,
          39,
          40,
          41,
          42,
          43,
          44,
          45,
          46,
          47,
          48,
          49,
          50,
          51,
          52,
          53,
          54,
          55,
          56,
          57,
          58,
          59,
          60,
          61,
          62,
          63,
          64,
          65,
          66,
          67,
          68,
          69,
          70,
          71,
          72,
          73,
          74,
          75,
          76,
          77,
          78,
          79,
          80,
          81,
          82,
          83,
          84,
          85,
          86,
          87,
          88,
          89,
          90,
          91,
          92,
          93
         ],
         "xaxis": "x",
         "y": [
          0,
          -2.18,
          2.11,
          10.55,
          11.35,
          13.61,
          16.21,
          14.24,
          14.53,
          12.76,
          11.49,
          6.32,
          -0.05,
          3.81,
          3.01,
          3.2,
          3,
          7.85,
          8.32,
          9.02,
          1.69,
          2,
          2.99,
          -1.44,
          -6.46,
          -44.55,
          -18.98,
          -27.43,
          -29.69,
          -28.46,
          -26.36,
          -29.37,
          -32.49,
          -30.82,
          -27.71,
          -34.2,
          -33.47,
          -30.78,
          -32.12,
          -32.45,
          -36.77,
          -40.49,
          -38.78,
          -36.44,
          -41.9,
          -39.47,
          -37.92,
          -34.91,
          -30.66,
          -31.94,
          -35.35,
          -46.58,
          -52.46,
          -51.57,
          -46.07,
          -43.95,
          -38.46,
          -39.68,
          -35.73,
          -39.34,
          -39.52,
          -39.68,
          -39.48,
          -40.42,
          -38.19,
          -34.21,
          -33.87,
          -37.69,
          -39.4,
          -39.33,
          -38.45,
          -36.8,
          -37.86,
          -36.54,
          -35.4,
          -34.12,
          -34.25,
          -32.08,
          -31.42,
          -29.47,
          -29.35,
          -28.2,
          -29.1,
          -31.82,
          -28.17,
          -25.52,
          -22.06,
          -17.37,
          -16.55,
          -13.5,
          -15.82,
          -13.15,
          -13.14,
          -12.2
         ],
         "yaxis": "y"
        },
        {
         "hovertemplate": "variable=ch_mtss<br>index=%{x}<br>value=%{y}<extra></extra>",
         "legendgroup": "ch_mtss",
         "line": {
          "color": "#ab63fa",
          "dash": "solid"
         },
         "marker": {
          "symbol": "circle"
         },
         "mode": "lines",
         "name": "ch_mtss",
         "orientation": "v",
         "showlegend": true,
         "type": "scatter",
         "x": [
          0,
          1,
          2,
          3,
          4,
          5,
          6,
          7,
          8,
          9,
          10,
          11,
          12,
          13,
          14,
          15,
          16,
          17,
          18,
          19,
          20,
          21,
          22,
          23,
          24,
          25,
          26,
          27,
          28,
          29,
          30,
          31,
          32,
          33,
          34,
          35,
          36,
          37,
          38,
          39,
          40,
          41,
          42,
          43,
          44,
          45,
          46,
          47,
          48,
          49,
          50,
          51,
          52,
          53,
          54,
          55,
          56,
          57,
          58,
          59,
          60,
          61,
          62,
          63,
          64,
          65,
          66,
          67,
          68,
          69,
          70,
          71,
          72,
          73,
          74,
          75,
          76,
          77,
          78,
          79,
          80,
          81,
          82,
          83,
          84,
          85,
          86,
          87,
          88,
          89,
          90,
          91,
          92,
          93
         ],
         "xaxis": "x",
         "y": [
          0,
          0.38,
          0.38,
          0.81,
          -0.08,
          -0.06,
          -3.13,
          -3.9,
          -5.39,
          -4.83,
          -3.45,
          -5.77,
          -9.13,
          -10.33,
          -12.78,
          -12.06,
          -11.67,
          -9.18,
          -9.09,
          -11.99,
          -16.91,
          -13.23,
          -13.93,
          -13.46,
          -17.09,
          -33.91,
          -28.59,
          -34.61,
          -36.99,
          -42.86,
          -36.48,
          -35.89,
          -38.97,
          -27.53,
          -24.98,
          -21.15,
          -16.74,
          -16.53,
          -15.42,
          -15.27,
          -16.42,
          -28.02,
          -29.87,
          -26.03,
          -26.63,
          -25.52,
          -27.07,
          -27.04,
          -26.98,
          -27.76,
          -28.17,
          -39.03,
          -41.77,
          -40.38,
          -36.71,
          -34.43,
          -31.78,
          -32.45,
          -28.59,
          -29.98,
          -28.21,
          -28.99,
          -29,
          -31.05,
          -31.02,
          -28.17,
          -28.14,
          -27.32,
          -27.1,
          -26.42,
          -22.46,
          -21.71,
          -24.22,
          -23.69,
          -21.1,
          -21.7,
          -24.61,
          -23.2,
          -21.65,
          -21.76,
          -20.98,
          -19.05,
          -17.3,
          -19.14,
          -16.01,
          -6.41,
          -6.41,
          -0.68,
          -0.06,
          3.9,
          3.24,
          -9.83,
          -9.89,
          -9.81
         ],
         "yaxis": "y"
        },
        {
         "hovertemplate": "variable=ch_kzos<br>index=%{x}<br>value=%{y}<extra></extra>",
         "legendgroup": "ch_kzos",
         "line": {
          "color": "#FFA15A",
          "dash": "solid"
         },
         "marker": {
          "symbol": "circle"
         },
         "mode": "lines",
         "name": "ch_kzos",
         "orientation": "v",
         "showlegend": true,
         "type": "scatter",
         "x": [
          0,
          1,
          2,
          3,
          4,
          5,
          6,
          7,
          8,
          9,
          10,
          11,
          12,
          13,
          14,
          15,
          16,
          17,
          18,
          19,
          20,
          21,
          22,
          23,
          24,
          25,
          26,
          27,
          28,
          29,
          30,
          31,
          32,
          33,
          34,
          35,
          36,
          37,
          38,
          39,
          40,
          41,
          42,
          43,
          44,
          45,
          46,
          47,
          48,
          49,
          50,
          51,
          52,
          53,
          54,
          55,
          56,
          57,
          58,
          59,
          60,
          61,
          62,
          63,
          64,
          65,
          66,
          67,
          68,
          69,
          70,
          71,
          72,
          73,
          74,
          75,
          76,
          77,
          78,
          79,
          80,
          81,
          82,
          83,
          84,
          85,
          86,
          87,
          88,
          89,
          90,
          91,
          92,
          93
         ],
         "xaxis": "x",
         "y": [
          0,
          0.87,
          -1.48,
          -6.09,
          -14,
          -5.74,
          -6.7,
          -10.96,
          -16,
          -14.52,
          -14.7,
          -15.57,
          -16.26,
          -16.78,
          -15.39,
          -15.65,
          -16.09,
          -16,
          -17.04,
          -18.7,
          -26.78,
          -23.91,
          -23.48,
          -23.04,
          -25.3,
          -35.74,
          -26.26,
          -31.22,
          -35.39,
          -36.7,
          -37.39,
          -39.57,
          -42.7,
          -36.61,
          -41.04,
          -38.87,
          -41.39,
          -37.22,
          -38.61,
          -38.17,
          -39.13,
          -40.78,
          -40.87,
          -35.39,
          -32.09,
          -24.78,
          -13.74,
          -17.83,
          -15.65,
          -16.61,
          -18.35,
          -34.17,
          -39.57,
          -36.09,
          -31.3,
          -30.61,
          -26.87,
          -23.04,
          -22.61,
          -26.26,
          -27.13,
          -24.87,
          -24.96,
          -29.04,
          -27.48,
          -27.48,
          -26.7,
          -22.7,
          -23.74,
          -22.43,
          -21.65,
          -19.91,
          -12.52,
          -17.13,
          -16.78,
          -16.52,
          -17.65,
          -11.65,
          -9.65,
          -5.48,
          -7.65,
          -8.7,
          -10.87,
          -14.61,
          -12.17,
          -6.17,
          -8.09,
          -5.65,
          -2.96,
          2.52,
          3.74,
          6.96,
          0.09,
          -4.87
         ],
         "yaxis": "y"
        },
        {
         "hovertemplate": "variable=ch_mgnt<br>index=%{x}<br>value=%{y}<extra></extra>",
         "legendgroup": "ch_mgnt",
         "line": {
          "color": "#19d3f3",
          "dash": "solid"
         },
         "marker": {
          "symbol": "circle"
         },
         "mode": "lines",
         "name": "ch_mgnt",
         "orientation": "v",
         "showlegend": true,
         "type": "scatter",
         "x": [
          0,
          1,
          2,
          3,
          4,
          5,
          6,
          7,
          8,
          9,
          10,
          11,
          12,
          13,
          14,
          15,
          16,
          17,
          18,
          19,
          20,
          21,
          22,
          23,
          24,
          25,
          26,
          27,
          28,
          29,
          30,
          31,
          32,
          33,
          34,
          35,
          36,
          37,
          38,
          39,
          40,
          41,
          42,
          43,
          44,
          45,
          46,
          47,
          48,
          49,
          50,
          51,
          52,
          53,
          54,
          55,
          56,
          57,
          58,
          59,
          60,
          61,
          62,
          63,
          64,
          65,
          66,
          67,
          68,
          69,
          70,
          71,
          72,
          73,
          74,
          75,
          76,
          77,
          78,
          79,
          80,
          81,
          82,
          83,
          84,
          85,
          86,
          87,
          88,
          89,
          90,
          91,
          92,
          93
         ],
         "xaxis": "x",
         "y": [
          0,
          -3.61,
          3.81,
          7.74,
          9,
          14.18,
          13.65,
          14.46,
          17.3,
          23.13,
          19.05,
          9,
          4.68,
          3.59,
          5.53,
          2.85,
          1.36,
          -1.33,
          0.32,
          -5.11,
          -8.54,
          -11.12,
          -4.21,
          -9.9,
          -8.63,
          -41.97,
          -23.52,
          -21.43,
          -26.23,
          -24.42,
          -16.76,
          -13.91,
          -15.96,
          -16.27,
          -18.08,
          -20.58,
          -23.14,
          -21.72,
          -21,
          -24.69,
          -19.55,
          -20.62,
          -21.32,
          -11.39,
          -13.01,
          -6.95,
          -4.94,
          -1.05,
          -0.58,
          -0.34,
          1.17,
          -11.39,
          -14.42,
          -17.61,
          -12.82,
          -6.41,
          -4.5,
          -6.06,
          -9.29,
          -10.86,
          -12.12,
          -15.41,
          -19.42,
          -20.5,
          -21.79,
          -21.33,
          -21.71,
          -16.27,
          -17.07,
          -16.47,
          -15.45,
          -15.12,
          -19.39,
          -17.36,
          -17.6,
          -18.01,
          -18.37,
          -18.53,
          -16.45,
          -17.1,
          -17.08,
          -12.86,
          -15.06,
          -19.85,
          -18.98,
          -16.28,
          -24.98,
          -21.64,
          -23.33,
          -11.26,
          -14.36,
          -6.55,
          -3.49,
          -0.21
         ],
         "yaxis": "y"
        }
       ],
       "layout": {
        "legend": {
         "title": {
          "text": "variable"
         },
         "tracegroupgap": 0
        },
        "margin": {
         "t": 60
        },
        "template": {
         "data": {
          "bar": [
           {
            "error_x": {
             "color": "#2a3f5f"
            },
            "error_y": {
             "color": "#2a3f5f"
            },
            "marker": {
             "line": {
              "color": "#E5ECF6",
              "width": 0.5
             },
             "pattern": {
              "fillmode": "overlay",
              "size": 10,
              "solidity": 0.2
             }
            },
            "type": "bar"
           }
          ],
          "barpolar": [
           {
            "marker": {
             "line": {
              "color": "#E5ECF6",
              "width": 0.5
             },
             "pattern": {
              "fillmode": "overlay",
              "size": 10,
              "solidity": 0.2
             }
            },
            "type": "barpolar"
           }
          ],
          "carpet": [
           {
            "aaxis": {
             "endlinecolor": "#2a3f5f",
             "gridcolor": "white",
             "linecolor": "white",
             "minorgridcolor": "white",
             "startlinecolor": "#2a3f5f"
            },
            "baxis": {
             "endlinecolor": "#2a3f5f",
             "gridcolor": "white",
             "linecolor": "white",
             "minorgridcolor": "white",
             "startlinecolor": "#2a3f5f"
            },
            "type": "carpet"
           }
          ],
          "choropleth": [
           {
            "colorbar": {
             "outlinewidth": 0,
             "ticks": ""
            },
            "type": "choropleth"
           }
          ],
          "contour": [
           {
            "colorbar": {
             "outlinewidth": 0,
             "ticks": ""
            },
            "colorscale": [
             [
              0,
              "#0d0887"
             ],
             [
              0.1111111111111111,
              "#46039f"
             ],
             [
              0.2222222222222222,
              "#7201a8"
             ],
             [
              0.3333333333333333,
              "#9c179e"
             ],
             [
              0.4444444444444444,
              "#bd3786"
             ],
             [
              0.5555555555555556,
              "#d8576b"
             ],
             [
              0.6666666666666666,
              "#ed7953"
             ],
             [
              0.7777777777777778,
              "#fb9f3a"
             ],
             [
              0.8888888888888888,
              "#fdca26"
             ],
             [
              1,
              "#f0f921"
             ]
            ],
            "type": "contour"
           }
          ],
          "contourcarpet": [
           {
            "colorbar": {
             "outlinewidth": 0,
             "ticks": ""
            },
            "type": "contourcarpet"
           }
          ],
          "heatmap": [
           {
            "colorbar": {
             "outlinewidth": 0,
             "ticks": ""
            },
            "colorscale": [
             [
              0,
              "#0d0887"
             ],
             [
              0.1111111111111111,
              "#46039f"
             ],
             [
              0.2222222222222222,
              "#7201a8"
             ],
             [
              0.3333333333333333,
              "#9c179e"
             ],
             [
              0.4444444444444444,
              "#bd3786"
             ],
             [
              0.5555555555555556,
              "#d8576b"
             ],
             [
              0.6666666666666666,
              "#ed7953"
             ],
             [
              0.7777777777777778,
              "#fb9f3a"
             ],
             [
              0.8888888888888888,
              "#fdca26"
             ],
             [
              1,
              "#f0f921"
             ]
            ],
            "type": "heatmap"
           }
          ],
          "heatmapgl": [
           {
            "colorbar": {
             "outlinewidth": 0,
             "ticks": ""
            },
            "colorscale": [
             [
              0,
              "#0d0887"
             ],
             [
              0.1111111111111111,
              "#46039f"
             ],
             [
              0.2222222222222222,
              "#7201a8"
             ],
             [
              0.3333333333333333,
              "#9c179e"
             ],
             [
              0.4444444444444444,
              "#bd3786"
             ],
             [
              0.5555555555555556,
              "#d8576b"
             ],
             [
              0.6666666666666666,
              "#ed7953"
             ],
             [
              0.7777777777777778,
              "#fb9f3a"
             ],
             [
              0.8888888888888888,
              "#fdca26"
             ],
             [
              1,
              "#f0f921"
             ]
            ],
            "type": "heatmapgl"
           }
          ],
          "histogram": [
           {
            "marker": {
             "pattern": {
              "fillmode": "overlay",
              "size": 10,
              "solidity": 0.2
             }
            },
            "type": "histogram"
           }
          ],
          "histogram2d": [
           {
            "colorbar": {
             "outlinewidth": 0,
             "ticks": ""
            },
            "colorscale": [
             [
              0,
              "#0d0887"
             ],
             [
              0.1111111111111111,
              "#46039f"
             ],
             [
              0.2222222222222222,
              "#7201a8"
             ],
             [
              0.3333333333333333,
              "#9c179e"
             ],
             [
              0.4444444444444444,
              "#bd3786"
             ],
             [
              0.5555555555555556,
              "#d8576b"
             ],
             [
              0.6666666666666666,
              "#ed7953"
             ],
             [
              0.7777777777777778,
              "#fb9f3a"
             ],
             [
              0.8888888888888888,
              "#fdca26"
             ],
             [
              1,
              "#f0f921"
             ]
            ],
            "type": "histogram2d"
           }
          ],
          "histogram2dcontour": [
           {
            "colorbar": {
             "outlinewidth": 0,
             "ticks": ""
            },
            "colorscale": [
             [
              0,
              "#0d0887"
             ],
             [
              0.1111111111111111,
              "#46039f"
             ],
             [
              0.2222222222222222,
              "#7201a8"
             ],
             [
              0.3333333333333333,
              "#9c179e"
             ],
             [
              0.4444444444444444,
              "#bd3786"
             ],
             [
              0.5555555555555556,
              "#d8576b"
             ],
             [
              0.6666666666666666,
              "#ed7953"
             ],
             [
              0.7777777777777778,
              "#fb9f3a"
             ],
             [
              0.8888888888888888,
              "#fdca26"
             ],
             [
              1,
              "#f0f921"
             ]
            ],
            "type": "histogram2dcontour"
           }
          ],
          "mesh3d": [
           {
            "colorbar": {
             "outlinewidth": 0,
             "ticks": ""
            },
            "type": "mesh3d"
           }
          ],
          "parcoords": [
           {
            "line": {
             "colorbar": {
              "outlinewidth": 0,
              "ticks": ""
             }
            },
            "type": "parcoords"
           }
          ],
          "pie": [
           {
            "automargin": true,
            "type": "pie"
           }
          ],
          "scatter": [
           {
            "fillpattern": {
             "fillmode": "overlay",
             "size": 10,
             "solidity": 0.2
            },
            "type": "scatter"
           }
          ],
          "scatter3d": [
           {
            "line": {
             "colorbar": {
              "outlinewidth": 0,
              "ticks": ""
             }
            },
            "marker": {
             "colorbar": {
              "outlinewidth": 0,
              "ticks": ""
             }
            },
            "type": "scatter3d"
           }
          ],
          "scattercarpet": [
           {
            "marker": {
             "colorbar": {
              "outlinewidth": 0,
              "ticks": ""
             }
            },
            "type": "scattercarpet"
           }
          ],
          "scattergeo": [
           {
            "marker": {
             "colorbar": {
              "outlinewidth": 0,
              "ticks": ""
             }
            },
            "type": "scattergeo"
           }
          ],
          "scattergl": [
           {
            "marker": {
             "colorbar": {
              "outlinewidth": 0,
              "ticks": ""
             }
            },
            "type": "scattergl"
           }
          ],
          "scattermapbox": [
           {
            "marker": {
             "colorbar": {
              "outlinewidth": 0,
              "ticks": ""
             }
            },
            "type": "scattermapbox"
           }
          ],
          "scatterpolar": [
           {
            "marker": {
             "colorbar": {
              "outlinewidth": 0,
              "ticks": ""
             }
            },
            "type": "scatterpolar"
           }
          ],
          "scatterpolargl": [
           {
            "marker": {
             "colorbar": {
              "outlinewidth": 0,
              "ticks": ""
             }
            },
            "type": "scatterpolargl"
           }
          ],
          "scatterternary": [
           {
            "marker": {
             "colorbar": {
              "outlinewidth": 0,
              "ticks": ""
             }
            },
            "type": "scatterternary"
           }
          ],
          "surface": [
           {
            "colorbar": {
             "outlinewidth": 0,
             "ticks": ""
            },
            "colorscale": [
             [
              0,
              "#0d0887"
             ],
             [
              0.1111111111111111,
              "#46039f"
             ],
             [
              0.2222222222222222,
              "#7201a8"
             ],
             [
              0.3333333333333333,
              "#9c179e"
             ],
             [
              0.4444444444444444,
              "#bd3786"
             ],
             [
              0.5555555555555556,
              "#d8576b"
             ],
             [
              0.6666666666666666,
              "#ed7953"
             ],
             [
              0.7777777777777778,
              "#fb9f3a"
             ],
             [
              0.8888888888888888,
              "#fdca26"
             ],
             [
              1,
              "#f0f921"
             ]
            ],
            "type": "surface"
           }
          ],
          "table": [
           {
            "cells": {
             "fill": {
              "color": "#EBF0F8"
             },
             "line": {
              "color": "white"
             }
            },
            "header": {
             "fill": {
              "color": "#C8D4E3"
             },
             "line": {
              "color": "white"
             }
            },
            "type": "table"
           }
          ]
         },
         "layout": {
          "annotationdefaults": {
           "arrowcolor": "#2a3f5f",
           "arrowhead": 0,
           "arrowwidth": 1
          },
          "autotypenumbers": "strict",
          "coloraxis": {
           "colorbar": {
            "outlinewidth": 0,
            "ticks": ""
           }
          },
          "colorscale": {
           "diverging": [
            [
             0,
             "#8e0152"
            ],
            [
             0.1,
             "#c51b7d"
            ],
            [
             0.2,
             "#de77ae"
            ],
            [
             0.3,
             "#f1b6da"
            ],
            [
             0.4,
             "#fde0ef"
            ],
            [
             0.5,
             "#f7f7f7"
            ],
            [
             0.6,
             "#e6f5d0"
            ],
            [
             0.7,
             "#b8e186"
            ],
            [
             0.8,
             "#7fbc41"
            ],
            [
             0.9,
             "#4d9221"
            ],
            [
             1,
             "#276419"
            ]
           ],
           "sequential": [
            [
             0,
             "#0d0887"
            ],
            [
             0.1111111111111111,
             "#46039f"
            ],
            [
             0.2222222222222222,
             "#7201a8"
            ],
            [
             0.3333333333333333,
             "#9c179e"
            ],
            [
             0.4444444444444444,
             "#bd3786"
            ],
            [
             0.5555555555555556,
             "#d8576b"
            ],
            [
             0.6666666666666666,
             "#ed7953"
            ],
            [
             0.7777777777777778,
             "#fb9f3a"
            ],
            [
             0.8888888888888888,
             "#fdca26"
            ],
            [
             1,
             "#f0f921"
            ]
           ],
           "sequentialminus": [
            [
             0,
             "#0d0887"
            ],
            [
             0.1111111111111111,
             "#46039f"
            ],
            [
             0.2222222222222222,
             "#7201a8"
            ],
            [
             0.3333333333333333,
             "#9c179e"
            ],
            [
             0.4444444444444444,
             "#bd3786"
            ],
            [
             0.5555555555555556,
             "#d8576b"
            ],
            [
             0.6666666666666666,
             "#ed7953"
            ],
            [
             0.7777777777777778,
             "#fb9f3a"
            ],
            [
             0.8888888888888888,
             "#fdca26"
            ],
            [
             1,
             "#f0f921"
            ]
           ]
          },
          "colorway": [
           "#636efa",
           "#EF553B",
           "#00cc96",
           "#ab63fa",
           "#FFA15A",
           "#19d3f3",
           "#FF6692",
           "#B6E880",
           "#FF97FF",
           "#FECB52"
          ],
          "font": {
           "color": "#2a3f5f"
          },
          "geo": {
           "bgcolor": "white",
           "lakecolor": "white",
           "landcolor": "#E5ECF6",
           "showlakes": true,
           "showland": true,
           "subunitcolor": "white"
          },
          "hoverlabel": {
           "align": "left"
          },
          "hovermode": "closest",
          "mapbox": {
           "style": "light"
          },
          "paper_bgcolor": "white",
          "plot_bgcolor": "#E5ECF6",
          "polar": {
           "angularaxis": {
            "gridcolor": "white",
            "linecolor": "white",
            "ticks": ""
           },
           "bgcolor": "#E5ECF6",
           "radialaxis": {
            "gridcolor": "white",
            "linecolor": "white",
            "ticks": ""
           }
          },
          "scene": {
           "xaxis": {
            "backgroundcolor": "#E5ECF6",
            "gridcolor": "white",
            "gridwidth": 2,
            "linecolor": "white",
            "showbackground": true,
            "ticks": "",
            "zerolinecolor": "white"
           },
           "yaxis": {
            "backgroundcolor": "#E5ECF6",
            "gridcolor": "white",
            "gridwidth": 2,
            "linecolor": "white",
            "showbackground": true,
            "ticks": "",
            "zerolinecolor": "white"
           },
           "zaxis": {
            "backgroundcolor": "#E5ECF6",
            "gridcolor": "white",
            "gridwidth": 2,
            "linecolor": "white",
            "showbackground": true,
            "ticks": "",
            "zerolinecolor": "white"
           }
          },
          "shapedefaults": {
           "line": {
            "color": "#2a3f5f"
           }
          },
          "ternary": {
           "aaxis": {
            "gridcolor": "white",
            "linecolor": "white",
            "ticks": ""
           },
           "baxis": {
            "gridcolor": "white",
            "linecolor": "white",
            "ticks": ""
           },
           "bgcolor": "#E5ECF6",
           "caxis": {
            "gridcolor": "white",
            "linecolor": "white",
            "ticks": ""
           }
          },
          "title": {
           "x": 0.05
          },
          "xaxis": {
           "automargin": true,
           "gridcolor": "white",
           "linecolor": "white",
           "ticks": "",
           "title": {
            "standoff": 15
           },
           "zerolinecolor": "white",
           "zerolinewidth": 2
          },
          "yaxis": {
           "automargin": true,
           "gridcolor": "white",
           "linecolor": "white",
           "ticks": "",
           "title": {
            "standoff": 15
           },
           "zerolinecolor": "white",
           "zerolinewidth": 2
          }
         }
        },
        "title": {
         "text": "Диапозон с 14 по 20 акции"
        },
        "xaxis": {
         "anchor": "y",
         "domain": [
          0,
          1
         ],
         "title": {
          "text": "Неделя с начала инвестирования"
         }
        },
        "yaxis": {
         "anchor": "x",
         "domain": [
          0,
          1
         ],
         "title": {
          "text": "Процент"
         }
        }
       }
      }
     },
     "metadata": {},
     "output_type": "display_data"
    }
   ],
   "source": [
    "# Взятие диапазона имен от 14 до 20 из table1\n",
    "selected_names = min_df['Column'].iloc[14:20]\n",
    "\n",
    "# Выбор столбцов в table2 на основе имен из table1 и отображение их данных\n",
    "top_14_20 = stat[selected_names]\n",
    "selected_columns = top_14_20.columns\n",
    "\n",
    "\n",
    "# Построение графика px.line\n",
    "fig = px.line(top_14_20, x=top_14_20.index, y=selected_columns)\n",
    "fig.update_layout(xaxis_title=\"Неделя с начала инвестирования\", yaxis_title=\"Процент\", title=\"Диапозон с 14 по 20 акции\")\n",
    "\n",
    "# Отображение графика\n",
    "fig.show()"
   ]
  },
  {
   "cell_type": "code",
   "execution_count": 12,
   "metadata": {},
   "outputs": [
    {
     "data": {
      "application/vnd.plotly.v1+json": {
       "config": {
        "plotlyServerURL": "https://plot.ly"
       },
       "data": [
        {
         "hovertemplate": "variable=ch_gema<br>index=%{x}<br>value=%{y}<extra></extra>",
         "legendgroup": "ch_gema",
         "line": {
          "color": "#636efa",
          "dash": "solid"
         },
         "marker": {
          "symbol": "circle"
         },
         "mode": "lines",
         "name": "ch_gema",
         "orientation": "v",
         "showlegend": true,
         "type": "scatter",
         "x": [
          0,
          1,
          2,
          3,
          4,
          5,
          6,
          7,
          8,
          9,
          10,
          11,
          12,
          13,
          14,
          15,
          16,
          17,
          18,
          19,
          20,
          21,
          22,
          23,
          24,
          25,
          26,
          27,
          28,
          29,
          30,
          31,
          32,
          33,
          34,
          35,
          36,
          37,
          38,
          39,
          40,
          41,
          42,
          43,
          44,
          45,
          46,
          47,
          48,
          49,
          50,
          51,
          52,
          53,
          54,
          55,
          56,
          57,
          58,
          59,
          60,
          61,
          62,
          63,
          64,
          65,
          66,
          67,
          68,
          69,
          70,
          71,
          72,
          73,
          74,
          75,
          76,
          77,
          78,
          79,
          80,
          81,
          82,
          83,
          84,
          85,
          86,
          87,
          88,
          89,
          90,
          91,
          92,
          93
         ],
         "xaxis": "x",
         "y": [
          0,
          4.65,
          2.44,
          9.36,
          null,
          6.32,
          1.61,
          0.83,
          -0.94,
          -0.28,
          null,
          null,
          9.14,
          null,
          6.48,
          4.88,
          5.54,
          10.69,
          3.93,
          2.83,
          -1.22,
          -3.16,
          -2.49,
          0.17,
          0.28,
          -20.44,
          -16.07,
          -18.89,
          -21.11,
          -22.22,
          -20.83,
          -19.94,
          -22.66,
          -23.71,
          -22.22,
          -23.16,
          -22.22,
          -22.71,
          -24.88,
          -25.21,
          -25.54,
          -25.98,
          -26.04,
          -22.6,
          -24.43,
          -24.1,
          -20.11,
          -14.79,
          -11.41,
          -11.25,
          -4.32,
          -14.85,
          -17.29,
          -12.47,
          -11.91,
          -12.69,
          -12.41,
          -11.91,
          -11.63,
          -10.8,
          -11.36,
          -11.25,
          -12.08,
          -13.96,
          -11.86,
          -11.41,
          -11.36,
          -14.02,
          -14.18,
          -10.25,
          -9.09,
          -8.2,
          -9.92,
          -8.7,
          -8.25,
          -6.76,
          -7.42,
          -5.1,
          -5.71,
          0.78,
          1.39,
          -0.33,
          1.27,
          -2.11,
          -2.38,
          1.5,
          1,
          4.82,
          1.83,
          4.82,
          6.65,
          7.92,
          5.93,
          5.65
         ],
         "yaxis": "y"
        },
        {
         "hovertemplate": "variable=ch_gche<br>index=%{x}<br>value=%{y}<extra></extra>",
         "legendgroup": "ch_gche",
         "line": {
          "color": "#EF553B",
          "dash": "solid"
         },
         "marker": {
          "symbol": "circle"
         },
         "mode": "lines",
         "name": "ch_gche",
         "orientation": "v",
         "showlegend": true,
         "type": "scatter",
         "x": [
          0,
          1,
          2,
          3,
          4,
          5,
          6,
          7,
          8,
          9,
          10,
          11,
          12,
          13,
          14,
          15,
          16,
          17,
          18,
          19,
          20,
          21,
          22,
          23,
          24,
          25,
          26,
          27,
          28,
          29,
          30,
          31,
          32,
          33,
          34,
          35,
          36,
          37,
          38,
          39,
          40,
          41,
          42,
          43,
          44,
          45,
          46,
          47,
          48,
          49,
          50,
          51,
          52,
          53,
          54,
          55,
          56,
          57,
          58,
          59,
          60,
          61,
          62,
          63,
          64,
          65,
          66,
          67,
          68,
          69,
          70,
          71,
          72,
          73,
          74,
          75,
          76,
          77,
          78,
          79,
          80,
          81,
          82,
          83,
          84,
          85,
          86,
          87,
          88,
          89,
          90,
          91,
          92,
          93
         ],
         "xaxis": "x",
         "y": [
          0,
          4.8,
          18.61,
          7.93,
          3.49,
          12.7,
          15.02,
          16.7,
          23.81,
          17.94,
          19.04,
          13.4,
          5.89,
          5.33,
          -5.59,
          4.12,
          -0.02,
          2.87,
          4.54,
          6.25,
          1.71,
          2.22,
          4.12,
          6.01,
          5.24,
          -1.64,
          13.21,
          17.26,
          10.59,
          1.36,
          1.78,
          -0.42,
          1.57,
          0.68,
          1.5,
          -2.62,
          -3.91,
          -5.33,
          -5.17,
          -7.76,
          -7.39,
          -10.2,
          -12.44,
          -7.51,
          -12.11,
          -7.72,
          -2.11,
          -1.85,
          0.38,
          2.46,
          -1.12,
          -12.3,
          -22.41,
          -15.76,
          -11.23,
          -11.93,
          -6.5,
          -10.55,
          -8.09,
          -5.03,
          -4.94,
          -1.78,
          -2.87,
          -6.71,
          -7.25,
          -5.31,
          -3.56,
          -3.42,
          -2.38,
          0.14,
          3.35,
          4.33,
          -1.47,
          2.99,
          3.76,
          2.81,
          2.92,
          1.66,
          4,
          6.01,
          8.65,
          11.11,
          9.07,
          6.25,
          7.29,
          5.59,
          5.35,
          6.04,
          5.84,
          8.33,
          8.28,
          9.24,
          9.36,
          11.11
         ],
         "yaxis": "y"
        },
        {
         "hovertemplate": "variable=ch_nmtp<br>index=%{x}<br>value=%{y}<extra></extra>",
         "legendgroup": "ch_nmtp",
         "line": {
          "color": "#00cc96",
          "dash": "solid"
         },
         "marker": {
          "symbol": "circle"
         },
         "mode": "lines",
         "name": "ch_nmtp",
         "orientation": "v",
         "showlegend": true,
         "type": "scatter",
         "x": [
          0,
          1,
          2,
          3,
          4,
          5,
          6,
          7,
          8,
          9,
          10,
          11,
          12,
          13,
          14,
          15,
          16,
          17,
          18,
          19,
          20,
          21,
          22,
          23,
          24,
          25,
          26,
          27,
          28,
          29,
          30,
          31,
          32,
          33,
          34,
          35,
          36,
          37,
          38,
          39,
          40,
          41,
          42,
          43,
          44,
          45,
          46,
          47,
          48,
          49,
          50,
          51,
          52,
          53,
          54,
          55,
          56,
          57,
          58,
          59,
          60,
          61,
          62,
          63,
          64,
          65,
          66,
          67,
          68,
          69,
          70,
          71,
          72,
          73,
          74,
          75,
          76,
          77,
          78,
          79,
          80,
          81,
          82,
          83,
          84,
          85,
          86,
          87,
          88,
          89,
          90,
          91,
          92,
          93
         ],
         "xaxis": "x",
         "y": [
          0,
          3.11,
          1.77,
          -3.66,
          -4.45,
          -7.07,
          -1.52,
          -3.05,
          -5.36,
          -5.55,
          -10.42,
          -12.61,
          -15.05,
          -14.08,
          -14.99,
          -15.9,
          -16.39,
          -17.73,
          -16.7,
          -17.98,
          -19.5,
          -20.17,
          -22.67,
          -23.22,
          -24.8,
          -49.6,
          -39.06,
          -40.65,
          -36.38,
          -34.8,
          -32.18,
          -32.24,
          -36.14,
          -35.22,
          -31.81,
          -35.65,
          -32.97,
          -31.99,
          -34.19,
          -34.55,
          -32.3,
          -42.23,
          -43.51,
          -41.86,
          -45.16,
          -41.5,
          -40.59,
          -37.6,
          -35.65,
          -37.48,
          -39.06,
          -47.71,
          -53.69,
          -53.56,
          -44.91,
          -45.4,
          -41.68,
          -43.21,
          -41.99,
          -40.59,
          -41.74,
          -43.51,
          -43.69,
          -47.59,
          -47.41,
          -45.16,
          -44.24,
          -42.6,
          -37.96,
          -36.32,
          -34.49,
          -31.63,
          -36.38,
          -33.88,
          -32.66,
          -25.66,
          -24.5,
          -23.1,
          -20.41,
          -17.25,
          -13.28,
          -10.79,
          -9.45,
          -17.79,
          -13.04,
          -10.48,
          -4.63,
          3.47,
          9.45,
          9.87,
          14.63,
          19.5,
          11.52,
          11.88
         ],
         "yaxis": "y"
        },
        {
         "hovertemplate": "variable=ch_iskj<br>index=%{x}<br>value=%{y}<extra></extra>",
         "legendgroup": "ch_iskj",
         "line": {
          "color": "#ab63fa",
          "dash": "solid"
         },
         "marker": {
          "symbol": "circle"
         },
         "mode": "lines",
         "name": "ch_iskj",
         "orientation": "v",
         "showlegend": true,
         "type": "scatter",
         "x": [
          0,
          1,
          2,
          3,
          4,
          5,
          6,
          7,
          8,
          9,
          10,
          11,
          12,
          13,
          14,
          15,
          16,
          17,
          18,
          19,
          20,
          21,
          22,
          23,
          24,
          25,
          26,
          27,
          28,
          29,
          30,
          31,
          32,
          33,
          34,
          35,
          36,
          37,
          38,
          39,
          40,
          41,
          42,
          43,
          44,
          45,
          46,
          47,
          48,
          49,
          50,
          51,
          52,
          53,
          54,
          55,
          56,
          57,
          58,
          59,
          60,
          61,
          62,
          63,
          64,
          65,
          66,
          67,
          68,
          69,
          70,
          71,
          72,
          73,
          74,
          75,
          76,
          77,
          78,
          79,
          80,
          81,
          82,
          83,
          84,
          85,
          86,
          87,
          88,
          89,
          90,
          91,
          92,
          93
         ],
         "xaxis": "x",
         "y": [
          0,
          -2.61,
          -3.22,
          -4.47,
          -3.88,
          -4.65,
          -5.06,
          -7.48,
          -11.32,
          -8.83,
          34.1,
          43.66,
          38.04,
          23.54,
          25.83,
          31.1,
          30.11,
          23.96,
          22.99,
          21.8,
          8.97,
          6.55,
          -0.14,
          11.34,
          9.87,
          -20.16,
          -8.62,
          -8.62,
          -17.47,
          -22.32,
          -18.57,
          -25.21,
          -28.13,
          -19.84,
          -24.59,
          -27.61,
          -27.72,
          -31.6,
          -33.76,
          -39.28,
          -35.76,
          -37.77,
          -38.29,
          -32.03,
          -26.42,
          -25.69,
          -12.37,
          -15.09,
          -10.13,
          -12.07,
          -13.28,
          -33,
          -47.01,
          -41.12,
          -37.19,
          -37.84,
          -29.87,
          -28.75,
          -30.05,
          -28.86,
          -30.15,
          -29.61,
          -30.37,
          -34.19,
          -32.57,
          -33.05,
          -32.59,
          -27.22,
          -25.13,
          -13.91,
          0.1,
          -1.28,
          -9.14,
          -3.98,
          19.37,
          15.87,
          23.4,
          24.44,
          25.47,
          24.5,
          26.62,
          27.2,
          28.97,
          9.01,
          13.88,
          18.37,
          18.42,
          11.34,
          12.91,
          14.36,
          12.33,
          12.22,
          11.14,
          14.9
         ],
         "yaxis": "y"
        },
        {
         "hovertemplate": "variable=ch_mrkp<br>index=%{x}<br>value=%{y}<extra></extra>",
         "legendgroup": "ch_mrkp",
         "line": {
          "color": "#FFA15A",
          "dash": "solid"
         },
         "marker": {
          "symbol": "circle"
         },
         "mode": "lines",
         "name": "ch_mrkp",
         "orientation": "v",
         "showlegend": true,
         "type": "scatter",
         "x": [
          0,
          1,
          2,
          3,
          4,
          5,
          6,
          7,
          8,
          9,
          10,
          11,
          12,
          13,
          14,
          15,
          16,
          17,
          18,
          19,
          20,
          21,
          22,
          23,
          24,
          25,
          26,
          27,
          28,
          29,
          30,
          31,
          32,
          33,
          34,
          35,
          36,
          37,
          38,
          39,
          40,
          41,
          42,
          43,
          44,
          45,
          46,
          47,
          48,
          49,
          50,
          51,
          52,
          53,
          54,
          55,
          56,
          57,
          58,
          59,
          60,
          61,
          62,
          63,
          64,
          65,
          66,
          67,
          68,
          69,
          70,
          71,
          72,
          73,
          74,
          75,
          76,
          77,
          78,
          79,
          80,
          81,
          82,
          83,
          84,
          85,
          86,
          87,
          88,
          89,
          90,
          91,
          92,
          93
         ],
         "xaxis": "x",
         "y": [
          0,
          6.05,
          6.48,
          1.28,
          0.16,
          1.28,
          8.07,
          4.73,
          3.49,
          3.96,
          2.4,
          1.4,
          -4.42,
          -4.19,
          -4.3,
          -7.64,
          -8.45,
          -10.66,
          -6.86,
          -7.41,
          -12.18,
          -14.5,
          -15.24,
          -13.53,
          -16.63,
          -38.35,
          -37.3,
          -35.71,
          -38.46,
          -40.64,
          -37.96,
          -29.86,
          -27.49,
          -22.68,
          -20.86,
          -17.76,
          -19.58,
          -11.83,
          -25.94,
          -33.46,
          -30.17,
          -31.52,
          -37.18,
          -34.16,
          -38.35,
          -35.36,
          -34.16,
          -34.16,
          -33.5,
          -32.73,
          -31.91,
          -39.32,
          -44.9,
          -44.94,
          -39.12,
          -36.29,
          -29.51,
          -28.46,
          -27.37,
          -25.2,
          -17.18,
          -15.66,
          -15.01,
          -15.63,
          -13.26,
          -3.96,
          -21.09,
          -18.73,
          -16.87,
          -19.15,
          -20.55,
          -20.09,
          -22.3,
          -22.41,
          -20.9,
          -20.05,
          -20.78,
          -19.39,
          -19.66,
          -16.4,
          -13.69,
          -14.23,
          -9.85,
          -17.45,
          -18.26,
          -16.98,
          -14.19,
          -9.03,
          -8.41,
          -5.47,
          -6.32,
          -1.86,
          9.46,
          17.99
         ],
         "yaxis": "y"
        },
        {
         "hovertemplate": "variable=ch_belu<br>index=%{x}<br>value=%{y}<extra></extra>",
         "legendgroup": "ch_belu",
         "line": {
          "color": "#19d3f3",
          "dash": "solid"
         },
         "marker": {
          "symbol": "circle"
         },
         "mode": "lines",
         "name": "ch_belu",
         "orientation": "v",
         "showlegend": true,
         "type": "scatter",
         "x": [
          0,
          1,
          2,
          3,
          4,
          5,
          6,
          7,
          8,
          9,
          10,
          11,
          12,
          13,
          14,
          15,
          16,
          17,
          18,
          19,
          20,
          21,
          22,
          23,
          24,
          25,
          26,
          27,
          28,
          29,
          30,
          31,
          32,
          33,
          34,
          35,
          36,
          37,
          38,
          39,
          40,
          41,
          42,
          43,
          44,
          45,
          46,
          47,
          48,
          49,
          50,
          51,
          52,
          53,
          54,
          55,
          56,
          57,
          58,
          59,
          60,
          61,
          62,
          63,
          64,
          65,
          66,
          67,
          68,
          69,
          70,
          71,
          72,
          73,
          74,
          75,
          76,
          77,
          78,
          79,
          80,
          81,
          82,
          83,
          84,
          85,
          86,
          87,
          88,
          89,
          90,
          91,
          92,
          93
         ],
         "xaxis": "x",
         "y": [
          0,
          -3.32,
          1.89,
          4.17,
          0.94,
          2.74,
          7.09,
          16.29,
          20.24,
          23.44,
          16.29,
          13,
          6.27,
          11.81,
          0.79,
          2.68,
          4.26,
          1.98,
          2.07,
          2.92,
          -0.58,
          -0.58,
          -3.99,
          -3.71,
          -8.92,
          -32.15,
          -17.5,
          -20.64,
          -24.14,
          -30.23,
          -27.52,
          -27.55,
          -23.04,
          -24.23,
          -27.43,
          -30.75,
          -29.71,
          -30.62,
          -28.61,
          -29.44,
          -23.29,
          -24.69,
          -25.91,
          -24.02,
          -26.03,
          -24.44,
          -21.4,
          -14.52,
          -7.52,
          -8.71,
          -8.37,
          -20,
          -22.34,
          -18.11,
          -18.23,
          -15.49,
          -14.49,
          -16.01,
          -15.04,
          -15.65,
          -16.38,
          -13.09,
          -13.97,
          -16.99,
          -16.83,
          -15.74,
          -13.61,
          -12.36,
          -14.7,
          -14,
          -13.36,
          -10.81,
          -14.16,
          -12.15,
          -8.31,
          2.92,
          8.58,
          18.54,
          22.89,
          34.86,
          36.65,
          39.97,
          27,
          21.25,
          24.84,
          26.33,
          27.85,
          27.12,
          28.01,
          28.25,
          27,
          27.73,
          28.77,
          38.14
         ],
         "yaxis": "y"
        }
       ],
       "layout": {
        "legend": {
         "title": {
          "text": "variable"
         },
         "tracegroupgap": 0
        },
        "margin": {
         "t": 60
        },
        "template": {
         "data": {
          "bar": [
           {
            "error_x": {
             "color": "#2a3f5f"
            },
            "error_y": {
             "color": "#2a3f5f"
            },
            "marker": {
             "line": {
              "color": "#E5ECF6",
              "width": 0.5
             },
             "pattern": {
              "fillmode": "overlay",
              "size": 10,
              "solidity": 0.2
             }
            },
            "type": "bar"
           }
          ],
          "barpolar": [
           {
            "marker": {
             "line": {
              "color": "#E5ECF6",
              "width": 0.5
             },
             "pattern": {
              "fillmode": "overlay",
              "size": 10,
              "solidity": 0.2
             }
            },
            "type": "barpolar"
           }
          ],
          "carpet": [
           {
            "aaxis": {
             "endlinecolor": "#2a3f5f",
             "gridcolor": "white",
             "linecolor": "white",
             "minorgridcolor": "white",
             "startlinecolor": "#2a3f5f"
            },
            "baxis": {
             "endlinecolor": "#2a3f5f",
             "gridcolor": "white",
             "linecolor": "white",
             "minorgridcolor": "white",
             "startlinecolor": "#2a3f5f"
            },
            "type": "carpet"
           }
          ],
          "choropleth": [
           {
            "colorbar": {
             "outlinewidth": 0,
             "ticks": ""
            },
            "type": "choropleth"
           }
          ],
          "contour": [
           {
            "colorbar": {
             "outlinewidth": 0,
             "ticks": ""
            },
            "colorscale": [
             [
              0,
              "#0d0887"
             ],
             [
              0.1111111111111111,
              "#46039f"
             ],
             [
              0.2222222222222222,
              "#7201a8"
             ],
             [
              0.3333333333333333,
              "#9c179e"
             ],
             [
              0.4444444444444444,
              "#bd3786"
             ],
             [
              0.5555555555555556,
              "#d8576b"
             ],
             [
              0.6666666666666666,
              "#ed7953"
             ],
             [
              0.7777777777777778,
              "#fb9f3a"
             ],
             [
              0.8888888888888888,
              "#fdca26"
             ],
             [
              1,
              "#f0f921"
             ]
            ],
            "type": "contour"
           }
          ],
          "contourcarpet": [
           {
            "colorbar": {
             "outlinewidth": 0,
             "ticks": ""
            },
            "type": "contourcarpet"
           }
          ],
          "heatmap": [
           {
            "colorbar": {
             "outlinewidth": 0,
             "ticks": ""
            },
            "colorscale": [
             [
              0,
              "#0d0887"
             ],
             [
              0.1111111111111111,
              "#46039f"
             ],
             [
              0.2222222222222222,
              "#7201a8"
             ],
             [
              0.3333333333333333,
              "#9c179e"
             ],
             [
              0.4444444444444444,
              "#bd3786"
             ],
             [
              0.5555555555555556,
              "#d8576b"
             ],
             [
              0.6666666666666666,
              "#ed7953"
             ],
             [
              0.7777777777777778,
              "#fb9f3a"
             ],
             [
              0.8888888888888888,
              "#fdca26"
             ],
             [
              1,
              "#f0f921"
             ]
            ],
            "type": "heatmap"
           }
          ],
          "heatmapgl": [
           {
            "colorbar": {
             "outlinewidth": 0,
             "ticks": ""
            },
            "colorscale": [
             [
              0,
              "#0d0887"
             ],
             [
              0.1111111111111111,
              "#46039f"
             ],
             [
              0.2222222222222222,
              "#7201a8"
             ],
             [
              0.3333333333333333,
              "#9c179e"
             ],
             [
              0.4444444444444444,
              "#bd3786"
             ],
             [
              0.5555555555555556,
              "#d8576b"
             ],
             [
              0.6666666666666666,
              "#ed7953"
             ],
             [
              0.7777777777777778,
              "#fb9f3a"
             ],
             [
              0.8888888888888888,
              "#fdca26"
             ],
             [
              1,
              "#f0f921"
             ]
            ],
            "type": "heatmapgl"
           }
          ],
          "histogram": [
           {
            "marker": {
             "pattern": {
              "fillmode": "overlay",
              "size": 10,
              "solidity": 0.2
             }
            },
            "type": "histogram"
           }
          ],
          "histogram2d": [
           {
            "colorbar": {
             "outlinewidth": 0,
             "ticks": ""
            },
            "colorscale": [
             [
              0,
              "#0d0887"
             ],
             [
              0.1111111111111111,
              "#46039f"
             ],
             [
              0.2222222222222222,
              "#7201a8"
             ],
             [
              0.3333333333333333,
              "#9c179e"
             ],
             [
              0.4444444444444444,
              "#bd3786"
             ],
             [
              0.5555555555555556,
              "#d8576b"
             ],
             [
              0.6666666666666666,
              "#ed7953"
             ],
             [
              0.7777777777777778,
              "#fb9f3a"
             ],
             [
              0.8888888888888888,
              "#fdca26"
             ],
             [
              1,
              "#f0f921"
             ]
            ],
            "type": "histogram2d"
           }
          ],
          "histogram2dcontour": [
           {
            "colorbar": {
             "outlinewidth": 0,
             "ticks": ""
            },
            "colorscale": [
             [
              0,
              "#0d0887"
             ],
             [
              0.1111111111111111,
              "#46039f"
             ],
             [
              0.2222222222222222,
              "#7201a8"
             ],
             [
              0.3333333333333333,
              "#9c179e"
             ],
             [
              0.4444444444444444,
              "#bd3786"
             ],
             [
              0.5555555555555556,
              "#d8576b"
             ],
             [
              0.6666666666666666,
              "#ed7953"
             ],
             [
              0.7777777777777778,
              "#fb9f3a"
             ],
             [
              0.8888888888888888,
              "#fdca26"
             ],
             [
              1,
              "#f0f921"
             ]
            ],
            "type": "histogram2dcontour"
           }
          ],
          "mesh3d": [
           {
            "colorbar": {
             "outlinewidth": 0,
             "ticks": ""
            },
            "type": "mesh3d"
           }
          ],
          "parcoords": [
           {
            "line": {
             "colorbar": {
              "outlinewidth": 0,
              "ticks": ""
             }
            },
            "type": "parcoords"
           }
          ],
          "pie": [
           {
            "automargin": true,
            "type": "pie"
           }
          ],
          "scatter": [
           {
            "fillpattern": {
             "fillmode": "overlay",
             "size": 10,
             "solidity": 0.2
            },
            "type": "scatter"
           }
          ],
          "scatter3d": [
           {
            "line": {
             "colorbar": {
              "outlinewidth": 0,
              "ticks": ""
             }
            },
            "marker": {
             "colorbar": {
              "outlinewidth": 0,
              "ticks": ""
             }
            },
            "type": "scatter3d"
           }
          ],
          "scattercarpet": [
           {
            "marker": {
             "colorbar": {
              "outlinewidth": 0,
              "ticks": ""
             }
            },
            "type": "scattercarpet"
           }
          ],
          "scattergeo": [
           {
            "marker": {
             "colorbar": {
              "outlinewidth": 0,
              "ticks": ""
             }
            },
            "type": "scattergeo"
           }
          ],
          "scattergl": [
           {
            "marker": {
             "colorbar": {
              "outlinewidth": 0,
              "ticks": ""
             }
            },
            "type": "scattergl"
           }
          ],
          "scattermapbox": [
           {
            "marker": {
             "colorbar": {
              "outlinewidth": 0,
              "ticks": ""
             }
            },
            "type": "scattermapbox"
           }
          ],
          "scatterpolar": [
           {
            "marker": {
             "colorbar": {
              "outlinewidth": 0,
              "ticks": ""
             }
            },
            "type": "scatterpolar"
           }
          ],
          "scatterpolargl": [
           {
            "marker": {
             "colorbar": {
              "outlinewidth": 0,
              "ticks": ""
             }
            },
            "type": "scatterpolargl"
           }
          ],
          "scatterternary": [
           {
            "marker": {
             "colorbar": {
              "outlinewidth": 0,
              "ticks": ""
             }
            },
            "type": "scatterternary"
           }
          ],
          "surface": [
           {
            "colorbar": {
             "outlinewidth": 0,
             "ticks": ""
            },
            "colorscale": [
             [
              0,
              "#0d0887"
             ],
             [
              0.1111111111111111,
              "#46039f"
             ],
             [
              0.2222222222222222,
              "#7201a8"
             ],
             [
              0.3333333333333333,
              "#9c179e"
             ],
             [
              0.4444444444444444,
              "#bd3786"
             ],
             [
              0.5555555555555556,
              "#d8576b"
             ],
             [
              0.6666666666666666,
              "#ed7953"
             ],
             [
              0.7777777777777778,
              "#fb9f3a"
             ],
             [
              0.8888888888888888,
              "#fdca26"
             ],
             [
              1,
              "#f0f921"
             ]
            ],
            "type": "surface"
           }
          ],
          "table": [
           {
            "cells": {
             "fill": {
              "color": "#EBF0F8"
             },
             "line": {
              "color": "white"
             }
            },
            "header": {
             "fill": {
              "color": "#C8D4E3"
             },
             "line": {
              "color": "white"
             }
            },
            "type": "table"
           }
          ]
         },
         "layout": {
          "annotationdefaults": {
           "arrowcolor": "#2a3f5f",
           "arrowhead": 0,
           "arrowwidth": 1
          },
          "autotypenumbers": "strict",
          "coloraxis": {
           "colorbar": {
            "outlinewidth": 0,
            "ticks": ""
           }
          },
          "colorscale": {
           "diverging": [
            [
             0,
             "#8e0152"
            ],
            [
             0.1,
             "#c51b7d"
            ],
            [
             0.2,
             "#de77ae"
            ],
            [
             0.3,
             "#f1b6da"
            ],
            [
             0.4,
             "#fde0ef"
            ],
            [
             0.5,
             "#f7f7f7"
            ],
            [
             0.6,
             "#e6f5d0"
            ],
            [
             0.7,
             "#b8e186"
            ],
            [
             0.8,
             "#7fbc41"
            ],
            [
             0.9,
             "#4d9221"
            ],
            [
             1,
             "#276419"
            ]
           ],
           "sequential": [
            [
             0,
             "#0d0887"
            ],
            [
             0.1111111111111111,
             "#46039f"
            ],
            [
             0.2222222222222222,
             "#7201a8"
            ],
            [
             0.3333333333333333,
             "#9c179e"
            ],
            [
             0.4444444444444444,
             "#bd3786"
            ],
            [
             0.5555555555555556,
             "#d8576b"
            ],
            [
             0.6666666666666666,
             "#ed7953"
            ],
            [
             0.7777777777777778,
             "#fb9f3a"
            ],
            [
             0.8888888888888888,
             "#fdca26"
            ],
            [
             1,
             "#f0f921"
            ]
           ],
           "sequentialminus": [
            [
             0,
             "#0d0887"
            ],
            [
             0.1111111111111111,
             "#46039f"
            ],
            [
             0.2222222222222222,
             "#7201a8"
            ],
            [
             0.3333333333333333,
             "#9c179e"
            ],
            [
             0.4444444444444444,
             "#bd3786"
            ],
            [
             0.5555555555555556,
             "#d8576b"
            ],
            [
             0.6666666666666666,
             "#ed7953"
            ],
            [
             0.7777777777777778,
             "#fb9f3a"
            ],
            [
             0.8888888888888888,
             "#fdca26"
            ],
            [
             1,
             "#f0f921"
            ]
           ]
          },
          "colorway": [
           "#636efa",
           "#EF553B",
           "#00cc96",
           "#ab63fa",
           "#FFA15A",
           "#19d3f3",
           "#FF6692",
           "#B6E880",
           "#FF97FF",
           "#FECB52"
          ],
          "font": {
           "color": "#2a3f5f"
          },
          "geo": {
           "bgcolor": "white",
           "lakecolor": "white",
           "landcolor": "#E5ECF6",
           "showlakes": true,
           "showland": true,
           "subunitcolor": "white"
          },
          "hoverlabel": {
           "align": "left"
          },
          "hovermode": "closest",
          "mapbox": {
           "style": "light"
          },
          "paper_bgcolor": "white",
          "plot_bgcolor": "#E5ECF6",
          "polar": {
           "angularaxis": {
            "gridcolor": "white",
            "linecolor": "white",
            "ticks": ""
           },
           "bgcolor": "#E5ECF6",
           "radialaxis": {
            "gridcolor": "white",
            "linecolor": "white",
            "ticks": ""
           }
          },
          "scene": {
           "xaxis": {
            "backgroundcolor": "#E5ECF6",
            "gridcolor": "white",
            "gridwidth": 2,
            "linecolor": "white",
            "showbackground": true,
            "ticks": "",
            "zerolinecolor": "white"
           },
           "yaxis": {
            "backgroundcolor": "#E5ECF6",
            "gridcolor": "white",
            "gridwidth": 2,
            "linecolor": "white",
            "showbackground": true,
            "ticks": "",
            "zerolinecolor": "white"
           },
           "zaxis": {
            "backgroundcolor": "#E5ECF6",
            "gridcolor": "white",
            "gridwidth": 2,
            "linecolor": "white",
            "showbackground": true,
            "ticks": "",
            "zerolinecolor": "white"
           }
          },
          "shapedefaults": {
           "line": {
            "color": "#2a3f5f"
           }
          },
          "ternary": {
           "aaxis": {
            "gridcolor": "white",
            "linecolor": "white",
            "ticks": ""
           },
           "baxis": {
            "gridcolor": "white",
            "linecolor": "white",
            "ticks": ""
           },
           "bgcolor": "#E5ECF6",
           "caxis": {
            "gridcolor": "white",
            "linecolor": "white",
            "ticks": ""
           }
          },
          "title": {
           "x": 0.05
          },
          "xaxis": {
           "automargin": true,
           "gridcolor": "white",
           "linecolor": "white",
           "ticks": "",
           "title": {
            "standoff": 15
           },
           "zerolinecolor": "white",
           "zerolinewidth": 2
          },
          "yaxis": {
           "automargin": true,
           "gridcolor": "white",
           "linecolor": "white",
           "ticks": "",
           "title": {
            "standoff": 15
           },
           "zerolinecolor": "white",
           "zerolinewidth": 2
          }
         }
        },
        "title": {
         "text": "Диапозон с 21 по 27 акции"
        },
        "xaxis": {
         "anchor": "y",
         "domain": [
          0,
          1
         ],
         "title": {
          "text": "Неделя с начала инвестирования"
         }
        },
        "yaxis": {
         "anchor": "x",
         "domain": [
          0,
          1
         ],
         "title": {
          "text": "Процент"
         }
        }
       }
      }
     },
     "metadata": {},
     "output_type": "display_data"
    }
   ],
   "source": [
    "# Взятие диапазона имен от 21 до 27 из table1\n",
    "selected_names = min_df['Column'].iloc[21:27]\n",
    "\n",
    "# Выбор столбцов в table2 на основе имен из table1 и отображение их данных\n",
    "top_21_27 = stat[selected_names]\n",
    "selected_columns = top_21_27.columns\n",
    "\n",
    "\n",
    "# Построение графика px.line\n",
    "fig = px.line(top_21_27, x=top_21_27.index, y=selected_columns)\n",
    "fig.update_layout(xaxis_title=\"Неделя с начала инвестирования\", yaxis_title=\"Процент\", title=\"Диапозон с 21 по 27 акции\")\n",
    "\n",
    "# Отображение графика\n",
    "fig.show()"
   ]
  },
  {
   "cell_type": "code",
   "execution_count": 13,
   "metadata": {},
   "outputs": [
    {
     "data": {
      "application/vnd.plotly.v1+json": {
       "config": {
        "plotlyServerURL": "https://plot.ly"
       },
       "data": [
        {
         "hovertemplate": "variable=ch_phor<br>index=%{x}<br>value=%{y}<extra></extra>",
         "legendgroup": "ch_phor",
         "line": {
          "color": "#636efa",
          "dash": "solid"
         },
         "marker": {
          "symbol": "circle"
         },
         "mode": "lines",
         "name": "ch_phor",
         "orientation": "v",
         "showlegend": true,
         "type": "scatter",
         "x": [
          0,
          1,
          2,
          3,
          4,
          5,
          6,
          7,
          8,
          9,
          10,
          11,
          12,
          13,
          14,
          15,
          16,
          17,
          18,
          19,
          20,
          21,
          22,
          23,
          24,
          25,
          26,
          27,
          28,
          29,
          30,
          31,
          32,
          33,
          34,
          35,
          36,
          37,
          38,
          39,
          40,
          41,
          42,
          43,
          44,
          45,
          46,
          47,
          48,
          49,
          50,
          51,
          52,
          53,
          54,
          55,
          56,
          57,
          58,
          59,
          60,
          61,
          62,
          63,
          64,
          65,
          66,
          67,
          68,
          69,
          70,
          71,
          72,
          73,
          74,
          75,
          76,
          77,
          78,
          79,
          80,
          81,
          82,
          83,
          84,
          85,
          86,
          87,
          88,
          89,
          90,
          91,
          92,
          93
         ],
         "xaxis": "x",
         "y": [
          0,
          2.14,
          4.51,
          6.86,
          8.28,
          21.44,
          25.57,
          20.7,
          18.59,
          23.2,
          20.34,
          21.63,
          19.18,
          17.21,
          18.44,
          20.28,
          18.95,
          24.11,
          21.4,
          22.16,
          14.29,
          16,
          11.52,
          21.66,
          23.84,
          6.16,
          56.65,
          47.33,
          44.37,
          48.18,
          50.44,
          57.09,
          63.84,
          57.71,
          54.36,
          49.17,
          53.73,
          59.67,
          67.42,
          65.11,
          67.85,
          57.13,
          54.23,
          57.51,
          44.94,
          56.86,
          70.94,
          68.9,
          69.12,
          64.48,
          61.73,
          52.16,
          33.47,
          20.34,
          21.82,
          29.34,
          32.81,
          40.3,
          36.6,
          36.16,
          35.8,
          34.99,
          34.53,
          28.75,
          31.33,
          35.27,
          37.32,
          34.7,
          33.83,
          35.82,
          41.07,
          44.83,
          35.33,
          41.3,
          50.08,
          49.05,
          49.43,
          56.12,
          58.85,
          52.69,
          52.1,
          55.17,
          54.02,
          49.47,
          50.17,
          54.28,
          59.82,
          59.89,
          58.15,
          58.26,
          56.5,
          54.74,
          56.46,
          54.91
         ],
         "yaxis": "y"
        },
        {
         "hovertemplate": "variable=ch_krsb<br>index=%{x}<br>value=%{y}<extra></extra>",
         "legendgroup": "ch_krsb",
         "line": {
          "color": "#EF553B",
          "dash": "solid"
         },
         "marker": {
          "symbol": "circle"
         },
         "mode": "lines",
         "name": "ch_krsb",
         "orientation": "v",
         "showlegend": true,
         "type": "scatter",
         "x": [
          0,
          1,
          2,
          3,
          4,
          5,
          6,
          7,
          8,
          9,
          10,
          11,
          12,
          13,
          14,
          15,
          16,
          17,
          18,
          19,
          20,
          21,
          22,
          23,
          24,
          25,
          26,
          27,
          28,
          29,
          30,
          31,
          32,
          33,
          34,
          35,
          36,
          37,
          38,
          39,
          40,
          41,
          42,
          43,
          44,
          45,
          46,
          47,
          48,
          49,
          50,
          51,
          52,
          53,
          54,
          55,
          56,
          57,
          58,
          59,
          60,
          61,
          62,
          63,
          64,
          65,
          66,
          67,
          68,
          69,
          70,
          71,
          72,
          73,
          74,
          75,
          76,
          77,
          78,
          79,
          80,
          81,
          82,
          83,
          84,
          85,
          86,
          87,
          88,
          89,
          90,
          91,
          92,
          93
         ],
         "xaxis": "x",
         "y": [
          0,
          -0.77,
          -0.77,
          -1.21,
          -1.1,
          -2.41,
          5.15,
          1.1,
          1.43,
          0.55,
          -1.54,
          -4.39,
          -5.04,
          -3.51,
          -7.89,
          -7.89,
          -9.21,
          -5.37,
          -4.28,
          -4.39,
          -8.66,
          -8.99,
          -7.02,
          -8,
          -11.62,
          -34.32,
          -14.36,
          -13.93,
          -1.43,
          -8.22,
          -9.32,
          -0.88,
          1.32,
          8.22,
          9.87,
          -25.44,
          -18.31,
          -19.19,
          -20.29,
          -21.93,
          -21.6,
          -21.49,
          -22.26,
          -21.6,
          -19.08,
          -16.01,
          -10.53,
          -11.18,
          -12.83,
          -10.86,
          -11.84,
          -20.94,
          -23.25,
          -21.71,
          -19.52,
          -17.32,
          -12.28,
          -8.99,
          -8.55,
          -8.77,
          -9.54,
          -9.76,
          -8.11,
          -7.79,
          -6.14,
          -4.61,
          -4.06,
          0.66,
          0.88,
          0.88,
          1.64,
          2.85,
          0.22,
          1.1,
          6.36,
          9.43,
          7.89,
          10.86,
          14.58,
          30.04,
          32.68,
          40.46,
          51.86,
          50.22,
          63.93,
          69.96,
          64.25,
          42.98,
          49.56,
          53.84,
          57.46,
          59.43,
          60.64,
          65.13
         ],
         "yaxis": "y"
        },
        {
         "hovertemplate": "variable=ch_kazt<br>index=%{x}<br>value=%{y}<extra></extra>",
         "legendgroup": "ch_kazt",
         "line": {
          "color": "#00cc96",
          "dash": "solid"
         },
         "marker": {
          "symbol": "circle"
         },
         "mode": "lines",
         "name": "ch_kazt",
         "orientation": "v",
         "showlegend": true,
         "type": "scatter",
         "x": [
          0,
          1,
          2,
          3,
          4,
          5,
          6,
          7,
          8,
          9,
          10,
          11,
          12,
          13,
          14,
          15,
          16,
          17,
          18,
          19,
          20,
          21,
          22,
          23,
          24,
          25,
          26,
          27,
          28,
          29,
          30,
          31,
          32,
          33,
          34,
          35,
          36,
          37,
          38,
          39,
          40,
          41,
          42,
          43,
          44,
          45,
          46,
          47,
          48,
          49,
          50,
          51,
          52,
          53,
          54,
          55,
          56,
          57,
          58,
          59,
          60,
          61,
          62,
          63,
          64,
          65,
          66,
          67,
          68,
          69,
          70,
          71,
          72,
          73,
          74,
          75,
          76,
          77,
          78,
          79,
          80,
          81,
          82,
          83,
          84,
          85,
          86,
          87,
          88,
          89,
          90,
          91,
          92,
          93
         ],
         "xaxis": "x",
         "y": [
          0,
          4.6,
          -1.24,
          7.08,
          1.81,
          5.22,
          -2.38,
          3.41,
          3.41,
          2.12,
          -3.52,
          -10.86,
          -0.88,
          -6.41,
          -7.03,
          -2.07,
          -4.08,
          0.57,
          -1.24,
          -3.93,
          -10.5,
          -7.19,
          -4.86,
          -0.98,
          -4.86,
          -25.03,
          16.86,
          15.82,
          9.1,
          7.24,
          7.34,
          12.05,
          13.86,
          13.86,
          7.24,
          2.69,
          3.62,
          8.01,
          5.43,
          3.57,
          3.57,
          -1.96,
          -3,
          -2.28,
          -3.1,
          1.81,
          3.93,
          13.19,
          12.56,
          11.89,
          9.88,
          3.46,
          -1.6,
          0.31,
          3.93,
          3.62,
          5.38,
          4.76,
          9.36,
          9.77,
          10.34,
          10.55,
          11.38,
          11.32,
          17.37,
          16.6,
          16.34,
          21.51,
          25.34,
          26.94,
          30.71,
          34.33,
          31.49,
          34.69,
          38.83,
          43.95,
          41.21,
          50.62,
          54.86,
          74.72,
          72.54,
          73.47,
          72.96,
          66.18,
          85.88,
          76.47,
          77.46,
          72.49,
          70.06,
          68.51,
          64.68,
          66.75,
          64.17,
          66.96
         ],
         "yaxis": "y"
        },
        {
         "hovertemplate": "variable=ch_abrd<br>index=%{x}<br>value=%{y}<extra></extra>",
         "legendgroup": "ch_abrd",
         "line": {
          "color": "#ab63fa",
          "dash": "solid"
         },
         "marker": {
          "symbol": "circle"
         },
         "mode": "lines",
         "name": "ch_abrd",
         "orientation": "v",
         "showlegend": true,
         "type": "scatter",
         "x": [
          0,
          1,
          2,
          3,
          4,
          5,
          6,
          7,
          8,
          9,
          10,
          11,
          12,
          13,
          14,
          15,
          16,
          17,
          18,
          19,
          20,
          21,
          22,
          23,
          24,
          25,
          26,
          27,
          28,
          29,
          30,
          31,
          32,
          33,
          34,
          35,
          36,
          37,
          38,
          39,
          40,
          41,
          42,
          43,
          44,
          45,
          46,
          47,
          48,
          49,
          50,
          51,
          52,
          53,
          54,
          55,
          56,
          57,
          58,
          59,
          60,
          61,
          62,
          63,
          64,
          65,
          66,
          67,
          68,
          69,
          70,
          71,
          72,
          73,
          74,
          75,
          76,
          77,
          78,
          79,
          80,
          81,
          82,
          83,
          84,
          85,
          86,
          87,
          88,
          89,
          90,
          91,
          92,
          93
         ],
         "xaxis": "x",
         "y": [
          0,
          -1.28,
          -1.28,
          -1.53,
          -1.28,
          -0.77,
          0.51,
          8.7,
          4.09,
          2.81,
          2.3,
          0.77,
          1.28,
          0,
          -0.26,
          -0.77,
          0,
          -1.02,
          -1.28,
          -2.05,
          -6.91,
          -12.02,
          -12.28,
          -12.79,
          -16.62,
          -31.71,
          -6.14,
          -7.93,
          -11.51,
          -12.53,
          -8.7,
          -10.23,
          -11.51,
          -9.72,
          -11.76,
          -13.81,
          -14.07,
          -13.3,
          -11.25,
          -12.28,
          -10.49,
          -11.25,
          -12.02,
          -11.25,
          -12.02,
          -11.25,
          -6.91,
          -6.91,
          -0.51,
          -1.53,
          -2.05,
          -14.58,
          -16.88,
          -14.83,
          -11.76,
          -7.93,
          -7.93,
          -8.44,
          -7.93,
          -7.67,
          -8.18,
          -4.09,
          -4.09,
          -5.37,
          -2.05,
          -2.81,
          -1.79,
          0,
          -0.26,
          0.26,
          3.07,
          4.6,
          -0.26,
          2.81,
          3.58,
          4.86,
          5.12,
          5.63,
          9.72,
          30.69,
          29.41,
          30.69,
          31.46,
          27.88,
          32.48,
          40.36,
          41.07,
          43.63,
          41.18,
          44.65,
          69.62,
          70.74,
          71.46,
          70.54
         ],
         "yaxis": "y"
        },
        {
         "hovertemplate": "variable=ch_kmaz<br>index=%{x}<br>value=%{y}<extra></extra>",
         "legendgroup": "ch_kmaz",
         "line": {
          "color": "#FFA15A",
          "dash": "solid"
         },
         "marker": {
          "symbol": "circle"
         },
         "mode": "lines",
         "name": "ch_kmaz",
         "orientation": "v",
         "showlegend": true,
         "type": "scatter",
         "x": [
          0,
          1,
          2,
          3,
          4,
          5,
          6,
          7,
          8,
          9,
          10,
          11,
          12,
          13,
          14,
          15,
          16,
          17,
          18,
          19,
          20,
          21,
          22,
          23,
          24,
          25,
          26,
          27,
          28,
          29,
          30,
          31,
          32,
          33,
          34,
          35,
          36,
          37,
          38,
          39,
          40,
          41,
          42,
          43,
          44,
          45,
          46,
          47,
          48,
          49,
          50,
          51,
          52,
          53,
          54,
          55,
          56,
          57,
          58,
          59,
          60,
          61,
          62,
          63,
          64,
          65,
          66,
          67,
          68,
          69,
          70,
          71,
          72,
          73,
          74,
          75,
          76,
          77,
          78,
          79,
          80,
          81,
          82,
          83,
          84,
          85,
          86,
          87,
          88,
          89,
          90,
          91,
          92,
          93
         ],
         "xaxis": "x",
         "y": [
          0,
          -6.17,
          -6.17,
          -6.52,
          -9.52,
          -11.89,
          -0.18,
          7.14,
          2.64,
          3.88,
          8.28,
          3.61,
          -2.73,
          -5.73,
          -8.55,
          -6.26,
          -6.61,
          -7.49,
          -5.55,
          -5.64,
          -6.34,
          -6.78,
          -8.72,
          -6.52,
          -7.75,
          -28.19,
          -6.7,
          -10.75,
          -11.81,
          -8.72,
          -9.25,
          -10.04,
          -11.19,
          -10.13,
          -11.63,
          -13.39,
          -14.45,
          -14.63,
          -17,
          -21.32,
          -20.26,
          -24.67,
          -28.46,
          -23.61,
          -27.84,
          -20.18,
          -20.62,
          -20.62,
          -20.35,
          -18.77,
          -17.36,
          -27.14,
          -32.25,
          -32.25,
          -26.52,
          -23.79,
          -22.29,
          -23.52,
          -23.44,
          -24.76,
          -24.67,
          -25.55,
          -27.05,
          -28.11,
          -26.61,
          -26.7,
          -25.37,
          -24.05,
          -22.64,
          -21.32,
          -7.49,
          -7.14,
          -12.33,
          -9.07,
          -3.79,
          -3.96,
          -3.79,
          3.08,
          5.11,
          50.13,
          47.49,
          48.99,
          43.79,
          35.15,
          49.52,
          53.3,
          50.66,
          61.76,
          65.02,
          65.81,
          79.21,
          82.91,
          80.7,
          85.9
         ],
         "yaxis": "y"
        },
        {
         "hovertemplate": "variable=ch_mstt<br>index=%{x}<br>value=%{y}<extra></extra>",
         "legendgroup": "ch_mstt",
         "line": {
          "color": "#19d3f3",
          "dash": "solid"
         },
         "marker": {
          "symbol": "circle"
         },
         "mode": "lines",
         "name": "ch_mstt",
         "orientation": "v",
         "showlegend": true,
         "type": "scatter",
         "x": [
          0,
          1,
          2,
          3,
          4,
          5,
          6,
          7,
          8,
          9,
          10,
          11,
          12,
          13,
          14,
          15,
          16,
          17,
          18,
          19,
          20,
          21,
          22,
          23,
          24,
          25,
          26,
          27,
          28,
          29,
          30,
          31,
          32,
          33,
          34,
          35,
          36,
          37,
          38,
          39,
          40,
          41,
          42,
          43,
          44,
          45,
          46,
          47,
          48,
          49,
          50,
          51,
          52,
          53,
          54,
          55,
          56,
          57,
          58,
          59,
          60,
          61,
          62,
          63,
          64,
          65,
          66,
          67,
          68,
          69,
          70,
          71,
          72,
          73,
          74,
          75,
          76,
          77,
          78,
          79,
          80,
          81,
          82,
          83,
          84,
          85,
          86,
          87,
          88,
          89,
          90,
          91,
          92,
          93
         ],
         "xaxis": "x",
         "y": [
          0,
          -0.38,
          -1.5,
          -2.95,
          -3.59,
          -3.33,
          1.66,
          0.16,
          -0.8,
          -1.5,
          -1.02,
          -1.82,
          -5.42,
          -4.56,
          -4.02,
          -7.89,
          -8.58,
          -10.46,
          -8.37,
          -9.76,
          -11.37,
          -11,
          -11.43,
          -12.12,
          -12.61,
          -18.45,
          -9.82,
          -12.5,
          -15.02,
          -13.41,
          -16.36,
          -16.85,
          -18.51,
          -18.13,
          -18.99,
          -20.71,
          -20.33,
          -18.56,
          -14.27,
          -15.24,
          -13.95,
          -18.29,
          -16.47,
          -16.31,
          -18.4,
          -14.91,
          -14.06,
          -12.07,
          -13.09,
          -7.51,
          -5.95,
          -15.02,
          -17.22,
          -18.19,
          -10.41,
          -11.43,
          -10.25,
          -10.94,
          -11.86,
          -12.18,
          -12.5,
          -12.55,
          -12.29,
          -14.7,
          -12.55,
          -12.66,
          4.08,
          8.91,
          6.49,
          6.76,
          9.17,
          54.56,
          48.61,
          50.97,
          82.08,
          80.95,
          89.97,
          132.08,
          141.74,
          176.82,
          183.53,
          179.77,
          158.64,
          142.49,
          149.79,
          143.62,
          140.24,
          131.81,
          135.35,
          145.55,
          144.96,
          138.89,
          137.12,
          145.71
         ],
         "yaxis": "y"
        },
        {
         "hovertemplate": "variable=ch_bspb<br>index=%{x}<br>value=%{y}<extra></extra>",
         "legendgroup": "ch_bspb",
         "line": {
          "color": "#FF6692",
          "dash": "solid"
         },
         "marker": {
          "symbol": "circle"
         },
         "mode": "lines",
         "name": "ch_bspb",
         "orientation": "v",
         "showlegend": true,
         "type": "scatter",
         "x": [
          0,
          1,
          2,
          3,
          4,
          5,
          6,
          7,
          8,
          9,
          10,
          11,
          12,
          13,
          14,
          15,
          16,
          17,
          18,
          19,
          20,
          21,
          22,
          23,
          24,
          25,
          26,
          27,
          28,
          29,
          30,
          31,
          32,
          33,
          34,
          35,
          36,
          37,
          38,
          39,
          40,
          41,
          42,
          43,
          44,
          45,
          46,
          47,
          48,
          49,
          50,
          51,
          52,
          53,
          54,
          55,
          56,
          57,
          58,
          59,
          60,
          61,
          62,
          63,
          64,
          65,
          66,
          67,
          68,
          69,
          70,
          71,
          72,
          73,
          74,
          75,
          76,
          77,
          78,
          79,
          80,
          81,
          82,
          83,
          84,
          85,
          86,
          87,
          88,
          89,
          90,
          91,
          92,
          93
         ],
         "xaxis": "x",
         "y": [
          0,
          0.21,
          3.29,
          -1.2,
          2.29,
          9.32,
          14.13,
          15.74,
          21.46,
          24.65,
          21.32,
          19.39,
          15.04,
          17.45,
          9.89,
          10.29,
          10.04,
          8.96,
          13.7,
          7.86,
          8.37,
          3.76,
          6.63,
          12.15,
          4.24,
          -10.45,
          -13.92,
          -16.86,
          -18.78,
          -25.4,
          -23.4,
          -23.26,
          -20.24,
          -15.78,
          -13.06,
          -12.81,
          -10.96,
          -7.77,
          -4.61,
          -4.41,
          -6.67,
          5.27,
          14.56,
          15.64,
          15.13,
          20.12,
          27.27,
          20.86,
          31.08,
          27.03,
          22.99,
          15.71,
          3.11,
          1.14,
          10.03,
          18.03,
          32.17,
          26.86,
          28.17,
          29.01,
          28.7,
          29.95,
          28.21,
          30.75,
          33.01,
          33.72,
          36.23,
          35.24,
          34.81,
          33.77,
          34.45,
          59.8,
          52.95,
          46.74,
          48.8,
          65.52,
          67.79,
          107.49,
          98.53,
          97.55,
          109.28,
          118.32,
          136.02,
          124.6,
          92.85,
          116.02,
          117.26,
          126.91,
          123.82,
          125.12,
          129.41,
          120.6,
          118.84,
          149.56
         ],
         "yaxis": "y"
        }
       ],
       "layout": {
        "legend": {
         "title": {
          "text": "variable"
         },
         "tracegroupgap": 0
        },
        "margin": {
         "t": 60
        },
        "template": {
         "data": {
          "bar": [
           {
            "error_x": {
             "color": "#2a3f5f"
            },
            "error_y": {
             "color": "#2a3f5f"
            },
            "marker": {
             "line": {
              "color": "#E5ECF6",
              "width": 0.5
             },
             "pattern": {
              "fillmode": "overlay",
              "size": 10,
              "solidity": 0.2
             }
            },
            "type": "bar"
           }
          ],
          "barpolar": [
           {
            "marker": {
             "line": {
              "color": "#E5ECF6",
              "width": 0.5
             },
             "pattern": {
              "fillmode": "overlay",
              "size": 10,
              "solidity": 0.2
             }
            },
            "type": "barpolar"
           }
          ],
          "carpet": [
           {
            "aaxis": {
             "endlinecolor": "#2a3f5f",
             "gridcolor": "white",
             "linecolor": "white",
             "minorgridcolor": "white",
             "startlinecolor": "#2a3f5f"
            },
            "baxis": {
             "endlinecolor": "#2a3f5f",
             "gridcolor": "white",
             "linecolor": "white",
             "minorgridcolor": "white",
             "startlinecolor": "#2a3f5f"
            },
            "type": "carpet"
           }
          ],
          "choropleth": [
           {
            "colorbar": {
             "outlinewidth": 0,
             "ticks": ""
            },
            "type": "choropleth"
           }
          ],
          "contour": [
           {
            "colorbar": {
             "outlinewidth": 0,
             "ticks": ""
            },
            "colorscale": [
             [
              0,
              "#0d0887"
             ],
             [
              0.1111111111111111,
              "#46039f"
             ],
             [
              0.2222222222222222,
              "#7201a8"
             ],
             [
              0.3333333333333333,
              "#9c179e"
             ],
             [
              0.4444444444444444,
              "#bd3786"
             ],
             [
              0.5555555555555556,
              "#d8576b"
             ],
             [
              0.6666666666666666,
              "#ed7953"
             ],
             [
              0.7777777777777778,
              "#fb9f3a"
             ],
             [
              0.8888888888888888,
              "#fdca26"
             ],
             [
              1,
              "#f0f921"
             ]
            ],
            "type": "contour"
           }
          ],
          "contourcarpet": [
           {
            "colorbar": {
             "outlinewidth": 0,
             "ticks": ""
            },
            "type": "contourcarpet"
           }
          ],
          "heatmap": [
           {
            "colorbar": {
             "outlinewidth": 0,
             "ticks": ""
            },
            "colorscale": [
             [
              0,
              "#0d0887"
             ],
             [
              0.1111111111111111,
              "#46039f"
             ],
             [
              0.2222222222222222,
              "#7201a8"
             ],
             [
              0.3333333333333333,
              "#9c179e"
             ],
             [
              0.4444444444444444,
              "#bd3786"
             ],
             [
              0.5555555555555556,
              "#d8576b"
             ],
             [
              0.6666666666666666,
              "#ed7953"
             ],
             [
              0.7777777777777778,
              "#fb9f3a"
             ],
             [
              0.8888888888888888,
              "#fdca26"
             ],
             [
              1,
              "#f0f921"
             ]
            ],
            "type": "heatmap"
           }
          ],
          "heatmapgl": [
           {
            "colorbar": {
             "outlinewidth": 0,
             "ticks": ""
            },
            "colorscale": [
             [
              0,
              "#0d0887"
             ],
             [
              0.1111111111111111,
              "#46039f"
             ],
             [
              0.2222222222222222,
              "#7201a8"
             ],
             [
              0.3333333333333333,
              "#9c179e"
             ],
             [
              0.4444444444444444,
              "#bd3786"
             ],
             [
              0.5555555555555556,
              "#d8576b"
             ],
             [
              0.6666666666666666,
              "#ed7953"
             ],
             [
              0.7777777777777778,
              "#fb9f3a"
             ],
             [
              0.8888888888888888,
              "#fdca26"
             ],
             [
              1,
              "#f0f921"
             ]
            ],
            "type": "heatmapgl"
           }
          ],
          "histogram": [
           {
            "marker": {
             "pattern": {
              "fillmode": "overlay",
              "size": 10,
              "solidity": 0.2
             }
            },
            "type": "histogram"
           }
          ],
          "histogram2d": [
           {
            "colorbar": {
             "outlinewidth": 0,
             "ticks": ""
            },
            "colorscale": [
             [
              0,
              "#0d0887"
             ],
             [
              0.1111111111111111,
              "#46039f"
             ],
             [
              0.2222222222222222,
              "#7201a8"
             ],
             [
              0.3333333333333333,
              "#9c179e"
             ],
             [
              0.4444444444444444,
              "#bd3786"
             ],
             [
              0.5555555555555556,
              "#d8576b"
             ],
             [
              0.6666666666666666,
              "#ed7953"
             ],
             [
              0.7777777777777778,
              "#fb9f3a"
             ],
             [
              0.8888888888888888,
              "#fdca26"
             ],
             [
              1,
              "#f0f921"
             ]
            ],
            "type": "histogram2d"
           }
          ],
          "histogram2dcontour": [
           {
            "colorbar": {
             "outlinewidth": 0,
             "ticks": ""
            },
            "colorscale": [
             [
              0,
              "#0d0887"
             ],
             [
              0.1111111111111111,
              "#46039f"
             ],
             [
              0.2222222222222222,
              "#7201a8"
             ],
             [
              0.3333333333333333,
              "#9c179e"
             ],
             [
              0.4444444444444444,
              "#bd3786"
             ],
             [
              0.5555555555555556,
              "#d8576b"
             ],
             [
              0.6666666666666666,
              "#ed7953"
             ],
             [
              0.7777777777777778,
              "#fb9f3a"
             ],
             [
              0.8888888888888888,
              "#fdca26"
             ],
             [
              1,
              "#f0f921"
             ]
            ],
            "type": "histogram2dcontour"
           }
          ],
          "mesh3d": [
           {
            "colorbar": {
             "outlinewidth": 0,
             "ticks": ""
            },
            "type": "mesh3d"
           }
          ],
          "parcoords": [
           {
            "line": {
             "colorbar": {
              "outlinewidth": 0,
              "ticks": ""
             }
            },
            "type": "parcoords"
           }
          ],
          "pie": [
           {
            "automargin": true,
            "type": "pie"
           }
          ],
          "scatter": [
           {
            "fillpattern": {
             "fillmode": "overlay",
             "size": 10,
             "solidity": 0.2
            },
            "type": "scatter"
           }
          ],
          "scatter3d": [
           {
            "line": {
             "colorbar": {
              "outlinewidth": 0,
              "ticks": ""
             }
            },
            "marker": {
             "colorbar": {
              "outlinewidth": 0,
              "ticks": ""
             }
            },
            "type": "scatter3d"
           }
          ],
          "scattercarpet": [
           {
            "marker": {
             "colorbar": {
              "outlinewidth": 0,
              "ticks": ""
             }
            },
            "type": "scattercarpet"
           }
          ],
          "scattergeo": [
           {
            "marker": {
             "colorbar": {
              "outlinewidth": 0,
              "ticks": ""
             }
            },
            "type": "scattergeo"
           }
          ],
          "scattergl": [
           {
            "marker": {
             "colorbar": {
              "outlinewidth": 0,
              "ticks": ""
             }
            },
            "type": "scattergl"
           }
          ],
          "scattermapbox": [
           {
            "marker": {
             "colorbar": {
              "outlinewidth": 0,
              "ticks": ""
             }
            },
            "type": "scattermapbox"
           }
          ],
          "scatterpolar": [
           {
            "marker": {
             "colorbar": {
              "outlinewidth": 0,
              "ticks": ""
             }
            },
            "type": "scatterpolar"
           }
          ],
          "scatterpolargl": [
           {
            "marker": {
             "colorbar": {
              "outlinewidth": 0,
              "ticks": ""
             }
            },
            "type": "scatterpolargl"
           }
          ],
          "scatterternary": [
           {
            "marker": {
             "colorbar": {
              "outlinewidth": 0,
              "ticks": ""
             }
            },
            "type": "scatterternary"
           }
          ],
          "surface": [
           {
            "colorbar": {
             "outlinewidth": 0,
             "ticks": ""
            },
            "colorscale": [
             [
              0,
              "#0d0887"
             ],
             [
              0.1111111111111111,
              "#46039f"
             ],
             [
              0.2222222222222222,
              "#7201a8"
             ],
             [
              0.3333333333333333,
              "#9c179e"
             ],
             [
              0.4444444444444444,
              "#bd3786"
             ],
             [
              0.5555555555555556,
              "#d8576b"
             ],
             [
              0.6666666666666666,
              "#ed7953"
             ],
             [
              0.7777777777777778,
              "#fb9f3a"
             ],
             [
              0.8888888888888888,
              "#fdca26"
             ],
             [
              1,
              "#f0f921"
             ]
            ],
            "type": "surface"
           }
          ],
          "table": [
           {
            "cells": {
             "fill": {
              "color": "#EBF0F8"
             },
             "line": {
              "color": "white"
             }
            },
            "header": {
             "fill": {
              "color": "#C8D4E3"
             },
             "line": {
              "color": "white"
             }
            },
            "type": "table"
           }
          ]
         },
         "layout": {
          "annotationdefaults": {
           "arrowcolor": "#2a3f5f",
           "arrowhead": 0,
           "arrowwidth": 1
          },
          "autotypenumbers": "strict",
          "coloraxis": {
           "colorbar": {
            "outlinewidth": 0,
            "ticks": ""
           }
          },
          "colorscale": {
           "diverging": [
            [
             0,
             "#8e0152"
            ],
            [
             0.1,
             "#c51b7d"
            ],
            [
             0.2,
             "#de77ae"
            ],
            [
             0.3,
             "#f1b6da"
            ],
            [
             0.4,
             "#fde0ef"
            ],
            [
             0.5,
             "#f7f7f7"
            ],
            [
             0.6,
             "#e6f5d0"
            ],
            [
             0.7,
             "#b8e186"
            ],
            [
             0.8,
             "#7fbc41"
            ],
            [
             0.9,
             "#4d9221"
            ],
            [
             1,
             "#276419"
            ]
           ],
           "sequential": [
            [
             0,
             "#0d0887"
            ],
            [
             0.1111111111111111,
             "#46039f"
            ],
            [
             0.2222222222222222,
             "#7201a8"
            ],
            [
             0.3333333333333333,
             "#9c179e"
            ],
            [
             0.4444444444444444,
             "#bd3786"
            ],
            [
             0.5555555555555556,
             "#d8576b"
            ],
            [
             0.6666666666666666,
             "#ed7953"
            ],
            [
             0.7777777777777778,
             "#fb9f3a"
            ],
            [
             0.8888888888888888,
             "#fdca26"
            ],
            [
             1,
             "#f0f921"
            ]
           ],
           "sequentialminus": [
            [
             0,
             "#0d0887"
            ],
            [
             0.1111111111111111,
             "#46039f"
            ],
            [
             0.2222222222222222,
             "#7201a8"
            ],
            [
             0.3333333333333333,
             "#9c179e"
            ],
            [
             0.4444444444444444,
             "#bd3786"
            ],
            [
             0.5555555555555556,
             "#d8576b"
            ],
            [
             0.6666666666666666,
             "#ed7953"
            ],
            [
             0.7777777777777778,
             "#fb9f3a"
            ],
            [
             0.8888888888888888,
             "#fdca26"
            ],
            [
             1,
             "#f0f921"
            ]
           ]
          },
          "colorway": [
           "#636efa",
           "#EF553B",
           "#00cc96",
           "#ab63fa",
           "#FFA15A",
           "#19d3f3",
           "#FF6692",
           "#B6E880",
           "#FF97FF",
           "#FECB52"
          ],
          "font": {
           "color": "#2a3f5f"
          },
          "geo": {
           "bgcolor": "white",
           "lakecolor": "white",
           "landcolor": "#E5ECF6",
           "showlakes": true,
           "showland": true,
           "subunitcolor": "white"
          },
          "hoverlabel": {
           "align": "left"
          },
          "hovermode": "closest",
          "mapbox": {
           "style": "light"
          },
          "paper_bgcolor": "white",
          "plot_bgcolor": "#E5ECF6",
          "polar": {
           "angularaxis": {
            "gridcolor": "white",
            "linecolor": "white",
            "ticks": ""
           },
           "bgcolor": "#E5ECF6",
           "radialaxis": {
            "gridcolor": "white",
            "linecolor": "white",
            "ticks": ""
           }
          },
          "scene": {
           "xaxis": {
            "backgroundcolor": "#E5ECF6",
            "gridcolor": "white",
            "gridwidth": 2,
            "linecolor": "white",
            "showbackground": true,
            "ticks": "",
            "zerolinecolor": "white"
           },
           "yaxis": {
            "backgroundcolor": "#E5ECF6",
            "gridcolor": "white",
            "gridwidth": 2,
            "linecolor": "white",
            "showbackground": true,
            "ticks": "",
            "zerolinecolor": "white"
           },
           "zaxis": {
            "backgroundcolor": "#E5ECF6",
            "gridcolor": "white",
            "gridwidth": 2,
            "linecolor": "white",
            "showbackground": true,
            "ticks": "",
            "zerolinecolor": "white"
           }
          },
          "shapedefaults": {
           "line": {
            "color": "#2a3f5f"
           }
          },
          "ternary": {
           "aaxis": {
            "gridcolor": "white",
            "linecolor": "white",
            "ticks": ""
           },
           "baxis": {
            "gridcolor": "white",
            "linecolor": "white",
            "ticks": ""
           },
           "bgcolor": "#E5ECF6",
           "caxis": {
            "gridcolor": "white",
            "linecolor": "white",
            "ticks": ""
           }
          },
          "title": {
           "x": 0.05
          },
          "xaxis": {
           "automargin": true,
           "gridcolor": "white",
           "linecolor": "white",
           "ticks": "",
           "title": {
            "standoff": 15
           },
           "zerolinecolor": "white",
           "zerolinewidth": 2
          },
          "yaxis": {
           "automargin": true,
           "gridcolor": "white",
           "linecolor": "white",
           "ticks": "",
           "title": {
            "standoff": 15
           },
           "zerolinecolor": "white",
           "zerolinewidth": 2
          }
         }
        },
        "title": {
         "text": "Диапозон с 28 по 35 акции"
        },
        "xaxis": {
         "anchor": "y",
         "domain": [
          0,
          1
         ],
         "title": {
          "text": "Неделя с начала инвестирования"
         }
        },
        "yaxis": {
         "anchor": "x",
         "domain": [
          0,
          1
         ],
         "title": {
          "text": "Процент"
         }
        }
       }
      }
     },
     "metadata": {},
     "output_type": "display_data"
    }
   ],
   "source": [
    "# Взятие диапазона имен от 28 до 35 из table1\n",
    "selected_names = min_df['Column'].iloc[28:35]\n",
    "\n",
    "# Выбор столбцов в table2 на основе имен из table1 и отображение их данных\n",
    "top_28_25 = stat[selected_names]\n",
    "selected_columns = top_28_25.columns\n",
    "\n",
    "\n",
    "# Построение графика px.line\n",
    "fig = px.line(top_28_25, x=top_28_25.index, y=selected_columns)\n",
    "fig.update_layout(xaxis_title=\"Неделя с начала инвестирования\", yaxis_title=\"Процент\", title=\"Диапозон с 28 по 35 акции\")\n",
    "\n",
    "# Отображение графика\n",
    "fig.show()"
   ]
  }
 ],
 "metadata": {
  "kernelspec": {
   "display_name": "Python 3",
   "language": "python",
   "name": "python3"
  },
  "language_info": {
   "codemirror_mode": {
    "name": "ipython",
    "version": 3
   },
   "file_extension": ".py",
   "mimetype": "text/x-python",
   "name": "python",
   "nbconvert_exporter": "python",
   "pygments_lexer": "ipython3",
   "version": "3.11.2"
  },
  "orig_nbformat": 4
 },
 "nbformat": 4,
 "nbformat_minor": 2
}
