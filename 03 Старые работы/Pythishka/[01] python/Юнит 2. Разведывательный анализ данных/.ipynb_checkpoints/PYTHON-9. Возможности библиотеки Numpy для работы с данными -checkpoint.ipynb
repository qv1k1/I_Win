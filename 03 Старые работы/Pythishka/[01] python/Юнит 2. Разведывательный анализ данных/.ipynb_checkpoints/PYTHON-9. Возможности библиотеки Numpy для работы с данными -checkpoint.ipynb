{
 "cells": [
  {
   "cell_type": "code",
   "execution_count": 1,
   "metadata": {},
   "outputs": [],
   "source": [
    "import numpy as np"
   ]
  },
  {
   "cell_type": "markdown",
   "metadata": {},
   "source": [
    "# 9.1. О чём этот модуль\n",
    " Добавить страницу в мои закладки"
   ]
  },
  {
   "cell_type": "markdown",
   "metadata": {},
   "source": [
    "# О чём этот модуль\n",
    "Модуль NumPy (Numerical Python) — один из наиболее важных пакетов для выполнения высокопроизводительных научных расчётов. Он позволяет эффективно работать с числами, одномерными и многомерными массивами: вычислять стандартные математические функции, реализовывать алгоритмы линейной алгебры, работать с генераторами случайных чисел.\n",
    "\n",
    "Особенность NumPy — выполнение действий с высокой скоростью и потребление небольшого количества ресурсов компьютера, по сравнению с операциями, реализованными с помощью других модулей. NumPy — низкоуровневный модуль Python, на его основе построен Pandas. NumPy не содержит средств высокоуровневого анализа данных, но позволяет ускорить и упростить решение многих базовых задач, связанных с преобразованием матриц, получением базовой статистики, извлечением индексов элементов.\n",
    "\n",
    "Иногда использование NumPy необходимо; например, чтобы найти индекс максимального или минимального элемента, необходимо знать функцию модуля NumPy, которая позволит облегчить работу. Реализовывать эту простейшую задачу при помощи других модулей реально, но сложнее и дольше по времени."
   ]
  },
  {
   "cell_type": "markdown",
   "metadata": {},
   "source": [
    "# 9.2. О массивах NumPy"
   ]
  },
  {
   "cell_type": "markdown",
   "metadata": {},
   "source": [
    "# О массивах NumPy\n",
    "NumPy — это модуль, предназначенный для эффективных математических действий с разными объектами. Основным объектом модуля является ndarray (N-dimensional array), или N-мерный массив.\n",
    "\n",
    "Массив — это структура данных, содержащая упорядоченный набор значений (элементов), идентифицируемых по индексу или набору индексов. Размерностью массива называют количество индексов, необходимых для однозначного определения его элементов. Первый элемент в массиве Python имеет индекс 0:\n",
    "\n",
    "array1"
   ]
  },
  {
   "cell_type": "markdown",
   "metadata": {},
   "source": [
    "# \n",
    "Массивы могут быть одномерными (вектор), двумерными (матрица) и многомерными:\n",
    "\n",
    "array3 \n",
    "\n",
    "К массиву, имеющему несколько измерений, обращаются при помощи нескольких индексов. Например, к элементу, расположенному в ячейке на пересечении третьей строки и четвертого столбца, можно обратиться так: [2, 3]."
   ]
  },
  {
   "cell_type": "markdown",
   "metadata": {},
   "source": [
    "# Создание массива\n",
    "Массив в Python задаётся с помощью функции array() модуля NumPy, которая трансформирует вложенные в неё последовательности в массив. Простой способ задать массив — перечислить его элементы внутри квадратных скобок [ ] через запятую:"
   ]
  },
  {
   "cell_type": "code",
   "execution_count": 3,
   "metadata": {},
   "outputs": [],
   "source": [
    "arr1 = np.array([1,2,3,4])"
   ]
  },
  {
   "cell_type": "markdown",
   "metadata": {},
   "source": [
    "# Функция array()\n",
    "преобразует вложенные элементы в массив. Считается, что все хранящиеся в массивах NumPy данные должны относиться только к одному типу. Тип элементов массива соответствует типу элементов вложенной исходной последовательности, но в момент создания массива его можно изменить, задав параметр dtype требуемого типа. Для того, чтобы узнать тип данных элементов массива, используем метод dtype:"
   ]
  },
  {
   "cell_type": "code",
   "execution_count": 4,
   "metadata": {},
   "outputs": [
    {
     "data": {
      "text/plain": [
       "dtype('float64')"
      ]
     },
     "execution_count": 4,
     "metadata": {},
     "output_type": "execute_result"
    }
   ],
   "source": [
    "arr2 = np.array([5,6,7,8], dtype = float)\n",
    "arr2.dtype"
   ]
  },
  {
   "cell_type": "markdown",
   "metadata": {},
   "source": [
    "# Примечание:\n",
    "Есть лайфхак, позволяющий обойти это ограничение: мы можем присвоить dtype значение object. В этом случае ничто не помешает по факту использовать в массиве данные разных типов. Однако такой подход имеет серьезные недостатки:\n",
    "\n",
    "арифметические операции над элементами массива могут давать неожиданные результаты, если вы забудете учесть различия в типах;\n",
    "все операции над элементами будут выполняться средствами Python, а не NumPy, таким образом пропадет преимущество в скорости.\n",
    "\n",
    "Для создания массивов большей размерности каждая строка должна помещаться в квадратные скобки, при этом строки разделяются запятой. Для двумерного массива (матрицы) можно использовать такой код:"
   ]
  },
  {
   "cell_type": "code",
   "execution_count": 5,
   "metadata": {},
   "outputs": [],
   "source": [
    "arr3 = np.array([[1,2,3],[4,5,6],[7,8,9]])"
   ]
  },
  {
   "cell_type": "markdown",
   "metadata": {},
   "source": [
    "# Узнать размерность массива можно с помощью функции shape():"
   ]
  },
  {
   "cell_type": "code",
   "execution_count": 6,
   "metadata": {},
   "outputs": [
    {
     "data": {
      "text/plain": [
       "(3, 3)"
      ]
     },
     "execution_count": 6,
     "metadata": {},
     "output_type": "execute_result"
    }
   ],
   "source": [
    "np.shape(arr3)"
   ]
  },
  {
   "cell_type": "markdown",
   "metadata": {},
   "source": [
    "# Массив из Pandas\n",
    "В процессе анализа данных возникают ситуации, когда требуется выполнить с данными, хранящимися в Pandas DataFrame, сложные математические операции. Мы можем преобразовать датафрейм или его часть, содержащую количественные показатели, в объект ndarray с помошью функции values библиотеки Pandas:"
   ]
  },
  {
   "cell_type": "code",
   "execution_count": 7,
   "metadata": {},
   "outputs": [
    {
     "data": {
      "text/plain": [
       "numpy.ndarray"
      ]
     },
     "execution_count": 7,
     "metadata": {},
     "output_type": "execute_result"
    }
   ],
   "source": [
    "import numpy as np\n",
    "import pandas as pd\n",
    "\n",
    "df = pd.DataFrame()\n",
    "x = df.values\n",
    "type(x)"
   ]
  },
  {
   "cell_type": "markdown",
   "metadata": {},
   "source": [
    "# \n",
    "Используя функцию values, массив можно получить из Series:"
   ]
  },
  {
   "cell_type": "code",
   "execution_count": 8,
   "metadata": {},
   "outputs": [
    {
     "data": {
      "text/plain": [
       "array([ 5,  6,  7,  8,  9, 10], dtype=int64)"
      ]
     },
     "execution_count": 8,
     "metadata": {},
     "output_type": "execute_result"
    }
   ],
   "source": [
    "import numpy as np\n",
    "import pandas as pd\n",
    "my_series = pd.Series([5, 6, 7, 8, 9, 10])\n",
    "my_series.values\n"
   ]
  },
  {
   "cell_type": "markdown",
   "metadata": {},
   "source": [
    "# Другие способы создания массива\n",
    "Иногда при решении задач нужно создать массив заданной структуры до того, как становится известно о хранящихся в нём данных. В NumPy есть функции, которые позволяют задавать размерность массива, выделять память для его хранения и заполнять массив элементами (единицами, нулями).\n",
    "\n",
    "Проверьте результат выполнения функций в Jupyter Notebook:"
   ]
  },
  {
   "cell_type": "code",
   "execution_count": 9,
   "metadata": {},
   "outputs": [
    {
     "data": {
      "text/plain": [
       "array([6.95293942e-310, 6.95293864e-310, 0.00000000e+000, 0.00000000e+000,\n",
       "       2.12199580e-314])"
      ]
     },
     "execution_count": 9,
     "metadata": {},
     "output_type": "execute_result"
    }
   ],
   "source": [
    "np.empty(5)# одномерный массив из пяти элементов, память для которого выделена, но не инициализирована"
   ]
  },
  {
   "cell_type": "code",
   "execution_count": 10,
   "metadata": {},
   "outputs": [
    {
     "data": {
      "text/plain": [
       "array([[0., 0., 0., 0., 0., 0., 0.],\n",
       "       [0., 0., 0., 0., 0., 0., 0.],\n",
       "       [0., 0., 0., 0., 0., 0., 0.],\n",
       "       [0., 0., 0., 0., 0., 0., 0.],\n",
       "       [0., 0., 0., 0., 0., 0., 0.],\n",
       "       [0., 0., 0., 0., 0., 0., 0.],\n",
       "       [0., 0., 0., 0., 0., 0., 0.],\n",
       "       [0., 0., 0., 0., 0., 0., 0.],\n",
       "       [0., 0., 0., 0., 0., 0., 0.],\n",
       "       [0., 0., 0., 0., 0., 0., 0.]])"
      ]
     },
     "execution_count": 10,
     "metadata": {},
     "output_type": "execute_result"
    }
   ],
   "source": [
    "np.zeros((10, 7))# массив размером 10x7, заполненный нулями "
   ]
  },
  {
   "cell_type": "code",
   "execution_count": 11,
   "metadata": {},
   "outputs": [
    {
     "data": {
      "text/plain": [
       "array([[[1., 1., 1.],\n",
       "        [1., 1., 1.],\n",
       "        [1., 1., 1.]],\n",
       "\n",
       "       [[1., 1., 1.],\n",
       "        [1., 1., 1.],\n",
       "        [1., 1., 1.]],\n",
       "\n",
       "       [[1., 1., 1.],\n",
       "        [1., 1., 1.],\n",
       "        [1., 1., 1.]]])"
      ]
     },
     "execution_count": 11,
     "metadata": {},
     "output_type": "execute_result"
    }
   ],
   "source": [
    "np.ones((3,3,3)) # массив размером 3х3х3, заполненный единицами "
   ]
  },
  {
   "cell_type": "code",
   "execution_count": 12,
   "metadata": {},
   "outputs": [
    {
     "data": {
      "text/plain": [
       "array([[1., 0., 0.],\n",
       "       [0., 1., 0.],\n",
       "       [0., 0., 1.]])"
      ]
     },
     "execution_count": 12,
     "metadata": {},
     "output_type": "execute_result"
    }
   ],
   "source": [
    "np.eye(3) # единичная матрица (элементы главной диагонали равны 1, остальные — 0) размера 3х3"
   ]
  },
  {
   "cell_type": "code",
   "execution_count": 13,
   "metadata": {},
   "outputs": [
    {
     "data": {
      "text/plain": [
       "array([[3.14, 3.14, 3.14, 3.14, 3.14],\n",
       "       [3.14, 3.14, 3.14, 3.14, 3.14],\n",
       "       [3.14, 3.14, 3.14, 3.14, 3.14]])"
      ]
     },
     "execution_count": 13,
     "metadata": {},
     "output_type": "execute_result"
    }
   ],
   "source": [
    "np.full((3, 5), 3.14)  # массив 3x5 заполненный числом 3.14"
   ]
  },
  {
   "cell_type": "code",
   "execution_count": 14,
   "metadata": {},
   "outputs": [
    {
     "data": {
      "text/plain": [
       "array([ 0,  7, 14])"
      ]
     },
     "execution_count": 14,
     "metadata": {},
     "output_type": "execute_result"
    }
   ],
   "source": [
    "np.arange(0, 21, 7)  # одномерный массив, заполненный числами в диапазоне от 0 до 20 с шагом 7"
   ]
  },
  {
   "cell_type": "code",
   "execution_count": 15,
   "metadata": {},
   "outputs": [
    {
     "data": {
      "text/plain": [
       "array([0.  , 0.25, 0.5 , 0.75, 1.  ])"
      ]
     },
     "execution_count": 15,
     "metadata": {},
     "output_type": "execute_result"
    }
   ],
   "source": [
    "np.linspace(0, 1, 5)  # массив из пяти чисел, равномерно распределённых в интервале между 0 и 1 включительно"
   ]
  },
  {
   "cell_type": "code",
   "execution_count": 18,
   "metadata": {},
   "outputs": [
    {
     "data": {
      "text/plain": [
       "array([[3, 6, 1],\n",
       "       [5, 5, 5],\n",
       "       [6, 6, 7]])"
      ]
     },
     "execution_count": 18,
     "metadata": {},
     "output_type": "execute_result"
    }
   ],
   "source": [
    "np.random.randint(0, 10, (3, 3))  # массив размера 3х3, заполненный случайными числами из диапазона от 0 до 9 (включительно)"
   ]
  },
  {
   "cell_type": "code",
   "execution_count": 19,
   "metadata": {},
   "outputs": [
    {
     "data": {
      "text/plain": [
       "array([[  1. ,  57. ,  71. , 127. , 141. , 197. , 211. , 267. , 281. ],\n",
       "       [  0.5,  28.5,  35.5,  63.5,  70.5,  98.5, 105.5, 133.5, 140.5],\n",
       "       [-99. , -43. , -29. ,  27. ,  41. ,  97. , 111. , 167. , 181. ]])"
      ]
     },
     "execution_count": 19,
     "metadata": {},
     "output_type": "execute_result"
    }
   ],
   "source": [
    "my_secret = [x for x in range(1, 301, 7) if x%10 == 7 or x%10 == 1]\n",
    "np.array([my_secret, [x/2 for x in my_secret], [x-100 for x in my_secret]])"
   ]
  },
  {
   "cell_type": "code",
   "execution_count": 28,
   "metadata": {},
   "outputs": [
    {
     "data": {
      "text/plain": [
       "array([[1, 2, 3, 4, 5],\n",
       "       [5, 1, 2, 3, 4],\n",
       "       [4, 5, 1, 2, 3],\n",
       "       [3, 4, 5, 1, 2],\n",
       "       [2, 3, 4, 5, 1]])"
      ]
     },
     "execution_count": 28,
     "metadata": {},
     "output_type": "execute_result"
    }
   ],
   "source": [
    "#С помощью каких вариантов кода можно создать массив, среднее арифметическое всех элементов главной диагонали которого равно 1?\n",
    "#np.ones((5,5))\n",
    "#np.eye(5)\n",
    "#np.full((5,5), 1)\n",
    "np.array([[1,2,3,4,5], [5,1,2,3,4], [4,5,1,2,3], [3,4,5,1,2], [2,3,4,5,1]])\n",
    "\n",
    "#Только эти коды правильные "
   ]
  },
  {
   "cell_type": "code",
   "execution_count": 36,
   "metadata": {},
   "outputs": [],
   "source": [
    "#[[1, 1, 1],\n",
    " #[0, 2, 2],\n",
    "# [2, 4, 1]]\n",
    "#С помощью каких вариантов кода НЕВОЗМОЖНО создать массив, представленный в примере выше?\n",
    "#np.random.randint(0, 4, (3, 3)) невозможно \n",
    "#np.random.randint(0, 5, (3, 3))\n",
    "#np.random.randint(0, 6, (3, 3))\n",
    "#np.random.randint(0, 5, 3) невозможно"
   ]
  },
  {
   "cell_type": "code",
   "execution_count": 41,
   "metadata": {},
   "outputs": [],
   "source": [
    "#Какие из представленных вариантов кода можно использовать для создания массива 4х4, полностью заполненного единицами?\n",
    "#np.array([[1, 1, 1, 1], [1, 1, 1, 1], [1, 1, 1, 1], [1, 1, 1, 1]]) да \n",
    "#np.eye(4) нет\n",
    "#np.ones((4, 4), dtype=float) да\n",
    "#np.full((4, 4), 1) да"
   ]
  },
  {
   "cell_type": "code",
   "execution_count": 46,
   "metadata": {},
   "outputs": [],
   "source": [
    "#Какие из вариантов кода можно использовать для создания массива, заполненного нечётными числами?\n",
    "#np.array(range(9)) no\n",
    "#np.ones((2,2,2)) yes\n",
    "#np.array([i for i in range(11) if i%2]) yes\n",
    "#np.arange(1, 14, 2) yes"
   ]
  },
  {
   "cell_type": "markdown",
   "metadata": {},
   "source": [
    "# 9.3. Индексирование массивов NumPy"
   ]
  },
  {
   "cell_type": "markdown",
   "metadata": {},
   "source": [
    "# Индексирование массивов NumPy\n",
    "Массивы, как и другие итерируемые объекты Python, позволяют обращаться к отдельным своим элементам с помощью индексов и срезов. В этом разделе мы рассмотрим некоторые особенности индексации массивов разной размерности. При работе с одномерными массивами все приёмы работы с индексами похожи на приёмы при работе со списками.\n",
    "\n",
    "Основные правила:\n",
    "\n",
    "индекс первого элемента массива равен 0;\n",
    "для обращения к элементу массива по индексу необходимо указать имя переменной, в которой хранится массив, и индекс в квадратных скобках;\n",
    "допускается использование отрицательных индексов;\n",
    "для обращения к нескольким идущим подряд элементам массива создаётся срез, в котором указывается индекс первого элемента среза и индекс элемента, следующего за последним, разделённые двоеточием;\n",
    "при создании среза возможно задание шага, в этом случае в срез будут включены не все элементы, а только отстоящие друг от друга на величину шага.\n",
    "Рассмотрим примеры использования индексов при работе с одномерным массивом. Попробуйте самостоятельно выполнить код:"
   ]
  },
  {
   "cell_type": "code",
   "execution_count": 49,
   "metadata": {},
   "outputs": [
    {
     "data": {
      "text/plain": [
       "5"
      ]
     },
     "execution_count": 49,
     "metadata": {},
     "output_type": "execute_result"
    }
   ],
   "source": [
    "my_array = np.array([x for x in range(10)])\n",
    "my_array[5]\n"
   ]
  },
  {
   "cell_type": "code",
   "execution_count": 52,
   "metadata": {},
   "outputs": [
    {
     "data": {
      "text/plain": [
       "9"
      ]
     },
     "execution_count": 52,
     "metadata": {},
     "output_type": "execute_result"
    }
   ],
   "source": [
    "my_array[-1]\n"
   ]
  },
  {
   "cell_type": "code",
   "execution_count": 53,
   "metadata": {},
   "outputs": [
    {
     "data": {
      "text/plain": [
       "array([3, 4, 5])"
      ]
     },
     "execution_count": 53,
     "metadata": {},
     "output_type": "execute_result"
    }
   ],
   "source": [
    "my_array[3:6]\n"
   ]
  },
  {
   "cell_type": "code",
   "execution_count": 54,
   "metadata": {},
   "outputs": [
    {
     "data": {
      "text/plain": [
       "array([1, 4, 7])"
      ]
     },
     "execution_count": 54,
     "metadata": {},
     "output_type": "execute_result"
    }
   ],
   "source": [
    "my_array[1:8:3]"
   ]
  },
  {
   "cell_type": "markdown",
   "metadata": {},
   "source": [
    "# \n",
    "При работе с двумерными массивами для обращения к элементу мы указываем два индекса, соответствующие номеру строки и номеру столбца. Каждый индекс можно указывать в отдельных квадратных скобках или внутри одной пары скобок через запятую:"
   ]
  },
  {
   "cell_type": "code",
   "execution_count": 60,
   "metadata": {},
   "outputs": [
    {
     "data": {
      "text/plain": [
       "array([[ 1,  2,  3,  4],\n",
       "       [10, 11, 12, 13],\n",
       "       [45, 46, 47, 48]])"
      ]
     },
     "execution_count": 60,
     "metadata": {},
     "output_type": "execute_result"
    }
   ],
   "source": [
    "#При работе с двумерными массивами для обращения к элементу мы указываем два индекса, соответствующие номеру строки и номеру столбца. Каждый индекс можно указывать в отдельных квадратных скобках или внутри одной пары скобок через запятую:\n",
    "\n",
    "my_array = np.array([[1,2,3,4], [10,11,12,13], [45,46,47,48]])\n",
    "my_array"
   ]
  },
  {
   "cell_type": "code",
   "execution_count": 59,
   "metadata": {},
   "outputs": [
    {
     "data": {
      "text/plain": [
       "12"
      ]
     },
     "execution_count": 59,
     "metadata": {},
     "output_type": "execute_result"
    }
   ],
   "source": [
    "my_array[1][2]\n"
   ]
  },
  {
   "cell_type": "code",
   "execution_count": 61,
   "metadata": {},
   "outputs": [
    {
     "data": {
      "text/plain": [
       "12"
      ]
     },
     "execution_count": 61,
     "metadata": {},
     "output_type": "execute_result"
    }
   ],
   "source": [
    "\n",
    "my_array[1,2]"
   ]
  },
  {
   "cell_type": "markdown",
   "metadata": {},
   "source": [
    "# Индексация двумерных массивов имеет следующие особенности:\n",
    "\n",
    "при указании только одного индекса из массива будет выделена вся строка, соответствующая указанному индексу;\n",
    "можно указывать несколько индексов или срезов для каждой из осей.\n",
    "Поэкспериментируйте с индексацией двумерного массива, используя образец:"
   ]
  },
  {
   "cell_type": "code",
   "execution_count": 62,
   "metadata": {},
   "outputs": [
    {
     "data": {
      "text/plain": [
       "array([10, 11, 12, 13])"
      ]
     },
     "execution_count": 62,
     "metadata": {},
     "output_type": "execute_result"
    }
   ],
   "source": [
    "my_array[1]"
   ]
  },
  {
   "cell_type": "code",
   "execution_count": 63,
   "metadata": {},
   "outputs": [
    {
     "data": {
      "text/plain": [
       "array([ 3, 12, 47])"
      ]
     },
     "execution_count": 63,
     "metadata": {},
     "output_type": "execute_result"
    }
   ],
   "source": [
    "my_array[:,2]"
   ]
  },
  {
   "cell_type": "code",
   "execution_count": 75,
   "metadata": {},
   "outputs": [
    {
     "data": {
      "text/plain": [
       "array([[11, 12],\n",
       "       [46, 47]])"
      ]
     },
     "execution_count": 75,
     "metadata": {},
     "output_type": "execute_result"
    }
   ],
   "source": [
    "my_array[1:, 1:3]"
   ]
  },
  {
   "cell_type": "markdown",
   "metadata": {},
   "source": [
    "# Упражнения\n",
    "Потренируемся извлекать из двумерного массива отдельные элементы и их срезы и производить над ними математические действия. Задания блока будем выполнять на примере массива, созданного кодом:"
   ]
  },
  {
   "cell_type": "markdown",
   "metadata": {},
   "source": [
    "# \n",
    "Чему равна сумма элементов последнего столбца массива? Ответ округлите до двух цифр после запятой:"
   ]
  },
  {
   "cell_type": "code",
   "execution_count": 79,
   "metadata": {},
   "outputs": [
    {
     "data": {
      "text/plain": [
       "3154.33"
      ]
     },
     "execution_count": 79,
     "metadata": {},
     "output_type": "execute_result"
    }
   ],
   "source": [
    "#Чему равна сумма элементов последнего столбца массива? Ответ округлите до двух цифр после запятой:\n",
    "import numpy as np\n",
    "\n",
    "first_line = [x*y for x in range(2, 100, 6) for y in range (7, 1, -2)]\n",
    "second_line = [x ** 0.5 for x in range(1000, 1101, 2)]\n",
    "third_line = [x**2 for x in range(51)]\n",
    "\n",
    "big_secret = np.array([first_line, second_line, third_line, second_line, first_line])\n",
    "\n",
    "sum=0\n",
    "for i in big_secret[:, -1]:\n",
    "    sum+=i\n",
    "round(sum,2)"
   ]
  },
  {
   "cell_type": "markdown",
   "metadata": {},
   "source": [
    "# \n",
    "Выделите из каждой строки массива big_secret первые 5 элементов. Чему равна сумма элементов главной диагонали получившейся матрицы? Округлите ответ до двух цифр после запятой:"
   ]
  },
  {
   "cell_type": "code",
   "execution_count": 82,
   "metadata": {},
   "outputs": [
    {
     "data": {
      "text/plain": [
       "121.37188663699624"
      ]
     },
     "execution_count": 82,
     "metadata": {},
     "output_type": "execute_result"
    }
   ],
   "source": [
    "#Выделите из каждой строки массива big_secret первые 5 элементов. Чему равна сумма элементов главной диагонали получившейся матрицы? Округлите ответ до двух цифр после запятой:\n",
    "first_line = [x*y for x in range(2, 100, 6) for y in range (7, 1, -2)]\n",
    "second_line = [x ** 0.5 for x in range(1000, 1101, 2)]\n",
    "third_line = [x**2 for x in range(51)]\n",
    "big_secret = np.array([first_line, second_line, third_line, second_line, first_line])\n",
    "big_secret1 = np.diag(big_secret).sum()\n",
    "big_secret1"
   ]
  },
  {
   "cell_type": "markdown",
   "metadata": {},
   "source": [
    "# \n",
    "Выделите из каждой строки массива big_secret последние 5 элементов. Чему равно произведение элементов главной диагонали получившейся матрицы? Введите полученный результат без изменений и округлений."
   ]
  },
  {
   "cell_type": "code",
   "execution_count": 80,
   "metadata": {},
   "outputs": [
    {
     "name": "stdout",
     "output_type": "stream",
     "text": [
      "341505315559.2347\n"
     ]
    }
   ],
   "source": [
    "#Выделите из каждой строки массива big_secret последние 5 элементов. Чему равно произведение элементов главной диагонали получившейся матрицы? Введите полученный результат без изменений и округлений.\n",
    "import numpy as np\n",
    "\n",
    "first_line = [x*y for x in range(2, 100, 6) for y in range (7, 1, -2)]\n",
    "second_line = [x ** 0.5 for x in range(1000, 1101, 2)]\n",
    "third_line = [x**2 for x in range(51)]\n",
    "\n",
    "big_secret = np.array([first_line, second_line, third_line, second_line, first_line])\n",
    "\n",
    "new_new_array = big_secret[:, -5:]\n",
    "product=1\n",
    "j=0\n",
    "for i in new_new_array:\n",
    "    product*=new_new_array[j,j]\n",
    "    j+=1\n",
    "print(product) "
   ]
  },
  {
   "cell_type": "markdown",
   "metadata": {},
   "source": [
    "# Особенность индексирования\n",
    "Важное отличие массивов NumPy от списков Python — при изменении среза или отдельных элементов все изменения касаются не только самого среза, но и падают в исходный массив, даже если перед внесением изменений срез был сохранён в виде отдельной переменной. Изначально NumPy проектировался для работы с большими массивами данных, поэтому при бесконтрольном копировании фрагментов массивов возникли бы проблемы с быстродействием и памятью.\n",
    "\n",
    "Создадим массив 4 х 6:"
   ]
  },
  {
   "cell_type": "code",
   "execution_count": 27,
   "metadata": {},
   "outputs": [
    {
     "data": {
      "text/plain": [
       "array([[34, 24, 67, 52, 96, 97],\n",
       "       [97, 64,  3, 42, 52, 91],\n",
       "       [76, 37, 70, 78, 73, 93],\n",
       "       [14, 88, 71, 33, 16, 80]])"
      ]
     },
     "execution_count": 27,
     "metadata": {},
     "output_type": "execute_result"
    }
   ],
   "source": [
    "my_array = np.random.randint(1, 100, (4, 6))\n",
    "my_array"
   ]
  },
  {
   "cell_type": "markdown",
   "metadata": {},
   "source": [
    "# \n",
    "Массив создаётся с помощью генератора случайных чисел, поэтому при выполнении кода у вас могут получиться другие значения. Выделим из созданного массива квадрат 2 х 2, содержащий 4 элемента, расположенные в центре матрицы:"
   ]
  },
  {
   "cell_type": "code",
   "execution_count": 33,
   "metadata": {},
   "outputs": [
    {
     "data": {
      "text/plain": [
       "array([[0, 0],\n",
       "       [0, 0]])"
      ]
     },
     "execution_count": 33,
     "metadata": {},
     "output_type": "execute_result"
    }
   ],
   "source": [
    "my_slice = my_array[1:3, 2:4]\n",
    "my_slice"
   ]
  },
  {
   "cell_type": "markdown",
   "metadata": {},
   "source": [
    "# \n",
    "Заменим эти элементы на нули и посмотрим, как изменится содержимое исходной матрицы:"
   ]
  },
  {
   "cell_type": "code",
   "execution_count": 32,
   "metadata": {},
   "outputs": [
    {
     "data": {
      "text/plain": [
       "array([[34, 24, 67, 52, 96, 97],\n",
       "       [97, 64,  0,  0, 52, 91],\n",
       "       [76, 37,  0,  0, 73, 93],\n",
       "       [14, 88, 71, 33, 16, 80]])"
      ]
     },
     "execution_count": 32,
     "metadata": {},
     "output_type": "execute_result"
    }
   ],
   "source": [
    "my_slice[:] = 0\n",
    "my_array"
   ]
  },
  {
   "cell_type": "markdown",
   "metadata": {},
   "source": [
    "# Упражнения\n",
    "Проверим знания! Продолжим работать с массивом big_secret. Замените на 1 все элементы, у которых оба индекса нечётные, и на -1 все элементы, у которых оба индекса чётные."
   ]
  },
  {
   "cell_type": "markdown",
   "metadata": {},
   "source": [
    "#Выделите из каждой строки обновлённого массива big_secret первые 5 элементов. Чему равна сумма элементов главной диагонали получившейся матрицы? Введите полученный ответ без изменений и округлений."
   ]
  },
  {
   "cell_type": "code",
   "execution_count": 87,
   "metadata": {},
   "outputs": [
    {
     "name": "stdout",
     "output_type": "stream",
     "text": [
      "-1.0\n"
     ]
    }
   ],
   "source": [
    "#Выделите из каждой строки обновлённого массива big_secret первые 5 элементов. Чему равна сумма элементов главной диагонали получившейся матрицы? Введите полученный ответ без изменений и округлений.\n",
    "import numpy as np\n",
    "\n",
    "first_line = [x*y for x in range(2, 100, 6) for y in range (7, 1, -2)]\n",
    "second_line = [x ** 0.5 for x in range(1000, 1101, 2)]\n",
    "third_line = [x**2 for x in range(51)]\n",
    "\n",
    "big_secret = np.array([first_line, second_line, third_line, second_line, first_line])\n",
    "\n",
    "big_secret[::2,::2] = -1\n",
    "big_secret[1::2, 1::2] = 1\n",
    "\n",
    "print(big_secret[:5,:].diagonal().sum())"
   ]
  },
  {
   "cell_type": "markdown",
   "metadata": {},
   "source": [
    "#Выделите из каждой строки обновлённого массива big_secret последние 5 элементов. Чему равно произведение элементов главной диагонали получившейся матрицы? Введите полученный результат без изменений и округлений."
   ]
  },
  {
   "cell_type": "code",
   "execution_count": 2,
   "metadata": {},
   "outputs": [
    {
     "name": "stdout",
     "output_type": "stream",
     "text": [
      "-1.0\n"
     ]
    }
   ],
   "source": [
    "#Выделите из каждой строки обновлённого массива big_secret последние 5 элементов. Чему равно произведение элементов главной диагонали получившейся матрицы? Введите полученный результат без изменений и округлений.\n",
    "import numpy as np\n",
    "\n",
    "first_line = [x*y for x in range(2, 100, 6) for y in range (7, 1, -2)]\n",
    "second_line = [x ** 0.5 for x in range(1000, 1101, 2)]\n",
    "third_line = [x**2 for x in range(51)]\n",
    "\n",
    "big_secret = np.array([first_line, second_line, third_line, second_line, first_line])\n",
    "\n",
    "big_secret[::2,::2] = -1\n",
    "big_secret[1::2, 1::2] = 1\n",
    "\n",
    "print(big_secret[-5:,:].diagonal().prod())"
   ]
  },
  {
   "cell_type": "markdown",
   "metadata": {},
   "source": [
    "# Операции с массивами\n",
    "Особенностью работы с массивами в NumPy является то, что возможности библиотеки позволяют выполнять любые математические действия с массивами без использования циклов for, благодаря чему вычисления производятся с большой скоростью. В NumPy над массивами можно производить все стандартные арифметические операции.\n",
    "\n",
    "Операции выполняются поэлементно, поэтому для получения корректного результата размерность массивов должна быть одинаковой. Также можно производить математические операции между массивом и числом.\n",
    "\n",
    "У нас есть два массива: найдём их сумму, разность, произведение, частное и умножим один из массивов на число:"
   ]
  },
  {
   "cell_type": "code",
   "execution_count": 3,
   "metadata": {},
   "outputs": [
    {
     "name": "stdout",
     "output_type": "stream",
     "text": [
      "Сумма: [15 21 27]\n",
      "Разность: [9 9 9]\n",
      "Произведение: [ 36  90 162]\n",
      "Частное: [0.25 0.4  0.5 ]\n",
      "Умножение на число: [ 6 12 18]\n"
     ]
    }
   ],
   "source": [
    "a = np.array([3,6,9])\n",
    "b = np.array([12,15,18])\n",
    "\n",
    "result1 = a+b\n",
    "result2 = b-a\n",
    "result3 = a*b\n",
    "result4 = a/b\n",
    "result5 = a*2\n",
    "print('Сумма: {}\\nРазность: {}\\nПроизведение: {}\\nЧастное: {}\\nУмножение на число: {}'.format(result1, result2, result3, result4, result5))"
   ]
  },
  {
   "cell_type": "markdown",
   "metadata": {},
   "source": [
    "# Функция\tОписание\n",
    "abs\t  Абсолютное значение целых, вещественных или комплексных элементов массива\n",
    "\n",
    "sqrt\tКвадратный корень каждого элемента массива\n",
    "\n",
    "exp\t    Экспонента (ex) каждого элемента массива\n",
    "\n",
    "log, log10, log2, log1p\t  Натуральный (по основанию е), десятичный, двоичный логарифм и функция log(1+x) соответственно\n",
    "\n",
    "modf\t  Дробные и целые части массива в виде отдельных массивов\n",
    "\n",
    "isnan\t  Массив логических (булевых) значений, показывающий, какие из элементов исходного массива  являются NaN (не числами)\n",
    "\n",
    "cos, sin, tan\t   Обычные тригонометрические функции\n",
    "\n",
    "arccos, arcsin, arctan\t   Обратные тригонометрические функции"
   ]
  },
  {
   "cell_type": "markdown",
   "metadata": {},
   "source": [
    "# Изменение размерности массива\n",
    "В некоторых задачах машинного обучения для подготовки данных к обработке нужно изменить исходную форму массива, например, преобразовать многомерный массив в одномерный, поменять местами строки и столбцы.\n",
    "\n",
    "Замена местами строк и столбцов двумерного массива называется транспонированием. Для выполнения этой операции в NumPy используется метод T:"
   ]
  },
  {
   "cell_type": "code",
   "execution_count": 5,
   "metadata": {},
   "outputs": [
    {
     "data": {
      "text/plain": [
       "array([[ 1,  6],\n",
       "       [ 2,  7],\n",
       "       [ 3,  8],\n",
       "       [ 4,  9],\n",
       "       [ 5, 10]])"
      ]
     },
     "execution_count": 5,
     "metadata": {},
     "output_type": "execute_result"
    }
   ],
   "source": [
    "my_array = np.array([[1,2,3,4,5], [6,7,8,9,10]])\n",
    "my_array.T"
   ]
  },
  {
   "cell_type": "markdown",
   "metadata": {},
   "source": [
    "# \n",
    "Для превращения массива одной размерности в массив другой — обычно для преобразования одномерного массива в многомерный — используется метод reshape. Изменить размерность массива можно только в том случае, если число элементов в исходном и в целевом массиве совпадает:"
   ]
  },
  {
   "cell_type": "code",
   "execution_count": 6,
   "metadata": {},
   "outputs": [
    {
     "data": {
      "text/plain": [
       "array([[2, 9, 0, 1, 6],\n",
       "       [3, 4, 4, 4, 7],\n",
       "       [9, 1, 1, 8, 4],\n",
       "       [6, 8, 5, 8, 3]])"
      ]
     },
     "execution_count": 6,
     "metadata": {},
     "output_type": "execute_result"
    }
   ],
   "source": [
    "my_array = np.random.randint(0, 10, 20)\n",
    "my_array.reshape((4,5))"
   ]
  },
  {
   "cell_type": "code",
   "execution_count": 8,
   "metadata": {},
   "outputs": [
    {
     "data": {
      "text/plain": [
       "array([  1,   2,   3,  11,  22,  33, 111, 222, 333])"
      ]
     },
     "execution_count": 8,
     "metadata": {},
     "output_type": "execute_result"
    }
   ],
   "source": [
    "#Для преобразования многомерного массива в одномерный используется метод flatten:\n",
    "\n",
    "my_array = np.array([[1,2,3], [11,22,33], [111,222,333]])\n",
    "my_array.flatten()"
   ]
  },
  {
   "cell_type": "markdown",
   "metadata": {},
   "source": [
    "# Сравнения и маски\n",
    "Научимся сравнивать элементы массива с числом и извлекать из него только те элементы, которые больше или меньше заданного числа. Для этого создадим массив размера 3х4, произвольно заполненный числами от 0 до 10. При создании массива используется генератор случайных чисел, так что у вас могут получиться другие значения:"
   ]
  },
  {
   "cell_type": "code",
   "execution_count": 10,
   "metadata": {},
   "outputs": [
    {
     "data": {
      "text/plain": [
       "array([[3, 0, 2, 8],\n",
       "       [4, 6, 3, 8],\n",
       "       [1, 9, 6, 9]])"
      ]
     },
     "execution_count": 10,
     "metadata": {},
     "output_type": "execute_result"
    }
   ],
   "source": [
    "my_array = np.random.randint(0, 10, (3,4))\n",
    "my_array"
   ]
  },
  {
   "cell_type": "code",
   "execution_count": 11,
   "metadata": {},
   "outputs": [
    {
     "data": {
      "text/plain": [
       "array([[ True,  True,  True, False],\n",
       "       [ True, False,  True, False],\n",
       "       [ True, False, False, False]])"
      ]
     },
     "execution_count": 11,
     "metadata": {},
     "output_type": "execute_result"
    }
   ],
   "source": [
    "#Теперь посмотрим, какие из элементов меньше 5:\n",
    "my_array<5"
   ]
  },
  {
   "cell_type": "markdown",
   "metadata": {},
   "source": [
    "# \n",
    "Мы получили новый массив, заполненный значениями True/False в зависимости от того, меньше или больше пяти элемент, находящийся на соответствующей позиции в исходном массиве. Для того, чтобы получить элементы массива my_array, которые меньше пяти, воспользуемся кодом ниже. Отобранные элементы представляют собой одномерный массив."
   ]
  },
  {
   "cell_type": "code",
   "execution_count": 12,
   "metadata": {},
   "outputs": [
    {
     "data": {
      "text/plain": [
       "array([3, 0, 2, 4, 3, 1])"
      ]
     },
     "execution_count": 12,
     "metadata": {},
     "output_type": "execute_result"
    }
   ],
   "source": [
    "my_array[my_array<5]"
   ]
  },
  {
   "cell_type": "markdown",
   "metadata": {},
   "source": [
    "# \n",
    "Маска нужна для выбора только определенных строк или столбцов из всего массива и скрытия остальных. Маска в Python задаётся при помощи булевых 0 и 1, где 0 скрывает столбец или строку, а 1 оставляет ее на виду. Выведем первый и третий столбец массива:"
   ]
  },
  {
   "cell_type": "code",
   "execution_count": 13,
   "metadata": {},
   "outputs": [
    {
     "data": {
      "text/plain": [
       "array([[3, 2],\n",
       "       [4, 3],\n",
       "       [1, 6]])"
      ]
     },
     "execution_count": 13,
     "metadata": {},
     "output_type": "execute_result"
    }
   ],
   "source": [
    "mask = np.array([1, 0, 1, 0], dtype=bool)\n",
    "my_array[:, mask]"
   ]
  },
  {
   "cell_type": "markdown",
   "metadata": {},
   "source": [
    "# Сортировка двумерных массивов\n",
    "В двумерных массивах можно выполнять сортировку элементов строк и столбцов:\n",
    "\n",
    "Сортировка выполняется с помощью функции sort, в качестве параметров функция получает сам массив, а также номер оси (0 (для столбцов) или 1 (для строк)) , элементы которой необходимо отсортировать. \n",
    "\n",
    "Как можно отсортировать элементы строк и столбцов?\n",
    "\n",
    "Отсортируем элементы строк:"
   ]
  },
  {
   "cell_type": "code",
   "execution_count": 17,
   "metadata": {},
   "outputs": [
    {
     "data": {
      "text/plain": [
       "array([[3, 4, 6, 5, 1, 2],\n",
       "       [5, 1, 6, 5, 2, 6],\n",
       "       [9, 7, 9, 9, 9, 2],\n",
       "       [6, 8, 8, 5, 3, 7]])"
      ]
     },
     "execution_count": 17,
     "metadata": {},
     "output_type": "execute_result"
    }
   ],
   "source": [
    "my_array = np.random.randint(0, 10, (4, 6))\n",
    "my_array"
   ]
  },
  {
   "cell_type": "code",
   "execution_count": 18,
   "metadata": {},
   "outputs": [
    {
     "data": {
      "text/plain": [
       "array([[1, 2, 3, 4, 5, 6],\n",
       "       [1, 2, 5, 5, 6, 6],\n",
       "       [2, 7, 9, 9, 9, 9],\n",
       "       [3, 5, 6, 7, 8, 8]])"
      ]
     },
     "execution_count": 18,
     "metadata": {},
     "output_type": "execute_result"
    }
   ],
   "source": [
    "np.sort(my_array, axis=1)\n"
   ]
  },
  {
   "cell_type": "code",
   "execution_count": 19,
   "metadata": {},
   "outputs": [
    {
     "data": {
      "text/plain": [
       "array([[3, 1, 6, 5, 1, 2],\n",
       "       [5, 4, 6, 5, 2, 2],\n",
       "       [6, 7, 8, 5, 3, 6],\n",
       "       [9, 8, 9, 9, 9, 7]])"
      ]
     },
     "execution_count": 19,
     "metadata": {},
     "output_type": "execute_result"
    }
   ],
   "source": [
    "np.sort(my_array, axis=0)"
   ]
  },
  {
   "cell_type": "markdown",
   "metadata": {},
   "source": [
    "# Упражнения\n",
    "Для выполнения упражнений из следующего блока мы будем использовать массив, созданный с помощью кода:"
   ]
  },
  {
   "cell_type": "code",
   "execution_count": 20,
   "metadata": {},
   "outputs": [],
   "source": [
    "first = [x**(1/2) for x in range(100)]\n",
    "second = [x**(1/3) for x in range(100, 200)]\n",
    "third = [x/y for x in range(200,300,2) for y in [3,5]]\n",
    "\n",
    "great_secret = np.array([first, second, third]).T"
   ]
  },
  {
   "cell_type": "markdown",
   "metadata": {},
   "source": [
    "#Чему равна сумма косинусов элементов первой строки массива great_secret? Ответ округлите до двух знаков после запятой."
   ]
  },
  {
   "cell_type": "code",
   "execution_count": 21,
   "metadata": {},
   "outputs": [
    {
     "data": {
      "text/plain": [
       "-0.15704076733978115"
      ]
     },
     "execution_count": 21,
     "metadata": {},
     "output_type": "execute_result"
    }
   ],
   "source": [
    "#Чему равна сумма косинусов элементов первой строки массива great_secret? Ответ округлите до двух знаков после запятой.\n",
    "\n",
    "first = [x**(1/2) for x in range(100)]\n",
    "second = [x**(1/3) for x in range(100, 200)]\n",
    "third = [x/y for x in range(200,300,2) for y in [3,5]]\n",
    "\n",
    "great_secret = np.array([first, second, third]).T\n",
    "\n",
    "np.cos(great_secret[:,0].sum())\n",
    "\n",
    "#np.cos(great_secret[0,:].sum())"
   ]
  },
  {
   "cell_type": "markdown",
   "metadata": {},
   "source": [
    "# ПРИМЕР СРЕЗОВ \n",
    "\n",
    "В случае с двухмерными массивами срезы тоже работают, но их нужно определять отдельно для рядов и колонок. Например, если нужно получить только первую строку:\n",
    "\n",
    ">A = np.arange(10, 19).reshape((3, 3))\n",
    ">A\n",
    "\n",
    "\n",
    "array([[10, 11, 12],\n",
    "       [13, 14, 15],\n",
    "       [16, 17, 18]])\n",
    ">A[0,:]\n",
    "\n",
    "\n",
    "array([10, 11, 12])\n",
    "\n",
    "\n",
    "Как видно по второму индексу, если оставить только двоеточие без числа, будут выбраны все колонки. А если нужно выбрать все значения первой колонки, то необходимо писать обратное.\n",
    "\n",
    "> A[:,0]\n",
    "\n",
    "\n",
    "array([10, 13, 16])\n",
    "\n",
    "Если же необходимо извлечь матрицу меньшего размера, то нужно явно указать все интервалы с соответствующими индексами.\n",
    "\n",
    "> A[0:2, 0:2]\n",
    "\n",
    "\n",
    "\n",
    "array([[10, 11],\n",
    "       [13, 14]])\n",
    "       \n",
    "Если индексы рядов или колонок не последовательны, нужно указывать массив индексов.\n",
    "\n",
    ">A[[0,2], 0:2] \n",
    "\n",
    "array([[10, 11],\n",
    "\n",
    "       [16, 17]])"
   ]
  },
  {
   "cell_type": "markdown",
   "metadata": {},
   "source": [
    "# \n",
    "Чему равна сумма элементов массива great_secret, значение которых больше 50?"
   ]
  },
  {
   "cell_type": "code",
   "execution_count": 43,
   "metadata": {},
   "outputs": [
    {
     "data": {
      "text/plain": [
       "74"
      ]
     },
     "execution_count": 43,
     "metadata": {},
     "output_type": "execute_result"
    }
   ],
   "source": [
    "first = [x**(1/2) for x in range(100)]\n",
    "second = [x**(1/3) for x in range(100, 200)]\n",
    "third = [x/y for x in range(200,300,2) for y in [3,5]]\n",
    "\n",
    "great_secret = np.array([first, second, third]).T\n",
    "\n",
    "(great_secret > 50).sum()\n"
   ]
  },
  {
   "cell_type": "code",
   "execution_count": 44,
   "metadata": {},
   "outputs": [
    {
     "name": "stdout",
     "output_type": "stream",
     "text": [
      "21\n"
     ]
    }
   ],
   "source": [
    "import numpy\n",
    "\n",
    "arr = numpy.asarray([0.25656927, 0.31030828, 0.23430803, 0.25999823, 0.20450112, 0.19383106, 0.35779405, 0.36355627, 0.16837767, 0.1933686,  0.20630316, 0.17804974, 0.06902786, 0.26209944, 0.21310201, 0.12016498, 0.14213449, 0.16639964, 0.33461425, 0.15897344, 0.20293266, 0.14630634, 0.2509769,  0.17211646, 0.3922994,  0.14036047, 0.12571093, 0.25565785, 0.18216616, 0.0728473, 0.25328827, 0.1476636,  0.1873344,  0.12253726, 0.16082433, 0.20678088, 0.33296013, 0.03104548, 0.14949016, 0.05495472, 0.1494042,  0.32033417, 0.05361898, 0.14325878, 0.16196126, 0.15796155, 0.10990247, 0.14499696])\n",
    "\n",
    "print((arr > 0.19214945092486838).sum())"
   ]
  },
  {
   "cell_type": "markdown",
   "metadata": {},
   "source": [
    "#\n",
    "Переведите массив great_secret в одномерную форму. Какое значение в получившемся массиве имеет элемент с индексом 150? Скопируйте ответ из Jupyter Notebook без изменений."
   ]
  },
  {
   "cell_type": "code",
   "execution_count": 46,
   "metadata": {},
   "outputs": [
    {
     "data": {
      "text/plain": [
       "7.0710678118654755"
      ]
     },
     "execution_count": 46,
     "metadata": {},
     "output_type": "execute_result"
    }
   ],
   "source": [
    "first = [x**(1/2) for x in range(100)]\n",
    "second = [x**(1/3) for x in range(100, 200)]\n",
    "third = [x/y for x in range(200,300,2) for y in [3,5]]\n",
    "\n",
    "great_secret = np.array([first, second, third]).T\n",
    "great_secret_f=great_secret.flatten()\n",
    "great_secret_f[150]\n"
   ]
  },
  {
   "cell_type": "markdown",
   "metadata": {},
   "source": [
    "Отсортируйте значения столбцов массива great_secret по возрастанию. Чему равна сумма элементов последней строки отсортированного массива? Ответ округлите до двух цифр после запятой.# "
   ]
  },
  {
   "cell_type": "code",
   "execution_count": 48,
   "metadata": {},
   "outputs": [
    {
     "name": "stdout",
     "output_type": "stream",
     "text": [
      "115.12\n"
     ]
    }
   ],
   "source": [
    "first = [x**(1/2) for x in range(100)]\n",
    "second = [x**(1/3) for x in range(100, 200)]\n",
    "third = [x/y for x in range(200,300,2) for y in [3,5]]\n",
    "\n",
    "great_secret = np.array([first, second, third]).T\n",
    "\n",
    "ops=np.sort(great_secret, axis=0)\n",
    "print((ops[-1]).sum().round(2))"
   ]
  },
  {
   "cell_type": "markdown",
   "metadata": {},
   "source": [
    "# 9.5. Математические и статистические операции"
   ]
  },
  {
   "cell_type": "markdown",
   "metadata": {},
   "source": [
    "# Математические и статистические операции\n",
    "Модуль NumPy содержит множество базовых статистических функций, которые помогают описать имеющиеся данные: среднее арифметическое (mean), медиана (median), стандартное отклонение (std), корреляция (corrcoef) и прочие. Давайте посмотрим, как они работают. \n",
    "\n",
    "Для изучения функций будем использовать набор данных, содержащих информацию об учениках шестого класса. Данные об учениках представлены в таблице:\n",
    "\n",
    "ID (номер в журнале)\tРост, см\tМасса тела, кг\tСредний балл\n",
    "\n",
    "1\t                      135\t          34\t         4\n",
    "\n",
    "2\t160\t43\t5\n",
    "\n",
    "3\t163\t40\t4.3\n",
    "\n",
    "4\t147\t44\t5\n",
    "\n",
    "5\t138\t41\t4.7\n",
    "\n",
    "6\t149\t54\t3.9\n",
    "\n",
    "7\t136\t39\t4.2\n",
    "\n",
    "8\t154\t48\t4.9\n",
    "\n",
    "9\t137\t35\t3.7\n",
    "\n",
    "10\t165\t60\t4.6\n",
    "\n",
    "Создайте массив, содержащий эти данные, и сохраните его под именем students."
   ]
  },
  {
   "cell_type": "markdown",
   "metadata": {},
   "source": [
    "# Средние величины\n",
    "Среднее арифметическое (mean) — сумма всех значений, делённая на их количество, показывает общую тенденцию данных и описывает их одним числом. Узнаем среднюю успеваемость школьников в классе, используя функцию mean:"
   ]
  },
  {
   "cell_type": "markdown",
   "metadata": {},
   "source": [
    "\n",
    "mean = np.mean(students[:,-1])\n",
    "\n",
    "mean\n",
    "\n",
    "Out: 4.430000000000001"
   ]
  },
  {
   "cell_type": "markdown",
   "metadata": {},
   "source": [
    "Медиана — это такое число, что ровно половина элементов из выборки больше него, а другая половина меньше него. Если в выборке есть выбросы (значения, которые принимают величину существенно выше или ниже среднего и выделяются из всей выборки), то медиана будет лучше характеризовать всю выборку, чем среднее арифметическое.\n",
    "\n",
    "Узнаем, как учится средний ученик, с помощью функции median:"
   ]
  },
  {
   "cell_type": "markdown",
   "metadata": {},
   "source": [
    "median = np.median(students[:,-1])\n",
    "\n",
    "median\n",
    "\n",
    "Out: 4.449999999999999"
   ]
  },
  {
   "cell_type": "markdown",
   "metadata": {},
   "source": [
    "Полученные результаты говорят нам о том, что в среднем школьники учатся хорошо, среди них много отличников (медианное значение среднего балла выше среднего арифметического). Заметим, что школьников в выборке всего 10, а медиана — это значение выборки, при котором ровно половина значений меньше неё, а половина — больше. \n",
    "\n",
    "Таким образом, при вычислении медианы Python сначала упорядочит значения по возрастанию, а затем возьмет среднее из серединных элементов полученного ряда. В нашем случае это будут пятый и шестой элементы. Мы можем это проверить, используя функцию sort для сортировки значений оценок: "
   ]
  },
  {
   "cell_type": "markdown",
   "metadata": {},
   "source": [
    "sort = np.sort(students[:,-1])\n",
    "\n",
    "(sort[4]+sort[5])/2\n",
    "\n",
    "Out: 4.449999999999999"
   ]
  },
  {
   "cell_type": "code",
   "execution_count": 6,
   "metadata": {},
   "outputs": [
    {
     "data": {
      "text/plain": [
       "array([['Иван', '19', 'Женя'],\n",
       "       ['20', 'Ольга', '21']], dtype='<U5')"
      ]
     },
     "execution_count": 6,
     "metadata": {},
     "output_type": "execute_result"
    }
   ],
   "source": [
    "import numpy as np\n",
    "\n",
    "new_array = np.array([['Иван', 19],\n",
    "                        ['Женя', 20],\n",
    "                        ['Ольга', 21]], dtype=np.str)\n",
    "new_array.reshape(2, 3)"
   ]
  },
  {
   "cell_type": "code",
   "execution_count": 3,
   "metadata": {},
   "outputs": [
    {
     "data": {
      "text/plain": [
       "array([[  1. , 135. ,  34. ,   4. ],\n",
       "       [  2. , 160. ,  43. ,   5. ],\n",
       "       [  3. , 163. ,  40. ,   4.3],\n",
       "       [  4. , 147. ,  44. ,   5. ],\n",
       "       [  5. , 138. ,  41. ,   4.7],\n",
       "       [  6. , 149. ,  54. ,   3.9],\n",
       "       [  7. , 136. ,  39. ,   4.2],\n",
       "       [  8. , 154. ,  48. ,   4.9],\n",
       "       [  9. , 137. ,  35. ,   3.7],\n",
       "       [ 10. , 165. ,  60. ,   4.6]])"
      ]
     },
     "execution_count": 3,
     "metadata": {},
     "output_type": "execute_result"
    }
   ],
   "source": [
    "students = np.array([[1,2,3,4,5,6,7,8,9,10],[135,160,163,147,138,149,136,154,137,165],[34,43,40,44,41,54,39,48,35,60],[4,5,4.3,5,4.7,3.9,4.2,4.9,3.7,4.6]])\n",
    "students = students.T\n",
    "students\n",
    "\n",
    "#ID, Рост,  Масса тела, Средний балл"
   ]
  },
  {
   "cell_type": "markdown",
   "metadata": {},
   "source": [
    "# \n",
    "Чему равно медианное значение массы тела школьников?"
   ]
  },
  {
   "cell_type": "code",
   "execution_count": 21,
   "metadata": {},
   "outputs": [
    {
     "data": {
      "text/plain": [
       "42.0"
      ]
     },
     "execution_count": 21,
     "metadata": {},
     "output_type": "execute_result"
    }
   ],
   "source": [
    "median = np.median(students[:,2]) \n",
    "median"
   ]
  },
  {
   "cell_type": "markdown",
   "metadata": {},
   "source": [
    "#\n",
    "На сколько среднее арифметическое массы тела школьников больше медианного значения для этого же показателя? Дайте ответ в килограммах с точностью до одной десятой кг.\n"
   ]
  },
  {
   "cell_type": "code",
   "execution_count": 28,
   "metadata": {},
   "outputs": [
    {
     "data": {
      "text/plain": [
       "43.8"
      ]
     },
     "execution_count": 28,
     "metadata": {},
     "output_type": "execute_result"
    }
   ],
   "source": [
    "mean = np.mean(students[:,2])\n",
    "mean"
   ]
  },
  {
   "cell_type": "code",
   "execution_count": 30,
   "metadata": {},
   "outputs": [
    {
     "data": {
      "text/plain": [
       "1.7999999999999972"
      ]
     },
     "execution_count": 30,
     "metadata": {},
     "output_type": "execute_result"
    }
   ],
   "source": [
    "mean - median"
   ]
  },
  {
   "cell_type": "markdown",
   "metadata": {},
   "source": [
    "# Коэффициент корреляции\n",
    "Корреляция — статистическая взаимосвязь случайных величин. Мерой корреляции служит одноименный коэффициент, который показывает, насколько сильно связаны величины, он может быть положительным или отрицательным, а по модулю принимает значение от 0 до 1. Отрицательный коэффициент говорит о том, что случайные величины связаны, но при увеличении одной из них вторая уменьшается. Если коэффициент положительный, то величины изменяются в одном направлении.\n",
    "\n",
    "Аналитики часто оперируют в своей работе данной величиной и ошибаются, делая ложные выводы о данных. Связано это с тем, что не всегда наличие корреляции между двумя показателями говорит о том, что между ними есть причинно-следственная связь.\n",
    "\n",
    "Давайте узнаем, как связан рост и вес наших школьников, посчитав коэффициент корреляции столбцов матрицы:"
   ]
  },
  {
   "cell_type": "code",
   "execution_count": 31,
   "metadata": {},
   "outputs": [
    {
     "data": {
      "text/plain": [
       "array([[1.        , 0.64314431],\n",
       "       [0.64314431, 1.        ]])"
      ]
     },
     "execution_count": 31,
     "metadata": {},
     "output_type": "execute_result"
    }
   ],
   "source": [
    "corr = np.corrcoef(students[:,1], students[:,2])\n",
    "corr"
   ]
  },
  {
   "cell_type": "markdown",
   "metadata": {},
   "source": [
    "# \n",
    "Полученный нами коэффициент корреляции составляет чуть больше 0.64. Это говорит о том, что между ростом и весом школьников существует положительная связь: более рослые ученики обычно имеют более высокую массу тела."
   ]
  },
  {
   "cell_type": "code",
   "execution_count": 33,
   "metadata": {},
   "outputs": [
    {
     "data": {
      "text/plain": [
       "array([[1.        , 0.46293714],\n",
       "       [0.46293714, 1.        ]])"
      ]
     },
     "execution_count": 33,
     "metadata": {},
     "output_type": "execute_result"
    }
   ],
   "source": [
    "corr = np.corrcoef(students[:,1], students[:,3])\n",
    "corr"
   ]
  },
  {
   "cell_type": "code",
   "execution_count": 35,
   "metadata": {},
   "outputs": [
    {
     "data": {
      "text/plain": [
       "array([[1.        , 0.29801325],\n",
       "       [0.29801325, 1.        ]])"
      ]
     },
     "execution_count": 35,
     "metadata": {},
     "output_type": "execute_result"
    }
   ],
   "source": [
    "corr = np.corrcoef(students[:,3], students[:,2])\n",
    "corr"
   ]
  },
  {
   "cell_type": "markdown",
   "metadata": {},
   "source": [
    "# Показатели вариации"
   ]
  },
  {
   "cell_type": "markdown",
   "metadata": {},
   "source": [
    "#\n",
    "Математическое ожидание — среднее значение случайной величины при стремлении числа её измерений к бесконечности. Если число измерений конечно, то для оценки среднего значения величины используется среднее арифметическое. \n",
    "\n",
    "Дисперсия — мера разброса случайной величины относительно её математического ожидания. \n",
    "\n",
    " {\\displaystyle D[X]=M\\left[{\\big (}X-M[X]{\\big )}^{2}\\right]} \n",
    "\n",
    "Как следует из формулы, дисперсия случайной величины X равна математическому ожиданию квадрата отклонения случайной величины от ее математического ожидания. То есть, если величина дисперсии небольшая, значит, все числа в выборке имеют близкие друг к другу значения, а чем она больше — тем значительнее разброс показателей.\n",
    "\n",
    "Стандартное отклонение — самый распространенный показатель рассеивания случайной величины относительно её математического ожидания. \n",
    "\n",
    "{\\displaystyle \\sigma ={\\sqrt {D[X]}}}.\n",
    "\n",
    "Стандартное отклонение равно квадратному корню из дисперсии. Низкое стандартное отклонение показывает, что все значения в выборке сгруппированы около среднего значения.  Большой показатель этой величины говорит о том, что разброс значений большой. \n",
    "\n",
    "Узнаем, насколько разный у школьников рост, посчитав стандартное отклонение std:"
   ]
  },
  {
   "cell_type": "code",
   "execution_count": 4,
   "metadata": {},
   "outputs": [
    {
     "data": {
      "text/plain": [
       "11.083320801997928"
      ]
     },
     "execution_count": 4,
     "metadata": {},
     "output_type": "execute_result"
    }
   ],
   "source": [
    "std = np.std(students[:,1])\n",
    "std"
   ]
  },
  {
   "cell_type": "markdown",
   "metadata": {},
   "source": [
    "# \n",
    "Полученный результат показывает, что в этом классе одни дети уже начали активно расти, а другие ещё не вступили в период полового созревания. В результате разброс в росте большинства учеников составляет более 11 см от среднего арифметического."
   ]
  },
  {
   "cell_type": "markdown",
   "metadata": {},
   "source": [
    "Используя имеющийся набор данных о школьниках, найдите, чему равно стандартное отклонение их средних баллов."
   ]
  },
  {
   "cell_type": "code",
   "execution_count": 8,
   "metadata": {},
   "outputs": [
    {
     "data": {
      "text/plain": [
       "0.4517742799230607"
      ]
     },
     "execution_count": 8,
     "metadata": {},
     "output_type": "execute_result"
    }
   ],
   "source": [
    "resul = np.std(students[:,-1])\n",
    "resul"
   ]
  },
  {
   "cell_type": "markdown",
   "metadata": {},
   "source": [
    "Посчитайте, чему равна дисперсия значений веса школьников.\n",
    "\n",
    "Эту величину можно получить двумя способами: математически - используя определение дисперсии и известную функцию в блоке, или самостоятельно - используя подходящую функцию модуля NumPy."
   ]
  },
  {
   "cell_type": "code",
   "execution_count": 10,
   "metadata": {},
   "outputs": [
    {
     "data": {
      "text/plain": [
       "60.36"
      ]
     },
     "execution_count": 10,
     "metadata": {},
     "output_type": "execute_result"
    }
   ],
   "source": [
    "fat = np.var(students[:,-2])\n",
    "fat"
   ]
  },
  {
   "cell_type": "markdown",
   "metadata": {},
   "source": [
    "# 9.6. Итоги модуля"
   ]
  },
  {
   "cell_type": "raw",
   "metadata": {},
   "source": [
    "Отметьте НЕВЕРНЫЕ утверждения о массивах NumPy."
   ]
  },
  {
   "cell_type": "markdown",
   "metadata": {},
   "source": [
    "При обращении к элементу двумерного массива сначала указывается индекс столбца, потом — индекс строки.\n",
    "\n",
    "Для создания массива всегда используется конструктор np.array."
   ]
  },
  {
   "cell_type": "raw",
   "metadata": {},
   "source": [
    "Выберите правильный код для создания массива, состоящего из 5 строк и 10 столбцов, заполненного единицами."
   ]
  },
  {
   "cell_type": "code",
   "execution_count": 12,
   "metadata": {},
   "outputs": [
    {
     "data": {
      "text/plain": [
       "array([[7.74860419e-304],\n",
       "       [7.74860419e-304],\n",
       "       [7.74860419e-304],\n",
       "       [7.74860419e-304],\n",
       "       [7.74860419e-304]])"
      ]
     },
     "execution_count": 12,
     "metadata": {},
     "output_type": "execute_result"
    }
   ],
   "source": [
    "np.empty((5, 1))"
   ]
  },
  {
   "cell_type": "code",
   "execution_count": 13,
   "metadata": {},
   "outputs": [
    {
     "data": {
      "text/plain": [
       "array([[1, 1, 1, 1, 1, 1, 1, 1, 1, 1],\n",
       "       [1, 1, 1, 1, 1, 1, 1, 1, 1, 1],\n",
       "       [1, 1, 1, 1, 1, 1, 1, 1, 1, 1],\n",
       "       [1, 1, 1, 1, 1, 1, 1, 1, 1, 1],\n",
       "       [1, 1, 1, 1, 1, 1, 1, 1, 1, 1]])"
      ]
     },
     "execution_count": 13,
     "metadata": {},
     "output_type": "execute_result"
    }
   ],
   "source": [
    "np.ones((5,10), dtype = int)"
   ]
  },
  {
   "cell_type": "code",
   "execution_count": 14,
   "metadata": {},
   "outputs": [
    {
     "data": {
      "text/plain": [
       "array([[1, 1, 1, 1, 1],\n",
       "       [1, 1, 1, 1, 1],\n",
       "       [1, 1, 1, 1, 1],\n",
       "       [1, 1, 1, 1, 1],\n",
       "       [1, 1, 1, 1, 1],\n",
       "       [1, 1, 1, 1, 1],\n",
       "       [1, 1, 1, 1, 1],\n",
       "       [1, 1, 1, 1, 1],\n",
       "       [1, 1, 1, 1, 1],\n",
       "       [1, 1, 1, 1, 1]])"
      ]
     },
     "execution_count": 14,
     "metadata": {},
     "output_type": "execute_result"
    }
   ],
   "source": [
    "np.full((10, 5), 1)"
   ]
  },
  {
   "cell_type": "code",
   "execution_count": 15,
   "metadata": {},
   "outputs": [
    {
     "ename": "TypeError",
     "evalue": "'tuple' object cannot be interpreted as an integer",
     "output_type": "error",
     "traceback": [
      "\u001b[1;31m---------------------------------------------------------------------------\u001b[0m",
      "\u001b[1;31mTypeError\u001b[0m                                 Traceback (most recent call last)",
      "\u001b[1;32m<ipython-input-15-6367a1c93b19>\u001b[0m in \u001b[0;36m<module>\u001b[1;34m\u001b[0m\n\u001b[1;32m----> 1\u001b[1;33m \u001b[0mnp\u001b[0m\u001b[1;33m.\u001b[0m\u001b[0meye\u001b[0m\u001b[1;33m(\u001b[0m\u001b[1;33m(\u001b[0m\u001b[1;36m5\u001b[0m\u001b[1;33m,\u001b[0m \u001b[1;36m10\u001b[0m\u001b[1;33m)\u001b[0m\u001b[1;33m)\u001b[0m\u001b[1;33m\u001b[0m\u001b[1;33m\u001b[0m\u001b[0m\n\u001b[0m",
      "\u001b[1;32mD:\\Anacondic\\lib\\site-packages\\numpy\\lib\\twodim_base.py\u001b[0m in \u001b[0;36meye\u001b[1;34m(N, M, k, dtype, order)\u001b[0m\n\u001b[0;32m    199\u001b[0m     \u001b[1;32mif\u001b[0m \u001b[0mM\u001b[0m \u001b[1;32mis\u001b[0m \u001b[1;32mNone\u001b[0m\u001b[1;33m:\u001b[0m\u001b[1;33m\u001b[0m\u001b[1;33m\u001b[0m\u001b[0m\n\u001b[0;32m    200\u001b[0m         \u001b[0mM\u001b[0m \u001b[1;33m=\u001b[0m \u001b[0mN\u001b[0m\u001b[1;33m\u001b[0m\u001b[1;33m\u001b[0m\u001b[0m\n\u001b[1;32m--> 201\u001b[1;33m     \u001b[0mm\u001b[0m \u001b[1;33m=\u001b[0m \u001b[0mzeros\u001b[0m\u001b[1;33m(\u001b[0m\u001b[1;33m(\u001b[0m\u001b[0mN\u001b[0m\u001b[1;33m,\u001b[0m \u001b[0mM\u001b[0m\u001b[1;33m)\u001b[0m\u001b[1;33m,\u001b[0m \u001b[0mdtype\u001b[0m\u001b[1;33m=\u001b[0m\u001b[0mdtype\u001b[0m\u001b[1;33m,\u001b[0m \u001b[0morder\u001b[0m\u001b[1;33m=\u001b[0m\u001b[0morder\u001b[0m\u001b[1;33m)\u001b[0m\u001b[1;33m\u001b[0m\u001b[1;33m\u001b[0m\u001b[0m\n\u001b[0m\u001b[0;32m    202\u001b[0m     \u001b[1;32mif\u001b[0m \u001b[0mk\u001b[0m \u001b[1;33m>=\u001b[0m \u001b[0mM\u001b[0m\u001b[1;33m:\u001b[0m\u001b[1;33m\u001b[0m\u001b[1;33m\u001b[0m\u001b[0m\n\u001b[0;32m    203\u001b[0m         \u001b[1;32mreturn\u001b[0m \u001b[0mm\u001b[0m\u001b[1;33m\u001b[0m\u001b[1;33m\u001b[0m\u001b[0m\n",
      "\u001b[1;31mTypeError\u001b[0m: 'tuple' object cannot be interpreted as an integer"
     ]
    }
   ],
   "source": [
    "np.eye((5, 10))"
   ]
  },
  {
   "cell_type": "code",
   "execution_count": 16,
   "metadata": {},
   "outputs": [
    {
     "data": {
      "text/plain": [
       "array([1., 1., 1., 1., 1., 1., 1., 1., 1., 1., 1., 1., 1., 1., 1., 1., 1.,\n",
       "       1., 1., 1., 1., 1., 1., 1., 1., 1., 1., 1., 1., 1., 1., 1., 1., 1.,\n",
       "       1., 1., 1., 1., 1., 1., 1., 1., 1., 1., 1.])"
      ]
     },
     "execution_count": 16,
     "metadata": {},
     "output_type": "execute_result"
    }
   ],
   "source": [
    "np.array([x/x for x in range(1,10)]*5)"
   ]
  },
  {
   "cell_type": "markdown",
   "metadata": {},
   "source": [
    "Укажите, каким может быть максимально возможное значение элемента массива, созданного с помощью кода:"
   ]
  },
  {
   "cell_type": "code",
   "execution_count": 17,
   "metadata": {},
   "outputs": [
    {
     "data": {
      "text/plain": [
       "array([[2, 9, 2, 4, 6, 4, 5, 3, 5, 5],\n",
       "       [5, 6, 8, 4, 7, 6, 7, 7, 2, 9],\n",
       "       [1, 6, 8, 4, 6, 8, 9, 6, 8, 2],\n",
       "       [8, 1, 6, 8, 9, 5, 8, 1, 4, 6],\n",
       "       [3, 8, 7, 5, 7, 6, 2, 9, 5, 6],\n",
       "       [2, 8, 3, 1, 6, 1, 1, 3, 6, 4],\n",
       "       [7, 9, 4, 3, 8, 1, 4, 9, 5, 2],\n",
       "       [8, 4, 5, 4, 4, 9, 2, 7, 8, 4],\n",
       "       [1, 5, 1, 3, 5, 1, 7, 7, 3, 5],\n",
       "       [6, 1, 4, 7, 5, 6, 7, 2, 3, 8]])"
      ]
     },
     "execution_count": 17,
     "metadata": {},
     "output_type": "execute_result"
    }
   ],
   "source": [
    "np.random.randint(1, 10, (10, 10))"
   ]
  },
  {
   "cell_type": "raw",
   "metadata": {},
   "source": [
    "Перед вами массив my_array, созданный с помощью кода выше. Напишите код, с помощью которого можно извлечь из него центральный фрагмент размером 3 х 3, с числами 7, 8, 9, 12, 13, 14, 17, 18, 19.\n",
    "\n",
    "Код должен содержать имя массива и набор индексов для получения нужного среза. В ответе использовать только положительные значения индексов и введите ответ в одну строку без пробелов."
   ]
  },
  {
   "cell_type": "code",
   "execution_count": 2,
   "metadata": {},
   "outputs": [],
   "source": [
    "my_array = np.array([[1,2,3,4,5],\n",
    "                     [6,7,8,9,10],\n",
    "                     [11,12,13,14,15],\n",
    "                     [16,17,18,19,20],\n",
    "                     [21,22,23,24,25]])"
   ]
  },
  {
   "cell_type": "markdown",
   "metadata": {},
   "source": [
    "\n",
    "A = np.arange(10, 19).reshape((3, 3)) A\n",
    "\n",
    "array([[10, 11, 12], [13, 14, 15], [16, 17, 18]])\n",
    "\n",
    "A[0,:]\n",
    "\n",
    "array([10, 11, 12])\n",
    "\n",
    "Как видно по второму индексу, если оставить только двоеточие без числа, будут выбраны все колонки. А если нужно выбрать все значения первой колонки, то необходимо писать обратное.\n",
    "\n",
    "A[:,0]\n",
    "\n",
    "array([10, 13, 16])\n",
    "\n",
    "Если же необходимо извлечь матрицу меньшего размера, то нужно явно указать все интервалы с соответствующими индексами.\n",
    "\n",
    "A[0:2, 0:2]\n",
    "\n",
    "array([[10, 11], [13, 14]])\n",
    "\n",
    "Если индексы рядов или колонок не последовательны, нужно указывать массив индексов.\n",
    "\n",
    "A[[0,2], 0:2]\n",
    "\n",
    "array([[10, 11],\n",
    "\n",
    "   [16, 17]])"
   ]
  },
  {
   "cell_type": "code",
   "execution_count": 24,
   "metadata": {},
   "outputs": [
    {
     "data": {
      "text/plain": [
       "array([[ 3,  4],\n",
       "       [ 8,  9],\n",
       "       [13, 14],\n",
       "       [18, 19],\n",
       "       [23, 24]])"
      ]
     },
     "execution_count": 24,
     "metadata": {},
     "output_type": "execute_result"
    }
   ],
   "source": [
    "my_array[:,2:4]"
   ]
  },
  {
   "cell_type": "code",
   "execution_count": 38,
   "metadata": {},
   "outputs": [
    {
     "data": {
      "text/plain": [
       "array([[ 7,  8,  9],\n",
       "       [12, 13, 14],\n",
       "       [17, 18, 19]])"
      ]
     },
     "execution_count": 38,
     "metadata": {},
     "output_type": "execute_result"
    }
   ],
   "source": [
    "my_array[1:4, 1:4]"
   ]
  },
  {
   "cell_type": "markdown",
   "metadata": {},
   "source": [
    "Создайте массив my_sin, состоящий из синусов элементов массива my_array. Посчитайте, чему равна сумма элементов полученного массива. Ответ округлите до трёх цифр после запятой."
   ]
  },
  {
   "cell_type": "code",
   "execution_count": 7,
   "metadata": {},
   "outputs": [
    {
     "data": {
      "text/plain": [
       "-0.05812430261413351"
      ]
     },
     "execution_count": 7,
     "metadata": {},
     "output_type": "execute_result"
    }
   ],
   "source": [
    "my_sin = np.array(my_array)\n",
    "my_sin= np.sin(my_array)\n",
    "my_sin.sum()\n",
    "\n"
   ]
  },
  {
   "cell_type": "markdown",
   "metadata": {},
   "source": [
    "Замените элементы в центральном фрагменте 3 х 3 массива my_sin на единицы.Чему равна сумма элементов изменённого массива? Ответ округлите до трёх знаков после запятой."
   ]
  },
  {
   "cell_type": "code",
   "execution_count": 16,
   "metadata": {},
   "outputs": [
    {
     "data": {
      "text/plain": [
       "7.571718421269144"
      ]
     },
     "execution_count": 16,
     "metadata": {},
     "output_type": "execute_result"
    }
   ],
   "source": [
    "my_sin1 = np.array(my_sin)\n",
    "my_sin1[1:4, 1:4]=1\n",
    "my_sin1.sum()"
   ]
  },
  {
   "cell_type": "markdown",
   "metadata": {},
   "source": [
    "Преобразуйте первые четыре столбца массива my_sin в массив из 10 строк и 2 столбцов. Чему равна сумма элементов первого столбца получившегося массива? Ответ округлите до трёх заков после точки-разделителя. Используйте преобразованный в предыдущем задании массив my_sin."
   ]
  },
  {
   "cell_type": "code",
   "execution_count": 17,
   "metadata": {},
   "outputs": [
    {
     "data": {
      "text/plain": [
       "array([[ 0.84147098,  0.90929743,  0.14112001, -0.7568025 , -0.95892427],\n",
       "       [-0.2794155 ,  1.        ,  1.        ,  1.        , -0.54402111],\n",
       "       [-0.99999021,  1.        ,  1.        ,  1.        ,  0.65028784],\n",
       "       [-0.28790332,  1.        ,  1.        ,  1.        ,  0.91294525],\n",
       "       [ 0.83665564, -0.00885131, -0.8462204 , -0.90557836, -0.13235175]])"
      ]
     },
     "execution_count": 17,
     "metadata": {},
     "output_type": "execute_result"
    }
   ],
   "source": [
    "my_sin1"
   ]
  }
 ],
 "metadata": {
  "kernelspec": {
   "display_name": "Python 3",
   "language": "python",
   "name": "python3"
  },
  "language_info": {
   "codemirror_mode": {
    "name": "ipython",
    "version": 3
   },
   "file_extension": ".py",
   "mimetype": "text/x-python",
   "name": "python",
   "nbconvert_exporter": "python",
   "pygments_lexer": "ipython3",
   "version": "3.8.3"
  }
 },
 "nbformat": 4,
 "nbformat_minor": 4
}
