{
  "nbformat": 4,
  "nbformat_minor": 0,
  "metadata": {
    "kernelspec": {
      "display_name": "Python 3",
      "language": "python",
      "name": "python3"
    },
    "language_info": {
      "codemirror_mode": {
        "name": "ipython",
        "version": 3
      },
      "file_extension": ".py",
      "mimetype": "text/x-python",
      "name": "python",
      "nbconvert_exporter": "python",
      "pygments_lexer": "ipython3",
      "version": "3.7.1"
    },
    "colab": {
      "name": "Python A2 (6.10.2019).ipynb",
      "provenance": []
    }
  },
  "cells": [
    {
      "cell_type": "markdown",
      "metadata": {
        "id": "rHJVde4BG81Z"
      },
      "source": [
        "# Списки"
      ]
    },
    {
      "cell_type": "code",
      "metadata": {
        "id": "hlypi_J7G81e"
      },
      "source": [
        "animals = ['кошка', 'собака', 'хомяк', 'корова', 'лошадь', 'лиса', 'волк', 'заяц']"
      ],
      "execution_count": null,
      "outputs": []
    },
    {
      "cell_type": "markdown",
      "metadata": {
        "id": "seUn3oSmG81h"
      },
      "source": [
        "Выполняем задания по выводу на экран элементов списка с помощью срезов"
      ]
    },
    {
      "cell_type": "code",
      "metadata": {
        "id": "utNnIpBSG81i",
        "outputId": "ea0f0e82-f371-49f9-938f-6ea37067cbb5"
      },
      "source": [
        "# Вывести на экран название своего любимого животного\n",
        "animals[1]"
      ],
      "execution_count": null,
      "outputs": [
        {
          "output_type": "execute_result",
          "data": {
            "text/plain": [
              "'собака'"
            ]
          },
          "metadata": {
            "tags": []
          },
          "execution_count": 4
        }
      ]
    },
    {
      "cell_type": "code",
      "metadata": {
        "id": "NrZ6RTxiG81k",
        "outputId": "2087f7fb-1939-41ea-ea59-52c371902eb9"
      },
      "source": [
        "# Вывести на экран список домашних животных, которых можно содержать в городской квартире\n",
        "animals[:3]"
      ],
      "execution_count": null,
      "outputs": [
        {
          "output_type": "execute_result",
          "data": {
            "text/plain": [
              "['кошка', 'собака', 'хомяк']"
            ]
          },
          "metadata": {
            "tags": []
          },
          "execution_count": 6
        }
      ]
    },
    {
      "cell_type": "code",
      "metadata": {
        "id": "X_dXc9PUG81m",
        "outputId": "b1d084bd-0696-45f3-8615-aa2c4d572227"
      },
      "source": [
        "#Вывести на экран список домашних животных, которых нельзя содержать в городской квартире\n",
        "animals[3:5]"
      ],
      "execution_count": null,
      "outputs": [
        {
          "output_type": "execute_result",
          "data": {
            "text/plain": [
              "['корова', 'лошадь']"
            ]
          },
          "metadata": {
            "tags": []
          },
          "execution_count": 8
        }
      ]
    },
    {
      "cell_type": "code",
      "metadata": {
        "id": "EFtGWBiSG81n",
        "outputId": "0639cdb5-f6f7-480e-a19e-b05c98a2cd9f"
      },
      "source": [
        "# Вывести на экран список диких животных\n",
        "animals[-3:8]"
      ],
      "execution_count": null,
      "outputs": [
        {
          "output_type": "execute_result",
          "data": {
            "text/plain": [
              "['лиса', 'волк', 'заяц']"
            ]
          },
          "metadata": {
            "tags": []
          },
          "execution_count": 13
        }
      ]
    },
    {
      "cell_type": "code",
      "metadata": {
        "id": "y5hdoGArG81p",
        "outputId": "061c8c5f-5562-4c08-9a76-a2cf37e538f6"
      },
      "source": [
        "# Вывести на экран список: кошка, хомяк, лошадь, волк\n",
        "animals[::2]"
      ],
      "execution_count": null,
      "outputs": [
        {
          "output_type": "execute_result",
          "data": {
            "text/plain": [
              "['кошка', 'хомяк', 'лошадь', 'волк']"
            ]
          },
          "metadata": {
            "tags": []
          },
          "execution_count": 14
        }
      ]
    },
    {
      "cell_type": "code",
      "metadata": {
        "id": "IognXdKtG81r",
        "outputId": "ec0add7a-d5b5-4fb6-bc6f-69291728ff42"
      },
      "source": [
        "# Вывести на экран список животных задом наперёд (заяц, волк, ..., кошка) \n",
        "animals[::-1]"
      ],
      "execution_count": null,
      "outputs": [
        {
          "output_type": "execute_result",
          "data": {
            "text/plain": [
              "['заяц', 'волк', 'лиса', 'лошадь', 'корова', 'хомяк', 'собака', 'кошка']"
            ]
          },
          "metadata": {
            "tags": []
          },
          "execution_count": 15
        }
      ]
    },
    {
      "cell_type": "code",
      "metadata": {
        "id": "dzCUTcvMG81s",
        "outputId": "614ebdb1-17e5-4b55-df25-d6cb20292d0e"
      },
      "source": [
        "animals[-3:1:-1]"
      ],
      "execution_count": null,
      "outputs": [
        {
          "output_type": "execute_result",
          "data": {
            "text/plain": [
              "['лиса', 'лошадь', 'корова', 'хомяк']"
            ]
          },
          "metadata": {
            "tags": []
          },
          "execution_count": 17
        }
      ]
    },
    {
      "cell_type": "markdown",
      "metadata": {
        "id": "HlSgunU2G81u"
      },
      "source": [
        "#### Задание:\n",
        "Вывести на экран сообщение:  \n",
        "1-й элемент списка - \"кошка\"  \n",
        "2-й элемент списка - \"собака\"  \n",
        "и т.д."
      ]
    },
    {
      "cell_type": "code",
      "metadata": {
        "id": "c_-shZ4LG81u",
        "outputId": "a4938474-ab93-4100-a804-27d86a967d4f"
      },
      "source": [
        "# Используйте в качестве параметра цикла элемента списка\n",
        "number = 0\n",
        "for animal in animals:\n",
        "    number += 1\n",
        "    print('{}-й элемент списка -\"{}\"'.format(number,animal))"
      ],
      "execution_count": null,
      "outputs": [
        {
          "output_type": "stream",
          "text": [
            "1-й элемент списка -\"кошка\"\n",
            "2-й элемент списка -\"собака\"\n",
            "3-й элемент списка -\"хомяк\"\n",
            "4-й элемент списка -\"корова\"\n",
            "5-й элемент списка -\"лошадь\"\n",
            "6-й элемент списка -\"лиса\"\n",
            "7-й элемент списка -\"волк\"\n",
            "8-й элемент списка -\"заяц\"\n"
          ],
          "name": "stdout"
        }
      ]
    },
    {
      "cell_type": "code",
      "metadata": {
        "id": "wnmwnnNGG81v",
        "outputId": "e52f6e7f-ccc6-46c8-f86e-9ffb500cdaa9"
      },
      "source": [
        "# Используйте в качестве параметра цикла индексы элементов списка\n",
        "for i in range(len(animals)):\n",
        "    print('{}-й элемент списка -\"{}\"'.format(i+1,animals[i]))"
      ],
      "execution_count": null,
      "outputs": [
        {
          "output_type": "stream",
          "text": [
            "1-й элемент списка -\"кошка\"\n",
            "2-й элемент списка -\"собака\"\n",
            "3-й элемент списка -\"хомяк\"\n",
            "4-й элемент списка -\"корова\"\n",
            "5-й элемент списка -\"лошадь\"\n",
            "6-й элемент списка -\"лиса\"\n",
            "7-й элемент списка -\"волк\"\n",
            "8-й элемент списка -\"заяц\"\n"
          ],
          "name": "stdout"
        }
      ]
    },
    {
      "cell_type": "code",
      "metadata": {
        "id": "Zj8zlJLJG81x",
        "outputId": "c6707fa0-18c3-4318-af5b-d45375fde017"
      },
      "source": [
        "# Используйте enumerate, т.е. организуйте цикл с двумя параметрами\n",
        "for counter, animal in enumerate(animals, 1):\n",
        "    print('{}-й элемент списка - \"{}\"'.format(counter, animal))"
      ],
      "execution_count": null,
      "outputs": [
        {
          "output_type": "stream",
          "text": [
            "1-й элемент списка - \"кошка\"\n",
            "2-й элемент списка - \"собака\"\n",
            "3-й элемент списка - \"хомяк\"\n",
            "4-й элемент списка - \"корова\"\n",
            "5-й элемент списка - \"лошадь\"\n",
            "6-й элемент списка - \"лиса\"\n",
            "7-й элемент списка - \"волк\"\n",
            "8-й элемент списка - \"заяц\"\n"
          ],
          "name": "stdout"
        }
      ]
    },
    {
      "cell_type": "markdown",
      "metadata": {
        "id": "gzBf7aa4G81y"
      },
      "source": [
        "### Генератор списка"
      ]
    },
    {
      "cell_type": "markdown",
      "metadata": {
        "id": "I44aXudrG81y"
      },
      "source": [
        "Задание: создать список, содержащий квадраты двузначных чётных чисел, не превышающих 25, сначала традиционным способом, а потом с помощью генератора списка."
      ]
    },
    {
      "cell_type": "code",
      "metadata": {
        "id": "UUJcRFsuG81z",
        "outputId": "6c360524-e451-4abf-c213-5c743c2a287d"
      },
      "source": [
        "# Традиционный подход\n",
        "my_list = []\n",
        "for i in range(10,26,2):\n",
        "    number = i**2\n",
        "    my_list.append(number)\n",
        "my_list"
      ],
      "execution_count": null,
      "outputs": [
        {
          "output_type": "execute_result",
          "data": {
            "text/plain": [
              "[100, 144, 196, 256, 324, 400, 484, 576]"
            ]
          },
          "metadata": {
            "tags": []
          },
          "execution_count": 27
        }
      ]
    },
    {
      "cell_type": "code",
      "metadata": {
        "id": "f8tjBrzoG810"
      },
      "source": [
        "# Использование генератора списка\n",
        "my_list = [x**2 for x in range(10, 26, 2)]"
      ],
      "execution_count": null,
      "outputs": []
    },
    {
      "cell_type": "code",
      "metadata": {
        "id": "_HlyZwwvG810",
        "outputId": "ab554a41-a966-4033-ffed-ba925f35e062"
      },
      "source": [
        "my_list"
      ],
      "execution_count": null,
      "outputs": [
        {
          "output_type": "execute_result",
          "data": {
            "text/plain": [
              "[100, 144, 196, 256, 324, 400, 484, 576]"
            ]
          },
          "metadata": {
            "tags": []
          },
          "execution_count": 32
        }
      ]
    },
    {
      "cell_type": "code",
      "metadata": {
        "id": "JLYoM-_4G811",
        "outputId": "adbb6b0a-e988-4b9f-f760-b00811982c64"
      },
      "source": [
        "[i**2 for i in range(10, 26) if i%2==0]"
      ],
      "execution_count": null,
      "outputs": [
        {
          "output_type": "execute_result",
          "data": {
            "text/plain": [
              "[100, 144, 196, 256, 324, 400, 484, 576]"
            ]
          },
          "metadata": {
            "tags": []
          },
          "execution_count": 30
        }
      ]
    },
    {
      "cell_type": "markdown",
      "metadata": {
        "id": "MoJ4WchhG812"
      },
      "source": [
        "## Вложенные списки"
      ]
    },
    {
      "cell_type": "code",
      "metadata": {
        "id": "GriR3X5yG812"
      },
      "source": [
        "my_list = [[1,2,3], [4,5,6], [7,8,9]]"
      ],
      "execution_count": null,
      "outputs": []
    },
    {
      "cell_type": "code",
      "metadata": {
        "id": "uY78mzYWG813",
        "outputId": "1d78176a-2d47-43a3-dc6e-3a94d4746776"
      },
      "source": [
        "len(my_list)"
      ],
      "execution_count": null,
      "outputs": [
        {
          "output_type": "execute_result",
          "data": {
            "text/plain": [
              "3"
            ]
          },
          "metadata": {
            "tags": []
          },
          "execution_count": 34
        }
      ]
    },
    {
      "cell_type": "code",
      "metadata": {
        "id": "BLObhf8WG813",
        "outputId": "5b822822-802f-4c1b-bd70-786664236102"
      },
      "source": [
        "for x in my_list:\n",
        "    print(x)"
      ],
      "execution_count": null,
      "outputs": [
        {
          "output_type": "stream",
          "text": [
            "[1, 2, 3]\n",
            "[4, 5, 6]\n",
            "[7, 8, 9]\n"
          ],
          "name": "stdout"
        }
      ]
    },
    {
      "cell_type": "markdown",
      "metadata": {
        "id": "t41uwsR1G814"
      },
      "source": [
        "Пробуем извлекать элементы списка по индексам"
      ]
    },
    {
      "cell_type": "code",
      "metadata": {
        "id": "ONBbdgX2G814",
        "outputId": "5abce761-4214-40b4-88df-26f6bfde677d"
      },
      "source": [
        "# Задание: извлечь из списка число 8\n",
        "my_list[2][1]"
      ],
      "execution_count": null,
      "outputs": [
        {
          "output_type": "execute_result",
          "data": {
            "text/plain": [
              "8"
            ]
          },
          "metadata": {
            "tags": []
          },
          "execution_count": 38
        }
      ]
    },
    {
      "cell_type": "code",
      "metadata": {
        "id": "8dxwmRzmG815",
        "outputId": "b6453277-da22-4c03-eafb-cb7b91dd8a43"
      },
      "source": [
        "# *Получить из списка my_list список, содержащий первые элементы каждого вложенного списка\n",
        "# Подсказка: можно использовать генератор списка\n",
        "[i[0] for i in (my_list)]"
      ],
      "execution_count": null,
      "outputs": [
        {
          "output_type": "execute_result",
          "data": {
            "text/plain": [
              "[1, 4, 7]"
            ]
          },
          "metadata": {
            "tags": []
          },
          "execution_count": 39
        }
      ]
    },
    {
      "cell_type": "markdown",
      "metadata": {
        "id": "aaGpbhjGG816"
      },
      "source": [
        "Задание: Вывести на экран список в виде таблицы:\n",
        "\n",
        "1 2 3  \n",
        "4 5 6  \n",
        "7 8 9"
      ]
    },
    {
      "cell_type": "code",
      "metadata": {
        "id": "bMVEblWoG816",
        "outputId": "494a09c1-9596-4e46-9b72-8c0379da5f69"
      },
      "source": [
        "for small_list in my_list:\n",
        "    for number in small_list:\n",
        "        print(number, end=' ')\n",
        "    print()"
      ],
      "execution_count": null,
      "outputs": [
        {
          "output_type": "stream",
          "text": [
            "1 2 3\n",
            "4 5 6\n",
            "7 8 9\n"
          ],
          "name": "stdout"
        }
      ]
    },
    {
      "cell_type": "markdown",
      "metadata": {
        "id": "L2n5ArPmG817"
      },
      "source": [
        "# Работа со словарями"
      ]
    },
    {
      "cell_type": "markdown",
      "metadata": {
        "id": "2GDNmQwhG817"
      },
      "source": [
        "## Создание словарей, работа с ключами и значениями  "
      ]
    },
    {
      "cell_type": "code",
      "metadata": {
        "id": "SZ__MdLQG818"
      },
      "source": [
        "my_school = {'математика': 'Иванова М.И.', \n",
        "             'русский язык': 'Пушкина А.С.', \n",
        "             'английский язык': 'Петров Д.Ю.', \n",
        "             'физика': 'Эйнштейн А.Э.', \n",
        "             'химия': 'Менделеева Д.И.', \n",
        "             'биология': 'Мендель Г.И.', \n",
        "             'физкультура': 'Тарасова Т.А.'}"
      ],
      "execution_count": null,
      "outputs": []
    },
    {
      "cell_type": "markdown",
      "metadata": {
        "id": "gfyZ2Y2DG818"
      },
      "source": [
        "Попробуем найти фамилии учителей, преподающих разные предметы, разными способами"
      ]
    },
    {
      "cell_type": "code",
      "metadata": {
        "id": "1btyR4AIG819",
        "outputId": "6075af1e-ac43-4f56-b9a7-0cd6ead3c5bb"
      },
      "source": [
        "# Вывести на экран фамилию учителя физики\n",
        "my_school['физика']"
      ],
      "execution_count": null,
      "outputs": [
        {
          "output_type": "execute_result",
          "data": {
            "text/plain": [
              "'Эйнштейн А.Э.'"
            ]
          },
          "metadata": {
            "tags": []
          },
          "execution_count": 47
        }
      ]
    },
    {
      "cell_type": "code",
      "metadata": {
        "id": "DecomHKKG819",
        "outputId": "9ef69578-ddf1-4287-8000-2845c29c1774"
      },
      "source": [
        "# Вывести на экран фамилию учителя, преподающего предмет, введённый с клавиатуры\n",
        "subject = input('Какой предмет Вас интересует? ').lower()\n",
        "if subject in my_school:\n",
        "    print('Предмет \"{}\" преподаёт учитель {}'.format(subject, my_school[subject]))\n",
        "else:\n",
        "    print('К сожалению, в нашей школе не преподается предмет \"{}\".'.format(subject))"
      ],
      "execution_count": null,
      "outputs": [
        {
          "output_type": "stream",
          "text": [
            "Какой предмет Вас интересует? математика\n",
            "Предмет \"математика\" преподаёт учитель Иванова М.И.\n"
          ],
          "name": "stdout"
        }
      ]
    },
    {
      "cell_type": "markdown",
      "metadata": {
        "id": "E1Yx4J4rG81-"
      },
      "source": [
        "Перебор элементов словаря (ключей, значений пар \"ключ-значение\" с помощью цикла с параметром)"
      ]
    },
    {
      "cell_type": "code",
      "metadata": {
        "id": "FHWy7h8PG81-",
        "outputId": "b55edc9d-9b07-42fd-e623-b5f88f8d1420"
      },
      "source": [
        "for something in my_school:\n",
        "    print(something)"
      ],
      "execution_count": null,
      "outputs": [
        {
          "output_type": "stream",
          "text": [
            "математика\n",
            "русский язык\n",
            "английский язык\n",
            "физика\n",
            "химия\n",
            "биология\n",
            "физкультура\n"
          ],
          "name": "stdout"
        }
      ]
    },
    {
      "cell_type": "code",
      "metadata": {
        "id": "DkDM77xxG81_",
        "outputId": "b95fad8d-d231-4f85-81ba-c9bd3f38d7be"
      },
      "source": [
        "# Перебор ключей словаря\n",
        "for subject in my_school.keys():\n",
        "    print(subject)"
      ],
      "execution_count": null,
      "outputs": [
        {
          "output_type": "stream",
          "text": [
            "математика\n",
            "русский язык\n",
            "английский язык\n",
            "физика\n",
            "химия\n",
            "биология\n",
            "физкультура\n"
          ],
          "name": "stdout"
        }
      ]
    },
    {
      "cell_type": "code",
      "metadata": {
        "id": "m56oxfSVG82A",
        "outputId": "4d372a8c-bced-4bba-c00f-c3ec297f694b"
      },
      "source": [
        "# Перебор значений словаря\n",
        "for teacher in my_school.values():\n",
        "    print(teacher)"
      ],
      "execution_count": null,
      "outputs": [
        {
          "output_type": "stream",
          "text": [
            "Иванова М.И.\n",
            "Пушкина А.С.\n",
            "Петров Д.Ю.\n",
            "Эйнштейн А.Э.\n",
            "Менделеева Д.И.\n",
            "Мендель Г.И.\n",
            "Тарасова Т.А.\n"
          ],
          "name": "stdout"
        }
      ]
    },
    {
      "cell_type": "code",
      "metadata": {
        "id": "0yLQDCj8G82A",
        "outputId": "d9093fba-24ba-4b5a-fe57-b450b046ff41"
      },
      "source": [
        "# Перебор пар ключ-значение в словаре\n",
        "for subject, teacher in my_school.items():\n",
        "    print('Предмет \"{}\" преподает {}'.format(subject, teacher))"
      ],
      "execution_count": null,
      "outputs": [
        {
          "output_type": "stream",
          "text": [
            "Предмет \"математика\" преподает Иванова М.И.\n",
            "Предмет \"русский язык\" преподает Пушкина А.С.\n",
            "Предмет \"английский язык\" преподает Петров Д.Ю.\n",
            "Предмет \"физика\" преподает Эйнштейн А.Э.\n",
            "Предмет \"химия\" преподает Менделеева Д.И.\n",
            "Предмет \"биология\" преподает Мендель Г.И.\n",
            "Предмет \"физкультура\" преподает Тарасова Т.А.\n",
            "Предмет \"информатика\" преподает Н. Винер\n"
          ],
          "name": "stdout"
        }
      ]
    },
    {
      "cell_type": "code",
      "metadata": {
        "id": "7V99SrQQG82B"
      },
      "source": [
        "my_school['информатика'] = 'Н. Винер'"
      ],
      "execution_count": null,
      "outputs": []
    },
    {
      "cell_type": "markdown",
      "metadata": {
        "id": "4Pjl1KyzG82C"
      },
      "source": [
        "## Вложенные конструкции"
      ]
    },
    {
      "cell_type": "markdown",
      "metadata": {
        "id": "3cfOYZIoG82D"
      },
      "source": [
        "Для начала создадим списки преподавателей"
      ]
    },
    {
      "cell_type": "code",
      "metadata": {
        "id": "eLJo1v5jG82D"
      },
      "source": [
        "math = ['Иванова М.И.', 'Колмогоров А.Н.', 'Перельман Г.Я.']\n",
        "russian = ['Пушкина А.С.', 'Лермонтов М.Ю.', 'Толстой Л.Н.']\n",
        "english = ['Петров Д.Ю.', 'Шекспир У.Б.']\n",
        "physics = ['Эйнштейн А.Э.', 'Коллайдер Б.А.']\n",
        "chemistry = ['Менделеева Д.И.', 'Кислота Л.И.']\n",
        "biology = ['Мендель Г.И.', 'Дарвин Ч.Р.']\n",
        "sports = ['Тарасова Т.А.', 'Черчесов С.С.']"
      ],
      "execution_count": null,
      "outputs": []
    },
    {
      "cell_type": "code",
      "metadata": {
        "id": "fXLd0HqgG82D"
      },
      "source": [
        "my_big_school = {'математика': math,\n",
        "                 'русский язык': russian,\n",
        "                 'английский язык': english,\n",
        "                 'физика': physics,\n",
        "                 'химия': chemistry, \n",
        "                 'биология': biology,\n",
        "                 'физкультура': sports}"
      ],
      "execution_count": null,
      "outputs": []
    },
    {
      "cell_type": "markdown",
      "metadata": {
        "id": "i-DQHsnpG82E"
      },
      "source": [
        "Пробуем разные обращения к элементам словаря:"
      ]
    },
    {
      "cell_type": "code",
      "metadata": {
        "id": "TGbeDU05G82E",
        "outputId": "d8a6343d-a2ed-4eed-919f-51fdeb86bf15"
      },
      "source": [
        "for subject, teachers in my_big_school.items():\n",
        "    print(subject, teachers)"
      ],
      "execution_count": null,
      "outputs": [
        {
          "output_type": "stream",
          "text": [
            "математика ['Иванова М.И.', 'Колмогоров А.Н.', 'Перельман Г.Я.']\n",
            "русский язык ['Пушкина А.С.', 'Лермонтов М.Ю.', 'Толстой Л.Н.']\n",
            "английский язык ['Петров Д.Ю.', 'Шекспир У.Б.']\n",
            "физика ['Эйнштейн А.Э.', 'Коллайдер Б.А.']\n",
            "химия ['Менделеева Д.И.', 'Кислота Л.И.']\n",
            "биология ['Мендель Г.И.', 'Дарвин Ч.Р.']\n",
            "физкультура ['Тарасова Т.А.', 'Черчесов С.С.']\n"
          ],
          "name": "stdout"
        }
      ]
    },
    {
      "cell_type": "code",
      "metadata": {
        "id": "DzRpebK9G82G",
        "outputId": "dcf41a58-a795-4c2d-935a-3075b9968276"
      },
      "source": [
        "# Задание: вывести на экран фамилию Лермонтова\n",
        "my_big_school['русский язык'][1]"
      ],
      "execution_count": null,
      "outputs": [
        {
          "output_type": "execute_result",
          "data": {
            "text/plain": [
              "'Лермонтов М.Ю.'"
            ]
          },
          "metadata": {
            "tags": []
          },
          "execution_count": 63
        }
      ]
    },
    {
      "cell_type": "code",
      "metadata": {
        "id": "fsSHvDBAG82H",
        "outputId": "26c8d3e3-fc36-4e21-917e-6187a108ee3b"
      },
      "source": [
        "# Вывести на экран фамилии всех учителей математики\n",
        "for teacher in my_big_school['математика']: \n",
        "    print(teacher)"
      ],
      "execution_count": null,
      "outputs": [
        {
          "output_type": "stream",
          "text": [
            "Иванова М.И.\n",
            "Колмогоров А.Н.\n",
            "Перельман Г.Я.\n"
          ],
          "name": "stdout"
        }
      ]
    },
    {
      "cell_type": "code",
      "metadata": {
        "id": "TvEDpORCG82I",
        "outputId": "b1ef073c-8ba6-49b0-8dc4-43c7d0cf925a"
      },
      "source": [
        "for subject in my_big_school.keys():\n",
        "    print('Предмет \"{}\" преподают учителя:'.format(subject))\n",
        "    for teacher in my_big_school[subject]:\n",
        "        print(teacher)\n",
        "    print()"
      ],
      "execution_count": null,
      "outputs": [
        {
          "output_type": "stream",
          "text": [
            "Предмет \"математика\" преподают учителя:\n",
            "Иванова М.И.\n",
            "Колмогоров А.Н.\n",
            "Перельман Г.Я.\n",
            "\n",
            "Предмет \"русский язык\" преподают учителя:\n",
            "Пушкина А.С.\n",
            "Лермонтов М.Ю.\n",
            "Толстой Л.Н.\n",
            "\n",
            "Предмет \"английский язык\" преподают учителя:\n",
            "Петров Д.Ю.\n",
            "Шекспир У.Б.\n",
            "\n",
            "Предмет \"физика\" преподают учителя:\n",
            "Эйнштейн А.Э.\n",
            "Коллайдер Б.А.\n",
            "\n",
            "Предмет \"химия\" преподают учителя:\n",
            "Менделеева Д.И.\n",
            "Кислота Л.И.\n",
            "\n",
            "Предмет \"биология\" преподают учителя:\n",
            "Мендель Г.И.\n",
            "Дарвин Ч.Р.\n",
            "\n",
            "Предмет \"физкультура\" преподают учителя:\n",
            "Тарасова Т.А.\n",
            "Черчесов С.С.\n",
            "\n"
          ],
          "name": "stdout"
        }
      ]
    },
    {
      "cell_type": "markdown",
      "metadata": {
        "id": "eVCnVYPiG82J"
      },
      "source": [
        "Вкладываем словарь в словарь:"
      ]
    },
    {
      "cell_type": "code",
      "metadata": {
        "id": "5TJQATJfG82J"
      },
      "source": [
        "math = {'Иванова М.И.': {'кабинет': 1, \n",
        "                         'классы': [5, 6]}, \n",
        "        'Колмогоров А.Н.': {'кабинет': 2, \n",
        "                            'классы': [7, 8, 9]}, \n",
        "        'Перельман Г.Я.': {'кабинет': 3, \n",
        "                           'классы': [10, 11]}}"
      ],
      "execution_count": null,
      "outputs": []
    },
    {
      "cell_type": "markdown",
      "metadata": {
        "id": "wlzJ2if1G82K"
      },
      "source": [
        "Потренируем работу с ключами и значениями"
      ]
    },
    {
      "cell_type": "code",
      "metadata": {
        "id": "w1pqWO7ZG82K",
        "outputId": "6f3072c8-98c7-48cc-dde7-4b847481a8c6"
      },
      "source": [
        "# В каком кабинете работает Колмогоров А.Н.?\n",
        "math['Колмогоров А.Н.']['кабинет']"
      ],
      "execution_count": null,
      "outputs": [
        {
          "output_type": "execute_result",
          "data": {
            "text/plain": [
              "2"
            ]
          },
          "metadata": {
            "tags": []
          },
          "execution_count": 68
        }
      ]
    },
    {
      "cell_type": "code",
      "metadata": {
        "id": "ElQfbNXiG82L",
        "outputId": "9ff7e02e-a030-47cd-d32d-f0d7f44cad7c"
      },
      "source": [
        "# В каких классах преподает Иванова М.И.?\n",
        "math['Иванова М.И.']['классы']"
      ],
      "execution_count": null,
      "outputs": [
        {
          "output_type": "execute_result",
          "data": {
            "text/plain": [
              "[5, 6]"
            ]
          },
          "metadata": {
            "tags": []
          },
          "execution_count": 69
        }
      ]
    },
    {
      "cell_type": "code",
      "metadata": {
        "id": "ZAU98IgFG82L",
        "outputId": "06c4b206-532a-4eb7-fb62-79859556dd4c"
      },
      "source": [
        "# Какой класс из тех, где учителем является Перельман Г.Я., стоит первый в списке?\n",
        "math['Перельман Г.Я.']['классы'][0]"
      ],
      "execution_count": null,
      "outputs": [
        {
          "output_type": "execute_result",
          "data": {
            "text/plain": [
              "10"
            ]
          },
          "metadata": {
            "tags": []
          },
          "execution_count": 70
        }
      ]
    },
    {
      "cell_type": "code",
      "metadata": {
        "id": "w2arvCblG82M",
        "outputId": "79db5697-01e8-4c0b-a313-55f06f1058eb"
      },
      "source": [
        "# Самый старший класс, в котором преподает Колмогоров А.Н.\n",
        "max(math['Колмогоров А.Н.']['классы'])"
      ],
      "execution_count": null,
      "outputs": [
        {
          "output_type": "execute_result",
          "data": {
            "text/plain": [
              "9"
            ]
          },
          "metadata": {
            "tags": []
          },
          "execution_count": 71
        }
      ]
    },
    {
      "cell_type": "markdown",
      "metadata": {
        "id": "NxojKKIoG82N"
      },
      "source": [
        "Введем дополнительную информацию для остальных предметов"
      ]
    },
    {
      "cell_type": "code",
      "metadata": {
        "id": "Ma0eCQjwG82O"
      },
      "source": [
        "russian = {'Пушкина А.С.': {'кабинет': 4, 'классы': [5, 6, 7]}, \n",
        "           'Лермонтов М.Ю.': {'кабинет': 5, 'классы': [8, 9]}, \n",
        "           'Толстой Л.Н.': {'кабинет': 6, 'классы': [10, 11]}}\n",
        "english = {'Петров Д.Ю.': {'кабинет': 7, 'классы': [5, 6, 7, 8]}, \n",
        "           'Шекспир У.Б.': {'кабинет': 8, 'классы': [9, 10, 11]}}\n",
        "physics = {'Эйнштейн А.Э.': {'кабинет': 9, 'классы': [7, 8, 9]}, \n",
        "           'Коллайдер Б.А.': {'кабинет': 10, 'классы': [10, 11]}}\n",
        "chemistry = {'Менделеева Д.И.': {'кабинет': 11, 'классы': [8, 9]}, \n",
        "             'Кислота Л.И.': {'кабинет': 12, 'классы': [10, 11]}}\n",
        "biology = {'Мендель Г.И.': {'кабинет': 13, 'классы': [6, 7, 9]}, \n",
        "           'Дарвин Ч.Р.': {'кабинет': 14, 'классы': [8, 10, 11]}}\n",
        "sports = {'Тарасова Т.А.': {'кабинет': 'спортзал', 'классы': [5, 6, 7, 8]}, \n",
        "          'Черчесов С.С.': {'кабинет': 'спортзал', 'классы': [9, 10, 11]}}"
      ],
      "execution_count": null,
      "outputs": []
    },
    {
      "cell_type": "code",
      "metadata": {
        "id": "XVGF7g5IG82P"
      },
      "source": [
        "my_new_school = {'математика': math,\n",
        "                 'русский язык': russian,\n",
        "                 'английский язык': english,\n",
        "                 'физика': physics,\n",
        "                 'химия': chemistry, \n",
        "                 'биология': biology,\n",
        "                 'физкультура': sports}"
      ],
      "execution_count": null,
      "outputs": []
    },
    {
      "cell_type": "markdown",
      "metadata": {
        "id": "5RLcjPZGG82P"
      },
      "source": [
        "Пишем полезную программу :)"
      ]
    },
    {
      "cell_type": "code",
      "metadata": {
        "id": "HztPHDJ6G82Q",
        "outputId": "07902774-64af-4ab3-9d1f-84b72967ee6d"
      },
      "source": [
        "asked_subject = input('Какой предмет Вас интересует? ').lower()\n",
        "asked_class = int(input('В каком классе учится Ваш ребенок? '))\n",
        "\n",
        "for teacher, info in my_new_school[asked_subject].items():\n",
        "    print(teacher, info)"
      ],
      "execution_count": null,
      "outputs": [
        {
          "output_type": "stream",
          "text": [
            "Какой предмет Вас интересует? математика\n",
            "В каком классе учится Ваш ребенок? 7\n",
            "Иванова М.И. {'кабинет': 1, 'классы': [5, 6]}\n",
            "Колмогоров А.Н. {'кабинет': 2, 'классы': [7, 8, 9]}\n",
            "Перельман Г.Я. {'кабинет': 3, 'классы': [10, 11]}\n"
          ],
          "name": "stdout"
        }
      ]
    },
    {
      "cell_type": "code",
      "metadata": {
        "id": "GoG3Eo4DG82R",
        "outputId": "9e55dd8c-2543-4dd9-be8d-5c21a2ef56b8"
      },
      "source": [
        "asked_subject = input('Какой предмет Вас интересует? ').lower()\n",
        "asked_class = int(input('В каком классе учится Ваш ребенок? '))\n",
        "\n",
        "for teacher, info in my_new_school[asked_subject].items():\n",
        "    if asked_class in info['классы']:\n",
        "        print(' ')\n",
        "        print('Предмет \"{}\" у Вашего ребенка ведет учитель {}'.format(asked_subject, teacher))\n",
        "        print('Занятия проходят в кабинете № {}.'.format(info['кабинет']))     \n",
        "        break"
      ],
      "execution_count": null,
      "outputs": [
        {
          "output_type": "stream",
          "text": [
            "Какой предмет Вас интересует? математика\n",
            "В каком классе учится Ваш ребенок? 7\n",
            " \n",
            "Предмет \"математика\" у Вашего ребенка ведет учитель Колмогоров А.Н.\n",
            "Занятия проходят в кабинете № 2.\n"
          ],
          "name": "stdout"
        }
      ]
    },
    {
      "cell_type": "code",
      "metadata": {
        "id": "5JNa8bkWG82S"
      },
      "source": [
        ""
      ],
      "execution_count": null,
      "outputs": []
    }
  ]
}