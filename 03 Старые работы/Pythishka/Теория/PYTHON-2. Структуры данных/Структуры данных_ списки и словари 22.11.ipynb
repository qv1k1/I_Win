{
  "nbformat": 4,
  "nbformat_minor": 0,
  "metadata": {
    "kernelspec": {
      "display_name": "Python 3",
      "language": "python",
      "name": "python3"
    },
    "language_info": {
      "codemirror_mode": {
        "name": "ipython",
        "version": 3
      },
      "file_extension": ".py",
      "mimetype": "text/x-python",
      "name": "python",
      "nbconvert_exporter": "python",
      "pygments_lexer": "ipython3",
      "version": "3.7.4"
    },
    "colab": {
      "name": "Списки и словари.ipynb",
      "provenance": [],
      "collapsed_sections": []
    }
  },
  "cells": [
    {
      "cell_type": "markdown",
      "metadata": {
        "id": "xj0Dxvpk9JxW"
      },
      "source": [
        "<h1><center>Погружение в структуры данных</center></h1>\n",
        "\n",
        "В сегодняшнем уроке мы разберем такие структуры данных как списки и словари. Эти структуры позволяют хранить последовательности данных и грамотно с ними взаимодействовать. \n",
        "\n",
        "\n",
        "## Список\n",
        "\n",
        "Как только мы начинаем выходить за рамки написания простейших программ у нас возниает потребность в хранении коллекций или наборов данных. Для этого в языке Python предусмотрены 2 очень мощных по своим возможностям типа данных: списки и словари.\n",
        "\n",
        "\n",
        "\n",
        "\n",
        "**Список** в Python — это упорядоченная изменяемая коллекция объектов произвольных типов.\n",
        "\n",
        "\n",
        "\n",
        "\n",
        "В этом определении важна каждое слово. Мы будем к нему возвращаться по мере иллюстрации возможностей и свойств списков.\n",
        "\n",
        "\n",
        "\n",
        "* Когда мы называем список коллекцией, мы имеем в виду, что в одном списке может храниться множество объектов (например, чисел или строковых величин) \n",
        "\n",
        "\n",
        "* Говоря о том, что списки представляют собой упорядоченные коллекции, мы обращаем внимание на то, что каждый элемент в списке имеет свой порядковый номер.\n",
        "\n",
        "\n",
        "* Упоминание об изменяемости списков означает, что в процессе исполнения кода можно изменять состав элементов списка и последовательность их расположения.\n",
        "\n",
        "\n",
        "* Выражение «произвольных типов» означает, что в списке могут храниться данные, относящиеся к любым типам из тех, с которыми работает Python. *То есть это могут быть также другие списки и словари*\n",
        "\n",
        "\n",
        "Нам пригодится http://pythontutor.com/visualize.html#mode=edit\n",
        "\n"
      ]
    },
    {
      "cell_type": "markdown",
      "metadata": {
        "id": "pMa7bemd9JxZ"
      },
      "source": [
        "<h2><center>Создание списков</center></h2>"
      ]
    },
    {
      "cell_type": "code",
      "metadata": {
        "id": "_qajMTeL9Jxd"
      },
      "source": [
        "# my_list = list()\n",
        "# my_list1 = []\n",
        "# print(my_list)\n",
        "# my_list == my_list1\n",
        "\n",
        "spisok = ['лебедь', 'рак', 'щука'] # в списке хранится 3 объекта \n"
      ],
      "execution_count": null,
      "outputs": []
    },
    {
      "cell_type": "markdown",
      "metadata": {
        "id": "NVxSG55f9JyH"
      },
      "source": [
        "Списки, кортежи и строки являются примерами последовательностей. Но что такое последовательности и что в них такого особенного?\n",
        "\n",
        "Основные возможности – это проверка принадлежности (т.е. выражения **“in”** и **“not in”**) и оператор индексирования, позволяющий получить напрямую некоторый элемент последовательности. Также последовательности предоставляют операцию получения вырезки, которая позволяет получить вырезку последовательности, т.е. её фрагмент."
      ]
    },
    {
      "cell_type": "code",
      "metadata": {
        "id": "AnWdUwRY5PBN",
        "colab": {
          "base_uri": "https://localhost:8080/",
          "height": 52
        },
        "outputId": "d5868517-78bb-4230-cc21-b76cb9ccba60"
      },
      "source": [
        "print(4 not in spisok)\n",
        "print('щука' in spisok)"
      ],
      "execution_count": null,
      "outputs": [
        {
          "output_type": "stream",
          "text": [
            "True\n",
            "True\n"
          ],
          "name": "stdout"
        }
      ]
    },
    {
      "cell_type": "code",
      "metadata": {
        "id": "65B5KaCM-x15",
        "colab": {
          "base_uri": "https://localhost:8080/",
          "height": 35
        },
        "outputId": "62c7b209-acf0-4237-ccaf-e83670beb154"
      },
      "source": [
        "spisok[2] # так мы обратились к третьему элементу списка"
      ],
      "execution_count": null,
      "outputs": [
        {
          "output_type": "execute_result",
          "data": {
            "application/vnd.google.colaboratory.intrinsic+json": {
              "type": "string"
            },
            "text/plain": [
              "'лебедь'"
            ]
          },
          "metadata": {
            "tags": []
          },
          "execution_count": 12
        }
      ]
    },
    {
      "cell_type": "code",
      "metadata": {
        "id": "3-Y1VghU_L6P",
        "colab": {
          "base_uri": "https://localhost:8080/",
          "height": 34
        },
        "outputId": "b27be585-4498-4a67-eb53-4329c932e9e1"
      },
      "source": [
        "spisok[1] = 'форель' # 3аменили второй элемент списка. \n",
        "spisok # В отличие от строк нам не нужно перезаписывать весь объект, мы можем поменять часть списка"
      ],
      "execution_count": null,
      "outputs": [
        {
          "output_type": "execute_result",
          "data": {
            "text/plain": [
              "['лебедь', 'рак', 'форель']"
            ]
          },
          "metadata": {
            "tags": []
          },
          "execution_count": 13
        }
      ]
    },
    {
      "cell_type": "markdown",
      "metadata": {
        "id": "Xpvevs95BqcC"
      },
      "source": [
        "Задача\n",
        "\n",
        "Выведите на экран буву **о**\n",
        "\n",
        "\n",
        "\n",
        "\n"
      ]
    },
    {
      "cell_type": "code",
      "metadata": {
        "id": "OzCx-ZDNDKsA"
      },
      "source": [
        "vowels = ['а', 'е', 'ё', 'и', 'о', 'у', 'ы', 'э', 'ю', 'я']\n"
      ],
      "execution_count": null,
      "outputs": []
    },
    {
      "cell_type": "markdown",
      "metadata": {
        "id": "dIVtL8uhALXi"
      },
      "source": [
        "## Срезы"
      ]
    },
    {
      "cell_type": "markdown",
      "metadata": {
        "id": "OX04Y_oP5xiu"
      },
      "source": [
        "\n",
        "\n",
        "\n",
        "\n",
        "Срезы позволяют выбрать часть списка, а не один отдельный элемент. \n",
        "\n"
      ]
    },
    {
      "cell_type": "code",
      "metadata": {
        "id": "l-hgeS7QAOwf",
        "colab": {
          "base_uri": "https://localhost:8080/",
          "height": 34
        },
        "outputId": "41408e76-b5b5-4759-a34b-79fdae00338d"
      },
      "source": [
        "vowels = ['а', 'е', 'ё', 'и', 'о', 'у', 'ы', 'э', 'ю', 'я']\n",
        "vowels[0:3]"
      ],
      "execution_count": null,
      "outputs": [
        {
          "output_type": "execute_result",
          "data": {
            "text/plain": [
              "['а', 'е', 'ё']"
            ]
          },
          "metadata": {
            "tags": []
          },
          "execution_count": 23
        }
      ]
    },
    {
      "cell_type": "markdown",
      "metadata": {
        "id": "tNgNdn7iAkbH"
      },
      "source": [
        "#### list[START:STOP:STEP] - берёт срез от номера START, до STOP **не включая его**, с шагом STEP. По умолчанию START = 0, STOP = длине объекта, STEP = 1. Соответственно, какие-нибудь (а возможно, и все) параметры могут быть опущены."
      ]
    },
    {
      "cell_type": "markdown",
      "metadata": {
        "id": "AtYuPWwSc5kW"
      },
      "source": [
        "###Задача: \n",
        "Выберите с помощью индексов элементы **о** & **у**"
      ]
    },
    {
      "cell_type": "markdown",
      "metadata": {
        "id": "R-XBlV08dQat"
      },
      "source": [
        "### Параметр шага"
      ]
    },
    {
      "cell_type": "code",
      "metadata": {
        "id": "L5cAvY6BKIR5",
        "colab": {
          "base_uri": "https://localhost:8080/",
          "height": 34
        },
        "outputId": "60704441-e144-458f-a5fe-3ed128c02c72"
      },
      "source": [
        "numbers = [1, 2, 3, 4, 5, 6, 7, 8]\n",
        "numbers"
      ],
      "execution_count": null,
      "outputs": [
        {
          "output_type": "execute_result",
          "data": {
            "text/plain": [
              "[1, 2, 3, 4, 5, 6, 7, 8]"
            ]
          },
          "metadata": {
            "tags": []
          },
          "execution_count": 29
        }
      ]
    },
    {
      "cell_type": "code",
      "metadata": {
        "id": "x_fnpbJpq-8v",
        "colab": {
          "base_uri": "https://localhost:8080/",
          "height": 34
        },
        "outputId": "884ea317-fa18-4dbb-de76-a659b56f5559"
      },
      "source": [
        "numbers[1::2] "
      ],
      "execution_count": null,
      "outputs": [
        {
          "output_type": "execute_result",
          "data": {
            "text/plain": [
              "[2, 4, 6, 8]"
            ]
          },
          "metadata": {
            "tags": []
          },
          "execution_count": 30
        }
      ]
    },
    {
      "cell_type": "code",
      "metadata": {
        "id": "odM96odsy0mK",
        "colab": {
          "base_uri": "https://localhost:8080/",
          "height": 34
        },
        "outputId": "3ccf0ce9-5fb3-4e83-a1a0-064376260bd9"
      },
      "source": [
        "numbers[::2]"
      ],
      "execution_count": null,
      "outputs": [
        {
          "output_type": "execute_result",
          "data": {
            "text/plain": [
              "[1, 3, 5, 7]"
            ]
          },
          "metadata": {
            "tags": []
          },
          "execution_count": 32
        }
      ]
    },
    {
      "cell_type": "markdown",
      "metadata": {
        "id": "DRqstxGC6cCo"
      },
      "source": [
        "### Отрицательные индексы\n",
        "\n",
        "Питон достаточно гибкий язык и в нем можно вести отсчет элементов списка не только с начала, но и с конца. "
      ]
    },
    {
      "cell_type": "code",
      "metadata": {
        "id": "VFShM5Jc6aUS",
        "colab": {
          "base_uri": "https://localhost:8080/",
          "height": 35
        },
        "outputId": "dbdce29d-0f8e-4a9f-e5e1-6168bda62caf"
      },
      "source": [
        "vowels[-1]"
      ],
      "execution_count": null,
      "outputs": [
        {
          "output_type": "execute_result",
          "data": {
            "application/vnd.google.colaboratory.intrinsic+json": {
              "type": "string"
            },
            "text/plain": [
              "'я'"
            ]
          },
          "metadata": {
            "tags": []
          },
          "execution_count": 33
        }
      ]
    },
    {
      "cell_type": "code",
      "metadata": {
        "id": "LJDGzNzR6zUr",
        "colab": {
          "base_uri": "https://localhost:8080/",
          "height": 34
        },
        "outputId": "4cb39ab8-c0fa-4191-e7c6-c2c8037c1881"
      },
      "source": [
        "# и вот тут нам пригодится параметр step, который будет равен -1\n",
        "\n",
        "numbers[-1::-2]"
      ],
      "execution_count": null,
      "outputs": [
        {
          "output_type": "execute_result",
          "data": {
            "text/plain": [
              "[8, 6, 4, 2]"
            ]
          },
          "metadata": {
            "tags": []
          },
          "execution_count": 40
        }
      ]
    },
    {
      "cell_type": "markdown",
      "metadata": {
        "id": "6CWvdLH-C54G"
      },
      "source": [
        "В список можно добавлять элементы\n",
        "\n",
        "Давайте вернем щуку в наш список, но не заменим ей форель, а как бы добавим скраю. \n",
        "\n",
        "Для этой операции у нас есть метод `append()`. Он добавляет элемент справа (что делает эту операцию достаточно быстрой, в отличие от добавления элемента, например, с левого края) "
      ]
    },
    {
      "cell_type": "code",
      "metadata": {
        "id": "V5Y2aVgeDQ5q",
        "colab": {
          "base_uri": "https://localhost:8080/",
          "height": 34
        },
        "outputId": "0ba88e00-499d-4a61-aae1-a499bc7f5b73"
      },
      "source": [
        "spisok = ['лебедь', 'рак', 'форель']\n",
        "spisok.append('щука') \n",
        "\n",
        "spisok\n"
      ],
      "execution_count": null,
      "outputs": [
        {
          "output_type": "execute_result",
          "data": {
            "text/plain": [
              "['лебедь', 'рак', 'форель', 'щука']"
            ]
          },
          "metadata": {
            "tags": []
          },
          "execution_count": 41
        }
      ]
    },
    {
      "cell_type": "markdown",
      "metadata": {
        "id": "g6AHeIyCDprC"
      },
      "source": [
        "Попробуйте сами добавить карася или любую другую рыбу в этот список...\n",
        "\n",
        "Итак, мы разобрались с добавлением элементов, теперь давайте узнаем как удалять элементы списка\n",
        "\n",
        "Для этого у нас есть метод `pop()`, который принимает в качестве аргумента индекс элемента, который мы хотим удалить\n",
        "\n"
      ]
    },
    {
      "cell_type": "code",
      "metadata": {
        "id": "OLwtY05QFzbn",
        "colab": {
          "base_uri": "https://localhost:8080/",
          "height": 35
        },
        "outputId": "c28c392c-ff6c-4cb9-b0e8-ca8dc3ec20e2"
      },
      "source": [
        "# Пожалуй, лишним элементом в нашем списке стал лебедь, согласны?\n",
        "\n",
        "spisok.pop(0) # Этот элемент нам вернулся. Так можно и новую переменную создавать"
      ],
      "execution_count": null,
      "outputs": [
        {
          "output_type": "execute_result",
          "data": {
            "application/vnd.google.colaboratory.intrinsic+json": {
              "type": "string"
            },
            "text/plain": [
              "'лебедь'"
            ]
          },
          "metadata": {
            "tags": []
          },
          "execution_count": 59
        }
      ]
    },
    {
      "cell_type": "code",
      "metadata": {
        "id": "ua10-J8LNrDA",
        "colab": {
          "base_uri": "https://localhost:8080/",
          "height": 35
        },
        "outputId": "d29c88bc-536b-407a-c67e-0345d9149cc4"
      },
      "source": [
        "deleted = spisok.pop()\n",
        "deleted"
      ],
      "execution_count": null,
      "outputs": [
        {
          "output_type": "execute_result",
          "data": {
            "application/vnd.google.colaboratory.intrinsic": {
              "type": "string"
            },
            "text/plain": [
              "'акула'"
            ]
          },
          "metadata": {
            "tags": []
          },
          "execution_count": 33
        }
      ]
    },
    {
      "cell_type": "markdown",
      "metadata": {
        "id": "E8dw6M_S9WUR"
      },
      "source": [
        "Превращение строки в список\n",
        "\n",
        "![alt text](https://lms.skillfactory.ru/assets/courseware/v1/b10ce366f38735ec1a1ba6d7b88b894a/asset-v1:SkillFactory+PY-34+19FEB2020+type@asset+block/use_split.png)"
      ]
    },
    {
      "cell_type": "code",
      "metadata": {
        "id": "XwpOKOU39niC",
        "colab": {
          "base_uri": "https://localhost:8080/",
          "height": 34
        },
        "outputId": "e8d082c6-5f98-466d-9185-673fe22eedd2"
      },
      "source": [
        "animals = 'кошка,собака,хомяк,морская свинка,попугай,лошадь'.split(',')\n",
        "\n",
        "animals\n",
        "\n"
      ],
      "execution_count": null,
      "outputs": [
        {
          "output_type": "execute_result",
          "data": {
            "text/plain": [
              "['кошка', 'собака', 'хомяк', 'морская свинка', 'попугай', 'лошадь']"
            ]
          },
          "metadata": {
            "tags": []
          },
          "execution_count": 56
        }
      ]
    },
    {
      "cell_type": "markdown",
      "metadata": {
        "id": "9q_Ry8if927J"
      },
      "source": [
        "Задача: превратить строку  в список и оставить в нем только языки программирования\n",
        "\n",
        "используйте для этого новую переменную `langs`\n",
        "\n"
      ]
    },
    {
      "cell_type": "code",
      "metadata": {
        "id": "khTSU16a9uZa"
      },
      "source": [
        "stroka = 'Basic;<fdf>;PHP;<ggh>;Python;<sdfsdf>;Java;<ooljsf>;C++'\n",
        "\n"
      ],
      "execution_count": null,
      "outputs": []
    },
    {
      "cell_type": "markdown",
      "metadata": {
        "id": "W4QOq0Xz9Jyw"
      },
      "source": [
        "*Списки* хорошо сочетаются с циклами"
      ]
    },
    {
      "cell_type": "code",
      "metadata": {
        "id": "mq0hMqEt9Jyx",
        "colab": {
          "base_uri": "https://localhost:8080/",
          "height": 347
        },
        "outputId": "c38830bd-fca7-4036-9be1-8fdf8365c218"
      },
      "source": [
        "#У нас есть фургон, в котором мы перевозим грузы. Установлено ограничение на максимальный вес груза в 100кг\n",
        "\n",
        "items = [1, 5, 76, 12, 123, 333, 5, 6,7]\n",
        "ok_items = []\n",
        "\n",
        "for gruz in items:\n",
        "    print('Груз весит ' + str(gruz) +  ' килограмм')\n",
        "    if gruz<100:\n",
        "       ok_items.append(gruz) \n",
        "       print('Груз прошел проверку')\n",
        "    else:\n",
        "        print('Груз слишком большой')\n",
        "\n",
        "    \n",
        "ok_items\n"
      ],
      "execution_count": null,
      "outputs": [
        {
          "output_type": "stream",
          "text": [
            "Груз весит 1 килограмм\n",
            "Груз прошел проверку\n",
            "Груз весит 5 килограмм\n",
            "Груз прошел проверку\n",
            "Груз весит 76 килограмм\n",
            "Груз прошел проверку\n",
            "Груз весит 12 килограмм\n",
            "Груз прошел проверку\n",
            "Груз весит 123 килограмм\n",
            "Груз слишком большой\n",
            "Груз весит 333 килограмм\n",
            "Груз слишком большой\n",
            "Груз весит 5 килограмм\n",
            "Груз прошел проверку\n",
            "Груз весит 6 килограмм\n",
            "Груз прошел проверку\n",
            "Груз весит 7 килограмм\n",
            "Груз прошел проверку\n"
          ],
          "name": "stdout"
        },
        {
          "output_type": "execute_result",
          "data": {
            "text/plain": [
              "[1, 5, 76, 12, 5, 6, 7]"
            ]
          },
          "metadata": {
            "tags": []
          },
          "execution_count": 60
        }
      ]
    },
    {
      "cell_type": "markdown",
      "metadata": {
        "id": "gBg5ZwPpe5zD"
      },
      "source": [
        "### Поиск элемента в списке"
      ]
    },
    {
      "cell_type": "markdown",
      "metadata": {
        "id": "FLOmaKrW9Jz3"
      },
      "source": [
        "*Если* элемент один, мы можем найти его индекс с помощью метода `index() `\n",
        "\n",
        "\n",
        "\n",
        "\n",
        "А если много, то используем цикл и функцию `enumerate`"
      ]
    },
    {
      "cell_type": "code",
      "metadata": {
        "id": "qSKYbE5eSr8f",
        "colab": {
          "base_uri": "https://localhost:8080/",
          "height": 34
        },
        "outputId": "a8916cd1-44e4-4df3-d874-b69114878148"
      },
      "source": [
        "mixed = ['греча', 'банан', 'фасоль', 'рис', 'апельсин', 'банан']\n",
        "\n",
        "\n",
        "if 'банан' in mixed:\n",
        "  print(mixed.index('банан'))\n",
        "else:\n",
        "  print('Нет груши')"
      ],
      "execution_count": null,
      "outputs": [
        {
          "output_type": "stream",
          "text": [
            "1\n"
          ],
          "name": "stdout"
        }
      ]
    },
    {
      "cell_type": "code",
      "metadata": {
        "id": "g5RShm_F9Jz5",
        "colab": {
          "base_uri": "https://localhost:8080/",
          "height": 52
        },
        "outputId": "37afad14-c6c8-4b73-c433-b5eb8d0366fe"
      },
      "source": [
        "mixed = ['греча', 'банан', 'фасоль', 'рис', 'апельсин', 'банан']\n",
        "# [index for index, value in enumerate(mixed) if value == 'банан']\n",
        "\n",
        "for index, value in enumerate(mixed):\n",
        "    if value == 'банан':\n",
        "        print(index)"
      ],
      "execution_count": null,
      "outputs": [
        {
          "output_type": "stream",
          "text": [
            "1\n",
            "5\n"
          ],
          "name": "stdout"
        }
      ]
    },
    {
      "cell_type": "code",
      "metadata": {
        "id": "ePzdrfs46yPt",
        "colab": {
          "base_uri": "https://localhost:8080/",
          "height": 52
        },
        "outputId": "781f483b-2219-4047-b418-ac1cd1d62bdc"
      },
      "source": [
        "for index, value in enumerate(mixed):\n",
        "  if value == 'банан':\n",
        "    print(index)"
      ],
      "execution_count": null,
      "outputs": [
        {
          "output_type": "stream",
          "text": [
            "1\n",
            "5\n"
          ],
          "name": "stdout"
        }
      ]
    },
    {
      "cell_type": "code",
      "metadata": {
        "id": "M9f-GMoj65EO",
        "colab": {
          "base_uri": "https://localhost:8080/",
          "height": 34
        },
        "outputId": "8606deb8-b41a-48c6-a199-833298449a63"
      },
      "source": [
        "list((1, 2, 3, 4))"
      ],
      "execution_count": null,
      "outputs": [
        {
          "output_type": "execute_result",
          "data": {
            "text/plain": [
              "[1, 2, 3, 4]"
            ]
          },
          "metadata": {
            "tags": []
          },
          "execution_count": 71
        }
      ]
    },
    {
      "cell_type": "markdown",
      "metadata": {
        "id": "lu7_5QuK9J0_"
      },
      "source": [
        "### Задача на создание списка уникальных значений"
      ]
    },
    {
      "cell_type": "code",
      "metadata": {
        "id": "R02lNDwS9J1A",
        "colab": {
          "base_uri": "https://localhost:8080/",
          "height": 34
        },
        "outputId": "de4b1adf-c435-4685-dbf8-b36668a33a12"
      },
      "source": [
        "duplicated_items = [1, 2, 3, 2, 5, 3, 5, 6, 7]\n",
        "new_list = []\n",
        "\n",
        "### для каждого элемента из первого списка\n",
        "### если элемента нет во втором, то ...\n",
        "### опять нужен метод append\n",
        "### и если элемент четный\n",
        "\n",
        "\n",
        "\n",
        "        \n"
      ],
      "execution_count": null,
      "outputs": [
        {
          "output_type": "execute_result",
          "data": {
            "text/plain": [
              "[2, 6]"
            ]
          },
          "metadata": {
            "tags": []
          },
          "execution_count": 74
        }
      ]
    },
    {
      "cell_type": "code",
      "metadata": {
        "id": "B9-hudbI8D_p"
      },
      "source": [
        ""
      ],
      "execution_count": null,
      "outputs": []
    },
    {
      "cell_type": "markdown",
      "metadata": {
        "id": "YPMqOURA9J1G"
      },
      "source": [
        "### Для самостоятельного изучения\n",
        "**Множества: Для любопытных**\n",
        "    \n",
        "Множества – это неупорядоченные наборы простых объектов. Они необходимы тогда, когда присутствие объекта в наборе важнее порядка или того, сколько раз данный объект там встречается.\n",
        "\n",
        "Используя множества, можно осуществлять проверку принадлежности, определять, является ли данное множество подмножеством другого множества, находить пересечения множеств и так далее.\n",
        "\n",
        "https://pythontutor.ru/lessons/sets/"
      ]
    },
    {
      "cell_type": "code",
      "metadata": {
        "id": "pak5Sfv09J1G",
        "outputId": "f0ef6c3a-c5cf-4f77-dbc6-3550f62f1285"
      },
      "source": [
        "basket = {'apple', 'orange', 'apple', 'pear', 'orange', 'banana'}\n",
        "print(basket)   "
      ],
      "execution_count": null,
      "outputs": [
        {
          "output_type": "stream",
          "text": [
            "{'pear', 'orange', 'banana', 'apple'}\n"
          ],
          "name": "stdout"
        }
      ]
    },
    {
      "cell_type": "markdown",
      "metadata": {
        "id": "9ajno0rag7Rl"
      },
      "source": [
        "### Вложенные списки\n",
        "\n",
        "Элементом списка может быть любой объект в питоне, в том числе и другой список. Порой встречаются такие структуры как списки в списках, или \"вложенный список\""
      ]
    },
    {
      "cell_type": "code",
      "metadata": {
        "id": "r4HgZuJ6hNpY",
        "colab": {
          "base_uri": "https://localhost:8080/",
          "height": 34
        },
        "outputId": "dd43cb73-05e6-44f6-e777-a6390fb8dcc9"
      },
      "source": [
        "array_of_arrays = [[1, 2, 3], [4, 5 ,6], [71, 2, 5]]\n",
        "\n",
        "\n",
        "# у нас есть список array_of_arrays, который состоит из трех элементов \n",
        "# мы можем получить каждый из этих трех элементов с помощью индекса\n",
        "\n",
        "array_of_arrays[0][-1]"
      ],
      "execution_count": null,
      "outputs": [
        {
          "output_type": "execute_result",
          "data": {
            "text/plain": [
              "3"
            ]
          },
          "metadata": {
            "tags": []
          },
          "execution_count": 81
        }
      ]
    },
    {
      "cell_type": "code",
      "metadata": {
        "id": "TpmaaLVhhxWa",
        "colab": {
          "base_uri": "https://localhost:8080/",
          "height": 201
        },
        "outputId": "b7aaaa6a-4ac4-4c99-fcba-0c9fdc8209b4"
      },
      "source": [
        "#а у каждого внутреннего списка мы можем получить элемент внутри него\n",
        "\n",
        "array_of_arrays[2][7]"
      ],
      "execution_count": null,
      "outputs": [
        {
          "output_type": "error",
          "ename": "IndexError",
          "evalue": "ignored",
          "traceback": [
            "\u001b[0;31m---------------------------------------------------------------------------\u001b[0m",
            "\u001b[0;31mIndexError\u001b[0m                                Traceback (most recent call last)",
            "\u001b[0;32m<ipython-input-105-69ed0532e28a>\u001b[0m in \u001b[0;36m<module>\u001b[0;34m()\u001b[0m\n\u001b[1;32m      1\u001b[0m \u001b[0;31m#а у каждого внутреннего списка мы можем получить элемент внутри него\u001b[0m\u001b[0;34m\u001b[0m\u001b[0;34m\u001b[0m\u001b[0;34m\u001b[0m\u001b[0m\n\u001b[1;32m      2\u001b[0m \u001b[0;34m\u001b[0m\u001b[0m\n\u001b[0;32m----> 3\u001b[0;31m \u001b[0marray_of_arrays\u001b[0m\u001b[0;34m[\u001b[0m\u001b[0;36m2\u001b[0m\u001b[0;34m]\u001b[0m\u001b[0;34m[\u001b[0m\u001b[0;36m7\u001b[0m\u001b[0;34m]\u001b[0m\u001b[0;34m\u001b[0m\u001b[0;34m\u001b[0m\u001b[0m\n\u001b[0m",
            "\u001b[0;31mIndexError\u001b[0m: list index out of range"
          ]
        }
      ]
    },
    {
      "cell_type": "code",
      "metadata": {
        "id": "3wYneSMW9J15",
        "colab": {
          "base_uri": "https://localhost:8080/",
          "height": 86
        },
        "outputId": "14b49b70-6d0a-405e-d79c-70914b4b7f86"
      },
      "source": [
        "#списки могут быть вложены друг в друга, очень часто такое встречается в данных, полученных из REST API\n",
        "\n",
        "array_of_arrays = [[1, 2, 3], [4, 5 ,6], [71, 2, 5]]\n",
        "counter = 0\n",
        "for spisok in array_of_arrays:\n",
        "  for x in spisok:\n",
        "    if x%2==0:\n",
        "      print(x)\n",
        "\n",
        "\n",
        "\n",
        "#давайте найдем сумму этих вложенных списков\n",
        "\n",
        "    "
      ],
      "execution_count": null,
      "outputs": [
        {
          "output_type": "stream",
          "text": [
            "2\n",
            "4\n",
            "6\n",
            "2\n"
          ],
          "name": "stdout"
        }
      ]
    },
    {
      "cell_type": "code",
      "metadata": {
        "id": "GNVZ4Ekm-XFf",
        "colab": {
          "base_uri": "https://localhost:8080/",
          "height": 34
        },
        "outputId": "ca05cd55-e20c-4dc3-a8be-4c8a54017b9e"
      },
      "source": [
        "len(array_of_arrays)"
      ],
      "execution_count": null,
      "outputs": [
        {
          "output_type": "execute_result",
          "data": {
            "text/plain": [
              "3"
            ]
          },
          "metadata": {
            "tags": []
          },
          "execution_count": 83
        }
      ]
    },
    {
      "cell_type": "markdown",
      "metadata": {
        "id": "u_jhfMzYGSSC"
      },
      "source": [
        "Перепишите этот код, используя функцию `sum()`"
      ]
    },
    {
      "cell_type": "markdown",
      "metadata": {
        "id": "Mjh6b-q69J18"
      },
      "source": [
        "### Copy (для самостоятельного изучения)\n",
        "возвращает копию списка\n",
        "\n",
        "https://stackoverflow.com/questions/2612802/how-to-clone-or-copy-a-list"
      ]
    },
    {
      "cell_type": "code",
      "metadata": {
        "id": "h_JRhw8t9J19",
        "colab": {
          "base_uri": "https://localhost:8080/",
          "height": 69
        },
        "outputId": "98ec4634-6f33-4191-b09b-7fbddf413f08"
      },
      "source": [
        "r = [1, 2, [{'f':5, 'g':6}, 5]]\n",
        "f = r\n",
        "t = r.copy()\n",
        "print(f' id r: {id(r)} \\n id f: {id(f)} \\n id t: {id(t)}')"
      ],
      "execution_count": null,
      "outputs": [
        {
          "output_type": "stream",
          "text": [
            " id r: 140265705195912 \n",
            " id f: 140265705195912 \n",
            " id t: 140265715451272\n"
          ],
          "name": "stdout"
        }
      ]
    },
    {
      "cell_type": "markdown",
      "metadata": {
        "id": "r9XVGC3hG170"
      },
      "source": [
        "Ещё можно создать копию с помощью срезов"
      ]
    },
    {
      "cell_type": "code",
      "metadata": {
        "id": "ZATWBxNAG5fg",
        "colab": {
          "base_uri": "https://localhost:8080/",
          "height": 34
        },
        "outputId": "970b129b-7717-437b-8dd4-a7b4d5e2a23e"
      },
      "source": [
        "r_copy = r[::]\n",
        "print(r_copy)"
      ],
      "execution_count": null,
      "outputs": [
        {
          "output_type": "stream",
          "text": [
            "[1, 2, [{'f': 5, 'g': 6}, 5]]\n"
          ],
          "name": "stdout"
        }
      ]
    },
    {
      "cell_type": "markdown",
      "metadata": {
        "id": "NLQDjX6t9J2L"
      },
      "source": [
        "### Генераторы списков\n",
        "\n",
        "Генератор списка позволяет создать список и заполнить его данными, используя всего одну строку кода. Выглядит это приблизительно так:"
      ]
    },
    {
      "cell_type": "code",
      "metadata": {
        "id": "sNduRDrz9J2M",
        "colab": {
          "base_uri": "https://localhost:8080/",
          "height": 34
        },
        "outputId": "9fff593a-0e0f-4db4-f4b4-8eb2ba3c2cb1"
      },
      "source": [
        "my_list = [i for i in range(10)]\n",
        "\n",
        "my_list"
      ],
      "execution_count": null,
      "outputs": [
        {
          "output_type": "execute_result",
          "data": {
            "text/plain": [
              "[0, 1, 2, 3, 4, 5, 6, 7, 8, 9]"
            ]
          },
          "metadata": {
            "tags": []
          },
          "execution_count": 87
        }
      ]
    },
    {
      "cell_type": "code",
      "metadata": {
        "id": "Tj26aPO7_hMq"
      },
      "source": [
        "my_list = []\n",
        "for i in range(10):\n",
        "  my_list.append(i)"
      ],
      "execution_count": null,
      "outputs": []
    },
    {
      "cell_type": "markdown",
      "metadata": {
        "id": "rKMhp5XW9J2Q"
      },
      "source": [
        "Генераторы списков - это гибрид цикла for и списка."
      ]
    },
    {
      "cell_type": "code",
      "metadata": {
        "id": "dd-TYFVr9J2R"
      },
      "source": [
        "squares = [x ** 2 for x in my_list] \n",
        "\n",
        "# равно по смыслу\n",
        "\n",
        "\n",
        "\n",
        "for x in range(10):\n",
        "    squares.append(x ** 2)\n",
        "\n",
        "# но при этом гораздо быстрее и поэтому предпочтительно использовать именно генераторы списков для такого сценария"
      ],
      "execution_count": null,
      "outputs": []
    },
    {
      "cell_type": "code",
      "metadata": {
        "id": "eL8sFA4J11tN",
        "colab": {
          "base_uri": "https://localhost:8080/",
          "height": 34
        },
        "outputId": "dc1a7b09-42bf-4be1-b40d-21b2e62103fd"
      },
      "source": [
        "[x*2-3 for x in my_list] \n"
      ],
      "execution_count": null,
      "outputs": [
        {
          "output_type": "execute_result",
          "data": {
            "text/plain": [
              "[-3, -1, 1, 3, 5, 7, 9, 11, 13, 15]"
            ]
          },
          "metadata": {
            "tags": []
          },
          "execution_count": 89
        }
      ]
    },
    {
      "cell_type": "code",
      "metadata": {
        "id": "FbbgHWZJ9J2Y",
        "colab": {
          "base_uri": "https://localhost:8080/",
          "height": 34
        },
        "outputId": "800f0477-a4b8-4bfc-d612-bb90d5f2ab6d"
      },
      "source": [
        "my_list = [x for x in range(10, 100) if x%3 == 0 and x%5 == 0]\n",
        "my_list\n"
      ],
      "execution_count": null,
      "outputs": [
        {
          "output_type": "execute_result",
          "data": {
            "text/plain": [
              "[15, 30, 45, 60, 75, 90]"
            ]
          },
          "metadata": {
            "tags": []
          },
          "execution_count": 64
        }
      ]
    },
    {
      "cell_type": "markdown",
      "metadata": {
        "id": "n7u3JYgYHjQt"
      },
      "source": [
        "C `else` может возникнуть сложность, но это также возможно"
      ]
    },
    {
      "cell_type": "code",
      "metadata": {
        "id": "JD3B8JolHqhS",
        "colab": {
          "base_uri": "https://localhost:8080/",
          "height": 34
        },
        "outputId": "55d34e5c-81a5-4892-db30-abeac01d097e"
      },
      "source": [
        "my_list = [x if x%3 == 0 and x%5 == 0 else 0 for x in range(10, 20)]\n",
        "my_list\n",
        "\n"
      ],
      "execution_count": null,
      "outputs": [
        {
          "output_type": "execute_result",
          "data": {
            "text/plain": [
              "[0, 0, 0, 0, 0, 15, 0, 0, 0, 0]"
            ]
          },
          "metadata": {
            "tags": []
          },
          "execution_count": 65
        }
      ]
    },
    {
      "cell_type": "markdown",
      "metadata": {
        "id": "vY0Odx8UIXCB"
      },
      "source": [
        "Перепишите привёденный ниже код, используя генератор списков. Полученный в результате работы генератора список должен иметь имя my_list.\n",
        "\n"
      ]
    },
    {
      "cell_type": "code",
      "metadata": {
        "id": "-bHPY8zqIddM",
        "colab": {
          "base_uri": "https://localhost:8080/",
          "height": 34
        },
        "outputId": "e99fe8dc-cfda-4538-dfc6-1e55dd3d2429"
      },
      "source": [
        "my_list = []\n",
        "for x in range(90, 100):\n",
        "    first_digit = x//10\n",
        "    last_digit = x%10\n",
        "    my_list.append(first_digit + last_digit)\n",
        "  \n",
        "my_list\n",
        "\n"
      ],
      "execution_count": null,
      "outputs": [
        {
          "output_type": "execute_result",
          "data": {
            "text/plain": [
              "[9, 10, 11, 12, 13, 14, 15, 16, 17, 18]"
            ]
          },
          "metadata": {
            "tags": []
          },
          "execution_count": 42
        }
      ]
    },
    {
      "cell_type": "code",
      "metadata": {
        "id": "NuL0SWVRBTaL"
      },
      "source": [
        "spisok = [1, 2, 3, 4 ,5]\n",
        "cortej = (1, 2, 3, 4, 5)"
      ],
      "execution_count": null,
      "outputs": []
    },
    {
      "cell_type": "code",
      "metadata": {
        "id": "cxqoQsWeBbJe",
        "colab": {
          "base_uri": "https://localhost:8080/",
          "height": 34
        },
        "outputId": "6fe6296a-f013-4f2a-83bb-0db41c42bd83"
      },
      "source": [
        "array = ([1,2,3,4]) \n",
        "type(array)"
      ],
      "execution_count": null,
      "outputs": [
        {
          "output_type": "execute_result",
          "data": {
            "text/plain": [
              "list"
            ]
          },
          "metadata": {
            "tags": []
          },
          "execution_count": 96
        }
      ]
    },
    {
      "cell_type": "code",
      "metadata": {
        "id": "QZDn6RIrB3sl",
        "colab": {
          "base_uri": "https://localhost:8080/",
          "height": 34
        },
        "outputId": "62b77eea-1c8c-40f3-de9e-b363061a6033"
      },
      "source": [
        "import numpy as np\n",
        "\n",
        "array = np.array([1,2,3,4]) \n",
        "array"
      ],
      "execution_count": null,
      "outputs": [
        {
          "output_type": "execute_result",
          "data": {
            "text/plain": [
              "array([1, 2, 3, 4])"
            ]
          },
          "metadata": {
            "tags": []
          },
          "execution_count": 98
        }
      ]
    },
    {
      "cell_type": "markdown",
      "metadata": {
        "id": "0rjsQq8G9J2v"
      },
      "source": [
        "## Словарь"
      ]
    },
    {
      "cell_type": "markdown",
      "metadata": {
        "id": "3heTmd3E9J2w"
      },
      "source": [
        "Список хорош, когда он один. Но зачастую у нас возникает необходимость хранить несколько связанных списков. \n",
        "Например, номера телефонов и имена покупателей. Или название продуктов и их стоимость. В python есть особый тип данных для хранения такой информации в удобной форме - словарь"
      ]
    },
    {
      "cell_type": "markdown",
      "metadata": {
        "id": "7i93VWLn9J2w"
      },
      "source": [
        "Словари иногда встречаются в других языках как \"ассоциативные записи\" или \"ассоциативные массивы\". В отличие от последовательностей, которые индексируются диапазоном чисел, словари индексируются по ключам, которые могут быть любым неизменяемым типом; строки и числа всегда могут быть ключами. Кортежи могут быть использованы как ключи, если они содержат только строки, числа или кортежи; если кортеж включает какой-либо изменяемый объект, прямо или косвенно, он не может быть использован в качестве ключа. Вы не можете использовать списки как ключи, поскольку списки могут быть изменены на месте с помощью присваивания по индексу, срезу или такими методами как append() и extend(). Впрочем, использовать кортежи в качестве ключей словаря я вам не советую. Лучше всего в отношении словарей следовать правилам языка **JSON**\n",
        "\n",
        "https://ru.wikipedia.org/wiki/JSON"
      ]
    },
    {
      "cell_type": "code",
      "metadata": {
        "id": "4QvNxKUG9J2z",
        "colab": {
          "base_uri": "https://localhost:8080/",
          "height": 35
        },
        "outputId": "addfba2d-ddb8-4c7b-fdcd-499bf7b7ae44"
      },
      "source": [
        "fruit_dict = {'Банан': '16 рублей', 'Яблоко': '28 рублей', 'Персик': '37 рублей', \n",
        "             'Манго': '100 рублей', 'Апельсин': '30 рублей'}\n",
        "\n",
        "#Обращаемся к элементу с помощью ключа\n",
        "\n",
        "\n",
        "fruit_dict['Банан']"
      ],
      "execution_count": null,
      "outputs": [
        {
          "output_type": "execute_result",
          "data": {
            "application/vnd.google.colaboratory.intrinsic+json": {
              "type": "string"
            },
            "text/plain": [
              "'16 рублей'"
            ]
          },
          "metadata": {
            "tags": []
          },
          "execution_count": 122
        }
      ]
    },
    {
      "cell_type": "code",
      "metadata": {
        "id": "N9P3b3uM6JN7",
        "colab": {
          "base_uri": "https://localhost:8080/",
          "height": 34
        },
        "outputId": "317a695c-bdde-4ec9-a142-0ac2778f34f5"
      },
      "source": [
        "a = list(fruit_dict.values())\n",
        "a.sort()\n",
        "a\n"
      ],
      "execution_count": null,
      "outputs": [
        {
          "output_type": "execute_result",
          "data": {
            "text/plain": [
              "['100 рублей', '16 рублей', '28 рублей', '30 рублей', '37 рублей']"
            ]
          },
          "metadata": {
            "tags": []
          },
          "execution_count": 138
        }
      ]
    },
    {
      "cell_type": "code",
      "metadata": {
        "id": "nVtRBwPrfZ1Y",
        "colab": {
          "base_uri": "https://localhost:8080/",
          "height": 34
        },
        "outputId": "27d109fc-d032-40d1-a9bb-a67cd417154f"
      },
      "source": [
        "if 'Банан' not in fruit_dict : \n",
        "  print('Нет в словаре') \n",
        "else: \n",
        "  print(fruit_dict['Банан']) \n",
        "\n"
      ],
      "execution_count": null,
      "outputs": [
        {
          "output_type": "stream",
          "text": [
            "16 рублей\n"
          ],
          "name": "stdout"
        }
      ]
    },
    {
      "cell_type": "code",
      "metadata": {
        "id": "_tidvJyo9J22",
        "colab": {
          "base_uri": "https://localhost:8080/",
          "height": 34
        },
        "outputId": "0b25bc01-da10-4e4a-88ba-912db5d680cf"
      },
      "source": [
        "print(test_dict.get('Апельсин')) # надежный метод получения значения\n",
        "# print(test_dict['Апельсин'])# ненадежный метод\n"
      ],
      "execution_count": null,
      "outputs": [
        {
          "output_type": "stream",
          "text": [
            "30 рублей\n"
          ],
          "name": "stdout"
        }
      ]
    },
    {
      "cell_type": "markdown",
      "metadata": {
        "id": "hLu-sbC2iiZn"
      },
      "source": [
        "### Циклы и словари"
      ]
    },
    {
      "cell_type": "code",
      "metadata": {
        "id": "46umgvHIilLb",
        "colab": {
          "base_uri": "https://localhost:8080/",
          "height": 104
        },
        "outputId": "ac227db4-659a-4eee-a0e2-b534ee9034f4"
      },
      "source": [
        "for key in fruit_dict:\n",
        "  print(fruit_dict[key]) "
      ],
      "execution_count": null,
      "outputs": [
        {
          "output_type": "stream",
          "text": [
            "16 рублей\n",
            "28 рублей\n",
            "37 рублей\n",
            "100 рублей\n",
            "30 рублей\n"
          ],
          "name": "stdout"
        }
      ]
    },
    {
      "cell_type": "code",
      "metadata": {
        "id": "m7hz6dEVisQE"
      },
      "source": [
        "### а как получить значение? "
      ],
      "execution_count": null,
      "outputs": []
    },
    {
      "cell_type": "code",
      "metadata": {
        "id": "U89oKG1GiyV_"
      },
      "source": [
        ""
      ],
      "execution_count": null,
      "outputs": []
    },
    {
      "cell_type": "markdown",
      "metadata": {
        "id": "oVYnsvbei0LC"
      },
      "source": [
        "###Проверка наличия ключа"
      ]
    },
    {
      "cell_type": "code",
      "metadata": {
        "id": "zSPN2h3u9J3b",
        "colab": {
          "base_uri": "https://localhost:8080/",
          "height": 69
        },
        "outputId": "cb2eabe6-5a27-4573-bc7a-f3200e6f54bf"
      },
      "source": [
        "# можно сделать так\n",
        "products = ['Банан', 'Вишня', 'Апельсин']\n",
        "\n",
        "for product in products:\n",
        "    if product in fruit_dict:\n",
        "        print(fruit_dict[product])\n",
        "    else:\n",
        "        print('Этого не было в списке')\n",
        "        \n"
      ],
      "execution_count": null,
      "outputs": [
        {
          "output_type": "stream",
          "text": [
            "16 рублей\n",
            "Этого не было в списке\n",
            "30 рублей\n"
          ],
          "name": "stdout"
        }
      ]
    },
    {
      "cell_type": "code",
      "metadata": {
        "id": "lHI0YgV69J3x",
        "outputId": "ef748f83-5267-4351-9937-96a9f1843cb9"
      },
      "source": [
        "#Переборы в словарях\n",
        "\n",
        "employee_base = {'Мария Никитина': 'менеджер', 'Егор Савичев': 'разработчик',\n",
        "                 'Александр Пахомов': 'дизайнер', 'Алина Егорова': 'разработчик',\n",
        "                 'Руслан Башаров': 'верстальщик'}\n",
        "\n",
        "for employee in employee_base:\n",
        "    print(employee)"
      ],
      "execution_count": null,
      "outputs": [
        {
          "output_type": "stream",
          "text": [
            "Мария Никитина\n",
            "Егор Савичев\n",
            "Александр Пахомов\n",
            "Алина Егорова\n",
            "Руслан Башаров\n"
          ],
          "name": "stdout"
        }
      ]
    },
    {
      "cell_type": "code",
      "metadata": {
        "id": "zmNuXJDg9J31",
        "outputId": "e1f1d120-7617-4be6-8364-e9fc385a9116"
      },
      "source": [
        "example_1 = {'Мария Никитина': 'менеджер', 'Мария Никитина': 'разработчик'}\n",
        "example_1"
      ],
      "execution_count": null,
      "outputs": [
        {
          "output_type": "execute_result",
          "data": {
            "text/plain": [
              "{'Мария Никитина': 'разработчик'}"
            ]
          },
          "metadata": {
            "tags": []
          },
          "execution_count": 59
        }
      ]
    },
    {
      "cell_type": "code",
      "metadata": {
        "id": "WQRRGtOg9J34",
        "outputId": "e095257d-836a-4044-ecc4-63fdf2cbf42c"
      },
      "source": [
        "for key in employee_base:\n",
        "    print(employee_base[key])"
      ],
      "execution_count": null,
      "outputs": [
        {
          "output_type": "stream",
          "text": [
            "менеджер\n",
            "разработчик\n",
            "дизайнер\n",
            "разработчик\n",
            "верстальщик\n"
          ],
          "name": "stdout"
        }
      ]
    },
    {
      "cell_type": "code",
      "metadata": {
        "id": "KHea-4Rc9J37",
        "outputId": "d985b75b-47b8-4da4-81c3-f205af98f8d2"
      },
      "source": [
        "employee_base.items()"
      ],
      "execution_count": null,
      "outputs": [
        {
          "output_type": "execute_result",
          "data": {
            "text/plain": [
              "dict_items([('Мария Никитина', 'менеджер'), ('Егор Савичев', 'разработчик'), ('Александр Пахомов', 'дизайнер'), ('Алина Егорова', 'разработчик'), ('Руслан Башаров', 'верстальщик')])"
            ]
          },
          "metadata": {
            "tags": []
          },
          "execution_count": 60
        }
      ]
    },
    {
      "cell_type": "code",
      "metadata": {
        "id": "rc8N_ruH9J3_",
        "outputId": "c4adf169-2d98-4fa5-977e-0aa4d41e7d47"
      },
      "source": [
        "for key, value in employee_base.items():\n",
        "    \n",
        "    print(key, value.upper())"
      ],
      "execution_count": null,
      "outputs": [
        {
          "output_type": "stream",
          "text": [
            "Мария Никитина МЕНЕДЖЕР\n",
            "Егор Савичев РАЗРАБОТЧИК\n",
            "Александр Пахомов ДИЗАЙНЕР\n",
            "Алина Егорова РАЗРАБОТЧИК\n",
            "Руслан Башаров ВЕРСТАЛЬЩИК\n"
          ],
          "name": "stdout"
        }
      ]
    },
    {
      "cell_type": "code",
      "metadata": {
        "id": "PACC2AmI9J4C",
        "outputId": "019fdaf7-931c-4acf-b2e5-a2c955ec742a"
      },
      "source": [
        "for key in employee_base.keys():\n",
        "    print(key)"
      ],
      "execution_count": null,
      "outputs": [
        {
          "output_type": "stream",
          "text": [
            "Мария Никитина\n",
            "Егор Савичев\n",
            "Александр Пахомов\n",
            "Алина Егорова\n",
            "Руслан Башаров\n"
          ],
          "name": "stdout"
        }
      ]
    },
    {
      "cell_type": "markdown",
      "metadata": {
        "id": "a6lyRtrA9J4L"
      },
      "source": [
        "### Вложенные словари"
      ]
    },
    {
      "cell_type": "code",
      "metadata": {
        "id": "pVZJFVYQ9J4N"
      },
      "source": [
        "# Часто встречается при работе с конфигурационными файлами, JSON схемами и не только\n",
        "\n",
        "config = {\n",
        "    \"server\": {\n",
        "        \"host\": \"127.0.0.1\",\n",
        "        \"port\": \"22\"\n",
        "    },\n",
        "    \"configuration\": {\n",
        "        \"ssh\": {\n",
        "            \"access\": \"true\",\n",
        "            \"login\": \"some\",\n",
        "            \"password\": \"some\"\n",
        "        }\n",
        "    }\n",
        "}\n",
        "\n"
      ],
      "execution_count": null,
      "outputs": []
    },
    {
      "cell_type": "code",
      "metadata": {
        "id": "8CNbTJeu5nBP",
        "colab": {
          "base_uri": "https://localhost:8080/",
          "height": 35
        },
        "outputId": "f01965ff-9fa9-48d7-fa5e-98c1a374f249"
      },
      "source": [
        "config['server']['host']"
      ],
      "execution_count": null,
      "outputs": [
        {
          "output_type": "execute_result",
          "data": {
            "application/vnd.google.colaboratory.intrinsic+json": {
              "type": "string"
            },
            "text/plain": [
              "'127.0.0.1'"
            ]
          },
          "metadata": {
            "tags": []
          },
          "execution_count": 134
        }
      ]
    },
    {
      "cell_type": "code",
      "metadata": {
        "id": "SznJjSbc9J4P",
        "outputId": "e28f2cfd-4be8-4a5b-f25e-206956b4a83d"
      },
      "source": [
        "for key, value in config.items():\n",
        "    print(key, value)\n",
        "    "
      ],
      "execution_count": null,
      "outputs": [
        {
          "output_type": "error",
          "ename": "NameError",
          "evalue": "name 'config' is not defined",
          "traceback": [
            "\u001b[0;31m---------------------------------------------------------------------------\u001b[0m",
            "\u001b[0;31mNameError\u001b[0m                                 Traceback (most recent call last)",
            "\u001b[0;32m<ipython-input-66-f2ecdd40ff22>\u001b[0m in \u001b[0;36m<module>\u001b[0;34m\u001b[0m\n\u001b[0;32m----> 1\u001b[0;31m \u001b[0;32mfor\u001b[0m \u001b[0mkey\u001b[0m\u001b[0;34m,\u001b[0m \u001b[0mvalue\u001b[0m \u001b[0;32min\u001b[0m \u001b[0mconfig\u001b[0m\u001b[0;34m.\u001b[0m\u001b[0mitems\u001b[0m\u001b[0;34m(\u001b[0m\u001b[0;34m)\u001b[0m\u001b[0;34m:\u001b[0m\u001b[0;34m\u001b[0m\u001b[0;34m\u001b[0m\u001b[0m\n\u001b[0m\u001b[1;32m      2\u001b[0m     \u001b[0mprint\u001b[0m\u001b[0;34m(\u001b[0m\u001b[0mkey\u001b[0m\u001b[0;34m,\u001b[0m \u001b[0mvalue\u001b[0m\u001b[0;34m)\u001b[0m\u001b[0;34m\u001b[0m\u001b[0;34m\u001b[0m\u001b[0m\n\u001b[1;32m      3\u001b[0m \u001b[0;34m\u001b[0m\u001b[0m\n",
            "\u001b[0;31mNameError\u001b[0m: name 'config' is not defined"
          ]
        }
      ]
    },
    {
      "cell_type": "code",
      "metadata": {
        "id": "XsMoS6vb9J4V"
      },
      "source": [
        "config['configuration']['ssh']['login']"
      ],
      "execution_count": null,
      "outputs": []
    },
    {
      "cell_type": "code",
      "metadata": {
        "id": "XVyXsCPC6y_X",
        "colab": {
          "base_uri": "https://localhost:8080/",
          "height": 35
        },
        "outputId": "f7f9b3c2-23a6-4c8b-a53c-a4d6f5803a8c"
      },
      "source": [
        "' sdfsdfsdf : \"sdfsdf\" '"
      ],
      "execution_count": null,
      "outputs": [
        {
          "output_type": "execute_result",
          "data": {
            "application/vnd.google.colaboratory.intrinsic+json": {
              "type": "string"
            },
            "text/plain": [
              "' sdfsdfsdf : \"sdfsdf\" '"
            ]
          },
          "metadata": {
            "tags": []
          },
          "execution_count": 141
        }
      ]
    },
    {
      "cell_type": "markdown",
      "metadata": {
        "id": "HPMfnYhU9J4b"
      },
      "source": [
        "Списки внутри словарей"
      ]
    },
    {
      "cell_type": "code",
      "metadata": {
        "id": "72BP83G99J4d"
      },
      "source": [
        "config = {\n",
        "    \"server\": {\n",
        "        \"host\": \"127.0.0.1\",\n",
        "        \"port\": \"22\"\n",
        "    },\n",
        "    \"configuration\": {\n",
        "        \"ssh\": {\n",
        "            \"access\": \"true\",\n",
        "            \"login\": \"some\",\n",
        "            \"password\": \"some\"\n",
        "        }\n",
        "    },\n",
        "    \"methods\": [{'available': 'GET'}, {'forbidden': ['DELETE', 'POST']}]\n",
        "}\n",
        "\n",
        "config['methods'][1]['forbidden'][1]"
      ],
      "execution_count": null,
      "outputs": []
    },
    {
      "cell_type": "markdown",
      "metadata": {
        "id": "rc9d4SOfJ8kY"
      },
      "source": [
        "## Задача\n",
        "Напишите код, который ищет минимальное значение ключа cost в этом словаре. Укажите это значение в качестве ответа\n",
        "\n"
      ]
    },
    {
      "cell_type": "code",
      "metadata": {
        "id": "NZ_L_xSNKqxJ",
        "colab": {
          "base_uri": "https://localhost:8080/",
          "height": 34
        },
        "outputId": "034e57c6-10f8-4d96-eb50-f20b90a68342"
      },
      "source": [
        "results = [\n",
        "\t{'cost': 98, 'source': 'vk'},\n",
        "\t{'cost': 153, 'source': 'yandex'},\n",
        "\t{'cost': 110, 'source': 'facebook'},\n",
        "\t{'cost': 5, 'source': 'rogaikopyta'}\n",
        "\n",
        "]\n",
        "\n",
        "min_cost = float('inf') #так мы гарантируем универсальность алгоритма\n",
        "for item in results:\n",
        "  if item['cost'] < min_cost:\n",
        "    min_cost = item['cost']\n",
        "\n",
        "print(min_cost)\n"
      ],
      "execution_count": null,
      "outputs": [
        {
          "output_type": "stream",
          "text": [
            "5\n"
          ],
          "name": "stdout"
        }
      ]
    },
    {
      "cell_type": "code",
      "metadata": {
        "id": "pb-50-FKaFpr",
        "colab": {
          "base_uri": "https://localhost:8080/",
          "height": 69
        },
        "outputId": "ccbbc625-aac2-477a-b1ef-2d245efc41c8"
      },
      "source": [
        "for i in results:\n",
        "  print(i['cost'])"
      ],
      "execution_count": null,
      "outputs": [
        {
          "output_type": "stream",
          "text": [
            "98\n",
            "153\n",
            "110\n"
          ],
          "name": "stdout"
        }
      ]
    },
    {
      "cell_type": "markdown",
      "metadata": {
        "id": "-DdB69ysL3J-"
      },
      "source": [
        "Согласно сайту www.bodycounters.com в четырех частях фильма “Пираты Карибского моря” было довольно много погибших. Пиратов-зомби в последней части тоже считайте живыми.\n"
      ]
    },
    {
      "cell_type": "code",
      "metadata": {
        "id": "Re6Em_QrL13K"
      },
      "source": [
        "bodycount = {\n",
        "\t'Проклятие Черной жемчужины': {\n",
        "\t\t'человек': 17\n",
        "\t}, \n",
        "\n",
        "\t'Сундук мертвеца': {\n",
        "\t\t'человек': 56,\n",
        "\t\t'раков-отшельников': 1\n",
        "\t},\n",
        "\n",
        "\t'На краю света': {\n",
        "\t\t'человек': 88\n",
        "\t},\n",
        "\n",
        "\t'На странных берегах': {\n",
        "\t\t'человек': 56,\n",
        "\t\t'русалок': 2,\n",
        "\t\t'ядовитых жаб': 3,\n",
        "\t\t'пиратов зомби': 2\n",
        "\t}\n",
        "}"
      ],
      "execution_count": null,
      "outputs": []
    },
    {
      "cell_type": "code",
      "metadata": {
        "id": "ACvVSfFEL837",
        "colab": {
          "base_uri": "https://localhost:8080/",
          "height": 34
        },
        "outputId": "b202c25c-61fc-4d11-e5fe-c937dc748d53"
      },
      "source": [
        "total = 0\n",
        "for i in bodycount:\n",
        "  for j in bodycount[i]:\n",
        "    total +=bodycount[i][j]\n",
        "\n",
        "total"
      ],
      "execution_count": null,
      "outputs": [
        {
          "output_type": "execute_result",
          "data": {
            "text/plain": [
              "225"
            ]
          },
          "metadata": {
            "tags": []
          },
          "execution_count": 51
        }
      ]
    },
    {
      "cell_type": "markdown",
      "metadata": {
        "id": "khxMKXlX9J4k"
      },
      "source": [
        "### Реальный пример работы со словарями и списками \n",
        "\n"
      ]
    },
    {
      "cell_type": "code",
      "metadata": {
        "id": "RJs1qB4S9J4l"
      },
      "source": [
        "response = {'response': [{'id': 42565717,\n",
        "   'name': 'Python',\n",
        "   'screen_name': 'club42565717',\n",
        "   'is_closed': 0,\n",
        "   'type': 'group',\n",
        "   'members_count': 37319,\n",
        "   'activity': 'Открытая группа',\n",
        "   'photo_50': 'https://sun9-127.userapi.com/c845524/v845524906/1a71c2/A2r_4JtmiLQ.jpg?ava=1',\n",
        "   'photo_100': 'https://sun9-58.userapi.com/c845524/v845524906/1a71c1/2fBtsS0k8XY.jpg?ava=1',\n",
        "   'photo_200': 'https://sun9-50.userapi.com/c845524/v845524906/1a71c0/Kfo-eQIn0DU.jpg?ava=1'},\n",
        "                         \n",
        "  {'id': 3183750,\n",
        "   'name': 'Веб программист - PHP, JS, Python, Java, HTML 5',\n",
        "   'screen_name': 'php2all',\n",
        "   'is_closed': 0,\n",
        "   'type': 'page',\n",
        "   'members_count': 117833,\n",
        "   'activity': 'Программирование',\n",
        "   'photo_50': 'https://sun9-54.userapi.com/c626421/v626421613/941/HSj4ylRsk8k.jpg?ava=1',\n",
        "   'photo_100': 'https://sun9-5.userapi.com/c626421/v626421613/940/yKaZLxGShkY.jpg?ava=1',\n",
        "   'photo_200': 'https://sun9-49.userapi.com/c626421/v626421613/93f/2EygT_FJKWg.jpg?ava=1'}]}"
      ],
      "execution_count": null,
      "outputs": []
    },
    {
      "cell_type": "code",
      "metadata": {
        "scrolled": true,
        "id": "WQGJhKRr9J4p"
      },
      "source": [
        "response['response']"
      ],
      "execution_count": null,
      "outputs": []
    },
    {
      "cell_type": "code",
      "metadata": {
        "scrolled": true,
        "id": "Dl-c_EMu9J4s",
        "outputId": "3189f0d9-d90d-4889-e6e1-ec8b67cdfe6a"
      },
      "source": [
        "\n",
        "def get_info(elem):\n",
        "    \n",
        "    groupId = elem['id']\n",
        "    name = elem['name']\n",
        "    members_count = elem['members_count']\n",
        "    activity = elem['activity']\n",
        "    \n",
        "    return (groupId, name, members_count, activity)\n",
        "    \n",
        "data = list(zip(*map(get_info, response['response'])))\n",
        "data"
      ],
      "execution_count": null,
      "outputs": [
        {
          "output_type": "error",
          "ename": "NameError",
          "evalue": "name 'response' is not defined",
          "traceback": [
            "\u001b[0;31m---------------------------------------------------------------------------\u001b[0m",
            "\u001b[0;31mNameError\u001b[0m                                 Traceback (most recent call last)",
            "\u001b[0;32m<ipython-input-27-b018d532ef19>\u001b[0m in \u001b[0;36m<module>\u001b[0;34m\u001b[0m\n\u001b[1;32m      8\u001b[0m     \u001b[0;32mreturn\u001b[0m \u001b[0;34m(\u001b[0m\u001b[0mgroupId\u001b[0m\u001b[0;34m,\u001b[0m \u001b[0mname\u001b[0m\u001b[0;34m,\u001b[0m \u001b[0mmembers_count\u001b[0m\u001b[0;34m,\u001b[0m \u001b[0mactivity\u001b[0m\u001b[0;34m)\u001b[0m\u001b[0;34m\u001b[0m\u001b[0;34m\u001b[0m\u001b[0m\n\u001b[1;32m      9\u001b[0m \u001b[0;34m\u001b[0m\u001b[0m\n\u001b[0;32m---> 10\u001b[0;31m \u001b[0mdata\u001b[0m \u001b[0;34m=\u001b[0m \u001b[0mlist\u001b[0m\u001b[0;34m(\u001b[0m\u001b[0mzip\u001b[0m\u001b[0;34m(\u001b[0m\u001b[0;34m*\u001b[0m\u001b[0mmap\u001b[0m\u001b[0;34m(\u001b[0m\u001b[0mget_info\u001b[0m\u001b[0;34m,\u001b[0m \u001b[0mresponse\u001b[0m\u001b[0;34m[\u001b[0m\u001b[0;34m'response'\u001b[0m\u001b[0;34m]\u001b[0m\u001b[0;34m)\u001b[0m\u001b[0;34m)\u001b[0m\u001b[0;34m)\u001b[0m\u001b[0;34m\u001b[0m\u001b[0;34m\u001b[0m\u001b[0m\n\u001b[0m\u001b[1;32m     11\u001b[0m \u001b[0mdata\u001b[0m\u001b[0;34m\u001b[0m\u001b[0;34m\u001b[0m\u001b[0m\n",
            "\u001b[0;31mNameError\u001b[0m: name 'response' is not defined"
          ]
        }
      ]
    },
    {
      "cell_type": "markdown",
      "metadata": {
        "id": "dKYHVLLnEbVR"
      },
      "source": [
        "## Спасибо за внимание! Буду рад ответиить на ваши вопросы\n",
        "\n",
        "Форма ОС:\n",
        "https://forms.gle/w6TjMeYPDYqQAFSJ8 \n",
        "\n"
      ]
    },
    {
      "cell_type": "markdown",
      "metadata": {
        "id": "ufVnhbXA9Jy5"
      },
      "source": [
        "<h2><center>Методы  списков</center></h2>"
      ]
    },
    {
      "cell_type": "markdown",
      "metadata": {
        "id": "2iuT87tB9Jy6"
      },
      "source": [
        "**list.append(x)**\n",
        "\n",
        "Добавляет элемент в конец списка. Эквивалентно a[len(a):] = [x].\n",
        "\n",
        "**list.extend(iterable)**\n",
        "\n",
        "Расширяет список добавлением всех элементов из итерации. Эквивалентно a[len(a):] = iterable.\n",
        "\n",
        "**list.insert(i, x)**\n",
        "\n",
        "Вставляет элемент в заданную позицию. Первый аргумент - это индекс элемента, перед которым происходит вставка, так a.insert(0, x) вставляет впереди списка, а a.insert(len(a), x) эквивалентно a.append(x).\n",
        "\n",
        "**list.remove(x)**\n",
        "\n",
        "Удаляет первый элемент из списка, чье значение равно x. Возникает ошибка, если такого элемента нет.\n",
        "\n",
        "**list.pop([i])**\n",
        "\n",
        "Удаляет элемент в заданной позиции в списке и возвращает его. \n",
        "Если индекс не указан, a.pop() удаляет и возвращает последний элемент в списке. \n",
        "(Квадратные скобки вокруг i в сигнатуре метода означают, что параметр необязательный, а не то, что вы должны вводить квадратные скобки в том месте. Вы часто увидите такую нотацию в Справке по библиотеке Python.)\n",
        "\n",
        "**list.index(x[, start[, end]])**\n",
        "\n",
        "Возвращает индекс (отсчет с нуля) первого элемента в списке, чье значение равно x. Возникает ValueError (docs.python.org/3/library/exceptions.html#ValueError), если такого элемента нет.\n",
        "\n",
        "Необязательные аргументы start и end интерпретируются как запись среза и используются как ограничитель для поиска в конкретной последовательности списка. Возвращаемый индекс вычисляется относительно начала полной последовательности, а не от аргумента start.\n",
        "\n",
        "**list.count(x)**\n",
        "\n",
        "Возвращает какое число раз x добавлен в список.\n",
        "\n"
      ]
    }
  ]
}