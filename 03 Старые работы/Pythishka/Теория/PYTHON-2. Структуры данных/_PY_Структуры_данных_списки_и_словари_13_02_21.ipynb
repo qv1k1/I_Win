{
  "nbformat": 4,
  "nbformat_minor": 0,
  "metadata": {
    "kernelspec": {
      "display_name": "Python 3",
      "language": "python",
      "name": "python3"
    },
    "language_info": {
      "codemirror_mode": {
        "name": "ipython",
        "version": 3
      },
      "file_extension": ".py",
      "mimetype": "text/x-python",
      "name": "python",
      "nbconvert_exporter": "python",
      "pygments_lexer": "ipython3",
      "version": "3.8.5"
    },
    "colab": {
      "name": "_PY - Структуры данных: списки и словари 13.02.21.ipynb",
      "provenance": []
    }
  },
  "cells": [
    {
      "cell_type": "markdown",
      "metadata": {
        "id": "tWLg7QqKfzoS"
      },
      "source": [
        "# Списки и словари"
      ]
    },
    {
      "cell_type": "markdown",
      "metadata": {
        "id": "lWy1E05Xfzod"
      },
      "source": [
        "Булыгин Олег  \n",
        "FB: [fb.com/obulygin91](fb.com/obulygin91)  \n",
        "VK: [vk.com/obulygin91](vk.com/obulygin91)  \n",
        "LinkedIn: [linkedin.com/in/obulygin](linkedin.com/in/obulygin)  \n",
        "Telegram: https://t.me/obulygin91  "
      ]
    },
    {
      "cell_type": "markdown",
      "metadata": {
        "id": "aere3tPjfzoe"
      },
      "source": [
        "На сегодняшнем уроке мы разберем такие структуры данных как списки и словари. Эти структуры позволяют хранить последовательности данных и грамотно с ними взаимодействовать."
      ]
    },
    {
      "cell_type": "markdown",
      "metadata": {
        "id": "Iz2HChLhfzoe"
      },
      "source": [
        "## Списки\n",
        "\n",
        "**Список** (list) в Python — это упорядоченная изменяемая коллекция объектов произвольных типов.\n",
        "\n",
        "\n",
        "\n",
        "\n",
        "В этом определении важна каждое слово. Мы будем к нему возвращаться по мере иллюстрации возможностей и свойств списков.\n",
        "\n",
        "\n",
        "\n",
        "* Когда мы называем список коллекцией, мы имеем в виду, что в одном списке может храниться множество объектов (например, чисел или строковых величин) \n",
        "\n",
        "\n",
        "* Говоря о том, что списки представляют собой упорядоченные коллекции, мы обращаем внимание на то, что каждый элемент в списке имеет свой порядковый номер.\n",
        "\n",
        "\n",
        "* Упоминание об изменяемости списков означает, что мы можем менять элементы списка уже после его объявления.\n",
        "\n",
        "\n",
        "* Выражение «произвольных типов» означает, что в списке могут храниться данные, относящиеся к любым типам из тех, с которыми работает Python. *То есть это могут быть также другие списки и словари*\n",
        "\n",
        "Список инициализируется при помощи [ ], элементы в списке разделяются запятыми."
      ]
    },
    {
      "cell_type": "code",
      "metadata": {
        "id": "6iH2bohAfzof"
      },
      "source": [
        "month_list = ['Jan', 'Feb', 'Mar', 'Apr', 'May', 'Jun', 'Jul', 'Aug', 'Sep']\n",
        "income_list = [13000, 14000, 14300, 15000, 13800, 13000, 14900, 15200, 15300]\n",
        "income_by_months = [['Jan', 13000], ['Feb', 14000], ['Mar', 14300], ['Apr', 15000], ['May', 13800], ['Jun', 13000], ['Jul', 14900], ['Aug', 15200], ['Sep', 15300]]"
      ],
      "execution_count": null,
      "outputs": []
    },
    {
      "cell_type": "markdown",
      "metadata": {
        "id": "634R3F1tfzof"
      },
      "source": [
        "### Индексация и срезы\n",
        "– доступ к элементам объекта по их порядковому номеру в нем. Индексация элементов начинается с нуля.\n",
        "\n",
        "Получить значение элемента по индексу можно при помощи `[ ]`,\n",
        "например: `my_string[0]` и `my_string[-6]` (при обратной индексации).\n",
        "\n",
        "Можно “доставать” из строки несколько элементов при помощи “срезов” (slicing). Для указания интервала среза используется `:`\n",
        "\n",
        "`list[START:STOP:STEP]` - берёт срез от номера `START`, до `STOP` не включая его, с шагом `STEP`. По умолчанию `START` = 0, `STOP` = длина объекта, `STEP` = 1. Какие-либо (а возможно, и все) параметры могут быть опущены."
      ]
    },
    {
      "cell_type": "code",
      "metadata": {
        "id": "ws3FWWJEfzog"
      },
      "source": [
        "my_list = [1, 2, 3, 4, 5, 6]"
      ],
      "execution_count": null,
      "outputs": []
    },
    {
      "cell_type": "code",
      "metadata": {
        "id": "GupzxZ_ifzog",
        "outputId": "010f6311-6679-445b-e2bf-aa448b7bb0f7"
      },
      "source": [
        "my_list[0]"
      ],
      "execution_count": null,
      "outputs": [
        {
          "output_type": "execute_result",
          "data": {
            "text/plain": [
              "1"
            ]
          },
          "metadata": {
            "tags": []
          },
          "execution_count": 2
        }
      ]
    },
    {
      "cell_type": "code",
      "metadata": {
        "id": "nDHvnzTHfzoh",
        "outputId": "9e1d995b-8c04-4fde-ec23-6c0858662289"
      },
      "source": [
        "my_list[-6]"
      ],
      "execution_count": null,
      "outputs": [
        {
          "output_type": "execute_result",
          "data": {
            "text/plain": [
              "1"
            ]
          },
          "metadata": {
            "tags": []
          },
          "execution_count": 3
        }
      ]
    },
    {
      "cell_type": "code",
      "metadata": {
        "id": "I0dDGciKfzoi",
        "colab": {
          "base_uri": "https://localhost:8080/"
        },
        "outputId": "0e2acb74-f716-4970-8c59-90637e0e204f"
      },
      "source": [
        "# индексация элементов в списке\n",
        "month_list = ['Jan', 'Feb', 'Mar', 'Apr', 'May', 'Jun', 'Jul', 'Aug', 'Sep']\n",
        "print(month_list[0])\n",
        "print('--------------')\n",
        "print(month_list[-1])\n",
        "print('--------------')\n",
        "print(month_list[-4])"
      ],
      "execution_count": null,
      "outputs": [
        {
          "output_type": "stream",
          "text": [
            "Jan\n",
            "--------------\n",
            "Sep\n",
            "--------------\n",
            "Jun\n"
          ],
          "name": "stdout"
        }
      ]
    },
    {
      "cell_type": "code",
      "metadata": {
        "id": "NT5T5fr2fzoj",
        "outputId": "b972c653-059e-425f-8142-34c6cec1e72c"
      },
      "source": [
        "# срезы\n",
        "month_list = ['Jan', 'Feb', 'Mar', 'Apr', 'May', 'Jun', 'Jul', 'Aug', 'Sep']\n",
        "print(month_list[1:3])\n",
        "print('--------------')\n",
        "print(month_list[-8:-6])\n",
        "print('--------------')\n",
        "print(month_list[2:])\n",
        "print('--------------')\n",
        "print(month_list[:3])\n",
        "print('--------------')\n",
        "print(month_list[::2])\n",
        "print('--------------')\n",
        "print(month_list[4:8:3])\n",
        "print('--------------')\n",
        "print(month_list[::-1])"
      ],
      "execution_count": null,
      "outputs": [
        {
          "output_type": "stream",
          "text": [
            "['Feb', 'Mar']\n",
            "--------------\n",
            "['Feb', 'Mar']\n",
            "--------------\n",
            "['Mar', 'Apr', 'May', 'Jun', 'Jul', 'Aug', 'Sep']\n",
            "--------------\n",
            "['Jan', 'Feb', 'Mar']\n",
            "--------------\n",
            "['Jan', 'Mar', 'May', 'Jul', 'Sep']\n",
            "--------------\n",
            "['May', 'Aug']\n",
            "--------------\n",
            "['Sep', 'Aug', 'Jul', 'Jun', 'May', 'Apr', 'Mar', 'Feb', 'Jan']\n"
          ],
          "name": "stdout"
        }
      ]
    },
    {
      "cell_type": "code",
      "metadata": {
        "id": "81Kbs87vfzoj",
        "outputId": "7fe56727-1554-41ed-a461-4b1fc2750052"
      },
      "source": [
        "# можно обращаться к любому уровню вложенности\n",
        "income_by_months = [['Jan', 13000], ['Feb', 14000], ['Mar', 14300], ['Apr', 15000], ['May', 13800], ['Jun', 13000], ['Jul', 14900], ['Aug', 15200], ['Sep', 15300]]\n",
        "income_by_months[0][1]"
      ],
      "execution_count": null,
      "outputs": [
        {
          "output_type": "execute_result",
          "data": {
            "text/plain": [
              "13000"
            ]
          },
          "metadata": {
            "tags": []
          },
          "execution_count": 7
        }
      ]
    },
    {
      "cell_type": "code",
      "metadata": {
        "id": "LKUMqRTyfzol",
        "outputId": "020fa277-4e4e-458a-a12f-a7fef8dd84b1"
      },
      "source": [
        "# изменение списков\n",
        "income_by_months[0][1] = 13100\n",
        "print(income_by_months)"
      ],
      "execution_count": null,
      "outputs": [
        {
          "output_type": "stream",
          "text": [
            "[['Jan', 13100], ['Feb', 14000], ['Mar', 14300], ['Apr', 15000], ['May', 13800], ['Jun', 13000], ['Jul', 14900], ['Aug', 15200], ['Sep', 15300]]\n"
          ],
          "name": "stdout"
        }
      ]
    },
    {
      "cell_type": "code",
      "metadata": {
        "id": "uASnQEMqfzol",
        "outputId": "76b55cb2-eb5c-4b7d-d928-60ff904bea72"
      },
      "source": [
        "# можем заменять сразу срез\n",
        "income_by_months[0:2] = [['Jan', 13200], ['Feb', 13900]]\n",
        "print(income_by_months)"
      ],
      "execution_count": null,
      "outputs": [
        {
          "output_type": "stream",
          "text": [
            "[['Jan', 13200], ['Feb', 13900], ['Mar', 14300], ['Apr', 15000], ['May', 13800], ['Jun', 13000], ['Jul', 14900], ['Aug', 15200], ['Sep', 15300]]\n"
          ],
          "name": "stdout"
        }
      ]
    },
    {
      "cell_type": "code",
      "metadata": {
        "id": "h3fyqSmCfzol",
        "outputId": "19849be7-0ac9-4979-d81c-87bfda034c9f"
      },
      "source": [
        "# можем складывать списки\n",
        "income_by_months_2 = [['Nov', 15400], ['Dec', 17000]]\n",
        "income_by_month = income_by_months + income_by_months_2\n",
        "print(income_by_month)"
      ],
      "execution_count": null,
      "outputs": [
        {
          "output_type": "stream",
          "text": [
            "[['Jan', 13200], ['Feb', 13900], ['Mar', 14300], ['Apr', 15000], ['May', 13800], ['Jun', 13000], ['Jul', 14900], ['Aug', 15200], ['Sep', 15300], ['Nov', 15400], ['Dec', 17000]]\n"
          ],
          "name": "stdout"
        }
      ]
    },
    {
      "cell_type": "markdown",
      "metadata": {
        "id": "y8-fYDPxfzom"
      },
      "source": [
        "### Распаковка списков"
      ]
    },
    {
      "cell_type": "code",
      "metadata": {
        "id": "gf4fttfafzom",
        "outputId": "c8e89fcd-73c7-4a41-9a7a-96fa145077bd"
      },
      "source": [
        "first, second, third = ['первый', 'второй', 'третий']\n",
        "third"
      ],
      "execution_count": null,
      "outputs": [
        {
          "output_type": "execute_result",
          "data": {
            "text/plain": [
              "'третий'"
            ]
          },
          "metadata": {
            "tags": []
          },
          "execution_count": 16
        }
      ]
    },
    {
      "cell_type": "code",
      "metadata": {
        "id": "d5D2csNHfzon",
        "outputId": "1f8a0bfb-45bd-40ba-a07d-f18713a0ba7f"
      },
      "source": [
        "# когда число элементов неизвестно\n",
        "first, *other = ['первый', 'второй', 'третий']\n",
        "print(first)\n",
        "print(other)"
      ],
      "execution_count": null,
      "outputs": [
        {
          "output_type": "stream",
          "text": [
            "первый\n",
            "['второй', 'третий', 'dfhbdfh']\n"
          ],
          "name": "stdout"
        }
      ]
    },
    {
      "cell_type": "code",
      "metadata": {
        "id": "9bKpFyEhfzon"
      },
      "source": [
        "first, *other, last =  ['первый', 'второй', 'третий', 'четвертый']"
      ],
      "execution_count": null,
      "outputs": []
    },
    {
      "cell_type": "code",
      "metadata": {
        "id": "QaN1HTcjfzon",
        "outputId": "74528624-fe5c-4dff-dac6-788ce7a4a6f4"
      },
      "source": [
        "first, last"
      ],
      "execution_count": null,
      "outputs": [
        {
          "output_type": "execute_result",
          "data": {
            "text/plain": [
              "('первый', 'четвертый')"
            ]
          },
          "metadata": {
            "tags": []
          },
          "execution_count": 21
        }
      ]
    },
    {
      "cell_type": "code",
      "metadata": {
        "id": "W5wgBV8Yfzon"
      },
      "source": [
        "some_list = ['первый', 'второй', 'третий', 'четвертый']"
      ],
      "execution_count": null,
      "outputs": []
    },
    {
      "cell_type": "code",
      "metadata": {
        "id": "iNrg49uifzoo",
        "outputId": "803a371b-66e1-4a75-afac-ce947027b263"
      },
      "source": [
        "*other, last = some_list\n",
        "print(last)"
      ],
      "execution_count": null,
      "outputs": [
        {
          "output_type": "stream",
          "text": [
            "четвертый\n"
          ],
          "name": "stdout"
        }
      ]
    },
    {
      "cell_type": "markdown",
      "metadata": {
        "id": "TOeFNkFMfzoo"
      },
      "source": [
        "### Операции со списками\n",
        "\n",
        "Со всеми операциями над списками можно ознакомиться по [ссылке](https://docs.python.org/3/tutorial/datastructures.html#more-on-lists). "
      ]
    },
    {
      "cell_type": "code",
      "metadata": {
        "id": "535Aw-lHfzoo",
        "outputId": "1129ceb4-3edb-44d3-ef29-098759d10deb"
      },
      "source": [
        "income_by_months"
      ],
      "execution_count": null,
      "outputs": [
        {
          "output_type": "execute_result",
          "data": {
            "text/plain": [
              "[['Jan', 13200],\n",
              " ['Feb', 13900],\n",
              " ['Mar', 14300],\n",
              " ['Apr', 15000],\n",
              " ['May', 13800],\n",
              " ['Jun', 13000],\n",
              " ['Jul', 14900],\n",
              " ['Aug', 15200],\n",
              " ['Sep', 15300]]"
            ]
          },
          "metadata": {
            "tags": []
          },
          "execution_count": 26
        }
      ]
    },
    {
      "cell_type": "code",
      "metadata": {
        "id": "t8tGZiKkfzoo",
        "outputId": "403b79da-35f1-44eb-d336-13d298f4e288"
      },
      "source": [
        "# Удаляем элемент по индексу\n",
        "del(income_by_months[-1])\n",
        "income_by_months"
      ],
      "execution_count": null,
      "outputs": [
        {
          "output_type": "execute_result",
          "data": {
            "text/plain": [
              "[['Jan', 13200],\n",
              " ['Feb', 13900],\n",
              " ['Mar', 14300],\n",
              " ['Apr', 15000],\n",
              " ['May', 13800],\n",
              " ['Jun', 13000],\n",
              " ['Jul', 14900],\n",
              " ['Aug', 15200]]"
            ]
          },
          "metadata": {
            "tags": []
          },
          "execution_count": 27
        }
      ]
    },
    {
      "cell_type": "code",
      "metadata": {
        "id": "O7RlbLJmfzop",
        "outputId": "421429a2-93b8-48b9-9dad-6c8ad173ec9b"
      },
      "source": [
        "# удаляем элемент по значению\n",
        "print(month_list)\n",
        "\n",
        "month_list.remove('Sep')\n",
        "print(month_list)"
      ],
      "execution_count": null,
      "outputs": [
        {
          "output_type": "stream",
          "text": [
            "['Jan', 'Feb', 'Mar', 'Apr', 'May', 'Jun', 'Jul', 'Aug', 'Sep']\n",
            "['Jan', 'Feb', 'Mar', 'Apr', 'May', 'Jun', 'Jul', 'Aug']\n"
          ],
          "name": "stdout"
        }
      ]
    },
    {
      "cell_type": "code",
      "metadata": {
        "id": "sn6G6-SVfzop",
        "outputId": "4bcf0935-979d-42d7-fbf9-ae544cc8fc30"
      },
      "source": [
        "# добавляем элемент в конец списка\n",
        "income_by_months.append(['Dec', 17000])\n",
        "income_by_months"
      ],
      "execution_count": null,
      "outputs": [
        {
          "output_type": "execute_result",
          "data": {
            "text/plain": [
              "[['Jan', 13200],\n",
              " ['Feb', 13900],\n",
              " ['Mar', 14300],\n",
              " ['Apr', 15000],\n",
              " ['May', 13800],\n",
              " ['Jun', 13000],\n",
              " ['Jul', 14900],\n",
              " ['Aug', 15200],\n",
              " ['Dec', 17000]]"
            ]
          },
          "metadata": {
            "tags": []
          },
          "execution_count": 29
        }
      ]
    },
    {
      "cell_type": "code",
      "metadata": {
        "id": "euve-Jsifzop",
        "outputId": "1d3b610f-4fef-40f1-bd82-5c391dcc291e"
      },
      "source": [
        "# добавляем элемент по нужному индексу\n",
        "print(income_list)\n",
        "income_list.insert(2, 1111111)\n",
        "print(income_list)"
      ],
      "execution_count": null,
      "outputs": [
        {
          "output_type": "stream",
          "text": [
            "[13000, 14000, 14300, 15000, 13800, 13000, 14900, 15200, 15300]\n",
            "[13000, 14000, 1111111, 14300, 15000, 13800, 13000, 14900, 15200, 15300]\n"
          ],
          "name": "stdout"
        }
      ]
    },
    {
      "cell_type": "code",
      "metadata": {
        "id": "RQbN6-B_fzop",
        "outputId": "c1f3c835-b078-49d1-f8c8-29d13b6aebaf"
      },
      "source": [
        "# считаем количество вхождений элемента в список\n",
        "income_list.count(4567457)"
      ],
      "execution_count": null,
      "outputs": [
        {
          "output_type": "execute_result",
          "data": {
            "text/plain": [
              "0"
            ]
          },
          "metadata": {
            "tags": []
          },
          "execution_count": 35
        }
      ]
    },
    {
      "cell_type": "code",
      "metadata": {
        "id": "ywHXYM-Ffzoq",
        "outputId": "dc2260e2-2fba-42f5-8261-b8913c949ae6"
      },
      "source": [
        "# узнаем индекс элемента в списка (только первое вхождение!)\n",
        "income_list.index(13000)\n",
        "# income_list.index(13000, 1)"
      ],
      "execution_count": null,
      "outputs": [
        {
          "output_type": "execute_result",
          "data": {
            "text/plain": [
              "6"
            ]
          },
          "metadata": {
            "tags": []
          },
          "execution_count": 37
        }
      ]
    },
    {
      "cell_type": "code",
      "metadata": {
        "id": "6XdVJ15ifzoq",
        "outputId": "530d3850-d4b9-4c00-d7fc-f6d2f8bd8467"
      },
      "source": [
        "# разворачиваем список\n",
        "month_list.reverse()\n",
        "month_list"
      ],
      "execution_count": null,
      "outputs": [
        {
          "output_type": "execute_result",
          "data": {
            "text/plain": [
              "['Sep', 'Aug', 'Jul', 'Jun', 'May', 'Apr', 'Mar', 'Feb', 'Jan']"
            ]
          },
          "metadata": {
            "tags": []
          },
          "execution_count": 38
        }
      ]
    },
    {
      "cell_type": "code",
      "metadata": {
        "id": "wf5raw9Ffzor",
        "outputId": "64682a4c-f8a1-47e7-ca57-4d0074086440"
      },
      "source": [
        "# и несколько функций применитолько к спискам\n",
        "\n",
        "# узнаем длину списка\n",
        "len(income_list)"
      ],
      "execution_count": null,
      "outputs": [
        {
          "output_type": "execute_result",
          "data": {
            "text/plain": [
              "10"
            ]
          },
          "metadata": {
            "tags": []
          },
          "execution_count": 39
        }
      ]
    },
    {
      "cell_type": "code",
      "metadata": {
        "id": "CCsFdBmnfzor",
        "outputId": "a8107b74-716c-4309-e79b-c54feb914a0e"
      },
      "source": [
        "# сумма элементов\n",
        "sum(income_list)"
      ],
      "execution_count": null,
      "outputs": [
        {
          "output_type": "execute_result",
          "data": {
            "text/plain": [
              "1239611"
            ]
          },
          "metadata": {
            "tags": []
          },
          "execution_count": 40
        }
      ]
    },
    {
      "cell_type": "code",
      "metadata": {
        "id": "wG-dqlHcfzor",
        "outputId": "0dcfe05d-acf5-4bcb-bbf7-b04b857e0fa6"
      },
      "source": [
        "# максимальный элемент элементов\n",
        "max(income_list)"
      ],
      "execution_count": null,
      "outputs": [
        {
          "output_type": "execute_result",
          "data": {
            "text/plain": [
              "1111111"
            ]
          },
          "metadata": {
            "tags": []
          },
          "execution_count": 41
        }
      ]
    },
    {
      "cell_type": "code",
      "metadata": {
        "id": "hfaf8U6hfzos",
        "outputId": "24682f3f-7333-4e79-af62-e810675e3455"
      },
      "source": [
        "# минимальный элемент элементов\n",
        "min(income_list)"
      ],
      "execution_count": null,
      "outputs": [
        {
          "output_type": "execute_result",
          "data": {
            "text/plain": [
              "13000"
            ]
          },
          "metadata": {
            "tags": []
          },
          "execution_count": 42
        }
      ]
    },
    {
      "cell_type": "code",
      "metadata": {
        "id": "dx470rmkfzou",
        "outputId": "d2cf9c54-3e5f-42aa-a72a-0f202a55b917"
      },
      "source": [
        "# сортировка по возрастанию\n",
        "sorted(income_list)"
      ],
      "execution_count": null,
      "outputs": [
        {
          "output_type": "execute_result",
          "data": {
            "text/plain": [
              "[13000, 13000, 13800, 14000, 14300, 14900, 15000, 15200, 15300, 1111111]"
            ]
          },
          "metadata": {
            "tags": []
          },
          "execution_count": 43
        }
      ]
    },
    {
      "cell_type": "code",
      "metadata": {
        "id": "ugkg9GClfzou",
        "outputId": "c78ffb6a-b634-4fb0-ce86-147f05b0c234"
      },
      "source": [
        "# изменить порядок сортировки\n",
        "sorted(income_list, reverse=True)"
      ],
      "execution_count": null,
      "outputs": [
        {
          "output_type": "execute_result",
          "data": {
            "text/plain": [
              "[1111111, 15300, 15200, 15000, 14900, 14300, 14000, 13800, 13000, 13000]"
            ]
          },
          "metadata": {
            "tags": []
          },
          "execution_count": 44
        }
      ]
    },
    {
      "cell_type": "code",
      "metadata": {
        "id": "TrwByfL5fzov",
        "outputId": "676ab67b-fbda-49ab-d090-370198730a23"
      },
      "source": [
        "# а это сортировка строк по алфавиту (лексикографически)\n",
        "sorted(month_list)"
      ],
      "execution_count": null,
      "outputs": [
        {
          "output_type": "execute_result",
          "data": {
            "text/plain": [
              "['Apr', 'Aug', 'Feb', 'Jan', 'Jul', 'Jun', 'Mar', 'May', 'Sep']"
            ]
          },
          "metadata": {
            "tags": []
          },
          "execution_count": 45
        }
      ]
    },
    {
      "cell_type": "markdown",
      "metadata": {
        "id": "8f50ubQpfzov"
      },
      "source": [
        "Методы изменяемых типов данных всегда меняют исходный, объект, а не создают новый!  \n",
        "Методы неизменыемых типов данных всегда возвращают новый объект и не меняют исходный."
      ]
    },
    {
      "cell_type": "code",
      "metadata": {
        "id": "0yH5r86ufzov",
        "outputId": "b7ac29ed-c244-4fd3-f505-320cbdd66492"
      },
      "source": [
        "month_list = ['Jan', 'Feb', 'Mar', 'Apr', 'May', 'Jun', 'Jul', 'Aug', 'Sep']\n",
        "\n",
        "res = month_list.sort()\n",
        "print(res)\n",
        "print(month_list)"
      ],
      "execution_count": null,
      "outputs": [
        {
          "output_type": "stream",
          "text": [
            "None\n",
            "['Apr', 'Aug', 'Feb', 'Jan', 'Jul', 'Jun', 'Mar', 'May', 'Sep']\n"
          ],
          "name": "stdout"
        }
      ]
    },
    {
      "cell_type": "code",
      "metadata": {
        "id": "R19kxOH2fzow",
        "outputId": "6e235fb3-9cb9-4a47-a355-5c0d92a75699"
      },
      "source": [
        "month_list = ['Jan', 'Feb', 'Mar', 'Apr', 'May', 'Jun', 'Jul', 'Aug', 'Sep']\n",
        "\n",
        "sorted(month_list) # функция sorted создает новый объект\n",
        "print(month_list)"
      ],
      "execution_count": null,
      "outputs": [
        {
          "output_type": "stream",
          "text": [
            "['Jan', 'Feb', 'Mar', 'Apr', 'May', 'Jun', 'Jul', 'Aug', 'Sep']\n"
          ],
          "name": "stdout"
        }
      ]
    },
    {
      "cell_type": "code",
      "metadata": {
        "id": "an0JQbYHfzow",
        "outputId": "9a2a6ccf-d105-4449-ade6-808f05989716"
      },
      "source": [
        "month_list = ['Jan', 'Feb', 'Mar', 'Apr', 'May', 'Jun', 'Jul', 'Aug', 'Sep']\n",
        "\n",
        "res = sorted(month_list)\n",
        "print(res)\n",
        "print(month_list)"
      ],
      "execution_count": null,
      "outputs": [
        {
          "output_type": "stream",
          "text": [
            "['Apr', 'Aug', 'Feb', 'Jan', 'Jul', 'Jun', 'Mar', 'May', 'Sep']\n",
            "['Jan', 'Feb', 'Mar', 'Apr', 'May', 'Jun', 'Jul', 'Aug', 'Sep']\n"
          ],
          "name": "stdout"
        }
      ]
    },
    {
      "cell_type": "markdown",
      "metadata": {
        "id": "t7jMtcinfzow"
      },
      "source": [
        "В примере ниже переменная `a` и `b` на самом деле указывают на один и тот же объект. В результате, при добавлении в `b` очередного элемента этот элемент добавляется и в исходном листе `a`. Это особенность всех изменяемых типов данных в Python"
      ]
    },
    {
      "cell_type": "code",
      "metadata": {
        "id": "Y6zglSu9fzox"
      },
      "source": [
        "a = [1, 2, 3]\n",
        "b = a"
      ],
      "execution_count": null,
      "outputs": []
    },
    {
      "cell_type": "code",
      "metadata": {
        "id": "Z0-cnNF4fzox",
        "outputId": "512985bc-07da-4da6-f56c-fcd698d5d075"
      },
      "source": [
        "b.append(4)\n",
        "print(a)"
      ],
      "execution_count": null,
      "outputs": [
        {
          "output_type": "stream",
          "text": [
            "[1, 2, 3, 4]\n"
          ],
          "name": "stdout"
        }
      ]
    },
    {
      "cell_type": "code",
      "metadata": {
        "id": "pSS6T6tufzox",
        "outputId": "a1089b3b-92ff-4a12-abb6-9b3724cb433c"
      },
      "source": [
        "id(a), id(b)"
      ],
      "execution_count": null,
      "outputs": [
        {
          "output_type": "execute_result",
          "data": {
            "text/plain": [
              "(2114269480128, 2114269480128)"
            ]
          },
          "metadata": {
            "tags": []
          },
          "execution_count": 51
        }
      ]
    },
    {
      "cell_type": "code",
      "metadata": {
        "id": "tkMK9Ci7fzox",
        "outputId": "c5dfeefd-76dd-4bd8-b256-6da522a3e60c"
      },
      "source": [
        "# создаем копию объекта \n",
        "a = [1, 2, 3]\n",
        "b = list(a)\n",
        "b.append(4)\n",
        "print(a)\n",
        "print(b)\n",
        "id(a), id(b)"
      ],
      "execution_count": null,
      "outputs": [
        {
          "output_type": "stream",
          "text": [
            "[1, 2, 3]\n",
            "[1, 2, 3, 4]\n"
          ],
          "name": "stdout"
        },
        {
          "output_type": "execute_result",
          "data": {
            "text/plain": [
              "(2114269501248, 2114269502144)"
            ]
          },
          "metadata": {
            "tags": []
          },
          "execution_count": 52
        }
      ]
    },
    {
      "cell_type": "code",
      "metadata": {
        "id": "c_9ciKwJfzoy",
        "outputId": "fc826030-1afa-49fb-c98f-84caea0e3439"
      },
      "source": [
        "# создаем копию объекта (другой способ)\n",
        "a = [1, 2, 3]\n",
        "b = a.copy()\n",
        "b.append(4)\n",
        "print(a)\n",
        "print(b)\n",
        "id(a), id(b)"
      ],
      "execution_count": null,
      "outputs": [
        {
          "output_type": "stream",
          "text": [
            "[1, 2, 3]\n",
            "[1, 2, 3, 4]\n"
          ],
          "name": "stdout"
        },
        {
          "output_type": "execute_result",
          "data": {
            "text/plain": [
              "(2114269396224, 2114269441024)"
            ]
          },
          "metadata": {
            "tags": []
          },
          "execution_count": 53
        }
      ]
    },
    {
      "cell_type": "code",
      "metadata": {
        "scrolled": true,
        "id": "Zn8wUrB9fzoy",
        "outputId": "665d2744-8510-4763-83a1-3480ea30582b"
      },
      "source": [
        "# создаем копию объекта (еще способ)\n",
        "a = [1, 2, 3]\n",
        "b = a[:]\n",
        "b.append(4)\n",
        "print(a)\n",
        "print(b)\n",
        "id(a), id(b)"
      ],
      "execution_count": null,
      "outputs": [
        {
          "output_type": "stream",
          "text": [
            "[1, 2, 3]\n",
            "[1, 2, 3, 4]\n"
          ],
          "name": "stdout"
        },
        {
          "output_type": "execute_result",
          "data": {
            "text/plain": [
              "(2114269490240, 2114269501824)"
            ]
          },
          "metadata": {
            "tags": []
          },
          "execution_count": 54
        }
      ]
    },
    {
      "cell_type": "markdown",
      "metadata": {
        "id": "oBfjXaJLfzoz"
      },
      "source": [
        "### Проверка вхождения элемента в список"
      ]
    },
    {
      "cell_type": "code",
      "metadata": {
        "id": "KW1sYO_Cfzoz",
        "outputId": "30efc7fc-9ac2-417f-a5b8-1cf66692dc77"
      },
      "source": [
        "# 'Москва' in ['Ленинград', 'Одесса', 'Севастополь', 'Москва']\n",
        "'Москва' not in ['Ленинград', 'Одесса', 'Севастополь', 'Москва']"
      ],
      "execution_count": null,
      "outputs": [
        {
          "output_type": "execute_result",
          "data": {
            "text/plain": [
              "True"
            ]
          },
          "metadata": {
            "tags": []
          },
          "execution_count": 58
        }
      ]
    },
    {
      "cell_type": "markdown",
      "metadata": {
        "id": "6EXa9AR5fzoz"
      },
      "source": [
        "### Итерация по спискам"
      ]
    },
    {
      "cell_type": "code",
      "metadata": {
        "id": "zIIJF5BZfzo0",
        "outputId": "5222650e-7379-4421-c164-0712226b15f0"
      },
      "source": [
        "companies_capitalization = [\n",
        " ['Orange', 1.3],\n",
        " ['Maxisoft', 1.5],\n",
        " ['Headbook', 0.8],\n",
        " ['Nicola', 2.2]\n",
        "]\n",
        "for company in companies_capitalization:\n",
        "#     print(company)\n",
        "    print(company[0], 'capitalization is', company[1])"
      ],
      "execution_count": null,
      "outputs": [
        {
          "output_type": "stream",
          "text": [
            "Orange capitalization is 1.3\n",
            "Maxisoft capitalization is 1.5\n",
            "Headbook capitalization is 0.8\n",
            "Nicola capitalization is 2.2\n"
          ],
          "name": "stdout"
        }
      ]
    },
    {
      "cell_type": "code",
      "metadata": {
        "id": "z63fHl3mfzo1",
        "outputId": "f73f70ec-8dc1-4174-de51-f2ed7d4e7951"
      },
      "source": [
        "# распаковка элементов прямо в цикле\n",
        "companies_capitalization = [\n",
        " ['Orange', 1.3],\n",
        " ['Maxisoft', 1.5],\n",
        " ['Headbook', 0.8],\n",
        " ['Nicola', 2.2]\n",
        "]\n",
        "for company_name, cap in companies_capitalization:\n",
        "    print(company_name, 'capitalization is', cap)"
      ],
      "execution_count": null,
      "outputs": [
        {
          "output_type": "stream",
          "text": [
            "Orange capitalization is 1.3\n",
            "Maxisoft capitalization is 1.5\n",
            "Headbook capitalization is 0.8\n",
            "Nicola capitalization is 2.2\n"
          ],
          "name": "stdout"
        }
      ]
    },
    {
      "cell_type": "markdown",
      "metadata": {
        "id": "QoWjzgFBfzo1"
      },
      "source": [
        "### Практика. У нас есть список, содержащий информацию о среднедневной температуре в Фаренгейтах за произвольный период по странам. Необходимо написать код, который рассчитает среднюю температуру за период для каждой страны.\n"
      ]
    },
    {
      "cell_type": "code",
      "metadata": {
        "id": "Fyrtic1sfzo2"
      },
      "source": [
        "countries_temperature = [\n",
        "    ['Thailand', [75.2, 77, 78.8, 73.4, 68, 75.2, 77]],\n",
        "    ['Germany', [57.2, 55.4, 59, 59, 53.6]],\n",
        "    ['Russia', [35.6, 37.4, 39.2, 41, 42.8, 39.2, 35.6]],\n",
        "    ['Poland', [50, 50, 53.6, 57.2, 55.4, 55.4]]\n",
        "]"
      ],
      "execution_count": null,
      "outputs": []
    },
    {
      "cell_type": "code",
      "metadata": {
        "id": "3p52902Cfzo2",
        "outputId": "55f8056b-b500-4ac6-ce22-1fc7eec3ceb0"
      },
      "source": [
        "for el in countries_temperature:\n",
        "    print(el[0], '-', round(sum(el[1]) / len(el[1]), 2))"
      ],
      "execution_count": null,
      "outputs": [
        {
          "output_type": "stream",
          "text": [
            "Thailand - 74.94\n",
            "Germany - 56.84\n",
            "Russia - 38.69\n",
            "Poland - 53.6\n"
          ],
          "name": "stdout"
        }
      ]
    },
    {
      "cell_type": "code",
      "metadata": {
        "id": "EWzdSKPNfzo4",
        "outputId": "d9bc36a9-1a59-477c-f637-ebf41acc97b3"
      },
      "source": [
        "# средняя по всем странам\n",
        "sum_temp = 0\n",
        "for el in countries_temperature:\n",
        "#     print(el[0])\n",
        "    sum_temp += sum(el[1]) / len(el[1])\n",
        "print(sum_temp / len(countries_temperature))"
      ],
      "execution_count": null,
      "outputs": [
        {
          "output_type": "stream",
          "text": [
            "Thailand\n",
            "Germany\n",
            "Russia\n",
            "Poland\n",
            "56.01714285714285\n"
          ],
          "name": "stdout"
        }
      ]
    },
    {
      "cell_type": "code",
      "metadata": {
        "id": "3MQvE0Mdfzo6"
      },
      "source": [
        "# for element in countries_temperature:\n",
        "#    avg_temp = sum(element[1]) / len(element[1])\n",
        "#    print(f\"Средняя температура в {element[0]} - {avg_temp} F\")"
      ],
      "execution_count": null,
      "outputs": []
    },
    {
      "cell_type": "markdown",
      "metadata": {
        "id": "HQ_0HW2Kfzo6"
      },
      "source": [
        "### Практика. Посчитаем сумму элементов по главной диагонали в матрице"
      ]
    },
    {
      "cell_type": "code",
      "metadata": {
        "id": "aikBFIlufzo7"
      },
      "source": [
        "data = [\n",
        "    [13, 25, 23, 34],\n",
        "    [45, 32, 44, 47],\n",
        "    [12, 33, 23, 95],\n",
        "    [13, 53, 34, 35]\n",
        "]"
      ],
      "execution_count": null,
      "outputs": []
    },
    {
      "cell_type": "code",
      "metadata": {
        "id": "-N9BFu3Gfzo7",
        "outputId": "daa647b3-259f-45d1-bc3d-e9d6f05b775a"
      },
      "source": [
        "sum_ = 0\n",
        "index = 0\n",
        "for row in data:\n",
        "    sum_ += row[index]\n",
        "    index += 1\n",
        "print(sum_)"
      ],
      "execution_count": null,
      "outputs": [
        {
          "output_type": "stream",
          "text": [
            "103\n"
          ],
          "name": "stdout"
        }
      ]
    },
    {
      "cell_type": "code",
      "metadata": {
        "id": "WFi_h1Uifzo8"
      },
      "source": [
        "\n"
      ],
      "execution_count": null,
      "outputs": []
    },
    {
      "cell_type": "code",
      "metadata": {
        "id": "ALawK6UFfzo8"
      },
      "source": [
        ""
      ],
      "execution_count": null,
      "outputs": []
    },
    {
      "cell_type": "markdown",
      "metadata": {
        "id": "MvbOLnMWfzo9"
      },
      "source": [
        "### List comprehension\n",
        "\n",
        "Генератор списка позволяет создать список и заполнить его данными."
      ]
    },
    {
      "cell_type": "code",
      "metadata": {
        "id": "BMqKLjWZfzo9",
        "outputId": "47de7028-fb43-4712-c56c-f25f2a2f11d5"
      },
      "source": [
        "# Дана последовательность чисел. Мы хотим оставить только те, что делятся на 5\n",
        "sequence = range(0, 40, 3)\n",
        "list(sequence)"
      ],
      "execution_count": null,
      "outputs": [
        {
          "output_type": "execute_result",
          "data": {
            "text/plain": [
              "[0, 3, 6, 9, 12, 15, 18, 21, 24, 27, 30, 33, 36, 39]"
            ]
          },
          "metadata": {
            "tags": []
          },
          "execution_count": 85
        }
      ]
    },
    {
      "cell_type": "code",
      "metadata": {
        "id": "R-vayUtLfzo9",
        "outputId": "113868f3-f405-49a5-d619-92d2d783c655"
      },
      "source": [
        "# решение в лоб\n",
        "for num in sequence:\n",
        "    if num % 5 == 0:\n",
        "        print(num)"
      ],
      "execution_count": null,
      "outputs": [
        {
          "output_type": "stream",
          "text": [
            "0\n",
            "15\n",
            "30\n"
          ],
          "name": "stdout"
        }
      ]
    },
    {
      "cell_type": "code",
      "metadata": {
        "id": "jDifuawsfzo-",
        "outputId": "ce9912ed-5b79-4d69-8a09-9a80eb4a2557"
      },
      "source": [
        "# если хотим получить отфильтрованный лист, то будет даже так\n",
        "filtered_sequence = []\n",
        "\n",
        "for num in sequence:\n",
        "    if num % 5 == 0:\n",
        "        filtered_sequence.append(num)\n",
        "\n",
        "print(filtered_sequence)"
      ],
      "execution_count": null,
      "outputs": [
        {
          "output_type": "stream",
          "text": [
            "[0, 15, 30]\n"
          ],
          "name": "stdout"
        }
      ]
    },
    {
      "cell_type": "code",
      "metadata": {
        "id": "Okpxl3v-fzo-",
        "outputId": "21d084fd-4cd9-431b-f190-0605f6691d46"
      },
      "source": [
        "# а с list comprehension будет так\n",
        "[num for num in sequence if num % 5 == 0]"
      ],
      "execution_count": null,
      "outputs": [
        {
          "output_type": "execute_result",
          "data": {
            "text/plain": [
              "[0, 15, 30]"
            ]
          },
          "metadata": {
            "tags": []
          },
          "execution_count": 88
        }
      ]
    },
    {
      "cell_type": "code",
      "metadata": {
        "id": "1tqXoPzCfzo-",
        "outputId": "cb67e4a2-312e-4a2c-9824-ac6b0c310785"
      },
      "source": [
        "# назвать переменную можно хоть как, как и в цикле\n",
        "[w for w in sequence if w % 5 == 0]"
      ],
      "execution_count": null,
      "outputs": [
        {
          "output_type": "execute_result",
          "data": {
            "text/plain": [
              "[0, 15, 30]"
            ]
          },
          "metadata": {
            "tags": []
          },
          "execution_count": 89
        }
      ]
    },
    {
      "cell_type": "code",
      "metadata": {
        "id": "w61ROpRNfzo-",
        "outputId": "ef6e9519-4b24-42aa-9708-a48513dd6f0b"
      },
      "source": [
        "# в левой чсти можем прописывать любые однострочные действия\n",
        "\n",
        "[x**2 for x in sequence if x % 5 == 0]"
      ],
      "execution_count": null,
      "outputs": [
        {
          "output_type": "execute_result",
          "data": {
            "text/plain": [
              "[0, 225, 900]"
            ]
          },
          "metadata": {
            "tags": []
          },
          "execution_count": 90
        }
      ]
    },
    {
      "cell_type": "code",
      "metadata": {
        "id": "WmdEeovvfzo_",
        "outputId": "1ada5c4f-9535-4682-a3b0-66b111f98bef"
      },
      "source": [
        "# если нужен else, то запись должна быть немного другая\n",
        "\n",
        "[x**2 if x % 5 == 0 else x**0.5 for x in sequence]"
      ],
      "execution_count": null,
      "outputs": [
        {
          "output_type": "execute_result",
          "data": {
            "text/plain": [
              "[0,\n",
              " 1.7320508075688772,\n",
              " 2.449489742783178,\n",
              " 3.0,\n",
              " 3.4641016151377544,\n",
              " 225,\n",
              " 4.242640687119285,\n",
              " 4.58257569495584,\n",
              " 4.898979485566356,\n",
              " 5.196152422706632,\n",
              " 900,\n",
              " 5.744562646538029,\n",
              " 6.0,\n",
              " 6.244997998398398]"
            ]
          },
          "metadata": {
            "tags": []
          },
          "execution_count": 92
        }
      ]
    },
    {
      "cell_type": "markdown",
      "metadata": {
        "id": "1NeEO4Npfzo_"
      },
      "source": [
        "Пример вычисления метрики из набора списков. Столбцы в каждой строке:\n",
        "- дата\n",
        "- номер счетчика\n",
        "- количество визитов\n",
        "\n",
        "Найдем среднее количество визитов по нашим данным"
      ]
    },
    {
      "cell_type": "code",
      "metadata": {
        "id": "QKwhOXK3fzpA"
      },
      "source": [
        "api_response = [\n",
        "    ['2017-12-26', '777', 184],\n",
        "    ['2017-12-27', '111', 146],\n",
        "    ['2017-12-28', '777', 98],\n",
        "    ['2017-12-29', '777', 206],\n",
        "    ['2017-12-30', '111', 254],\n",
        "    ['2017-12-31', '777', 89],\n",
        "    ['2018-01-01', '111', 54],\n",
        "    ['2018-01-02', '777', 68],\n",
        "    ['2018-01-03', '777', 74],\n",
        "    ['2018-01-04', '111', 89],\n",
        "    ['2018-01-05', '777', 104],\n",
        "    ['2018-01-06', '777', 99],\n",
        "    ['2018-01-07', '777', 145],\n",
        "    ['2018-01-08', '111', 184],\n",
        "]"
      ],
      "execution_count": null,
      "outputs": []
    },
    {
      "cell_type": "code",
      "metadata": {
        "id": "LZM9_4udfzpA",
        "outputId": "1422ae51-b105-40d3-e7fe-351a6c7d39a7"
      },
      "source": [
        "for element in api_response:\n",
        "    print(element[2])"
      ],
      "execution_count": null,
      "outputs": [
        {
          "output_type": "stream",
          "text": [
            "184\n",
            "146\n",
            "98\n",
            "206\n",
            "254\n",
            "89\n",
            "54\n",
            "68\n",
            "74\n",
            "89\n",
            "104\n",
            "99\n",
            "145\n",
            "184\n"
          ],
          "name": "stdout"
        }
      ]
    },
    {
      "cell_type": "code",
      "metadata": {
        "id": "j3NM8TSRfzpA",
        "outputId": "8afa4278-1680-451e-955d-7c0b7b261f33"
      },
      "source": [
        "round(sum([x[2] for x in api_response]) / len(api_response), 2)"
      ],
      "execution_count": null,
      "outputs": [
        {
          "output_type": "execute_result",
          "data": {
            "text/plain": [
              "128.14"
            ]
          },
          "metadata": {
            "tags": []
          },
          "execution_count": 98
        }
      ]
    },
    {
      "cell_type": "markdown",
      "metadata": {
        "id": "YZplGdfcfzpB"
      },
      "source": [
        "### Практика. Решим задачу с диагональной матрицей при помощи list comprehension"
      ]
    },
    {
      "cell_type": "code",
      "metadata": {
        "id": "mCb2AbBpfzpB"
      },
      "source": [
        "data = [\n",
        "    [13, 25, 23, 34],\n",
        "    [45, 32, 44, 47],\n",
        "    [12, 33, 23, 95],\n",
        "    [13, 53, 34, 35]\n",
        "]"
      ],
      "execution_count": null,
      "outputs": []
    },
    {
      "cell_type": "code",
      "metadata": {
        "id": "woQ3_LYwfzpB"
      },
      "source": [
        "# sum([(row[index]) for index, row in enumerate(data)])"
      ],
      "execution_count": null,
      "outputs": []
    },
    {
      "cell_type": "code",
      "metadata": {
        "id": "9K3hsa-GfzpB"
      },
      "source": [
        "# sum([(row[-index-1]) for index, row in enumerate(data)])"
      ],
      "execution_count": null,
      "outputs": []
    },
    {
      "cell_type": "code",
      "metadata": {
        "id": "b_LCfhjIfzpB"
      },
      "source": [
        ""
      ],
      "execution_count": null,
      "outputs": []
    },
    {
      "cell_type": "markdown",
      "metadata": {
        "id": "G7bcWXmTfzpB"
      },
      "source": [
        "## Словари\n",
        "\n",
        "**Словари** – коллекции произвольных объектов с доступом по ключу. В отличие от последовательностей, которые индексируются диапазоном чисел, словари индексируются по ключам, которые могут быть любым неизменяемым типом."
      ]
    },
    {
      "cell_type": "code",
      "metadata": {
        "id": "VuMzKKHyfzpC"
      },
      "source": [
        "salaries = {\n",
        "    'John': 1200,\n",
        "    'Mary': 500,\n",
        "    'Steven': 1000,\n",
        "    'Liza': 1500\n",
        "}"
      ],
      "execution_count": null,
      "outputs": []
    },
    {
      "cell_type": "code",
      "metadata": {
        "id": "nhWBQrGFfzpC",
        "outputId": "d0e2245c-d9b3-4448-9890-544b6f853fe8"
      },
      "source": [
        "# обращение к элементу словаря\n",
        "salaries['John']"
      ],
      "execution_count": null,
      "outputs": [
        {
          "output_type": "execute_result",
          "data": {
            "text/plain": [
              "1200"
            ]
          },
          "metadata": {
            "tags": []
          },
          "execution_count": 100
        }
      ]
    },
    {
      "cell_type": "markdown",
      "metadata": {
        "id": "1Sqjz2zyfzpC"
      },
      "source": [
        "### Операции над словарями\n",
        "Со всеми операциями над словарями можно ознакомиться по [ссылке](https://docs.python.org/3/library/stdtypes.html?highlight=dictionary#mapping-types-dict). "
      ]
    },
    {
      "cell_type": "code",
      "metadata": {
        "id": "lmMz0dcWfzpC",
        "outputId": "d744cf36-e786-4212-c899-093059701cec"
      },
      "source": [
        "# удаляем элемент из словаря\n",
        "del(salaries['Liza'])\n",
        "salaries"
      ],
      "execution_count": null,
      "outputs": [
        {
          "output_type": "execute_result",
          "data": {
            "text/plain": [
              "{'John': 1200, 'Mary': 500, 'Steven': 1000}"
            ]
          },
          "metadata": {
            "tags": []
          },
          "execution_count": 101
        }
      ]
    },
    {
      "cell_type": "code",
      "metadata": {
        "id": "51U-LDCufzpD",
        "outputId": "1a0cdf61-91f7-48a2-8ddc-9dc8ece685d1"
      },
      "source": [
        "# добавляем элемент в словарь\n",
        "salaries['James'] = 2000\n",
        "salaries"
      ],
      "execution_count": null,
      "outputs": [
        {
          "output_type": "execute_result",
          "data": {
            "text/plain": [
              "{'John': 1200, 'Mary': 500, 'Steven': 1000, 'James': 2000}"
            ]
          },
          "metadata": {
            "tags": []
          },
          "execution_count": 102
        }
      ]
    },
    {
      "cell_type": "code",
      "metadata": {
        "id": "PKF1Jb5jfzpD",
        "outputId": "a86797ee-f5f2-4b79-d3cb-4e69f5bf517e"
      },
      "source": [
        "# изменяем значение по ключу\n",
        "salaries['Mary'] = 2000\n",
        "salaries"
      ],
      "execution_count": null,
      "outputs": [
        {
          "output_type": "execute_result",
          "data": {
            "text/plain": [
              "{'John': 1200, 'Mary': 2000, 'Steven': 1000, 'James': 2000}"
            ]
          },
          "metadata": {
            "tags": []
          },
          "execution_count": 103
        }
      ]
    },
    {
      "cell_type": "code",
      "metadata": {
        "id": "HzVUqJjXfzpD"
      },
      "source": [
        "# salaries = {\n",
        "#     '2': 1200,\n",
        "#     '1': 500,\n",
        "#     '0': 1000,\n",
        "#     '3': 1500\n",
        "# }"
      ],
      "execution_count": null,
      "outputs": []
    },
    {
      "cell_type": "code",
      "metadata": {
        "id": "SyZVdnjvfzpD",
        "outputId": "0baba96a-5167-4783-90e7-0396d04a1fe7"
      },
      "source": [
        "# salaries['2']"
      ],
      "execution_count": null,
      "outputs": [
        {
          "output_type": "execute_result",
          "data": {
            "text/plain": [
              "1200"
            ]
          },
          "metadata": {
            "tags": []
          },
          "execution_count": 109
        }
      ]
    },
    {
      "cell_type": "code",
      "metadata": {
        "id": "sis-kBb4fzpE",
        "outputId": "0e80b226-4d28-4a0a-a72f-bbc905f21ed6"
      },
      "source": [
        "# безопасно получаем значение по ключу\n",
        "# salaries['Oleg']\n",
        "# salaries.get('Oleg', 'Not Found')\n",
        "salaries.get('Oleg', 'Not Found')"
      ],
      "execution_count": null,
      "outputs": [
        {
          "output_type": "execute_result",
          "data": {
            "text/plain": [
              "'Not Found'"
            ]
          },
          "metadata": {
            "tags": []
          },
          "execution_count": 115
        }
      ]
    },
    {
      "cell_type": "code",
      "metadata": {
        "id": "YQS8nnmOfzpF",
        "outputId": "6f696447-d81c-4dc8-a3d6-9177d2b5a561"
      },
      "source": [
        "# проверка на наличие ключа в словаре\n",
        "recruit = 'Amanda'\n",
        "\n",
        "if recruit in salaries:\n",
        "    print('Значение для ключа уже существует')\n",
        "else:\n",
        "    print('Добавляю новый ключ')\n",
        "    salaries[recruit] = 2200\n",
        "\n",
        "print(salaries)"
      ],
      "execution_count": null,
      "outputs": [
        {
          "output_type": "stream",
          "text": [
            "Значение для ключа уже существует\n",
            "{'John': 1200, 'Mary': 500, 'Steven': 1000, 'Liza': 1500, 'Amanda': 2200}\n"
          ],
          "name": "stdout"
        }
      ]
    },
    {
      "cell_type": "code",
      "metadata": {
        "id": "DKrmqa6FfzpF",
        "outputId": "c1a02406-c640-4e83-f020-6e058fa90ee4"
      },
      "source": [
        "# можно использовать метод setdefault\n",
        "# setdefault не изменяет значение, если ключ уже был в словаре\n",
        "\n",
        "salaries.setdefault('Mary', 3000)\n",
        "# salaries\n",
        "salaries.setdefault('Paul', 3000)\n",
        "salaries"
      ],
      "execution_count": null,
      "outputs": [
        {
          "output_type": "execute_result",
          "data": {
            "text/plain": [
              "{'John': 1200,\n",
              " 'Mary': 500,\n",
              " 'Steven': 1000,\n",
              " 'Liza': 1500,\n",
              " 'Amanda': 2200,\n",
              " 'Paul': 3000}"
            ]
          },
          "metadata": {
            "tags": []
          },
          "execution_count": 119
        }
      ]
    },
    {
      "cell_type": "code",
      "metadata": {
        "id": "AHKcBVXNfzpG"
      },
      "source": [
        "# перейдем к более сложному словарю\n",
        "staff_dict = {\n",
        "    'Robert': {'salary': 800, 'bonus': 200}, \n",
        "    'Jane': {'salary': 200, 'bonus': 300}, \n",
        "    'Liza': {'salary': 1300, 'bonus': 200}, \n",
        "    'Richard': {'salary': 500, 'bonus': 1200}\n",
        "}"
      ],
      "execution_count": null,
      "outputs": []
    },
    {
      "cell_type": "code",
      "metadata": {
        "id": "UZuc82U7fzpG",
        "outputId": "6f93cc6d-deec-47a1-eea7-9e3094c8614e"
      },
      "source": [
        "staff_dict['Robert']['salary']"
      ],
      "execution_count": null,
      "outputs": [
        {
          "output_type": "execute_result",
          "data": {
            "text/plain": [
              "800"
            ]
          },
          "metadata": {
            "tags": []
          },
          "execution_count": 122
        }
      ]
    },
    {
      "cell_type": "code",
      "metadata": {
        "id": "SyC2yXS4fzpG",
        "outputId": "57e53b79-dbde-486b-f92c-bc42173e4c62"
      },
      "source": [
        "staff_dict['Oleg'] = {'salary': 1000000, 'bonus': 300}\n",
        "staff_dict"
      ],
      "execution_count": null,
      "outputs": [
        {
          "output_type": "execute_result",
          "data": {
            "text/plain": [
              "{'Robert': {'salary': 800, 'bonus': 200},\n",
              " 'Jane': {'salary': 200, 'bonus': 300},\n",
              " 'Liza': {'salary': 1300, 'bonus': 200},\n",
              " 'Richard': {'salary': 500, 'bonus': 1200},\n",
              " 'Oleg': {'salary': 1000000, 'bonus': 300}}"
            ]
          },
          "metadata": {
            "tags": []
          },
          "execution_count": 123
        }
      ]
    },
    {
      "cell_type": "code",
      "metadata": {
        "id": "ujhkLV1efzpG",
        "outputId": "f37f0157-bd75-4d69-84cd-81e55ee5b28b"
      },
      "source": [
        "# получаем только ключи/значения из словаря (очень пригодиться в циклах)\n",
        "# print(staff_dict.keys())\n",
        "# print(staff_dict.values())\n",
        "# print(staff_dict.items())\n",
        "\n",
        "print(list(staff_dict.keys()))\n",
        "print(list(staff_dict.values()))\n",
        "print(list(staff_dict.items()))"
      ],
      "execution_count": null,
      "outputs": [
        {
          "output_type": "stream",
          "text": [
            "['Robert', 'Jane', 'Liza', 'Richard', 'Oleg']\n",
            "[{'salary': 800, 'bonus': 200}, {'salary': 200, 'bonus': 300}, {'salary': 1300, 'bonus': 200}, {'salary': 500, 'bonus': 1200}, {'salary': 1000000, 'bonus': 300}]\n",
            "[('Robert', {'salary': 800, 'bonus': 200}), ('Jane', {'salary': 200, 'bonus': 300}), ('Liza', {'salary': 1300, 'bonus': 200}), ('Richard', {'salary': 500, 'bonus': 1200}), ('Oleg', {'salary': 1000000, 'bonus': 300})]\n"
          ],
          "name": "stdout"
        }
      ]
    },
    {
      "cell_type": "code",
      "metadata": {
        "id": "Fr7ZTMvJfzpH",
        "outputId": "9b7e4fe9-fc13-495f-e944-6838161f39e4"
      },
      "source": [
        "# итерация по словарям (по умолчанию перебираются ключи)\n",
        "for person in staff_dict:\n",
        "    print(person)\n",
        "print('--------------------')    \n",
        "# полностью аналогично с применением метода keys()\n",
        "for key in staff_dict.keys():\n",
        "    print(key)"
      ],
      "execution_count": null,
      "outputs": [
        {
          "output_type": "stream",
          "text": [
            "Robert\n",
            "Jane\n",
            "Liza\n",
            "Richard\n",
            "Oleg\n",
            "--------------------\n",
            "Robert\n",
            "Jane\n",
            "Liza\n",
            "Richard\n",
            "Oleg\n"
          ],
          "name": "stdout"
        }
      ]
    },
    {
      "cell_type": "code",
      "metadata": {
        "id": "HgdkjSanfzpH",
        "outputId": "ae6530f3-7c18-4386-e343-33ed276d895f"
      },
      "source": [
        "# итерация по значениям\n",
        "for value in staff_dict.values():\n",
        "    print(value)"
      ],
      "execution_count": null,
      "outputs": [
        {
          "output_type": "stream",
          "text": [
            "{'salary': 800, 'bonus': 200}\n",
            "{'salary': 200, 'bonus': 300}\n",
            "{'salary': 1300, 'bonus': 200}\n",
            "{'salary': 500, 'bonus': 1200}\n",
            "{'salary': 1000000, 'bonus': 300}\n"
          ],
          "name": "stdout"
        }
      ]
    },
    {
      "cell_type": "code",
      "metadata": {
        "id": "pig7pxmmfzpH",
        "outputId": "f4321852-f5ac-488c-b6f4-fd920cda08a8"
      },
      "source": [
        "# итерация сразу по ключам и значениям\n",
        "for key, value in staff_dict.items():\n",
        "    print(key, value)"
      ],
      "execution_count": null,
      "outputs": [
        {
          "output_type": "stream",
          "text": [
            "Robert {'salary': 800, 'bonus': 200}\n",
            "Jane {'salary': 200, 'bonus': 300}\n",
            "Liza {'salary': 1300, 'bonus': 200}\n",
            "Richard {'salary': 500, 'bonus': 1200}\n",
            "Oleg {'salary': 1000000, 'bonus': 300}\n"
          ],
          "name": "stdout"
        }
      ]
    },
    {
      "cell_type": "code",
      "metadata": {
        "id": "9mfldWzofzpI",
        "outputId": "bc4da93e-cd55-4bf8-d4b4-7541a29f7630"
      },
      "source": [
        "# можем также применить enumerate\n",
        "for i, person in enumerate(staff_dict):\n",
        "    print(i + 1, person)"
      ],
      "execution_count": null,
      "outputs": [
        {
          "output_type": "stream",
          "text": [
            "1 Robert\n",
            "2 Jane\n",
            "3 Liza\n",
            "4 Richard\n",
            "5 Oleg\n"
          ],
          "name": "stdout"
        }
      ]
    },
    {
      "cell_type": "code",
      "metadata": {
        "id": "_etLL_CGfzpI",
        "outputId": "a203250c-9e44-40a6-92de-a556e69c0528"
      },
      "source": [
        "for person, info in staff_dict.items():\n",
        "#     print(person, info)\n",
        "    print(person, \"'s salary: \", info['salary'], sep='')"
      ],
      "execution_count": null,
      "outputs": [
        {
          "output_type": "stream",
          "text": [
            "Robert's salary: 800\n",
            "Jane's salary: 200\n",
            "Liza's salary: 1300\n",
            "Richard's salary: 500\n",
            "Oleg's salary: 1000000\n"
          ],
          "name": "stdout"
        }
      ]
    },
    {
      "cell_type": "code",
      "metadata": {
        "id": "NPG0c13rfzpI",
        "outputId": "e9da5ad0-4aff-456c-a0e9-6105243913d0"
      },
      "source": [
        "# добавим уровень з/п\n",
        "for person, info in staff_dict.items():\n",
        "#     print(person)\n",
        "    if info['salary'] > 1000:\n",
        "        info['status'] = 'above average'\n",
        "    else:\n",
        "        info['status'] = 'below average'\n",
        "    print(person, \"'s salary: \", info['salary'], ' ', info['status'], sep='')\n",
        "\n",
        "staff_dict"
      ],
      "execution_count": null,
      "outputs": [
        {
          "output_type": "stream",
          "text": [
            "Robert's salary: 800 below average\n",
            "Jane's salary: 200 below average\n",
            "Liza's salary: 1300 above average\n",
            "Richard's salary: 500 below average\n",
            "Oleg's salary: 1000000 above average\n"
          ],
          "name": "stdout"
        },
        {
          "output_type": "execute_result",
          "data": {
            "text/plain": [
              "{'Robert': {'salary': 800, 'bonus': 200, 'status': 'below average'},\n",
              " 'Jane': {'salary': 200, 'bonus': 300, 'status': 'below average'},\n",
              " 'Liza': {'salary': 1300, 'bonus': 200, 'status': 'above average'},\n",
              " 'Richard': {'salary': 500, 'bonus': 1200, 'status': 'below average'},\n",
              " 'Oleg': {'salary': 1000000, 'bonus': 300, 'status': 'above average'}}"
            ]
          },
          "metadata": {
            "tags": []
          },
          "execution_count": 138
        }
      ]
    },
    {
      "cell_type": "markdown",
      "metadata": {
        "id": "M5mJkGSxfzpI"
      },
      "source": [
        "Удалим из словаря все пустые элементы (со значением None)"
      ]
    },
    {
      "cell_type": "code",
      "metadata": {
        "id": "qYzwHLYUfzpI"
      },
      "source": [
        "my_dict = {\n",
        "    'id1': 123456, \n",
        "    'id2': 654321, \n",
        "    'id3': None,\n",
        "    'id4': 777777\n",
        "}"
      ],
      "execution_count": null,
      "outputs": []
    },
    {
      "cell_type": "code",
      "metadata": {
        "id": "iuIb-RjOfzpJ"
      },
      "source": [
        "res = {}\n",
        "\n",
        "for key, value in my_dict.items():\n",
        "    if value:\n",
        "#     if value is not None:\n",
        "        res[key] = value\n",
        "res"
      ],
      "execution_count": null,
      "outputs": []
    },
    {
      "cell_type": "markdown",
      "metadata": {
        "id": "JTo-w7pQfzpJ"
      },
      "source": [
        "### Практика. Согласно сайту www.bodycounters.com в четырех частях фильма “Пираты Карибского моря” было довольно много погибших. Пиратов-зомби в последней части тоже считайте живыми."
      ]
    },
    {
      "cell_type": "code",
      "metadata": {
        "id": "3sPAVrw_fzpJ"
      },
      "source": [
        "bodycount = {\n",
        "    'Проклятие Черной жемчужины': {\n",
        "        'человек': 17\n",
        "    }, \n",
        "\n",
        "    'Сундук мертвеца': {\n",
        "        'человек': 56,\n",
        "        'раков-отшельников': 1\n",
        "    },\n",
        "\n",
        "    'На краю света': {\n",
        "        'человек': 88\n",
        "    },\n",
        "\n",
        "    'На странных берегах': {\n",
        "        'человек': 56,\n",
        "        'русалок': 2,\n",
        "        'ядовитых жаб': 3,\n",
        "        'пиратов зомби': 2\n",
        "    }\n",
        "}"
      ],
      "execution_count": null,
      "outputs": []
    },
    {
      "cell_type": "code",
      "metadata": {
        "id": "IUFRStNEfzpJ"
      },
      "source": [
        "total = 0\n",
        "for i in bodycount:\n",
        "    for j in bodycount[i]:\n",
        "        total +=bodycount[i][j]\n",
        "\n",
        "total"
      ],
      "execution_count": null,
      "outputs": []
    },
    {
      "cell_type": "markdown",
      "metadata": {
        "id": "z1qLRsaafzpJ"
      },
      "source": [
        "Дан список с визитами по городам и странам.  Напишем код, который возвращает отфильтрованный список geo_logs, содержащий только визиты из России.\n"
      ]
    },
    {
      "cell_type": "code",
      "metadata": {
        "id": "QIDUEySefzpK"
      },
      "source": [
        "geo_logs = [\n",
        "    {'visit1': ['Москва', 'Россия']},\n",
        "    {'visit2': ['Дели', 'Индия']},\n",
        "    {'visit3': ['Владимир', 'Россия']},\n",
        "    {'visit4': ['Лиссабон', 'Португалия']},\n",
        "    {'visit5': ['Париж', 'Франция']},\n",
        "    {'visit7': ['Тула', 'Россия']},\n",
        "    {'visit5': ['Париж', 'Франция']},\n",
        "    {'visit9': ['Курск', 'Россия']},\n",
        "    {'visit5': ['Париж', 'Франция']},\n",
        "    {'visit10': ['Архангельск', 'Россия']}\n",
        "]"
      ],
      "execution_count": null,
      "outputs": []
    },
    {
      "cell_type": "code",
      "metadata": {
        "id": "p9ruBdRSfzpK",
        "outputId": "22c3a2d2-4248-42e0-efc6-2ae6a61537a5"
      },
      "source": [
        "for n in geo_logs:\n",
        "#     print(n)\n",
        "#     print(n.values())\n",
        "    for i in n.values():\n",
        "        if i[1] != 'Россия':\n",
        "            geo_logs.remove(n)\n",
        "print(geo_logs)\n",
        "\n",
        "# Почему этот вариант плохой?  \n",
        "# 1) Потому что мы меняем объект прямо во время итерирования по нему  \n",
        "# 2) Мы используем вложенный цикл, без которого можно обойтись (что плохо при прочих равных)."
      ],
      "execution_count": null,
      "outputs": [
        {
          "output_type": "stream",
          "text": [
            "[{'visit1': ['Москва', 'Россия']}, {'visit3': ['Владимир', 'Россия']}, {'visit7': ['Тула', 'Россия']}, {'visit9': ['Курск', 'Россия']}, {'visit5': ['Париж', 'Франция']}, {'visit10': ['Архангельск', 'Россия']}]\n"
          ],
          "name": "stdout"
        }
      ]
    },
    {
      "cell_type": "code",
      "metadata": {
        "id": "JtCeF71zfzpL",
        "outputId": "c3e9d5d8-ab76-4de7-c916-3509bb249320"
      },
      "source": [
        "# допустимый вариант, который не совсем соответствует условию\n",
        "result = []\n",
        "for visit in geo_logs:\n",
        "#     print(list(visit.values()))\n",
        "    if 'Россия' == list(visit.values())[0][1]:\n",
        "        result.append(visit)\n",
        "        \n",
        "result"
      ],
      "execution_count": null,
      "outputs": [
        {
          "output_type": "execute_result",
          "data": {
            "text/plain": [
              "[{'visit1': ['Москва', 'Россия']},\n",
              " {'visit3': ['Владимир', 'Россия']},\n",
              " {'visit7': ['Тула', 'Россия']},\n",
              " {'visit9': ['Курск', 'Россия']},\n",
              " {'visit10': ['Архангельск', 'Россия']}]"
            ]
          },
          "metadata": {
            "tags": []
          },
          "execution_count": 155
        }
      ]
    },
    {
      "cell_type": "code",
      "metadata": {
        "id": "uOyzYHPufzpL",
        "outputId": "46aafeb4-8090-4e0c-8291-3ed49783b9c7"
      },
      "source": [
        "# более корректынй вариант, который соответствует условию\n",
        "\n",
        "geo_logs_2 = geo_logs.copy()\n",
        "\n",
        "for visit in geo_logs_2:\n",
        "    if 'Россия' not in list(visit.values())[0]:\n",
        "        geo_logs.remove(visit)\n",
        "        \n",
        "geo_logs"
      ],
      "execution_count": null,
      "outputs": [
        {
          "output_type": "execute_result",
          "data": {
            "text/plain": [
              "[{'visit1': ['Москва', 'Россия']},\n",
              " {'visit3': ['Владимир', 'Россия']},\n",
              " {'visit7': ['Тула', 'Россия']},\n",
              " {'visit9': ['Курск', 'Россия']},\n",
              " {'visit10': ['Архангельск', 'Россия']}]"
            ]
          },
          "metadata": {
            "tags": []
          },
          "execution_count": 152
        }
      ]
    },
    {
      "cell_type": "code",
      "metadata": {
        "id": "g2iGRiCAfzpS"
      },
      "source": [
        "# красивый вариант в одну строку (материал за рамками лекций)\n",
        "# функция filter фильтрует последовательность по условию\n",
        "\n",
        "list(filter(lambda visit: 'Россия' in list(visit.values())[0], geo_logs))"
      ],
      "execution_count": null,
      "outputs": []
    },
    {
      "cell_type": "code",
      "metadata": {
        "id": "v1NqR3v4fzpS",
        "outputId": "d8973bb1-c8a0-4807-db7d-37ee06ba3845"
      },
      "source": [
        "for log in geo_logs[::-1]:\n",
        "    print(log)"
      ],
      "execution_count": null,
      "outputs": [
        {
          "output_type": "stream",
          "text": [
            "{'visit10': ['Архангельск', 'Россия']}\n",
            "{'visit9': ['Курск', 'Россия']}\n",
            "{'visit7': ['Тула', 'Россия']}\n",
            "{'visit3': ['Владимир', 'Россия']}\n",
            "{'visit1': ['Москва', 'Россия']}\n"
          ],
          "name": "stdout"
        }
      ]
    },
    {
      "cell_type": "markdown",
      "metadata": {
        "id": "3DD0QukxfzpT"
      },
      "source": [
        "# Tuple (кортежы)\n",
        "\n",
        "Это неизменяемые списки (нельзя добавлять или удалять элементы из уже созданного кортежа).\n",
        "Кортежи инициализируется при помощи ( )."
      ]
    },
    {
      "cell_type": "code",
      "metadata": {
        "id": "xt-vs8I4fzpT",
        "outputId": "f7b45eb5-7fca-40a7-d47d-287450ac5a05"
      },
      "source": [
        "salary_tuple = (1000, 1200, 1300, 900, 800)\n",
        "print(type(salary_tuple))\n",
        "type(list(salary_tuple))"
      ],
      "execution_count": null,
      "outputs": [
        {
          "output_type": "stream",
          "text": [
            "<class 'tuple'>\n"
          ],
          "name": "stdout"
        },
        {
          "output_type": "execute_result",
          "data": {
            "text/plain": [
              "list"
            ]
          },
          "metadata": {
            "tags": []
          },
          "execution_count": 159
        }
      ]
    },
    {
      "cell_type": "code",
      "metadata": {
        "id": "SKyIAPU5fzpT",
        "outputId": "ac7a432f-d081-4511-d842-3702765a664d"
      },
      "source": [
        "# print(salary_tuple[0])\n",
        "salary_tuple[0] = 500"
      ],
      "execution_count": null,
      "outputs": [
        {
          "output_type": "error",
          "ename": "TypeError",
          "evalue": "'tuple' object does not support item assignment",
          "traceback": [
            "\u001b[1;31m---------------------------------------------------------------------------\u001b[0m",
            "\u001b[1;31mTypeError\u001b[0m                                 Traceback (most recent call last)",
            "\u001b[1;32m<ipython-input-160-f9322f03a403>\u001b[0m in \u001b[0;36m<module>\u001b[1;34m\u001b[0m\n\u001b[0;32m      1\u001b[0m \u001b[1;31m# print(salary_tuple[0])\u001b[0m\u001b[1;33m\u001b[0m\u001b[1;33m\u001b[0m\u001b[1;33m\u001b[0m\u001b[0m\n\u001b[1;32m----> 2\u001b[1;33m \u001b[0msalary_tuple\u001b[0m\u001b[1;33m[\u001b[0m\u001b[1;36m0\u001b[0m\u001b[1;33m]\u001b[0m \u001b[1;33m=\u001b[0m \u001b[1;36m500\u001b[0m\u001b[1;33m\u001b[0m\u001b[1;33m\u001b[0m\u001b[0m\n\u001b[0m",
            "\u001b[1;31mTypeError\u001b[0m: 'tuple' object does not support item assignment"
          ]
        }
      ]
    },
    {
      "cell_type": "code",
      "metadata": {
        "id": "EcsvKhf4fzpT"
      },
      "source": [
        "# кортеж из одного элемента задается так:\n",
        "t = ('one', )"
      ],
      "execution_count": null,
      "outputs": []
    },
    {
      "cell_type": "code",
      "metadata": {
        "id": "Hut1ac-5fzpT",
        "outputId": "333d0b98-2a62-4e19-abbc-cce26bba1890"
      },
      "source": [
        "# без запятой получится строка\n",
        "type( ('one') )"
      ],
      "execution_count": null,
      "outputs": [
        {
          "output_type": "execute_result",
          "data": {
            "text/plain": [
              "str"
            ]
          },
          "metadata": {
            "tags": []
          },
          "execution_count": 162
        }
      ]
    },
    {
      "cell_type": "code",
      "metadata": {
        "id": "1bZqD_nkfzpU"
      },
      "source": [
        "# функция zip\n",
        "salaries = set([1000, 1200, 1300, 900, 800, 1000])\n",
        "names = set(['Robert', 'Jane', 'Liza', 'Richard', 'John'])\n",
        "salaries_by_names = zip(names, salaries)\n",
        "# print(salaries_by_names)\n",
        "print(list(salaries_by_names))"
      ],
      "execution_count": null,
      "outputs": []
    },
    {
      "cell_type": "markdown",
      "metadata": {
        "id": "pJUjBZvGfzpU"
      },
      "source": [
        "### Практика. Вывести фамилии построчно с указанием профессии\n",
        "\n",
        "IT:  \n",
        "Гейтс  \n",
        "Джобс  \n",
        "Возняк  \n",
        "\n",
        "Физика:  \n",
        "Эйнштейн  \n",
        "Фейнман  \n",
        "\n",
        "..."
      ]
    },
    {
      "cell_type": "code",
      "metadata": {
        "id": "z_vxMDG4fzpU"
      },
      "source": [
        "professions = ['IT', 'Физика', 'Математика']\n",
        "persons = [['Гейтс', 'Джобс', 'Возняк'], ['Эйнштейн', 'Фейнман'], ['Эвклид', 'Ньютон']]"
      ],
      "execution_count": null,
      "outputs": []
    },
    {
      "cell_type": "code",
      "metadata": {
        "id": "F1SypBEBfzpU"
      },
      "source": [
        "# for pro, person_list in zip(professions, persons):\n",
        "#     print(f'{pro}:')\n",
        "#     for person in person_list:\n",
        "#         print(person)\n",
        "#     print()"
      ],
      "execution_count": null,
      "outputs": []
    },
    {
      "cell_type": "markdown",
      "metadata": {
        "id": "ZJ0EyRuwfzpV"
      },
      "source": [
        "## Множества (set)\n",
        "Набор неповторяющихся элементов в случайном порядке. Они необходимы тогда, когда присутствие объекта в наборе важнее порядка или того, сколько раз данный объект там встречается.\n",
        "\n",
        "Множества инициализируется при помощи set(), как правило создаются из списков.\n",
        "\n",
        "Реализуют теорию множеств в Python."
      ]
    },
    {
      "cell_type": "code",
      "metadata": {
        "id": "Ti_1k7X4fzpV"
      },
      "source": [
        "data_scientist_skills = set(['Python', 'R', 'SQL', 'Tableau', 'SAS', 'Git'])\n",
        "data_engineer_skills = set(['Python', 'Java', 'Scala', 'Git', 'SQL', 'Hadoop'])"
      ],
      "execution_count": null,
      "outputs": []
    },
    {
      "cell_type": "code",
      "metadata": {
        "id": "_fZAUBbgfzpV",
        "outputId": "6866865e-aaec-45ff-f74d-58de998771fd"
      },
      "source": [
        "# логическое ИЛИ – что нужно знать data-scientst, который по совместительству data-engineer\n",
        "print(data_scientist_skills.union(data_engineer_skills))\n",
        "print(data_scientist_skills | data_engineer_skills)"
      ],
      "execution_count": null,
      "outputs": [
        {
          "output_type": "stream",
          "text": [
            "{'Hadoop', 'Scala', 'SQL', 'Python', 'R', 'Git', 'Tableau', 'Java', 'SAS'}\n",
            "{'Hadoop', 'Scala', 'SQL', 'Python', 'R', 'Git', 'Tableau', 'Java', 'SAS'}\n"
          ],
          "name": "stdout"
        }
      ]
    },
    {
      "cell_type": "code",
      "metadata": {
        "id": "6wUiNvtcfzpV",
        "outputId": "daf7cc4e-5809-470b-835c-1667245e00f1"
      },
      "source": [
        "# логическое И – что нужно знать и data-scientist и data-engineer\n",
        "print(data_scientist_skills.intersection(data_engineer_skills))\n",
        "print(data_scientist_skills & data_engineer_skills)"
      ],
      "execution_count": null,
      "outputs": [
        {
          "output_type": "stream",
          "text": [
            "{'Python', 'Git', 'SQL'}\n",
            "{'Python', 'Git', 'SQL'}\n"
          ],
          "name": "stdout"
        }
      ]
    },
    {
      "cell_type": "code",
      "metadata": {
        "id": "4Xl4LEK9fzpX",
        "outputId": "4f6a5a49-b4c4-44a2-948e-41cf740e12d8"
      },
      "source": [
        "# разность множеств – что знает data-scientist, но не знает data-engineer (и наоборот)\n",
        "# print(data_scientist_skills.difference(data_engineer_skills))\n",
        "# print(data_scientist_skills - data_engineer_skills)\n",
        "# print(data_engineer_skills.difference(data_scientist_skills))\n",
        "# print(data_engineer_skills - data_scientist_skills)"
      ],
      "execution_count": null,
      "outputs": [
        {
          "output_type": "stream",
          "text": [
            "{'Scala', 'Java', 'Hadoop'}\n",
            "{'Scala', 'Java', 'Hadoop'}\n"
          ],
          "name": "stdout"
        }
      ]
    },
    {
      "cell_type": "code",
      "metadata": {
        "scrolled": true,
        "id": "4r0cZwSEfzpX",
        "outputId": "0efaffea-1153-4726-b618-0ebbbf90309b"
      },
      "source": [
        "# симметричная разность множеств – что такого знают data-scientist и data-engineer, чего не знают они оба\n",
        "# print(data_scientist_skills.symmetric_difference(data_engineer_skills))\n",
        "# print(data_scientist_skills ^ data_engineer_skills)\n",
        "print(data_engineer_skills.symmetric_difference(data_scientist_skills))\n",
        "print(data_engineer_skills ^ data_scientist_skills)"
      ],
      "execution_count": null,
      "outputs": [
        {
          "output_type": "stream",
          "text": [
            "{'Hadoop', 'Scala', 'R', 'Tableau', 'Java', 'SAS'}\n",
            "{'Hadoop', 'Scala', 'R', 'Tableau', 'Java', 'SAS'}\n"
          ],
          "name": "stdout"
        }
      ]
    },
    {
      "cell_type": "code",
      "metadata": {
        "id": "iBrySWgPfzpY"
      },
      "source": [
        "# Из списка можно убрать все повторения просто обратив его в set!"
      ],
      "execution_count": null,
      "outputs": []
    },
    {
      "cell_type": "markdown",
      "metadata": {
        "id": "EZyTRDVXfzpY"
      },
      "source": [
        "### Спасибо за внимание! Буду рад ответить на ваши вопросы\n",
        "Форма ОС: https://forms.gle/y8xaFwJqtbFSjUeG8"
      ]
    },
    {
      "cell_type": "code",
      "metadata": {
        "id": "-txnDjAJfzpY"
      },
      "source": [
        ""
      ],
      "execution_count": null,
      "outputs": []
    },
    {
      "cell_type": "code",
      "metadata": {
        "id": "okwhaBFbfzpZ"
      },
      "source": [
        ""
      ],
      "execution_count": null,
      "outputs": []
    }
  ]
}