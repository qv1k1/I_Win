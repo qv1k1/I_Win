{
  "nbformat": 4,
  "nbformat_minor": 0,
  "metadata": {
    "colab": {
      "name": "Структуры данных списки и словари.ipynb",
      "provenance": [],
      "collapsed_sections": [
        "cCxQbcdB5B2r",
        "VobEJHx_5cnZ",
        "KJ8ryfXZQAnF",
        "pMa7bemd9JxZ",
        "0KQmC3aD8WnA",
        "dIVtL8uhALXi",
        "ycQx9qa0m_Dt",
        "e7_K6Qr9m_Dw",
        "9ajno0rag7Rl",
        "NLQDjX6t9J2L",
        "y9QyIRiXFhXr",
        "0rjsQq8G9J2v",
        "vVCdYjHntQJD",
        "5OlCrQFlKQU8",
        "A4xWbvXHKzyl",
        "hLu-sbC2iiZn",
        "AFRIVnWlm_EG",
        "a6lyRtrA9J4L",
        "khxMKXlX9J4k"
      ]
    },
    "kernelspec": {
      "display_name": "Python 3",
      "language": "python",
      "name": "python3"
    },
    "language_info": {
      "codemirror_mode": {
        "name": "ipython",
        "version": 3
      },
      "file_extension": ".py",
      "mimetype": "text/x-python",
      "name": "python",
      "nbconvert_exporter": "python",
      "pygments_lexer": "ipython3",
      "version": "3.8.3"
    }
  },
  "cells": [
    {
      "cell_type": "markdown",
      "metadata": {
        "id": "-dRFXe9i4HYL"
      },
      "source": [
        "# Погружение в структуры данных"
      ]
    },
    {
      "cell_type": "markdown",
      "metadata": {
        "id": "yf2ztrfuC54H"
      },
      "source": [
        "Спикер: Андрей Рысистов\n",
        "\n",
        "Контакты(телеграм): @Rysistov"
      ]
    },
    {
      "cell_type": "markdown",
      "metadata": {
        "id": "cCxQbcdB5B2r"
      },
      "source": [
        "## 1. План занятия"
      ]
    },
    {
      "cell_type": "markdown",
      "metadata": {
        "id": "-qZUoumK4EBL"
      },
      "source": [
        "План занятия\n",
        "1. Поговорим о том, что вообще такое структуры данных и зачем они нам нужны\n",
        "2. Разберем структуру данных - список, его возможности и задачи, которые можно решить с помощью него\n",
        "3. Разберем структуру данных - словарь, его возможности и задачи, которые можно решить с помощью него\n",
        "4. Поговорим о том, как работать с комбинациями из этих структур"
      ]
    },
    {
      "cell_type": "markdown",
      "metadata": {
        "id": "VobEJHx_5cnZ"
      },
      "source": [
        "## 2. Структуры данных"
      ]
    },
    {
      "cell_type": "markdown",
      "metadata": {
        "id": "FqWF-l4q5ijJ"
      },
      "source": [
        "\n",
        "Структуры данных - это общий термин для различных методов хранения информации. \n",
        "\n",
        "Как только мы начинаем выходить за рамки написания простейших программ у нас возниает потребность в хранении коллекций или наборов данных. Для этого в языке Python предусмотрены 2 очень мощных по своим возможностям типа данных: списки и словари."
      ]
    },
    {
      "cell_type": "markdown",
      "metadata": {
        "id": "xyeCEHEC5wla"
      },
      "source": [
        "## 3. Список"
      ]
    },
    {
      "cell_type": "markdown",
      "metadata": {
        "id": "KJ8ryfXZQAnF"
      },
      "source": [
        "### 3.0 Определение списка"
      ]
    },
    {
      "cell_type": "markdown",
      "metadata": {
        "id": "xj0Dxvpk9JxW"
      },
      "source": [
        "\n",
        "\n",
        "\n",
        "\n",
        "\n",
        "\n",
        "\n",
        "\n",
        "\n",
        "\n",
        "**Список** в Python — это упорядоченная изменяемая коллекция объектов произвольных типов.\n",
        "\n",
        "\n",
        "\n",
        "\n",
        "В этом определении важна каждое слово. Мы будем к нему возвращаться по мере иллюстрации возможностей и свойств списков.\n",
        "\n",
        "\n",
        "\n",
        "* Когда мы называем список коллекцией, мы имеем в виду, что в одном списке может храниться множество объектов (например, чисел или строковых величин) \n",
        "\n",
        "\n",
        "* Говоря о том, что списки представляют собой упорядоченные коллекции, мы обращаем внимание на то, что каждый элемент в списке имеет свой порядковый номер.\n",
        "\n",
        "\n",
        "* Упоминание об изменяемости списков означает, что в процессе исполнения кода можно изменять состав элементов списка и последовательность их расположения.\n",
        "\n",
        "\n",
        "* Выражение «произвольных типов» означает, что в списке могут храниться данные, относящиеся к любым типам из тех, с которыми работает Python. *То есть это могут быть также другие списки и словари*\n",
        "\n",
        "\n",
        "\n"
      ]
    },
    {
      "cell_type": "markdown",
      "metadata": {
        "id": "pMa7bemd9JxZ"
      },
      "source": [
        "### 3.1 Создание списков"
      ]
    },
    {
      "cell_type": "code",
      "metadata": {
        "colab": {
          "base_uri": "https://localhost:8080/"
        },
        "id": "SrhOwmXrm_Df",
        "outputId": "f89c22ff-770a-4c55-b5f5-fa640093a4db"
      },
      "source": [
        "my_list = list() #первый способ создания пустого списка\n",
        "my_list"
      ],
      "execution_count": null,
      "outputs": [
        {
          "output_type": "execute_result",
          "data": {
            "text/plain": [
              "[]"
            ]
          },
          "metadata": {
            "tags": []
          },
          "execution_count": 1
        }
      ]
    },
    {
      "cell_type": "code",
      "metadata": {
        "colab": {
          "base_uri": "https://localhost:8080/"
        },
        "id": "ZCWXOwT5m_Dh",
        "outputId": "85e80420-c115-4883-edd6-94d7a80aed09"
      },
      "source": [
        "my_list1 = [] #второй способ создания пустого списка\n",
        "my_list1"
      ],
      "execution_count": null,
      "outputs": [
        {
          "output_type": "execute_result",
          "data": {
            "text/plain": [
              "[]"
            ]
          },
          "metadata": {
            "tags": []
          },
          "execution_count": 2
        }
      ]
    },
    {
      "cell_type": "code",
      "metadata": {
        "id": "_qajMTeL9Jxd",
        "colab": {
          "base_uri": "https://localhost:8080/"
        },
        "outputId": "eeb99f85-cd77-4ef9-908f-ca023b0fc354"
      },
      "source": [
        "spisok = ['лебедь', 'рак', 'щука'] # в списке хранится 3 объекта \n",
        "spisok"
      ],
      "execution_count": null,
      "outputs": [
        {
          "output_type": "execute_result",
          "data": {
            "text/plain": [
              "['лебедь', 'рак', 'щука']"
            ]
          },
          "metadata": {
            "tags": []
          },
          "execution_count": 3
        }
      ]
    },
    {
      "cell_type": "markdown",
      "metadata": {
        "id": "0KQmC3aD8WnA"
      },
      "source": [
        "### 3.2 Список - последовательность"
      ]
    },
    {
      "cell_type": "markdown",
      "metadata": {
        "id": "NVxSG55f9JyH"
      },
      "source": [
        "Списки, кортежи и строки являются примерами последовательностей. Но что такое последовательности и что в них такого особенного?\n",
        "\n",
        "Основные возможности – это проверка принадлежности (т.е. выражения **“in”** и **“not in”**) и оператор индексирования, позволяющий получить напрямую некоторый элемент последовательности. "
      ]
    },
    {
      "cell_type": "markdown",
      "metadata": {
        "id": "3pJFFRtim_Dl"
      },
      "source": [
        "**Индексация в Python начинается с 0**"
      ]
    },
    {
      "cell_type": "code",
      "metadata": {
        "colab": {
          "base_uri": "https://localhost:8080/",
          "height": 35
        },
        "id": "65B5KaCM-x15",
        "outputId": "3b0391bc-cc7d-451f-d077-e0ca97a54e39"
      },
      "source": [
        "spisok[2] # так мы обратились к третьему элементу списка"
      ],
      "execution_count": null,
      "outputs": [
        {
          "output_type": "execute_result",
          "data": {
            "application/vnd.google.colaboratory.intrinsic+json": {
              "type": "string"
            },
            "text/plain": [
              "'щука'"
            ]
          },
          "metadata": {
            "tags": []
          },
          "execution_count": 9
        }
      ]
    },
    {
      "cell_type": "code",
      "metadata": {
        "colab": {
          "base_uri": "https://localhost:8080/"
        },
        "id": "3-Y1VghU_L6P",
        "scrolled": true,
        "outputId": "7d2921ad-c83f-4f4c-c990-9a485e33d2d9"
      },
      "source": [
        "spisok[1] = 'форель' # 3аменили второй элемент списка. \n",
        "spisok # В отличие от строк нам не нужно перезаписывать весь объект, мы можем поменять часть списка"
      ],
      "execution_count": null,
      "outputs": [
        {
          "output_type": "execute_result",
          "data": {
            "text/plain": [
              "['лебедь', 'форель', 'щука']"
            ]
          },
          "metadata": {
            "tags": []
          },
          "execution_count": 5
        }
      ]
    },
    {
      "cell_type": "code",
      "metadata": {
        "scrolled": true,
        "colab": {
          "base_uri": "https://localhost:8080/"
        },
        "id": "JOEQg9cim_Dn",
        "outputId": "9330139d-c4af-428d-bdb9-e305a28374ee"
      },
      "source": [
        "len(spisok) #получение длины списка"
      ],
      "execution_count": null,
      "outputs": [
        {
          "output_type": "execute_result",
          "data": {
            "text/plain": [
              "3"
            ]
          },
          "metadata": {
            "tags": []
          },
          "execution_count": 6
        }
      ]
    },
    {
      "cell_type": "code",
      "metadata": {
        "colab": {
          "base_uri": "https://localhost:8080/"
        },
        "id": "2S2_vH1Y_QrW",
        "outputId": "0c37c889-b9e8-4bbd-fade-711b924a71e9"
      },
      "source": [
        "if 'щука' in spisok:\n",
        "  print('Варим уху')\n",
        "else:\n",
        "  print('Сегодня без ухи')"
      ],
      "execution_count": null,
      "outputs": [
        {
          "output_type": "stream",
          "text": [
            "Варим уху\n"
          ],
          "name": "stdout"
        }
      ]
    },
    {
      "cell_type": "markdown",
      "metadata": {
        "id": "Xpvevs95BqcC"
      },
      "source": [
        "**Задача**\n",
        "\n",
        "Выведите на экран буву **о**\n",
        "\n",
        "\n",
        "\n",
        "\n"
      ]
    },
    {
      "cell_type": "code",
      "metadata": {
        "id": "OzCx-ZDNDKsA"
      },
      "source": [
        "vowels = ['а', 'е', 'ё', 'и', 'о', 'у', 'ы', 'э', 'ю', 'я']"
      ],
      "execution_count": null,
      "outputs": []
    },
    {
      "cell_type": "code",
      "metadata": {
        "colab": {
          "base_uri": "https://localhost:8080/"
        },
        "id": "vQRNxgRnmfXD",
        "outputId": "be0a00e3-4ed8-43e2-ea5d-dc6326a50283"
      },
      "source": [
        "idx = 10\n",
        "if idx < len(vowels)-1:\n",
        "  print(vowels[idx])\n",
        "else:\n",
        "  print('Index Error')"
      ],
      "execution_count": null,
      "outputs": [
        {
          "output_type": "stream",
          "text": [
            "Index Error\n"
          ],
          "name": "stdout"
        }
      ]
    },
    {
      "cell_type": "markdown",
      "metadata": {
        "id": "dIVtL8uhALXi"
      },
      "source": [
        "### 3.3 Срезы"
      ]
    },
    {
      "cell_type": "markdown",
      "metadata": {
        "id": "2dsRlZjpwz0T"
      },
      "source": [
        "Также последовательности предоставляют операцию получения вырезки, которая позволяет получить вырезку последовательности, т.е. её фрагмент."
      ]
    },
    {
      "cell_type": "markdown",
      "metadata": {
        "id": "tqX5mRZ__j7t"
      },
      "source": [
        "list[START:STOP:STEP] - берёт срез от номера START, до STOP **не включая его**, с шагом STEP. По умолчанию START = 0, STOP = длине объекта, STEP = 1. Соответственно, какие-нибудь (а возможно, и все) параметры могут быть опущены."
      ]
    },
    {
      "cell_type": "markdown",
      "metadata": {
        "id": "OX04Y_oP5xiu"
      },
      "source": [
        "\n",
        "\n",
        "\n",
        "\n",
        "Срезы позволяют выбрать часть списка, а не один отдельный элемент. \n",
        "\n"
      ]
    },
    {
      "cell_type": "code",
      "metadata": {
        "colab": {
          "base_uri": "https://localhost:8080/"
        },
        "id": "l-hgeS7QAOwf",
        "outputId": "b6612291-974d-408e-dec7-899512fdb7e9"
      },
      "source": [
        "vowels = ['а', 'е', 'ё', 'и', 'о', 'у', 'ы', 'э', 'ю', 'я']\n",
        "print(vowels[0:3])\n",
        "print(vowels[5:])\n",
        "print(vowels[4::2])"
      ],
      "execution_count": null,
      "outputs": [
        {
          "output_type": "stream",
          "text": [
            "['а', 'е', 'ё']\n",
            "['у', 'ы', 'э', 'ю', 'я']\n",
            "['о', 'ы', 'ю']\n"
          ],
          "name": "stdout"
        }
      ]
    },
    {
      "cell_type": "markdown",
      "metadata": {
        "id": "AtYuPWwSc5kW"
      },
      "source": [
        "**Задача**: \n",
        "Выберите с помощью индексов элементы **о** & **у**"
      ]
    },
    {
      "cell_type": "code",
      "metadata": {
        "colab": {
          "base_uri": "https://localhost:8080/"
        },
        "id": "oJTz-jhzo6AV",
        "outputId": "ae959fc0-1562-4465-f9db-f8f9aef15b7c"
      },
      "source": [
        "print(vowels[4:6])"
      ],
      "execution_count": null,
      "outputs": [
        {
          "output_type": "stream",
          "text": [
            "['о', 'у']\n"
          ],
          "name": "stdout"
        }
      ]
    },
    {
      "cell_type": "markdown",
      "metadata": {
        "id": "DRqstxGC6cCo"
      },
      "source": [
        "Отрицательные индексы"
      ]
    },
    {
      "cell_type": "code",
      "metadata": {
        "colab": {
          "base_uri": "https://localhost:8080/",
          "height": 35
        },
        "id": "VFShM5Jc6aUS",
        "outputId": "ebdc3a6b-c565-4d65-fa7b-c0e902e32a60"
      },
      "source": [
        "vowels[-5]"
      ],
      "execution_count": null,
      "outputs": [
        {
          "output_type": "execute_result",
          "data": {
            "application/vnd.google.colaboratory.intrinsic+json": {
              "type": "string"
            },
            "text/plain": [
              "'у'"
            ]
          },
          "metadata": {
            "tags": []
          },
          "execution_count": 24
        }
      ]
    },
    {
      "cell_type": "code",
      "metadata": {
        "colab": {
          "base_uri": "https://localhost:8080/"
        },
        "id": "LJDGzNzR6zUr",
        "scrolled": true,
        "outputId": "f4fd0fdc-db2d-40ed-9c6f-7f105be00e0e"
      },
      "source": [
        "vowels[::-1]"
      ],
      "execution_count": null,
      "outputs": [
        {
          "output_type": "execute_result",
          "data": {
            "text/plain": [
              "['я', 'ю', 'э', 'ы', 'у', 'о', 'и', 'ё', 'е', 'а']"
            ]
          },
          "metadata": {
            "tags": []
          },
          "execution_count": 28
        }
      ]
    },
    {
      "cell_type": "markdown",
      "metadata": {
        "id": "pBXcKv6pm_Dt"
      },
      "source": [
        "**Вопрос**: пойти в обратную сторону с шагом 2?"
      ]
    },
    {
      "cell_type": "markdown",
      "metadata": {
        "id": "ycQx9qa0m_Dt"
      },
      "source": [
        "### 3.4 Операции со списками"
      ]
    },
    {
      "cell_type": "markdown",
      "metadata": {
        "id": "6CWvdLH-C54G"
      },
      "source": [
        "В список можно добавлять элементы\n",
        "\n",
        "Давайте вернем щуку в наш список, но не заменим ей форель, а как бы добавим скраю. \n",
        "\n",
        "Для этой операции у нас есть метод `append()`. Он добавляет элемент справа (что делает эту операцию достаточно быстрой, в отличие от добавления элемента, например, с левого края) "
      ]
    },
    {
      "cell_type": "code",
      "metadata": {
        "colab": {
          "base_uri": "https://localhost:8080/"
        },
        "id": "V5Y2aVgeDQ5q",
        "outputId": "9edcdc58-ebc0-4c72-f22f-328ce93d5333"
      },
      "source": [
        "spisok = ['лебедь', 'рак', 'форель']\n",
        "spisok.append('щука') \n",
        "spisok"
      ],
      "execution_count": null,
      "outputs": [
        {
          "output_type": "execute_result",
          "data": {
            "text/plain": [
              "['лебедь', 'рак', 'форель', 'щука']"
            ]
          },
          "metadata": {
            "tags": []
          },
          "execution_count": 29
        }
      ]
    },
    {
      "cell_type": "markdown",
      "metadata": {
        "id": "g6AHeIyCDprC"
      },
      "source": [
        "Попробуйте сами добавить карася или любую другую рыбу в этот список...\n",
        "\n",
        "Итак, мы разобрались с добавлением элементов, теперь давайте узнаем как удалять элементы списка\n",
        "\n",
        "Для этого у нас есть метод `revome()`, который принимает в качестве аргумента элемент, который мы хотим удалить\n",
        "\n"
      ]
    },
    {
      "cell_type": "code",
      "metadata": {
        "colab": {
          "base_uri": "https://localhost:8080/"
        },
        "id": "UlxR4jtGAUYp",
        "outputId": "76961adf-3832-4521-a137-c7396dff9222"
      },
      "source": [
        "spisok.remove('лебедь')\n",
        "spisok"
      ],
      "execution_count": null,
      "outputs": [
        {
          "output_type": "execute_result",
          "data": {
            "text/plain": [
              "['рак', 'форель', 'щука']"
            ]
          },
          "metadata": {
            "tags": []
          },
          "execution_count": 30
        }
      ]
    },
    {
      "cell_type": "markdown",
      "metadata": {
        "id": "fZkSN2BZAwNx"
      },
      "source": [
        "Отсортируем наш список с помощью метода `sort()`. Параметр reverse обозначает сортировку по убыванию (в порядке, обратному алфавитному)"
      ]
    },
    {
      "cell_type": "code",
      "metadata": {
        "colab": {
          "base_uri": "https://localhost:8080/"
        },
        "id": "Dnm5LOkTAvcm",
        "outputId": "8eb7c208-19d0-4293-841c-aff6bc72334e"
      },
      "source": [
        "spisok.sort(reverse=True)\n",
        "spisok"
      ],
      "execution_count": null,
      "outputs": [
        {
          "output_type": "execute_result",
          "data": {
            "text/plain": [
              "['щука', 'форель', 'рак']"
            ]
          },
          "metadata": {
            "tags": []
          },
          "execution_count": 32
        }
      ]
    },
    {
      "cell_type": "markdown",
      "metadata": {
        "id": "USe_Gb0MBGgA"
      },
      "source": [
        "Помимо перечисленных выше методов у списка есть еще огромный арсенал возможностей. Подробнее со всеми ними вы можете познакомиться по ссылочке:https://pythonworld.ru/tipy-dannyx-v-python/spiski-list-funkcii-i-metody-spiskov.html"
      ]
    },
    {
      "cell_type": "markdown",
      "metadata": {
        "id": "I-bhnWGgH8vv"
      },
      "source": [
        "Рассмотрим еще несколько фишечек со списками:"
      ]
    },
    {
      "cell_type": "code",
      "metadata": {
        "colab": {
          "base_uri": "https://localhost:8080/"
        },
        "id": "7tnpBV0KICsH",
        "outputId": "3b0cfcca-7e4c-4a36-830f-68e78d6586e4"
      },
      "source": [
        "[5, '1', '124', 'hello'] + [14, 141, 5] #конкатенация списков"
      ],
      "execution_count": null,
      "outputs": [
        {
          "output_type": "execute_result",
          "data": {
            "text/plain": [
              "[5, '1', '124', 'hello', 14, 141, 5]"
            ]
          },
          "metadata": {
            "tags": []
          },
          "execution_count": 19
        }
      ]
    },
    {
      "cell_type": "code",
      "metadata": {
        "colab": {
          "base_uri": "https://localhost:8080/"
        },
        "id": "Bqf50LykILyi",
        "outputId": "07978317-4f23-4a61-b0a3-a8caf48ef5bf"
      },
      "source": [
        "[14, 141] * 5 #умножение списка"
      ],
      "execution_count": null,
      "outputs": [
        {
          "output_type": "execute_result",
          "data": {
            "text/plain": [
              "[14, 141, 14, 141, 14, 141, 14, 141, 14, 141]"
            ]
          },
          "metadata": {
            "tags": []
          },
          "execution_count": 21
        }
      ]
    },
    {
      "cell_type": "markdown",
      "metadata": {
        "id": "e7_K6Qr9m_Dw"
      },
      "source": [
        "### 3.5 Списки и циклы"
      ]
    },
    {
      "cell_type": "markdown",
      "metadata": {
        "id": "W4QOq0Xz9Jyw"
      },
      "source": [
        "Списки хорошо сочетаются с циклами. Такое сочетание возможно благодаря оператору in, используемому в цикле for"
      ]
    },
    {
      "cell_type": "markdown",
      "metadata": {
        "id": "LYZgoCYqinRn"
      },
      "source": [
        "У нас есть фургон, в котором мы перевозим грузы. Установлено ограничение на максимальный вес груза в 100кг. Необходимо произвести фильтрацию данных грузов"
      ]
    },
    {
      "cell_type": "code",
      "metadata": {
        "colab": {
          "base_uri": "https://localhost:8080/"
        },
        "id": "mq0hMqEt9Jyx",
        "scrolled": false,
        "outputId": "3e01daa3-f3d1-4bec-c401-be585379c6a1"
      },
      "source": [
        "items = [1, 5, 76, 12, 123, 333, 5, 6, 7]\n",
        "ok_items = []\n",
        "\n",
        "for gruz in items:\n",
        "    print('Груз весит ' + str(gruz) +  ' килограмм')\n",
        "    if gruz<100:\n",
        "        ok_items.append(gruz) \n",
        "        print('Груз прошел проверку')\n",
        "    else:\n",
        "        print('Груз слишком большой')\n",
        "ok_items\n"
      ],
      "execution_count": null,
      "outputs": [
        {
          "output_type": "stream",
          "text": [
            "Груз весит 1 килограмм\n",
            "Груз прошел проверку\n",
            "Груз весит 5 килограмм\n",
            "Груз прошел проверку\n",
            "Груз весит 76 килограмм\n",
            "Груз прошел проверку\n",
            "Груз весит 12 килограмм\n",
            "Груз прошел проверку\n",
            "Груз весит 123 килограмм\n",
            "Груз слишком большой\n",
            "Груз весит 333 килограмм\n",
            "Груз слишком большой\n",
            "Груз весит 5 килограмм\n",
            "Груз прошел проверку\n",
            "Груз весит 6 килограмм\n",
            "Груз прошел проверку\n",
            "Груз весит 7 килограмм\n",
            "Груз прошел проверку\n"
          ],
          "name": "stdout"
        },
        {
          "output_type": "execute_result",
          "data": {
            "text/plain": [
              "[1, 5, 76, 12, 5, 6, 7]"
            ]
          },
          "metadata": {
            "tags": []
          },
          "execution_count": 33
        }
      ]
    },
    {
      "cell_type": "markdown",
      "metadata": {
        "id": "9ajno0rag7Rl"
      },
      "source": [
        "### 3.6. Вложенные списки\n",
        "\n"
      ]
    },
    {
      "cell_type": "markdown",
      "metadata": {
        "id": "JBAn5C3XDALj"
      },
      "source": [
        "Элементом списка может быть любой объект в питоне, в том числе и другой список. Порой встречаются такие структуры как списки в списках, или \"вложенный список\". "
      ]
    },
    {
      "cell_type": "code",
      "metadata": {
        "colab": {
          "base_uri": "https://localhost:8080/"
        },
        "id": "r4HgZuJ6hNpY",
        "scrolled": true,
        "outputId": "4595f346-b5e1-4d0b-933a-c26a1146baf0"
      },
      "source": [
        "array_of_arrays = [\n",
        "                   [1, 2, 3],\n",
        "                   [4, 5 ,5],\n",
        "                   [71, 2, 5]\n",
        "                   ]\n",
        "# у нас есть список array_of_arrays, который состоит из трех элементов \n",
        "# мы можем получить каждый из этих трех элементов с помощью индекса\n",
        "array_of_arrays[1][2]"
      ],
      "execution_count": null,
      "outputs": [
        {
          "output_type": "execute_result",
          "data": {
            "text/plain": [
              "5"
            ]
          },
          "metadata": {
            "tags": []
          },
          "execution_count": 37
        }
      ]
    },
    {
      "cell_type": "markdown",
      "metadata": {
        "id": "NCig-bQ_Bxfa"
      },
      "source": [
        "Работая с такими списками нам часто будет нужен вложенный цикл. Например. Давайте умножим каждый элемент нашей матрицы на 2"
      ]
    },
    {
      "cell_type": "code",
      "metadata": {
        "colab": {
          "base_uri": "https://localhost:8080/"
        },
        "id": "dJNar6RFBcOV",
        "outputId": "b372b94e-d369-4547-c8f0-f7bcb0e46a28"
      },
      "source": [
        "for i in range(3):\n",
        "  for j in range(3):\n",
        "    array_of_arrays[i][j] *= 2 # array_of_arrays[i][j] = array_of_arrays[i][j] *2\n",
        "print(array_of_arrays)"
      ],
      "execution_count": null,
      "outputs": [
        {
          "output_type": "stream",
          "text": [
            "[[2, 4, 6], [8, 10, 10], [142, 4, 10]]\n"
          ],
          "name": "stdout"
        }
      ]
    },
    {
      "cell_type": "markdown",
      "metadata": {
        "id": "wDzymhD6Lp_A"
      },
      "source": [
        "Задача: создайте матрицу 3х3 у которой на диагонали будут стоять значение корня из 2"
      ]
    },
    {
      "cell_type": "code",
      "metadata": {
        "id": "4fgDw_SKUKut",
        "colab": {
          "base_uri": "https://localhost:8080/"
        },
        "outputId": "f7d2c807-f6d9-4315-f4c3-683bf2bd7d05"
      },
      "source": [
        "[\n",
        "[2**(1/2), 0, 0],\n",
        "[0, 2**(1/2), 0],\n",
        "[0, 0, 2**(1/2)]\n",
        "]\n"
      ],
      "execution_count": null,
      "outputs": [
        {
          "output_type": "execute_result",
          "data": {
            "text/plain": [
              "[[1.4142135623730951, 0, 0],\n",
              " [0, 1.4142135623730951, 0],\n",
              " [0, 0, 1.4142135623730951]]"
            ]
          },
          "metadata": {
            "tags": []
          },
          "execution_count": 39
        }
      ]
    },
    {
      "cell_type": "markdown",
      "metadata": {
        "id": "NLQDjX6t9J2L"
      },
      "source": [
        "### 3.6 Генераторы списков\n"
      ]
    },
    {
      "cell_type": "markdown",
      "metadata": {
        "id": "jHn4z_ItC6-2"
      },
      "source": [
        "Генераторы списков - это гибрид цикла for и списка.\n",
        "\n",
        "Генератор списка позволяет создать список и заполнить его данными, используя всего одну строку кода. Выглядит это приблизительно так:"
      ]
    },
    {
      "cell_type": "markdown",
      "metadata": {
        "id": "JNLrLRx3DWqG"
      },
      "source": [
        "Создадим список квадратов чисел от 0 до 9"
      ]
    },
    {
      "cell_type": "code",
      "metadata": {
        "id": "dd-TYFVr9J2R",
        "colab": {
          "base_uri": "https://localhost:8080/"
        },
        "outputId": "d13f43c6-3322-4f1b-89a5-62eab8ea4ccb"
      },
      "source": [
        "squares= []\n",
        "for x in range(10):\n",
        "    squares.append(x ** 2)\n",
        "print(squares)\n",
        "# равно по смыслу\n",
        "squares = [x ** 2 for x in range(10)] \n",
        "print(squares)\n",
        "# но при этом гораздо быстрее и поэтому предпочтительно использовать именно генераторы списков для такого сценария"
      ],
      "execution_count": null,
      "outputs": [
        {
          "output_type": "stream",
          "text": [
            "[0, 1, 4, 9, 16, 25, 36, 49, 64, 81]\n",
            "[0, 1, 4, 9, 16, 25, 36, 49, 64, 81]\n"
          ],
          "name": "stdout"
        }
      ]
    },
    {
      "cell_type": "markdown",
      "metadata": {
        "id": "xGVGiqf1m_D7"
      },
      "source": [
        "Генераторы могут содержать условие"
      ]
    },
    {
      "cell_type": "code",
      "metadata": {
        "colab": {
          "base_uri": "https://localhost:8080/"
        },
        "id": "JWTC1IfHMlOA",
        "outputId": "cce0f6af-81a3-4495-e902-f77f4c698e6b"
      },
      "source": [
        "my_list = []\n",
        "for x in range(10, 100):\n",
        "  if x%3 == 0 and x%5 == 0:\n",
        "    my_list.append(x)\n",
        "my_list"
      ],
      "execution_count": null,
      "outputs": [
        {
          "output_type": "execute_result",
          "data": {
            "text/plain": [
              "[15, 30, 45, 60, 75, 90]"
            ]
          },
          "metadata": {
            "tags": []
          },
          "execution_count": 41
        }
      ]
    },
    {
      "cell_type": "code",
      "metadata": {
        "colab": {
          "base_uri": "https://localhost:8080/"
        },
        "id": "FbbgHWZJ9J2Y",
        "outputId": "99fd4f1d-bc40-4c6d-a7c8-e33643d9db81"
      },
      "source": [
        "my_list = [x for x in range(10, 100) if x%3 == 0 and x%5 == 0]\n",
        "my_list"
      ],
      "execution_count": null,
      "outputs": [
        {
          "output_type": "execute_result",
          "data": {
            "text/plain": [
              "[15, 30, 45, 60, 75, 90]"
            ]
          },
          "metadata": {
            "tags": []
          },
          "execution_count": 43
        }
      ]
    },
    {
      "cell_type": "markdown",
      "metadata": {
        "id": "vY0Odx8UIXCB"
      },
      "source": [
        "**Задачка с платформы**: Перепишите привёденный ниже код, используя генератор списков. Полученный в результате работы генератора список должен иметь имя my_list.\n",
        "\n"
      ]
    },
    {
      "cell_type": "code",
      "metadata": {
        "colab": {
          "base_uri": "https://localhost:8080/"
        },
        "id": "-bHPY8zqIddM",
        "outputId": "3601f4f4-3abd-4d31-857b-fae889826f59"
      },
      "source": [
        "my_list = []\n",
        "for x in range(90, 100):\n",
        "    first_digit = x//10\n",
        "    last_digit = x%10\n",
        "    my_list.append(first_digit + last_digit)\n",
        "my_list"
      ],
      "execution_count": null,
      "outputs": [
        {
          "output_type": "execute_result",
          "data": {
            "text/plain": [
              "[9, 10, 11, 12, 13, 14, 15, 16, 17, 18]"
            ]
          },
          "metadata": {
            "tags": []
          },
          "execution_count": 44
        }
      ]
    },
    {
      "cell_type": "code",
      "metadata": {
        "colab": {
          "base_uri": "https://localhost:8080/"
        },
        "id": "ObXwXNvzwG2B",
        "outputId": "24fdfd07-08c1-434b-ca41-bf94f46e0451"
      },
      "source": [
        "my_list = [x//10 + x%10 for x in range(90, 100)]\n",
        "my_list"
      ],
      "execution_count": null,
      "outputs": [
        {
          "output_type": "execute_result",
          "data": {
            "text/plain": [
              "[9, 10, 11, 12, 13, 14, 15, 16, 17, 18]"
            ]
          },
          "metadata": {
            "tags": []
          },
          "execution_count": 46
        }
      ]
    },
    {
      "cell_type": "markdown",
      "metadata": {
        "id": "y9QyIRiXFhXr"
      },
      "source": [
        "### 3.7 Практический кейс на списки"
      ]
    },
    {
      "cell_type": "markdown",
      "metadata": {
        "id": "b2aSIpJcFn0g"
      },
      "source": [
        "Рассмотрим следующую задачу: пусть мы работаем с группой различных датчиков, которые измеряют следующие параметры: температуру (в Кельвинах), давление (в Паскалях) и влажность в долях единицы. Данные представлены за 7 дней в виде списка. Необходимо преобразовать данные в следующий формат: Кельвины перевести в градусы Цельсия, Паскали в атмосферы, влажность в проценты. При этом необходимо отбросить те дни, в которых либо влажность воздуха была больше 60%, либо температура меньше 15 градусов по Цельсию. Результат так же должен представлять из себя список"
      ]
    },
    {
      "cell_type": "code",
      "metadata": {
        "colab": {
          "base_uri": "https://localhost:8080/"
        },
        "id": "llWeMTIwG-ls",
        "outputId": "d5e18619-0bdf-4a10-d67d-8df181f22bd3"
      },
      "source": [
        "data = [\n",
        "        [293.0, 101020, 0.35],\n",
        "        [285.4, 101220, 0.43],\n",
        "        [282.1, 102020, 0.36],\n",
        "        [299.2, 100012, 0.32],\n",
        "        [301.2, 101020, 0.45],\n",
        "        [300.5, 101920, 0.65],\n",
        "        [293.8, 101050, 0.45],\n",
        "]\n",
        "new_data = []\n",
        "for row in data:\n",
        "  t = row[0] - 273\n",
        "  p = row[1] * 0.0000099\n",
        "  r = row[2] * 100\n",
        "  if t > 15 and r < 60:\n",
        "    new_data.append([t, p, r])\n",
        "new_data"
      ],
      "execution_count": null,
      "outputs": [
        {
          "output_type": "execute_result",
          "data": {
            "text/plain": [
              "[[20.0, 1.000098, 35.0],\n",
              " [26.19999999999999, 0.9901188, 32.0],\n",
              " [28.19999999999999, 1.000098, 45.0],\n",
              " [20.80000000000001, 1.000395, 45.0]]"
            ]
          },
          "metadata": {
            "tags": []
          },
          "execution_count": 34
        }
      ]
    },
    {
      "cell_type": "markdown",
      "metadata": {
        "id": "0rjsQq8G9J2v"
      },
      "source": [
        "## 4. Словарь"
      ]
    },
    {
      "cell_type": "markdown",
      "metadata": {
        "id": "vVCdYjHntQJD"
      },
      "source": [
        "### 4.0 Определение словаря"
      ]
    },
    {
      "cell_type": "markdown",
      "metadata": {
        "id": "3heTmd3E9J2w"
      },
      "source": [
        "Список хорош, когда он один. Но зачастую у нас возникает необходимость хранить несколько связанных списков. \n",
        "Например, номера телефонов и имена покупателей. Или название продуктов и их стоимость. В python есть особый тип данных для хранения такой информации в удобной форме - словарь"
      ]
    },
    {
      "cell_type": "markdown",
      "metadata": {
        "id": "7i93VWLn9J2w"
      },
      "source": [
        "Словарь в Python - неупорядоченная ассоциативная изменяемая коллекция произвольных типов \n",
        "Снова разбираем по словам:\n",
        "  1. Неупорядоченная структура означает, что элементы в словаре хранятся в произвольном порядке и не имеют номера\n",
        "  2. В отличие от последовательностей, которые индексируются диапазоном чисел, словари индексируются по ключам, которые могут быть любым **неизменяемым** типом; строки и числа всегда могут быть ключами.\n",
        "  3. Изменяемая - словари можно изменять: добавлять, удалять и заменять элементы и ключи\n",
        "  4. Произвольных типов означает, что в словаре, как и в списке хранятся элементы любой природы: числа, строки, списки, словари и.т.д.\n"
      ]
    },
    {
      "cell_type": "markdown",
      "metadata": {
        "id": "5OlCrQFlKQU8"
      },
      "source": [
        "### 4.1 Создание словаря и получение его элементов"
      ]
    },
    {
      "cell_type": "markdown",
      "metadata": {
        "id": "BhzM7wmcLATF"
      },
      "source": [
        "Создадим словарь продуктов и их цен"
      ]
    },
    {
      "cell_type": "code",
      "metadata": {
        "id": "f81OTt3RxSia"
      },
      "source": [
        "my_dict = {}#создание пустого словаря"
      ],
      "execution_count": null,
      "outputs": []
    },
    {
      "cell_type": "code",
      "metadata": {
        "id": "s3NhVRZsxUeo"
      },
      "source": [
        "my_dict = dict() #другой способ создания пустого словаря"
      ],
      "execution_count": null,
      "outputs": []
    },
    {
      "cell_type": "code",
      "metadata": {
        "id": "4QvNxKUG9J2z",
        "colab": {
          "base_uri": "https://localhost:8080/"
        },
        "outputId": "4be0b5f4-9d69-4ec4-a628-968aa23b85eb"
      },
      "source": [
        "fruit_dict = {\n",
        "    'Банан': '16 рублей',\n",
        "    'Яблоко': '28 рублей', \n",
        "    'Персик': '37 рублей', \n",
        "    'Манго': '100 рублей', \n",
        "    'Апельсин': '30 рублей'\n",
        "    }\n",
        "fruit_dict"
      ],
      "execution_count": null,
      "outputs": [
        {
          "output_type": "execute_result",
          "data": {
            "text/plain": [
              "{'Апельсин': '30 рублей',\n",
              " 'Банан': '16 рублей',\n",
              " 'Манго': '100 рублей',\n",
              " 'Персик': '37 рублей',\n",
              " 'Яблоко': '28 рублей'}"
            ]
          },
          "metadata": {
            "tags": []
          },
          "execution_count": 51
        }
      ]
    },
    {
      "cell_type": "code",
      "metadata": {
        "colab": {
          "base_uri": "https://localhost:8080/"
        },
        "id": "1R1nL7xFK9_F",
        "outputId": "3ae508b4-2452-4335-b08c-50e0512f7c02"
      },
      "source": [
        "#Обращаемся к элементу с помощью ключа\n",
        "print(fruit_dict['Банан'])\n",
        "print(fruit_dict['Апельсин'])"
      ],
      "execution_count": null,
      "outputs": [
        {
          "output_type": "stream",
          "text": [
            "16 рублей\n",
            "30 рублей\n"
          ],
          "name": "stdout"
        }
      ]
    },
    {
      "cell_type": "code",
      "metadata": {
        "colab": {
          "base_uri": "https://localhost:8080/",
          "height": 161
        },
        "id": "WadUm5vcLVj9",
        "outputId": "f5755cbf-27f0-4e17-a4b2-45b4b63d46a6"
      },
      "source": [
        "fruit_dict['Вишня']"
      ],
      "execution_count": null,
      "outputs": [
        {
          "output_type": "error",
          "ename": "KeyError",
          "evalue": "ignored",
          "traceback": [
            "\u001b[0;31m---------------------------------------------------------------------------\u001b[0m",
            "\u001b[0;31mKeyError\u001b[0m                                  Traceback (most recent call last)",
            "\u001b[0;32m<ipython-input-52-fbf2fb41c159>\u001b[0m in \u001b[0;36m<module>\u001b[0;34m()\u001b[0m\n\u001b[0;32m----> 1\u001b[0;31m \u001b[0mfruit_dict\u001b[0m\u001b[0;34m[\u001b[0m\u001b[0;34m'Вишня'\u001b[0m\u001b[0;34m]\u001b[0m\u001b[0;34m\u001b[0m\u001b[0;34m\u001b[0m\u001b[0m\n\u001b[0m",
            "\u001b[0;31mKeyError\u001b[0m: 'Вишня'"
          ]
        }
      ]
    },
    {
      "cell_type": "code",
      "metadata": {
        "id": "FzOkM0EbuvB0",
        "colab": {
          "base_uri": "https://localhost:8080/"
        },
        "outputId": "1f89f654-a765-4e49-ba9d-98c9aa80e45f"
      },
      "source": [
        "if 'Банан' not in fruit_dict: \n",
        "    print('Нет в словаре') \n",
        "else: \n",
        "    print(fruit_dict['Банан']) "
      ],
      "execution_count": null,
      "outputs": [
        {
          "output_type": "stream",
          "text": [
            "16 рублей\n"
          ],
          "name": "stdout"
        }
      ]
    },
    {
      "cell_type": "markdown",
      "metadata": {
        "id": "A4xWbvXHKzyl"
      },
      "source": [
        "### 4.2 Ключи и значения словаря "
      ]
    },
    {
      "cell_type": "markdown",
      "metadata": {
        "id": "ln6_COB-m_D-"
      },
      "source": [
        "Получить ключи и значения словарей можно с помощью методов: keys(), values() и items()"
      ]
    },
    {
      "cell_type": "code",
      "metadata": {
        "colab": {
          "base_uri": "https://localhost:8080/"
        },
        "id": "N9P3b3uM6JN7",
        "outputId": "703e7aee-6d7b-4011-dc72-b831bd68d1ee"
      },
      "source": [
        "prices = list(fruit_dict.values())\n",
        "prices"
      ],
      "execution_count": null,
      "outputs": [
        {
          "output_type": "execute_result",
          "data": {
            "text/plain": [
              "['16 рублей', '28 рублей', '37 рублей', '100 рублей', '30 рублей']"
            ]
          },
          "metadata": {
            "tags": []
          },
          "execution_count": 54
        }
      ]
    },
    {
      "cell_type": "code",
      "metadata": {
        "scrolled": true,
        "colab": {
          "base_uri": "https://localhost:8080/"
        },
        "id": "m2npiEVEm_D_",
        "outputId": "0144332d-f13d-4b11-ccdf-d0eaeb90067f"
      },
      "source": [
        "fruites = list(fruit_dict.keys())\n",
        "fruites"
      ],
      "execution_count": null,
      "outputs": [
        {
          "output_type": "execute_result",
          "data": {
            "text/plain": [
              "['Банан', 'Яблоко', 'Персик', 'Манго', 'Апельсин']"
            ]
          },
          "metadata": {
            "tags": []
          },
          "execution_count": 55
        }
      ]
    },
    {
      "cell_type": "code",
      "metadata": {
        "colab": {
          "base_uri": "https://localhost:8080/"
        },
        "id": "ZCPzLUVxm_D_",
        "outputId": "1e14f851-1613-4ca5-a881-b30a3f16798e"
      },
      "source": [
        "list(fruit_dict.items())"
      ],
      "execution_count": null,
      "outputs": [
        {
          "output_type": "execute_result",
          "data": {
            "text/plain": [
              "[('Банан', '16 рублей'),\n",
              " ('Яблоко', '28 рублей'),\n",
              " ('Персик', '37 рублей'),\n",
              " ('Манго', '100 рублей'),\n",
              " ('Апельсин', '30 рублей')]"
            ]
          },
          "metadata": {
            "tags": []
          },
          "execution_count": 56
        }
      ]
    },
    {
      "cell_type": "markdown",
      "metadata": {
        "id": "hLu-sbC2iiZn"
      },
      "source": [
        "### 4.3 Циклы и словари"
      ]
    },
    {
      "cell_type": "markdown",
      "metadata": {
        "id": "NCTFqzChm_EB"
      },
      "source": [
        "Как и списки, словари могут прекрасно взаимодействовать с циклами, однако при итерации по словарю необходимо учитывать, что мы итерируемся по ключам словаря"
      ]
    },
    {
      "cell_type": "code",
      "metadata": {
        "id": "U89oKG1GiyV_"
      },
      "source": [
        "#Переборы в словарях\n",
        "employee_base = {\n",
        "    'Мария Никитина': 'менеджер', \n",
        "    'Егор Савичев': 'разработчик',\n",
        "    'Александр Пахомов': 'дизайнер',\n",
        "    'Алина Егорова': 'разработчик',\n",
        "    'Руслан Башаров': 'верстальщик'}"
      ],
      "execution_count": null,
      "outputs": []
    },
    {
      "cell_type": "code",
      "metadata": {
        "colab": {
          "base_uri": "https://localhost:8080/"
        },
        "id": "GtvyUEfDm_EB",
        "outputId": "55b889be-d523-4fcc-89e2-5d7fd2907a86"
      },
      "source": [
        "for employee in employee_base:\n",
        "  if employee == 'Мария Никитина':\n",
        "    print('Имя сотрудника: ', employee)"
      ],
      "execution_count": null,
      "outputs": [
        {
          "output_type": "stream",
          "text": [
            "Имя сотрудника:  Мария Никитина\n"
          ],
          "name": "stdout"
        }
      ]
    },
    {
      "cell_type": "code",
      "metadata": {
        "scrolled": false,
        "colab": {
          "base_uri": "https://localhost:8080/"
        },
        "id": "fFcBmbE_m_EC",
        "outputId": "ec2a86e3-9ada-4e83-c3d3-273e2affe9c2"
      },
      "source": [
        "for key in employee_base:\n",
        "    print('Должность: ', employee_base[key])"
      ],
      "execution_count": null,
      "outputs": [
        {
          "output_type": "stream",
          "text": [
            "Должность:  менеджер\n",
            "Должность:  разработчик\n",
            "Должность:  дизайнер\n",
            "Должность:  разработчик\n",
            "Должность:  верстальщик\n"
          ],
          "name": "stdout"
        }
      ]
    },
    {
      "cell_type": "code",
      "metadata": {
        "colab": {
          "base_uri": "https://localhost:8080/"
        },
        "id": "dtkLPN5jz0SZ",
        "outputId": "1ec3cfb5-05a5-4dbe-8ad8-15bdeea4326a"
      },
      "source": [
        "for value in employee_base.values():\n",
        "  print(value)"
      ],
      "execution_count": null,
      "outputs": [
        {
          "output_type": "stream",
          "text": [
            "менеджер\n",
            "разработчик\n",
            "дизайнер\n",
            "разработчик\n",
            "верстальщик\n"
          ],
          "name": "stdout"
        }
      ]
    },
    {
      "cell_type": "code",
      "metadata": {
        "scrolled": true,
        "colab": {
          "base_uri": "https://localhost:8080/"
        },
        "id": "tC8IWp5Rm_ED",
        "outputId": "d47ef998-be4c-43a0-9b14-d459016855ae"
      },
      "source": [
        "for key, value in employee_base.items():\n",
        "    print(key, value)"
      ],
      "execution_count": null,
      "outputs": [
        {
          "output_type": "stream",
          "text": [
            "Мария Никитина менеджер\n",
            "Егор Савичев разработчик\n",
            "Александр Пахомов дизайнер\n",
            "Алина Егорова разработчик\n",
            "Руслан Башаров верстальщик\n"
          ],
          "name": "stdout"
        }
      ]
    },
    {
      "cell_type": "markdown",
      "metadata": {
        "id": "uZlyZtu-m_EE"
      },
      "source": [
        "**Задача**: на вход нашей программе подается список сотрудников. Вам необходимо проверить, есть ли эти эти сотрудники в вашей базе и вывести их должности. В случае их отсутствия необходимо вывести \"отсутствует\""
      ]
    },
    {
      "cell_type": "code",
      "metadata": {
        "id": "zSPN2h3u9J3b",
        "scrolled": true
      },
      "source": [
        "employee_base = {'Мария Никитина': 'менеджер', 'Егор Савичев': 'разработчик',\n",
        "                 'Александр Пахомов': 'дизайнер', 'Алина Егорова': 'разработчик',\n",
        "                 'Руслан Башаров': 'верстальщик'}\n",
        "people = ['Мария Никитина', 'Олег Газманов', 'Руслан Башаров']"
      ],
      "execution_count": null,
      "outputs": []
    },
    {
      "cell_type": "code",
      "metadata": {
        "colab": {
          "base_uri": "https://localhost:8080/"
        },
        "id": "gPnO72Gu0UDe",
        "outputId": "7c3344e9-827c-4c05-8a7c-a18b6f39134f"
      },
      "source": [
        "for p in people:\n",
        "  if p in employee_base:\n",
        "    print(p, employee_base[p])\n",
        "  else:\n",
        "    print(p, 'отсутствует')"
      ],
      "execution_count": null,
      "outputs": [
        {
          "output_type": "stream",
          "text": [
            "Мария Никитина менеджер\n",
            "Олег Газманов отсутствует\n",
            "Руслан Башаров верстальщик\n"
          ],
          "name": "stdout"
        }
      ]
    },
    {
      "cell_type": "markdown",
      "metadata": {
        "id": "AFRIVnWlm_EG"
      },
      "source": [
        "### 4.4 Операции со словарями"
      ]
    },
    {
      "cell_type": "markdown",
      "metadata": {
        "id": "vGtm02BxyeWT"
      },
      "source": [
        "Рассмотрим синтаксис добавления нового ключа и значения в словарь. Заметьте, что такой же синтаксис работает и на замену существующего значения на новое по ключу"
      ]
    },
    {
      "cell_type": "code",
      "metadata": {
        "colab": {
          "base_uri": "https://localhost:8080/"
        },
        "id": "CcnPNRLM1C_R",
        "outputId": "4aced74b-d2cf-4b40-fbc6-8249daaf4569"
      },
      "source": [
        "fruit_dict"
      ],
      "execution_count": null,
      "outputs": [
        {
          "output_type": "execute_result",
          "data": {
            "text/plain": [
              "{'Апельсин': '30 рублей',\n",
              " 'Банан': '16 рублей',\n",
              " 'Манго': '100 рублей',\n",
              " 'Персик': '37 рублей',\n",
              " 'Яблоко': '28 рублей'}"
            ]
          },
          "metadata": {
            "tags": []
          },
          "execution_count": 68
        }
      ]
    },
    {
      "cell_type": "code",
      "metadata": {
        "colab": {
          "base_uri": "https://localhost:8080/"
        },
        "id": "zozYMjIkm_EG",
        "outputId": "6ff2062e-ca1d-4a89-aaaf-3ecdafa68d96"
      },
      "source": [
        "fruit_dict['Малина'] = '24 рубля'#добавление в словарь\n",
        "fruit_dict['Персик'] = '60 рублей'#замена значения по ключу\n",
        "fruit_dict"
      ],
      "execution_count": null,
      "outputs": [
        {
          "output_type": "execute_result",
          "data": {
            "text/plain": [
              "{'Апельсин': '30 рублей',\n",
              " 'Банан': '16 рублей',\n",
              " 'Малина': '24 рубля',\n",
              " 'Манго': '100 рублей',\n",
              " 'Персик': '60 рублей',\n",
              " 'Яблоко': '28 рублей'}"
            ]
          },
          "metadata": {
            "tags": []
          },
          "execution_count": 69
        }
      ]
    },
    {
      "cell_type": "code",
      "metadata": {
        "colab": {
          "base_uri": "https://localhost:8080/"
        },
        "id": "Uh8-FAlPm_EH",
        "outputId": "1bcdd8a8-850a-41e8-e3ae-926f17fd1e63"
      },
      "source": [
        "fruit_dict.pop('Персик')\n",
        "fruit_dict"
      ],
      "execution_count": null,
      "outputs": [
        {
          "output_type": "execute_result",
          "data": {
            "text/plain": [
              "{'Апельсин': '30 рублей',\n",
              " 'Банан': '16 рублей',\n",
              " 'Малина': '24 рубля',\n",
              " 'Манго': '100 рублей',\n",
              " 'Яблоко': '28 рублей'}"
            ]
          },
          "metadata": {
            "tags": []
          },
          "execution_count": 70
        }
      ]
    },
    {
      "cell_type": "markdown",
      "metadata": {
        "id": "q3noJPlixzWG"
      },
      "source": [
        "**Вопрос**: как вы думаете, имеет ли словарь метод sort()? "
      ]
    },
    {
      "cell_type": "markdown",
      "metadata": {
        "id": "_u11hK86Mbfm"
      },
      "source": [
        "Помимо перечисленных методов словари так же обладают большим количеством других возможностей. Их основной список можно найти по ссылочке: https://pythonworld.ru/tipy-dannyx-v-python/slovari-dict-funkcii-i-metody-slovarej.html"
      ]
    },
    {
      "cell_type": "markdown",
      "metadata": {
        "id": "a6lyRtrA9J4L"
      },
      "source": [
        "### 4.5 Вложенные словари"
      ]
    },
    {
      "cell_type": "markdown",
      "metadata": {
        "id": "B-s_uvIhm_EI"
      },
      "source": [
        "Как вы уже поняли, сложные вещи в этом мире тяжело описать простыми структурами, поэтому ровно так же как существуют вложенные списки, существуют и вложенные словари.\n",
        "\n",
        "Рассмотрим такую структуру на примере конфигурации сервера"
      ]
    },
    {
      "cell_type": "code",
      "metadata": {
        "id": "pVZJFVYQ9J4N"
      },
      "source": [
        "# Часто встречается при работе с конфигурационными файлами, JSON схемами и не только\n",
        "config = {\n",
        "    \"server\": {\n",
        "        \"host\": \"127.0.0.1\",\n",
        "        \"port\": \"22\"\n",
        "    },\n",
        "    \"configuration\": {\n",
        "        \"ssh\": {\n",
        "            \"access\": \"true\",\n",
        "            \"login\": \"some\",\n",
        "            \"password\": \"some\"\n",
        "        },\n",
        "        \"name\": \"2491Oaaf1414\"\n",
        "    }\n",
        "}"
      ],
      "execution_count": null,
      "outputs": []
    },
    {
      "cell_type": "code",
      "metadata": {
        "colab": {
          "base_uri": "https://localhost:8080/",
          "height": 35
        },
        "id": "8CNbTJeu5nBP",
        "outputId": "92f64111-a088-443b-d466-0dfb7943fa62"
      },
      "source": [
        "config['server']['port']"
      ],
      "execution_count": null,
      "outputs": [
        {
          "output_type": "execute_result",
          "data": {
            "application/vnd.google.colaboratory.intrinsic+json": {
              "type": "string"
            },
            "text/plain": [
              "'22'"
            ]
          },
          "metadata": {
            "tags": []
          },
          "execution_count": 74
        }
      ]
    },
    {
      "cell_type": "code",
      "metadata": {
        "colab": {
          "base_uri": "https://localhost:8080/",
          "height": 35
        },
        "id": "ES7hBC0yUbgc",
        "outputId": "3f5870c5-ccf5-4901-eebb-2ae834536256"
      },
      "source": [
        "config['configuration']['ssh']['login']"
      ],
      "execution_count": null,
      "outputs": [
        {
          "output_type": "execute_result",
          "data": {
            "application/vnd.google.colaboratory.intrinsic+json": {
              "type": "string"
            },
            "text/plain": [
              "'some'"
            ]
          },
          "metadata": {
            "tags": []
          },
          "execution_count": 77
        }
      ]
    },
    {
      "cell_type": "markdown",
      "metadata": {
        "id": "TrHhcAyINeV-"
      },
      "source": [
        "Задача: напишите код для получения логина от ssh соединения"
      ]
    },
    {
      "cell_type": "code",
      "metadata": {
        "colab": {
          "base_uri": "https://localhost:8080/",
          "height": 35
        },
        "id": "SUKDiq8L22hk",
        "outputId": "6901aef6-76c2-4620-f863-26554f10d32d"
      },
      "source": [
        "config['configuration']['ssh']['password']"
      ],
      "execution_count": null,
      "outputs": [
        {
          "output_type": "execute_result",
          "data": {
            "application/vnd.google.colaboratory.intrinsic+json": {
              "type": "string"
            },
            "text/plain": [
              "'some'"
            ]
          },
          "metadata": {
            "tags": []
          },
          "execution_count": 79
        }
      ]
    },
    {
      "cell_type": "markdown",
      "metadata": {
        "id": "PmLJw37_m_EJ"
      },
      "source": [
        "А теперь совместим две изученные нами структуры"
      ]
    },
    {
      "cell_type": "markdown",
      "metadata": {
        "id": "rc9d4SOfJ8kY"
      },
      "source": [
        "Решим задачу с платформы. Напишем код, который ищет минимальное значение ключа cost в структуре, указанной ниже. Укажите это значение в качестве ответа\n",
        "\n"
      ]
    },
    {
      "cell_type": "code",
      "metadata": {
        "id": "pnh9Klkrm_EK"
      },
      "source": [
        "results = [\n",
        "    {'cost': 98, 'source': 'vk'},\n",
        "    {'cost': 183, 'source': 'yandex'},\n",
        "    {'cost': 110, 'source': 'facebook'},\n",
        "    {'cost': 5, 'source': 'rogaikopyta'}\n",
        "]"
      ],
      "execution_count": null,
      "outputs": []
    },
    {
      "cell_type": "code",
      "metadata": {
        "colab": {
          "base_uri": "https://localhost:8080/"
        },
        "id": "NZ_L_xSNKqxJ",
        "outputId": "f689faad-a205-4e24-d3a0-3f783e4e5cf1"
      },
      "source": [
        "min_cost = 1000000\n",
        "for item in results:\n",
        "    if item['cost'] < min_cost:\n",
        "        #print(min_cost)\n",
        "        min_cost = item['cost']\n",
        "print(min_cost)\n"
      ],
      "execution_count": null,
      "outputs": [
        {
          "output_type": "stream",
          "text": [
            "5\n"
          ],
          "name": "stdout"
        }
      ]
    },
    {
      "cell_type": "markdown",
      "metadata": {
        "id": "khxMKXlX9J4k"
      },
      "source": [
        "### 4.6 Практический кейс на словари \n",
        "\n"
      ]
    },
    {
      "cell_type": "markdown",
      "metadata": {
        "id": "b7IWLi3RNpn0"
      },
      "source": [
        "Пусть у нас есть некоторая информация о пабликах в сети ВКонтакте. Необходимо организовать код для получения ссылок на аватарки данных пабликов. Все ссылки необходимо оформить во вложенный список"
      ]
    },
    {
      "cell_type": "code",
      "metadata": {
        "id": "RJs1qB4S9J4l"
      },
      "source": [
        "response = {'response': [{'id': 42565717,\n",
        "   'name': 'Python',\n",
        "   'screen_name': 'club42565717',\n",
        "   'is_closed': 0,\n",
        "   'type': 'group',\n",
        "   'members_count': 37319,\n",
        "   'activity': 'Открытая группа',\n",
        "   'photo_50': 'https://sun9-127.userapi.com/c845524/v845524906/1a71c2/A2r_4JtmiLQ.jpg?ava=1',\n",
        "   'photo_100': 'https://sun9-58.userapi.com/c845524/v845524906/1a71c1/2fBtsS0k8XY.jpg?ava=1',\n",
        "   'photo_200': 'https://sun9-50.userapi.com/c845524/v845524906/1a71c0/Kfo-eQIn0DU.jpg?ava=1'},\n",
        "                         \n",
        "  {'id': 3183750,\n",
        "   'name': 'Веб программист - PHP, JS, Python, Java, HTML 5',\n",
        "   'screen_name': 'php2all',\n",
        "   'is_closed': 0,\n",
        "   'type': 'page',\n",
        "   'members_count': 117833,\n",
        "   'activity': 'Программирование',\n",
        "   'photo_50': 'https://sun9-54.userapi.com/c626421/v626421613/941/HSj4ylRsk8k.jpg?ava=1',\n",
        "   'photo_100': 'https://sun9-5.userapi.com/c626421/v626421613/940/yKaZLxGShkY.jpg?ava=1',\n",
        "   'photo_200': 'https://sun9-49.userapi.com/c626421/v626421613/93f/2EygT_FJKWg.jpg?ava=1'}]}"
      ],
      "execution_count": null,
      "outputs": []
    },
    {
      "cell_type": "code",
      "metadata": {
        "id": "7WDEAkIm3_bj"
      },
      "source": [
        "[\n",
        " {\n",
        "    'name': ...,\n",
        "    'photo': ['https://', 'https://', 'https://']\n",
        " }\n",
        " {\n",
        "     \n",
        " }\n",
        "]"
      ],
      "execution_count": null,
      "outputs": []
    },
    {
      "cell_type": "code",
      "metadata": {
        "id": "WQGJhKRr9J4p",
        "scrolled": true,
        "colab": {
          "base_uri": "https://localhost:8080/"
        },
        "outputId": "2a753d62-0959-4c21-805a-fdedde42a8aa"
      },
      "source": [
        "response['response']"
      ],
      "execution_count": null,
      "outputs": [
        {
          "output_type": "execute_result",
          "data": {
            "text/plain": [
              "[{'activity': 'Открытая группа',\n",
              "  'id': 42565717,\n",
              "  'is_closed': 0,\n",
              "  'members_count': 37319,\n",
              "  'name': 'Python',\n",
              "  'photo_100': 'https://sun9-58.userapi.com/c845524/v845524906/1a71c1/2fBtsS0k8XY.jpg?ava=1',\n",
              "  'photo_200': 'https://sun9-50.userapi.com/c845524/v845524906/1a71c0/Kfo-eQIn0DU.jpg?ava=1',\n",
              "  'photo_50': 'https://sun9-127.userapi.com/c845524/v845524906/1a71c2/A2r_4JtmiLQ.jpg?ava=1',\n",
              "  'screen_name': 'club42565717',\n",
              "  'type': 'group'},\n",
              " {'activity': 'Программирование',\n",
              "  'id': 3183750,\n",
              "  'is_closed': 0,\n",
              "  'members_count': 117833,\n",
              "  'name': 'Веб программист - PHP, JS, Python, Java, HTML 5',\n",
              "  'photo_100': 'https://sun9-5.userapi.com/c626421/v626421613/940/yKaZLxGShkY.jpg?ava=1',\n",
              "  'photo_200': 'https://sun9-49.userapi.com/c626421/v626421613/93f/2EygT_FJKWg.jpg?ava=1',\n",
              "  'photo_50': 'https://sun9-54.userapi.com/c626421/v626421613/941/HSj4ylRsk8k.jpg?ava=1',\n",
              "  'screen_name': 'php2all',\n",
              "  'type': 'page'}]"
            ]
          },
          "metadata": {
            "tags": []
          },
          "execution_count": 84
        }
      ]
    },
    {
      "cell_type": "markdown",
      "metadata": {
        "id": "dKYHVLLnEbVR"
      },
      "source": [
        "## 5. Спасибо за внимание! Буду рад ответиить на ваши вопросы\n",
        "\n",
        "Форма ОС:\n",
        "https://forms.gle/TAeFKkTMpJCT5zc88  \n",
        "\n"
      ]
    }
  ]
}