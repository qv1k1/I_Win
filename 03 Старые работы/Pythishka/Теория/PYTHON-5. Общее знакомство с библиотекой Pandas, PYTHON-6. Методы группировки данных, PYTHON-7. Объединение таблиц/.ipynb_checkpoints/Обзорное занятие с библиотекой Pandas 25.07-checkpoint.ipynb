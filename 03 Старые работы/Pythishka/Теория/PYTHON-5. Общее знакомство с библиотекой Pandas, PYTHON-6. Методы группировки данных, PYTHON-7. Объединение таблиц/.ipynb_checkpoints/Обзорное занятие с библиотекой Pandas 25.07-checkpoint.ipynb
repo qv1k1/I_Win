{
 "cells": [
  {
   "cell_type": "markdown",
   "metadata": {},
   "source": [
    "Документация по использованию всех функций и методов библиотеки: http://pandas.pydata.org/pandas-docs/stable/index.html"
   ]
  },
  {
   "cell_type": "markdown",
   "metadata": {},
   "source": [
    "https://drive.google.com/file/d/1fVNxGG5B-xALetpXcWKay5K1Dbyqj9ix/view?usp=sharing"
   ]
  },
  {
   "cell_type": "code",
   "execution_count": 1,
   "metadata": {},
   "outputs": [],
   "source": [
    "#подключение модуля\n",
    "import pandas as pd"
   ]
  },
  {
   "cell_type": "markdown",
   "metadata": {},
   "source": [
    "## Основные объекты Pandas"
   ]
  },
  {
   "cell_type": "markdown",
   "metadata": {},
   "source": [
    "### Series\n",
    "\n",
    "это проиндексированный одномерный массив значений. Он похож на простой словарь типа dict, где имя элемента будет соответствовать индексу, а значение – значению записи."
   ]
  },
  {
   "cell_type": "markdown",
   "metadata": {},
   "source": [
    "https://pandas.pydata.org/pandas-docs/stable/reference/api/pandas.Series.html?highlight=series#pandas.Series"
   ]
  },
  {
   "cell_type": "markdown",
   "metadata": {},
   "source": [
    "pandas.Series(data=None, index=None, dtype=None, name=None, copy=False, fastpath=False)\n",
    "\n",
    "data – список, словарь или скалярное значение, на базе которого будет построен Series;\n",
    "\n",
    "index – список меток, который будет использоваться для доступа к элементам Series. Длина списка должна быть равна длине data;\n",
    "\n",
    "dtype – объект numpy.dtype, определяющий тип данных;\n",
    "\n",
    "copy – создает копию массива данных, если параметр равен True в ином случае ничего не делает.\n",
    "\n",
    "В большинстве случаев, при создании Series, используют только первые два параметра. Рассмотрим различные варианты как это можно сделать."
   ]
  },
  {
   "cell_type": "markdown",
   "metadata": {},
   "source": [
    "Самый простой способ создать Series – это передать в качестве единственного параметра в конструктор класса список Python."
   ]
  },
  {
   "cell_type": "code",
   "execution_count": 2,
   "metadata": {},
   "outputs": [],
   "source": [
    "s1 = pd.Series([1, 2, 3, 4, 5])"
   ]
  },
  {
   "cell_type": "code",
   "execution_count": 8,
   "metadata": {},
   "outputs": [
    {
     "data": {
      "text/plain": [
       "0    1\n",
       "1    2\n",
       "2    3\n",
       "3    4\n",
       "4    5\n",
       "dtype: int64"
      ]
     },
     "execution_count": 8,
     "metadata": {},
     "output_type": "execute_result"
    }
   ],
   "source": [
    "s1"
   ]
  },
  {
   "cell_type": "code",
   "execution_count": 7,
   "metadata": {},
   "outputs": [
    {
     "ename": "KeyError",
     "evalue": "-1",
     "output_type": "error",
     "traceback": [
      "\u001b[1;31m---------------------------------------------------------------------------\u001b[0m",
      "\u001b[1;31mKeyError\u001b[0m                                  Traceback (most recent call last)",
      "\u001b[1;32m<ipython-input-7-5098fddb6d75>\u001b[0m in \u001b[0;36m<module>\u001b[1;34m\u001b[0m\n\u001b[0;32m      1\u001b[0m \u001b[1;31m#Можно ли так сделать?\u001b[0m\u001b[1;33m\u001b[0m\u001b[1;33m\u001b[0m\u001b[1;33m\u001b[0m\u001b[0m\n\u001b[1;32m----> 2\u001b[1;33m \u001b[0ms1\u001b[0m\u001b[1;33m[\u001b[0m\u001b[1;33m-\u001b[0m\u001b[1;36m1\u001b[0m\u001b[1;33m]\u001b[0m\u001b[1;33m\u001b[0m\u001b[1;33m\u001b[0m\u001b[0m\n\u001b[0m",
      "\u001b[1;32m~\\anaconda3\\lib\\site-packages\\pandas\\core\\series.py\u001b[0m in \u001b[0;36m__getitem__\u001b[1;34m(self, key)\u001b[0m\n\u001b[0;32m    869\u001b[0m         \u001b[0mkey\u001b[0m \u001b[1;33m=\u001b[0m \u001b[0mcom\u001b[0m\u001b[1;33m.\u001b[0m\u001b[0mapply_if_callable\u001b[0m\u001b[1;33m(\u001b[0m\u001b[0mkey\u001b[0m\u001b[1;33m,\u001b[0m \u001b[0mself\u001b[0m\u001b[1;33m)\u001b[0m\u001b[1;33m\u001b[0m\u001b[1;33m\u001b[0m\u001b[0m\n\u001b[0;32m    870\u001b[0m         \u001b[1;32mtry\u001b[0m\u001b[1;33m:\u001b[0m\u001b[1;33m\u001b[0m\u001b[1;33m\u001b[0m\u001b[0m\n\u001b[1;32m--> 871\u001b[1;33m             \u001b[0mresult\u001b[0m \u001b[1;33m=\u001b[0m \u001b[0mself\u001b[0m\u001b[1;33m.\u001b[0m\u001b[0mindex\u001b[0m\u001b[1;33m.\u001b[0m\u001b[0mget_value\u001b[0m\u001b[1;33m(\u001b[0m\u001b[0mself\u001b[0m\u001b[1;33m,\u001b[0m \u001b[0mkey\u001b[0m\u001b[1;33m)\u001b[0m\u001b[1;33m\u001b[0m\u001b[1;33m\u001b[0m\u001b[0m\n\u001b[0m\u001b[0;32m    872\u001b[0m \u001b[1;33m\u001b[0m\u001b[0m\n\u001b[0;32m    873\u001b[0m             \u001b[1;32mif\u001b[0m \u001b[1;32mnot\u001b[0m \u001b[0mis_scalar\u001b[0m\u001b[1;33m(\u001b[0m\u001b[0mresult\u001b[0m\u001b[1;33m)\u001b[0m\u001b[1;33m:\u001b[0m\u001b[1;33m\u001b[0m\u001b[1;33m\u001b[0m\u001b[0m\n",
      "\u001b[1;32m~\\anaconda3\\lib\\site-packages\\pandas\\core\\indexes\\base.py\u001b[0m in \u001b[0;36mget_value\u001b[1;34m(self, series, key)\u001b[0m\n\u001b[0;32m   4403\u001b[0m         \u001b[0mk\u001b[0m \u001b[1;33m=\u001b[0m \u001b[0mself\u001b[0m\u001b[1;33m.\u001b[0m\u001b[0m_convert_scalar_indexer\u001b[0m\u001b[1;33m(\u001b[0m\u001b[0mk\u001b[0m\u001b[1;33m,\u001b[0m \u001b[0mkind\u001b[0m\u001b[1;33m=\u001b[0m\u001b[1;34m\"getitem\"\u001b[0m\u001b[1;33m)\u001b[0m\u001b[1;33m\u001b[0m\u001b[1;33m\u001b[0m\u001b[0m\n\u001b[0;32m   4404\u001b[0m         \u001b[1;32mtry\u001b[0m\u001b[1;33m:\u001b[0m\u001b[1;33m\u001b[0m\u001b[1;33m\u001b[0m\u001b[0m\n\u001b[1;32m-> 4405\u001b[1;33m             \u001b[1;32mreturn\u001b[0m \u001b[0mself\u001b[0m\u001b[1;33m.\u001b[0m\u001b[0m_engine\u001b[0m\u001b[1;33m.\u001b[0m\u001b[0mget_value\u001b[0m\u001b[1;33m(\u001b[0m\u001b[0ms\u001b[0m\u001b[1;33m,\u001b[0m \u001b[0mk\u001b[0m\u001b[1;33m,\u001b[0m \u001b[0mtz\u001b[0m\u001b[1;33m=\u001b[0m\u001b[0mgetattr\u001b[0m\u001b[1;33m(\u001b[0m\u001b[0mseries\u001b[0m\u001b[1;33m.\u001b[0m\u001b[0mdtype\u001b[0m\u001b[1;33m,\u001b[0m \u001b[1;34m\"tz\"\u001b[0m\u001b[1;33m,\u001b[0m \u001b[1;32mNone\u001b[0m\u001b[1;33m)\u001b[0m\u001b[1;33m)\u001b[0m\u001b[1;33m\u001b[0m\u001b[1;33m\u001b[0m\u001b[0m\n\u001b[0m\u001b[0;32m   4406\u001b[0m         \u001b[1;32mexcept\u001b[0m \u001b[0mKeyError\u001b[0m \u001b[1;32mas\u001b[0m \u001b[0me1\u001b[0m\u001b[1;33m:\u001b[0m\u001b[1;33m\u001b[0m\u001b[1;33m\u001b[0m\u001b[0m\n\u001b[0;32m   4407\u001b[0m             \u001b[1;32mif\u001b[0m \u001b[0mlen\u001b[0m\u001b[1;33m(\u001b[0m\u001b[0mself\u001b[0m\u001b[1;33m)\u001b[0m \u001b[1;33m>\u001b[0m \u001b[1;36m0\u001b[0m \u001b[1;32mand\u001b[0m \u001b[1;33m(\u001b[0m\u001b[0mself\u001b[0m\u001b[1;33m.\u001b[0m\u001b[0mholds_integer\u001b[0m\u001b[1;33m(\u001b[0m\u001b[1;33m)\u001b[0m \u001b[1;32mor\u001b[0m \u001b[0mself\u001b[0m\u001b[1;33m.\u001b[0m\u001b[0mis_boolean\u001b[0m\u001b[1;33m(\u001b[0m\u001b[1;33m)\u001b[0m\u001b[1;33m)\u001b[0m\u001b[1;33m:\u001b[0m\u001b[1;33m\u001b[0m\u001b[1;33m\u001b[0m\u001b[0m\n",
      "\u001b[1;32mpandas\\_libs\\index.pyx\u001b[0m in \u001b[0;36mpandas._libs.index.IndexEngine.get_value\u001b[1;34m()\u001b[0m\n",
      "\u001b[1;32mpandas\\_libs\\index.pyx\u001b[0m in \u001b[0;36mpandas._libs.index.IndexEngine.get_value\u001b[1;34m()\u001b[0m\n",
      "\u001b[1;32mpandas\\_libs\\index.pyx\u001b[0m in \u001b[0;36mpandas._libs.index.IndexEngine.get_loc\u001b[1;34m()\u001b[0m\n",
      "\u001b[1;32mpandas\\_libs\\hashtable_class_helper.pxi\u001b[0m in \u001b[0;36mpandas._libs.hashtable.Int64HashTable.get_item\u001b[1;34m()\u001b[0m\n",
      "\u001b[1;32mpandas\\_libs\\hashtable_class_helper.pxi\u001b[0m in \u001b[0;36mpandas._libs.hashtable.Int64HashTable.get_item\u001b[1;34m()\u001b[0m\n",
      "\u001b[1;31mKeyError\u001b[0m: -1"
     ]
    }
   ],
   "source": [
    "#Можно ли так сделать?\n",
    "s1[-1]"
   ]
  },
  {
   "cell_type": "code",
   "execution_count": 9,
   "metadata": {},
   "outputs": [],
   "source": [
    "s2 = pd.Series([1, 2, 3, 4, 5], ['a', 'b', 'c', 'd', 'e'])"
   ]
  },
  {
   "cell_type": "code",
   "execution_count": 11,
   "metadata": {},
   "outputs": [
    {
     "data": {
      "text/plain": [
       "1"
      ]
     },
     "execution_count": 11,
     "metadata": {},
     "output_type": "execute_result"
    }
   ],
   "source": [
    "s2['a']"
   ]
  },
  {
   "cell_type": "code",
   "execution_count": 24,
   "metadata": {},
   "outputs": [],
   "source": [
    "s = pd.Series(data = [1,2,3,4,5], index = 'one two three four five'.split())"
   ]
  },
  {
   "cell_type": "code",
   "execution_count": 13,
   "metadata": {},
   "outputs": [
    {
     "data": {
      "text/plain": [
       "one      1\n",
       "two      2\n",
       "three    3\n",
       "four     4\n",
       "five     5\n",
       "dtype: int64"
      ]
     },
     "execution_count": 13,
     "metadata": {},
     "output_type": "execute_result"
    }
   ],
   "source": [
    "s"
   ]
  },
  {
   "cell_type": "code",
   "execution_count": 15,
   "metadata": {},
   "outputs": [
    {
     "data": {
      "text/plain": [
       "2"
      ]
     },
     "execution_count": 15,
     "metadata": {},
     "output_type": "execute_result"
    }
   ],
   "source": [
    "#index\n",
    "s['two']"
   ]
  },
  {
   "cell_type": "code",
   "execution_count": null,
   "metadata": {},
   "outputs": [],
   "source": []
  },
  {
   "cell_type": "markdown",
   "metadata": {},
   "source": [
    "Еще один способ создать структуру Series – это использовать словарь для одновременного задания меток и значений."
   ]
  },
  {
   "cell_type": "code",
   "execution_count": 18,
   "metadata": {},
   "outputs": [
    {
     "data": {
      "text/plain": [
       "'Иван'"
      ]
     },
     "execution_count": 18,
     "metadata": {},
     "output_type": "execute_result"
    }
   ],
   "source": [
    "dictionary = {\"student_1\": \"Иван\", \"student_2\": \"Мария\", \"student_3\": \"Арсений\"}\n",
    "dictionary[\"student_1\"]"
   ]
  },
  {
   "cell_type": "code",
   "execution_count": 19,
   "metadata": {},
   "outputs": [],
   "source": [
    "s_4 = pd.Series(dictionary)"
   ]
  },
  {
   "cell_type": "code",
   "execution_count": 21,
   "metadata": {},
   "outputs": [
    {
     "data": {
      "text/plain": [
       "'Иван'"
      ]
     },
     "execution_count": 21,
     "metadata": {},
     "output_type": "execute_result"
    }
   ],
   "source": [
    "s_4[\"student_1\"]"
   ]
  },
  {
   "cell_type": "markdown",
   "metadata": {},
   "source": [
    "Создание Series с использованием константы\n",
    "Рассмотрим еще один способ создания структуры. На этот раз значения в ячейках структуры будут одинаковыми.\n"
   ]
  },
  {
   "cell_type": "code",
   "execution_count": 31,
   "metadata": {},
   "outputs": [
    {
     "data": {
      "text/plain": [
       "a    7\n",
       "b    7\n",
       "c    7\n",
       "dtype: int64"
      ]
     },
     "execution_count": 31,
     "metadata": {},
     "output_type": "execute_result"
    }
   ],
   "source": [
    "a = 7\n",
    "s_5 = pd.Series(a,['a', 'b', 'c',])\n",
    "s_5"
   ]
  },
  {
   "cell_type": "markdown",
   "metadata": {},
   "source": [
    "## Доступ к элементам\n",
    "* по индексу\n",
    "* по срезу\n",
    "* по условному выражение\n",
    "s5[s5 <= 3]"
   ]
  },
  {
   "cell_type": "code",
   "execution_count": 27,
   "metadata": {},
   "outputs": [],
   "source": [
    "s6 = pd.Series([1, 2, 3, 4, 2], ['a', 'b', 'c', 'd', 'e'])"
   ]
  },
  {
   "cell_type": "code",
   "execution_count": 33,
   "metadata": {},
   "outputs": [
    {
     "data": {
      "text/plain": [
       "a     3\n",
       "b     6\n",
       "c     9\n",
       "d    12\n",
       "e     6\n",
       "dtype: int64"
      ]
     },
     "execution_count": 33,
     "metadata": {},
     "output_type": "execute_result"
    }
   ],
   "source": [
    "s6*3"
   ]
  },
  {
   "cell_type": "markdown",
   "metadata": {},
   "source": [
    "Со структурами Series можно работать как с векторами: складывать, умножать вектор на число"
   ]
  },
  {
   "cell_type": "markdown",
   "metadata": {},
   "source": [
    "### DataFrame\n",
    " это проиндексированный многомерный массив значений, соответственно каждый столбец DataFrame, является структурой Series"
   ]
  },
  {
   "cell_type": "markdown",
   "metadata": {},
   "source": [
    "Конструктор класса DataFrame выглядит так:\n",
    "\n",
    "class pandas.DataFrame(data=None, index=None, columns=None, dtype=None, copy=False)\n",
    "\n",
    "data – массив ndarray, словарь (dict) или другой DataFrame;\n",
    "\n",
    "index – список меток для записей (имена строк таблицы);\n",
    "\n",
    "columns – список меток для полей (имена столбцов таблицы);\n",
    "\n",
    "dtype – объект numpy.dtype, определяющий тип данных;\n",
    "\n",
    "copy – создает копию массива данных, если параметр равен True в ином случае ничего не делает.\n",
    "\n",
    "Структуру DataFrame можно создать на базе:\n",
    "\n",
    "* словаря (dict) в качестве элементов которого должны выступать: одномерные ndarray, списки, другие словари, структуры Series;\n",
    "* структуры Series;\n",
    "\n",
    "Рассмотрим на практике различные подходы к созданию DataFrame’ов."
   ]
  },
  {
   "cell_type": "code",
   "execution_count": 26,
   "metadata": {},
   "outputs": [],
   "source": [
    "#Из серий"
   ]
  },
  {
   "cell_type": "code",
   "execution_count": 38,
   "metadata": {},
   "outputs": [],
   "source": [
    "d_1 = {\"price\":pd.Series([1, 2, 3], index=['v1', 'v2', 'v3']),\n",
    "    \"count\": pd.Series([10, 12, 7], index=['v1', 'v2', 'v'])}"
   ]
  },
  {
   "cell_type": "code",
   "execution_count": 39,
   "metadata": {},
   "outputs": [
    {
     "data": {
      "text/plain": [
       "{'price': v1    1\n",
       " v2    2\n",
       " v3    3\n",
       " dtype: int64,\n",
       " 'count': v1    10\n",
       " v2    12\n",
       " v      7\n",
       " dtype: int64}"
      ]
     },
     "execution_count": 39,
     "metadata": {},
     "output_type": "execute_result"
    }
   ],
   "source": [
    "d_1"
   ]
  },
  {
   "cell_type": "code",
   "execution_count": 40,
   "metadata": {},
   "outputs": [],
   "source": [
    "df_1 = pd.DataFrame(d_1)"
   ]
  },
  {
   "cell_type": "code",
   "execution_count": 41,
   "metadata": {},
   "outputs": [
    {
     "data": {
      "text/html": [
       "<div>\n",
       "<style scoped>\n",
       "    .dataframe tbody tr th:only-of-type {\n",
       "        vertical-align: middle;\n",
       "    }\n",
       "\n",
       "    .dataframe tbody tr th {\n",
       "        vertical-align: top;\n",
       "    }\n",
       "\n",
       "    .dataframe thead th {\n",
       "        text-align: right;\n",
       "    }\n",
       "</style>\n",
       "<table border=\"1\" class=\"dataframe\">\n",
       "  <thead>\n",
       "    <tr style=\"text-align: right;\">\n",
       "      <th></th>\n",
       "      <th>price</th>\n",
       "      <th>count</th>\n",
       "    </tr>\n",
       "  </thead>\n",
       "  <tbody>\n",
       "    <tr>\n",
       "      <th>v</th>\n",
       "      <td>NaN</td>\n",
       "      <td>7.0</td>\n",
       "    </tr>\n",
       "    <tr>\n",
       "      <th>v1</th>\n",
       "      <td>1.0</td>\n",
       "      <td>10.0</td>\n",
       "    </tr>\n",
       "    <tr>\n",
       "      <th>v2</th>\n",
       "      <td>2.0</td>\n",
       "      <td>12.0</td>\n",
       "    </tr>\n",
       "    <tr>\n",
       "      <th>v3</th>\n",
       "      <td>3.0</td>\n",
       "      <td>NaN</td>\n",
       "    </tr>\n",
       "  </tbody>\n",
       "</table>\n",
       "</div>"
      ],
      "text/plain": [
       "    price  count\n",
       "v     NaN    7.0\n",
       "v1    1.0   10.0\n",
       "v2    2.0   12.0\n",
       "v3    3.0    NaN"
      ]
     },
     "execution_count": 41,
     "metadata": {},
     "output_type": "execute_result"
    }
   ],
   "source": [
    "df_1"
   ]
  },
  {
   "cell_type": "code",
   "execution_count": 43,
   "metadata": {},
   "outputs": [
    {
     "name": "stdout",
     "output_type": "stream",
     "text": [
      "<class 'pandas.core.frame.DataFrame'>\n",
      "Index: 4 entries, v to v3\n",
      "Data columns (total 2 columns):\n",
      " #   Column  Non-Null Count  Dtype  \n",
      "---  ------  --------------  -----  \n",
      " 0   price   3 non-null      float64\n",
      " 1   count   3 non-null      float64\n",
      "dtypes: float64(2)\n",
      "memory usage: 96.0+ bytes\n"
     ]
    }
   ],
   "source": [
    "df_1.info()"
   ]
  },
  {
   "cell_type": "code",
   "execution_count": 27,
   "metadata": {},
   "outputs": [],
   "source": [
    "#Из словаря"
   ]
  },
  {
   "cell_type": "code",
   "execution_count": 47,
   "metadata": {},
   "outputs": [
    {
     "data": {
      "text/html": [
       "<div>\n",
       "<style scoped>\n",
       "    .dataframe tbody tr th:only-of-type {\n",
       "        vertical-align: middle;\n",
       "    }\n",
       "\n",
       "    .dataframe tbody tr th {\n",
       "        vertical-align: top;\n",
       "    }\n",
       "\n",
       "    .dataframe thead th {\n",
       "        text-align: right;\n",
       "    }\n",
       "</style>\n",
       "<table border=\"1\" class=\"dataframe\">\n",
       "  <thead>\n",
       "    <tr style=\"text-align: right;\">\n",
       "      <th></th>\n",
       "      <th>price</th>\n",
       "      <th>count</th>\n",
       "      <th>value</th>\n",
       "    </tr>\n",
       "  </thead>\n",
       "  <tbody>\n",
       "    <tr>\n",
       "      <th>0</th>\n",
       "      <td>3</td>\n",
       "      <td>8</td>\n",
       "      <td>5.0</td>\n",
       "    </tr>\n",
       "    <tr>\n",
       "      <th>1</th>\n",
       "      <td>4</td>\n",
       "      <td>11</td>\n",
       "      <td>NaN</td>\n",
       "    </tr>\n",
       "  </tbody>\n",
       "</table>\n",
       "</div>"
      ],
      "text/plain": [
       "   price  count  value\n",
       "0      3      8    5.0\n",
       "1      4     11    NaN"
      ]
     },
     "execution_count": 47,
     "metadata": {},
     "output_type": "execute_result"
    }
   ],
   "source": [
    "#Способ_1\n",
    "d3 = [{\"price\": 3, \"count\":8, \"value\": 5}, {\"price\": 4, \"count\": 11}]\n",
    "df3 = pd.DataFrame(d3)\n",
    "df3"
   ]
  },
  {
   "cell_type": "code",
   "execution_count": 52,
   "metadata": {},
   "outputs": [],
   "source": [
    "#Способ_2\n",
    "df = pd.DataFrame({'login': 'Ivanov Petrov Sidorov'.split(), \n",
    "                   'password': ['25jg4', '54jk56', '6jhu78f']}, \n",
    "                  index = ['s_1', 's_2', 's_3'])"
   ]
  },
  {
   "cell_type": "code",
   "execution_count": 53,
   "metadata": {},
   "outputs": [
    {
     "data": {
      "text/html": [
       "<div>\n",
       "<style scoped>\n",
       "    .dataframe tbody tr th:only-of-type {\n",
       "        vertical-align: middle;\n",
       "    }\n",
       "\n",
       "    .dataframe tbody tr th {\n",
       "        vertical-align: top;\n",
       "    }\n",
       "\n",
       "    .dataframe thead th {\n",
       "        text-align: right;\n",
       "    }\n",
       "</style>\n",
       "<table border=\"1\" class=\"dataframe\">\n",
       "  <thead>\n",
       "    <tr style=\"text-align: right;\">\n",
       "      <th></th>\n",
       "      <th>login</th>\n",
       "      <th>password</th>\n",
       "    </tr>\n",
       "  </thead>\n",
       "  <tbody>\n",
       "    <tr>\n",
       "      <th>s_1</th>\n",
       "      <td>Ivanov</td>\n",
       "      <td>25jg4</td>\n",
       "    </tr>\n",
       "    <tr>\n",
       "      <th>s_2</th>\n",
       "      <td>Petrov</td>\n",
       "      <td>54jk56</td>\n",
       "    </tr>\n",
       "    <tr>\n",
       "      <th>s_3</th>\n",
       "      <td>Sidorov</td>\n",
       "      <td>6jhu78f</td>\n",
       "    </tr>\n",
       "  </tbody>\n",
       "</table>\n",
       "</div>"
      ],
      "text/plain": [
       "       login password\n",
       "s_1   Ivanov    25jg4\n",
       "s_2   Petrov   54jk56\n",
       "s_3  Sidorov  6jhu78f"
      ]
     },
     "execution_count": 53,
     "metadata": {},
     "output_type": "execute_result"
    }
   ],
   "source": [
    "#Выведем датафрейм на экран\n",
    "df"
   ]
  },
  {
   "cell_type": "code",
   "execution_count": 60,
   "metadata": {},
   "outputs": [
    {
     "data": {
      "text/plain": [
       "s_1     Ivanov\n",
       "s_2     Petrov\n",
       "s_3    Sidorov\n",
       "Name: login, dtype: object"
      ]
     },
     "execution_count": 60,
     "metadata": {},
     "output_type": "execute_result"
    }
   ],
   "source": [
    "df.login\n",
    "df['login'][:]\n",
    "\n"
   ]
  },
  {
   "cell_type": "code",
   "execution_count": 4,
   "metadata": {},
   "outputs": [],
   "source": [
    "# Извлекаем весь столбец по индексу []\n",
    "#Способ 1\n"
   ]
  },
  {
   "cell_type": "code",
   "execution_count": 5,
   "metadata": {},
   "outputs": [],
   "source": [
    "#Способ 2 через .\n"
   ]
  },
  {
   "cell_type": "code",
   "execution_count": 6,
   "metadata": {},
   "outputs": [],
   "source": [
    "# Извлекаем отдельный элемент, способ 1 (используем значения индексов и названия столбцов)\n"
   ]
  },
  {
   "cell_type": "code",
   "execution_count": 67,
   "metadata": {},
   "outputs": [
    {
     "data": {
      "text/plain": [
       "login       Ivanov\n",
       "password     25jg4\n",
       "Name: s_1, dtype: object"
      ]
     },
     "execution_count": 67,
     "metadata": {},
     "output_type": "execute_result"
    }
   ],
   "source": [
    "df.loc['s_1']"
   ]
  },
  {
   "cell_type": "markdown",
   "metadata": {},
   "source": [
    "https://pandas.pydata.org/pandas-docs/stable/reference/api/pandas.DataFrame.loc.html?highlight=loc#pandas.DataFrame.loc"
   ]
  },
  {
   "cell_type": "code",
   "execution_count": 62,
   "metadata": {},
   "outputs": [
    {
     "data": {
      "text/plain": [
       "login       Ivanov\n",
       "password     25jg4\n",
       "Name: s_1, dtype: object"
      ]
     },
     "execution_count": 62,
     "metadata": {},
     "output_type": "execute_result"
    }
   ],
   "source": [
    "#Операция: выбор строки по метке. loc\n",
    "df.loc['s_1']"
   ]
  },
  {
   "cell_type": "code",
   "execution_count": 74,
   "metadata": {},
   "outputs": [
    {
     "data": {
      "text/plain": [
       "login       Ivanov\n",
       "password     25jg4\n",
       "Name: s_1, dtype: object"
      ]
     },
     "execution_count": 74,
     "metadata": {},
     "output_type": "execute_result"
    }
   ],
   "source": [
    "df.loc['s_1']"
   ]
  },
  {
   "cell_type": "code",
   "execution_count": 35,
   "metadata": {},
   "outputs": [],
   "source": [
    "#Операция: выбор строки по индексу. iloc\n"
   ]
  },
  {
   "cell_type": "code",
   "execution_count": null,
   "metadata": {},
   "outputs": [],
   "source": [
    "#Поговорим немного о массивах"
   ]
  },
  {
   "cell_type": "code",
   "execution_count": 73,
   "metadata": {},
   "outputs": [
    {
     "data": {
      "text/plain": [
       "login       Ivanov\n",
       "password     25jg4\n",
       "Name: s_1, dtype: object"
      ]
     },
     "execution_count": 73,
     "metadata": {},
     "output_type": "execute_result"
    }
   ],
   "source": [
    "# Объединяем два способа\n",
    "df.iloc[0]"
   ]
  },
  {
   "cell_type": "code",
   "execution_count": null,
   "metadata": {},
   "outputs": [],
   "source": []
  },
  {
   "cell_type": "code",
   "execution_count": null,
   "metadata": {},
   "outputs": [],
   "source": []
  },
  {
   "cell_type": "code",
   "execution_count": 75,
   "metadata": {},
   "outputs": [
    {
     "data": {
      "text/html": [
       "<div>\n",
       "<style scoped>\n",
       "    .dataframe tbody tr th:only-of-type {\n",
       "        vertical-align: middle;\n",
       "    }\n",
       "\n",
       "    .dataframe tbody tr th {\n",
       "        vertical-align: top;\n",
       "    }\n",
       "\n",
       "    .dataframe thead th {\n",
       "        text-align: right;\n",
       "    }\n",
       "</style>\n",
       "<table border=\"1\" class=\"dataframe\">\n",
       "  <thead>\n",
       "    <tr style=\"text-align: right;\">\n",
       "      <th></th>\n",
       "      <th>price</th>\n",
       "      <th>count</th>\n",
       "    </tr>\n",
       "  </thead>\n",
       "  <tbody>\n",
       "    <tr>\n",
       "      <th>a</th>\n",
       "      <td>1</td>\n",
       "      <td>10</td>\n",
       "    </tr>\n",
       "    <tr>\n",
       "      <th>b</th>\n",
       "      <td>2</td>\n",
       "      <td>20</td>\n",
       "    </tr>\n",
       "    <tr>\n",
       "      <th>c</th>\n",
       "      <td>3</td>\n",
       "      <td>30</td>\n",
       "    </tr>\n",
       "  </tbody>\n",
       "</table>\n",
       "</div>"
      ],
      "text/plain": [
       "   price  count\n",
       "a      1     10\n",
       "b      2     20\n",
       "c      3     30"
      ]
     },
     "execution_count": 75,
     "metadata": {},
     "output_type": "execute_result"
    }
   ],
   "source": [
    "d = {\"price\":[1, 2, 3],\n",
    "    \"count\": [10, 20, 30]}\n",
    "df = pd.DataFrame(d, index=['a', 'b', 'c'])\n",
    "df"
   ]
  },
  {
   "cell_type": "code",
   "execution_count": 76,
   "metadata": {},
   "outputs": [
    {
     "data": {
      "text/html": [
       "<div>\n",
       "<style scoped>\n",
       "    .dataframe tbody tr th:only-of-type {\n",
       "        vertical-align: middle;\n",
       "    }\n",
       "\n",
       "    .dataframe tbody tr th {\n",
       "        vertical-align: top;\n",
       "    }\n",
       "\n",
       "    .dataframe thead th {\n",
       "        text-align: right;\n",
       "    }\n",
       "</style>\n",
       "<table border=\"1\" class=\"dataframe\">\n",
       "  <thead>\n",
       "    <tr style=\"text-align: right;\">\n",
       "      <th></th>\n",
       "      <th>price</th>\n",
       "      <th>count</th>\n",
       "    </tr>\n",
       "  </thead>\n",
       "  <tbody>\n",
       "    <tr>\n",
       "      <th>b</th>\n",
       "      <td>2</td>\n",
       "      <td>20</td>\n",
       "    </tr>\n",
       "    <tr>\n",
       "      <th>c</th>\n",
       "      <td>3</td>\n",
       "      <td>30</td>\n",
       "    </tr>\n",
       "  </tbody>\n",
       "</table>\n",
       "</div>"
      ],
      "text/plain": [
       "   price  count\n",
       "b      2     20\n",
       "c      3     30"
      ]
     },
     "execution_count": 76,
     "metadata": {},
     "output_type": "execute_result"
    }
   ],
   "source": [
    "#Операция: выбор строк, отвечающих условию.\n",
    "df[df['count'] >= 20]"
   ]
  },
  {
   "cell_type": "markdown",
   "metadata": {},
   "source": [
    "## Загружаем датасет и смотрим, что в нем есть"
   ]
  },
  {
   "cell_type": "code",
   "execution_count": null,
   "metadata": {},
   "outputs": [],
   "source": []
  },
  {
   "cell_type": "code",
   "execution_count": 77,
   "metadata": {},
   "outputs": [],
   "source": [
    "df = pd.read_csv('data.csv')"
   ]
  },
  {
   "cell_type": "code",
   "execution_count": 85,
   "metadata": {},
   "outputs": [
    {
     "data": {
      "text/html": [
       "<div>\n",
       "<style scoped>\n",
       "    .dataframe tbody tr th:only-of-type {\n",
       "        vertical-align: middle;\n",
       "    }\n",
       "\n",
       "    .dataframe tbody tr th {\n",
       "        vertical-align: top;\n",
       "    }\n",
       "\n",
       "    .dataframe thead th {\n",
       "        text-align: right;\n",
       "    }\n",
       "</style>\n",
       "<table border=\"1\" class=\"dataframe\">\n",
       "  <thead>\n",
       "    <tr style=\"text-align: right;\">\n",
       "      <th></th>\n",
       "      <th>order_date</th>\n",
       "      <th>order_id</th>\n",
       "      <th>customer</th>\n",
       "      <th>grand_total</th>\n",
       "    </tr>\n",
       "  </thead>\n",
       "  <tbody>\n",
       "    <tr>\n",
       "      <th>100</th>\n",
       "      <td>12/12/11</td>\n",
       "      <td>CA-2011-107573</td>\n",
       "      <td>Philip Brown</td>\n",
       "      <td>23</td>\n",
       "    </tr>\n",
       "    <tr>\n",
       "      <th>101</th>\n",
       "      <td>7/2/11</td>\n",
       "      <td>CA-2011-107594</td>\n",
       "      <td>Eric Hoffmann</td>\n",
       "      <td>80</td>\n",
       "    </tr>\n",
       "    <tr>\n",
       "      <th>102</th>\n",
       "      <td>2/15/11</td>\n",
       "      <td>CA-2011-107706</td>\n",
       "      <td>Shui Tom</td>\n",
       "      <td>16</td>\n",
       "    </tr>\n",
       "    <tr>\n",
       "      <th>103</th>\n",
       "      <td>2/8/11</td>\n",
       "      <td>CA-2011-107755</td>\n",
       "      <td>Cyma Kinney</td>\n",
       "      <td>115</td>\n",
       "    </tr>\n",
       "    <tr>\n",
       "      <th>104</th>\n",
       "      <td>10/28/11</td>\n",
       "      <td>CA-2011-107769</td>\n",
       "      <td>Bill Tyler</td>\n",
       "      <td>258</td>\n",
       "    </tr>\n",
       "    <tr>\n",
       "      <th>...</th>\n",
       "      <td>...</td>\n",
       "      <td>...</td>\n",
       "      <td>...</td>\n",
       "      <td>...</td>\n",
       "    </tr>\n",
       "    <tr>\n",
       "      <th>195</th>\n",
       "      <td>9/26/11</td>\n",
       "      <td>CA-2011-115133</td>\n",
       "      <td>Dianna Arnett</td>\n",
       "      <td>53</td>\n",
       "    </tr>\n",
       "    <tr>\n",
       "      <th>196</th>\n",
       "      <td>2/1/11</td>\n",
       "      <td>CA-2011-115161</td>\n",
       "      <td>Liz Carlisle</td>\n",
       "      <td>291</td>\n",
       "    </tr>\n",
       "    <tr>\n",
       "      <th>197</th>\n",
       "      <td>8/25/11</td>\n",
       "      <td>CA-2011-115259</td>\n",
       "      <td>Ryan Crowe</td>\n",
       "      <td>199</td>\n",
       "    </tr>\n",
       "    <tr>\n",
       "      <th>198</th>\n",
       "      <td>11/18/11</td>\n",
       "      <td>CA-2011-115336</td>\n",
       "      <td>Ann Blume</td>\n",
       "      <td>14</td>\n",
       "    </tr>\n",
       "    <tr>\n",
       "      <th>199</th>\n",
       "      <td>8/6/11</td>\n",
       "      <td>CA-2011-115357</td>\n",
       "      <td>Roland Fjeld</td>\n",
       "      <td>63</td>\n",
       "    </tr>\n",
       "  </tbody>\n",
       "</table>\n",
       "<p>100 rows × 4 columns</p>\n",
       "</div>"
      ],
      "text/plain": [
       "    order_date        order_id       customer  grand_total\n",
       "100   12/12/11  CA-2011-107573   Philip Brown           23\n",
       "101     7/2/11  CA-2011-107594  Eric Hoffmann           80\n",
       "102    2/15/11  CA-2011-107706       Shui Tom           16\n",
       "103     2/8/11  CA-2011-107755    Cyma Kinney          115\n",
       "104   10/28/11  CA-2011-107769     Bill Tyler          258\n",
       "..         ...             ...            ...          ...\n",
       "195    9/26/11  CA-2011-115133  Dianna Arnett           53\n",
       "196     2/1/11  CA-2011-115161   Liz Carlisle          291\n",
       "197    8/25/11  CA-2011-115259     Ryan Crowe          199\n",
       "198   11/18/11  CA-2011-115336      Ann Blume           14\n",
       "199     8/6/11  CA-2011-115357   Roland Fjeld           63\n",
       "\n",
       "[100 rows x 4 columns]"
      ]
     },
     "execution_count": 85,
     "metadata": {},
     "output_type": "execute_result"
    }
   ],
   "source": [
    "#Способы просмотра содержимого head tail sample []\n",
    "df[100:200]"
   ]
  },
  {
   "cell_type": "code",
   "execution_count": 86,
   "metadata": {},
   "outputs": [
    {
     "name": "stdout",
     "output_type": "stream",
     "text": [
      "<class 'pandas.core.frame.DataFrame'>\n",
      "RangeIndex: 5009 entries, 0 to 5008\n",
      "Data columns (total 4 columns):\n",
      " #   Column       Non-Null Count  Dtype \n",
      "---  ------       --------------  ----- \n",
      " 0   order_date   5009 non-null   object\n",
      " 1   order_id     5009 non-null   object\n",
      " 2   customer     5009 non-null   object\n",
      " 3   grand_total  5009 non-null   int64 \n",
      "dtypes: int64(1), object(3)\n",
      "memory usage: 156.7+ KB\n"
     ]
    }
   ],
   "source": [
    "# Получаем общую информацию о датафрейме\n",
    "df.info()"
   ]
  },
  {
   "cell_type": "code",
   "execution_count": 87,
   "metadata": {},
   "outputs": [
    {
     "data": {
      "text/html": [
       "<div>\n",
       "<style scoped>\n",
       "    .dataframe tbody tr th:only-of-type {\n",
       "        vertical-align: middle;\n",
       "    }\n",
       "\n",
       "    .dataframe tbody tr th {\n",
       "        vertical-align: top;\n",
       "    }\n",
       "\n",
       "    .dataframe thead th {\n",
       "        text-align: right;\n",
       "    }\n",
       "</style>\n",
       "<table border=\"1\" class=\"dataframe\">\n",
       "  <thead>\n",
       "    <tr style=\"text-align: right;\">\n",
       "      <th></th>\n",
       "      <th>grand_total</th>\n",
       "    </tr>\n",
       "  </thead>\n",
       "  <tbody>\n",
       "    <tr>\n",
       "      <th>count</th>\n",
       "      <td>5009.000000</td>\n",
       "    </tr>\n",
       "    <tr>\n",
       "      <th>mean</th>\n",
       "      <td>458.626672</td>\n",
       "    </tr>\n",
       "    <tr>\n",
       "      <th>std</th>\n",
       "      <td>954.729307</td>\n",
       "    </tr>\n",
       "    <tr>\n",
       "      <th>min</th>\n",
       "      <td>1.000000</td>\n",
       "    </tr>\n",
       "    <tr>\n",
       "      <th>25%</th>\n",
       "      <td>38.000000</td>\n",
       "    </tr>\n",
       "    <tr>\n",
       "      <th>50%</th>\n",
       "      <td>152.000000</td>\n",
       "    </tr>\n",
       "    <tr>\n",
       "      <th>75%</th>\n",
       "      <td>512.000000</td>\n",
       "    </tr>\n",
       "    <tr>\n",
       "      <th>max</th>\n",
       "      <td>23661.000000</td>\n",
       "    </tr>\n",
       "  </tbody>\n",
       "</table>\n",
       "</div>"
      ],
      "text/plain": [
       "        grand_total\n",
       "count   5009.000000\n",
       "mean     458.626672\n",
       "std      954.729307\n",
       "min        1.000000\n",
       "25%       38.000000\n",
       "50%      152.000000\n",
       "75%      512.000000\n",
       "max    23661.000000"
      ]
     },
     "execution_count": 87,
     "metadata": {},
     "output_type": "execute_result"
    }
   ],
   "source": [
    "# Получаем основные статистические данные о количественных показателях\n",
    "#Будьте осторожны с этим методом при работе с большими датасетами! describe()\n",
    "df.describe()"
   ]
  },
  {
   "cell_type": "code",
   "execution_count": 88,
   "metadata": {},
   "outputs": [
    {
     "data": {
      "text/html": [
       "<div>\n",
       "<style scoped>\n",
       "    .dataframe tbody tr th:only-of-type {\n",
       "        vertical-align: middle;\n",
       "    }\n",
       "\n",
       "    .dataframe tbody tr th {\n",
       "        vertical-align: top;\n",
       "    }\n",
       "\n",
       "    .dataframe thead th {\n",
       "        text-align: right;\n",
       "    }\n",
       "</style>\n",
       "<table border=\"1\" class=\"dataframe\">\n",
       "  <thead>\n",
       "    <tr style=\"text-align: right;\">\n",
       "      <th></th>\n",
       "      <th>count</th>\n",
       "      <th>mean</th>\n",
       "      <th>std</th>\n",
       "      <th>min</th>\n",
       "      <th>25%</th>\n",
       "      <th>50%</th>\n",
       "      <th>75%</th>\n",
       "      <th>max</th>\n",
       "    </tr>\n",
       "  </thead>\n",
       "  <tbody>\n",
       "    <tr>\n",
       "      <th>grand_total</th>\n",
       "      <td>5009.0</td>\n",
       "      <td>458.626672</td>\n",
       "      <td>954.729307</td>\n",
       "      <td>1.0</td>\n",
       "      <td>38.0</td>\n",
       "      <td>152.0</td>\n",
       "      <td>512.0</td>\n",
       "      <td>23661.0</td>\n",
       "    </tr>\n",
       "  </tbody>\n",
       "</table>\n",
       "</div>"
      ],
      "text/plain": [
       "              count        mean         std  min   25%    50%    75%      max\n",
       "grand_total  5009.0  458.626672  954.729307  1.0  38.0  152.0  512.0  23661.0"
      ]
     },
     "execution_count": 88,
     "metadata": {},
     "output_type": "execute_result"
    }
   ],
   "source": [
    "# Поворачиваем таблицу T\n",
    "df.describe().T"
   ]
  },
  {
   "cell_type": "code",
   "execution_count": 89,
   "metadata": {},
   "outputs": [],
   "source": [
    "#Преобразуем дату\n",
    "df['order_date'] = pd.to_datetime(df['order_date'])"
   ]
  },
  {
   "cell_type": "code",
   "execution_count": 90,
   "metadata": {},
   "outputs": [
    {
     "data": {
      "text/html": [
       "<div>\n",
       "<style scoped>\n",
       "    .dataframe tbody tr th:only-of-type {\n",
       "        vertical-align: middle;\n",
       "    }\n",
       "\n",
       "    .dataframe tbody tr th {\n",
       "        vertical-align: top;\n",
       "    }\n",
       "\n",
       "    .dataframe thead th {\n",
       "        text-align: right;\n",
       "    }\n",
       "</style>\n",
       "<table border=\"1\" class=\"dataframe\">\n",
       "  <thead>\n",
       "    <tr style=\"text-align: right;\">\n",
       "      <th></th>\n",
       "      <th>order_date</th>\n",
       "      <th>order_id</th>\n",
       "      <th>customer</th>\n",
       "      <th>grand_total</th>\n",
       "    </tr>\n",
       "  </thead>\n",
       "  <tbody>\n",
       "    <tr>\n",
       "      <th>0</th>\n",
       "      <td>2011-09-07</td>\n",
       "      <td>CA-2011-100006</td>\n",
       "      <td>Dennis Kane</td>\n",
       "      <td>378</td>\n",
       "    </tr>\n",
       "    <tr>\n",
       "      <th>1</th>\n",
       "      <td>2011-07-08</td>\n",
       "      <td>CA-2011-100090</td>\n",
       "      <td>Ed Braxton</td>\n",
       "      <td>699</td>\n",
       "    </tr>\n",
       "    <tr>\n",
       "      <th>2</th>\n",
       "      <td>2011-03-14</td>\n",
       "      <td>CA-2011-100293</td>\n",
       "      <td>Neil Franz�sisch</td>\n",
       "      <td>91</td>\n",
       "    </tr>\n",
       "    <tr>\n",
       "      <th>3</th>\n",
       "      <td>2011-01-29</td>\n",
       "      <td>CA-2011-100328</td>\n",
       "      <td>Jasper Cacioppo</td>\n",
       "      <td>4</td>\n",
       "    </tr>\n",
       "    <tr>\n",
       "      <th>4</th>\n",
       "      <td>2011-04-08</td>\n",
       "      <td>CA-2011-100363</td>\n",
       "      <td>Jim Mitchum</td>\n",
       "      <td>21</td>\n",
       "    </tr>\n",
       "    <tr>\n",
       "      <th>...</th>\n",
       "      <td>...</td>\n",
       "      <td>...</td>\n",
       "      <td>...</td>\n",
       "      <td>...</td>\n",
       "    </tr>\n",
       "    <tr>\n",
       "      <th>5004</th>\n",
       "      <td>2014-11-04</td>\n",
       "      <td>US-2014-168802</td>\n",
       "      <td>Jack O'Briant</td>\n",
       "      <td>18</td>\n",
       "    </tr>\n",
       "    <tr>\n",
       "      <th>5005</th>\n",
       "      <td>2014-07-24</td>\n",
       "      <td>US-2014-169320</td>\n",
       "      <td>Lena Hernandez</td>\n",
       "      <td>171</td>\n",
       "    </tr>\n",
       "    <tr>\n",
       "      <th>5006</th>\n",
       "      <td>2014-09-08</td>\n",
       "      <td>US-2014-169488</td>\n",
       "      <td>Allen Armold</td>\n",
       "      <td>57</td>\n",
       "    </tr>\n",
       "    <tr>\n",
       "      <th>5007</th>\n",
       "      <td>2014-08-29</td>\n",
       "      <td>US-2014-169502</td>\n",
       "      <td>Matthew Grinstein</td>\n",
       "      <td>113</td>\n",
       "    </tr>\n",
       "    <tr>\n",
       "      <th>5008</th>\n",
       "      <td>2014-07-08</td>\n",
       "      <td>US-2014-169551</td>\n",
       "      <td>Rob Lucas</td>\n",
       "      <td>1345</td>\n",
       "    </tr>\n",
       "  </tbody>\n",
       "</table>\n",
       "<p>5009 rows × 4 columns</p>\n",
       "</div>"
      ],
      "text/plain": [
       "     order_date        order_id           customer  grand_total\n",
       "0    2011-09-07  CA-2011-100006        Dennis Kane          378\n",
       "1    2011-07-08  CA-2011-100090         Ed Braxton          699\n",
       "2    2011-03-14  CA-2011-100293   Neil Franz�sisch           91\n",
       "3    2011-01-29  CA-2011-100328    Jasper Cacioppo            4\n",
       "4    2011-04-08  CA-2011-100363        Jim Mitchum           21\n",
       "...         ...             ...                ...          ...\n",
       "5004 2014-11-04  US-2014-168802      Jack O'Briant           18\n",
       "5005 2014-07-24  US-2014-169320     Lena Hernandez          171\n",
       "5006 2014-09-08  US-2014-169488       Allen Armold           57\n",
       "5007 2014-08-29  US-2014-169502  Matthew Grinstein          113\n",
       "5008 2014-07-08  US-2014-169551          Rob Lucas         1345\n",
       "\n",
       "[5009 rows x 4 columns]"
      ]
     },
     "execution_count": 90,
     "metadata": {},
     "output_type": "execute_result"
    }
   ],
   "source": [
    "#Выведем таблицу\n",
    "df"
   ]
  },
  {
   "cell_type": "code",
   "execution_count": 108,
   "metadata": {},
   "outputs": [
    {
     "data": {
      "text/html": [
       "<div>\n",
       "<style scoped>\n",
       "    .dataframe tbody tr th:only-of-type {\n",
       "        vertical-align: middle;\n",
       "    }\n",
       "\n",
       "    .dataframe tbody tr th {\n",
       "        vertical-align: top;\n",
       "    }\n",
       "\n",
       "    .dataframe thead th {\n",
       "        text-align: right;\n",
       "    }\n",
       "</style>\n",
       "<table border=\"1\" class=\"dataframe\">\n",
       "  <thead>\n",
       "    <tr style=\"text-align: right;\">\n",
       "      <th></th>\n",
       "      <th>order_date</th>\n",
       "      <th>order_id</th>\n",
       "      <th>customer</th>\n",
       "      <th>grand_total</th>\n",
       "    </tr>\n",
       "  </thead>\n",
       "  <tbody>\n",
       "    <tr>\n",
       "      <th>703</th>\n",
       "      <td>2011-11-16</td>\n",
       "      <td>CA-2011-160066</td>\n",
       "      <td>Adam Hart</td>\n",
       "      <td>5</td>\n",
       "    </tr>\n",
       "    <tr>\n",
       "      <th>1606</th>\n",
       "      <td>2012-12-21</td>\n",
       "      <td>CA-2012-161795</td>\n",
       "      <td>Adam Hart</td>\n",
       "      <td>3</td>\n",
       "    </tr>\n",
       "    <tr>\n",
       "      <th>2371</th>\n",
       "      <td>2013-06-27</td>\n",
       "      <td>CA-2013-144015</td>\n",
       "      <td>Adam Hart</td>\n",
       "      <td>262</td>\n",
       "    </tr>\n",
       "    <tr>\n",
       "      <th>2429</th>\n",
       "      <td>2013-12-18</td>\n",
       "      <td>CA-2013-147109</td>\n",
       "      <td>Adam Hart</td>\n",
       "      <td>217</td>\n",
       "    </tr>\n",
       "    <tr>\n",
       "      <th>2473</th>\n",
       "      <td>2013-09-16</td>\n",
       "      <td>CA-2013-149797</td>\n",
       "      <td>Adam Hart</td>\n",
       "      <td>842</td>\n",
       "    </tr>\n",
       "    <tr>\n",
       "      <th>3045</th>\n",
       "      <td>2014-09-26</td>\n",
       "      <td>CA-2014-112004</td>\n",
       "      <td>Adam Hart</td>\n",
       "      <td>199</td>\n",
       "    </tr>\n",
       "    <tr>\n",
       "      <th>3175</th>\n",
       "      <td>2014-04-16</td>\n",
       "      <td>CA-2014-118857</td>\n",
       "      <td>Adam Hart</td>\n",
       "      <td>196</td>\n",
       "    </tr>\n",
       "    <tr>\n",
       "      <th>3315</th>\n",
       "      <td>2014-10-24</td>\n",
       "      <td>CA-2014-125451</td>\n",
       "      <td>Adam Hart</td>\n",
       "      <td>1170</td>\n",
       "    </tr>\n",
       "    <tr>\n",
       "      <th>3719</th>\n",
       "      <td>2014-05-20</td>\n",
       "      <td>CA-2014-145702</td>\n",
       "      <td>Adam Hart</td>\n",
       "      <td>342</td>\n",
       "    </tr>\n",
       "    <tr>\n",
       "      <th>4101</th>\n",
       "      <td>2014-11-27</td>\n",
       "      <td>CA-2014-165029</td>\n",
       "      <td>Adam Hart</td>\n",
       "      <td>13</td>\n",
       "    </tr>\n",
       "  </tbody>\n",
       "</table>\n",
       "</div>"
      ],
      "text/plain": [
       "     order_date        order_id   customer  grand_total\n",
       "703  2011-11-16  CA-2011-160066  Adam Hart            5\n",
       "1606 2012-12-21  CA-2012-161795  Adam Hart            3\n",
       "2371 2013-06-27  CA-2013-144015  Adam Hart          262\n",
       "2429 2013-12-18  CA-2013-147109  Adam Hart          217\n",
       "2473 2013-09-16  CA-2013-149797  Adam Hart          842\n",
       "3045 2014-09-26  CA-2014-112004  Adam Hart          199\n",
       "3175 2014-04-16  CA-2014-118857  Adam Hart          196\n",
       "3315 2014-10-24  CA-2014-125451  Adam Hart         1170\n",
       "3719 2014-05-20  CA-2014-145702  Adam Hart          342\n",
       "4101 2014-11-27  CA-2014-165029  Adam Hart           13"
      ]
     },
     "execution_count": 108,
     "metadata": {},
     "output_type": "execute_result"
    }
   ],
   "source": [
    "df[df['customer'] == 'Adam Hart']"
   ]
  },
  {
   "cell_type": "code",
   "execution_count": 91,
   "metadata": {},
   "outputs": [
    {
     "data": {
      "text/plain": [
       "Timestamp('2014-12-31 00:00:00')"
      ]
     },
     "execution_count": 91,
     "metadata": {},
     "output_type": "execute_result"
    }
   ],
   "source": [
    "#Найдем максимальное значение по дате\n",
    "df[\"order_date\"].max()"
   ]
  },
  {
   "cell_type": "code",
   "execution_count": 92,
   "metadata": {},
   "outputs": [
    {
     "data": {
      "text/plain": [
       "datetime.datetime(2014, 12, 31, 0, 0)"
      ]
     },
     "execution_count": 92,
     "metadata": {},
     "output_type": "execute_result"
    }
   ],
   "source": [
    "import datetime as dt\n",
    "NOW = dt.datetime(2014,12,31)\n",
    "NOW"
   ]
  },
  {
   "cell_type": "markdown",
   "metadata": {},
   "source": [
    "https://zen.yandex.ru/media/id/5a43516dad0f225975a9353c/chem-polezen-rfmanaliz--i-kak-ispolzovat-dannye-analiza--5d5c085aa98a2a00aef89144?utm_source=serp"
   ]
  },
  {
   "cell_type": "markdown",
   "metadata": {},
   "source": [
    "## groupby()"
   ]
  },
  {
   "cell_type": "code",
   "execution_count": 94,
   "metadata": {},
   "outputs": [
    {
     "data": {
      "text/plain": [
       "<pandas.core.groupby.generic.DataFrameGroupBy object at 0x0000020DDC507F08>"
      ]
     },
     "execution_count": 94,
     "metadata": {},
     "output_type": "execute_result"
    }
   ],
   "source": [
    "rfmTable = df.groupby('customer')\n",
    "rfmTable"
   ]
  },
  {
   "cell_type": "code",
   "execution_count": 95,
   "metadata": {},
   "outputs": [],
   "source": [
    "rfmTable = df.groupby('customer').agg({'order_date': lambda x: (NOW - x.max()).days, # Recency\n",
    "                                        'order_id': lambda x: len(x),      # Frequency\n",
    "                                        'grand_total': lambda x: x.sum()}) # Monetary Value\n",
    "\n"
   ]
  },
  {
   "cell_type": "code",
   "execution_count": 101,
   "metadata": {},
   "outputs": [
    {
     "data": {
      "text/html": [
       "<div>\n",
       "<style scoped>\n",
       "    .dataframe tbody tr th:only-of-type {\n",
       "        vertical-align: middle;\n",
       "    }\n",
       "\n",
       "    .dataframe tbody tr th {\n",
       "        vertical-align: top;\n",
       "    }\n",
       "\n",
       "    .dataframe thead th {\n",
       "        text-align: right;\n",
       "    }\n",
       "</style>\n",
       "<table border=\"1\" class=\"dataframe\">\n",
       "  <thead>\n",
       "    <tr style=\"text-align: right;\">\n",
       "      <th></th>\n",
       "      <th>recency</th>\n",
       "      <th>frequency</th>\n",
       "      <th>monetary_value</th>\n",
       "    </tr>\n",
       "    <tr>\n",
       "      <th>customer</th>\n",
       "      <th></th>\n",
       "      <th></th>\n",
       "      <th></th>\n",
       "    </tr>\n",
       "  </thead>\n",
       "  <tbody>\n",
       "    <tr>\n",
       "      <th>Aaron Bergman</th>\n",
       "      <td>415</td>\n",
       "      <td>3</td>\n",
       "      <td>887</td>\n",
       "    </tr>\n",
       "    <tr>\n",
       "      <th>Aaron Hawkins</th>\n",
       "      <td>12</td>\n",
       "      <td>7</td>\n",
       "      <td>1744</td>\n",
       "    </tr>\n",
       "    <tr>\n",
       "      <th>Aaron Smayling</th>\n",
       "      <td>88</td>\n",
       "      <td>7</td>\n",
       "      <td>3050</td>\n",
       "    </tr>\n",
       "    <tr>\n",
       "      <th>Adam Bellavance</th>\n",
       "      <td>54</td>\n",
       "      <td>8</td>\n",
       "      <td>7756</td>\n",
       "    </tr>\n",
       "    <tr>\n",
       "      <th>Adam Hart</th>\n",
       "      <td>34</td>\n",
       "      <td>10</td>\n",
       "      <td>3249</td>\n",
       "    </tr>\n",
       "    <tr>\n",
       "      <th>...</th>\n",
       "      <td>...</td>\n",
       "      <td>...</td>\n",
       "      <td>...</td>\n",
       "    </tr>\n",
       "    <tr>\n",
       "      <th>Xylona Preis</th>\n",
       "      <td>43</td>\n",
       "      <td>11</td>\n",
       "      <td>2375</td>\n",
       "    </tr>\n",
       "    <tr>\n",
       "      <th>Yana Sorensen</th>\n",
       "      <td>9</td>\n",
       "      <td>8</td>\n",
       "      <td>6721</td>\n",
       "    </tr>\n",
       "    <tr>\n",
       "      <th>Yoseph Carroll</th>\n",
       "      <td>4</td>\n",
       "      <td>5</td>\n",
       "      <td>5455</td>\n",
       "    </tr>\n",
       "    <tr>\n",
       "      <th>Zuschuss Carroll</th>\n",
       "      <td>54</td>\n",
       "      <td>13</td>\n",
       "      <td>8027</td>\n",
       "    </tr>\n",
       "    <tr>\n",
       "      <th>Zuschuss Donatelli</th>\n",
       "      <td>202</td>\n",
       "      <td>5</td>\n",
       "      <td>1494</td>\n",
       "    </tr>\n",
       "  </tbody>\n",
       "</table>\n",
       "<p>793 rows × 3 columns</p>\n",
       "</div>"
      ],
      "text/plain": [
       "                    recency  frequency  monetary_value\n",
       "customer                                              \n",
       "Aaron Bergman           415          3             887\n",
       "Aaron Hawkins            12          7            1744\n",
       "Aaron Smayling           88          7            3050\n",
       "Adam Bellavance          54          8            7756\n",
       "Adam Hart                34         10            3249\n",
       "...                     ...        ...             ...\n",
       "Xylona Preis             43         11            2375\n",
       "Yana Sorensen             9          8            6721\n",
       "Yoseph Carroll            4          5            5455\n",
       "Zuschuss Carroll         54         13            8027\n",
       "Zuschuss Donatelli      202          5            1494\n",
       "\n",
       "[793 rows x 3 columns]"
      ]
     },
     "execution_count": 101,
     "metadata": {},
     "output_type": "execute_result"
    }
   ],
   "source": [
    "rfmTable"
   ]
  },
  {
   "cell_type": "code",
   "execution_count": 97,
   "metadata": {},
   "outputs": [
    {
     "name": "stdout",
     "output_type": "stream",
     "text": [
      "<class 'pandas.core.frame.DataFrame'>\n",
      "Index: 793 entries, Aaron Bergman to Zuschuss Donatelli\n",
      "Data columns (total 3 columns):\n",
      " #   Column       Non-Null Count  Dtype\n",
      "---  ------       --------------  -----\n",
      " 0   order_date   793 non-null    int64\n",
      " 1   order_id     793 non-null    int64\n",
      " 2   grand_total  793 non-null    int64\n",
      "dtypes: int64(3)\n",
      "memory usage: 24.8+ KB\n"
     ]
    }
   ],
   "source": [
    "rfmTable.info()"
   ]
  },
  {
   "cell_type": "code",
   "execution_count": 100,
   "metadata": {},
   "outputs": [],
   "source": [
    "rfmTable['order_date'] = rfmTable['order_date'].astype(int)\n",
    "rfmTable.rename(columns={'order_date': 'recency', \n",
    "                         'order_id': 'frequency', \n",
    "                         'grand_total': 'monetary_value'}, inplace=True)"
   ]
  },
  {
   "cell_type": "code",
   "execution_count": 16,
   "metadata": {},
   "outputs": [],
   "source": [
    "#Что получилось?\n"
   ]
  },
  {
   "cell_type": "code",
   "execution_count": null,
   "metadata": {},
   "outputs": [],
   "source": []
  },
  {
   "cell_type": "code",
   "execution_count": null,
   "metadata": {},
   "outputs": [],
   "source": [
    "rfmTable.info()"
   ]
  },
  {
   "cell_type": "code",
   "execution_count": 113,
   "metadata": {},
   "outputs": [
    {
     "data": {
      "text/html": [
       "<div>\n",
       "<style scoped>\n",
       "    .dataframe tbody tr th:only-of-type {\n",
       "        vertical-align: middle;\n",
       "    }\n",
       "\n",
       "    .dataframe tbody tr th {\n",
       "        vertical-align: top;\n",
       "    }\n",
       "\n",
       "    .dataframe thead th {\n",
       "        text-align: right;\n",
       "    }\n",
       "</style>\n",
       "<table border=\"1\" class=\"dataframe\">\n",
       "  <thead>\n",
       "    <tr style=\"text-align: right;\">\n",
       "      <th></th>\n",
       "      <th>recency</th>\n",
       "      <th>frequency</th>\n",
       "      <th>monetary_value</th>\n",
       "    </tr>\n",
       "    <tr>\n",
       "      <th>customer</th>\n",
       "      <th></th>\n",
       "      <th></th>\n",
       "      <th></th>\n",
       "    </tr>\n",
       "  </thead>\n",
       "  <tbody>\n",
       "    <tr>\n",
       "      <th>Adam Hart</th>\n",
       "      <td>34</td>\n",
       "      <td>10</td>\n",
       "      <td>3249</td>\n",
       "    </tr>\n",
       "  </tbody>\n",
       "</table>\n",
       "</div>"
      ],
      "text/plain": [
       "           recency  frequency  monetary_value\n",
       "customer                                     \n",
       "Adam Hart       34         10            3249"
      ]
     },
     "execution_count": 113,
     "metadata": {},
     "output_type": "execute_result"
    }
   ],
   "source": [
    "\n",
    "rfmTable[rfmTable.index == 'Adam Hart'] "
   ]
  },
  {
   "cell_type": "code",
   "execution_count": 109,
   "metadata": {},
   "outputs": [
    {
     "data": {
      "text/plain": [
       "recency             34\n",
       "frequency           10\n",
       "monetary_value    3249\n",
       "Name: Adam Hart, dtype: int64"
      ]
     },
     "execution_count": 109,
     "metadata": {},
     "output_type": "execute_result"
    }
   ],
   "source": [
    "#Можно получить конкретное значение\n",
    "rfmTable.loc[\"Adam Hart\"]\n"
   ]
  },
  {
   "cell_type": "code",
   "execution_count": null,
   "metadata": {},
   "outputs": [],
   "source": []
  },
  {
   "cell_type": "code",
   "execution_count": null,
   "metadata": {},
   "outputs": [],
   "source": []
  },
  {
   "cell_type": "code",
   "execution_count": null,
   "metadata": {},
   "outputs": [],
   "source": []
  },
  {
   "cell_type": "code",
   "execution_count": null,
   "metadata": {},
   "outputs": [],
   "source": []
  },
  {
   "cell_type": "markdown",
   "metadata": {},
   "source": [
    "## Слияние таблиц"
   ]
  },
  {
   "cell_type": "code",
   "execution_count": 110,
   "metadata": {},
   "outputs": [],
   "source": [
    "rfm = df.merge(rfmTable, on = 'customer')\n"
   ]
  },
  {
   "cell_type": "code",
   "execution_count": 111,
   "metadata": {},
   "outputs": [
    {
     "data": {
      "text/html": [
       "<div>\n",
       "<style scoped>\n",
       "    .dataframe tbody tr th:only-of-type {\n",
       "        vertical-align: middle;\n",
       "    }\n",
       "\n",
       "    .dataframe tbody tr th {\n",
       "        vertical-align: top;\n",
       "    }\n",
       "\n",
       "    .dataframe thead th {\n",
       "        text-align: right;\n",
       "    }\n",
       "</style>\n",
       "<table border=\"1\" class=\"dataframe\">\n",
       "  <thead>\n",
       "    <tr style=\"text-align: right;\">\n",
       "      <th></th>\n",
       "      <th>order_date</th>\n",
       "      <th>order_id</th>\n",
       "      <th>customer</th>\n",
       "      <th>grand_total</th>\n",
       "      <th>recency</th>\n",
       "      <th>frequency</th>\n",
       "      <th>monetary_value</th>\n",
       "    </tr>\n",
       "  </thead>\n",
       "  <tbody>\n",
       "    <tr>\n",
       "      <th>0</th>\n",
       "      <td>2011-09-07</td>\n",
       "      <td>CA-2011-100006</td>\n",
       "      <td>Dennis Kane</td>\n",
       "      <td>378</td>\n",
       "      <td>19</td>\n",
       "      <td>8</td>\n",
       "      <td>3317</td>\n",
       "    </tr>\n",
       "    <tr>\n",
       "      <th>1</th>\n",
       "      <td>2012-12-06</td>\n",
       "      <td>CA-2012-131884</td>\n",
       "      <td>Dennis Kane</td>\n",
       "      <td>594</td>\n",
       "      <td>19</td>\n",
       "      <td>8</td>\n",
       "      <td>3317</td>\n",
       "    </tr>\n",
       "    <tr>\n",
       "      <th>2</th>\n",
       "      <td>2012-12-12</td>\n",
       "      <td>CA-2012-145065</td>\n",
       "      <td>Dennis Kane</td>\n",
       "      <td>32</td>\n",
       "      <td>19</td>\n",
       "      <td>8</td>\n",
       "      <td>3317</td>\n",
       "    </tr>\n",
       "    <tr>\n",
       "      <th>3</th>\n",
       "      <td>2014-07-28</td>\n",
       "      <td>CA-2014-133046</td>\n",
       "      <td>Dennis Kane</td>\n",
       "      <td>298</td>\n",
       "      <td>19</td>\n",
       "      <td>8</td>\n",
       "      <td>3317</td>\n",
       "    </tr>\n",
       "    <tr>\n",
       "      <th>4</th>\n",
       "      <td>2014-12-12</td>\n",
       "      <td>CA-2014-165099</td>\n",
       "      <td>Dennis Kane</td>\n",
       "      <td>1</td>\n",
       "      <td>19</td>\n",
       "      <td>8</td>\n",
       "      <td>3317</td>\n",
       "    </tr>\n",
       "    <tr>\n",
       "      <th>...</th>\n",
       "      <td>...</td>\n",
       "      <td>...</td>\n",
       "      <td>...</td>\n",
       "      <td>...</td>\n",
       "      <td>...</td>\n",
       "      <td>...</td>\n",
       "      <td>...</td>\n",
       "    </tr>\n",
       "    <tr>\n",
       "      <th>5004</th>\n",
       "      <td>2014-03-07</td>\n",
       "      <td>CA-2014-168193</td>\n",
       "      <td>Roland Murray</td>\n",
       "      <td>98</td>\n",
       "      <td>299</td>\n",
       "      <td>1</td>\n",
       "      <td>98</td>\n",
       "    </tr>\n",
       "    <tr>\n",
       "      <th>5005</th>\n",
       "      <td>2012-04-02</td>\n",
       "      <td>US-2012-122140</td>\n",
       "      <td>Michael Oakman</td>\n",
       "      <td>130</td>\n",
       "      <td>180</td>\n",
       "      <td>2</td>\n",
       "      <td>154</td>\n",
       "    </tr>\n",
       "    <tr>\n",
       "      <th>5006</th>\n",
       "      <td>2014-07-04</td>\n",
       "      <td>US-2014-166233</td>\n",
       "      <td>Michael Oakman</td>\n",
       "      <td>24</td>\n",
       "      <td>180</td>\n",
       "      <td>2</td>\n",
       "      <td>154</td>\n",
       "    </tr>\n",
       "    <tr>\n",
       "      <th>5007</th>\n",
       "      <td>2012-07-19</td>\n",
       "      <td>US-2012-160150</td>\n",
       "      <td>Thais Sissman</td>\n",
       "      <td>2</td>\n",
       "      <td>357</td>\n",
       "      <td>2</td>\n",
       "      <td>5</td>\n",
       "    </tr>\n",
       "    <tr>\n",
       "      <th>5008</th>\n",
       "      <td>2014-01-08</td>\n",
       "      <td>US-2014-168690</td>\n",
       "      <td>Thais Sissman</td>\n",
       "      <td>3</td>\n",
       "      <td>357</td>\n",
       "      <td>2</td>\n",
       "      <td>5</td>\n",
       "    </tr>\n",
       "  </tbody>\n",
       "</table>\n",
       "<p>5009 rows × 7 columns</p>\n",
       "</div>"
      ],
      "text/plain": [
       "     order_date        order_id        customer  grand_total  recency  \\\n",
       "0    2011-09-07  CA-2011-100006     Dennis Kane          378       19   \n",
       "1    2012-12-06  CA-2012-131884     Dennis Kane          594       19   \n",
       "2    2012-12-12  CA-2012-145065     Dennis Kane           32       19   \n",
       "3    2014-07-28  CA-2014-133046     Dennis Kane          298       19   \n",
       "4    2014-12-12  CA-2014-165099     Dennis Kane            1       19   \n",
       "...         ...             ...             ...          ...      ...   \n",
       "5004 2014-03-07  CA-2014-168193   Roland Murray           98      299   \n",
       "5005 2012-04-02  US-2012-122140  Michael Oakman          130      180   \n",
       "5006 2014-07-04  US-2014-166233  Michael Oakman           24      180   \n",
       "5007 2012-07-19  US-2012-160150   Thais Sissman            2      357   \n",
       "5008 2014-01-08  US-2014-168690   Thais Sissman            3      357   \n",
       "\n",
       "      frequency  monetary_value  \n",
       "0             8            3317  \n",
       "1             8            3317  \n",
       "2             8            3317  \n",
       "3             8            3317  \n",
       "4             8            3317  \n",
       "...         ...             ...  \n",
       "5004          1              98  \n",
       "5005          2             154  \n",
       "5006          2             154  \n",
       "5007          2               5  \n",
       "5008          2               5  \n",
       "\n",
       "[5009 rows x 7 columns]"
      ]
     },
     "execution_count": 111,
     "metadata": {},
     "output_type": "execute_result"
    }
   ],
   "source": [
    "rfm"
   ]
  },
  {
   "cell_type": "markdown",
   "metadata": {},
   "source": [
    "## pivot_table()"
   ]
  },
  {
   "cell_type": "code",
   "execution_count": 114,
   "metadata": {},
   "outputs": [
    {
     "data": {
      "text/html": [
       "<div>\n",
       "<style scoped>\n",
       "    .dataframe tbody tr th:only-of-type {\n",
       "        vertical-align: middle;\n",
       "    }\n",
       "\n",
       "    .dataframe tbody tr th {\n",
       "        vertical-align: top;\n",
       "    }\n",
       "\n",
       "    .dataframe thead th {\n",
       "        text-align: right;\n",
       "    }\n",
       "</style>\n",
       "<table border=\"1\" class=\"dataframe\">\n",
       "  <thead>\n",
       "    <tr style=\"text-align: right;\">\n",
       "      <th></th>\n",
       "      <th>monetary_value</th>\n",
       "    </tr>\n",
       "    <tr>\n",
       "      <th>frequency</th>\n",
       "      <th></th>\n",
       "    </tr>\n",
       "  </thead>\n",
       "  <tbody>\n",
       "    <tr>\n",
       "      <th>1</th>\n",
       "      <td>430.583333</td>\n",
       "    </tr>\n",
       "    <tr>\n",
       "      <th>2</th>\n",
       "      <td>780.088235</td>\n",
       "    </tr>\n",
       "    <tr>\n",
       "      <th>3</th>\n",
       "      <td>1366.226415</td>\n",
       "    </tr>\n",
       "    <tr>\n",
       "      <th>4</th>\n",
       "      <td>1819.197917</td>\n",
       "    </tr>\n",
       "    <tr>\n",
       "      <th>5</th>\n",
       "      <td>2517.626866</td>\n",
       "    </tr>\n",
       "    <tr>\n",
       "      <th>6</th>\n",
       "      <td>2784.897196</td>\n",
       "    </tr>\n",
       "    <tr>\n",
       "      <th>7</th>\n",
       "      <td>3426.465517</td>\n",
       "    </tr>\n",
       "    <tr>\n",
       "      <th>8</th>\n",
       "      <td>3605.219512</td>\n",
       "    </tr>\n",
       "    <tr>\n",
       "      <th>9</th>\n",
       "      <td>3462.957746</td>\n",
       "    </tr>\n",
       "    <tr>\n",
       "      <th>10</th>\n",
       "      <td>4374.717949</td>\n",
       "    </tr>\n",
       "    <tr>\n",
       "      <th>11</th>\n",
       "      <td>5506.739130</td>\n",
       "    </tr>\n",
       "    <tr>\n",
       "      <th>12</th>\n",
       "      <td>6178.000000</td>\n",
       "    </tr>\n",
       "    <tr>\n",
       "      <th>13</th>\n",
       "      <td>4321.714286</td>\n",
       "    </tr>\n",
       "    <tr>\n",
       "      <th>17</th>\n",
       "      <td>5479.000000</td>\n",
       "    </tr>\n",
       "  </tbody>\n",
       "</table>\n",
       "</div>"
      ],
      "text/plain": [
       "           monetary_value\n",
       "frequency                \n",
       "1              430.583333\n",
       "2              780.088235\n",
       "3             1366.226415\n",
       "4             1819.197917\n",
       "5             2517.626866\n",
       "6             2784.897196\n",
       "7             3426.465517\n",
       "8             3605.219512\n",
       "9             3462.957746\n",
       "10            4374.717949\n",
       "11            5506.739130\n",
       "12            6178.000000\n",
       "13            4321.714286\n",
       "17            5479.000000"
      ]
     },
     "execution_count": 114,
     "metadata": {},
     "output_type": "execute_result"
    }
   ],
   "source": [
    "# Считаем среднее значение потраченной суммы по сегментам\n",
    "rfm.pivot_table(values = 'monetary_value', index = 'frequency', aggfunc = 'mean')"
   ]
  },
  {
   "cell_type": "code",
   "execution_count": 115,
   "metadata": {},
   "outputs": [
    {
     "data": {
      "text/html": [
       "<div>\n",
       "<style scoped>\n",
       "    .dataframe tbody tr th:only-of-type {\n",
       "        vertical-align: middle;\n",
       "    }\n",
       "\n",
       "    .dataframe tbody tr th {\n",
       "        vertical-align: top;\n",
       "    }\n",
       "\n",
       "    .dataframe thead tr th {\n",
       "        text-align: left;\n",
       "    }\n",
       "\n",
       "    .dataframe thead tr:last-of-type th {\n",
       "        text-align: right;\n",
       "    }\n",
       "</style>\n",
       "<table border=\"1\" class=\"dataframe\">\n",
       "  <thead>\n",
       "    <tr>\n",
       "      <th></th>\n",
       "      <th>min</th>\n",
       "      <th>mean</th>\n",
       "      <th>max</th>\n",
       "    </tr>\n",
       "    <tr>\n",
       "      <th></th>\n",
       "      <th>monetary_value</th>\n",
       "      <th>monetary_value</th>\n",
       "      <th>monetary_value</th>\n",
       "    </tr>\n",
       "    <tr>\n",
       "      <th>frequency</th>\n",
       "      <th></th>\n",
       "      <th></th>\n",
       "      <th></th>\n",
       "    </tr>\n",
       "  </thead>\n",
       "  <tbody>\n",
       "    <tr>\n",
       "      <th>1</th>\n",
       "      <td>5</td>\n",
       "      <td>430.583333</td>\n",
       "      <td>1058</td>\n",
       "    </tr>\n",
       "    <tr>\n",
       "      <th>2</th>\n",
       "      <td>5</td>\n",
       "      <td>780.088235</td>\n",
       "      <td>5254</td>\n",
       "    </tr>\n",
       "    <tr>\n",
       "      <th>3</th>\n",
       "      <td>49</td>\n",
       "      <td>1366.226415</td>\n",
       "      <td>9350</td>\n",
       "    </tr>\n",
       "    <tr>\n",
       "      <th>4</th>\n",
       "      <td>72</td>\n",
       "      <td>1819.197917</td>\n",
       "      <td>14595</td>\n",
       "    </tr>\n",
       "    <tr>\n",
       "      <th>5</th>\n",
       "      <td>201</td>\n",
       "      <td>2517.626866</td>\n",
       "      <td>25042</td>\n",
       "    </tr>\n",
       "    <tr>\n",
       "      <th>6</th>\n",
       "      <td>269</td>\n",
       "      <td>2784.897196</td>\n",
       "      <td>15117</td>\n",
       "    </tr>\n",
       "    <tr>\n",
       "      <th>7</th>\n",
       "      <td>432</td>\n",
       "      <td>3426.465517</td>\n",
       "      <td>10605</td>\n",
       "    </tr>\n",
       "    <tr>\n",
       "      <th>8</th>\n",
       "      <td>684</td>\n",
       "      <td>3605.219512</td>\n",
       "      <td>11166</td>\n",
       "    </tr>\n",
       "    <tr>\n",
       "      <th>9</th>\n",
       "      <td>775</td>\n",
       "      <td>3462.957746</td>\n",
       "      <td>14143</td>\n",
       "    </tr>\n",
       "    <tr>\n",
       "      <th>10</th>\n",
       "      <td>1255</td>\n",
       "      <td>4374.717949</td>\n",
       "      <td>14474</td>\n",
       "    </tr>\n",
       "    <tr>\n",
       "      <th>11</th>\n",
       "      <td>1082</td>\n",
       "      <td>5506.739130</td>\n",
       "      <td>12210</td>\n",
       "    </tr>\n",
       "    <tr>\n",
       "      <th>12</th>\n",
       "      <td>2441</td>\n",
       "      <td>6178.000000</td>\n",
       "      <td>14174</td>\n",
       "    </tr>\n",
       "    <tr>\n",
       "      <th>13</th>\n",
       "      <td>2847</td>\n",
       "      <td>4321.714286</td>\n",
       "      <td>8027</td>\n",
       "    </tr>\n",
       "    <tr>\n",
       "      <th>17</th>\n",
       "      <td>5479</td>\n",
       "      <td>5479.000000</td>\n",
       "      <td>5479</td>\n",
       "    </tr>\n",
       "  </tbody>\n",
       "</table>\n",
       "</div>"
      ],
      "text/plain": [
       "                     min           mean            max\n",
       "          monetary_value monetary_value monetary_value\n",
       "frequency                                             \n",
       "1                      5     430.583333           1058\n",
       "2                      5     780.088235           5254\n",
       "3                     49    1366.226415           9350\n",
       "4                     72    1819.197917          14595\n",
       "5                    201    2517.626866          25042\n",
       "6                    269    2784.897196          15117\n",
       "7                    432    3426.465517          10605\n",
       "8                    684    3605.219512          11166\n",
       "9                    775    3462.957746          14143\n",
       "10                  1255    4374.717949          14474\n",
       "11                  1082    5506.739130          12210\n",
       "12                  2441    6178.000000          14174\n",
       "13                  2847    4321.714286           8027\n",
       "17                  5479    5479.000000           5479"
      ]
     },
     "execution_count": 115,
     "metadata": {},
     "output_type": "execute_result"
    }
   ],
   "source": [
    "rfm.pivot_table(values = 'monetary_value', index = 'frequency', aggfunc = [\"min\", 'mean', \"max\"])"
   ]
  },
  {
   "cell_type": "code",
   "execution_count": 116,
   "metadata": {},
   "outputs": [
    {
     "data": {
      "text/html": [
       "<div>\n",
       "<style scoped>\n",
       "    .dataframe tbody tr th:only-of-type {\n",
       "        vertical-align: middle;\n",
       "    }\n",
       "\n",
       "    .dataframe tbody tr th {\n",
       "        vertical-align: top;\n",
       "    }\n",
       "\n",
       "    .dataframe thead th {\n",
       "        text-align: right;\n",
       "    }\n",
       "</style>\n",
       "<table border=\"1\" class=\"dataframe\">\n",
       "  <thead>\n",
       "    <tr style=\"text-align: right;\">\n",
       "      <th></th>\n",
       "      <th>min</th>\n",
       "      <th>mean</th>\n",
       "      <th>max</th>\n",
       "    </tr>\n",
       "    <tr>\n",
       "      <th>frequency</th>\n",
       "      <th></th>\n",
       "      <th></th>\n",
       "      <th></th>\n",
       "    </tr>\n",
       "  </thead>\n",
       "  <tbody>\n",
       "    <tr>\n",
       "      <th>1</th>\n",
       "      <td>5</td>\n",
       "      <td>430.583333</td>\n",
       "      <td>1058</td>\n",
       "    </tr>\n",
       "    <tr>\n",
       "      <th>2</th>\n",
       "      <td>5</td>\n",
       "      <td>780.088235</td>\n",
       "      <td>5254</td>\n",
       "    </tr>\n",
       "    <tr>\n",
       "      <th>3</th>\n",
       "      <td>49</td>\n",
       "      <td>1366.226415</td>\n",
       "      <td>9350</td>\n",
       "    </tr>\n",
       "    <tr>\n",
       "      <th>4</th>\n",
       "      <td>72</td>\n",
       "      <td>1819.197917</td>\n",
       "      <td>14595</td>\n",
       "    </tr>\n",
       "    <tr>\n",
       "      <th>5</th>\n",
       "      <td>201</td>\n",
       "      <td>2517.626866</td>\n",
       "      <td>25042</td>\n",
       "    </tr>\n",
       "    <tr>\n",
       "      <th>6</th>\n",
       "      <td>269</td>\n",
       "      <td>2784.897196</td>\n",
       "      <td>15117</td>\n",
       "    </tr>\n",
       "    <tr>\n",
       "      <th>7</th>\n",
       "      <td>432</td>\n",
       "      <td>3426.465517</td>\n",
       "      <td>10605</td>\n",
       "    </tr>\n",
       "    <tr>\n",
       "      <th>8</th>\n",
       "      <td>684</td>\n",
       "      <td>3605.219512</td>\n",
       "      <td>11166</td>\n",
       "    </tr>\n",
       "    <tr>\n",
       "      <th>9</th>\n",
       "      <td>775</td>\n",
       "      <td>3462.957746</td>\n",
       "      <td>14143</td>\n",
       "    </tr>\n",
       "    <tr>\n",
       "      <th>10</th>\n",
       "      <td>1255</td>\n",
       "      <td>4374.717949</td>\n",
       "      <td>14474</td>\n",
       "    </tr>\n",
       "    <tr>\n",
       "      <th>11</th>\n",
       "      <td>1082</td>\n",
       "      <td>5506.739130</td>\n",
       "      <td>12210</td>\n",
       "    </tr>\n",
       "    <tr>\n",
       "      <th>12</th>\n",
       "      <td>2441</td>\n",
       "      <td>6178.000000</td>\n",
       "      <td>14174</td>\n",
       "    </tr>\n",
       "    <tr>\n",
       "      <th>13</th>\n",
       "      <td>2847</td>\n",
       "      <td>4321.714286</td>\n",
       "      <td>8027</td>\n",
       "    </tr>\n",
       "    <tr>\n",
       "      <th>17</th>\n",
       "      <td>5479</td>\n",
       "      <td>5479.000000</td>\n",
       "      <td>5479</td>\n",
       "    </tr>\n",
       "  </tbody>\n",
       "</table>\n",
       "</div>"
      ],
      "text/plain": [
       "            min         mean    max\n",
       "frequency                          \n",
       "1             5   430.583333   1058\n",
       "2             5   780.088235   5254\n",
       "3            49  1366.226415   9350\n",
       "4            72  1819.197917  14595\n",
       "5           201  2517.626866  25042\n",
       "6           269  2784.897196  15117\n",
       "7           432  3426.465517  10605\n",
       "8           684  3605.219512  11166\n",
       "9           775  3462.957746  14143\n",
       "10         1255  4374.717949  14474\n",
       "11         1082  5506.739130  12210\n",
       "12         2441  6178.000000  14174\n",
       "13         2847  4321.714286   8027\n",
       "17         5479  5479.000000   5479"
      ]
     },
     "execution_count": 116,
     "metadata": {},
     "output_type": "execute_result"
    }
   ],
   "source": [
    "# Считаем минимальную, среднюю и максимальную сумму покупки в зависимости от группы по R\n",
    "rfm.groupby(by = 'frequency')['monetary_value'].agg(['min', 'mean', 'max'])"
   ]
  },
  {
   "cell_type": "markdown",
   "metadata": {},
   "source": [
    "## Определение RFM Quartiles"
   ]
  },
  {
   "cell_type": "code",
   "execution_count": null,
   "metadata": {},
   "outputs": [],
   "source": []
  },
  {
   "cell_type": "code",
   "execution_count": 118,
   "metadata": {},
   "outputs": [
    {
     "data": {
      "text/html": [
       "<div>\n",
       "<style scoped>\n",
       "    .dataframe tbody tr th:only-of-type {\n",
       "        vertical-align: middle;\n",
       "    }\n",
       "\n",
       "    .dataframe tbody tr th {\n",
       "        vertical-align: top;\n",
       "    }\n",
       "\n",
       "    .dataframe thead th {\n",
       "        text-align: right;\n",
       "    }\n",
       "</style>\n",
       "<table border=\"1\" class=\"dataframe\">\n",
       "  <thead>\n",
       "    <tr style=\"text-align: right;\">\n",
       "      <th></th>\n",
       "      <th>recency</th>\n",
       "      <th>frequency</th>\n",
       "      <th>monetary_value</th>\n",
       "    </tr>\n",
       "  </thead>\n",
       "  <tbody>\n",
       "    <tr>\n",
       "      <th>0.25</th>\n",
       "      <td>30.0</td>\n",
       "      <td>5.0</td>\n",
       "      <td>1145.0</td>\n",
       "    </tr>\n",
       "    <tr>\n",
       "      <th>0.50</th>\n",
       "      <td>75.0</td>\n",
       "      <td>6.0</td>\n",
       "      <td>2257.0</td>\n",
       "    </tr>\n",
       "    <tr>\n",
       "      <th>0.75</th>\n",
       "      <td>183.0</td>\n",
       "      <td>8.0</td>\n",
       "      <td>3784.0</td>\n",
       "    </tr>\n",
       "  </tbody>\n",
       "</table>\n",
       "</div>"
      ],
      "text/plain": [
       "      recency  frequency  monetary_value\n",
       "0.25     30.0        5.0          1145.0\n",
       "0.50     75.0        6.0          2257.0\n",
       "0.75    183.0        8.0          3784.0"
      ]
     },
     "execution_count": 118,
     "metadata": {},
     "output_type": "execute_result"
    }
   ],
   "source": [
    "\n",
    "quantiles = rfmTable.quantile(q=[0.25,0.5,0.75])\n",
    "quantiles"
   ]
  },
  {
   "cell_type": "markdown",
   "metadata": {},
   "source": [
    "## Creating the RFM segmentation table"
   ]
  },
  {
   "cell_type": "code",
   "execution_count": 120,
   "metadata": {},
   "outputs": [],
   "source": [
    "# Arguments (x = value, p = recency, monetary_value, frequency, k = quartiles dict)\n",
    "def RClass(x,p,d):\n",
    "    if x <= d[p][0.25]:\n",
    "        return 1\n",
    "    elif x <= d[p][0.50]:\n",
    "        return 2\n",
    "    elif x <= d[p][0.75]: \n",
    "        return 3\n",
    "    else:\n",
    "        return 4\n",
    "    \n",
    "# Arguments (x = value, p = recency, monetary_value, frequency, k = quartiles dict)\n",
    "def FMClass(x,p,d):\n",
    "    if x <= d[p][0.25]:\n",
    "        return 4\n",
    "    elif x <= d[p][0.50]:\n",
    "        return 3\n",
    "    elif x <= d[p][0.75]: \n",
    "        return 2\n",
    "    else:\n",
    "        return 1\n",
    "\n",
    "    "
   ]
  },
  {
   "cell_type": "code",
   "execution_count": 122,
   "metadata": {},
   "outputs": [],
   "source": [
    "rfm['R_Quartile'] = rfm['recency'].apply(RClass, args=('recency',quantiles,))\n",
    "rfm['F_Quartile'] = rfm['frequency'].apply(FMClass, args=('frequency',quantiles,))\n",
    "rfm['M_Quartile'] = rfm['monetary_value'].apply(FMClass, args=('monetary_value',quantiles,))"
   ]
  },
  {
   "cell_type": "code",
   "execution_count": 132,
   "metadata": {},
   "outputs": [
    {
     "data": {
      "text/html": [
       "<div>\n",
       "<style scoped>\n",
       "    .dataframe tbody tr th:only-of-type {\n",
       "        vertical-align: middle;\n",
       "    }\n",
       "\n",
       "    .dataframe tbody tr th {\n",
       "        vertical-align: top;\n",
       "    }\n",
       "\n",
       "    .dataframe thead th {\n",
       "        text-align: right;\n",
       "    }\n",
       "</style>\n",
       "<table border=\"1\" class=\"dataframe\">\n",
       "  <thead>\n",
       "    <tr style=\"text-align: right;\">\n",
       "      <th></th>\n",
       "      <th>order_date</th>\n",
       "      <th>order_id</th>\n",
       "      <th>customer</th>\n",
       "      <th>grand_total</th>\n",
       "      <th>recency</th>\n",
       "      <th>frequency</th>\n",
       "      <th>monetary_value</th>\n",
       "      <th>R_Quartile</th>\n",
       "      <th>F_Quartile</th>\n",
       "      <th>M_Quartile</th>\n",
       "      <th>RFMClass</th>\n",
       "    </tr>\n",
       "  </thead>\n",
       "  <tbody>\n",
       "    <tr>\n",
       "      <th>0</th>\n",
       "      <td>2011-09-07</td>\n",
       "      <td>CA-2011-100006</td>\n",
       "      <td>Dennis Kane</td>\n",
       "      <td>378</td>\n",
       "      <td>19</td>\n",
       "      <td>8</td>\n",
       "      <td>3317</td>\n",
       "      <td>1</td>\n",
       "      <td>2</td>\n",
       "      <td>2</td>\n",
       "      <td>122</td>\n",
       "    </tr>\n",
       "    <tr>\n",
       "      <th>1</th>\n",
       "      <td>2012-12-06</td>\n",
       "      <td>CA-2012-131884</td>\n",
       "      <td>Dennis Kane</td>\n",
       "      <td>594</td>\n",
       "      <td>19</td>\n",
       "      <td>8</td>\n",
       "      <td>3317</td>\n",
       "      <td>1</td>\n",
       "      <td>2</td>\n",
       "      <td>2</td>\n",
       "      <td>122</td>\n",
       "    </tr>\n",
       "    <tr>\n",
       "      <th>2</th>\n",
       "      <td>2012-12-12</td>\n",
       "      <td>CA-2012-145065</td>\n",
       "      <td>Dennis Kane</td>\n",
       "      <td>32</td>\n",
       "      <td>19</td>\n",
       "      <td>8</td>\n",
       "      <td>3317</td>\n",
       "      <td>1</td>\n",
       "      <td>2</td>\n",
       "      <td>2</td>\n",
       "      <td>122</td>\n",
       "    </tr>\n",
       "    <tr>\n",
       "      <th>3</th>\n",
       "      <td>2014-07-28</td>\n",
       "      <td>CA-2014-133046</td>\n",
       "      <td>Dennis Kane</td>\n",
       "      <td>298</td>\n",
       "      <td>19</td>\n",
       "      <td>8</td>\n",
       "      <td>3317</td>\n",
       "      <td>1</td>\n",
       "      <td>2</td>\n",
       "      <td>2</td>\n",
       "      <td>122</td>\n",
       "    </tr>\n",
       "    <tr>\n",
       "      <th>4</th>\n",
       "      <td>2014-12-12</td>\n",
       "      <td>CA-2014-165099</td>\n",
       "      <td>Dennis Kane</td>\n",
       "      <td>1</td>\n",
       "      <td>19</td>\n",
       "      <td>8</td>\n",
       "      <td>3317</td>\n",
       "      <td>1</td>\n",
       "      <td>2</td>\n",
       "      <td>2</td>\n",
       "      <td>122</td>\n",
       "    </tr>\n",
       "    <tr>\n",
       "      <th>...</th>\n",
       "      <td>...</td>\n",
       "      <td>...</td>\n",
       "      <td>...</td>\n",
       "      <td>...</td>\n",
       "      <td>...</td>\n",
       "      <td>...</td>\n",
       "      <td>...</td>\n",
       "      <td>...</td>\n",
       "      <td>...</td>\n",
       "      <td>...</td>\n",
       "      <td>...</td>\n",
       "    </tr>\n",
       "    <tr>\n",
       "      <th>5004</th>\n",
       "      <td>2014-03-07</td>\n",
       "      <td>CA-2014-168193</td>\n",
       "      <td>Roland Murray</td>\n",
       "      <td>98</td>\n",
       "      <td>299</td>\n",
       "      <td>1</td>\n",
       "      <td>98</td>\n",
       "      <td>4</td>\n",
       "      <td>4</td>\n",
       "      <td>4</td>\n",
       "      <td>444</td>\n",
       "    </tr>\n",
       "    <tr>\n",
       "      <th>5005</th>\n",
       "      <td>2012-04-02</td>\n",
       "      <td>US-2012-122140</td>\n",
       "      <td>Michael Oakman</td>\n",
       "      <td>130</td>\n",
       "      <td>180</td>\n",
       "      <td>2</td>\n",
       "      <td>154</td>\n",
       "      <td>3</td>\n",
       "      <td>4</td>\n",
       "      <td>4</td>\n",
       "      <td>344</td>\n",
       "    </tr>\n",
       "    <tr>\n",
       "      <th>5006</th>\n",
       "      <td>2014-07-04</td>\n",
       "      <td>US-2014-166233</td>\n",
       "      <td>Michael Oakman</td>\n",
       "      <td>24</td>\n",
       "      <td>180</td>\n",
       "      <td>2</td>\n",
       "      <td>154</td>\n",
       "      <td>3</td>\n",
       "      <td>4</td>\n",
       "      <td>4</td>\n",
       "      <td>344</td>\n",
       "    </tr>\n",
       "    <tr>\n",
       "      <th>5007</th>\n",
       "      <td>2012-07-19</td>\n",
       "      <td>US-2012-160150</td>\n",
       "      <td>Thais Sissman</td>\n",
       "      <td>2</td>\n",
       "      <td>357</td>\n",
       "      <td>2</td>\n",
       "      <td>5</td>\n",
       "      <td>4</td>\n",
       "      <td>4</td>\n",
       "      <td>4</td>\n",
       "      <td>444</td>\n",
       "    </tr>\n",
       "    <tr>\n",
       "      <th>5008</th>\n",
       "      <td>2014-01-08</td>\n",
       "      <td>US-2014-168690</td>\n",
       "      <td>Thais Sissman</td>\n",
       "      <td>3</td>\n",
       "      <td>357</td>\n",
       "      <td>2</td>\n",
       "      <td>5</td>\n",
       "      <td>4</td>\n",
       "      <td>4</td>\n",
       "      <td>4</td>\n",
       "      <td>444</td>\n",
       "    </tr>\n",
       "  </tbody>\n",
       "</table>\n",
       "<p>5009 rows × 11 columns</p>\n",
       "</div>"
      ],
      "text/plain": [
       "     order_date        order_id        customer  grand_total  recency  \\\n",
       "0    2011-09-07  CA-2011-100006     Dennis Kane          378       19   \n",
       "1    2012-12-06  CA-2012-131884     Dennis Kane          594       19   \n",
       "2    2012-12-12  CA-2012-145065     Dennis Kane           32       19   \n",
       "3    2014-07-28  CA-2014-133046     Dennis Kane          298       19   \n",
       "4    2014-12-12  CA-2014-165099     Dennis Kane            1       19   \n",
       "...         ...             ...             ...          ...      ...   \n",
       "5004 2014-03-07  CA-2014-168193   Roland Murray           98      299   \n",
       "5005 2012-04-02  US-2012-122140  Michael Oakman          130      180   \n",
       "5006 2014-07-04  US-2014-166233  Michael Oakman           24      180   \n",
       "5007 2012-07-19  US-2012-160150   Thais Sissman            2      357   \n",
       "5008 2014-01-08  US-2014-168690   Thais Sissman            3      357   \n",
       "\n",
       "      frequency  monetary_value  R_Quartile  F_Quartile  M_Quartile RFMClass  \n",
       "0             8            3317           1           2           2      122  \n",
       "1             8            3317           1           2           2      122  \n",
       "2             8            3317           1           2           2      122  \n",
       "3             8            3317           1           2           2      122  \n",
       "4             8            3317           1           2           2      122  \n",
       "...         ...             ...         ...         ...         ...      ...  \n",
       "5004          1              98           4           4           4      444  \n",
       "5005          2             154           3           4           4      344  \n",
       "5006          2             154           3           4           4      344  \n",
       "5007          2               5           4           4           4      444  \n",
       "5008          2               5           4           4           4      444  \n",
       "\n",
       "[5009 rows x 11 columns]"
      ]
     },
     "execution_count": 132,
     "metadata": {},
     "output_type": "execute_result"
    }
   ],
   "source": [
    "rfm"
   ]
  },
  {
   "cell_type": "code",
   "execution_count": 131,
   "metadata": {},
   "outputs": [],
   "source": [
    "\n",
    "rfm['RFMClass'] = rfm.R_Quartile.map(str) \\\n",
    "                            + rfm.F_Quartile.map(str) \\\n",
    "                            + rfm.M_Quartile.map(str)"
   ]
  },
  {
   "cell_type": "code",
   "execution_count": 129,
   "metadata": {},
   "outputs": [
    {
     "data": {
      "text/html": [
       "<div>\n",
       "<style scoped>\n",
       "    .dataframe tbody tr th:only-of-type {\n",
       "        vertical-align: middle;\n",
       "    }\n",
       "\n",
       "    .dataframe tbody tr th {\n",
       "        vertical-align: top;\n",
       "    }\n",
       "\n",
       "    .dataframe thead th {\n",
       "        text-align: right;\n",
       "    }\n",
       "</style>\n",
       "<table border=\"1\" class=\"dataframe\">\n",
       "  <thead>\n",
       "    <tr style=\"text-align: right;\">\n",
       "      <th></th>\n",
       "      <th>order_date</th>\n",
       "      <th>order_id</th>\n",
       "      <th>customer</th>\n",
       "      <th>grand_total</th>\n",
       "      <th>recency</th>\n",
       "      <th>frequency</th>\n",
       "      <th>monetary_value</th>\n",
       "      <th>R_Quartile</th>\n",
       "      <th>F_Quartile</th>\n",
       "      <th>M_Quartile</th>\n",
       "    </tr>\n",
       "  </thead>\n",
       "  <tbody>\n",
       "    <tr>\n",
       "      <th>0</th>\n",
       "      <td>2011-09-07</td>\n",
       "      <td>CA-2011-100006</td>\n",
       "      <td>Dennis Kane</td>\n",
       "      <td>378</td>\n",
       "      <td>19</td>\n",
       "      <td>8</td>\n",
       "      <td>3317</td>\n",
       "      <td>1</td>\n",
       "      <td>2</td>\n",
       "      <td>2</td>\n",
       "    </tr>\n",
       "    <tr>\n",
       "      <th>1</th>\n",
       "      <td>2012-12-06</td>\n",
       "      <td>CA-2012-131884</td>\n",
       "      <td>Dennis Kane</td>\n",
       "      <td>594</td>\n",
       "      <td>19</td>\n",
       "      <td>8</td>\n",
       "      <td>3317</td>\n",
       "      <td>1</td>\n",
       "      <td>2</td>\n",
       "      <td>2</td>\n",
       "    </tr>\n",
       "    <tr>\n",
       "      <th>2</th>\n",
       "      <td>2012-12-12</td>\n",
       "      <td>CA-2012-145065</td>\n",
       "      <td>Dennis Kane</td>\n",
       "      <td>32</td>\n",
       "      <td>19</td>\n",
       "      <td>8</td>\n",
       "      <td>3317</td>\n",
       "      <td>1</td>\n",
       "      <td>2</td>\n",
       "      <td>2</td>\n",
       "    </tr>\n",
       "    <tr>\n",
       "      <th>3</th>\n",
       "      <td>2014-07-28</td>\n",
       "      <td>CA-2014-133046</td>\n",
       "      <td>Dennis Kane</td>\n",
       "      <td>298</td>\n",
       "      <td>19</td>\n",
       "      <td>8</td>\n",
       "      <td>3317</td>\n",
       "      <td>1</td>\n",
       "      <td>2</td>\n",
       "      <td>2</td>\n",
       "    </tr>\n",
       "    <tr>\n",
       "      <th>4</th>\n",
       "      <td>2014-12-12</td>\n",
       "      <td>CA-2014-165099</td>\n",
       "      <td>Dennis Kane</td>\n",
       "      <td>1</td>\n",
       "      <td>19</td>\n",
       "      <td>8</td>\n",
       "      <td>3317</td>\n",
       "      <td>1</td>\n",
       "      <td>2</td>\n",
       "      <td>2</td>\n",
       "    </tr>\n",
       "    <tr>\n",
       "      <th>...</th>\n",
       "      <td>...</td>\n",
       "      <td>...</td>\n",
       "      <td>...</td>\n",
       "      <td>...</td>\n",
       "      <td>...</td>\n",
       "      <td>...</td>\n",
       "      <td>...</td>\n",
       "      <td>...</td>\n",
       "      <td>...</td>\n",
       "      <td>...</td>\n",
       "    </tr>\n",
       "    <tr>\n",
       "      <th>4990</th>\n",
       "      <td>2011-07-19</td>\n",
       "      <td>US-2011-150434</td>\n",
       "      <td>Christine Abelman</td>\n",
       "      <td>455</td>\n",
       "      <td>13</td>\n",
       "      <td>4</td>\n",
       "      <td>1422</td>\n",
       "      <td>1</td>\n",
       "      <td>4</td>\n",
       "      <td>3</td>\n",
       "    </tr>\n",
       "    <tr>\n",
       "      <th>4991</th>\n",
       "      <td>2013-01-03</td>\n",
       "      <td>US-2013-116365</td>\n",
       "      <td>Christine Abelman</td>\n",
       "      <td>377</td>\n",
       "      <td>13</td>\n",
       "      <td>4</td>\n",
       "      <td>1422</td>\n",
       "      <td>1</td>\n",
       "      <td>4</td>\n",
       "      <td>3</td>\n",
       "    </tr>\n",
       "    <tr>\n",
       "      <th>4992</th>\n",
       "      <td>2014-12-10</td>\n",
       "      <td>US-2014-145366</td>\n",
       "      <td>Christine Abelman</td>\n",
       "      <td>95</td>\n",
       "      <td>13</td>\n",
       "      <td>4</td>\n",
       "      <td>1422</td>\n",
       "      <td>1</td>\n",
       "      <td>4</td>\n",
       "      <td>3</td>\n",
       "    </tr>\n",
       "    <tr>\n",
       "      <th>5002</th>\n",
       "      <td>2014-12-04</td>\n",
       "      <td>CA-2014-148691</td>\n",
       "      <td>Chuck Sachs</td>\n",
       "      <td>239</td>\n",
       "      <td>27</td>\n",
       "      <td>2</td>\n",
       "      <td>551</td>\n",
       "      <td>1</td>\n",
       "      <td>4</td>\n",
       "      <td>4</td>\n",
       "    </tr>\n",
       "    <tr>\n",
       "      <th>5003</th>\n",
       "      <td>2014-07-04</td>\n",
       "      <td>US-2014-126179</td>\n",
       "      <td>Chuck Sachs</td>\n",
       "      <td>312</td>\n",
       "      <td>27</td>\n",
       "      <td>2</td>\n",
       "      <td>551</td>\n",
       "      <td>1</td>\n",
       "      <td>4</td>\n",
       "      <td>4</td>\n",
       "    </tr>\n",
       "  </tbody>\n",
       "</table>\n",
       "<p>1448 rows × 10 columns</p>\n",
       "</div>"
      ],
      "text/plain": [
       "     order_date        order_id           customer  grand_total  recency  \\\n",
       "0    2011-09-07  CA-2011-100006        Dennis Kane          378       19   \n",
       "1    2012-12-06  CA-2012-131884        Dennis Kane          594       19   \n",
       "2    2012-12-12  CA-2012-145065        Dennis Kane           32       19   \n",
       "3    2014-07-28  CA-2014-133046        Dennis Kane          298       19   \n",
       "4    2014-12-12  CA-2014-165099        Dennis Kane            1       19   \n",
       "...         ...             ...                ...          ...      ...   \n",
       "4990 2011-07-19  US-2011-150434  Christine Abelman          455       13   \n",
       "4991 2013-01-03  US-2013-116365  Christine Abelman          377       13   \n",
       "4992 2014-12-10  US-2014-145366  Christine Abelman           95       13   \n",
       "5002 2014-12-04  CA-2014-148691        Chuck Sachs          239       27   \n",
       "5003 2014-07-04  US-2014-126179        Chuck Sachs          312       27   \n",
       "\n",
       "      frequency  monetary_value  R_Quartile  F_Quartile  M_Quartile  \n",
       "0             8            3317           1           2           2  \n",
       "1             8            3317           1           2           2  \n",
       "2             8            3317           1           2           2  \n",
       "3             8            3317           1           2           2  \n",
       "4             8            3317           1           2           2  \n",
       "...         ...             ...         ...         ...         ...  \n",
       "4990          4            1422           1           4           3  \n",
       "4991          4            1422           1           4           3  \n",
       "4992          4            1422           1           4           3  \n",
       "5002          2             551           1           4           4  \n",
       "5003          2             551           1           4           4  \n",
       "\n",
       "[1448 rows x 10 columns]"
      ]
     },
     "execution_count": 129,
     "metadata": {},
     "output_type": "execute_result"
    }
   ],
   "source": [
    "rfm[rfm['R_Quartile']==1]\n"
   ]
  },
  {
   "cell_type": "code",
   "execution_count": 130,
   "metadata": {},
   "outputs": [
    {
     "data": {
      "text/html": [
       "<div>\n",
       "<style scoped>\n",
       "    .dataframe tbody tr th:only-of-type {\n",
       "        vertical-align: middle;\n",
       "    }\n",
       "\n",
       "    .dataframe tbody tr th {\n",
       "        vertical-align: top;\n",
       "    }\n",
       "\n",
       "    .dataframe thead th {\n",
       "        text-align: right;\n",
       "    }\n",
       "</style>\n",
       "<table border=\"1\" class=\"dataframe\">\n",
       "  <thead>\n",
       "    <tr style=\"text-align: right;\">\n",
       "      <th></th>\n",
       "      <th>order_date</th>\n",
       "      <th>order_id</th>\n",
       "      <th>customer</th>\n",
       "      <th>grand_total</th>\n",
       "      <th>recency</th>\n",
       "      <th>frequency</th>\n",
       "      <th>monetary_value</th>\n",
       "      <th>R_Quartile</th>\n",
       "      <th>F_Quartile</th>\n",
       "      <th>M_Quartile</th>\n",
       "    </tr>\n",
       "  </thead>\n",
       "  <tbody>\n",
       "    <tr>\n",
       "      <th>115</th>\n",
       "      <td>2011-08-27</td>\n",
       "      <td>CA-2011-101266</td>\n",
       "      <td>Michael Moore</td>\n",
       "      <td>13</td>\n",
       "      <td>7</td>\n",
       "      <td>11</td>\n",
       "      <td>3794</td>\n",
       "      <td>1</td>\n",
       "      <td>1</td>\n",
       "      <td>1</td>\n",
       "    </tr>\n",
       "    <tr>\n",
       "      <th>116</th>\n",
       "      <td>2011-09-26</td>\n",
       "      <td>CA-2011-115049</td>\n",
       "      <td>Michael Moore</td>\n",
       "      <td>154</td>\n",
       "      <td>7</td>\n",
       "      <td>11</td>\n",
       "      <td>3794</td>\n",
       "      <td>1</td>\n",
       "      <td>1</td>\n",
       "      <td>1</td>\n",
       "    </tr>\n",
       "    <tr>\n",
       "      <th>117</th>\n",
       "      <td>2011-01-14</td>\n",
       "      <td>CA-2011-118192</td>\n",
       "      <td>Michael Moore</td>\n",
       "      <td>41</td>\n",
       "      <td>7</td>\n",
       "      <td>11</td>\n",
       "      <td>3794</td>\n",
       "      <td>1</td>\n",
       "      <td>1</td>\n",
       "      <td>1</td>\n",
       "    </tr>\n",
       "    <tr>\n",
       "      <th>118</th>\n",
       "      <td>2013-04-23</td>\n",
       "      <td>CA-2013-101329</td>\n",
       "      <td>Michael Moore</td>\n",
       "      <td>35</td>\n",
       "      <td>7</td>\n",
       "      <td>11</td>\n",
       "      <td>3794</td>\n",
       "      <td>1</td>\n",
       "      <td>1</td>\n",
       "      <td>1</td>\n",
       "    </tr>\n",
       "    <tr>\n",
       "      <th>119</th>\n",
       "      <td>2013-12-04</td>\n",
       "      <td>CA-2013-122063</td>\n",
       "      <td>Michael Moore</td>\n",
       "      <td>612</td>\n",
       "      <td>7</td>\n",
       "      <td>11</td>\n",
       "      <td>3794</td>\n",
       "      <td>1</td>\n",
       "      <td>1</td>\n",
       "      <td>1</td>\n",
       "    </tr>\n",
       "    <tr>\n",
       "      <th>...</th>\n",
       "      <td>...</td>\n",
       "      <td>...</td>\n",
       "      <td>...</td>\n",
       "      <td>...</td>\n",
       "      <td>...</td>\n",
       "      <td>...</td>\n",
       "      <td>...</td>\n",
       "      <td>...</td>\n",
       "      <td>...</td>\n",
       "      <td>...</td>\n",
       "    </tr>\n",
       "    <tr>\n",
       "      <th>4974</th>\n",
       "      <td>2014-03-11</td>\n",
       "      <td>CA-2014-144638</td>\n",
       "      <td>Mick Hernandez</td>\n",
       "      <td>92</td>\n",
       "      <td>5</td>\n",
       "      <td>9</td>\n",
       "      <td>5503</td>\n",
       "      <td>1</td>\n",
       "      <td>1</td>\n",
       "      <td>1</td>\n",
       "    </tr>\n",
       "    <tr>\n",
       "      <th>4975</th>\n",
       "      <td>2014-05-26</td>\n",
       "      <td>CA-2014-161088</td>\n",
       "      <td>Mick Hernandez</td>\n",
       "      <td>30</td>\n",
       "      <td>5</td>\n",
       "      <td>9</td>\n",
       "      <td>5503</td>\n",
       "      <td>1</td>\n",
       "      <td>1</td>\n",
       "      <td>1</td>\n",
       "    </tr>\n",
       "    <tr>\n",
       "      <th>4976</th>\n",
       "      <td>2013-08-24</td>\n",
       "      <td>US-2013-160528</td>\n",
       "      <td>Mick Hernandez</td>\n",
       "      <td>1416</td>\n",
       "      <td>5</td>\n",
       "      <td>9</td>\n",
       "      <td>5503</td>\n",
       "      <td>1</td>\n",
       "      <td>1</td>\n",
       "      <td>1</td>\n",
       "    </tr>\n",
       "    <tr>\n",
       "      <th>4977</th>\n",
       "      <td>2014-05-01</td>\n",
       "      <td>US-2014-108315</td>\n",
       "      <td>Mick Hernandez</td>\n",
       "      <td>226</td>\n",
       "      <td>5</td>\n",
       "      <td>9</td>\n",
       "      <td>5503</td>\n",
       "      <td>1</td>\n",
       "      <td>1</td>\n",
       "      <td>1</td>\n",
       "    </tr>\n",
       "    <tr>\n",
       "      <th>4978</th>\n",
       "      <td>2014-11-17</td>\n",
       "      <td>US-2014-114657</td>\n",
       "      <td>Mick Hernandez</td>\n",
       "      <td>52</td>\n",
       "      <td>5</td>\n",
       "      <td>9</td>\n",
       "      <td>5503</td>\n",
       "      <td>1</td>\n",
       "      <td>1</td>\n",
       "      <td>1</td>\n",
       "    </tr>\n",
       "  </tbody>\n",
       "</table>\n",
       "<p>311 rows × 10 columns</p>\n",
       "</div>"
      ],
      "text/plain": [
       "     order_date        order_id        customer  grand_total  recency  \\\n",
       "115  2011-08-27  CA-2011-101266   Michael Moore           13        7   \n",
       "116  2011-09-26  CA-2011-115049   Michael Moore          154        7   \n",
       "117  2011-01-14  CA-2011-118192   Michael Moore           41        7   \n",
       "118  2013-04-23  CA-2013-101329   Michael Moore           35        7   \n",
       "119  2013-12-04  CA-2013-122063   Michael Moore          612        7   \n",
       "...         ...             ...             ...          ...      ...   \n",
       "4974 2014-03-11  CA-2014-144638  Mick Hernandez           92        5   \n",
       "4975 2014-05-26  CA-2014-161088  Mick Hernandez           30        5   \n",
       "4976 2013-08-24  US-2013-160528  Mick Hernandez         1416        5   \n",
       "4977 2014-05-01  US-2014-108315  Mick Hernandez          226        5   \n",
       "4978 2014-11-17  US-2014-114657  Mick Hernandez           52        5   \n",
       "\n",
       "      frequency  monetary_value  R_Quartile  F_Quartile  M_Quartile  \n",
       "115          11            3794           1           1           1  \n",
       "116          11            3794           1           1           1  \n",
       "117          11            3794           1           1           1  \n",
       "118          11            3794           1           1           1  \n",
       "119          11            3794           1           1           1  \n",
       "...         ...             ...         ...         ...         ...  \n",
       "4974          9            5503           1           1           1  \n",
       "4975          9            5503           1           1           1  \n",
       "4976          9            5503           1           1           1  \n",
       "4977          9            5503           1           1           1  \n",
       "4978          9            5503           1           1           1  \n",
       "\n",
       "[311 rows x 10 columns]"
      ]
     },
     "execution_count": 130,
     "metadata": {},
     "output_type": "execute_result"
    }
   ],
   "source": [
    "rfm[(rfm['R_Quartile'] == 1) &\n",
    " (rfm['F_Quartile'] == 1) &\n",
    " (rfm['M_Quartile'] == 1)]\n",
    "\n"
   ]
  },
  {
   "cell_type": "code",
   "execution_count": 134,
   "metadata": {},
   "outputs": [
    {
     "data": {
      "text/html": [
       "<div>\n",
       "<style scoped>\n",
       "    .dataframe tbody tr th:only-of-type {\n",
       "        vertical-align: middle;\n",
       "    }\n",
       "\n",
       "    .dataframe tbody tr th {\n",
       "        vertical-align: top;\n",
       "    }\n",
       "\n",
       "    .dataframe thead th {\n",
       "        text-align: right;\n",
       "    }\n",
       "</style>\n",
       "<table border=\"1\" class=\"dataframe\">\n",
       "  <thead>\n",
       "    <tr style=\"text-align: right;\">\n",
       "      <th></th>\n",
       "      <th>order_date</th>\n",
       "      <th>order_id</th>\n",
       "      <th>customer</th>\n",
       "      <th>grand_total</th>\n",
       "      <th>recency</th>\n",
       "      <th>frequency</th>\n",
       "      <th>monetary_value</th>\n",
       "      <th>R_Quartile</th>\n",
       "      <th>F_Quartile</th>\n",
       "      <th>M_Quartile</th>\n",
       "      <th>RFMClass</th>\n",
       "    </tr>\n",
       "  </thead>\n",
       "  <tbody>\n",
       "    <tr>\n",
       "      <th>115</th>\n",
       "      <td>2011-08-27</td>\n",
       "      <td>CA-2011-101266</td>\n",
       "      <td>Michael Moore</td>\n",
       "      <td>13</td>\n",
       "      <td>7</td>\n",
       "      <td>11</td>\n",
       "      <td>3794</td>\n",
       "      <td>1</td>\n",
       "      <td>1</td>\n",
       "      <td>1</td>\n",
       "      <td>111</td>\n",
       "    </tr>\n",
       "    <tr>\n",
       "      <th>116</th>\n",
       "      <td>2011-09-26</td>\n",
       "      <td>CA-2011-115049</td>\n",
       "      <td>Michael Moore</td>\n",
       "      <td>154</td>\n",
       "      <td>7</td>\n",
       "      <td>11</td>\n",
       "      <td>3794</td>\n",
       "      <td>1</td>\n",
       "      <td>1</td>\n",
       "      <td>1</td>\n",
       "      <td>111</td>\n",
       "    </tr>\n",
       "    <tr>\n",
       "      <th>117</th>\n",
       "      <td>2011-01-14</td>\n",
       "      <td>CA-2011-118192</td>\n",
       "      <td>Michael Moore</td>\n",
       "      <td>41</td>\n",
       "      <td>7</td>\n",
       "      <td>11</td>\n",
       "      <td>3794</td>\n",
       "      <td>1</td>\n",
       "      <td>1</td>\n",
       "      <td>1</td>\n",
       "      <td>111</td>\n",
       "    </tr>\n",
       "    <tr>\n",
       "      <th>118</th>\n",
       "      <td>2013-04-23</td>\n",
       "      <td>CA-2013-101329</td>\n",
       "      <td>Michael Moore</td>\n",
       "      <td>35</td>\n",
       "      <td>7</td>\n",
       "      <td>11</td>\n",
       "      <td>3794</td>\n",
       "      <td>1</td>\n",
       "      <td>1</td>\n",
       "      <td>1</td>\n",
       "      <td>111</td>\n",
       "    </tr>\n",
       "    <tr>\n",
       "      <th>119</th>\n",
       "      <td>2013-12-04</td>\n",
       "      <td>CA-2013-122063</td>\n",
       "      <td>Michael Moore</td>\n",
       "      <td>612</td>\n",
       "      <td>7</td>\n",
       "      <td>11</td>\n",
       "      <td>3794</td>\n",
       "      <td>1</td>\n",
       "      <td>1</td>\n",
       "      <td>1</td>\n",
       "      <td>111</td>\n",
       "    </tr>\n",
       "    <tr>\n",
       "      <th>...</th>\n",
       "      <td>...</td>\n",
       "      <td>...</td>\n",
       "      <td>...</td>\n",
       "      <td>...</td>\n",
       "      <td>...</td>\n",
       "      <td>...</td>\n",
       "      <td>...</td>\n",
       "      <td>...</td>\n",
       "      <td>...</td>\n",
       "      <td>...</td>\n",
       "      <td>...</td>\n",
       "    </tr>\n",
       "    <tr>\n",
       "      <th>4974</th>\n",
       "      <td>2014-03-11</td>\n",
       "      <td>CA-2014-144638</td>\n",
       "      <td>Mick Hernandez</td>\n",
       "      <td>92</td>\n",
       "      <td>5</td>\n",
       "      <td>9</td>\n",
       "      <td>5503</td>\n",
       "      <td>1</td>\n",
       "      <td>1</td>\n",
       "      <td>1</td>\n",
       "      <td>111</td>\n",
       "    </tr>\n",
       "    <tr>\n",
       "      <th>4975</th>\n",
       "      <td>2014-05-26</td>\n",
       "      <td>CA-2014-161088</td>\n",
       "      <td>Mick Hernandez</td>\n",
       "      <td>30</td>\n",
       "      <td>5</td>\n",
       "      <td>9</td>\n",
       "      <td>5503</td>\n",
       "      <td>1</td>\n",
       "      <td>1</td>\n",
       "      <td>1</td>\n",
       "      <td>111</td>\n",
       "    </tr>\n",
       "    <tr>\n",
       "      <th>4976</th>\n",
       "      <td>2013-08-24</td>\n",
       "      <td>US-2013-160528</td>\n",
       "      <td>Mick Hernandez</td>\n",
       "      <td>1416</td>\n",
       "      <td>5</td>\n",
       "      <td>9</td>\n",
       "      <td>5503</td>\n",
       "      <td>1</td>\n",
       "      <td>1</td>\n",
       "      <td>1</td>\n",
       "      <td>111</td>\n",
       "    </tr>\n",
       "    <tr>\n",
       "      <th>4977</th>\n",
       "      <td>2014-05-01</td>\n",
       "      <td>US-2014-108315</td>\n",
       "      <td>Mick Hernandez</td>\n",
       "      <td>226</td>\n",
       "      <td>5</td>\n",
       "      <td>9</td>\n",
       "      <td>5503</td>\n",
       "      <td>1</td>\n",
       "      <td>1</td>\n",
       "      <td>1</td>\n",
       "      <td>111</td>\n",
       "    </tr>\n",
       "    <tr>\n",
       "      <th>4978</th>\n",
       "      <td>2014-11-17</td>\n",
       "      <td>US-2014-114657</td>\n",
       "      <td>Mick Hernandez</td>\n",
       "      <td>52</td>\n",
       "      <td>5</td>\n",
       "      <td>9</td>\n",
       "      <td>5503</td>\n",
       "      <td>1</td>\n",
       "      <td>1</td>\n",
       "      <td>1</td>\n",
       "      <td>111</td>\n",
       "    </tr>\n",
       "  </tbody>\n",
       "</table>\n",
       "<p>311 rows × 11 columns</p>\n",
       "</div>"
      ],
      "text/plain": [
       "     order_date        order_id        customer  grand_total  recency  \\\n",
       "115  2011-08-27  CA-2011-101266   Michael Moore           13        7   \n",
       "116  2011-09-26  CA-2011-115049   Michael Moore          154        7   \n",
       "117  2011-01-14  CA-2011-118192   Michael Moore           41        7   \n",
       "118  2013-04-23  CA-2013-101329   Michael Moore           35        7   \n",
       "119  2013-12-04  CA-2013-122063   Michael Moore          612        7   \n",
       "...         ...             ...             ...          ...      ...   \n",
       "4974 2014-03-11  CA-2014-144638  Mick Hernandez           92        5   \n",
       "4975 2014-05-26  CA-2014-161088  Mick Hernandez           30        5   \n",
       "4976 2013-08-24  US-2013-160528  Mick Hernandez         1416        5   \n",
       "4977 2014-05-01  US-2014-108315  Mick Hernandez          226        5   \n",
       "4978 2014-11-17  US-2014-114657  Mick Hernandez           52        5   \n",
       "\n",
       "      frequency  monetary_value  R_Quartile  F_Quartile  M_Quartile RFMClass  \n",
       "115          11            3794           1           1           1      111  \n",
       "116          11            3794           1           1           1      111  \n",
       "117          11            3794           1           1           1      111  \n",
       "118          11            3794           1           1           1      111  \n",
       "119          11            3794           1           1           1      111  \n",
       "...         ...             ...         ...         ...         ...      ...  \n",
       "4974          9            5503           1           1           1      111  \n",
       "4975          9            5503           1           1           1      111  \n",
       "4976          9            5503           1           1           1      111  \n",
       "4977          9            5503           1           1           1      111  \n",
       "4978          9            5503           1           1           1      111  \n",
       "\n",
       "[311 rows x 11 columns]"
      ]
     },
     "execution_count": 134,
     "metadata": {},
     "output_type": "execute_result"
    }
   ],
   "source": [
    "rfm.query('(R_Quartile ==1 ) & (F_Quartile ==1) & (M_Quartile ==1)')\n"
   ]
  },
  {
   "cell_type": "code",
   "execution_count": null,
   "metadata": {},
   "outputs": [],
   "source": [
    "rfm"
   ]
  },
  {
   "cell_type": "code",
   "execution_count": null,
   "metadata": {},
   "outputs": [],
   "source": [
    "rfm.info()"
   ]
  },
  {
   "cell_type": "code",
   "execution_count": 133,
   "metadata": {},
   "outputs": [
    {
     "data": {
      "text/html": [
       "<div>\n",
       "<style scoped>\n",
       "    .dataframe tbody tr th:only-of-type {\n",
       "        vertical-align: middle;\n",
       "    }\n",
       "\n",
       "    .dataframe tbody tr th {\n",
       "        vertical-align: top;\n",
       "    }\n",
       "\n",
       "    .dataframe thead th {\n",
       "        text-align: right;\n",
       "    }\n",
       "</style>\n",
       "<table border=\"1\" class=\"dataframe\">\n",
       "  <thead>\n",
       "    <tr style=\"text-align: right;\">\n",
       "      <th></th>\n",
       "      <th>monetary_value</th>\n",
       "    </tr>\n",
       "    <tr>\n",
       "      <th>RFMClass</th>\n",
       "      <th></th>\n",
       "    </tr>\n",
       "  </thead>\n",
       "  <tbody>\n",
       "    <tr>\n",
       "      <th>111</th>\n",
       "      <td>6004.556270</td>\n",
       "    </tr>\n",
       "    <tr>\n",
       "      <th>112</th>\n",
       "      <td>2905.570755</td>\n",
       "    </tr>\n",
       "    <tr>\n",
       "      <th>113</th>\n",
       "      <td>1713.644068</td>\n",
       "    </tr>\n",
       "    <tr>\n",
       "      <th>114</th>\n",
       "      <td>1057.000000</td>\n",
       "    </tr>\n",
       "    <tr>\n",
       "      <th>121</th>\n",
       "      <td>5371.371795</td>\n",
       "    </tr>\n",
       "    <tr>\n",
       "      <th>...</th>\n",
       "      <td>...</td>\n",
       "    </tr>\n",
       "    <tr>\n",
       "      <th>434</th>\n",
       "      <td>717.250000</td>\n",
       "    </tr>\n",
       "    <tr>\n",
       "      <th>441</th>\n",
       "      <td>8174.723404</td>\n",
       "    </tr>\n",
       "    <tr>\n",
       "      <th>442</th>\n",
       "      <td>2722.640449</td>\n",
       "    </tr>\n",
       "    <tr>\n",
       "      <th>443</th>\n",
       "      <td>1631.398551</td>\n",
       "    </tr>\n",
       "    <tr>\n",
       "      <th>444</th>\n",
       "      <td>612.819444</td>\n",
       "    </tr>\n",
       "  </tbody>\n",
       "</table>\n",
       "<p>62 rows × 1 columns</p>\n",
       "</div>"
      ],
      "text/plain": [
       "          monetary_value\n",
       "RFMClass                \n",
       "111          6004.556270\n",
       "112          2905.570755\n",
       "113          1713.644068\n",
       "114          1057.000000\n",
       "121          5371.371795\n",
       "...                  ...\n",
       "434           717.250000\n",
       "441          8174.723404\n",
       "442          2722.640449\n",
       "443          1631.398551\n",
       "444           612.819444\n",
       "\n",
       "[62 rows x 1 columns]"
      ]
     },
     "execution_count": 133,
     "metadata": {},
     "output_type": "execute_result"
    }
   ],
   "source": [
    "rfm.pivot_table(values = 'monetary_value', index = 'RFMClass', aggfunc = 'mean')"
   ]
  },
  {
   "cell_type": "code",
   "execution_count": null,
   "metadata": {},
   "outputs": [],
   "source": [
    "rfm.groupby(by = 'RFMClass')['monetary_value'].mean()"
   ]
  },
  {
   "cell_type": "markdown",
   "metadata": {},
   "source": [
    "## Самостоятельно\n",
    "можно поработать, например, со следующим датасетом\n",
    "https://raw.githubusercontent.com/plotly/datasets/master/2016-weather-data-seattle.csv"
   ]
  }
 ],
 "metadata": {
  "kernelspec": {
   "display_name": "Python 3",
   "language": "python",
   "name": "python3"
  },
  "language_info": {
   "codemirror_mode": {
    "name": "ipython",
    "version": 3
   },
   "file_extension": ".py",
   "mimetype": "text/x-python",
   "name": "python",
   "nbconvert_exporter": "python",
   "pygments_lexer": "ipython3",
   "version": "3.8.3"
  }
 },
 "nbformat": 4,
 "nbformat_minor": 4
}
