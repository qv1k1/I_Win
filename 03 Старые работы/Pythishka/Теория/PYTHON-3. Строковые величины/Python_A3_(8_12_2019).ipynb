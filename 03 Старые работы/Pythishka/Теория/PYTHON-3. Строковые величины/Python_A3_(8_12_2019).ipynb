{
  "nbformat": 4,
  "nbformat_minor": 0,
  "metadata": {
    "kernelspec": {
      "display_name": "Python 3",
      "language": "python",
      "name": "python3"
    },
    "language_info": {
      "codemirror_mode": {
        "name": "ipython",
        "version": 3
      },
      "file_extension": ".py",
      "mimetype": "text/x-python",
      "name": "python",
      "nbconvert_exporter": "python",
      "pygments_lexer": "ipython3",
      "version": "3.7.1"
    },
    "colab": {
      "name": "Python A3 (8.12.2019).ipynb",
      "provenance": []
    }
  },
  "cells": [
    {
      "cell_type": "markdown",
      "metadata": {
        "id": "A4gxOp4_HrD5"
      },
      "source": [
        "# Общие приёмы работы со строками"
      ]
    },
    {
      "cell_type": "code",
      "metadata": {
        "id": "OogwQsMHHrD_"
      },
      "source": [
        "string = 'Семь бед — один reset'"
      ],
      "execution_count": null,
      "outputs": []
    },
    {
      "cell_type": "markdown",
      "metadata": {
        "id": "d87A9320HrEB"
      },
      "source": [
        "### Перебор элементов и работа с индексами "
      ]
    },
    {
      "cell_type": "code",
      "metadata": {
        "id": "k8tf1oZQHrED",
        "outputId": "7c450564-201e-470b-87f1-9c99682f648a"
      },
      "source": [
        "# Вывести на экран слово \"семь\"\n",
        "string.split()[0].lower()"
      ],
      "execution_count": null,
      "outputs": [
        {
          "output_type": "execute_result",
          "data": {
            "text/plain": [
              "'семь'"
            ]
          },
          "metadata": {
            "tags": []
          },
          "execution_count": 4
        }
      ]
    },
    {
      "cell_type": "code",
      "metadata": {
        "id": "f1qO1bwFHrEG",
        "outputId": "13288865-cfa9-426d-c013-99c8f92a3f38"
      },
      "source": [
        "# Вывести на экран слово \"один\"\n",
        "string[-10:-6]"
      ],
      "execution_count": null,
      "outputs": [
        {
          "output_type": "execute_result",
          "data": {
            "text/plain": [
              "'один'"
            ]
          },
          "metadata": {
            "tags": []
          },
          "execution_count": 5
        }
      ]
    },
    {
      "cell_type": "code",
      "metadata": {
        "id": "ixy55amTHrEH",
        "outputId": "cc0aa3b1-fba5-4f0a-8da4-d222e8a2825f"
      },
      "source": [
        "# Вывести на экран слово \"reset\"\n",
        "string.split()[-1]"
      ],
      "execution_count": null,
      "outputs": [
        {
          "output_type": "execute_result",
          "data": {
            "text/plain": [
              "'reset'"
            ]
          },
          "metadata": {
            "tags": []
          },
          "execution_count": 6
        }
      ]
    },
    {
      "cell_type": "code",
      "metadata": {
        "id": "91O37EiEHrEJ",
        "outputId": "c519f718-b253-44b6-a75c-66f56fa407b5"
      },
      "source": [
        "# Вывести на экран слово \"reset\" задом наперёд\n",
        "string[-1:-6:-1]"
      ],
      "execution_count": null,
      "outputs": [
        {
          "output_type": "execute_result",
          "data": {
            "text/plain": [
              "'teser'"
            ]
          },
          "metadata": {
            "tags": []
          },
          "execution_count": 7
        }
      ]
    },
    {
      "cell_type": "code",
      "metadata": {
        "id": "I-5PNZ2YHrEK",
        "outputId": "c6794aa0-0a53-4c4e-c50c-32f9866cead2"
      },
      "source": [
        "string.split()[-1][::-1]"
      ],
      "execution_count": null,
      "outputs": [
        {
          "output_type": "execute_result",
          "data": {
            "text/plain": [
              "'teser'"
            ]
          },
          "metadata": {
            "tags": []
          },
          "execution_count": 8
        }
      ]
    },
    {
      "cell_type": "code",
      "metadata": {
        "id": "kL8zdvLcHrEM",
        "outputId": "02b2e9a7-e082-48a4-8c95-4b4a065506ae"
      },
      "source": [
        "# Вывести на экран всю строку в столбик\n",
        "for char in string:\n",
        "    print(char)"
      ],
      "execution_count": null,
      "outputs": [
        {
          "output_type": "stream",
          "text": [
            "С\n",
            "е\n",
            "м\n",
            "ь\n",
            " \n",
            "б\n",
            "е\n",
            "д\n",
            " \n",
            "—\n",
            " \n",
            "о\n",
            "д\n",
            "и\n",
            "н\n",
            " \n",
            "r\n",
            "e\n",
            "s\n",
            "e\n",
            "t\n"
          ],
          "name": "stdout"
        }
      ]
    },
    {
      "cell_type": "code",
      "metadata": {
        "id": "PLtQRjNKHrEN",
        "outputId": "389d774c-8851-4d73-cb89-a10bc9af5d54"
      },
      "source": [
        "# Вывести на экран всю строку (в строчку), добавив знак \"*\" между символами\n",
        "for char in string:\n",
        "    print(char, end = '*')"
      ],
      "execution_count": null,
      "outputs": [
        {
          "output_type": "stream",
          "text": [
            "С*е*м*ь* *б*е*д* *—* *о*д*и*н* *r*e*s*e*t*"
          ],
          "name": "stdout"
        }
      ]
    },
    {
      "cell_type": "markdown",
      "metadata": {
        "id": "-DACYtg9HrEP"
      },
      "source": [
        "Задание: вывести на экран строку задом наперёд двумя способами:"
      ]
    },
    {
      "cell_type": "code",
      "metadata": {
        "id": "mstv2r7DHrEQ",
        "outputId": "129247e2-9af4-4397-9f32-d57334a7a815"
      },
      "source": [
        "# с помощью среза\n",
        "string[::-1]"
      ],
      "execution_count": null,
      "outputs": [
        {
          "output_type": "execute_result",
          "data": {
            "text/plain": [
              "'teser нидо — деб ьмеС'"
            ]
          },
          "metadata": {
            "tags": []
          },
          "execution_count": 11
        }
      ]
    },
    {
      "cell_type": "code",
      "metadata": {
        "id": "3o99loigHrER",
        "outputId": "7cd41440-44c2-41ca-cc64-46b14bb5cb18"
      },
      "source": [
        "# с помощью цикла\n",
        "for i in range(1, len(string)+1):\n",
        "    print(string[-i], end = '')"
      ],
      "execution_count": null,
      "outputs": [
        {
          "output_type": "stream",
          "text": [
            "teser нидо — деб ьмеС"
          ],
          "name": "stdout"
        }
      ]
    },
    {
      "cell_type": "code",
      "metadata": {
        "id": "jF1o_uY5HrES",
        "outputId": "50a5c03f-16e2-4ecf-9f36-7121bcad2037"
      },
      "source": [
        "h = len(string)\n",
        "while h != 0:\n",
        "    print(string[h-1], end = '')\n",
        "    h-=1"
      ],
      "execution_count": null,
      "outputs": [
        {
          "output_type": "stream",
          "text": [
            "teser нидо — деб ьмеС"
          ],
          "name": "stdout"
        }
      ]
    },
    {
      "cell_type": "markdown",
      "metadata": {
        "id": "FXy1YmMKHrEU"
      },
      "source": [
        "### Поиск подстроки в строке"
      ]
    },
    {
      "cell_type": "code",
      "metadata": {
        "id": "qGi1sK9JHrEV"
      },
      "source": [
        "info = 'Фамилия: Иванова, имя: Агафья, e-mail: agafiya@ivanova.me'"
      ],
      "execution_count": null,
      "outputs": []
    },
    {
      "cell_type": "markdown",
      "metadata": {
        "id": "uSoCAQCPHrEV"
      },
      "source": [
        "Задание: выделить из строки email двумя способами:"
      ]
    },
    {
      "cell_type": "code",
      "metadata": {
        "id": "1J3MbRqMHrEW",
        "outputId": "bbc65694-ee5b-4b41-924f-97277febb6b7"
      },
      "source": [
        "# с помощью split:\n",
        "info.split()[-1]"
      ],
      "execution_count": null,
      "outputs": [
        {
          "output_type": "execute_result",
          "data": {
            "text/plain": [
              "'vanya@ivanov.me'"
            ]
          },
          "metadata": {
            "tags": []
          },
          "execution_count": 19
        }
      ]
    },
    {
      "cell_type": "code",
      "metadata": {
        "id": "V2iiFuxaHrEX",
        "outputId": "d5f946dc-4809-4add-c25a-336cf0581c16"
      },
      "source": [
        "# с помощью find:\n",
        "info[info.find('l: ')+3:]"
      ],
      "execution_count": null,
      "outputs": [
        {
          "output_type": "execute_result",
          "data": {
            "text/plain": [
              "'vanya@ivanov.me'"
            ]
          },
          "metadata": {
            "tags": []
          },
          "execution_count": 20
        }
      ]
    },
    {
      "cell_type": "code",
      "metadata": {
        "id": "CoG6YlRrHrEY",
        "outputId": "63b0b680-4e42-4a19-b2e7-ea8b8fbe8b13"
      },
      "source": [
        "info[info.find('e-mail')+8:]"
      ],
      "execution_count": null,
      "outputs": [
        {
          "output_type": "execute_result",
          "data": {
            "text/plain": [
              "'vanya@ivanov.me'"
            ]
          },
          "metadata": {
            "tags": []
          },
          "execution_count": 21
        }
      ]
    },
    {
      "cell_type": "markdown",
      "metadata": {
        "id": "7tMkPtSoHrEZ"
      },
      "source": [
        "Задание: выделить из строки имя человека"
      ]
    },
    {
      "cell_type": "code",
      "metadata": {
        "id": "J5cuXVdOHrEa",
        "outputId": "7f6c6bbe-148d-4aba-c03b-4fddc9768925"
      },
      "source": [
        "# с помощью split:\n",
        "info.split()[3][:-1]"
      ],
      "execution_count": null,
      "outputs": [
        {
          "output_type": "execute_result",
          "data": {
            "text/plain": [
              "'Иван'"
            ]
          },
          "metadata": {
            "tags": []
          },
          "execution_count": 23
        }
      ]
    },
    {
      "cell_type": "code",
      "metadata": {
        "id": "jZwZ8BA6HrEb",
        "outputId": "b4dcabc0-85d2-4872-ada9-2dbce1be8cfc"
      },
      "source": [
        "# с помощью find:\n",
        "info[info.find('имя')+5:info.find(', e')]"
      ],
      "execution_count": null,
      "outputs": [
        {
          "output_type": "execute_result",
          "data": {
            "text/plain": [
              "'Иван'"
            ]
          },
          "metadata": {
            "tags": []
          },
          "execution_count": 24
        }
      ]
    },
    {
      "cell_type": "code",
      "metadata": {
        "id": "A-B-clhqHrEc",
        "outputId": "2376190d-7fc8-42ec-91cf-c0afd740e42b"
      },
      "source": [
        "info[info.find('имя')+5:info.find('e-mail')-2]"
      ],
      "execution_count": null,
      "outputs": [
        {
          "output_type": "execute_result",
          "data": {
            "text/plain": [
              "'Иван'"
            ]
          },
          "metadata": {
            "tags": []
          },
          "execution_count": 25
        }
      ]
    },
    {
      "cell_type": "code",
      "metadata": {
        "id": "uTtCGtCHHrEd",
        "outputId": "5b57ce60-5042-4662-82c8-7a297cf769e2"
      },
      "source": [
        "start = info.find('имя')+5\n",
        "end = info.find('e-mail')-2\n",
        "info[start:end]"
      ],
      "execution_count": null,
      "outputs": [
        {
          "output_type": "execute_result",
          "data": {
            "text/plain": [
              "'Иван'"
            ]
          },
          "metadata": {
            "tags": []
          },
          "execution_count": 26
        }
      ]
    },
    {
      "cell_type": "markdown",
      "metadata": {
        "id": "1DpWoZrcHrEd"
      },
      "source": [
        "Задание: составить новую строку, содержащую имя и фамилию человека через пробел, и далее в скобках - электронный адрес  \n",
        "Пример: Иван Иванов (vanya@ivanov.me)"
      ]
    },
    {
      "cell_type": "code",
      "metadata": {
        "id": "geq8v2BpHrEe",
        "outputId": "1fafe337-5b66-4a2b-95ce-4452c4d38759"
      },
      "source": [
        "name = info[info.find('имя: ') + len('имя: '): info.find(', e-mail')]\n",
        "fam = info[info.find('Фамилия: ') + len('Фамилия: '): info.find(', имя')]\n",
        "mail = info[info.find('e-mail: ')+len('e-mail: '):]\n",
        "print('{} {} ({})'.format(name, fam, mail))"
      ],
      "execution_count": null,
      "outputs": [
        {
          "output_type": "stream",
          "text": [
            "Агафья Иванова (agafiya@ivanova.me)\n"
          ],
          "name": "stdout"
        }
      ]
    },
    {
      "cell_type": "markdown",
      "metadata": {
        "id": "23zZ_MI3HrEf"
      },
      "source": [
        "# Работа с файлами и регулярными выражениями "
      ]
    },
    {
      "cell_type": "markdown",
      "metadata": {
        "id": "DUQJuu85HrEf"
      },
      "source": [
        "Знакомимся с содержимым файла info.txt  \n",
        "Ссылка на файл, если не удастся создать его самостоятельно: https://drive.google.com/file/d/1TTnY28guTZjZzkvDobxpShx4YFNwHjug/view?usp=sharing "
      ]
    },
    {
      "cell_type": "code",
      "metadata": {
        "scrolled": true,
        "id": "CiLWNMqaHrEf",
        "outputId": "b1d70d67-b570-4c37-e92e-cf5f77dd8612"
      },
      "source": [
        "with open('info.txt', encoding = 'ansi') as f:\n",
        "    for line in f: \n",
        "        print(line, end = '')"
      ],
      "execution_count": null,
      "outputs": [
        {
          "output_type": "stream",
          "text": [
            "Иванов\tИван\t1.01.1996\tvanya@mail.ru\t+7 (903) 221-23-35\n",
            "Смит\tАнна\t3.09.1985\tbeauty@gmail.com\t+1 (501) 342-52-31\n",
            "Петров\tПетр\t5.05.1965\tbig_boss@mail.ru\t+7 (999) 345-67-89\n",
            "Сидорова\tАнгелина\t21.06.1977\ta.sidorova@yandex.ru\t+7 (777) 234-56-83\n",
            "Дятлов\tАнатолий\t13.02.1997\tterminator@mail.ru\t+7 (920) 253-43-21\n",
            "Красавцева\tЮлия\t15.04.1998\tyulechka@gmail.com\t+45 (3452) 234-32-34\n"
          ],
          "name": "stdout"
        }
      ]
    },
    {
      "cell_type": "markdown",
      "metadata": {
        "id": "pg3A5piMHrEg"
      },
      "source": [
        "Задание: вывести на экран список имён сотрудников:"
      ]
    },
    {
      "cell_type": "code",
      "metadata": {
        "id": "cBR8XMGJHrEg",
        "outputId": "f4c41cc5-ee73-47ee-d055-cf76560178e1"
      },
      "source": [
        "with open('info.txt') as f:\n",
        "    for line in f:\n",
        "        name = line.split('\\t')[1]\n",
        "        print(name)"
      ],
      "execution_count": null,
      "outputs": [
        {
          "output_type": "stream",
          "text": [
            "Иван\n",
            "Анна\n",
            "Петр\n",
            "Ангелина\n",
            "Анатолий\n",
            "Юлия\n"
          ],
          "name": "stdout"
        }
      ]
    },
    {
      "cell_type": "markdown",
      "metadata": {
        "id": "TV672HOYHrEh"
      },
      "source": [
        "Задание: вывести отдельно имена и фамилии молодых (до 25 лет) и опытных сотрудников"
      ]
    },
    {
      "cell_type": "code",
      "metadata": {
        "id": "0l3zyt4LHrEh",
        "outputId": "acbefced-b05e-4392-9680-f3a5e7892491"
      },
      "source": [
        "staff = {'молодые':[], 'опытные':[]}\n",
        "with open('info.txt') as f:\n",
        "    for line in f:\n",
        "        info = line.split('\\t')\n",
        "        age = 2019 - int(info[2][-4:])\n",
        "        if age < 25:\n",
        "            staff['молодые'].append('{} {}'.format(info[1], info[0]))\n",
        "        else:\n",
        "            staff['опытные'].append('{} {}'.format(info[1], info[0]))\n",
        "            \n",
        "for experience in staff:\n",
        "    print(experience.upper())\n",
        "    for person in staff[experience]:\n",
        "        print(person)\n",
        "    print()"
      ],
      "execution_count": null,
      "outputs": [
        {
          "output_type": "stream",
          "text": [
            "МОЛОДЫЕ\n",
            "Иван Иванов\n",
            "Анатолий Дятлов\n",
            "Юлия Красавцева\n",
            "\n",
            "ОПЫТНЫЕ\n",
            "Анна Смит\n",
            "Петр Петров\n",
            "Ангелина Сидорова\n",
            "\n"
          ],
          "name": "stdout"
        }
      ]
    },
    {
      "cell_type": "code",
      "metadata": {
        "id": "9ShNpVFDHrEi",
        "outputId": "d720aac2-c0c3-48f7-86d1-1934d754e663"
      },
      "source": [
        "staff = {'молодые':[], 'опытные':[]}\n",
        "with open('info.txt') as f:\n",
        "    for line in f:\n",
        "        info = line.split('\\t')\n",
        "        \n",
        "        if 2019-int(info[2][-4:]) < 25:\n",
        "            staff ['молодые'].append(info[0]+' '+info[1])\n",
        "        else:\n",
        "            staff ['опытные'].append(info[0]+' '+info[1])\n",
        "\n",
        "print(staff)"
      ],
      "execution_count": null,
      "outputs": [
        {
          "output_type": "stream",
          "text": [
            "{'молодые': ['Иванов Иван', 'Дятлов Анатолий', 'Красавцева Юлия'], 'опытные': ['Смит Анна', 'Петров Петр', 'Сидорова Ангелина']}\n"
          ],
          "name": "stdout"
        }
      ]
    },
    {
      "cell_type": "markdown",
      "metadata": {
        "id": "iMrAn-Z4HrEj"
      },
      "source": [
        "#### Задание:\n",
        "Составить словарь, содержащий информацию о количестве сотрудников из России (+7 (9...)), Казахстана (+7 (7...)) и дальнего зарубежья."
      ]
    },
    {
      "cell_type": "code",
      "metadata": {
        "id": "xOaZq2gkHrEk",
        "outputId": "e0ffd81b-e13d-46f7-a8f7-2daf6e9cc1f3"
      },
      "source": [
        "# С использованием регулярных выражений:\n",
        "import re\n",
        "new_staff = {'Россия':0, 'Казахстан':0, 'Дальнее зарубежье':0}\n",
        "pattern = re.compile('\\+\\d+ \\(\\d')\n",
        "with open('info.txt') as f:\n",
        "    for line in f:\n",
        "        tel = pattern.findall(line)[0].split()\n",
        "        if tel[0] == '+7':\n",
        "            if tel[1] == '(7':\n",
        "                new_staff['Казахстан'] += 1\n",
        "            else:\n",
        "                new_staff['Россия'] += 1\n",
        "        else:\n",
        "            new_staff['Дальнее зарубежье'] += 1\n",
        "print(new_staff)"
      ],
      "execution_count": null,
      "outputs": [
        {
          "output_type": "stream",
          "text": [
            "{'Россия': 3, 'Казахстан': 1, 'Дальнее зарубежье': 2}\n"
          ],
          "name": "stdout"
        }
      ]
    },
    {
      "cell_type": "code",
      "metadata": {
        "id": "D7vMFM_4HrEl"
      },
      "source": [
        ""
      ],
      "execution_count": null,
      "outputs": []
    }
  ]
}