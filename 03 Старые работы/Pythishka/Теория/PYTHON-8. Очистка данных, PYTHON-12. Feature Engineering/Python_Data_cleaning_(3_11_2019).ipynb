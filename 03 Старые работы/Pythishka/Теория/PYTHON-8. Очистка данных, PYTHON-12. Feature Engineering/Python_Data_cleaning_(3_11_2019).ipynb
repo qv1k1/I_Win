{
  "nbformat": 4,
  "nbformat_minor": 0,
  "metadata": {
    "kernelspec": {
      "display_name": "Python 3",
      "language": "python",
      "name": "python3"
    },
    "language_info": {
      "codemirror_mode": {
        "name": "ipython",
        "version": 3
      },
      "file_extension": ".py",
      "mimetype": "text/x-python",
      "name": "python",
      "nbconvert_exporter": "python",
      "pygments_lexer": "ipython3",
      "version": "3.7.1"
    },
    "colab": {
      "name": "Python Data cleaning (3.11.2019).ipynb",
      "provenance": []
    }
  },
  "cells": [
    {
      "cell_type": "code",
      "metadata": {
        "id": "9_ebWLoXJbEL"
      },
      "source": [
        "import pandas as pd"
      ],
      "execution_count": null,
      "outputs": []
    },
    {
      "cell_type": "markdown",
      "metadata": {
        "id": "ytZoLMb6JbES"
      },
      "source": [
        "### Продолжаем работу с датасетом, посвященном пассажирам Титаника"
      ]
    },
    {
      "cell_type": "markdown",
      "metadata": {
        "id": "mJLILdjxJbET"
      },
      "source": [
        "Скачать датасет и посмотреть его описание можно по адресу: https://www.kaggle.com/c/titanic/data  \n",
        "Скачать без регистрации: https://drive.google.com/open?id=1zy9JKp-bTfF0gRYkGl-g0X4o72NAhl1u"
      ]
    },
    {
      "cell_type": "code",
      "metadata": {
        "id": "9OvnWDAIJbEV"
      },
      "source": [
        "df = pd.read_csv('train.csv')"
      ],
      "execution_count": null,
      "outputs": []
    },
    {
      "cell_type": "code",
      "metadata": {
        "id": "mi39WVn0JbEW",
        "outputId": "63f536df-c35b-43c8-fbbf-1dfde3f6ef3a"
      },
      "source": [
        "df.head(10)"
      ],
      "execution_count": null,
      "outputs": [
        {
          "output_type": "execute_result",
          "data": {
            "text/html": [
              "<div>\n",
              "<style scoped>\n",
              "    .dataframe tbody tr th:only-of-type {\n",
              "        vertical-align: middle;\n",
              "    }\n",
              "\n",
              "    .dataframe tbody tr th {\n",
              "        vertical-align: top;\n",
              "    }\n",
              "\n",
              "    .dataframe thead th {\n",
              "        text-align: right;\n",
              "    }\n",
              "</style>\n",
              "<table border=\"1\" class=\"dataframe\">\n",
              "  <thead>\n",
              "    <tr style=\"text-align: right;\">\n",
              "      <th></th>\n",
              "      <th>Survived</th>\n",
              "      <th>Pclass</th>\n",
              "      <th>Sex</th>\n",
              "      <th>Age</th>\n",
              "      <th>SibSp</th>\n",
              "      <th>Parch</th>\n",
              "      <th>Fare</th>\n",
              "      <th>Embarked</th>\n",
              "      <th>alone</th>\n",
              "    </tr>\n",
              "  </thead>\n",
              "  <tbody>\n",
              "    <tr>\n",
              "      <th>0</th>\n",
              "      <td>0</td>\n",
              "      <td>3</td>\n",
              "      <td>male</td>\n",
              "      <td>22.00000</td>\n",
              "      <td>1</td>\n",
              "      <td>0</td>\n",
              "      <td>7.25</td>\n",
              "      <td>S</td>\n",
              "      <td>1</td>\n",
              "    </tr>\n",
              "    <tr>\n",
              "      <th>1</th>\n",
              "      <td>1</td>\n",
              "      <td>1</td>\n",
              "      <td>female</td>\n",
              "      <td>38.00000</td>\n",
              "      <td>1</td>\n",
              "      <td>0</td>\n",
              "      <td>71.28</td>\n",
              "      <td>C</td>\n",
              "      <td>1</td>\n",
              "    </tr>\n",
              "    <tr>\n",
              "      <th>2</th>\n",
              "      <td>1</td>\n",
              "      <td>3</td>\n",
              "      <td>female</td>\n",
              "      <td>26.00000</td>\n",
              "      <td>0</td>\n",
              "      <td>0</td>\n",
              "      <td>7.92</td>\n",
              "      <td>S</td>\n",
              "      <td>0</td>\n",
              "    </tr>\n",
              "    <tr>\n",
              "      <th>3</th>\n",
              "      <td>1</td>\n",
              "      <td>1</td>\n",
              "      <td>female</td>\n",
              "      <td>35.00000</td>\n",
              "      <td>1</td>\n",
              "      <td>0</td>\n",
              "      <td>53.10</td>\n",
              "      <td>S</td>\n",
              "      <td>1</td>\n",
              "    </tr>\n",
              "    <tr>\n",
              "      <th>4</th>\n",
              "      <td>0</td>\n",
              "      <td>3</td>\n",
              "      <td>male</td>\n",
              "      <td>35.00000</td>\n",
              "      <td>0</td>\n",
              "      <td>0</td>\n",
              "      <td>8.05</td>\n",
              "      <td>S</td>\n",
              "      <td>0</td>\n",
              "    </tr>\n",
              "    <tr>\n",
              "      <th>5</th>\n",
              "      <td>0</td>\n",
              "      <td>3</td>\n",
              "      <td>male</td>\n",
              "      <td>25.14062</td>\n",
              "      <td>0</td>\n",
              "      <td>0</td>\n",
              "      <td>8.46</td>\n",
              "      <td>Q</td>\n",
              "      <td>0</td>\n",
              "    </tr>\n",
              "    <tr>\n",
              "      <th>6</th>\n",
              "      <td>0</td>\n",
              "      <td>1</td>\n",
              "      <td>male</td>\n",
              "      <td>54.00000</td>\n",
              "      <td>0</td>\n",
              "      <td>0</td>\n",
              "      <td>51.86</td>\n",
              "      <td>S</td>\n",
              "      <td>0</td>\n",
              "    </tr>\n",
              "    <tr>\n",
              "      <th>7</th>\n",
              "      <td>0</td>\n",
              "      <td>3</td>\n",
              "      <td>male</td>\n",
              "      <td>2.00000</td>\n",
              "      <td>3</td>\n",
              "      <td>1</td>\n",
              "      <td>21.08</td>\n",
              "      <td>S</td>\n",
              "      <td>1</td>\n",
              "    </tr>\n",
              "    <tr>\n",
              "      <th>8</th>\n",
              "      <td>1</td>\n",
              "      <td>3</td>\n",
              "      <td>female</td>\n",
              "      <td>27.00000</td>\n",
              "      <td>0</td>\n",
              "      <td>2</td>\n",
              "      <td>11.13</td>\n",
              "      <td>S</td>\n",
              "      <td>1</td>\n",
              "    </tr>\n",
              "    <tr>\n",
              "      <th>9</th>\n",
              "      <td>1</td>\n",
              "      <td>2</td>\n",
              "      <td>female</td>\n",
              "      <td>14.00000</td>\n",
              "      <td>1</td>\n",
              "      <td>0</td>\n",
              "      <td>30.07</td>\n",
              "      <td>C</td>\n",
              "      <td>1</td>\n",
              "    </tr>\n",
              "  </tbody>\n",
              "</table>\n",
              "</div>"
            ],
            "text/plain": [
              "   Survived  Pclass     Sex       Age  SibSp  Parch   Fare Embarked  alone\n",
              "0         0       3    male  22.00000      1      0   7.25        S      1\n",
              "1         1       1  female  38.00000      1      0  71.28        C      1\n",
              "2         1       3  female  26.00000      0      0   7.92        S      0\n",
              "3         1       1  female  35.00000      1      0  53.10        S      1\n",
              "4         0       3    male  35.00000      0      0   8.05        S      0\n",
              "5         0       3    male  25.14062      0      0   8.46        Q      0\n",
              "6         0       1    male  54.00000      0      0  51.86        S      0\n",
              "7         0       3    male   2.00000      3      1  21.08        S      1\n",
              "8         1       3  female  27.00000      0      2  11.13        S      1\n",
              "9         1       2  female  14.00000      1      0  30.07        C      1"
            ]
          },
          "metadata": {
            "tags": []
          },
          "execution_count": 35
        }
      ]
    },
    {
      "cell_type": "code",
      "metadata": {
        "id": "ZvBT1YWUJbEZ",
        "outputId": "8f5e29c1-2601-43ff-f7c1-63956048e7ca"
      },
      "source": [
        "df.info()"
      ],
      "execution_count": null,
      "outputs": [
        {
          "output_type": "stream",
          "text": [
            "<class 'pandas.core.frame.DataFrame'>\n",
            "RangeIndex: 891 entries, 0 to 890\n",
            "Data columns (total 8 columns):\n",
            "Survived    891 non-null int64\n",
            "Pclass      891 non-null int64\n",
            "Sex         891 non-null object\n",
            "Age         891 non-null float64\n",
            "SibSp       891 non-null int64\n",
            "Parch       891 non-null int64\n",
            "Fare        891 non-null float64\n",
            "Embarked    891 non-null object\n",
            "dtypes: float64(2), int64(4), object(2)\n",
            "memory usage: 55.8+ KB\n"
          ],
          "name": "stdout"
        }
      ]
    },
    {
      "cell_type": "markdown",
      "metadata": {
        "id": "T4PpoZZ4JbEa"
      },
      "source": [
        "# Изменение датафрейма"
      ]
    },
    {
      "cell_type": "code",
      "metadata": {
        "id": "JMe3gEWyJbEb",
        "outputId": "89d4dea0-0e49-4eed-ae21-ba703fa942ad"
      },
      "source": [
        "df.columns"
      ],
      "execution_count": null,
      "outputs": [
        {
          "output_type": "execute_result",
          "data": {
            "text/plain": [
              "Index(['PassengerId', 'Survived', 'Pclass', 'Name', 'Sex', 'Age', 'SibSp',\n",
              "       'Parch', 'Ticket', 'Fare', 'Cabin', 'Embarked'],\n",
              "      dtype='object')"
            ]
          },
          "metadata": {
            "tags": []
          },
          "execution_count": 5
        }
      ]
    },
    {
      "cell_type": "code",
      "metadata": {
        "id": "gNVyYxkVJbEc"
      },
      "source": [
        "# Удаляем столбцы, в которых нет ценной для нас информации\n",
        "df.drop(columns = ['PassengerId', 'Name', 'Ticket', 'Cabin'], axis = 1, inplace = True)"
      ],
      "execution_count": null,
      "outputs": []
    },
    {
      "cell_type": "code",
      "metadata": {
        "id": "2rsrbyJiJbEd"
      },
      "source": [
        "# Округляем стоимость билета до двух знаков после запятой\n",
        "df['Fare'] = round(df['Fare'], 2)"
      ],
      "execution_count": null,
      "outputs": []
    },
    {
      "cell_type": "markdown",
      "metadata": {
        "id": "2J-sGE0tJbEe"
      },
      "source": [
        "Заполняем пустые значения в столбце Embarked с помощью метода fillna()"
      ]
    },
    {
      "cell_type": "code",
      "metadata": {
        "collapsed": true,
        "id": "ZgXEWufMJbEf",
        "outputId": "3a4ea198-0efd-4718-934b-8050085e9e98"
      },
      "source": [
        "df['Embarked'].fillna('no data')"
      ],
      "execution_count": null,
      "outputs": [
        {
          "output_type": "execute_result",
          "data": {
            "text/plain": [
              "0      S\n",
              "1      C\n",
              "2      S\n",
              "3      S\n",
              "4      S\n",
              "5      Q\n",
              "6      S\n",
              "7      S\n",
              "8      S\n",
              "9      C\n",
              "10     S\n",
              "11     S\n",
              "12     S\n",
              "13     S\n",
              "14     S\n",
              "15     S\n",
              "16     Q\n",
              "17     S\n",
              "18     S\n",
              "19     C\n",
              "20     S\n",
              "21     S\n",
              "22     Q\n",
              "23     S\n",
              "24     S\n",
              "25     S\n",
              "26     C\n",
              "27     S\n",
              "28     Q\n",
              "29     S\n",
              "      ..\n",
              "861    S\n",
              "862    S\n",
              "863    S\n",
              "864    S\n",
              "865    S\n",
              "866    C\n",
              "867    S\n",
              "868    S\n",
              "869    S\n",
              "870    S\n",
              "871    S\n",
              "872    S\n",
              "873    S\n",
              "874    C\n",
              "875    C\n",
              "876    S\n",
              "877    S\n",
              "878    S\n",
              "879    C\n",
              "880    S\n",
              "881    S\n",
              "882    S\n",
              "883    S\n",
              "884    S\n",
              "885    Q\n",
              "886    S\n",
              "887    S\n",
              "888    S\n",
              "889    C\n",
              "890    Q\n",
              "Name: Embarked, Length: 891, dtype: object"
            ]
          },
          "metadata": {
            "tags": []
          },
          "execution_count": 12
        }
      ]
    },
    {
      "cell_type": "code",
      "metadata": {
        "id": "v34s_8j1JbEg"
      },
      "source": [
        "df['Embarked'].fillna(df['Embarked'].value_counts().index[0], inplace = True)"
      ],
      "execution_count": null,
      "outputs": []
    },
    {
      "cell_type": "markdown",
      "metadata": {
        "id": "ISov485pJbEh"
      },
      "source": [
        "Другие варианты заполнения пустых значений можно посмотреть в параметрах метода fillna в документации: http://pandas.pydata.org/pandas-docs/stable/reference/api/pandas.DataFrame.fillna.html"
      ]
    },
    {
      "cell_type": "markdown",
      "metadata": {
        "id": "OU-kp7SIJbEi"
      },
      "source": [
        "### Заполняем пропущенные данные о возрасте двумя способами"
      ]
    },
    {
      "cell_type": "code",
      "metadata": {
        "collapsed": true,
        "id": "meJqcL7SJbEi",
        "outputId": "9017449c-cc1e-4ac4-a015-c6258380f2cd"
      },
      "source": [
        "# Способ 1: Средние арифметические\n",
        "df['Age'].fillna(round(df['Age'].mean(), 2))"
      ],
      "execution_count": null,
      "outputs": [
        {
          "output_type": "execute_result",
          "data": {
            "text/plain": [
              "0      22.000000\n",
              "1      38.000000\n",
              "2      26.000000\n",
              "3      35.000000\n",
              "4      35.000000\n",
              "5      29.699118\n",
              "6      54.000000\n",
              "7       2.000000\n",
              "8      27.000000\n",
              "9      14.000000\n",
              "10      4.000000\n",
              "11     58.000000\n",
              "12     20.000000\n",
              "13     39.000000\n",
              "14     14.000000\n",
              "15     55.000000\n",
              "16      2.000000\n",
              "17     29.699118\n",
              "18     31.000000\n",
              "19     29.699118\n",
              "20     35.000000\n",
              "21     34.000000\n",
              "22     15.000000\n",
              "23     28.000000\n",
              "24      8.000000\n",
              "25     38.000000\n",
              "26     29.699118\n",
              "27     19.000000\n",
              "28     29.699118\n",
              "29     29.699118\n",
              "         ...    \n",
              "861    21.000000\n",
              "862    48.000000\n",
              "863    29.699118\n",
              "864    24.000000\n",
              "865    42.000000\n",
              "866    27.000000\n",
              "867    31.000000\n",
              "868    29.699118\n",
              "869     4.000000\n",
              "870    26.000000\n",
              "871    47.000000\n",
              "872    33.000000\n",
              "873    47.000000\n",
              "874    28.000000\n",
              "875    15.000000\n",
              "876    20.000000\n",
              "877    19.000000\n",
              "878    29.699118\n",
              "879    56.000000\n",
              "880    25.000000\n",
              "881    33.000000\n",
              "882    22.000000\n",
              "883    28.000000\n",
              "884    25.000000\n",
              "885    39.000000\n",
              "886    27.000000\n",
              "887    19.000000\n",
              "888    29.699118\n",
              "889    26.000000\n",
              "890    32.000000\n",
              "Name: Age, Length: 891, dtype: float64"
            ]
          },
          "metadata": {
            "tags": []
          },
          "execution_count": 23
        }
      ]
    },
    {
      "cell_type": "code",
      "metadata": {
        "id": "ARAsOkPQJbEj"
      },
      "source": [
        "# Способ 2: Cредние арифметические в зависимости от класса каюты\n",
        "age_1 = df[df['Pclass'] == 1]['Age'].mean()\n",
        "age_2 = df[df['Pclass'] == 2]['Age'].mean()\n",
        "age_3 = df[df['Pclass'] == 3]['Age'].mean()"
      ],
      "execution_count": null,
      "outputs": []
    },
    {
      "cell_type": "code",
      "metadata": {
        "id": "4ngSaqRkJbEk"
      },
      "source": [
        "def fill_age(row):\n",
        "    if pd.isnull(row['Age']):\n",
        "        if row['Pclass'] == 1:\n",
        "            return age_1\n",
        "        if row['Pclass'] == 2:\n",
        "            return age_2\n",
        "        return age_3\n",
        "    return row['Age']"
      ],
      "execution_count": null,
      "outputs": []
    },
    {
      "cell_type": "code",
      "metadata": {
        "id": "9HybocF1JbEl"
      },
      "source": [
        "df['Age'] = df.apply(fill_age, axis = 1)"
      ],
      "execution_count": null,
      "outputs": []
    },
    {
      "cell_type": "markdown",
      "metadata": {
        "id": "SdxWPT5tJbEm"
      },
      "source": [
        "### Создаем новый столбец с информацией о том, был ли пассажир на борту один или с родственниками"
      ]
    },
    {
      "cell_type": "code",
      "metadata": {
        "id": "xye4zLhuJbEm"
      },
      "source": [
        "# Способ 1: с помощью именной функции и apply\n",
        "def is_alone(row):\n",
        "    if row['SibSp'] + row['Parch'] == 0:\n",
        "        return 0\n",
        "    return 1"
      ],
      "execution_count": null,
      "outputs": []
    },
    {
      "cell_type": "code",
      "metadata": {
        "id": "MzzChCg0JbEn"
      },
      "source": [
        "df['alone'] = df.apply(is_alone, axis = 1)"
      ],
      "execution_count": null,
      "outputs": []
    },
    {
      "cell_type": "code",
      "metadata": {
        "id": "h5_VsQzgJbEn"
      },
      "source": [
        "# Способ 2: с помощью lambda-функции\n",
        "df['alone'] = df.apply(lambda row: 1 if row.SibSp + row['Parch'] != 0 else 0, axis = 1)"
      ],
      "execution_count": null,
      "outputs": []
    },
    {
      "cell_type": "code",
      "metadata": {
        "id": "HMbFHhILJbEo",
        "outputId": "4b363a6e-3a54-41f3-f18a-60c8e2d90fe4"
      },
      "source": [
        "# Построим сводную таблицу (pivot_table), в которой отразим количество погибших и выживших \n",
        "# из числа путешествовавших в одиночку или с родственниками\n",
        "df.pivot_table(index = 'Survived', columns = 'alone', values = 'Age', aggfunc = 'count')"
      ],
      "execution_count": null,
      "outputs": [
        {
          "output_type": "execute_result",
          "data": {
            "text/html": [
              "<div>\n",
              "<style scoped>\n",
              "    .dataframe tbody tr th:only-of-type {\n",
              "        vertical-align: middle;\n",
              "    }\n",
              "\n",
              "    .dataframe tbody tr th {\n",
              "        vertical-align: top;\n",
              "    }\n",
              "\n",
              "    .dataframe thead th {\n",
              "        text-align: right;\n",
              "    }\n",
              "</style>\n",
              "<table border=\"1\" class=\"dataframe\">\n",
              "  <thead>\n",
              "    <tr style=\"text-align: right;\">\n",
              "      <th>alone</th>\n",
              "      <th>0</th>\n",
              "      <th>1</th>\n",
              "    </tr>\n",
              "    <tr>\n",
              "      <th>Survived</th>\n",
              "      <th></th>\n",
              "      <th></th>\n",
              "    </tr>\n",
              "  </thead>\n",
              "  <tbody>\n",
              "    <tr>\n",
              "      <th>0</th>\n",
              "      <td>374</td>\n",
              "      <td>175</td>\n",
              "    </tr>\n",
              "    <tr>\n",
              "      <th>1</th>\n",
              "      <td>163</td>\n",
              "      <td>179</td>\n",
              "    </tr>\n",
              "  </tbody>\n",
              "</table>\n",
              "</div>"
            ],
            "text/plain": [
              "alone       0    1\n",
              "Survived          \n",
              "0         374  175\n",
              "1         163  179"
            ]
          },
          "metadata": {
            "tags": []
          },
          "execution_count": 39
        }
      ]
    },
    {
      "cell_type": "markdown",
      "metadata": {
        "id": "67VOxdZPJbEo"
      },
      "source": [
        "### Дополнительные приемы работы с числами"
      ]
    },
    {
      "cell_type": "code",
      "metadata": {
        "id": "6jchf5NoJbEp"
      },
      "source": [
        "new_df = pd.DataFrame({'col1': [1,2,3,4,5], 'col2': '2,5 4,5 3.3 1,5 2,9'.split()})"
      ],
      "execution_count": null,
      "outputs": []
    },
    {
      "cell_type": "code",
      "metadata": {
        "id": "W5Q0ApvvJbEp",
        "outputId": "fa3fbef7-821c-40d8-ea86-d315bdfa1810"
      },
      "source": [
        "new_df"
      ],
      "execution_count": null,
      "outputs": [
        {
          "output_type": "execute_result",
          "data": {
            "text/html": [
              "<div>\n",
              "<style scoped>\n",
              "    .dataframe tbody tr th:only-of-type {\n",
              "        vertical-align: middle;\n",
              "    }\n",
              "\n",
              "    .dataframe tbody tr th {\n",
              "        vertical-align: top;\n",
              "    }\n",
              "\n",
              "    .dataframe thead th {\n",
              "        text-align: right;\n",
              "    }\n",
              "</style>\n",
              "<table border=\"1\" class=\"dataframe\">\n",
              "  <thead>\n",
              "    <tr style=\"text-align: right;\">\n",
              "      <th></th>\n",
              "      <th>col1</th>\n",
              "      <th>col2</th>\n",
              "    </tr>\n",
              "  </thead>\n",
              "  <tbody>\n",
              "    <tr>\n",
              "      <th>0</th>\n",
              "      <td>1</td>\n",
              "      <td>2.5</td>\n",
              "    </tr>\n",
              "    <tr>\n",
              "      <th>1</th>\n",
              "      <td>2</td>\n",
              "      <td>4.5</td>\n",
              "    </tr>\n",
              "    <tr>\n",
              "      <th>2</th>\n",
              "      <td>3</td>\n",
              "      <td>3.3</td>\n",
              "    </tr>\n",
              "    <tr>\n",
              "      <th>3</th>\n",
              "      <td>4</td>\n",
              "      <td>1.5</td>\n",
              "    </tr>\n",
              "    <tr>\n",
              "      <th>4</th>\n",
              "      <td>5</td>\n",
              "      <td>2.9</td>\n",
              "    </tr>\n",
              "  </tbody>\n",
              "</table>\n",
              "</div>"
            ],
            "text/plain": [
              "   col1 col2\n",
              "0     1  2.5\n",
              "1     2  4.5\n",
              "2     3  3.3\n",
              "3     4  1.5\n",
              "4     5  2.9"
            ]
          },
          "metadata": {
            "tags": []
          },
          "execution_count": 45
        }
      ]
    },
    {
      "cell_type": "code",
      "metadata": {
        "id": "5iHWxeDtJbEq",
        "outputId": "4fa48bd0-3c03-40e1-d5f9-bc52f81cd1c9"
      },
      "source": [
        "new_df.info()"
      ],
      "execution_count": null,
      "outputs": [
        {
          "output_type": "stream",
          "text": [
            "<class 'pandas.core.frame.DataFrame'>\n",
            "RangeIndex: 5 entries, 0 to 4\n",
            "Data columns (total 2 columns):\n",
            "col1    5 non-null int64\n",
            "col2    5 non-null float64\n",
            "dtypes: float64(1), int64(1)\n",
            "memory usage: 160.0 bytes\n"
          ],
          "name": "stdout"
        }
      ]
    },
    {
      "cell_type": "code",
      "metadata": {
        "id": "iOGg6WVjJbEr",
        "outputId": "757c99af-cb6b-447b-b132-b3799270e91a"
      },
      "source": [
        "new_df['col2'].sum()"
      ],
      "execution_count": null,
      "outputs": [
        {
          "output_type": "execute_result",
          "data": {
            "text/plain": [
              "'2,54,53.31,52,9'"
            ]
          },
          "metadata": {
            "tags": []
          },
          "execution_count": 43
        }
      ]
    },
    {
      "cell_type": "code",
      "metadata": {
        "id": "f_TXjg-kJbEr"
      },
      "source": [
        "new_df['col2'] = new_df['col2'].apply(lambda x: x.replace(',', '.'))"
      ],
      "execution_count": null,
      "outputs": []
    },
    {
      "cell_type": "markdown",
      "metadata": {
        "id": "nl6LAYUaJbEs"
      },
      "source": [
        "Три способа перевода значений в числовой формат:"
      ]
    },
    {
      "cell_type": "code",
      "metadata": {
        "id": "PotmfxVRJbEs"
      },
      "source": [
        "new_df['col2'] = pd.to_numeric(new_df['col2'])"
      ],
      "execution_count": null,
      "outputs": []
    },
    {
      "cell_type": "code",
      "metadata": {
        "id": "LbiQjA8HJbEt"
      },
      "source": [
        "new_df['col2'] = new_df['col2'].astype('float64', inplace = True)"
      ],
      "execution_count": null,
      "outputs": []
    },
    {
      "cell_type": "code",
      "metadata": {
        "id": "1wO8tL8mJbEt"
      },
      "source": [
        "new_df['col2'] = new_df['col2'].apply(lambda x: float(x))"
      ],
      "execution_count": null,
      "outputs": []
    },
    {
      "cell_type": "code",
      "metadata": {
        "id": "WRMvETEtJbEt"
      },
      "source": [
        ""
      ],
      "execution_count": null,
      "outputs": []
    }
  ]
}