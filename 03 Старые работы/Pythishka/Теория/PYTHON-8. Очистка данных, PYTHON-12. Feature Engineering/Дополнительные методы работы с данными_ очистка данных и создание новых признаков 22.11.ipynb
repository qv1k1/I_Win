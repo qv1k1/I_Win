{
  "nbformat": 4,
  "nbformat_minor": 0,
  "metadata": {
    "kernelspec": {
      "display_name": "Python 3",
      "language": "python",
      "name": "python3"
    },
    "language_info": {
      "codemirror_mode": {
        "name": "ipython",
        "version": 3
      },
      "file_extension": ".py",
      "mimetype": "text/x-python",
      "name": "python",
      "nbconvert_exporter": "python",
      "pygments_lexer": "ipython3",
      "version": "3.7.4"
    },
    "colab": {
      "name": "Очистка_данных_и_создание_новых.ipynb",
      "provenance": [],
      "collapsed_sections": [
        "UH1FTe6DaMss",
        "15mOnnn0aMs2",
        "URQkolgjaMuK",
        "YL5_CsH8aMuf",
        "Rt_v6AD4aMvA",
        "YAd8gmI5aMv2",
        "tsrMLLCBaMwN"
      ]
    }
  },
  "cells": [
    {
      "cell_type": "markdown",
      "metadata": {
        "id": "3w1GBeaeaMq_"
      },
      "source": [
        "### Очистка и подготовка данных\n",
        "\n",
        "Данные не всегда представляют собой идеально организованный набор наблюдений без каких-либо пропусков или аномалий Обычно данные содержат в себе кучу мусора, который необходимо почистить, да и вообще сами данные порой лучше воспринимать критически, для того чтобы затем привести их в приемлемый формат. Чистка данных — это необходимый этап решения почти любой реальной задачи.\n",
        "\n"
      ]
    },
    {
      "cell_type": "markdown",
      "metadata": {
        "id": "pi9sfaVhaMrG"
      },
      "source": [
        "Источники недостающих ценностей\n",
        "\n",
        "Прежде чем мы углубимся в код, важно понять источники недостающих данных. Вот несколько типичных причин отсутствия данных:\n",
        "<ol>\n",
        "    <li> Пользователь забыл заполнить поле.</li>\n",
        "\n",
        "<li> Данные были потеряны при переносе вручную из устаревшей базы данных.</li>\n",
        "\n",
        "<li> Произошла ошибка программирования.</li>\n",
        "\n",
        "<li> Пользователи решили не заполнять поле, связанное с их мнением о том, как результаты будут использоваться или интерпретироваться.</li>\n",
        "</ol>"
      ]
    },
    {
      "cell_type": "markdown",
      "metadata": {
        "id": "nWj6ar5waMrJ"
      },
      "source": [
        "### 2 главные проблемы при подготовке данных: пропущенные значения и неправильная типизация\n"
      ]
    },
    {
      "cell_type": "code",
      "metadata": {
        "id": "Q2AbiNwKaMrM"
      },
      "source": [
        "import pandas as pd\n",
        " \n",
        "df = pd.read_csv('https://raw.githubusercontent.com/alnagaev/landing/master/train.csv')"
      ],
      "execution_count": 1,
      "outputs": []
    },
    {
      "cell_type": "code",
      "metadata": {
        "id": "R0q1OoddaMrc",
        "colab": {
          "base_uri": "https://localhost:8080/",
          "height": 206
        },
        "outputId": "1a90f4ac-af4a-43a4-8641-30793137a617"
      },
      "source": [
        "df.head()"
      ],
      "execution_count": null,
      "outputs": [
        {
          "output_type": "execute_result",
          "data": {
            "text/html": [
              "<div>\n",
              "<style scoped>\n",
              "    .dataframe tbody tr th:only-of-type {\n",
              "        vertical-align: middle;\n",
              "    }\n",
              "\n",
              "    .dataframe tbody tr th {\n",
              "        vertical-align: top;\n",
              "    }\n",
              "\n",
              "    .dataframe thead th {\n",
              "        text-align: right;\n",
              "    }\n",
              "</style>\n",
              "<table border=\"1\" class=\"dataframe\">\n",
              "  <thead>\n",
              "    <tr style=\"text-align: right;\">\n",
              "      <th></th>\n",
              "      <th>PassengerId</th>\n",
              "      <th>Survived</th>\n",
              "      <th>Pclass</th>\n",
              "      <th>Name</th>\n",
              "      <th>Sex</th>\n",
              "      <th>Age</th>\n",
              "      <th>SibSp</th>\n",
              "      <th>Parch</th>\n",
              "      <th>Ticket</th>\n",
              "      <th>Fare</th>\n",
              "      <th>Cabin</th>\n",
              "      <th>Embarked</th>\n",
              "    </tr>\n",
              "  </thead>\n",
              "  <tbody>\n",
              "    <tr>\n",
              "      <th>0</th>\n",
              "      <td>1</td>\n",
              "      <td>0</td>\n",
              "      <td>3</td>\n",
              "      <td>Braund, Mr. Owen Harris</td>\n",
              "      <td>male</td>\n",
              "      <td>22.0</td>\n",
              "      <td>1</td>\n",
              "      <td>0</td>\n",
              "      <td>A/5 21171</td>\n",
              "      <td>7.2500</td>\n",
              "      <td>NaN</td>\n",
              "      <td>S</td>\n",
              "    </tr>\n",
              "    <tr>\n",
              "      <th>1</th>\n",
              "      <td>2</td>\n",
              "      <td>1</td>\n",
              "      <td>1</td>\n",
              "      <td>Cumings, Mrs. John Bradley (Florence Briggs Th...</td>\n",
              "      <td>female</td>\n",
              "      <td>38.0</td>\n",
              "      <td>1</td>\n",
              "      <td>0</td>\n",
              "      <td>PC 17599</td>\n",
              "      <td>71.2833</td>\n",
              "      <td>C85</td>\n",
              "      <td>C</td>\n",
              "    </tr>\n",
              "    <tr>\n",
              "      <th>2</th>\n",
              "      <td>3</td>\n",
              "      <td>1</td>\n",
              "      <td>3</td>\n",
              "      <td>Heikkinen, Miss. Laina</td>\n",
              "      <td>female</td>\n",
              "      <td>26.0</td>\n",
              "      <td>0</td>\n",
              "      <td>0</td>\n",
              "      <td>STON/O2. 3101282</td>\n",
              "      <td>7.9250</td>\n",
              "      <td>NaN</td>\n",
              "      <td>S</td>\n",
              "    </tr>\n",
              "    <tr>\n",
              "      <th>3</th>\n",
              "      <td>4</td>\n",
              "      <td>1</td>\n",
              "      <td>1</td>\n",
              "      <td>Futrelle, Mrs. Jacques Heath (Lily May Peel)</td>\n",
              "      <td>female</td>\n",
              "      <td>35.0</td>\n",
              "      <td>1</td>\n",
              "      <td>0</td>\n",
              "      <td>113803</td>\n",
              "      <td>53.1000</td>\n",
              "      <td>C123</td>\n",
              "      <td>S</td>\n",
              "    </tr>\n",
              "    <tr>\n",
              "      <th>4</th>\n",
              "      <td>5</td>\n",
              "      <td>0</td>\n",
              "      <td>3</td>\n",
              "      <td>Allen, Mr. William Henry</td>\n",
              "      <td>male</td>\n",
              "      <td>35.0</td>\n",
              "      <td>0</td>\n",
              "      <td>0</td>\n",
              "      <td>373450</td>\n",
              "      <td>8.0500</td>\n",
              "      <td>NaN</td>\n",
              "      <td>S</td>\n",
              "    </tr>\n",
              "  </tbody>\n",
              "</table>\n",
              "</div>"
            ],
            "text/plain": [
              "   PassengerId  Survived  Pclass  ...     Fare Cabin  Embarked\n",
              "0            1         0       3  ...   7.2500   NaN         S\n",
              "1            2         1       1  ...  71.2833   C85         C\n",
              "2            3         1       3  ...   7.9250   NaN         S\n",
              "3            4         1       1  ...  53.1000  C123         S\n",
              "4            5         0       3  ...   8.0500   NaN         S\n",
              "\n",
              "[5 rows x 12 columns]"
            ]
          },
          "metadata": {
            "tags": []
          },
          "execution_count": 61
        }
      ]
    },
    {
      "cell_type": "code",
      "metadata": {
        "id": "aL1sdwGiJoea",
        "colab": {
          "base_uri": "https://localhost:8080/",
          "height": 34
        },
        "outputId": "64e19114-02d8-47b9-e05c-8a435e7f45cb"
      },
      "source": [
        "df.shape"
      ],
      "execution_count": null,
      "outputs": [
        {
          "output_type": "execute_result",
          "data": {
            "text/plain": [
              "(891, 12)"
            ]
          },
          "metadata": {
            "tags": []
          },
          "execution_count": 62
        }
      ]
    },
    {
      "cell_type": "code",
      "metadata": {
        "id": "R_yNfL0yaMrq",
        "colab": {
          "base_uri": "https://localhost:8080/",
          "height": 347
        },
        "outputId": "c102c83d-a1ff-46ed-dbeb-137bb02774f8"
      },
      "source": [
        "df.info()\n",
        "#показывает в том числе сколько пропущенных значений"
      ],
      "execution_count": null,
      "outputs": [
        {
          "output_type": "stream",
          "text": [
            "<class 'pandas.core.frame.DataFrame'>\n",
            "RangeIndex: 891 entries, 0 to 890\n",
            "Data columns (total 12 columns):\n",
            " #   Column       Non-Null Count  Dtype  \n",
            "---  ------       --------------  -----  \n",
            " 0   PassengerId  891 non-null    int64  \n",
            " 1   Survived     891 non-null    int64  \n",
            " 2   Pclass       891 non-null    int64  \n",
            " 3   Name         891 non-null    object \n",
            " 4   Sex          891 non-null    object \n",
            " 5   Age          714 non-null    float64\n",
            " 6   SibSp        891 non-null    int64  \n",
            " 7   Parch        891 non-null    int64  \n",
            " 8   Ticket       891 non-null    object \n",
            " 9   Fare         891 non-null    float64\n",
            " 10  Cabin        204 non-null    object \n",
            " 11  Embarked     889 non-null    object \n",
            "dtypes: float64(2), int64(5), object(5)\n",
            "memory usage: 83.7+ KB\n"
          ],
          "name": "stdout"
        }
      ]
    },
    {
      "cell_type": "markdown",
      "metadata": {
        "id": "08TBSfdER--W"
      },
      "source": [
        "To do list:\n",
        "\n",
        "1) Возраст\n",
        "\n",
        "2) Каюта"
      ]
    },
    {
      "cell_type": "markdown",
      "metadata": {
        "id": "hDMy9y5SaMr8"
      },
      "source": [
        "Очистка данных порой предполагает избавление от неиспользуемых сущностей/столбцов"
      ]
    },
    {
      "cell_type": "code",
      "metadata": {
        "id": "mcL2OFlUaMr-"
      },
      "source": [
        "# Удаляем столбцы, в которых нет ценной для нас информации\n",
        "df.drop(['Ticket', 'Cabin'], axis = 1, inplace=True)"
      ],
      "execution_count": null,
      "outputs": []
    },
    {
      "cell_type": "code",
      "metadata": {
        "id": "IBjU3_ePaMsJ",
        "colab": {
          "base_uri": "https://localhost:8080/",
          "height": 206
        },
        "outputId": "56943165-a293-41ad-9551-af13e4637b80"
      },
      "source": [
        "df.head()"
      ],
      "execution_count": null,
      "outputs": [
        {
          "output_type": "execute_result",
          "data": {
            "text/html": [
              "<div>\n",
              "<style scoped>\n",
              "    .dataframe tbody tr th:only-of-type {\n",
              "        vertical-align: middle;\n",
              "    }\n",
              "\n",
              "    .dataframe tbody tr th {\n",
              "        vertical-align: top;\n",
              "    }\n",
              "\n",
              "    .dataframe thead th {\n",
              "        text-align: right;\n",
              "    }\n",
              "</style>\n",
              "<table border=\"1\" class=\"dataframe\">\n",
              "  <thead>\n",
              "    <tr style=\"text-align: right;\">\n",
              "      <th></th>\n",
              "      <th>PassengerId</th>\n",
              "      <th>Survived</th>\n",
              "      <th>Pclass</th>\n",
              "      <th>Name</th>\n",
              "      <th>Sex</th>\n",
              "      <th>Age</th>\n",
              "      <th>SibSp</th>\n",
              "      <th>Parch</th>\n",
              "      <th>Fare</th>\n",
              "      <th>Embarked</th>\n",
              "    </tr>\n",
              "  </thead>\n",
              "  <tbody>\n",
              "    <tr>\n",
              "      <th>0</th>\n",
              "      <td>1</td>\n",
              "      <td>0</td>\n",
              "      <td>3</td>\n",
              "      <td>Braund, Mr. Owen Harris</td>\n",
              "      <td>male</td>\n",
              "      <td>22.0</td>\n",
              "      <td>1</td>\n",
              "      <td>0</td>\n",
              "      <td>7.2500</td>\n",
              "      <td>S</td>\n",
              "    </tr>\n",
              "    <tr>\n",
              "      <th>1</th>\n",
              "      <td>2</td>\n",
              "      <td>1</td>\n",
              "      <td>1</td>\n",
              "      <td>Cumings, Mrs. John Bradley (Florence Briggs Th...</td>\n",
              "      <td>female</td>\n",
              "      <td>38.0</td>\n",
              "      <td>1</td>\n",
              "      <td>0</td>\n",
              "      <td>71.2833</td>\n",
              "      <td>C</td>\n",
              "    </tr>\n",
              "    <tr>\n",
              "      <th>2</th>\n",
              "      <td>3</td>\n",
              "      <td>1</td>\n",
              "      <td>3</td>\n",
              "      <td>Heikkinen, Miss. Laina</td>\n",
              "      <td>female</td>\n",
              "      <td>26.0</td>\n",
              "      <td>0</td>\n",
              "      <td>0</td>\n",
              "      <td>7.9250</td>\n",
              "      <td>S</td>\n",
              "    </tr>\n",
              "    <tr>\n",
              "      <th>3</th>\n",
              "      <td>4</td>\n",
              "      <td>1</td>\n",
              "      <td>1</td>\n",
              "      <td>Futrelle, Mrs. Jacques Heath (Lily May Peel)</td>\n",
              "      <td>female</td>\n",
              "      <td>35.0</td>\n",
              "      <td>1</td>\n",
              "      <td>0</td>\n",
              "      <td>53.1000</td>\n",
              "      <td>S</td>\n",
              "    </tr>\n",
              "    <tr>\n",
              "      <th>4</th>\n",
              "      <td>5</td>\n",
              "      <td>0</td>\n",
              "      <td>3</td>\n",
              "      <td>Allen, Mr. William Henry</td>\n",
              "      <td>male</td>\n",
              "      <td>35.0</td>\n",
              "      <td>0</td>\n",
              "      <td>0</td>\n",
              "      <td>8.0500</td>\n",
              "      <td>S</td>\n",
              "    </tr>\n",
              "  </tbody>\n",
              "</table>\n",
              "</div>"
            ],
            "text/plain": [
              "   PassengerId  Survived  Pclass  ... Parch     Fare  Embarked\n",
              "0            1         0       3  ...     0   7.2500         S\n",
              "1            2         1       1  ...     0  71.2833         C\n",
              "2            3         1       3  ...     0   7.9250         S\n",
              "3            4         1       1  ...     0  53.1000         S\n",
              "4            5         0       3  ...     0   8.0500         S\n",
              "\n",
              "[5 rows x 10 columns]"
            ]
          },
          "metadata": {
            "tags": []
          },
          "execution_count": 21
        }
      ]
    },
    {
      "cell_type": "code",
      "metadata": {
        "id": "l1A-XyfjaMsR"
      },
      "source": [
        "# Округляем стоимость билета до двух знаков после запятой\n",
        "df.Fare = round(df.Fare, 2)\n"
      ],
      "execution_count": null,
      "outputs": []
    },
    {
      "cell_type": "markdown",
      "metadata": {
        "id": "5Tkd1X_aaMsf"
      },
      "source": [
        " Посчитаем пропущенные значения"
      ]
    },
    {
      "cell_type": "code",
      "metadata": {
        "id": "wBb90ec6aMsh",
        "colab": {
          "base_uri": "https://localhost:8080/",
          "height": 243
        },
        "outputId": "7380793d-f4ab-44e1-9fcc-bc172d220cbe"
      },
      "source": [
        "df.isna().sum()"
      ],
      "execution_count": null,
      "outputs": [
        {
          "output_type": "execute_result",
          "data": {
            "text/plain": [
              "PassengerId      0\n",
              "Survived         0\n",
              "Pclass           0\n",
              "Name             0\n",
              "Sex              0\n",
              "Age            177\n",
              "SibSp            0\n",
              "Parch            0\n",
              "Ticket           0\n",
              "Fare             0\n",
              "Cabin          687\n",
              "Embarked         2\n",
              "dtype: int64"
            ]
          },
          "metadata": {
            "tags": []
          },
          "execution_count": 26
        }
      ]
    },
    {
      "cell_type": "markdown",
      "metadata": {
        "id": "_1Z7wZmraMsq"
      },
      "source": [
        "Nan = not a number "
      ]
    },
    {
      "cell_type": "markdown",
      "metadata": {
        "id": "UH1FTe6DaMss"
      },
      "source": [
        "### Пропущенные значения можно удалить, но скорее так делать не следует"
      ]
    },
    {
      "cell_type": "code",
      "metadata": {
        "id": "FehhXfcraMst",
        "colab": {
          "base_uri": "https://localhost:8080/",
          "height": 86
        },
        "outputId": "d5a36669-9581-49c7-9865-a59305a076ea"
      },
      "source": [
        "df[df['Age'].isna()]['Pclass'].value_counts(normalize=True)\n",
        "#можно настраивать и изменять способ удаления данных, например с помощью параметра thresh=2, который оставит строки с боллее чем 2 непустыми значениями"
      ],
      "execution_count": null,
      "outputs": [
        {
          "output_type": "execute_result",
          "data": {
            "text/plain": [
              "3    0.768362\n",
              "1    0.169492\n",
              "2    0.062147\n",
              "Name: Pclass, dtype: float64"
            ]
          },
          "metadata": {
            "tags": []
          },
          "execution_count": 33
        }
      ]
    },
    {
      "cell_type": "markdown",
      "metadata": {
        "id": "15mOnnn0aMs2"
      },
      "source": [
        "### Пропущенные значения можно заменять на что-то другое"
      ]
    },
    {
      "cell_type": "code",
      "metadata": {
        "id": "AiiijZKsaMs3",
        "colab": {
          "base_uri": "https://localhost:8080/",
          "height": 34
        },
        "outputId": "917094c8-1a43-448c-c59f-a77f03130d29"
      },
      "source": [
        "#Способ 1: Константа \n",
        "df['Age'].median()"
      ],
      "execution_count": null,
      "outputs": [
        {
          "output_type": "execute_result",
          "data": {
            "text/plain": [
              "28.0"
            ]
          },
          "metadata": {
            "tags": []
          },
          "execution_count": 42
        }
      ]
    },
    {
      "cell_type": "code",
      "metadata": {
        "id": "UxK5CSvnPH2M",
        "colab": {
          "base_uri": "https://localhost:8080/",
          "height": 282
        },
        "outputId": "1cdc4177-c805-42ba-816c-51962156ec05"
      },
      "source": [
        "df['Age'].hist(bins=20)"
      ],
      "execution_count": null,
      "outputs": [
        {
          "output_type": "execute_result",
          "data": {
            "text/plain": [
              "<matplotlib.axes._subplots.AxesSubplot at 0x7f36ed917588>"
            ]
          },
          "metadata": {
            "tags": []
          },
          "execution_count": 41
        },
        {
          "output_type": "display_data",
          "data": {
            "image/png": "[encoded data removed]",
            "text/plain": [
              "<Figure size 432x288 with 1 Axes>"
            ]
          },
          "metadata": {
            "tags": [],
            "needs_background": "light"
          }
        }
      ]
    },
    {
      "cell_type": "code",
      "metadata": {
        "id": "Sy1ysKwXaMtC",
        "colab": {
          "base_uri": "https://localhost:8080/",
          "height": 243
        },
        "outputId": "f0736f81-0381-45da-a05d-1b8a97504af2"
      },
      "source": [
        "# Способ 2: медиана\n",
        "print(df['Age'].median())\n",
        "df['Age'].fillna(df['Age'].median())"
      ],
      "execution_count": null,
      "outputs": [
        {
          "output_type": "stream",
          "text": [
            "28.0\n"
          ],
          "name": "stdout"
        },
        {
          "output_type": "execute_result",
          "data": {
            "text/plain": [
              "0      22.0\n",
              "1      38.0\n",
              "2      26.0\n",
              "3      35.0\n",
              "4      35.0\n",
              "       ... \n",
              "886    27.0\n",
              "887    19.0\n",
              "888    28.0\n",
              "889    26.0\n",
              "890    32.0\n",
              "Name: Age, Length: 891, dtype: float64"
            ]
          },
          "metadata": {
            "tags": []
          },
          "execution_count": 43
        }
      ]
    },
    {
      "cell_type": "code",
      "metadata": {
        "id": "YtdqID8TaMtM"
      },
      "source": [
        "# Способ 2: Cредние арифметические в зависимости от класса каюты\n",
        "age_1 = df[df['Pclass'] == 1]['Age'].mean()\n",
        "age_2 = df[df['Pclass'] == 2]['Age'].mean()\n",
        "age_3 = df[df['Pclass'] == 3]['Age'].mean()"
      ],
      "execution_count": null,
      "outputs": []
    },
    {
      "cell_type": "code",
      "metadata": {
        "id": "gutuFwpRaMtc"
      },
      "source": [
        "def fill_age(row):\n",
        "    if pd.isnull(row['Age']):\n",
        "        if row['Pclass'] == 1:\n",
        "            return age_1\n",
        "        \n",
        "        if row['Pclass'] == 2:\n",
        "            return age_2\n",
        "        \n",
        "        if row['Pclass'] == 3:\n",
        "            return age_3\n",
        "        \n",
        "    return row['Age']"
      ],
      "execution_count": null,
      "outputs": []
    },
    {
      "cell_type": "code",
      "metadata": {
        "id": "bzZY9VYJaMtj",
        "colab": {
          "base_uri": "https://localhost:8080/",
          "height": 225
        },
        "outputId": "1139987f-170e-49a2-9a61-d33e3cde6d2a"
      },
      "source": [
        "df.apply(fill_age, axis=1)"
      ],
      "execution_count": null,
      "outputs": [
        {
          "output_type": "execute_result",
          "data": {
            "text/plain": [
              "0      22.00000\n",
              "1      38.00000\n",
              "2      26.00000\n",
              "3      35.00000\n",
              "4      35.00000\n",
              "         ...   \n",
              "886    27.00000\n",
              "887    19.00000\n",
              "888    25.14062\n",
              "889    26.00000\n",
              "890    32.00000\n",
              "Length: 891, dtype: float64"
            ]
          },
          "metadata": {
            "tags": []
          },
          "execution_count": 49
        }
      ]
    },
    {
      "cell_type": "markdown",
      "metadata": {
        "id": "HB0lbLB0aMtq"
      },
      "source": [
        "https://pandas.pydata.org/pandas-docs/version/0.16.2/generated/pandas.DataFrame.interpolate.html\n",
        "\n",
        "https://stackoverflow.com/questions/19966018/pandas-filling-missing-values-by-mean-in-each-group"
      ]
    },
    {
      "cell_type": "markdown",
      "metadata": {
        "id": "dyQ_0tk8dI1g"
      },
      "source": [
        "## Метод GROUP BY (Привет SQL)"
      ]
    },
    {
      "cell_type": "markdown",
      "metadata": {
        "id": "cek2hDzxaMuK"
      },
      "source": [
        "Принцип действия **groupby**\n",
        "![](https://i.stack.imgur.com/sgCn1.jpg)\n",
        "\n",
        "- Разделение данных по группам по определенному критерию\n",
        "\n",
        "- Применение к каждой группе определенной функции\n",
        "\n",
        "- Сложение результатов в единую структуру"
      ]
    },
    {
      "cell_type": "code",
      "metadata": {
        "colab": {
          "base_uri": "https://localhost:8080/"
        },
        "id": "M6kO2-oVdSFo",
        "outputId": "7970ac2a-c17b-402d-ebac-c80fbbf4fea3"
      },
      "source": [
        "df.groupby('Pclass')['Age'].agg('mean')"
      ],
      "execution_count": 2,
      "outputs": [
        {
          "output_type": "execute_result",
          "data": {
            "text/plain": [
              "Pclass\n",
              "1    38.233441\n",
              "2    29.877630\n",
              "3    25.140620\n",
              "Name: Age, dtype: float64"
            ]
          },
          "metadata": {
            "tags": []
          },
          "execution_count": 2
        }
      ]
    },
    {
      "cell_type": "code",
      "metadata": {
        "id": "EZGIpQw4aMts",
        "colab": {
          "base_uri": "https://localhost:8080/",
          "height": 225
        },
        "outputId": "f4e5aee6-fda1-4e5b-d2cf-b26b40843ae0"
      },
      "source": [
        "df.groupby('Pclass')['Age'].apply(lambda x:x.fillna(x.mean()))"
      ],
      "execution_count": null,
      "outputs": [
        {
          "output_type": "execute_result",
          "data": {
            "text/plain": [
              "0      22.00000\n",
              "1      38.00000\n",
              "2      26.00000\n",
              "3      35.00000\n",
              "4      35.00000\n",
              "         ...   \n",
              "886    27.00000\n",
              "887    19.00000\n",
              "888    25.14062\n",
              "889    26.00000\n",
              "890    32.00000\n",
              "Name: Age, Length: 891, dtype: float64"
            ]
          },
          "metadata": {
            "tags": []
          },
          "execution_count": 48
        }
      ]
    },
    {
      "cell_type": "markdown",
      "metadata": {
        "id": "Vua3AghxaMt2"
      },
      "source": [
        "На всякий случай проверяем равны ли полученные объекты"
      ]
    },
    {
      "cell_type": "code",
      "metadata": {
        "id": "g-3uXJk9aMt2",
        "colab": {
          "base_uri": "https://localhost:8080/",
          "height": 34
        },
        "outputId": "f2e4203b-5d1d-4406-9a46-9803d45027be"
      },
      "source": [
        "(df.apply(fill_age, axis = 1)).equals(df.groupby('Pclass')['Age'].apply(lambda x:x.fillna(x.mean())))"
      ],
      "execution_count": null,
      "outputs": [
        {
          "output_type": "execute_result",
          "data": {
            "text/plain": [
              "True"
            ]
          },
          "metadata": {
            "tags": []
          },
          "execution_count": 67
        }
      ]
    },
    {
      "cell_type": "code",
      "metadata": {
        "id": "LMPyWGLkaMt8",
        "colab": {
          "base_uri": "https://localhost:8080/",
          "height": 225
        },
        "outputId": "1d9ac917-51d4-451a-c5da-3b8232143993"
      },
      "source": [
        "df.groupby('Pclass')['Age'].apply(lambda x:x.fillna(x.mean()))"
      ],
      "execution_count": null,
      "outputs": [
        {
          "output_type": "execute_result",
          "data": {
            "text/plain": [
              "0      22.00000\n",
              "1      38.00000\n",
              "2      26.00000\n",
              "3      35.00000\n",
              "4      35.00000\n",
              "         ...   \n",
              "886    27.00000\n",
              "887    19.00000\n",
              "888    25.14062\n",
              "889    26.00000\n",
              "890    32.00000\n",
              "Name: Age, Length: 891, dtype: float64"
            ]
          },
          "metadata": {
            "tags": []
          },
          "execution_count": 55
        }
      ]
    },
    {
      "cell_type": "code",
      "metadata": {
        "scrolled": true,
        "id": "P5rq6l6-aMuD",
        "colab": {
          "base_uri": "https://localhost:8080/",
          "height": 225
        },
        "outputId": "cf213401-d33b-4ebf-8300-26b859575dac"
      },
      "source": [
        "df.groupby('Pclass')['Age'].apply(lambda x:x.fillna(x.mean()))"
      ],
      "execution_count": null,
      "outputs": [
        {
          "output_type": "execute_result",
          "data": {
            "text/plain": [
              "0      22.00000\n",
              "1      38.00000\n",
              "2      26.00000\n",
              "3      35.00000\n",
              "4      35.00000\n",
              "         ...   \n",
              "886    27.00000\n",
              "887    19.00000\n",
              "888    25.14062\n",
              "889    26.00000\n",
              "890    32.00000\n",
              "Name: Age, Length: 891, dtype: float64"
            ]
          },
          "metadata": {
            "tags": []
          },
          "execution_count": 66
        }
      ]
    },
    {
      "cell_type": "code",
      "metadata": {
        "id": "AFz1BlGiakY0",
        "colab": {
          "base_uri": "https://localhost:8080/",
          "height": 34
        },
        "outputId": "84d9800f-9add-4f9a-86c8-6c6f3ee4e804"
      },
      "source": [
        "%%timeit\n",
        "df.groupby('Pclass')['Survived'].agg(sum)"
      ],
      "execution_count": null,
      "outputs": [
        {
          "output_type": "stream",
          "text": [
            "1000 loops, best of 3: 915 µs per loop\n"
          ],
          "name": "stdout"
        }
      ]
    },
    {
      "cell_type": "code",
      "metadata": {
        "id": "ajNpR70PdPZJ",
        "colab": {
          "base_uri": "https://localhost:8080/",
          "height": 156
        },
        "outputId": "6ef4eca4-d18a-45f6-c175-b4b6c3f1bffa"
      },
      "source": [
        "df.groupby(['Pclass', 'Sex'])['Age'].agg('mean')\n"
      ],
      "execution_count": null,
      "outputs": [
        {
          "output_type": "execute_result",
          "data": {
            "text/plain": [
              "Pclass  Sex   \n",
              "1       female    34.611765\n",
              "        male      41.281386\n",
              "2       female    28.722973\n",
              "        male      30.740707\n",
              "3       female    21.750000\n",
              "        male      26.507589\n",
              "Name: Age, dtype: float64"
            ]
          },
          "metadata": {
            "tags": []
          },
          "execution_count": 87
        }
      ]
    },
    {
      "cell_type": "markdown",
      "metadata": {
        "id": "URQkolgjaMuK"
      },
      "source": [
        "### Создаем новый столбец с информацией о том, был ли пассажир на борту один или с родственниками\n",
        "Столбец должен содержать значение \"alone\", если он был на борту один (без супруга/супруги, братьев, сестер, детей и родителей) и значение \"not alone\", если пассажир путешествовал с кем-то из родственников\n",
        "\n",
        "sibsp Number of Siblings/Spouses Aboard\n",
        "\n",
        "parch Number of Parents/Children Aboard "
      ]
    },
    {
      "cell_type": "code",
      "metadata": {
        "id": "vLxci9OUaMuL",
        "colab": {
          "base_uri": "https://localhost:8080/",
          "height": 458
        },
        "outputId": "a9bf1e26-0b44-48dd-ad81-1abab3558de1"
      },
      "source": [
        "# Способ 1: с помощью именной функции и apply\n",
        "def alone_check(row):\n",
        "    if row['SibSp'] or row['Parch']:\n",
        "        return 0\n",
        "    return 1\n",
        "    \n",
        "df['Alone'] = df.apply(alone_check, axis=1)\n",
        "df"
      ],
      "execution_count": null,
      "outputs": [
        {
          "output_type": "execute_result",
          "data": {
            "text/html": [
              "<div>\n",
              "<style scoped>\n",
              "    .dataframe tbody tr th:only-of-type {\n",
              "        vertical-align: middle;\n",
              "    }\n",
              "\n",
              "    .dataframe tbody tr th {\n",
              "        vertical-align: top;\n",
              "    }\n",
              "\n",
              "    .dataframe thead th {\n",
              "        text-align: right;\n",
              "    }\n",
              "</style>\n",
              "<table border=\"1\" class=\"dataframe\">\n",
              "  <thead>\n",
              "    <tr style=\"text-align: right;\">\n",
              "      <th></th>\n",
              "      <th>PassengerId</th>\n",
              "      <th>Survived</th>\n",
              "      <th>Pclass</th>\n",
              "      <th>Name</th>\n",
              "      <th>Sex</th>\n",
              "      <th>Age</th>\n",
              "      <th>SibSp</th>\n",
              "      <th>Parch</th>\n",
              "      <th>Ticket</th>\n",
              "      <th>Fare</th>\n",
              "      <th>Cabin</th>\n",
              "      <th>Embarked</th>\n",
              "      <th>Alone</th>\n",
              "    </tr>\n",
              "  </thead>\n",
              "  <tbody>\n",
              "    <tr>\n",
              "      <th>0</th>\n",
              "      <td>1</td>\n",
              "      <td>0</td>\n",
              "      <td>3</td>\n",
              "      <td>Braund, Mr. Owen Harris</td>\n",
              "      <td>male</td>\n",
              "      <td>22.0</td>\n",
              "      <td>1</td>\n",
              "      <td>0</td>\n",
              "      <td>A/5 21171</td>\n",
              "      <td>7.2500</td>\n",
              "      <td>NaN</td>\n",
              "      <td>S</td>\n",
              "      <td>0</td>\n",
              "    </tr>\n",
              "    <tr>\n",
              "      <th>1</th>\n",
              "      <td>2</td>\n",
              "      <td>1</td>\n",
              "      <td>1</td>\n",
              "      <td>Cumings, Mrs. John Bradley (Florence Briggs Th...</td>\n",
              "      <td>female</td>\n",
              "      <td>38.0</td>\n",
              "      <td>1</td>\n",
              "      <td>0</td>\n",
              "      <td>PC 17599</td>\n",
              "      <td>71.2833</td>\n",
              "      <td>C85</td>\n",
              "      <td>C</td>\n",
              "      <td>0</td>\n",
              "    </tr>\n",
              "    <tr>\n",
              "      <th>2</th>\n",
              "      <td>3</td>\n",
              "      <td>1</td>\n",
              "      <td>3</td>\n",
              "      <td>Heikkinen, Miss. Laina</td>\n",
              "      <td>female</td>\n",
              "      <td>26.0</td>\n",
              "      <td>0</td>\n",
              "      <td>0</td>\n",
              "      <td>STON/O2. 3101282</td>\n",
              "      <td>7.9250</td>\n",
              "      <td>NaN</td>\n",
              "      <td>S</td>\n",
              "      <td>1</td>\n",
              "    </tr>\n",
              "    <tr>\n",
              "      <th>3</th>\n",
              "      <td>4</td>\n",
              "      <td>1</td>\n",
              "      <td>1</td>\n",
              "      <td>Futrelle, Mrs. Jacques Heath (Lily May Peel)</td>\n",
              "      <td>female</td>\n",
              "      <td>35.0</td>\n",
              "      <td>1</td>\n",
              "      <td>0</td>\n",
              "      <td>113803</td>\n",
              "      <td>53.1000</td>\n",
              "      <td>C123</td>\n",
              "      <td>S</td>\n",
              "      <td>0</td>\n",
              "    </tr>\n",
              "    <tr>\n",
              "      <th>4</th>\n",
              "      <td>5</td>\n",
              "      <td>0</td>\n",
              "      <td>3</td>\n",
              "      <td>Allen, Mr. William Henry</td>\n",
              "      <td>male</td>\n",
              "      <td>35.0</td>\n",
              "      <td>0</td>\n",
              "      <td>0</td>\n",
              "      <td>373450</td>\n",
              "      <td>8.0500</td>\n",
              "      <td>NaN</td>\n",
              "      <td>S</td>\n",
              "      <td>1</td>\n",
              "    </tr>\n",
              "    <tr>\n",
              "      <th>...</th>\n",
              "      <td>...</td>\n",
              "      <td>...</td>\n",
              "      <td>...</td>\n",
              "      <td>...</td>\n",
              "      <td>...</td>\n",
              "      <td>...</td>\n",
              "      <td>...</td>\n",
              "      <td>...</td>\n",
              "      <td>...</td>\n",
              "      <td>...</td>\n",
              "      <td>...</td>\n",
              "      <td>...</td>\n",
              "      <td>...</td>\n",
              "    </tr>\n",
              "    <tr>\n",
              "      <th>886</th>\n",
              "      <td>887</td>\n",
              "      <td>0</td>\n",
              "      <td>2</td>\n",
              "      <td>Montvila, Rev. Juozas</td>\n",
              "      <td>male</td>\n",
              "      <td>27.0</td>\n",
              "      <td>0</td>\n",
              "      <td>0</td>\n",
              "      <td>211536</td>\n",
              "      <td>13.0000</td>\n",
              "      <td>NaN</td>\n",
              "      <td>S</td>\n",
              "      <td>1</td>\n",
              "    </tr>\n",
              "    <tr>\n",
              "      <th>887</th>\n",
              "      <td>888</td>\n",
              "      <td>1</td>\n",
              "      <td>1</td>\n",
              "      <td>Graham, Miss. Margaret Edith</td>\n",
              "      <td>female</td>\n",
              "      <td>19.0</td>\n",
              "      <td>0</td>\n",
              "      <td>0</td>\n",
              "      <td>112053</td>\n",
              "      <td>30.0000</td>\n",
              "      <td>B42</td>\n",
              "      <td>S</td>\n",
              "      <td>1</td>\n",
              "    </tr>\n",
              "    <tr>\n",
              "      <th>888</th>\n",
              "      <td>889</td>\n",
              "      <td>0</td>\n",
              "      <td>3</td>\n",
              "      <td>Johnston, Miss. Catherine Helen \"Carrie\"</td>\n",
              "      <td>female</td>\n",
              "      <td>NaN</td>\n",
              "      <td>1</td>\n",
              "      <td>2</td>\n",
              "      <td>W./C. 6607</td>\n",
              "      <td>23.4500</td>\n",
              "      <td>NaN</td>\n",
              "      <td>S</td>\n",
              "      <td>0</td>\n",
              "    </tr>\n",
              "    <tr>\n",
              "      <th>889</th>\n",
              "      <td>890</td>\n",
              "      <td>1</td>\n",
              "      <td>1</td>\n",
              "      <td>Behr, Mr. Karl Howell</td>\n",
              "      <td>male</td>\n",
              "      <td>26.0</td>\n",
              "      <td>0</td>\n",
              "      <td>0</td>\n",
              "      <td>111369</td>\n",
              "      <td>30.0000</td>\n",
              "      <td>C148</td>\n",
              "      <td>C</td>\n",
              "      <td>1</td>\n",
              "    </tr>\n",
              "    <tr>\n",
              "      <th>890</th>\n",
              "      <td>891</td>\n",
              "      <td>0</td>\n",
              "      <td>3</td>\n",
              "      <td>Dooley, Mr. Patrick</td>\n",
              "      <td>male</td>\n",
              "      <td>32.0</td>\n",
              "      <td>0</td>\n",
              "      <td>0</td>\n",
              "      <td>370376</td>\n",
              "      <td>7.7500</td>\n",
              "      <td>NaN</td>\n",
              "      <td>Q</td>\n",
              "      <td>1</td>\n",
              "    </tr>\n",
              "  </tbody>\n",
              "</table>\n",
              "<p>891 rows × 13 columns</p>\n",
              "</div>"
            ],
            "text/plain": [
              "     PassengerId  Survived  Pclass  ... Cabin Embarked  Alone\n",
              "0              1         0       3  ...   NaN        S      0\n",
              "1              2         1       1  ...   C85        C      0\n",
              "2              3         1       3  ...   NaN        S      1\n",
              "3              4         1       1  ...  C123        S      0\n",
              "4              5         0       3  ...   NaN        S      1\n",
              "..           ...       ...     ...  ...   ...      ...    ...\n",
              "886          887         0       2  ...   NaN        S      1\n",
              "887          888         1       1  ...   B42        S      1\n",
              "888          889         0       3  ...   NaN        S      0\n",
              "889          890         1       1  ...  C148        C      1\n",
              "890          891         0       3  ...   NaN        Q      1\n",
              "\n",
              "[891 rows x 13 columns]"
            ]
          },
          "metadata": {
            "tags": []
          },
          "execution_count": 93
        }
      ]
    },
    {
      "cell_type": "code",
      "metadata": {
        "id": "8TJTHrBDe3_g",
        "colab": {
          "base_uri": "https://localhost:8080/",
          "height": 34
        },
        "outputId": "d1b70eed-43ca-4d39-c8bf-e9c55029bf1b"
      },
      "source": [
        "if 1:\n",
        "  print('f')\n",
        "if 0:\n",
        "  print('g')"
      ],
      "execution_count": null,
      "outputs": [
        {
          "output_type": "stream",
          "text": [
            "f\n"
          ],
          "name": "stdout"
        }
      ]
    },
    {
      "cell_type": "code",
      "metadata": {
        "id": "pmEhd4pff-lZ",
        "colab": {
          "base_uri": "https://localhost:8080/",
          "height": 260
        },
        "outputId": "cbaa63bf-2891-485c-90db-6b73e55f7602"
      },
      "source": [
        "df.groupby(['Pclass', 'Sex', 'Alone'])['Survived'].agg('sum')\n"
      ],
      "execution_count": null,
      "outputs": [
        {
          "output_type": "execute_result",
          "data": {
            "text/plain": [
              "Pclass  Sex     Alone\n",
              "1       female  0        58\n",
              "                1        33\n",
              "        male    0        20\n",
              "                1        25\n",
              "2       female  0        41\n",
              "                1        29\n",
              "        male    0        10\n",
              "                1         7\n",
              "3       female  0        35\n",
              "                1        37\n",
              "        male    0        15\n",
              "                1        32\n",
              "Name: Survived, dtype: int64"
            ]
          },
          "metadata": {
            "tags": []
          },
          "execution_count": 95
        }
      ]
    },
    {
      "cell_type": "code",
      "metadata": {
        "id": "AIjdxGXQaMub"
      },
      "source": [
        "# Способ 2: с помощью lambda-функции\n",
        "try:\n",
        "    df.drop('Alone', axis=1, inplace = True)\n",
        "except KeyError:\n",
        "    print('already dropped')\n"
      ],
      "execution_count": null,
      "outputs": []
    },
    {
      "cell_type": "code",
      "metadata": {
        "id": "4tuHf6OO5Ez3",
        "colab": {
          "base_uri": "https://localhost:8080/",
          "height": 458
        },
        "outputId": "64c747ac-949f-420a-8fbd-a65e11dc4c7f"
      },
      "source": [
        "df['Alone'] = df.apply(lambda x: 1 if x['SibSp'] or x['Parch'] else 0, axis=1)\n",
        "df"
      ],
      "execution_count": null,
      "outputs": [
        {
          "output_type": "execute_result",
          "data": {
            "text/html": [
              "<div>\n",
              "<style scoped>\n",
              "    .dataframe tbody tr th:only-of-type {\n",
              "        vertical-align: middle;\n",
              "    }\n",
              "\n",
              "    .dataframe tbody tr th {\n",
              "        vertical-align: top;\n",
              "    }\n",
              "\n",
              "    .dataframe thead th {\n",
              "        text-align: right;\n",
              "    }\n",
              "</style>\n",
              "<table border=\"1\" class=\"dataframe\">\n",
              "  <thead>\n",
              "    <tr style=\"text-align: right;\">\n",
              "      <th></th>\n",
              "      <th>PassengerId</th>\n",
              "      <th>Survived</th>\n",
              "      <th>Pclass</th>\n",
              "      <th>Name</th>\n",
              "      <th>Sex</th>\n",
              "      <th>Age</th>\n",
              "      <th>SibSp</th>\n",
              "      <th>Parch</th>\n",
              "      <th>Ticket</th>\n",
              "      <th>Fare</th>\n",
              "      <th>Cabin</th>\n",
              "      <th>Embarked</th>\n",
              "      <th>Alone</th>\n",
              "    </tr>\n",
              "  </thead>\n",
              "  <tbody>\n",
              "    <tr>\n",
              "      <th>0</th>\n",
              "      <td>1</td>\n",
              "      <td>0</td>\n",
              "      <td>3</td>\n",
              "      <td>Braund, Mr. Owen Harris</td>\n",
              "      <td>male</td>\n",
              "      <td>22.0</td>\n",
              "      <td>1</td>\n",
              "      <td>0</td>\n",
              "      <td>A/5 21171</td>\n",
              "      <td>7.2500</td>\n",
              "      <td>NaN</td>\n",
              "      <td>S</td>\n",
              "      <td>1</td>\n",
              "    </tr>\n",
              "    <tr>\n",
              "      <th>1</th>\n",
              "      <td>2</td>\n",
              "      <td>1</td>\n",
              "      <td>1</td>\n",
              "      <td>Cumings, Mrs. John Bradley (Florence Briggs Th...</td>\n",
              "      <td>female</td>\n",
              "      <td>38.0</td>\n",
              "      <td>1</td>\n",
              "      <td>0</td>\n",
              "      <td>PC 17599</td>\n",
              "      <td>71.2833</td>\n",
              "      <td>C85</td>\n",
              "      <td>C</td>\n",
              "      <td>1</td>\n",
              "    </tr>\n",
              "    <tr>\n",
              "      <th>2</th>\n",
              "      <td>3</td>\n",
              "      <td>1</td>\n",
              "      <td>3</td>\n",
              "      <td>Heikkinen, Miss. Laina</td>\n",
              "      <td>female</td>\n",
              "      <td>26.0</td>\n",
              "      <td>0</td>\n",
              "      <td>0</td>\n",
              "      <td>STON/O2. 3101282</td>\n",
              "      <td>7.9250</td>\n",
              "      <td>NaN</td>\n",
              "      <td>S</td>\n",
              "      <td>0</td>\n",
              "    </tr>\n",
              "    <tr>\n",
              "      <th>3</th>\n",
              "      <td>4</td>\n",
              "      <td>1</td>\n",
              "      <td>1</td>\n",
              "      <td>Futrelle, Mrs. Jacques Heath (Lily May Peel)</td>\n",
              "      <td>female</td>\n",
              "      <td>35.0</td>\n",
              "      <td>1</td>\n",
              "      <td>0</td>\n",
              "      <td>113803</td>\n",
              "      <td>53.1000</td>\n",
              "      <td>C123</td>\n",
              "      <td>S</td>\n",
              "      <td>1</td>\n",
              "    </tr>\n",
              "    <tr>\n",
              "      <th>4</th>\n",
              "      <td>5</td>\n",
              "      <td>0</td>\n",
              "      <td>3</td>\n",
              "      <td>Allen, Mr. William Henry</td>\n",
              "      <td>male</td>\n",
              "      <td>35.0</td>\n",
              "      <td>0</td>\n",
              "      <td>0</td>\n",
              "      <td>373450</td>\n",
              "      <td>8.0500</td>\n",
              "      <td>NaN</td>\n",
              "      <td>S</td>\n",
              "      <td>0</td>\n",
              "    </tr>\n",
              "    <tr>\n",
              "      <th>...</th>\n",
              "      <td>...</td>\n",
              "      <td>...</td>\n",
              "      <td>...</td>\n",
              "      <td>...</td>\n",
              "      <td>...</td>\n",
              "      <td>...</td>\n",
              "      <td>...</td>\n",
              "      <td>...</td>\n",
              "      <td>...</td>\n",
              "      <td>...</td>\n",
              "      <td>...</td>\n",
              "      <td>...</td>\n",
              "      <td>...</td>\n",
              "    </tr>\n",
              "    <tr>\n",
              "      <th>886</th>\n",
              "      <td>887</td>\n",
              "      <td>0</td>\n",
              "      <td>2</td>\n",
              "      <td>Montvila, Rev. Juozas</td>\n",
              "      <td>male</td>\n",
              "      <td>27.0</td>\n",
              "      <td>0</td>\n",
              "      <td>0</td>\n",
              "      <td>211536</td>\n",
              "      <td>13.0000</td>\n",
              "      <td>NaN</td>\n",
              "      <td>S</td>\n",
              "      <td>0</td>\n",
              "    </tr>\n",
              "    <tr>\n",
              "      <th>887</th>\n",
              "      <td>888</td>\n",
              "      <td>1</td>\n",
              "      <td>1</td>\n",
              "      <td>Graham, Miss. Margaret Edith</td>\n",
              "      <td>female</td>\n",
              "      <td>19.0</td>\n",
              "      <td>0</td>\n",
              "      <td>0</td>\n",
              "      <td>112053</td>\n",
              "      <td>30.0000</td>\n",
              "      <td>B42</td>\n",
              "      <td>S</td>\n",
              "      <td>0</td>\n",
              "    </tr>\n",
              "    <tr>\n",
              "      <th>888</th>\n",
              "      <td>889</td>\n",
              "      <td>0</td>\n",
              "      <td>3</td>\n",
              "      <td>Johnston, Miss. Catherine Helen \"Carrie\"</td>\n",
              "      <td>female</td>\n",
              "      <td>NaN</td>\n",
              "      <td>1</td>\n",
              "      <td>2</td>\n",
              "      <td>W./C. 6607</td>\n",
              "      <td>23.4500</td>\n",
              "      <td>NaN</td>\n",
              "      <td>S</td>\n",
              "      <td>1</td>\n",
              "    </tr>\n",
              "    <tr>\n",
              "      <th>889</th>\n",
              "      <td>890</td>\n",
              "      <td>1</td>\n",
              "      <td>1</td>\n",
              "      <td>Behr, Mr. Karl Howell</td>\n",
              "      <td>male</td>\n",
              "      <td>26.0</td>\n",
              "      <td>0</td>\n",
              "      <td>0</td>\n",
              "      <td>111369</td>\n",
              "      <td>30.0000</td>\n",
              "      <td>C148</td>\n",
              "      <td>C</td>\n",
              "      <td>0</td>\n",
              "    </tr>\n",
              "    <tr>\n",
              "      <th>890</th>\n",
              "      <td>891</td>\n",
              "      <td>0</td>\n",
              "      <td>3</td>\n",
              "      <td>Dooley, Mr. Patrick</td>\n",
              "      <td>male</td>\n",
              "      <td>32.0</td>\n",
              "      <td>0</td>\n",
              "      <td>0</td>\n",
              "      <td>370376</td>\n",
              "      <td>7.7500</td>\n",
              "      <td>NaN</td>\n",
              "      <td>Q</td>\n",
              "      <td>0</td>\n",
              "    </tr>\n",
              "  </tbody>\n",
              "</table>\n",
              "<p>891 rows × 13 columns</p>\n",
              "</div>"
            ],
            "text/plain": [
              "     PassengerId  Survived  Pclass  ... Cabin Embarked  Alone\n",
              "0              1         0       3  ...   NaN        S      1\n",
              "1              2         1       1  ...   C85        C      1\n",
              "2              3         1       3  ...   NaN        S      0\n",
              "3              4         1       1  ...  C123        S      1\n",
              "4              5         0       3  ...   NaN        S      0\n",
              "..           ...       ...     ...  ...   ...      ...    ...\n",
              "886          887         0       2  ...   NaN        S      0\n",
              "887          888         1       1  ...   B42        S      0\n",
              "888          889         0       3  ...   NaN        S      1\n",
              "889          890         1       1  ...  C148        C      0\n",
              "890          891         0       3  ...   NaN        Q      0\n",
              "\n",
              "[891 rows x 13 columns]"
            ]
          },
          "metadata": {
            "tags": []
          },
          "execution_count": 98
        }
      ]
    },
    {
      "cell_type": "code",
      "metadata": {
        "id": "GBnSonc4XDyA",
        "colab": {
          "base_uri": "https://localhost:8080/",
          "height": 34
        },
        "outputId": "22f09a6e-4f71-4de9-e89d-63c5bd95d3e4"
      },
      "source": [
        "df['Rich'] = df.apply(lambda x: 1 if x['Pclass'] == 1 and x['Fare'] >100 else 0, axis = 1) \n",
        "len(df[df['Rich']==1])"
      ],
      "execution_count": null,
      "outputs": [
        {
          "output_type": "execute_result",
          "data": {
            "text/plain": [
              "53"
            ]
          },
          "metadata": {
            "tags": []
          },
          "execution_count": 99
        }
      ]
    },
    {
      "cell_type": "code",
      "metadata": {
        "id": "DUjKtO4wYdJR",
        "colab": {
          "base_uri": "https://localhost:8080/",
          "height": 34
        },
        "outputId": "40e193d5-ec85-4ce1-d01f-a9e556608618"
      },
      "source": [
        "len(df[(df['Rich'] == 1) & (df['Survived'] == 1)])"
      ],
      "execution_count": null,
      "outputs": [
        {
          "output_type": "execute_result",
          "data": {
            "text/plain": [
              "39"
            ]
          },
          "metadata": {
            "tags": []
          },
          "execution_count": 89
        }
      ]
    },
    {
      "cell_type": "code",
      "metadata": {
        "id": "NIuGrlQeXZO6",
        "colab": {
          "base_uri": "https://localhost:8080/",
          "height": 34
        },
        "outputId": "0421d610-c30c-4f5d-a577-a07fcf7578a2"
      },
      "source": [
        "df.Fare.max()"
      ],
      "execution_count": null,
      "outputs": [
        {
          "output_type": "execute_result",
          "data": {
            "text/plain": [
              "512.3292"
            ]
          },
          "metadata": {
            "tags": []
          },
          "execution_count": 79
        }
      ]
    },
    {
      "cell_type": "code",
      "metadata": {
        "id": "knndhzxM5m1p",
        "colab": {
          "base_uri": "https://localhost:8080/",
          "height": 265
        },
        "outputId": "7bc8fc62-c15c-438c-9204-b4cba84a54a3"
      },
      "source": [
        "df['Alone'].value_counts().plot(kind='pie')"
      ],
      "execution_count": null,
      "outputs": [
        {
          "output_type": "execute_result",
          "data": {
            "text/plain": [
              "<matplotlib.axes._subplots.AxesSubplot at 0x7fa5b159c4e0>"
            ]
          },
          "metadata": {
            "tags": []
          },
          "execution_count": 75
        },
        {
          "output_type": "display_data",
          "data": {
            "image/png": "[encoded data removed]",
            "text/plain": [
              "<Figure size 432x288 with 1 Axes>"
            ]
          },
          "metadata": {
            "tags": []
          }
        }
      ]
    },
    {
      "cell_type": "markdown",
      "metadata": {
        "id": "YL5_CsH8aMuf"
      },
      "source": [
        "### Строим сводную таблицу"
      ]
    },
    {
      "cell_type": "code",
      "metadata": {
        "id": "e4tL8FdPaMuh",
        "colab": {
          "base_uri": "https://localhost:8080/",
          "height": 143
        },
        "outputId": "6502ab26-91fd-4d4f-d3b0-6788735533c1"
      },
      "source": [
        "df.groupby('Sex')[['Survived']].mean() #начинаем с простого"
      ],
      "execution_count": null,
      "outputs": [
        {
          "output_type": "execute_result",
          "data": {
            "text/html": [
              "<div>\n",
              "<style scoped>\n",
              "    .dataframe tbody tr th:only-of-type {\n",
              "        vertical-align: middle;\n",
              "    }\n",
              "\n",
              "    .dataframe tbody tr th {\n",
              "        vertical-align: top;\n",
              "    }\n",
              "\n",
              "    .dataframe thead th {\n",
              "        text-align: right;\n",
              "    }\n",
              "</style>\n",
              "<table border=\"1\" class=\"dataframe\">\n",
              "  <thead>\n",
              "    <tr style=\"text-align: right;\">\n",
              "      <th></th>\n",
              "      <th>Survived</th>\n",
              "    </tr>\n",
              "    <tr>\n",
              "      <th>Sex</th>\n",
              "      <th></th>\n",
              "    </tr>\n",
              "  </thead>\n",
              "  <tbody>\n",
              "    <tr>\n",
              "      <th>female</th>\n",
              "      <td>0.742038</td>\n",
              "    </tr>\n",
              "    <tr>\n",
              "      <th>male</th>\n",
              "      <td>0.188908</td>\n",
              "    </tr>\n",
              "  </tbody>\n",
              "</table>\n",
              "</div>"
            ],
            "text/plain": [
              "        Survived\n",
              "Sex             \n",
              "female  0.742038\n",
              "male    0.188908"
            ]
          },
          "metadata": {
            "tags": []
          },
          "execution_count": 56
        }
      ]
    },
    {
      "cell_type": "markdown",
      "metadata": {
        "id": "sAacfwm8aMun"
      },
      "source": [
        "Сразу же можно сделать вывод о том, что из каждых четырех женщин, находившихся на борту, выжили три, в то время как из каждых пяти мужчин выжил только один!\n",
        "\n",
        "Это интересная информация, но мы можем пойти дальше и выяснить взаимосвязь между показателем выживаемости и двумя другими параметрами, такими как пол и, например, класс. Используя терминологию GroupBy, мы могли бы сформулировать последовательность наших действий следующим образом: группируем по (group by) классу и полу, отбираем (select) выживших, применяем (apply) агрегацию по среднему, объединяем (combine) результирующие группы и преобразуем (unstack) иерархический индекс, чтобы раскрыть скрытую многомерность. Выразим это в коде:"
      ]
    },
    {
      "cell_type": "code",
      "metadata": {
        "scrolled": true,
        "id": "0isLoF0SaMur",
        "colab": {
          "base_uri": "https://localhost:8080/",
          "height": 143
        },
        "outputId": "64217c8c-c2d5-47b5-9851-8632ecf9d9c8"
      },
      "source": [
        "df.groupby(['Sex', 'Pclass'])['Survived'].agg('mean').unstack()"
      ],
      "execution_count": null,
      "outputs": [
        {
          "output_type": "execute_result",
          "data": {
            "text/html": [
              "<div>\n",
              "<style scoped>\n",
              "    .dataframe tbody tr th:only-of-type {\n",
              "        vertical-align: middle;\n",
              "    }\n",
              "\n",
              "    .dataframe tbody tr th {\n",
              "        vertical-align: top;\n",
              "    }\n",
              "\n",
              "    .dataframe thead th {\n",
              "        text-align: right;\n",
              "    }\n",
              "</style>\n",
              "<table border=\"1\" class=\"dataframe\">\n",
              "  <thead>\n",
              "    <tr style=\"text-align: right;\">\n",
              "      <th>Pclass</th>\n",
              "      <th>1</th>\n",
              "      <th>2</th>\n",
              "      <th>3</th>\n",
              "    </tr>\n",
              "    <tr>\n",
              "      <th>Sex</th>\n",
              "      <th></th>\n",
              "      <th></th>\n",
              "      <th></th>\n",
              "    </tr>\n",
              "  </thead>\n",
              "  <tbody>\n",
              "    <tr>\n",
              "      <th>female</th>\n",
              "      <td>0.968085</td>\n",
              "      <td>0.921053</td>\n",
              "      <td>0.500000</td>\n",
              "    </tr>\n",
              "    <tr>\n",
              "      <th>male</th>\n",
              "      <td>0.368852</td>\n",
              "      <td>0.157407</td>\n",
              "      <td>0.135447</td>\n",
              "    </tr>\n",
              "  </tbody>\n",
              "</table>\n",
              "</div>"
            ],
            "text/plain": [
              "Pclass         1         2         3\n",
              "Sex                                 \n",
              "female  0.968085  0.921053  0.500000\n",
              "male    0.368852  0.157407  0.135447"
            ]
          },
          "metadata": {
            "tags": []
          },
          "execution_count": 58
        }
      ]
    },
    {
      "cell_type": "markdown",
      "metadata": {
        "id": "UsXVmuAcaMu0"
      },
      "source": [
        "Теперь мы имеем четкое представление о том, как пол и класс повлияли на выживаемость, но код становится немного громоздким. Хотя каждый шаг этой последовательности вполне понятен в свете рассмотренных выше инструментов, тем не менее длинную строку кода достаточно трудно читать и использовать. Подобные операции широко распространены, в связи с чем библиотека Pandas имеет в своем составе специальный метод pivot_table, лаконично реализующий данный тип многомерной агрегации."
      ]
    },
    {
      "cell_type": "code",
      "metadata": {
        "id": "rkZRboEUaMu3",
        "colab": {
          "base_uri": "https://localhost:8080/",
          "height": 175
        },
        "outputId": "d07d11c7-a917-48d0-d6dd-5822f9ac47e7"
      },
      "source": [
        "df.pivot_table(values='Survived', index='Sex', columns='Pclass', aggfunc='mean', margins=True)\n",
        "df.pivot_table()"
      ],
      "execution_count": null,
      "outputs": [
        {
          "output_type": "execute_result",
          "data": {
            "text/html": [
              "<div>\n",
              "<style scoped>\n",
              "    .dataframe tbody tr th:only-of-type {\n",
              "        vertical-align: middle;\n",
              "    }\n",
              "\n",
              "    .dataframe tbody tr th {\n",
              "        vertical-align: top;\n",
              "    }\n",
              "\n",
              "    .dataframe thead th {\n",
              "        text-align: right;\n",
              "    }\n",
              "</style>\n",
              "<table border=\"1\" class=\"dataframe\">\n",
              "  <thead>\n",
              "    <tr style=\"text-align: right;\">\n",
              "      <th>Pclass</th>\n",
              "      <th>1</th>\n",
              "      <th>2</th>\n",
              "      <th>3</th>\n",
              "      <th>All</th>\n",
              "    </tr>\n",
              "    <tr>\n",
              "      <th>Sex</th>\n",
              "      <th></th>\n",
              "      <th></th>\n",
              "      <th></th>\n",
              "      <th></th>\n",
              "    </tr>\n",
              "  </thead>\n",
              "  <tbody>\n",
              "    <tr>\n",
              "      <th>female</th>\n",
              "      <td>0.968085</td>\n",
              "      <td>0.921053</td>\n",
              "      <td>0.500000</td>\n",
              "      <td>0.742038</td>\n",
              "    </tr>\n",
              "    <tr>\n",
              "      <th>male</th>\n",
              "      <td>0.368852</td>\n",
              "      <td>0.157407</td>\n",
              "      <td>0.135447</td>\n",
              "      <td>0.188908</td>\n",
              "    </tr>\n",
              "    <tr>\n",
              "      <th>All</th>\n",
              "      <td>0.629630</td>\n",
              "      <td>0.472826</td>\n",
              "      <td>0.242363</td>\n",
              "      <td>0.383838</td>\n",
              "    </tr>\n",
              "  </tbody>\n",
              "</table>\n",
              "</div>"
            ],
            "text/plain": [
              "Pclass         1         2         3       All\n",
              "Sex                                           \n",
              "female  0.968085  0.921053  0.500000  0.742038\n",
              "male    0.368852  0.157407  0.135447  0.188908\n",
              "All     0.629630  0.472826  0.242363  0.383838"
            ]
          },
          "metadata": {
            "tags": []
          },
          "execution_count": 64
        }
      ]
    },
    {
      "cell_type": "code",
      "metadata": {
        "id": "a6Ua9QOSaMvB",
        "outputId": "d6cea368-b12b-4acb-909c-540d3870f36d"
      },
      "source": [
        "age = pd.cut(df['Age'], [0, 18, 80])\n",
        "df.pivot_table('Survived', ['Sex', age], 'Pclass')"
      ],
      "execution_count": null,
      "outputs": [
        {
          "output_type": "execute_result",
          "data": {
            "text/html": [
              "<div>\n",
              "<style scoped>\n",
              "    .dataframe tbody tr th:only-of-type {\n",
              "        vertical-align: middle;\n",
              "    }\n",
              "\n",
              "    .dataframe tbody tr th {\n",
              "        vertical-align: top;\n",
              "    }\n",
              "\n",
              "    .dataframe thead th {\n",
              "        text-align: right;\n",
              "    }\n",
              "</style>\n",
              "<table border=\"1\" class=\"dataframe\">\n",
              "  <thead>\n",
              "    <tr style=\"text-align: right;\">\n",
              "      <th></th>\n",
              "      <th>Pclass</th>\n",
              "      <th>1</th>\n",
              "      <th>2</th>\n",
              "      <th>3</th>\n",
              "    </tr>\n",
              "    <tr>\n",
              "      <th>Sex</th>\n",
              "      <th>Age</th>\n",
              "      <th></th>\n",
              "      <th></th>\n",
              "      <th></th>\n",
              "    </tr>\n",
              "  </thead>\n",
              "  <tbody>\n",
              "    <tr>\n",
              "      <th rowspan=\"2\" valign=\"top\">female</th>\n",
              "      <th>(0, 18]</th>\n",
              "      <td>0.909091</td>\n",
              "      <td>1.000000</td>\n",
              "      <td>0.511628</td>\n",
              "    </tr>\n",
              "    <tr>\n",
              "      <th>(18, 80]</th>\n",
              "      <td>0.972973</td>\n",
              "      <td>0.900000</td>\n",
              "      <td>0.423729</td>\n",
              "    </tr>\n",
              "    <tr>\n",
              "      <th rowspan=\"2\" valign=\"top\">male</th>\n",
              "      <th>(0, 18]</th>\n",
              "      <td>0.800000</td>\n",
              "      <td>0.600000</td>\n",
              "      <td>0.215686</td>\n",
              "    </tr>\n",
              "    <tr>\n",
              "      <th>(18, 80]</th>\n",
              "      <td>0.375000</td>\n",
              "      <td>0.071429</td>\n",
              "      <td>0.133663</td>\n",
              "    </tr>\n",
              "  </tbody>\n",
              "</table>\n",
              "</div>"
            ],
            "text/plain": [
              "Pclass                  1         2         3\n",
              "Sex    Age                                   \n",
              "female (0, 18]   0.909091  1.000000  0.511628\n",
              "       (18, 80]  0.972973  0.900000  0.423729\n",
              "male   (0, 18]   0.800000  0.600000  0.215686\n",
              "       (18, 80]  0.375000  0.071429  0.133663"
            ]
          },
          "metadata": {
            "tags": []
          },
          "execution_count": 72
        }
      ]
    },
    {
      "cell_type": "markdown",
      "metadata": {
        "id": "dRBAF_gxaMvG"
      },
      "source": [
        "### Join'ы"
      ]
    },
    {
      "cell_type": "code",
      "metadata": {
        "id": "d3hGzoVeaMvI",
        "colab": {
          "base_uri": "https://localhost:8080/",
          "height": 191
        },
        "outputId": "8da6197f-a0a4-42ae-90eb-6d7b07b9b4b7"
      },
      "source": [
        "import pandas as pd\n",
        "df1 = pd.DataFrame({'employee': ['Bob', 'Jake', 'Lisa', 'Sue'],\n",
        "'group': ['Accounting', 'Engineering', 'Engineering',\n",
        "'HR']})\n",
        "\n",
        "df2 = pd.DataFrame({'employee': ['Lisa', 'Bob', 'Jake', 'Sue'],\n",
        "'hire_date': [2004, 2008, 2012, 2014]})\n",
        "print(df1); print(df2)\n",
        " "
      ],
      "execution_count": null,
      "outputs": [
        {
          "output_type": "stream",
          "text": [
            "  employee        group\n",
            "0      Bob   Accounting\n",
            "1     Jake  Engineering\n",
            "2     Lisa  Engineering\n",
            "3      Sue           HR\n",
            "  employee  hire_date\n",
            "0     Lisa       2004\n",
            "1      Bob       2008\n",
            "2     Jake       2012\n",
            "3      Sue       2014\n"
          ],
          "name": "stdout"
        }
      ]
    },
    {
      "cell_type": "code",
      "metadata": {
        "id": "TE1EfabqaMvM",
        "colab": {
          "base_uri": "https://localhost:8080/",
          "height": 175
        },
        "outputId": "a151ea0c-5bad-4e7e-e844-9086b2426eb9"
      },
      "source": [
        "df3 = pd.merge(df1, df2)\n",
        "df3\n",
        "#подробнее https://pandas.pydata.org/pandas-docs/stable/user_guide/merging.html"
      ],
      "execution_count": null,
      "outputs": [
        {
          "output_type": "execute_result",
          "data": {
            "text/html": [
              "<div>\n",
              "<style scoped>\n",
              "    .dataframe tbody tr th:only-of-type {\n",
              "        vertical-align: middle;\n",
              "    }\n",
              "\n",
              "    .dataframe tbody tr th {\n",
              "        vertical-align: top;\n",
              "    }\n",
              "\n",
              "    .dataframe thead th {\n",
              "        text-align: right;\n",
              "    }\n",
              "</style>\n",
              "<table border=\"1\" class=\"dataframe\">\n",
              "  <thead>\n",
              "    <tr style=\"text-align: right;\">\n",
              "      <th></th>\n",
              "      <th>employee</th>\n",
              "      <th>group</th>\n",
              "      <th>hire_date</th>\n",
              "    </tr>\n",
              "  </thead>\n",
              "  <tbody>\n",
              "    <tr>\n",
              "      <th>0</th>\n",
              "      <td>Bob</td>\n",
              "      <td>Accounting</td>\n",
              "      <td>2008</td>\n",
              "    </tr>\n",
              "    <tr>\n",
              "      <th>1</th>\n",
              "      <td>Jake</td>\n",
              "      <td>Engineering</td>\n",
              "      <td>2012</td>\n",
              "    </tr>\n",
              "    <tr>\n",
              "      <th>2</th>\n",
              "      <td>Lisa</td>\n",
              "      <td>Engineering</td>\n",
              "      <td>2004</td>\n",
              "    </tr>\n",
              "    <tr>\n",
              "      <th>3</th>\n",
              "      <td>Sue</td>\n",
              "      <td>HR</td>\n",
              "      <td>2014</td>\n",
              "    </tr>\n",
              "  </tbody>\n",
              "</table>\n",
              "</div>"
            ],
            "text/plain": [
              "  employee        group  hire_date\n",
              "0      Bob   Accounting       2008\n",
              "1     Jake  Engineering       2012\n",
              "2     Lisa  Engineering       2004\n",
              "3      Sue           HR       2014"
            ]
          },
          "metadata": {
            "tags": []
          },
          "execution_count": 101
        }
      ]
    },
    {
      "cell_type": "markdown",
      "metadata": {
        "id": "3J2chs76aMvQ"
      },
      "source": [
        "### Дополнительные приемы работы с числами"
      ]
    },
    {
      "cell_type": "code",
      "metadata": {
        "id": "3fxM-bpVaMvR"
      },
      "source": [
        "new_df = pd.DataFrame({'col1': [1,2,3,4,5], 'col2': '2,5 4,5 3.3 1,5 2,9'.split()})\n",
        "\n"
      ],
      "execution_count": null,
      "outputs": []
    },
    {
      "cell_type": "code",
      "metadata": {
        "id": "9Ho014VSaM1k",
        "colab": {
          "base_uri": "https://localhost:8080/",
          "height": 173
        },
        "outputId": "1e775551-3c14-44c8-e986-f37a3a58644d"
      },
      "source": [
        "new_df.info()"
      ],
      "execution_count": null,
      "outputs": [
        {
          "output_type": "stream",
          "text": [
            "<class 'pandas.core.frame.DataFrame'>\n",
            "RangeIndex: 5 entries, 0 to 4\n",
            "Data columns (total 2 columns):\n",
            " #   Column  Non-Null Count  Dtype \n",
            "---  ------  --------------  ----- \n",
            " 0   col1    5 non-null      int64 \n",
            " 1   col2    5 non-null      object\n",
            "dtypes: int64(1), object(1)\n",
            "memory usage: 208.0+ bytes\n"
          ],
          "name": "stdout"
        }
      ]
    },
    {
      "cell_type": "code",
      "metadata": {
        "scrolled": true,
        "id": "TaqEDa_RaMvV",
        "colab": {
          "base_uri": "https://localhost:8080/",
          "height": 173
        },
        "outputId": "43d9ace9-fd1a-47db-bfce-7f611ff548cf"
      },
      "source": [
        "new_df['col2'] = new_df['col2'].apply(lambda x: float(x.replace(',', '.')))\n",
        "new_df.info()\n"
      ],
      "execution_count": null,
      "outputs": [
        {
          "output_type": "stream",
          "text": [
            "<class 'pandas.core.frame.DataFrame'>\n",
            "RangeIndex: 5 entries, 0 to 4\n",
            "Data columns (total 2 columns):\n",
            " #   Column  Non-Null Count  Dtype  \n",
            "---  ------  --------------  -----  \n",
            " 0   col1    5 non-null      int64  \n",
            " 1   col2    5 non-null      float64\n",
            "dtypes: float64(1), int64(1)\n",
            "memory usage: 208.0 bytes\n"
          ],
          "name": "stdout"
        }
      ]
    },
    {
      "cell_type": "code",
      "metadata": {
        "id": "NmSyvf1ca_gC",
        "colab": {
          "base_uri": "https://localhost:8080/",
          "height": 173
        },
        "outputId": "02f0a847-abf5-4942-d089-80e7baa34b4a"
      },
      "source": [
        "new_df.info()"
      ],
      "execution_count": null,
      "outputs": [
        {
          "output_type": "stream",
          "text": [
            "<class 'pandas.core.frame.DataFrame'>\n",
            "RangeIndex: 5 entries, 0 to 4\n",
            "Data columns (total 2 columns):\n",
            " #   Column  Non-Null Count  Dtype  \n",
            "---  ------  --------------  -----  \n",
            " 0   col1    5 non-null      int64  \n",
            " 1   col2    5 non-null      float64\n",
            "dtypes: float64(1), int64(1)\n",
            "memory usage: 208.0 bytes\n"
          ],
          "name": "stdout"
        }
      ]
    },
    {
      "cell_type": "code",
      "metadata": {
        "id": "tkzMg9GaaMvi"
      },
      "source": [
        "new_df['col2'] = pd.to_numeric(new_df['col2'])"
      ],
      "execution_count": null,
      "outputs": []
    },
    {
      "cell_type": "code",
      "metadata": {
        "id": "e2Joo3sjaMvn"
      },
      "source": [
        "new_df['col2'] = new_df['col2'].astype('float64')"
      ],
      "execution_count": null,
      "outputs": []
    },
    {
      "cell_type": "code",
      "metadata": {
        "id": "iZjZmK8NaMvr"
      },
      "source": [
        "new_df['col2'] = new_df['col2'].apply(lambda x: float(x))\n",
        "\n"
      ],
      "execution_count": null,
      "outputs": []
    },
    {
      "cell_type": "markdown",
      "metadata": {
        "id": "GMGvdvPfaMvu"
      },
      "source": [
        "#### Если нужно заменить сразу много столбцов"
      ]
    },
    {
      "cell_type": "code",
      "metadata": {
        "id": "ijm43UVHaMvv",
        "colab": {
          "base_uri": "https://localhost:8080/",
          "height": 206
        },
        "outputId": "f2f88767-a294-4a45-a601-c86ae7661c8f"
      },
      "source": [
        "strNum = pd.DataFrame({'col1': '56,5 2,5 3.3 1,5 2,9'.split(), 'col2': '2,5 4,5 3.3 1,5 2,9'.split(), \n",
        "                       'col3': '7,6 4,5 3.3 7,5 1,9'.split()})\n",
        "strNum"
      ],
      "execution_count": null,
      "outputs": [
        {
          "output_type": "execute_result",
          "data": {
            "text/html": [
              "<div>\n",
              "<style scoped>\n",
              "    .dataframe tbody tr th:only-of-type {\n",
              "        vertical-align: middle;\n",
              "    }\n",
              "\n",
              "    .dataframe tbody tr th {\n",
              "        vertical-align: top;\n",
              "    }\n",
              "\n",
              "    .dataframe thead th {\n",
              "        text-align: right;\n",
              "    }\n",
              "</style>\n",
              "<table border=\"1\" class=\"dataframe\">\n",
              "  <thead>\n",
              "    <tr style=\"text-align: right;\">\n",
              "      <th></th>\n",
              "      <th>col1</th>\n",
              "      <th>col2</th>\n",
              "      <th>col3</th>\n",
              "    </tr>\n",
              "  </thead>\n",
              "  <tbody>\n",
              "    <tr>\n",
              "      <th>0</th>\n",
              "      <td>56,5</td>\n",
              "      <td>2,5</td>\n",
              "      <td>7,6</td>\n",
              "    </tr>\n",
              "    <tr>\n",
              "      <th>1</th>\n",
              "      <td>2,5</td>\n",
              "      <td>4,5</td>\n",
              "      <td>4,5</td>\n",
              "    </tr>\n",
              "    <tr>\n",
              "      <th>2</th>\n",
              "      <td>3.3</td>\n",
              "      <td>3.3</td>\n",
              "      <td>3.3</td>\n",
              "    </tr>\n",
              "    <tr>\n",
              "      <th>3</th>\n",
              "      <td>1,5</td>\n",
              "      <td>1,5</td>\n",
              "      <td>7,5</td>\n",
              "    </tr>\n",
              "    <tr>\n",
              "      <th>4</th>\n",
              "      <td>2,9</td>\n",
              "      <td>2,9</td>\n",
              "      <td>1,9</td>\n",
              "    </tr>\n",
              "  </tbody>\n",
              "</table>\n",
              "</div>"
            ],
            "text/plain": [
              "   col1 col2 col3\n",
              "0  56,5  2,5  7,6\n",
              "1   2,5  4,5  4,5\n",
              "2   3.3  3.3  3.3\n",
              "3   1,5  1,5  7,5\n",
              "4   2,9  2,9  1,9"
            ]
          },
          "metadata": {
            "tags": []
          },
          "execution_count": 112
        }
      ]
    },
    {
      "cell_type": "code",
      "metadata": {
        "id": "fwEGF2BTbJ5p",
        "colab": {
          "base_uri": "https://localhost:8080/",
          "height": 34
        },
        "outputId": "03c4d4a8-5390-4289-cf20-db1857c0aa39"
      },
      "source": [
        "list(strNum)"
      ],
      "execution_count": null,
      "outputs": [
        {
          "output_type": "execute_result",
          "data": {
            "text/plain": [
              "['col1', 'col2', 'col3']"
            ]
          },
          "metadata": {
            "tags": []
          },
          "execution_count": 113
        }
      ]
    },
    {
      "cell_type": "code",
      "metadata": {
        "id": "NiqaObH5aMvz"
      },
      "source": [
        "for i in list(strNum):\n",
        "    strNum[i] = strNum[i].apply(lambda x: float(x.replace(',', '.')))\n",
        "\n"
      ],
      "execution_count": null,
      "outputs": []
    },
    {
      "cell_type": "markdown",
      "metadata": {
        "id": "YAd8gmI5aMv2"
      },
      "source": [
        "### Работа с датами"
      ]
    },
    {
      "cell_type": "code",
      "metadata": {
        "id": "M8txCIuTaMv2",
        "colab": {
          "base_uri": "https://localhost:8080/",
          "height": 363
        },
        "outputId": "3e091780-ca76-4f5a-d15f-a798ce351cfa"
      },
      "source": [
        "df = pd.read_csv('https://raw.githubusercontent.com/plotly/datasets/master/2016-weather-data-seattle.csv')\n",
        "\n",
        "df.head(10)"
      ],
      "execution_count": null,
      "outputs": [
        {
          "output_type": "execute_result",
          "data": {
            "text/html": [
              "<div>\n",
              "<style scoped>\n",
              "    .dataframe tbody tr th:only-of-type {\n",
              "        vertical-align: middle;\n",
              "    }\n",
              "\n",
              "    .dataframe tbody tr th {\n",
              "        vertical-align: top;\n",
              "    }\n",
              "\n",
              "    .dataframe thead th {\n",
              "        text-align: right;\n",
              "    }\n",
              "</style>\n",
              "<table border=\"1\" class=\"dataframe\">\n",
              "  <thead>\n",
              "    <tr style=\"text-align: right;\">\n",
              "      <th></th>\n",
              "      <th>Date</th>\n",
              "      <th>Max_TemperatureC</th>\n",
              "      <th>Mean_TemperatureC</th>\n",
              "      <th>Min_TemperatureC</th>\n",
              "    </tr>\n",
              "  </thead>\n",
              "  <tbody>\n",
              "    <tr>\n",
              "      <th>0</th>\n",
              "      <td>1/1/1948</td>\n",
              "      <td>10</td>\n",
              "      <td>8.0</td>\n",
              "      <td>7.0</td>\n",
              "    </tr>\n",
              "    <tr>\n",
              "      <th>1</th>\n",
              "      <td>1/2/1948</td>\n",
              "      <td>6</td>\n",
              "      <td>4.0</td>\n",
              "      <td>3.0</td>\n",
              "    </tr>\n",
              "    <tr>\n",
              "      <th>2</th>\n",
              "      <td>1/3/1948</td>\n",
              "      <td>7</td>\n",
              "      <td>4.0</td>\n",
              "      <td>2.0</td>\n",
              "    </tr>\n",
              "    <tr>\n",
              "      <th>3</th>\n",
              "      <td>1/4/1948</td>\n",
              "      <td>7</td>\n",
              "      <td>4.0</td>\n",
              "      <td>2.0</td>\n",
              "    </tr>\n",
              "    <tr>\n",
              "      <th>4</th>\n",
              "      <td>1/5/1948</td>\n",
              "      <td>7</td>\n",
              "      <td>3.0</td>\n",
              "      <td>0.0</td>\n",
              "    </tr>\n",
              "    <tr>\n",
              "      <th>5</th>\n",
              "      <td>1/6/1948</td>\n",
              "      <td>9</td>\n",
              "      <td>7.0</td>\n",
              "      <td>5.0</td>\n",
              "    </tr>\n",
              "    <tr>\n",
              "      <th>6</th>\n",
              "      <td>1/7/1948</td>\n",
              "      <td>10</td>\n",
              "      <td>7.0</td>\n",
              "      <td>4.0</td>\n",
              "    </tr>\n",
              "    <tr>\n",
              "      <th>7</th>\n",
              "      <td>1/8/1948</td>\n",
              "      <td>8</td>\n",
              "      <td>5.0</td>\n",
              "      <td>2.0</td>\n",
              "    </tr>\n",
              "    <tr>\n",
              "      <th>8</th>\n",
              "      <td>1/9/1948</td>\n",
              "      <td>9</td>\n",
              "      <td>4.0</td>\n",
              "      <td>1.0</td>\n",
              "    </tr>\n",
              "    <tr>\n",
              "      <th>9</th>\n",
              "      <td>1/10/1948</td>\n",
              "      <td>6</td>\n",
              "      <td>4.0</td>\n",
              "      <td>2.0</td>\n",
              "    </tr>\n",
              "  </tbody>\n",
              "</table>\n",
              "</div>"
            ],
            "text/plain": [
              "        Date  Max_TemperatureC  Mean_TemperatureC  Min_TemperatureC\n",
              "0   1/1/1948                10                8.0               7.0\n",
              "1   1/2/1948                 6                4.0               3.0\n",
              "2   1/3/1948                 7                4.0               2.0\n",
              "3   1/4/1948                 7                4.0               2.0\n",
              "4   1/5/1948                 7                3.0               0.0\n",
              "5   1/6/1948                 9                7.0               5.0\n",
              "6   1/7/1948                10                7.0               4.0\n",
              "7   1/8/1948                 8                5.0               2.0\n",
              "8   1/9/1948                 9                4.0               1.0\n",
              "9  1/10/1948                 6                4.0               2.0"
            ]
          },
          "metadata": {
            "tags": []
          },
          "execution_count": 115
        }
      ]
    },
    {
      "cell_type": "code",
      "metadata": {
        "id": "4p3J18WSaMv6",
        "colab": {
          "base_uri": "https://localhost:8080/",
          "height": 208
        },
        "outputId": "775e7f7c-fd5d-42ae-9651-7ea50595a7e1"
      },
      "source": [
        "df.info()"
      ],
      "execution_count": null,
      "outputs": [
        {
          "output_type": "stream",
          "text": [
            "<class 'pandas.core.frame.DataFrame'>\n",
            "RangeIndex: 24381 entries, 0 to 24380\n",
            "Data columns (total 4 columns):\n",
            " #   Column             Non-Null Count  Dtype  \n",
            "---  ------             --------------  -----  \n",
            " 0   Date               24381 non-null  object \n",
            " 1   Max_TemperatureC   24381 non-null  int64  \n",
            " 2   Mean_TemperatureC  24376 non-null  float64\n",
            " 3   Min_TemperatureC   24380 non-null  float64\n",
            "dtypes: float64(2), int64(1), object(1)\n",
            "memory usage: 762.0+ KB\n"
          ],
          "name": "stdout"
        }
      ]
    },
    {
      "cell_type": "code",
      "metadata": {
        "scrolled": true,
        "id": "6UetdMF4aMv_",
        "outputId": "776f7fd1-db5d-405b-f9d9-750efbed46ae"
      },
      "source": [
        "df.isna().sum()"
      ],
      "execution_count": null,
      "outputs": [
        {
          "output_type": "execute_result",
          "data": {
            "text/plain": [
              "Date                 0\n",
              "Max_TemperatureC     0\n",
              "Mean_TemperatureC    5\n",
              "Min_TemperatureC     1\n",
              "dtype: int64"
            ]
          },
          "metadata": {
            "tags": []
          },
          "execution_count": 80
        }
      ]
    },
    {
      "cell_type": "code",
      "metadata": {
        "id": "Qn2BFr6uaMwD",
        "colab": {
          "base_uri": "https://localhost:8080/",
          "height": 225
        },
        "outputId": "c41300e8-cbdb-400a-bcb7-636bb3c891a7"
      },
      "source": [
        "df['Date'] = pd.to_datetime(df['Date'])\n",
        "df['Date']"
      ],
      "execution_count": null,
      "outputs": [
        {
          "output_type": "execute_result",
          "data": {
            "text/plain": [
              "0       1948-01-01\n",
              "1       1948-01-02\n",
              "2       1948-01-03\n",
              "3       1948-01-04\n",
              "4       1948-01-05\n",
              "           ...    \n",
              "24376   2015-12-27\n",
              "24377   2015-12-28\n",
              "24378   2015-12-29\n",
              "24379   2015-12-30\n",
              "24380   2015-12-31\n",
              "Name: Date, Length: 24381, dtype: datetime64[ns]"
            ]
          },
          "metadata": {
            "tags": []
          },
          "execution_count": 117
        }
      ]
    },
    {
      "cell_type": "code",
      "metadata": {
        "id": "VankjEZJaMwI",
        "colab": {
          "base_uri": "https://localhost:8080/",
          "height": 225
        },
        "outputId": "003aa76a-b1da-499d-cbe8-741d041dad2a"
      },
      "source": [
        "df['Date'].dt.year"
      ],
      "execution_count": null,
      "outputs": [
        {
          "output_type": "execute_result",
          "data": {
            "text/plain": [
              "0        1948\n",
              "1        1948\n",
              "2        1948\n",
              "3        1948\n",
              "4        1948\n",
              "         ... \n",
              "24376    2015\n",
              "24377    2015\n",
              "24378    2015\n",
              "24379    2015\n",
              "24380    2015\n",
              "Name: Date, Length: 24381, dtype: int64"
            ]
          },
          "metadata": {
            "tags": []
          },
          "execution_count": 118
        }
      ]
    },
    {
      "cell_type": "markdown",
      "metadata": {
        "id": "tsrMLLCBaMwN"
      },
      "source": [
        "### Создание новых временнЫх признаков"
      ]
    },
    {
      "cell_type": "code",
      "metadata": {
        "id": "m6q8SVQ1aMwO"
      },
      "source": [
        "df['current_time'] = pd.to_datetime('today').strftime(\"%m/%d/%Y\")\n",
        "\n"
      ],
      "execution_count": null,
      "outputs": []
    },
    {
      "cell_type": "code",
      "metadata": {
        "id": "pZYzopvCaMwR"
      },
      "source": [
        "df['current_time'] = pd.to_datetime(df['current_time'])"
      ],
      "execution_count": null,
      "outputs": []
    },
    {
      "cell_type": "code",
      "metadata": {
        "id": "l3cvlCTdaMwV",
        "colab": {
          "base_uri": "https://localhost:8080/",
          "height": 424
        },
        "outputId": "c6d29c02-08ac-4e14-d726-a688e7be39cf"
      },
      "source": [
        "df['timedelta'] = (df['current_time']-df['Date']).astype('timedelta64[Y]')\n",
        "df"
      ],
      "execution_count": null,
      "outputs": [
        {
          "output_type": "execute_result",
          "data": {
            "text/html": [
              "<div>\n",
              "<style scoped>\n",
              "    .dataframe tbody tr th:only-of-type {\n",
              "        vertical-align: middle;\n",
              "    }\n",
              "\n",
              "    .dataframe tbody tr th {\n",
              "        vertical-align: top;\n",
              "    }\n",
              "\n",
              "    .dataframe thead th {\n",
              "        text-align: right;\n",
              "    }\n",
              "</style>\n",
              "<table border=\"1\" class=\"dataframe\">\n",
              "  <thead>\n",
              "    <tr style=\"text-align: right;\">\n",
              "      <th></th>\n",
              "      <th>Date</th>\n",
              "      <th>Max_TemperatureC</th>\n",
              "      <th>Mean_TemperatureC</th>\n",
              "      <th>Min_TemperatureC</th>\n",
              "      <th>current_time</th>\n",
              "      <th>timedelta</th>\n",
              "    </tr>\n",
              "  </thead>\n",
              "  <tbody>\n",
              "    <tr>\n",
              "      <th>0</th>\n",
              "      <td>1948-01-01</td>\n",
              "      <td>10</td>\n",
              "      <td>8.0</td>\n",
              "      <td>7.0</td>\n",
              "      <td>2020-10-17</td>\n",
              "      <td>72.0</td>\n",
              "    </tr>\n",
              "    <tr>\n",
              "      <th>1</th>\n",
              "      <td>1948-01-02</td>\n",
              "      <td>6</td>\n",
              "      <td>4.0</td>\n",
              "      <td>3.0</td>\n",
              "      <td>2020-10-17</td>\n",
              "      <td>72.0</td>\n",
              "    </tr>\n",
              "    <tr>\n",
              "      <th>2</th>\n",
              "      <td>1948-01-03</td>\n",
              "      <td>7</td>\n",
              "      <td>4.0</td>\n",
              "      <td>2.0</td>\n",
              "      <td>2020-10-17</td>\n",
              "      <td>72.0</td>\n",
              "    </tr>\n",
              "    <tr>\n",
              "      <th>3</th>\n",
              "      <td>1948-01-04</td>\n",
              "      <td>7</td>\n",
              "      <td>4.0</td>\n",
              "      <td>2.0</td>\n",
              "      <td>2020-10-17</td>\n",
              "      <td>72.0</td>\n",
              "    </tr>\n",
              "    <tr>\n",
              "      <th>4</th>\n",
              "      <td>1948-01-05</td>\n",
              "      <td>7</td>\n",
              "      <td>3.0</td>\n",
              "      <td>0.0</td>\n",
              "      <td>2020-10-17</td>\n",
              "      <td>72.0</td>\n",
              "    </tr>\n",
              "    <tr>\n",
              "      <th>...</th>\n",
              "      <td>...</td>\n",
              "      <td>...</td>\n",
              "      <td>...</td>\n",
              "      <td>...</td>\n",
              "      <td>...</td>\n",
              "      <td>...</td>\n",
              "    </tr>\n",
              "    <tr>\n",
              "      <th>24376</th>\n",
              "      <td>2015-12-27</td>\n",
              "      <td>4</td>\n",
              "      <td>3.0</td>\n",
              "      <td>2.0</td>\n",
              "      <td>2020-10-17</td>\n",
              "      <td>4.0</td>\n",
              "    </tr>\n",
              "    <tr>\n",
              "      <th>24377</th>\n",
              "      <td>2015-12-28</td>\n",
              "      <td>5</td>\n",
              "      <td>3.0</td>\n",
              "      <td>2.0</td>\n",
              "      <td>2020-10-17</td>\n",
              "      <td>4.0</td>\n",
              "    </tr>\n",
              "    <tr>\n",
              "      <th>24378</th>\n",
              "      <td>2015-12-29</td>\n",
              "      <td>7</td>\n",
              "      <td>4.0</td>\n",
              "      <td>1.0</td>\n",
              "      <td>2020-10-17</td>\n",
              "      <td>4.0</td>\n",
              "    </tr>\n",
              "    <tr>\n",
              "      <th>24379</th>\n",
              "      <td>2015-12-30</td>\n",
              "      <td>6</td>\n",
              "      <td>2.0</td>\n",
              "      <td>-1.0</td>\n",
              "      <td>2020-10-17</td>\n",
              "      <td>4.0</td>\n",
              "    </tr>\n",
              "    <tr>\n",
              "      <th>24380</th>\n",
              "      <td>2015-12-31</td>\n",
              "      <td>6</td>\n",
              "      <td>2.0</td>\n",
              "      <td>-2.0</td>\n",
              "      <td>2020-10-17</td>\n",
              "      <td>4.0</td>\n",
              "    </tr>\n",
              "  </tbody>\n",
              "</table>\n",
              "<p>24381 rows × 6 columns</p>\n",
              "</div>"
            ],
            "text/plain": [
              "            Date  Max_TemperatureC  ...  current_time  timedelta\n",
              "0     1948-01-01                10  ...    2020-10-17       72.0\n",
              "1     1948-01-02                 6  ...    2020-10-17       72.0\n",
              "2     1948-01-03                 7  ...    2020-10-17       72.0\n",
              "3     1948-01-04                 7  ...    2020-10-17       72.0\n",
              "4     1948-01-05                 7  ...    2020-10-17       72.0\n",
              "...          ...               ...  ...           ...        ...\n",
              "24376 2015-12-27                 4  ...    2020-10-17        4.0\n",
              "24377 2015-12-28                 5  ...    2020-10-17        4.0\n",
              "24378 2015-12-29                 7  ...    2020-10-17        4.0\n",
              "24379 2015-12-30                 6  ...    2020-10-17        4.0\n",
              "24380 2015-12-31                 6  ...    2020-10-17        4.0\n",
              "\n",
              "[24381 rows x 6 columns]"
            ]
          },
          "metadata": {
            "tags": []
          },
          "execution_count": 121
        }
      ]
    },
    {
      "cell_type": "markdown",
      "metadata": {
        "id": "WLaYGCzeaMwc"
      },
      "source": [
        "### Удаление дупликатов"
      ]
    },
    {
      "cell_type": "code",
      "metadata": {
        "id": "0V3OLSY8aMwc",
        "colab": {
          "base_uri": "https://localhost:8080/",
          "height": 175
        },
        "outputId": "cc04e1e3-0379-4555-b3bc-e06d002701c9"
      },
      "source": [
        "data = {\"Name\": [\"James\", \"Alice\", \"Phil\", \"James\"],\n",
        "\"Age\": [24, 28, 40, 24],\n",
        "\"Sex\": [\"Male\", \"Female\", \"Male\", \"Male\"]}\n",
        "\n",
        "df = pd.DataFrame(data)\n",
        "df\n"
      ],
      "execution_count": null,
      "outputs": [
        {
          "output_type": "execute_result",
          "data": {
            "text/html": [
              "<div>\n",
              "<style scoped>\n",
              "    .dataframe tbody tr th:only-of-type {\n",
              "        vertical-align: middle;\n",
              "    }\n",
              "\n",
              "    .dataframe tbody tr th {\n",
              "        vertical-align: top;\n",
              "    }\n",
              "\n",
              "    .dataframe thead th {\n",
              "        text-align: right;\n",
              "    }\n",
              "</style>\n",
              "<table border=\"1\" class=\"dataframe\">\n",
              "  <thead>\n",
              "    <tr style=\"text-align: right;\">\n",
              "      <th></th>\n",
              "      <th>Name</th>\n",
              "      <th>Age</th>\n",
              "      <th>Sex</th>\n",
              "    </tr>\n",
              "  </thead>\n",
              "  <tbody>\n",
              "    <tr>\n",
              "      <th>0</th>\n",
              "      <td>James</td>\n",
              "      <td>24</td>\n",
              "      <td>Male</td>\n",
              "    </tr>\n",
              "    <tr>\n",
              "      <th>1</th>\n",
              "      <td>Alice</td>\n",
              "      <td>28</td>\n",
              "      <td>Female</td>\n",
              "    </tr>\n",
              "    <tr>\n",
              "      <th>2</th>\n",
              "      <td>Phil</td>\n",
              "      <td>40</td>\n",
              "      <td>Male</td>\n",
              "    </tr>\n",
              "    <tr>\n",
              "      <th>3</th>\n",
              "      <td>James</td>\n",
              "      <td>24</td>\n",
              "      <td>Male</td>\n",
              "    </tr>\n",
              "  </tbody>\n",
              "</table>\n",
              "</div>"
            ],
            "text/plain": [
              "    Name  Age     Sex\n",
              "0  James   24    Male\n",
              "1  Alice   28  Female\n",
              "2   Phil   40    Male\n",
              "3  James   24    Male"
            ]
          },
          "metadata": {
            "tags": []
          },
          "execution_count": 122
        }
      ]
    },
    {
      "cell_type": "code",
      "metadata": {
        "id": "2ubGcqdkaMwj",
        "colab": {
          "base_uri": "https://localhost:8080/",
          "height": 143
        },
        "outputId": "f9beb3a8-bb43-4802-881b-ff63a167393a"
      },
      "source": [
        "df.drop_duplicates( )"
      ],
      "execution_count": null,
      "outputs": [
        {
          "output_type": "execute_result",
          "data": {
            "text/html": [
              "<div>\n",
              "<style scoped>\n",
              "    .dataframe tbody tr th:only-of-type {\n",
              "        vertical-align: middle;\n",
              "    }\n",
              "\n",
              "    .dataframe tbody tr th {\n",
              "        vertical-align: top;\n",
              "    }\n",
              "\n",
              "    .dataframe thead th {\n",
              "        text-align: right;\n",
              "    }\n",
              "</style>\n",
              "<table border=\"1\" class=\"dataframe\">\n",
              "  <thead>\n",
              "    <tr style=\"text-align: right;\">\n",
              "      <th></th>\n",
              "      <th>Name</th>\n",
              "      <th>Age</th>\n",
              "      <th>Sex</th>\n",
              "    </tr>\n",
              "  </thead>\n",
              "  <tbody>\n",
              "    <tr>\n",
              "      <th>0</th>\n",
              "      <td>James</td>\n",
              "      <td>24</td>\n",
              "      <td>Male</td>\n",
              "    </tr>\n",
              "    <tr>\n",
              "      <th>1</th>\n",
              "      <td>Alice</td>\n",
              "      <td>28</td>\n",
              "      <td>Female</td>\n",
              "    </tr>\n",
              "    <tr>\n",
              "      <th>2</th>\n",
              "      <td>Phil</td>\n",
              "      <td>40</td>\n",
              "      <td>Male</td>\n",
              "    </tr>\n",
              "  </tbody>\n",
              "</table>\n",
              "</div>"
            ],
            "text/plain": [
              "    Name  Age     Sex\n",
              "0  James   24    Male\n",
              "1  Alice   28  Female\n",
              "2   Phil   40    Male"
            ]
          },
          "metadata": {
            "tags": []
          },
          "execution_count": 123
        }
      ]
    },
    {
      "cell_type": "markdown",
      "metadata": {
        "id": "j41Iqy0raMwo"
      },
      "source": [
        "### Строковые методы очистки данных"
      ]
    },
    {
      "cell_type": "markdown",
      "metadata": {
        "id": "741kkp4vluZx"
      },
      "source": [
        "### Создание dummy переменных"
      ]
    },
    {
      "cell_type": "code",
      "metadata": {
        "colab": {
          "base_uri": "https://localhost:8080/",
          "height": 229
        },
        "id": "acD62jA0lyJP",
        "outputId": "7cc70e4e-e9f9-482e-ddf8-1ee64822eac6"
      },
      "source": [
        "import pandas as pd\n",
        " \n",
        "df = pd.read_csv('https://raw.githubusercontent.com/alnagaev/landing/master/train.csv')\n",
        "\n",
        "#Прием может пригодится при работе над одним из проектов курса и в реальной жизни\n",
        "df['Embarked'].str.get_dummies()\n",
        "\n",
        "df = pd.concat([df, df['Embarked'].str.get_dummies()], axis=1)\n",
        "df.pop('Embarked')\n",
        "df.head()"
      ],
      "execution_count": 7,
      "outputs": [
        {
          "output_type": "execute_result",
          "data": {
            "text/html": [
              "<div>\n",
              "<style scoped>\n",
              "    .dataframe tbody tr th:only-of-type {\n",
              "        vertical-align: middle;\n",
              "    }\n",
              "\n",
              "    .dataframe tbody tr th {\n",
              "        vertical-align: top;\n",
              "    }\n",
              "\n",
              "    .dataframe thead th {\n",
              "        text-align: right;\n",
              "    }\n",
              "</style>\n",
              "<table border=\"1\" class=\"dataframe\">\n",
              "  <thead>\n",
              "    <tr style=\"text-align: right;\">\n",
              "      <th></th>\n",
              "      <th>PassengerId</th>\n",
              "      <th>Survived</th>\n",
              "      <th>Pclass</th>\n",
              "      <th>Name</th>\n",
              "      <th>Sex</th>\n",
              "      <th>Age</th>\n",
              "      <th>SibSp</th>\n",
              "      <th>Parch</th>\n",
              "      <th>Ticket</th>\n",
              "      <th>Fare</th>\n",
              "      <th>Cabin</th>\n",
              "      <th>C</th>\n",
              "      <th>Q</th>\n",
              "      <th>S</th>\n",
              "    </tr>\n",
              "  </thead>\n",
              "  <tbody>\n",
              "    <tr>\n",
              "      <th>0</th>\n",
              "      <td>1</td>\n",
              "      <td>0</td>\n",
              "      <td>3</td>\n",
              "      <td>Braund, Mr. Owen Harris</td>\n",
              "      <td>male</td>\n",
              "      <td>22.0</td>\n",
              "      <td>1</td>\n",
              "      <td>0</td>\n",
              "      <td>A/5 21171</td>\n",
              "      <td>7.2500</td>\n",
              "      <td>NaN</td>\n",
              "      <td>0</td>\n",
              "      <td>0</td>\n",
              "      <td>1</td>\n",
              "    </tr>\n",
              "    <tr>\n",
              "      <th>1</th>\n",
              "      <td>2</td>\n",
              "      <td>1</td>\n",
              "      <td>1</td>\n",
              "      <td>Cumings, Mrs. John Bradley (Florence Briggs Th...</td>\n",
              "      <td>female</td>\n",
              "      <td>38.0</td>\n",
              "      <td>1</td>\n",
              "      <td>0</td>\n",
              "      <td>PC 17599</td>\n",
              "      <td>71.2833</td>\n",
              "      <td>C85</td>\n",
              "      <td>1</td>\n",
              "      <td>0</td>\n",
              "      <td>0</td>\n",
              "    </tr>\n",
              "    <tr>\n",
              "      <th>2</th>\n",
              "      <td>3</td>\n",
              "      <td>1</td>\n",
              "      <td>3</td>\n",
              "      <td>Heikkinen, Miss. Laina</td>\n",
              "      <td>female</td>\n",
              "      <td>26.0</td>\n",
              "      <td>0</td>\n",
              "      <td>0</td>\n",
              "      <td>STON/O2. 3101282</td>\n",
              "      <td>7.9250</td>\n",
              "      <td>NaN</td>\n",
              "      <td>0</td>\n",
              "      <td>0</td>\n",
              "      <td>1</td>\n",
              "    </tr>\n",
              "    <tr>\n",
              "      <th>3</th>\n",
              "      <td>4</td>\n",
              "      <td>1</td>\n",
              "      <td>1</td>\n",
              "      <td>Futrelle, Mrs. Jacques Heath (Lily May Peel)</td>\n",
              "      <td>female</td>\n",
              "      <td>35.0</td>\n",
              "      <td>1</td>\n",
              "      <td>0</td>\n",
              "      <td>113803</td>\n",
              "      <td>53.1000</td>\n",
              "      <td>C123</td>\n",
              "      <td>0</td>\n",
              "      <td>0</td>\n",
              "      <td>1</td>\n",
              "    </tr>\n",
              "    <tr>\n",
              "      <th>4</th>\n",
              "      <td>5</td>\n",
              "      <td>0</td>\n",
              "      <td>3</td>\n",
              "      <td>Allen, Mr. William Henry</td>\n",
              "      <td>male</td>\n",
              "      <td>35.0</td>\n",
              "      <td>0</td>\n",
              "      <td>0</td>\n",
              "      <td>373450</td>\n",
              "      <td>8.0500</td>\n",
              "      <td>NaN</td>\n",
              "      <td>0</td>\n",
              "      <td>0</td>\n",
              "      <td>1</td>\n",
              "    </tr>\n",
              "  </tbody>\n",
              "</table>\n",
              "</div>"
            ],
            "text/plain": [
              "   PassengerId  Survived  Pclass  ...  C  Q  S\n",
              "0            1         0       3  ...  0  0  1\n",
              "1            2         1       1  ...  1  0  0\n",
              "2            3         1       3  ...  0  0  1\n",
              "3            4         1       1  ...  0  0  1\n",
              "4            5         0       3  ...  0  0  1\n",
              "\n",
              "[5 rows x 14 columns]"
            ]
          },
          "metadata": {
            "tags": []
          },
          "execution_count": 7
        }
      ]
    },
    {
      "cell_type": "code",
      "metadata": {
        "id": "0mk3ENWUaMwp",
        "colab": {
          "base_uri": "https://localhost:8080/",
          "height": 363
        },
        "outputId": "553cb5de-08fd-4a7b-ca9d-3e1e9dc93ffd"
      },
      "source": [
        "df = pd.read_csv('https://raw.githubusercontent.com/alnagaev/reni_land/master/test.csv')\n",
        "df.head(10)"
      ],
      "execution_count": null,
      "outputs": [
        {
          "output_type": "execute_result",
          "data": {
            "text/html": [
              "<div>\n",
              "<style scoped>\n",
              "    .dataframe tbody tr th:only-of-type {\n",
              "        vertical-align: middle;\n",
              "    }\n",
              "\n",
              "    .dataframe tbody tr th {\n",
              "        vertical-align: top;\n",
              "    }\n",
              "\n",
              "    .dataframe thead th {\n",
              "        text-align: right;\n",
              "    }\n",
              "</style>\n",
              "<table border=\"1\" class=\"dataframe\">\n",
              "  <thead>\n",
              "    <tr style=\"text-align: right;\">\n",
              "      <th></th>\n",
              "      <th>id</th>\n",
              "      <th>Дата рождения</th>\n",
              "      <th>Вакансия</th>\n",
              "      <th>Технология</th>\n",
              "      <th>Локация</th>\n",
              "      <th>З/п в валюте найма</th>\n",
              "    </tr>\n",
              "  </thead>\n",
              "  <tbody>\n",
              "    <tr>\n",
              "      <th>0</th>\n",
              "      <td>1</td>\n",
              "      <td>18.04.1994</td>\n",
              "      <td>Инженер-программист 2 категории</td>\n",
              "      <td>JS</td>\n",
              "      <td>Санкт-Петербург</td>\n",
              "      <td>140 000,00 ₽</td>\n",
              "    </tr>\n",
              "    <tr>\n",
              "      <th>1</th>\n",
              "      <td>2</td>\n",
              "      <td>27.03.1993</td>\n",
              "      <td>Разработчик информационных систем</td>\n",
              "      <td>.NET</td>\n",
              "      <td>Москва</td>\n",
              "      <td>130 000,00 ₽</td>\n",
              "    </tr>\n",
              "    <tr>\n",
              "      <th>2</th>\n",
              "      <td>3</td>\n",
              "      <td>24.11.1983</td>\n",
              "      <td>Java Developer</td>\n",
              "      <td>Java</td>\n",
              "      <td>Санкт-Петербург</td>\n",
              "      <td>200 000,00 ₽</td>\n",
              "    </tr>\n",
              "    <tr>\n",
              "      <th>3</th>\n",
              "      <td>4</td>\n",
              "      <td>09.06.1989</td>\n",
              "      <td>Архитектор ПО</td>\n",
              "      <td>Java</td>\n",
              "      <td>Москва</td>\n",
              "      <td>250 000,00 ₽</td>\n",
              "    </tr>\n",
              "    <tr>\n",
              "      <th>4</th>\n",
              "      <td>5</td>\n",
              "      <td>03.10.1978</td>\n",
              "      <td>QA Automation Engineer</td>\n",
              "      <td>QA</td>\n",
              "      <td>Санкт-Петербург</td>\n",
              "      <td>172 413,00 ₽</td>\n",
              "    </tr>\n",
              "    <tr>\n",
              "      <th>5</th>\n",
              "      <td>6</td>\n",
              "      <td>21.08.1973</td>\n",
              "      <td>Big Data Developer</td>\n",
              "      <td>Big Data</td>\n",
              "      <td>Санкт-Петербург</td>\n",
              "      <td>280 000,00 ₽</td>\n",
              "    </tr>\n",
              "    <tr>\n",
              "      <th>6</th>\n",
              "      <td>7</td>\n",
              "      <td>10.10.1991</td>\n",
              "      <td>JS Developer</td>\n",
              "      <td>JS</td>\n",
              "      <td>Москва</td>\n",
              "      <td>129 000,00 ₽</td>\n",
              "    </tr>\n",
              "    <tr>\n",
              "      <th>7</th>\n",
              "      <td>8</td>\n",
              "      <td>16.08.1982</td>\n",
              "      <td>Разработчик мобильных приложений</td>\n",
              "      <td>Android</td>\n",
              "      <td>Москва</td>\n",
              "      <td>185 000,00 ₽</td>\n",
              "    </tr>\n",
              "    <tr>\n",
              "      <th>8</th>\n",
              "      <td>9</td>\n",
              "      <td>16.05.1988</td>\n",
              "      <td>Инженер-программист 2 категории</td>\n",
              "      <td>.NET</td>\n",
              "      <td>Санкт-Петербург</td>\n",
              "      <td>160 000,00 ₽</td>\n",
              "    </tr>\n",
              "    <tr>\n",
              "      <th>9</th>\n",
              "      <td>10</td>\n",
              "      <td>01.12.1990</td>\n",
              "      <td>Java Engineer</td>\n",
              "      <td>Java</td>\n",
              "      <td>Краков; Польша</td>\n",
              "      <td>9 500,00 zł</td>\n",
              "    </tr>\n",
              "  </tbody>\n",
              "</table>\n",
              "</div>"
            ],
            "text/plain": [
              "   id Дата рождения  ...          Локация З/п в валюте найма\n",
              "0   1    18.04.1994  ...  Санкт-Петербург       140 000,00 ₽\n",
              "1   2    27.03.1993  ...           Москва       130 000,00 ₽\n",
              "2   3    24.11.1983  ...  Санкт-Петербург       200 000,00 ₽\n",
              "3   4    09.06.1989  ...           Москва       250 000,00 ₽\n",
              "4   5    03.10.1978  ...  Санкт-Петербург       172 413,00 ₽\n",
              "5   6    21.08.1973  ...  Санкт-Петербург       280 000,00 ₽\n",
              "6   7    10.10.1991  ...           Москва       129 000,00 ₽\n",
              "7   8    16.08.1982  ...           Москва       185 000,00 ₽\n",
              "8   9    16.05.1988  ...  Санкт-Петербург       160 000,00 ₽\n",
              "9  10    01.12.1990  ...   Краков; Польша        9 500,00 zł\n",
              "\n",
              "[10 rows x 6 columns]"
            ]
          },
          "metadata": {
            "tags": []
          },
          "execution_count": 124
        }
      ]
    },
    {
      "cell_type": "code",
      "metadata": {
        "id": "i9iPtEzkbn-S",
        "colab": {
          "base_uri": "https://localhost:8080/",
          "height": 426
        },
        "outputId": "5de6d68c-1ff4-4110-be56-0a4916338419"
      },
      "source": [
        "df[df['Вакансия'].str.contains('Java')]"
      ],
      "execution_count": null,
      "outputs": [
        {
          "output_type": "execute_result",
          "data": {
            "text/html": [
              "<div>\n",
              "<style scoped>\n",
              "    .dataframe tbody tr th:only-of-type {\n",
              "        vertical-align: middle;\n",
              "    }\n",
              "\n",
              "    .dataframe tbody tr th {\n",
              "        vertical-align: top;\n",
              "    }\n",
              "\n",
              "    .dataframe thead th {\n",
              "        text-align: right;\n",
              "    }\n",
              "</style>\n",
              "<table border=\"1\" class=\"dataframe\">\n",
              "  <thead>\n",
              "    <tr style=\"text-align: right;\">\n",
              "      <th></th>\n",
              "      <th>id</th>\n",
              "      <th>Дата рождения</th>\n",
              "      <th>Вакансия</th>\n",
              "      <th>Технология</th>\n",
              "      <th>Локация</th>\n",
              "      <th>З/п в валюте найма</th>\n",
              "    </tr>\n",
              "  </thead>\n",
              "  <tbody>\n",
              "    <tr>\n",
              "      <th>2</th>\n",
              "      <td>3</td>\n",
              "      <td>24.11.1983</td>\n",
              "      <td>Java Developer</td>\n",
              "      <td>Java</td>\n",
              "      <td>Санкт-Петербург</td>\n",
              "      <td>200 000,00 ₽</td>\n",
              "    </tr>\n",
              "    <tr>\n",
              "      <th>9</th>\n",
              "      <td>10</td>\n",
              "      <td>01.12.1990</td>\n",
              "      <td>Java Engineer</td>\n",
              "      <td>Java</td>\n",
              "      <td>Краков; Польша</td>\n",
              "      <td>9 500,00 zł</td>\n",
              "    </tr>\n",
              "    <tr>\n",
              "      <th>12</th>\n",
              "      <td>13</td>\n",
              "      <td>04.11.1988</td>\n",
              "      <td>JavaScript Engineer</td>\n",
              "      <td>JavaScript</td>\n",
              "      <td>Краков; Польша</td>\n",
              "      <td>10 500,00 zł</td>\n",
              "    </tr>\n",
              "    <tr>\n",
              "      <th>15</th>\n",
              "      <td>16</td>\n",
              "      <td>30.08.1982</td>\n",
              "      <td>Java Developer</td>\n",
              "      <td>Java</td>\n",
              "      <td>Москва</td>\n",
              "      <td>180 000,00 ₽</td>\n",
              "    </tr>\n",
              "    <tr>\n",
              "      <th>27</th>\n",
              "      <td>28</td>\n",
              "      <td>09.10.1990</td>\n",
              "      <td>Java Developer</td>\n",
              "      <td>Java</td>\n",
              "      <td>Москва</td>\n",
              "      <td>170 000,00 ₽</td>\n",
              "    </tr>\n",
              "    <tr>\n",
              "      <th>30</th>\n",
              "      <td>31</td>\n",
              "      <td>09.02.1992</td>\n",
              "      <td>Senior Java developer</td>\n",
              "      <td>Java</td>\n",
              "      <td>Санкт-Петербург</td>\n",
              "      <td>264 367,82 ₽</td>\n",
              "    </tr>\n",
              "    <tr>\n",
              "      <th>32</th>\n",
              "      <td>33</td>\n",
              "      <td>26.09.1981</td>\n",
              "      <td>Java Developer</td>\n",
              "      <td>Java</td>\n",
              "      <td>Москва</td>\n",
              "      <td>210 000,00 ₽</td>\n",
              "    </tr>\n",
              "    <tr>\n",
              "      <th>37</th>\n",
              "      <td>38</td>\n",
              "      <td>03.04.1990</td>\n",
              "      <td>JavaScript Engineer</td>\n",
              "      <td>JavaScript</td>\n",
              "      <td>Краков; Польша</td>\n",
              "      <td>13 000,00 zł</td>\n",
              "    </tr>\n",
              "    <tr>\n",
              "      <th>45</th>\n",
              "      <td>46</td>\n",
              "      <td>25.10.1985</td>\n",
              "      <td>Senior Java developer</td>\n",
              "      <td>Java</td>\n",
              "      <td>Санкт-Петербург</td>\n",
              "      <td>252 900,00 ₽</td>\n",
              "    </tr>\n",
              "    <tr>\n",
              "      <th>49</th>\n",
              "      <td>50</td>\n",
              "      <td>09.02.1985</td>\n",
              "      <td>Java Developer</td>\n",
              "      <td>Java</td>\n",
              "      <td>Москва</td>\n",
              "      <td>300 000,00 ₽</td>\n",
              "    </tr>\n",
              "    <tr>\n",
              "      <th>51</th>\n",
              "      <td>52</td>\n",
              "      <td>26.12.1987</td>\n",
              "      <td>Senior Java Developer</td>\n",
              "      <td>Java</td>\n",
              "      <td>Санкт-Петербург</td>\n",
              "      <td>210 000,00 ₽</td>\n",
              "    </tr>\n",
              "    <tr>\n",
              "      <th>56</th>\n",
              "      <td>57</td>\n",
              "      <td>12.09.1986</td>\n",
              "      <td>Java Dev</td>\n",
              "      <td>Java</td>\n",
              "      <td>Атлон; Ирландия</td>\n",
              "      <td>€ 4 000,00</td>\n",
              "    </tr>\n",
              "  </tbody>\n",
              "</table>\n",
              "</div>"
            ],
            "text/plain": [
              "    id Дата рождения  ...          Локация З/п в валюте найма\n",
              "2    3    24.11.1983  ...  Санкт-Петербург       200 000,00 ₽\n",
              "9   10    01.12.1990  ...   Краков; Польша        9 500,00 zł\n",
              "12  13    04.11.1988  ...   Краков; Польша       10 500,00 zł\n",
              "15  16    30.08.1982  ...           Москва       180 000,00 ₽\n",
              "27  28    09.10.1990  ...           Москва       170 000,00 ₽\n",
              "30  31    09.02.1992  ...  Санкт-Петербург       264 367,82 ₽\n",
              "32  33    26.09.1981  ...           Москва       210 000,00 ₽\n",
              "37  38    03.04.1990  ...   Краков; Польша       13 000,00 zł\n",
              "45  46    25.10.1985  ...  Санкт-Петербург       252 900,00 ₽\n",
              "49  50    09.02.1985  ...           Москва       300 000,00 ₽\n",
              "51  52    26.12.1987  ...  Санкт-Петербург       210 000,00 ₽\n",
              "56  57    12.09.1986  ...  Атлон; Ирландия         € 4 000,00\n",
              "\n",
              "[12 rows x 6 columns]"
            ]
          },
          "metadata": {
            "tags": []
          },
          "execution_count": 129
        }
      ]
    },
    {
      "cell_type": "code",
      "metadata": {
        "id": "q8ij3YqYaMws",
        "outputId": "e5ce5c27-3db4-48c7-963c-88b264c6badd"
      },
      "source": [
        "df.info()"
      ],
      "execution_count": null,
      "outputs": [
        {
          "output_type": "stream",
          "text": [
            "<class 'pandas.core.frame.DataFrame'>\n",
            "RangeIndex: 58 entries, 0 to 57\n",
            "Data columns (total 6 columns):\n",
            " #   Column              Non-Null Count  Dtype \n",
            "---  ------              --------------  ----- \n",
            " 0   id                  58 non-null     int64 \n",
            " 1   Дата рождения       58 non-null     object\n",
            " 2   Вакансия            58 non-null     object\n",
            " 3   Технология          58 non-null     object\n",
            " 4   Локация             58 non-null     object\n",
            " 5   З/п в валюте найма  58 non-null     object\n",
            "dtypes: int64(1), object(5)\n",
            "memory usage: 2.8+ KB\n"
          ],
          "name": "stdout"
        }
      ]
    },
    {
      "cell_type": "markdown",
      "metadata": {
        "id": "NYm3S6URaMww"
      },
      "source": [
        "Создание новых признаков"
      ]
    },
    {
      "cell_type": "code",
      "metadata": {
        "id": "2KtLn7MkaMwx",
        "outputId": "0e37177c-1aca-4d71-81b7-d89ad66b4c40"
      },
      "source": [
        "df['salary'] = df['З/п в валюте найма'].apply(lambda x: int(''.join([s for s in list(x) if s.isdigit()]))/100)\n",
        "df['currency'] = df['З/п в валюте найма'].apply(lambda x: ''.join([s for s in list(x) if not s.isdigit()]).replace(',', ''))\n",
        "df.head(10)"
      ],
      "execution_count": null,
      "outputs": [
        {
          "output_type": "execute_result",
          "data": {
            "text/html": [
              "<div>\n",
              "<style scoped>\n",
              "    .dataframe tbody tr th:only-of-type {\n",
              "        vertical-align: middle;\n",
              "    }\n",
              "\n",
              "    .dataframe tbody tr th {\n",
              "        vertical-align: top;\n",
              "    }\n",
              "\n",
              "    .dataframe thead th {\n",
              "        text-align: right;\n",
              "    }\n",
              "</style>\n",
              "<table border=\"1\" class=\"dataframe\">\n",
              "  <thead>\n",
              "    <tr style=\"text-align: right;\">\n",
              "      <th></th>\n",
              "      <th>id</th>\n",
              "      <th>Дата рождения</th>\n",
              "      <th>Вакансия</th>\n",
              "      <th>Технология</th>\n",
              "      <th>Локация</th>\n",
              "      <th>З/п в валюте найма</th>\n",
              "      <th>salary</th>\n",
              "      <th>currency</th>\n",
              "    </tr>\n",
              "  </thead>\n",
              "  <tbody>\n",
              "    <tr>\n",
              "      <th>0</th>\n",
              "      <td>1</td>\n",
              "      <td>18.04.1994</td>\n",
              "      <td>Инженер-программист 2 категории</td>\n",
              "      <td>JS</td>\n",
              "      <td>Санкт-Петербург</td>\n",
              "      <td>140 000,00 ₽</td>\n",
              "      <td>140000.0</td>\n",
              "      <td>₽</td>\n",
              "    </tr>\n",
              "    <tr>\n",
              "      <th>1</th>\n",
              "      <td>2</td>\n",
              "      <td>27.03.1993</td>\n",
              "      <td>Разработчик информационных систем</td>\n",
              "      <td>.NET</td>\n",
              "      <td>Москва</td>\n",
              "      <td>130 000,00 ₽</td>\n",
              "      <td>130000.0</td>\n",
              "      <td>₽</td>\n",
              "    </tr>\n",
              "    <tr>\n",
              "      <th>2</th>\n",
              "      <td>3</td>\n",
              "      <td>24.11.1983</td>\n",
              "      <td>Java Developer</td>\n",
              "      <td>Java</td>\n",
              "      <td>Санкт-Петербург</td>\n",
              "      <td>200 000,00 ₽</td>\n",
              "      <td>200000.0</td>\n",
              "      <td>₽</td>\n",
              "    </tr>\n",
              "    <tr>\n",
              "      <th>3</th>\n",
              "      <td>4</td>\n",
              "      <td>09.06.1989</td>\n",
              "      <td>Архитектор ПО</td>\n",
              "      <td>Java</td>\n",
              "      <td>Москва</td>\n",
              "      <td>250 000,00 ₽</td>\n",
              "      <td>250000.0</td>\n",
              "      <td>₽</td>\n",
              "    </tr>\n",
              "    <tr>\n",
              "      <th>4</th>\n",
              "      <td>5</td>\n",
              "      <td>03.10.1978</td>\n",
              "      <td>QA Automation Engineer</td>\n",
              "      <td>QA</td>\n",
              "      <td>Санкт-Петербург</td>\n",
              "      <td>172 413,00 ₽</td>\n",
              "      <td>172413.0</td>\n",
              "      <td>₽</td>\n",
              "    </tr>\n",
              "    <tr>\n",
              "      <th>5</th>\n",
              "      <td>6</td>\n",
              "      <td>21.08.1973</td>\n",
              "      <td>Big Data Developer</td>\n",
              "      <td>Big Data</td>\n",
              "      <td>Санкт-Петербург</td>\n",
              "      <td>280 000,00 ₽</td>\n",
              "      <td>280000.0</td>\n",
              "      <td>₽</td>\n",
              "    </tr>\n",
              "    <tr>\n",
              "      <th>6</th>\n",
              "      <td>7</td>\n",
              "      <td>10.10.1991</td>\n",
              "      <td>JS Developer</td>\n",
              "      <td>JS</td>\n",
              "      <td>Москва</td>\n",
              "      <td>129 000,00 ₽</td>\n",
              "      <td>129000.0</td>\n",
              "      <td>₽</td>\n",
              "    </tr>\n",
              "    <tr>\n",
              "      <th>7</th>\n",
              "      <td>8</td>\n",
              "      <td>16.08.1982</td>\n",
              "      <td>Разработчик мобильных приложений</td>\n",
              "      <td>Android</td>\n",
              "      <td>Москва</td>\n",
              "      <td>185 000,00 ₽</td>\n",
              "      <td>185000.0</td>\n",
              "      <td>₽</td>\n",
              "    </tr>\n",
              "    <tr>\n",
              "      <th>8</th>\n",
              "      <td>9</td>\n",
              "      <td>16.05.1988</td>\n",
              "      <td>Инженер-программист 2 категории</td>\n",
              "      <td>.NET</td>\n",
              "      <td>Санкт-Петербург</td>\n",
              "      <td>160 000,00 ₽</td>\n",
              "      <td>160000.0</td>\n",
              "      <td>₽</td>\n",
              "    </tr>\n",
              "    <tr>\n",
              "      <th>9</th>\n",
              "      <td>10</td>\n",
              "      <td>01.12.1990</td>\n",
              "      <td>Java Engineer</td>\n",
              "      <td>Java</td>\n",
              "      <td>Краков; Польша</td>\n",
              "      <td>9 500,00 zł</td>\n",
              "      <td>9500.0</td>\n",
              "      <td>zł</td>\n",
              "    </tr>\n",
              "  </tbody>\n",
              "</table>\n",
              "</div>"
            ],
            "text/plain": [
              "   id Дата рождения                           Вакансия Технология  \\\n",
              "0   1    18.04.1994    Инженер-программист 2 категории         JS   \n",
              "1   2    27.03.1993  Разработчик информационных систем       .NET   \n",
              "2   3    24.11.1983                     Java Developer       Java   \n",
              "3   4    09.06.1989                      Архитектор ПО       Java   \n",
              "4   5    03.10.1978             QA Automation Engineer         QA   \n",
              "5   6    21.08.1973                 Big Data Developer   Big Data   \n",
              "6   7    10.10.1991                       JS Developer         JS   \n",
              "7   8    16.08.1982   Разработчик мобильных приложений    Android   \n",
              "8   9    16.05.1988    Инженер-программист 2 категории       .NET   \n",
              "9  10    01.12.1990                      Java Engineer       Java   \n",
              "\n",
              "           Локация З/п в валюте найма    salary currency  \n",
              "0  Санкт-Петербург       140 000,00 ₽  140000.0        ₽  \n",
              "1           Москва       130 000,00 ₽  130000.0        ₽  \n",
              "2  Санкт-Петербург       200 000,00 ₽  200000.0        ₽  \n",
              "3           Москва       250 000,00 ₽  250000.0        ₽  \n",
              "4  Санкт-Петербург       172 413,00 ₽  172413.0        ₽  \n",
              "5  Санкт-Петербург       280 000,00 ₽  280000.0        ₽  \n",
              "6           Москва       129 000,00 ₽  129000.0        ₽  \n",
              "7           Москва       185 000,00 ₽  185000.0        ₽  \n",
              "8  Санкт-Петербург       160 000,00 ₽  160000.0        ₽  \n",
              "9   Краков; Польша        9 500,00 zł    9500.0       zł  "
            ]
          },
          "metadata": {
            "tags": []
          },
          "execution_count": 33
        }
      ]
    },
    {
      "cell_type": "markdown",
      "metadata": {
        "id": "zAGh3eRcaMw2"
      },
      "source": [
        "**Приведем список технологий к единообразию на примере JS**"
      ]
    },
    {
      "cell_type": "code",
      "metadata": {
        "id": "aceHOWF3aMw4"
      },
      "source": [
        "df['Технология'] = df['Технология'].replace('JavaScript', 'JS')"
      ],
      "execution_count": null,
      "outputs": []
    },
    {
      "cell_type": "code",
      "metadata": {
        "id": "Fgyc6-t0aMw9",
        "outputId": "9e253ab5-b26d-423a-c600-a889190b4bda"
      },
      "source": [
        "df[df[\"Технология\"].isin([\"JS\", 'Java'])]"
      ],
      "execution_count": null,
      "outputs": [
        {
          "output_type": "execute_result",
          "data": {
            "text/html": [
              "<div>\n",
              "<style scoped>\n",
              "    .dataframe tbody tr th:only-of-type {\n",
              "        vertical-align: middle;\n",
              "    }\n",
              "\n",
              "    .dataframe tbody tr th {\n",
              "        vertical-align: top;\n",
              "    }\n",
              "\n",
              "    .dataframe thead th {\n",
              "        text-align: right;\n",
              "    }\n",
              "</style>\n",
              "<table border=\"1\" class=\"dataframe\">\n",
              "  <thead>\n",
              "    <tr style=\"text-align: right;\">\n",
              "      <th></th>\n",
              "      <th>id</th>\n",
              "      <th>Дата рождения</th>\n",
              "      <th>Вакансия</th>\n",
              "      <th>Технология</th>\n",
              "      <th>Локация</th>\n",
              "      <th>З/п в валюте найма</th>\n",
              "      <th>salary</th>\n",
              "      <th>currency</th>\n",
              "    </tr>\n",
              "  </thead>\n",
              "  <tbody>\n",
              "    <tr>\n",
              "      <th>0</th>\n",
              "      <td>1</td>\n",
              "      <td>18.04.1994</td>\n",
              "      <td>Инженер-программист 2 категории</td>\n",
              "      <td>JS</td>\n",
              "      <td>Санкт-Петербург</td>\n",
              "      <td>140 000,00 ₽</td>\n",
              "      <td>140000.00</td>\n",
              "      <td>₽</td>\n",
              "    </tr>\n",
              "    <tr>\n",
              "      <th>2</th>\n",
              "      <td>3</td>\n",
              "      <td>24.11.1983</td>\n",
              "      <td>Java Developer</td>\n",
              "      <td>Java</td>\n",
              "      <td>Санкт-Петербург</td>\n",
              "      <td>200 000,00 ₽</td>\n",
              "      <td>200000.00</td>\n",
              "      <td>₽</td>\n",
              "    </tr>\n",
              "    <tr>\n",
              "      <th>3</th>\n",
              "      <td>4</td>\n",
              "      <td>09.06.1989</td>\n",
              "      <td>Архитектор ПО</td>\n",
              "      <td>Java</td>\n",
              "      <td>Москва</td>\n",
              "      <td>250 000,00 ₽</td>\n",
              "      <td>250000.00</td>\n",
              "      <td>₽</td>\n",
              "    </tr>\n",
              "    <tr>\n",
              "      <th>6</th>\n",
              "      <td>7</td>\n",
              "      <td>10.10.1991</td>\n",
              "      <td>JS Developer</td>\n",
              "      <td>JS</td>\n",
              "      <td>Москва</td>\n",
              "      <td>129 000,00 ₽</td>\n",
              "      <td>129000.00</td>\n",
              "      <td>₽</td>\n",
              "    </tr>\n",
              "    <tr>\n",
              "      <th>9</th>\n",
              "      <td>10</td>\n",
              "      <td>01.12.1990</td>\n",
              "      <td>Java Engineer</td>\n",
              "      <td>Java</td>\n",
              "      <td>Краков; Польша</td>\n",
              "      <td>9 500,00 zł</td>\n",
              "      <td>9500.00</td>\n",
              "      <td>zł</td>\n",
              "    </tr>\n",
              "    <tr>\n",
              "      <th>10</th>\n",
              "      <td>11</td>\n",
              "      <td>04.02.1991</td>\n",
              "      <td>Инженер-программист</td>\n",
              "      <td>JS</td>\n",
              "      <td>Москва</td>\n",
              "      <td>170 000,00 ₽</td>\n",
              "      <td>170000.00</td>\n",
              "      <td>₽</td>\n",
              "    </tr>\n",
              "    <tr>\n",
              "      <th>12</th>\n",
              "      <td>13</td>\n",
              "      <td>04.11.1988</td>\n",
              "      <td>JavaScript Engineer</td>\n",
              "      <td>JS</td>\n",
              "      <td>Краков; Польша</td>\n",
              "      <td>10 500,00 zł</td>\n",
              "      <td>10500.00</td>\n",
              "      <td>zł</td>\n",
              "    </tr>\n",
              "    <tr>\n",
              "      <th>13</th>\n",
              "      <td>14</td>\n",
              "      <td>09.04.1990</td>\n",
              "      <td>Software Engineer</td>\n",
              "      <td>JS</td>\n",
              "      <td>Вроцлав; Польша</td>\n",
              "      <td>9 500,00 zł</td>\n",
              "      <td>9500.00</td>\n",
              "      <td>zł</td>\n",
              "    </tr>\n",
              "    <tr>\n",
              "      <th>15</th>\n",
              "      <td>16</td>\n",
              "      <td>30.08.1982</td>\n",
              "      <td>Java Developer</td>\n",
              "      <td>Java</td>\n",
              "      <td>Москва</td>\n",
              "      <td>180 000,00 ₽</td>\n",
              "      <td>180000.00</td>\n",
              "      <td>₽</td>\n",
              "    </tr>\n",
              "    <tr>\n",
              "      <th>17</th>\n",
              "      <td>18</td>\n",
              "      <td>28.08.1995</td>\n",
              "      <td>JS Developer</td>\n",
              "      <td>JS</td>\n",
              "      <td>Москва</td>\n",
              "      <td>160 000,00 ₽</td>\n",
              "      <td>160000.00</td>\n",
              "      <td>₽</td>\n",
              "    </tr>\n",
              "    <tr>\n",
              "      <th>20</th>\n",
              "      <td>21</td>\n",
              "      <td>06.07.1990</td>\n",
              "      <td>Разработчик интерфейсов</td>\n",
              "      <td>JS</td>\n",
              "      <td>Санкт-Петербург</td>\n",
              "      <td>113 000,00 ₽</td>\n",
              "      <td>113000.00</td>\n",
              "      <td>₽</td>\n",
              "    </tr>\n",
              "    <tr>\n",
              "      <th>23</th>\n",
              "      <td>24</td>\n",
              "      <td>29.10.1987</td>\n",
              "      <td>Инженер-программист</td>\n",
              "      <td>JS</td>\n",
              "      <td>Санкт-Петербург</td>\n",
              "      <td>190 000,00 ₽</td>\n",
              "      <td>190000.00</td>\n",
              "      <td>₽</td>\n",
              "    </tr>\n",
              "    <tr>\n",
              "      <th>26</th>\n",
              "      <td>27</td>\n",
              "      <td>01.11.1991</td>\n",
              "      <td>Фронтенд разработчик</td>\n",
              "      <td>JS</td>\n",
              "      <td>Санкт-Петербург</td>\n",
              "      <td>300 000,00 ₽</td>\n",
              "      <td>300000.00</td>\n",
              "      <td>₽</td>\n",
              "    </tr>\n",
              "    <tr>\n",
              "      <th>27</th>\n",
              "      <td>28</td>\n",
              "      <td>09.10.1990</td>\n",
              "      <td>Java Developer</td>\n",
              "      <td>Java</td>\n",
              "      <td>Москва</td>\n",
              "      <td>170 000,00 ₽</td>\n",
              "      <td>170000.00</td>\n",
              "      <td>₽</td>\n",
              "    </tr>\n",
              "    <tr>\n",
              "      <th>30</th>\n",
              "      <td>31</td>\n",
              "      <td>09.02.1992</td>\n",
              "      <td>Senior Java developer</td>\n",
              "      <td>Java</td>\n",
              "      <td>Санкт-Петербург</td>\n",
              "      <td>264 367,82 ₽</td>\n",
              "      <td>264367.82</td>\n",
              "      <td>₽</td>\n",
              "    </tr>\n",
              "    <tr>\n",
              "      <th>32</th>\n",
              "      <td>33</td>\n",
              "      <td>26.09.1981</td>\n",
              "      <td>Java Developer</td>\n",
              "      <td>Java</td>\n",
              "      <td>Москва</td>\n",
              "      <td>210 000,00 ₽</td>\n",
              "      <td>210000.00</td>\n",
              "      <td>₽</td>\n",
              "    </tr>\n",
              "    <tr>\n",
              "      <th>37</th>\n",
              "      <td>38</td>\n",
              "      <td>03.04.1990</td>\n",
              "      <td>JavaScript Engineer</td>\n",
              "      <td>JS</td>\n",
              "      <td>Краков; Польша</td>\n",
              "      <td>13 000,00 zł</td>\n",
              "      <td>13000.00</td>\n",
              "      <td>zł</td>\n",
              "    </tr>\n",
              "    <tr>\n",
              "      <th>38</th>\n",
              "      <td>39</td>\n",
              "      <td>10.06.1988</td>\n",
              "      <td>Senior Software Engineer</td>\n",
              "      <td>Java</td>\n",
              "      <td>София; Болгария</td>\n",
              "      <td>lev6 446,00</td>\n",
              "      <td>6446.00</td>\n",
              "      <td>lev</td>\n",
              "    </tr>\n",
              "    <tr>\n",
              "      <th>45</th>\n",
              "      <td>46</td>\n",
              "      <td>25.10.1985</td>\n",
              "      <td>Senior Java developer</td>\n",
              "      <td>Java</td>\n",
              "      <td>Санкт-Петербург</td>\n",
              "      <td>252 900,00 ₽</td>\n",
              "      <td>252900.00</td>\n",
              "      <td>₽</td>\n",
              "    </tr>\n",
              "    <tr>\n",
              "      <th>47</th>\n",
              "      <td>48</td>\n",
              "      <td>06.03.1989</td>\n",
              "      <td>JS Dev</td>\n",
              "      <td>JS</td>\n",
              "      <td>Санкт-Петербург</td>\n",
              "      <td>200 000,00 ₽</td>\n",
              "      <td>200000.00</td>\n",
              "      <td>₽</td>\n",
              "    </tr>\n",
              "    <tr>\n",
              "      <th>49</th>\n",
              "      <td>50</td>\n",
              "      <td>09.02.1985</td>\n",
              "      <td>Java Developer</td>\n",
              "      <td>Java</td>\n",
              "      <td>Москва</td>\n",
              "      <td>300 000,00 ₽</td>\n",
              "      <td>300000.00</td>\n",
              "      <td>₽</td>\n",
              "    </tr>\n",
              "    <tr>\n",
              "      <th>51</th>\n",
              "      <td>52</td>\n",
              "      <td>26.12.1987</td>\n",
              "      <td>Senior Java Developer</td>\n",
              "      <td>Java</td>\n",
              "      <td>Санкт-Петербург</td>\n",
              "      <td>210 000,00 ₽</td>\n",
              "      <td>210000.00</td>\n",
              "      <td>₽</td>\n",
              "    </tr>\n",
              "    <tr>\n",
              "      <th>56</th>\n",
              "      <td>57</td>\n",
              "      <td>12.09.1986</td>\n",
              "      <td>Java Dev</td>\n",
              "      <td>Java</td>\n",
              "      <td>Атлон; Ирландия</td>\n",
              "      <td>€ 4 000,00</td>\n",
              "      <td>4000.00</td>\n",
              "      <td>€</td>\n",
              "    </tr>\n",
              "    <tr>\n",
              "      <th>57</th>\n",
              "      <td>58</td>\n",
              "      <td>15.04.1989</td>\n",
              "      <td>JS Dev</td>\n",
              "      <td>JS</td>\n",
              "      <td>Атлон; Ирландия</td>\n",
              "      <td>€ 2 980,00</td>\n",
              "      <td>2980.00</td>\n",
              "      <td>€</td>\n",
              "    </tr>\n",
              "  </tbody>\n",
              "</table>\n",
              "</div>"
            ],
            "text/plain": [
              "    id Дата рождения                         Вакансия Технология  \\\n",
              "0    1    18.04.1994  Инженер-программист 2 категории         JS   \n",
              "2    3    24.11.1983                   Java Developer       Java   \n",
              "3    4    09.06.1989                    Архитектор ПО       Java   \n",
              "6    7    10.10.1991                     JS Developer         JS   \n",
              "9   10    01.12.1990                    Java Engineer       Java   \n",
              "10  11    04.02.1991              Инженер-программист         JS   \n",
              "12  13    04.11.1988              JavaScript Engineer         JS   \n",
              "13  14    09.04.1990                Software Engineer         JS   \n",
              "15  16    30.08.1982                   Java Developer       Java   \n",
              "17  18    28.08.1995                     JS Developer         JS   \n",
              "20  21    06.07.1990          Разработчик интерфейсов         JS   \n",
              "23  24    29.10.1987              Инженер-программист         JS   \n",
              "26  27    01.11.1991             Фронтенд разработчик         JS   \n",
              "27  28    09.10.1990                   Java Developer       Java   \n",
              "30  31    09.02.1992            Senior Java developer       Java   \n",
              "32  33    26.09.1981                   Java Developer       Java   \n",
              "37  38    03.04.1990              JavaScript Engineer         JS   \n",
              "38  39    10.06.1988         Senior Software Engineer       Java   \n",
              "45  46    25.10.1985            Senior Java developer       Java   \n",
              "47  48    06.03.1989                           JS Dev         JS   \n",
              "49  50    09.02.1985                   Java Developer       Java   \n",
              "51  52    26.12.1987            Senior Java Developer       Java   \n",
              "56  57    12.09.1986                         Java Dev       Java   \n",
              "57  58    15.04.1989                           JS Dev         JS   \n",
              "\n",
              "            Локация З/п в валюте найма     salary currency  \n",
              "0   Санкт-Петербург       140 000,00 ₽  140000.00        ₽  \n",
              "2   Санкт-Петербург       200 000,00 ₽  200000.00        ₽  \n",
              "3            Москва       250 000,00 ₽  250000.00        ₽  \n",
              "6            Москва       129 000,00 ₽  129000.00        ₽  \n",
              "9    Краков; Польша        9 500,00 zł    9500.00       zł  \n",
              "10           Москва       170 000,00 ₽  170000.00        ₽  \n",
              "12   Краков; Польша       10 500,00 zł   10500.00       zł  \n",
              "13  Вроцлав; Польша        9 500,00 zł    9500.00       zł  \n",
              "15           Москва       180 000,00 ₽  180000.00        ₽  \n",
              "17           Москва       160 000,00 ₽  160000.00        ₽  \n",
              "20  Санкт-Петербург       113 000,00 ₽  113000.00        ₽  \n",
              "23  Санкт-Петербург       190 000,00 ₽  190000.00        ₽  \n",
              "26  Санкт-Петербург       300 000,00 ₽  300000.00        ₽  \n",
              "27           Москва       170 000,00 ₽  170000.00        ₽  \n",
              "30  Санкт-Петербург       264 367,82 ₽  264367.82        ₽  \n",
              "32           Москва       210 000,00 ₽  210000.00        ₽  \n",
              "37   Краков; Польша       13 000,00 zł   13000.00       zł  \n",
              "38  София; Болгария        lev6 446,00    6446.00     lev   \n",
              "45  Санкт-Петербург       252 900,00 ₽  252900.00        ₽  \n",
              "47  Санкт-Петербург       200 000,00 ₽  200000.00        ₽  \n",
              "49           Москва       300 000,00 ₽  300000.00        ₽  \n",
              "51  Санкт-Петербург       210 000,00 ₽  210000.00        ₽  \n",
              "56  Атлон; Ирландия         € 4 000,00    4000.00      €    \n",
              "57  Атлон; Ирландия         € 2 980,00    2980.00      €    "
            ]
          },
          "metadata": {
            "tags": []
          },
          "execution_count": 35
        }
      ]
    },
    {
      "cell_type": "code",
      "metadata": {
        "id": "9UlmI1RkaMxC",
        "outputId": "e4c31774-89a2-424f-8b27-acb7e5c32521"
      },
      "source": [
        "df.query('Технология == \"JS\" | Технология == \"Java\"')"
      ],
      "execution_count": null,
      "outputs": [
        {
          "output_type": "execute_result",
          "data": {
            "text/html": [
              "<div>\n",
              "<style scoped>\n",
              "    .dataframe tbody tr th:only-of-type {\n",
              "        vertical-align: middle;\n",
              "    }\n",
              "\n",
              "    .dataframe tbody tr th {\n",
              "        vertical-align: top;\n",
              "    }\n",
              "\n",
              "    .dataframe thead th {\n",
              "        text-align: right;\n",
              "    }\n",
              "</style>\n",
              "<table border=\"1\" class=\"dataframe\">\n",
              "  <thead>\n",
              "    <tr style=\"text-align: right;\">\n",
              "      <th></th>\n",
              "      <th>id</th>\n",
              "      <th>Дата рождения</th>\n",
              "      <th>Вакансия</th>\n",
              "      <th>Технология</th>\n",
              "      <th>Локация</th>\n",
              "      <th>З/п в валюте найма</th>\n",
              "      <th>salary</th>\n",
              "      <th>currency</th>\n",
              "    </tr>\n",
              "  </thead>\n",
              "  <tbody>\n",
              "    <tr>\n",
              "      <th>0</th>\n",
              "      <td>1</td>\n",
              "      <td>18.04.1994</td>\n",
              "      <td>Инженер-программист 2 категории</td>\n",
              "      <td>JS</td>\n",
              "      <td>Санкт-Петербург</td>\n",
              "      <td>140 000,00 ₽</td>\n",
              "      <td>140000.00</td>\n",
              "      <td>₽</td>\n",
              "    </tr>\n",
              "    <tr>\n",
              "      <th>2</th>\n",
              "      <td>3</td>\n",
              "      <td>24.11.1983</td>\n",
              "      <td>Java Developer</td>\n",
              "      <td>Java</td>\n",
              "      <td>Санкт-Петербург</td>\n",
              "      <td>200 000,00 ₽</td>\n",
              "      <td>200000.00</td>\n",
              "      <td>₽</td>\n",
              "    </tr>\n",
              "    <tr>\n",
              "      <th>3</th>\n",
              "      <td>4</td>\n",
              "      <td>09.06.1989</td>\n",
              "      <td>Архитектор ПО</td>\n",
              "      <td>Java</td>\n",
              "      <td>Москва</td>\n",
              "      <td>250 000,00 ₽</td>\n",
              "      <td>250000.00</td>\n",
              "      <td>₽</td>\n",
              "    </tr>\n",
              "    <tr>\n",
              "      <th>6</th>\n",
              "      <td>7</td>\n",
              "      <td>10.10.1991</td>\n",
              "      <td>JS Developer</td>\n",
              "      <td>JS</td>\n",
              "      <td>Москва</td>\n",
              "      <td>129 000,00 ₽</td>\n",
              "      <td>129000.00</td>\n",
              "      <td>₽</td>\n",
              "    </tr>\n",
              "    <tr>\n",
              "      <th>9</th>\n",
              "      <td>10</td>\n",
              "      <td>01.12.1990</td>\n",
              "      <td>Java Engineer</td>\n",
              "      <td>Java</td>\n",
              "      <td>Краков; Польша</td>\n",
              "      <td>9 500,00 zł</td>\n",
              "      <td>9500.00</td>\n",
              "      <td>zł</td>\n",
              "    </tr>\n",
              "    <tr>\n",
              "      <th>10</th>\n",
              "      <td>11</td>\n",
              "      <td>04.02.1991</td>\n",
              "      <td>Инженер-программист</td>\n",
              "      <td>JS</td>\n",
              "      <td>Москва</td>\n",
              "      <td>170 000,00 ₽</td>\n",
              "      <td>170000.00</td>\n",
              "      <td>₽</td>\n",
              "    </tr>\n",
              "    <tr>\n",
              "      <th>12</th>\n",
              "      <td>13</td>\n",
              "      <td>04.11.1988</td>\n",
              "      <td>JavaScript Engineer</td>\n",
              "      <td>JS</td>\n",
              "      <td>Краков; Польша</td>\n",
              "      <td>10 500,00 zł</td>\n",
              "      <td>10500.00</td>\n",
              "      <td>zł</td>\n",
              "    </tr>\n",
              "    <tr>\n",
              "      <th>13</th>\n",
              "      <td>14</td>\n",
              "      <td>09.04.1990</td>\n",
              "      <td>Software Engineer</td>\n",
              "      <td>JS</td>\n",
              "      <td>Вроцлав; Польша</td>\n",
              "      <td>9 500,00 zł</td>\n",
              "      <td>9500.00</td>\n",
              "      <td>zł</td>\n",
              "    </tr>\n",
              "    <tr>\n",
              "      <th>15</th>\n",
              "      <td>16</td>\n",
              "      <td>30.08.1982</td>\n",
              "      <td>Java Developer</td>\n",
              "      <td>Java</td>\n",
              "      <td>Москва</td>\n",
              "      <td>180 000,00 ₽</td>\n",
              "      <td>180000.00</td>\n",
              "      <td>₽</td>\n",
              "    </tr>\n",
              "    <tr>\n",
              "      <th>17</th>\n",
              "      <td>18</td>\n",
              "      <td>28.08.1995</td>\n",
              "      <td>JS Developer</td>\n",
              "      <td>JS</td>\n",
              "      <td>Москва</td>\n",
              "      <td>160 000,00 ₽</td>\n",
              "      <td>160000.00</td>\n",
              "      <td>₽</td>\n",
              "    </tr>\n",
              "    <tr>\n",
              "      <th>20</th>\n",
              "      <td>21</td>\n",
              "      <td>06.07.1990</td>\n",
              "      <td>Разработчик интерфейсов</td>\n",
              "      <td>JS</td>\n",
              "      <td>Санкт-Петербург</td>\n",
              "      <td>113 000,00 ₽</td>\n",
              "      <td>113000.00</td>\n",
              "      <td>₽</td>\n",
              "    </tr>\n",
              "    <tr>\n",
              "      <th>23</th>\n",
              "      <td>24</td>\n",
              "      <td>29.10.1987</td>\n",
              "      <td>Инженер-программист</td>\n",
              "      <td>JS</td>\n",
              "      <td>Санкт-Петербург</td>\n",
              "      <td>190 000,00 ₽</td>\n",
              "      <td>190000.00</td>\n",
              "      <td>₽</td>\n",
              "    </tr>\n",
              "    <tr>\n",
              "      <th>26</th>\n",
              "      <td>27</td>\n",
              "      <td>01.11.1991</td>\n",
              "      <td>Фронтенд разработчик</td>\n",
              "      <td>JS</td>\n",
              "      <td>Санкт-Петербург</td>\n",
              "      <td>300 000,00 ₽</td>\n",
              "      <td>300000.00</td>\n",
              "      <td>₽</td>\n",
              "    </tr>\n",
              "    <tr>\n",
              "      <th>27</th>\n",
              "      <td>28</td>\n",
              "      <td>09.10.1990</td>\n",
              "      <td>Java Developer</td>\n",
              "      <td>Java</td>\n",
              "      <td>Москва</td>\n",
              "      <td>170 000,00 ₽</td>\n",
              "      <td>170000.00</td>\n",
              "      <td>₽</td>\n",
              "    </tr>\n",
              "    <tr>\n",
              "      <th>30</th>\n",
              "      <td>31</td>\n",
              "      <td>09.02.1992</td>\n",
              "      <td>Senior Java developer</td>\n",
              "      <td>Java</td>\n",
              "      <td>Санкт-Петербург</td>\n",
              "      <td>264 367,82 ₽</td>\n",
              "      <td>264367.82</td>\n",
              "      <td>₽</td>\n",
              "    </tr>\n",
              "    <tr>\n",
              "      <th>32</th>\n",
              "      <td>33</td>\n",
              "      <td>26.09.1981</td>\n",
              "      <td>Java Developer</td>\n",
              "      <td>Java</td>\n",
              "      <td>Москва</td>\n",
              "      <td>210 000,00 ₽</td>\n",
              "      <td>210000.00</td>\n",
              "      <td>₽</td>\n",
              "    </tr>\n",
              "    <tr>\n",
              "      <th>37</th>\n",
              "      <td>38</td>\n",
              "      <td>03.04.1990</td>\n",
              "      <td>JavaScript Engineer</td>\n",
              "      <td>JS</td>\n",
              "      <td>Краков; Польша</td>\n",
              "      <td>13 000,00 zł</td>\n",
              "      <td>13000.00</td>\n",
              "      <td>zł</td>\n",
              "    </tr>\n",
              "    <tr>\n",
              "      <th>38</th>\n",
              "      <td>39</td>\n",
              "      <td>10.06.1988</td>\n",
              "      <td>Senior Software Engineer</td>\n",
              "      <td>Java</td>\n",
              "      <td>София; Болгария</td>\n",
              "      <td>lev6 446,00</td>\n",
              "      <td>6446.00</td>\n",
              "      <td>lev</td>\n",
              "    </tr>\n",
              "    <tr>\n",
              "      <th>45</th>\n",
              "      <td>46</td>\n",
              "      <td>25.10.1985</td>\n",
              "      <td>Senior Java developer</td>\n",
              "      <td>Java</td>\n",
              "      <td>Санкт-Петербург</td>\n",
              "      <td>252 900,00 ₽</td>\n",
              "      <td>252900.00</td>\n",
              "      <td>₽</td>\n",
              "    </tr>\n",
              "    <tr>\n",
              "      <th>47</th>\n",
              "      <td>48</td>\n",
              "      <td>06.03.1989</td>\n",
              "      <td>JS Dev</td>\n",
              "      <td>JS</td>\n",
              "      <td>Санкт-Петербург</td>\n",
              "      <td>200 000,00 ₽</td>\n",
              "      <td>200000.00</td>\n",
              "      <td>₽</td>\n",
              "    </tr>\n",
              "    <tr>\n",
              "      <th>49</th>\n",
              "      <td>50</td>\n",
              "      <td>09.02.1985</td>\n",
              "      <td>Java Developer</td>\n",
              "      <td>Java</td>\n",
              "      <td>Москва</td>\n",
              "      <td>300 000,00 ₽</td>\n",
              "      <td>300000.00</td>\n",
              "      <td>₽</td>\n",
              "    </tr>\n",
              "    <tr>\n",
              "      <th>51</th>\n",
              "      <td>52</td>\n",
              "      <td>26.12.1987</td>\n",
              "      <td>Senior Java Developer</td>\n",
              "      <td>Java</td>\n",
              "      <td>Санкт-Петербург</td>\n",
              "      <td>210 000,00 ₽</td>\n",
              "      <td>210000.00</td>\n",
              "      <td>₽</td>\n",
              "    </tr>\n",
              "    <tr>\n",
              "      <th>56</th>\n",
              "      <td>57</td>\n",
              "      <td>12.09.1986</td>\n",
              "      <td>Java Dev</td>\n",
              "      <td>Java</td>\n",
              "      <td>Атлон; Ирландия</td>\n",
              "      <td>€ 4 000,00</td>\n",
              "      <td>4000.00</td>\n",
              "      <td>€</td>\n",
              "    </tr>\n",
              "    <tr>\n",
              "      <th>57</th>\n",
              "      <td>58</td>\n",
              "      <td>15.04.1989</td>\n",
              "      <td>JS Dev</td>\n",
              "      <td>JS</td>\n",
              "      <td>Атлон; Ирландия</td>\n",
              "      <td>€ 2 980,00</td>\n",
              "      <td>2980.00</td>\n",
              "      <td>€</td>\n",
              "    </tr>\n",
              "  </tbody>\n",
              "</table>\n",
              "</div>"
            ],
            "text/plain": [
              "    id Дата рождения                         Вакансия Технология  \\\n",
              "0    1    18.04.1994  Инженер-программист 2 категории         JS   \n",
              "2    3    24.11.1983                   Java Developer       Java   \n",
              "3    4    09.06.1989                    Архитектор ПО       Java   \n",
              "6    7    10.10.1991                     JS Developer         JS   \n",
              "9   10    01.12.1990                    Java Engineer       Java   \n",
              "10  11    04.02.1991              Инженер-программист         JS   \n",
              "12  13    04.11.1988              JavaScript Engineer         JS   \n",
              "13  14    09.04.1990                Software Engineer         JS   \n",
              "15  16    30.08.1982                   Java Developer       Java   \n",
              "17  18    28.08.1995                     JS Developer         JS   \n",
              "20  21    06.07.1990          Разработчик интерфейсов         JS   \n",
              "23  24    29.10.1987              Инженер-программист         JS   \n",
              "26  27    01.11.1991             Фронтенд разработчик         JS   \n",
              "27  28    09.10.1990                   Java Developer       Java   \n",
              "30  31    09.02.1992            Senior Java developer       Java   \n",
              "32  33    26.09.1981                   Java Developer       Java   \n",
              "37  38    03.04.1990              JavaScript Engineer         JS   \n",
              "38  39    10.06.1988         Senior Software Engineer       Java   \n",
              "45  46    25.10.1985            Senior Java developer       Java   \n",
              "47  48    06.03.1989                           JS Dev         JS   \n",
              "49  50    09.02.1985                   Java Developer       Java   \n",
              "51  52    26.12.1987            Senior Java Developer       Java   \n",
              "56  57    12.09.1986                         Java Dev       Java   \n",
              "57  58    15.04.1989                           JS Dev         JS   \n",
              "\n",
              "            Локация З/п в валюте найма     salary currency  \n",
              "0   Санкт-Петербург       140 000,00 ₽  140000.00        ₽  \n",
              "2   Санкт-Петербург       200 000,00 ₽  200000.00        ₽  \n",
              "3            Москва       250 000,00 ₽  250000.00        ₽  \n",
              "6            Москва       129 000,00 ₽  129000.00        ₽  \n",
              "9    Краков; Польша        9 500,00 zł    9500.00       zł  \n",
              "10           Москва       170 000,00 ₽  170000.00        ₽  \n",
              "12   Краков; Польша       10 500,00 zł   10500.00       zł  \n",
              "13  Вроцлав; Польша        9 500,00 zł    9500.00       zł  \n",
              "15           Москва       180 000,00 ₽  180000.00        ₽  \n",
              "17           Москва       160 000,00 ₽  160000.00        ₽  \n",
              "20  Санкт-Петербург       113 000,00 ₽  113000.00        ₽  \n",
              "23  Санкт-Петербург       190 000,00 ₽  190000.00        ₽  \n",
              "26  Санкт-Петербург       300 000,00 ₽  300000.00        ₽  \n",
              "27           Москва       170 000,00 ₽  170000.00        ₽  \n",
              "30  Санкт-Петербург       264 367,82 ₽  264367.82        ₽  \n",
              "32           Москва       210 000,00 ₽  210000.00        ₽  \n",
              "37   Краков; Польша       13 000,00 zł   13000.00       zł  \n",
              "38  София; Болгария        lev6 446,00    6446.00     lev   \n",
              "45  Санкт-Петербург       252 900,00 ₽  252900.00        ₽  \n",
              "47  Санкт-Петербург       200 000,00 ₽  200000.00        ₽  \n",
              "49           Москва       300 000,00 ₽  300000.00        ₽  \n",
              "51  Санкт-Петербург       210 000,00 ₽  210000.00        ₽  \n",
              "56  Атлон; Ирландия         € 4 000,00    4000.00      €    \n",
              "57  Атлон; Ирландия         € 2 980,00    2980.00      €    "
            ]
          },
          "metadata": {
            "tags": []
          },
          "execution_count": 36
        }
      ]
    },
    {
      "cell_type": "markdown",
      "metadata": {
        "id": "nTbRLBJXaMxU"
      },
      "source": [
        "Метод **str.contains**"
      ]
    },
    {
      "cell_type": "code",
      "metadata": {
        "id": "75DcdmXnaMxV",
        "colab": {
          "base_uri": "https://localhost:8080/",
          "height": 1000
        },
        "outputId": "6fc2ee16-eeb0-4e2e-c0cb-6665946b3c4c"
      },
      "source": [
        "df['Вакансия'].str.split(expand=True)\n",
        "\n"
      ],
      "execution_count": null,
      "outputs": [
        {
          "output_type": "execute_result",
          "data": {
            "text/html": [
              "<div>\n",
              "<style scoped>\n",
              "    .dataframe tbody tr th:only-of-type {\n",
              "        vertical-align: middle;\n",
              "    }\n",
              "\n",
              "    .dataframe tbody tr th {\n",
              "        vertical-align: top;\n",
              "    }\n",
              "\n",
              "    .dataframe thead th {\n",
              "        text-align: right;\n",
              "    }\n",
              "</style>\n",
              "<table border=\"1\" class=\"dataframe\">\n",
              "  <thead>\n",
              "    <tr style=\"text-align: right;\">\n",
              "      <th></th>\n",
              "      <th>0</th>\n",
              "      <th>1</th>\n",
              "      <th>2</th>\n",
              "      <th>3</th>\n",
              "      <th>4</th>\n",
              "    </tr>\n",
              "  </thead>\n",
              "  <tbody>\n",
              "    <tr>\n",
              "      <th>0</th>\n",
              "      <td>Инженер-программист</td>\n",
              "      <td>2</td>\n",
              "      <td>категории</td>\n",
              "      <td>None</td>\n",
              "      <td>None</td>\n",
              "    </tr>\n",
              "    <tr>\n",
              "      <th>1</th>\n",
              "      <td>Разработчик</td>\n",
              "      <td>информационных</td>\n",
              "      <td>систем</td>\n",
              "      <td>None</td>\n",
              "      <td>None</td>\n",
              "    </tr>\n",
              "    <tr>\n",
              "      <th>2</th>\n",
              "      <td>Java</td>\n",
              "      <td>Developer</td>\n",
              "      <td>None</td>\n",
              "      <td>None</td>\n",
              "      <td>None</td>\n",
              "    </tr>\n",
              "    <tr>\n",
              "      <th>3</th>\n",
              "      <td>Архитектор</td>\n",
              "      <td>ПО</td>\n",
              "      <td>None</td>\n",
              "      <td>None</td>\n",
              "      <td>None</td>\n",
              "    </tr>\n",
              "    <tr>\n",
              "      <th>4</th>\n",
              "      <td>QA</td>\n",
              "      <td>Automation</td>\n",
              "      <td>Engineer</td>\n",
              "      <td>None</td>\n",
              "      <td>None</td>\n",
              "    </tr>\n",
              "    <tr>\n",
              "      <th>5</th>\n",
              "      <td>Big</td>\n",
              "      <td>Data</td>\n",
              "      <td>Developer</td>\n",
              "      <td>None</td>\n",
              "      <td>None</td>\n",
              "    </tr>\n",
              "    <tr>\n",
              "      <th>6</th>\n",
              "      <td>JS</td>\n",
              "      <td>Developer</td>\n",
              "      <td>None</td>\n",
              "      <td>None</td>\n",
              "      <td>None</td>\n",
              "    </tr>\n",
              "    <tr>\n",
              "      <th>7</th>\n",
              "      <td>Разработчик</td>\n",
              "      <td>мобильных</td>\n",
              "      <td>приложений</td>\n",
              "      <td>None</td>\n",
              "      <td>None</td>\n",
              "    </tr>\n",
              "    <tr>\n",
              "      <th>8</th>\n",
              "      <td>Инженер-программист</td>\n",
              "      <td>2</td>\n",
              "      <td>категории</td>\n",
              "      <td>None</td>\n",
              "      <td>None</td>\n",
              "    </tr>\n",
              "    <tr>\n",
              "      <th>9</th>\n",
              "      <td>Java</td>\n",
              "      <td>Engineer</td>\n",
              "      <td>None</td>\n",
              "      <td>None</td>\n",
              "      <td>None</td>\n",
              "    </tr>\n",
              "    <tr>\n",
              "      <th>10</th>\n",
              "      <td>Инженер-программист</td>\n",
              "      <td>None</td>\n",
              "      <td>None</td>\n",
              "      <td>None</td>\n",
              "      <td>None</td>\n",
              "    </tr>\n",
              "    <tr>\n",
              "      <th>11</th>\n",
              "      <td>.NET</td>\n",
              "      <td>Engineer</td>\n",
              "      <td>None</td>\n",
              "      <td>None</td>\n",
              "      <td>None</td>\n",
              "    </tr>\n",
              "    <tr>\n",
              "      <th>12</th>\n",
              "      <td>JavaScript</td>\n",
              "      <td>Engineer</td>\n",
              "      <td>None</td>\n",
              "      <td>None</td>\n",
              "      <td>None</td>\n",
              "    </tr>\n",
              "    <tr>\n",
              "      <th>13</th>\n",
              "      <td>Software</td>\n",
              "      <td>Engineer</td>\n",
              "      <td>None</td>\n",
              "      <td>None</td>\n",
              "      <td>None</td>\n",
              "    </tr>\n",
              "    <tr>\n",
              "      <th>14</th>\n",
              "      <td>Head</td>\n",
              "      <td>of</td>\n",
              "      <td>Software</td>\n",
              "      <td>Testing</td>\n",
              "      <td>Department</td>\n",
              "    </tr>\n",
              "    <tr>\n",
              "      <th>15</th>\n",
              "      <td>Java</td>\n",
              "      <td>Developer</td>\n",
              "      <td>None</td>\n",
              "      <td>None</td>\n",
              "      <td>None</td>\n",
              "    </tr>\n",
              "    <tr>\n",
              "      <th>16</th>\n",
              "      <td>Data</td>\n",
              "      <td>/</td>\n",
              "      <td>DWH</td>\n",
              "      <td>Analyst</td>\n",
              "      <td>None</td>\n",
              "    </tr>\n",
              "    <tr>\n",
              "      <th>17</th>\n",
              "      <td>JS</td>\n",
              "      <td>Developer</td>\n",
              "      <td>None</td>\n",
              "      <td>None</td>\n",
              "      <td>None</td>\n",
              "    </tr>\n",
              "    <tr>\n",
              "      <th>18</th>\n",
              "      <td>Senior</td>\n",
              "      <td>Software</td>\n",
              "      <td>Engineer</td>\n",
              "      <td>None</td>\n",
              "      <td>None</td>\n",
              "    </tr>\n",
              "    <tr>\n",
              "      <th>19</th>\n",
              "      <td>QA</td>\n",
              "      <td>Engineer</td>\n",
              "      <td>None</td>\n",
              "      <td>None</td>\n",
              "      <td>None</td>\n",
              "    </tr>\n",
              "    <tr>\n",
              "      <th>20</th>\n",
              "      <td>Разработчик</td>\n",
              "      <td>интерфейсов</td>\n",
              "      <td>None</td>\n",
              "      <td>None</td>\n",
              "      <td>None</td>\n",
              "    </tr>\n",
              "    <tr>\n",
              "      <th>21</th>\n",
              "      <td>3D</td>\n",
              "      <td>Artist</td>\n",
              "      <td>None</td>\n",
              "      <td>None</td>\n",
              "      <td>None</td>\n",
              "    </tr>\n",
              "    <tr>\n",
              "      <th>22</th>\n",
              "      <td>Senior</td>\n",
              "      <td>Tester</td>\n",
              "      <td>None</td>\n",
              "      <td>None</td>\n",
              "      <td>None</td>\n",
              "    </tr>\n",
              "    <tr>\n",
              "      <th>23</th>\n",
              "      <td>Инженер-программист</td>\n",
              "      <td>None</td>\n",
              "      <td>None</td>\n",
              "      <td>None</td>\n",
              "      <td>None</td>\n",
              "    </tr>\n",
              "    <tr>\n",
              "      <th>24</th>\n",
              "      <td>Big</td>\n",
              "      <td>Data</td>\n",
              "      <td>Developer</td>\n",
              "      <td>None</td>\n",
              "      <td>None</td>\n",
              "    </tr>\n",
              "    <tr>\n",
              "      <th>25</th>\n",
              "      <td>Разработчик</td>\n",
              "      <td>информационных</td>\n",
              "      <td>систем</td>\n",
              "      <td>None</td>\n",
              "      <td>None</td>\n",
              "    </tr>\n",
              "    <tr>\n",
              "      <th>26</th>\n",
              "      <td>Фронтенд</td>\n",
              "      <td>разработчик</td>\n",
              "      <td>None</td>\n",
              "      <td>None</td>\n",
              "      <td>None</td>\n",
              "    </tr>\n",
              "    <tr>\n",
              "      <th>27</th>\n",
              "      <td>Java</td>\n",
              "      <td>Developer</td>\n",
              "      <td>None</td>\n",
              "      <td>None</td>\n",
              "      <td>None</td>\n",
              "    </tr>\n",
              "    <tr>\n",
              "      <th>28</th>\n",
              "      <td>Разработчик</td>\n",
              "      <td>информационных</td>\n",
              "      <td>систем</td>\n",
              "      <td>None</td>\n",
              "      <td>None</td>\n",
              "    </tr>\n",
              "    <tr>\n",
              "      <th>29</th>\n",
              "      <td>Big</td>\n",
              "      <td>Data</td>\n",
              "      <td>Developer</td>\n",
              "      <td>None</td>\n",
              "      <td>None</td>\n",
              "    </tr>\n",
              "    <tr>\n",
              "      <th>30</th>\n",
              "      <td>Senior</td>\n",
              "      <td>Java</td>\n",
              "      <td>developer</td>\n",
              "      <td>None</td>\n",
              "      <td>None</td>\n",
              "    </tr>\n",
              "    <tr>\n",
              "      <th>31</th>\n",
              "      <td>Game</td>\n",
              "      <td>Designer</td>\n",
              "      <td>None</td>\n",
              "      <td>None</td>\n",
              "      <td>None</td>\n",
              "    </tr>\n",
              "    <tr>\n",
              "      <th>32</th>\n",
              "      <td>Java</td>\n",
              "      <td>Developer</td>\n",
              "      <td>None</td>\n",
              "      <td>None</td>\n",
              "      <td>None</td>\n",
              "    </tr>\n",
              "    <tr>\n",
              "      <th>33</th>\n",
              "      <td>iOS</td>\n",
              "      <td>Developer</td>\n",
              "      <td>None</td>\n",
              "      <td>None</td>\n",
              "      <td>None</td>\n",
              "    </tr>\n",
              "    <tr>\n",
              "      <th>34</th>\n",
              "      <td>iOS</td>\n",
              "      <td>Developer</td>\n",
              "      <td>None</td>\n",
              "      <td>None</td>\n",
              "      <td>None</td>\n",
              "    </tr>\n",
              "    <tr>\n",
              "      <th>35</th>\n",
              "      <td>BI</td>\n",
              "      <td>Dev</td>\n",
              "      <td>None</td>\n",
              "      <td>None</td>\n",
              "      <td>None</td>\n",
              "    </tr>\n",
              "    <tr>\n",
              "      <th>36</th>\n",
              "      <td>PHP</td>\n",
              "      <td>Dev</td>\n",
              "      <td>None</td>\n",
              "      <td>None</td>\n",
              "      <td>None</td>\n",
              "    </tr>\n",
              "    <tr>\n",
              "      <th>37</th>\n",
              "      <td>JavaScript</td>\n",
              "      <td>Engineer</td>\n",
              "      <td>None</td>\n",
              "      <td>None</td>\n",
              "      <td>None</td>\n",
              "    </tr>\n",
              "    <tr>\n",
              "      <th>38</th>\n",
              "      <td>Senior</td>\n",
              "      <td>Software</td>\n",
              "      <td>Engineer</td>\n",
              "      <td>None</td>\n",
              "      <td>None</td>\n",
              "    </tr>\n",
              "    <tr>\n",
              "      <th>39</th>\n",
              "      <td>Test</td>\n",
              "      <td>Automation</td>\n",
              "      <td>Engineer</td>\n",
              "      <td>None</td>\n",
              "      <td>None</td>\n",
              "    </tr>\n",
              "    <tr>\n",
              "      <th>40</th>\n",
              "      <td>Специалист</td>\n",
              "      <td>по</td>\n",
              "      <td>продаже</td>\n",
              "      <td>консалтинговых</td>\n",
              "      <td>услуг</td>\n",
              "    </tr>\n",
              "    <tr>\n",
              "      <th>41</th>\n",
              "      <td>ASP.NET</td>\n",
              "      <td>Developer</td>\n",
              "      <td>None</td>\n",
              "      <td>None</td>\n",
              "      <td>None</td>\n",
              "    </tr>\n",
              "    <tr>\n",
              "      <th>42</th>\n",
              "      <td>С++</td>\n",
              "      <td>Developer</td>\n",
              "      <td>None</td>\n",
              "      <td>None</td>\n",
              "      <td>None</td>\n",
              "    </tr>\n",
              "    <tr>\n",
              "      <th>43</th>\n",
              "      <td>Software</td>\n",
              "      <td>Developer</td>\n",
              "      <td>None</td>\n",
              "      <td>None</td>\n",
              "      <td>None</td>\n",
              "    </tr>\n",
              "    <tr>\n",
              "      <th>44</th>\n",
              "      <td>С++</td>\n",
              "      <td>Developer</td>\n",
              "      <td>None</td>\n",
              "      <td>None</td>\n",
              "      <td>None</td>\n",
              "    </tr>\n",
              "    <tr>\n",
              "      <th>45</th>\n",
              "      <td>Senior</td>\n",
              "      <td>Java</td>\n",
              "      <td>developer</td>\n",
              "      <td>None</td>\n",
              "      <td>None</td>\n",
              "    </tr>\n",
              "    <tr>\n",
              "      <th>46</th>\n",
              "      <td>Solution</td>\n",
              "      <td>Architect</td>\n",
              "      <td>None</td>\n",
              "      <td>None</td>\n",
              "      <td>None</td>\n",
              "    </tr>\n",
              "    <tr>\n",
              "      <th>47</th>\n",
              "      <td>JS</td>\n",
              "      <td>Dev</td>\n",
              "      <td>None</td>\n",
              "      <td>None</td>\n",
              "      <td>None</td>\n",
              "    </tr>\n",
              "    <tr>\n",
              "      <th>48</th>\n",
              "      <td>PHP</td>\n",
              "      <td>Dev</td>\n",
              "      <td>None</td>\n",
              "      <td>None</td>\n",
              "      <td>None</td>\n",
              "    </tr>\n",
              "    <tr>\n",
              "      <th>49</th>\n",
              "      <td>Java</td>\n",
              "      <td>Developer</td>\n",
              "      <td>None</td>\n",
              "      <td>None</td>\n",
              "      <td>None</td>\n",
              "    </tr>\n",
              "    <tr>\n",
              "      <th>50</th>\n",
              "      <td>ASP.NET</td>\n",
              "      <td>Dev</td>\n",
              "      <td>None</td>\n",
              "      <td>None</td>\n",
              "      <td>None</td>\n",
              "    </tr>\n",
              "    <tr>\n",
              "      <th>51</th>\n",
              "      <td>Senior</td>\n",
              "      <td>Java</td>\n",
              "      <td>Developer</td>\n",
              "      <td>None</td>\n",
              "      <td>None</td>\n",
              "    </tr>\n",
              "    <tr>\n",
              "      <th>52</th>\n",
              "      <td>Android-разработчик</td>\n",
              "      <td>None</td>\n",
              "      <td>None</td>\n",
              "      <td>None</td>\n",
              "      <td>None</td>\n",
              "    </tr>\n",
              "    <tr>\n",
              "      <th>53</th>\n",
              "      <td>Разработчик</td>\n",
              "      <td>информационных</td>\n",
              "      <td>систем</td>\n",
              "      <td>None</td>\n",
              "      <td>None</td>\n",
              "    </tr>\n",
              "    <tr>\n",
              "      <th>54</th>\n",
              "      <td>.NET</td>\n",
              "      <td>Engineer</td>\n",
              "      <td>None</td>\n",
              "      <td>None</td>\n",
              "      <td>None</td>\n",
              "    </tr>\n",
              "    <tr>\n",
              "      <th>55</th>\n",
              "      <td>С++</td>\n",
              "      <td>Developer</td>\n",
              "      <td>None</td>\n",
              "      <td>None</td>\n",
              "      <td>None</td>\n",
              "    </tr>\n",
              "    <tr>\n",
              "      <th>56</th>\n",
              "      <td>Java</td>\n",
              "      <td>Dev</td>\n",
              "      <td>None</td>\n",
              "      <td>None</td>\n",
              "      <td>None</td>\n",
              "    </tr>\n",
              "    <tr>\n",
              "      <th>57</th>\n",
              "      <td>JS</td>\n",
              "      <td>Dev</td>\n",
              "      <td>None</td>\n",
              "      <td>None</td>\n",
              "      <td>None</td>\n",
              "    </tr>\n",
              "  </tbody>\n",
              "</table>\n",
              "</div>"
            ],
            "text/plain": [
              "                      0               1           2               3           4\n",
              "0   Инженер-программист               2   категории            None        None\n",
              "1           Разработчик  информационных      систем            None        None\n",
              "2                  Java       Developer        None            None        None\n",
              "3            Архитектор              ПО        None            None        None\n",
              "4                    QA      Automation    Engineer            None        None\n",
              "5                   Big            Data   Developer            None        None\n",
              "6                    JS       Developer        None            None        None\n",
              "7           Разработчик       мобильных  приложений            None        None\n",
              "8   Инженер-программист               2   категории            None        None\n",
              "9                  Java        Engineer        None            None        None\n",
              "10  Инженер-программист            None        None            None        None\n",
              "11                 .NET        Engineer        None            None        None\n",
              "12           JavaScript        Engineer        None            None        None\n",
              "13             Software        Engineer        None            None        None\n",
              "14                 Head              of    Software         Testing  Department\n",
              "15                 Java       Developer        None            None        None\n",
              "16                 Data               /         DWH         Analyst        None\n",
              "17                   JS       Developer        None            None        None\n",
              "18               Senior        Software    Engineer            None        None\n",
              "19                   QA        Engineer        None            None        None\n",
              "20          Разработчик     интерфейсов        None            None        None\n",
              "21                   3D          Artist        None            None        None\n",
              "22               Senior          Tester        None            None        None\n",
              "23  Инженер-программист            None        None            None        None\n",
              "24                  Big            Data   Developer            None        None\n",
              "25          Разработчик  информационных      систем            None        None\n",
              "26             Фронтенд     разработчик        None            None        None\n",
              "27                 Java       Developer        None            None        None\n",
              "28          Разработчик  информационных      систем            None        None\n",
              "29                  Big            Data   Developer            None        None\n",
              "30               Senior            Java   developer            None        None\n",
              "31                 Game        Designer        None            None        None\n",
              "32                 Java       Developer        None            None        None\n",
              "33                  iOS       Developer        None            None        None\n",
              "34                  iOS       Developer        None            None        None\n",
              "35                   BI             Dev        None            None        None\n",
              "36                  PHP             Dev        None            None        None\n",
              "37           JavaScript        Engineer        None            None        None\n",
              "38               Senior        Software    Engineer            None        None\n",
              "39                 Test      Automation    Engineer            None        None\n",
              "40           Специалист              по     продаже  консалтинговых       услуг\n",
              "41              ASP.NET       Developer        None            None        None\n",
              "42                  С++       Developer        None            None        None\n",
              "43             Software       Developer        None            None        None\n",
              "44                  С++       Developer        None            None        None\n",
              "45               Senior            Java   developer            None        None\n",
              "46             Solution       Architect        None            None        None\n",
              "47                   JS             Dev        None            None        None\n",
              "48                  PHP             Dev        None            None        None\n",
              "49                 Java       Developer        None            None        None\n",
              "50              ASP.NET             Dev        None            None        None\n",
              "51               Senior            Java   Developer            None        None\n",
              "52  Android-разработчик            None        None            None        None\n",
              "53          Разработчик  информационных      систем            None        None\n",
              "54                 .NET        Engineer        None            None        None\n",
              "55                  С++       Developer        None            None        None\n",
              "56                 Java             Dev        None            None        None\n",
              "57                   JS             Dev        None            None        None"
            ]
          },
          "metadata": {
            "tags": []
          },
          "execution_count": 117
        }
      ]
    },
    {
      "cell_type": "markdown",
      "metadata": {
        "id": "xf7EA21Ol7lB"
      },
      "source": [
        "### Спасибо за внимание! Буду рад ответить на ваши вопросы\n",
        "\n",
        "Форма ОС\n",
        "https://forms.gle/w6TjMeYPDYqQAFSJ8 "
      ]
    }
  ]
}