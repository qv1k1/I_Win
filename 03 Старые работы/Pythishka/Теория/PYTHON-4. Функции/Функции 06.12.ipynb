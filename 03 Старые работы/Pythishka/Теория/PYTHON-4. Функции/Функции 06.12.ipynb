{
  "nbformat": 4,
  "nbformat_minor": 0,
  "metadata": {
    "kernelspec": {
      "display_name": "Python 3",
      "language": "python",
      "name": "python3"
    },
    "language_info": {
      "codemirror_mode": {
        "name": "ipython",
        "version": 3
      },
      "file_extension": ".py",
      "mimetype": "text/x-python",
      "name": "python",
      "nbconvert_exporter": "python",
      "pygments_lexer": "ipython3",
      "version": "3.7.4"
    },
    "colab": {
      "name": "функции в python.ipynb",
      "provenance": [],
      "collapsed_sections": []
    }
  },
  "cells": [
    {
      "cell_type": "markdown",
      "metadata": {
        "id": "djL0UFMoIgyt"
      },
      "source": [
        "### Функции\n",
        "\n",
        "\n",
        "\n",
        "\n",
        "Функция это блок организованного, многократно используемоего кода, который используется для выполнения конкретного задания. Функции обеспечивают лучшую модульность приложения и значительно повышают уровень повторного использования кода."
      ]
    },
    {
      "cell_type": "markdown",
      "metadata": {
        "id": "FwfBuka9Igyy"
      },
      "source": [
        "**Функция** — это мини-программа внутри вашей основной программы, которая делает какую-то одну понятную вещь. \n",
        "\n",
        "Нередко случается, что какая-то часть программы (блок кода) неоднократно повторяется. Чтобы устранить подобного рода избыточность программного кода, используют понятие функции. Функция — это именованный блок кода, который вызывается в нужных местах программы по имени. Другими словами, функция представляет собой подпрограмму, которую можно вызвать из основной программы, причем неоднократно. Повторяющийся (да и не только) блок программного кода обычно обозначают некоторым уникальным именем, чтобы потом при необходимости обратиться к нему по этому имени. "
      ]
    },
    {
      "cell_type": "markdown",
      "metadata": {
        "id": "63Q8xKtHIgzJ"
      },
      "source": [
        "Пригодится в занятии\n",
        "\n",
        "http://pythontutor.com/"
      ]
    },
    {
      "cell_type": "markdown",
      "metadata": {
        "id": "veWjkUwNIgzL"
      },
      "source": [
        "### Создание функции\n",
        "\n",
        "Существуют некоторые правила для создания функций в Python:\n",
        "\n",
        "+ Блок функции начинается с ключевого слова def, после которого следуют название функции и круглые скобки ()\n",
        "\n",
        "+ Любые аргументы, которые принимает функция должны находиться внутри этих скобок.\n",
        "\n",
        "+ После скобок идет двоеточие ( : ) и с новой строки с отступом начинается тело функции.\n"
      ]
    },
    {
      "cell_type": "code",
      "metadata": {
        "id": "RWlt-EMpIgzN",
        "colab": {
          "base_uri": "https://localhost:8080/"
        },
        "outputId": "e1b2f6e8-c9fc-46d7-d612-ceac2f966648"
      },
      "source": [
        "def myfunction():\n",
        "  print('Эта наша первая функция')\n",
        "    \n",
        "    \n",
        "\n",
        "myfunction()"
      ],
      "execution_count": 2,
      "outputs": [
        {
          "output_type": "stream",
          "text": [
            "Эта наша первая функция\n"
          ],
          "name": "stdout"
        }
      ]
    },
    {
      "cell_type": "code",
      "metadata": {
        "id": "Gtr_IAjRNmPs",
        "colab": {
          "base_uri": "https://localhost:8080/"
        },
        "outputId": "0be50519-2c66-41d2-86d2-a58aea6f80ae"
      },
      "source": [
        "def yourfunction():\n",
        "    print('Два')\n",
        "\n",
        "\n",
        "\n",
        "print('Раз')\n",
        "\n",
        "\n",
        "\n",
        "print('Три')\n",
        "yourfunction()\n",
        "\n",
        "\n",
        "\n"
      ],
      "execution_count": 3,
      "outputs": [
        {
          "output_type": "stream",
          "text": [
            "Раз\n",
            "Три\n",
            "Два\n"
          ],
          "name": "stdout"
        }
      ]
    },
    {
      "cell_type": "markdown",
      "metadata": {
        "id": "9UmnsAJTN5be"
      },
      "source": [
        "Есть **объявление** и **вызов** функции. Это разные процессы"
      ]
    },
    {
      "cell_type": "code",
      "metadata": {
        "id": "e8RBpw6CQ1N2",
        "colab": {
          "base_uri": "https://localhost:8080/"
        },
        "outputId": "0c0b4226-0fb4-4089-cd6a-996fa8b783b8"
      },
      "source": [
        "def another_func():\n",
        "  print(2+2)\n",
        "\n",
        "print(another_func())"
      ],
      "execution_count": 4,
      "outputs": [
        {
          "output_type": "stream",
          "text": [
            "4\n",
            "None\n"
          ],
          "name": "stdout"
        }
      ]
    },
    {
      "cell_type": "code",
      "metadata": {
        "id": "RRnGhpO84oJ6",
        "colab": {
          "base_uri": "https://localhost:8080/"
        },
        "outputId": "c7c62c46-cd96-41bd-f511-5b1fdd45382e"
      },
      "source": [
        "int('5')"
      ],
      "execution_count": null,
      "outputs": [
        {
          "output_type": "execute_result",
          "data": {
            "text/plain": [
              "5"
            ]
          },
          "metadata": {
            "tags": []
          },
          "execution_count": 7
        }
      ]
    },
    {
      "cell_type": "markdown",
      "metadata": {
        "id": "4oBO1B9jIgzh"
      },
      "source": [
        "### Ключевое слово return\n",
        "\n",
        "* Выражение return прекращает выполнение функции и возвращает указанное после выражения значение. \n",
        "\n",
        "* Выражение return без аргументов это то же самое, что и выражение return None. \n",
        "\n",
        "* Соответственно, теперь становится возможным, например, присваивать результат выполнения функции какой либо переменной."
      ]
    },
    {
      "cell_type": "code",
      "metadata": {
        "id": "n_ohL5N9ONTL",
        "colab": {
          "base_uri": "https://localhost:8080/",
          "height": 34
        },
        "outputId": "dd34a8d0-cb80-4792-ea43-bfde1ceaa01e"
      },
      "source": [
        "def another_func():\n",
        "  return 2+2\n",
        "\n",
        "print(another_func())"
      ],
      "execution_count": null,
      "outputs": [
        {
          "output_type": "stream",
          "text": [
            "4\n"
          ],
          "name": "stdout"
        }
      ]
    },
    {
      "cell_type": "markdown",
      "metadata": {
        "id": "xXBc9qqMOXu7"
      },
      "source": [
        "Функции являются объектами в языке Python, а это значит, например, что их реззультат можно присваивать в переменную"
      ]
    },
    {
      "cell_type": "code",
      "metadata": {
        "id": "FGgWbaBxOnQV",
        "colab": {
          "base_uri": "https://localhost:8080/"
        },
        "outputId": "fe37c54e-60d6-4334-84b3-a1be7246fb45"
      },
      "source": [
        "four = another_func() # обратите внимание на скобки. Так мы присваиваем РЕЗУЛЬТАТ функции\n",
        "# four = another_func # а так мы добавляем ссылку на объект. Теперь мы можем вызвать функцию four()\n",
        "four"
      ],
      "execution_count": null,
      "outputs": [
        {
          "output_type": "execute_result",
          "data": {
            "text/plain": [
              "4"
            ]
          },
          "metadata": {
            "tags": []
          },
          "execution_count": 13
        }
      ]
    },
    {
      "cell_type": "markdown",
      "metadata": {
        "id": "G6_adbf2O_hF"
      },
      "source": [
        "Немного практики. Буквы a и b в скобках - это параметры функции, которые мы указываем при объявлении функции. Когда мы её вызываем мы передаем в вызов аргументы. В нашем случае это будут числа. "
      ]
    },
    {
      "cell_type": "code",
      "metadata": {
        "id": "K2xI9BwgzYsK"
      },
      "source": [
        "def count_sum(a, b):\n",
        "  return a+b\n",
        "\n"
      ],
      "execution_count": null,
      "outputs": []
    },
    {
      "cell_type": "code",
      "metadata": {
        "id": "ZMKWFzbVzrOS",
        "colab": {
          "base_uri": "https://localhost:8080/",
          "height": 34
        },
        "outputId": "deb40b8c-d993-4a14-f8c6-8472bf7d57e1"
      },
      "source": [
        "count = count_sum \n",
        "count(2, 8) "
      ],
      "execution_count": null,
      "outputs": [
        {
          "output_type": "execute_result",
          "data": {
            "text/plain": [
              "10"
            ]
          },
          "metadata": {
            "tags": []
          },
          "execution_count": 25
        }
      ]
    },
    {
      "cell_type": "code",
      "metadata": {
        "id": "EHK_kqH3Igzj",
        "colab": {
          "base_uri": "https://localhost:8080/",
          "height": 34
        },
        "outputId": "7da39d5f-251a-4062-a100-fbd7a440c194"
      },
      "source": [
        "def bigger(a,b):\n",
        "    \"\"\"Эта функция сравнивает числа и выдает большее\"\"\"\n",
        "    if a > b:\n",
        "        return a\n",
        "    \n",
        "    if a==b:\n",
        "      return 'Числа равны'\n",
        "\n",
        "    return b # \n",
        "    print('hello') # \n",
        " \n",
        "# присваиваем результат функции bigger переменной num\n",
        "num = bigger(25, 25)\n",
        "print(num)\n",
        "\n"
      ],
      "execution_count": null,
      "outputs": [
        {
          "output_type": "stream",
          "text": [
            "Числа равны\n"
          ],
          "name": "stdout"
        }
      ]
    },
    {
      "cell_type": "markdown",
      "metadata": {
        "id": "9aIvBMyoIn8H"
      },
      "source": [
        "### Задача\n",
        "Давайте напишем функцию, которая будет возвращать нам первую цифру веденного числа"
      ]
    },
    {
      "cell_type": "code",
      "metadata": {
        "id": "U3sCx2cz2f8I"
      },
      "source": [
        "first_digit(457) -> 4"
      ],
      "execution_count": null,
      "outputs": []
    },
    {
      "cell_type": "markdown",
      "metadata": {
        "id": "yQlxKfmHIgz6"
      },
      "source": [
        "# Функции придают программе структуру"
      ]
    },
    {
      "cell_type": "markdown",
      "metadata": {
        "id": "1FTFp8paIgz-"
      },
      "source": [
        "Польза функций не только в возможности многократного вызова одного и того же кода из разных мест программы. Не менее важно, что благодаря им программа обретает истинную структуру. Функции как бы разделяют ее на обособленные части, каждая из которых выполняет свою конкретную задачу.\n",
        "\n",
        "Пусть надо написать программу, вычисляющую площади разных фигур. Пользователь указывает, площадь какой фигуры он хочет вычислить. После этого вводит исходные данные. Например, длину и ширину в случае прямоугольника. Чтобы разделить поток выполнения на несколько ветвей, следует использовать оператор if-elif-else:"
      ]
    },
    {
      "cell_type": "code",
      "metadata": {
        "id": "dKIiW8aSIg0A",
        "outputId": "de0ebde2-be66-44db-d8e7-cf84715abf1b"
      },
      "source": [
        "figure = input(\"1-прямоугольник, 2-треугольник, 3-круг: \")\n",
        " \n",
        "if figure == '1':\n",
        "    a = float(input(\"Ширина: \"))\n",
        "    b = float(input(\"Высота: \"))\n",
        "    print(\"Площадь: {}\".format(a*b))\n",
        "elif figure == '2':\n",
        "    a = float(input(\"Основание: \"))\n",
        "    h = float(input(\"Высота: \"))\n",
        "    print(\"Площадь: {}\".format(0.5 * a * h))\n",
        "elif figure == '3':\n",
        "    r = float(input(\"Радиус: \"))\n",
        "    print(\"Площадь: {}\".format(3.14 * r**2))\n",
        "else:\n",
        "    print(\"Ошибка ввода\")\n",
        "    \n",
        "figure"
      ],
      "execution_count": null,
      "outputs": [
        {
          "output_type": "stream",
          "text": [
            "1-прямоугольник, 2-треугольник, 3-круг: 1\n",
            "Ширина: 1\n",
            "Высота: 4\n",
            "Площадь: 4.0\n"
          ],
          "name": "stdout"
        },
        {
          "output_type": "execute_result",
          "data": {
            "text/plain": [
              "'1'"
            ]
          },
          "metadata": {
            "tags": []
          },
          "execution_count": 35
        }
      ]
    },
    {
      "cell_type": "code",
      "metadata": {
        "id": "X4eLEHn6Ig0G",
        "colab": {
          "base_uri": "https://localhost:8080/",
          "height": 86
        },
        "outputId": "7481df4c-4942-43d8-c2bb-391eee2e4002"
      },
      "source": [
        "def rectangle():\n",
        "    \"\"\"Эта функция считает площадь прямоугольника\"\"\"\n",
        "    a = float(input(\"Ширина: \"))\n",
        "    b = float(input(\"Высота: \"))\n",
        "    print(\"Площадь: %.2f\" % (a*b))\n",
        " \n",
        "def triangle():\n",
        "    \"\"\"Эта функция считает площадь треугольника\"\"\"\n",
        "    a = float(input(\"Основание: \"))\n",
        "    h = float(input(\"Высота: \"))\n",
        "    print(\"Площадь: %.2f\" % (0.5 * a * h))\n",
        " \n",
        "def circle():\n",
        "    \"\"\"Эта функция считает площадь круга\"\"\"\n",
        "    r = float(input(\"Радиус: \"))\n",
        "    print(\"Площадь: %.2f\" % (3.14 * r**2))\n",
        " \n",
        "figure = input(\"1-прямоугольник, 2-треугольник, 3-круг: \")\n",
        "if figure == '1':\n",
        "    rectangle()\n",
        "elif figure == '2':\n",
        "    triangle()\n",
        "elif figure == '3':\n",
        "    circle()\n",
        "else:\n",
        "    print(\"Ошибка ввода\")"
      ],
      "execution_count": null,
      "outputs": [
        {
          "output_type": "stream",
          "text": [
            "1-прямоугольник, 2-треугольник, 3-круг: 1\n",
            "Ширина: 24\n",
            "Высота: 4\n",
            "Площадь: 96.00\n"
          ],
          "name": "stdout"
        }
      ]
    },
    {
      "cell_type": "code",
      "metadata": {
        "id": "i8q9jcThIg0N",
        "colab": {
          "base_uri": "https://localhost:8080/",
          "height": 104
        },
        "outputId": "32d01f89-8804-404f-ddbc-e21290863769"
      },
      "source": [
        "help(circle)"
      ],
      "execution_count": null,
      "outputs": [
        {
          "output_type": "stream",
          "text": [
            "Help on function circle in module __main__:\n",
            "\n",
            "circle()\n",
            "    Эта функция считает площадь круга\n",
            "\n"
          ],
          "name": "stdout"
        }
      ]
    },
    {
      "cell_type": "code",
      "metadata": {
        "id": "cyeoYhOIVm8q",
        "colab": {
          "base_uri": "https://localhost:8080/",
          "height": 34
        },
        "outputId": "73266d69-d80a-46fc-fcc3-993ed2aee4ca"
      },
      "source": [
        "def example(n):\n",
        "  \"\"\"Эта функция вычисляет квадратный корень числа\"\"\"\n",
        "  return n**0.5\n",
        "\n",
        "example(16)"
      ],
      "execution_count": null,
      "outputs": [
        {
          "output_type": "execute_result",
          "data": {
            "text/plain": [
              "4.0"
            ]
          },
          "metadata": {
            "tags": []
          },
          "execution_count": 31
        }
      ]
    },
    {
      "cell_type": "code",
      "metadata": {
        "id": "ogS5c8ExIg0V",
        "colab": {
          "base_uri": "https://localhost:8080/",
          "height": 104
        },
        "outputId": "ac160c9f-b6d8-462c-fd56-a9e0549b35d0"
      },
      "source": [
        "help(example)"
      ],
      "execution_count": null,
      "outputs": [
        {
          "output_type": "stream",
          "text": [
            "Help on function example in module __main__:\n",
            "\n",
            "example(n)\n",
            "    Эта функция вычисляет квадратный корень числа\n",
            "\n"
          ],
          "name": "stdout"
        }
      ]
    },
    {
      "cell_type": "markdown",
      "metadata": {
        "id": "v4Xh1dEWIg0e"
      },
      "source": [
        "Он кажется сложнее, а каждая из трех функций вызывается всего один раз. Однако из общей логики программы как бы убраны и обособлены инструкции для нахождения площадей. Программа теперь состоит из отдельных \"кирпичиков Лего\". В основной ветке мы можем комбинировать их как угодно. Она играет роль управляющего механизма.\n",
        "\n",
        "Если нам когда-нибудь захочется вычислять площадь треугольника по формуле Герона, а не через высоту, то не придется искать код во всей программе (представьте, что она состоит из тысяч строк кода как реальные программы). Мы пойдем к месту определения функций и изменим тело одной из них.\n",
        "\n",
        "Если понадобиться использовать эти функции в какой-нибудь другой программе, то мы сможем импортировать их туда, сославшись на данный файл с кодом"
      ]
    },
    {
      "cell_type": "markdown",
      "metadata": {
        "id": "-MzgDvVNIg0f"
      },
      "source": [
        "## Именованные аргументы\n"
      ]
    },
    {
      "cell_type": "code",
      "metadata": {
        "id": "Up5GPORUIg0o",
        "colab": {
          "base_uri": "https://localhost:8080/"
        },
        "outputId": "f61c3b16-b073-4bc1-925c-c54d8ec4c910"
      },
      "source": [
        "def bigger(a, b=5):\n",
        "    \"\"\"Эта функция сравнивает числа и выдает большее\"\"\"\n",
        "    if a > b:\n",
        "        return a\n",
        "    return b # Незачем использовать else. Если мы дошли до этой строки, то b, точно не меньше чем a\n",
        "    print('hello')# Этот print уже не заработает\n",
        "    \n",
        "\n",
        "bigger(4, 3)"
      ],
      "execution_count": null,
      "outputs": [
        {
          "output_type": "execute_result",
          "data": {
            "text/plain": [
              "4"
            ]
          },
          "metadata": {
            "tags": []
          },
          "execution_count": 18
        }
      ]
    },
    {
      "cell_type": "markdown",
      "metadata": {
        "id": "1FgB3Aw7Ig0y"
      },
      "source": [
        "### Аргументы функции в Python\n",
        "\n",
        "Вызывая функцию, мы можем передавать ей следующие типы аргументов:\n",
        "\n",
        "* Обязательные аргументы (Required arguments)\n",
        "* Аргументы-ключевые слова (Keyword argument)\n",
        "* Аргументы произвольной длины (Variable-length argumens)\n"
      ]
    },
    {
      "cell_type": "markdown",
      "metadata": {
        "id": "MBRf1RMLIg0z"
      },
      "source": [
        "https://stackoverflow.com/questions/36901/what-does-double-star-asterisk-and-star-asterisk-do-for-parameters"
      ]
    },
    {
      "cell_type": "code",
      "metadata": {
        "id": "BiSYEFLMWfv7",
        "colab": {
          "base_uri": "https://localhost:8080/",
          "height": 202
        },
        "outputId": "570e01bd-d139-44f4-855c-05353cd44a2e"
      },
      "source": [
        "def example2(n):\n",
        "  return n*5\n",
        "\n",
        "example2()"
      ],
      "execution_count": null,
      "outputs": [
        {
          "output_type": "error",
          "ename": "TypeError",
          "evalue": "ignored",
          "traceback": [
            "\u001b[0;31m---------------------------------------------------------------------------\u001b[0m",
            "\u001b[0;31mTypeError\u001b[0m                                 Traceback (most recent call last)",
            "\u001b[0;32m<ipython-input-41-b57e3232448c>\u001b[0m in \u001b[0;36m<module>\u001b[0;34m()\u001b[0m\n\u001b[1;32m      2\u001b[0m   \u001b[0;32mreturn\u001b[0m \u001b[0mn\u001b[0m\u001b[0;34m*\u001b[0m\u001b[0;36m5\u001b[0m\u001b[0;34m\u001b[0m\u001b[0;34m\u001b[0m\u001b[0m\n\u001b[1;32m      3\u001b[0m \u001b[0;34m\u001b[0m\u001b[0m\n\u001b[0;32m----> 4\u001b[0;31m \u001b[0mexample2\u001b[0m\u001b[0;34m(\u001b[0m\u001b[0;34m)\u001b[0m\u001b[0;34m\u001b[0m\u001b[0;34m\u001b[0m\u001b[0m\n\u001b[0m",
            "\u001b[0;31mTypeError\u001b[0m: example2() missing 1 required positional argument: 'n'"
          ]
        }
      ]
    },
    {
      "cell_type": "code",
      "metadata": {
        "id": "04f9w34qIg00",
        "colab": {
          "base_uri": "https://localhost:8080/",
          "height": 34
        },
        "outputId": "cb012429-d923-401b-b85f-fa7f5e321d48"
      },
      "source": [
        "\"\"\"Аргументы - ключевые слова используются при вызове функции. \n",
        "Благодаря ключевым аргументам, вы можете задавать произвольный \n",
        "(то есть не такой каким он описа при создании функции) порядок аргументов\"\"\"\n",
        "\n",
        "def person(name, age):\n",
        "    print(name, \"is\", age, \"years old\")\n",
        "\n",
        " \n",
        "# Хотя в описании функции первым аргументом идет имя, мы можем вызвать функцию вот так\n",
        "\n",
        "person(age=23, name=\"John\")\n"
      ],
      "execution_count": null,
      "outputs": [
        {
          "output_type": "stream",
          "text": [
            "John is 23 years old\n"
          ],
          "name": "stdout"
        }
      ]
    },
    {
      "cell_type": "code",
      "metadata": {
        "id": "RKTjpplEIg06",
        "outputId": "2fd45bdb-8fa5-44d2-80f2-d147e851bae1"
      },
      "source": [
        "#Аргумент по умолчанию, это аргумент, значение для которого задано изначально, при создании функции.\n",
        "\n",
        "def space(planet_name, center=\"Star\"):\n",
        "    print(planet_name, \"is orbiting a\", center)\n",
        " \n",
        "# Можно вызвать функцию space так:\n",
        "space(\"Mars\")\n",
        "# В результате получим: Mars is orbiting a Star\n",
        " \n",
        "# Можно вызвать функцию space иначе:\n",
        "space(\"Mars\", center=\"Black Hole\")\n",
        "# В результате получим: Mars is orbiting a Black Hole"
      ],
      "execution_count": null,
      "outputs": [
        {
          "output_type": "stream",
          "text": [
            "Mars is orbiting a Star\n",
            "Mars is orbiting a Black Hole\n"
          ],
          "name": "stdout"
        }
      ]
    },
    {
      "cell_type": "markdown",
      "metadata": {
        "id": "8aalwXUdo0w8"
      },
      "source": [
        "###Задача\n",
        "Давайте напишем функцию, которая принимает в качестве первого аргумента число, а второй параметр будет отвечать за настройку типа данных вывода. Нам нужно два варианта: string и integer. Функция должна возвращать первую цифру числа"
      ]
    },
    {
      "cell_type": "markdown",
      "metadata": {
        "id": "BF7EhPbcSVBV"
      },
      "source": [
        "Иногда возникает ситуация, когда вы заранее не знаете, какое количество аргументов будет необходимо принять функции. В этом случае следует использовать аргументы произвольной длины. Они задаются произвольным именем переменной, перед которой ставится звездочка (*)."
      ]
    },
    {
      "cell_type": "code",
      "metadata": {
        "id": "C6hrJTVuIg1G",
        "colab": {
          "base_uri": "https://localhost:8080/",
          "height": 34
        },
        "outputId": "d4750f92-a177-479d-bcbc-3c633375f880"
      },
      "source": [
        "#Аргумент произвольной длины\n",
        "\n",
        "print(*['Привет', 'мир!'])"
      ],
      "execution_count": null,
      "outputs": [
        {
          "output_type": "stream",
          "text": [
            "Привет мир!\n"
          ],
          "name": "stdout"
        }
      ]
    },
    {
      "cell_type": "code",
      "metadata": {
        "id": "VML1gzwCSJQu",
        "colab": {
          "base_uri": "https://localhost:8080/",
          "height": 139
        },
        "outputId": "e674b3b7-d1fb-4bba-cb54-e149f1e88a2e"
      },
      "source": [
        "def unknown(*args):\n",
        "    for argument in args:\n",
        "        print(argument)\n",
        " \n",
        "unknown(\"hello\",\"world\") # напечатает оба слова, каждое с новой строки\n",
        "unknown(1,2,3,4,5) # напечатает все числа, каждое с новой строки\n",
        "unknown() # ничего не выведет"
      ],
      "execution_count": null,
      "outputs": [
        {
          "output_type": "stream",
          "text": [
            "hello\n",
            "world\n",
            "1\n",
            "2\n",
            "3\n",
            "4\n",
            "5\n"
          ],
          "name": "stdout"
        }
      ]
    },
    {
      "cell_type": "code",
      "metadata": {
        "id": "jv18rWid7Nd8",
        "colab": {
          "base_uri": "https://localhost:8080/",
          "height": 34
        },
        "outputId": "6b5b835f-e16f-4f64-e757-1febdc74ff55"
      },
      "source": [
        "arr = ['Привет', 'мир!', 'как', 'дела?']\n",
        "for x in arr:\n",
        "  print(x, sep = ':', end = \":\")"
      ],
      "execution_count": null,
      "outputs": [
        {
          "output_type": "stream",
          "text": [
            "Привет:мир!:как:дела?:"
          ],
          "name": "stdout"
        }
      ]
    },
    {
      "cell_type": "markdown",
      "metadata": {
        "id": "fPPXAGPHIg1Y"
      },
      "source": [
        "### Области видимости\n",
        "\n",
        "Область видимости указывает интерпретатору, когда наименование (или переменная) видимо. Другими словами, область видимости определяет, когда и где вы можете использовать свои переменные, функции, и т.д. Если вы попытаетесь использовать что-либо, что не является в вашей области видимости, вы получите ошибку NameError.\n",
        "\n",
        "Python содержит два  типа области видимости:\n",
        "\n",
        "* Локальная область видимости\n",
        "* Глобальная область видимости\n",
        "\n"
      ]
    },
    {
      "cell_type": "markdown",
      "metadata": {
        "id": "KWN3inMlIg1Z"
      },
      "source": [
        "\n",
        "Переменные объявленные внутри тела функции имеют локальную область видимости, те что объявлены вне какой-либо функции имеют глобальную область видимости.\n",
        "\n",
        "Это означает, что доступ к локальным переменным имеют только те функции, в которых они были объявлены, в то время как доступ к глобальным переменным можно получить по всей программе в любой функции."
      ]
    },
    {
      "cell_type": "code",
      "metadata": {
        "id": "JoUGUs04Ig1a",
        "colab": {
          "base_uri": "https://localhost:8080/"
        },
        "outputId": "10f348f5-a1c4-4148-c7a2-3ec227245977"
      },
      "source": [
        "# глобальная переменная age\n",
        "age = 44\n",
        " \n",
        "def info():\n",
        "    print(age) # Печатаем глобальную переменную age\n",
        "\n",
        "\n",
        "def local_info():\n",
        "    age = 22 # создаем локальную переменную age \n",
        "    print(age)\n",
        "    \n",
        "\n",
        "def local_info_2():\n",
        "    age = 24\n",
        "    print(age)\n",
        " \n",
        "info() # напечатает 44\n",
        "local_info()\n",
        "local_info_2()"
      ],
      "execution_count": null,
      "outputs": [
        {
          "output_type": "stream",
          "text": [
            "44\n",
            "22\n",
            "24\n"
          ],
          "name": "stdout"
        }
      ]
    },
    {
      "cell_type": "code",
      "metadata": {
        "id": "QCAWqzaMIg1h",
        "outputId": "01d930a8-bb12-429d-9a68-ccff610a6bd7"
      },
      "source": [
        "age = 44\n",
        "age = 22 # создаем локальную переменную age \n",
        "age = 24\n",
        "print(age)"
      ],
      "execution_count": null,
      "outputs": [
        {
          "output_type": "stream",
          "text": [
            "24\n"
          ],
          "name": "stdout"
        }
      ]
    },
    {
      "cell_type": "markdown",
      "metadata": {
        "id": "7EHHt9xSIg1n"
      },
      "source": [
        "Важно помнить, что для того чтобы получить доступ к глобальной переменной, достаточно лишь указать ее имя. \n",
        "\n",
        "Однако, если перед нами стоит задача изменить глобальную переменную внутри функции - необходимо использовать ключевое слово global.\n"
      ]
    },
    {
      "cell_type": "code",
      "metadata": {
        "id": "ZAKh8s24Ig1o",
        "colab": {
          "base_uri": "https://localhost:8080/",
          "height": 52
        },
        "outputId": "08bc1e22-a32e-4f3d-9157-28fe04db02b7"
      },
      "source": [
        "# глобальная переменная age\n",
        "age = 13\n",
        " \n",
        "# функция изменяющая глобальную переменную\n",
        "def get_older():\n",
        "    global age\n",
        "    age += 1\n",
        "    age *= 2\n",
        " \n",
        "print(age) # напечатает 13\n",
        "get_older() # увеличиваем age на 1\n",
        "print(age) # напечатает 14"
      ],
      "execution_count": null,
      "outputs": [
        {
          "output_type": "stream",
          "text": [
            "13\n",
            "28\n"
          ],
          "name": "stdout"
        }
      ]
    },
    {
      "cell_type": "markdown",
      "metadata": {
        "id": "M3YJZLEwIg1u"
      },
      "source": [
        "Когда может стоять такая задача? "
      ]
    },
    {
      "cell_type": "code",
      "metadata": {
        "id": "LbeJqtq8Ig1w",
        "colab": {
          "base_uri": "https://localhost:8080/",
          "height": 86
        },
        "outputId": "3dc36ad8-515c-4a5b-c8a1-5bbf0b9a6fc4"
      },
      "source": [
        "count = 1000\n",
        " \n",
        "# функция изменяющая глобальную переменную\n",
        "def func_one():\n",
        "    global count\n",
        "    count -= 500\n",
        "    if count <=0:\n",
        "        print('Вы не можете больше тратить')\n",
        "    else:\n",
        "        print('Вы потратили 500 рублей')\n",
        "\n",
        "def func_two():\n",
        "    global count\n",
        "    count -= 1000\n",
        "    if count <=0:\n",
        "        print('Вы не можете больше тратить')\n",
        "    else:\n",
        "        print('Вы потратили 1000 рублей')\n",
        "    \n",
        " \n",
        "print(count) \n",
        "func_one() \n",
        "print(count)\n",
        "func_one()"
      ],
      "execution_count": null,
      "outputs": [
        {
          "output_type": "stream",
          "text": [
            "1000\n",
            "Вы потратили 500 рублей\n",
            "500\n",
            "Вы не можете больше тратить\n"
          ],
          "name": "stdout"
        }
      ]
    },
    {
      "cell_type": "markdown",
      "metadata": {
        "id": "K4LUlEhuIg11"
      },
      "source": [
        "Подробнеее о print"
      ]
    },
    {
      "cell_type": "code",
      "metadata": {
        "id": "_2ge_Q6NIg12",
        "colab": {
          "base_uri": "https://localhost:8080/",
          "height": 104
        },
        "outputId": "c151ad2c-9012-41ff-cddd-d5d6746710c9"
      },
      "source": [
        "#print\n",
        "words = [\"Welcome\", \"to\", \"Python\"]\n",
        "print(*words)\n",
        "print(*words, end=\"!!!!\\n\")\n",
        "print(*words, sep=\"\\n\")\n"
      ],
      "execution_count": null,
      "outputs": [
        {
          "output_type": "stream",
          "text": [
            "Welcome to Python\n",
            "Welcome to Python!!!!\n",
            "Welcome\n",
            "to\n",
            "Python\n"
          ],
          "name": "stdout"
        }
      ]
    },
    {
      "cell_type": "markdown",
      "metadata": {
        "id": "W6ZjWzUgIg2N"
      },
      "source": [
        "# pass\n",
        "\n",
        "Оператор-заглушка, равноценный отсутствию операции.\n",
        "В ходе исполнения данного оператора ничего не происходит, поэтому он может использоваться в качестве заглушки в тех местах, где это синтаксически необходимо, например: в инструкциях, где тело является обязательным, таких как def, except и пр.\n",
        "\n",
        "Зачастую pass используется там, где код пока ещё не появился, но планируется. Кроме этого, иногда, его используют при отладке, разместив на строчке с ним точку остановки.\n"
      ]
    },
    {
      "cell_type": "code",
      "metadata": {
        "id": "DQCbMpSlqEWy",
        "colab": {
          "base_uri": "https://localhost:8080/",
          "height": 335
        },
        "outputId": "83e8c74b-17ee-4045-e495-dc089c75bbd7"
      },
      "source": [
        "def triangle_S(a, b, sin):\n",
        "  return 0.5*a*b*sin\n",
        "\n",
        "\n",
        "def get_a():\n",
        "  pass\n",
        "\n",
        "\n",
        "\n",
        "def get_b():\n",
        "  pass\n",
        "\n",
        "\n",
        "def get_sin():\n",
        "  pass\n",
        "\n",
        "\n",
        "triangle_S(get_a(), get_b(), get_sin())"
      ],
      "execution_count": 5,
      "outputs": [
        {
          "output_type": "error",
          "ename": "TypeError",
          "evalue": "ignored",
          "traceback": [
            "\u001b[0;31m---------------------------------------------------------------------------\u001b[0m",
            "\u001b[0;31mTypeError\u001b[0m                                 Traceback (most recent call last)",
            "\u001b[0;32m<ipython-input-5-ef60470df21a>\u001b[0m in \u001b[0;36m<module>\u001b[0;34m()\u001b[0m\n\u001b[1;32m     16\u001b[0m \u001b[0;34m\u001b[0m\u001b[0m\n\u001b[1;32m     17\u001b[0m \u001b[0;34m\u001b[0m\u001b[0m\n\u001b[0;32m---> 18\u001b[0;31m \u001b[0mtriangle_S\u001b[0m\u001b[0;34m(\u001b[0m\u001b[0mget_a\u001b[0m\u001b[0;34m(\u001b[0m\u001b[0;34m)\u001b[0m\u001b[0;34m,\u001b[0m \u001b[0mget_b\u001b[0m\u001b[0;34m(\u001b[0m\u001b[0;34m)\u001b[0m\u001b[0;34m,\u001b[0m \u001b[0mget_sin\u001b[0m\u001b[0;34m(\u001b[0m\u001b[0;34m)\u001b[0m\u001b[0;34m)\u001b[0m\u001b[0;34m\u001b[0m\u001b[0;34m\u001b[0m\u001b[0m\n\u001b[0m",
            "\u001b[0;32m<ipython-input-5-ef60470df21a>\u001b[0m in \u001b[0;36mtriangle_S\u001b[0;34m(a, b, sin)\u001b[0m\n\u001b[1;32m      1\u001b[0m \u001b[0;32mdef\u001b[0m \u001b[0mtriangle_S\u001b[0m\u001b[0;34m(\u001b[0m\u001b[0ma\u001b[0m\u001b[0;34m,\u001b[0m \u001b[0mb\u001b[0m\u001b[0;34m,\u001b[0m \u001b[0msin\u001b[0m\u001b[0;34m)\u001b[0m\u001b[0;34m:\u001b[0m\u001b[0;34m\u001b[0m\u001b[0;34m\u001b[0m\u001b[0m\n\u001b[0;32m----> 2\u001b[0;31m   \u001b[0;32mreturn\u001b[0m \u001b[0;36m0.5\u001b[0m\u001b[0;34m*\u001b[0m\u001b[0ma\u001b[0m\u001b[0;34m*\u001b[0m\u001b[0mb\u001b[0m\u001b[0;34m*\u001b[0m\u001b[0msin\u001b[0m\u001b[0;34m\u001b[0m\u001b[0;34m\u001b[0m\u001b[0m\n\u001b[0m\u001b[1;32m      3\u001b[0m \u001b[0;34m\u001b[0m\u001b[0m\n\u001b[1;32m      4\u001b[0m \u001b[0;34m\u001b[0m\u001b[0m\n\u001b[1;32m      5\u001b[0m \u001b[0;32mdef\u001b[0m \u001b[0mget_a\u001b[0m\u001b[0;34m(\u001b[0m\u001b[0;34m)\u001b[0m\u001b[0;34m:\u001b[0m\u001b[0;34m\u001b[0m\u001b[0;34m\u001b[0m\u001b[0m\n",
            "\u001b[0;31mTypeError\u001b[0m: unsupported operand type(s) for *: 'float' and 'NoneType'"
          ]
        }
      ]
    },
    {
      "cell_type": "code",
      "metadata": {
        "scrolled": false,
        "id": "JVCDnXbIIg2N",
        "outputId": "f154bc06-7562-4ff3-d9b6-8968e4661908"
      },
      "source": [
        "#Обязательные аргументы функции:\n",
        "\n",
        "'''Если при создании функции мы указали количество передаваемых ей аргументов и их порядок, \n",
        "то и вызывать ее мы должны с тем же количеством аргументов, заданных в нужном порядке'''\n",
        "\n",
        "\n",
        "\n",
        "        \n",
        "\n",
        "\n",
        "print(y)\n",
        "\n",
        "\n",
        "x = 123123\n",
        "# Корректное использование функции\n",
        " \n",
        "# Некорректное использование функции\n",
        "# bigger()\n",
        "# bigger(3)\n",
        "# bigger(12,7,3) \n",
        "\n",
        "def num(x):\n",
        "    return x*5\n",
        "\n",
        "\n",
        "y = bigger(10, num(4))\n",
        "print(y)\n",
        "\n"
      ],
      "execution_count": null,
      "outputs": [
        {
          "output_type": "stream",
          "text": [
            "20\n",
            "20\n"
          ],
          "name": "stdout"
        },
        {
          "output_type": "execute_result",
          "data": {
            "text/plain": [
              "function"
            ]
          },
          "metadata": {
            "tags": []
          },
          "execution_count": 14
        }
      ]
    },
    {
      "cell_type": "code",
      "metadata": {
        "id": "WKbfGafjIg2U",
        "outputId": "fbfb2cde-2f89-4a0f-b41f-ffb13c6647a6"
      },
      "source": [
        "help(myfunction)"
      ],
      "execution_count": null,
      "outputs": [
        {
          "output_type": "stream",
          "text": [
            "Help on function myfunction in module __main__:\n",
            "\n",
            "myfunction()\n",
            "    Это тестовое описание функции для урока\n",
            "\n"
          ],
          "name": "stdout"
        }
      ]
    },
    {
      "cell_type": "code",
      "metadata": {
        "id": "68Q_P0sgIg2t",
        "outputId": "5dc0b50b-cc57-4366-94be-35aa63ea8ab7"
      },
      "source": [
        "a = enumerate([1, 2, 3])\n",
        "for i, k in list(a):\n",
        "    print(i, k*2)\n"
      ],
      "execution_count": null,
      "outputs": [
        {
          "output_type": "execute_result",
          "data": {
            "text/plain": [
              "[(0, 1), (1, 2), (2, 3)]"
            ]
          },
          "metadata": {
            "tags": []
          },
          "execution_count": 59
        }
      ]
    },
    {
      "cell_type": "markdown",
      "metadata": {
        "id": "B9RjrDafIg2x"
      },
      "source": [
        "## zip"
      ]
    },
    {
      "cell_type": "code",
      "metadata": {
        "id": "vdBnicLKIg2y",
        "outputId": "314e8c07-395f-478c-bdc6-6f247a628fdf"
      },
      "source": [
        "\n",
        "\n",
        "#Эта функция ещё более специализирована, чем enumerate.\n",
        "#Zip используется для перебора сразу нескольких объектов одновременно.\n",
        "\n",
        "one_iterable = [2, 1, 3, 4, 7, 11]\n",
        "another_iterable = ['P', 'y', 't', 'h', 'o', 'n']\n",
        "third_list = [2, 6, 3, 4]\n",
        "list(zip(one_iterable, another_iterable, third_list))\n",
        "# for n, letter in zip(one_iterable, another_iterable):\n",
        "#     print(letter, n)\n",
        "\n",
        "\n",
        "#По сравнению с enumerate, последняя функция удобна, когда нужна индексация во время цикла.\n",
        "#Если нужно обрабатывать несколько объектов одновременно, zip предпочтительнее enumerate."
      ],
      "execution_count": null,
      "outputs": [
        {
          "output_type": "execute_result",
          "data": {
            "text/plain": [
              "[(2, 'P', 2), (1, 'y', 6), (3, 't', 3), (4, 'h', 4)]"
            ]
          },
          "metadata": {
            "tags": []
          },
          "execution_count": 60
        }
      ]
    },
    {
      "cell_type": "code",
      "metadata": {
        "id": "MW2RvlyhIg24",
        "outputId": "1110a06e-ecea-420a-de7c-13751a54e85d"
      },
      "source": [
        "a = [1, 2, 3 , 5, 3]\n",
        "set(a)"
      ],
      "execution_count": null,
      "outputs": [
        {
          "output_type": "execute_result",
          "data": {
            "text/plain": [
              "{1, 2, 3, 5}"
            ]
          },
          "metadata": {
            "tags": []
          },
          "execution_count": 62
        }
      ]
    },
    {
      "cell_type": "markdown",
      "metadata": {
        "id": "vEU0u0ocIg27"
      },
      "source": [
        "## reversed\n"
      ]
    },
    {
      "cell_type": "code",
      "metadata": {
        "id": "NSw3-SJhIg2-",
        "outputId": "e9d0ee34-05a2-4381-ae94-1e50724dc592"
      },
      "source": [
        "\n",
        "#Функция reversed, как enumerate и zip, возвращает итератор.\n",
        "\n",
        "numbers = [2, 1, 3, 4, 7]\n",
        "print(reversed(numbers))\n",
        "\n",
        "#Единственное, что можно сделать с этим итератором, пройтись по нему (но только один раз).\n",
        "\n",
        "reversed_numbers = reversed(numbers)\n",
        "print(list(reversed_numbers))\n",
        "print(list(reversed_numbers))\n",
        "\n",
        "\n",
        "#Подобно enumerate и zip, reversed является своего рода вспомогательной функцией в циклах. \n",
        "#Её использование можно увидеть исключительно в цикле for."
      ],
      "execution_count": null,
      "outputs": [
        {
          "output_type": "stream",
          "text": [
            "<list_reverseiterator object at 0x7f2663fac3d0>\n",
            "[7, 4, 3, 1, 2]\n",
            "[]\n"
          ],
          "name": "stdout"
        }
      ]
    },
    {
      "cell_type": "markdown",
      "metadata": {
        "id": "MiIauCWUYI0_"
      },
      "source": [
        "### Задача\n",
        "Определите функцию count_letters(sentence, average), которая считает количество букв в строке без учёта пробелов. У функции должен быть необязательный булевый аргумент average, который по умолчанию равен False. Если он равен True, то функция должна возвращать количество букв в среднем на слово."
      ]
    },
    {
      "cell_type": "code",
      "metadata": {
        "id": "wG6iurKIYPeE"
      },
      "source": [
        "def count_letters(sentence, average = False):\n",
        "  # Тут надо вспомнить о методах работы со строками. Как превратить строку в список? Как заменить символ в строке? \n",
        "  # А ещё мы же не хотим писать лишний else, верно?\n",
        "  pass\n",
        "\n",
        "count_letters(\"I will build my own theme park\", average=True) # => 3.429"
      ],
      "execution_count": null,
      "outputs": []
    },
    {
      "cell_type": "markdown",
      "metadata": {
        "id": "KQjCneQmIg3E"
      },
      "source": [
        "## lambda, map, filter"
      ]
    },
    {
      "cell_type": "markdown",
      "metadata": {
        "id": "ACeDrdFgIg3F"
      },
      "source": [
        "lambda оператор или lambda функция в Python это способ создать анонимную функцию, то есть функцию без имени. \n",
        "\n",
        "Такие функции можно назвать одноразовыми, они используются только при создании.\n",
        "\n",
        "Как правило, lambda функции используются в комбинации с функциями filter, map, reduce."
      ]
    },
    {
      "cell_type": "code",
      "metadata": {
        "id": "fpf0M8VTIg3G",
        "outputId": "2744e49d-99de-413f-93e3-8dca4a89946f"
      },
      "source": [
        "lambda arguments: expression"
      ],
      "execution_count": null,
      "outputs": [
        {
          "output_type": "execute_result",
          "data": {
            "text/plain": [
              "<function __main__.<lambda>(arguments)>"
            ]
          },
          "metadata": {
            "tags": []
          },
          "execution_count": 1
        }
      ]
    },
    {
      "cell_type": "code",
      "metadata": {
        "id": "bhwvnHvWIg3M",
        "colab": {
          "base_uri": "https://localhost:8080/",
          "height": 34
        },
        "outputId": "91da6b98-7c21-44a0-a43f-d861b4fd9b53"
      },
      "source": [
        "multiply = lambda x,y: x * y\n",
        "multiply(21, 2)\n"
      ],
      "execution_count": null,
      "outputs": [
        {
          "output_type": "execute_result",
          "data": {
            "text/plain": [
              "42"
            ]
          },
          "metadata": {
            "tags": []
          },
          "execution_count": 65
        }
      ]
    },
    {
      "cell_type": "markdown",
      "metadata": {
        "id": "tlA1VwmgIg3Q"
      },
      "source": [
        "В Python функция map принимает два аргумента: функцию и аргумент составного типа данных, например, список. \n",
        "\n",
        "map применяет к каждому элементу списка переданную функцию. \n",
        "\n",
        "Например, вы прочитали из файла список чисел, изначально все эти числа имеют строковый тип данных, чтобы работать с ними - нужно превратить их в целое число:"
      ]
    },
    {
      "cell_type": "code",
      "metadata": {
        "id": "mVhtYZNdIg3Q",
        "outputId": "abc104cd-c0a0-486c-92c3-763980619046"
      },
      "source": [
        "old_list = ['1', '2', '3', '4', '5', '6', '7']\n",
        " \n",
        "new_list = []\n",
        "for item in old_list:\n",
        "    new_list.append(int(item))\n",
        " \n",
        "print(new_list)\n",
        " \n"
      ],
      "execution_count": null,
      "outputs": [
        {
          "output_type": "stream",
          "text": [
            "[1, 2, 3, 4, 5, 6, 7]\n"
          ],
          "name": "stdout"
        }
      ]
    },
    {
      "cell_type": "code",
      "metadata": {
        "id": "DTcap8ToIg3U",
        "colab": {
          "base_uri": "https://localhost:8080/",
          "height": 34
        },
        "outputId": "6ac95097-15eb-4675-b0c2-cf47cee1c77b"
      },
      "source": [
        "old_list = ['1', '2', '3', '4', '5', '6', '7']\n",
        "\n",
        "new_list = [int(x)*6 for x in old_list]\n",
        "new_list"
      ],
      "execution_count": null,
      "outputs": [
        {
          "output_type": "execute_result",
          "data": {
            "text/plain": [
              "[6, 12, 18, 24, 30, 36, 42]"
            ]
          },
          "metadata": {
            "tags": []
          },
          "execution_count": 66
        }
      ]
    },
    {
      "cell_type": "code",
      "metadata": {
        "id": "15pZW2ibIg3a",
        "colab": {
          "base_uri": "https://localhost:8080/",
          "height": 34
        },
        "outputId": "f538b12f-5d4f-40e9-8ae0-df2b8b223026"
      },
      "source": [
        "old_list = ['1', '2', '3', '4', '5', '6', '7']\n",
        "new_list = list(map(lambda x: int(x)*6, old_list))\n",
        "new_list"
      ],
      "execution_count": null,
      "outputs": [
        {
          "output_type": "execute_result",
          "data": {
            "text/plain": [
              "[6, 12, 18, 24, 30, 36, 42]"
            ]
          },
          "metadata": {
            "tags": []
          },
          "execution_count": 69
        }
      ]
    },
    {
      "cell_type": "code",
      "metadata": {
        "id": "jJlhpyDYIg3e",
        "outputId": "8bac0221-6ec2-47d9-803a-1a1179ecdf29"
      },
      "source": [
        "new_list = list(map(int, old_list))\n",
        "print(new_list)"
      ],
      "execution_count": null,
      "outputs": [
        {
          "output_type": "stream",
          "text": [
            "[1, 2, 3, 4, 5, 6, 7]\n"
          ],
          "name": "stdout"
        }
      ]
    },
    {
      "cell_type": "markdown",
      "metadata": {
        "id": "LIcYR6fhIg3i"
      },
      "source": [
        "Как видите такой способ занимает меньше строк, более читабелен и выполняется быстрее. map также работает и с функциями созданными пользователем:"
      ]
    },
    {
      "cell_type": "code",
      "metadata": {
        "scrolled": true,
        "id": "FLqx6pfXIg3j",
        "outputId": "9246f991-8d75-4b42-c087-eada6df8f825"
      },
      "source": [
        "def miles_to_kilometers(num_miles):\n",
        "    \"\"\" Converts miles to the kilometers \"\"\"\n",
        "    return num_miles * 1.6\n",
        " \n",
        "mile_distances = [1.0, 6.5, 17.4, 2.4, 9]\n",
        "kilometer_distances = list(map(miles_to_kilometers, mile_distances))\n",
        "print(kilometer_distances)"
      ],
      "execution_count": null,
      "outputs": [
        {
          "output_type": "stream",
          "text": [
            "[1.6, 10.4, 27.84, 3.84, 14.4]\n"
          ],
          "name": "stdout"
        }
      ]
    },
    {
      "cell_type": "code",
      "metadata": {
        "id": "tz099Zb1Ig3n",
        "outputId": "b718a607-a0c4-4e75-e5f3-aa51e6e4893b"
      },
      "source": [
        "mile_distances = [1.0, 6.5, 17.4, 2.4, 9]\n",
        "kilometer_distances = list(map(lambda x: x * 1.6, mile_distances))\n",
        " \n",
        "print (kilometer_distances)\n",
        " \n"
      ],
      "execution_count": null,
      "outputs": [
        {
          "output_type": "stream",
          "text": [
            "[1.6, 10.4, 27.84, 3.84, 14.4]\n"
          ],
          "name": "stdout"
        }
      ]
    },
    {
      "cell_type": "markdown",
      "metadata": {
        "id": "GvUREI93Ig3r"
      },
      "source": [
        "Функция map может быть так же применена для нескольких списков, в таком случае функция-аргумент должна принимать количество аргументов, соответствующее количеству списков:"
      ]
    },
    {
      "cell_type": "code",
      "metadata": {
        "id": "S3GSr4k0Ig3s",
        "outputId": "9abe4992-2eaa-4ab1-c5c3-ffea63bbec90"
      },
      "source": [
        "l1 = [1,2,3]\n",
        "l2 = [4,5,6]\n",
        " \n",
        "new_list = list(map(lambda x,y: x + y, l1, l2))\n",
        "print (new_list)"
      ],
      "execution_count": null,
      "outputs": [
        {
          "output_type": "stream",
          "text": [
            "[5, 7, 9]\n"
          ],
          "name": "stdout"
        }
      ]
    },
    {
      "cell_type": "markdown",
      "metadata": {
        "id": "dh1DSY45Ig3y"
      },
      "source": [
        "Если же количество элементов в списках совпадать не будет, то выполнение закончится на минимальном списке:"
      ]
    },
    {
      "cell_type": "code",
      "metadata": {
        "id": "mjxpp-P2Ig3z",
        "outputId": "9fc9bc19-54e4-4aff-a6fe-c761d9403759"
      },
      "source": [
        "l1 = [1,2,3]\n",
        "l2 = [4,5]\n",
        " \n",
        "new_list = list(map(lambda x,y:  + y, l1, l2))\n",
        " \n",
        "print (new_list)"
      ],
      "execution_count": null,
      "outputs": [
        {
          "output_type": "stream",
          "text": [
            "[4, 5]\n"
          ],
          "name": "stdout"
        }
      ]
    },
    {
      "cell_type": "markdown",
      "metadata": {
        "id": "L7ehgiJMIg32"
      },
      "source": [
        "Функция filter предлагает элегантный вариант фильтрации элементов последовательности. Принимает в качестве аргументов функцию и последовательность, которую необходимо отфильтровать:"
      ]
    },
    {
      "cell_type": "code",
      "metadata": {
        "id": "BJJYaOpGIg33",
        "outputId": "6c2570ce-3635-409d-bf18-92f90bdadf76"
      },
      "source": [
        "mixed = ['мак', 'молоко', 'банан', 'мороженое', 'мясо', 'греча', 'кура', 'апельсин']\n",
        "zolushka = list(filter(lambda x: x.startswith('м'), mixed))\n",
        " \n",
        "print (zolushka)\n"
      ],
      "execution_count": null,
      "outputs": [
        {
          "output_type": "stream",
          "text": [
            "['мак', 'молоко', 'мороженое', 'мясо']\n"
          ],
          "name": "stdout"
        }
      ]
    },
    {
      "cell_type": "code",
      "metadata": {
        "id": "COfZBwQEXtSC",
        "colab": {
          "base_uri": "https://localhost:8080/",
          "height": 35
        },
        "outputId": "b5913327-c86d-4a57-ecb9-87fa0a5a9a18"
      },
      "source": [
        "words = [\"sofa\", \"suitcase\", \"valise\", \"picture\", \"basket\", \"carton\", \"doggie\"]\n",
        "list(map(lambda w: sorted(w)[0], words))[5]"
      ],
      "execution_count": null,
      "outputs": [
        {
          "output_type": "execute_result",
          "data": {
            "application/vnd.google.colaboratory.intrinsic": {
              "type": "string"
            },
            "text/plain": [
              "'a'"
            ]
          },
          "metadata": {
            "tags": []
          },
          "execution_count": 19
        }
      ]
    },
    {
      "cell_type": "markdown",
      "metadata": {
        "id": "NwLsvYUwIg37"
      },
      "source": [
        "### Применение функций в Pandas"
      ]
    },
    {
      "cell_type": "code",
      "metadata": {
        "id": "RTWxnjfUIg38"
      },
      "source": [
        "import pandas as pd\n",
        "\n",
        "df = pd.read_csv('https://raw.githubusercontent.com/alnagaev/landing/master/train.csv')"
      ],
      "execution_count": null,
      "outputs": []
    },
    {
      "cell_type": "code",
      "metadata": {
        "id": "500OhOkOIg4B",
        "outputId": "78bc2408-734f-4aab-932a-0b97d1c9b09f"
      },
      "source": [
        "df.head()"
      ],
      "execution_count": null,
      "outputs": [
        {
          "output_type": "execute_result",
          "data": {
            "text/html": [
              "<div>\n",
              "<style scoped>\n",
              "    .dataframe tbody tr th:only-of-type {\n",
              "        vertical-align: middle;\n",
              "    }\n",
              "\n",
              "    .dataframe tbody tr th {\n",
              "        vertical-align: top;\n",
              "    }\n",
              "\n",
              "    .dataframe thead th {\n",
              "        text-align: right;\n",
              "    }\n",
              "</style>\n",
              "<table border=\"1\" class=\"dataframe\">\n",
              "  <thead>\n",
              "    <tr style=\"text-align: right;\">\n",
              "      <th></th>\n",
              "      <th>PassengerId</th>\n",
              "      <th>Survived</th>\n",
              "      <th>Pclass</th>\n",
              "      <th>Name</th>\n",
              "      <th>Sex</th>\n",
              "      <th>Age</th>\n",
              "      <th>SibSp</th>\n",
              "      <th>Parch</th>\n",
              "      <th>Ticket</th>\n",
              "      <th>Fare</th>\n",
              "      <th>Cabin</th>\n",
              "      <th>Embarked</th>\n",
              "    </tr>\n",
              "  </thead>\n",
              "  <tbody>\n",
              "    <tr>\n",
              "      <th>0</th>\n",
              "      <td>1</td>\n",
              "      <td>0</td>\n",
              "      <td>3</td>\n",
              "      <td>Braund, Mr. Owen Harris</td>\n",
              "      <td>male</td>\n",
              "      <td>22.0</td>\n",
              "      <td>1</td>\n",
              "      <td>0</td>\n",
              "      <td>A/5 21171</td>\n",
              "      <td>7.2500</td>\n",
              "      <td>NaN</td>\n",
              "      <td>S</td>\n",
              "    </tr>\n",
              "    <tr>\n",
              "      <th>1</th>\n",
              "      <td>2</td>\n",
              "      <td>1</td>\n",
              "      <td>1</td>\n",
              "      <td>Cumings, Mrs. John Bradley (Florence Briggs Th...</td>\n",
              "      <td>female</td>\n",
              "      <td>38.0</td>\n",
              "      <td>1</td>\n",
              "      <td>0</td>\n",
              "      <td>PC 17599</td>\n",
              "      <td>71.2833</td>\n",
              "      <td>C85</td>\n",
              "      <td>C</td>\n",
              "    </tr>\n",
              "    <tr>\n",
              "      <th>2</th>\n",
              "      <td>3</td>\n",
              "      <td>1</td>\n",
              "      <td>3</td>\n",
              "      <td>Heikkinen, Miss. Laina</td>\n",
              "      <td>female</td>\n",
              "      <td>26.0</td>\n",
              "      <td>0</td>\n",
              "      <td>0</td>\n",
              "      <td>STON/O2. 3101282</td>\n",
              "      <td>7.9250</td>\n",
              "      <td>NaN</td>\n",
              "      <td>S</td>\n",
              "    </tr>\n",
              "    <tr>\n",
              "      <th>3</th>\n",
              "      <td>4</td>\n",
              "      <td>1</td>\n",
              "      <td>1</td>\n",
              "      <td>Futrelle, Mrs. Jacques Heath (Lily May Peel)</td>\n",
              "      <td>female</td>\n",
              "      <td>35.0</td>\n",
              "      <td>1</td>\n",
              "      <td>0</td>\n",
              "      <td>113803</td>\n",
              "      <td>53.1000</td>\n",
              "      <td>C123</td>\n",
              "      <td>S</td>\n",
              "    </tr>\n",
              "    <tr>\n",
              "      <th>4</th>\n",
              "      <td>5</td>\n",
              "      <td>0</td>\n",
              "      <td>3</td>\n",
              "      <td>Allen, Mr. William Henry</td>\n",
              "      <td>male</td>\n",
              "      <td>35.0</td>\n",
              "      <td>0</td>\n",
              "      <td>0</td>\n",
              "      <td>373450</td>\n",
              "      <td>8.0500</td>\n",
              "      <td>NaN</td>\n",
              "      <td>S</td>\n",
              "    </tr>\n",
              "  </tbody>\n",
              "</table>\n",
              "</div>"
            ],
            "text/plain": [
              "   PassengerId  Survived  Pclass  \\\n",
              "0            1         0       3   \n",
              "1            2         1       1   \n",
              "2            3         1       3   \n",
              "3            4         1       1   \n",
              "4            5         0       3   \n",
              "\n",
              "                                                Name     Sex   Age  SibSp  \\\n",
              "0                            Braund, Mr. Owen Harris    male  22.0      1   \n",
              "1  Cumings, Mrs. John Bradley (Florence Briggs Th...  female  38.0      1   \n",
              "2                             Heikkinen, Miss. Laina  female  26.0      0   \n",
              "3       Futrelle, Mrs. Jacques Heath (Lily May Peel)  female  35.0      1   \n",
              "4                           Allen, Mr. William Henry    male  35.0      0   \n",
              "\n",
              "   Parch            Ticket     Fare Cabin Embarked  \n",
              "0      0         A/5 21171   7.2500   NaN        S  \n",
              "1      0          PC 17599  71.2833   C85        C  \n",
              "2      0  STON/O2. 3101282   7.9250   NaN        S  \n",
              "3      0            113803  53.1000  C123        S  \n",
              "4      0            373450   8.0500   NaN        S  "
            ]
          },
          "metadata": {
            "tags": []
          },
          "execution_count": 68
        }
      ]
    },
    {
      "cell_type": "markdown",
      "metadata": {
        "id": "M6Min82qIg4H"
      },
      "source": [
        "Создаем новый столбец с информацией о том, был ли пассажир на борту один или с родственниками\n",
        "\n",
        "Столбец должен содержать значение \"alone\", если он был на борту один (без супруга/супруги, братьев, сестер, детей и родителей) и значение \"not alone\", если пассажир путешествовал с кем-то из родственников\n"
      ]
    },
    {
      "cell_type": "code",
      "metadata": {
        "id": "h93HjEQaIg4H",
        "outputId": "bc3e7238-ec1c-4ea3-bce9-5e59166817f8"
      },
      "source": [
        "# Способ 1: с помощью именной функции и apply\n",
        "def alone_check(row):\n",
        "    if row['SibSp'] or row['Parch'] > 0:\n",
        "        return 'not_alone'\n",
        "    return 'alone'\n",
        "    \n",
        "df['Alone'] = df.apply(alone_check, axis=1)\n",
        "df\n",
        "\n"
      ],
      "execution_count": null,
      "outputs": [
        {
          "output_type": "execute_result",
          "data": {
            "text/html": [
              "<div>\n",
              "<style scoped>\n",
              "    .dataframe tbody tr th:only-of-type {\n",
              "        vertical-align: middle;\n",
              "    }\n",
              "\n",
              "    .dataframe tbody tr th {\n",
              "        vertical-align: top;\n",
              "    }\n",
              "\n",
              "    .dataframe thead th {\n",
              "        text-align: right;\n",
              "    }\n",
              "</style>\n",
              "<table border=\"1\" class=\"dataframe\">\n",
              "  <thead>\n",
              "    <tr style=\"text-align: right;\">\n",
              "      <th></th>\n",
              "      <th>PassengerId</th>\n",
              "      <th>Survived</th>\n",
              "      <th>Pclass</th>\n",
              "      <th>Name</th>\n",
              "      <th>Sex</th>\n",
              "      <th>Age</th>\n",
              "      <th>SibSp</th>\n",
              "      <th>Parch</th>\n",
              "      <th>Ticket</th>\n",
              "      <th>Fare</th>\n",
              "      <th>Cabin</th>\n",
              "      <th>Embarked</th>\n",
              "      <th>Alone</th>\n",
              "    </tr>\n",
              "  </thead>\n",
              "  <tbody>\n",
              "    <tr>\n",
              "      <td>0</td>\n",
              "      <td>1</td>\n",
              "      <td>0</td>\n",
              "      <td>3</td>\n",
              "      <td>Braund, Mr. Owen Harris</td>\n",
              "      <td>male</td>\n",
              "      <td>22.0</td>\n",
              "      <td>1</td>\n",
              "      <td>0</td>\n",
              "      <td>A/5 21171</td>\n",
              "      <td>7.2500</td>\n",
              "      <td>NaN</td>\n",
              "      <td>S</td>\n",
              "      <td>not_alone</td>\n",
              "    </tr>\n",
              "    <tr>\n",
              "      <td>1</td>\n",
              "      <td>2</td>\n",
              "      <td>1</td>\n",
              "      <td>1</td>\n",
              "      <td>Cumings, Mrs. John Bradley (Florence Briggs Th...</td>\n",
              "      <td>female</td>\n",
              "      <td>38.0</td>\n",
              "      <td>1</td>\n",
              "      <td>0</td>\n",
              "      <td>PC 17599</td>\n",
              "      <td>71.2833</td>\n",
              "      <td>C85</td>\n",
              "      <td>C</td>\n",
              "      <td>not_alone</td>\n",
              "    </tr>\n",
              "    <tr>\n",
              "      <td>2</td>\n",
              "      <td>3</td>\n",
              "      <td>1</td>\n",
              "      <td>3</td>\n",
              "      <td>Heikkinen, Miss. Laina</td>\n",
              "      <td>female</td>\n",
              "      <td>26.0</td>\n",
              "      <td>0</td>\n",
              "      <td>0</td>\n",
              "      <td>STON/O2. 3101282</td>\n",
              "      <td>7.9250</td>\n",
              "      <td>NaN</td>\n",
              "      <td>S</td>\n",
              "      <td>alone</td>\n",
              "    </tr>\n",
              "    <tr>\n",
              "      <td>3</td>\n",
              "      <td>4</td>\n",
              "      <td>1</td>\n",
              "      <td>1</td>\n",
              "      <td>Futrelle, Mrs. Jacques Heath (Lily May Peel)</td>\n",
              "      <td>female</td>\n",
              "      <td>35.0</td>\n",
              "      <td>1</td>\n",
              "      <td>0</td>\n",
              "      <td>113803</td>\n",
              "      <td>53.1000</td>\n",
              "      <td>C123</td>\n",
              "      <td>S</td>\n",
              "      <td>not_alone</td>\n",
              "    </tr>\n",
              "    <tr>\n",
              "      <td>4</td>\n",
              "      <td>5</td>\n",
              "      <td>0</td>\n",
              "      <td>3</td>\n",
              "      <td>Allen, Mr. William Henry</td>\n",
              "      <td>male</td>\n",
              "      <td>35.0</td>\n",
              "      <td>0</td>\n",
              "      <td>0</td>\n",
              "      <td>373450</td>\n",
              "      <td>8.0500</td>\n",
              "      <td>NaN</td>\n",
              "      <td>S</td>\n",
              "      <td>alone</td>\n",
              "    </tr>\n",
              "    <tr>\n",
              "      <td>...</td>\n",
              "      <td>...</td>\n",
              "      <td>...</td>\n",
              "      <td>...</td>\n",
              "      <td>...</td>\n",
              "      <td>...</td>\n",
              "      <td>...</td>\n",
              "      <td>...</td>\n",
              "      <td>...</td>\n",
              "      <td>...</td>\n",
              "      <td>...</td>\n",
              "      <td>...</td>\n",
              "      <td>...</td>\n",
              "      <td>...</td>\n",
              "    </tr>\n",
              "    <tr>\n",
              "      <td>886</td>\n",
              "      <td>887</td>\n",
              "      <td>0</td>\n",
              "      <td>2</td>\n",
              "      <td>Montvila, Rev. Juozas</td>\n",
              "      <td>male</td>\n",
              "      <td>27.0</td>\n",
              "      <td>0</td>\n",
              "      <td>0</td>\n",
              "      <td>211536</td>\n",
              "      <td>13.0000</td>\n",
              "      <td>NaN</td>\n",
              "      <td>S</td>\n",
              "      <td>alone</td>\n",
              "    </tr>\n",
              "    <tr>\n",
              "      <td>887</td>\n",
              "      <td>888</td>\n",
              "      <td>1</td>\n",
              "      <td>1</td>\n",
              "      <td>Graham, Miss. Margaret Edith</td>\n",
              "      <td>female</td>\n",
              "      <td>19.0</td>\n",
              "      <td>0</td>\n",
              "      <td>0</td>\n",
              "      <td>112053</td>\n",
              "      <td>30.0000</td>\n",
              "      <td>B42</td>\n",
              "      <td>S</td>\n",
              "      <td>alone</td>\n",
              "    </tr>\n",
              "    <tr>\n",
              "      <td>888</td>\n",
              "      <td>889</td>\n",
              "      <td>0</td>\n",
              "      <td>3</td>\n",
              "      <td>Johnston, Miss. Catherine Helen \"Carrie\"</td>\n",
              "      <td>female</td>\n",
              "      <td>NaN</td>\n",
              "      <td>1</td>\n",
              "      <td>2</td>\n",
              "      <td>W./C. 6607</td>\n",
              "      <td>23.4500</td>\n",
              "      <td>NaN</td>\n",
              "      <td>S</td>\n",
              "      <td>not_alone</td>\n",
              "    </tr>\n",
              "    <tr>\n",
              "      <td>889</td>\n",
              "      <td>890</td>\n",
              "      <td>1</td>\n",
              "      <td>1</td>\n",
              "      <td>Behr, Mr. Karl Howell</td>\n",
              "      <td>male</td>\n",
              "      <td>26.0</td>\n",
              "      <td>0</td>\n",
              "      <td>0</td>\n",
              "      <td>111369</td>\n",
              "      <td>30.0000</td>\n",
              "      <td>C148</td>\n",
              "      <td>C</td>\n",
              "      <td>alone</td>\n",
              "    </tr>\n",
              "    <tr>\n",
              "      <td>890</td>\n",
              "      <td>891</td>\n",
              "      <td>0</td>\n",
              "      <td>3</td>\n",
              "      <td>Dooley, Mr. Patrick</td>\n",
              "      <td>male</td>\n",
              "      <td>32.0</td>\n",
              "      <td>0</td>\n",
              "      <td>0</td>\n",
              "      <td>370376</td>\n",
              "      <td>7.7500</td>\n",
              "      <td>NaN</td>\n",
              "      <td>Q</td>\n",
              "      <td>alone</td>\n",
              "    </tr>\n",
              "  </tbody>\n",
              "</table>\n",
              "<p>891 rows × 13 columns</p>\n",
              "</div>"
            ],
            "text/plain": [
              "     PassengerId  Survived  Pclass  \\\n",
              "0              1         0       3   \n",
              "1              2         1       1   \n",
              "2              3         1       3   \n",
              "3              4         1       1   \n",
              "4              5         0       3   \n",
              "..           ...       ...     ...   \n",
              "886          887         0       2   \n",
              "887          888         1       1   \n",
              "888          889         0       3   \n",
              "889          890         1       1   \n",
              "890          891         0       3   \n",
              "\n",
              "                                                  Name     Sex   Age  SibSp  \\\n",
              "0                              Braund, Mr. Owen Harris    male  22.0      1   \n",
              "1    Cumings, Mrs. John Bradley (Florence Briggs Th...  female  38.0      1   \n",
              "2                               Heikkinen, Miss. Laina  female  26.0      0   \n",
              "3         Futrelle, Mrs. Jacques Heath (Lily May Peel)  female  35.0      1   \n",
              "4                             Allen, Mr. William Henry    male  35.0      0   \n",
              "..                                                 ...     ...   ...    ...   \n",
              "886                              Montvila, Rev. Juozas    male  27.0      0   \n",
              "887                       Graham, Miss. Margaret Edith  female  19.0      0   \n",
              "888           Johnston, Miss. Catherine Helen \"Carrie\"  female   NaN      1   \n",
              "889                              Behr, Mr. Karl Howell    male  26.0      0   \n",
              "890                                Dooley, Mr. Patrick    male  32.0      0   \n",
              "\n",
              "     Parch            Ticket     Fare Cabin Embarked      Alone  \n",
              "0        0         A/5 21171   7.2500   NaN        S  not_alone  \n",
              "1        0          PC 17599  71.2833   C85        C  not_alone  \n",
              "2        0  STON/O2. 3101282   7.9250   NaN        S      alone  \n",
              "3        0            113803  53.1000  C123        S  not_alone  \n",
              "4        0            373450   8.0500   NaN        S      alone  \n",
              "..     ...               ...      ...   ...      ...        ...  \n",
              "886      0            211536  13.0000   NaN        S      alone  \n",
              "887      0            112053  30.0000   B42        S      alone  \n",
              "888      2        W./C. 6607  23.4500   NaN        S  not_alone  \n",
              "889      0            111369  30.0000  C148        C      alone  \n",
              "890      0            370376   7.7500   NaN        Q      alone  \n",
              "\n",
              "[891 rows x 13 columns]"
            ]
          },
          "metadata": {
            "tags": []
          },
          "execution_count": 30
        }
      ]
    },
    {
      "cell_type": "code",
      "metadata": {
        "id": "zfHtnzzyIg4N",
        "outputId": "60cd7bad-8d65-4741-f843-5b96879ec8e9"
      },
      "source": [
        "df['Fare'].apply(lambda x: x*5)"
      ],
      "execution_count": null,
      "outputs": [
        {
          "output_type": "execute_result",
          "data": {
            "text/plain": [
              "0       36.2500\n",
              "1      356.4165\n",
              "2       39.6250\n",
              "3      265.5000\n",
              "4       40.2500\n",
              "         ...   \n",
              "886     65.0000\n",
              "887    150.0000\n",
              "888    117.2500\n",
              "889    150.0000\n",
              "890     38.7500\n",
              "Name: Fare, Length: 891, dtype: float64"
            ]
          },
          "metadata": {
            "tags": []
          },
          "execution_count": 69
        }
      ]
    },
    {
      "cell_type": "code",
      "metadata": {
        "id": "t5beSCWrIg4R",
        "outputId": "16775d7e-75d0-428e-ad15-3de4d4426d6e"
      },
      "source": [
        "# Способ 2: с помощью lambda-функции\n",
        "df.drop('Alone', axis=1, inplace = True)\n",
        "\n",
        "df['Alone'] = df.apply(lambda x: 'not_alone' if x['SibSp'] or x['Parch'] > 0 else 'alone', axis = 1)\n",
        "df"
      ],
      "execution_count": null,
      "outputs": [
        {
          "output_type": "execute_result",
          "data": {
            "text/html": [
              "<div>\n",
              "<style scoped>\n",
              "    .dataframe tbody tr th:only-of-type {\n",
              "        vertical-align: middle;\n",
              "    }\n",
              "\n",
              "    .dataframe tbody tr th {\n",
              "        vertical-align: top;\n",
              "    }\n",
              "\n",
              "    .dataframe thead th {\n",
              "        text-align: right;\n",
              "    }\n",
              "</style>\n",
              "<table border=\"1\" class=\"dataframe\">\n",
              "  <thead>\n",
              "    <tr style=\"text-align: right;\">\n",
              "      <th></th>\n",
              "      <th>PassengerId</th>\n",
              "      <th>Survived</th>\n",
              "      <th>Pclass</th>\n",
              "      <th>Name</th>\n",
              "      <th>Sex</th>\n",
              "      <th>Age</th>\n",
              "      <th>SibSp</th>\n",
              "      <th>Parch</th>\n",
              "      <th>Ticket</th>\n",
              "      <th>Fare</th>\n",
              "      <th>Cabin</th>\n",
              "      <th>Embarked</th>\n",
              "      <th>Alone</th>\n",
              "    </tr>\n",
              "  </thead>\n",
              "  <tbody>\n",
              "    <tr>\n",
              "      <td>0</td>\n",
              "      <td>1</td>\n",
              "      <td>0</td>\n",
              "      <td>3</td>\n",
              "      <td>Braund, Mr. Owen Harris</td>\n",
              "      <td>male</td>\n",
              "      <td>22.0</td>\n",
              "      <td>1</td>\n",
              "      <td>0</td>\n",
              "      <td>A/5 21171</td>\n",
              "      <td>7.2500</td>\n",
              "      <td>NaN</td>\n",
              "      <td>S</td>\n",
              "      <td>not_alone</td>\n",
              "    </tr>\n",
              "    <tr>\n",
              "      <td>1</td>\n",
              "      <td>2</td>\n",
              "      <td>1</td>\n",
              "      <td>1</td>\n",
              "      <td>Cumings, Mrs. John Bradley (Florence Briggs Th...</td>\n",
              "      <td>female</td>\n",
              "      <td>38.0</td>\n",
              "      <td>1</td>\n",
              "      <td>0</td>\n",
              "      <td>PC 17599</td>\n",
              "      <td>71.2833</td>\n",
              "      <td>C85</td>\n",
              "      <td>C</td>\n",
              "      <td>not_alone</td>\n",
              "    </tr>\n",
              "    <tr>\n",
              "      <td>2</td>\n",
              "      <td>3</td>\n",
              "      <td>1</td>\n",
              "      <td>3</td>\n",
              "      <td>Heikkinen, Miss. Laina</td>\n",
              "      <td>female</td>\n",
              "      <td>26.0</td>\n",
              "      <td>0</td>\n",
              "      <td>0</td>\n",
              "      <td>STON/O2. 3101282</td>\n",
              "      <td>7.9250</td>\n",
              "      <td>NaN</td>\n",
              "      <td>S</td>\n",
              "      <td>alone</td>\n",
              "    </tr>\n",
              "    <tr>\n",
              "      <td>3</td>\n",
              "      <td>4</td>\n",
              "      <td>1</td>\n",
              "      <td>1</td>\n",
              "      <td>Futrelle, Mrs. Jacques Heath (Lily May Peel)</td>\n",
              "      <td>female</td>\n",
              "      <td>35.0</td>\n",
              "      <td>1</td>\n",
              "      <td>0</td>\n",
              "      <td>113803</td>\n",
              "      <td>53.1000</td>\n",
              "      <td>C123</td>\n",
              "      <td>S</td>\n",
              "      <td>not_alone</td>\n",
              "    </tr>\n",
              "    <tr>\n",
              "      <td>4</td>\n",
              "      <td>5</td>\n",
              "      <td>0</td>\n",
              "      <td>3</td>\n",
              "      <td>Allen, Mr. William Henry</td>\n",
              "      <td>male</td>\n",
              "      <td>35.0</td>\n",
              "      <td>0</td>\n",
              "      <td>0</td>\n",
              "      <td>373450</td>\n",
              "      <td>8.0500</td>\n",
              "      <td>NaN</td>\n",
              "      <td>S</td>\n",
              "      <td>alone</td>\n",
              "    </tr>\n",
              "    <tr>\n",
              "      <td>...</td>\n",
              "      <td>...</td>\n",
              "      <td>...</td>\n",
              "      <td>...</td>\n",
              "      <td>...</td>\n",
              "      <td>...</td>\n",
              "      <td>...</td>\n",
              "      <td>...</td>\n",
              "      <td>...</td>\n",
              "      <td>...</td>\n",
              "      <td>...</td>\n",
              "      <td>...</td>\n",
              "      <td>...</td>\n",
              "      <td>...</td>\n",
              "    </tr>\n",
              "    <tr>\n",
              "      <td>886</td>\n",
              "      <td>887</td>\n",
              "      <td>0</td>\n",
              "      <td>2</td>\n",
              "      <td>Montvila, Rev. Juozas</td>\n",
              "      <td>male</td>\n",
              "      <td>27.0</td>\n",
              "      <td>0</td>\n",
              "      <td>0</td>\n",
              "      <td>211536</td>\n",
              "      <td>13.0000</td>\n",
              "      <td>NaN</td>\n",
              "      <td>S</td>\n",
              "      <td>alone</td>\n",
              "    </tr>\n",
              "    <tr>\n",
              "      <td>887</td>\n",
              "      <td>888</td>\n",
              "      <td>1</td>\n",
              "      <td>1</td>\n",
              "      <td>Graham, Miss. Margaret Edith</td>\n",
              "      <td>female</td>\n",
              "      <td>19.0</td>\n",
              "      <td>0</td>\n",
              "      <td>0</td>\n",
              "      <td>112053</td>\n",
              "      <td>30.0000</td>\n",
              "      <td>B42</td>\n",
              "      <td>S</td>\n",
              "      <td>alone</td>\n",
              "    </tr>\n",
              "    <tr>\n",
              "      <td>888</td>\n",
              "      <td>889</td>\n",
              "      <td>0</td>\n",
              "      <td>3</td>\n",
              "      <td>Johnston, Miss. Catherine Helen \"Carrie\"</td>\n",
              "      <td>female</td>\n",
              "      <td>NaN</td>\n",
              "      <td>1</td>\n",
              "      <td>2</td>\n",
              "      <td>W./C. 6607</td>\n",
              "      <td>23.4500</td>\n",
              "      <td>NaN</td>\n",
              "      <td>S</td>\n",
              "      <td>not_alone</td>\n",
              "    </tr>\n",
              "    <tr>\n",
              "      <td>889</td>\n",
              "      <td>890</td>\n",
              "      <td>1</td>\n",
              "      <td>1</td>\n",
              "      <td>Behr, Mr. Karl Howell</td>\n",
              "      <td>male</td>\n",
              "      <td>26.0</td>\n",
              "      <td>0</td>\n",
              "      <td>0</td>\n",
              "      <td>111369</td>\n",
              "      <td>30.0000</td>\n",
              "      <td>C148</td>\n",
              "      <td>C</td>\n",
              "      <td>alone</td>\n",
              "    </tr>\n",
              "    <tr>\n",
              "      <td>890</td>\n",
              "      <td>891</td>\n",
              "      <td>0</td>\n",
              "      <td>3</td>\n",
              "      <td>Dooley, Mr. Patrick</td>\n",
              "      <td>male</td>\n",
              "      <td>32.0</td>\n",
              "      <td>0</td>\n",
              "      <td>0</td>\n",
              "      <td>370376</td>\n",
              "      <td>7.7500</td>\n",
              "      <td>NaN</td>\n",
              "      <td>Q</td>\n",
              "      <td>alone</td>\n",
              "    </tr>\n",
              "  </tbody>\n",
              "</table>\n",
              "<p>891 rows × 13 columns</p>\n",
              "</div>"
            ],
            "text/plain": [
              "     PassengerId  Survived  Pclass  \\\n",
              "0              1         0       3   \n",
              "1              2         1       1   \n",
              "2              3         1       3   \n",
              "3              4         1       1   \n",
              "4              5         0       3   \n",
              "..           ...       ...     ...   \n",
              "886          887         0       2   \n",
              "887          888         1       1   \n",
              "888          889         0       3   \n",
              "889          890         1       1   \n",
              "890          891         0       3   \n",
              "\n",
              "                                                  Name     Sex   Age  SibSp  \\\n",
              "0                              Braund, Mr. Owen Harris    male  22.0      1   \n",
              "1    Cumings, Mrs. John Bradley (Florence Briggs Th...  female  38.0      1   \n",
              "2                               Heikkinen, Miss. Laina  female  26.0      0   \n",
              "3         Futrelle, Mrs. Jacques Heath (Lily May Peel)  female  35.0      1   \n",
              "4                             Allen, Mr. William Henry    male  35.0      0   \n",
              "..                                                 ...     ...   ...    ...   \n",
              "886                              Montvila, Rev. Juozas    male  27.0      0   \n",
              "887                       Graham, Miss. Margaret Edith  female  19.0      0   \n",
              "888           Johnston, Miss. Catherine Helen \"Carrie\"  female   NaN      1   \n",
              "889                              Behr, Mr. Karl Howell    male  26.0      0   \n",
              "890                                Dooley, Mr. Patrick    male  32.0      0   \n",
              "\n",
              "     Parch            Ticket     Fare Cabin Embarked      Alone  \n",
              "0        0         A/5 21171   7.2500   NaN        S  not_alone  \n",
              "1        0          PC 17599  71.2833   C85        C  not_alone  \n",
              "2        0  STON/O2. 3101282   7.9250   NaN        S      alone  \n",
              "3        0            113803  53.1000  C123        S  not_alone  \n",
              "4        0            373450   8.0500   NaN        S      alone  \n",
              "..     ...               ...      ...   ...      ...        ...  \n",
              "886      0            211536  13.0000   NaN        S      alone  \n",
              "887      0            112053  30.0000   B42        S      alone  \n",
              "888      2        W./C. 6607  23.4500   NaN        S  not_alone  \n",
              "889      0            111369  30.0000  C148        C      alone  \n",
              "890      0            370376   7.7500   NaN        Q      alone  \n",
              "\n",
              "[891 rows x 13 columns]"
            ]
          },
          "metadata": {
            "tags": []
          },
          "execution_count": 19
        }
      ]
    },
    {
      "cell_type": "markdown",
      "metadata": {
        "id": "OgFcwZp-Z-ck"
      },
      "source": [
        "### Спасибо за внимание буду рад ответить на ваши вопросы!\n",
        "Ссылка на форму ОС:\n",
        "https://forms.gle/GvTRz2pPGpLqNmef6\n",
        "\n",
        "Куда смотреть дальше:\n",
        "\n",
        "Декораторы https://pythonworld.ru/osnovy/dekoratory.html\n",
        "\n",
        "Замыкания https://devpractice.ru/closures-in-python/\n",
        "\n",
        "Классы https://python-scripts.com/python-class"
      ]
    },
    {
      "cell_type": "code",
      "metadata": {
        "id": "RL70At9nLoq9"
      },
      "source": [
        ""
      ],
      "execution_count": null,
      "outputs": []
    }
  ]
}