{
 "cells": [
  {
   "source": [
    "# Вебинар по теме: \"Функции в языке Python\"\n",
    "\n",
    "Спикер/Ведущий: Владимир Горюнов  \n",
    "Slack: @Владимир Горюнов"
   ],
   "cell_type": "markdown",
   "metadata": {}
  },
  {
   "source": [
    "## Определение функции:  \n"
   ],
   "cell_type": "markdown",
   "metadata": {}
  },
  {
   "cell_type": "code",
   "execution_count": null,
   "metadata": {},
   "outputs": [],
   "source": [
    "# Определение:\n",
    "\n",
    "# Какие функции стандартной библиотеки python вы уже использовали?\n",
    "# Примеры"
   ]
  },
  {
   "cell_type": "markdown",
   "metadata": {},
   "source": [
    "## Преимущества функций\n",
    "- многократное использование кода\n",
    "- структурирование программы\n",
    "- сокрытие реализации"
   ]
  },
  {
   "cell_type": "markdown",
   "metadata": {},
   "source": [
    "## Создание функции\n",
    "\n",
    " - Блок функции начинается с ключевого слова def, после которого следуют название функции и круглые скобки ()\n",
    " - Аргументы, которые принимает функция должны находиться внутри этих скобок.\n",
    " - После скобок идет двоеточие ( : ) и с новой строки с отступом (4 пробела) начинается тело функции."
   ]
  },
  {
   "cell_type": "markdown",
   "metadata": {},
   "source": [
    "## Правила именования функций\n",
    "\n",
    "- Имена функций должны состоять из маленьких букв, а слова разделяться символами подчеркивания — это необходимо, чтобы увеличить читабельность.\n",
    "- Название может содержать цифры, но не начинаться с них - 1func - неправильно\n",
    "- Название может начинаться или заканчиваться символом подчеркивания\n",
    "- В названии функции принято использовать глаголы, чтобы обозначить выполнение определенного действия. В то время как в названии классов например чаще используются существительные.  \n",
    "(В приложении1 ссылка на pep8)"
   ]
  },
  {
   "cell_type": "markdown",
   "metadata": {},
   "source": [
    "## Порядок работы с функциями\n",
    "- Перед тем как функция будет вызвана, она должна быть определена\n",
    "- При определении функции в памяти создается соответствущий объект \n",
    "- При вызове этот объект получает значения аргументов\n",
    "- При завершении работы возвращает ссылку на результат  \n",
    "\n",
    "При помощи ресурса pythontutor проследим порядок работы функции  \n",
    "www.pythontutor.com/visualize.html  \n",
    "\n"
   ]
  },
  {
   "cell_type": "code",
   "execution_count": null,
   "metadata": {},
   "outputs": [],
   "source": [
    "def calculate_sum(a,b,c=0):\n",
    "  res = a + b + c\n",
    "  return res\n",
    "  \n",
    "x = calculate_sum(4,7)\n",
    "y = calculate_sum(4,7,13)"
   ]
  },
  {
   "cell_type": "markdown",
   "metadata": {},
   "source": [
    "### Ключевое слово return\n",
    "\n",
    "* Выражение return прекращает выполнение функции и возвращает указанное после выражения значение. \n",
    "* Выражение return без аргументов и отсутствие return это то же самое, что и выражение return None. \n"
   ]
  },
  {
   "cell_type": "code",
   "execution_count": null,
   "metadata": {},
   "outputs": [],
   "source": [
    "def square():\n",
    "    user_input = int(input('Введите число:'))\n",
    "    result = user_input ** 2\n",
    "    return result\n",
    "\n",
    "res = square()\n",
    "print(res) "
   ]
  },
  {
   "cell_type": "code",
   "execution_count": null,
   "metadata": {},
   "outputs": [],
   "source": [
    "# как думаете, что получим сейчас?\n",
    "def square():\n",
    "    user_input = int(input('Введите число: '))\n",
    "    result = user_input ** 2\n",
    "    print(result)\n",
    "    \n",
    "res = square()\n",
    "print(res)"
   ]
  },
  {
   "cell_type": "code",
   "execution_count": null,
   "metadata": {},
   "outputs": [],
   "source": [
    "# Прерывание функции до завершения цикла с помощью return\n",
    "def num():\n",
    "    for number in range(1, 10):\n",
    "        if number%2==0:\n",
    "            return number\n",
    "num()"
   ]
  },
  {
   "cell_type": "markdown",
   "metadata": {},
   "source": [
    "### Задание №1 Аргументы функции\n",
    "\n",
    "1.1 Создайте функцию которая принимает на вход три аргумента, выполняет с ними два арифметических действия и возвращает результат. "
   ]
  },
  {
   "cell_type": "code",
   "execution_count": null,
   "metadata": {},
   "outputs": [],
   "source": [
    "def sum_division(x, y, z):\n",
    "    return (x + y) / z\n",
    "\n",
    "sum_division(1, 2, 3)"
   ]
  },
  {
   "cell_type": "markdown",
   "metadata": {},
   "source": [
    "1.2 На данный момент функция содержит три позиционных аргумента - передайте их в другом порядке с указанием имени\n"
   ]
  },
  {
   "cell_type": "code",
   "execution_count": null,
   "metadata": {},
   "outputs": [],
   "source": [
    "sum_division(x=1, z=3, y=2)"
   ]
  },
  {
   "cell_type": "markdown",
   "metadata": {},
   "source": [
    "1.3 Добавьте один аргумент со значением по умолчанию - порядок округления, и примените округление для возвращаемого значения"
   ]
  },
  {
   "cell_type": "code",
   "execution_count": null,
   "metadata": {},
   "outputs": [],
   "source": [
    "def sum_division(x, y, z, accuracy=2):\n",
    "    return round((x + y) / z, accuracy)\n",
    "\n",
    "sum_division(1, 2, 7, 4)"
   ]
  },
  {
   "cell_type": "code",
   "execution_count": null,
   "metadata": {},
   "outputs": [],
   "source": [
    "# Аргумент со значением по умолчанию становится необязательным, и его можно не передавать при вызове функции\n",
    "# Часто таким аргументам присваивается значение по умолчанию None или False"
   ]
  },
  {
   "cell_type": "markdown",
   "metadata": {},
   "source": [
    "1.4 Вызываем именованный аргумент перед позиционным и получаем ошибку"
   ]
  },
  {
   "cell_type": "code",
   "execution_count": null,
   "metadata": {},
   "outputs": [],
   "source": [
    "sum_division(accuracy=4, 1, 2, 7)"
   ]
  },
  {
   "cell_type": "markdown",
   "metadata": {},
   "source": [
    "1.5 Укажите тип аргументов и возвращаемого значения"
   ]
  },
  {
   "cell_type": "code",
   "execution_count": null,
   "metadata": {},
   "outputs": [],
   "source": [
    "# указание типа аргумента носит рекомендательный характер и не приведет к ошибке в момент передачи аргумента\n",
    "# ошибка может возникнуть на других этапах выполнения - на каких поможет узнать стек вызовов\n",
    "\n",
    "def sum_division(x:int, y:int, z:float, accuracy:int = 2) -> float:\n",
    "    return round((x + y) / z, accuracy)\n",
    "\n",
    "sum_division(1, 2, 7, 4.0)"
   ]
  },
  {
   "cell_type": "code",
   "execution_count": null,
   "metadata": {},
   "outputs": [],
   "source": [
    "# еще пример\n",
    "def universal_sum(a:int, b:int) ->int:\n",
    "  return a+b\n",
    "\n",
    "print(universal_sum(2, 8))\n",
    "print(universal_sum(True, True))\n",
    "print(universal_sum('2', '8'))"
   ]
  },
  {
   "cell_type": "markdown",
   "metadata": {},
   "source": [
    "*1.6 args и kwargs"
   ]
  },
  {
   "cell_type": "code",
   "execution_count": null,
   "metadata": {},
   "outputs": [],
   "source": [
    "# Сумму всех позиционных аргументов вычисляем с помощью sum\n",
    "# *args упаковывает все позиционные аргументы в кортеж\n",
    "# **kwargs упаковывает все именованные аргументы в словарь, из которого получаем значение по ключу\n",
    "\n",
    "def sum_division(*args, **kwargs):\n",
    "    print(args)\n",
    "    print(kwargs)\n",
    "    return round(sum(args) / kwargs['divisor'], kwargs['accuracy'])\n",
    "\n",
    "sum_division(1,2,3,4,5,6,7,8,9,10, divisor=7, accuracy=2)"
   ]
  },
  {
   "cell_type": "code",
   "execution_count": null,
   "metadata": {},
   "outputs": [],
   "source": [
    "# распаковка позволяет отделить создание списка аргументов от их передачи в функцию\n",
    "numbers = [1,2,3,4,5,6,7,8,9,10]\n",
    "params = {'divisor':7,'accuracy':2}\n",
    "\n",
    "sum_division(*numbers, **params)"
   ]
  },
  {
   "cell_type": "code",
   "execution_count": null,
   "metadata": {},
   "outputs": [],
   "source": [
    "#*1.7 Функции для работы со строками\n",
    "# Напишите функцию которая возвращает логическое значение. \n",
    "# Проверка является ли слово или фраза палиндромом. Например топот, радар, А роза упала на лапу Азора\n"
   ]
  },
  {
   "cell_type": "markdown",
   "metadata": {},
   "source": [
    "### Задание №2 Комментарии и документация\n",
    "\n",
    "2.1 Добавить к функции строку документации"
   ]
  },
  {
   "cell_type": "code",
   "execution_count": null,
   "metadata": {},
   "outputs": [],
   "source": [
    "def sum_division(x, y, z, accuracy=2):\n",
    "    '''Функция получает на вход три числа, складывает первые два и делит на третье.\n",
    "    Результат деления возвращается с точностью, которая задается аргументом accuracy.\n",
    "    '''\n",
    "    return round((x + y) / z, accuracy)"
   ]
  },
  {
   "cell_type": "code",
   "execution_count": null,
   "metadata": {},
   "outputs": [],
   "source": [
    "# Документацию можно получить с помощью функции help или ?\n",
    "# Если вы работаете в IDE, например VS Code или PyCharm, то она появится во всплывающих подсказках\n",
    "\n",
    "help(sum_division)"
   ]
  },
  {
   "cell_type": "code",
   "execution_count": null,
   "metadata": {},
   "outputs": [],
   "source": [
    "# Строчные комментарии и выделенные тройными кавычками не сразу после двоеточия - не попадут в документацию. \n",
    "# Начало тройных кавычек - с соблюдением отступа"
   ]
  },
  {
   "source": [
    "2.2* Добавить простой тест к документации  \n",
    "  \n",
    "Описание библиотеки doctest:  \n",
    "https://docs.python.org/3/library/doctest.html  \n"
   ],
   "cell_type": "markdown",
   "metadata": {}
  },
  {
   "cell_type": "code",
   "execution_count": null,
   "metadata": {},
   "outputs": [],
   "source": [
    "def sum_division(x, y, z, accuracy=2):\n",
    "    '''Функция получает на вход три числа, складывает первые два и делит на третье.\n",
    "    Результат деления возвращается с точностью, которая задается аргументом accuracy.\n",
    "    >>> sum_division(1,2,3)\n",
    "    1.0\n",
    "    >>> sum_division(2,3,4)\n",
    "    1.25\n",
    "    '''\n",
    "    return round((x + y) / z, accuracy)\n",
    "\n",
    "import doctest\n",
    "doctest.testmod()"
   ]
  },
  {
   "cell_type": "markdown",
   "metadata": {},
   "source": [
    "### Задание №3 Вычисление площадей фигур\n",
    " \n",
    "Пусть надо написать программу, вычисляющую площади разных фигур. Пользователь указывает, площадь какой фигуры он хочет вычислить. После этого вводит исходные данные. Например, длину и ширину в случае прямоугольника. Чтобы разделить поток выполнения на несколько ветвей, следует использовать оператор if-elif-else:"
   ]
  },
  {
   "cell_type": "code",
   "execution_count": null,
   "metadata": {},
   "outputs": [],
   "source": [
    "# Начальный вариант \n",
    "figure = input(\"1-прямоугольник, 2-треугольник, 3-круг: \")\n",
    " \n",
    "if figure == '1':\n",
    "    a = float(input(\"Ширина: \"))\n",
    "    b = float(input(\"Высота: \"))\n",
    "    print(f\"Площадь: {a*b}\")\n",
    "elif figure == '2':\n",
    "    a = float(input(\"Основание: \"))\n",
    "    h = float(input(\"Высота: \"))\n",
    "    print(f\"Площадь: {0.5 * a * h}\")\n",
    "elif figure == '3':\n",
    "    r = float(input(\"Радиус: \"))\n",
    "    print(f\"Площадь: {3.14 * r**2}\")\n",
    "else:\n",
    "    print(\"Ошибка ввода\")\n",
    "\n",
    "# Сколько логических блоков мы можем выделить из данного кода?\n",
    "# Или сколько новых функций мы можем создать в ходе рефакторинга?"
   ]
  },
  {
   "cell_type": "code",
   "execution_count": null,
   "metadata": {},
   "outputs": [],
   "source": [
    "# Конечный вариант\n",
    "# Заполните шаблон нужными участками кода\n",
    "def compute_rectangle_square():\n",
    "    \"\"\"Эта функция считает площадь прямоугольника\"\"\"\n",
    "    pass\n",
    "    \n",
    "def compute_triangle_square():\n",
    "    \"\"\"Эта функция считает площадь треугольника\"\"\"\n",
    "    pass\n",
    "\n",
    "def compute_circle_square():\n",
    "    \"\"\"Эта функция считает площадь круга\"\"\"\n",
    "    pass\n",
    "    \n",
    "def main():\n",
    "    pass\n",
    "\n",
    "main()"
   ]
  },
  {
   "cell_type": "markdown",
   "metadata": {},
   "source": [
    "### Задание №4 Области видимости\n",
    "- глобальная область видимости\n",
    "- локальная область видимости\n",
    "- нелокальная область видимости\n",
    "\n",
    "Область видимости переменных в языке программирования Python представляет собой некое пространство имен,  \n",
    "в рамках которого функционируют созданные объекты.   \n",
    "Эта особенность позволяет ограничивать доступ к определенным значениям  \n",
    "во избежание конфликтов между одинаковыми идентификаторами.  \n"
   ]
  },
  {
   "cell_type": "code",
   "execution_count": null,
   "metadata": {},
   "outputs": [],
   "source": [
    "text = 'Hello'\n",
    "\n",
    "def print_text():\n",
    "    print(text)\n",
    "\n",
    "print_text()\n",
    "print(text)"
   ]
  },
  {
   "cell_type": "code",
   "execution_count": null,
   "metadata": {},
   "outputs": [],
   "source": [
    "def print_text2():\n",
    "    text2 = 'World'\n",
    "    print(text2)\n",
    "\n",
    "print_text2()\n",
    "print(text2)"
   ]
  },
  {
   "source": [
    "Использование ключевых слов global, nonlocal для модификации переменных"
   ],
   "cell_type": "markdown",
   "metadata": {}
  },
  {
   "cell_type": "code",
   "execution_count": null,
   "metadata": {},
   "outputs": [],
   "source": [
    "x = 100\n",
    "def f():\n",
    "    x = 200\n",
    "f()\n",
    "print(x)"
   ]
  },
  {
   "cell_type": "code",
   "execution_count": null,
   "metadata": {},
   "outputs": [],
   "source": [
    "x = 100\n",
    "def f():\n",
    "    global x\n",
    "    x = 200\n",
    "f()\n",
    "print(x)"
   ]
  },
  {
   "cell_type": "code",
   "execution_count": null,
   "metadata": {},
   "outputs": [],
   "source": [
    "# nonlocal - как вы думаете как можно использовать\n",
    "# чтобы устранить ошибку: local variable 'x' referenced before assignment\n",
    "def f():\n",
    "    x = 0\n",
    "    def f2():\n",
    "        x += 15\n",
    "        return x\n",
    "    return f2()\n",
    "\n",
    "f()"
   ]
  },
  {
   "cell_type": "markdown",
   "metadata": {},
   "source": [
    "Использование nonlocal можно изучить самостоятельно  \n",
    "Хороший мануал  \n",
    "https://all-python.ru/osnovy/oblast-vidimosti.html  \n"
   ]
  },
  {
   "source": [
    "## Задание №5 map, lambda, filter"
   ],
   "cell_type": "markdown",
   "metadata": {}
  },
  {
   "source": [
    "Поскольку функция является объектом python она может присваиваться переменной  \n",
    "или передаваться в качестве аргумента в другую функцию. \n",
    "Эта особенность встречается при использовании функции map которая применяет  \n",
    "функцию переданную в качестве параметра ко всем объектам списка.   \n"
   ],
   "cell_type": "markdown",
   "metadata": {}
  },
  {
   "cell_type": "code",
   "execution_count": null,
   "metadata": {},
   "outputs": [],
   "source": [
    "# Возьмем список чисел с плавающей точкой и преобразуем его к целым\n",
    "floats = [1.23, 2.34, 3.45, 4.56]\n",
    "ints = map(round, floats)\n",
    "print(ints)\n",
    "print(list(ints))"
   ]
  },
  {
   "cell_type": "code",
   "execution_count": null,
   "metadata": {},
   "outputs": [],
   "source": [
    "# Подобную задачу можно решить с помощью генераторов списков, и lambda-функций\n",
    "# Есть желающие?"
   ]
  },
  {
   "cell_type": "code",
   "execution_count": null,
   "metadata": {},
   "outputs": [],
   "source": [
    "# определим свою функцию\n",
    "def square(x):\n",
    "    return x**2\n",
    "\n",
    "squares = list(map(square, floats))    \n",
    "print(squares)"
   ]
  },
  {
   "cell_type": "code",
   "execution_count": null,
   "metadata": {},
   "outputs": [],
   "source": [
    "# если она такая простая почему бы не сделать так\n",
    "# lambda позволяют не определять функции, а создавать и использовать только в том месте где они нужны\n",
    "list(map(lambda x : x**2, floats))"
   ]
  },
  {
   "cell_type": "code",
   "execution_count": null,
   "metadata": {},
   "outputs": [],
   "source": [
    "# и в итоге с помощью генератора списков\n",
    "# ...\n",
    "# ..."
   ]
  },
  {
   "cell_type": "code",
   "execution_count": null,
   "metadata": {},
   "outputs": [],
   "source": [
    "# также есть подобные специальные методы zip, filter, reduce но с ними предлагается разобраться самостоятельно\n",
    "# на самом деле в большинстве случаев достаточно генераторов списков и лямбда-функций"
   ]
  },
  {
   "cell_type": "markdown",
   "metadata": {},
   "source": [
    "## Приложение 1. Советы по оформлению\n",
    "\n",
    "- Отделяйте функции (верхнего уровня, не функции внутри функций) и определения классов двумя пустыми строчками.\n",
    "- Используйте (без энтузиазма) пустые строки в коде функций, чтобы отделить друг от друга логические части.\n",
    "- Ограничьте максимальную длину строки 79 символами.\n",
    "- В качестве отступов используйте пробелы, а не табуляцию\n",
    "- Старайтесь писать функции которые выполняют только одну определенную задачу,  \n",
    "  и занимают места не более чем на один экран в редакторе кода"
   ]
  },
  {
   "source": [
    "## Приложение 2. Полезные ссылки\n",
    "\n",
    "- https://www.python.org/dev/peps/pep-0008/ - PEP8\n",
    "- https://pythonworld.ru/osnovy/pep-8-rukovodstvo-po-napisaniyu-koda-na-python.html - PEP8-перевод\n",
    "- http://www.pythontutor.com/visualize.html - визуализация выполнения кода\n",
    "- https://all-python.ru/osnovy/oblast-vidimosti.html - области видимости\n",
    "- http://pythonicway.com/education/32-python-functinal-programming - функциональное программирование\n",
    "- https://docs.python.org/3/library/doctest.html - библиотека doctest"
   ],
   "cell_type": "markdown",
   "metadata": {}
  },
  {
   "source": [
    "## Спасибо за внимание!"
   ],
   "cell_type": "markdown",
   "metadata": {}
  }
 ],
 "metadata": {
  "kernelspec": {
   "name": "python3",
   "display_name": "Python 3.8.6 64-bit",
   "metadata": {
    "interpreter": {
     "hash": "2db524e06e9f5f4ffedc911c917cb75e12dbc923643829bf417064a77eb14d37"
    }
   }
  },
  "language_info": {
   "codemirror_mode": {
    "name": "ipython",
    "version": 3
   },
   "file_extension": ".py",
   "mimetype": "text/x-python",
   "name": "python",
   "nbconvert_exporter": "python",
   "pygments_lexer": "ipython3",
   "version": "3.8.6-final"
  }
 },
 "nbformat": 4,
 "nbformat_minor": 2
}