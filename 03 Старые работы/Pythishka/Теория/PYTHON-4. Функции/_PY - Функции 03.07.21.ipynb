{
 "cells": [
  {
   "cell_type": "markdown",
   "metadata": {
    "id": "djL0UFMoIgyt"
   },
   "source": [
    "# Функции\n",
    "\n",
    "Булыгин Олег  \n",
    "FB: [fb.com/obulygin91](fb.com/obulygin91)  \n",
    "VK: [vk.com/obulygin91](vk.com/obulygin91)  \n",
    "LinkedIn: [linkedin.com/in/obulygin](linkedin.com/in/obulygin)  \n",
    "Telegram: @obulygin91  \n",
    "email: obulygin91@ya.ru  \n"
   ]
  },
  {
   "cell_type": "markdown",
   "metadata": {},
   "source": [
    "## План\n",
    "- Определение функции  \n",
    "- Docstring  \n",
    "- Параметры функции  \n",
    "- Области видимости  \n",
    "- lambda-функции  "
   ]
  },
  {
   "cell_type": "markdown",
   "metadata": {},
   "source": [
    "Функции – это обособленный участок кода, который можно вызывать, обратившись к нему по имени, которым он был назван (подпрограмма).\n",
    "Это объект, принимающий аргументы и возвращающий значение."
   ]
  },
  {
   "cell_type": "markdown",
   "metadata": {},
   "source": [
    "Функции помогают избежать дублирования кода, улучшить его структурированность и читаемость."
   ]
  },
  {
   "cell_type": "markdown",
   "metadata": {
    "id": "veWjkUwNIgzL"
   },
   "source": [
    "### Объявление функции\n",
    "\n",
    "Существуют некоторые правила для создания функций в Python:\n",
    "\n",
    "+ Блок функции начинается с ключевого слова def, после которого следуют название функции и круглые скобки ()\n",
    "\n",
    "+ Любые аргументы, которые принимает функция должны находиться внутри этих скобок.\n",
    "\n",
    "+ После скобок идет двоеточие ( : ) и с новой строки с отступом начинается тело функции.\n"
   ]
  },
  {
   "cell_type": "code",
   "execution_count": 1,
   "metadata": {
    "colab": {
     "base_uri": "https://localhost:8080/",
     "height": 133
    },
    "id": "RWlt-EMpIgzN",
    "outputId": "93eb6120-a8bb-4359-b39b-1fd9f5196cb8"
   },
   "outputs": [
    {
     "name": "stdout",
     "output_type": "stream",
     "text": [
      "Эта наша первая функция\n"
     ]
    }
   ],
   "source": [
    "def my_function():\n",
    "    print('Эта наша первая функция')\n",
    "    \n",
    "    \n",
    "my_function()"
   ]
  },
  {
   "cell_type": "markdown",
   "metadata": {
    "id": "ahaklUj0Nw3u"
   },
   "source": [
    "Когда запустится строка \"Это наша первая функция\"?"
   ]
  },
  {
   "cell_type": "code",
   "execution_count": 2,
   "metadata": {
    "colab": {
     "base_uri": "https://localhost:8080/",
     "height": 69
    },
    "id": "Gtr_IAjRNmPs",
    "outputId": "78b3839c-5f30-42d2-f53e-17722e735cec"
   },
   "outputs": [
    {
     "name": "stdout",
     "output_type": "stream",
     "text": [
      "Раз\n",
      "Два\n",
      "Это наша первая функция\n"
     ]
    }
   ],
   "source": [
    "print('Раз')\n",
    "\n",
    "def your_function():\n",
    "    print('Это наша первая функция')\n",
    "\n",
    "\n",
    "print('Два')\n",
    "your_function()"
   ]
  },
  {
   "cell_type": "markdown",
   "metadata": {
    "id": "9UmnsAJTN5be"
   },
   "source": [
    "Есть **объявление** и **вызов** функции. Это разные процессы"
   ]
  },
  {
   "cell_type": "markdown",
   "metadata": {
    "id": "4oBO1B9jIgzh"
   },
   "source": [
    "### Ключевое слово return\n",
    "\n",
    "* Выражение return прекращает выполнение функции и возвращает указанное после выражения значение. \n",
    "\n",
    "* Выражение return без аргументов это то же самое, что и выражение return None. \n",
    "\n",
    "* То, что функция возвращает можно присваивать какой-либо переменной."
   ]
  },
  {
   "cell_type": "code",
   "execution_count": 6,
   "metadata": {
    "colab": {
     "base_uri": "https://localhost:8080/",
     "height": 34
    },
    "id": "n_ohL5N9ONTL",
    "outputId": "e156851f-81e0-4783-f102-8b9208e43a6d"
   },
   "outputs": [
    {
     "name": "stdout",
     "output_type": "stream",
     "text": [
      "Введите число5\n",
      "25\n"
     ]
    }
   ],
   "source": [
    "def square():\n",
    "    user_input = int(input('Введите число'))\n",
    "    result = user_input ** 2\n",
    "    return result\n",
    "\n",
    "# res = square()\n",
    "# print(res) \n",
    "# когда вызываем функцию внутри print на экран выводится то, что она возвращает. В jupyter можно и без print\n",
    "print(square())"
   ]
  },
  {
   "cell_type": "code",
   "execution_count": 10,
   "metadata": {},
   "outputs": [
    {
     "name": "stdout",
     "output_type": "stream",
     "text": [
      "Введите число5\n",
      "25\n",
      "None\n"
     ]
    }
   ],
   "source": [
    "# как думаете, что получим сейчас?\n",
    "def square():\n",
    "    user_input = int(input('Введите число'))\n",
    "    result = user_input ** 2\n",
    "    print(result)\n",
    "    \n",
    "print(square())"
   ]
  },
  {
   "cell_type": "code",
   "execution_count": 11,
   "metadata": {},
   "outputs": [],
   "source": [
    "?print"
   ]
  },
  {
   "cell_type": "markdown",
   "metadata": {
    "id": "9aIvBMyoIn8H"
   },
   "source": [
    "### Задача\n",
    "Напишите функцию, которая определяет является ли слово палиндромом"
   ]
  },
  {
   "cell_type": "code",
   "execution_count": null,
   "metadata": {},
   "outputs": [],
   "source": [
    "def is_palindrom():"
   ]
  },
  {
   "cell_type": "code",
   "execution_count": 15,
   "metadata": {},
   "outputs": [
    {
     "name": "stdout",
     "output_type": "stream",
     "text": [
      "Радар\n",
      "Является Палиндром\n"
     ]
    }
   ],
   "source": [
    "def is_palindrom():\n",
    "    text = input().lower()\n",
    "\n",
    "    if text == text[::-1]:\n",
    "        print('Является Палиндром')\n",
    "    else:\n",
    "        print('Не является Палиндром')\n",
    "is_palindrom()"
   ]
  },
  {
   "cell_type": "code",
   "execution_count": 16,
   "metadata": {},
   "outputs": [
    {
     "name": "stdout",
     "output_type": "stream",
     "text": [
      "Радар\n"
     ]
    },
    {
     "data": {
      "text/plain": [
       "'радар является палиндромом'"
      ]
     },
     "execution_count": 16,
     "metadata": {},
     "output_type": "execute_result"
    }
   ],
   "source": [
    "def is_palindrom():\n",
    "  word = input().lower()\n",
    "  if word == word[::-1]:\n",
    "      return f\"{word} является палиндромом\"\n",
    "print(is_palindrom())"
   ]
  },
  {
   "cell_type": "markdown",
   "metadata": {},
   "source": [
    "### Docstring\n",
    "\n",
    "(сокр. от documentation string, строка документации) \n",
    "встроенное средство документирования модулей, функций, классов и методов. \n",
    "\n",
    "Сразу после определения указывается строковое значение, которое и будет docstring'ом.\n"
   ]
  },
  {
   "cell_type": "code",
   "execution_count": 17,
   "metadata": {},
   "outputs": [
    {
     "name": "stdout",
     "output_type": "stream",
     "text": [
      "Help on built-in function print in module builtins:\n",
      "\n",
      "print(...)\n",
      "    print(value, ..., sep=' ', end='\\n', file=sys.stdout, flush=False)\n",
      "    \n",
      "    Prints the values to a stream, or to sys.stdout by default.\n",
      "    Optional keyword arguments:\n",
      "    file:  a file-like object (stream); defaults to the current sys.stdout.\n",
      "    sep:   string inserted between values, default a space.\n",
      "    end:   string appended after the last value, default a newline.\n",
      "    flush: whether to forcibly flush the stream.\n",
      "\n"
     ]
    }
   ],
   "source": [
    "help(print)"
   ]
  },
  {
   "cell_type": "code",
   "execution_count": 18,
   "metadata": {},
   "outputs": [],
   "source": [
    "?print"
   ]
  },
  {
   "cell_type": "code",
   "execution_count": 19,
   "metadata": {},
   "outputs": [],
   "source": [
    "# пишем docstring к своей функции\n",
    "def square():\n",
    "    \"\"\"\n",
    "    this is my function\n",
    "    \"\"\"\n",
    "    user_input = int(input('Введите число'))\n",
    "    result = user_input ** 2\n",
    "    return result"
   ]
  },
  {
   "cell_type": "code",
   "execution_count": 20,
   "metadata": {},
   "outputs": [],
   "source": [
    "?square"
   ]
  },
  {
   "cell_type": "markdown",
   "metadata": {
    "id": "yQlxKfmHIgz6"
   },
   "source": [
    "### Функции придают программе структуру"
   ]
  },
  {
   "cell_type": "markdown",
   "metadata": {
    "id": "1FTFp8paIgz-"
   },
   "source": [
    "Польза функций не только в возможности многократного вызова одного и того же кода из разных мест программы. Не менее важно, что благодаря им программа обретает четкую структуру. Функции как бы разделяют ее на обособленные части, каждая из которых выполняет свою конкретную задачу.\n",
    "\n",
    "Пусть надо написать программу, вычисляющую площади разных фигур. Пользователь указывает, площадь какой фигуры он хочет вычислить. После этого вводит исходные данные. Например, длину и ширину в случае прямоугольника. Чтобы разделить поток выполнения на несколько ветвей, следует использовать оператор if-elif-else:"
   ]
  },
  {
   "cell_type": "code",
   "execution_count": null,
   "metadata": {
    "id": "dKIiW8aSIg0A",
    "outputId": "de0ebde2-be66-44db-d8e7-cf84715abf1b"
   },
   "outputs": [],
   "source": [
    "figure = input(\"1-прямоугольник, 2-треугольник, 3-круг: \")\n",
    " \n",
    "if figure == '1':\n",
    "    a = float(input(\"Ширина: \"))\n",
    "    b = float(input(\"Высота: \"))\n",
    "    print(f\"Площадь: {a*b}\")\n",
    "elif figure == '2':\n",
    "    a = float(input(\"Основание: \"))\n",
    "    h = float(input(\"Высота: \"))\n",
    "    print(f\"Площадь: {0.5 * a * h}\")\n",
    "elif figure == '3':\n",
    "    r = float(input(\"Радиус: \"))\n",
    "    print(f\"Площадь: {3.14 * r**2}\")\n",
    "else:\n",
    "    print(\"Ошибка ввода\")"
   ]
  },
  {
   "cell_type": "code",
   "execution_count": 23,
   "metadata": {
    "colab": {
     "base_uri": "https://localhost:8080/",
     "height": 86
    },
    "id": "X4eLEHn6Ig0G",
    "outputId": "7481df4c-4942-43d8-c2bb-391eee2e4002"
   },
   "outputs": [
    {
     "name": "stdout",
     "output_type": "stream",
     "text": [
      "1-прямоугольник, 2-треугольник, 3-круг: 3\n",
      "Радиус: 3.14\n",
      "Площадь: 30.959144000000002\n"
     ]
    }
   ],
   "source": [
    "def rectangle():\n",
    "    \"\"\"Эта функция считает площадь прямоугольника\"\"\"\n",
    "    a = float(input(\"Ширина: \"))\n",
    "    b = float(input(\"Высота: \"))\n",
    "    print(f\"Площадь: {a*b}\")\n",
    "    \n",
    "def triangle():\n",
    "    \"\"\"Эта функция считает площадь треугольника\"\"\"\n",
    "    a = float(input(\"Основание: \"))\n",
    "    h = float(input(\"Высота: \"))\n",
    "    print(f\"Площадь: {0.5 * a * h}\")\n",
    "\n",
    "def circle():\n",
    "    \"\"\"Эта функция считает площадь круга\"\"\"\n",
    "    r = float(input(\"Радиус: \"))\n",
    "    print(f\"Площадь: {3.14 * r**2}\")\n",
    "    \n",
    "def main():\n",
    "    figure = input(\"1-прямоугольник, 2-треугольник, 3-круг: \")\n",
    "    if figure == '1':\n",
    "        rectangle()\n",
    "    elif figure == '2':\n",
    "        triangle()\n",
    "    elif figure == '3':\n",
    "        circle()\n",
    "    else:\n",
    "        print(\"Ошибка ввода\")\n",
    "        \n",
    "main()"
   ]
  },
  {
   "cell_type": "markdown",
   "metadata": {
    "id": "v4Xh1dEWIg0e"
   },
   "source": [
    "Из общей логики программы как бы убраны и обособлены инструкции для нахождения площадей. Программа теперь состоит из отдельных \"кирпичиков Лего\". В основной ветке мы можем комбинировать их как угодно. Она играет роль управляющего механизма.\n",
    "\n",
    "Если нам когда-нибудь захочется вычислять площадь треугольника по формуле Герона, а не через высоту, то не придется искать код во всей программе (представьте, что она состоит из тысяч строк кода как реальные программы). Мы пойдем к месту определения функций и изменим тело одной из них.\n",
    "\n",
    "Если понадобиться использовать эти функции в какой-нибудь другой программе, то мы сможем импортировать их туда, сославшись на данный файл с кодом."
   ]
  },
  {
   "cell_type": "markdown",
   "metadata": {},
   "source": [
    "### Параметры функции"
   ]
  },
  {
   "cell_type": "markdown",
   "metadata": {},
   "source": [
    "Функция может принимать более 1 параметра (а может не принимать параметры вообще).\n",
    "\n",
    "Для всех параметров функций можно указывать значения по-умолчанию, это дает возможность вызвать функцию с меньшим числом параметров.\n",
    "\n"
   ]
  },
  {
   "cell_type": "markdown",
   "metadata": {
    "id": "G6_adbf2O_hF"
   },
   "source": [
    "Переменные в скобках – это параметры функции, которые мы указываем при объявлении функции. Когда мы её вызываем мы передаем в вызов аргументы. В нашем случае это будут числа. "
   ]
  },
  {
   "cell_type": "code",
   "execution_count": 26,
   "metadata": {
    "colab": {
     "base_uri": "https://localhost:8080/",
     "height": 34
    },
    "id": "EHK_kqH3Igzj",
    "outputId": "75f2b0f2-276b-4149-d2dd-f37668916cce"
   },
   "outputs": [
    {
     "name": "stdout",
     "output_type": "stream",
     "text": [
      "24\n"
     ]
    }
   ],
   "source": [
    "def bigger(a, b):\n",
    "    \"\"\"Эта функция сравнивает числа и выдает большее\"\"\"\n",
    "    if a > b:\n",
    "        return a\n",
    "    return b \n",
    " \n",
    "# присваиваем результат функции bigger переменной num\n",
    "num = bigger(4, 24)\n",
    "print(num)"
   ]
  },
  {
   "cell_type": "code",
   "execution_count": 38,
   "metadata": {},
   "outputs": [
    {
     "data": {
      "text/plain": [
       "25"
      ]
     },
     "execution_count": 38,
     "metadata": {},
     "output_type": "execute_result"
    }
   ],
   "source": [
    "# функция с параметром по умолчанию\n",
    "def power(number, number_2=2):\n",
    "    result = number ** number_2\n",
    "    return result\n",
    "power(5)"
   ]
  },
  {
   "cell_type": "markdown",
   "metadata": {},
   "source": [
    "#### Если при создании функции мы указали количество передаваемых ей аргументов и их порядок, \n",
    "то и вызывать ее мы должны с тем же количеством аргументов, заданных в нужном порядке. \n",
    "\n",
    "Если при вызове мы будем явно указывать имена аргументов, то их можно передавать в любом порядке"
   ]
  },
  {
   "cell_type": "code",
   "execution_count": 39,
   "metadata": {},
   "outputs": [
    {
     "ename": "TypeError",
     "evalue": "power() takes from 1 to 2 positional arguments but 3 were given",
     "output_type": "error",
     "traceback": [
      "\u001b[1;31m---------------------------------------------------------------------------\u001b[0m",
      "\u001b[1;31mTypeError\u001b[0m                                 Traceback (most recent call last)",
      "\u001b[1;32m<ipython-input-39-fa41694123c0>\u001b[0m in \u001b[0;36m<module>\u001b[1;34m\u001b[0m\n\u001b[1;32m----> 1\u001b[1;33m \u001b[0mpower\u001b[0m\u001b[1;33m(\u001b[0m\u001b[1;36m2\u001b[0m\u001b[1;33m,\u001b[0m \u001b[1;36m3\u001b[0m\u001b[1;33m,\u001b[0m \u001b[1;36m1\u001b[0m\u001b[1;33m)\u001b[0m\u001b[1;33m\u001b[0m\u001b[1;33m\u001b[0m\u001b[0m\n\u001b[0m",
      "\u001b[1;31mTypeError\u001b[0m: power() takes from 1 to 2 positional arguments but 3 were given"
     ]
    }
   ],
   "source": [
    "power(2, 3, 1)"
   ]
  },
  {
   "cell_type": "code",
   "execution_count": 40,
   "metadata": {},
   "outputs": [
    {
     "ename": "TypeError",
     "evalue": "power() missing 1 required positional argument: 'number'",
     "output_type": "error",
     "traceback": [
      "\u001b[1;31m---------------------------------------------------------------------------\u001b[0m",
      "\u001b[1;31mTypeError\u001b[0m                                 Traceback (most recent call last)",
      "\u001b[1;32m<ipython-input-40-b5d41c958809>\u001b[0m in \u001b[0;36m<module>\u001b[1;34m\u001b[0m\n\u001b[1;32m----> 1\u001b[1;33m \u001b[0mpower\u001b[0m\u001b[1;33m(\u001b[0m\u001b[1;33m)\u001b[0m\u001b[1;33m\u001b[0m\u001b[1;33m\u001b[0m\u001b[0m\n\u001b[0m",
      "\u001b[1;31mTypeError\u001b[0m: power() missing 1 required positional argument: 'number'"
     ]
    }
   ],
   "source": [
    "power()"
   ]
  },
  {
   "cell_type": "code",
   "execution_count": 41,
   "metadata": {},
   "outputs": [
    {
     "data": {
      "text/plain": [
       "8"
      ]
     },
     "execution_count": 41,
     "metadata": {},
     "output_type": "execute_result"
    }
   ],
   "source": [
    "# если передавать аргументы не в том порядке, в каком они были описаны при объявлении\n",
    "power(number_2=3, number=2)"
   ]
  },
  {
   "cell_type": "markdown",
   "metadata": {
    "id": "BF7EhPbcSVBV"
   },
   "source": [
    "Иногда возникает ситуация, когда вы заранее не знаете, какое количество аргументов будет необходимо принять функции. В этом случае следует использовать аргументы произвольной длины ([args и kwargs](https://habr.com/ru/company/ruvds/blog/482464/)). Они задаются произвольным именем переменной, перед которой ставится звездочка (args) или две здездочки (kwargs)."
   ]
  },
  {
   "cell_type": "code",
   "execution_count": 42,
   "metadata": {
    "colab": {
     "base_uri": "https://localhost:8080/",
     "height": 34
    },
    "id": "C6hrJTVuIg1G",
    "outputId": "673c6af6-147f-414e-b73f-222bcd161fc2"
   },
   "outputs": [
    {
     "name": "stdout",
     "output_type": "stream",
     "text": [
      "('hello', 'world')\n",
      "hello\n",
      "world\n",
      "(1, 2, 3, 4, 5)\n",
      "1\n",
      "2\n",
      "3\n",
      "4\n",
      "5\n",
      "()\n"
     ]
    }
   ],
   "source": [
    "def unknown(*args):\n",
    "    print(args) #здесь будет кортеж из всех переданных аргументов\n",
    "    for argument in args:\n",
    "        print(argument)\n",
    "\n",
    "unknown(\"hello\",\"world\") # напечатает оба слова, каждое с новой строки\n",
    "unknown(1,2,3,4,5) # напечатает все числа, каждое с новой строки\n",
    "unknown() # ничего не выведет"
   ]
  },
  {
   "cell_type": "code",
   "execution_count": 43,
   "metadata": {},
   "outputs": [],
   "source": [
    "def api_request(*params):\n",
    "    date_start = params[0]\n",
    "    date_end = params[1]\n",
    "#     print(params)\n",
    "    print(f'Дата старта: {date_start}, дата окончания: {date_end}, прочие данные: {params[2:]}')"
   ]
  },
  {
   "cell_type": "code",
   "execution_count": 44,
   "metadata": {},
   "outputs": [
    {
     "name": "stdout",
     "output_type": "stream",
     "text": [
      "Дата старта: 2019-01-01, дата окончания: 2019-01-31, прочие данные: ()\n"
     ]
    }
   ],
   "source": [
    "api_request('2019-01-01', '2019-01-31')"
   ]
  },
  {
   "cell_type": "code",
   "execution_count": 45,
   "metadata": {},
   "outputs": [
    {
     "name": "stdout",
     "output_type": "stream",
     "text": [
      "Дата старта: 2019-01-01, дата окончания: 2019-01-31, прочие данные: (1000, 10000)\n"
     ]
    }
   ],
   "source": [
    "api_request('2019-01-01', '2019-01-31', 1000, 10000)"
   ]
  },
  {
   "cell_type": "code",
   "execution_count": 46,
   "metadata": {},
   "outputs": [],
   "source": [
    "def api_requets(**params):\n",
    "    return params"
   ]
  },
  {
   "cell_type": "code",
   "execution_count": 47,
   "metadata": {
    "scrolled": false
   },
   "outputs": [
    {
     "data": {
      "text/plain": [
       "{'a': 1, 'b': 2, 'c': 3}"
      ]
     },
     "execution_count": 47,
     "metadata": {},
     "output_type": "execute_result"
    }
   ],
   "source": [
    "api_requets(a=1, b=2, c=3)"
   ]
  },
  {
   "cell_type": "code",
   "execution_count": 48,
   "metadata": {},
   "outputs": [],
   "source": [
    "def api_request(**params):\n",
    "    date_start = params['date_start']\n",
    "    date_end = params['date_end']\n",
    "    print(params)\n",
    "    print(f'Дата старта: {date_start}, дата окончания: {date_end}')"
   ]
  },
  {
   "cell_type": "code",
   "execution_count": 49,
   "metadata": {},
   "outputs": [
    {
     "name": "stdout",
     "output_type": "stream",
     "text": [
      "{'date_start': '2019-01-31', 'date_end': '2019-01-01'}\n",
      "Дата старта: 2019-01-31, дата окончания: 2019-01-01\n"
     ]
    }
   ],
   "source": [
    "api_request(date_start='2019-01-31', date_end='2019-01-01')"
   ]
  },
  {
   "cell_type": "markdown",
   "metadata": {
    "id": "9aIvBMyoIn8H"
   },
   "source": [
    "### Задача\n",
    "Напишите функцию, которая будет находить среднюю цену квартиры по всем данным (каждый словарь – отдельный район города)"
   ]
  },
  {
   "cell_type": "code",
   "execution_count": 50,
   "metadata": {},
   "outputs": [],
   "source": [
    "dict_1 = {'flat_1': 10500, 'flat_2': 11000}\n",
    "dict_2 = {'flat_3': 15000}\n",
    "dict_3 = {'flat_4': 6500, 'flat_5': 7000, 'flat_6': 6000}"
   ]
  },
  {
   "cell_type": "code",
   "execution_count": null,
   "metadata": {},
   "outputs": [],
   "source": [
    "# def av_price(**params):\n",
    "#     sum_ = 0\n",
    "#     for dict_ in params:\n",
    "#       sum_ += dict_\n",
    "    \n"
   ]
  },
  {
   "cell_type": "code",
   "execution_count": 65,
   "metadata": {},
   "outputs": [
    {
     "name": "stdout",
     "output_type": "stream",
     "text": [
      "9333.33\n"
     ]
    }
   ],
   "source": [
    "def get_avg_price(*districts):\n",
    "    prices = 0\n",
    "    count = 0\n",
    "#     print(districts)\n",
    "    for district in districts:\n",
    "        prices += sum(district.values())\n",
    "        count += len(district.values())\n",
    "    return round(prices / count, 2)\n",
    "\n",
    "print(get_avg_price(dict_1, dict_2, dict_3))"
   ]
  },
  {
   "cell_type": "code",
   "execution_count": 61,
   "metadata": {},
   "outputs": [
    {
     "data": {
      "text/plain": [
       "dict_values([10500, 11000])"
      ]
     },
     "execution_count": 61,
     "metadata": {},
     "output_type": "execute_result"
    }
   ],
   "source": [
    "dict_1.values()"
   ]
  },
  {
   "cell_type": "markdown",
   "metadata": {
    "id": "fPPXAGPHIg1Y"
   },
   "source": [
    "### Области видимости\n",
    "\n",
    "Область видимости (scope) определяет контекст объекта, в рамках которого его можно использовать.\n",
    "\n",
    "Рассмотрим 2 типа области видимости:\n",
    "\n",
    "* Локальная область видимости\n",
    "* Глобальная область видимости\n",
    "\n",
    "Глобальная область видимости подразумевает, что переменная является глобальной, она определена вне любой из функций и доступна любой функции в программе.\n",
    "\n",
    "В отличие от глобальных переменных локальная переменная определяется внутри функции и доступна только из этой функции, то есть имеет локальную область видимости."
   ]
  },
  {
   "cell_type": "code",
   "execution_count": 70,
   "metadata": {
    "colab": {
     "base_uri": "https://localhost:8080/",
     "height": 69
    },
    "id": "JoUGUs04Ig1a",
    "outputId": "6842bda8-e109-4f4a-d8f6-81433acffc1d"
   },
   "outputs": [
    {
     "name": "stdout",
     "output_type": "stream",
     "text": [
      "700\n",
      "1000\n",
      "600\n"
     ]
    }
   ],
   "source": [
    "# глобальные переменные\n",
    "salary = 1000\n",
    "bonus = 600\n",
    "\n",
    "# def info():\n",
    "#     print(salary + bonus) \n",
    "\n",
    "# def info_2():\n",
    "#     bonus = 50\n",
    "#     print(salary + bonus) \n",
    "\n",
    "def local_info():\n",
    "    salary = 500 \n",
    "    bonus = 200\n",
    "    some_number = 1\n",
    "    print(salary + bonus)\n",
    "    \n",
    "\n",
    "# info()\n",
    "# info_2()\n",
    "local_info()\n",
    "# print(some_number)\n",
    "print(salary)\n",
    "print(bonus)"
   ]
  },
  {
   "cell_type": "markdown",
   "metadata": {},
   "source": [
    "### Анонимные функции"
   ]
  },
  {
   "cell_type": "markdown",
   "metadata": {},
   "source": [
    "[Анонимные функции](https://habr.com/ru/post/507642/) создаются при помощи инструкции lambda и используются для более краткой записи функций с одним выражением. Выполняются быстрее обычных и не требуют инструкции return."
   ]
  },
  {
   "cell_type": "code",
   "execution_count": 72,
   "metadata": {},
   "outputs": [
    {
     "name": "stdout",
     "output_type": "stream",
     "text": [
      "9\n"
     ]
    }
   ],
   "source": [
    "func = lambda x, y: x + y\n",
    "print(func(1, 8))"
   ]
  },
  {
   "cell_type": "code",
   "execution_count": 73,
   "metadata": {},
   "outputs": [
    {
     "name": "stdout",
     "output_type": "stream",
     "text": [
      "(3.0, 81)\n"
     ]
    }
   ],
   "source": [
    "sqrt = lambda x: (x**0.5, x**2)\n",
    "print(sqrt(9))"
   ]
  },
  {
   "cell_type": "markdown",
   "metadata": {},
   "source": [
    "### lambda + map"
   ]
  },
  {
   "cell_type": "markdown",
   "metadata": {},
   "source": [
    "В Python функция map принимает два аргумента: функцию и итерируемый объект, например, список. map применяет к каждому элементу объекта переданного в функцию."
   ]
  },
  {
   "cell_type": "markdown",
   "metadata": {},
   "source": [
    "Пишем программу, которая создает список, содержащий квадраты натуральных чисел от 1 до 9"
   ]
  },
  {
   "cell_type": "code",
   "execution_count": 74,
   "metadata": {},
   "outputs": [
    {
     "data": {
      "text/plain": [
       "[1, 4, 9, 16, 25, 36, 49, 64, 81]"
      ]
     },
     "execution_count": 74,
     "metadata": {},
     "output_type": "execute_result"
    }
   ],
   "source": [
    "# Традиционным способом\n",
    "my_list = []\n",
    "for i in range(1,10):\n",
    "    my_list.append(i**2)\n",
    "my_list"
   ]
  },
  {
   "cell_type": "code",
   "execution_count": 75,
   "metadata": {},
   "outputs": [
    {
     "data": {
      "text/plain": [
       "[1, 4, 9, 16, 25, 36, 49, 64, 81]"
      ]
     },
     "execution_count": 75,
     "metadata": {},
     "output_type": "execute_result"
    }
   ],
   "source": [
    "# С помощью map+lambda\n",
    "list(map(lambda x: x**2, range(1,10)))"
   ]
  },
  {
   "cell_type": "code",
   "execution_count": 76,
   "metadata": {
    "id": "FLqx6pfXIg3j",
    "outputId": "9246f991-8d75-4b42-c087-eada6df8f825",
    "scrolled": true
   },
   "outputs": [
    {
     "name": "stdout",
     "output_type": "stream",
     "text": [
      "[1.6, 10.4, 27.84, 3.84, 14.4]\n"
     ]
    }
   ],
   "source": [
    "def miles_to_kilometers(num_miles):\n",
    "    \"\"\" Converts miles to the kilometers \"\"\"\n",
    "    return num_miles * 1.6\n",
    " \n",
    "mile_distances = [1.0, 6.5, 17.4, 2.4, 9]\n",
    "kilometer_distances = list(map(miles_to_kilometers, mile_distances))\n",
    "print(kilometer_distances)"
   ]
  },
  {
   "cell_type": "code",
   "execution_count": 77,
   "metadata": {
    "id": "tz099Zb1Ig3n",
    "outputId": "b718a607-a0c4-4e75-e5f3-aa51e6e4893b",
    "scrolled": true
   },
   "outputs": [
    {
     "data": {
      "text/plain": [
       "[1.6, 10.4, 27.84, 3.84, 14.4]"
      ]
     },
     "execution_count": 77,
     "metadata": {},
     "output_type": "execute_result"
    }
   ],
   "source": [
    "mile_distances = [1.0, 6.5, 17.4, 2.4, 9]\n",
    "kilometer_distances = list(map(lambda x: x * 1.6, mile_distances))\n",
    "kilometer_distances"
   ]
  },
  {
   "cell_type": "markdown",
   "metadata": {
    "id": "9aIvBMyoIn8H"
   },
   "source": [
    "### Задача\n",
    "Напишите функцию, которая будет находить среднюю цену на товары в каждой категории по отдельности."
   ]
  },
  {
   "cell_type": "code",
   "execution_count": 78,
   "metadata": {
    "colab": {
     "base_uri": "https://localhost:8080/",
     "height": 34
    },
    "id": "Up5GPORUIg0o",
    "outputId": "ba161ce7-c191-4eef-ec60-d467930574ea"
   },
   "outputs": [],
   "source": [
    "prices = [[100, 200, 400, 600], [200, 500], [100, 200, 100, 100], [800, 900]]"
   ]
  },
  {
   "cell_type": "code",
   "execution_count": 80,
   "metadata": {},
   "outputs": [
    {
     "data": {
      "text/plain": [
       "[325.0, 350.0, 125.0, 850.0]"
      ]
     },
     "execution_count": 80,
     "metadata": {},
     "output_type": "execute_result"
    }
   ],
   "source": [
    "av_prices = list(map(lambda x: sum(x) / len(x), prices))\n",
    "av_prices"
   ]
  },
  {
   "cell_type": "code",
   "execution_count": 82,
   "metadata": {},
   "outputs": [
    {
     "data": {
      "text/plain": [
       "[325.0, 350.0, 125.0, 850.0]"
      ]
     },
     "execution_count": 82,
     "metadata": {},
     "output_type": "execute_result"
    }
   ],
   "source": [
    "list(map(lambda price: sum(price) / len(price), prices))"
   ]
  },
  {
   "cell_type": "markdown",
   "metadata": {},
   "source": [
    "### Комплексный пример"
   ]
  },
  {
   "cell_type": "code",
   "execution_count": 83,
   "metadata": {},
   "outputs": [],
   "source": [
    "students_list = [\n",
    "    {\"name\": \"Василий\", \"surname\": \"Теркин\", \"gender\": \"м\", \"program_exp\": True, \"grade\": [8, 8, 9, 10, 9], \"exam\": 8},\n",
    "    {\"name\": \"Мария\", \"surname\": \"Павлова\", \"gender\": \"ж\", \"program_exp\": True, \"grade\": [7, 8, 9, 7, 9], \"exam\": 9},\n",
    "    {\"name\": \"Ирина\", \"surname\": \"Андреева\", \"gender\": \"ж\", \"program_exp\": False, \"grade\": [10, 9, 8, 10, 10], \"exam\": 7},\n",
    "    {\"name\": \"Татьяна\", \"surname\": \"Сидорова\", \"gender\": \"ж\", \"program_exp\": False, \"grade\": [7, 8, 8, 9, 8],\"exam\": 10},\n",
    "    {\"name\": \"Иван\", \"surname\": \"Васильев\", \"gender\": \"м\", \"program_exp\": True, \"grade\": [9, 8, 9, 6, 9], \"exam\": 5},\n",
    "    {\"name\": \"Роман\", \"surname\": \"Золотарев\", \"gender\": \"м\", \"program_exp\": False, \"grade\": [8, 9, 9, 6, 9], \"exam\": 6}\n",
    "]"
   ]
  },
  {
   "cell_type": "code",
   "execution_count": 84,
   "metadata": {},
   "outputs": [],
   "source": [
    "# посчитаем среднюю оценку за экзамен по всей группе\n",
    "def get_avg_exam_grade(students):\n",
    "    sum_ex = 0\n",
    "    for student in students:\n",
    "        sum_ex += student['exam']  \n",
    "    return round(sum_ex / len(students), 2)"
   ]
  },
  {
   "cell_type": "code",
   "execution_count": 86,
   "metadata": {},
   "outputs": [
    {
     "name": "stdout",
     "output_type": "stream",
     "text": [
      "7.5\n"
     ]
    }
   ],
   "source": [
    "print(get_avg_exam_grade(students_list))"
   ]
  },
  {
   "cell_type": "code",
   "execution_count": 87,
   "metadata": {},
   "outputs": [],
   "source": [
    "# посчитаем среднюю оценку за ДЗ по всей группе\n",
    "def get_avg_hw_grade(students):\n",
    "    sum_hw = 0\n",
    "    for student in students:\n",
    "        sum_hw += sum(student['grade']) / len(student['grade'])\n",
    "    return round(sum_hw / len(students), 2)"
   ]
  },
  {
   "cell_type": "code",
   "execution_count": 88,
   "metadata": {},
   "outputs": [
    {
     "name": "stdout",
     "output_type": "stream",
     "text": [
      "8.43\n"
     ]
    }
   ],
   "source": [
    "print(get_avg_hw_grade(students_list))"
   ]
  },
  {
   "cell_type": "code",
   "execution_count": 91,
   "metadata": {},
   "outputs": [],
   "source": [
    "# добавим фильтр по опыту для расчетов\n",
    "def get_avg_exam_grade(students, exp=False):\n",
    "    sum_ex = 0\n",
    "    counter = 0\n",
    "    for student in students:\n",
    "        if student['program_exp'] == exp:\n",
    "            sum_ex += student['exam']\n",
    "            counter += 1\n",
    "    return round(sum_ex / counter, 2)"
   ]
  },
  {
   "cell_type": "code",
   "execution_count": 92,
   "metadata": {},
   "outputs": [
    {
     "name": "stdout",
     "output_type": "stream",
     "text": [
      "7.67\n"
     ]
    }
   ],
   "source": [
    "print(get_avg_exam_grade(students_list))"
   ]
  },
  {
   "cell_type": "code",
   "execution_count": 93,
   "metadata": {},
   "outputs": [
    {
     "name": "stdout",
     "output_type": "stream",
     "text": [
      "7.33\n"
     ]
    }
   ],
   "source": [
    "print(get_avg_exam_grade(students_list, True))"
   ]
  },
  {
   "cell_type": "code",
   "execution_count": 94,
   "metadata": {},
   "outputs": [],
   "source": [
    "# а как же теперь сделать расчет по всей группе?\n",
    "def get_avg_exam_grade(students, exp=None):\n",
    "    sum_ex = 0\n",
    "    counter = 0\n",
    "    for student in students:\n",
    "        if exp is None or student['program_exp'] == exp:\n",
    "            sum_ex += student['exam']\n",
    "            counter += 1\n",
    "    return round(sum_ex / counter, 2)"
   ]
  },
  {
   "cell_type": "code",
   "execution_count": 95,
   "metadata": {},
   "outputs": [
    {
     "data": {
      "text/plain": [
       "7.5"
      ]
     },
     "execution_count": 95,
     "metadata": {},
     "output_type": "execute_result"
    }
   ],
   "source": [
    "get_avg_exam_grade(students_list)"
   ]
  },
  {
   "cell_type": "code",
   "execution_count": 96,
   "metadata": {},
   "outputs": [
    {
     "data": {
      "text/plain": [
       "7.33"
      ]
     },
     "execution_count": 96,
     "metadata": {},
     "output_type": "execute_result"
    }
   ],
   "source": [
    "get_avg_exam_grade(students_list, True)"
   ]
  },
  {
   "cell_type": "code",
   "execution_count": 97,
   "metadata": {},
   "outputs": [
    {
     "data": {
      "text/plain": [
       "7.67"
      ]
     },
     "execution_count": 97,
     "metadata": {},
     "output_type": "execute_result"
    }
   ],
   "source": [
    "get_avg_exam_grade(students_list, False)"
   ]
  },
  {
   "cell_type": "code",
   "execution_count": 99,
   "metadata": {},
   "outputs": [],
   "source": [
    "# реализуем фильтр по полу\n",
    "def get_avg_exam_grade(students, gender=None):\n",
    "    sum_ex = 0\n",
    "    counter = 0\n",
    "    for student in students:\n",
    "        if gender is None or student['gender'] == gender:\n",
    "            sum_ex += student['exam']\n",
    "            counter += 1\n",
    "    return round(sum_ex / counter, 2)"
   ]
  },
  {
   "cell_type": "code",
   "execution_count": 100,
   "metadata": {},
   "outputs": [
    {
     "data": {
      "text/plain": [
       "7.5"
      ]
     },
     "execution_count": 100,
     "metadata": {},
     "output_type": "execute_result"
    }
   ],
   "source": [
    "get_avg_exam_grade(students_list)"
   ]
  },
  {
   "cell_type": "code",
   "execution_count": 101,
   "metadata": {},
   "outputs": [
    {
     "data": {
      "text/plain": [
       "6.33"
      ]
     },
     "execution_count": 101,
     "metadata": {},
     "output_type": "execute_result"
    }
   ],
   "source": [
    "get_avg_exam_grade(students_list, 'м')"
   ]
  },
  {
   "cell_type": "code",
   "execution_count": 102,
   "metadata": {},
   "outputs": [
    {
     "data": {
      "text/plain": [
       "8.67"
      ]
     },
     "execution_count": 102,
     "metadata": {},
     "output_type": "execute_result"
    }
   ],
   "source": [
    "get_avg_exam_grade(students_list, 'ж')"
   ]
  },
  {
   "cell_type": "code",
   "execution_count": 109,
   "metadata": {},
   "outputs": [],
   "source": [
    "# реализуем сразу оба фильтра\n",
    "def get_avg_exam_grade(students, gender=None, exp=None):\n",
    "    sum_ex = 0\n",
    "    counter = 0\n",
    "    for student in students:\n",
    "        if (gender is None or student['gender'] == gender) and (exp is None or student['program_exp'] == exp):\n",
    "            sum_ex += student['exam']\n",
    "            counter += 1\n",
    "    return round(sum_ex / counter, 2)"
   ]
  },
  {
   "cell_type": "code",
   "execution_count": 110,
   "metadata": {},
   "outputs": [
    {
     "name": "stdout",
     "output_type": "stream",
     "text": [
      "7.5\n"
     ]
    }
   ],
   "source": [
    "print(get_avg_exam_grade(students_list))"
   ]
  },
  {
   "cell_type": "code",
   "execution_count": 111,
   "metadata": {},
   "outputs": [
    {
     "data": {
      "text/plain": [
       "6.33"
      ]
     },
     "execution_count": 111,
     "metadata": {},
     "output_type": "execute_result"
    }
   ],
   "source": [
    "get_avg_exam_grade(students_list, 'м')"
   ]
  },
  {
   "cell_type": "code",
   "execution_count": 112,
   "metadata": {},
   "outputs": [
    {
     "data": {
      "text/plain": [
       "7.33"
      ]
     },
     "execution_count": 112,
     "metadata": {},
     "output_type": "execute_result"
    }
   ],
   "source": [
    "get_avg_exam_grade(students_list, exp=True)"
   ]
  },
  {
   "cell_type": "code",
   "execution_count": 113,
   "metadata": {},
   "outputs": [
    {
     "data": {
      "text/plain": [
       "7.67"
      ]
     },
     "execution_count": 113,
     "metadata": {},
     "output_type": "execute_result"
    }
   ],
   "source": [
    "get_avg_exam_grade(students_list, exp=False)"
   ]
  },
  {
   "cell_type": "code",
   "execution_count": 114,
   "metadata": {},
   "outputs": [
    {
     "data": {
      "text/plain": [
       "9.0"
      ]
     },
     "execution_count": 114,
     "metadata": {},
     "output_type": "execute_result"
    }
   ],
   "source": [
    "get_avg_exam_grade(students_list, 'ж', exp=True)"
   ]
  },
  {
   "cell_type": "code",
   "execution_count": 115,
   "metadata": {},
   "outputs": [],
   "source": [
    "# расчет оценок за ДЗ\n",
    "def get_avg_hw_grade(students, gender=None, exp=None):\n",
    "    sum_hw = 0\n",
    "    counter = 0\n",
    "    for student in students:\n",
    "        if (gender is None or student['gender'] == gender) and (exp is None or student['program_exp'] == exp):\n",
    "            sum_hw += sum(student['grade']) / len(student['grade'])\n",
    "            counter += 1\n",
    "    return round(sum_hw / counter, 2)"
   ]
  },
  {
   "cell_type": "code",
   "execution_count": 116,
   "metadata": {},
   "outputs": [],
   "source": [
    "# пишем пользовательский интефейс\n",
    "\n",
    "def main(students):\n",
    "    while True:\n",
    "        user_input = input('Введите команду')\n",
    "        if user_input == '1':\n",
    "            print(f'Средняя оценка за экзамен по группе: {get_avg_exam_grade(students)}')\n",
    "        elif user_input == '2':\n",
    "            print(f'Средняя оценка за ДЗ по группе: {get_avg_hw_grade(students)}')\n",
    "        elif user_input =='3':\n",
    "            print(f'Средняя оценка за экзамен у студентов без бэкграунда: {get_avg_exam_grade(students, exp=False)}')\n",
    "        elif user_input == 'q':\n",
    "            print('До свидания!')\n",
    "            break"
   ]
  },
  {
   "cell_type": "code",
   "execution_count": 117,
   "metadata": {},
   "outputs": [
    {
     "name": "stdout",
     "output_type": "stream",
     "text": [
      "Введите команду1\n",
      "Средняя оценка за экзамен по группе: 7.5\n",
      "Введите команду2\n",
      "Средняя оценка за ДЗ по группе: 8.43\n",
      "Введите команду3\n",
      "Средняя оценка за экзамен у студентов без бэкграунда: 7.67\n",
      "Введите команду2\n",
      "Средняя оценка за ДЗ по группе: 8.43\n",
      "Введите команду1\n",
      "Средняя оценка за экзамен по группе: 7.5\n",
      "Введите командуq\n",
      "До свидания!\n"
     ]
    }
   ],
   "source": [
    "main(students_list)"
   ]
  },
  {
   "cell_type": "markdown",
   "metadata": {
    "id": "OgFcwZp-Z-ck"
   },
   "source": [
    "### Спасибо за внимание буду рад ответить на ваши вопросы!\n",
    "Ссылка на форму ОС:\n",
    "https://forms.gle/y8xaFwJqtbFSjUeG8\n"
   ]
  },
  {
   "cell_type": "code",
   "execution_count": null,
   "metadata": {
    "id": "RL70At9nLoq9"
   },
   "outputs": [],
   "source": []
  }
 ],
 "metadata": {
  "colab": {
   "collapsed_sections": [],
   "name": "функции в python.ipynb",
   "provenance": []
  },
  "kernelspec": {
   "display_name": "Python 3",
   "language": "python",
   "name": "python3"
  },
  "language_info": {
   "codemirror_mode": {
    "name": "ipython",
    "version": 3
   },
   "file_extension": ".py",
   "mimetype": "text/x-python",
   "name": "python",
   "nbconvert_exporter": "python",
   "pygments_lexer": "ipython3",
   "version": "3.8.5"
  }
 },
 "nbformat": 4,
 "nbformat_minor": 1
}
