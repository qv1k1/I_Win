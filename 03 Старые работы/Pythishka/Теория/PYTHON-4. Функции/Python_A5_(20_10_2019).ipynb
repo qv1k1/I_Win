{
  "nbformat": 4,
  "nbformat_minor": 0,
  "metadata": {
    "kernelspec": {
      "display_name": "Python 3",
      "language": "python",
      "name": "python3"
    },
    "language_info": {
      "codemirror_mode": {
        "name": "ipython",
        "version": 3
      },
      "file_extension": ".py",
      "mimetype": "text/x-python",
      "name": "python",
      "nbconvert_exporter": "python",
      "pygments_lexer": "ipython3",
      "version": "3.7.1"
    },
    "colab": {
      "name": "Python A5 (20.10.2019).ipynb",
      "provenance": []
    }
  },
  "cells": [
    {
      "cell_type": "markdown",
      "metadata": {
        "id": "RR_Wl5Y8Ie37"
      },
      "source": [
        "# Функции"
      ]
    },
    {
      "cell_type": "markdown",
      "metadata": {
        "id": "eImO99F0Ie4B"
      },
      "source": [
        "Функцию можно рассматривать как \"запасной\" код, который при запуске загружается в память, но не исполняется.  \n",
        "Выполнение функции происходит после того как к ней обращаются из другой части программы."
      ]
    },
    {
      "cell_type": "markdown",
      "metadata": {
        "id": "62LwoQYHIe4C"
      },
      "source": [
        "### Синтаксис объявления функции:"
      ]
    },
    {
      "cell_type": "code",
      "metadata": {
        "id": "xLo8WoX5Ie4E"
      },
      "source": [
        "# Пишем функцию, находящую сумму квадратов двух натуральных чисел, \n",
        "# и определяющую количество знаков в получившемся результате.\n",
        "\n",
        "def sum_squares(a, b):\n",
        "    s_squares = a**2 + b**2\n",
        "    n_digits = len(str(s_squares))\n",
        "    print('локальная а =', a)\n",
        "    print(test)\n",
        "    return s_squares, n_digits"
      ],
      "execution_count": null,
      "outputs": []
    },
    {
      "cell_type": "markdown",
      "metadata": {
        "id": "KGIgI98mIe4F"
      },
      "source": [
        "### Синтаксис вызова функции:"
      ]
    },
    {
      "cell_type": "code",
      "metadata": {
        "id": "zJZsLTSWIe4H",
        "outputId": "c025ef53-4638-4107-d2f0-4403cb0e5dfa"
      },
      "source": [
        "# Вызываем функцию для двух конкретных чисел:\n",
        "res1, res2 = sum_squares(25, 10)\n",
        "print('Сумма квадратов чисел 25 и 10 равна {}, количество цифр в числе - {}'.format(res1, res2))"
      ],
      "execution_count": null,
      "outputs": [
        {
          "output_type": "stream",
          "text": [
            "Сумма квадратов чисел 25 и 10 равна 725, количество цифр в числе - 3\n"
          ],
          "name": "stdout"
        }
      ]
    },
    {
      "cell_type": "code",
      "metadata": {
        "id": "M3BcabygIe4J",
        "outputId": "8d3c91b3-9613-4cea-c84c-4ab3337e7eb7"
      },
      "source": [
        "# Вызываем функцию для двух чисел, значение которых задаётся с клавиатуры:\n",
        "x = int(input('x = '))\n",
        "y = int(input('y = '))\n",
        "res1, res2 = sum_squares(x, y)\n",
        "print('Сумма квадратов чисел {} и {} равна {}, количество цифр в числе - {}'.format(x, y, res1, res2))"
      ],
      "execution_count": null,
      "outputs": [
        {
          "output_type": "stream",
          "text": [
            "x = 34\n",
            "y = 52\n",
            "Сумма квадратов чисел 34 и 52 равна 3860, количество цифр в числе - 4\n"
          ],
          "name": "stdout"
        }
      ]
    },
    {
      "cell_type": "code",
      "metadata": {
        "id": "wg88hO11Ie4L",
        "outputId": "67c4c653-7cea-4f64-8a91-f310076533f6"
      },
      "source": [
        "x = 5\n",
        "y = 25\n",
        "a = 12345\n",
        "test = 'Hello!'\n",
        "res1, res2 = sum_squares(x, y)\n",
        "print('глобальная а =', a)\n",
        "print('Сумма квадратов чисел {} и {} равна {}, количество цифр в числе - {}'.format(x, y, res1, res2))"
      ],
      "execution_count": null,
      "outputs": [
        {
          "output_type": "stream",
          "text": [
            "локальная а = 5\n",
            "Hello!\n",
            "глобальная а = 12345\n",
            "Сумма квадратов чисел 5 и 25 равна 650, количество цифр в числе - 3\n"
          ],
          "name": "stdout"
        }
      ]
    },
    {
      "cell_type": "markdown",
      "metadata": {
        "id": "3KwzguzdIe4M"
      },
      "source": [
        "## Пишем полезную программу :)"
      ]
    },
    {
      "cell_type": "markdown",
      "metadata": {
        "id": "q_RVjJmlIe4N"
      },
      "source": [
        "#### Здание:\n",
        "Посчитать среднее количество пассажиров такси в Нью-Йорке в будние дни и в выходные.  \n",
        "Источник информации для анализа данных: https://www.kaggle.com/c/new-york-city-taxi-fare-prediction/data (работаем с файлом test.csv)  \n",
        "Файл на Яндекс диске: https://yadi.sk/i/BEC-ZCgrx2r28A"
      ]
    },
    {
      "cell_type": "code",
      "metadata": {
        "id": "HCnlVDg-Ie4O",
        "outputId": "a4b0cdd0-8ce7-4e87-b2ca-6b4a2a71725e"
      },
      "source": [
        "# Смотрим на данные\n",
        "with open ('test_taxi.csv') as f:\n",
        "    counter = 0\n",
        "    for line in f:\n",
        "        counter += 1\n",
        "        print(line)\n",
        "        if counter == 5: break"
      ],
      "execution_count": null,
      "outputs": [
        {
          "output_type": "stream",
          "text": [
            "key,pickup_datetime,pickup_longitude,pickup_latitude,dropoff_longitude,dropoff_latitude,passenger_count\n",
            "\n",
            "2015-01-27 13:08:24.0000002,2015-01-27 13:08:24 UTC,-73.973320007324219,40.7638053894043,-73.981430053710938,40.74383544921875,1\n",
            "\n",
            "2015-01-27 13:08:24.0000003,2015-01-27 13:08:24 UTC,-73.986862182617188,40.719383239746094,-73.998886108398438,40.739200592041016,1\n",
            "\n",
            "2011-10-08 11:53:44.0000002,2011-10-08 11:53:44 UTC,-73.982524,40.75126,-73.979654,40.746139,1\n",
            "\n",
            "2012-12-01 21:12:12.0000002,2012-12-01 21:12:12 UTC,-73.98116,40.767807,-73.990448,40.751635,1\n",
            "\n"
          ],
          "name": "stdout"
        }
      ]
    },
    {
      "cell_type": "code",
      "metadata": {
        "id": "fLWiM819Ie4P"
      },
      "source": [
        "from datetime import datetime"
      ],
      "execution_count": null,
      "outputs": []
    },
    {
      "cell_type": "code",
      "metadata": {
        "id": "XJ_eM_GvIe4Q"
      },
      "source": [
        "# Пишем функцию, определяющую по дате, является ли день выходным или будним\n",
        "def detect_weekend(date_str):\n",
        "    date = datetime.strptime(date_str, \"%Y-%m-%d %H:%M:%S %Z\")\n",
        "    if date.weekday() >= 5:\n",
        "        return 'weekend'\n",
        "    return 'weekday'"
      ],
      "execution_count": null,
      "outputs": []
    },
    {
      "cell_type": "code",
      "metadata": {
        "id": "uSjZb-2gIe4R",
        "outputId": "70a8c683-818a-4cb0-c518-03bc0569fa24"
      },
      "source": [
        "# Проверим, как работает функция \n",
        "with open ('test_taxi.csv') as f:\n",
        "    counter = 0\n",
        "    started = True\n",
        "    for line in f:\n",
        "        if started == True:\n",
        "            started = False\n",
        "            continue\n",
        "        counter += 1 \n",
        "        date = line.split(',')[1]\n",
        "        print(date, detect_weekend(date))\n",
        "        if counter > 5:\n",
        "            break"
      ],
      "execution_count": null,
      "outputs": [
        {
          "output_type": "stream",
          "text": [
            "2015-01-27 13:08:24 UTC weekday\n",
            "2015-01-27 13:08:24 UTC weekday\n",
            "2011-10-08 11:53:44 UTC weekend\n",
            "2012-12-01 21:12:12 UTC weekend\n",
            "2012-12-01 21:12:12 UTC weekend\n",
            "2012-12-01 21:12:12 UTC weekend\n"
          ],
          "name": "stdout"
        }
      ]
    },
    {
      "cell_type": "code",
      "metadata": {
        "id": "sgIFAJThIe4S"
      },
      "source": [
        "# Соберём из файла информацию отдельно о поездках в будние дни и выходные\n",
        "# ВАЖНО! В коде необходимо выполнить дополнительную обработку данных о количестве пассажиров!\n",
        "rides = {'weekday': [], 'weekend': []}\n",
        "with open ('test_taxi.csv') as f:\n",
        "    next(f)\n",
        "    for line in f:\n",
        "        date = line.split(',')[1]\n",
        "        day_of_week = detect_weekend(date)\n",
        "        pass_count = int(line.split(',')[6].strip())\n",
        "        rides[day_of_week].append(pass_count)"
      ],
      "execution_count": null,
      "outputs": []
    },
    {
      "cell_type": "code",
      "metadata": {
        "id": "cnS6Ys66Ie4T",
        "outputId": "b2882d1e-3c35-429e-f1b0-823ddfd3d967"
      },
      "source": [
        "print('Выходные:', sum(rides['weekend'])/len(rides['weekend']))\n",
        "print('Будни:', sum(rides['weekday'])/len(rides['weekday']))"
      ],
      "execution_count": null,
      "outputs": [
        {
          "output_type": "stream",
          "text": [
            "Выходные: 1.7044864664441972\n",
            "Будни: 1.6588610225855618\n"
          ],
          "name": "stdout"
        }
      ]
    },
    {
      "cell_type": "markdown",
      "metadata": {
        "id": "tj9G-S_pIe4U"
      },
      "source": [
        "#### *Вариант 2:\n",
        "Дополните код функции необязательным параметром specific, с помощью которого можно вести учет количества пассажиров по дням недели. Пусть по умолчанию specific = False."
      ]
    },
    {
      "cell_type": "code",
      "metadata": {
        "id": "pCs9rkfHIe4U"
      },
      "source": [
        "def detect_weekend(date_str, specific = False):\n",
        "    date = datetime.strptime(date_str, \"%Y-%m-%d %H:%M:%S %Z\")\n",
        "    if specific == False:\n",
        "        if date.weekday() >= 5:\n",
        "            return 'Выходной'\n",
        "        return 'Будний'\n",
        "    week = 'Понедельник Вторник Среда Четверг Пятница Суббота Воскресенье'.split()\n",
        "    return week[date.weekday()]"
      ],
      "execution_count": null,
      "outputs": []
    },
    {
      "cell_type": "code",
      "metadata": {
        "id": "7q8tCtH4Ie4V"
      },
      "source": [
        "rides = {}\n",
        "with open('test_taxi.csv') as f:\n",
        "    next(f)\n",
        "    for line in f:\n",
        "        date = line.split(',')[1]\n",
        "        day_of_week = detect_weekend(date, specific = True)\n",
        "        rides.setdefault(day_of_week, [])\n",
        "        pass_count = int(line.split(',')[6].strip())\n",
        "        rides[day_of_week].append(pass_count)"
      ],
      "execution_count": null,
      "outputs": []
    },
    {
      "cell_type": "code",
      "metadata": {
        "id": "XAGKzHAtIe4W",
        "outputId": "a9d119f3-9a27-4d5c-bd9a-7a32334bae0b"
      },
      "source": [
        "# Считаем результаты и выводим их на экран\n",
        "for day, passengers in rides.items():\n",
        "    print('День недели: {}, пассажиров: {}'.format(day, sum(passengers)/len(passengers)))"
      ],
      "execution_count": null,
      "outputs": [
        {
          "output_type": "stream",
          "text": [
            "День недели: Будний, пассажиров: 1.6588610225855618\n",
            "День недели: Выходной, пассажиров: 1.7044864664441972\n"
          ],
          "name": "stdout"
        }
      ]
    },
    {
      "cell_type": "markdown",
      "metadata": {
        "id": "R3izf1z7Ie4X"
      },
      "source": [
        "## Lambda-функции"
      ]
    },
    {
      "cell_type": "markdown",
      "metadata": {
        "id": "wfILgh0vIe4Y"
      },
      "source": [
        "#### Общий синтаксис"
      ]
    },
    {
      "cell_type": "code",
      "metadata": {
        "id": "YCPSXhfzIe4Y"
      },
      "source": [
        "# Пишем функцию sqrt, которая возвращает квадратный корень числа\n",
        "sqrt = lambda x: (x**0.5, x**2)"
      ],
      "execution_count": null,
      "outputs": []
    },
    {
      "cell_type": "code",
      "metadata": {
        "id": "lIcuEyY4Ie4Z",
        "outputId": "6d04b955-e4c9-4de8-c20b-2ebf1b2a58c1"
      },
      "source": [
        "sqrt(4)"
      ],
      "execution_count": null,
      "outputs": [
        {
          "output_type": "execute_result",
          "data": {
            "text/plain": [
              "(2.0, 16)"
            ]
          },
          "metadata": {
            "tags": []
          },
          "execution_count": 42
        }
      ]
    },
    {
      "cell_type": "code",
      "metadata": {
        "id": "PPLydaJpIe4a"
      },
      "source": [
        "hi = lambda: 'hi'"
      ],
      "execution_count": null,
      "outputs": []
    },
    {
      "cell_type": "code",
      "metadata": {
        "id": "nq5NMdxfIe4a",
        "outputId": "1ce54b80-4542-4d49-94b2-91b2090b9d15"
      },
      "source": [
        "hi()"
      ],
      "execution_count": null,
      "outputs": [
        {
          "output_type": "execute_result",
          "data": {
            "text/plain": [
              "'hi'"
            ]
          },
          "metadata": {
            "tags": []
          },
          "execution_count": 40
        }
      ]
    },
    {
      "cell_type": "markdown",
      "metadata": {
        "id": "TzvqwFDmIe4b"
      },
      "source": [
        "#### map + lambda\n",
        "Пишем программу, которая создает список, содержащий квадраты натуральных чисел от 1 до 9"
      ]
    },
    {
      "cell_type": "code",
      "metadata": {
        "id": "QD2Nt_16Ie4b",
        "outputId": "72ef211b-96f6-429d-b8e2-bc52478d8005"
      },
      "source": [
        "# Традиционным способом\n",
        "my_list = []\n",
        "for i in range(1,10):\n",
        "    my_list.append(i**2)\n",
        "my_list"
      ],
      "execution_count": null,
      "outputs": [
        {
          "output_type": "execute_result",
          "data": {
            "text/plain": [
              "[1, 4, 9, 16, 25, 36, 49, 64, 81]"
            ]
          },
          "metadata": {
            "tags": []
          },
          "execution_count": 43
        }
      ]
    },
    {
      "cell_type": "code",
      "metadata": {
        "id": "WBcpgWpHIe4c",
        "outputId": "a2d85480-a2cb-4d93-c703-5a28ca02aefa"
      },
      "source": [
        "# С помощью map+lambda\n",
        "list(map(lambda x: x**2, range(1,10)))"
      ],
      "execution_count": null,
      "outputs": [
        {
          "output_type": "execute_result",
          "data": {
            "text/plain": [
              "[1, 4, 9, 16, 25, 36, 49, 64, 81]"
            ]
          },
          "metadata": {
            "tags": []
          },
          "execution_count": 44
        }
      ]
    },
    {
      "cell_type": "code",
      "metadata": {
        "id": "Fh5E68x7Ie4d",
        "outputId": "3b495138-769f-437d-9e6d-fc3f26010099"
      },
      "source": [
        "list(map(int, ['22', 2.5, 1.555]))"
      ],
      "execution_count": null,
      "outputs": [
        {
          "output_type": "execute_result",
          "data": {
            "text/plain": [
              "[22, 2, 1]"
            ]
          },
          "metadata": {
            "tags": []
          },
          "execution_count": 45
        }
      ]
    },
    {
      "cell_type": "code",
      "metadata": {
        "id": "CzRkV46VIe4e"
      },
      "source": [
        ""
      ],
      "execution_count": null,
      "outputs": []
    }
  ]
}