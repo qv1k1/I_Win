{
  "nbformat": 4,
  "nbformat_minor": 0,
  "metadata": {
    "kernelspec": {
      "display_name": "Python 3",
      "language": "python",
      "name": "python3"
    },
    "language_info": {
      "codemirror_mode": {
        "name": "ipython",
        "version": 3
      },
      "file_extension": ".py",
      "mimetype": "text/x-python",
      "name": "python",
      "nbconvert_exporter": "python",
      "pygments_lexer": "ipython3",
      "version": "3.7.4"
    },
    "colab": {
      "name": "Введение_в_программирование_циклы.ipynb",
      "provenance": []
    }
  },
  "cells": [
    {
      "cell_type": "markdown",
      "metadata": {
        "id": "E1ZR1FHYMsJh"
      },
      "source": [
        "# Циклы "
      ]
    },
    {
      "cell_type": "markdown",
      "metadata": {
        "id": "JFI9RttgMsJr"
      },
      "source": [
        "http://pythontutor.com/visualize.html#mode=edit\n",
        "\n",
        "Визуализатор для этого урока. Он может очень сильно помочь на начальном этапе изчения Python, когда вы пишите свои собственные программы, но ещё не понимаете как именно работает ваш код. Самые частые ошибки новичков - это непонимание границ выполнения ключевых этапов работы программы. Порой очень хороший код не будет работать из-за одной маленькой ошибки. "
      ]
    },
    {
      "cell_type": "markdown",
      "metadata": {
        "id": "VihyvrwKMXCo"
      },
      "source": [
        "У нас есть 5 долларов. Мы идем в магазин и начинаем делать в нем покупки, по 1 доллар за каждый товар. Нам нужно как то записать в коде, что после каждой покупки у нас становится на 1 доллар меньше, и предупреждать нас об этом. "
      ]
    },
    {
      "cell_type": "code",
      "metadata": {
        "id": "kOzqj5xOOKUn",
        "colab": {
          "base_uri": "https://localhost:8080/",
          "height": 121
        },
        "outputId": "72cb9289-74b0-4465-cb87-040c48f2cc10"
      },
      "source": [
        "money = 5\n",
        "print (\"Денег осталось: \", money)\n",
        "money = money - 1\n",
        "print (\"Денег осталось: \", money)\n",
        "money = money - 1\n",
        "print (\"Денег осталось: \", money)\n",
        "money = money - 1\n",
        "print (\"Денег осталось: \", money)\n",
        "money = money - 1\n",
        "print (\"Денег осталось: \", money)\n",
        "money = money - 1\n",
        "print (\"Денег осталось: \", money)\n",
        "\n"
      ],
      "execution_count": null,
      "outputs": [
        {
          "output_type": "stream",
          "text": [
            "Денег осталось:  5\n",
            "Денег осталось:  4\n",
            "Денег осталось:  3\n",
            "Денег осталось:  2\n",
            "Денег осталось:  1\n",
            "Денег осталось:  0\n"
          ],
          "name": "stdout"
        }
      ]
    },
    {
      "cell_type": "markdown",
      "metadata": {
        "id": "TO6qJiIUPdTy"
      },
      "source": [
        "Уже довольно неудобно, не находите? А что если бы у нас было не 5 долларов, а 50 или 50 тысяч? Тогда на помощь приходят циклы"
      ]
    },
    {
      "cell_type": "markdown",
      "metadata": {
        "id": "18wrCZeCMsJl"
      },
      "source": [
        "**Цикл** - это управляющая конструкция (другая управляющая конструкция: - это if/else), которая реализует возможность последовательного перебора, повторения или выполнения каких-либо однотипных действий\n",
        "\n",
        "Цикл нужен нам в тех ситуациях, когда мы хотим применить одно и то же действие много раз\n",
        "\n",
        "Циклы в python делятся на два вида: while и for. \n",
        "\n"
      ]
    },
    {
      "cell_type": "markdown",
      "metadata": {
        "id": "gOerjvEAMsJp"
      },
      "source": [
        "Цикл while - переводится как \"пока\" или если точнее \"до тех пор пока\". Этот цикл работает до тех пор, пока условие цикла истинно. \n"
      ]
    },
    {
      "cell_type": "code",
      "metadata": {
        "scrolled": false,
        "id": "niZlbfI5MsJt"
      },
      "source": [
        "money = 5 # создаем переменную money и присваиваем ей значение 5\n",
        "while money >= 0: # Запускаем цикл\n",
        "  print (\"Денег осталось: \", money) #Мы внутри цикла. Печатаем сообщение\n",
        "  money = money + 1 # Все еще внутри цикла. Уменьшаем на один переменную money\n",
        "  if money == 10000:\n",
        "    break\n",
        "\n",
        "\n",
        "print (\"Денег больше нет\") # Мы вне цикла. Печатаем сообщение\n",
        "\n"
      ],
      "execution_count": null,
      "outputs": []
    },
    {
      "cell_type": "code",
      "metadata": {
        "id": "xgKBWFgt62X0",
        "colab": {
          "base_uri": "https://localhost:8080/",
          "height": 34
        },
        "outputId": "a3d55a93-2464-4fa1-8ef3-c088aa6ab8d2"
      },
      "source": [
        "hello = 'Hello world'\n",
        "'a' in hello"
      ],
      "execution_count": null,
      "outputs": [
        {
          "output_type": "execute_result",
          "data": {
            "text/plain": [
              "False"
            ]
          },
          "metadata": {
            "tags": []
          },
          "execution_count": 19
        }
      ]
    },
    {
      "cell_type": "markdown",
      "metadata": {
        "id": "E4soLNpsRpme"
      },
      "source": [
        "Сначала создаем нашу переменную-счетчик и устанавливаем значение 10\n",
        "\n",
        "Создаем условие цикла **while**: пока долларов больше 0, выводим их количество\n",
        "\n",
        "Каждый шаг цикла, каждая итерация означает вычитание единицы из переменной **money**. "
      ]
    },
    {
      "cell_type": "markdown",
      "metadata": {
        "id": "xwESxLhxMsKM"
      },
      "source": [
        "\n",
        "\n",
        "\n",
        "Шаг не обязан быть единицей, шаг не обязан быть целым числом.\n",
        "\n",
        "Если шаг будет со знаком плюс в этом примере, то мы попадем в вечный цикл и программу нужно будет остановить вручную. \n"
      ]
    },
    {
      "cell_type": "markdown",
      "metadata": {
        "id": "lNMpONK-P-MT"
      },
      "source": [
        "Чтобы отточить ваши навыки, давайте напишем код, который будет следить за грузом в нашем рюкзаке. Представим, что мы хотим положить туда множество своих вещей, но у нашего рюкзака грузоподъемность всего 7кг. Каждая наша вещь весит 1 кг. Когда рюкзак заполнится, мы должны получить сообщение \"Рюкзак заполнен\" и его вес"
      ]
    },
    {
      "cell_type": "code",
      "metadata": {
        "id": "7wKB41vfdQNV",
        "colab": {
          "base_uri": "https://localhost:8080/"
        },
        "outputId": "0ac4a663-2c01-4539-902e-798f074d3534"
      },
      "source": [
        "backpack_capacity = 7 \n",
        "item_weigth = 1\n",
        "current_weight = 0\n",
        "\n",
        "#while current_weight \n",
        "\n",
        "print(\"Рюкзак заполнен\", current_weight)\n",
        "\n",
        "\n",
        "\n"
      ],
      "execution_count": 1,
      "outputs": [
        {
          "output_type": "stream",
          "text": [
            "Рюкзак заполнен 0\n"
          ],
          "name": "stdout"
        }
      ]
    },
    {
      "cell_type": "markdown",
      "metadata": {
        "id": "pz49SMgITvz_"
      },
      "source": [
        "Ещё у нас есть короткая запись кода увеличения и уменьшения переменной\n",
        "\n",
        " `money = money + 1`\n",
        "\n",
        " Эквивалентно \n",
        "\n",
        " `money += 1`\n",
        "\n",
        " То же самое и с другими знаками\n",
        "\n",
        "\n",
        "\n"
      ]
    },
    {
      "cell_type": "code",
      "metadata": {
        "id": "ECCKkyIBTvOJ",
        "colab": {
          "base_uri": "https://localhost:8080/",
          "height": 121
        },
        "outputId": "a37c6dac-de78-48ca-e964-5243d82c8d71"
      },
      "source": [
        "money = 5 # создаем переменную money и присваиваем ей значение 10\n",
        "while money > 0: # Запускаем цикл\n",
        "    print (\"Денег осталось: \", money) #Мы внутри цикла. Печатаем сообщение\n",
        "    money -= 1 # Все еще внутри цикла. Уменьшаем на один переменную money\n",
        "print (\"Денег больше нет\") # Мы вне цикла. Печатаем сообщение"
      ],
      "execution_count": null,
      "outputs": [
        {
          "output_type": "stream",
          "text": [
            "Денег осталось:  5\n",
            "Денег осталось:  4\n",
            "Денег осталось:  3\n",
            "Денег осталось:  2\n",
            "Денег осталось:  1\n",
            "Денег больше нет\n"
          ],
          "name": "stdout"
        }
      ]
    },
    {
      "cell_type": "code",
      "metadata": {
        "id": "rYQii7u17gO7",
        "colab": {
          "base_uri": "https://localhost:8080/",
          "height": 156
        },
        "outputId": "8d9f9cf9-a3c6-4c0a-c7cd-5ae4f0e54fc0"
      },
      "source": [
        "name = ''\n",
        "while  name != 'ваше имя':\n",
        "  print('Пожалуйста введите ваше имя')\n",
        "  name = input()"
      ],
      "execution_count": null,
      "outputs": [
        {
          "output_type": "stream",
          "text": [
            "Пожалуйста введите ваше имя\n",
            "Саша\n",
            "Пожалуйста введите ваше имя\n",
            "Олег\n",
            "Пожалуйста введите ваше имя\n",
            "ваше имя \n",
            "Пожалуйста введите ваше имя\n",
            "ваше имя\n"
          ],
          "name": "stdout"
        }
      ]
    },
    {
      "cell_type": "markdown",
      "metadata": {
        "id": "696A3dURMsKY"
      },
      "source": [
        "Цикл while работает не только с арифметическими операциями. Помните определение? Цикл работает **до тех пор, пока условие истинно**\n",
        "\n",
        "А это значит что в условии цикла может быть любое выражение результатом которого является True или False, Истина или Ложь."
      ]
    },
    {
      "cell_type": "code",
      "metadata": {
        "id": "cexcH1rqTN2E",
        "colab": {
          "base_uri": "https://localhost:8080/",
          "height": 139
        },
        "outputId": "ff1b0749-bb52-4d71-b8a4-6294fb824553"
      },
      "source": [
        "number = 0\n",
        "name = ''\n",
        "while number < 3 and name != 'ваше имя':\n",
        "  print('Пожалуйста введите ваше имя')\n",
        "  name = input()\n",
        "  number += 1\n",
        "\n",
        "\n",
        "if name == 'ваше имя':\n",
        "  print('Спасибо!')\n",
        "\n",
        "else:\n",
        "  print('Попытки исчерпаны')"
      ],
      "execution_count": null,
      "outputs": [
        {
          "output_type": "stream",
          "text": [
            "Пожалуйста введите ваше имя\n",
            "орп\n",
            "Пожалуйста введите ваше имя\n",
            "орпоа\n",
            "Пожалуйста введите ваше имя\n",
            "ьлл\n",
            "Попытки исчерпаны\n"
          ],
          "name": "stdout"
        }
      ]
    },
    {
      "cell_type": "markdown",
      "metadata": {
        "id": "mTox4sr2MsKs"
      },
      "source": [
        "## Цикл **for**.\n",
        "#### Идеально подходит когда вы точно знаете длину объекта с которым вы работаете\n",
        "\n",
        "\n",
        "Отлично подходит для перебора коллекций данных, массивов, списков и строк"
      ]
    },
    {
      "cell_type": "code",
      "metadata": {
        "id": "UxcqlvzQ82PX",
        "colab": {
          "base_uri": "https://localhost:8080/",
          "height": 35
        },
        "outputId": "2a738e89-218c-4cfc-f6f4-a5cbfc35039d"
      },
      "source": [
        "'Привет'[]"
      ],
      "execution_count": null,
      "outputs": [
        {
          "output_type": "execute_result",
          "data": {
            "application/vnd.google.colaboratory.intrinsic+json": {
              "type": "string"
            },
            "text/plain": [
              "'т'"
            ]
          },
          "metadata": {
            "tags": []
          },
          "execution_count": 27
        }
      ]
    },
    {
      "cell_type": "code",
      "metadata": {
        "id": "SjXrQUlJMsKu",
        "colab": {
          "base_uri": "https://localhost:8080/",
          "height": 139
        },
        "outputId": "f2763e59-2576-490b-9501-e8e27dd3ab0b"
      },
      "source": [
        "for symbol in 'Привет!':\n",
        "  print(symbol)"
      ],
      "execution_count": null,
      "outputs": [
        {
          "output_type": "stream",
          "text": [
            "П\n",
            "р\n",
            "и\n",
            "в\n",
            "е\n",
            "т\n",
            "!\n"
          ],
          "name": "stdout"
        }
      ]
    },
    {
      "cell_type": "code",
      "metadata": {
        "id": "LK4C4Kr9-vGs",
        "colab": {
          "base_uri": "https://localhost:8080/",
          "height": 34
        },
        "outputId": "fdb2d8ea-5aa3-4259-d3d0-8b5a7be9f281"
      },
      "source": [
        "range(len('Привет!'))"
      ],
      "execution_count": null,
      "outputs": [
        {
          "output_type": "execute_result",
          "data": {
            "text/plain": [
              "range(0, 7)"
            ]
          },
          "metadata": {
            "tags": []
          },
          "execution_count": 37
        }
      ]
    },
    {
      "cell_type": "code",
      "metadata": {
        "id": "MN5Gi-G6ktNH",
        "colab": {
          "base_uri": "https://localhost:8080/",
          "height": 34
        },
        "outputId": "063fb555-cc8b-47f9-d736-884f24a8db02"
      },
      "source": [
        "for symbol in 'Привет!':\n",
        "  print(symbol, end = ' ') "
      ],
      "execution_count": null,
      "outputs": [
        {
          "output_type": "stream",
          "text": [
            "П р и в е т ! "
          ],
          "name": "stdout"
        }
      ]
    },
    {
      "cell_type": "code",
      "metadata": {
        "id": "SXfepH5TQWY3",
        "colab": {
          "base_uri": "https://localhost:8080/",
          "height": 34
        },
        "outputId": "d8a1220b-c2e4-4aa6-d735-c8a845050028"
      },
      "source": [
        "for x in range(len('Привет!')):\n",
        "  print(x, end = '  ')"
      ],
      "execution_count": null,
      "outputs": [
        {
          "output_type": "stream",
          "text": [
            "0  1  2  3  4  5  6  "
          ],
          "name": "stdout"
        }
      ]
    },
    {
      "cell_type": "markdown",
      "metadata": {
        "id": "zCZIEde1QeDD"
      },
      "source": [
        "Range - это диапозон. "
      ]
    },
    {
      "cell_type": "markdown",
      "metadata": {
        "id": "wcNKrxJ4MsNT"
      },
      "source": [
        "Введение в range()\n",
        "\n",
        "Итак, как работает функция Python под названием range?\n",
        "Простыми словами, range() позволяет вам генерировать ряд чисел в рамках заданного диапазона.\n",
        "В зависимости от того, как много аргументов вы передаете функции, вы можете решить, где этот ряд чисел начнется и закончится, а также сможете определить величину хода цикла\n",
        "\n"
      ]
    },
    {
      "cell_type": "markdown",
      "metadata": {
        "id": "lNvezEpOMsNV"
      },
      "source": [
        "Есть три способа вызова range():\n",
        "\n",
        "- range(стоп) берет один аргумент\n",
        "- range(старт, стоп) берет два аргумента\n",
        "- range(старт, стоп, шаг) берет три аргумента"
      ]
    },
    {
      "cell_type": "code",
      "metadata": {
        "id": "MrDyzearMsNV"
      },
      "source": [
        "for i in range(10):\n",
        "    print(i, ' ', end = '')\n",
        "print('\\n *****************************************')\n",
        "for i in range(5,10):\n",
        "    print(i, ' ', end = '')\n",
        "print('\\n *****************************************')\n",
        "for i in range(15, 5, -2):\n",
        "    print(i, ' ', end = '')\n"
      ],
      "execution_count": null,
      "outputs": []
    },
    {
      "cell_type": "markdown",
      "metadata": {
        "id": "cRdK6sDVH1zT"
      },
      "source": [
        "Нахождение числа в строке с помощью цикла **for**\n",
        "\n"
      ]
    },
    {
      "cell_type": "code",
      "metadata": {
        "id": "FoQqQb3OB40-",
        "colab": {
          "base_uri": "https://localhost:8080/",
          "height": 34
        },
        "outputId": "4624ed60-f79f-41ea-a4ac-257ce7309015"
      },
      "source": [
        "#задача на нахождение числа в строке, которую можно решить с помощью цикла\n",
        "# еще эту задачу можно решить с помощью регулярных выражений https://tproger.ru/translations/regular-expression-python/\n",
        "phrase = 'Для приготовления блюда нам потребуется 25,5 килограмм  картофеля'\n",
        "weight = ''\n",
        "\n",
        "for symbol in phrase:\n",
        "    if symbol.isdigit():\n",
        "        weight += symbol\n",
        "    \n",
        "\n",
        "weight = int(weight)\n",
        "print(weight)"
      ],
      "execution_count": null,
      "outputs": [
        {
          "output_type": "stream",
          "text": [
            "255\n"
          ],
          "name": "stdout"
        }
      ]
    },
    {
      "cell_type": "code",
      "metadata": {
        "id": "6jXfn2GKBWE3",
        "colab": {
          "base_uri": "https://localhost:8080/",
          "height": 34
        },
        "outputId": "a7d52ec3-c1b1-496c-ec6d-c949b48e1871"
      },
      "source": [
        "counter_up = 0 \n",
        "counter_low = 0\n",
        "other = 0\n",
        "string = 'Привет, Как Дела?'\n",
        "for letter in string:\n",
        "   if letter.isupper():\n",
        "      counter_up += 1\n",
        "   elif letter.islower():\n",
        "      counter_low +=1\n",
        "   else:\n",
        "     other +=1\n",
        "  \n",
        "print(counter_up, counter_low, other) "
      ],
      "execution_count": null,
      "outputs": [
        {
          "output_type": "stream",
          "text": [
            "3 10 4\n"
          ],
          "name": "stdout"
        }
      ]
    },
    {
      "cell_type": "code",
      "metadata": {
        "id": "Hvc3WYJeB4Zn",
        "colab": {
          "base_uri": "https://localhost:8080/",
          "height": 34
        },
        "outputId": "2b47ea93-208f-4f77-8b31-75df33dcfdd9"
      },
      "source": [
        "'.'.isupper()"
      ],
      "execution_count": null,
      "outputs": [
        {
          "output_type": "execute_result",
          "data": {
            "text/plain": [
              "False"
            ]
          },
          "metadata": {
            "tags": []
          },
          "execution_count": 53
        }
      ]
    },
    {
      "cell_type": "code",
      "metadata": {
        "id": "VjLAxcoEndq3",
        "colab": {
          "base_uri": "https://localhost:8080/",
          "height": 34
        },
        "outputId": "0d2ecda8-7143-4354-d118-6344ecc37012"
      },
      "source": [
        "phrase = 'Для приготвления 25 килограм картофеля' \n",
        "weght = '' \n",
        "for symbol in phrase:\n",
        "   if symbol.isdigit():\n",
        "      weght +=symbol \n",
        "\n",
        "\n",
        "print('Итог', weght)"
      ],
      "execution_count": null,
      "outputs": [
        {
          "output_type": "stream",
          "text": [
            "Итог 25\n"
          ],
          "name": "stdout"
        }
      ]
    },
    {
      "cell_type": "markdown",
      "metadata": {
        "id": "SdfJbhKrB5oc"
      },
      "source": [
        "Нахождение сразу нескольких чисел достигается с помощью вложенных циклов `while`\n",
        "\n",
        "Условие `counter < len(phrase)` позволяет нам устроить перебор по всеей длине строки `phrase`\n",
        "\n",
        "После этого в теле цикла мы прописываем условие\n",
        "Если символ  `phrase[counter]` в строке является числом, мы запускаем второй цикл. Он работает до тех пор пока символ является числом. В этом внутреннем цикле мы записываем символы в переменную weight  и вручную повышаем переменную счетчик `counter`.  После того, как условие становится ложным мы выводим получившееся значение `weight` на экран и обнуляем переменную `weight`. Если мы её не обнулим, то запись продолжится и в нашем примере моркови будет **5010** вместо **10**.  После этого в теле первого цикла while мы увеличиваем переменную `counter` на 1, чтобы наш главный цикл продолжал свою работу и искал следующие числа. Идея алгоритма была предложена студентом **OlgaR**\n",
        "\n"
      ]
    },
    {
      "cell_type": "code",
      "metadata": {
        "id": "seA_YRLCMsK0",
        "colab": {
          "base_uri": "https://localhost:8080/",
          "height": 52
        },
        "outputId": "20756726-59bd-4f0a-ef30-a497c0017aaf"
      },
      "source": [
        "# задача на нахождение числа в строке, которую можно решить с помощью цикла\n",
        "# еще эту задачу можно решить с помощью регулярных выражений https://tproger.ru/translations/regular-expression-python/\n",
        "phrase = 'Для приготовления блюда нам потребуется 50,5 килограмм  картофеля и 10 кг моркови'\n",
        "weight = ''\n",
        "counter = 0\n",
        "\n",
        "while counter < len(phrase):\n",
        "  if phrase[counter].isdigit():\n",
        "    while phrase[counter].isdigit() or phrase[counter] == ',':\n",
        "      weight += phrase[counter]\n",
        "      counter +=1\n",
        "    weight = weight.replace(',', '.')\n",
        "    print(f'Масса ингридиента: {weight} ')\n",
        "    weight = ''\n",
        "\n",
        "\n",
        "  counter +=1\n",
        "\n",
        "\n",
        "\n",
        "\n",
        "\n",
        "\n",
        "\n"
      ],
      "execution_count": null,
      "outputs": [
        {
          "output_type": "stream",
          "text": [
            "Масса ингридиента: 50.5 \n",
            "Масса ингридиента: 10 \n"
          ],
          "name": "stdout"
        }
      ]
    },
    {
      "cell_type": "markdown",
      "metadata": {
        "id": "B8UnBPfOMsLb"
      },
      "source": [
        "## Операторы **break** и **continue** (когда нужно больше контроля) \n",
        "\n",
        "Оператор **continue** начинает следующий проход цикла, минуя оставшееся тело цикла (for или while)"
      ]
    },
    {
      "cell_type": "code",
      "metadata": {
        "id": "WL6_3iCJMsLe",
        "colab": {
          "base_uri": "https://localhost:8080/",
          "height": 34
        },
        "outputId": "09c501c2-98f8-4d38-f733-d7a1c976a128"
      },
      "source": [
        "for symbol in 'hello world':\n",
        "    if symbol == 'o':\n",
        "      continue\n",
        "    print(symbol, end = '')\n",
        "\n",
        "\n"
      ],
      "execution_count": null,
      "outputs": [
        {
          "output_type": "stream",
          "text": [
            "hell wrld"
          ],
          "name": "stdout"
        }
      ]
    },
    {
      "cell_type": "markdown",
      "metadata": {
        "id": "ZLm5t1vOMsLs"
      },
      "source": [
        "Оператор **break** прерывает  досрочно цикл"
      ]
    },
    {
      "cell_type": "code",
      "metadata": {
        "id": "PjqMiPxyMsLu",
        "colab": {
          "base_uri": "https://localhost:8080/",
          "height": 34
        },
        "outputId": "8448c40d-a9bd-4402-de4a-1dfc39845e06"
      },
      "source": [
        "for symbol in 'hello world':\n",
        "    if symbol == ' ':\n",
        "        break\n",
        "    print(symbol, end='')\n",
        "\n"
      ],
      "execution_count": null,
      "outputs": [
        {
          "output_type": "stream",
          "text": [
            "hello"
          ],
          "name": "stdout"
        }
      ]
    },
    {
      "cell_type": "code",
      "metadata": {
        "id": "jmXPXHKwMsMQ",
        "outputId": "9ae6ccc7-5a10-4a53-839e-484729d8d38b"
      },
      "source": [
        "a = list('список')\n"
      ],
      "execution_count": null,
      "outputs": [
        {
          "output_type": "execute_result",
          "data": {
            "text/plain": [
              "'к'"
            ]
          },
          "metadata": {
            "tags": []
          },
          "execution_count": 12
        }
      ]
    },
    {
      "cell_type": "code",
      "metadata": {
        "id": "9rtPxE_uMsMW",
        "colab": {
          "base_uri": "https://localhost:8080/",
          "height": 34
        },
        "outputId": "a37e302d-f146-41ed-8d85-9290acdd1d22"
      },
      "source": [
        "spisok = [1, 2, 3, 4]\n",
        "spisok[0]"
      ],
      "execution_count": null,
      "outputs": [
        {
          "output_type": "execute_result",
          "data": {
            "text/plain": [
              "1"
            ]
          },
          "metadata": {
            "tags": []
          },
          "execution_count": 61
        }
      ]
    },
    {
      "cell_type": "markdown",
      "metadata": {
        "id": "W2A8pyl4MsMc"
      },
      "source": [
        "Но чаще нам нужно просто создать пустой список, чтобы потом в ходе программы наполнять его значениями\n"
      ]
    },
    {
      "cell_type": "markdown",
      "metadata": {
        "id": "m8_o6niTMsMf"
      },
      "source": [
        "Цикл *for* во всей красе раскрывает себя при работе со списками\n",
        "\n",
        "**Списки** в Python - упорядоченные изменяемые коллекции объектов произвольных типов (почти как массив, но типы могут отличаться). \n",
        "\n",
        "Чтобы использовать списки, их нужно создать. Создать список можно несколькими способами. Например, можно обработать любой итерируемый объект (например, строку) встроенной функцией list:"
      ]
    },
    {
      "cell_type": "markdown",
      "metadata": {
        "id": "TLquWUkXMsMg"
      },
      "source": [
        "Как только мы начинаем выходить за рамки написания простейших программ у нас возниает потребность в хранении коллекций или наборов данных. Для этого в языке Python предусмотрены 2 очень мощных по своим возможностям типа данных: списки и словари.\n",
        "\n",
        "Список в Python — это упорядоченная изменяемая коллекция объектов произвольных типов.\n",
        "\n",
        "В этом определении важна каждое слово. Мы будем к нему возвращаться по мере иллюстрации возможностей и свойств списков.\n",
        "\n",
        "    Когда мы называем список коллекцией, мы имеем в виду, что в одном списке может храниться множество объектов (например, чисел или строковых величин)\n",
        "\n",
        "    Говоря о том, что списки представляют собой упорядоченные коллекции, мы обращаем внимание на то, что каждый элемент в списке имеет свой порядковый номер.\n",
        "\n",
        "    Упоминание об изменяемости списков означает, что в процессе исполнения кода можно изменять состав элементов списка и последовательность их расположения.\n",
        "\n",
        "    Выражение «произвольных типов» означает, что в списке могут храниться данные, относящиеся к любым типам из тех, с которыми работает Python. То есть это могут быть также другие списки и словари\n",
        "\n"
      ]
    },
    {
      "cell_type": "code",
      "metadata": {
        "id": "HGGvBWdUMsMu",
        "colab": {
          "base_uri": "https://localhost:8080/",
          "height": 243
        },
        "outputId": "9d0228d5-db9a-4d12-f03a-0227651fb126"
      },
      "source": [
        "containers = [1, 5, 76, 12, 123, 333, 5, 6,7, 50, 13, 65]\n",
        "max_weight = 200\n",
        "sum_weight = 0\n",
        "\n",
        "for gruz in containers:\n",
        "#     new = 'Груз весит ' + str(i) +  ' килограмм'\n",
        "    if gruz<100:\n",
        "        print(f'Груз весит {gruz} килограмм')\n",
        "        sum_weight += gruz\n",
        "        \n",
        "    else:\n",
        "        print(f'Груз слишком большой: {gruz} килограмм')\n",
        "        continue\n",
        "    \n",
        "    if sum_weight > max_weight:\n",
        "      break\n",
        "\n",
        "print(sum_weight)\n",
        "\n",
        "\n",
        "\n",
        "        \n"
      ],
      "execution_count": null,
      "outputs": [
        {
          "output_type": "stream",
          "text": [
            "Груз весит 1 килограмм\n",
            "Груз весит 5 килограмм\n",
            "Груз весит 76 килограмм\n",
            "Груз весит 12 килограмм\n",
            "Груз слишком большой: 123 килограмм\n",
            "Груз слишком большой: 333 килограмм\n",
            "Груз весит 5 килограмм\n",
            "Груз весит 6 килограмм\n",
            "Груз весит 7 килограмм\n",
            "Груз весит 50 килограмм\n",
            "Груз весит 13 килограмм\n",
            "Груз весит 65 килограмм\n",
            "240\n"
          ],
          "name": "stdout"
        }
      ]
    },
    {
      "cell_type": "code",
      "metadata": {
        "id": "OPBLLEB6GCnx",
        "colab": {
          "base_uri": "https://localhost:8080/",
          "height": 260
        },
        "outputId": "dd47c676-7726-4c16-d1e9-d15a9764225c"
      },
      "source": [
        "containers = [1, 5, 76, 12, 123, 333, 5, 6,7, 50, 13, 65, 15]\n",
        "max_weight = 200 \n",
        "sum_weight = 0 \n",
        " # new = 'Груз весит ' + str(i) + ' килограмм' \n",
        "for gruz in containers:\n",
        "  if gruz<100:\n",
        "    print(f'Груз весит {gruz} килограмм') \n",
        "    sum_weight += gruz\n",
        "  else: \n",
        "    print(f'Груз слишком большой: {gruz} килограмм') \n",
        "    continue \n",
        "  if sum_weight > max_weight: \n",
        "    sum_weight -= gruz\n",
        "    continue \n",
        "\n",
        "print(f'Масса всего {sum_weight}') "
      ],
      "execution_count": null,
      "outputs": [
        {
          "output_type": "stream",
          "text": [
            "Груз весит 1 килограмм\n",
            "Груз весит 5 килограмм\n",
            "Груз весит 76 килограмм\n",
            "Груз весит 12 килограмм\n",
            "Груз слишком большой: 123 килограмм\n",
            "Груз слишком большой: 333 килограмм\n",
            "Груз весит 5 килограмм\n",
            "Груз весит 6 килограмм\n",
            "Груз весит 7 килограмм\n",
            "Груз весит 50 килограмм\n",
            "Груз весит 13 килограмм\n",
            "Груз весит 65 килограмм\n",
            "Груз весит 15 килограмм\n",
            "Масса всего 190\n"
          ],
          "name": "stdout"
        }
      ]
    },
    {
      "cell_type": "markdown",
      "metadata": {
        "id": "SrS5_U0fMsNm"
      },
      "source": [
        "### Кейс для циклов  №1\n",
        "\n",
        "Это симуляция реальных практических примеров, когда циклы могут упростить вашу жизнь в разы\n",
        "\n",
        "Сложить все текстовые файлы в один большой файл. Предположим у нас на компьютере есть три текстовых файла, а мы хотим создать из них один, который мы отправим по электронной почте своему коллеге. Три - это еще легко, проще сделать все руками, но их могло бы быть и 100 и 1000. В общем, посмотрим как работает чтение и запись файлов на питоне и проиллюстрируем силу циклов. \n"
      ]
    },
    {
      "cell_type": "code",
      "metadata": {
        "id": "PzDwezI9MsNo"
      },
      "source": [
        "import os\n",
        "filenames = ['1раз.txt', '2два.txt', '3три.txt'] #для индексации\n",
        "data = ['раз', 'два', 'три']\n",
        "\n",
        "def write_files(filenames, data):\n",
        "    if len(filenames) == len(data):\n",
        "        for i in range(len(filenames)):\n",
        "            with open(filenames[i], 'w') as f:\n",
        "                f.write(data[i])\n",
        "\n",
        "    \n",
        "def check_files(filenames):\n",
        "    #этот код для меня, он проверяет все ли записалось как надо\n",
        "    if set(filenames).issubset(set(os.listdir())):\n",
        "        return sum([os.path.getsize(x) for x in filenames])\n",
        "    else:\n",
        "        return 0\n",
        "\n",
        "\n",
        "\n",
        "    \n",
        "write_files(filenames, data)"
      ],
      "execution_count": null,
      "outputs": []
    },
    {
      "cell_type": "code",
      "metadata": {
        "id": "--kcG0D6MsNs"
      },
      "source": [
        "result_file = 'result.txt'\n",
        "with open(result_file, 'w') as result:\n",
        "    for i in os.listdir():\n",
        "        if i.endswith('.txt'):\n",
        "            with open(i) as f:\n",
        "                result.write(f.read() + ' ')\n",
        "                \n"
      ],
      "execution_count": null,
      "outputs": []
    },
    {
      "cell_type": "code",
      "metadata": {
        "id": "INvCzHSZMsNx"
      },
      "source": [
        "import os\n",
        "os.listdir()"
      ],
      "execution_count": null,
      "outputs": []
    },
    {
      "cell_type": "code",
      "metadata": {
        "id": "mO5QdoH_MsN2"
      },
      "source": [
        "print(os.listdir())"
      ],
      "execution_count": null,
      "outputs": []
    },
    {
      "cell_type": "code",
      "metadata": {
        "id": "qpQh6DnSMsN6"
      },
      "source": [
        "with open('result.txt', 'r') as f:\n",
        "    print(f.read())"
      ],
      "execution_count": null,
      "outputs": []
    },
    {
      "cell_type": "markdown",
      "metadata": {
        "id": "7NVxYKi_MsN-"
      },
      "source": [
        "### Кейс для циклов 2\n",
        "\n",
        "Сложение экселевских таблиц\n",
        "\n",
        "То же самое можно провернуть и с таблицами. Предположим, вы хотите создать одну большую таблицу из 3 маленьких\n",
        "\n",
        " "
      ]
    },
    {
      "cell_type": "code",
      "metadata": {
        "id": "mD86BeJcMsN-",
        "outputId": "fcbe3226-b0b0-4156-9d8f-ebdc2d02f489"
      },
      "source": [
        "import pandas as pd\n",
        "import os\n",
        "\n",
        "big_df = pd.DataFrame()\n",
        "for i in os.listdir():\n",
        "    if i.endswith('.xlsx'): # чтобы этот код сработал, у вас должны быть файлы разрешения .xlsx в рабочей папке\n",
        "        df = pd.read_excel(i, index_col=0)\n",
        "        print(len(df))\n",
        "        big_df = big_df.append(df)\n",
        "        \n",
        "print(len(big_df))\n",
        "\n",
        "big_df.to_excel('result.xlsx')\n"
      ],
      "execution_count": null,
      "outputs": [
        {
          "output_type": "stream",
          "text": [
            "1219\n",
            "97\n",
            "1316\n"
          ],
          "name": "stdout"
        },
        {
          "output_type": "stream",
          "text": [
            "/home/politlen/anaconda3/lib/python3.7/site-packages/xlsxwriter/worksheet.py:931: UserWarning: Ignoring URL 'https://sudact.ru/regular/doc/XY8cS6vjuzY0/?regular-txt=%D0%BC%D0%B5%D0%B4%D0%B8%D1%86%D0%B8%D0%BD%D1%81%D0%BA%D0%B0%D1%8F+%D1%85%D0%B0%D0%BB%D0%B0%D1%82%D0%BD%D0%BE%D1%81%D1%82%D1%8C&regular-case_doc=&regular-lawchunkinfo=%D0%A1%D1%82%D0%B0%D1%82%D1%8C%D1%8F+151.+%D0%9A%D0%BE%D0%BC%D0%BF%D0%B5%D0%BD%D1%81%D0%B0%D1%86%D0%B8%D1%8F+%D0%BC%D0%BE%D1%80%D0%B0%D0%BB%D1%8C%D0%BD%D0%BE%D0%B3%D0%BE+%D0%B2%D1%80%D0%B5%D0%B4%D0%B0%28%D0%93%D0%9A+%D0%A0%D0%A4%29&regular-date_from=01.02.2018&regular-date_to=30.06.2018&regular-workflow_stage=10&regular-area=&regular-court=&regular-judge=&_=1583353070112&snippet_pos=420' with link or location/anchor > 255 characters since it exceeds Excel's limit for URLS\n",
            "  force_unicode(url))\n",
            "/home/politlen/anaconda3/lib/python3.7/site-packages/xlsxwriter/worksheet.py:931: UserWarning: Ignoring URL 'https://sudact.ru/regular/doc/EGEzGSac8P1X/?regular-txt=%D0%BC%D0%B5%D0%B4%D0%B8%D1%86%D0%B8%D0%BD%D1%81%D0%BA%D0%B0%D1%8F+%D1%85%D0%B0%D0%BB%D0%B0%D1%82%D0%BD%D0%BE%D1%81%D1%82%D1%8C&regular-case_doc=&regular-lawchunkinfo=%D0%A1%D1%82%D0%B0%D1%82%D1%8C%D1%8F+151.+%D0%9A%D0%BE%D0%BC%D0%BF%D0%B5%D0%BD%D1%81%D0%B0%D1%86%D0%B8%D1%8F+%D0%BC%D0%BE%D1%80%D0%B0%D0%BB%D1%8C%D0%BD%D0%BE%D0%B3%D0%BE+%D0%B2%D1%80%D0%B5%D0%B4%D0%B0%28%D0%93%D0%9A+%D0%A0%D0%A4%29&regular-date_from=01.02.2018&regular-date_to=30.06.2018&regular-workflow_stage=10&regular-area=&regular-court=&regular-judge=&_=1583353070112&snippet_pos=2034' with link or location/anchor > 255 characters since it exceeds Excel's limit for URLS\n",
            "  force_unicode(url))\n",
            "/home/politlen/anaconda3/lib/python3.7/site-packages/xlsxwriter/worksheet.py:931: UserWarning: Ignoring URL 'https://sudact.ru/regular/doc/QDsjpym9mlgX/?regular-txt=%D0%BC%D0%B5%D0%B4%D0%B8%D1%86%D0%B8%D0%BD%D1%81%D0%BA%D0%B0%D1%8F+%D1%85%D0%B0%D0%BB%D0%B0%D1%82%D0%BD%D0%BE%D1%81%D1%82%D1%8C&regular-case_doc=&regular-lawchunkinfo=%D0%A1%D1%82%D0%B0%D1%82%D1%8C%D1%8F+151.+%D0%9A%D0%BE%D0%BC%D0%BF%D0%B5%D0%BD%D1%81%D0%B0%D1%86%D0%B8%D1%8F+%D0%BC%D0%BE%D1%80%D0%B0%D0%BB%D1%8C%D0%BD%D0%BE%D0%B3%D0%BE+%D0%B2%D1%80%D0%B5%D0%B4%D0%B0%28%D0%93%D0%9A+%D0%A0%D0%A4%29&regular-date_from=01.02.2018&regular-date_to=30.06.2018&regular-workflow_stage=10&regular-area=&regular-court=&regular-judge=&_=1583353070112&snippet_pos=3318' with link or location/anchor > 255 characters since it exceeds Excel's limit for URLS\n",
            "  force_unicode(url))\n",
            "/home/politlen/anaconda3/lib/python3.7/site-packages/xlsxwriter/worksheet.py:931: UserWarning: Ignoring URL 'https://sudact.ru/regular/doc/OQXJqwMEDvHg/?regular-txt=%D0%BC%D0%B5%D0%B4%D0%B8%D1%86%D0%B8%D0%BD%D1%81%D0%BA%D0%B0%D1%8F+%D1%85%D0%B0%D0%BB%D0%B0%D1%82%D0%BD%D0%BE%D1%81%D1%82%D1%8C&regular-case_doc=&regular-lawchunkinfo=%D0%A1%D1%82%D0%B0%D1%82%D1%8C%D1%8F+151.+%D0%9A%D0%BE%D0%BC%D0%BF%D0%B5%D0%BD%D1%81%D0%B0%D1%86%D0%B8%D1%8F+%D0%BC%D0%BE%D1%80%D0%B0%D0%BB%D1%8C%D0%BD%D0%BE%D0%B3%D0%BE+%D0%B2%D1%80%D0%B5%D0%B4%D0%B0%28%D0%93%D0%9A+%D0%A0%D0%A4%29&regular-date_from=01.02.2018&regular-date_to=30.06.2018&regular-workflow_stage=10&regular-area=&regular-court=&regular-judge=&_=1583353070112&snippet_pos=938' with link or location/anchor > 255 characters since it exceeds Excel's limit for URLS\n",
            "  force_unicode(url))\n",
            "/home/politlen/anaconda3/lib/python3.7/site-packages/xlsxwriter/worksheet.py:931: UserWarning: Ignoring URL 'https://sudact.ru/regular/doc/PAykUVpoo4ZY/?regular-txt=%D0%BC%D0%B5%D0%B4%D0%B8%D1%86%D0%B8%D0%BD%D1%81%D0%BA%D0%B0%D1%8F+%D1%85%D0%B0%D0%BB%D0%B0%D1%82%D0%BD%D0%BE%D1%81%D1%82%D1%8C&regular-case_doc=&regular-lawchunkinfo=%D0%A1%D1%82%D0%B0%D1%82%D1%8C%D1%8F+151.+%D0%9A%D0%BE%D0%BC%D0%BF%D0%B5%D0%BD%D1%81%D0%B0%D1%86%D0%B8%D1%8F+%D0%BC%D0%BE%D1%80%D0%B0%D0%BB%D1%8C%D0%BD%D0%BE%D0%B3%D0%BE+%D0%B2%D1%80%D0%B5%D0%B4%D0%B0%28%D0%93%D0%9A+%D0%A0%D0%A4%29&regular-date_from=01.02.2018&regular-date_to=30.06.2018&regular-workflow_stage=10&regular-area=&regular-court=&regular-judge=&_=1583353070112&snippet_pos=2624' with link or location/anchor > 255 characters since it exceeds Excel's limit for URLS\n",
            "  force_unicode(url))\n",
            "/home/politlen/anaconda3/lib/python3.7/site-packages/xlsxwriter/worksheet.py:931: UserWarning: Ignoring URL 'https://sudact.ru/regular/doc/jXFZcxCyqNWX/?regular-txt=%D0%BC%D0%B5%D0%B4%D0%B8%D1%86%D0%B8%D0%BD%D1%81%D0%BA%D0%B0%D1%8F+%D1%85%D0%B0%D0%BB%D0%B0%D1%82%D0%BD%D0%BE%D1%81%D1%82%D1%8C&regular-case_doc=&regular-lawchunkinfo=%D0%A1%D1%82%D0%B0%D1%82%D1%8C%D1%8F+151.+%D0%9A%D0%BE%D0%BC%D0%BF%D0%B5%D0%BD%D1%81%D0%B0%D1%86%D0%B8%D1%8F+%D0%BC%D0%BE%D1%80%D0%B0%D0%BB%D1%8C%D0%BD%D0%BE%D0%B3%D0%BE+%D0%B2%D1%80%D0%B5%D0%B4%D0%B0%28%D0%93%D0%9A+%D0%A0%D0%A4%29&regular-date_from=01.02.2018&regular-date_to=30.06.2018&regular-workflow_stage=10&regular-area=&regular-court=&regular-judge=&_=1583353070112&snippet_pos=616' with link or location/anchor > 255 characters since it exceeds Excel's limit for URLS\n",
            "  force_unicode(url))\n",
            "/home/politlen/anaconda3/lib/python3.7/site-packages/xlsxwriter/worksheet.py:931: UserWarning: Ignoring URL 'https://sudact.ru/regular/doc/ARPUIwS9upJw/?regular-txt=%D0%BC%D0%B5%D0%B4%D0%B8%D1%86%D0%B8%D0%BD%D1%81%D0%BA%D0%B0%D1%8F+%D1%85%D0%B0%D0%BB%D0%B0%D1%82%D0%BD%D0%BE%D1%81%D1%82%D1%8C&regular-case_doc=&regular-lawchunkinfo=%D0%A1%D1%82%D0%B0%D1%82%D1%8C%D1%8F+151.+%D0%9A%D0%BE%D0%BC%D0%BF%D0%B5%D0%BD%D1%81%D0%B0%D1%86%D0%B8%D1%8F+%D0%BC%D0%BE%D1%80%D0%B0%D0%BB%D1%8C%D0%BD%D0%BE%D0%B3%D0%BE+%D0%B2%D1%80%D0%B5%D0%B4%D0%B0%28%D0%93%D0%9A+%D0%A0%D0%A4%29&regular-date_from=01.02.2018&regular-date_to=30.06.2018&regular-workflow_stage=10&regular-area=&regular-court=&regular-judge=&_=1583353070112&snippet_pos=764' with link or location/anchor > 255 characters since it exceeds Excel's limit for URLS\n",
            "  force_unicode(url))\n",
            "/home/politlen/anaconda3/lib/python3.7/site-packages/xlsxwriter/worksheet.py:931: UserWarning: Ignoring URL 'https://sudact.ru/regular/doc/furz7SLamcom/?regular-txt=%D0%BC%D0%B5%D0%B4%D0%B8%D1%86%D0%B8%D0%BD%D1%81%D0%BA%D0%B0%D1%8F+%D1%85%D0%B0%D0%BB%D0%B0%D1%82%D0%BD%D0%BE%D1%81%D1%82%D1%8C&regular-case_doc=&regular-lawchunkinfo=%D0%A1%D1%82%D0%B0%D1%82%D1%8C%D1%8F+151.+%D0%9A%D0%BE%D0%BC%D0%BF%D0%B5%D0%BD%D1%81%D0%B0%D1%86%D0%B8%D1%8F+%D0%BC%D0%BE%D1%80%D0%B0%D0%BB%D1%8C%D0%BD%D0%BE%D0%B3%D0%BE+%D0%B2%D1%80%D0%B5%D0%B4%D0%B0%28%D0%93%D0%9A+%D0%A0%D0%A4%29&regular-date_from=01.02.2018&regular-date_to=30.06.2018&regular-workflow_stage=10&regular-area=&regular-court=&regular-judge=&_=1583353070112&snippet_pos=386' with link or location/anchor > 255 characters since it exceeds Excel's limit for URLS\n",
            "  force_unicode(url))\n",
            "/home/politlen/anaconda3/lib/python3.7/site-packages/xlsxwriter/worksheet.py:931: UserWarning: Ignoring URL 'https://sudact.ru/regular/doc/HSYqFirzRhHA/?regular-txt=%D0%BC%D0%B5%D0%B4%D0%B8%D1%86%D0%B8%D0%BD%D1%81%D0%BA%D0%B0%D1%8F+%D1%85%D0%B0%D0%BB%D0%B0%D1%82%D0%BD%D0%BE%D1%81%D1%82%D1%8C&regular-case_doc=&regular-lawchunkinfo=%D0%A1%D1%82%D0%B0%D1%82%D1%8C%D1%8F+151.+%D0%9A%D0%BE%D0%BC%D0%BF%D0%B5%D0%BD%D1%81%D0%B0%D1%86%D0%B8%D1%8F+%D0%BC%D0%BE%D1%80%D0%B0%D0%BB%D1%8C%D0%BD%D0%BE%D0%B3%D0%BE+%D0%B2%D1%80%D0%B5%D0%B4%D0%B0%28%D0%93%D0%9A+%D0%A0%D0%A4%29&regular-date_from=01.02.2018&regular-date_to=30.06.2018&regular-workflow_stage=10&regular-area=&regular-court=&regular-judge=&_=1583353070112&snippet_pos=5602' with link or location/anchor > 255 characters since it exceeds Excel's limit for URLS\n",
            "  force_unicode(url))\n",
            "/home/politlen/anaconda3/lib/python3.7/site-packages/xlsxwriter/worksheet.py:931: UserWarning: Ignoring URL 'https://sudact.ru/regular/doc/ifv4og7nSRV1/?regular-txt=%D0%BC%D0%B5%D0%B4%D0%B8%D1%86%D0%B8%D0%BD%D1%81%D0%BA%D0%B0%D1%8F+%D1%85%D0%B0%D0%BB%D0%B0%D1%82%D0%BD%D0%BE%D1%81%D1%82%D1%8C&regular-case_doc=&regular-lawchunkinfo=%D0%A1%D1%82%D0%B0%D1%82%D1%8C%D1%8F+151.+%D0%9A%D0%BE%D0%BC%D0%BF%D0%B5%D0%BD%D1%81%D0%B0%D1%86%D0%B8%D1%8F+%D0%BC%D0%BE%D1%80%D0%B0%D0%BB%D1%8C%D0%BD%D0%BE%D0%B3%D0%BE+%D0%B2%D1%80%D0%B5%D0%B4%D0%B0%28%D0%93%D0%9A+%D0%A0%D0%A4%29&regular-date_from=01.02.2018&regular-date_to=30.06.2018&regular-workflow_stage=10&regular-area=&regular-court=&regular-judge=&_=1583353070112&snippet_pos=416' with link or location/anchor > 255 characters since it exceeds Excel's limit for URLS\n",
            "  force_unicode(url))\n",
            "/home/politlen/anaconda3/lib/python3.7/site-packages/xlsxwriter/worksheet.py:931: UserWarning: Ignoring URL 'https://sudact.ru/regular/doc/Cez1Uzd29l1K/?page=2&regular-court=&regular-date_from=01.02.2018&regular-case_doc=&regular-lawchunkinfo=%D0%A1%D1%82%D0%B0%D1%82%D1%8C%D1%8F+151.+%D0%9A%D0%BE%D0%BC%D0%BF%D0%B5%D0%BD%D1%81%D0%B0%D1%86%D0%B8%D1%8F+%D0%BC%D0%BE%D1%80%D0%B0%D0%BB%D1%8C%D0%BD%D0%BE%D0%B3%D0%BE+%D0%B2%D1%80%D0%B5%D0%B4%D0%B0%28%D0%93%D0%9A+%D0%A0%D0%A4%29&regular-workflow_stage=10&regular-date_to=30.06.2018&regular-area=&regular-txt=%D0%BC%D0%B5%D0%B4%D0%B8%D1%86%D0%B8%D0%BD%D1%81%D0%BA%D0%B0%D1%8F+%D1%85%D0%B0%D0%BB%D0%B0%D1%82%D0%BD%D0%BE%D1%81%D1%82%D1%8C&_=1583353288372&regular-judge=&snippet_pos=450' with link or location/anchor > 255 characters since it exceeds Excel's limit for URLS\n",
            "  force_unicode(url))\n",
            "/home/politlen/anaconda3/lib/python3.7/site-packages/xlsxwriter/worksheet.py:931: UserWarning: Ignoring URL 'https://sudact.ru/regular/doc/dBhTogmFvzxn/?page=2&regular-court=&regular-date_from=01.02.2018&regular-case_doc=&regular-lawchunkinfo=%D0%A1%D1%82%D0%B0%D1%82%D1%8C%D1%8F+151.+%D0%9A%D0%BE%D0%BC%D0%BF%D0%B5%D0%BD%D1%81%D0%B0%D1%86%D0%B8%D1%8F+%D0%BC%D0%BE%D1%80%D0%B0%D0%BB%D1%8C%D0%BD%D0%BE%D0%B3%D0%BE+%D0%B2%D1%80%D0%B5%D0%B4%D0%B0%28%D0%93%D0%9A+%D0%A0%D0%A4%29&regular-workflow_stage=10&regular-date_to=30.06.2018&regular-area=&regular-txt=%D0%BC%D0%B5%D0%B4%D0%B8%D1%86%D0%B8%D0%BD%D1%81%D0%BA%D0%B0%D1%8F+%D1%85%D0%B0%D0%BB%D0%B0%D1%82%D0%BD%D0%BE%D1%81%D1%82%D1%8C&_=1583353288372&regular-judge=&snippet_pos=274' with link or location/anchor > 255 characters since it exceeds Excel's limit for URLS\n",
            "  force_unicode(url))\n",
            "/home/politlen/anaconda3/lib/python3.7/site-packages/xlsxwriter/worksheet.py:931: UserWarning: Ignoring URL 'https://sudact.ru/regular/doc/pugsSiJwVGxj/?page=2&regular-court=&regular-date_from=01.02.2018&regular-case_doc=&regular-lawchunkinfo=%D0%A1%D1%82%D0%B0%D1%82%D1%8C%D1%8F+151.+%D0%9A%D0%BE%D0%BC%D0%BF%D0%B5%D0%BD%D1%81%D0%B0%D1%86%D0%B8%D1%8F+%D0%BC%D0%BE%D1%80%D0%B0%D0%BB%D1%8C%D0%BD%D0%BE%D0%B3%D0%BE+%D0%B2%D1%80%D0%B5%D0%B4%D0%B0%28%D0%93%D0%9A+%D0%A0%D0%A4%29&regular-workflow_stage=10&regular-date_to=30.06.2018&regular-area=&regular-txt=%D0%BC%D0%B5%D0%B4%D0%B8%D1%86%D0%B8%D0%BD%D1%81%D0%BA%D0%B0%D1%8F+%D1%85%D0%B0%D0%BB%D0%B0%D1%82%D0%BD%D0%BE%D1%81%D1%82%D1%8C&_=1583353288372&regular-judge=&snippet_pos=2380' with link or location/anchor > 255 characters since it exceeds Excel's limit for URLS\n",
            "  force_unicode(url))\n",
            "/home/politlen/anaconda3/lib/python3.7/site-packages/xlsxwriter/worksheet.py:931: UserWarning: Ignoring URL 'https://sudact.ru/regular/doc/mwkmuBj4gvlv/?page=2&regular-court=&regular-date_from=01.02.2018&regular-case_doc=&regular-lawchunkinfo=%D0%A1%D1%82%D0%B0%D1%82%D1%8C%D1%8F+151.+%D0%9A%D0%BE%D0%BC%D0%BF%D0%B5%D0%BD%D1%81%D0%B0%D1%86%D0%B8%D1%8F+%D0%BC%D0%BE%D1%80%D0%B0%D0%BB%D1%8C%D0%BD%D0%BE%D0%B3%D0%BE+%D0%B2%D1%80%D0%B5%D0%B4%D0%B0%28%D0%93%D0%9A+%D0%A0%D0%A4%29&regular-workflow_stage=10&regular-date_to=30.06.2018&regular-area=&regular-txt=%D0%BC%D0%B5%D0%B4%D0%B8%D1%86%D0%B8%D0%BD%D1%81%D0%BA%D0%B0%D1%8F+%D1%85%D0%B0%D0%BB%D0%B0%D1%82%D0%BD%D0%BE%D1%81%D1%82%D1%8C&_=1583353288372&regular-judge=&snippet_pos=5072' with link or location/anchor > 255 characters since it exceeds Excel's limit for URLS\n",
            "  force_unicode(url))\n",
            "/home/politlen/anaconda3/lib/python3.7/site-packages/xlsxwriter/worksheet.py:931: UserWarning: Ignoring URL 'https://sudact.ru/regular/doc/bXJEcKiA5kmd/?page=2&regular-court=&regular-date_from=01.02.2018&regular-case_doc=&regular-lawchunkinfo=%D0%A1%D1%82%D0%B0%D1%82%D1%8C%D1%8F+151.+%D0%9A%D0%BE%D0%BC%D0%BF%D0%B5%D0%BD%D1%81%D0%B0%D1%86%D0%B8%D1%8F+%D0%BC%D0%BE%D1%80%D0%B0%D0%BB%D1%8C%D0%BD%D0%BE%D0%B3%D0%BE+%D0%B2%D1%80%D0%B5%D0%B4%D0%B0%28%D0%93%D0%9A+%D0%A0%D0%A4%29&regular-workflow_stage=10&regular-date_to=30.06.2018&regular-area=&regular-txt=%D0%BC%D0%B5%D0%B4%D0%B8%D1%86%D0%B8%D0%BD%D1%81%D0%BA%D0%B0%D1%8F+%D1%85%D0%B0%D0%BB%D0%B0%D1%82%D0%BD%D0%BE%D1%81%D1%82%D1%8C&_=1583353288372&regular-judge=&snippet_pos=2734' with link or location/anchor > 255 characters since it exceeds Excel's limit for URLS\n",
            "  force_unicode(url))\n",
            "/home/politlen/anaconda3/lib/python3.7/site-packages/xlsxwriter/worksheet.py:931: UserWarning: Ignoring URL 'https://sudact.ru/regular/doc/3Jlln4LotwYR/?page=2&regular-court=&regular-date_from=01.02.2018&regular-case_doc=&regular-lawchunkinfo=%D0%A1%D1%82%D0%B0%D1%82%D1%8C%D1%8F+151.+%D0%9A%D0%BE%D0%BC%D0%BF%D0%B5%D0%BD%D1%81%D0%B0%D1%86%D0%B8%D1%8F+%D0%BC%D0%BE%D1%80%D0%B0%D0%BB%D1%8C%D0%BD%D0%BE%D0%B3%D0%BE+%D0%B2%D1%80%D0%B5%D0%B4%D0%B0%28%D0%93%D0%9A+%D0%A0%D0%A4%29&regular-workflow_stage=10&regular-date_to=30.06.2018&regular-area=&regular-txt=%D0%BC%D0%B5%D0%B4%D0%B8%D1%86%D0%B8%D0%BD%D1%81%D0%BA%D0%B0%D1%8F+%D1%85%D0%B0%D0%BB%D0%B0%D1%82%D0%BD%D0%BE%D1%81%D1%82%D1%8C&_=1583353288372&regular-judge=&snippet_pos=2178' with link or location/anchor > 255 characters since it exceeds Excel's limit for URLS\n",
            "  force_unicode(url))\n",
            "/home/politlen/anaconda3/lib/python3.7/site-packages/xlsxwriter/worksheet.py:931: UserWarning: Ignoring URL 'https://sudact.ru/regular/doc/y9kQ4wrrKnVT/?page=2&regular-court=&regular-date_from=01.02.2018&regular-case_doc=&regular-lawchunkinfo=%D0%A1%D1%82%D0%B0%D1%82%D1%8C%D1%8F+151.+%D0%9A%D0%BE%D0%BC%D0%BF%D0%B5%D0%BD%D1%81%D0%B0%D1%86%D0%B8%D1%8F+%D0%BC%D0%BE%D1%80%D0%B0%D0%BB%D1%8C%D0%BD%D0%BE%D0%B3%D0%BE+%D0%B2%D1%80%D0%B5%D0%B4%D0%B0%28%D0%93%D0%9A+%D0%A0%D0%A4%29&regular-workflow_stage=10&regular-date_to=30.06.2018&regular-area=&regular-txt=%D0%BC%D0%B5%D0%B4%D0%B8%D1%86%D0%B8%D0%BD%D1%81%D0%BA%D0%B0%D1%8F+%D1%85%D0%B0%D0%BB%D0%B0%D1%82%D0%BD%D0%BE%D1%81%D1%82%D1%8C&_=1583353288372&regular-judge=&snippet_pos=202' with link or location/anchor > 255 characters since it exceeds Excel's limit for URLS\n",
            "  force_unicode(url))\n",
            "/home/politlen/anaconda3/lib/python3.7/site-packages/xlsxwriter/worksheet.py:931: UserWarning: Ignoring URL 'https://sudact.ru/regular/doc/gijLnxbLJjYE/?page=2&regular-court=&regular-date_from=01.02.2018&regular-case_doc=&regular-lawchunkinfo=%D0%A1%D1%82%D0%B0%D1%82%D1%8C%D1%8F+151.+%D0%9A%D0%BE%D0%BC%D0%BF%D0%B5%D0%BD%D1%81%D0%B0%D1%86%D0%B8%D1%8F+%D0%BC%D0%BE%D1%80%D0%B0%D0%BB%D1%8C%D0%BD%D0%BE%D0%B3%D0%BE+%D0%B2%D1%80%D0%B5%D0%B4%D0%B0%28%D0%93%D0%9A+%D0%A0%D0%A4%29&regular-workflow_stage=10&regular-date_to=30.06.2018&regular-area=&regular-txt=%D0%BC%D0%B5%D0%B4%D0%B8%D1%86%D0%B8%D0%BD%D1%81%D0%BA%D0%B0%D1%8F+%D1%85%D0%B0%D0%BB%D0%B0%D1%82%D0%BD%D0%BE%D1%81%D1%82%D1%8C&_=1583353288372&regular-judge=&snippet_pos=4408' with link or location/anchor > 255 characters since it exceeds Excel's limit for URLS\n",
            "  force_unicode(url))\n",
            "/home/politlen/anaconda3/lib/python3.7/site-packages/xlsxwriter/worksheet.py:931: UserWarning: Ignoring URL 'https://sudact.ru/regular/doc/fr2KLZwVx551/?page=2&regular-court=&regular-date_from=01.02.2018&regular-case_doc=&regular-lawchunkinfo=%D0%A1%D1%82%D0%B0%D1%82%D1%8C%D1%8F+151.+%D0%9A%D0%BE%D0%BC%D0%BF%D0%B5%D0%BD%D1%81%D0%B0%D1%86%D0%B8%D1%8F+%D0%BC%D0%BE%D1%80%D0%B0%D0%BB%D1%8C%D0%BD%D0%BE%D0%B3%D0%BE+%D0%B2%D1%80%D0%B5%D0%B4%D0%B0%28%D0%93%D0%9A+%D0%A0%D0%A4%29&regular-workflow_stage=10&regular-date_to=30.06.2018&regular-area=&regular-txt=%D0%BC%D0%B5%D0%B4%D0%B8%D1%86%D0%B8%D0%BD%D1%81%D0%BA%D0%B0%D1%8F+%D1%85%D0%B0%D0%BB%D0%B0%D1%82%D0%BD%D0%BE%D1%81%D1%82%D1%8C&_=1583353288372&regular-judge=&snippet_pos=530' with link or location/anchor > 255 characters since it exceeds Excel's limit for URLS\n",
            "  force_unicode(url))\n",
            "/home/politlen/anaconda3/lib/python3.7/site-packages/xlsxwriter/worksheet.py:931: UserWarning: Ignoring URL 'https://sudact.ru/regular/doc/nFGQq2zQxkmu/?page=2&regular-court=&regular-date_from=01.02.2018&regular-case_doc=&regular-lawchunkinfo=%D0%A1%D1%82%D0%B0%D1%82%D1%8C%D1%8F+151.+%D0%9A%D0%BE%D0%BC%D0%BF%D0%B5%D0%BD%D1%81%D0%B0%D1%86%D0%B8%D1%8F+%D0%BC%D0%BE%D1%80%D0%B0%D0%BB%D1%8C%D0%BD%D0%BE%D0%B3%D0%BE+%D0%B2%D1%80%D0%B5%D0%B4%D0%B0%28%D0%93%D0%9A+%D0%A0%D0%A4%29&regular-workflow_stage=10&regular-date_to=30.06.2018&regular-area=&regular-txt=%D0%BC%D0%B5%D0%B4%D0%B8%D1%86%D0%B8%D0%BD%D1%81%D0%BA%D0%B0%D1%8F+%D1%85%D0%B0%D0%BB%D0%B0%D1%82%D0%BD%D0%BE%D1%81%D1%82%D1%8C&_=1583353288372&regular-judge=&snippet_pos=4094' with link or location/anchor > 255 characters since it exceeds Excel's limit for URLS\n",
            "  force_unicode(url))\n",
            "/home/politlen/anaconda3/lib/python3.7/site-packages/xlsxwriter/worksheet.py:931: UserWarning: Ignoring URL 'https://sudact.ru/regular/doc/5ZuwwCAUdmUu/?page=3&regular-court=&regular-date_from=01.02.2018&regular-case_doc=&regular-lawchunkinfo=%D0%A1%D1%82%D0%B0%D1%82%D1%8C%D1%8F+151.+%D0%9A%D0%BE%D0%BC%D0%BF%D0%B5%D0%BD%D1%81%D0%B0%D1%86%D0%B8%D1%8F+%D0%BC%D0%BE%D1%80%D0%B0%D0%BB%D1%8C%D0%BD%D0%BE%D0%B3%D0%BE+%D0%B2%D1%80%D0%B5%D0%B4%D0%B0%28%D0%93%D0%9A+%D0%A0%D0%A4%29&regular-workflow_stage=10&regular-date_to=30.06.2018&regular-area=&regular-txt=%D0%BC%D0%B5%D0%B4%D0%B8%D1%86%D0%B8%D0%BD%D1%81%D0%BA%D0%B0%D1%8F+%D1%85%D0%B0%D0%BB%D0%B0%D1%82%D0%BD%D0%BE%D1%81%D1%82%D1%8C&_=1583353292160&regular-judge=&snippet_pos=2272' with link or location/anchor > 255 characters since it exceeds Excel's limit for URLS\n",
            "  force_unicode(url))\n",
            "/home/politlen/anaconda3/lib/python3.7/site-packages/xlsxwriter/worksheet.py:931: UserWarning: Ignoring URL 'https://sudact.ru/regular/doc/twgifgqWvCUZ/?page=3&regular-court=&regular-date_from=01.02.2018&regular-case_doc=&regular-lawchunkinfo=%D0%A1%D1%82%D0%B0%D1%82%D1%8C%D1%8F+151.+%D0%9A%D0%BE%D0%BC%D0%BF%D0%B5%D0%BD%D1%81%D0%B0%D1%86%D0%B8%D1%8F+%D0%BC%D0%BE%D1%80%D0%B0%D0%BB%D1%8C%D0%BD%D0%BE%D0%B3%D0%BE+%D0%B2%D1%80%D0%B5%D0%B4%D0%B0%28%D0%93%D0%9A+%D0%A0%D0%A4%29&regular-workflow_stage=10&regular-date_to=30.06.2018&regular-area=&regular-txt=%D0%BC%D0%B5%D0%B4%D0%B8%D1%86%D0%B8%D0%BD%D1%81%D0%BA%D0%B0%D1%8F+%D1%85%D0%B0%D0%BB%D0%B0%D1%82%D0%BD%D0%BE%D1%81%D1%82%D1%8C&_=1583353292160&regular-judge=&snippet_pos=2148' with link or location/anchor > 255 characters since it exceeds Excel's limit for URLS\n",
            "  force_unicode(url))\n",
            "/home/politlen/anaconda3/lib/python3.7/site-packages/xlsxwriter/worksheet.py:931: UserWarning: Ignoring URL 'https://sudact.ru/regular/doc/2rLVCvN4A5Lx/?page=3&regular-court=&regular-date_from=01.02.2018&regular-case_doc=&regular-lawchunkinfo=%D0%A1%D1%82%D0%B0%D1%82%D1%8C%D1%8F+151.+%D0%9A%D0%BE%D0%BC%D0%BF%D0%B5%D0%BD%D1%81%D0%B0%D1%86%D0%B8%D1%8F+%D0%BC%D0%BE%D1%80%D0%B0%D0%BB%D1%8C%D0%BD%D0%BE%D0%B3%D0%BE+%D0%B2%D1%80%D0%B5%D0%B4%D0%B0%28%D0%93%D0%9A+%D0%A0%D0%A4%29&regular-workflow_stage=10&regular-date_to=30.06.2018&regular-area=&regular-txt=%D0%BC%D0%B5%D0%B4%D0%B8%D1%86%D0%B8%D0%BD%D1%81%D0%BA%D0%B0%D1%8F+%D1%85%D0%B0%D0%BB%D0%B0%D1%82%D0%BD%D0%BE%D1%81%D1%82%D1%8C&_=1583353292160&regular-judge=&snippet_pos=540' with link or location/anchor > 255 characters since it exceeds Excel's limit for URLS\n",
            "  force_unicode(url))\n",
            "/home/politlen/anaconda3/lib/python3.7/site-packages/xlsxwriter/worksheet.py:931: UserWarning: Ignoring URL 'https://sudact.ru/regular/doc/10Txlx9SiTm6/?page=3&regular-court=&regular-date_from=01.02.2018&regular-case_doc=&regular-lawchunkinfo=%D0%A1%D1%82%D0%B0%D1%82%D1%8C%D1%8F+151.+%D0%9A%D0%BE%D0%BC%D0%BF%D0%B5%D0%BD%D1%81%D0%B0%D1%86%D0%B8%D1%8F+%D0%BC%D0%BE%D1%80%D0%B0%D0%BB%D1%8C%D0%BD%D0%BE%D0%B3%D0%BE+%D0%B2%D1%80%D0%B5%D0%B4%D0%B0%28%D0%93%D0%9A+%D0%A0%D0%A4%29&regular-workflow_stage=10&regular-date_to=30.06.2018&regular-area=&regular-txt=%D0%BC%D0%B5%D0%B4%D0%B8%D1%86%D0%B8%D0%BD%D1%81%D0%BA%D0%B0%D1%8F+%D1%85%D0%B0%D0%BB%D0%B0%D1%82%D0%BD%D0%BE%D1%81%D1%82%D1%8C&_=1583353292160&regular-judge=&snippet_pos=544' with link or location/anchor > 255 characters since it exceeds Excel's limit for URLS\n",
            "  force_unicode(url))\n",
            "/home/politlen/anaconda3/lib/python3.7/site-packages/xlsxwriter/worksheet.py:931: UserWarning: Ignoring URL 'https://sudact.ru/regular/doc/JuNLaRCz3R1R/?page=3&regular-court=&regular-date_from=01.02.2018&regular-case_doc=&regular-lawchunkinfo=%D0%A1%D1%82%D0%B0%D1%82%D1%8C%D1%8F+151.+%D0%9A%D0%BE%D0%BC%D0%BF%D0%B5%D0%BD%D1%81%D0%B0%D1%86%D0%B8%D1%8F+%D0%BC%D0%BE%D1%80%D0%B0%D0%BB%D1%8C%D0%BD%D0%BE%D0%B3%D0%BE+%D0%B2%D1%80%D0%B5%D0%B4%D0%B0%28%D0%93%D0%9A+%D0%A0%D0%A4%29&regular-workflow_stage=10&regular-date_to=30.06.2018&regular-area=&regular-txt=%D0%BC%D0%B5%D0%B4%D0%B8%D1%86%D0%B8%D0%BD%D1%81%D0%BA%D0%B0%D1%8F+%D1%85%D0%B0%D0%BB%D0%B0%D1%82%D0%BD%D0%BE%D1%81%D1%82%D1%8C&_=1583353292160&regular-judge=&snippet_pos=390' with link or location/anchor > 255 characters since it exceeds Excel's limit for URLS\n",
            "  force_unicode(url))\n",
            "/home/politlen/anaconda3/lib/python3.7/site-packages/xlsxwriter/worksheet.py:931: UserWarning: Ignoring URL 'https://sudact.ru/regular/doc/EIlmuMmXnzQt/?page=3&regular-court=&regular-date_from=01.02.2018&regular-case_doc=&regular-lawchunkinfo=%D0%A1%D1%82%D0%B0%D1%82%D1%8C%D1%8F+151.+%D0%9A%D0%BE%D0%BC%D0%BF%D0%B5%D0%BD%D1%81%D0%B0%D1%86%D0%B8%D1%8F+%D0%BC%D0%BE%D1%80%D0%B0%D0%BB%D1%8C%D0%BD%D0%BE%D0%B3%D0%BE+%D0%B2%D1%80%D0%B5%D0%B4%D0%B0%28%D0%93%D0%9A+%D0%A0%D0%A4%29&regular-workflow_stage=10&regular-date_to=30.06.2018&regular-area=&regular-txt=%D0%BC%D0%B5%D0%B4%D0%B8%D1%86%D0%B8%D0%BD%D1%81%D0%BA%D0%B0%D1%8F+%D1%85%D0%B0%D0%BB%D0%B0%D1%82%D0%BD%D0%BE%D1%81%D1%82%D1%8C&_=1583353292160&regular-judge=&snippet_pos=186' with link or location/anchor > 255 characters since it exceeds Excel's limit for URLS\n",
            "  force_unicode(url))\n",
            "/home/politlen/anaconda3/lib/python3.7/site-packages/xlsxwriter/worksheet.py:931: UserWarning: Ignoring URL 'https://sudact.ru/regular/doc/mTSPH4ttMVgn/?page=3&regular-court=&regular-date_from=01.02.2018&regular-case_doc=&regular-lawchunkinfo=%D0%A1%D1%82%D0%B0%D1%82%D1%8C%D1%8F+151.+%D0%9A%D0%BE%D0%BC%D0%BF%D0%B5%D0%BD%D1%81%D0%B0%D1%86%D0%B8%D1%8F+%D0%BC%D0%BE%D1%80%D0%B0%D0%BB%D1%8C%D0%BD%D0%BE%D0%B3%D0%BE+%D0%B2%D1%80%D0%B5%D0%B4%D0%B0%28%D0%93%D0%9A+%D0%A0%D0%A4%29&regular-workflow_stage=10&regular-date_to=30.06.2018&regular-area=&regular-txt=%D0%BC%D0%B5%D0%B4%D0%B8%D1%86%D0%B8%D0%BD%D1%81%D0%BA%D0%B0%D1%8F+%D1%85%D0%B0%D0%BB%D0%B0%D1%82%D0%BD%D0%BE%D1%81%D1%82%D1%8C&_=1583353292160&regular-judge=&snippet_pos=1534' with link or location/anchor > 255 characters since it exceeds Excel's limit for URLS\n",
            "  force_unicode(url))\n",
            "/home/politlen/anaconda3/lib/python3.7/site-packages/xlsxwriter/worksheet.py:931: UserWarning: Ignoring URL 'https://sudact.ru/regular/doc/KJTlUO484poo/?page=3&regular-court=&regular-date_from=01.02.2018&regular-case_doc=&regular-lawchunkinfo=%D0%A1%D1%82%D0%B0%D1%82%D1%8C%D1%8F+151.+%D0%9A%D0%BE%D0%BC%D0%BF%D0%B5%D0%BD%D1%81%D0%B0%D1%86%D0%B8%D1%8F+%D0%BC%D0%BE%D1%80%D0%B0%D0%BB%D1%8C%D0%BD%D0%BE%D0%B3%D0%BE+%D0%B2%D1%80%D0%B5%D0%B4%D0%B0%28%D0%93%D0%9A+%D0%A0%D0%A4%29&regular-workflow_stage=10&regular-date_to=30.06.2018&regular-area=&regular-txt=%D0%BC%D0%B5%D0%B4%D0%B8%D1%86%D0%B8%D0%BD%D1%81%D0%BA%D0%B0%D1%8F+%D1%85%D0%B0%D0%BB%D0%B0%D1%82%D0%BD%D0%BE%D1%81%D1%82%D1%8C&_=1583353292160&regular-judge=&snippet_pos=550' with link or location/anchor > 255 characters since it exceeds Excel's limit for URLS\n",
            "  force_unicode(url))\n",
            "/home/politlen/anaconda3/lib/python3.7/site-packages/xlsxwriter/worksheet.py:931: UserWarning: Ignoring URL 'https://sudact.ru/regular/doc/3M6d4Btbet5X/?page=3&regular-court=&regular-date_from=01.02.2018&regular-case_doc=&regular-lawchunkinfo=%D0%A1%D1%82%D0%B0%D1%82%D1%8C%D1%8F+151.+%D0%9A%D0%BE%D0%BC%D0%BF%D0%B5%D0%BD%D1%81%D0%B0%D1%86%D0%B8%D1%8F+%D0%BC%D0%BE%D1%80%D0%B0%D0%BB%D1%8C%D0%BD%D0%BE%D0%B3%D0%BE+%D0%B2%D1%80%D0%B5%D0%B4%D0%B0%28%D0%93%D0%9A+%D0%A0%D0%A4%29&regular-workflow_stage=10&regular-date_to=30.06.2018&regular-area=&regular-txt=%D0%BC%D0%B5%D0%B4%D0%B8%D1%86%D0%B8%D0%BD%D1%81%D0%BA%D0%B0%D1%8F+%D1%85%D0%B0%D0%BB%D0%B0%D1%82%D0%BD%D0%BE%D1%81%D1%82%D1%8C&_=1583353292160&regular-judge=&snippet_pos=170' with link or location/anchor > 255 characters since it exceeds Excel's limit for URLS\n",
            "  force_unicode(url))\n",
            "/home/politlen/anaconda3/lib/python3.7/site-packages/xlsxwriter/worksheet.py:931: UserWarning: Ignoring URL 'https://sudact.ru/regular/doc/nhEiR7YVZRr/?page=3&regular-court=&regular-date_from=01.02.2018&regular-case_doc=&regular-lawchunkinfo=%D0%A1%D1%82%D0%B0%D1%82%D1%8C%D1%8F+151.+%D0%9A%D0%BE%D0%BC%D0%BF%D0%B5%D0%BD%D1%81%D0%B0%D1%86%D0%B8%D1%8F+%D0%BC%D0%BE%D1%80%D0%B0%D0%BB%D1%8C%D0%BD%D0%BE%D0%B3%D0%BE+%D0%B2%D1%80%D0%B5%D0%B4%D0%B0%28%D0%93%D0%9A+%D0%A0%D0%A4%29&regular-workflow_stage=10&regular-date_to=30.06.2018&regular-area=&regular-txt=%D0%BC%D0%B5%D0%B4%D0%B8%D1%86%D0%B8%D0%BD%D1%81%D0%BA%D0%B0%D1%8F+%D1%85%D0%B0%D0%BB%D0%B0%D1%82%D0%BD%D0%BE%D1%81%D1%82%D1%8C&_=1583353292160&regular-judge=&snippet_pos=1016' with link or location/anchor > 255 characters since it exceeds Excel's limit for URLS\n",
            "  force_unicode(url))\n",
            "/home/politlen/anaconda3/lib/python3.7/site-packages/xlsxwriter/worksheet.py:931: UserWarning: Ignoring URL 'https://sudact.ru/regular/doc/PSphcHptQPLR/?page=4&regular-court=&regular-date_from=01.02.2018&regular-case_doc=&regular-lawchunkinfo=%D0%A1%D1%82%D0%B0%D1%82%D1%8C%D1%8F+151.+%D0%9A%D0%BE%D0%BC%D0%BF%D0%B5%D0%BD%D1%81%D0%B0%D1%86%D0%B8%D1%8F+%D0%BC%D0%BE%D1%80%D0%B0%D0%BB%D1%8C%D0%BD%D0%BE%D0%B3%D0%BE+%D0%B2%D1%80%D0%B5%D0%B4%D0%B0%28%D0%93%D0%9A+%D0%A0%D0%A4%29&regular-workflow_stage=10&regular-date_to=30.06.2018&regular-area=&regular-txt=%D0%BC%D0%B5%D0%B4%D0%B8%D1%86%D0%B8%D0%BD%D1%81%D0%BA%D0%B0%D1%8F+%D1%85%D0%B0%D0%BB%D0%B0%D1%82%D0%BD%D0%BE%D1%81%D1%82%D1%8C&_=1583353295918&regular-judge=&snippet_pos=7550' with link or location/anchor > 255 characters since it exceeds Excel's limit for URLS\n",
            "  force_unicode(url))\n",
            "/home/politlen/anaconda3/lib/python3.7/site-packages/xlsxwriter/worksheet.py:931: UserWarning: Ignoring URL 'https://sudact.ru/regular/doc/9AsTdqaMsBLX/?page=4&regular-court=&regular-date_from=01.02.2018&regular-case_doc=&regular-lawchunkinfo=%D0%A1%D1%82%D0%B0%D1%82%D1%8C%D1%8F+151.+%D0%9A%D0%BE%D0%BC%D0%BF%D0%B5%D0%BD%D1%81%D0%B0%D1%86%D0%B8%D1%8F+%D0%BC%D0%BE%D1%80%D0%B0%D0%BB%D1%8C%D0%BD%D0%BE%D0%B3%D0%BE+%D0%B2%D1%80%D0%B5%D0%B4%D0%B0%28%D0%93%D0%9A+%D0%A0%D0%A4%29&regular-workflow_stage=10&regular-date_to=30.06.2018&regular-area=&regular-txt=%D0%BC%D0%B5%D0%B4%D0%B8%D1%86%D0%B8%D0%BD%D1%81%D0%BA%D0%B0%D1%8F+%D1%85%D0%B0%D0%BB%D0%B0%D1%82%D0%BD%D0%BE%D1%81%D1%82%D1%8C&_=1583353295918&regular-judge=&snippet_pos=926' with link or location/anchor > 255 characters since it exceeds Excel's limit for URLS\n",
            "  force_unicode(url))\n",
            "/home/politlen/anaconda3/lib/python3.7/site-packages/xlsxwriter/worksheet.py:931: UserWarning: Ignoring URL 'https://sudact.ru/regular/doc/0RyYIGKyI8bM/?page=4&regular-court=&regular-date_from=01.02.2018&regular-case_doc=&regular-lawchunkinfo=%D0%A1%D1%82%D0%B0%D1%82%D1%8C%D1%8F+151.+%D0%9A%D0%BE%D0%BC%D0%BF%D0%B5%D0%BD%D1%81%D0%B0%D1%86%D0%B8%D1%8F+%D0%BC%D0%BE%D1%80%D0%B0%D0%BB%D1%8C%D0%BD%D0%BE%D0%B3%D0%BE+%D0%B2%D1%80%D0%B5%D0%B4%D0%B0%28%D0%93%D0%9A+%D0%A0%D0%A4%29&regular-workflow_stage=10&regular-date_to=30.06.2018&regular-area=&regular-txt=%D0%BC%D0%B5%D0%B4%D0%B8%D1%86%D0%B8%D0%BD%D1%81%D0%BA%D0%B0%D1%8F+%D1%85%D0%B0%D0%BB%D0%B0%D1%82%D0%BD%D0%BE%D1%81%D1%82%D1%8C&_=1583353295918&regular-judge=&snippet_pos=4074' with link or location/anchor > 255 characters since it exceeds Excel's limit for URLS\n",
            "  force_unicode(url))\n",
            "/home/politlen/anaconda3/lib/python3.7/site-packages/xlsxwriter/worksheet.py:931: UserWarning: Ignoring URL 'https://sudact.ru/regular/doc/JHJbUkH6M15O/?page=4&regular-court=&regular-date_from=01.02.2018&regular-case_doc=&regular-lawchunkinfo=%D0%A1%D1%82%D0%B0%D1%82%D1%8C%D1%8F+151.+%D0%9A%D0%BE%D0%BC%D0%BF%D0%B5%D0%BD%D1%81%D0%B0%D1%86%D0%B8%D1%8F+%D0%BC%D0%BE%D1%80%D0%B0%D0%BB%D1%8C%D0%BD%D0%BE%D0%B3%D0%BE+%D0%B2%D1%80%D0%B5%D0%B4%D0%B0%28%D0%93%D0%9A+%D0%A0%D0%A4%29&regular-workflow_stage=10&regular-date_to=30.06.2018&regular-area=&regular-txt=%D0%BC%D0%B5%D0%B4%D0%B8%D1%86%D0%B8%D0%BD%D1%81%D0%BA%D0%B0%D1%8F+%D1%85%D0%B0%D0%BB%D0%B0%D1%82%D0%BD%D0%BE%D1%81%D1%82%D1%8C&_=1583353295918&regular-judge=&snippet_pos=1148' with link or location/anchor > 255 characters since it exceeds Excel's limit for URLS\n",
            "  force_unicode(url))\n",
            "/home/politlen/anaconda3/lib/python3.7/site-packages/xlsxwriter/worksheet.py:931: UserWarning: Ignoring URL 'https://sudact.ru/regular/doc/xFk0FWsN54ox/?page=4&regular-court=&regular-date_from=01.02.2018&regular-case_doc=&regular-lawchunkinfo=%D0%A1%D1%82%D0%B0%D1%82%D1%8C%D1%8F+151.+%D0%9A%D0%BE%D0%BC%D0%BF%D0%B5%D0%BD%D1%81%D0%B0%D1%86%D0%B8%D1%8F+%D0%BC%D0%BE%D1%80%D0%B0%D0%BB%D1%8C%D0%BD%D0%BE%D0%B3%D0%BE+%D0%B2%D1%80%D0%B5%D0%B4%D0%B0%28%D0%93%D0%9A+%D0%A0%D0%A4%29&regular-workflow_stage=10&regular-date_to=30.06.2018&regular-area=&regular-txt=%D0%BC%D0%B5%D0%B4%D0%B8%D1%86%D0%B8%D0%BD%D1%81%D0%BA%D0%B0%D1%8F+%D1%85%D0%B0%D0%BB%D0%B0%D1%82%D0%BD%D0%BE%D1%81%D1%82%D1%8C&_=1583353295918&regular-judge=&snippet_pos=626' with link or location/anchor > 255 characters since it exceeds Excel's limit for URLS\n",
            "  force_unicode(url))\n",
            "/home/politlen/anaconda3/lib/python3.7/site-packages/xlsxwriter/worksheet.py:931: UserWarning: Ignoring URL 'https://sudact.ru/regular/doc/PhIDmBUBiqYp/?page=4&regular-court=&regular-date_from=01.02.2018&regular-case_doc=&regular-lawchunkinfo=%D0%A1%D1%82%D0%B0%D1%82%D1%8C%D1%8F+151.+%D0%9A%D0%BE%D0%BC%D0%BF%D0%B5%D0%BD%D1%81%D0%B0%D1%86%D0%B8%D1%8F+%D0%BC%D0%BE%D1%80%D0%B0%D0%BB%D1%8C%D0%BD%D0%BE%D0%B3%D0%BE+%D0%B2%D1%80%D0%B5%D0%B4%D0%B0%28%D0%93%D0%9A+%D0%A0%D0%A4%29&regular-workflow_stage=10&regular-date_to=30.06.2018&regular-area=&regular-txt=%D0%BC%D0%B5%D0%B4%D0%B8%D1%86%D0%B8%D0%BD%D1%81%D0%BA%D0%B0%D1%8F+%D1%85%D0%B0%D0%BB%D0%B0%D1%82%D0%BD%D0%BE%D1%81%D1%82%D1%8C&_=1583353295918&regular-judge=&snippet_pos=796' with link or location/anchor > 255 characters since it exceeds Excel's limit for URLS\n",
            "  force_unicode(url))\n",
            "/home/politlen/anaconda3/lib/python3.7/site-packages/xlsxwriter/worksheet.py:931: UserWarning: Ignoring URL 'https://sudact.ru/regular/doc/Cd1ybtnwjTd5/?page=4&regular-court=&regular-date_from=01.02.2018&regular-case_doc=&regular-lawchunkinfo=%D0%A1%D1%82%D0%B0%D1%82%D1%8C%D1%8F+151.+%D0%9A%D0%BE%D0%BC%D0%BF%D0%B5%D0%BD%D1%81%D0%B0%D1%86%D0%B8%D1%8F+%D0%BC%D0%BE%D1%80%D0%B0%D0%BB%D1%8C%D0%BD%D0%BE%D0%B3%D0%BE+%D0%B2%D1%80%D0%B5%D0%B4%D0%B0%28%D0%93%D0%9A+%D0%A0%D0%A4%29&regular-workflow_stage=10&regular-date_to=30.06.2018&regular-area=&regular-txt=%D0%BC%D0%B5%D0%B4%D0%B8%D1%86%D0%B8%D0%BD%D1%81%D0%BA%D0%B0%D1%8F+%D1%85%D0%B0%D0%BB%D0%B0%D1%82%D0%BD%D0%BE%D1%81%D1%82%D1%8C&_=1583353295918&regular-judge=&snippet_pos=212' with link or location/anchor > 255 characters since it exceeds Excel's limit for URLS\n",
            "  force_unicode(url))\n",
            "/home/politlen/anaconda3/lib/python3.7/site-packages/xlsxwriter/worksheet.py:931: UserWarning: Ignoring URL 'https://sudact.ru/regular/doc/9hNT0UeXNpgV/?page=4&regular-court=&regular-date_from=01.02.2018&regular-case_doc=&regular-lawchunkinfo=%D0%A1%D1%82%D0%B0%D1%82%D1%8C%D1%8F+151.+%D0%9A%D0%BE%D0%BC%D0%BF%D0%B5%D0%BD%D1%81%D0%B0%D1%86%D0%B8%D1%8F+%D0%BC%D0%BE%D1%80%D0%B0%D0%BB%D1%8C%D0%BD%D0%BE%D0%B3%D0%BE+%D0%B2%D1%80%D0%B5%D0%B4%D0%B0%28%D0%93%D0%9A+%D0%A0%D0%A4%29&regular-workflow_stage=10&regular-date_to=30.06.2018&regular-area=&regular-txt=%D0%BC%D0%B5%D0%B4%D0%B8%D1%86%D0%B8%D0%BD%D1%81%D0%BA%D0%B0%D1%8F+%D1%85%D0%B0%D0%BB%D0%B0%D1%82%D0%BD%D0%BE%D1%81%D1%82%D1%8C&_=1583353295918&regular-judge=&snippet_pos=1450' with link or location/anchor > 255 characters since it exceeds Excel's limit for URLS\n",
            "  force_unicode(url))\n",
            "/home/politlen/anaconda3/lib/python3.7/site-packages/xlsxwriter/worksheet.py:931: UserWarning: Ignoring URL 'https://sudact.ru/regular/doc/m3fp61KJOX6Y/?page=4&regular-court=&regular-date_from=01.02.2018&regular-case_doc=&regular-lawchunkinfo=%D0%A1%D1%82%D0%B0%D1%82%D1%8C%D1%8F+151.+%D0%9A%D0%BE%D0%BC%D0%BF%D0%B5%D0%BD%D1%81%D0%B0%D1%86%D0%B8%D1%8F+%D0%BC%D0%BE%D1%80%D0%B0%D0%BB%D1%8C%D0%BD%D0%BE%D0%B3%D0%BE+%D0%B2%D1%80%D0%B5%D0%B4%D0%B0%28%D0%93%D0%9A+%D0%A0%D0%A4%29&regular-workflow_stage=10&regular-date_to=30.06.2018&regular-area=&regular-txt=%D0%BC%D0%B5%D0%B4%D0%B8%D1%86%D0%B8%D0%BD%D1%81%D0%BA%D0%B0%D1%8F+%D1%85%D0%B0%D0%BB%D0%B0%D1%82%D0%BD%D0%BE%D1%81%D1%82%D1%8C&_=1583353295918&regular-judge=&snippet_pos=1090' with link or location/anchor > 255 characters since it exceeds Excel's limit for URLS\n",
            "  force_unicode(url))\n",
            "/home/politlen/anaconda3/lib/python3.7/site-packages/xlsxwriter/worksheet.py:931: UserWarning: Ignoring URL 'https://sudact.ru/regular/doc/OTeNIUoao1YT/?page=4&regular-court=&regular-date_from=01.02.2018&regular-case_doc=&regular-lawchunkinfo=%D0%A1%D1%82%D0%B0%D1%82%D1%8C%D1%8F+151.+%D0%9A%D0%BE%D0%BC%D0%BF%D0%B5%D0%BD%D1%81%D0%B0%D1%86%D0%B8%D1%8F+%D0%BC%D0%BE%D1%80%D0%B0%D0%BB%D1%8C%D0%BD%D0%BE%D0%B3%D0%BE+%D0%B2%D1%80%D0%B5%D0%B4%D0%B0%28%D0%93%D0%9A+%D0%A0%D0%A4%29&regular-workflow_stage=10&regular-date_to=30.06.2018&regular-area=&regular-txt=%D0%BC%D0%B5%D0%B4%D0%B8%D1%86%D0%B8%D0%BD%D1%81%D0%BA%D0%B0%D1%8F+%D1%85%D0%B0%D0%BB%D0%B0%D1%82%D0%BD%D0%BE%D1%81%D1%82%D1%8C&_=1583353295918&regular-judge=&snippet_pos=1868' with link or location/anchor > 255 characters since it exceeds Excel's limit for URLS\n",
            "  force_unicode(url))\n",
            "/home/politlen/anaconda3/lib/python3.7/site-packages/xlsxwriter/worksheet.py:931: UserWarning: Ignoring URL 'https://sudact.ru/regular/doc/PiCD9Ue4pfU1/?page=5&regular-court=&regular-date_from=01.02.2018&regular-case_doc=&regular-lawchunkinfo=%D0%A1%D1%82%D0%B0%D1%82%D1%8C%D1%8F+151.+%D0%9A%D0%BE%D0%BC%D0%BF%D0%B5%D0%BD%D1%81%D0%B0%D1%86%D0%B8%D1%8F+%D0%BC%D0%BE%D1%80%D0%B0%D0%BB%D1%8C%D0%BD%D0%BE%D0%B3%D0%BE+%D0%B2%D1%80%D0%B5%D0%B4%D0%B0%28%D0%93%D0%9A+%D0%A0%D0%A4%29&regular-workflow_stage=10&regular-date_to=30.06.2018&regular-area=&regular-txt=%D0%BC%D0%B5%D0%B4%D0%B8%D1%86%D0%B8%D0%BD%D1%81%D0%BA%D0%B0%D1%8F+%D1%85%D0%B0%D0%BB%D0%B0%D1%82%D0%BD%D0%BE%D1%81%D1%82%D1%8C&_=1583353299570&regular-judge=&snippet_pos=14718' with link or location/anchor > 255 characters since it exceeds Excel's limit for URLS\n",
            "  force_unicode(url))\n",
            "/home/politlen/anaconda3/lib/python3.7/site-packages/xlsxwriter/worksheet.py:931: UserWarning: Ignoring URL 'https://sudact.ru/regular/doc/vhNOXHAYjSJW/?page=5&regular-court=&regular-date_from=01.02.2018&regular-case_doc=&regular-lawchunkinfo=%D0%A1%D1%82%D0%B0%D1%82%D1%8C%D1%8F+151.+%D0%9A%D0%BE%D0%BC%D0%BF%D0%B5%D0%BD%D1%81%D0%B0%D1%86%D0%B8%D1%8F+%D0%BC%D0%BE%D1%80%D0%B0%D0%BB%D1%8C%D0%BD%D0%BE%D0%B3%D0%BE+%D0%B2%D1%80%D0%B5%D0%B4%D0%B0%28%D0%93%D0%9A+%D0%A0%D0%A4%29&regular-workflow_stage=10&regular-date_to=30.06.2018&regular-area=&regular-txt=%D0%BC%D0%B5%D0%B4%D0%B8%D1%86%D0%B8%D0%BD%D1%81%D0%BA%D0%B0%D1%8F+%D1%85%D0%B0%D0%BB%D0%B0%D1%82%D0%BD%D0%BE%D1%81%D1%82%D1%8C&_=1583353299570&regular-judge=&snippet_pos=2146' with link or location/anchor > 255 characters since it exceeds Excel's limit for URLS\n",
            "  force_unicode(url))\n",
            "/home/politlen/anaconda3/lib/python3.7/site-packages/xlsxwriter/worksheet.py:931: UserWarning: Ignoring URL 'https://sudact.ru/regular/doc/Bo6wC7qMtiW9/?page=5&regular-court=&regular-date_from=01.02.2018&regular-case_doc=&regular-lawchunkinfo=%D0%A1%D1%82%D0%B0%D1%82%D1%8C%D1%8F+151.+%D0%9A%D0%BE%D0%BC%D0%BF%D0%B5%D0%BD%D1%81%D0%B0%D1%86%D0%B8%D1%8F+%D0%BC%D0%BE%D1%80%D0%B0%D0%BB%D1%8C%D0%BD%D0%BE%D0%B3%D0%BE+%D0%B2%D1%80%D0%B5%D0%B4%D0%B0%28%D0%93%D0%9A+%D0%A0%D0%A4%29&regular-workflow_stage=10&regular-date_to=30.06.2018&regular-area=&regular-txt=%D0%BC%D0%B5%D0%B4%D0%B8%D1%86%D0%B8%D0%BD%D1%81%D0%BA%D0%B0%D1%8F+%D1%85%D0%B0%D0%BB%D0%B0%D1%82%D0%BD%D0%BE%D1%81%D1%82%D1%8C&_=1583353299570&regular-judge=&snippet_pos=926' with link or location/anchor > 255 characters since it exceeds Excel's limit for URLS\n",
            "  force_unicode(url))\n",
            "/home/politlen/anaconda3/lib/python3.7/site-packages/xlsxwriter/worksheet.py:931: UserWarning: Ignoring URL 'https://sudact.ru/regular/doc/VkKLPEVsi1Jw/?page=5&regular-court=&regular-date_from=01.02.2018&regular-case_doc=&regular-lawchunkinfo=%D0%A1%D1%82%D0%B0%D1%82%D1%8C%D1%8F+151.+%D0%9A%D0%BE%D0%BC%D0%BF%D0%B5%D0%BD%D1%81%D0%B0%D1%86%D0%B8%D1%8F+%D0%BC%D0%BE%D1%80%D0%B0%D0%BB%D1%8C%D0%BD%D0%BE%D0%B3%D0%BE+%D0%B2%D1%80%D0%B5%D0%B4%D0%B0%28%D0%93%D0%9A+%D0%A0%D0%A4%29&regular-workflow_stage=10&regular-date_to=30.06.2018&regular-area=&regular-txt=%D0%BC%D0%B5%D0%B4%D0%B8%D1%86%D0%B8%D0%BD%D1%81%D0%BA%D0%B0%D1%8F+%D1%85%D0%B0%D0%BB%D0%B0%D1%82%D0%BD%D0%BE%D1%81%D1%82%D1%8C&_=1583353299570&regular-judge=&snippet_pos=652' with link or location/anchor > 255 characters since it exceeds Excel's limit for URLS\n",
            "  force_unicode(url))\n",
            "/home/politlen/anaconda3/lib/python3.7/site-packages/xlsxwriter/worksheet.py:931: UserWarning: Ignoring URL 'https://sudact.ru/regular/doc/zYcuTgvcXGo1/?page=5&regular-court=&regular-date_from=01.02.2018&regular-case_doc=&regular-lawchunkinfo=%D0%A1%D1%82%D0%B0%D1%82%D1%8C%D1%8F+151.+%D0%9A%D0%BE%D0%BC%D0%BF%D0%B5%D0%BD%D1%81%D0%B0%D1%86%D0%B8%D1%8F+%D0%BC%D0%BE%D1%80%D0%B0%D0%BB%D1%8C%D0%BD%D0%BE%D0%B3%D0%BE+%D0%B2%D1%80%D0%B5%D0%B4%D0%B0%28%D0%93%D0%9A+%D0%A0%D0%A4%29&regular-workflow_stage=10&regular-date_to=30.06.2018&regular-area=&regular-txt=%D0%BC%D0%B5%D0%B4%D0%B8%D1%86%D0%B8%D0%BD%D1%81%D0%BA%D0%B0%D1%8F+%D1%85%D0%B0%D0%BB%D0%B0%D1%82%D0%BD%D0%BE%D1%81%D1%82%D1%8C&_=1583353299570&regular-judge=&snippet_pos=208' with link or location/anchor > 255 characters since it exceeds Excel's limit for URLS\n",
            "  force_unicode(url))\n",
            "/home/politlen/anaconda3/lib/python3.7/site-packages/xlsxwriter/worksheet.py:931: UserWarning: Ignoring URL 'https://sudact.ru/regular/doc/g7hfb20mopYa/?page=5&regular-court=&regular-date_from=01.02.2018&regular-case_doc=&regular-lawchunkinfo=%D0%A1%D1%82%D0%B0%D1%82%D1%8C%D1%8F+151.+%D0%9A%D0%BE%D0%BC%D0%BF%D0%B5%D0%BD%D1%81%D0%B0%D1%86%D0%B8%D1%8F+%D0%BC%D0%BE%D1%80%D0%B0%D0%BB%D1%8C%D0%BD%D0%BE%D0%B3%D0%BE+%D0%B2%D1%80%D0%B5%D0%B4%D0%B0%28%D0%93%D0%9A+%D0%A0%D0%A4%29&regular-workflow_stage=10&regular-date_to=30.06.2018&regular-area=&regular-txt=%D0%BC%D0%B5%D0%B4%D0%B8%D1%86%D0%B8%D0%BD%D1%81%D0%BA%D0%B0%D1%8F+%D1%85%D0%B0%D0%BB%D0%B0%D1%82%D0%BD%D0%BE%D1%81%D1%82%D1%8C&_=1583353299570&regular-judge=&snippet_pos=640' with link or location/anchor > 255 characters since it exceeds Excel's limit for URLS\n",
            "  force_unicode(url))\n",
            "/home/politlen/anaconda3/lib/python3.7/site-packages/xlsxwriter/worksheet.py:931: UserWarning: Ignoring URL 'https://sudact.ru/regular/doc/M1sC5ZhFzoLr/?page=5&regular-court=&regular-date_from=01.02.2018&regular-case_doc=&regular-lawchunkinfo=%D0%A1%D1%82%D0%B0%D1%82%D1%8C%D1%8F+151.+%D0%9A%D0%BE%D0%BC%D0%BF%D0%B5%D0%BD%D1%81%D0%B0%D1%86%D0%B8%D1%8F+%D0%BC%D0%BE%D1%80%D0%B0%D0%BB%D1%8C%D0%BD%D0%BE%D0%B3%D0%BE+%D0%B2%D1%80%D0%B5%D0%B4%D0%B0%28%D0%93%D0%9A+%D0%A0%D0%A4%29&regular-workflow_stage=10&regular-date_to=30.06.2018&regular-area=&regular-txt=%D0%BC%D0%B5%D0%B4%D0%B8%D1%86%D0%B8%D0%BD%D1%81%D0%BA%D0%B0%D1%8F+%D1%85%D0%B0%D0%BB%D0%B0%D1%82%D0%BD%D0%BE%D1%81%D1%82%D1%8C&_=1583353299570&regular-judge=&snippet_pos=366' with link or location/anchor > 255 characters since it exceeds Excel's limit for URLS\n",
            "  force_unicode(url))\n",
            "/home/politlen/anaconda3/lib/python3.7/site-packages/xlsxwriter/worksheet.py:931: UserWarning: Ignoring URL 'https://sudact.ru/regular/doc/9bUiPlSY9qNK/?page=5&regular-court=&regular-date_from=01.02.2018&regular-case_doc=&regular-lawchunkinfo=%D0%A1%D1%82%D0%B0%D1%82%D1%8C%D1%8F+151.+%D0%9A%D0%BE%D0%BC%D0%BF%D0%B5%D0%BD%D1%81%D0%B0%D1%86%D0%B8%D1%8F+%D0%BC%D0%BE%D1%80%D0%B0%D0%BB%D1%8C%D0%BD%D0%BE%D0%B3%D0%BE+%D0%B2%D1%80%D0%B5%D0%B4%D0%B0%28%D0%93%D0%9A+%D0%A0%D0%A4%29&regular-workflow_stage=10&regular-date_to=30.06.2018&regular-area=&regular-txt=%D0%BC%D0%B5%D0%B4%D0%B8%D1%86%D0%B8%D0%BD%D1%81%D0%BA%D0%B0%D1%8F+%D1%85%D0%B0%D0%BB%D0%B0%D1%82%D0%BD%D0%BE%D1%81%D1%82%D1%8C&_=1583353299570&regular-judge=&snippet_pos=554' with link or location/anchor > 255 characters since it exceeds Excel's limit for URLS\n",
            "  force_unicode(url))\n",
            "/home/politlen/anaconda3/lib/python3.7/site-packages/xlsxwriter/worksheet.py:931: UserWarning: Ignoring URL 'https://sudact.ru/regular/doc/ykqpau8h5bZW/?page=5&regular-court=&regular-date_from=01.02.2018&regular-case_doc=&regular-lawchunkinfo=%D0%A1%D1%82%D0%B0%D1%82%D1%8C%D1%8F+151.+%D0%9A%D0%BE%D0%BC%D0%BF%D0%B5%D0%BD%D1%81%D0%B0%D1%86%D0%B8%D1%8F+%D0%BC%D0%BE%D1%80%D0%B0%D0%BB%D1%8C%D0%BD%D0%BE%D0%B3%D0%BE+%D0%B2%D1%80%D0%B5%D0%B4%D0%B0%28%D0%93%D0%9A+%D0%A0%D0%A4%29&regular-workflow_stage=10&regular-date_to=30.06.2018&regular-area=&regular-txt=%D0%BC%D0%B5%D0%B4%D0%B8%D1%86%D0%B8%D0%BD%D1%81%D0%BA%D0%B0%D1%8F+%D1%85%D0%B0%D0%BB%D0%B0%D1%82%D0%BD%D0%BE%D1%81%D1%82%D1%8C&_=1583353299570&regular-judge=&snippet_pos=1210' with link or location/anchor > 255 characters since it exceeds Excel's limit for URLS\n",
            "  force_unicode(url))\n",
            "/home/politlen/anaconda3/lib/python3.7/site-packages/xlsxwriter/worksheet.py:931: UserWarning: Ignoring URL 'https://sudact.ru/regular/doc/7v6YCSxjKyQl/?page=5&regular-court=&regular-date_from=01.02.2018&regular-case_doc=&regular-lawchunkinfo=%D0%A1%D1%82%D0%B0%D1%82%D1%8C%D1%8F+151.+%D0%9A%D0%BE%D0%BC%D0%BF%D0%B5%D0%BD%D1%81%D0%B0%D1%86%D0%B8%D1%8F+%D0%BC%D0%BE%D1%80%D0%B0%D0%BB%D1%8C%D0%BD%D0%BE%D0%B3%D0%BE+%D0%B2%D1%80%D0%B5%D0%B4%D0%B0%28%D0%93%D0%9A+%D0%A0%D0%A4%29&regular-workflow_stage=10&regular-date_to=30.06.2018&regular-area=&regular-txt=%D0%BC%D0%B5%D0%B4%D0%B8%D1%86%D0%B8%D0%BD%D1%81%D0%BA%D0%B0%D1%8F+%D1%85%D0%B0%D0%BB%D0%B0%D1%82%D0%BD%D0%BE%D1%81%D1%82%D1%8C&_=1583353299570&regular-judge=&snippet_pos=566' with link or location/anchor > 255 characters since it exceeds Excel's limit for URLS\n",
            "  force_unicode(url))\n",
            "/home/politlen/anaconda3/lib/python3.7/site-packages/xlsxwriter/worksheet.py:931: UserWarning: Ignoring URL 'https://sudact.ru/regular/doc/MI7Q2XHGqYUu/?page=6&regular-court=&regular-date_from=01.02.2018&regular-case_doc=&regular-lawchunkinfo=%D0%A1%D1%82%D0%B0%D1%82%D1%8C%D1%8F+151.+%D0%9A%D0%BE%D0%BC%D0%BF%D0%B5%D0%BD%D1%81%D0%B0%D1%86%D0%B8%D1%8F+%D0%BC%D0%BE%D1%80%D0%B0%D0%BB%D1%8C%D0%BD%D0%BE%D0%B3%D0%BE+%D0%B2%D1%80%D0%B5%D0%B4%D0%B0%28%D0%93%D0%9A+%D0%A0%D0%A4%29&regular-workflow_stage=10&regular-date_to=30.06.2018&regular-area=&regular-txt=%D0%BC%D0%B5%D0%B4%D0%B8%D1%86%D0%B8%D0%BD%D1%81%D0%BA%D0%B0%D1%8F+%D1%85%D0%B0%D0%BB%D0%B0%D1%82%D0%BD%D0%BE%D1%81%D1%82%D1%8C&_=1583353303157&regular-judge=&snippet_pos=378' with link or location/anchor > 255 characters since it exceeds Excel's limit for URLS\n",
            "  force_unicode(url))\n",
            "/home/politlen/anaconda3/lib/python3.7/site-packages/xlsxwriter/worksheet.py:931: UserWarning: Ignoring URL 'https://sudact.ru/regular/doc/Hud6Q0aGhzWO/?page=6&regular-court=&regular-date_from=01.02.2018&regular-case_doc=&regular-lawchunkinfo=%D0%A1%D1%82%D0%B0%D1%82%D1%8C%D1%8F+151.+%D0%9A%D0%BE%D0%BC%D0%BF%D0%B5%D0%BD%D1%81%D0%B0%D1%86%D0%B8%D1%8F+%D0%BC%D0%BE%D1%80%D0%B0%D0%BB%D1%8C%D0%BD%D0%BE%D0%B3%D0%BE+%D0%B2%D1%80%D0%B5%D0%B4%D0%B0%28%D0%93%D0%9A+%D0%A0%D0%A4%29&regular-workflow_stage=10&regular-date_to=30.06.2018&regular-area=&regular-txt=%D0%BC%D0%B5%D0%B4%D0%B8%D1%86%D0%B8%D0%BD%D1%81%D0%BA%D0%B0%D1%8F+%D1%85%D0%B0%D0%BB%D0%B0%D1%82%D0%BD%D0%BE%D1%81%D1%82%D1%8C&_=1583353303157&regular-judge=&snippet_pos=2226' with link or location/anchor > 255 characters since it exceeds Excel's limit for URLS\n",
            "  force_unicode(url))\n",
            "/home/politlen/anaconda3/lib/python3.7/site-packages/xlsxwriter/worksheet.py:931: UserWarning: Ignoring URL 'https://sudact.ru/regular/doc/NJiXu4AueFb1/?page=6&regular-court=&regular-date_from=01.02.2018&regular-case_doc=&regular-lawchunkinfo=%D0%A1%D1%82%D0%B0%D1%82%D1%8C%D1%8F+151.+%D0%9A%D0%BE%D0%BC%D0%BF%D0%B5%D0%BD%D1%81%D0%B0%D1%86%D0%B8%D1%8F+%D0%BC%D0%BE%D1%80%D0%B0%D0%BB%D1%8C%D0%BD%D0%BE%D0%B3%D0%BE+%D0%B2%D1%80%D0%B5%D0%B4%D0%B0%28%D0%93%D0%9A+%D0%A0%D0%A4%29&regular-workflow_stage=10&regular-date_to=30.06.2018&regular-area=&regular-txt=%D0%BC%D0%B5%D0%B4%D0%B8%D1%86%D0%B8%D0%BD%D1%81%D0%BA%D0%B0%D1%8F+%D1%85%D0%B0%D0%BB%D0%B0%D1%82%D0%BD%D0%BE%D1%81%D1%82%D1%8C&_=1583353303157&regular-judge=&snippet_pos=286' with link or location/anchor > 255 characters since it exceeds Excel's limit for URLS\n",
            "  force_unicode(url))\n",
            "/home/politlen/anaconda3/lib/python3.7/site-packages/xlsxwriter/worksheet.py:931: UserWarning: Ignoring URL 'https://sudact.ru/regular/doc/2QIrnCW1Pz5w/?page=6&regular-court=&regular-date_from=01.02.2018&regular-case_doc=&regular-lawchunkinfo=%D0%A1%D1%82%D0%B0%D1%82%D1%8C%D1%8F+151.+%D0%9A%D0%BE%D0%BC%D0%BF%D0%B5%D0%BD%D1%81%D0%B0%D1%86%D0%B8%D1%8F+%D0%BC%D0%BE%D1%80%D0%B0%D0%BB%D1%8C%D0%BD%D0%BE%D0%B3%D0%BE+%D0%B2%D1%80%D0%B5%D0%B4%D0%B0%28%D0%93%D0%9A+%D0%A0%D0%A4%29&regular-workflow_stage=10&regular-date_to=30.06.2018&regular-area=&regular-txt=%D0%BC%D0%B5%D0%B4%D0%B8%D1%86%D0%B8%D0%BD%D1%81%D0%BA%D0%B0%D1%8F+%D1%85%D0%B0%D0%BB%D0%B0%D1%82%D0%BD%D0%BE%D1%81%D1%82%D1%8C&_=1583353303157&regular-judge=&snippet_pos=3212' with link or location/anchor > 255 characters since it exceeds Excel's limit for URLS\n",
            "  force_unicode(url))\n",
            "/home/politlen/anaconda3/lib/python3.7/site-packages/xlsxwriter/worksheet.py:931: UserWarning: Ignoring URL 'https://sudact.ru/regular/doc/YDpJh3tBtSQ1/?page=6&regular-court=&regular-date_from=01.02.2018&regular-case_doc=&regular-lawchunkinfo=%D0%A1%D1%82%D0%B0%D1%82%D1%8C%D1%8F+151.+%D0%9A%D0%BE%D0%BC%D0%BF%D0%B5%D0%BD%D1%81%D0%B0%D1%86%D0%B8%D1%8F+%D0%BC%D0%BE%D1%80%D0%B0%D0%BB%D1%8C%D0%BD%D0%BE%D0%B3%D0%BE+%D0%B2%D1%80%D0%B5%D0%B4%D0%B0%28%D0%93%D0%9A+%D0%A0%D0%A4%29&regular-workflow_stage=10&regular-date_to=30.06.2018&regular-area=&regular-txt=%D0%BC%D0%B5%D0%B4%D0%B8%D1%86%D0%B8%D0%BD%D1%81%D0%BA%D0%B0%D1%8F+%D1%85%D0%B0%D0%BB%D0%B0%D1%82%D0%BD%D0%BE%D1%81%D1%82%D1%8C&_=1583353303157&regular-judge=&snippet_pos=7848' with link or location/anchor > 255 characters since it exceeds Excel's limit for URLS\n",
            "  force_unicode(url))\n",
            "/home/politlen/anaconda3/lib/python3.7/site-packages/xlsxwriter/worksheet.py:931: UserWarning: Ignoring URL 'https://sudact.ru/regular/doc/aiurn2s2VCrw/?page=6&regular-court=&regular-date_from=01.02.2018&regular-case_doc=&regular-lawchunkinfo=%D0%A1%D1%82%D0%B0%D1%82%D1%8C%D1%8F+151.+%D0%9A%D0%BE%D0%BC%D0%BF%D0%B5%D0%BD%D1%81%D0%B0%D1%86%D0%B8%D1%8F+%D0%BC%D0%BE%D1%80%D0%B0%D0%BB%D1%8C%D0%BD%D0%BE%D0%B3%D0%BE+%D0%B2%D1%80%D0%B5%D0%B4%D0%B0%28%D0%93%D0%9A+%D0%A0%D0%A4%29&regular-workflow_stage=10&regular-date_to=30.06.2018&regular-area=&regular-txt=%D0%BC%D0%B5%D0%B4%D0%B8%D1%86%D0%B8%D0%BD%D1%81%D0%BA%D0%B0%D1%8F+%D1%85%D0%B0%D0%BB%D0%B0%D1%82%D0%BD%D0%BE%D1%81%D1%82%D1%8C&_=1583353303157&regular-judge=&snippet_pos=1556' with link or location/anchor > 255 characters since it exceeds Excel's limit for URLS\n",
            "  force_unicode(url))\n",
            "/home/politlen/anaconda3/lib/python3.7/site-packages/xlsxwriter/worksheet.py:931: UserWarning: Ignoring URL 'https://sudact.ru/regular/doc/Ypxketgs6LLj/?page=6&regular-court=&regular-date_from=01.02.2018&regular-case_doc=&regular-lawchunkinfo=%D0%A1%D1%82%D0%B0%D1%82%D1%8C%D1%8F+151.+%D0%9A%D0%BE%D0%BC%D0%BF%D0%B5%D0%BD%D1%81%D0%B0%D1%86%D0%B8%D1%8F+%D0%BC%D0%BE%D1%80%D0%B0%D0%BB%D1%8C%D0%BD%D0%BE%D0%B3%D0%BE+%D0%B2%D1%80%D0%B5%D0%B4%D0%B0%28%D0%93%D0%9A+%D0%A0%D0%A4%29&regular-workflow_stage=10&regular-date_to=30.06.2018&regular-area=&regular-txt=%D0%BC%D0%B5%D0%B4%D0%B8%D1%86%D0%B8%D0%BD%D1%81%D0%BA%D0%B0%D1%8F+%D1%85%D0%B0%D0%BB%D0%B0%D1%82%D0%BD%D0%BE%D1%81%D1%82%D1%8C&_=1583353303157&regular-judge=&snippet_pos=2294' with link or location/anchor > 255 characters since it exceeds Excel's limit for URLS\n",
            "  force_unicode(url))\n",
            "/home/politlen/anaconda3/lib/python3.7/site-packages/xlsxwriter/worksheet.py:931: UserWarning: Ignoring URL 'https://sudact.ru/regular/doc/B4iXt63sESW4/?page=6&regular-court=&regular-date_from=01.02.2018&regular-case_doc=&regular-lawchunkinfo=%D0%A1%D1%82%D0%B0%D1%82%D1%8C%D1%8F+151.+%D0%9A%D0%BE%D0%BC%D0%BF%D0%B5%D0%BD%D1%81%D0%B0%D1%86%D0%B8%D1%8F+%D0%BC%D0%BE%D1%80%D0%B0%D0%BB%D1%8C%D0%BD%D0%BE%D0%B3%D0%BE+%D0%B2%D1%80%D0%B5%D0%B4%D0%B0%28%D0%93%D0%9A+%D0%A0%D0%A4%29&regular-workflow_stage=10&regular-date_to=30.06.2018&regular-area=&regular-txt=%D0%BC%D0%B5%D0%B4%D0%B8%D1%86%D0%B8%D0%BD%D1%81%D0%BA%D0%B0%D1%8F+%D1%85%D0%B0%D0%BB%D0%B0%D1%82%D0%BD%D0%BE%D1%81%D1%82%D1%8C&_=1583353303157&regular-judge=&snippet_pos=6552' with link or location/anchor > 255 characters since it exceeds Excel's limit for URLS\n",
            "  force_unicode(url))\n",
            "/home/politlen/anaconda3/lib/python3.7/site-packages/xlsxwriter/worksheet.py:931: UserWarning: Ignoring URL 'https://sudact.ru/regular/doc/3AW3XCBP83Uh/?page=6&regular-court=&regular-date_from=01.02.2018&regular-case_doc=&regular-lawchunkinfo=%D0%A1%D1%82%D0%B0%D1%82%D1%8C%D1%8F+151.+%D0%9A%D0%BE%D0%BC%D0%BF%D0%B5%D0%BD%D1%81%D0%B0%D1%86%D0%B8%D1%8F+%D0%BC%D0%BE%D1%80%D0%B0%D0%BB%D1%8C%D0%BD%D0%BE%D0%B3%D0%BE+%D0%B2%D1%80%D0%B5%D0%B4%D0%B0%28%D0%93%D0%9A+%D0%A0%D0%A4%29&regular-workflow_stage=10&regular-date_to=30.06.2018&regular-area=&regular-txt=%D0%BC%D0%B5%D0%B4%D0%B8%D1%86%D0%B8%D0%BD%D1%81%D0%BA%D0%B0%D1%8F+%D1%85%D0%B0%D0%BB%D0%B0%D1%82%D0%BD%D0%BE%D1%81%D1%82%D1%8C&_=1583353303157&regular-judge=&snippet_pos=204' with link or location/anchor > 255 characters since it exceeds Excel's limit for URLS\n",
            "  force_unicode(url))\n",
            "/home/politlen/anaconda3/lib/python3.7/site-packages/xlsxwriter/worksheet.py:931: UserWarning: Ignoring URL 'https://sudact.ru/regular/doc/ATIeZu4tKyLa/?page=6&regular-court=&regular-date_from=01.02.2018&regular-case_doc=&regular-lawchunkinfo=%D0%A1%D1%82%D0%B0%D1%82%D1%8C%D1%8F+151.+%D0%9A%D0%BE%D0%BC%D0%BF%D0%B5%D0%BD%D1%81%D0%B0%D1%86%D0%B8%D1%8F+%D0%BC%D0%BE%D1%80%D0%B0%D0%BB%D1%8C%D0%BD%D0%BE%D0%B3%D0%BE+%D0%B2%D1%80%D0%B5%D0%B4%D0%B0%28%D0%93%D0%9A+%D0%A0%D0%A4%29&regular-workflow_stage=10&regular-date_to=30.06.2018&regular-area=&regular-txt=%D0%BC%D0%B5%D0%B4%D0%B8%D1%86%D0%B8%D0%BD%D1%81%D0%BA%D0%B0%D1%8F+%D1%85%D0%B0%D0%BB%D0%B0%D1%82%D0%BD%D0%BE%D1%81%D1%82%D1%8C&_=1583353303157&regular-judge=&snippet_pos=2706' with link or location/anchor > 255 characters since it exceeds Excel's limit for URLS\n",
            "  force_unicode(url))\n",
            "/home/politlen/anaconda3/lib/python3.7/site-packages/xlsxwriter/worksheet.py:931: UserWarning: Ignoring URL 'https://sudact.ru/regular/doc/AfFhnUdT6Mz/?page=7&regular-court=&regular-date_from=01.02.2018&regular-case_doc=&regular-lawchunkinfo=%D0%A1%D1%82%D0%B0%D1%82%D1%8C%D1%8F+151.+%D0%9A%D0%BE%D0%BC%D0%BF%D0%B5%D0%BD%D1%81%D0%B0%D1%86%D0%B8%D1%8F+%D0%BC%D0%BE%D1%80%D0%B0%D0%BB%D1%8C%D0%BD%D0%BE%D0%B3%D0%BE+%D0%B2%D1%80%D0%B5%D0%B4%D0%B0%28%D0%93%D0%9A+%D0%A0%D0%A4%29&regular-workflow_stage=10&regular-date_to=30.06.2018&regular-area=&regular-txt=%D0%BC%D0%B5%D0%B4%D0%B8%D1%86%D0%B8%D0%BD%D1%81%D0%BA%D0%B0%D1%8F+%D1%85%D0%B0%D0%BB%D0%B0%D1%82%D0%BD%D0%BE%D1%81%D1%82%D1%8C&_=1583353306717&regular-judge=&snippet_pos=2614' with link or location/anchor > 255 characters since it exceeds Excel's limit for URLS\n",
            "  force_unicode(url))\n",
            "/home/politlen/anaconda3/lib/python3.7/site-packages/xlsxwriter/worksheet.py:931: UserWarning: Ignoring URL 'https://sudact.ru/regular/doc/WPwADDv2PF6w/?page=7&regular-court=&regular-date_from=01.02.2018&regular-case_doc=&regular-lawchunkinfo=%D0%A1%D1%82%D0%B0%D1%82%D1%8C%D1%8F+151.+%D0%9A%D0%BE%D0%BC%D0%BF%D0%B5%D0%BD%D1%81%D0%B0%D1%86%D0%B8%D1%8F+%D0%BC%D0%BE%D1%80%D0%B0%D0%BB%D1%8C%D0%BD%D0%BE%D0%B3%D0%BE+%D0%B2%D1%80%D0%B5%D0%B4%D0%B0%28%D0%93%D0%9A+%D0%A0%D0%A4%29&regular-workflow_stage=10&regular-date_to=30.06.2018&regular-area=&regular-txt=%D0%BC%D0%B5%D0%B4%D0%B8%D1%86%D0%B8%D0%BD%D1%81%D0%BA%D0%B0%D1%8F+%D1%85%D0%B0%D0%BB%D0%B0%D1%82%D0%BD%D0%BE%D1%81%D1%82%D1%8C&_=1583353306717&regular-judge=&snippet_pos=512' with link or location/anchor > 255 characters since it exceeds Excel's limit for URLS\n",
            "  force_unicode(url))\n",
            "/home/politlen/anaconda3/lib/python3.7/site-packages/xlsxwriter/worksheet.py:931: UserWarning: Ignoring URL 'https://sudact.ru/regular/doc/VyUUvoUYeiQx/?page=7&regular-court=&regular-date_from=01.02.2018&regular-case_doc=&regular-lawchunkinfo=%D0%A1%D1%82%D0%B0%D1%82%D1%8C%D1%8F+151.+%D0%9A%D0%BE%D0%BC%D0%BF%D0%B5%D0%BD%D1%81%D0%B0%D1%86%D0%B8%D1%8F+%D0%BC%D0%BE%D1%80%D0%B0%D0%BB%D1%8C%D0%BD%D0%BE%D0%B3%D0%BE+%D0%B2%D1%80%D0%B5%D0%B4%D0%B0%28%D0%93%D0%9A+%D0%A0%D0%A4%29&regular-workflow_stage=10&regular-date_to=30.06.2018&regular-area=&regular-txt=%D0%BC%D0%B5%D0%B4%D0%B8%D1%86%D0%B8%D0%BD%D1%81%D0%BA%D0%B0%D1%8F+%D1%85%D0%B0%D0%BB%D0%B0%D1%82%D0%BD%D0%BE%D1%81%D1%82%D1%8C&_=1583353306717&regular-judge=&snippet_pos=2258' with link or location/anchor > 255 characters since it exceeds Excel's limit for URLS\n",
            "  force_unicode(url))\n",
            "/home/politlen/anaconda3/lib/python3.7/site-packages/xlsxwriter/worksheet.py:931: UserWarning: Ignoring URL 'https://sudact.ru/regular/doc/Ha92AkdMj15p/?page=7&regular-court=&regular-date_from=01.02.2018&regular-case_doc=&regular-lawchunkinfo=%D0%A1%D1%82%D0%B0%D1%82%D1%8C%D1%8F+151.+%D0%9A%D0%BE%D0%BC%D0%BF%D0%B5%D0%BD%D1%81%D0%B0%D1%86%D0%B8%D1%8F+%D0%BC%D0%BE%D1%80%D0%B0%D0%BB%D1%8C%D0%BD%D0%BE%D0%B3%D0%BE+%D0%B2%D1%80%D0%B5%D0%B4%D0%B0%28%D0%93%D0%9A+%D0%A0%D0%A4%29&regular-workflow_stage=10&regular-date_to=30.06.2018&regular-area=&regular-txt=%D0%BC%D0%B5%D0%B4%D0%B8%D1%86%D0%B8%D0%BD%D1%81%D0%BA%D0%B0%D1%8F+%D1%85%D0%B0%D0%BB%D0%B0%D1%82%D0%BD%D0%BE%D1%81%D1%82%D1%8C&_=1583353306717&regular-judge=&snippet_pos=460' with link or location/anchor > 255 characters since it exceeds Excel's limit for URLS\n",
            "  force_unicode(url))\n",
            "/home/politlen/anaconda3/lib/python3.7/site-packages/xlsxwriter/worksheet.py:931: UserWarning: Ignoring URL 'https://sudact.ru/regular/doc/3bH26pxaUW68/?page=7&regular-court=&regular-date_from=01.02.2018&regular-case_doc=&regular-lawchunkinfo=%D0%A1%D1%82%D0%B0%D1%82%D1%8C%D1%8F+151.+%D0%9A%D0%BE%D0%BC%D0%BF%D0%B5%D0%BD%D1%81%D0%B0%D1%86%D0%B8%D1%8F+%D0%BC%D0%BE%D1%80%D0%B0%D0%BB%D1%8C%D0%BD%D0%BE%D0%B3%D0%BE+%D0%B2%D1%80%D0%B5%D0%B4%D0%B0%28%D0%93%D0%9A+%D0%A0%D0%A4%29&regular-workflow_stage=10&regular-date_to=30.06.2018&regular-area=&regular-txt=%D0%BC%D0%B5%D0%B4%D0%B8%D1%86%D0%B8%D0%BD%D1%81%D0%BA%D0%B0%D1%8F+%D1%85%D0%B0%D0%BB%D0%B0%D1%82%D0%BD%D0%BE%D1%81%D1%82%D1%8C&_=1583353306717&regular-judge=&snippet_pos=268' with link or location/anchor > 255 characters since it exceeds Excel's limit for URLS\n",
            "  force_unicode(url))\n",
            "/home/politlen/anaconda3/lib/python3.7/site-packages/xlsxwriter/worksheet.py:931: UserWarning: Ignoring URL 'https://sudact.ru/regular/doc/AXgaG9U7gomt/?page=7&regular-court=&regular-date_from=01.02.2018&regular-case_doc=&regular-lawchunkinfo=%D0%A1%D1%82%D0%B0%D1%82%D1%8C%D1%8F+151.+%D0%9A%D0%BE%D0%BC%D0%BF%D0%B5%D0%BD%D1%81%D0%B0%D1%86%D0%B8%D1%8F+%D0%BC%D0%BE%D1%80%D0%B0%D0%BB%D1%8C%D0%BD%D0%BE%D0%B3%D0%BE+%D0%B2%D1%80%D0%B5%D0%B4%D0%B0%28%D0%93%D0%9A+%D0%A0%D0%A4%29&regular-workflow_stage=10&regular-date_to=30.06.2018&regular-area=&regular-txt=%D0%BC%D0%B5%D0%B4%D0%B8%D1%86%D0%B8%D0%BD%D1%81%D0%BA%D0%B0%D1%8F+%D1%85%D0%B0%D0%BB%D0%B0%D1%82%D0%BD%D0%BE%D1%81%D1%82%D1%8C&_=1583353306717&regular-judge=&snippet_pos=156' with link or location/anchor > 255 characters since it exceeds Excel's limit for URLS\n",
            "  force_unicode(url))\n",
            "/home/politlen/anaconda3/lib/python3.7/site-packages/xlsxwriter/worksheet.py:931: UserWarning: Ignoring URL 'https://sudact.ru/regular/doc/JsIJHJ5ETGQK/?page=7&regular-court=&regular-date_from=01.02.2018&regular-case_doc=&regular-lawchunkinfo=%D0%A1%D1%82%D0%B0%D1%82%D1%8C%D1%8F+151.+%D0%9A%D0%BE%D0%BC%D0%BF%D0%B5%D0%BD%D1%81%D0%B0%D1%86%D0%B8%D1%8F+%D0%BC%D0%BE%D1%80%D0%B0%D0%BB%D1%8C%D0%BD%D0%BE%D0%B3%D0%BE+%D0%B2%D1%80%D0%B5%D0%B4%D0%B0%28%D0%93%D0%9A+%D0%A0%D0%A4%29&regular-workflow_stage=10&regular-date_to=30.06.2018&regular-area=&regular-txt=%D0%BC%D0%B5%D0%B4%D0%B8%D1%86%D0%B8%D0%BD%D1%81%D0%BA%D0%B0%D1%8F+%D1%85%D0%B0%D0%BB%D0%B0%D1%82%D0%BD%D0%BE%D1%81%D1%82%D1%8C&_=1583353306717&regular-judge=&snippet_pos=4672' with link or location/anchor > 255 characters since it exceeds Excel's limit for URLS\n",
            "  force_unicode(url))\n",
            "/home/politlen/anaconda3/lib/python3.7/site-packages/xlsxwriter/worksheet.py:931: UserWarning: Ignoring URL 'https://sudact.ru/regular/doc/7oVdiHwui3WO/?page=7&regular-court=&regular-date_from=01.02.2018&regular-case_doc=&regular-lawchunkinfo=%D0%A1%D1%82%D0%B0%D1%82%D1%8C%D1%8F+151.+%D0%9A%D0%BE%D0%BC%D0%BF%D0%B5%D0%BD%D1%81%D0%B0%D1%86%D0%B8%D1%8F+%D0%BC%D0%BE%D1%80%D0%B0%D0%BB%D1%8C%D0%BD%D0%BE%D0%B3%D0%BE+%D0%B2%D1%80%D0%B5%D0%B4%D0%B0%28%D0%93%D0%9A+%D0%A0%D0%A4%29&regular-workflow_stage=10&regular-date_to=30.06.2018&regular-area=&regular-txt=%D0%BC%D0%B5%D0%B4%D0%B8%D1%86%D0%B8%D0%BD%D1%81%D0%BA%D0%B0%D1%8F+%D1%85%D0%B0%D0%BB%D0%B0%D1%82%D0%BD%D0%BE%D1%81%D1%82%D1%8C&_=1583353306717&regular-judge=&snippet_pos=584' with link or location/anchor > 255 characters since it exceeds Excel's limit for URLS\n",
            "  force_unicode(url))\n",
            "/home/politlen/anaconda3/lib/python3.7/site-packages/xlsxwriter/worksheet.py:931: UserWarning: Ignoring URL 'https://sudact.ru/regular/doc/7k0pX8vDLXYn/?page=7&regular-court=&regular-date_from=01.02.2018&regular-case_doc=&regular-lawchunkinfo=%D0%A1%D1%82%D0%B0%D1%82%D1%8C%D1%8F+151.+%D0%9A%D0%BE%D0%BC%D0%BF%D0%B5%D0%BD%D1%81%D0%B0%D1%86%D0%B8%D1%8F+%D0%BC%D0%BE%D1%80%D0%B0%D0%BB%D1%8C%D0%BD%D0%BE%D0%B3%D0%BE+%D0%B2%D1%80%D0%B5%D0%B4%D0%B0%28%D0%93%D0%9A+%D0%A0%D0%A4%29&regular-workflow_stage=10&regular-date_to=30.06.2018&regular-area=&regular-txt=%D0%BC%D0%B5%D0%B4%D0%B8%D1%86%D0%B8%D0%BD%D1%81%D0%BA%D0%B0%D1%8F+%D1%85%D0%B0%D0%BB%D0%B0%D1%82%D0%BD%D0%BE%D1%81%D1%82%D1%8C&_=1583353306717&regular-judge=&snippet_pos=592' with link or location/anchor > 255 characters since it exceeds Excel's limit for URLS\n",
            "  force_unicode(url))\n",
            "/home/politlen/anaconda3/lib/python3.7/site-packages/xlsxwriter/worksheet.py:931: UserWarning: Ignoring URL 'https://sudact.ru/regular/doc/WlsqSxqFMUJQ/?page=7&regular-court=&regular-date_from=01.02.2018&regular-case_doc=&regular-lawchunkinfo=%D0%A1%D1%82%D0%B0%D1%82%D1%8C%D1%8F+151.+%D0%9A%D0%BE%D0%BC%D0%BF%D0%B5%D0%BD%D1%81%D0%B0%D1%86%D0%B8%D1%8F+%D0%BC%D0%BE%D1%80%D0%B0%D0%BB%D1%8C%D0%BD%D0%BE%D0%B3%D0%BE+%D0%B2%D1%80%D0%B5%D0%B4%D0%B0%28%D0%93%D0%9A+%D0%A0%D0%A4%29&regular-workflow_stage=10&regular-date_to=30.06.2018&regular-area=&regular-txt=%D0%BC%D0%B5%D0%B4%D0%B8%D1%86%D0%B8%D0%BD%D1%81%D0%BA%D0%B0%D1%8F+%D1%85%D0%B0%D0%BB%D0%B0%D1%82%D0%BD%D0%BE%D1%81%D1%82%D1%8C&_=1583353306717&regular-judge=&snippet_pos=3014' with link or location/anchor > 255 characters since it exceeds Excel's limit for URLS\n",
            "  force_unicode(url))\n",
            "/home/politlen/anaconda3/lib/python3.7/site-packages/xlsxwriter/worksheet.py:931: UserWarning: Ignoring URL 'https://sudact.ru/regular/doc/TdWRVMuvLx51/?page=8&regular-court=&regular-date_from=01.02.2018&regular-case_doc=&regular-lawchunkinfo=%D0%A1%D1%82%D0%B0%D1%82%D1%8C%D1%8F+151.+%D0%9A%D0%BE%D0%BC%D0%BF%D0%B5%D0%BD%D1%81%D0%B0%D1%86%D0%B8%D1%8F+%D0%BC%D0%BE%D1%80%D0%B0%D0%BB%D1%8C%D0%BD%D0%BE%D0%B3%D0%BE+%D0%B2%D1%80%D0%B5%D0%B4%D0%B0%28%D0%93%D0%9A+%D0%A0%D0%A4%29&regular-workflow_stage=10&regular-date_to=30.06.2018&regular-area=&regular-txt=%D0%BC%D0%B5%D0%B4%D0%B8%D1%86%D0%B8%D0%BD%D1%81%D0%BA%D0%B0%D1%8F+%D1%85%D0%B0%D0%BB%D0%B0%D1%82%D0%BD%D0%BE%D1%81%D1%82%D1%8C&_=1583353310234&regular-judge=&snippet_pos=974' with link or location/anchor > 255 characters since it exceeds Excel's limit for URLS\n",
            "  force_unicode(url))\n",
            "/home/politlen/anaconda3/lib/python3.7/site-packages/xlsxwriter/worksheet.py:931: UserWarning: Ignoring URL 'https://sudact.ru/regular/doc/DIdHFVqFpPa/?page=8&regular-court=&regular-date_from=01.02.2018&regular-case_doc=&regular-lawchunkinfo=%D0%A1%D1%82%D0%B0%D1%82%D1%8C%D1%8F+151.+%D0%9A%D0%BE%D0%BC%D0%BF%D0%B5%D0%BD%D1%81%D0%B0%D1%86%D0%B8%D1%8F+%D0%BC%D0%BE%D1%80%D0%B0%D0%BB%D1%8C%D0%BD%D0%BE%D0%B3%D0%BE+%D0%B2%D1%80%D0%B5%D0%B4%D0%B0%28%D0%93%D0%9A+%D0%A0%D0%A4%29&regular-workflow_stage=10&regular-date_to=30.06.2018&regular-area=&regular-txt=%D0%BC%D0%B5%D0%B4%D0%B8%D1%86%D0%B8%D0%BD%D1%81%D0%BA%D0%B0%D1%8F+%D1%85%D0%B0%D0%BB%D0%B0%D1%82%D0%BD%D0%BE%D1%81%D1%82%D1%8C&_=1583353310234&regular-judge=&snippet_pos=1716' with link or location/anchor > 255 characters since it exceeds Excel's limit for URLS\n",
            "  force_unicode(url))\n",
            "/home/politlen/anaconda3/lib/python3.7/site-packages/xlsxwriter/worksheet.py:931: UserWarning: Ignoring URL 'https://sudact.ru/regular/doc/mc7lUMPKNU6V/?page=8&regular-court=&regular-date_from=01.02.2018&regular-case_doc=&regular-lawchunkinfo=%D0%A1%D1%82%D0%B0%D1%82%D1%8C%D1%8F+151.+%D0%9A%D0%BE%D0%BC%D0%BF%D0%B5%D0%BD%D1%81%D0%B0%D1%86%D0%B8%D1%8F+%D0%BC%D0%BE%D1%80%D0%B0%D0%BB%D1%8C%D0%BD%D0%BE%D0%B3%D0%BE+%D0%B2%D1%80%D0%B5%D0%B4%D0%B0%28%D0%93%D0%9A+%D0%A0%D0%A4%29&regular-workflow_stage=10&regular-date_to=30.06.2018&regular-area=&regular-txt=%D0%BC%D0%B5%D0%B4%D0%B8%D1%86%D0%B8%D0%BD%D1%81%D0%BA%D0%B0%D1%8F+%D1%85%D0%B0%D0%BB%D0%B0%D1%82%D0%BD%D0%BE%D1%81%D1%82%D1%8C&_=1583353310234&regular-judge=&snippet_pos=968' with link or location/anchor > 255 characters since it exceeds Excel's limit for URLS\n",
            "  force_unicode(url))\n",
            "/home/politlen/anaconda3/lib/python3.7/site-packages/xlsxwriter/worksheet.py:931: UserWarning: Ignoring URL 'https://sudact.ru/regular/doc/ZudiiwW9G4gP/?page=8&regular-court=&regular-date_from=01.02.2018&regular-case_doc=&regular-lawchunkinfo=%D0%A1%D1%82%D0%B0%D1%82%D1%8C%D1%8F+151.+%D0%9A%D0%BE%D0%BC%D0%BF%D0%B5%D0%BD%D1%81%D0%B0%D1%86%D0%B8%D1%8F+%D0%BC%D0%BE%D1%80%D0%B0%D0%BB%D1%8C%D0%BD%D0%BE%D0%B3%D0%BE+%D0%B2%D1%80%D0%B5%D0%B4%D0%B0%28%D0%93%D0%9A+%D0%A0%D0%A4%29&regular-workflow_stage=10&regular-date_to=30.06.2018&regular-area=&regular-txt=%D0%BC%D0%B5%D0%B4%D0%B8%D1%86%D0%B8%D0%BD%D1%81%D0%BA%D0%B0%D1%8F+%D1%85%D0%B0%D0%BB%D0%B0%D1%82%D0%BD%D0%BE%D1%81%D1%82%D1%8C&_=1583353310234&regular-judge=&snippet_pos=756' with link or location/anchor > 255 characters since it exceeds Excel's limit for URLS\n",
            "  force_unicode(url))\n",
            "/home/politlen/anaconda3/lib/python3.7/site-packages/xlsxwriter/worksheet.py:931: UserWarning: Ignoring URL 'https://sudact.ru/regular/doc/eUcnppE85SoQ/?page=8&regular-court=&regular-date_from=01.02.2018&regular-case_doc=&regular-lawchunkinfo=%D0%A1%D1%82%D0%B0%D1%82%D1%8C%D1%8F+151.+%D0%9A%D0%BE%D0%BC%D0%BF%D0%B5%D0%BD%D1%81%D0%B0%D1%86%D0%B8%D1%8F+%D0%BC%D0%BE%D1%80%D0%B0%D0%BB%D1%8C%D0%BD%D0%BE%D0%B3%D0%BE+%D0%B2%D1%80%D0%B5%D0%B4%D0%B0%28%D0%93%D0%9A+%D0%A0%D0%A4%29&regular-workflow_stage=10&regular-date_to=30.06.2018&regular-area=&regular-txt=%D0%BC%D0%B5%D0%B4%D0%B8%D1%86%D0%B8%D0%BD%D1%81%D0%BA%D0%B0%D1%8F+%D1%85%D0%B0%D0%BB%D0%B0%D1%82%D0%BD%D0%BE%D1%81%D1%82%D1%8C&_=1583353310234&regular-judge=&snippet_pos=4548' with link or location/anchor > 255 characters since it exceeds Excel's limit for URLS\n",
            "  force_unicode(url))\n",
            "/home/politlen/anaconda3/lib/python3.7/site-packages/xlsxwriter/worksheet.py:931: UserWarning: Ignoring URL 'https://sudact.ru/regular/doc/yvIosdzcUg66/?page=8&regular-court=&regular-date_from=01.02.2018&regular-case_doc=&regular-lawchunkinfo=%D0%A1%D1%82%D0%B0%D1%82%D1%8C%D1%8F+151.+%D0%9A%D0%BE%D0%BC%D0%BF%D0%B5%D0%BD%D1%81%D0%B0%D1%86%D0%B8%D1%8F+%D0%BC%D0%BE%D1%80%D0%B0%D0%BB%D1%8C%D0%BD%D0%BE%D0%B3%D0%BE+%D0%B2%D1%80%D0%B5%D0%B4%D0%B0%28%D0%93%D0%9A+%D0%A0%D0%A4%29&regular-workflow_stage=10&regular-date_to=30.06.2018&regular-area=&regular-txt=%D0%BC%D0%B5%D0%B4%D0%B8%D1%86%D0%B8%D0%BD%D1%81%D0%BA%D0%B0%D1%8F+%D1%85%D0%B0%D0%BB%D0%B0%D1%82%D0%BD%D0%BE%D1%81%D1%82%D1%8C&_=1583353310234&regular-judge=&snippet_pos=1442' with link or location/anchor > 255 characters since it exceeds Excel's limit for URLS\n",
            "  force_unicode(url))\n",
            "/home/politlen/anaconda3/lib/python3.7/site-packages/xlsxwriter/worksheet.py:931: UserWarning: Ignoring URL 'https://sudact.ru/regular/doc/5wIkdPDwWmlZ/?page=8&regular-court=&regular-date_from=01.02.2018&regular-case_doc=&regular-lawchunkinfo=%D0%A1%D1%82%D0%B0%D1%82%D1%8C%D1%8F+151.+%D0%9A%D0%BE%D0%BC%D0%BF%D0%B5%D0%BD%D1%81%D0%B0%D1%86%D0%B8%D1%8F+%D0%BC%D0%BE%D1%80%D0%B0%D0%BB%D1%8C%D0%BD%D0%BE%D0%B3%D0%BE+%D0%B2%D1%80%D0%B5%D0%B4%D0%B0%28%D0%93%D0%9A+%D0%A0%D0%A4%29&regular-workflow_stage=10&regular-date_to=30.06.2018&regular-area=&regular-txt=%D0%BC%D0%B5%D0%B4%D0%B8%D1%86%D0%B8%D0%BD%D1%81%D0%BA%D0%B0%D1%8F+%D1%85%D0%B0%D0%BB%D0%B0%D1%82%D0%BD%D0%BE%D1%81%D1%82%D1%8C&_=1583353310234&regular-judge=&snippet_pos=518' with link or location/anchor > 255 characters since it exceeds Excel's limit for URLS\n",
            "  force_unicode(url))\n",
            "/home/politlen/anaconda3/lib/python3.7/site-packages/xlsxwriter/worksheet.py:931: UserWarning: Ignoring URL 'https://sudact.ru/regular/doc/bfTkkSISHLxX/?page=8&regular-court=&regular-date_from=01.02.2018&regular-case_doc=&regular-lawchunkinfo=%D0%A1%D1%82%D0%B0%D1%82%D1%8C%D1%8F+151.+%D0%9A%D0%BE%D0%BC%D0%BF%D0%B5%D0%BD%D1%81%D0%B0%D1%86%D0%B8%D1%8F+%D0%BC%D0%BE%D1%80%D0%B0%D0%BB%D1%8C%D0%BD%D0%BE%D0%B3%D0%BE+%D0%B2%D1%80%D0%B5%D0%B4%D0%B0%28%D0%93%D0%9A+%D0%A0%D0%A4%29&regular-workflow_stage=10&regular-date_to=30.06.2018&regular-area=&regular-txt=%D0%BC%D0%B5%D0%B4%D0%B8%D1%86%D0%B8%D0%BD%D1%81%D0%BA%D0%B0%D1%8F+%D1%85%D0%B0%D0%BB%D0%B0%D1%82%D0%BD%D0%BE%D1%81%D1%82%D1%8C&_=1583353310234&regular-judge=&snippet_pos=2310' with link or location/anchor > 255 characters since it exceeds Excel's limit for URLS\n",
            "  force_unicode(url))\n",
            "/home/politlen/anaconda3/lib/python3.7/site-packages/xlsxwriter/worksheet.py:931: UserWarning: Ignoring URL 'https://sudact.ru/regular/doc/9gYZBdvkJQNJ/?page=8&regular-court=&regular-date_from=01.02.2018&regular-case_doc=&regular-lawchunkinfo=%D0%A1%D1%82%D0%B0%D1%82%D1%8C%D1%8F+151.+%D0%9A%D0%BE%D0%BC%D0%BF%D0%B5%D0%BD%D1%81%D0%B0%D1%86%D0%B8%D1%8F+%D0%BC%D0%BE%D1%80%D0%B0%D0%BB%D1%8C%D0%BD%D0%BE%D0%B3%D0%BE+%D0%B2%D1%80%D0%B5%D0%B4%D0%B0%28%D0%93%D0%9A+%D0%A0%D0%A4%29&regular-workflow_stage=10&regular-date_to=30.06.2018&regular-area=&regular-txt=%D0%BC%D0%B5%D0%B4%D0%B8%D1%86%D0%B8%D0%BD%D1%81%D0%BA%D0%B0%D1%8F+%D1%85%D0%B0%D0%BB%D0%B0%D1%82%D0%BD%D0%BE%D1%81%D1%82%D1%8C&_=1583353310234&regular-judge=&snippet_pos=4674' with link or location/anchor > 255 characters since it exceeds Excel's limit for URLS\n",
            "  force_unicode(url))\n",
            "/home/politlen/anaconda3/lib/python3.7/site-packages/xlsxwriter/worksheet.py:931: UserWarning: Ignoring URL 'https://sudact.ru/regular/doc/P17ABHhLqyVO/?page=8&regular-court=&regular-date_from=01.02.2018&regular-case_doc=&regular-lawchunkinfo=%D0%A1%D1%82%D0%B0%D1%82%D1%8C%D1%8F+151.+%D0%9A%D0%BE%D0%BC%D0%BF%D0%B5%D0%BD%D1%81%D0%B0%D1%86%D0%B8%D1%8F+%D0%BC%D0%BE%D1%80%D0%B0%D0%BB%D1%8C%D0%BD%D0%BE%D0%B3%D0%BE+%D0%B2%D1%80%D0%B5%D0%B4%D0%B0%28%D0%93%D0%9A+%D0%A0%D0%A4%29&regular-workflow_stage=10&regular-date_to=30.06.2018&regular-area=&regular-txt=%D0%BC%D0%B5%D0%B4%D0%B8%D1%86%D0%B8%D0%BD%D1%81%D0%BA%D0%B0%D1%8F+%D1%85%D0%B0%D0%BB%D0%B0%D1%82%D0%BD%D0%BE%D1%81%D1%82%D1%8C&_=1583353310234&regular-judge=&snippet_pos=3612' with link or location/anchor > 255 characters since it exceeds Excel's limit for URLS\n",
            "  force_unicode(url))\n",
            "/home/politlen/anaconda3/lib/python3.7/site-packages/xlsxwriter/worksheet.py:931: UserWarning: Ignoring URL 'https://sudact.ru/regular/doc/DITeoDqanQ1M/?page=9&regular-court=&regular-date_from=01.02.2018&regular-case_doc=&regular-lawchunkinfo=%D0%A1%D1%82%D0%B0%D1%82%D1%8C%D1%8F+151.+%D0%9A%D0%BE%D0%BC%D0%BF%D0%B5%D0%BD%D1%81%D0%B0%D1%86%D0%B8%D1%8F+%D0%BC%D0%BE%D1%80%D0%B0%D0%BB%D1%8C%D0%BD%D0%BE%D0%B3%D0%BE+%D0%B2%D1%80%D0%B5%D0%B4%D0%B0%28%D0%93%D0%9A+%D0%A0%D0%A4%29&regular-workflow_stage=10&regular-date_to=30.06.2018&regular-area=&regular-txt=%D0%BC%D0%B5%D0%B4%D0%B8%D1%86%D0%B8%D0%BD%D1%81%D0%BA%D0%B0%D1%8F+%D1%85%D0%B0%D0%BB%D0%B0%D1%82%D0%BD%D0%BE%D1%81%D1%82%D1%8C&_=1583353313775&regular-judge=&snippet_pos=2662' with link or location/anchor > 255 characters since it exceeds Excel's limit for URLS\n",
            "  force_unicode(url))\n",
            "/home/politlen/anaconda3/lib/python3.7/site-packages/xlsxwriter/worksheet.py:931: UserWarning: Ignoring URL 'https://sudact.ru/regular/doc/z36tytMQX0mQ/?page=9&regular-court=&regular-date_from=01.02.2018&regular-case_doc=&regular-lawchunkinfo=%D0%A1%D1%82%D0%B0%D1%82%D1%8C%D1%8F+151.+%D0%9A%D0%BE%D0%BC%D0%BF%D0%B5%D0%BD%D1%81%D0%B0%D1%86%D0%B8%D1%8F+%D0%BC%D0%BE%D1%80%D0%B0%D0%BB%D1%8C%D0%BD%D0%BE%D0%B3%D0%BE+%D0%B2%D1%80%D0%B5%D0%B4%D0%B0%28%D0%93%D0%9A+%D0%A0%D0%A4%29&regular-workflow_stage=10&regular-date_to=30.06.2018&regular-area=&regular-txt=%D0%BC%D0%B5%D0%B4%D0%B8%D1%86%D0%B8%D0%BD%D1%81%D0%BA%D0%B0%D1%8F+%D1%85%D0%B0%D0%BB%D0%B0%D1%82%D0%BD%D0%BE%D1%81%D1%82%D1%8C&_=1583353313775&regular-judge=&snippet_pos=3280' with link or location/anchor > 255 characters since it exceeds Excel's limit for URLS\n",
            "  force_unicode(url))\n",
            "/home/politlen/anaconda3/lib/python3.7/site-packages/xlsxwriter/worksheet.py:931: UserWarning: Ignoring URL 'https://sudact.ru/regular/doc/IHwLKxmK7yZ6/?page=9&regular-court=&regular-date_from=01.02.2018&regular-case_doc=&regular-lawchunkinfo=%D0%A1%D1%82%D0%B0%D1%82%D1%8C%D1%8F+151.+%D0%9A%D0%BE%D0%BC%D0%BF%D0%B5%D0%BD%D1%81%D0%B0%D1%86%D0%B8%D1%8F+%D0%BC%D0%BE%D1%80%D0%B0%D0%BB%D1%8C%D0%BD%D0%BE%D0%B3%D0%BE+%D0%B2%D1%80%D0%B5%D0%B4%D0%B0%28%D0%93%D0%9A+%D0%A0%D0%A4%29&regular-workflow_stage=10&regular-date_to=30.06.2018&regular-area=&regular-txt=%D0%BC%D0%B5%D0%B4%D0%B8%D1%86%D0%B8%D0%BD%D1%81%D0%BA%D0%B0%D1%8F+%D1%85%D0%B0%D0%BB%D0%B0%D1%82%D0%BD%D0%BE%D1%81%D1%82%D1%8C&_=1583353313775&regular-judge=&snippet_pos=1832' with link or location/anchor > 255 characters since it exceeds Excel's limit for URLS\n",
            "  force_unicode(url))\n",
            "/home/politlen/anaconda3/lib/python3.7/site-packages/xlsxwriter/worksheet.py:931: UserWarning: Ignoring URL 'https://sudact.ru/regular/doc/wM2abMVWe2WW/?page=9&regular-court=&regular-date_from=01.02.2018&regular-case_doc=&regular-lawchunkinfo=%D0%A1%D1%82%D0%B0%D1%82%D1%8C%D1%8F+151.+%D0%9A%D0%BE%D0%BC%D0%BF%D0%B5%D0%BD%D1%81%D0%B0%D1%86%D0%B8%D1%8F+%D0%BC%D0%BE%D1%80%D0%B0%D0%BB%D1%8C%D0%BD%D0%BE%D0%B3%D0%BE+%D0%B2%D1%80%D0%B5%D0%B4%D0%B0%28%D0%93%D0%9A+%D0%A0%D0%A4%29&regular-workflow_stage=10&regular-date_to=30.06.2018&regular-area=&regular-txt=%D0%BC%D0%B5%D0%B4%D0%B8%D1%86%D0%B8%D0%BD%D1%81%D0%BA%D0%B0%D1%8F+%D1%85%D0%B0%D0%BB%D0%B0%D1%82%D0%BD%D0%BE%D1%81%D1%82%D1%8C&_=1583353313775&regular-judge=&snippet_pos=2014' with link or location/anchor > 255 characters since it exceeds Excel's limit for URLS\n",
            "  force_unicode(url))\n",
            "/home/politlen/anaconda3/lib/python3.7/site-packages/xlsxwriter/worksheet.py:931: UserWarning: Ignoring URL 'https://sudact.ru/regular/doc/f6BV4DE3lyoN/?page=9&regular-court=&regular-date_from=01.02.2018&regular-case_doc=&regular-lawchunkinfo=%D0%A1%D1%82%D0%B0%D1%82%D1%8C%D1%8F+151.+%D0%9A%D0%BE%D0%BC%D0%BF%D0%B5%D0%BD%D1%81%D0%B0%D1%86%D0%B8%D1%8F+%D0%BC%D0%BE%D1%80%D0%B0%D0%BB%D1%8C%D0%BD%D0%BE%D0%B3%D0%BE+%D0%B2%D1%80%D0%B5%D0%B4%D0%B0%28%D0%93%D0%9A+%D0%A0%D0%A4%29&regular-workflow_stage=10&regular-date_to=30.06.2018&regular-area=&regular-txt=%D0%BC%D0%B5%D0%B4%D0%B8%D1%86%D0%B8%D0%BD%D1%81%D0%BA%D0%B0%D1%8F+%D1%85%D0%B0%D0%BB%D0%B0%D1%82%D0%BD%D0%BE%D1%81%D1%82%D1%8C&_=1583353313775&regular-judge=&snippet_pos=550' with link or location/anchor > 255 characters since it exceeds Excel's limit for URLS\n",
            "  force_unicode(url))\n",
            "/home/politlen/anaconda3/lib/python3.7/site-packages/xlsxwriter/worksheet.py:931: UserWarning: Ignoring URL 'https://sudact.ru/regular/doc/CrUZYoNHOMJq/?page=9&regular-court=&regular-date_from=01.02.2018&regular-case_doc=&regular-lawchunkinfo=%D0%A1%D1%82%D0%B0%D1%82%D1%8C%D1%8F+151.+%D0%9A%D0%BE%D0%BC%D0%BF%D0%B5%D0%BD%D1%81%D0%B0%D1%86%D0%B8%D1%8F+%D0%BC%D0%BE%D1%80%D0%B0%D0%BB%D1%8C%D0%BD%D0%BE%D0%B3%D0%BE+%D0%B2%D1%80%D0%B5%D0%B4%D0%B0%28%D0%93%D0%9A+%D0%A0%D0%A4%29&regular-workflow_stage=10&regular-date_to=30.06.2018&regular-area=&regular-txt=%D0%BC%D0%B5%D0%B4%D0%B8%D1%86%D0%B8%D0%BD%D1%81%D0%BA%D0%B0%D1%8F+%D1%85%D0%B0%D0%BB%D0%B0%D1%82%D0%BD%D0%BE%D1%81%D1%82%D1%8C&_=1583353313775&regular-judge=&snippet_pos=3236' with link or location/anchor > 255 characters since it exceeds Excel's limit for URLS\n",
            "  force_unicode(url))\n",
            "/home/politlen/anaconda3/lib/python3.7/site-packages/xlsxwriter/worksheet.py:931: UserWarning: Ignoring URL 'https://sudact.ru/regular/doc/UNS96sz7C2lE/?page=9&regular-court=&regular-date_from=01.02.2018&regular-case_doc=&regular-lawchunkinfo=%D0%A1%D1%82%D0%B0%D1%82%D1%8C%D1%8F+151.+%D0%9A%D0%BE%D0%BC%D0%BF%D0%B5%D0%BD%D1%81%D0%B0%D1%86%D0%B8%D1%8F+%D0%BC%D0%BE%D1%80%D0%B0%D0%BB%D1%8C%D0%BD%D0%BE%D0%B3%D0%BE+%D0%B2%D1%80%D0%B5%D0%B4%D0%B0%28%D0%93%D0%9A+%D0%A0%D0%A4%29&regular-workflow_stage=10&regular-date_to=30.06.2018&regular-area=&regular-txt=%D0%BC%D0%B5%D0%B4%D0%B8%D1%86%D0%B8%D0%BD%D1%81%D0%BA%D0%B0%D1%8F+%D1%85%D0%B0%D0%BB%D0%B0%D1%82%D0%BD%D0%BE%D1%81%D1%82%D1%8C&_=1583353313775&regular-judge=&snippet_pos=1414' with link or location/anchor > 255 characters since it exceeds Excel's limit for URLS\n",
            "  force_unicode(url))\n",
            "/home/politlen/anaconda3/lib/python3.7/site-packages/xlsxwriter/worksheet.py:931: UserWarning: Ignoring URL 'https://sudact.ru/regular/doc/iXztz6i4tExr/?page=9&regular-court=&regular-date_from=01.02.2018&regular-case_doc=&regular-lawchunkinfo=%D0%A1%D1%82%D0%B0%D1%82%D1%8C%D1%8F+151.+%D0%9A%D0%BE%D0%BC%D0%BF%D0%B5%D0%BD%D1%81%D0%B0%D1%86%D0%B8%D1%8F+%D0%BC%D0%BE%D1%80%D0%B0%D0%BB%D1%8C%D0%BD%D0%BE%D0%B3%D0%BE+%D0%B2%D1%80%D0%B5%D0%B4%D0%B0%28%D0%93%D0%9A+%D0%A0%D0%A4%29&regular-workflow_stage=10&regular-date_to=30.06.2018&regular-area=&regular-txt=%D0%BC%D0%B5%D0%B4%D0%B8%D1%86%D0%B8%D0%BD%D1%81%D0%BA%D0%B0%D1%8F+%D1%85%D0%B0%D0%BB%D0%B0%D1%82%D0%BD%D0%BE%D1%81%D1%82%D1%8C&_=1583353313775&regular-judge=&snippet_pos=888' with link or location/anchor > 255 characters since it exceeds Excel's limit for URLS\n",
            "  force_unicode(url))\n",
            "/home/politlen/anaconda3/lib/python3.7/site-packages/xlsxwriter/worksheet.py:931: UserWarning: Ignoring URL 'https://sudact.ru/regular/doc/tXxwNWjcPqmX/?page=9&regular-court=&regular-date_from=01.02.2018&regular-case_doc=&regular-lawchunkinfo=%D0%A1%D1%82%D0%B0%D1%82%D1%8C%D1%8F+151.+%D0%9A%D0%BE%D0%BC%D0%BF%D0%B5%D0%BD%D1%81%D0%B0%D1%86%D0%B8%D1%8F+%D0%BC%D0%BE%D1%80%D0%B0%D0%BB%D1%8C%D0%BD%D0%BE%D0%B3%D0%BE+%D0%B2%D1%80%D0%B5%D0%B4%D0%B0%28%D0%93%D0%9A+%D0%A0%D0%A4%29&regular-workflow_stage=10&regular-date_to=30.06.2018&regular-area=&regular-txt=%D0%BC%D0%B5%D0%B4%D0%B8%D1%86%D0%B8%D0%BD%D1%81%D0%BA%D0%B0%D1%8F+%D1%85%D0%B0%D0%BB%D0%B0%D1%82%D0%BD%D0%BE%D1%81%D1%82%D1%8C&_=1583353313775&regular-judge=&snippet_pos=342' with link or location/anchor > 255 characters since it exceeds Excel's limit for URLS\n",
            "  force_unicode(url))\n",
            "/home/politlen/anaconda3/lib/python3.7/site-packages/xlsxwriter/worksheet.py:931: UserWarning: Ignoring URL 'https://sudact.ru/regular/doc/JlJ7u65sYxoK/?page=9&regular-court=&regular-date_from=01.02.2018&regular-case_doc=&regular-lawchunkinfo=%D0%A1%D1%82%D0%B0%D1%82%D1%8C%D1%8F+151.+%D0%9A%D0%BE%D0%BC%D0%BF%D0%B5%D0%BD%D1%81%D0%B0%D1%86%D0%B8%D1%8F+%D0%BC%D0%BE%D1%80%D0%B0%D0%BB%D1%8C%D0%BD%D0%BE%D0%B3%D0%BE+%D0%B2%D1%80%D0%B5%D0%B4%D0%B0%28%D0%93%D0%9A+%D0%A0%D0%A4%29&regular-workflow_stage=10&regular-date_to=30.06.2018&regular-area=&regular-txt=%D0%BC%D0%B5%D0%B4%D0%B8%D1%86%D0%B8%D0%BD%D1%81%D0%BA%D0%B0%D1%8F+%D1%85%D0%B0%D0%BB%D0%B0%D1%82%D0%BD%D0%BE%D1%81%D1%82%D1%8C&_=1583353313775&regular-judge=&snippet_pos=1110' with link or location/anchor > 255 characters since it exceeds Excel's limit for URLS\n",
            "  force_unicode(url))\n",
            "/home/politlen/anaconda3/lib/python3.7/site-packages/xlsxwriter/worksheet.py:931: UserWarning: Ignoring URL 'https://sudact.ru/regular/doc/YOBsf7C3UOUP/?page=10&regular-court=&regular-date_from=01.02.2018&regular-case_doc=&regular-lawchunkinfo=%D0%A1%D1%82%D0%B0%D1%82%D1%8C%D1%8F+151.+%D0%9A%D0%BE%D0%BC%D0%BF%D0%B5%D0%BD%D1%81%D0%B0%D1%86%D0%B8%D1%8F+%D0%BC%D0%BE%D1%80%D0%B0%D0%BB%D1%8C%D0%BD%D0%BE%D0%B3%D0%BE+%D0%B2%D1%80%D0%B5%D0%B4%D0%B0%28%D0%93%D0%9A+%D0%A0%D0%A4%29&regular-workflow_stage=10&regular-date_to=30.06.2018&regular-area=&regular-txt=%D0%BC%D0%B5%D0%B4%D0%B8%D1%86%D0%B8%D0%BD%D1%81%D0%BA%D0%B0%D1%8F+%D1%85%D0%B0%D0%BB%D0%B0%D1%82%D0%BD%D0%BE%D1%81%D1%82%D1%8C&_=1583353317361&regular-judge=&snippet_pos=3388' with link or location/anchor > 255 characters since it exceeds Excel's limit for URLS\n",
            "  force_unicode(url))\n",
            "/home/politlen/anaconda3/lib/python3.7/site-packages/xlsxwriter/worksheet.py:931: UserWarning: Ignoring URL 'https://sudact.ru/regular/doc/Sk87VV1crRlV/?page=10&regular-court=&regular-date_from=01.02.2018&regular-case_doc=&regular-lawchunkinfo=%D0%A1%D1%82%D0%B0%D1%82%D1%8C%D1%8F+151.+%D0%9A%D0%BE%D0%BC%D0%BF%D0%B5%D0%BD%D1%81%D0%B0%D1%86%D0%B8%D1%8F+%D0%BC%D0%BE%D1%80%D0%B0%D0%BB%D1%8C%D0%BD%D0%BE%D0%B3%D0%BE+%D0%B2%D1%80%D0%B5%D0%B4%D0%B0%28%D0%93%D0%9A+%D0%A0%D0%A4%29&regular-workflow_stage=10&regular-date_to=30.06.2018&regular-area=&regular-txt=%D0%BC%D0%B5%D0%B4%D0%B8%D1%86%D0%B8%D0%BD%D1%81%D0%BA%D0%B0%D1%8F+%D1%85%D0%B0%D0%BB%D0%B0%D1%82%D0%BD%D0%BE%D1%81%D1%82%D1%8C&_=1583353317361&regular-judge=&snippet_pos=4782' with link or location/anchor > 255 characters since it exceeds Excel's limit for URLS\n",
            "  force_unicode(url))\n",
            "/home/politlen/anaconda3/lib/python3.7/site-packages/xlsxwriter/worksheet.py:931: UserWarning: Ignoring URL 'https://sudact.ru/regular/doc/1fTSgVGaG9VF/?page=10&regular-court=&regular-date_from=01.02.2018&regular-case_doc=&regular-lawchunkinfo=%D0%A1%D1%82%D0%B0%D1%82%D1%8C%D1%8F+151.+%D0%9A%D0%BE%D0%BC%D0%BF%D0%B5%D0%BD%D1%81%D0%B0%D1%86%D0%B8%D1%8F+%D0%BC%D0%BE%D1%80%D0%B0%D0%BB%D1%8C%D0%BD%D0%BE%D0%B3%D0%BE+%D0%B2%D1%80%D0%B5%D0%B4%D0%B0%28%D0%93%D0%9A+%D0%A0%D0%A4%29&regular-workflow_stage=10&regular-date_to=30.06.2018&regular-area=&regular-txt=%D0%BC%D0%B5%D0%B4%D0%B8%D1%86%D0%B8%D0%BD%D1%81%D0%BA%D0%B0%D1%8F+%D1%85%D0%B0%D0%BB%D0%B0%D1%82%D0%BD%D0%BE%D1%81%D1%82%D1%8C&_=1583353317361&regular-judge=&snippet_pos=1470' with link or location/anchor > 255 characters since it exceeds Excel's limit for URLS\n",
            "  force_unicode(url))\n",
            "/home/politlen/anaconda3/lib/python3.7/site-packages/xlsxwriter/worksheet.py:931: UserWarning: Ignoring URL 'https://sudact.ru/regular/doc/kzEOTvGxldUx/?page=10&regular-court=&regular-date_from=01.02.2018&regular-case_doc=&regular-lawchunkinfo=%D0%A1%D1%82%D0%B0%D1%82%D1%8C%D1%8F+151.+%D0%9A%D0%BE%D0%BC%D0%BF%D0%B5%D0%BD%D1%81%D0%B0%D1%86%D0%B8%D1%8F+%D0%BC%D0%BE%D1%80%D0%B0%D0%BB%D1%8C%D0%BD%D0%BE%D0%B3%D0%BE+%D0%B2%D1%80%D0%B5%D0%B4%D0%B0%28%D0%93%D0%9A+%D0%A0%D0%A4%29&regular-workflow_stage=10&regular-date_to=30.06.2018&regular-area=&regular-txt=%D0%BC%D0%B5%D0%B4%D0%B8%D1%86%D0%B8%D0%BD%D1%81%D0%BA%D0%B0%D1%8F+%D1%85%D0%B0%D0%BB%D0%B0%D1%82%D0%BD%D0%BE%D1%81%D1%82%D1%8C&_=1583353317361&regular-judge=&snippet_pos=1080' with link or location/anchor > 255 characters since it exceeds Excel's limit for URLS\n",
            "  force_unicode(url))\n",
            "/home/politlen/anaconda3/lib/python3.7/site-packages/xlsxwriter/worksheet.py:931: UserWarning: Ignoring URL 'https://sudact.ru/regular/doc/VvFaGfkRPPlp/?page=10&regular-court=&regular-date_from=01.02.2018&regular-case_doc=&regular-lawchunkinfo=%D0%A1%D1%82%D0%B0%D1%82%D1%8C%D1%8F+151.+%D0%9A%D0%BE%D0%BC%D0%BF%D0%B5%D0%BD%D1%81%D0%B0%D1%86%D0%B8%D1%8F+%D0%BC%D0%BE%D1%80%D0%B0%D0%BB%D1%8C%D0%BD%D0%BE%D0%B3%D0%BE+%D0%B2%D1%80%D0%B5%D0%B4%D0%B0%28%D0%93%D0%9A+%D0%A0%D0%A4%29&regular-workflow_stage=10&regular-date_to=30.06.2018&regular-area=&regular-txt=%D0%BC%D0%B5%D0%B4%D0%B8%D1%86%D0%B8%D0%BD%D1%81%D0%BA%D0%B0%D1%8F+%D1%85%D0%B0%D0%BB%D0%B0%D1%82%D0%BD%D0%BE%D1%81%D1%82%D1%8C&_=1583353317361&regular-judge=&snippet_pos=310' with link or location/anchor > 255 characters since it exceeds Excel's limit for URLS\n",
            "  force_unicode(url))\n",
            "/home/politlen/anaconda3/lib/python3.7/site-packages/xlsxwriter/worksheet.py:931: UserWarning: Ignoring URL 'https://sudact.ru/regular/doc/rsktYPrdGTZQ/?page=10&regular-court=&regular-date_from=01.02.2018&regular-case_doc=&regular-lawchunkinfo=%D0%A1%D1%82%D0%B0%D1%82%D1%8C%D1%8F+151.+%D0%9A%D0%BE%D0%BC%D0%BF%D0%B5%D0%BD%D1%81%D0%B0%D1%86%D0%B8%D1%8F+%D0%BC%D0%BE%D1%80%D0%B0%D0%BB%D1%8C%D0%BD%D0%BE%D0%B3%D0%BE+%D0%B2%D1%80%D0%B5%D0%B4%D0%B0%28%D0%93%D0%9A+%D0%A0%D0%A4%29&regular-workflow_stage=10&regular-date_to=30.06.2018&regular-area=&regular-txt=%D0%BC%D0%B5%D0%B4%D0%B8%D1%86%D0%B8%D0%BD%D1%81%D0%BA%D0%B0%D1%8F+%D1%85%D0%B0%D0%BB%D0%B0%D1%82%D0%BD%D0%BE%D1%81%D1%82%D1%8C&_=1583353317361&regular-judge=&snippet_pos=1300' with link or location/anchor > 255 characters since it exceeds Excel's limit for URLS\n",
            "  force_unicode(url))\n",
            "/home/politlen/anaconda3/lib/python3.7/site-packages/xlsxwriter/worksheet.py:931: UserWarning: Ignoring URL 'https://sudact.ru/regular/doc/8VYqxN9hSUV4/?page=10&regular-court=&regular-date_from=01.02.2018&regular-case_doc=&regular-lawchunkinfo=%D0%A1%D1%82%D0%B0%D1%82%D1%8C%D1%8F+151.+%D0%9A%D0%BE%D0%BC%D0%BF%D0%B5%D0%BD%D1%81%D0%B0%D1%86%D0%B8%D1%8F+%D0%BC%D0%BE%D1%80%D0%B0%D0%BB%D1%8C%D0%BD%D0%BE%D0%B3%D0%BE+%D0%B2%D1%80%D0%B5%D0%B4%D0%B0%28%D0%93%D0%9A+%D0%A0%D0%A4%29&regular-workflow_stage=10&regular-date_to=30.06.2018&regular-area=&regular-txt=%D0%BC%D0%B5%D0%B4%D0%B8%D1%86%D0%B8%D0%BD%D1%81%D0%BA%D0%B0%D1%8F+%D1%85%D0%B0%D0%BB%D0%B0%D1%82%D0%BD%D0%BE%D1%81%D1%82%D1%8C&_=1583353317361&regular-judge=&snippet_pos=986' with link or location/anchor > 255 characters since it exceeds Excel's limit for URLS\n",
            "  force_unicode(url))\n"
          ],
          "name": "stderr"
        }
      ]
    },
    {
      "cell_type": "markdown",
      "metadata": {
        "id": "B-MF09UmMsOD"
      },
      "source": [
        "# Спасибо за внимание!"
      ]
    },
    {
      "cell_type": "markdown",
      "metadata": {
        "id": "28As4JUxWkVm"
      },
      "source": [
        "Форма обратной связи: https://forms.gle/3Rm7PJM319zz7qLg9"
      ]
    },
    {
      "cell_type": "markdown",
      "metadata": {
        "id": "MeYgJa3xMsOD"
      },
      "source": [
        "Для любопытных\n",
        "\n",
        "Почему постоянно используется переменная i: https://softwareengineering.stackexchange.com/questions/86904/why-do-most-of-us-use-i-as-a-loop-counter-variable"
      ]
    },
    {
      "cell_type": "markdown",
      "metadata": {
        "id": "0FKBg0hGMsOD"
      },
      "source": [
        "Отличный теоретический материал по спискам и циклам  питоне\n",
        "\n",
        "https://www.youtube.com/watch?v=3I6OjxoeSS8"
      ]
    }
  ]
}