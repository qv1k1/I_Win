{
 "cells": [
  {
   "cell_type": "markdown",
   "metadata": {},
   "source": [
    "# Вебинар по теме: \"Циклы в языке Python\"\n",
    "\n",
    "Спикер/Ведущий: Владимир Горюнов  \n",
    "Slack: @Владимир Горюнов\n",
    "\n",
    "Вопросы:  \n",
    "1. Цикл while    \n",
    "2. Цикл for  \n",
    "3. Функции range(), enumerate()  \n",
    "4.\\** Итераторы и генераторы   \n",
    "5.\\* Модуль itertools  \n",
    "\n",
    "Ссылка на форму обратной связи https://forms.gle/y8xaFwJqtbFSjUeG8  "
   ]
  },
  {
   "cell_type": "markdown",
   "metadata": {},
   "source": [
    "## Определим основные понятия:\n",
    "\n",
    "<i><b>Алгоритм</b></i> — это последовательность команд. набор инструкций, описывающих порядок действий для достижения результата. Запись алгоритма на каком-либо языке программирования в виде определенных инструкций (команд), которые идут друг за другом, называется программой.  \n",
    "Важнейшими элементами алгоритмов являются условные конструкции и циклы, которые иногда называют средствами управления потоком выполнения программы.  \n",
    "\n",
    "<i><b>Цикл</b></i>  - это управляющая конструкция предназначенная для организации многократного исполнения набора инструкций.  \n",
    "\n",
    "<i><b>Тело цикла</b></i> - последовательность инструкций, предназначенная для многократного исполнения.  \n",
    "\n",
    "<i><b>Итерация</b></i> - единичное выполнение тела цикла. \n",
    "\n",
    "Переменная, хранящая текущий номер итерации, называется <i><b>счётчиком итераций</b></i> цикла или просто счётчиком цикла. Цикл не обязательно содержит счётчик, счётчик не обязан быть один — условие выхода из цикла может зависеть от нескольких изменяемых в цикле переменных, а может определяться внешними условиями (например, наступлением определённого времени), в последнем случае счётчик может вообще не понадобиться. "
   ]
  },
  {
   "cell_type": "markdown",
   "metadata": {},
   "source": [
    "### Вопрос №1 Цикл while\n",
    "\n",
    "Цикл while позволяет выполнить одну и ту же последовательность действий, пока проверяемое условие истинно, при этом счетчик итераций не используется.  \n",
    "Как правило, такой цикл используется, когда невозможно или не нужно определять точное значение количества проходов исполнения цикла.  \n",
    "Также он может быть использован когда шаг является нецелым числом.\n"
   ]
  },
  {
   "cell_type": "code",
   "execution_count": null,
   "metadata": {},
   "outputs": [],
   "source": [
    "# общий вид цикла while\n",
    "while условие:\n",
    "    блок1\n",
    "else:       # необязательная часть else \n",
    "    блок2   # выполняется, если выход из цикла был произведён не инструкцией break, return или raise"
   ]
  },
  {
   "cell_type": "markdown",
   "metadata": {},
   "source": [
    "Задание 1.1 Допустим вы положили в банк 10000 рублей под 5% годовых. Через сколько лет ваш вклад утроится?"
   ]
  },
  {
   "cell_type": "code",
   "execution_count": null,
   "metadata": {},
   "outputs": [],
   "source": [
    "money = 10000\n",
    "year = 0\n",
    "yearly_multiplier = 1.05\n",
    "\n",
    "while money < 30000:\n",
    "    money = money*yearly_multiplier\n",
    "    year += 1\n",
    "    \n",
    "print('Деньги утроятся через', year, 'лет')\n",
    "# демонстрация работы в pythontutor"
   ]
  },
  {
   "cell_type": "markdown",
   "metadata": {},
   "source": [
    "Задание 1.2 Еще одна задача\n",
    "\n",
    "Дан массив с числами (номерами мишеней) \\[0,1,2,3,4,5,6,7,8,9\\]  \n",
    "с помощью генерации случайного числа от 0 до 9 включительно \"стреляем\" по списку,  \n",
    "и если такое число есть в списке, удаляем его, если уже нет - стреляем дальше  \n",
    "посчитать за какое количество шагов список очищается однократно, *в среднем  \n"
   ]
  },
  {
   "cell_type": "code",
   "execution_count": null,
   "metadata": {},
   "outputs": [],
   "source": [
    "import random\n",
    "num_list = [0,1,2,3,4,5,6,7,8,9]"
   ]
  },
  {
   "cell_type": "markdown",
   "metadata": {},
   "source": [
    "### *Какие объекты считаются falsy\n",
    "\n",
    "Объекты, которые приравниваются к False  \n",
    "- Последовательности и коллекции  \n",
    "    пустой список: []  \n",
    "    пустой кортеж: ()  \n",
    "    пустой словарь: {}   \n",
    "    пустое множество: set()  \n",
    "    пустая строка: «»  \n",
    "    пустой диапазон: range(0)  \n",
    "- Нули любых численных типов  \n",
    "    целочисленный ноль: 0  \n",
    "    ноль с плавающей точкой: 0.0  \n",
    "    комплексный ноль: 0j  \n",
    "- Константы  \n",
    "    None  \n",
    "    False  \n",
    "\n",
    "Согласно документации https://docs.python.org/3/library/stdtypes.html#truth-value-testing  "
   ]
  },
  {
   "cell_type": "markdown",
   "metadata": {},
   "source": [
    "Задание 1.3 Попадаем в бесконечный цикл. Как так получилось?"
   ]
  },
  {
   "cell_type": "code",
   "execution_count": null,
   "metadata": {
    "tags": [
     "outputPrepend"
    ]
   },
   "outputs": [],
   "source": [
    "a = 0\n",
    "while a != 20:\n",
    "    print(a)\n",
    "    a += 1.1"
   ]
  },
  {
   "cell_type": "code",
   "execution_count": null,
   "metadata": {},
   "outputs": [],
   "source": [
    "# придумайте еще примеры конструкций while попадающих в бесконечный цикл\n",
    "# особенности представления чисел с плавающей точкой в python\n",
    "# https://docs-python.ru/tutorial/operatsii-chislami-python/problemy-chisel-plavajuschej-zapjatoj/\n",
    "# 0.1 + 0.1 + 0.1 != 0.3"
   ]
  },
  {
   "cell_type": "markdown",
   "metadata": {},
   "source": [
    "Задание 1.4 Управляющая конструкция break\n",
    "\n",
    "Еще один способ завершить цикл в нужной точке - управляющая конструкция break"
   ]
  },
  {
   "cell_type": "code",
   "execution_count": null,
   "metadata": {
    "tags": []
   },
   "outputs": [],
   "source": [
    "# Куда нужно поставить break чтобы после того как j стало равно 3, выйти из цикла и получить соответствующий вывод?\n",
    "j = 0\n",
    "while True:\n",
    "    if j == 30:\n",
    "        print('Выход из цикла')\n",
    "    print(j)\n",
    "    j += 1"
   ]
  },
  {
   "cell_type": "markdown",
   "metadata": {},
   "source": [
    "Задание 1.5 Управляющая конструкция continue\n"
   ]
  },
  {
   "cell_type": "code",
   "execution_count": null,
   "metadata": {},
   "outputs": [],
   "source": [
    "# Модифицируем задачу из пункта 1.2 чтобы при попадании выводилось \"Попадание\",\n",
    "# в иных случаях continue\n"
   ]
  },
  {
   "cell_type": "markdown",
   "metadata": {},
   "source": [
    "Задание 1.6 Использование блока else после while"
   ]
  },
  {
   "cell_type": "code",
   "execution_count": null,
   "metadata": {},
   "outputs": [],
   "source": [
    "# Блок else после циклов относится не к самому циклу, а к оператору break!\n",
    "# И действительно, блок else выполнится в любом случае,\n",
    "# если только выполнение цикла не было прервано оператором break, return или raise."
   ]
  },
  {
   "cell_type": "code",
   "execution_count": null,
   "metadata": {},
   "outputs": [],
   "source": [
    "j = 0\n",
    "while j < 20:\n",
    "    if j == 10:\n",
    "        print('Выход из цикла')\n",
    "        break\n",
    "    print(j)\n",
    "    j += 1\n",
    "else:\n",
    "    print('Выполнение else')"
   ]
  },
  {
   "cell_type": "markdown",
   "metadata": {},
   "source": [
    "Задание 1.7 Использование времени для планового выхода из цикла и задержки между итерациями"
   ]
  },
  {
   "cell_type": "code",
   "execution_count": null,
   "metadata": {
    "tags": []
   },
   "outputs": [],
   "source": [
    "# Допустим нужно выполнить 100 запросов к api сайта и сайт позволяет делать не более 10 запросов в секунду\n",
    "# Как доработать код чтобы нас не забанили\n",
    "# *Перепишите условие цикла избавившись от True\n",
    "import time\n",
    "\n",
    "start = time.time()\n",
    "stop = start + 10\n",
    "\n",
    "while True:\n",
    "    t = time.time()\n",
    "    print(f'request, time:{t}')\n",
    "    if t > stop:\n",
    "        break\n",
    "    time.sleep(0.1)\n",
    "\n",
    "# также таймаут нужен при получении данных например по последовательному порту или др железных интерфейсов\n",
    "# либо при отправке запросов, установке соединения и т.п. "
   ]
  },
  {
   "cell_type": "markdown",
   "metadata": {},
   "source": [
    "### Вопрос №2 Цикл for"
   ]
  },
  {
   "cell_type": "code",
   "execution_count": null,
   "metadata": {},
   "outputs": [],
   "source": [
    "# общий вид цикла for\n",
    "for <элемент> in <итерируемый объект>:\n",
    "    блок1\n",
    "    if условие:\n",
    "        continue\n",
    "    else: \n",
    "        break\n",
    "    блок2           # не выполнится никогда, учитывая инструкцию if\n",
    "else:\n",
    "    блок3           # выполнится, если выход из цикла не осуществлялся инструкцией break"
   ]
  },
  {
   "cell_type": "markdown",
   "metadata": {},
   "source": [
    "2.1 Напишите программу для вычисления суммы n членов геометрической прогрессии с помощью цикла for   "
   ]
  },
  {
   "cell_type": "code",
   "execution_count": null,
   "metadata": {},
   "outputs": [],
   "source": [
    "# Вычислите Sn - сумму n элементов геометрической прогрессии 1 + x + x**2 + ... + x**n\n",
    "Sn = 0\n",
    "n = 5\n",
    "x = 0.2"
   ]
  },
  {
   "cell_type": "markdown",
   "metadata": {},
   "source": [
    "2.2 Еще одна задача на цикл for\n",
    "\n",
    "С помощью цикла for пройти по всем возможным значениям одного байта от 0 до 255.  \n",
    "И вывести на экран те значения которые соответствуют символам английского алфавита  \n",
    "как в верхнем, так и в нижнем регистре\n",
    "\n",
    "Формат вывода:  \n",
    "  \n",
    "65 --- 0x41 --- A  "
   ]
  },
  {
   "cell_type": "code",
   "execution_count": null,
   "metadata": {},
   "outputs": [],
   "source": [
    "abc = \"abcdefghijklmnopqrstuvwxyz\"\n",
    "print(chr(33)) # получает символ по десятичному значению байта\n",
    "print(chr(333))\n",
    "print(hex(33)) # получает шестнадцетиричное представление десятичного числа"
   ]
  },
  {
   "cell_type": "markdown",
   "metadata": {},
   "source": [
    "2.3. Перебор разных типов данных  "
   ]
  },
  {
   "cell_type": "code",
   "execution_count": null,
   "metadata": {},
   "outputs": [],
   "source": [
    "# Как интерпретатор узнает какие элементы внутри множества? \n",
    "# Почему мы перебираем элементы внутри списка, ключи для словаря, символы для строки?\n",
    "temerature = [36.5, 36.8, 37.4, 38.5, 37.6, 35.7]\n",
    "settings = {\n",
    "    'username' : 'admin',\n",
    "    'password' : '12345',\n",
    "    'token' : '7ba0e3e1...'\n",
    "}\n",
    "string = \"Beautiful is better than ugly.\"\n",
    "\n",
    "for i in temerature:\n",
    "    print(i)"
   ]
  },
  {
   "cell_type": "markdown",
   "metadata": {},
   "source": [
    "2.4 Работа со строками в цикле и использование in\n",
    "\n",
    "Напишите программу, которая выведет все гласные буквы из фразы:"
   ]
  },
  {
   "cell_type": "code",
   "execution_count": null,
   "metadata": {},
   "outputs": [],
   "source": [
    "zen = \"Должен существовать один и, желательно, только один очевидный способ сделать это\"\n",
    "vowels = \"аоэеиыуёюя\" \n"
   ]
  },
  {
   "cell_type": "markdown",
   "metadata": {},
   "source": [
    "2.5* Вложенные циклы, конструкция in"
   ]
  },
  {
   "cell_type": "code",
   "execution_count": null,
   "metadata": {},
   "outputs": [],
   "source": [
    "# создадим два списка - в один попадают все числа от 0 до 10000,\n",
    "# а в другой - все четные числа из этого диапазона\n",
    "list1 = [x for x in range(10000)]\n",
    "list2 = [x for x in range(10000) if x%2==0]\n",
    "list3 = list()\n",
    "list4 = list()\n",
    "print(len(list1))\n",
    "print(len(list2))"
   ]
  },
  {
   "cell_type": "code",
   "execution_count": null,
   "metadata": {},
   "outputs": [],
   "source": [
    "%%timeit -r10\n",
    "# измеряем скорость работы вложенных циклов\n",
    "for elem1 in list1:\n",
    "    for elem2 in list2:\n",
    "        if elem1 == elem2:\n",
    "            list3.append(elem1)\n",
    "            break\n",
    "print(len(list3))"
   ]
  },
  {
   "cell_type": "code",
   "execution_count": null,
   "metadata": {},
   "outputs": [],
   "source": [
    "%%timeit -r10\n",
    "# измеряем скорость работы с использованием оператора in\n",
    "for elem in list1:\n",
    "    if elem in list2:\n",
    "        list4.append(elem)\n",
    "print(len(list4))"
   ]
  },
  {
   "cell_type": "code",
   "execution_count": null,
   "metadata": {},
   "outputs": [],
   "source": []
  },
  {
   "cell_type": "markdown",
   "metadata": {},
   "source": [
    "### Вопрос №3 Функции range() и enumerate()"
   ]
  },
  {
   "cell_type": "code",
   "execution_count": null,
   "metadata": {},
   "outputs": [],
   "source": [
    "# функция range возвращает объект класса range, который является итерируемым\n",
    "print(range(10))\n",
    "print(type(range(10)))\n",
    "print(list(range(10)))"
   ]
  },
  {
   "cell_type": "code",
   "execution_count": null,
   "metadata": {},
   "outputs": [],
   "source": [
    "# при вызове функции iter от этого объекта получаем итератор для него,\n",
    "# а для перехода к следующему шагу итератора используется функция next\n",
    "# выполнение заканчивается когда итератору больше нечего считать и выбрасывается исключение StopIteration\n",
    "r = iter(range(10))\n",
    "while True:\n",
    "    print(next(r))"
   ]
  },
  {
   "cell_type": "code",
   "execution_count": null,
   "metadata": {},
   "outputs": [],
   "source": [
    "# enumerate() - пример перебора ключей словаря\n",
    "# Встроенная в Python функция enumerate() применяется для итерируемых коллекций (строки, списки, словари и др.) и создает объект,\n",
    "# который генерирует кортежи, состоящие из двух элементов - индекса элемента и самого элемента.\n",
    "# Переданный в функцию объект должен быть последовательностью, итератором или другим объектом, который поддерживает метод итератора __next__()"
   ]
  },
  {
   "cell_type": "code",
   "execution_count": null,
   "metadata": {},
   "outputs": [],
   "source": [
    "a = [10, 20, 30, 40]\n",
    "for i in enumerate(a):\n",
    "    print(i)"
   ]
  },
  {
   "cell_type": "code",
   "execution_count": null,
   "metadata": {},
   "outputs": [],
   "source": [
    "b = \"hello\"\n",
    "for i in enumerate(b):\n",
    "    print(i)"
   ]
  },
  {
   "cell_type": "code",
   "execution_count": null,
   "metadata": {},
   "outputs": [],
   "source": [
    "# в случае словарей нумеруются ключи\n",
    "c = {'key1': 'a', 'key2': 'b', 'key3': 'c'}\n",
    "for i in enumerate(c):\n",
    "    print(i)"
   ]
  },
  {
   "cell_type": "code",
   "execution_count": null,
   "metadata": {},
   "outputs": [],
   "source": [
    "# Применение enumerate позволяет уйти от неудачного использования len\n",
    "# Допустим хотим распечатать список дней недели в соответствии с порядковыми номерами\n",
    "weekdays = ['понедельник', 'вторник', 'среда', 'четверг', 'пятница', 'суббота', 'воскресенье']\n",
    "for i in range(len(weekdays)):\n",
    "    print(i, weekdays[i])"
   ]
  },
  {
   "cell_type": "code",
   "execution_count": null,
   "metadata": {},
   "outputs": [],
   "source": [
    "# так лучше\n",
    "for i, day in enumerate(weekdays):\n",
    "    print(i, day)"
   ]
  },
  {
   "cell_type": "markdown",
   "metadata": {},
   "source": [
    "### Вопрос №4** Итераторы и генераторы"
   ]
  },
  {
   "cell_type": "markdown",
   "metadata": {},
   "source": [
    "Итератор представляет собой объект перечислитель, который для данного объекта выдает следующий элемент, либо бросает исключение, если элементов больше нет. \n",
    "\n",
    "Генератор – это функция, которая будучи вызванной в функции next() возвращает следующий объект согласно алгоритму ее работы. Вместо ключевого слова return в генераторе используется yield."
   ]
  },
  {
   "cell_type": "code",
   "execution_count": null,
   "metadata": {},
   "outputs": [],
   "source": [
    "def simple_generator(val):\n",
    "    while val > 0:\n",
    "        val -= 1\n",
    "        yield 1\n",
    "\n",
    "gen_iter = simple_generator(4)\n",
    "print(next(gen_iter))\n",
    "print(next(gen_iter))\n",
    "print(next(gen_iter))"
   ]
  },
  {
   "cell_type": "code",
   "execution_count": null,
   "metadata": {},
   "outputs": [],
   "source": []
  },
  {
   "cell_type": "markdown",
   "metadata": {},
   "source": [
    "### Вопрос №5 Модуль itertools\n",
    "\n",
    "Уже для выполнения проекта №1 вам могут понадобиться некоторые полезные функции из этого модуля.   \n",
    "Например для решения задачи про актеров которые чаще всего снимаются вместе.   "
   ]
  },
  {
   "cell_type": "code",
   "execution_count": null,
   "metadata": {},
   "outputs": [],
   "source": [
    "import itertools\n",
    "\n",
    "# Аналог вложенных циклов\n",
    "for i in itertools.product('ABCD', 'xy'):\n",
    "    print(i)"
   ]
  },
  {
   "cell_type": "code",
   "execution_count": null,
   "metadata": {},
   "outputs": [],
   "source": [
    "# комбинации длиной r из iterable без повторяющихся элементов\n",
    "for i in itertools.combinations('ABCD', 2):\n",
    "    print(i)"
   ]
  },
  {
   "cell_type": "code",
   "execution_count": null,
   "metadata": {},
   "outputs": [],
   "source": [
    "# комбинации длиной r из iterable с повторяющимися элементами.\n",
    "for i in itertools.combinations_with_replacement('ABCD', 2):\n",
    "    print(i)"
   ]
  },
  {
   "cell_type": "code",
   "execution_count": null,
   "metadata": {},
   "outputs": [],
   "source": [
    "# Дан массив со списками актеров которые снимались вместе\n",
    "# нужно найти пару актеров которая снималась чаще всех из этого списка\n",
    "actors = [\n",
    "    'Daniel Radcliffe|Rupert Grint|Emma Watson|John Cleese|Robbie Coltrane',\n",
    "    'Johnny Depp|Helena Bonham Carter|Emily Watson|Tracey Ullman|Paul Whitehouse',\n",
    "    'Daniel Radcliffe|Emma Watson|Ralph Fiennes|Alan Rickman|Maggie Smith',\n",
    "    'Daniel Radcliffe|Rupert Grint|Emma Watson|Kenneth Branagh|Richard Harris',\n",
    "    'Mia Wasikowska|Johnny Depp|Anne Hathaway|Helena Bonham Carter|Crispin Glover'\n",
    "    ]\n",
    "\n",
    "for a in actors:\n",
    "    line = a.split('|')\n",
    "    for pair in itertools.combinations(line, 2):\n",
    "        print(pair) \n",
    "\n",
    "# останется только посчитать количество повторяющихся пар"
   ]
  },
  {
   "cell_type": "markdown",
   "metadata": {},
   "source": [
    "## Приложение 1 Полезные ссылки\n",
    " - http://www.pythontutor.com/visualize.html - визуализация выполнения кода\n",
    " - https://docs-python.ru/tutorial/operatsii-chislami-python/problemy-chisel-plavajuschej-zapjatoj/ - точность чисел  \n",
    " - https://docs.python.org/3/library/stdtypes.html#truth-value-testing - документация по типам и их свойствам\n",
    " - https://habr.com/ru/company/wunderfund/blog/316826/ - много фишек про jupyter, в том числе timeit\n",
    " - https://devpractice.ru/python-lesson-15-iterators-and-generators/ - итераторы и генераторы\n",
    " - https://pythonworld.ru/moduli/modul-itertools.html - модуль itertools"
   ]
  },
  {
   "cell_type": "markdown",
   "metadata": {},
   "source": [
    "## Спасибо за внимание!"
   ]
  }
 ],
 "metadata": {
  "kernelspec": {
   "display_name": "Python 3",
   "language": "python",
   "name": "python3"
  },
  "language_info": {
   "codemirror_mode": {
    "name": "ipython",
    "version": 3
   },
   "file_extension": ".py",
   "mimetype": "text/x-python",
   "name": "python",
   "nbconvert_exporter": "python",
   "pygments_lexer": "ipython3",
   "version": "3.8.5"
  }
 },
 "nbformat": 4,
 "nbformat_minor": 2
}
