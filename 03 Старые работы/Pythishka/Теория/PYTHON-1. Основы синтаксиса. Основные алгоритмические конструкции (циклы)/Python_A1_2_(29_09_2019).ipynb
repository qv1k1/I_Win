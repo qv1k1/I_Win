{
  "nbformat": 4,
  "nbformat_minor": 0,
  "metadata": {
    "kernelspec": {
      "display_name": "Python 3",
      "language": "python",
      "name": "python3"
    },
    "language_info": {
      "codemirror_mode": {
        "name": "ipython",
        "version": 3
      },
      "file_extension": ".py",
      "mimetype": "text/x-python",
      "name": "python",
      "nbconvert_exporter": "python",
      "pygments_lexer": "ipython3",
      "version": "3.7.1"
    },
    "colab": {
      "name": "Python A1-2 (29.09.2019).ipynb",
      "provenance": []
    }
  },
  "cells": [
    {
      "cell_type": "markdown",
      "metadata": {
        "id": "H79McwqBGODE"
      },
      "source": [
        "## Циклы "
      ]
    },
    {
      "cell_type": "markdown",
      "metadata": {
        "id": "eB1fPFMvGODK"
      },
      "source": [
        "### Синтаксис цикла с параметром"
      ]
    },
    {
      "cell_type": "markdown",
      "metadata": {
        "id": "dPIEEnJ3GODL"
      },
      "source": [
        "Организация цикла "
      ]
    },
    {
      "cell_type": "code",
      "metadata": {
        "scrolled": true,
        "id": "t79Z4Nn0GODN",
        "outputId": "82056e66-6f47-4367-cf60-5555fff85ad8"
      },
      "source": [
        "# Перебор чисел в заданном диапазоне\n",
        "for i in range(2,11,2):\n",
        "    print('Значение параметра цикла на этом этапе -', i)"
      ],
      "execution_count": null,
      "outputs": [
        {
          "output_type": "stream",
          "text": [
            "Значение параметра цикла на этом этапе - 2\n",
            "Значение параметра цикла на этом этапе - 4\n",
            "Значение параметра цикла на этом этапе - 6\n",
            "Значение параметра цикла на этом этапе - 8\n",
            "Значение параметра цикла на этом этапе - 10\n"
          ],
          "name": "stdout"
        }
      ]
    },
    {
      "cell_type": "code",
      "metadata": {
        "id": "5S4wrsXoGODR",
        "outputId": "c219af3c-f4ed-4fab-b6b4-d4a09b3d3e8e"
      },
      "source": [
        "# Перебор букв в строке:\n",
        "\n",
        "name = 'Skill Factory'\n",
        "for letter in name:\n",
        "    print(letter, end = '***')"
      ],
      "execution_count": null,
      "outputs": [
        {
          "output_type": "stream",
          "text": [
            "S***k***i***l***l*** ***F***a***c***t***o***r***y***"
          ],
          "name": "stdout"
        }
      ]
    },
    {
      "cell_type": "code",
      "metadata": {
        "id": "v8SuxUcVGODT",
        "outputId": "52e6a7d1-1f83-4bf9-8d9b-21e4e6eea2cc"
      },
      "source": [
        "for number, letter in enumerate(name):\n",
        "    print('{}-й символ в строке равен {}'.format(number+1, letter))\n",
        "    #print(number+1,'-й символ в строке равен', letter)"
      ],
      "execution_count": null,
      "outputs": [
        {
          "output_type": "stream",
          "text": [
            "1-й символ в строке равен S\n",
            "2-й символ в строке равен k\n",
            "3-й символ в строке равен i\n",
            "4-й символ в строке равен l\n",
            "5-й символ в строке равен l\n",
            "6-й символ в строке равен  \n",
            "7-й символ в строке равен F\n",
            "8-й символ в строке равен a\n",
            "9-й символ в строке равен c\n",
            "10-й символ в строке равен t\n",
            "11-й символ в строке равен o\n",
            "12-й символ в строке равен r\n",
            "13-й символ в строке равен y\n"
          ],
          "name": "stdout"
        }
      ]
    },
    {
      "cell_type": "markdown",
      "metadata": {
        "id": "NpezlpQCGODX"
      },
      "source": [
        "### Вычисления в цикле"
      ]
    },
    {
      "cell_type": "code",
      "metadata": {
        "id": "Fsu84Bl6GODY",
        "outputId": "6a18d5b1-9c2c-43f0-a67e-043018945a8d"
      },
      "source": [
        "# Задание: написать программу, котрая считает сумму квадратов n натуральных чисел (n вводится с клавиатуры)\n",
        "\n",
        "n = int(input('n = '))\n",
        "summa = 0\n",
        "for i in range(1, n+1):\n",
        "    summa += i**2\n",
        "    print('Сумма на {}-м этапе равна {}'.format(i,summa))\n",
        "summa"
      ],
      "execution_count": null,
      "outputs": [
        {
          "output_type": "stream",
          "text": [
            "n = 5\n",
            "Сумма на 1-м этапе равна 1\n",
            "Сумма на 2-м этапе равна 5\n",
            "Сумма на 3-м этапе равна 14\n",
            "Сумма на 4-м этапе равна 30\n",
            "Сумма на 5-м этапе равна 55\n"
          ],
          "name": "stdout"
        },
        {
          "output_type": "execute_result",
          "data": {
            "text/plain": [
              "55"
            ]
          },
          "metadata": {
            "tags": []
          },
          "execution_count": 17
        }
      ]
    },
    {
      "cell_type": "code",
      "metadata": {
        "id": "_pcUnagkGODa",
        "outputId": "988a418a-95be-4b82-a404-198bf184e99a"
      },
      "source": [
        "n=int(input('n = '))\n",
        "summa=0\n",
        "for i in range(1,n+1):\n",
        "    summa+=i**2\n",
        "    print('Сумма на ',i,'шаге =',summa)\n",
        "print('Итого',summa)"
      ],
      "execution_count": null,
      "outputs": [
        {
          "output_type": "stream",
          "text": [
            "n = 10\n",
            "Сумма на  1 шаге = 1\n",
            "Сумма на  2 шаге = 5\n",
            "Сумма на  3 шаге = 14\n",
            "Сумма на  4 шаге = 30\n",
            "Сумма на  5 шаге = 55\n",
            "Сумма на  6 шаге = 91\n",
            "Сумма на  7 шаге = 140\n",
            "Сумма на  8 шаге = 204\n",
            "Сумма на  9 шаге = 285\n",
            "Сумма на  10 шаге = 385\n",
            "Итого 385\n"
          ],
          "name": "stdout"
        }
      ]
    },
    {
      "cell_type": "markdown",
      "metadata": {
        "id": "Ee6f6XdcGODc"
      },
      "source": [
        "В виде исключения рассмотрим задачу из модуля А1:  \n",
        "\n",
        "### А1.5.2.4 Задание 4\n",
        "Написать программу, которая на вход получает натуральное число n и выводит n-е число ряда Фибоначчи на экран. Для проверки используйте n = 10.  \n",
        "\n",
        "Пояснение: последовательность Фибоначчи - это ряд чисел, в котором первые два элемента равны 1, а каждый следующий элемент равен сумме двух предыдущих: 1, 1, 2, 3, 5, 8, 13, 21, ..."
      ]
    },
    {
      "cell_type": "code",
      "metadata": {
        "id": "pE4XajdfGODd",
        "outputId": "a062c530-688f-468d-ae5a-802e7b76a068"
      },
      "source": [
        "n = int(input('n = '))\n",
        "f1 = 1\n",
        "f2 = 1\n",
        "for i in range(3,n+1):\n",
        "    f1, f2 = f2, f1+f2\n",
        "    print('{}-й член ряда Фибоначчи - {}'.format(i, f2))\n",
        "print(f2)"
      ],
      "execution_count": null,
      "outputs": [
        {
          "output_type": "stream",
          "text": [
            "n = 10\n",
            "3-й член ряда Фибоначчи - 2\n",
            "4-й член ряда Фибоначчи - 3\n",
            "5-й член ряда Фибоначчи - 5\n",
            "6-й член ряда Фибоначчи - 8\n",
            "7-й член ряда Фибоначчи - 13\n",
            "8-й член ряда Фибоначчи - 21\n",
            "9-й член ряда Фибоначчи - 34\n",
            "10-й член ряда Фибоначчи - 55\n",
            "55\n"
          ],
          "name": "stdout"
        }
      ]
    },
    {
      "cell_type": "markdown",
      "metadata": {
        "id": "TAe39t_dGODe"
      },
      "source": [
        "### Вложенные циклы"
      ]
    },
    {
      "cell_type": "code",
      "metadata": {
        "id": "rWRX0-y0GODf",
        "outputId": "b81430c3-ce21-4575-fe32-0837c6c6e97f"
      },
      "source": [
        "# Изучаем синтаксис и пытаемся понять логику работы цикла\n",
        "for number in range(1, 6):\n",
        "    print('Это внешний цикл, number = {}'.format(number))\n",
        "    for i in range(3):\n",
        "        print('      Ха-ха-ха!')\n",
        "    print('')"
      ],
      "execution_count": null,
      "outputs": [
        {
          "output_type": "stream",
          "text": [
            "Это внешний цикл, number = 1\n",
            "      Ха-ха-ха!\n",
            "      Ха-ха-ха!\n",
            "      Ха-ха-ха!\n",
            "\n",
            "Это внешний цикл, number = 2\n",
            "      Ха-ха-ха!\n",
            "      Ха-ха-ха!\n",
            "      Ха-ха-ха!\n",
            "\n",
            "Это внешний цикл, number = 3\n",
            "      Ха-ха-ха!\n",
            "      Ха-ха-ха!\n",
            "      Ха-ха-ха!\n",
            "\n",
            "Это внешний цикл, number = 4\n",
            "      Ха-ха-ха!\n",
            "      Ха-ха-ха!\n",
            "      Ха-ха-ха!\n",
            "\n",
            "Это внешний цикл, number = 5\n",
            "      Ха-ха-ха!\n",
            "      Ха-ха-ха!\n",
            "      Ха-ха-ха!\n",
            "\n"
          ],
          "name": "stdout"
        }
      ]
    },
    {
      "cell_type": "markdown",
      "metadata": {
        "id": "7CDhIMBEGODg"
      },
      "source": [
        "Задание: напишите программу, которая выводит на экран таблицу Пифагора (таблицу умножения)"
      ]
    },
    {
      "cell_type": "code",
      "metadata": {
        "id": "EfFdJY-YGODh",
        "outputId": "2acb587b-a132-4fbc-c74b-0fe4344a894d"
      },
      "source": [
        "print('Таблица Пифагора')\n",
        "for i in range(1, 10):\n",
        "    for j in range(1, 10):\n",
        "        print(i*j, end = '\\t')\n",
        "    print()"
      ],
      "execution_count": null,
      "outputs": [
        {
          "output_type": "stream",
          "text": [
            "Таблица Пифагора\n",
            "1\t2\t3\t4\t5\t6\t7\t8\t9\t\n",
            "2\t4\t6\t8\t10\t12\t14\t16\t18\t\n",
            "3\t6\t9\t12\t15\t18\t21\t24\t27\t\n",
            "4\t8\t12\t16\t20\t24\t28\t32\t36\t\n",
            "5\t10\t15\t20\t25\t30\t35\t40\t45\t\n",
            "6\t12\t18\t24\t30\t36\t42\t48\t54\t\n",
            "7\t14\t21\t28\t35\t42\t49\t56\t63\t\n",
            "8\t16\t24\t32\t40\t48\t56\t64\t72\t\n",
            "9\t18\t27\t36\t45\t54\t63\t72\t81\t\n"
          ],
          "name": "stdout"
        }
      ]
    },
    {
      "cell_type": "markdown",
      "metadata": {
        "id": "MSs1-sfhGODi"
      },
      "source": [
        "### Цикл While (цикл с предусловием)"
      ]
    },
    {
      "cell_type": "markdown",
      "metadata": {
        "id": "zPXIzcRXGODi"
      },
      "source": [
        "Напишите программу, которая играет с пользователем в игру \"Купи слона\".   \n",
        "Правила игры: компьютер предлагает пользователю купить слона. В ответ на любую введенную фразу выдается ответ: \"все говорят: \"...(ответ пользователя)\", - а ты возьми, и купи слона!\".  \n",
        "Условием выхода из игры является молчание пользователя (ввод пустой строки)."
      ]
    },
    {
      "cell_type": "code",
      "metadata": {
        "id": "IJJTSUK8GODj",
        "outputId": "b5def4ad-23eb-43ce-df44-a5c259da0d22"
      },
      "source": [
        "while True:\n",
        "    answer = input('Купи слона! ')\n",
        "    if answer == '':\n",
        "        print('Не хочешь - как хочешь! А я пойду в зоомагазин!')\n",
        "        break\n",
        "    print('Все говорят \"{}\", а ты купи слона!'.format(answer))\n"
      ],
      "execution_count": null,
      "outputs": [
        {
          "output_type": "stream",
          "text": [
            "Купи слона! не хочу\n",
            "Все говорят \"не хочу\", а ты купи слона!\n",
            "Купи слона! сам покупай\n",
            "Все говорят \"сам покупай\", а ты купи слона!\n",
            "Купи слона! \n",
            "Не хочешь - ка хочешь! А я пойду в зоомагазин!\n"
          ],
          "name": "stdout"
        }
      ]
    },
    {
      "cell_type": "code",
      "metadata": {
        "id": "iURmYCtHGODk",
        "outputId": "bb5481f4-3e39-4f36-accc-338824afcb06"
      },
      "source": [
        "answer = input('Купи слона! ')\n",
        "while answer != '':\n",
        "    print('Все говорят \"{}\", а ты купи слона!'.format(answer)) \n",
        "    answer = input('Купи слона! ')\n",
        "else:\n",
        "    print('Не хочешь - как хочешь! А я пойду в зоомагазин!')  "
      ],
      "execution_count": null,
      "outputs": [
        {
          "output_type": "stream",
          "text": [
            "Купи слона! ненавижу животных\n",
            "Все говорят \"ненавижу животных\", а ты купи слона!\n",
            "Купи слона! у меня уже есть кошка\n",
            "Все говорят \"у меня уже есть кошка\", а ты купи слона!\n",
            "Купи слона! \n",
            "Не хочешь - как хочешь! А я пойду в зоомагазин!\n"
          ],
          "name": "stdout"
        }
      ]
    },
    {
      "cell_type": "markdown",
      "metadata": {
        "id": "7UUoQF-tGODl"
      },
      "source": [
        "Предположим, что в некоторой стране доход предпринимателя, работающего по упрощённой системе налогообложения, не должен превышать 1,000,000 монет в год.\n",
        "Напишите программу, которая будет спрашивать предпринимателя, сколько монет он заработал в прошедшем месяце, и сообщать, сколько осталось заработать до достижения 1,000,000."
      ]
    },
    {
      "cell_type": "code",
      "metadata": {
        "id": "1x0O20iOGODm",
        "outputId": "19f514f2-289f-4e2c-ee76-e3aca41ac466"
      },
      "source": [
        "total_income = 0\n",
        "while total_income <= 1000000:\n",
        "    current_income = int(input('Сколько ты заработал в этом месяце? '))\n",
        "    total_income += current_income\n",
        "    print('До достижения миллиона осталось заработать', 1000000-total_income)"
      ],
      "execution_count": null,
      "outputs": [
        {
          "output_type": "stream",
          "text": [
            "Сколько ты заработал в этом месяце? 100000\n",
            "До достижения миллиона осталось заработать 900000\n",
            "Сколько ты заработал в этом месяце? 500000\n",
            "До достижения миллиона осталось заработать 400000\n",
            "Сколько ты заработал в этом месяце? 401000\n",
            "До достижения миллиона осталось заработать -1000\n"
          ],
          "name": "stdout"
        }
      ]
    }
  ]
}