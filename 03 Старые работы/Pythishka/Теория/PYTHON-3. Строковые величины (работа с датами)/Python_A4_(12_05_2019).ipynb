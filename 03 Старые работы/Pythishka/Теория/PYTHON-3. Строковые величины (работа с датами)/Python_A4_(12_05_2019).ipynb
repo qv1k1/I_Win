{
  "nbformat": 4,
  "nbformat_minor": 0,
  "metadata": {
    "kernelspec": {
      "display_name": "Python 3",
      "language": "python",
      "name": "python3"
    },
    "language_info": {
      "codemirror_mode": {
        "name": "ipython",
        "version": 3
      },
      "file_extension": ".py",
      "mimetype": "text/x-python",
      "name": "python",
      "nbconvert_exporter": "python",
      "pygments_lexer": "ipython3",
      "version": "3.7.1"
    },
    "colab": {
      "name": "Python A4 (12.05.2019).ipynb",
      "provenance": []
    }
  },
  "cells": [
    {
      "cell_type": "markdown",
      "metadata": {
        "id": "G23Vb5EfIO0G"
      },
      "source": [
        "# Дата и время"
      ]
    },
    {
      "cell_type": "code",
      "metadata": {
        "id": "V2BtnunoIO0P"
      },
      "source": [
        "from datetime import datetime, date, timedelta"
      ],
      "execution_count": null,
      "outputs": []
    },
    {
      "cell_type": "markdown",
      "metadata": {
        "id": "ETdGZLMpIO0R"
      },
      "source": [
        "Форматы даты и времени:  \n",
        "https://all-python.ru/osnovy/modul-datetime.html  \n",
        "https://docs.python.org/3/library/datetime.html"
      ]
    },
    {
      "cell_type": "code",
      "metadata": {
        "id": "3em4ALVjIO0S",
        "outputId": "94307832-16f4-428a-91d9-4a8cf42778e2"
      },
      "source": [
        "# Перевод строки в дату:\n",
        "date_str = '12/05/2019'\n",
        "date = datetime.strptime(date_str, '%d/%m/%Y')\n",
        "date"
      ],
      "execution_count": null,
      "outputs": [
        {
          "output_type": "execute_result",
          "data": {
            "text/plain": [
              "datetime.datetime(2019, 5, 12, 0, 0)"
            ]
          },
          "metadata": {
            "tags": []
          },
          "execution_count": 2
        }
      ]
    },
    {
      "cell_type": "code",
      "metadata": {
        "id": "pPRMNqAzIO0V",
        "outputId": "ef381d6c-df91-4609-e91d-6c1d829b865a"
      },
      "source": [
        "# Получаем дополнительную информацию о дне с указанной датой:\n",
        "print('Месяц: {}'.format(date.month))\n",
        "print('День недели: {}'.format(date.weekday()))"
      ],
      "execution_count": null,
      "outputs": [
        {
          "output_type": "stream",
          "text": [
            "Месяц: 5\n",
            "День недели: 6\n"
          ],
          "name": "stdout"
        }
      ]
    },
    {
      "cell_type": "code",
      "metadata": {
        "id": "hyo64iCGIO0W",
        "outputId": "2ec89425-0b38-4627-a109-92bdc13b7e3a"
      },
      "source": [
        "# Расшифровываем день недели: \n",
        "weekdays = 'понедельник вторник среда четверг пятница суббота воскресенье'.split()\n",
        "weekdays[date.weekday()]"
      ],
      "execution_count": null,
      "outputs": [
        {
          "output_type": "execute_result",
          "data": {
            "text/plain": [
              "'воскресенье'"
            ]
          },
          "metadata": {
            "tags": []
          },
          "execution_count": 4
        }
      ]
    },
    {
      "cell_type": "markdown",
      "metadata": {
        "id": "vnXAu7vKIO0X"
      },
      "source": [
        "## Тренировка"
      ]
    },
    {
      "cell_type": "markdown",
      "metadata": {
        "id": "222jogT7IO0Y"
      },
      "source": [
        "%a название дня недели в сокращенном виде  \n",
        "%A название дня недели в полном виде  \n",
        "%w номер дня недели в виде целого числа  \n",
        "%d номер дня месяца в виде целого числа  \n",
        "%b название месяца в сокращенном виде  \n",
        "%B название месяца в полном виде  \n",
        "%m номер месяца в числовом представлении  \n",
        "%y номер года без столетия  \n",
        "%Y номер года в полном представлении  \n",
        "%H количество часов в 24-часовом формате  \n",
        "%I количество часов в 12-часовом формате  \n",
        "%p до полудня или после полудня в 12-часовом формате  \n",
        "%M количество минут в виде целого числа  \n",
        "%S количество секунд в виде целого числа  \n",
        "%f количество микросекунд в виде целого числа  \n",
        "%z часовой пояс в формате UTC  \n",
        "%Z название часового пояса  "
      ]
    },
    {
      "cell_type": "code",
      "metadata": {
        "id": "aaRlBzULIO0a",
        "outputId": "3fd41650-14c5-4cca-c888-0beedd180fac"
      },
      "source": [
        "date_str = '12 May 2019, 13-00'\n",
        "date = datetime.strptime(date_str, '%d %B %Y, %H-%M')\n",
        "date"
      ],
      "execution_count": null,
      "outputs": [
        {
          "output_type": "execute_result",
          "data": {
            "text/plain": [
              "datetime.datetime(2019, 5, 12, 13, 0)"
            ]
          },
          "metadata": {
            "tags": []
          },
          "execution_count": 5
        }
      ]
    },
    {
      "cell_type": "code",
      "metadata": {
        "id": "f7TY6ykiIO0b",
        "outputId": "91faf6c4-c46d-46ff-bdfa-1b51d4a8b73d"
      },
      "source": [
        "date_str = '12 May 2019, 01-00 PM'\n",
        "date = datetime.strptime(date_str, '%d %B %Y, %I-%M %p')\n",
        "date"
      ],
      "execution_count": null,
      "outputs": [
        {
          "output_type": "execute_result",
          "data": {
            "text/plain": [
              "datetime.datetime(2019, 5, 12, 13, 0)"
            ]
          },
          "metadata": {
            "tags": []
          },
          "execution_count": 6
        }
      ]
    },
    {
      "cell_type": "code",
      "metadata": {
        "id": "1n0M8aSnIO0c",
        "outputId": "62615d49-e671-454c-a496-89542ab1de4a"
      },
      "source": [
        "date_str = '12.05.19, 13:00'\n",
        "date = datetime.strptime(date_str, '%d.%m.%y, %H:%M')\n",
        "date"
      ],
      "execution_count": null,
      "outputs": [
        {
          "output_type": "execute_result",
          "data": {
            "text/plain": [
              "datetime.datetime(2019, 5, 12, 13, 0)"
            ]
          },
          "metadata": {
            "tags": []
          },
          "execution_count": 8
        }
      ]
    },
    {
      "cell_type": "markdown",
      "metadata": {
        "id": "yqVaKR8XIO0d"
      },
      "source": [
        "## Работа с датой"
      ]
    },
    {
      "cell_type": "code",
      "metadata": {
        "id": "sJInXVmkIO0e",
        "outputId": "ff95f47e-5723-49cb-c293-15f7af91613e"
      },
      "source": [
        "with open('persons.csv', encoding = 'utf-8') as f:\n",
        "    for line in f:\n",
        "        print(line, end = '')"
      ],
      "execution_count": null,
      "outputs": [
        {
          "output_type": "stream",
          "text": [
            "﻿Иванов Иван Иванович\t21.03.25\tветеран\n",
            "Петрова Мария Ивановна\t5.04.31\tтруженик тыла\n",
            "Сидоров Фёдор Петрович\t02.12.24\tтруженик тыла\n",
            "Кузнецова Дарья Степановна\t22.02.43\tребёнок войны"
          ],
          "name": "stdout"
        }
      ]
    },
    {
      "cell_type": "code",
      "metadata": {
        "id": "g5H472JcIO0f",
        "outputId": "1c371eab-d6dc-4265-c084-8d75136acc8c"
      },
      "source": [
        "with open('persons.csv', encoding = 'utf-8') as f:\n",
        "    for line in f:\n",
        "        info = line.split('\\t')\n",
        "        name = info[0]\n",
        "        birthday = datetime.strptime(info[1], '%d.%m.%y')\n",
        "        birthday = birthday.replace(year=birthday.year-100)\n",
        "        print(birthday)"
      ],
      "execution_count": null,
      "outputs": [
        {
          "output_type": "stream",
          "text": [
            "1925-03-21 00:00:00\n",
            "1931-04-05 00:00:00\n",
            "1924-12-02 00:00:00\n",
            "1943-02-22 00:00:00\n"
          ],
          "name": "stdout"
        }
      ]
    },
    {
      "cell_type": "code",
      "metadata": {
        "scrolled": true,
        "id": "utsTezIRIO0g",
        "outputId": "2c78070e-4749-494f-bdf5-e079ef831958"
      },
      "source": [
        "with open('persons.csv', encoding = 'utf-8') as f:\n",
        "    for line in f:\n",
        "        info = line.split('\\t')\n",
        "        name = info[0]\n",
        "        date = datetime.strptime(info[1], '%d.%m.%y')\n",
        "        birthday = date.replace(year=date.year - 100)\n",
        "        \n",
        "        today = date.today()\n",
        "        age = date.today().year - birthday.year\n",
        "        if today.month < birthday.month:\n",
        "            age -= 1\n",
        "        elif today.month == birthday.month and today.day < birthday.day:\n",
        "            age -= 1\n",
        "        \n",
        "        if str(age)[-1] in '234':\n",
        "            label = 'года'\n",
        "        elif str(age)[-1] in '1':\n",
        "            label = 'год'\n",
        "        else:\n",
        "            label = 'лет'\n",
        "        \n",
        "        print('{}, {} {}'.format(name, age, label))"
      ],
      "execution_count": null,
      "outputs": [
        {
          "output_type": "stream",
          "text": [
            "﻿Иванов Иван Иванович, 94 года\n",
            "Петрова Мария Ивановна, 88 лет\n",
            "Сидоров Фёдор Петрович, 94 года\n",
            "Кузнецова Дарья Степановна, 76 лет\n"
          ],
          "name": "stdout"
        }
      ]
    },
    {
      "cell_type": "code",
      "metadata": {
        "id": "swi7v5o8IO0h",
        "outputId": "5f94a9cf-6ab1-4865-f5bd-f00ef1a8ceb7"
      },
      "source": [
        "date.today() - birthday"
      ],
      "execution_count": null,
      "outputs": [
        {
          "output_type": "execute_result",
          "data": {
            "text/plain": [
              "datetime.timedelta(days=27838, seconds=59798, microseconds=340381)"
            ]
          },
          "metadata": {
            "tags": []
          },
          "execution_count": 14
        }
      ]
    },
    {
      "cell_type": "markdown",
      "metadata": {
        "id": "P-Ll1dtaIO0i"
      },
      "source": [
        "## Работа с timedelta"
      ]
    },
    {
      "cell_type": "code",
      "metadata": {
        "id": "7CEjLxpMIO0i"
      },
      "source": [
        "today = date.today()"
      ],
      "execution_count": null,
      "outputs": []
    },
    {
      "cell_type": "code",
      "metadata": {
        "id": "ILzrtiSIIO0j",
        "outputId": "7d2ca254-9e41-443f-cc3a-de379db29b79"
      },
      "source": [
        "# Йогурт приготовится через 10 часов. Когда нужно будет выключить мультиварку?\n",
        "answer = today + timedelta(hours = 10)\n",
        "print('{}:{}'.format(answer.hour, answer.minute))"
      ],
      "execution_count": null,
      "outputs": [
        {
          "output_type": "stream",
          "text": [
            "2:49\n"
          ],
          "name": "stdout"
        }
      ]
    },
    {
      "cell_type": "code",
      "metadata": {
        "id": "A5FlebC1IO0j",
        "outputId": "cc76aa0e-d386-4970-aaf8-a75f81d37175"
      },
      "source": [
        "# Посылка придёт через 10 дней. Когда нужно пойти на почту?\n",
        "answer = today + timedelta(days=10)\n",
        "weekdays = 'понедельник вторник среду четверг пятницу субботу воскресенье'.split()\n",
        "day = weekdays[answer.weekday()]\n",
        "\n",
        "if day != 'вторник':\n",
        "    day = 'в ' + day\n",
        "else:\n",
        "    day = 'во' + day\n",
        "print('За посылкой нужно подойти {}, {}.{}.'.format(day, answer.day, answer.month))"
      ],
      "execution_count": null,
      "outputs": [
        {
          "output_type": "stream",
          "text": [
            "За посылкой нужно подойти в среду, 22.5.\n"
          ],
          "name": "stdout"
        }
      ]
    },
    {
      "cell_type": "code",
      "metadata": {
        "id": "VaV25FaoIO0k",
        "outputId": "92d26682-4d5c-4f99-ccbc-f80375df5979"
      },
      "source": [
        "answer = today + timedelta(days=10)\n",
        "print('На почту:')\n",
        "print('В {}, {}'.format(answer.strftime('%A'), answer.strftime('%d.%m.%Y')))\n",
        "print('К {}'.format(answer.strftime('%H:%M')))"
      ],
      "execution_count": null,
      "outputs": [
        {
          "output_type": "stream",
          "text": [
            "На почту:\n",
            "В Wednesday, 22.05.2019\n",
            "К 16:49\n"
          ],
          "name": "stdout"
        }
      ]
    },
    {
      "cell_type": "code",
      "metadata": {
        "id": "GZ-u7fkAIO0l",
        "outputId": "3fc9ed89-3ad7-484c-9ce3-259f9fff48a9"
      },
      "source": [
        "answer = today + timedelta(days = 10)\n",
        "weekday = ['понедельник','вторник','среда','четверг','пятница','суббота','воскресенье']\n",
        "print('{}, {}:{}'.format(weekday[answer.weekday()], answer.hour, answer.minute))"
      ],
      "execution_count": null,
      "outputs": [
        {
          "output_type": "stream",
          "text": [
            "среда, 16:49\n"
          ],
          "name": "stdout"
        }
      ]
    },
    {
      "cell_type": "code",
      "metadata": {
        "id": "JX5BVjAjIO0m",
        "outputId": "00c25f7c-d42a-4534-dc31-0dc7f5b53db3"
      },
      "source": [
        "# Отпуск начинается через 5 недель. На какой день заказывать билеты? \n",
        "answer = today + timedelta(weeks = 5)\n",
        "print('на {}.{}.{}'.format(answer.day,answer.month,answer.year))"
      ],
      "execution_count": null,
      "outputs": [
        {
          "output_type": "stream",
          "text": [
            "на 16.6.2019\n"
          ],
          "name": "stdout"
        }
      ]
    },
    {
      "cell_type": "code",
      "metadata": {
        "id": "W3KCuEfnIO0n"
      },
      "source": [
        ""
      ],
      "execution_count": null,
      "outputs": []
    }
  ]
}