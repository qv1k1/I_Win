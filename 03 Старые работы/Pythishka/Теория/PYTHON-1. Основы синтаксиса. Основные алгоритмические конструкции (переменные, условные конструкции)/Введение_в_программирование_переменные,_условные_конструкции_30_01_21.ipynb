{
  "nbformat": 4,
  "nbformat_minor": 0,
  "metadata": {
    "kernelspec": {
      "display_name": "Python 3",
      "language": "python",
      "name": "python3"
    },
    "language_info": {
      "codemirror_mode": {
        "name": "ipython",
        "version": 3
      },
      "file_extension": ".py",
      "mimetype": "text/x-python",
      "name": "python",
      "nbconvert_exporter": "python",
      "pygments_lexer": "ipython3",
      "version": "3.8.5"
    },
    "colab": {
      "name": "Введение в программирование переменные, условные конструкции 30.01.21.ipynb",
      "provenance": []
    }
  },
  "cells": [
    {
      "cell_type": "markdown",
      "metadata": {
        "id": "MvyrDjCvFmHa"
      },
      "source": [
        "# Введение в Python\n",
        "\n",
        "Булыгин Олег  \n",
        "FB: [fb.com/obulygin91](fb.com/obulygin91)  \n",
        "VK: [vk.com/obulygin91](vk.com/obulygin91)  \n",
        "LinkedIn: [linkedin.com/in/obulygin](linkedin.com/in/obulygin)  \n",
        "Telegram: [https://t.me/obulygin91](https://t.me/obulygin91)"
      ]
    },
    {
      "cell_type": "markdown",
      "metadata": {
        "id": "q-b-2V0wFmHg"
      },
      "source": [
        "Python – интерпретируемый язык с динамической типизацией.  \n",
        "\n",
        "Плюсы Python:\n",
        "- полностью open-source;\n",
        "- расширяемость за счет множества библиотек (в т.ч. для анализа данных и машинного обучения);\n",
        "- очень широкая сфера применения;\n",
        "- приятный синтаксис.\n",
        "\n",
        "Сфера применения:\n",
        "- анализ данных и машинное обучение;\n",
        "- разработка веб-приложений (Django, Flask);\n",
        "- системное администрирование;\n",
        "- разработка десктопных приложений;\n",
        "- gamedev.\n"
      ]
    },
    {
      "cell_type": "markdown",
      "metadata": {
        "id": "tUv9b_7eFmHi"
      },
      "source": [
        "Python является вторым по распространенности языком программирования в 2020 году.  \n",
        "Источник: https://redmonk.com/sogrady/2020/02/28/language-rankings-1-20/\n",
        "  \n",
        "Анализ данных остается самой популярной сферой применения языка.  \n",
        "Источник: https://www.jetbrains.com/lp/python-developers-survey-2019/"
      ]
    },
    {
      "cell_type": "code",
      "metadata": {
        "id": "kYZcqzvCFmHj"
      },
      "source": [
        ""
      ],
      "execution_count": null,
      "outputs": []
    },
    {
      "cell_type": "markdown",
      "metadata": {
        "id": "LiOsS6rAFmHk"
      },
      "source": [
        "### Про выполнение команд\n",
        "- Shift + Enter - выполнить код в ячейке и перейти на следующую\n",
        "- Ctrl + Enter - выполнить и остаться\n",
        "\n",
        "### Немного полезностей и про markdown:\n",
        "* для автозаполнения длинных названий используйте табуляцию\n",
        "* перевести ячейку из кода в комментарии можно с помощью 'Esc + m' или просто 'm', если вы не еще не успели сделать ее активной\n",
        "* добавить новую ячейку можно аналогичным образом через 'b'\n",
        "* Jupyter понимает эти команды и в русской раскладке\n",
        "* все это можно сделать и через верхнюю панель под меню File, Edit, ...\n",
        "* список горячих клавиш Ctrl+Shift+P (Command+Shift+P для мака)"
      ]
    },
    {
      "cell_type": "markdown",
      "metadata": {
        "id": "OINEIQFeFmHm"
      },
      "source": [
        "### Арифметические операции\n",
        "\n",
        "- сложение (+)\n",
        "- вычитание (-)\n",
        "- умножение (*)\n",
        "- деление (/)\n",
        "- целочисленное деление (//)\n",
        "- возведение в степень (**)\n",
        "- взятие остатка от деления (%)  \n",
        "\n",
        "Приоритет операции аналогичен стандартным математическим правилам, можно использовать скобки."
      ]
    },
    {
      "cell_type": "code",
      "metadata": {
        "id": "Asgg_PHrFmHn",
        "outputId": "b8c66cbf-d151-4dd6-f38a-1bfec6a40638"
      },
      "source": [
        "print(1 + 1)"
      ],
      "execution_count": null,
      "outputs": [
        {
          "output_type": "stream",
          "text": [
            "2\n"
          ],
          "name": "stdout"
        }
      ]
    },
    {
      "cell_type": "code",
      "metadata": {
        "id": "qwD71rmlFmHp",
        "outputId": "c6b87e10-f2ff-4305-9636-7fefabf7a9bf"
      },
      "source": [
        "# это комментарий. Он для человека. Интерпретатор его игнорирует\n",
        "\n",
        "# в print можно передавать хоть сколько аргументов через запятую\n",
        "print(2 - 1, 5 + 6)"
      ],
      "execution_count": null,
      "outputs": [
        {
          "output_type": "stream",
          "text": [
            "1 11\n"
          ],
          "name": "stdout"
        }
      ]
    },
    {
      "cell_type": "code",
      "metadata": {
        "id": "bcHVcFCiFmHr",
        "outputId": "a56c3cf0-40bc-4a29-bcdd-2c58d0a2eacf"
      },
      "source": [
        "1 + 1 # для вывода в jupyter notebook не обязательно использовать print"
      ],
      "execution_count": null,
      "outputs": [
        {
          "output_type": "execute_result",
          "data": {
            "text/plain": [
              "2"
            ]
          },
          "metadata": {
            "tags": []
          },
          "execution_count": 3
        }
      ]
    },
    {
      "cell_type": "code",
      "metadata": {
        "id": "0AqqkUT_FmHs",
        "outputId": "fcf94f06-0253-4bb7-e8d1-034f65d894ae"
      },
      "source": [
        "1 + 1\n",
        "2 - 1"
      ],
      "execution_count": null,
      "outputs": [
        {
          "output_type": "execute_result",
          "data": {
            "text/plain": [
              "1"
            ]
          },
          "metadata": {
            "tags": []
          },
          "execution_count": 4
        }
      ]
    },
    {
      "cell_type": "code",
      "metadata": {
        "id": "fZbqRrxYFmHt",
        "outputId": "102482b8-8f62-4d42-97e9-66d6cd2f9caf"
      },
      "source": [
        "print(1 + 1)\n",
        "print(2 - 1)"
      ],
      "execution_count": null,
      "outputs": [
        {
          "output_type": "stream",
          "text": [
            "2\n",
            "1\n"
          ],
          "name": "stdout"
        }
      ]
    },
    {
      "cell_type": "code",
      "metadata": {
        "id": "F6Qcp0JUFmHu",
        "outputId": "a6f2aa3d-59c6-4352-ee14-3dd39f9a0fd3"
      },
      "source": [
        "5 * 6"
      ],
      "execution_count": null,
      "outputs": [
        {
          "output_type": "execute_result",
          "data": {
            "text/plain": [
              "30"
            ]
          },
          "metadata": {
            "tags": []
          },
          "execution_count": 6
        }
      ]
    },
    {
      "cell_type": "code",
      "metadata": {
        "id": "5zOkjRxsFmHv",
        "outputId": "7c0e5175-6ce4-4857-8865-f2d30bd9dfdf"
      },
      "source": [
        "# в результате такого деления всегда будем получать число с плавающей точкой (float). \n",
        "# целые числа называются integer (тип данных int)\n",
        "10 / 5"
      ],
      "execution_count": null,
      "outputs": [
        {
          "output_type": "execute_result",
          "data": {
            "text/plain": [
              "2.0"
            ]
          },
          "metadata": {
            "tags": []
          },
          "execution_count": 8
        }
      ]
    },
    {
      "cell_type": "code",
      "metadata": {
        "id": "Lh7jq6cmFmHw",
        "outputId": "e8328fd6-561a-4486-ea8a-b9c5a61ef4d7"
      },
      "source": [
        "10 // 4"
      ],
      "execution_count": null,
      "outputs": [
        {
          "output_type": "execute_result",
          "data": {
            "text/plain": [
              "2"
            ]
          },
          "metadata": {
            "tags": []
          },
          "execution_count": 9
        }
      ]
    },
    {
      "cell_type": "code",
      "metadata": {
        "id": "_95g8QgUFmHx",
        "outputId": "adf8def8-32f9-4c38-a600-981f9334061c"
      },
      "source": [
        "2 ** 100"
      ],
      "execution_count": null,
      "outputs": [
        {
          "output_type": "execute_result",
          "data": {
            "text/plain": [
              "1267650600228229401496703205376"
            ]
          },
          "metadata": {
            "tags": []
          },
          "execution_count": 10
        }
      ]
    },
    {
      "cell_type": "code",
      "metadata": {
        "id": "TMEKoV0eFmHy",
        "outputId": "bf2e734d-7c4b-4e9f-d19a-b651e01ac694"
      },
      "source": [
        "2 * 2 * 2 * 2 * 2"
      ],
      "execution_count": null,
      "outputs": [
        {
          "output_type": "execute_result",
          "data": {
            "text/plain": [
              "32"
            ]
          },
          "metadata": {
            "tags": []
          },
          "execution_count": 11
        }
      ]
    },
    {
      "cell_type": "code",
      "metadata": {
        "id": "0tIH7gY_FmHz",
        "outputId": "030487d5-fb2a-4e81-ccf8-1bfee18ab06f"
      },
      "source": [
        "4 % 3"
      ],
      "execution_count": null,
      "outputs": [
        {
          "output_type": "execute_result",
          "data": {
            "text/plain": [
              "1"
            ]
          },
          "metadata": {
            "tags": []
          },
          "execution_count": 12
        }
      ]
    },
    {
      "cell_type": "code",
      "metadata": {
        "id": "C88qoe6NFmHz",
        "outputId": "d3a016a9-1f85-4fe5-b8be-edc9d74605b6"
      },
      "source": [
        "4 * 2 + 2"
      ],
      "execution_count": null,
      "outputs": [
        {
          "output_type": "execute_result",
          "data": {
            "text/plain": [
              "10"
            ]
          },
          "metadata": {
            "tags": []
          },
          "execution_count": 13
        }
      ]
    },
    {
      "cell_type": "code",
      "metadata": {
        "scrolled": false,
        "id": "SGVLOg3bFmH0",
        "outputId": "4912a15e-7467-4512-d79d-5366f8ae66b1"
      },
      "source": [
        "5 - (3 + 2) * 6"
      ],
      "execution_count": null,
      "outputs": [
        {
          "output_type": "execute_result",
          "data": {
            "text/plain": [
              "-25"
            ]
          },
          "metadata": {
            "tags": []
          },
          "execution_count": 14
        }
      ]
    },
    {
      "cell_type": "markdown",
      "metadata": {
        "id": "liqczDFZFmH1"
      },
      "source": [
        "### Переменные\n",
        "\n",
        "Переменная – это объект, которому дано имя. Необходимы, в том числе, для хранения данных и промежуточных результатов вычислений. \n",
        "Объект – это:\n",
        "число;\n",
        "строка;\n",
        "практически, что угодно в Python.\n"
      ]
    },
    {
      "cell_type": "markdown",
      "metadata": {
        "id": "Yv5J1LuBFmH2"
      },
      "source": [
        "#### Именование переменных\n",
        "\n",
        "- имя переменной может состоять только из цифр, букв и знаков подчеркивания;\n",
        "\n",
        "- имя переменной не может начинаться с цифры;\n",
        "\n",
        "- имя переменной должно описывать ее суть;\n",
        "\n",
        "- лучше использовать snake_case (слова писать со строчной буквы и разделять нижним подчеркиванием)\n",
        "\n",
        "Помните: Python – регистрозависимый язык\n"
      ]
    },
    {
      "cell_type": "code",
      "metadata": {
        "id": "079RxSYCFmH2",
        "outputId": "3496c2cb-030f-49b5-b991-dfb2dce33997"
      },
      "source": [
        "a = 10 + 20\n",
        "b = a * 30\n",
        "c = a / b\n",
        "print('Ответ: ', c)"
      ],
      "execution_count": null,
      "outputs": [
        {
          "output_type": "stream",
          "text": [
            "Ответ:  0.03333333333333333\n"
          ],
          "name": "stdout"
        }
      ]
    },
    {
      "cell_type": "code",
      "metadata": {
        "scrolled": true,
        "id": "ocFsDTJtFmH3",
        "outputId": "e3e429cf-6583-410d-face-b07a12ef9eca"
      },
      "source": [
        "# интерпретатор читает код сверху вниз!\n",
        "print(x)\n",
        "\n",
        "x = 10"
      ],
      "execution_count": null,
      "outputs": [
        {
          "output_type": "stream",
          "text": [
            "10\n",
            "15\n"
          ],
          "name": "stdout"
        }
      ]
    },
    {
      "cell_type": "markdown",
      "metadata": {
        "id": "3b15g-FLFmH4"
      },
      "source": [
        "### Строки"
      ]
    },
    {
      "cell_type": "code",
      "metadata": {
        "id": "ph79AR6-FmH4"
      },
      "source": [
        "my_string_1 = 'Hello World'"
      ],
      "execution_count": null,
      "outputs": []
    },
    {
      "cell_type": "code",
      "metadata": {
        "id": "UF9vaDRBFmH5"
      },
      "source": [
        "my_string_2 = \"Hello World!\""
      ],
      "execution_count": null,
      "outputs": []
    },
    {
      "cell_type": "code",
      "metadata": {
        "id": "lmoQB8KKFmH5",
        "outputId": "c172582a-6f30-44e2-87f1-a3c6a6c19e26"
      },
      "source": [
        "my_string_1"
      ],
      "execution_count": null,
      "outputs": [
        {
          "output_type": "execute_result",
          "data": {
            "text/plain": [
              "'Hello World'"
            ]
          },
          "metadata": {
            "tags": []
          },
          "execution_count": 26
        }
      ]
    },
    {
      "cell_type": "markdown",
      "metadata": {
        "id": "q_qtCCENFmH6"
      },
      "source": [
        "Итак, мы научились создавать переменные и работать с ними! Давайте сделаем так, чтобы можно было вводить данные в программу с клавиатуры. Для этого у нас есть функция input()"
      ]
    },
    {
      "cell_type": "code",
      "metadata": {
        "id": "HE7vCxNXFmH6",
        "outputId": "a704ca4e-c4d3-4556-a7f4-937a015f659a"
      },
      "source": [
        "b = input('так работает функция input: ') # input - функция для ввода, так же как print() для вывода\n",
        "print(b)"
      ],
      "execution_count": null,
      "outputs": [
        {
          "output_type": "stream",
          "text": [
            "так работает функция input: erhlknerhlknerh\n",
            "erhlknerhlknerh\n"
          ],
          "name": "stdout"
        }
      ]
    },
    {
      "cell_type": "markdown",
      "metadata": {
        "id": "c0bxrGt8FmH7"
      },
      "source": [
        "У данных есть не только значения, но и типы. С разными типами Python работает по-разному. Тип данных можно проверить при помощи функции type"
      ]
    },
    {
      "cell_type": "code",
      "metadata": {
        "id": "0t-6ugePFmH7",
        "outputId": "321bba9b-a05d-45e8-8cc4-9a0eafc205b1"
      },
      "source": [
        "# пользовательский ввод - всегда строка!\n",
        "type(b)"
      ],
      "execution_count": null,
      "outputs": [
        {
          "output_type": "execute_result",
          "data": {
            "text/plain": [
              "str"
            ]
          },
          "metadata": {
            "tags": []
          },
          "execution_count": 28
        }
      ]
    },
    {
      "cell_type": "code",
      "metadata": {
        "id": "8dFSPpt7FmH8",
        "outputId": "61009f22-4c5b-4e37-b682-7c544c6eb752"
      },
      "source": [
        "b = input('Ввод') # введем число\n",
        "type(b)"
      ],
      "execution_count": null,
      "outputs": [
        {
          "output_type": "stream",
          "text": [
            "Ввод6\n"
          ],
          "name": "stdout"
        },
        {
          "output_type": "execute_result",
          "data": {
            "text/plain": [
              "str"
            ]
          },
          "metadata": {
            "tags": []
          },
          "execution_count": 29
        }
      ]
    },
    {
      "cell_type": "code",
      "metadata": {
        "id": "ImBoedTQFmH9",
        "outputId": "a569a3fd-ec0e-4dfd-8ef8-d41bede6da33"
      },
      "source": [
        "print(type(5))\n",
        "print(type(4.5))"
      ],
      "execution_count": null,
      "outputs": [
        {
          "output_type": "stream",
          "text": [
            "<class 'int'>\n",
            "<class 'float'>\n"
          ],
          "name": "stdout"
        }
      ]
    },
    {
      "cell_type": "markdown",
      "metadata": {
        "id": "_SHx81oWFmH9"
      },
      "source": [
        "Тип данных можно поменять при помощи функций str(), int(), float()"
      ]
    },
    {
      "cell_type": "code",
      "metadata": {
        "id": "lmhSxTx_FmH-",
        "outputId": "d7090c14-c3ba-4279-cad1-2772bdc9c25d"
      },
      "source": [
        "user_input = input('Введите вашу месячную заработную плату')\n",
        "print('Ваша годовая заработная плата составляет', user_input * 12)"
      ],
      "execution_count": null,
      "outputs": [
        {
          "output_type": "stream",
          "text": [
            "Введите вашу месячную заработную плату1000\n",
            "Ваша годовая заработная плата составляет 100010001000100010001000100010001000100010001000\n"
          ],
          "name": "stdout"
        }
      ]
    },
    {
      "cell_type": "code",
      "metadata": {
        "id": "vaZf_3XiFmH-",
        "outputId": "0b8ae4e8-6ed7-4262-89aa-08e16f0a9a3e"
      },
      "source": [
        "user_input = input('Введите вашу месячную заработную плату')\n",
        "print('Ваша годоая заработная плата составляет', int(user_input) * 12)"
      ],
      "execution_count": null,
      "outputs": [
        {
          "output_type": "stream",
          "text": [
            "Введите вашу месячную заработную плату1000\n",
            "Ваша годоая заработная плата составляет 12000\n"
          ],
          "name": "stdout"
        }
      ]
    },
    {
      "cell_type": "code",
      "metadata": {
        "id": "4KnTjJK3FmH_",
        "outputId": "ef78c10b-d738-430e-cc32-0210992d98d3"
      },
      "source": [
        "user_input = int(input('Введите вашу месячную заработную плату'))\n",
        "print('Ваша годоая заработная плата составляет', user_input * 12)"
      ],
      "execution_count": null,
      "outputs": [
        {
          "output_type": "stream",
          "text": [
            "Введите вашу месячную заработную плату1000\n",
            "Ваша годоая заработная плата составляет 12000\n"
          ],
          "name": "stdout"
        }
      ]
    },
    {
      "cell_type": "markdown",
      "metadata": {
        "id": "JJLwgODVFmH_"
      },
      "source": [
        "**Практика**. Перевод байтов в мегабайты. Запросим у пользователя байты, выведем результат в мегабайтах"
      ]
    },
    {
      "cell_type": "code",
      "metadata": {
        "id": "ICYE2YKVFmIA",
        "outputId": "323df8a8-c01e-436e-d145-70b842d688a7"
      },
      "source": [
        "user_input = input('Введите количество байт')\n",
        "print('в мегабайтах это', int(user_input)/1024)"
      ],
      "execution_count": null,
      "outputs": [
        {
          "output_type": "stream",
          "text": [
            "Введите количество байт1000\n",
            "в мегабайтах это 0.9765625\n"
          ],
          "name": "stdout"
        }
      ]
    },
    {
      "cell_type": "code",
      "metadata": {
        "id": "dpRYRIj6FmIA"
      },
      "source": [
        "user_input = input('Введите количество байтов')\n",
        "print('Количество мегабайтов', int(user_input) / 1000)\n"
      ],
      "execution_count": null,
      "outputs": []
    },
    {
      "cell_type": "code",
      "metadata": {
        "id": "yxOU3L78FmIB",
        "outputId": "a18ab641-1c5b-48ee-d59d-254f95ef80de"
      },
      "source": [
        "user_input = int(input('введите байты'))\n",
        "print('в мегабайтах это', user_input / 1024 ** 2)"
      ],
      "execution_count": null,
      "outputs": [
        {
          "output_type": "stream",
          "text": [
            "введите байты1000\n",
            "в мегабайтах это 0.00095367431640625\n"
          ],
          "name": "stdout"
        }
      ]
    },
    {
      "cell_type": "markdown",
      "metadata": {
        "id": "YZlRJYCMFmIC"
      },
      "source": [
        "### Операторы сравнения\n",
        "\n",
        "- \\>\n",
        "- <\n",
        "- \\== (не путать с =)\n",
        "- \\>=\n",
        "- \\<=\n",
        "- !=\n",
        "\n",
        "В результате операций сравнения возвращается булево значение (True / False).\n",
        "Сравнения могут быть записаны в цепочку."
      ]
    },
    {
      "cell_type": "code",
      "metadata": {
        "id": "qJRIwLebFmIC",
        "outputId": "d981c902-2c68-42ee-cbe6-edee5bcee456"
      },
      "source": [
        "2 > 1"
      ],
      "execution_count": null,
      "outputs": [
        {
          "output_type": "execute_result",
          "data": {
            "text/plain": [
              "True"
            ]
          },
          "metadata": {
            "tags": []
          },
          "execution_count": 38
        }
      ]
    },
    {
      "cell_type": "code",
      "metadata": {
        "id": "VmgT3Q7qFmID",
        "outputId": "947c68cd-90dd-4406-8e8e-78b7ce134068"
      },
      "source": [
        "10 < 9"
      ],
      "execution_count": null,
      "outputs": [
        {
          "output_type": "execute_result",
          "data": {
            "text/plain": [
              "False"
            ]
          },
          "metadata": {
            "tags": []
          },
          "execution_count": 39
        }
      ]
    },
    {
      "cell_type": "code",
      "metadata": {
        "id": "o_6W8aXsFmID",
        "outputId": "1eb865d6-b948-482e-bfd6-d2a902b52caa"
      },
      "source": [
        "10 > 10"
      ],
      "execution_count": null,
      "outputs": [
        {
          "output_type": "execute_result",
          "data": {
            "text/plain": [
              "False"
            ]
          },
          "metadata": {
            "tags": []
          },
          "execution_count": 40
        }
      ]
    },
    {
      "cell_type": "code",
      "metadata": {
        "id": "LUwAViYGFmIE",
        "outputId": "e2a4de19-2002-40b7-c756-018c76a41127"
      },
      "source": [
        "10 >= 10"
      ],
      "execution_count": null,
      "outputs": [
        {
          "output_type": "execute_result",
          "data": {
            "text/plain": [
              "True"
            ]
          },
          "metadata": {
            "tags": []
          },
          "execution_count": 41
        }
      ]
    },
    {
      "cell_type": "code",
      "metadata": {
        "id": "UB_GOrXXFmIF",
        "outputId": "93c468d2-2db4-452d-eb5a-a78873fe7b6d"
      },
      "source": [
        "7 == 7"
      ],
      "execution_count": null,
      "outputs": [
        {
          "output_type": "execute_result",
          "data": {
            "text/plain": [
              "True"
            ]
          },
          "metadata": {
            "tags": []
          },
          "execution_count": 43
        }
      ]
    },
    {
      "cell_type": "code",
      "metadata": {
        "id": "_P5_uy5CFmIF",
        "outputId": "9b04ba40-2544-4a98-eca7-543345979c4e"
      },
      "source": [
        "15 != 15"
      ],
      "execution_count": null,
      "outputs": [
        {
          "output_type": "execute_result",
          "data": {
            "text/plain": [
              "False"
            ]
          },
          "metadata": {
            "tags": []
          },
          "execution_count": 44
        }
      ]
    },
    {
      "cell_type": "code",
      "metadata": {
        "id": "Pp5IzZ-2FmIG",
        "outputId": "5d99bc12-f8e4-4bfb-d599-536b317150f2"
      },
      "source": [
        "5 > 4 < 0"
      ],
      "execution_count": null,
      "outputs": [
        {
          "output_type": "execute_result",
          "data": {
            "text/plain": [
              "False"
            ]
          },
          "metadata": {
            "tags": []
          },
          "execution_count": 45
        }
      ]
    },
    {
      "cell_type": "code",
      "metadata": {
        "id": "j08DlJPQFmIG",
        "outputId": "68e861e6-d74c-4ccb-98f2-56097330324a"
      },
      "source": [
        "# сравнение строк \n",
        "print('c' > 'a')"
      ],
      "execution_count": null,
      "outputs": [
        {
          "output_type": "stream",
          "text": [
            "True\n"
          ],
          "name": "stdout"
        }
      ]
    },
    {
      "cell_type": "code",
      "metadata": {
        "id": "Z7nV8fybFmIH",
        "outputId": "eaf03610-3dac-4c5a-c665-1f3692ae7130"
      },
      "source": [
        "print('b' > 'B')"
      ],
      "execution_count": null,
      "outputs": [
        {
          "output_type": "stream",
          "text": [
            "True\n"
          ],
          "name": "stdout"
        }
      ]
    },
    {
      "cell_type": "code",
      "metadata": {
        "id": "XCM3Cg8eFmIH",
        "outputId": "a7bfb69c-4fcc-4c9a-b23e-e06227667957"
      },
      "source": [
        "print('abc' > 'aba')"
      ],
      "execution_count": null,
      "outputs": [
        {
          "output_type": "stream",
          "text": [
            "True\n"
          ],
          "name": "stdout"
        }
      ]
    },
    {
      "cell_type": "code",
      "metadata": {
        "id": "0tTKKBbLFmII",
        "outputId": "c27a5a17-e1a4-4479-8b92-c4c1c6160eef"
      },
      "source": [
        "len('abc') > len('aba')"
      ],
      "execution_count": null,
      "outputs": [
        {
          "output_type": "execute_result",
          "data": {
            "text/plain": [
              "False"
            ]
          },
          "metadata": {
            "tags": []
          },
          "execution_count": 50
        }
      ]
    },
    {
      "cell_type": "markdown",
      "metadata": {
        "id": "saSO4FqwFmIJ"
      },
      "source": [
        "**Практика**. Дана переменная, в которой хранится шестизначное число (номер проездного билета). Напишите программу, которая будет определять, является ли данный билет \"счастливым\". Билет считается счастливым, если сумма первых трех цифр совпадает с суммой последних трех цифр номера.\n",
        "\n",
        "Примеры работы программы:\n",
        "\n",
        "number = 123456  \n",
        "Результат:  \n",
        "True\n",
        "\n",
        "number = 123321  \n",
        "Результат:  \n",
        "False"
      ]
    },
    {
      "cell_type": "code",
      "metadata": {
        "id": "XBTY6HK7FmIJ"
      },
      "source": [
        "number = 123456"
      ],
      "execution_count": null,
      "outputs": []
    },
    {
      "cell_type": "code",
      "metadata": {
        "id": "cLkPph3WFmIJ",
        "outputId": "5842b6eb-9bb2-491b-b8fc-01b665d78615"
      },
      "source": [
        "num_1 = number // 100000\n",
        "num_1"
      ],
      "execution_count": null,
      "outputs": [
        {
          "output_type": "execute_result",
          "data": {
            "text/plain": [
              "1"
            ]
          },
          "metadata": {
            "tags": []
          },
          "execution_count": 61
        }
      ]
    },
    {
      "cell_type": "code",
      "metadata": {
        "id": "1YkQaZI9FmIK",
        "outputId": "01ae9d93-3c56-4ee1-f5b9-3c4e971b2651"
      },
      "source": [
        "num_2 = number // 10000 % 10\n",
        "num_2"
      ],
      "execution_count": null,
      "outputs": [
        {
          "output_type": "execute_result",
          "data": {
            "text/plain": [
              "2"
            ]
          },
          "metadata": {
            "tags": []
          },
          "execution_count": 62
        }
      ]
    },
    {
      "cell_type": "code",
      "metadata": {
        "id": "YBnVbSj3FmIL",
        "outputId": "2ab49157-6037-4c0e-8ca7-586a57d26c8d"
      },
      "source": [
        "num_3 = number // 1000 % 10\n",
        "num_3"
      ],
      "execution_count": null,
      "outputs": [
        {
          "output_type": "execute_result",
          "data": {
            "text/plain": [
              "3"
            ]
          },
          "metadata": {
            "tags": []
          },
          "execution_count": 63
        }
      ]
    },
    {
      "cell_type": "code",
      "metadata": {
        "id": "9AdTHjW-FmIL",
        "outputId": "7551ce2f-7e79-4fe2-f804-301049ea37ac"
      },
      "source": [
        "num_4 = number // 100 % 10\n",
        "num_4"
      ],
      "execution_count": null,
      "outputs": [
        {
          "output_type": "execute_result",
          "data": {
            "text/plain": [
              "4"
            ]
          },
          "metadata": {
            "tags": []
          },
          "execution_count": 65
        }
      ]
    },
    {
      "cell_type": "markdown",
      "metadata": {
        "id": "wgDEUbdnFmIM"
      },
      "source": [
        "### Условные конструкции\n",
        "- это способ управлять выполнением программы;\n",
        "- это способ запрограммировать принятие решений;\n",
        "- это логическое выражение после которого пишутся команды, которые выполняются, если условие истинно.\n",
        "\n",
        "Условная конструкция может включать три части:\n",
        "- блок if (обязательная часть);\n",
        "- блоки elif (необязательные, их может быть любое количество);\n",
        "- else (необязательный блок, может быть один, завершает условную конструкцию)."
      ]
    },
    {
      "cell_type": "code",
      "metadata": {
        "id": "qly4wdpuFmIM"
      },
      "source": [
        "# обращайте внимание на отступы!\n",
        "x = 7\n",
        "if x % 2 == 0:\n",
        "    print(x, '- четное число')"
      ],
      "execution_count": null,
      "outputs": []
    },
    {
      "cell_type": "code",
      "metadata": {
        "id": "s8ytgauqFmIO",
        "outputId": "cad6d47b-3522-43c7-e851-c9cdd5ed1b8a"
      },
      "source": [
        "x = 7\n",
        "if x % 2 == 0:\n",
        "    print(x, '- четное число')\n",
        "else:\n",
        "    print(x, '- нечетное число')"
      ],
      "execution_count": null,
      "outputs": [
        {
          "output_type": "stream",
          "text": [
            "7 - нечетное число\n"
          ],
          "name": "stdout"
        }
      ]
    },
    {
      "cell_type": "code",
      "metadata": {
        "id": "e-O6DpvLFmIP"
      },
      "source": [
        "# Пишем программу для определения куда направить призывника\n",
        "height = 180\n",
        "if height < 170:\n",
        "    print('В танкисты')"
      ],
      "execution_count": null,
      "outputs": []
    },
    {
      "cell_type": "code",
      "metadata": {
        "id": "VhgYAC8SFmIP",
        "outputId": "ac8f27bc-b377-4317-fde5-d1eac04c9311"
      },
      "source": [
        "if height < 170:\n",
        "    print('В танкисты')\n",
        "else:\n",
        "    print('В другие войска')"
      ],
      "execution_count": null,
      "outputs": [
        {
          "output_type": "stream",
          "text": [
            "В другие войска\n"
          ],
          "name": "stdout"
        }
      ]
    },
    {
      "cell_type": "code",
      "metadata": {
        "id": "DUg81L0LFmIQ",
        "outputId": "accf1b0e-c741-4b6e-da39-f582d2d19f6b"
      },
      "source": [
        "# условия выполняются по порядку, как только одно выполнено - проверки останавливаются\n",
        "height = 160\n",
        "if height < 170:\n",
        "    print('В танкисты')\n",
        "elif height < 200:\n",
        "    print('В десантники')\n",
        "else:\n",
        "    print('В другие войска')"
      ],
      "execution_count": null,
      "outputs": [
        {
          "output_type": "stream",
          "text": [
            "В танкисты\n"
          ],
          "name": "stdout"
        }
      ]
    },
    {
      "cell_type": "code",
      "metadata": {
        "id": "nS1yzU3sFmIR",
        "outputId": "935bf2b9-7663-4a3a-aec3-f427db3a9d66"
      },
      "source": [
        "# блоков elif может быть хоть сколько\n",
        "height = 160\n",
        "if height < 170:\n",
        "    print('В танкисты')\n",
        "elif height < 180:\n",
        "    print('На флот')\n",
        "elif height < 200:\n",
        "    print('В десантники')\n",
        "else:\n",
        "    print('В другие войска')"
      ],
      "execution_count": null,
      "outputs": [
        {
          "output_type": "stream",
          "text": [
            "В другие войска\n"
          ],
          "name": "stdout"
        }
      ]
    },
    {
      "cell_type": "markdown",
      "metadata": {
        "id": "XPsXebXWFmIS"
      },
      "source": [
        "### Логические операторы\n",
        " \n",
        "- AND (логическое И) – возвращает True, только когда оба операнда True;\n",
        "- OR (логическое ИЛИ) – возвращает True, когда хотя бы один операнд True;\n",
        "- NOT (логическое НЕ) – возвращает булево значение, противоположное операнду."
      ]
    },
    {
      "cell_type": "code",
      "metadata": {
        "id": "-Zl9Z_qvFmIS",
        "outputId": "25ec2fb4-1021-446e-c37f-ae3fb8f39f8f"
      },
      "source": [
        "True and True"
      ],
      "execution_count": null,
      "outputs": [
        {
          "output_type": "execute_result",
          "data": {
            "text/plain": [
              "True"
            ]
          },
          "metadata": {
            "tags": []
          },
          "execution_count": 82
        }
      ]
    },
    {
      "cell_type": "code",
      "metadata": {
        "id": "SJxbJlTAFmIT",
        "outputId": "f75da958-d23e-48b9-f5b1-5ba2ac847fb4"
      },
      "source": [
        "True and False"
      ],
      "execution_count": null,
      "outputs": [
        {
          "output_type": "execute_result",
          "data": {
            "text/plain": [
              "False"
            ]
          },
          "metadata": {
            "tags": []
          },
          "execution_count": 83
        }
      ]
    },
    {
      "cell_type": "code",
      "metadata": {
        "id": "SIeKUBNlFmIU",
        "outputId": "f8ce616a-3fbd-4537-cea5-9dff3764aff1"
      },
      "source": [
        "True or False"
      ],
      "execution_count": null,
      "outputs": [
        {
          "output_type": "execute_result",
          "data": {
            "text/plain": [
              "True"
            ]
          },
          "metadata": {
            "tags": []
          },
          "execution_count": 84
        }
      ]
    },
    {
      "cell_type": "code",
      "metadata": {
        "id": "1VQhBFxdFmIV",
        "outputId": "b08574a4-ca57-4b92-80bf-1e199788f06b"
      },
      "source": [
        "not True"
      ],
      "execution_count": null,
      "outputs": [
        {
          "output_type": "execute_result",
          "data": {
            "text/plain": [
              "False"
            ]
          },
          "metadata": {
            "tags": []
          },
          "execution_count": 85
        }
      ]
    },
    {
      "cell_type": "code",
      "metadata": {
        "id": "PIFmL5FVFmIV",
        "outputId": "8c5d1883-2c31-4857-ed89-3d3fdd860f80"
      },
      "source": [
        "((9 > 7) and (2 < 4))  "
      ],
      "execution_count": null,
      "outputs": [
        {
          "output_type": "execute_result",
          "data": {
            "text/plain": [
              "True"
            ]
          },
          "metadata": {
            "tags": []
          },
          "execution_count": 86
        }
      ]
    },
    {
      "cell_type": "code",
      "metadata": {
        "id": "KSbm-xhPFmIW",
        "outputId": "ab796e2c-1b8a-4ed0-9257-303362503395"
      },
      "source": [
        "(8 == 8) or (6 != 6)"
      ],
      "execution_count": null,
      "outputs": [
        {
          "output_type": "execute_result",
          "data": {
            "text/plain": [
              "True"
            ]
          },
          "metadata": {
            "tags": []
          },
          "execution_count": 87
        }
      ]
    },
    {
      "cell_type": "code",
      "metadata": {
        "id": "JgCBLEW3FmIX",
        "outputId": "ac4fcb4b-4e8b-4f4d-e472-aca710481074"
      },
      "source": [
        "not(3 <= 1)"
      ],
      "execution_count": null,
      "outputs": [
        {
          "output_type": "execute_result",
          "data": {
            "text/plain": [
              "True"
            ]
          },
          "metadata": {
            "tags": []
          },
          "execution_count": 88
        }
      ]
    },
    {
      "cell_type": "code",
      "metadata": {
        "id": "d5zgKRk8FmIX"
      },
      "source": [
        "# вернемся к задаче с призывниками\n",
        "age = 16\n",
        "height = 180\n",
        "if height < 170 and 18 <= age < 27:\n",
        "    print('В танкисты')\n",
        "elif height < 185 and 18 <= age < 27:\n",
        "    print('На флот')\n",
        "elif height < 200 and 18 <= age < 278:\n",
        "    print('В десантники')\n",
        "else:\n",
        "    print('В другие войска')"
      ],
      "execution_count": null,
      "outputs": []
    },
    {
      "cell_type": "code",
      "metadata": {
        "id": "yAfyzEwQFmIY",
        "outputId": "be8b9804-3701-4744-f746-fca66ad87788"
      },
      "source": [
        "# условия можно вкладывать друг в друга\n",
        "height = 160\n",
        "age = 40\n",
        "if 18 <= age < 27:\n",
        "    if height < 170:\n",
        "        print('В танкисты')\n",
        "    elif height < 185:\n",
        "        print('На флот')\n",
        "    elif height < 200:\n",
        "        print('В десантники')\n",
        "    else:\n",
        "        print('В другие войска')\n",
        "else:\n",
        "    print('Непризывной возраст')"
      ],
      "execution_count": null,
      "outputs": [
        {
          "output_type": "stream",
          "text": [
            "Непризывной возраст\n"
          ],
          "name": "stdout"
        }
      ]
    },
    {
      "cell_type": "code",
      "metadata": {
        "id": "vnd0xr1GFmIY",
        "outputId": "fb779947-59e7-40ff-fd19-eec6e93a948c"
      },
      "source": [
        "# пишем игру \"Камень, ножницы, бумага\"\n",
        "user_1 = input('игрок 1')\n",
        "user_2 = input('игрок 2')\n",
        "\n",
        "if user_1 == user_2:\n",
        "    print('Ничья')\n",
        "elif user_1 == 'r':\n",
        "    if user_2 == 's':\n",
        "        print('Игрок 1 победил! Камень ломает ножницы!')\n",
        "    else:\n",
        "        print('Игрок 2 победил! Бумага закрывает камень!')\n",
        "elif user_1 == 'p':\n",
        "    if user_2 == 'r':\n",
        "        print('Игрок 2 победил! Бумага закрывает камень!')\n",
        "    else:\n",
        "        print('Игрок 1 победил! Ножницы режут бумагу!')\n",
        "elif user_1 == 's':\n",
        "    if user_2 == 'p':\n",
        "        print('Игрок 1 победил! Ножницы режут бумагу!')\n",
        "    else:\n",
        "        print('Игрок 2 победил! Камень ломает ножницы!')"
      ],
      "execution_count": null,
      "outputs": [
        {
          "output_type": "stream",
          "text": [
            "игрок 1p\n",
            "игрок 2p\n",
            "Ничья\n"
          ],
          "name": "stdout"
        }
      ]
    },
    {
      "cell_type": "markdown",
      "metadata": {
        "id": "2NYi7jC-FmIZ"
      },
      "source": [
        "**Практика**. Дана переменная, в которой хранится четырехзначное число (год). Необходимо написать программу, которая выведет, является ли данный год високосным или обычным.\n"
      ]
    },
    {
      "cell_type": "code",
      "metadata": {
        "id": "hbbOPxbAFmIa",
        "outputId": "6d795206-1a53-4b66-e836-bbb52762b30e"
      },
      "source": [
        "year = 2016\n",
        "\n",
        "if (year % 4 == 0) and (year % 100 != 0) or (year % 400 == 0):\n",
        "    print('Високосный')\n",
        "else:\n",
        "    print('Обычный год')"
      ],
      "execution_count": null,
      "outputs": [
        {
          "output_type": "stream",
          "text": [
            "Високосный\n"
          ],
          "name": "stdout"
        }
      ]
    },
    {
      "cell_type": "markdown",
      "metadata": {
        "id": "TPb-PgPVFmIa"
      },
      "source": [
        "**Практика**. Необходимо написать скрипт для подбора упаковок по размерам товара. Используйте следующие правила:\n",
        "- если ширина, длина и высота менее 15 сантиметров, то выведите на экран \"Коробка №1\"\n",
        "- если хотя бы один из габаритов больше 15см, но менее 50см, то выводите \"Коробка №2\"\n",
        "- если длина товара больше 2 метров, то вывести \"ищите упаковку для лыж\"\n",
        "- во всех остальных случаях пишите \"Стандартная коробка №3\""
      ]
    },
    {
      "cell_type": "code",
      "metadata": {
        "id": "PotWlojKFmIb"
      },
      "source": [
        "width = 45\n",
        "length = 205\n",
        "height = 45"
      ],
      "execution_count": null,
      "outputs": []
    },
    {
      "cell_type": "code",
      "metadata": {
        "id": "IdUNA-XEFmIc",
        "outputId": "7921e4fd-2580-4f2c-be64-d083e11a6692"
      },
      "source": [
        "if length > 200:\n",
        "    print('лыжи')\n",
        "elif width < 15 and length < 15 and height < 15:\n",
        "    print('1')\n",
        "elif 15 < width < 50 or 15 < length < 50 or 15 < height < 50:\n",
        "    print('2')\n",
        "else:\n",
        "    print('3')"
      ],
      "execution_count": null,
      "outputs": [
        {
          "output_type": "stream",
          "text": [
            "лыжи\n"
          ],
          "name": "stdout"
        }
      ]
    },
    {
      "cell_type": "markdown",
      "metadata": {
        "id": "1CdSw2-sFmId"
      },
      "source": [
        "Любое ненулевое число - TRUE\n",
        "\n",
        "Любая непустая строка TRUE\n",
        "\n",
        "0, “”, [], {}, (), False - FALSE\n"
      ]
    },
    {
      "cell_type": "code",
      "metadata": {
        "id": "5rNllVdAFmId",
        "outputId": "151d5080-c263-487d-dab9-7f9fb1ab5a13"
      },
      "source": [
        "name = input('Введите имя')\n",
        "\n",
        "if name:     # пустая строка вернет False. Зачем все это? Не писать, что if name != ''\n",
        "    print('Привет, ', name)\n",
        "else:\n",
        "    print('Привет, Мир!')"
      ],
      "execution_count": null,
      "outputs": [
        {
          "output_type": "stream",
          "text": [
            "Введите имя        \n",
            "Привет,          \n"
          ],
          "name": "stdout"
        }
      ]
    },
    {
      "cell_type": "code",
      "metadata": {
        "id": "S1YLLG3gFmIe",
        "outputId": "4646c5be-c4a3-4318-f168-47e9408137c6"
      },
      "source": [
        "number = int(input('Введите число'))\n",
        "\n",
        "if number:    # 0 вернет False\n",
        "    print('Число: ', number)\n",
        "else:\n",
        "    print('Число равно нулю')"
      ],
      "execution_count": null,
      "outputs": [
        {
          "output_type": "stream",
          "text": [
            "Введите число0\n",
            "Число равно нулю\n"
          ],
          "name": "stdout"
        }
      ]
    },
    {
      "cell_type": "markdown",
      "metadata": {
        "id": "28As4JUxWkVm"
      },
      "source": [
        "### Спасибо за внимание буду рад ответить на ваши вопросы!\n",
        "Ссылка на форму ОС:\n",
        "https://forms.gle/y8xaFwJqtbFSjUeG8"
      ]
    }
  ]
}