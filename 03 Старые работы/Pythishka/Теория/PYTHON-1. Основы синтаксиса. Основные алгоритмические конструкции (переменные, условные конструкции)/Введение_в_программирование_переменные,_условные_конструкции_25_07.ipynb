{
  "nbformat": 4,
  "nbformat_minor": 0,
  "metadata": {
    "kernelspec": {
      "display_name": "Python 3",
      "language": "python",
      "name": "python3"
    },
    "colab": {
      "name": "Введение в программирование: переменные, условные конструкции 25.07.ipynb",
      "provenance": []
    }
  },
  "cells": [
    {
      "cell_type": "code",
      "metadata": {
        "id": "zm0ApbboFYy4"
      },
      "source": [
        "#Подключение модулей\n",
        "\n",
        "#Создание функций\n",
        "\n",
        "#Тело программы"
      ],
      "execution_count": null,
      "outputs": []
    },
    {
      "cell_type": "markdown",
      "metadata": {
        "id": "8TIfP_vVFYy-"
      },
      "source": [
        "# 1. Типы данных"
      ]
    },
    {
      "cell_type": "markdown",
      "metadata": {
        "id": "1cd646dqFYy_"
      },
      "source": [
        "https://drive.google.com/file/d/1iUff5SqWTQzLPuHS0VO5TmwISFCUGjI_/view?usp=sharing"
      ]
    },
    {
      "cell_type": "code",
      "metadata": {
        "id": "9WMvI3hDFYzB",
        "outputId": "e3e243e2-f196-4d7e-c18a-fd58a67db323"
      },
      "source": [
        "#Вывод данных на экран\n",
        "print('Hello world')\n",
        "print(5+7)"
      ],
      "execution_count": null,
      "outputs": [
        {
          "output_type": "stream",
          "text": [
            "Hello world\n",
            "12\n"
          ],
          "name": "stdout"
        }
      ]
    },
    {
      "cell_type": "code",
      "metadata": {
        "id": "WXDBGkMJFYzD"
      },
      "source": [
        "#Метод .format()\n"
      ],
      "execution_count": null,
      "outputs": []
    },
    {
      "cell_type": "markdown",
      "metadata": {
        "id": "LKAnM2vEFYzE"
      },
      "source": [
        "## Типы данных\n",
        "1. Числа\n",
        "2. Строки\n",
        "3. True/False"
      ]
    },
    {
      "cell_type": "code",
      "metadata": {
        "id": "ucp8OPyYFYzF"
      },
      "source": [
        "#Метод f"
      ],
      "execution_count": null,
      "outputs": []
    },
    {
      "cell_type": "markdown",
      "metadata": {
        "id": "GRx54p10FYzG"
      },
      "source": [
        "О комплексных числах \n",
        "https://pyprog.pro/python/py/nums/complex.html"
      ]
    },
    {
      "cell_type": "code",
      "metadata": {
        "id": "ah45C6L8FYzH",
        "outputId": "6bf7af93-aad5-42a8-c691-003346b564e3"
      },
      "source": [
        "#Как выглядят различные типы данных?\n",
        "type(c)"
      ],
      "execution_count": null,
      "outputs": [
        {
          "output_type": "execute_result",
          "data": {
            "text/plain": [
              "str"
            ]
          },
          "metadata": {
            "tags": []
          },
          "execution_count": 7
        }
      ]
    },
    {
      "cell_type": "code",
      "metadata": {
        "id": "Mr2eW7gCFYzI"
      },
      "source": [
        "#Простые операции с различными типами данных\n"
      ],
      "execution_count": null,
      "outputs": []
    },
    {
      "cell_type": "markdown",
      "metadata": {
        "id": "Gc52DhwlFYzJ"
      },
      "source": [
        "# 2. Переменные"
      ]
    },
    {
      "cell_type": "markdown",
      "metadata": {
        "id": "UavRt8ZUFYzK"
      },
      "source": [
        "![image.png](attachment:image.png)"
      ]
    },
    {
      "cell_type": "code",
      "metadata": {
        "id": "ERXPmzwKFYzK",
        "outputId": "ab4f3943-47ad-4196-92ab-c05612dd4daf"
      },
      "source": [
        "a = 2\n",
        "b = 2\n",
        "a = a + 1\n",
        "\n",
        "print(a is b)"
      ],
      "execution_count": null,
      "outputs": [
        {
          "output_type": "stream",
          "text": [
            "False\n"
          ],
          "name": "stdout"
        }
      ]
    },
    {
      "cell_type": "code",
      "metadata": {
        "id": "i-mzpc-BFYzL"
      },
      "source": [
        "#Задаем значения переменных a, b\n"
      ],
      "execution_count": null,
      "outputs": []
    },
    {
      "cell_type": "code",
      "metadata": {
        "id": "PsmnYNIFFYzM",
        "outputId": "713dbc2f-ffa0-4f6e-ea20-7444f87d6108"
      },
      "source": [
        "# Находим сумму переменных и выводим на экран\n",
        "print(a % b)"
      ],
      "execution_count": null,
      "outputs": [
        {
          "output_type": "stream",
          "text": [
            "1\n"
          ],
          "name": "stdout"
        }
      ]
    },
    {
      "cell_type": "raw",
      "metadata": {
        "id": "hQsbamOmFYzN"
      },
      "source": [
        "str_1 = 'Anna'"
      ]
    },
    {
      "cell_type": "markdown",
      "metadata": {
        "id": "_6nuIW9oFYzN"
      },
      "source": [
        "## Имя переменной"
      ]
    },
    {
      "cell_type": "markdown",
      "metadata": {
        "id": "5iw4TJNsFYzO"
      },
      "source": [
        "Имена могут состоять только из букв, цифр и символа подчеркивания.\n",
        "\n",
        "Начинаться имена могут только с буквы или с символа подчеркивания.\n",
        "\n",
        "Если имя переменной должно состоять из двух слов, вместо пробелов стоит использовать символ подчеркивания, иначе получите ошибку.\n",
        "\n",
        "В Python есть множество функций и ключевых слов, которые не стоит использовать в качестве имени переменной. Иначе, опять же, получите ошибку.\n",
        "\n",
        "Стоит выбирать имя переменной исходя из ее назначения."
      ]
    },
    {
      "cell_type": "code",
      "metadata": {
        "id": "jQ8wPijFFYzO",
        "outputId": "ce65be01-c616-4cbb-ec2a-26a2d7feb8b5"
      },
      "source": [
        "#Программа калькулятор\n",
        "number_1 = 5\n",
        "number_2 = 10\n",
        "print(number_1 + number_2)"
      ],
      "execution_count": null,
      "outputs": [
        {
          "output_type": "stream",
          "text": [
            "15\n"
          ],
          "name": "stdout"
        }
      ]
    },
    {
      "cell_type": "code",
      "metadata": {
        "id": "fBv3Ze30FYzP"
      },
      "source": [
        ""
      ],
      "execution_count": null,
      "outputs": []
    },
    {
      "cell_type": "code",
      "metadata": {
        "id": "Vuv3saEXFYzP"
      },
      "source": [
        ""
      ],
      "execution_count": null,
      "outputs": []
    },
    {
      "cell_type": "code",
      "metadata": {
        "id": "8FIHB-ZWFYzQ"
      },
      "source": [
        ""
      ],
      "execution_count": null,
      "outputs": []
    },
    {
      "cell_type": "markdown",
      "metadata": {
        "id": "NtSpN4pbFYzQ"
      },
      "source": [
        "## Изменяем тип переменной"
      ]
    },
    {
      "cell_type": "code",
      "metadata": {
        "id": "E7sTrrUxFYzR"
      },
      "source": [
        ""
      ],
      "execution_count": null,
      "outputs": []
    },
    {
      "cell_type": "markdown",
      "metadata": {
        "id": "sNMKwgfFFYzR"
      },
      "source": [
        "## Зачем может понадобиться переменная?"
      ]
    },
    {
      "cell_type": "markdown",
      "metadata": {
        "id": "NX0mSYwFFYzR"
      },
      "source": [
        "![image.png](attachment:image.png)"
      ]
    },
    {
      "cell_type": "code",
      "metadata": {
        "id": "n-U8j6GyFYzS",
        "outputId": "abb83f79-10df-4d6e-fe85-97513108b331"
      },
      "source": [
        "#Ввод данных с клавиатуры\n",
        "#int\n",
        "#float\n",
        "#str\n",
        "number_1 = int(input(\"Введите 1ое число: \"))\n",
        "number_2 = int(input(\"Введите 2ое число: \"))\n",
        "print(number_1 + number_2)\n"
      ],
      "execution_count": null,
      "outputs": [
        {
          "output_type": "stream",
          "text": [
            "Введите 1ое число: 1\n",
            "Введите 2ое число: 4\n",
            "5\n"
          ],
          "name": "stdout"
        }
      ]
    },
    {
      "cell_type": "code",
      "metadata": {
        "id": "g5L5vZCKFYzS",
        "outputId": "c57d9c98-08da-4428-fc68-5a1b2315b655"
      },
      "source": [
        "name = \"Anna\"\n",
        "print(\"Hello {}\".format(name))"
      ],
      "execution_count": null,
      "outputs": [
        {
          "output_type": "stream",
          "text": [
            "Hello Anna\n"
          ],
          "name": "stdout"
        }
      ]
    },
    {
      "cell_type": "code",
      "metadata": {
        "id": "FwMasea-FYzT",
        "outputId": "0505c33c-4630-4921-ded9-c8cd107ee1a9"
      },
      "source": [
        "print(f\"Hello {name}\")"
      ],
      "execution_count": null,
      "outputs": [
        {
          "output_type": "stream",
          "text": [
            "Hello Anna\n"
          ],
          "name": "stdout"
        }
      ]
    },
    {
      "cell_type": "markdown",
      "metadata": {
        "id": "Y96LuiY3FYzU"
      },
      "source": [
        "## Задание 1.\n",
        "Напишите программу, которая запрашивает у пользователя логин и пароль и выводит на экран информацию в следующем формате\n",
        "\n",
        "**Поздравляем с регистрацией на сайте!**\n",
        "\n",
        "**Ваш логин: логин**\n",
        "\n",
        "**Ваш пароль: пароль**\n",
        "\n",
        "Где вместо логина и пароля отображается значение, которое ввел пользователь."
      ]
    },
    {
      "cell_type": "code",
      "metadata": {
        "id": "PN4f3-4UFYzV",
        "outputId": "6a78719a-4d58-4afe-ef07-fd6c8e43fa7d"
      },
      "source": [
        "name_1 = input('Enter your name:\\n')\n",
        "passw = input('Enter passord:\\n')\n",
        "print(f'Hallo {name_1}, your password is correct {passw}')\n"
      ],
      "execution_count": null,
      "outputs": [
        {
          "output_type": "stream",
          "text": [
            "Enter your name:\n",
            "Anna\n",
            "Enter passord:\n",
            "rfhf56djb5\n",
            "Hallo Anna, your password is correct rfhf56djb5\n"
          ],
          "name": "stdout"
        }
      ]
    },
    {
      "cell_type": "code",
      "metadata": {
        "id": "YngaAmYVFYzV",
        "outputId": "21530a64-ee3f-4dbf-a654-abf7b97efd62"
      },
      "source": [
        "name_1 = 5\n",
        "print(\"Hello, %s!\" % name_1) \n"
      ],
      "execution_count": null,
      "outputs": [
        {
          "output_type": "stream",
          "text": [
            "Hello, 5!\n"
          ],
          "name": "stdout"
        }
      ]
    },
    {
      "cell_type": "code",
      "metadata": {
        "id": "sqGFFkZIFYzW",
        "outputId": "06a9f048-f97e-4cf5-9782-b5ed391942f7"
      },
      "source": [
        "name_1 = input('Enter your name:\\n')\n",
        "passw = input('Enter passord:\\n')\n",
        "print('Hallo {}, your password is correct {}'.format(name_1,passw))\n"
      ],
      "execution_count": null,
      "outputs": [
        {
          "output_type": "stream",
          "text": [
            "Enter your name:\n",
            "Anna\n",
            "Enter passord:\n",
            "fhk65\n",
            "Hallo Anna, your password is correct fhk65\n"
          ],
          "name": "stdout"
        }
      ]
    },
    {
      "cell_type": "markdown",
      "metadata": {
        "id": "V7KMzvYDFYzX"
      },
      "source": [
        "## 2. Условные конструкции"
      ]
    },
    {
      "cell_type": "markdown",
      "metadata": {
        "id": "s6-cq6RUFYzX"
      },
      "source": [
        "https://docs.google.com/presentation/d/1ul84IptF3oTq69_n7MPdHgqN0ceihlN2QRsrLuH1n0w/edit?usp=sharing"
      ]
    },
    {
      "cell_type": "code",
      "metadata": {
        "id": "9eanr16yFYzY",
        "outputId": "bf6ba957-67fc-4f80-8867-15a779f98636"
      },
      "source": [
        "#Напишите программу, которая сравнивает 2 числа, введенных с клавиатуры\n",
        "a = 4\n",
        "b = 4\n",
        "if a > b:\n",
        "    print(\"a > b\")\n",
        "elif a < b:\n",
        "    print(\"a < b\")\n",
        "else:\n",
        "    print(\"a == b\")"
      ],
      "execution_count": null,
      "outputs": [
        {
          "output_type": "stream",
          "text": [
            "a == b\n"
          ],
          "name": "stdout"
        }
      ]
    },
    {
      "cell_type": "markdown",
      "metadata": {
        "id": "ZZkbNSloFYzY"
      },
      "source": [
        "## Задание 2. \n",
        "Напишите программу, которая проверяет верный ли пароль ввел пользователь. Если верный, то на экран выводится сообщение \"Добро пожаловать\", если неверный, то \"Вы ввели неверные данные\"."
      ]
    },
    {
      "cell_type": "code",
      "metadata": {
        "id": "lqD6PP7XFYzZ",
        "outputId": "43eaa065-ef2b-4fd0-e85d-c2b89cc532b7"
      },
      "source": [
        "name_1 = input('Enter your name:\\n')\n",
        "passw = input('Enter password:\\n')\n",
        "if passw == '12345':\n",
        "    print(f'Hallo {name_1}, your password is correct: {passw}')\n",
        "else:\n",
        "    print(f'{name_1} try again and indicate correct password!')\n"
      ],
      "execution_count": null,
      "outputs": [
        {
          "output_type": "stream",
          "text": [
            "Enter your name:\n",
            "Anna\n",
            "Enter password:\n",
            "gkt\n",
            "Anna try again and indicate correct password!\n"
          ],
          "name": "stdout"
        }
      ]
    },
    {
      "cell_type": "markdown",
      "metadata": {
        "id": "R9suX4uFFYzZ"
      },
      "source": [
        "## Задание 3.\n",
        "Запрограммируй программу, которая определяет, какое число пользователь ввел с клавиатуры: однозначное, двузначное или трехзначное. И выодит на экран информацию о том, какое число ввел пользователь.\n"
      ]
    },
    {
      "cell_type": "code",
      "metadata": {
        "id": "AZ9JNVw0FYza",
        "outputId": "6c0d6a16-5e4e-4fdd-e531-1d3b35c682e7"
      },
      "source": [
        "a = input()\n",
        "print(len(a))\n",
        "if len(a) == 1:\n",
        "    print('Однозначное')\n",
        "elif len(a) == 2:\n",
        "    print(\"Двузначное\")\n",
        "elif len(a) == 3:\n",
        "    print (\"трехназноче число\")\n",
        "else:\n",
        "    print (\"введите правильное число)))\")\n"
      ],
      "execution_count": null,
      "outputs": [
        {
          "output_type": "stream",
          "text": [
            "452\n",
            "3\n",
            "Трехзначное\n"
          ],
          "name": "stdout"
        }
      ]
    },
    {
      "cell_type": "code",
      "metadata": {
        "id": "DzWtmX9xFYzb",
        "outputId": "32b941f3-05f7-42a9-9db9-cc16eb0a44fc"
      },
      "source": [
        "num = input(\"Введите число: \")\n",
        "num = int(num)\n",
        "if num <10:\n",
        "\tprint('Однозначное')\n",
        "elif num < 100:\n",
        "\tprint(\"Двузначное\")\n",
        "else:\n",
        "\tprint('Трехзначное')\n",
        "\n"
      ],
      "execution_count": null,
      "outputs": [
        {
          "output_type": "stream",
          "text": [
            "Введите число: 548\n",
            "Трехзначное\n"
          ],
          "name": "stdout"
        }
      ]
    },
    {
      "cell_type": "markdown",
      "metadata": {
        "id": "1ozK9IlYFYzb"
      },
      "source": [
        "## Задание 4.\n",
        "Создай свой \"Чат-бот\".\n",
        "Бот должен уметь приветствовать пользователя и поддержать небольшой диалог с ним.\n",
        "Если пользователь вводит не тот ответ, который ожидает бот, то выводится сообщение \"Я не знаком с такой командой\"."
      ]
    },
    {
      "cell_type": "code",
      "metadata": {
        "id": "l8O6wT4VFYzc"
      },
      "source": [
        ""
      ],
      "execution_count": null,
      "outputs": []
    },
    {
      "cell_type": "code",
      "metadata": {
        "id": "j80M8D6fFYzc"
      },
      "source": [
        ""
      ],
      "execution_count": null,
      "outputs": []
    },
    {
      "cell_type": "markdown",
      "metadata": {
        "id": "JqxH2jaAFYzc"
      },
      "source": [
        "## Задание 5\n",
        "\n",
        "Программа загадывает число от 1 до 100. Пользователь должен угадать, какое число загадано.\n",
        "Если число, которое пользователь называет, меньше, программа говорит, что загаданное число больше, если больше, то говорит, что загаданное - меньше. Если угадал, то поздравляет с победой"
      ]
    },
    {
      "cell_type": "code",
      "metadata": {
        "id": "KcWDu1yNFYzd"
      },
      "source": [
        ""
      ],
      "execution_count": null,
      "outputs": []
    },
    {
      "cell_type": "markdown",
      "metadata": {
        "id": "DywtCZUFFYzd"
      },
      "source": [
        "## Логические операторы \n",
        "https://docs.google.com/presentation/d/1UZ3MgMKKgeEpzPTFK24PL81QXpx1GFs-VHsq7V8ea8U/edit?usp=sharing"
      ]
    },
    {
      "cell_type": "code",
      "metadata": {
        "id": "yF-S6QVNFYze",
        "outputId": "da85d9a8-3800-4b7e-a409-3bfc175f2ef5"
      },
      "source": [
        "if 3 < 2 or 3 > 4:\n",
        "    print(\"Верно\")\n",
        "else:\n",
        "    print(\"Нет\")"
      ],
      "execution_count": null,
      "outputs": [
        {
          "output_type": "stream",
          "text": [
            "Нет\n"
          ],
          "name": "stdout"
        }
      ]
    },
    {
      "cell_type": "markdown",
      "metadata": {
        "id": "AhEt0gdgFYze"
      },
      "source": [
        "# Задание 6\n",
        "А теперь мы создадим программу, которая определяет, надежный ли пароль придумал пользователь.\n",
        "Признаки ненадежного пароля:\n",
        "\n",
        "1) Длина пароля меньше 6 символов (нужна команда len())\n",
        "\n",
        "2) Пароль содержит подстроку qwerty или подстроку 1234"
      ]
    },
    {
      "cell_type": "code",
      "metadata": {
        "id": "RaVMQ77uFYzf",
        "outputId": "51adf2b2-e666-4f26-c04b-515c9aa10743"
      },
      "source": [
        "string = \"jtnjd567fn\"\n",
        "\"qwerty\" in string or \"1234\" in string"
      ],
      "execution_count": null,
      "outputs": [
        {
          "output_type": "execute_result",
          "data": {
            "text/plain": [
              "False"
            ]
          },
          "metadata": {
            "tags": []
          },
          "execution_count": 38
        }
      ]
    },
    {
      "cell_type": "code",
      "metadata": {
        "id": "34-ypuXeFYzh",
        "outputId": "537acbaa-b9cc-4fd4-8c44-a1030975c492"
      },
      "source": [
        "passw = input('Enter password:\\n')\n",
        "\n",
        "if len(passw) <= 6 or 'qwerty' in passw or '1234' in passw:\n",
        "    print('Your password is weak')\n",
        "else:\n",
        "    print('All ok!')\n"
      ],
      "execution_count": null,
      "outputs": [
        {
          "output_type": "stream",
          "text": [
            "Enter password:\n",
            "ryh1234\n",
            "Your password is weak\n"
          ],
          "name": "stdout"
        }
      ]
    },
    {
      "cell_type": "code",
      "metadata": {
        "id": "lTK_xPYOFYzi",
        "outputId": "def1e286-373b-4cea-e757-c515dd775f7f"
      },
      "source": [
        "s = 5\n",
        "print(S)"
      ],
      "execution_count": null,
      "outputs": [
        {
          "output_type": "error",
          "ename": "NameError",
          "evalue": "name 'S' is not defined",
          "traceback": [
            "\u001b[1;31m---------------------------------------------------------------------------\u001b[0m",
            "\u001b[1;31mNameError\u001b[0m                                 Traceback (most recent call last)",
            "\u001b[1;32m<ipython-input-1-cae9c6ef439a>\u001b[0m in \u001b[0;36m<module>\u001b[1;34m\u001b[0m\n\u001b[0;32m      1\u001b[0m \u001b[0ms\u001b[0m \u001b[1;33m=\u001b[0m \u001b[1;36m5\u001b[0m\u001b[1;33m\u001b[0m\u001b[1;33m\u001b[0m\u001b[0m\n\u001b[1;32m----> 2\u001b[1;33m \u001b[0mprint\u001b[0m\u001b[1;33m(\u001b[0m\u001b[0mS\u001b[0m\u001b[1;33m)\u001b[0m\u001b[1;33m\u001b[0m\u001b[1;33m\u001b[0m\u001b[0m\n\u001b[0m",
            "\u001b[1;31mNameError\u001b[0m: name 'S' is not defined"
          ]
        }
      ]
    },
    {
      "cell_type": "code",
      "metadata": {
        "id": "hFMNpIMZFYzi",
        "outputId": "771ba6c8-dbab-4927-dc64-6838215b72be"
      },
      "source": [
        "passw = input()\n",
        "\n",
        "if passw in \"qwerty\" or passw in \"1234\" or len(passw) <= 6:\n",
        "    print (\"ненадежный пароль\")\n",
        "else:\n",
        "    print(\"пароль принят\")\n"
      ],
      "execution_count": null,
      "outputs": [
        {
          "output_type": "stream",
          "text": [
            "ghfqwerty\n",
            "пароль принят\n"
          ],
          "name": "stdout"
        }
      ]
    },
    {
      "cell_type": "code",
      "metadata": {
        "id": "ZzSb9e72FYzj",
        "outputId": "57e338e2-cabb-409f-d456-b73a44e11d8e"
      },
      "source": [
        "check = ['qwerty','1234']\n",
        "passwd = input()\n",
        "if len(passwd) <= 6 or check[0] in passwd or check[1] in passwd:\n",
        "    print('Надежный пароль')\n",
        "else:\n",
        "    print('Попробуй еще раз')\n"
      ],
      "execution_count": null,
      "outputs": [
        {
          "output_type": "stream",
          "text": [
            "qwerty457\n",
            "Надежный пароль\n"
          ],
          "name": "stdout"
        }
      ]
    },
    {
      "cell_type": "markdown",
      "metadata": {
        "id": "czM4EEJNFYzk"
      },
      "source": [
        "## Задание 7\n",
        "Всем известна игра \"Камень. Ножницы. Бумага\". Где камень, побеждает ножницы; ножницы - бумагу; бумага - камень.\n",
        "\n",
        "Напишите программу, на вход который подается два значения для двух игроков. Для каждого 1 - камень, 2 - ножницы, 3 - бумага.\n",
        "\n",
        "Если побеждает первый игрок, то выводится сообщение \"Первый игрок - победитель!\". Если второй - \"Второй игрок - победитель!\"."
      ]
    },
    {
      "cell_type": "code",
      "metadata": {
        "id": "1vByu0eDFYzl",
        "outputId": "cceaca6f-808b-4f13-cf4a-91fe8fa91839"
      },
      "source": [
        "player_1 = int(input())\n",
        "player_2 = int(input())\n",
        "if (player_1 == 1 and player_2 == 2) or (player_1 == 2 and player_2 == 3) or (player_1 == 3 and player_2 == 1):\n",
        "    print(\"player_1\")\n",
        "elif player_1==player_2:\n",
        "    print(\"Ничья!\")\n",
        "else:\n",
        "    print(\"player_2\")"
      ],
      "execution_count": null,
      "outputs": [
        {
          "output_type": "stream",
          "text": [
            "1\n",
            "1\n",
            "Ничья!\n"
          ],
          "name": "stdout"
        }
      ]
    },
    {
      "cell_type": "code",
      "metadata": {
        "id": "GkFS5ydMFYzl",
        "outputId": "e8bec070-53e4-4df9-dc07-e1ef54d8c2f6"
      },
      "source": [
        "a = 1\n",
        "b = 2\n",
        "c = 3\n",
        "f_player = input('Choise a, b or c:\\n')\n",
        "print(f'Your choise is {f_player}')\n",
        "\n",
        "s_player = input('Choise a, b or c:\\n')\n",
        "print(f'Your choise is {s_player}')\n",
        "\n",
        "if f_player < s_player:\n",
        "    print('s_player win')\n",
        "elif f_player > s_player:\n",
        "    print('f_player win')\n",
        "else:\n",
        "    print('draw')\n"
      ],
      "execution_count": null,
      "outputs": [
        {
          "output_type": "stream",
          "text": [
            "Choise a, b or c:\n",
            "a\n",
            "Your choise is a\n",
            "Choise a, b or c:\n",
            "b\n",
            "Your choise is b\n",
            "s_player win\n"
          ],
          "name": "stdout"
        }
      ]
    },
    {
      "cell_type": "code",
      "metadata": {
        "id": "9NHiMshyFYzm",
        "outputId": "c144a146-5950-4618-8dbd-ecdacaae7f9e"
      },
      "source": [
        "gamer1 = input('First player: ')\n",
        "gamer1 = int(gamer1)\n",
        "gamer2 = input('Second player: ')\n",
        "gamer2 = int(gamer2)\n",
        "if (gamer1 < gamer2 and gamer2!=3) or (gamer1 == 3 and gamer2 == 1):\n",
        "\tprint('first player win')\n",
        "elif gamer1==gamer2:\n",
        "\tprint('nobody win')\n",
        "else:\n",
        "\tprint('second player win')\n",
        "\n"
      ],
      "execution_count": null,
      "outputs": [
        {
          "output_type": "stream",
          "text": [
            "First player: 1\n",
            "Second player: 2\n",
            "first player win\n"
          ],
          "name": "stdout"
        }
      ]
    },
    {
      "cell_type": "markdown",
      "metadata": {
        "id": "sAUvg8tdFYzn"
      },
      "source": [
        "https://pythontutor.ru/lessons/ifelse/\n",
        "\n",
        "https://www.jetbrains.com/ru-ru/academy/"
      ]
    }
  ]
}