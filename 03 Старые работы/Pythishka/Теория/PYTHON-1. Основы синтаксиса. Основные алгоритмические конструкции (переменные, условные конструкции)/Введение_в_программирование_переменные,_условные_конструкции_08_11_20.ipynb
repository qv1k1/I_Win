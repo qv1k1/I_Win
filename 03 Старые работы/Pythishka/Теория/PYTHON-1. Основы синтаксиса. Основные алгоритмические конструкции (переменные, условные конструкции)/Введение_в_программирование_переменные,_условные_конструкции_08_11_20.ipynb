{
  "nbformat": 4,
  "nbformat_minor": 0,
  "metadata": {
    "kernelspec": {
      "display_name": "Python 3",
      "language": "python",
      "name": "python3"
    },
    "language_info": {
      "codemirror_mode": {
        "name": "ipython",
        "version": 3
      },
      "file_extension": ".py",
      "mimetype": "text/x-python",
      "name": "python",
      "nbconvert_exporter": "python",
      "pygments_lexer": "ipython3",
      "version": "3.7.4"
    },
    "colab": {
      "name": "Введение в программирование переменные, условные конструкции 08.11.20.ipynb",
      "provenance": [],
      "collapsed_sections": []
    }
  },
  "cells": [
    {
      "cell_type": "markdown",
      "metadata": {
        "id": "7trCl5v1TC6I"
      },
      "source": [
        "#                     Первые шаги в программировании на Python"
      ]
    },
    {
      "cell_type": "markdown",
      "metadata": {
        "id": "kHpbvUCuTC6L"
      },
      "source": [
        "Почему именно питон?\n",
        "\n",
        "- Когда Excel не справляется с поставленными задачами из-за их сложности или из-за объема данных\n",
        "\n",
        "- Можно делать в одной среде целый ряд операций от начала и до конца используя Python:  скачать данные, подготовить их, проанализировать, визуализировать, развернуть в виде веб-приложения. \n",
        "\n",
        "- На этом языке можно работать с файловой системой, автоматизировать различные процессы и сокращать количество работы руками \n",
        "\n",
        "- Очень популярный язык. На все ваши вопросы скорее всего есть ответы\n",
        "\n",
        "\n",
        "Основной минус языка - он довольно медленный по сравнинию с другими (но есть способы его значительно ускорить)"
      ]
    },
    {
      "cell_type": "markdown",
      "metadata": {
        "id": "1Q5tE3zvTC6O"
      },
      "source": [
        "![alt text](https://hsto.org/webt/aj/c7/sl/ajc7slei_e9bazk4jvgmnfntlra.png)\n",
        "\n",
        "Источник: https://habr.com/ru/post/436626/"
      ]
    },
    {
      "cell_type": "markdown",
      "metadata": {
        "id": "SSGr73XUTC6R"
      },
      "source": [
        "Вот лишь некоторые вещи, которые умеет делать python:\n",
        "\n",
        "    Работа с xml/html файлами\n",
        "    Работа с http запросами\n",
        "    GUI (графический интерфейс)\n",
        "    Создание веб-сценариев\n",
        "    Работа с FTP\n",
        "    Работа с изображениями, аудио и видео файлами\n",
        "    Робототехника\n",
        "    Программирование математических и научных вычислений"
      ]
    },
    {
      "cell_type": "markdown",
      "metadata": {
        "id": "iIjCHDoYn4Re"
      },
      "source": [
        "Мы используем ресурс Google Collab для того, чтобы сделать ваши первые шаги в языке Пайтон более приятными и доступными.\n",
        "\n",
        "Вообще, в рамках курса мы работаем с кодом локально, т.е устанавливая все необходимые программы на компьютер. Это обязательно нужно будет сделать, если вы хотите успешной пройти курс и освоить программирование. Однако скачивание и установка необходимого ПО может занять время и силы. Поэтому тем, кто этого ещё не сделал, я предлагаю воспользоваться этим сервисом для того, чтобы в начале сосредоточиться на изучении языка, а не на решении смежных вопросов.\n",
        "\n",
        "В правом верхнем углу страницы вы можете найти кнопку + Code Используйте её для создания новой ячейки. Вводите или копируйте код, который мы разбираем на вебинаре и нажимайте на кнопку запуска слева.\n"
      ]
    },
    {
      "cell_type": "markdown",
      "metadata": {
        "id": "Yk7mOKZSTC6X"
      },
      "source": [
        "#### Напишем нашу первую программу - выведем строку на экран\n"
      ]
    },
    {
      "cell_type": "code",
      "metadata": {
        "scrolled": true,
        "id": "GYCoObAITC6Z"
      },
      "source": [
        "print('Hello World!')\n",
        "\n",
        "\n",
        "\n",
        "\n"
      ],
      "execution_count": null,
      "outputs": []
    },
    {
      "cell_type": "code",
      "metadata": {
        "id": "ccBqV0Iqs3A-"
      },
      "source": [
        "print(Привет) "
      ],
      "execution_count": null,
      "outputs": []
    },
    {
      "cell_type": "markdown",
      "metadata": {
        "id": "e2e9HIJRo-4a"
      },
      "source": [
        "Воспользуемся языком как калькулятором"
      ]
    },
    {
      "cell_type": "code",
      "metadata": {
        "id": "vXFlSIoruFre"
      },
      "source": [
        "10+1\n",
        "10-1"
      ],
      "execution_count": null,
      "outputs": []
    },
    {
      "cell_type": "code",
      "metadata": {
        "id": "c1XmYjHipBh9"
      },
      "source": [
        "print(34*2)\n",
        "print(68-2)"
      ],
      "execution_count": null,
      "outputs": []
    },
    {
      "cell_type": "code",
      "metadata": {
        "id": "uBYJj6TXkPAJ"
      },
      "source": [
        "6 / 2"
      ],
      "execution_count": null,
      "outputs": []
    },
    {
      "cell_type": "markdown",
      "metadata": {
        "id": "9X1FGR6NrXxS"
      },
      "source": [
        "Вещественные числа так же называются числами с плавающей **точкой**. Так что Python не примет запятую в дробном числе, нужно использовать точку."
      ]
    },
    {
      "cell_type": "code",
      "metadata": {
        "id": "voV5e2KZrvOV"
      },
      "source": [
        "8.6 / 2 \n",
        "# 8,6 /2 # как видите, получилось не то что мы хотели"
      ],
      "execution_count": null,
      "outputs": []
    },
    {
      "cell_type": "code",
      "metadata": {
        "id": "ve8uQxkipQ0_"
      },
      "source": [
        "(5+30)**2 "
      ],
      "execution_count": null,
      "outputs": []
    },
    {
      "cell_type": "markdown",
      "metadata": {
        "id": "6LC1EP_bp4Pc"
      },
      "source": [
        "Запомните, что умножение и деление всегда выполняются прежде, чем сложение и вычитание, если не менять порядок вычислений с помощью скобок."
      ]
    },
    {
      "cell_type": "code",
      "metadata": {
        "id": "OkdcqGf9vk7E"
      },
      "source": [
        "5//2"
      ],
      "execution_count": null,
      "outputs": []
    },
    {
      "cell_type": "markdown",
      "metadata": {
        "id": "lN835-8BqMk2"
      },
      "source": [
        "Операторы в Python\n",
        "\n",
        "Питон может складывать, вычитать, умножать, делить, возводить в степень числа. И это не полный список того, что он может, просто эти действия самые простые, поэтому давайте разберемся, как их выполнять "
      ]
    },
    {
      "cell_type": "markdown",
      "metadata": {
        "id": "BCee-aGlqPHC"
      },
      "source": [
        "<table class=\"src\" border=\"1\">\n",
        "<tbody>\n",
        "<tr style=\"background-color: #2b5b84;\"><th style=\"width: 10%;\"><span style=\"color: #ffff00;\">Оператор</span></th><th style=\"width: 45%;\"><span style=\"color: #ffff00;\">Описание</span></th><th><span style=\"color: #ffff00;\">Примеры</span></th></tr>\n",
        "<tr>\n",
        "<td style=\"background-color: #2b5b84; text-align: center;\"><strong><span style=\"color: #ffff00;\">+</span></strong></td>\n",
        "<td>Сложение - Суммирует значения слева и справа от оператора</td>\n",
        "<td>\n",
        "<p>15 + 5 в результате будет 20<br> 20 + -3 в результате будет 17<br> 13.4 + 7 в результате будет 20.4</p>\n",
        "</td>\n",
        "</tr>\n",
        "<tr>\n",
        "<td style=\"background-color: #2b5b84; text-align: center;\"><strong><span style=\"color: #ffff00;\">-</span></strong></td>\n",
        "<td>Вычитание - Вычитает правый операнд из левого</td>\n",
        "<td>15 - 5 в результате будет 10<br> 20 - -3 в результате будет 23<br> 13.4 - 7 в результате будет 6.4</td>\n",
        "</tr>\n",
        "<tr>\n",
        "<td style=\"background-color: #2b5b84; text-align: center;\"><strong><span style=\"color: #ffff00;\">*</span></strong></td>\n",
        "<td>Умножение - Перемножает операнды</td>\n",
        "<td>5 * 5 в результате будет 25<br>7 * 3.2 в результате будет 22.4<br>-3 * 12 в результате будет -36</td>\n",
        "</tr>\n",
        "<tr>\n",
        "<td style=\"background-color: #2b5b84; text-align: center;\"><strong><span style=\"color: #ffff00;\">/</span></strong></td>\n",
        "<td>Деление - Делит левый операнд на правый</td>\n",
        "<td>15 / 5 в результате будет 3<br>5 / 2 в результате будет 2 (В Python 2.x версии при делении двух целых чисел результат будет целое число)<br> 5.0 / 2 в результате будет 2.5 (Чтобы получить \"правильный\" результат хотя бы один операнд должен быть float)</td>\n",
        "<tr>\n",
        "<td style=\"background-color: #2b5b84; text-align: center;\"><strong><span style=\"color: #ffff00;\">**</span></strong></td>\n",
        "<td>Возведение в степень - возводит левый операнд в степень правого</td>\n",
        "<td>5 ** 2 в результате будет 25<br>2 ** 3 в результате будет 8<br>-3 ** 2 в результате будет -9</td>\n",
        "</tr>\n",
        "</tr>\n",
        "<tr>\n",
        "<td style=\"background-color: #2b5b84; text-align: center;\"><strong><span style=\"color: #ffff00;\">%</span></strong></td>\n",
        "<td>Деление по модулю - Делит левый операнд на правый и возвращает остаток.</td>\n",
        "<td>6 % 2 в результате будет 0<br>7 % 2 в результате будет 1<br>13.2 % 5 в результате 3.2</td>\n",
        "</tr>\n",
        "<tr>\n",
        "<td style=\"background-color: #2b5b84; text-align: center;\"><strong><span style=\"color: #ffff00;\">//</span></strong></td>\n",
        "<td>Целочисленное деление - Деление в котором возвращается только целая часть результата. Часть после запятой отбрасывается.</td>\n",
        "<td>12 // 5 в результате будет 2<br>4 // 3 в результате будет 1<br>25 // 6 в результате будет 4</td>\n",
        "</tr>\n",
        "</tbody>\n",
        "</table>"
      ]
    },
    {
      "cell_type": "markdown",
      "metadata": {
        "id": "XDuNIJ5sQsWr"
      },
      "source": [
        "Задача: \n",
        "\n",
        "В коробке 10 шариков весом 1 кг, 3 шарика весом 2 кг, и 2 шарика весом 4 кг. Сама коробка весит 0.1 кг. Посчитайте, сколько весят все шарики вместе с коробкой."
      ]
    },
    {
      "cell_type": "markdown",
      "metadata": {
        "id": "WYY8Gqbxp-_f"
      },
      "source": [
        "Маленькая задача\n",
        "\n",
        "Напишите код для нахождения квадратного корня из произведения чисел 5, 5.6, 5-1"
      ]
    },
    {
      "cell_type": "markdown",
      "metadata": {
        "id": "mIblPFvCon-p"
      },
      "source": [
        "### Переменные\n",
        "\n",
        "\n"
      ]
    },
    {
      "cell_type": "code",
      "metadata": {
        "id": "Oclns_uDTC6y"
      },
      "source": [
        "hello = 'Привет, мир!'\n",
        "hello"
      ],
      "execution_count": null,
      "outputs": []
    },
    {
      "cell_type": "markdown",
      "metadata": {
        "id": "G2JD5UKqSRrL"
      },
      "source": [
        "В программировании слово переменная обозначает именованное место для  хранения  данных,  например  чисел,  текста,  списков  с  числами  или  символами и так далее. Также переменную можно рассматривать как ярлык, которым помечены некие данные.\n",
        "\n",
        "Например, на нашем складе лежит 500 пар кроссовок Nike. Давайте как-то зафиксируем эту информацию!"
      ]
    },
    {
      "cell_type": "code",
      "metadata": {
        "id": "DYxV10PwSb5h"
      },
      "source": [
        "nikes = 500"
      ],
      "execution_count": null,
      "outputs": []
    },
    {
      "cell_type": "markdown",
      "metadata": {
        "id": "IhAySd2wSi-0"
      },
      "source": [
        "Чтобы создать переменную с именем **nikes**, нужно указать имя, поставить знак «равно» (=) и ввести соответствующие данные. Давайте создадим переменную nikes, указав, что ей соответствует значение 500 (однако из этого не следует, что другая переменная не может иметь такое же значение):"
      ]
    },
    {
      "cell_type": "code",
      "metadata": {
        "id": "hHdDQr-QSf2D"
      },
      "source": [
        "найки = 500"
      ],
      "execution_count": null,
      "outputs": []
    },
    {
      "cell_type": "markdown",
      "metadata": {
        "id": "coyNRIYRTSCc"
      },
      "source": [
        "Можно изменить значение переменной `nikes` —  сделать так, чтобы ей соответствовали другие данные. Например, вот как заменить значение `nikes` числом 450"
      ]
    },
    {
      "cell_type": "code",
      "metadata": {
        "id": "1wAb9D4LTZfV"
      },
      "source": [
        "nikes = 450\n",
        "print(nikes)"
      ],
      "execution_count": null,
      "outputs": []
    },
    {
      "cell_type": "code",
      "metadata": {
        "id": "4nwlmVkmyq4p"
      },
      "source": [
        "print(hi)"
      ],
      "execution_count": null,
      "outputs": []
    },
    {
      "cell_type": "markdown",
      "metadata": {
        "id": "K-2IHl1yvTye"
      },
      "source": [
        "### Немного об именах переменных\n",
        "\n",
        "Для создания корректных имен перемен­ных надо следовать всего нескольким правилам; о некорректном имени Python вам сообщит, выведя ошибку\n",
        "\n",
        "Есть несколько правил при определении переменных:\n",
        "\n",
        "            имена переменных не должны повторять уже встроенные в Python имена, например, print, str, in и т.д.;\n",
        "            имена переменных могут содержать только буквы, цифры и нижнее подчёркивание; \n",
        "            имена переменных не должны начинаться с цифры;\n",
        "            очень желательно, чтобы имена переменных выражали суть переменной и не были слишком длинными.\n",
        "\n",
        "Если компьютер принял переменную это не значит, что это имя хорошее! \n",
        "Переменная с именем **aklkjkll112312** будет понятна компьютеру, но ну будет понятна человеку. Поэтом при создании переменных вы должны ориентироваться на своего читателя. Порой вы будете единственным читателем вашего кода, но поверьте(!), вернувшись через месяц для того, чтобы немного изменить свою программу, вы ужаснетесь, насколько там все непонятно! Поэтому, если вы с любовью относитесь к себе и своим коллегам, не пренебрегайте правилами и договоренностями. Они значительно упрощают вашу жизнь. Подробнее про имена переменных тут\n",
        "http://pythonlearn.ru/python-dlya-nachinayushhix/imena-dlya-peremennyx-v-python/"
      ]
    },
    {
      "cell_type": "code",
      "metadata": {
        "id": "ZVqp8zsape5o"
      },
      "source": [
        "import keyword\n",
        "\n",
        "keyword.kwlist"
      ],
      "execution_count": null,
      "outputs": []
    },
    {
      "cell_type": "markdown",
      "metadata": {
        "id": "VzxL7ivkUJVW"
      },
      "source": [
        "Итак, у нас есть 500 кроссовок фирмы найк. Но ведь есть же и другие бренды, правильно? Пускай у нас ещё будут кроссовки adidas в количестве 400 штук. "
      ]
    },
    {
      "cell_type": "code",
      "metadata": {
        "id": "OK5MbIkrUNSq"
      },
      "source": [
        "adidas = 400"
      ],
      "execution_count": null,
      "outputs": []
    },
    {
      "cell_type": "markdown",
      "metadata": {
        "id": "5fWd8s9sUQFB"
      },
      "source": [
        "Теперь применим математические операции, которые мы изучили на наших переменных\n",
        "\n",
        "1) Мы можем посчитать общее количество кроссовок, которое у нас есть\n",
        "\n",
        "2) Мы можем посчитать выручку, которую мы поулучим, реализовав наш товар по стоимости 5 тысяч и 4 тысячи рублей за пару\n",
        "\n",
        "3) Мы можем узнать сколько мы получим прибыли после уплаты налога, который пусть будет 13%"
      ]
    },
    {
      "cell_type": "code",
      "metadata": {
        "id": "GwlwElSEUVHR"
      },
      "source": [
        "# count\n",
        "# income\n",
        "# pure_income\n",
        "\n",
        "nikes = 450\n",
        "adidas = 400\n",
        "count = adidas + nikes\n",
        "\n",
        "\n",
        "print('Количество:', count, 'Прибыль:', income, 'Чистая прибыль:', pure_income) "
      ],
      "execution_count": null,
      "outputs": []
    },
    {
      "cell_type": "code",
      "metadata": {
        "id": "IMbnDvZLs_PI"
      },
      "source": [
        "nike = 450\n",
        "adidas = 400\n"
      ],
      "execution_count": null,
      "outputs": []
    },
    {
      "cell_type": "markdown",
      "metadata": {
        "id": "jtx-A1X5v6Yj"
      },
      "source": [
        "Итак, мы аучились создавать переменные и работать с ними! Давайте сделаем так, чтобы можно было вводить данные в программу с клавиатуры. Для этого у нас есть функция `input()` \n",
        "\n"
      ]
    },
    {
      "cell_type": "code",
      "metadata": {
        "id": "cW0Ud_PKTC7E"
      },
      "source": [
        "b = input('так работает функция input: ') #input - функция для ввоода, так же как print() для вывода\n",
        "print(b)\n",
        "\n",
        "\n"
      ],
      "execution_count": null,
      "outputs": []
    },
    {
      "cell_type": "code",
      "metadata": {
        "id": "UIQ6xCsgwgCt"
      },
      "source": [
        "b*5 # что-то пошло не так"
      ],
      "execution_count": null,
      "outputs": []
    },
    {
      "cell_type": "markdown",
      "metadata": {
        "id": "K_kvkM8Mxaz_"
      },
      "source": [
        "У данных есть не только значения, но и типы. Мы работали пока только со строками и числами, но типов данных гораздо больше. Компьютер не может интуитивно понять, что мы от него хотим в отличие от человека. Поэтому важно следить за типами данных, которые мы предоставляем нашей программе. Числа и строки это разные типы данных и работаем мы с ними по-разному."
      ]
    },
    {
      "cell_type": "code",
      "metadata": {
        "id": "hpQvUgmLxlRF"
      },
      "source": [
        "type(b)"
      ],
      "execution_count": null,
      "outputs": []
    },
    {
      "cell_type": "code",
      "metadata": {
        "id": "x0XlnvvdxniK"
      },
      "source": [
        "type(5)"
      ],
      "execution_count": null,
      "outputs": []
    },
    {
      "cell_type": "code",
      "metadata": {
        "id": "1OzsejS0xrFp"
      },
      "source": [
        "'5' == 5 # == - это знак \"равно\". Один = обозначает присваивание переменной, поэтому чтобы проверять равенство используется =="
      ],
      "execution_count": null,
      "outputs": []
    },
    {
      "cell_type": "markdown",
      "metadata": {
        "id": "uV7JNF5yx4a6"
      },
      "source": [
        "Чтобы превратить строку в число, мы можем использовать особую функцию int() в которую мы передадим строку, а на выходе получим число. Передадим означает, что мы поместим эту строку внутрь скобок."
      ]
    },
    {
      "cell_type": "code",
      "metadata": {
        "id": "BhiwUbxZykgj"
      },
      "source": [
        "b = input('функция input для целых чисел: ') #input - функция для ввоода, так же как print() для вывода\n",
        "b = int(b)\n",
        "print(b * 5)"
      ],
      "execution_count": null,
      "outputs": []
    },
    {
      "cell_type": "markdown",
      "metadata": {
        "id": "0YrBgBVdy4oN"
      },
      "source": [
        "Для чисел с плавающей точкой используется тип данных `float`"
      ]
    },
    {
      "cell_type": "code",
      "metadata": {
        "id": "-nmtr5r9zEiv"
      },
      "source": [
        "c = float(input('Type float value: '))\n",
        "c*5"
      ],
      "execution_count": null,
      "outputs": []
    },
    {
      "cell_type": "markdown",
      "metadata": {
        "id": "XCYVueNWTC7q"
      },
      "source": [
        "### Адрес переменной\n",
        "Для того, чтобы посмотреть на объект с каким идентификатором ссылается данная переменная, можно использовать функцию id()."
      ]
    },
    {
      "cell_type": "code",
      "metadata": {
        "id": "Nva5NP6PTC7r",
        "colab": {
          "base_uri": "https://localhost:8080/",
          "height": 52
        },
        "outputId": "3232e408-9c3c-4ce3-b30d-4dfd5e3ea6a5"
      },
      "source": [
        "a = 4\n",
        "b = 5\n",
        "print('id a равен ', id(a))\n",
        "print('id b равен ', id(b))\n",
        "\n"
      ],
      "execution_count": null,
      "outputs": [
        {
          "output_type": "stream",
          "text": [
            "id a равен  10914592\n",
            "id b равен  10914624\n"
          ],
          "name": "stdout"
        }
      ]
    },
    {
      "cell_type": "code",
      "metadata": {
        "id": "SJjvxU0nTC7_",
        "colab": {
          "base_uri": "https://localhost:8080/",
          "height": 52
        },
        "outputId": "4f83ecaa-480a-4a9f-9671-ec49ee34c8ba"
      },
      "source": [
        "x = 4\n",
        "y = 4\n",
        "print('id x равен ', id(x))\n",
        "print('id y равен ', id(y))"
      ],
      "execution_count": null,
      "outputs": [
        {
          "output_type": "stream",
          "text": [
            "id x равен  10914592\n",
            "id y равен  10914592\n"
          ],
          "name": "stdout"
        }
      ]
    },
    {
      "cell_type": "code",
      "metadata": {
        "id": "z4GDViP1TC8H",
        "outputId": "0970b52a-2640-46fb-d13b-8062a968ba15"
      },
      "source": [
        "a = b\n",
        "print(id(a))"
      ],
      "execution_count": null,
      "outputs": [
        {
          "output_type": "stream",
          "text": [
            "140717763240464\n"
          ],
          "name": "stdout"
        }
      ]
    },
    {
      "cell_type": "markdown",
      "metadata": {
        "id": "-bkkLaj7TC9l"
      },
      "source": [
        "### Операторы в Python:\n",
        "* Арифметические операторы\n",
        "* Операторы сравнения (реляционные)\n",
        "* Операторы присваивания\n",
        "* Побитовые операторы\n",
        "* Логические операторы\n",
        "* Операторы членства (Membership operators)\n",
        "* Операторы тождественности (Identity operators)\n",
        "\n",
        "\n",
        "Подробнее тут http://pythonicway.com/python-operators"
      ]
    },
    {
      "cell_type": "code",
      "metadata": {
        "id": "uUHYbwrZTC9m",
        "outputId": "cacc22ca-6efb-450d-a3c6-1a673b3fce21"
      },
      "source": [
        "#Арифметические операторы:\n",
        "\n",
        "print(4+4) #Суммирует значения слева и справа от оператора\n",
        "print(4-1) #Вычитание - Вычитает правый операнд из левого\n",
        "print(4*2) #Умножение - Перемножает операнды\n",
        "print(4/2) #Деление - Делит левый операнд на правый\n",
        "print(5%2) #Деление по модулю - Делит левый операнд на правый и возвращает остаток.\n",
        "print(15//2) # \tЦелочисленное деление - Деление в котором возвращается только целая часть результата. Часть после запятой отбрасывается.\n",
        "print(4**2) #возведение в степень\n",
        "    \n"
      ],
      "execution_count": null,
      "outputs": [
        {
          "output_type": "stream",
          "text": [
            "8\n",
            "3\n",
            "8\n",
            "2.0\n",
            "1\n",
            "7\n",
            "16\n"
          ],
          "name": "stdout"
        }
      ]
    },
    {
      "cell_type": "code",
      "metadata": {
        "id": "QgW8MtjPTC9v",
        "outputId": "35a6fbf0-3d07-48e1-ef78-97841b40667a"
      },
      "source": [
        "16**0.5"
      ],
      "execution_count": null,
      "outputs": [
        {
          "output_type": "execute_result",
          "data": {
            "text/plain": [
              "4.0"
            ]
          },
          "metadata": {
            "tags": []
          },
          "execution_count": 26
        }
      ]
    },
    {
      "cell_type": "code",
      "metadata": {
        "scrolled": true,
        "id": "-IL8VnmCTC91",
        "outputId": "4fab5bc2-59fe-4e2d-f43d-c7c7f3ede014"
      },
      "source": [
        "#Операторы сравнения в Python:\n",
        "\n",
        "print(4 == 5) #Проверяет равны ли оба операнда. Если да, то условие становится истинным.\n",
        "print(4 != 5) #Проверяет равны ли оба операнда. Если нет, то условие становится истинным.\n",
        "print(4 > 5) #Проверяет больше ли значение левого операнда, чем значение правого. Если да, то условие становится истинным.\n",
        "print(4 < 5) #Проверяет меньше ли значение левого операнда, чем значение правого. Если да, то условие становится истинным.\n",
        "print(4 >= 5) #Проверяет больше или равно значение левого операнда, чем значение правого. Если да, то условие становится истинным.\n",
        "print(4 <= 6) #Проверяет меньше или равно значение левого операнда, чем значение правого. Если да, то условие становится истинным."
      ],
      "execution_count": null,
      "outputs": [
        {
          "output_type": "stream",
          "text": [
            "False\n",
            "True\n",
            "False\n",
            "True\n",
            "False\n",
            "True\n"
          ],
          "name": "stdout"
        }
      ]
    },
    {
      "cell_type": "code",
      "metadata": {
        "id": "Pfyu8aisTC96",
        "colab": {
          "base_uri": "https://localhost:8080/",
          "height": 69
        },
        "outputId": "6d8fc672-7e6b-4bf5-e53c-cc0d48691cc4"
      },
      "source": [
        "# print(5 + '5')\n",
        "print(5+5)\n",
        "print('5'+'4')\n",
        "\n",
        "print(5 * '5')"
      ],
      "execution_count": null,
      "outputs": [
        {
          "output_type": "stream",
          "text": [
            "10\n",
            "54\n",
            "55555\n"
          ],
          "name": "stdout"
        }
      ]
    },
    {
      "cell_type": "markdown",
      "metadata": {
        "id": "gHtnf1UN0TLQ"
      },
      "source": [
        "### Условия в программе "
      ]
    },
    {
      "cell_type": "markdown",
      "metadata": {
        "id": "oo3y0dZiTC-b"
      },
      "source": [
        "Условия в Python \n",
        "Для того, чтобы программа работала в зависимости от наших условий, мы прибегаем к ключевым словам  `if` и `else`\n",
        "\n",
        "После слова `if` указывается проверяемое условие завершающееся двоеточием. \n",
        "\n",
        "После этого идет блок инструкций, который будет выполнен, если условие истинно. Блок `else` необязателен, он сработает если `if` ложно\n",
        "\n",
        "Итак, условная инструкция в Питоне имеет следующий синтаксис:\n",
        "\n",
        "```\n",
        "if Условие:\n",
        "    Блок инструкций 1\n",
        "else:\n",
        "    Блок инструкций 2\n",
        "```\n",
        "\n",
        "\n"
      ]
    },
    {
      "cell_type": "code",
      "metadata": {
        "id": "XbWzpsoy1KIK",
        "colab": {
          "base_uri": "https://localhost:8080/",
          "height": 34
        },
        "outputId": "4923b457-4c28-4b9b-c790-746da3aeeedf"
      },
      "source": [
        "if nikes == 500:\n",
        "  print('Yes')\n",
        "\n",
        "else:\n",
        "  print('No')"
      ],
      "execution_count": null,
      "outputs": [
        {
          "output_type": "stream",
          "text": [
            "No\n"
          ],
          "name": "stdout"
        }
      ]
    },
    {
      "cell_type": "code",
      "metadata": {
        "id": "76wyOaDCTC-p"
      },
      "source": [
        "if 0>0:\n",
        "  print('hello')\n",
        "\n"
      ],
      "execution_count": null,
      "outputs": []
    },
    {
      "cell_type": "code",
      "metadata": {
        "id": "oDxh9-scRPD1",
        "colab": {
          "base_uri": "https://localhost:8080/",
          "height": 34
        },
        "outputId": "4565fc2b-a6be-44b2-de0f-384cf311380f"
      },
      "source": [
        "x = (9*8)**(1/3) \n",
        "\n",
        "if x > 5:\n",
        "  print('Истина')\n",
        "\n",
        "else:\n",
        "  print('Ложь')"
      ],
      "execution_count": null,
      "outputs": [
        {
          "output_type": "stream",
          "text": [
            "Ложь\n"
          ],
          "name": "stdout"
        }
      ]
    },
    {
      "cell_type": "code",
      "metadata": {
        "id": "_76AVANV391Z"
      },
      "source": [
        "#переменная с вводом данных данных с клавиатуры\n",
        "#переменная должна иметь тип float\n",
        "#\n",
        "\n",
        "#программа если переменная больше 0 то оставляем её значение\n",
        "#если меньше 0, то берем модуль\n",
        "#выведем результат на экран"
      ],
      "execution_count": null,
      "outputs": []
    },
    {
      "cell_type": "code",
      "metadata": {
        "id": "l9sD6_yV4j55",
        "colab": {
          "base_uri": "https://localhost:8080/",
          "height": 52
        },
        "outputId": "f7d47879-ae11-4108-fee5-f1b493f22fe6"
      },
      "source": [
        "a = float(input('Введите float:'))\n",
        "if a < 0:\n",
        " a = a*(-1) \n",
        " print(a)\n",
        "\n",
        "else: \n",
        "  print(a)"
      ],
      "execution_count": null,
      "outputs": [
        {
          "output_type": "stream",
          "text": [
            "Введите float:6\n",
            "6.0\n"
          ],
          "name": "stdout"
        }
      ]
    },
    {
      "cell_type": "markdown",
      "metadata": {
        "id": "hzcaUwOP1gOa"
      },
      "source": [
        "Опять немного математики...\n",
        "\n",
        "Выведите на экран слово **Истина**, если кубический корень из произведения 9 и 8 больше 4 и **Ложь** если это не так\n",
        "\n",
        "\n"
      ]
    },
    {
      "cell_type": "markdown",
      "metadata": {
        "id": "DYZzOkO62kRt"
      },
      "source": [
        "Напишем программу для получения модуля числа, при вводе числа с клавиатуры\n",
        "\n",
        "Помним о:\n",
        "1) Функция input - наш друг\n",
        "2) Тип данных (float, int)\n"
      ]
    },
    {
      "cell_type": "markdown",
      "metadata": {
        "id": "4fY4-tFI4DOK"
      },
      "source": [
        "Давайте напишем программу, которая делает модуль из числа x, а если число положительное и четное, то еще домножает его на 2"
      ]
    },
    {
      "cell_type": "markdown",
      "metadata": {
        "id": "CKlMJuSL6RtG"
      },
      "source": [
        "Напишите программу, которая принимает на вход строку и целое число и выводит на экран эту строку, её длину и её длину в степени введённого целого числа. При введении, например, строки \"привет\" и числа 2 на экране должно быть выведено \"привет 6 36\". Названия переменных string и power. Для теста используйте значения string = 'Привет!', power = 5"
      ]
    },
    {
      "cell_type": "code",
      "metadata": {
        "id": "UuGiDll16WRx"
      },
      "source": [
        "# string = input('Введите текст: ')\n",
        "\n",
        "# power = int(input('Введите степень: ')) # так было в задании! "
      ],
      "execution_count": null,
      "outputs": []
    },
    {
      "cell_type": "markdown",
      "metadata": {
        "id": "KkGo3kneTC_h"
      },
      "source": [
        "### Спасибо за внимание! Буду рад ответить на ваши вопросы\n",
        "ФОРМА ОС:\n",
        "https://forms.gle/Rx4KeAmokX44mkhV6\n",
        "    \n",
        "Полезные обучающие ссылки:\n",
        "\n",
        "\"Python и анализ данных\" Уэс Маккинли\n",
        "\n",
        "\"Автоматизация рутинных задач с помощью python\" Эл Свейгарт\n",
        "\n",
        "http://pythontutor.com/visualize.html#mode=edit визуализатор выполнения кода \n"
      ]
    },
    {
      "cell_type": "markdown",
      "metadata": {
        "id": "n0u7ea-9TC6U"
      },
      "source": [
        "###  Установка  и настройка Anaconda\n",
        "\n",
        "\n",
        "https://www.anaconda.com/distribution/\n",
        "\n",
        "1. Запустите скачанный инсталлятор. В первом появившемся окне необходимо нажать “Next”.\n",
        "2. Далее следует принять лицензионное соглашение.\n",
        "3. Выберете одну из опций установки:\n",
        "\n",
        "    * Just Me – только для пользователя, запустившего установку;\n",
        "    * All Users – для всех пользователей. (для тех, кто планирует выйти за пределы анализа данных)\n",
        "    \n",
        "4. Укажите путь, по которому будет установлена Anaconda.\n",
        "5. Укажите дополнительные опции:\n",
        "\n",
        "    * Add Anaconda to the system PATH environment variable – добавить Anaconda в системную переменную PATH\n",
        "    * Register Anaconda as the system Python 3.5 – использовать Anaconda, как интерпретатор Python 3.5 по умолчанию.\n",
        "\n",
        "6. Для начала установки нажмите на кнопку “Install”\n",
        "7. После установки программы запустите Jupyter Notebook  (наберите его в поиске)\n",
        "8. В результате запустится веб-сервер и среда разработки в браузере.\n",
        "9. Создайте ноутбук для разработки, для этого нажмите на кнопку New (в правом углу окна) и в появившемся списке выберете Python.\n"
      ]
    }
  ]
}