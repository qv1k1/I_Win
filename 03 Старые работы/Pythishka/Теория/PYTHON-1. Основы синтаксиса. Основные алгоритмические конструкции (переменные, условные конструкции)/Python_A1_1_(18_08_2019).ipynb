{
  "nbformat": 4,
  "nbformat_minor": 0,
  "metadata": {
    "kernelspec": {
      "display_name": "Python 3",
      "language": "python",
      "name": "python3"
    },
    "language_info": {
      "codemirror_mode": {
        "name": "ipython",
        "version": 3
      },
      "file_extension": ".py",
      "mimetype": "text/x-python",
      "name": "python",
      "nbconvert_exporter": "python",
      "pygments_lexer": "ipython3",
      "version": "3.7.1"
    },
    "colab": {
      "name": "Python A1-1 (18.08.2019).ipynb",
      "provenance": []
    }
  },
  "cells": [
    {
      "cell_type": "markdown",
      "metadata": {
        "id": "x9rMD0RGFRkf"
      },
      "source": [
        "# Python. Начало"
      ]
    },
    {
      "cell_type": "markdown",
      "metadata": {
        "id": "dNesaoXeFRkk"
      },
      "source": [
        "## 1. Переменные. Вывод данных"
      ]
    },
    {
      "cell_type": "markdown",
      "metadata": {
        "id": "zfz8PxnaFRkm"
      },
      "source": [
        "### 1.1. Простые математические действия. Вывод данных"
      ]
    },
    {
      "cell_type": "markdown",
      "metadata": {
        "id": "p6IX4gfjFRkn"
      },
      "source": [
        "Простые арифметические действия с числами (на примере сложения):"
      ]
    },
    {
      "cell_type": "code",
      "metadata": {
        "id": "UofohUZ_FRko",
        "outputId": "abaa4147-dc12-4617-b471-e471274d13b8"
      },
      "source": [
        "6 + 5"
      ],
      "execution_count": null,
      "outputs": [
        {
          "output_type": "execute_result",
          "data": {
            "text/plain": [
              "11"
            ]
          },
          "metadata": {
            "tags": []
          },
          "execution_count": 2
        }
      ]
    },
    {
      "cell_type": "markdown",
      "metadata": {
        "id": "pN4XcP9_FRks"
      },
      "source": [
        "Простые арифметические действия и вывод результатов вычислений в понятном формате:"
      ]
    },
    {
      "cell_type": "code",
      "metadata": {
        "id": "vs6Pbj29FRkt",
        "outputId": "e26028e0-a2a3-4b10-be04-c0c019ac6793"
      },
      "source": [
        "print('6 + 5 =', 6+5)"
      ],
      "execution_count": null,
      "outputs": [
        {
          "output_type": "stream",
          "text": [
            "6 + 5 = 11\n"
          ],
          "name": "stdout"
        }
      ]
    },
    {
      "cell_type": "code",
      "metadata": {
        "id": "tUgLyZlNFRku",
        "outputId": "42981bdc-e27b-4288-99da-d3453717816c"
      },
      "source": [
        "print('6 + 5 =' + '11')"
      ],
      "execution_count": null,
      "outputs": [
        {
          "output_type": "stream",
          "text": [
            "6 + 5 =11\n"
          ],
          "name": "stdout"
        }
      ]
    },
    {
      "cell_type": "code",
      "metadata": {
        "id": "UWAf4zJgFRkw",
        "outputId": "db556ae0-e25c-4b6f-ce0b-6143ff95c3a2"
      },
      "source": [
        "print('6 + 5 = {}'.format(6+5))"
      ],
      "execution_count": null,
      "outputs": [
        {
          "output_type": "stream",
          "text": [
            "6 + 5 = 11\n"
          ],
          "name": "stdout"
        }
      ]
    },
    {
      "cell_type": "markdown",
      "metadata": {
        "id": "BX-yVkO3FRkx"
      },
      "source": [
        "Арифметические действия с использованием переменных:"
      ]
    },
    {
      "cell_type": "code",
      "metadata": {
        "id": "VJQraMldFRky"
      },
      "source": [
        "# Задаем значения переменных а и b:\n",
        "a = 24\n",
        "b = 50"
      ],
      "execution_count": null,
      "outputs": []
    },
    {
      "cell_type": "code",
      "metadata": {
        "id": "03Vwdxw4FRkz",
        "outputId": "f15a13e1-4239-4d6b-9062-f477d848c92a"
      },
      "source": [
        "# Выводим на экран результаты вычислений\n",
        "print('{} + {} = {}'.format(a, b, a+b))"
      ],
      "execution_count": null,
      "outputs": [
        {
          "output_type": "stream",
          "text": [
            "24 + 50 = 74\n"
          ],
          "name": "stdout"
        }
      ]
    },
    {
      "cell_type": "markdown",
      "metadata": {
        "id": "5EF2ARNOFRk0"
      },
      "source": [
        "### 1.2. Типы переменных"
      ]
    },
    {
      "cell_type": "code",
      "metadata": {
        "id": "WCcT-VZaFRk1"
      },
      "source": [
        "number1 = 25\n",
        "number2 = 3.14\n",
        "word = 'Hello!'\n",
        "letter = 'a'"
      ],
      "execution_count": null,
      "outputs": []
    },
    {
      "cell_type": "code",
      "metadata": {
        "id": "lBn-LbMNFRk1",
        "outputId": "962d9dd6-f822-4fd1-b9d3-a02d2587fb32"
      },
      "source": [
        "# Сообщаем тип переменной number1\n",
        "print('Тип переменной number1 ({}): {}'.format(number1, type(number1)))"
      ],
      "execution_count": null,
      "outputs": [
        {
          "output_type": "stream",
          "text": [
            "Тип переменной number1 (25): <class 'int'>\n"
          ],
          "name": "stdout"
        }
      ]
    },
    {
      "cell_type": "code",
      "metadata": {
        "id": "UG4ZKafpFRk2",
        "outputId": "a927b374-8694-4794-f1c0-87c0b8d10bb7"
      },
      "source": [
        "# Сообщаем тип переменной number2\n",
        "print('Тип переменной number2 ({}): {}'.format(number2, type(number2)))"
      ],
      "execution_count": null,
      "outputs": [
        {
          "output_type": "stream",
          "text": [
            "Тип переменной number2 (3.14): <class 'float'>\n"
          ],
          "name": "stdout"
        }
      ]
    },
    {
      "cell_type": "code",
      "metadata": {
        "id": "-4xCVN2pFRk3",
        "outputId": "5f90cd8d-08a5-48e3-a4cb-0a7883041004"
      },
      "source": [
        "# Сообщаем тип переменной word\n",
        "print('Тип переменной word ({}): {}'.format(word, type(word)))"
      ],
      "execution_count": null,
      "outputs": [
        {
          "output_type": "stream",
          "text": [
            "Тип переменной word (Hello!): <class 'str'>\n"
          ],
          "name": "stdout"
        }
      ]
    },
    {
      "cell_type": "code",
      "metadata": {
        "id": "nESZrbrWFRk5",
        "outputId": "8d13fce5-c94c-4630-c695-d5225ed67702"
      },
      "source": [
        "# Сообщаем тип переменной letter\n",
        "print('Тип переменной letter ({}): {}'.format(letter, type(letter)))"
      ],
      "execution_count": null,
      "outputs": [
        {
          "output_type": "stream",
          "text": [
            "Тип переменной letter (a): <class 'str'>\n"
          ],
          "name": "stdout"
        }
      ]
    },
    {
      "cell_type": "markdown",
      "metadata": {
        "id": "7qLLO3jtFRk6"
      },
      "source": [
        "Экспериментируем с именами переменных:"
      ]
    },
    {
      "cell_type": "code",
      "metadata": {
        "id": "BJKc9K-OFRk7"
      },
      "source": [
        "word = 25\n",
        "Word = 'Python'"
      ],
      "execution_count": null,
      "outputs": []
    },
    {
      "cell_type": "code",
      "metadata": {
        "id": "wGCwZ6WjFRk7",
        "outputId": "63a71937-ba89-4f28-ac20-aa21dde7d5eb"
      },
      "source": [
        "type(Word)"
      ],
      "execution_count": null,
      "outputs": [
        {
          "output_type": "execute_result",
          "data": {
            "text/plain": [
              "str"
            ]
          },
          "metadata": {
            "tags": []
          },
          "execution_count": 16
        }
      ]
    },
    {
      "cell_type": "code",
      "metadata": {
        "id": "KSBLol6sFRk8"
      },
      "source": [
        "a = '2.8'"
      ],
      "execution_count": null,
      "outputs": []
    },
    {
      "cell_type": "code",
      "metadata": {
        "id": "zy8tNbJqFRk9"
      },
      "source": [
        "a = float(a)"
      ],
      "execution_count": null,
      "outputs": []
    },
    {
      "cell_type": "code",
      "metadata": {
        "id": "8BS1UtujFRk9"
      },
      "source": [
        "a = int(a)"
      ],
      "execution_count": null,
      "outputs": []
    },
    {
      "cell_type": "code",
      "metadata": {
        "id": "r9CeHX28FRk-",
        "outputId": "781bc388-4217-4ee5-ae47-cc63fc73f129"
      },
      "source": [
        "type(a)"
      ],
      "execution_count": null,
      "outputs": [
        {
          "output_type": "execute_result",
          "data": {
            "text/plain": [
              "int"
            ]
          },
          "metadata": {
            "tags": []
          },
          "execution_count": 22
        }
      ]
    },
    {
      "cell_type": "code",
      "metadata": {
        "id": "tWI_qkHAFRk-",
        "outputId": "57f75f52-8187-4988-dae2-792f80d62dec"
      },
      "source": [
        "a"
      ],
      "execution_count": null,
      "outputs": [
        {
          "output_type": "execute_result",
          "data": {
            "text/plain": [
              "2"
            ]
          },
          "metadata": {
            "tags": []
          },
          "execution_count": 28
        }
      ]
    },
    {
      "cell_type": "markdown",
      "metadata": {
        "id": "e1wlAXFLFRk_"
      },
      "source": [
        "Переход от переменной одного типа к другому:"
      ]
    },
    {
      "cell_type": "code",
      "metadata": {
        "id": "OZv5fesGFRk_",
        "outputId": "13284a28-b6ee-47c3-f568-2e10e685477d"
      },
      "source": [
        "# Неожиданный результат сложения:\n",
        "a = input('a = ')\n",
        "b = input('b = ')\n",
        "print('{} + {} = {}'.format(a, b, a+b))"
      ],
      "execution_count": null,
      "outputs": [
        {
          "output_type": "stream",
          "text": [
            "a = 17\n",
            "b = 58\n",
            "17 + 58 = 1758\n"
          ],
          "name": "stdout"
        }
      ]
    },
    {
      "cell_type": "code",
      "metadata": {
        "id": "DwDnDY3GFRlA",
        "outputId": "dc654714-2b50-42ff-c71c-12a76703d0c1"
      },
      "source": [
        "type(a)"
      ],
      "execution_count": null,
      "outputs": [
        {
          "output_type": "execute_result",
          "data": {
            "text/plain": [
              "str"
            ]
          },
          "metadata": {
            "tags": []
          },
          "execution_count": 30
        }
      ]
    },
    {
      "cell_type": "code",
      "metadata": {
        "id": "rBQ1OmQyFRlB",
        "outputId": "a2c81e02-9e76-4d6f-8c09-82d3d451666a"
      },
      "source": [
        "a = int(input('a = '))\n",
        "b = int(input('b = '))\n",
        "print('{} + {} = {}'.format(a, b, a+b))"
      ],
      "execution_count": null,
      "outputs": [
        {
          "output_type": "stream",
          "text": [
            "a = 17\n",
            "b = 58\n",
            "17 + 58 = 75\n"
          ],
          "name": "stdout"
        }
      ]
    },
    {
      "cell_type": "markdown",
      "metadata": {
        "id": "bLmmvIBHFRlE"
      },
      "source": [
        "## 2. Условия"
      ]
    },
    {
      "cell_type": "markdown",
      "metadata": {
        "id": "KK9LPLSHFRlF"
      },
      "source": [
        "### 2.1. Простые условия"
      ]
    },
    {
      "cell_type": "markdown",
      "metadata": {
        "id": "vNEY-zGGFRlF"
      },
      "source": [
        "Поэкспериментируем с числами. Задача - определить, какое из двух чисел больше."
      ]
    },
    {
      "cell_type": "code",
      "metadata": {
        "id": "Jz5rG7lEFRlG",
        "outputId": "cb3c2f6b-1f41-458f-e6fc-da97a67e00df"
      },
      "source": [
        "a = int(input('a = '))\n",
        "b = int(input('b = '))\n",
        "if a > b:\n",
        "    print('{} > {}'.format(a,b))\n",
        "elif a < b:\n",
        "    print('{} < {}'.format(a,b))\n",
        "else:\n",
        "    print('{} = {}'.format(a,b))\n",
        "print('Проверка закончена! Ура!')"
      ],
      "execution_count": null,
      "outputs": [
        {
          "output_type": "stream",
          "text": [
            "a = 5\n",
            "b = 5\n",
            "5 = 5\n",
            "Проверка закончена! Ура!\n"
          ],
          "name": "stdout"
        }
      ]
    },
    {
      "cell_type": "markdown",
      "metadata": {
        "id": "R3ysrqSFFRlH"
      },
      "source": [
        "А как сравнить строковые данные?"
      ]
    },
    {
      "cell_type": "code",
      "metadata": {
        "id": "ovr_eAchFRlI",
        "outputId": "d3671fd4-c964-4a4d-da6c-2f06281e74d7"
      },
      "source": [
        "'кот' > 'кит'"
      ],
      "execution_count": null,
      "outputs": [
        {
          "output_type": "execute_result",
          "data": {
            "text/plain": [
              "True"
            ]
          },
          "metadata": {
            "tags": []
          },
          "execution_count": 42
        }
      ]
    },
    {
      "cell_type": "code",
      "metadata": {
        "id": "9x7nFTTDFRlJ",
        "outputId": "d58c5fd0-7b1b-4d33-c612-da8f658b9009"
      },
      "source": [
        "word1 = input('Введите первое слово: ')\n",
        "word2 = input('Введите второе слово: ')\n",
        "\n",
        "if word1 < word2:\n",
        "    print('Сначала найдите в словаре слово \"{}\", а потом - \"{}\"'.format(word1, word2))\n",
        "elif word1 > word2:\n",
        "    print('Сначала найдите в словаре слово \"{}\", а потом - \"{}\"'.format(word2, word1))\n",
        "else:\n",
        "    print('Зачем вы ввели два одинаковых слова?')"
      ],
      "execution_count": null,
      "outputs": [
        {
          "output_type": "stream",
          "text": [
            "Введите первое слово: Кот\n",
            "Введите второе слово: кот\n",
            "Сначала найдите в словаре слово \"Кот\", а потом - \"кот\"\n"
          ],
          "name": "stdout"
        }
      ]
    },
    {
      "cell_type": "markdown",
      "metadata": {
        "id": "j-ETAbgiFRlK"
      },
      "source": [
        "### 2.2. Вложенные условия. Составные условия. Логические операции"
      ]
    },
    {
      "cell_type": "markdown",
      "metadata": {
        "id": "2Z4emziNFRlK"
      },
      "source": [
        "Задание: сравнить два числа и:  \n",
        "1. Если первое число больше и при этом чётное - вывести кодовое слово \"синхрофазотрон\".  \n",
        "2. Если первое число больше и при этом нечётное - \"какаду\".  \n",
        "3. Если второе число больше и при этом чётное - \"прокрастинация\".  \n",
        "4. Если второе число больше и при этом нечётное - \"папоротник\".  \n",
        "5. Если числа одинаковые - \"безмятежность\".  \n",
        ":)  \n",
        "\n",
        "ВНИМАНИЕ! Задачу нужно решить двумя способами!"
      ]
    },
    {
      "cell_type": "code",
      "metadata": {
        "id": "5xhCBkIVFRlL",
        "outputId": "63b93950-df21-4adc-f3ee-478fe5895e11"
      },
      "source": [
        "# Способ 1: с помощью вложенных условий\n",
        "a = int(input('a = '))\n",
        "b = int(input('b = '))\n",
        "if a > b:\n",
        "    if a%2 == 0:\n",
        "        print('синхрофазотрон')\n",
        "    else:\n",
        "        print('какаду')\n",
        "elif a < b:\n",
        "    if b%2 == 0:\n",
        "        print('прокрастинация')\n",
        "    else:\n",
        "        print('папоротник')\n",
        "else:\n",
        "    print('безмятежность')"
      ],
      "execution_count": null,
      "outputs": [
        {
          "output_type": "stream",
          "text": [
            "a = 5\n",
            "b = 5\n",
            "безмятежность\n"
          ],
          "name": "stdout"
        }
      ]
    },
    {
      "cell_type": "code",
      "metadata": {
        "id": "F_eIDNLAFRlM",
        "outputId": "72fd7353-c60a-4673-e85e-e84640657a4f"
      },
      "source": [
        "# Способ 2: с помощью логических операторов\n",
        "a = int(input('a = '))\n",
        "b = int(input('b = '))\n",
        "\n",
        "if a>b and a%2==0:\n",
        "    print('синхрофазотрон')\n",
        "elif a>b and a%2!=0:\n",
        "    print('какаду')\n",
        "elif b>a and b%2==0:\n",
        "    print('прокрастинация')\n",
        "elif b>a and b%2!=0:\n",
        "    print('папоротник')\n",
        "else:\n",
        "    print('безмятежность')"
      ],
      "execution_count": null,
      "outputs": [
        {
          "output_type": "stream",
          "text": [
            "a = 22\n",
            "b = 22\n",
            "безмятежность\n"
          ],
          "name": "stdout"
        }
      ]
    },
    {
      "cell_type": "code",
      "metadata": {
        "id": "DIgF5ITvFRlN"
      },
      "source": [
        ""
      ],
      "execution_count": null,
      "outputs": []
    }
  ]
}