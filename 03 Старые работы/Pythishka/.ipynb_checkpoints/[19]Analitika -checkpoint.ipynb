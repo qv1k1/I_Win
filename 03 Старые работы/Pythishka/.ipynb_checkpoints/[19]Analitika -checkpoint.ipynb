{
 "cells": [
  {
   "cell_type": "code",
   "execution_count": 2,
   "metadata": {},
   "outputs": [
    {
     "name": "stdout",
     "output_type": "stream",
     "text": [
      "Дата ;Цех;Номенклатура ;план ;факт \n",
      "\n",
      "09.12.2020;021 сверловка;ножка 3 отв ;154;137\n",
      "\n"
     ]
    }
   ],
   "source": [
    "f=open('Analitika.csv')\n",
    "for line in f:\n",
    "    print(line)"
   ]
  }
 ],
 "metadata": {
  "kernelspec": {
   "display_name": "Python 3",
   "language": "python",
   "name": "python3"
  },
  "language_info": {
   "codemirror_mode": {
    "name": "ipython",
    "version": 3
   },
   "file_extension": ".py",
   "mimetype": "text/x-python",
   "name": "python",
   "nbconvert_exporter": "python",
   "pygments_lexer": "ipython3",
   "version": "3.8.3"
  }
 },
 "nbformat": 4,
 "nbformat_minor": 4
}
