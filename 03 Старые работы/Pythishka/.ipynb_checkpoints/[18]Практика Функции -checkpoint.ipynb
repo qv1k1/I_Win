{
 "cells": [
  {
   "cell_type": "code",
   "execution_count": 2,
   "metadata": {},
   "outputs": [],
   "source": [
    "# Это определение функции, которая возводит число в квадрат    \n",
    "def square(x):    \n",
    "    return x**2    \n",
    "    \n",
    "# Это вызов функции. Мы возведём 5 в квадрат и положим 25 в переменную square_result    \n",
    "square_result = square(5)    \n",
    "    \n",
    "    \n",
    "# Определение стоимости в магазине всё по 60, где только яблоки стоят 30    \n",
    "def count_cost(product):    \n",
    "    if product == \"apple\":    \n",
    "        cost = 30    \n",
    "    else:    \n",
    "        cost = 60    \n",
    "    return cost    \n",
    "    \n",
    "# Попросим функцию посчитать стоимость апельсина    \n",
    "orange_cost = count_cost(\"orange\")   \n"
   ]
  },
  {
   "cell_type": "code",
   "execution_count": 4,
   "metadata": {},
   "outputs": [
    {
     "name": "stdout",
     "output_type": "stream",
     "text": [
      "400\n"
     ]
    }
   ],
   "source": [
    "#Посчитать квадрат \n",
    "def square(x):\n",
    "    return x**2\n",
    "\n",
    "square_result = square(20)\n",
    "\n",
    "print(square_result)\n"
   ]
  },
  {
   "cell_type": "code",
   "execution_count": 6,
   "metadata": {},
   "outputs": [
    {
     "name": "stdout",
     "output_type": "stream",
     "text": [
      "115\n"
     ]
    }
   ],
   "source": [
    "#Исправить код\n",
    "#def sum_2(_, _):\n",
    "#    result = ...\n",
    "#    return result\n",
    "def sum_2(x, y):\n",
    "    result = x + y\n",
    "    return result\n",
    "\n",
    "summa = sum_2(42, 73)\n",
    "\n",
    "print(summa)"
   ]
  },
  {
   "cell_type": "code",
   "execution_count": 11,
   "metadata": {},
   "outputs": [],
   "source": [
    "def power(x, y):\n",
    "    result = x**y\n",
    "    return result"
   ]
  },
  {
   "cell_type": "code",
   "execution_count": 17,
   "metadata": {},
   "outputs": [],
   "source": [
    "#get_median\n",
    "#Постройте функцию get_median, которая принимает на вход список чисел и возвращает медиану, например, для этого списка.\n",
    "#get_median([5, 2, 1, 3, 4]) должен вернуть 3\n",
    "#get_median([3, 3, 7, 9]) должен вернуть 5.0\n",
    "\n",
    "def get_median(numbers_list):\n",
    "    length = len(numbers_list)\n",
    "    numbers_list.sort()\n",
    "    if length % 2 == 0:\n",
    "        result = (numbers_list[int(length / 2)] + numbers_list[int(length/2 - 1)]) / 2\n",
    "        return result\n",
    "    else:\n",
    "        result = numbers_list[int(length / 2)]\n",
    "        return result"
   ]
  },
  {
   "cell_type": "code",
   "execution_count": 18,
   "metadata": {},
   "outputs": [
    {
     "name": "stdout",
     "output_type": "stream",
     "text": [
      "3\n",
      "5.0\n"
     ]
    }
   ],
   "source": [
    "print(get_median([5, 2, 1, 3, 4]))\n",
    "print(get_median([3, 3, 7, 9]))"
   ]
  },
  {
   "cell_type": "code",
   "execution_count": 19,
   "metadata": {},
   "outputs": [
    {
     "name": "stdout",
     "output_type": "stream",
     "text": [
      "['€5.71', '€2.86', '€2.14']\n"
     ]
    }
   ],
   "source": [
    "#Зачем использовать функции\n",
    "#Мы рассмотрели, как определяются и используются функции. \n",
    "#Вы могли заметить, что функции делают все те же команды, что и обычно. Ключевой вопрос: зачем и когда их использовать?\n",
    "\n",
    "#Разберёмся на примере. Допустим, у нас есть таблица с ценами в рублях, \n",
    "#а мы хотим пересчитать их в евро и отформатировать. Сделаем это сначала без функций.\n",
    "\n",
    "ticket_db = [{'price': 400}, {'price': 200}, {'price': 150}]    \n",
    "    \n",
    "tickets_euro = []    \n",
    "for ticket in ticket_db:    \n",
    "    converted = ticket['price'] / 70    \n",
    "    rounded = round(converted, 2)     \n",
    "    formatted = '€' + str(rounded)    \n",
    "    tickets_euro.append(formatted)    \n",
    "        \n",
    "print(tickets_euro)    \n",
    "# => ['€5.71', '€2.86', '€2.14']   "
   ]
  },
  {
   "cell_type": "code",
   "execution_count": 20,
   "metadata": {},
   "outputs": [
    {
     "name": "stdout",
     "output_type": "stream",
     "text": [
      "['€5.71', '€2.86', '€2.14'] ['€0.71', '€0.57'] ['€1.43', '€1.36', '€2.14']\n"
     ]
    }
   ],
   "source": [
    "#Пока всё неплохо. Но проходит время, \n",
    "#и у нас появляется ещё две таблицы с ценами, и с каждой нужно сделать ту же самую операцию.\n",
    "\n",
    "ticket_db = [{'price': 400}, {'price': 200}, {'price': 150}]  \n",
    "  \n",
    "tickets_euro = []  \n",
    "for ticket in ticket_db:  \n",
    "    converted = ticket['price'] / 70  \n",
    "    rounded = round(converted, 2)   \n",
    "    formatted = '€' + str(rounded)  \n",
    "    tickets_euro.append(formatted)  \n",
    "      \n",
    "guide_db = [{'price': 50}, {'price': 40}]  \n",
    "\n",
    "\n",
    "guides_euro = []  \n",
    "\n",
    "for guide in guide_db:  \n",
    "    converted = guide['price'] / 70  \n",
    "    rounded = round(converted, 2)   \n",
    "    formatted = '€' + str(rounded)  \n",
    "    guides_euro.append(formatted)  \n",
    "\n",
    "\n",
    "snack_db = [{'price': 100}, {'price': 95}, {'price': 150}]  \n",
    "  \n",
    "snacks_euro = [] \n",
    "\n",
    "for snack in snack_db:  \n",
    "    converted = snack['price'] / 70  \n",
    "    rounded = round(converted, 2)   \n",
    "    formatted = '€' + str(rounded)  \n",
    "    snacks_euro.append(formatted)  \n",
    "\n",
    "    \n",
    "print(tickets_euro, guides_euro, snacks_euro)  "
   ]
  },
  {
   "cell_type": "code",
   "execution_count": 21,
   "metadata": {},
   "outputs": [
    {
     "name": "stdout",
     "output_type": "stream",
     "text": [
      "['€5.71', '€2.86', '€2.14'] ['€0.71', '€0.57'] ['€1.43', '€1.36', '€2.14']\n"
     ]
    }
   ],
   "source": [
    "#Мы видим, что одни и те же операции повторяются раз за разом. Когда вы где-то встречаете такое, вы должны сразу подумать: \n",
    "#\"О, отличное место для функции\". Перепишем этот пример с использованием функций.\n",
    "\n",
    "def to_euro(price):  \n",
    "    exchange_rate = 70  \n",
    "    rounded = round(price/exchange_rate, 2)  \n",
    "    return '€' + str(rounded)  \n",
    "  \n",
    "def db_to_euro(db):  \n",
    "    return [to_euro(item['price']) for item in db]  \n",
    "  \n",
    "\n",
    "ticket_db = [{'price': 400}, {'price': 200}, {'price': 150}]  \n",
    "guide_db = [{'price': 50}, {'price': 40}]  \n",
    "snack_db = [{'price': 100}, {'price': 95}, {'price': 150}]  \n",
    "  \n",
    "tickets_euro = db_to_euro(ticket_db)  \n",
    "guides_euro = db_to_euro(guide_db)  \n",
    "snacks_euro = db_to_euro(snack_db)  \n",
    "  \n",
    "print(tickets_euro, guides_euro, snacks_euro)  "
   ]
  },
  {
   "cell_type": "code",
   "execution_count": 22,
   "metadata": {},
   "outputs": [
    {
     "name": "stdout",
     "output_type": "stream",
     "text": [
      "29.0\n"
     ]
    }
   ],
   "source": [
    "#Определить функцию авг, которая возвращает среднее число заказов по данным в базе \n",
    "\n",
    "user_db = [{'orders': 12}, {'orders': 30}, {'orders': 45}]\n",
    "\n",
    "def avg_orders(user_db):\n",
    "    order_sum = sum([user['orders'] for user in user_db])\n",
    "    orders_per_user = order_sum / len(user_db)\n",
    "    return orders_per_user\n",
    "\n",
    "\n",
    "result = avg_orders(user_db)\n",
    "print(result)"
   ]
  },
  {
   "cell_type": "code",
   "execution_count": 2,
   "metadata": {},
   "outputs": [
    {
     "name": "stdout",
     "output_type": "stream",
     "text": [
      "0.4344850556187627\n"
     ]
    }
   ],
   "source": [
    "#Определите функцию get_euro_rate, которая возвращает \n",
    "#случайное число от 65 до 85. Перепишите to_euro из примера выше, чтобы вместо постоянного exchange_rate 70 \n",
    "#она использовала get_euro_rate\n",
    "\n",
    "#Для выполнения задания вам потребуется функция random() из модуля random, которая возвращает случайное число от 0 до 1\n",
    "\n",
    "from random import random\n",
    "print(random())"
   ]
  },
  {
   "cell_type": "code",
   "execution_count": 3,
   "metadata": {},
   "outputs": [],
   "source": [
    "\n",
    "# добавьте функцию get_euro_rate\n",
    "from random import random\n",
    "\n",
    "def get_euro_rate():\n",
    "    curs = random()*20 + 65\n",
    "    return curs\n",
    "\n",
    "\n",
    "# используйте get_euro_rate в следующей функции\n",
    "def to_euro(price):  \n",
    "    exchange_rate = get_euro_rate()\n",
    "    rounded = round(price/exchange_rate, 2)  \n",
    "    return '€' + str(rounded)"
   ]
  },
  {
   "cell_type": "code",
   "execution_count": 5,
   "metadata": {},
   "outputs": [
    {
     "name": "stdout",
     "output_type": "stream",
     "text": [
      "Hello\n"
     ]
    }
   ],
   "source": [
    "#Функции как объект¶\n",
    "#В Python функции являются объектами, поэтому вы можете обращаться с ними, \n",
    "#как и с любой другой переменной. Например, вы можете положить функцию в другую переменную\n",
    "\n",
    "# Определим функцию, которая печатает \"привет\"  \n",
    "def say_hello():  \n",
    "    print(\"Hello\")  \n",
    "\n",
    "# Мы можем положить её в другую переменную  \n",
    "greetings = say_hello  \n",
    "  \n",
    "# И она сработает так же, как исходная say_hello  \n",
    "greetings()  "
   ]
  },
  {
   "cell_type": "code",
   "execution_count": 6,
   "metadata": {},
   "outputs": [
    {
     "name": "stdout",
     "output_type": "stream",
     "text": [
      "I'm using <function double_string at 0x00000260FF4E99D0>\n"
     ]
    },
    {
     "data": {
      "text/plain": [
       "'hellohello'"
      ]
     },
     "execution_count": 6,
     "metadata": {},
     "output_type": "execute_result"
    }
   ],
   "source": [
    "#Так же вы можете передавать одну функцию в другую как аргумент. \n",
    "#Обратите внимание, что когда мы обращаемся с функцией, как с переменной, мы не пишем скобки после имени функции.\n",
    "def apply_the_operation(operation, argument):  \n",
    "    print(\"I'm using\", operation)  \n",
    "    return operation(argument)  \n",
    "  \n",
    "\n",
    "def double_string(string):  \n",
    "    return string*2  \n",
    "  \n",
    "# передаём функцию double_string в apply_the_operation  \n",
    "apply_the_operation(double_string, 'hello') "
   ]
  },
  {
   "cell_type": "code",
   "execution_count": 7,
   "metadata": {},
   "outputs": [
    {
     "name": "stdout",
     "output_type": "stream",
     "text": [
      "10\n"
     ]
    }
   ],
   "source": [
    "all_the = sum\n",
    "magic = range\n",
    "print(all_the(magic(5)))"
   ]
  },
  {
   "cell_type": "code",
   "execution_count": 8,
   "metadata": {},
   "outputs": [
    {
     "data": {
      "text/plain": [
       "['Mr. Boris', 'Mr. Ivan', 'Mr. Bob']"
      ]
     },
     "execution_count": 8,
     "metadata": {},
     "output_type": "execute_result"
    }
   ],
   "source": [
    "#Что такое map\n",
    "#Мы видели, что можем передавать функцию как переменную. \n",
    "#При работе с данными часто используется библиотечная функция map, \n",
    "#которая как раз одним из аргументов принимает функцию. Map применяет эту функцию \n",
    "#к каждому элементу списка, который мы передаём вторым аргументом. \n",
    "\n",
    "#Пусть, например, у нас есть список имён, и мы хотим получить для каждого вежливую форму. \n",
    "# => Определим функцию polite_name, которая делает вежливым одно имя \n",
    "def polite_name(name):  \n",
    "    return 'Mr. ' + name   \n",
    "  \n",
    "guests = [\"Boris\", \"Ivan\", \"Bob\"]\n",
    "guest_iterator = map(polite_name, guests)  # здесь мы применили polite_name к каждому имени  \n",
    "list(guest_iterator)  # вывoд  "
   ]
  },
  {
   "cell_type": "code",
   "execution_count": 9,
   "metadata": {},
   "outputs": [
    {
     "data": {
      "text/plain": [
       "[10.0, 1.0, 4.2, 0.73]"
      ]
     },
     "execution_count": 9,
     "metadata": {},
     "output_type": "execute_result"
    }
   ],
   "source": [
    "#Мы также можем использовать map со встроенными функциями. Вот, например, способ преобразовать строки в числа\n",
    "num_strings = [\"10\", \"1\", \"4.2\", \"0.73\"]  \n",
    "  \n",
    "list(map(float, num_strings)) "
   ]
  },
  {
   "cell_type": "code",
   "execution_count": 10,
   "metadata": {},
   "outputs": [
    {
     "data": {
      "text/plain": [
       "73"
      ]
     },
     "execution_count": 10,
     "metadata": {},
     "output_type": "execute_result"
    }
   ],
   "source": [
    "list(map(abs, [10,  -1, 42, -73]))[3] # К списку применяется abs, потом выводится элемент с индексом 3."
   ]
  },
  {
   "cell_type": "code",
   "execution_count": 15,
   "metadata": {},
   "outputs": [
    {
     "name": "stdout",
     "output_type": "stream",
     "text": [
      "[3, 3, 4, 2, 3]\n"
     ]
    }
   ],
   "source": [
    "word_sizes = list(map(len, [\"all\", \"you\", \"need\", \"is\", \"map\"]))\n",
    "print(word_sizes)"
   ]
  },
  {
   "cell_type": "code",
   "execution_count": 16,
   "metadata": {},
   "outputs": [
    {
     "data": {
      "text/plain": [
       "64"
      ]
     },
     "execution_count": 16,
     "metadata": {},
     "output_type": "execute_result"
    }
   ],
   "source": [
    "#ямбда-функции\n",
    "#На практике функции для map часто бывают короткими и используются только один раз. \n",
    "#В этом случае удобно применять так называемые анонимные функции (или лямбда-функции): \n",
    "#они позволяют определять функции лаконичнее, прямо в месте использования.\n",
    "\n",
    "#Анонимные функции могут содержать лишь одно выражение, и им необязательно давать имя. \n",
    "#Анонимные функции создаются с помощью инструкции lambda и немного отличаются синтаксисом. Давайте посмотрим на них.\n",
    "\n",
    "# создадим простую функцию с помощью lambda и положим её в переменную func  \n",
    "func = lambda x, y: x + y  \n",
    "  \n",
    "# после этого мы можем использовать func как обычную функцию  \n",
    "func(1, 2)  \n",
    "# => 3  \n",
    "func('a', 'b')  \n",
    "# => 'ab'  \n",
    "  \n",
    "# мы даже можем не давать функции имя, а сразу вызывать  \n",
    "(lambda x: x**2)(8)  "
   ]
  },
  {
   "cell_type": "code",
   "execution_count": 17,
   "metadata": {},
   "outputs": [],
   "source": [
    "#Если сравнивать определение обычной функции и лямбда-функции:\n",
    "\n",
    "#пишем lambda вместо def;\n",
    "#не пишем название функции (потому и анонимная);\n",
    "#аргументы без скобок;\n",
    "#только одно выражение и оно же возвращается; return не пишется.\n",
    "#Более наглядно:\n",
    "\n",
    "def name(x, y):  \n",
    "    return x + y  \n",
    "  \n",
    "# то же самое, что  \n",
    "name = lambda x, y: x + y  "
   ]
  },
  {
   "cell_type": "code",
   "execution_count": 19,
   "metadata": {},
   "outputs": [
    {
     "name": "stdout",
     "output_type": "stream",
     "text": [
      "[-14, -10, -3, -2, 5, 24]\n"
     ]
    }
   ],
   "source": [
    "# Solution\n",
    "\n",
    "values = [4, 8, 15, 16, 23, 42]\n",
    "mean = 18\n",
    "\n",
    "result = list(map(lambda x: x - mean, values))\n",
    "print(result)"
   ]
  },
  {
   "cell_type": "code",
   "execution_count": null,
   "metadata": {},
   "outputs": [],
   "source": []
  }
 ],
 "metadata": {
  "kernelspec": {
   "display_name": "Python 3",
   "language": "python",
   "name": "python3"
  },
  "language_info": {
   "codemirror_mode": {
    "name": "ipython",
    "version": 3
   },
   "file_extension": ".py",
   "mimetype": "text/x-python",
   "name": "python",
   "nbconvert_exporter": "python",
   "pygments_lexer": "ipython3",
   "version": "3.8.3"
  }
 },
 "nbformat": 4,
 "nbformat_minor": 4
}
