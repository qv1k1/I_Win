{
 "cells": [
  {
   "cell_type": "code",
   "execution_count": 2,
   "metadata": {},
   "outputs": [],
   "source": [
    "# Это определение функции, которая возводит число в квадрат    \n",
    "def square(x):    \n",
    "    return x**2    \n",
    "    \n",
    "# Это вызов функции. Мы возведём 5 в квадрат и положим 25 в переменную square_result    \n",
    "square_result = square(5)    \n",
    "    \n",
    "    \n",
    "# Определение стоимости в магазине всё по 60, где только яблоки стоят 30    \n",
    "def count_cost(product):    \n",
    "    if product == \"apple\":    \n",
    "        cost = 30    \n",
    "    else:    \n",
    "        cost = 60    \n",
    "    return cost    \n",
    "    \n",
    "# Попросим функцию посчитать стоимость апельсина    \n",
    "orange_cost = count_cost(\"orange\")   \n"
   ]
  },
  {
   "cell_type": "code",
   "execution_count": 4,
   "metadata": {},
   "outputs": [
    {
     "name": "stdout",
     "output_type": "stream",
     "text": [
      "400\n"
     ]
    }
   ],
   "source": [
    "#Посчитать квадрат \n",
    "def square(x):\n",
    "    return x**2\n",
    "\n",
    "square_result = square(20)\n",
    "\n",
    "print(square_result)\n"
   ]
  },
  {
   "cell_type": "code",
   "execution_count": 6,
   "metadata": {},
   "outputs": [
    {
     "name": "stdout",
     "output_type": "stream",
     "text": [
      "115\n"
     ]
    }
   ],
   "source": [
    "#Исправить код\n",
    "#def sum_2(_, _):\n",
    "#    result = ...\n",
    "#    return result\n",
    "def sum_2(x, y):\n",
    "    result = x + y\n",
    "    return result\n",
    "\n",
    "summa = sum_2(42, 73)\n",
    "\n",
    "print(summa)"
   ]
  },
  {
   "cell_type": "code",
   "execution_count": 11,
   "metadata": {},
   "outputs": [],
   "source": [
    "def power(x, y):\n",
    "    result = x**y\n",
    "    return result"
   ]
  },
  {
   "cell_type": "code",
   "execution_count": 17,
   "metadata": {},
   "outputs": [],
   "source": [
    "#get_median\n",
    "#Постройте функцию get_median, которая принимает на вход список чисел и возвращает медиану, например, для этого списка.\n",
    "#get_median([5, 2, 1, 3, 4]) должен вернуть 3\n",
    "#get_median([3, 3, 7, 9]) должен вернуть 5.0\n",
    "\n",
    "def get_median(numbers_list):\n",
    "    length = len(numbers_list)\n",
    "    numbers_list.sort()\n",
    "    if length % 2 == 0:\n",
    "        result = (numbers_list[int(length / 2)] + numbers_list[int(length/2 - 1)]) / 2\n",
    "        return result\n",
    "    else:\n",
    "        result = numbers_list[int(length / 2)]\n",
    "        return result"
   ]
  },
  {
   "cell_type": "code",
   "execution_count": 18,
   "metadata": {},
   "outputs": [
    {
     "name": "stdout",
     "output_type": "stream",
     "text": [
      "3\n",
      "5.0\n"
     ]
    }
   ],
   "source": [
    "print(get_median([5, 2, 1, 3, 4]))\n",
    "print(get_median([3, 3, 7, 9]))"
   ]
  },
  {
   "cell_type": "code",
   "execution_count": 19,
   "metadata": {},
   "outputs": [
    {
     "name": "stdout",
     "output_type": "stream",
     "text": [
      "['€5.71', '€2.86', '€2.14']\n"
     ]
    }
   ],
   "source": [
    "#Зачем использовать функции\n",
    "#Мы рассмотрели, как определяются и используются функции. \n",
    "#Вы могли заметить, что функции делают все те же команды, что и обычно. Ключевой вопрос: зачем и когда их использовать?\n",
    "\n",
    "#Разберёмся на примере. Допустим, у нас есть таблица с ценами в рублях, \n",
    "#а мы хотим пересчитать их в евро и отформатировать. Сделаем это сначала без функций.\n",
    "\n",
    "ticket_db = [{'price': 400}, {'price': 200}, {'price': 150}]    \n",
    "    \n",
    "tickets_euro = []    \n",
    "for ticket in ticket_db:    \n",
    "    converted = ticket['price'] / 70    \n",
    "    rounded = round(converted, 2)     \n",
    "    formatted = '€' + str(rounded)    \n",
    "    tickets_euro.append(formatted)    \n",
    "        \n",
    "print(tickets_euro)    \n",
    "# => ['€5.71', '€2.86', '€2.14']   "
   ]
  },
  {
   "cell_type": "code",
   "execution_count": 20,
   "metadata": {},
   "outputs": [
    {
     "name": "stdout",
     "output_type": "stream",
     "text": [
      "['€5.71', '€2.86', '€2.14'] ['€0.71', '€0.57'] ['€1.43', '€1.36', '€2.14']\n"
     ]
    }
   ],
   "source": [
    "#Пока всё неплохо. Но проходит время, \n",
    "#и у нас появляется ещё две таблицы с ценами, и с каждой нужно сделать ту же самую операцию.\n",
    "\n",
    "ticket_db = [{'price': 400}, {'price': 200}, {'price': 150}]  \n",
    "  \n",
    "tickets_euro = []  \n",
    "for ticket in ticket_db:  \n",
    "    converted = ticket['price'] / 70  \n",
    "    rounded = round(converted, 2)   \n",
    "    formatted = '€' + str(rounded)  \n",
    "    tickets_euro.append(formatted)  \n",
    "      \n",
    "guide_db = [{'price': 50}, {'price': 40}]  \n",
    "\n",
    "\n",
    "guides_euro = []  \n",
    "\n",
    "for guide in guide_db:  \n",
    "    converted = guide['price'] / 70  \n",
    "    rounded = round(converted, 2)   \n",
    "    formatted = '€' + str(rounded)  \n",
    "    guides_euro.append(formatted)  \n",
    "\n",
    "\n",
    "snack_db = [{'price': 100}, {'price': 95}, {'price': 150}]  \n",
    "  \n",
    "snacks_euro = [] \n",
    "\n",
    "for snack in snack_db:  \n",
    "    converted = snack['price'] / 70  \n",
    "    rounded = round(converted, 2)   \n",
    "    formatted = '€' + str(rounded)  \n",
    "    snacks_euro.append(formatted)  \n",
    "\n",
    "    \n",
    "print(tickets_euro, guides_euro, snacks_euro)  "
   ]
  },
  {
   "cell_type": "code",
   "execution_count": 21,
   "metadata": {},
   "outputs": [
    {
     "name": "stdout",
     "output_type": "stream",
     "text": [
      "['€5.71', '€2.86', '€2.14'] ['€0.71', '€0.57'] ['€1.43', '€1.36', '€2.14']\n"
     ]
    }
   ],
   "source": [
    "#Мы видим, что одни и те же операции повторяются раз за разом. Когда вы где-то встречаете такое, вы должны сразу подумать: \n",
    "#\"О, отличное место для функции\". Перепишем этот пример с использованием функций.\n",
    "\n",
    "def to_euro(price):  \n",
    "    exchange_rate = 70  \n",
    "    rounded = round(price/exchange_rate, 2)  \n",
    "    return '€' + str(rounded)  \n",
    "  \n",
    "def db_to_euro(db):  \n",
    "    return [to_euro(item['price']) for item in db]  \n",
    "  \n",
    "\n",
    "ticket_db = [{'price': 400}, {'price': 200}, {'price': 150}]  \n",
    "guide_db = [{'price': 50}, {'price': 40}]  \n",
    "snack_db = [{'price': 100}, {'price': 95}, {'price': 150}]  \n",
    "  \n",
    "tickets_euro = db_to_euro(ticket_db)  \n",
    "guides_euro = db_to_euro(guide_db)  \n",
    "snacks_euro = db_to_euro(snack_db)  \n",
    "  \n",
    "print(tickets_euro, guides_euro, snacks_euro)  "
   ]
  },
  {
   "cell_type": "code",
   "execution_count": 22,
   "metadata": {},
   "outputs": [
    {
     "name": "stdout",
     "output_type": "stream",
     "text": [
      "29.0\n"
     ]
    }
   ],
   "source": [
    "#Определить функцию авг, которая возвращает среднее число заказов по данным в базе \n",
    "\n",
    "user_db = [{'orders': 12}, {'orders': 30}, {'orders': 45}]\n",
    "\n",
    "def avg_orders(user_db):\n",
    "    order_sum = sum([user['orders'] for user in user_db])\n",
    "    orders_per_user = order_sum / len(user_db)\n",
    "    return orders_per_user\n",
    "\n",
    "\n",
    "result = avg_orders(user_db)\n",
    "print(result)"
   ]
  },
  {
   "cell_type": "code",
   "execution_count": null,
   "metadata": {},
   "outputs": [],
   "source": []
  }
 ],
 "metadata": {
  "kernelspec": {
   "display_name": "Python 3",
   "language": "python",
   "name": "python3"
  },
  "language_info": {
   "codemirror_mode": {
    "name": "ipython",
    "version": 3
   },
   "file_extension": ".py",
   "mimetype": "text/x-python",
   "name": "python",
   "nbconvert_exporter": "python",
   "pygments_lexer": "ipython3",
   "version": "3.8.3"
  }
 },
 "nbformat": 4,
 "nbformat_minor": 4
}
