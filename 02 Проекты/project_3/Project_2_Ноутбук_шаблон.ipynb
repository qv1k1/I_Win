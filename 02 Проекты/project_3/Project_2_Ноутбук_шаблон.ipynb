{
  "cells": [
    {
      "cell_type": "markdown",
      "id": "42289889-bd57-434e-9637-d3e354756316",
      "metadata": {
        "id": "42289889-bd57-434e-9637-d3e354756316"
      },
      "source": [
        "<center> <img src = https://raw.githubusercontent.com/AndreyRysistov/DatasetsForPandas/main/hh%20label.jpg alt=\"drawing\" style=\"width:400px;\"> </center> "
      ]
    },
    {
      "cell_type": "markdown",
      "id": "829cb75b-f14e-4ba8-9195-7ba929a7d656",
      "metadata": {
        "id": "829cb75b-f14e-4ba8-9195-7ba929a7d656",
        "tags": []
      },
      "source": [
        "# <center> Проект: Анализ вакансий из HeadHunter\n",
        "   "
      ]
    },
    {
      "cell_type": "code",
      "execution_count": 1,
      "id": "dccfde33-2452-43fb-a8a5-5c6ebc02a71d",
      "metadata": {
        "id": "dccfde33-2452-43fb-a8a5-5c6ebc02a71d"
      },
      "outputs": [],
      "source": [
        "# Импортируем библиотеки для работы\n",
        "import pandas as pd\n",
        "import psycopg2\n",
        "import urllib.parse as req\n",
        "import requests\n",
        "from bs4 import BeautifulSoup\n",
        "import plotly.express as px"
      ]
    },
    {
      "cell_type": "code",
      "execution_count": 3,
      "id": "G4X_q8KBf7SF",
      "metadata": {
        "id": "G4X_q8KBf7SF"
      },
      "outputs": [],
      "source": [
        "connection = psycopg2.connect(\n",
        "    dbname=DBNAME,\n",
        "    user=USER,\n",
        "    host=HOST,\n",
        "    password=PASSWORD,\n",
        "    port=PORT\n",
        ")"
      ]
    },
    {
      "cell_type": "markdown",
      "id": "0dc6476b-7a00-44f1-ac93-6e3baed33a29",
      "metadata": {
        "id": "0dc6476b-7a00-44f1-ac93-6e3baed33a29"
      },
      "source": [
        "# Юнит 3. Предварительный анализ данных"
      ]
    },
    {
      "cell_type": "markdown",
      "id": "889782b6-8d1c-410e-8920-e57f27917c64",
      "metadata": {
        "id": "889782b6-8d1c-410e-8920-e57f27917c64"
      },
      "source": [
        "1. Напишите запрос, который посчитает количество вакансий в нашей базе (вакансии находятся в таблице vacancies). "
      ]
    },
    {
      "cell_type": "code",
      "execution_count": 4,
      "id": "bc39e68e-ed02-4ee2-9235-7258a2f867a8",
      "metadata": {
        "id": "bc39e68e-ed02-4ee2-9235-7258a2f867a8"
      },
      "outputs": [],
      "source": [
        "# текст запроса\n",
        "query_3_1 = f'''\n",
        "select\n",
        "   count(id)\n",
        "from vacancies\n",
        "'''"
      ]
    },
    {
      "cell_type": "code",
      "execution_count": 5,
      "id": "7mAwtsk4hEHY",
      "metadata": {
        "id": "7mAwtsk4hEHY"
      },
      "outputs": [
        {
          "name": "stderr",
          "output_type": "stream",
          "text": [
            "C:\\Users\\Георгий\\AppData\\Local\\Temp\\ipykernel_11268\\1114379196.py:2: UserWarning: pandas only supports SQLAlchemy connectable (engine/connection) or database string URI or sqlite3 DBAPI2 connection. Other DBAPI2 objects are not tested. Please consider using SQLAlchemy.\n",
            "  df = pd.read_sql_query(query_3_1, connection)\n"
          ]
        },
        {
          "data": {
            "text/html": [
              "<div>\n",
              "<style scoped>\n",
              "    .dataframe tbody tr th:only-of-type {\n",
              "        vertical-align: middle;\n",
              "    }\n",
              "\n",
              "    .dataframe tbody tr th {\n",
              "        vertical-align: top;\n",
              "    }\n",
              "\n",
              "    .dataframe thead th {\n",
              "        text-align: right;\n",
              "    }\n",
              "</style>\n",
              "<table border=\"1\" class=\"dataframe\">\n",
              "  <thead>\n",
              "    <tr style=\"text-align: right;\">\n",
              "      <th></th>\n",
              "      <th>count</th>\n",
              "    </tr>\n",
              "  </thead>\n",
              "  <tbody>\n",
              "    <tr>\n",
              "      <th>0</th>\n",
              "      <td>49197</td>\n",
              "    </tr>\n",
              "  </tbody>\n",
              "</table>\n",
              "</div>"
            ],
            "text/plain": [
              "   count\n",
              "0  49197"
            ]
          },
          "execution_count": 5,
          "metadata": {},
          "output_type": "execute_result"
        }
      ],
      "source": [
        "# результат запроса\n",
        "df = pd.read_sql_query(query_3_1, connection)\n",
        "df"
      ]
    },
    {
      "cell_type": "markdown",
      "id": "b583485d-1f9e-494e-ada4-80ffff7c53d6",
      "metadata": {
        "id": "b583485d-1f9e-494e-ada4-80ffff7c53d6"
      },
      "source": [
        "2. Напишите запрос, который посчитает количество работодателей (таблица employers). "
      ]
    },
    {
      "cell_type": "code",
      "execution_count": 6,
      "id": "5408c52c-3407-4a63-b25b-1aafa2322d28",
      "metadata": {
        "id": "5408c52c-3407-4a63-b25b-1aafa2322d28"
      },
      "outputs": [],
      "source": [
        "# текст запроса\n",
        "query_3_2 = f'''\n",
        "select\n",
        "   count(id)\n",
        "from public.EMPLOYERS\n",
        "'''"
      ]
    },
    {
      "cell_type": "code",
      "execution_count": 7,
      "id": "jVL4eshKhdqc",
      "metadata": {
        "id": "jVL4eshKhdqc"
      },
      "outputs": [
        {
          "name": "stderr",
          "output_type": "stream",
          "text": [
            "C:\\Users\\Георгий\\AppData\\Local\\Temp\\ipykernel_11268\\3062646138.py:2: UserWarning: pandas only supports SQLAlchemy connectable (engine/connection) or database string URI or sqlite3 DBAPI2 connection. Other DBAPI2 objects are not tested. Please consider using SQLAlchemy.\n",
            "  df = pd.read_sql_query(query_3_2, connection)\n"
          ]
        },
        {
          "data": {
            "text/html": [
              "<div>\n",
              "<style scoped>\n",
              "    .dataframe tbody tr th:only-of-type {\n",
              "        vertical-align: middle;\n",
              "    }\n",
              "\n",
              "    .dataframe tbody tr th {\n",
              "        vertical-align: top;\n",
              "    }\n",
              "\n",
              "    .dataframe thead th {\n",
              "        text-align: right;\n",
              "    }\n",
              "</style>\n",
              "<table border=\"1\" class=\"dataframe\">\n",
              "  <thead>\n",
              "    <tr style=\"text-align: right;\">\n",
              "      <th></th>\n",
              "      <th>count</th>\n",
              "    </tr>\n",
              "  </thead>\n",
              "  <tbody>\n",
              "    <tr>\n",
              "      <th>0</th>\n",
              "      <td>23501</td>\n",
              "    </tr>\n",
              "  </tbody>\n",
              "</table>\n",
              "</div>"
            ],
            "text/plain": [
              "   count\n",
              "0  23501"
            ]
          },
          "execution_count": 7,
          "metadata": {},
          "output_type": "execute_result"
        }
      ],
      "source": [
        "# результат запроса\n",
        "df = pd.read_sql_query(query_3_2, connection)\n",
        "df"
      ]
    },
    {
      "cell_type": "markdown",
      "id": "a2bfff1f-c975-4bf6-84be-2185d79dcb76",
      "metadata": {
        "id": "a2bfff1f-c975-4bf6-84be-2185d79dcb76"
      },
      "source": [
        "3. Посчитате с помощью запроса количество регионов (таблица areas)."
      ]
    },
    {
      "cell_type": "code",
      "execution_count": 8,
      "id": "1m8QJwBYhey6",
      "metadata": {
        "id": "1m8QJwBYhey6"
      },
      "outputs": [],
      "source": [
        "# текст запроса\n",
        "query_3_3 = f'''\n",
        "select\n",
        "   count(id)\n",
        "from public.areas\n",
        "'''"
      ]
    },
    {
      "cell_type": "code",
      "execution_count": 9,
      "id": "EZsn9tlfhe7f",
      "metadata": {
        "id": "EZsn9tlfhe7f"
      },
      "outputs": [
        {
          "name": "stderr",
          "output_type": "stream",
          "text": [
            "C:\\Users\\Георгий\\AppData\\Local\\Temp\\ipykernel_11268\\928149064.py:2: UserWarning: pandas only supports SQLAlchemy connectable (engine/connection) or database string URI or sqlite3 DBAPI2 connection. Other DBAPI2 objects are not tested. Please consider using SQLAlchemy.\n",
            "  df = pd.read_sql_query(query_3_3, connection)\n"
          ]
        },
        {
          "data": {
            "text/html": [
              "<div>\n",
              "<style scoped>\n",
              "    .dataframe tbody tr th:only-of-type {\n",
              "        vertical-align: middle;\n",
              "    }\n",
              "\n",
              "    .dataframe tbody tr th {\n",
              "        vertical-align: top;\n",
              "    }\n",
              "\n",
              "    .dataframe thead th {\n",
              "        text-align: right;\n",
              "    }\n",
              "</style>\n",
              "<table border=\"1\" class=\"dataframe\">\n",
              "  <thead>\n",
              "    <tr style=\"text-align: right;\">\n",
              "      <th></th>\n",
              "      <th>count</th>\n",
              "    </tr>\n",
              "  </thead>\n",
              "  <tbody>\n",
              "    <tr>\n",
              "      <th>0</th>\n",
              "      <td>1362</td>\n",
              "    </tr>\n",
              "  </tbody>\n",
              "</table>\n",
              "</div>"
            ],
            "text/plain": [
              "   count\n",
              "0   1362"
            ]
          },
          "execution_count": 9,
          "metadata": {},
          "output_type": "execute_result"
        }
      ],
      "source": [
        "# результат запроса\n",
        "df = pd.read_sql_query(query_3_3, connection)\n",
        "df"
      ]
    },
    {
      "cell_type": "markdown",
      "id": "41bb59f3-53cc-4a67-a5bc-bedf573955e4",
      "metadata": {
        "id": "41bb59f3-53cc-4a67-a5bc-bedf573955e4"
      },
      "source": [
        "4. Посчитате с помощью запроса количество сфер деятельности в базе (таблица industries)."
      ]
    },
    {
      "cell_type": "code",
      "execution_count": 10,
      "id": "d286cf4c-707b-4cd2-9190-7ab3587d04a1",
      "metadata": {
        "id": "d286cf4c-707b-4cd2-9190-7ab3587d04a1"
      },
      "outputs": [],
      "source": [
        "# текст запроса\n",
        "query_3_4 = f'''\n",
        "select\n",
        "   count(id)\n",
        "from public.industries\n",
        "'''"
      ]
    },
    {
      "cell_type": "code",
      "execution_count": 11,
      "id": "JYAaoZ4qhfzW",
      "metadata": {
        "id": "JYAaoZ4qhfzW"
      },
      "outputs": [
        {
          "name": "stderr",
          "output_type": "stream",
          "text": [
            "C:\\Users\\Георгий\\AppData\\Local\\Temp\\ipykernel_11268\\2101691108.py:2: UserWarning: pandas only supports SQLAlchemy connectable (engine/connection) or database string URI or sqlite3 DBAPI2 connection. Other DBAPI2 objects are not tested. Please consider using SQLAlchemy.\n",
            "  df = pd.read_sql_query(query_3_4, connection)\n"
          ]
        },
        {
          "data": {
            "text/html": [
              "<div>\n",
              "<style scoped>\n",
              "    .dataframe tbody tr th:only-of-type {\n",
              "        vertical-align: middle;\n",
              "    }\n",
              "\n",
              "    .dataframe tbody tr th {\n",
              "        vertical-align: top;\n",
              "    }\n",
              "\n",
              "    .dataframe thead th {\n",
              "        text-align: right;\n",
              "    }\n",
              "</style>\n",
              "<table border=\"1\" class=\"dataframe\">\n",
              "  <thead>\n",
              "    <tr style=\"text-align: right;\">\n",
              "      <th></th>\n",
              "      <th>count</th>\n",
              "    </tr>\n",
              "  </thead>\n",
              "  <tbody>\n",
              "    <tr>\n",
              "      <th>0</th>\n",
              "      <td>294</td>\n",
              "    </tr>\n",
              "  </tbody>\n",
              "</table>\n",
              "</div>"
            ],
            "text/plain": [
              "   count\n",
              "0    294"
            ]
          },
          "execution_count": 11,
          "metadata": {},
          "output_type": "execute_result"
        }
      ],
      "source": [
        "# результат запроса\n",
        "df = pd.read_sql_query(query_3_4, connection)\n",
        "df"
      ]
    },
    {
      "cell_type": "markdown",
      "id": "9a8a2181-6914-448b-85f1-38f5f18b8a93",
      "metadata": {
        "id": "9a8a2181-6914-448b-85f1-38f5f18b8a93"
      },
      "source": [
        "***"
      ]
    },
    {
      "cell_type": "markdown",
      "id": "bfce1cff",
      "metadata": {},
      "source": [
        "### выводы по предварительному анализу данных\n",
        "\n",
        "В рамках проекта представлено 4 уникальные таблицы: \n",
        "* Vacancies - данные с вакансиями, содержат 49197 строк;\n",
        "* Areas - справочник с регионами, содержат 1362 строк;\n",
        "* Employers - справчник с наименованием работадателей, содержат 23501 строк;\n",
        "* Industries - справчник со сферами деятельности, содержат 294 строк. "
      ]
    },
    {
      "cell_type": "markdown",
      "id": "8d62a9f3-f64e-4fe7-bdac-c4dffa16155e",
      "metadata": {
        "id": "8d62a9f3-f64e-4fe7-bdac-c4dffa16155e"
      },
      "source": [
        "# Юнит 4. Детальный анализ вакансий"
      ]
    },
    {
      "cell_type": "markdown",
      "id": "93053d3d-b284-481a-9cf7-012d7014c0e0",
      "metadata": {
        "id": "93053d3d-b284-481a-9cf7-012d7014c0e0"
      },
      "source": [
        "1. Напишите запрос, который позволит узнать, сколько (cnt) вакансий в каждом регионе (area).\n",
        "Отсортируйте по количеству вакансий в порядке убывания."
      ]
    },
    {
      "cell_type": "code",
      "execution_count": 12,
      "id": "3f069da6-fdc9-4ae7-b514-fafe2675efd3",
      "metadata": {
        "id": "3f069da6-fdc9-4ae7-b514-fafe2675efd3"
      },
      "outputs": [],
      "source": [
        "# текст запроса\n",
        "query_4_1 = f'''\n",
        "SELECT \n",
        "    a.name area, \n",
        "    COUNT(*) cnt\n",
        "FROM areas a\n",
        "    JOIN VACANCIES v on a.id = v.area_id \n",
        "GROUP BY 1\n",
        "ORDER BY 2 DESC\n",
        "LIMIT 5\n",
        "'''"
      ]
    },
    {
      "cell_type": "code",
      "execution_count": 13,
      "id": "P7QL86hrjhRJ",
      "metadata": {
        "id": "P7QL86hrjhRJ"
      },
      "outputs": [
        {
          "name": "stderr",
          "output_type": "stream",
          "text": [
            "C:\\Users\\Георгий\\AppData\\Local\\Temp\\ipykernel_11268\\2457173557.py:2: UserWarning: pandas only supports SQLAlchemy connectable (engine/connection) or database string URI or sqlite3 DBAPI2 connection. Other DBAPI2 objects are not tested. Please consider using SQLAlchemy.\n",
            "  df = pd.read_sql_query(query_4_1, connection)\n"
          ]
        },
        {
          "data": {
            "text/html": [
              "<div>\n",
              "<style scoped>\n",
              "    .dataframe tbody tr th:only-of-type {\n",
              "        vertical-align: middle;\n",
              "    }\n",
              "\n",
              "    .dataframe tbody tr th {\n",
              "        vertical-align: top;\n",
              "    }\n",
              "\n",
              "    .dataframe thead th {\n",
              "        text-align: right;\n",
              "    }\n",
              "</style>\n",
              "<table border=\"1\" class=\"dataframe\">\n",
              "  <thead>\n",
              "    <tr style=\"text-align: right;\">\n",
              "      <th></th>\n",
              "      <th>area</th>\n",
              "      <th>cnt</th>\n",
              "    </tr>\n",
              "  </thead>\n",
              "  <tbody>\n",
              "    <tr>\n",
              "      <th>0</th>\n",
              "      <td>Москва</td>\n",
              "      <td>5333</td>\n",
              "    </tr>\n",
              "    <tr>\n",
              "      <th>1</th>\n",
              "      <td>Санкт-Петербург</td>\n",
              "      <td>2851</td>\n",
              "    </tr>\n",
              "    <tr>\n",
              "      <th>2</th>\n",
              "      <td>Минск</td>\n",
              "      <td>2112</td>\n",
              "    </tr>\n",
              "    <tr>\n",
              "      <th>3</th>\n",
              "      <td>Новосибирск</td>\n",
              "      <td>2006</td>\n",
              "    </tr>\n",
              "    <tr>\n",
              "      <th>4</th>\n",
              "      <td>Алматы</td>\n",
              "      <td>1892</td>\n",
              "    </tr>\n",
              "  </tbody>\n",
              "</table>\n",
              "</div>"
            ],
            "text/plain": [
              "              area   cnt\n",
              "0           Москва  5333\n",
              "1  Санкт-Петербург  2851\n",
              "2            Минск  2112\n",
              "3      Новосибирск  2006\n",
              "4           Алматы  1892"
            ]
          },
          "execution_count": 13,
          "metadata": {},
          "output_type": "execute_result"
        }
      ],
      "source": [
        "# результат запроса\n",
        "df = pd.read_sql_query(query_4_1, connection)\n",
        "df"
      ]
    },
    {
      "cell_type": "markdown",
      "id": "4266f0b6-1646-492a-88b4-2f6a46502135",
      "metadata": {
        "id": "4266f0b6-1646-492a-88b4-2f6a46502135"
      },
      "source": [
        "2. Напишите запрос, чтобы определить у какого количества вакансий заполнено хотя бы одно из двух полей с зарплатой."
      ]
    },
    {
      "cell_type": "code",
      "execution_count": 14,
      "id": "0c44b350-72eb-4d65-8b54-a1fc449ba9fd",
      "metadata": {
        "id": "0c44b350-72eb-4d65-8b54-a1fc449ba9fd"
      },
      "outputs": [],
      "source": [
        "# текст запроса\n",
        "query_4_2 = f'''\n",
        "select\n",
        "    count(*)\n",
        "from vacancies\n",
        "where salary_from is not null\n",
        "    or salary_to is not null\n",
        "'''"
      ]
    },
    {
      "cell_type": "code",
      "execution_count": 15,
      "id": "rhvwaMDkoWTi",
      "metadata": {
        "id": "rhvwaMDkoWTi"
      },
      "outputs": [
        {
          "name": "stderr",
          "output_type": "stream",
          "text": [
            "C:\\Users\\Георгий\\AppData\\Local\\Temp\\ipykernel_11268\\970655580.py:2: UserWarning: pandas only supports SQLAlchemy connectable (engine/connection) or database string URI or sqlite3 DBAPI2 connection. Other DBAPI2 objects are not tested. Please consider using SQLAlchemy.\n",
            "  df = pd.read_sql_query(query_4_2, connection)\n"
          ]
        },
        {
          "data": {
            "text/html": [
              "<div>\n",
              "<style scoped>\n",
              "    .dataframe tbody tr th:only-of-type {\n",
              "        vertical-align: middle;\n",
              "    }\n",
              "\n",
              "    .dataframe tbody tr th {\n",
              "        vertical-align: top;\n",
              "    }\n",
              "\n",
              "    .dataframe thead th {\n",
              "        text-align: right;\n",
              "    }\n",
              "</style>\n",
              "<table border=\"1\" class=\"dataframe\">\n",
              "  <thead>\n",
              "    <tr style=\"text-align: right;\">\n",
              "      <th></th>\n",
              "      <th>count</th>\n",
              "    </tr>\n",
              "  </thead>\n",
              "  <tbody>\n",
              "    <tr>\n",
              "      <th>0</th>\n",
              "      <td>24073</td>\n",
              "    </tr>\n",
              "  </tbody>\n",
              "</table>\n",
              "</div>"
            ],
            "text/plain": [
              "   count\n",
              "0  24073"
            ]
          },
          "execution_count": 15,
          "metadata": {},
          "output_type": "execute_result"
        }
      ],
      "source": [
        "# результат запроса\n",
        "df = pd.read_sql_query(query_4_2, connection)\n",
        "df"
      ]
    },
    {
      "cell_type": "markdown",
      "id": "635c4d5d-f323-4c66-b428-50a088120aa0",
      "metadata": {
        "id": "635c4d5d-f323-4c66-b428-50a088120aa0"
      },
      "source": [
        "3. Найдите средние значения для нижней и верхней границы зарплатной вилки. Округлите значения до целого."
      ]
    },
    {
      "cell_type": "code",
      "execution_count": 16,
      "id": "603cdbe4-0ec3-4106-8eaf-c73fcdd29165",
      "metadata": {
        "id": "603cdbe4-0ec3-4106-8eaf-c73fcdd29165"
      },
      "outputs": [],
      "source": [
        "# текст запроса\n",
        "query_4_3 = f'''\n",
        "select\n",
        "    round(avg(salary_from), 0) avg_from,\n",
        "    round(avg(salary_to), 0) avg_to\n",
        "from vacancies\n",
        "'''"
      ]
    },
    {
      "cell_type": "code",
      "execution_count": 17,
      "id": "pswpAb66ovZZ",
      "metadata": {
        "id": "pswpAb66ovZZ"
      },
      "outputs": [
        {
          "name": "stderr",
          "output_type": "stream",
          "text": [
            "C:\\Users\\Георгий\\AppData\\Local\\Temp\\ipykernel_11268\\2500607024.py:2: UserWarning: pandas only supports SQLAlchemy connectable (engine/connection) or database string URI or sqlite3 DBAPI2 connection. Other DBAPI2 objects are not tested. Please consider using SQLAlchemy.\n",
            "  df = pd.read_sql_query(query_4_3, connection)\n"
          ]
        },
        {
          "data": {
            "text/html": [
              "<div>\n",
              "<style scoped>\n",
              "    .dataframe tbody tr th:only-of-type {\n",
              "        vertical-align: middle;\n",
              "    }\n",
              "\n",
              "    .dataframe tbody tr th {\n",
              "        vertical-align: top;\n",
              "    }\n",
              "\n",
              "    .dataframe thead th {\n",
              "        text-align: right;\n",
              "    }\n",
              "</style>\n",
              "<table border=\"1\" class=\"dataframe\">\n",
              "  <thead>\n",
              "    <tr style=\"text-align: right;\">\n",
              "      <th></th>\n",
              "      <th>avg_from</th>\n",
              "      <th>avg_to</th>\n",
              "    </tr>\n",
              "  </thead>\n",
              "  <tbody>\n",
              "    <tr>\n",
              "      <th>0</th>\n",
              "      <td>71065.0</td>\n",
              "      <td>110537.0</td>\n",
              "    </tr>\n",
              "  </tbody>\n",
              "</table>\n",
              "</div>"
            ],
            "text/plain": [
              "   avg_from    avg_to\n",
              "0   71065.0  110537.0"
            ]
          },
          "execution_count": 17,
          "metadata": {},
          "output_type": "execute_result"
        }
      ],
      "source": [
        "# результат запроса\n",
        "df = pd.read_sql_query(query_4_3, connection)\n",
        "df"
      ]
    },
    {
      "cell_type": "markdown",
      "id": "f3fdaec9-5fd3-4260-9cf5-1d7406b628a5",
      "metadata": {
        "id": "f3fdaec9-5fd3-4260-9cf5-1d7406b628a5"
      },
      "source": [
        "4. Напишите запрос, который выведет количество вакансий для каждого сочетания типа рабочего графика (schedule) и типа трудоустройства (employment), используемого в вакансиях. Результат отсортируйте по убыванию количества.\n"
      ]
    },
    {
      "cell_type": "code",
      "execution_count": 18,
      "id": "1ea710ec-871b-431e-9462-c7d0fd87011b",
      "metadata": {
        "id": "1ea710ec-871b-431e-9462-c7d0fd87011b"
      },
      "outputs": [],
      "source": [
        "# текст запроса\n",
        "query_4_4 = f'''\n",
        "select\n",
        "   schedule,\n",
        "   employment,\n",
        "   count(*) cnt\n",
        "from vacancies\n",
        "group by 1, 2\n",
        "order by 3 desc\n",
        "offset 1 limit 1\n",
        "'''"
      ]
    },
    {
      "cell_type": "code",
      "execution_count": 19,
      "id": "lGUVqavdo4JQ",
      "metadata": {
        "id": "lGUVqavdo4JQ"
      },
      "outputs": [
        {
          "name": "stderr",
          "output_type": "stream",
          "text": [
            "C:\\Users\\Георгий\\AppData\\Local\\Temp\\ipykernel_11268\\2022935265.py:2: UserWarning: pandas only supports SQLAlchemy connectable (engine/connection) or database string URI or sqlite3 DBAPI2 connection. Other DBAPI2 objects are not tested. Please consider using SQLAlchemy.\n",
            "  df = pd.read_sql_query(query_4_4, connection)\n"
          ]
        },
        {
          "data": {
            "text/html": [
              "<div>\n",
              "<style scoped>\n",
              "    .dataframe tbody tr th:only-of-type {\n",
              "        vertical-align: middle;\n",
              "    }\n",
              "\n",
              "    .dataframe tbody tr th {\n",
              "        vertical-align: top;\n",
              "    }\n",
              "\n",
              "    .dataframe thead th {\n",
              "        text-align: right;\n",
              "    }\n",
              "</style>\n",
              "<table border=\"1\" class=\"dataframe\">\n",
              "  <thead>\n",
              "    <tr style=\"text-align: right;\">\n",
              "      <th></th>\n",
              "      <th>schedule</th>\n",
              "      <th>employment</th>\n",
              "      <th>cnt</th>\n",
              "    </tr>\n",
              "  </thead>\n",
              "  <tbody>\n",
              "    <tr>\n",
              "      <th>0</th>\n",
              "      <td>Удаленная работа</td>\n",
              "      <td>Полная занятость</td>\n",
              "      <td>7802</td>\n",
              "    </tr>\n",
              "  </tbody>\n",
              "</table>\n",
              "</div>"
            ],
            "text/plain": [
              "           schedule        employment   cnt\n",
              "0  Удаленная работа  Полная занятость  7802"
            ]
          },
          "execution_count": 19,
          "metadata": {},
          "output_type": "execute_result"
        }
      ],
      "source": [
        "# результат запроса\n",
        "df = pd.read_sql_query(query_4_4, connection)\n",
        "df"
      ]
    },
    {
      "cell_type": "markdown",
      "id": "0136ffee-0ead-4a6b-b608-61d1c753a438",
      "metadata": {
        "id": "0136ffee-0ead-4a6b-b608-61d1c753a438"
      },
      "source": [
        "5. Напишите запрос, выводящий значения поля Требуемый опыт работы (experience) в порядке возрастания количества вакансий, в которых указан данный вариант опыта. "
      ]
    },
    {
      "cell_type": "code",
      "execution_count": 20,
      "id": "5b3a8e79-f7ab-4008-b767-12aea3a205ea",
      "metadata": {
        "id": "5b3a8e79-f7ab-4008-b767-12aea3a205ea"
      },
      "outputs": [],
      "source": [
        "# текст запроса\n",
        "query_4_5 = f'''\n",
        "select\n",
        "   experience as \"Требуемый опыт работы\",\n",
        "   count(*) cnt\n",
        "from vacancies\n",
        "group by 1\n",
        "order by 2\n",
        "'''"
      ]
    },
    {
      "cell_type": "code",
      "execution_count": 21,
      "id": "3Is64Y-hpDpq",
      "metadata": {
        "id": "3Is64Y-hpDpq"
      },
      "outputs": [
        {
          "name": "stderr",
          "output_type": "stream",
          "text": [
            "C:\\Users\\Георгий\\AppData\\Local\\Temp\\ipykernel_11268\\2316260449.py:2: UserWarning: pandas only supports SQLAlchemy connectable (engine/connection) or database string URI or sqlite3 DBAPI2 connection. Other DBAPI2 objects are not tested. Please consider using SQLAlchemy.\n",
            "  df = pd.read_sql_query(query_4_5, connection)\n"
          ]
        },
        {
          "data": {
            "text/html": [
              "<div>\n",
              "<style scoped>\n",
              "    .dataframe tbody tr th:only-of-type {\n",
              "        vertical-align: middle;\n",
              "    }\n",
              "\n",
              "    .dataframe tbody tr th {\n",
              "        vertical-align: top;\n",
              "    }\n",
              "\n",
              "    .dataframe thead th {\n",
              "        text-align: right;\n",
              "    }\n",
              "</style>\n",
              "<table border=\"1\" class=\"dataframe\">\n",
              "  <thead>\n",
              "    <tr style=\"text-align: right;\">\n",
              "      <th></th>\n",
              "      <th>Требуемый опыт работы</th>\n",
              "      <th>cnt</th>\n",
              "    </tr>\n",
              "  </thead>\n",
              "  <tbody>\n",
              "    <tr>\n",
              "      <th>0</th>\n",
              "      <td>Более 6 лет</td>\n",
              "      <td>1337</td>\n",
              "    </tr>\n",
              "    <tr>\n",
              "      <th>1</th>\n",
              "      <td>Нет опыта</td>\n",
              "      <td>7197</td>\n",
              "    </tr>\n",
              "    <tr>\n",
              "      <th>2</th>\n",
              "      <td>От 3 до 6 лет</td>\n",
              "      <td>14511</td>\n",
              "    </tr>\n",
              "    <tr>\n",
              "      <th>3</th>\n",
              "      <td>От 1 года до 3 лет</td>\n",
              "      <td>26152</td>\n",
              "    </tr>\n",
              "  </tbody>\n",
              "</table>\n",
              "</div>"
            ],
            "text/plain": [
              "  Требуемый опыт работы    cnt\n",
              "0           Более 6 лет   1337\n",
              "1             Нет опыта   7197\n",
              "2         От 3 до 6 лет  14511\n",
              "3    От 1 года до 3 лет  26152"
            ]
          },
          "execution_count": 21,
          "metadata": {},
          "output_type": "execute_result"
        }
      ],
      "source": [
        "# результат запроса\n",
        "df = pd.read_sql_query(query_4_5, connection)\n",
        "df"
      ]
    },
    {
      "cell_type": "markdown",
      "id": "oq2b7n1QpIka",
      "metadata": {
        "id": "oq2b7n1QpIka"
      },
      "source": [
        "***"
      ]
    },
    {
      "cell_type": "markdown",
      "id": "e2f3b2a1",
      "metadata": {},
      "source": [
        "## выводы по детальному анализу вакансий\n",
        "\n",
        "После получения первичных данных с первого блока, переходим к анализу вакансий. \n",
        "\n",
        "* В первом задании определили количество вакансий в каждом регионе и как ожидалось, чем больше регион по численностью проживающих людей, тем больше вакансий размещено. Соответственно  на первом месте это Москва (5333 вакансий), следующим стал Санкт-Петербург (2851) и далее города идут по убыванию;\n",
        "* Во-втором задании определили количество вакансий с представленной вилкой по зарплате либо по верхнему пределу, либо по нижнему пределу, или наличие двух вилок одновременно. Данный показатель составляет 24073 вакансии. Если вспомнить, что всего вакансий 49197, то не трудно заменить, что только половину вакансий имеют вилку. Соответственно вакансий с пустыми вилками составляет (49197-24073) 25124. Честно говоря, мне казалось, что пустых вилок будет намного больше. Бытует мнение, что это делается для того, чтобы при собеседовании с кандидатом тот сам озвучивал желаемую зарплату и если озвученная зарплата будет выше той суммы, что заложена в штатном расписание, кандидату просто вежливо об этом скажут, а если кандидат назовет предпочитаемую зарплату меньше, чем указанная в штатном расписание, то компания скорей всего согласиться на эти условия так как она потенциально сэкономит на человеке. Этот трюк делается лишь потому, что ФОТ составляет большую или одну из больших статей затрат в любой организации;\n",
        "*   В-третьем задании мы выявили средние показатели вилок по зарплате нижнего предела (71065 руб.) и верхнего предела (110537 руб.) Эти показатели дают представление о потенциальных возможностях для соискателей. Но, сам подход вывода среднего показателя кажется немного сомнительным, потому что:\n",
        "    1. Согласно вводным данным все зарплаты переведены в рубли - следовательно курс валют на момент перевода мог оказаться выбросом. Так как нет даты, на какое число представлен датасет;\n",
        "    2. Количество выложенных вакансий в городах с проживающим большем количеством людей больше, чем в городах с меньшим количеством людей, от сюда следует, что из-за конкуренции в мегаполисе по типу Москва и Санкт-Петербург нижний предел зарплат высокий, а при анализе среднего показателя по всем вакансиям среднее число размывается;\n",
        "    3. Сомнительное число верхнего предела 110537 руб. Данное сомнение заключается в следующем:\n",
        "        * Все мы понимаем, что на ответственные руководящие должности приглашаются в основном по знакомству и их зарплаты обсуждаются за закрытыми дверями, поэтому таких вакансий не встретить на портале HH.RU;\n",
        "        * В заключение данного пункта, хочется подчеркнуть, что выявленный расчет условный и на него нельзя оперироваться, без предварительной обработки вакансий, далее для более четкого представления необходимо добавлять градации по регионам и еще по направлениям, так как одна должность ценится больше по отношению к другой должности. \n",
        "* В-четвертом задании было выявлено количество вакансий для типа работы и способа работы. Данный показатель является полным и его можно брать за основу при анализе вакансий. Расчет имеет глубинное представление, для примера привожу три первых значений по количеству выложенных вакансий. На первой строке это полный день и полная занятость имеет 35367 вакансий, на второй строке удаленная работа и полный день имеет 7802 вакансии и на третьей строке гибкий график и полная занятость имеет 1593 вакансий. Из этих трех представленных строк можно четко отследить тенденцию в датасете, так основную часть вакансий имеет традиционный способ работы, но с развитием интернет-технологий начинает увеличиваться количество вакансий на удаленном формате работы. Удаленный формат работы будет и дальше развиваться, так как данный формат потенциально может экономить организации деньги на содержание сотрудников в офисе. Третью и остальные строки составляют только (49197-35367-7802) 6028 вакансий. Почему так? Все дело в том, что портал HH.RU больше акцентирован на поиск среднего класса сотрудников, так как такие должности как разнорабочие и грузчики в большей своей массе не пользуется данным порталом, а высшее руководство как было подчеркнуто выше набираются по знакомству и рекомендациям;\n",
        "* В-пятом задании было рассчитано количество выложенных вакансий по требуемому опыту. Полученные данные является весьма закономерны и нормальные. Так, например, 26152 вакансий имеют тип требуемого опыта \"От 1 года до 3 лет\", это говорит о том, что чуть больше половины от всех вакансий требуется не большой опыт, скорей всего это связано с тем, что у линейных руководителей бывают несколько штатных сотрудников. Второй тип требуемого опыта \"От 3 до 6 лет\", что составляет 14511 вакансий следуя моей логике, это скорее уже как раз вакансии линейных руководителей. Третий тип \"Нет опыта\" и 7197 вакансий, данный тип встречается во всех должностях без исключения, так как это один из способов привлечь людей. Ну и последний тип \"Более 6 лет\", что составляет 1337 вакансий и тут могут быть как руководители организации, так и суперквалифицированные, но при этом узконаправленные специалисты. \n",
        "\n",
        ">* Проведенный детальный анализ данных позволяет понять основные тенденции на рынке труда, но требует дополнительных исследований и обработки данных для получения более точных и релевантных результатов. Также важно учитывать, что различные регионы и сферы деятельности могут иметь существенные отличия, которые необходимо учитывать при анализе. Переходим к следующему разделу посвященный анализу работодателей. "
      ]
    },
    {
      "cell_type": "markdown",
      "id": "7ea20ab6-04a7-40a0-adec-443a0e5a42c3",
      "metadata": {
        "id": "7ea20ab6-04a7-40a0-adec-443a0e5a42c3"
      },
      "source": [
        "# Юнит 5. Анализ работодателей"
      ]
    },
    {
      "cell_type": "markdown",
      "id": "968aed80-74ef-4ffb-b5bf-c65b84e9caea",
      "metadata": {
        "id": "968aed80-74ef-4ffb-b5bf-c65b84e9caea"
      },
      "source": [
        "1. Напишите запрос, который позволит узнать, какие работодатели находятся на первом и пятом месте по количеству вакансий."
      ]
    },
    {
      "cell_type": "code",
      "execution_count": 22,
      "id": "f2d62796-d400-4ec1-a675-88112739a50e",
      "metadata": {
        "id": "f2d62796-d400-4ec1-a675-88112739a50e"
      },
      "outputs": [],
      "source": [
        "# текст запроса\n",
        "query_5_1 = f'''\n",
        "select\n",
        "   e.name,\n",
        "   count(*)\n",
        "from vacancies v\n",
        "   join employers e on v.employer_id = e.id \n",
        "group by 1 \n",
        "order by 2 desc\n",
        "limit 5\n",
        "'''"
      ]
    },
    {
      "cell_type": "code",
      "execution_count": 23,
      "id": "64tOMkAxqkQk",
      "metadata": {
        "id": "64tOMkAxqkQk"
      },
      "outputs": [
        {
          "name": "stderr",
          "output_type": "stream",
          "text": [
            "C:\\Users\\Георгий\\AppData\\Local\\Temp\\ipykernel_11268\\3834399874.py:2: UserWarning: pandas only supports SQLAlchemy connectable (engine/connection) or database string URI or sqlite3 DBAPI2 connection. Other DBAPI2 objects are not tested. Please consider using SQLAlchemy.\n",
            "  df = pd.read_sql_query(query_5_1, connection)\n"
          ]
        },
        {
          "data": {
            "text/html": [
              "<div>\n",
              "<style scoped>\n",
              "    .dataframe tbody tr th:only-of-type {\n",
              "        vertical-align: middle;\n",
              "    }\n",
              "\n",
              "    .dataframe tbody tr th {\n",
              "        vertical-align: top;\n",
              "    }\n",
              "\n",
              "    .dataframe thead th {\n",
              "        text-align: right;\n",
              "    }\n",
              "</style>\n",
              "<table border=\"1\" class=\"dataframe\">\n",
              "  <thead>\n",
              "    <tr style=\"text-align: right;\">\n",
              "      <th></th>\n",
              "      <th>name</th>\n",
              "      <th>count</th>\n",
              "    </tr>\n",
              "  </thead>\n",
              "  <tbody>\n",
              "    <tr>\n",
              "      <th>0</th>\n",
              "      <td>Яндекс</td>\n",
              "      <td>1933</td>\n",
              "    </tr>\n",
              "    <tr>\n",
              "      <th>1</th>\n",
              "      <td>Ростелеком</td>\n",
              "      <td>491</td>\n",
              "    </tr>\n",
              "    <tr>\n",
              "      <th>2</th>\n",
              "      <td>Тинькофф</td>\n",
              "      <td>444</td>\n",
              "    </tr>\n",
              "    <tr>\n",
              "      <th>3</th>\n",
              "      <td>СБЕР</td>\n",
              "      <td>428</td>\n",
              "    </tr>\n",
              "    <tr>\n",
              "      <th>4</th>\n",
              "      <td>Газпром нефть</td>\n",
              "      <td>331</td>\n",
              "    </tr>\n",
              "  </tbody>\n",
              "</table>\n",
              "</div>"
            ],
            "text/plain": [
              "            name  count\n",
              "0         Яндекс   1933\n",
              "1     Ростелеком    491\n",
              "2       Тинькофф    444\n",
              "3           СБЕР    428\n",
              "4  Газпром нефть    331"
            ]
          },
          "execution_count": 23,
          "metadata": {},
          "output_type": "execute_result"
        }
      ],
      "source": [
        "# результат запроса\n",
        "df = pd.read_sql_query(query_5_1, connection)\n",
        "df"
      ]
    },
    {
      "cell_type": "markdown",
      "id": "68377cfc-b378-43dc-ab7d-1195abf2c515",
      "metadata": {
        "id": "68377cfc-b378-43dc-ab7d-1195abf2c515"
      },
      "source": [
        "2. Напишите запрос, который для каждого региона выведет количество работодателей и вакансий в нём.\n",
        "Среди регионов, в которых нет вакансий, найдите тот, в котором наибольшее количество работодателей.\n"
      ]
    },
    {
      "cell_type": "code",
      "execution_count": 24,
      "id": "dd7df27a-e3e8-412e-a21a-5d389b71e891",
      "metadata": {
        "id": "dd7df27a-e3e8-412e-a21a-5d389b71e891"
      },
      "outputs": [],
      "source": [
        "# текст запроса\n",
        "query_5_2 = f'''\n",
        "SELECT \n",
        "    a.name city,\n",
        "    COUNT(DISTINCT e.id) empl_cnt,\n",
        "    COUNT(distinct v.id) vacan_cnt\n",
        "FROM areas a \n",
        "    LEFT JOIN employers e ON a.id = e.area\n",
        "    LEFT JOIN vacancies v ON a.id = v.area_id\n",
        "where v.id is null\n",
        "GROUP BY 1\n",
        "ORDER BY 2 DESC\n",
        "LIMIT 1 \n",
        "'''"
      ]
    },
    {
      "cell_type": "code",
      "execution_count": 25,
      "id": "x1ikWbydrbf6",
      "metadata": {
        "id": "x1ikWbydrbf6"
      },
      "outputs": [
        {
          "name": "stderr",
          "output_type": "stream",
          "text": [
            "C:\\Users\\Георгий\\AppData\\Local\\Temp\\ipykernel_11268\\2250345976.py:2: UserWarning: pandas only supports SQLAlchemy connectable (engine/connection) or database string URI or sqlite3 DBAPI2 connection. Other DBAPI2 objects are not tested. Please consider using SQLAlchemy.\n",
            "  df = pd.read_sql_query(query_5_2, connection)\n"
          ]
        },
        {
          "data": {
            "text/html": [
              "<div>\n",
              "<style scoped>\n",
              "    .dataframe tbody tr th:only-of-type {\n",
              "        vertical-align: middle;\n",
              "    }\n",
              "\n",
              "    .dataframe tbody tr th {\n",
              "        vertical-align: top;\n",
              "    }\n",
              "\n",
              "    .dataframe thead th {\n",
              "        text-align: right;\n",
              "    }\n",
              "</style>\n",
              "<table border=\"1\" class=\"dataframe\">\n",
              "  <thead>\n",
              "    <tr style=\"text-align: right;\">\n",
              "      <th></th>\n",
              "      <th>city</th>\n",
              "      <th>empl_cnt</th>\n",
              "      <th>vacan_cnt</th>\n",
              "    </tr>\n",
              "  </thead>\n",
              "  <tbody>\n",
              "    <tr>\n",
              "      <th>0</th>\n",
              "      <td>Россия</td>\n",
              "      <td>410</td>\n",
              "      <td>0</td>\n",
              "    </tr>\n",
              "  </tbody>\n",
              "</table>\n",
              "</div>"
            ],
            "text/plain": [
              "     city  empl_cnt  vacan_cnt\n",
              "0  Россия       410          0"
            ]
          },
          "execution_count": 25,
          "metadata": {},
          "output_type": "execute_result"
        }
      ],
      "source": [
        "# результат запроса\n",
        "df = pd.read_sql_query(query_5_2, connection)\n",
        "df"
      ]
    },
    {
      "cell_type": "markdown",
      "id": "f2fe0acb-ab1a-4e15-9326-2560e22d73c1",
      "metadata": {
        "id": "f2fe0acb-ab1a-4e15-9326-2560e22d73c1"
      },
      "source": [
        "3. Для каждого работодателя посчитайте количество регионов, в которых он публикует свои вакансии. Отсортируйте результат по убыванию количества.\n"
      ]
    },
    {
      "cell_type": "code",
      "execution_count": 26,
      "id": "6271f8ad-bd2e-4196-ae4a-5b39c4c1010e",
      "metadata": {
        "id": "6271f8ad-bd2e-4196-ae4a-5b39c4c1010e"
      },
      "outputs": [],
      "source": [
        "# текст запроса\n",
        "query_5_3 = f'''\n",
        "SELECT\n",
        "    e.name,\n",
        "    COUNT(DISTINCT v.area_id)\n",
        "FROM employers e\n",
        "    JOIN vacancies v on e.id = v.employer_id\n",
        "GROUP BY 1 \n",
        "ORDER BY 2 DESC\n",
        "LIMIT 1  \n",
        "'''"
      ]
    },
    {
      "cell_type": "code",
      "execution_count": 27,
      "id": "1EIvX3HasH4F",
      "metadata": {
        "id": "1EIvX3HasH4F"
      },
      "outputs": [
        {
          "name": "stderr",
          "output_type": "stream",
          "text": [
            "C:\\Users\\Георгий\\AppData\\Local\\Temp\\ipykernel_11268\\201667002.py:2: UserWarning: pandas only supports SQLAlchemy connectable (engine/connection) or database string URI or sqlite3 DBAPI2 connection. Other DBAPI2 objects are not tested. Please consider using SQLAlchemy.\n",
            "  df = pd.read_sql_query(query_5_3, connection)\n"
          ]
        },
        {
          "data": {
            "text/html": [
              "<div>\n",
              "<style scoped>\n",
              "    .dataframe tbody tr th:only-of-type {\n",
              "        vertical-align: middle;\n",
              "    }\n",
              "\n",
              "    .dataframe tbody tr th {\n",
              "        vertical-align: top;\n",
              "    }\n",
              "\n",
              "    .dataframe thead th {\n",
              "        text-align: right;\n",
              "    }\n",
              "</style>\n",
              "<table border=\"1\" class=\"dataframe\">\n",
              "  <thead>\n",
              "    <tr style=\"text-align: right;\">\n",
              "      <th></th>\n",
              "      <th>name</th>\n",
              "      <th>count</th>\n",
              "    </tr>\n",
              "  </thead>\n",
              "  <tbody>\n",
              "    <tr>\n",
              "      <th>0</th>\n",
              "      <td>Яндекс</td>\n",
              "      <td>181</td>\n",
              "    </tr>\n",
              "  </tbody>\n",
              "</table>\n",
              "</div>"
            ],
            "text/plain": [
              "     name  count\n",
              "0  Яндекс    181"
            ]
          },
          "execution_count": 27,
          "metadata": {},
          "output_type": "execute_result"
        }
      ],
      "source": [
        "# результат запроса\n",
        "df = pd.read_sql_query(query_5_3, connection)\n",
        "df"
      ]
    },
    {
      "cell_type": "markdown",
      "id": "eab2206d-d95b-468b-8e5f-34381abf0ce7",
      "metadata": {
        "id": "eab2206d-d95b-468b-8e5f-34381abf0ce7"
      },
      "source": [
        "4. Напишите запрос для подсчёта количества работодателей, у которых не указана сфера деятельности. "
      ]
    },
    {
      "cell_type": "code",
      "execution_count": 28,
      "id": "80defb23-bfb1-4a18-8be6-bf36aa7165d5",
      "metadata": {
        "id": "80defb23-bfb1-4a18-8be6-bf36aa7165d5"
      },
      "outputs": [],
      "source": [
        "# текст запроса\n",
        "query_5_4 = f'''\n",
        "select \n",
        "    count(*)\n",
        "from employers e\n",
        "    left join employers_industries ei on e.id = ei.employer_id\n",
        "where ei.industry_id is null \n",
        "'''"
      ]
    },
    {
      "cell_type": "code",
      "execution_count": 29,
      "id": "Dp_yCx6ysQSu",
      "metadata": {
        "id": "Dp_yCx6ysQSu"
      },
      "outputs": [
        {
          "name": "stderr",
          "output_type": "stream",
          "text": [
            "C:\\Users\\Георгий\\AppData\\Local\\Temp\\ipykernel_11268\\3493105328.py:2: UserWarning: pandas only supports SQLAlchemy connectable (engine/connection) or database string URI or sqlite3 DBAPI2 connection. Other DBAPI2 objects are not tested. Please consider using SQLAlchemy.\n",
            "  df = pd.read_sql_query(query_5_4, connection)\n"
          ]
        },
        {
          "data": {
            "text/html": [
              "<div>\n",
              "<style scoped>\n",
              "    .dataframe tbody tr th:only-of-type {\n",
              "        vertical-align: middle;\n",
              "    }\n",
              "\n",
              "    .dataframe tbody tr th {\n",
              "        vertical-align: top;\n",
              "    }\n",
              "\n",
              "    .dataframe thead th {\n",
              "        text-align: right;\n",
              "    }\n",
              "</style>\n",
              "<table border=\"1\" class=\"dataframe\">\n",
              "  <thead>\n",
              "    <tr style=\"text-align: right;\">\n",
              "      <th></th>\n",
              "      <th>count</th>\n",
              "    </tr>\n",
              "  </thead>\n",
              "  <tbody>\n",
              "    <tr>\n",
              "      <th>0</th>\n",
              "      <td>8419</td>\n",
              "    </tr>\n",
              "  </tbody>\n",
              "</table>\n",
              "</div>"
            ],
            "text/plain": [
              "   count\n",
              "0   8419"
            ]
          },
          "execution_count": 29,
          "metadata": {},
          "output_type": "execute_result"
        }
      ],
      "source": [
        "# результат запроса\n",
        "df = pd.read_sql_query(query_5_4, connection)\n",
        "df"
      ]
    },
    {
      "cell_type": "markdown",
      "id": "0112af31-f6b0-4e3b-82ab-71296e752e5e",
      "metadata": {
        "id": "0112af31-f6b0-4e3b-82ab-71296e752e5e"
      },
      "source": [
        "5. Напишите запрос, чтобы узнать название компании, находящейся на третьем месте в алфавитном списке (по названию) компаний, у которых указано четыре сферы деятельности. "
      ]
    },
    {
      "cell_type": "code",
      "execution_count": 30,
      "id": "973b0cfc-a972-470a-8b4a-68744ef220c4",
      "metadata": {
        "id": "973b0cfc-a972-470a-8b4a-68744ef220c4"
      },
      "outputs": [],
      "source": [
        "# текст запроса\n",
        "query_5_5 = f'''\n",
        "select \n",
        "    e.name\n",
        "from employers e\n",
        "    left join employers_industries ei on e.id = ei.employer_id\n",
        "GROUP BY 1 \n",
        "having COUNT(ei.industry_id) = 4 \n",
        "ORDER BY 1 \n",
        "offset 2 LIMIT 1\n",
        "'''"
      ]
    },
    {
      "cell_type": "code",
      "execution_count": 31,
      "id": "xsPtpp8EsaED",
      "metadata": {
        "id": "xsPtpp8EsaED"
      },
      "outputs": [
        {
          "name": "stderr",
          "output_type": "stream",
          "text": [
            "C:\\Users\\Георгий\\AppData\\Local\\Temp\\ipykernel_11268\\388711819.py:2: UserWarning: pandas only supports SQLAlchemy connectable (engine/connection) or database string URI or sqlite3 DBAPI2 connection. Other DBAPI2 objects are not tested. Please consider using SQLAlchemy.\n",
            "  df = pd.read_sql_query(query_5_5, connection)\n"
          ]
        },
        {
          "data": {
            "text/html": [
              "<div>\n",
              "<style scoped>\n",
              "    .dataframe tbody tr th:only-of-type {\n",
              "        vertical-align: middle;\n",
              "    }\n",
              "\n",
              "    .dataframe tbody tr th {\n",
              "        vertical-align: top;\n",
              "    }\n",
              "\n",
              "    .dataframe thead th {\n",
              "        text-align: right;\n",
              "    }\n",
              "</style>\n",
              "<table border=\"1\" class=\"dataframe\">\n",
              "  <thead>\n",
              "    <tr style=\"text-align: right;\">\n",
              "      <th></th>\n",
              "      <th>name</th>\n",
              "    </tr>\n",
              "  </thead>\n",
              "  <tbody>\n",
              "    <tr>\n",
              "      <th>0</th>\n",
              "      <td>2ГИС</td>\n",
              "    </tr>\n",
              "  </tbody>\n",
              "</table>\n",
              "</div>"
            ],
            "text/plain": [
              "   name\n",
              "0  2ГИС"
            ]
          },
          "execution_count": 31,
          "metadata": {},
          "output_type": "execute_result"
        }
      ],
      "source": [
        "# результат запроса\n",
        "df = pd.read_sql_query(query_5_5, connection)\n",
        "df"
      ]
    },
    {
      "cell_type": "markdown",
      "id": "3bfcfdaf-755d-4d2b-8ed8-326201dc07ab",
      "metadata": {
        "id": "3bfcfdaf-755d-4d2b-8ed8-326201dc07ab"
      },
      "source": [
        "6. С помощью запроса выясните, у какого количества работодателей в качестве сферы деятельности указана Разработка программного обеспечения.\n"
      ]
    },
    {
      "cell_type": "code",
      "execution_count": 32,
      "id": "ad3f270f-2991-47eb-929b-e8f88a55b0d1",
      "metadata": {
        "id": "ad3f270f-2991-47eb-929b-e8f88a55b0d1"
      },
      "outputs": [],
      "source": [
        "# текст запроса\n",
        "query_5_6 = f'''\n",
        "SELECT\n",
        "    COUNT(e.name)\n",
        "FROM industries i\n",
        "    LEFT JOIN employers_industries ei on ei.industry_id = i.id \n",
        "    LEFT JOIN employers e on ei.employer_id = e.id\n",
        "where i.name = 'Разработка программного обеспечения'\n",
        "'''"
      ]
    },
    {
      "cell_type": "code",
      "execution_count": 33,
      "id": "H72qxWM0shPR",
      "metadata": {
        "id": "H72qxWM0shPR"
      },
      "outputs": [
        {
          "name": "stderr",
          "output_type": "stream",
          "text": [
            "C:\\Users\\Георгий\\AppData\\Local\\Temp\\ipykernel_11268\\821628714.py:2: UserWarning: pandas only supports SQLAlchemy connectable (engine/connection) or database string URI or sqlite3 DBAPI2 connection. Other DBAPI2 objects are not tested. Please consider using SQLAlchemy.\n",
            "  df = pd.read_sql_query(query_5_6, connection)\n"
          ]
        },
        {
          "data": {
            "text/html": [
              "<div>\n",
              "<style scoped>\n",
              "    .dataframe tbody tr th:only-of-type {\n",
              "        vertical-align: middle;\n",
              "    }\n",
              "\n",
              "    .dataframe tbody tr th {\n",
              "        vertical-align: top;\n",
              "    }\n",
              "\n",
              "    .dataframe thead th {\n",
              "        text-align: right;\n",
              "    }\n",
              "</style>\n",
              "<table border=\"1\" class=\"dataframe\">\n",
              "  <thead>\n",
              "    <tr style=\"text-align: right;\">\n",
              "      <th></th>\n",
              "      <th>count</th>\n",
              "    </tr>\n",
              "  </thead>\n",
              "  <tbody>\n",
              "    <tr>\n",
              "      <th>0</th>\n",
              "      <td>3553</td>\n",
              "    </tr>\n",
              "  </tbody>\n",
              "</table>\n",
              "</div>"
            ],
            "text/plain": [
              "   count\n",
              "0   3553"
            ]
          },
          "execution_count": 33,
          "metadata": {},
          "output_type": "execute_result"
        }
      ],
      "source": [
        "# результат запроса\n",
        "df = pd.read_sql_query(query_5_6, connection)\n",
        "df"
      ]
    },
    {
      "cell_type": "markdown",
      "id": "7b02bb86-0546-40fb-94a4-242f050a5c57",
      "metadata": {
        "id": "7b02bb86-0546-40fb-94a4-242f050a5c57"
      },
      "source": [
        "7. Для компании «Яндекс» выведите список регионов-миллионников, в которых представлены вакансии компании, вместе с количеством вакансий в этих регионах. Также добавьте строку Total с общим количеством вакансий компании. Результат отсортируйте по возрастанию количества.\n",
        "\n",
        "Список городов-милионников надо взять [отсюда](https://ru.wikipedia.org/wiki/%D0%93%D0%BE%D1%80%D0%BE%D0%B4%D0%B0-%D0%BC%D0%B8%D0%BB%D0%BB%D0%B8%D0%BE%D0%BD%D0%B5%D1%80%D1%8B_%D0%A0%D0%BE%D1%81%D1%81%D0%B8%D0%B8). \n",
        "\n",
        "Если возникнут трудности с этим задание посмотрите материалы модуля  PYTHON-17. Как получать данные из веб-источников и API. "
      ]
    },
    {
      "cell_type": "code",
      "execution_count": 34,
      "id": "ZdfrL6gIs1Pn",
      "metadata": {
        "id": "ZdfrL6gIs1Pn"
      },
      "outputs": [],
      "source": [
        "# код для получения списка городов-милионников\n",
        "path_common = req.urlparse('https://ru.wikipedia.org/wiki/Города-миллионеры_России#Список_городов-миллионеров')\n",
        "url = path_common.scheme + '://' + req.quote(path_common.netloc) +  req.quote(path_common.path) + '#'+ req.quote(path_common.fragment)\n",
        "cities = tuple(pd.read_html(url)[1]['Город'])"
      ]
    },
    {
      "cell_type": "code",
      "execution_count": 35,
      "id": "5a0e32a4-e68a-4365-8a39-2fe24c542c36",
      "metadata": {
        "id": "5a0e32a4-e68a-4365-8a39-2fe24c542c36"
      },
      "outputs": [],
      "source": [
        "# текст запроса\n",
        "query_5_7 = f'''with city_wiki AS ( \n",
        "select\n",
        "    a.name city_name,\n",
        "    count(v.id) vac_cnt \n",
        "from vacancies v \n",
        "    inner join areas a on v.area_id = a.id \n",
        "    inner join employers e on v.employer_id = e.id \n",
        "WHERE e.name = 'Яндекс' \n",
        "    and a.name in {cities}\n",
        "group by 1 \n",
        "order by 2 \n",
        ")\n",
        "select\n",
        "    cw.city_name,\n",
        "    cw.vac_cnt\n",
        "from city_wiki cw\n",
        " \n",
        "union all \n",
        "\n",
        "select\n",
        "    'Total' city_name,\n",
        "    sum(vac_cnt) total\n",
        "from city_wiki\n",
        "'''"
      ]
    },
    {
      "cell_type": "code",
      "execution_count": 36,
      "id": "ttPhiO1rsvPq",
      "metadata": {
        "id": "ttPhiO1rsvPq"
      },
      "outputs": [
        {
          "name": "stderr",
          "output_type": "stream",
          "text": [
            "C:\\Users\\Георгий\\AppData\\Local\\Temp\\ipykernel_11268\\1965596796.py:2: UserWarning: pandas only supports SQLAlchemy connectable (engine/connection) or database string URI or sqlite3 DBAPI2 connection. Other DBAPI2 objects are not tested. Please consider using SQLAlchemy.\n",
            "  df = pd.read_sql_query(query_5_7, connection)\n"
          ]
        },
        {
          "data": {
            "text/html": [
              "<div>\n",
              "<style scoped>\n",
              "    .dataframe tbody tr th:only-of-type {\n",
              "        vertical-align: middle;\n",
              "    }\n",
              "\n",
              "    .dataframe tbody tr th {\n",
              "        vertical-align: top;\n",
              "    }\n",
              "\n",
              "    .dataframe thead th {\n",
              "        text-align: right;\n",
              "    }\n",
              "</style>\n",
              "<table border=\"1\" class=\"dataframe\">\n",
              "  <thead>\n",
              "    <tr style=\"text-align: right;\">\n",
              "      <th></th>\n",
              "      <th>city_name</th>\n",
              "      <th>vac_cnt</th>\n",
              "    </tr>\n",
              "  </thead>\n",
              "  <tbody>\n",
              "    <tr>\n",
              "      <th>0</th>\n",
              "      <td>Омск</td>\n",
              "      <td>21.0</td>\n",
              "    </tr>\n",
              "    <tr>\n",
              "      <th>1</th>\n",
              "      <td>Челябинск</td>\n",
              "      <td>22.0</td>\n",
              "    </tr>\n",
              "    <tr>\n",
              "      <th>2</th>\n",
              "      <td>Красноярск</td>\n",
              "      <td>23.0</td>\n",
              "    </tr>\n",
              "    <tr>\n",
              "      <th>3</th>\n",
              "      <td>Волгоград</td>\n",
              "      <td>24.0</td>\n",
              "    </tr>\n",
              "    <tr>\n",
              "      <th>4</th>\n",
              "      <td>Пермь</td>\n",
              "      <td>25.0</td>\n",
              "    </tr>\n",
              "    <tr>\n",
              "      <th>5</th>\n",
              "      <td>Казань</td>\n",
              "      <td>25.0</td>\n",
              "    </tr>\n",
              "    <tr>\n",
              "      <th>6</th>\n",
              "      <td>Ростов-на-Дону</td>\n",
              "      <td>25.0</td>\n",
              "    </tr>\n",
              "    <tr>\n",
              "      <th>7</th>\n",
              "      <td>Уфа</td>\n",
              "      <td>26.0</td>\n",
              "    </tr>\n",
              "    <tr>\n",
              "      <th>8</th>\n",
              "      <td>Самара</td>\n",
              "      <td>26.0</td>\n",
              "    </tr>\n",
              "    <tr>\n",
              "      <th>9</th>\n",
              "      <td>Краснодар</td>\n",
              "      <td>30.0</td>\n",
              "    </tr>\n",
              "    <tr>\n",
              "      <th>10</th>\n",
              "      <td>Воронеж</td>\n",
              "      <td>32.0</td>\n",
              "    </tr>\n",
              "    <tr>\n",
              "      <th>11</th>\n",
              "      <td>Новосибирск</td>\n",
              "      <td>35.0</td>\n",
              "    </tr>\n",
              "    <tr>\n",
              "      <th>12</th>\n",
              "      <td>Нижний Новгород</td>\n",
              "      <td>36.0</td>\n",
              "    </tr>\n",
              "    <tr>\n",
              "      <th>13</th>\n",
              "      <td>Екатеринбург</td>\n",
              "      <td>39.0</td>\n",
              "    </tr>\n",
              "    <tr>\n",
              "      <th>14</th>\n",
              "      <td>Санкт-Петербург</td>\n",
              "      <td>42.0</td>\n",
              "    </tr>\n",
              "    <tr>\n",
              "      <th>15</th>\n",
              "      <td>Москва</td>\n",
              "      <td>54.0</td>\n",
              "    </tr>\n",
              "    <tr>\n",
              "      <th>16</th>\n",
              "      <td>Total</td>\n",
              "      <td>485.0</td>\n",
              "    </tr>\n",
              "  </tbody>\n",
              "</table>\n",
              "</div>"
            ],
            "text/plain": [
              "          city_name  vac_cnt\n",
              "0              Омск     21.0\n",
              "1         Челябинск     22.0\n",
              "2        Красноярск     23.0\n",
              "3         Волгоград     24.0\n",
              "4             Пермь     25.0\n",
              "5            Казань     25.0\n",
              "6    Ростов-на-Дону     25.0\n",
              "7               Уфа     26.0\n",
              "8            Самара     26.0\n",
              "9         Краснодар     30.0\n",
              "10          Воронеж     32.0\n",
              "11      Новосибирск     35.0\n",
              "12  Нижний Новгород     36.0\n",
              "13     Екатеринбург     39.0\n",
              "14  Санкт-Петербург     42.0\n",
              "15           Москва     54.0\n",
              "16            Total    485.0"
            ]
          },
          "execution_count": 36,
          "metadata": {},
          "output_type": "execute_result"
        }
      ],
      "source": [
        "# результат запроса\n",
        "df = pd.read_sql_query(query_5_7, connection)\n",
        "df"
      ]
    },
    {
      "cell_type": "markdown",
      "id": "04966e40-3bc3-4dc8-9ba2-e80580ce3abc",
      "metadata": {
        "id": "04966e40-3bc3-4dc8-9ba2-e80580ce3abc"
      },
      "source": [
        "***"
      ]
    },
    {
      "cell_type": "markdown",
      "id": "10f35415",
      "metadata": {},
      "source": [
        "## выводы по анализу работодателей\n",
        "Проанализировав блок по вакансиям, мы переходим к анализу работодателей. \n",
        "* В первом же задании мы выводим наименование организации и количество выложенных вакансий. Полученный результат является весьма ошеломительным т.к. на первом месте находится \"Яндекс\" с количеством выложенных вакансий 1933, на пятом месте \"Газпром нефть\" с 331 вакансией. У \"Яндекса\" такое большое количество вакансий т.к. компания диверсифицирована и род ее большого количества направлений требует большого количества сотрудников, такие например как курьеры, таксисты, операторы кол-центров и т.п. На пятом месте \"Газпром нефть\" и в основном там нужны люди в большом количестве для обслуживания нефтеперерабатывающих предприятий, но из-за того, что предприятий не такое большое количество как у \"Яндекса\", соответственно и людей нужно меньше;\n",
        "* Во втором задании необходимо было вывести компанию и количество вакансий в разрезе региона, а в ответе указать тот регион, в котором есть большое количество работодателей, но при этом нет вакансий и этот регион стал \"Россия\". Что тут можно сказать? Судя по ответу можно лишь подчеркнуть, что в датасете представлено 410 компаний находящиеся в \"России\";\n",
        "* В третьем задании необходимо было посчитать количество регионов, в которых размещает каждая отдельно взятая компания и естественно на первом месте находится компания \"Яндекс\" с показателем 181, это лишний раз подтверждает масштаб организации; \n",
        "* В четвёртом задании необходимо было высчитать число организаций не указавшие свою сферу деятельности и их оказалось 8419 компаний, это не много так как всего компаний представленные в датасете составляет 40752 организации;\n",
        "* В пятом задании надо было посчитать количество сфер деятельности у каждой компании и вывести те компании, у которых указано 4 сферы деятельности, а в ответе указать компанию, которая находится в алфавитном порядке на 3 месте и этой компанией оказалась \"2ГИС\" - данная компания занимается: \n",
        "    1. Производство мультимедиа, контента, редакторская деятельность;\n",
        "    2. Консалтинговые услуги;\n",
        "    3. Кол-центры, диспетчерские службы;\n",
        "    4. Интернет-компания (поисковики, платежные системы, соц.сети, информационно-познавательные и развлекательные ресурсы, продвижение сайтов и прочее).\n",
        "* В шестом задании необходимо было вывести количество работодатель у которых прописана сфера деятельности \"Разработка программного обеспечения\" и таких компаний оказалось 3553, если учесть, что всего представлено 40752 организации, то это число достаточно хорошее, так как сфер деятельности присутствует огромное множество. Также хочется отметить, что с развитием интернет-технологий количество организаций с такой сферой деятельностью будет только увеличиваться;\n",
        "* В седьмом задании, надо было взять список городов миллионников из интернета источника \"Wikipedia\", и посчитать количество выложенных вакансий в конретконкретных населенных пунктах, а также вывести общее количество вакансий и все это сделать напримере организации \"Яндекс\". Получилось 16 городов и лидерами по количеству выложенных вакансий стали такие города как Москва - 54, Санкт-Петербург - 42 и т.д. а общее количество выложенных вакансий в этих городах составило 485. Данные являются весьма закономерны, так как чем больше город, тем больше компания предоставляет услуг и продуктов, а чтобы предоставлять свои услуги и продукты, нужны как раз эти сотрудники. \n",
        "\n",
        ">* Вывод по блоку: Мы подробно ознакомились с компаниями и их сферами деятельности, а также проанализировали количество вакансий с учетом наименований компаний, их сферы деятельности и населенных пунктов, в которых представлены эти вакансии."
      ]
    },
    {
      "cell_type": "markdown",
      "id": "b1ef156a-efcb-49ce-bb23-90763e7f35b2",
      "metadata": {
        "id": "b1ef156a-efcb-49ce-bb23-90763e7f35b2",
        "tags": []
      },
      "source": [
        "# Юнит 6. Предметный анализ"
      ]
    },
    {
      "cell_type": "markdown",
      "id": "b9cd50a0-992d-4988-8463-2b2b1c4629b4",
      "metadata": {
        "id": "b9cd50a0-992d-4988-8463-2b2b1c4629b4"
      },
      "source": [
        "1. Сколько вакансий имеет отношение к данным?\n",
        "\n",
        "Считаем, что вакансия имеет отношение к данным, если в её названии содержатся слова 'data' или 'данн'.\n",
        "\n",
        "*Подсказка: Обратите внимание, что названия вакансий могут быть написаны в любом регистре.* \n"
      ]
    },
    {
      "cell_type": "code",
      "execution_count": 37,
      "id": "54ab0e50-c0f1-47cc-a54b-bc5c8bc363f9",
      "metadata": {
        "id": "54ab0e50-c0f1-47cc-a54b-bc5c8bc363f9"
      },
      "outputs": [],
      "source": [
        "# текст запроса\n",
        "query_6_1 = f''' \n",
        "select\n",
        "    count(*)\n",
        "from vacancies\n",
        "where name ilike '%data%' \n",
        "    or name ilike '%данн%'\n",
        "'''"
      ]
    },
    {
      "cell_type": "code",
      "execution_count": 38,
      "id": "9F1meAqsuUjd",
      "metadata": {
        "id": "9F1meAqsuUjd"
      },
      "outputs": [
        {
          "name": "stderr",
          "output_type": "stream",
          "text": [
            "C:\\Users\\Георгий\\AppData\\Local\\Temp\\ipykernel_11268\\366702258.py:2: UserWarning: pandas only supports SQLAlchemy connectable (engine/connection) or database string URI or sqlite3 DBAPI2 connection. Other DBAPI2 objects are not tested. Please consider using SQLAlchemy.\n",
            "  df = pd.read_sql_query(query_6_1, connection)\n"
          ]
        },
        {
          "data": {
            "text/html": [
              "<div>\n",
              "<style scoped>\n",
              "    .dataframe tbody tr th:only-of-type {\n",
              "        vertical-align: middle;\n",
              "    }\n",
              "\n",
              "    .dataframe tbody tr th {\n",
              "        vertical-align: top;\n",
              "    }\n",
              "\n",
              "    .dataframe thead th {\n",
              "        text-align: right;\n",
              "    }\n",
              "</style>\n",
              "<table border=\"1\" class=\"dataframe\">\n",
              "  <thead>\n",
              "    <tr style=\"text-align: right;\">\n",
              "      <th></th>\n",
              "      <th>count</th>\n",
              "    </tr>\n",
              "  </thead>\n",
              "  <tbody>\n",
              "    <tr>\n",
              "      <th>0</th>\n",
              "      <td>1771</td>\n",
              "    </tr>\n",
              "  </tbody>\n",
              "</table>\n",
              "</div>"
            ],
            "text/plain": [
              "   count\n",
              "0   1771"
            ]
          },
          "execution_count": 38,
          "metadata": {},
          "output_type": "execute_result"
        }
      ],
      "source": [
        "# результат запроса\n",
        "df = pd.read_sql_query(query_6_1, connection)\n",
        "df"
      ]
    },
    {
      "cell_type": "markdown",
      "id": "4dea20cb-a36b-474a-a0b9-e08e8e3857a5",
      "metadata": {
        "id": "4dea20cb-a36b-474a-a0b9-e08e8e3857a5"
      },
      "source": [
        "2. Сколько есть подходящих вакансий для начинающего дата-сайентиста? \n",
        "Будем считать вакансиями для дата-сайентистов такие, в названии которых есть хотя бы одно из следующих сочетаний:\n",
        "* 'data scientist'\n",
        "* 'data science'\n",
        "* 'исследователь данных'\n",
        "* 'ML' (здесь не нужно брать вакансии по HTML)\n",
        "* 'machine learning'\n",
        "* 'машинн%обучен%'\n",
        "\n",
        "** В следующих заданиях мы продолжим работать с вакансиями по этому условию.*\n",
        "\n",
        "Считаем вакансиями для специалистов уровня Junior следующие:\n",
        "* в названии есть слово 'junior' *или*\n",
        "* требуемый опыт — Нет опыта *или*\n",
        "* тип трудоустройства — Стажировка.\n",
        " "
      ]
    },
    {
      "cell_type": "code",
      "execution_count": 39,
      "id": "9c61b3c0-bb66-46c9-ae1e-81d3f5752b4a",
      "metadata": {
        "id": "9c61b3c0-bb66-46c9-ae1e-81d3f5752b4a"
      },
      "outputs": [],
      "source": [
        "# текст запроса\n",
        "query_6_2 = f''' \n",
        "select \n",
        "    count(*)\n",
        "from vacancies\n",
        "where\n",
        "    (\n",
        "    lower(name) like '%data scientist%'  or\n",
        "    lower(name) like '%data science%' or\n",
        "    lower(name) like '%исследователь данных%'  or\n",
        "    (name like '%ML%' and name not ilike '%HTML%') or \n",
        "    lower(name) like '%machine learning%'  or\n",
        "    lower(name) like '%машинн%обучен%'\n",
        "    )\n",
        "    and\n",
        "    (\n",
        "    lower(name) like '%junior%' or\n",
        "    experience = 'Нет опыта' or\n",
        "    lower(employment) like '%стажировка%'\n",
        "    )\n",
        "'''"
      ]
    },
    {
      "cell_type": "code",
      "execution_count": 40,
      "id": "ZNM-LLYuu1dj",
      "metadata": {
        "id": "ZNM-LLYuu1dj"
      },
      "outputs": [
        {
          "name": "stderr",
          "output_type": "stream",
          "text": [
            "C:\\Users\\Георгий\\AppData\\Local\\Temp\\ipykernel_11268\\2267038862.py:2: UserWarning: pandas only supports SQLAlchemy connectable (engine/connection) or database string URI or sqlite3 DBAPI2 connection. Other DBAPI2 objects are not tested. Please consider using SQLAlchemy.\n",
            "  df = pd.read_sql_query(query_6_2, connection)\n"
          ]
        },
        {
          "data": {
            "text/html": [
              "<div>\n",
              "<style scoped>\n",
              "    .dataframe tbody tr th:only-of-type {\n",
              "        vertical-align: middle;\n",
              "    }\n",
              "\n",
              "    .dataframe tbody tr th {\n",
              "        vertical-align: top;\n",
              "    }\n",
              "\n",
              "    .dataframe thead th {\n",
              "        text-align: right;\n",
              "    }\n",
              "</style>\n",
              "<table border=\"1\" class=\"dataframe\">\n",
              "  <thead>\n",
              "    <tr style=\"text-align: right;\">\n",
              "      <th></th>\n",
              "      <th>count</th>\n",
              "    </tr>\n",
              "  </thead>\n",
              "  <tbody>\n",
              "    <tr>\n",
              "      <th>0</th>\n",
              "      <td>51</td>\n",
              "    </tr>\n",
              "  </tbody>\n",
              "</table>\n",
              "</div>"
            ],
            "text/plain": [
              "   count\n",
              "0     51"
            ]
          },
          "execution_count": 40,
          "metadata": {},
          "output_type": "execute_result"
        }
      ],
      "source": [
        "# результат запроса\n",
        "df = pd.read_sql_query(query_6_2, connection)\n",
        "df"
      ]
    },
    {
      "cell_type": "markdown",
      "id": "eedceb80-c5ca-480e-b27a-278dfb8b4438",
      "metadata": {
        "id": "eedceb80-c5ca-480e-b27a-278dfb8b4438"
      },
      "source": [
        "3. Сколько есть вакансий для DS, в которых в качестве ключевого навыка указан SQL или postgres?\n",
        "\n",
        "** Критерии для отнесения вакансии к DS указаны в предыдущем задании.*"
      ]
    },
    {
      "cell_type": "code",
      "execution_count": 41,
      "id": "69621713-0cc5-4f1b-a1d7-bb144fa6148c",
      "metadata": {
        "id": "69621713-0cc5-4f1b-a1d7-bb144fa6148c"
      },
      "outputs": [],
      "source": [
        "# текст запроса\n",
        "query_6_3 = f''' \n",
        "select\n",
        "    count(*)\n",
        "from\n",
        "    vacancies\n",
        "where\n",
        "    (\n",
        "    lower(name) like '%data scientist%'  or\n",
        "    lower(name) like '%data science%' or\n",
        "    lower(name) like '%исследователь данных%'  or\n",
        "    (name like '%ML%' and name not ilike '%HTML%') or \n",
        "    lower(name) like '%machine learning%'  or\n",
        "    lower(name) like '%машинн%обучен%'\n",
        "    )\n",
        "    and\n",
        "    (\n",
        "    key_skills ilike '%SQL%' or\n",
        "    key_skills like '%postgres%'\n",
        "    )\n",
        "'''"
      ]
    },
    {
      "cell_type": "code",
      "execution_count": 42,
      "id": "alA8WEAAvGdf",
      "metadata": {
        "id": "alA8WEAAvGdf"
      },
      "outputs": [
        {
          "name": "stderr",
          "output_type": "stream",
          "text": [
            "C:\\Users\\Георгий\\AppData\\Local\\Temp\\ipykernel_11268\\3794299702.py:2: UserWarning: pandas only supports SQLAlchemy connectable (engine/connection) or database string URI or sqlite3 DBAPI2 connection. Other DBAPI2 objects are not tested. Please consider using SQLAlchemy.\n",
            "  df = pd.read_sql_query(query_6_3, connection)\n"
          ]
        },
        {
          "data": {
            "text/html": [
              "<div>\n",
              "<style scoped>\n",
              "    .dataframe tbody tr th:only-of-type {\n",
              "        vertical-align: middle;\n",
              "    }\n",
              "\n",
              "    .dataframe tbody tr th {\n",
              "        vertical-align: top;\n",
              "    }\n",
              "\n",
              "    .dataframe thead th {\n",
              "        text-align: right;\n",
              "    }\n",
              "</style>\n",
              "<table border=\"1\" class=\"dataframe\">\n",
              "  <thead>\n",
              "    <tr style=\"text-align: right;\">\n",
              "      <th></th>\n",
              "      <th>count</th>\n",
              "    </tr>\n",
              "  </thead>\n",
              "  <tbody>\n",
              "    <tr>\n",
              "      <th>0</th>\n",
              "      <td>201</td>\n",
              "    </tr>\n",
              "  </tbody>\n",
              "</table>\n",
              "</div>"
            ],
            "text/plain": [
              "   count\n",
              "0    201"
            ]
          },
          "execution_count": 42,
          "metadata": {},
          "output_type": "execute_result"
        }
      ],
      "source": [
        "# результат запроса\n",
        "df = pd.read_sql_query(query_6_3, connection)\n",
        "df"
      ]
    },
    {
      "cell_type": "markdown",
      "id": "1be1e9c6-37cf-4a5f-bfeb-04cab799dc80",
      "metadata": {
        "id": "1be1e9c6-37cf-4a5f-bfeb-04cab799dc80"
      },
      "source": [
        "4. Проверьте, насколько популярен Python в требованиях работодателей к DS.Для этого вычислите количество вакансий, в которых в качестве ключевого навыка указан Python.\n",
        "\n",
        "** Это можно сделать помощью запроса, аналогичного предыдущему.*"
      ]
    },
    {
      "cell_type": "code",
      "execution_count": 43,
      "id": "0036a355-9ccf-4564-8b01-73d8194297e7",
      "metadata": {
        "id": "0036a355-9ccf-4564-8b01-73d8194297e7"
      },
      "outputs": [],
      "source": [
        "# текст запроса\n",
        "query_6_4 = f''' \n",
        "select\n",
        "    count(*)\n",
        "from\n",
        "    vacancies\n",
        "where\n",
        "    (\n",
        "    lower(name) like '%data scientist%'  or\n",
        "    lower(name) like '%data science%' or\n",
        "    lower(name) like '%исследователь данных%'  or\n",
        "    (name like '%ML%' and name not ilike '%HTML%') or \n",
        "    lower(name) like '%machine learning%'  or\n",
        "    lower(name) like '%машинн%обучен%'\n",
        "    )\n",
        "    and\n",
        "    (key_skills ilike '%Python%')\n",
        "'''"
      ]
    },
    {
      "cell_type": "code",
      "execution_count": 44,
      "id": "1i-5WyucvQ6v",
      "metadata": {
        "id": "1i-5WyucvQ6v"
      },
      "outputs": [
        {
          "name": "stderr",
          "output_type": "stream",
          "text": [
            "C:\\Users\\Георгий\\AppData\\Local\\Temp\\ipykernel_11268\\4264665179.py:2: UserWarning: pandas only supports SQLAlchemy connectable (engine/connection) or database string URI or sqlite3 DBAPI2 connection. Other DBAPI2 objects are not tested. Please consider using SQLAlchemy.\n",
            "  df = pd.read_sql_query(query_6_4, connection)\n"
          ]
        },
        {
          "data": {
            "text/html": [
              "<div>\n",
              "<style scoped>\n",
              "    .dataframe tbody tr th:only-of-type {\n",
              "        vertical-align: middle;\n",
              "    }\n",
              "\n",
              "    .dataframe tbody tr th {\n",
              "        vertical-align: top;\n",
              "    }\n",
              "\n",
              "    .dataframe thead th {\n",
              "        text-align: right;\n",
              "    }\n",
              "</style>\n",
              "<table border=\"1\" class=\"dataframe\">\n",
              "  <thead>\n",
              "    <tr style=\"text-align: right;\">\n",
              "      <th></th>\n",
              "      <th>count</th>\n",
              "    </tr>\n",
              "  </thead>\n",
              "  <tbody>\n",
              "    <tr>\n",
              "      <th>0</th>\n",
              "      <td>351</td>\n",
              "    </tr>\n",
              "  </tbody>\n",
              "</table>\n",
              "</div>"
            ],
            "text/plain": [
              "   count\n",
              "0    351"
            ]
          },
          "execution_count": 44,
          "metadata": {},
          "output_type": "execute_result"
        }
      ],
      "source": [
        "# результат запроса\n",
        "df = pd.read_sql_query(query_6_4, connection)\n",
        "df"
      ]
    },
    {
      "cell_type": "markdown",
      "id": "ec3c8db7-fa21-4a41-a994-1af63742a642",
      "metadata": {
        "id": "ec3c8db7-fa21-4a41-a994-1af63742a642"
      },
      "source": [
        "5. Сколько ключевых навыков в среднем указывают в вакансиях для DS?\n",
        "Ответ округлите до двух знаков после точки-разделителя."
      ]
    },
    {
      "cell_type": "code",
      "execution_count": 45,
      "id": "949132bc-d5b6-4611-8218-0b9a504d74f4",
      "metadata": {
        "id": "949132bc-d5b6-4611-8218-0b9a504d74f4"
      },
      "outputs": [],
      "source": [
        "# текст запроса\n",
        "query_6_5 = f''' \n",
        "select \n",
        "    round(avg(length(key_skills)-length(replace(key_skills, CHR(9), ''))+1), 2)\n",
        "from vacancies \n",
        "where \n",
        "    (\n",
        "    lower(name) like '%data scientist%'  or\n",
        "    lower(name) like '%data science%' or\n",
        "    lower(name) like '%исследователь данных%'  or\n",
        "    (name like '%ML%' and name not ilike '%HTML%') or \n",
        "    lower(name) like '%machine learning%'  or\n",
        "    lower(name) like '%машинн%обучен%'\n",
        "    )\n",
        "'''"
      ]
    },
    {
      "cell_type": "code",
      "execution_count": 46,
      "id": "a3V24Tvmviqk",
      "metadata": {
        "id": "a3V24Tvmviqk"
      },
      "outputs": [
        {
          "name": "stderr",
          "output_type": "stream",
          "text": [
            "C:\\Users\\Георгий\\AppData\\Local\\Temp\\ipykernel_11268\\3654210517.py:2: UserWarning: pandas only supports SQLAlchemy connectable (engine/connection) or database string URI or sqlite3 DBAPI2 connection. Other DBAPI2 objects are not tested. Please consider using SQLAlchemy.\n",
            "  df = pd.read_sql_query(query_6_5, connection)\n"
          ]
        },
        {
          "data": {
            "text/html": [
              "<div>\n",
              "<style scoped>\n",
              "    .dataframe tbody tr th:only-of-type {\n",
              "        vertical-align: middle;\n",
              "    }\n",
              "\n",
              "    .dataframe tbody tr th {\n",
              "        vertical-align: top;\n",
              "    }\n",
              "\n",
              "    .dataframe thead th {\n",
              "        text-align: right;\n",
              "    }\n",
              "</style>\n",
              "<table border=\"1\" class=\"dataframe\">\n",
              "  <thead>\n",
              "    <tr style=\"text-align: right;\">\n",
              "      <th></th>\n",
              "      <th>round</th>\n",
              "    </tr>\n",
              "  </thead>\n",
              "  <tbody>\n",
              "    <tr>\n",
              "      <th>0</th>\n",
              "      <td>6.41</td>\n",
              "    </tr>\n",
              "  </tbody>\n",
              "</table>\n",
              "</div>"
            ],
            "text/plain": [
              "   round\n",
              "0   6.41"
            ]
          },
          "execution_count": 46,
          "metadata": {},
          "output_type": "execute_result"
        }
      ],
      "source": [
        "# результат запроса\n",
        "df = pd.read_sql_query(query_6_5, connection)\n",
        "df"
      ]
    },
    {
      "cell_type": "markdown",
      "id": "1041c17a-ca8f-4543-a0ca-32778914fb00",
      "metadata": {
        "id": "1041c17a-ca8f-4543-a0ca-32778914fb00"
      },
      "source": [
        "6. Напишите запрос, позволяющий вычислить, какую зарплату для DS в **среднем** указывают для каждого типа требуемого опыта (уникальное значение из поля *experience*). \n",
        "\n",
        "При решении задачи примите во внимание следующее:\n",
        "1. Рассматриваем только вакансии, у которых заполнено хотя бы одно из двух полей с зарплатой.\n",
        "2. Если заполнены оба поля с зарплатой, то считаем зарплату по каждой вакансии как сумму двух полей, делённую на 2. Если заполнено только одно из полей, то его и считаем зарплатой по вакансии.\n",
        "3. Если в расчётах участвует null, в результате он тоже даст null (посмотрите, что возвращает запрос select 1 + null). Чтобы избежать этой ситуацию, мы воспользуемся функцией [coalesce](https://postgrespro.ru/docs/postgresql/9.5/functions-conditional#functions-coalesce-nvl-ifnull), которая заменит null на значение, которое мы передадим. Например, посмотрите, что возвращает запрос `select 1 + coalesce(null, 0)`\n",
        "\n",
        "Выясните, на какую зарплату в среднем может рассчитывать дата-сайентист с опытом работы от 3 до 6 лет. Результат округлите до целого числа. "
      ]
    },
    {
      "cell_type": "code",
      "execution_count": 47,
      "id": "6a743d39-5204-48d3-8271-b9f88e68d40e",
      "metadata": {
        "id": "6a743d39-5204-48d3-8271-b9f88e68d40e"
      },
      "outputs": [],
      "source": [
        "# текст запроса\n",
        "query_6_6 = f''' \n",
        "select\n",
        "    round(avg(coalesce((salary_from+salary_to)/2, salary_from, salary_to)), 0) avg_sal \n",
        "from vacancies \n",
        "where \n",
        "    (\n",
        "    lower(name) like '%data scientist%'  or\n",
        "    lower(name) like '%data science%' or\n",
        "    lower(name) like '%исследователь данных%'  or\n",
        "    (name like '%ML%' and name not ilike '%HTML%') or \n",
        "    lower(name) like '%machine learning%'  or\n",
        "    lower(name) like '%машинн%обучен%'\n",
        "    )\n",
        "    and\n",
        "    (salary_from is not null or salary_to is not null)\n",
        "    and \n",
        "    experience = 'От 3 до 6 лет'\n",
        "'''"
      ]
    },
    {
      "cell_type": "code",
      "execution_count": 48,
      "id": "aRIJ0mZEwU1_",
      "metadata": {
        "id": "aRIJ0mZEwU1_"
      },
      "outputs": [
        {
          "name": "stderr",
          "output_type": "stream",
          "text": [
            "C:\\Users\\Георгий\\AppData\\Local\\Temp\\ipykernel_11268\\519194770.py:2: UserWarning: pandas only supports SQLAlchemy connectable (engine/connection) or database string URI or sqlite3 DBAPI2 connection. Other DBAPI2 objects are not tested. Please consider using SQLAlchemy.\n",
            "  df = pd.read_sql_query(query_6_6, connection)\n"
          ]
        },
        {
          "data": {
            "text/html": [
              "<div>\n",
              "<style scoped>\n",
              "    .dataframe tbody tr th:only-of-type {\n",
              "        vertical-align: middle;\n",
              "    }\n",
              "\n",
              "    .dataframe tbody tr th {\n",
              "        vertical-align: top;\n",
              "    }\n",
              "\n",
              "    .dataframe thead th {\n",
              "        text-align: right;\n",
              "    }\n",
              "</style>\n",
              "<table border=\"1\" class=\"dataframe\">\n",
              "  <thead>\n",
              "    <tr style=\"text-align: right;\">\n",
              "      <th></th>\n",
              "      <th>avg_sal</th>\n",
              "    </tr>\n",
              "  </thead>\n",
              "  <tbody>\n",
              "    <tr>\n",
              "      <th>0</th>\n",
              "      <td>243115.0</td>\n",
              "    </tr>\n",
              "  </tbody>\n",
              "</table>\n",
              "</div>"
            ],
            "text/plain": [
              "    avg_sal\n",
              "0  243115.0"
            ]
          },
          "execution_count": 48,
          "metadata": {},
          "output_type": "execute_result"
        }
      ],
      "source": [
        "# результат запроса\n",
        "df = pd.read_sql_query(query_6_6, connection)\n",
        "df"
      ]
    },
    {
      "cell_type": "markdown",
      "id": "6a7892b4-4113-4746-adce-18aa2844f18e",
      "metadata": {
        "id": "6a7892b4-4113-4746-adce-18aa2844f18e"
      },
      "source": [
        "***"
      ]
    },
    {
      "cell_type": "markdown",
      "id": "7a6b128d",
      "metadata": {},
      "source": [
        "## выводы по предметному анализу\n",
        "Изучив предварительно представленные организации  в датасете, мы переходим к самому интересному блоку предметного анализа.\n",
        "\n",
        "* В первом задании подсчитываем количество вакансий, содержащих определенные ключевые слова в названии, таких вакансий оказалось 1771 штук.;\n",
        "* Во втором задании исследуем вакансии для начинающих дата-сайентистов с дополнительными условиями, такими как отсутствие опыта, тип работы \"стажировка\" и наличие слова \"Junior\" в названии. В итоге находим 51 такую вакансию;\n",
        "* В третьем задании анализируем вакансии для начинающих дата-сайентистов с требованием навыков \"SQL\" и \"Postgres\". Таких вакансий оказалось 201 шт; \n",
        "* В четвертом задании надо было посчитать количество вакансий для наинающих дата-сайнтистов, с наличием требуемого знания \"Python\", таких вакансий окалось 351 шт;\n",
        "*  В пятом задании надо было вывести средний показатель количества указанных работадателем необходимых навыков для начинающих дата-сайнтистов, этот показатель составил 6.41. Это говорит о том, что нашему специалисту необходимо иметь как минимум 6 навыков, для того, чтобы его смогли взять на работу;\n",
        "* В шестом задании, необходимо было вывести средний показатель зарплаты дата-сайнтиста имеющий опыт \"От 3 до 6 лет\". В ответе получилось 243115 руб. Сама по себе зарплата явялется достаточно хорошей и привлекательной, учитывая тот факт, что удаленный тип работы еще увеличивается, то вырисовывается красивая картина. А еще это лишний раз подчеркивает, что программисты и аналитики востребованы на сегодняшнем рынке. \n",
        "\n",
        ">* В данном блоке было подробно расмотрен такой специалист как дата-сайнтист. Определили количетсво вакансий с разными условиями, необходимое количетсво нужных навыков и конечно же просчитали среднюю зарплату. \n"
      ]
    },
    {
      "cell_type": "markdown",
      "id": "fc6a8cd7",
      "metadata": {},
      "source": [
        "## 7. Дополнительные исследования данных\n",
        "\n",
        "Задача найти вакансии в каждом городе для DataScients и определить сколько вакансий имеется и какая там средняя зарплата.\n",
        "* Для начала выгружаем из БД все вакансии и регионы с фильтром по DS. В ответе получается 480 вакансий;\n",
        "* Для вычисления средних зарплат мы проводим следующие действия. \n",
        "    * Логика заключается в том, что в представленном df_query_7_1 есть salary_from и salary_to. Я сначала делаю сортировка по региону в этом регионе счиатю среднее по salary_from, затем средний показатель salary_to. Когда получая два числа складываю их между собой и делю на два, так я получаю среднюю зарплату в каждом регионе. \n",
        "* После первичной обработке в таблице осталось множество пропусков (NaN). Для их обработки выполнены следующие действия: \n",
        "    * Сначала заполняем значения в переменной average_df средними зарплатами по регионам: \n",
        "    * Затем проходим по average_df и, если в каком-либо регионе нет данных (NaN), ищем значение в df_query_7_1;\n",
        "    * Если находим число, заменяем NaN на это число, не выполняя дополнительных вычислений;\n",
        "    * После заполнения данных объединяем average_df с исходным df_query_7_1.\n",
        "* Теперь необходимо подготовить данные к построению графика. В моем представление график должен из себя представлять график, на котором будут указаны города, количество вакансий в этих городах и средние зарплаты. Для этого понадобиться: \n",
        "    * Приводим регионы к общему формату, например, переименовываем названия стран в столицы или переименовываем город Алматы в столицу Астану;\n",
        "    * После того, как мы получили список городов, необходимо выгрузить широту и долготу городов из интернет-источника для корректного отображения на карте;\n",
        "    * Создаем график, на котором отображены кружки с местоположением городов, а также цвет кружков, представляющий количество вакансий, и размер кружков, отражающий среднюю зарплату. "
      ]
    },
    {
      "cell_type": "code",
      "execution_count": 49,
      "id": "10b8abfa",
      "metadata": {},
      "outputs": [],
      "source": [
        "# текст запроса\n",
        "query_7_1 = f''' \n",
        "select\n",
        "    a.name сity_name,\n",
        "    v.salary_from,\n",
        "    v.salary_to,\n",
        "    v.id,\n",
        "    v.name vacan_name\n",
        "from vacancies v\n",
        "    join areas a on v.area_id = a.id\n",
        "where \n",
        "    (\n",
        "    lower(v.name) like '%data scientist%'  or\n",
        "    lower(v.name) like '%data science%' or\n",
        "    lower(v.name) like '%исследователь данных%'  or\n",
        "    (v.name like '%ML%' and v.name not ilike '%HTML%') or \n",
        "    lower(v.name) like '%machine learning%'  or\n",
        "    lower(v.name) like '%машинн%обучен%'\n",
        "    )    \n",
        "'''"
      ]
    },
    {
      "cell_type": "code",
      "execution_count": 50,
      "id": "5ac3ea2e",
      "metadata": {},
      "outputs": [
        {
          "name": "stderr",
          "output_type": "stream",
          "text": [
            "C:\\Users\\Георгий\\AppData\\Local\\Temp\\ipykernel_11268\\408772806.py:2: UserWarning: pandas only supports SQLAlchemy connectable (engine/connection) or database string URI or sqlite3 DBAPI2 connection. Other DBAPI2 objects are not tested. Please consider using SQLAlchemy.\n",
            "  df_query_7_1 = pd.read_sql_query(query_7_1, connection)\n"
          ]
        }
      ],
      "source": [
        "# результат запроса\n",
        "df_query_7_1 = pd.read_sql_query(query_7_1, connection)"
      ]
    },
    {
      "cell_type": "markdown",
      "id": "955534ff",
      "metadata": {},
      "source": [
        "#### Для получения средних зарплат необходимо произвести расчет. \n",
        "\n",
        "Логика заключается в том, что в представленном df_query_7_1 есть salary_from и salary_to. Я сначала делаю сортировка по региону в этом регионе счиатю среднее по salary_from, затем средний показатель salary_to. Когда получая два числа складываю их между собой и делю на два, так я получаю среднюю зарплату в каждом регионе."
      ]
    },
    {
      "cell_type": "code",
      "execution_count": 51,
      "id": "73e77b46",
      "metadata": {},
      "outputs": [
        {
          "name": "stderr",
          "output_type": "stream",
          "text": [
            "C:\\Users\\Георгий\\AppData\\Local\\Temp\\ipykernel_11268\\487738929.py:6: RuntimeWarning: invalid value encountered in scalar divide\n",
            "  average_salary_from = city_data['salary_from'].sum() / city_data['salary_from'].count()\n",
            "C:\\Users\\Георгий\\AppData\\Local\\Temp\\ipykernel_11268\\487738929.py:7: RuntimeWarning: invalid value encountered in scalar divide\n",
            "  average_salary_to = city_data['salary_to'].sum() / city_data['salary_to'].count()\n"
          ]
        }
      ],
      "source": [
        "unique_cities = df_query_7_1['сity_name'].unique()\n",
        "average_salaries = {}\n",
        "\n",
        "for city in unique_cities:\n",
        "    city_data = df_query_7_1[df_query_7_1['сity_name'] == city]\n",
        "    average_salary_from = city_data['salary_from'].sum() / city_data['salary_from'].count()\n",
        "    average_salary_to = city_data['salary_to'].sum() / city_data['salary_to'].count()\n",
        "    average_salary = (average_salary_from + average_salary_to) / 2\n",
        "    average_salaries[city] = average_salary\n",
        "\n",
        "average_df = pd.DataFrame(list(average_salaries.items()), columns=['сity_name', 'average_salary'])"
      ]
    },
    {
      "cell_type": "markdown",
      "id": "a68aaac3",
      "metadata": {},
      "source": [
        "#### В таблице пристутсвует множество пропусков и как с этим быть? \n",
        "\n",
        "После первичной обработке в таблице осталось множество пропусков (NaN). Для их обработки выполнены следующие действия: \n",
        "* Сначала заполняем значения в переменной average_df средними зарплатами по регионам: \n",
        "* Затем проходим по average_df и, если в каком-либо регионе нет данных (NaN), ищем значение в df_query_7_1;\n",
        "    * Если находим число, заменяем NaN на это число, не выполняя дополнительных вычислений;\n",
        "* После заполнения данных объединяем average_df с исходным df_query_7_1."
      ]
    },
    {
      "cell_type": "code",
      "execution_count": 52,
      "id": "e3c20dd8",
      "metadata": {},
      "outputs": [],
      "source": [
        "#Второй этап\n",
        "unique_cities = average_df['сity_name'].unique()\n",
        "aver_salar = {}\n",
        "\n",
        "for city_name in unique_cities:\n",
        "    if pd.isna(average_df.loc[average_df['сity_name'] == city_name, 'average_salary'].values[0]):\n",
        "        city_data = df_query_7_1[df_query_7_1['сity_name'] == city_name]\n",
        "        if city_data['salary_to'].isna().all() and city_data['salary_from'].isna().all():\n",
        "            aver_salar[city_name] = None\n",
        "        else:\n",
        "            salary_to_avg = city_data['salary_to'].mean()\n",
        "            salary_from_avg = city_data['salary_from'].mean()\n",
        "            if pd.notna(salary_to_avg) and pd.notna(salary_from_avg):\n",
        "                aver_salar[city_name] = (salary_to_avg + salary_from_avg) / 2\n",
        "            else:\n",
        "                aver_salar[city_name] = salary_to_avg if pd.notna(salary_to_avg) else salary_from_avg\n",
        "\n",
        "for city_name, avg_salary in aver_salar.items():\n",
        "    average_df.loc[average_df['сity_name'] == city_name, 'average_salary'] = avg_salary\n",
        "\n",
        "average_df = round(average_df,2)"
      ]
    },
    {
      "cell_type": "markdown",
      "id": "1c1c92bf",
      "metadata": {},
      "source": [
        "После того, как выведены средние зарплаты, необходимо объединить два df в один"
      ]
    },
    {
      "cell_type": "code",
      "execution_count": 53,
      "id": "564c37e4",
      "metadata": {},
      "outputs": [],
      "source": [
        "#Объединяю df\n",
        "merged_df = df_query_7_1.merge(average_df, left_on='сity_name', right_on='сity_name', how='left')\n"
      ]
    },
    {
      "cell_type": "markdown",
      "id": "8737abcc",
      "metadata": {},
      "source": [
        "#### Следующий этап создание графика \n",
        "\n",
        "* Теперь необходимо подготовить данные к построению графика. В моем представление график должен из себя представлять график, на котором будут указаны города, количество вакансий в этих городах и средние зарплаты. Для этого понадобиться: \n",
        "    * Приводим регионы к общему формату, например, переименовываем названия стран в столицы или переименовываем город Алматы в столицу Астану;\n",
        "    * После того, как мы получили список городов, необходимо выгрузить широту и долготу городов из интернет-источника для корректного отображения на карте;\n",
        "* Создаем график, на котором отображены кружки с местоположением городов, а также цвет кружков, представляющий количество вакансий, и размер кружков, отражающий среднюю зарплату"
      ]
    },
    {
      "cell_type": "code",
      "execution_count": 54,
      "id": "2ee7011a",
      "metadata": {},
      "outputs": [],
      "source": [
        "# Создаем словарь для переименования городов\n",
        "rename_dict = {\n",
        "    \"Кипр\": \"Никосия\",\n",
        "    \"Армения\": \"Ереван\",\n",
        "    \"Черногория\": \"Подгорица\",\n",
        "    \"Турция\": \"Анкара\",\n",
        "    \"Сербия\": \"Белград\",\n",
        "    \"Алматы\": \"Астана\"\n",
        "}\n",
        "\n",
        "merged_df['сity_name'] = merged_df['сity_name'].replace(rename_dict)"
      ]
    },
    {
      "cell_type": "code",
      "execution_count": 55,
      "id": "b8ed2c7e",
      "metadata": {},
      "outputs": [],
      "source": [
        "# Открываем сайт и согласно нашим городам импортируем долготу и широту\n",
        "url = 'https://time-in.ru/coordinates'\n",
        "response = requests.get(url)\n",
        "\n",
        "if response.status_code == 200:\n",
        "    page = BeautifulSoup(response.text, 'html.parser')\n",
        "    cities = merged_df['сity_name'].tolist()\n",
        "    city_coordinates = {}\n",
        "    left_elements = page.find_all('a', class_='coordinates-items-left')\n",
        "    right_elements = page.find_all('div', class_='coordinates-items-right')\n",
        "\n",
        "    for left, right in zip(left_elements, right_elements):\n",
        "        city_name = left.text.strip()\n",
        "        coordinates = right.text.strip()\n",
        "        if city_name in cities:\n",
        "            city_coordinates[city_name] = coordinates\n",
        "\n",
        "#Разносим долготу и широту по новым столбцам \n",
        "merged_df['longitude'] = merged_df['сity_name'].map(lambda x: None if city_coordinates.get(x, None) is None else city_coordinates.get(x, None).split(',')[1])\n",
        "merged_df['latitude'] = merged_df['сity_name'].map(lambda x: None if city_coordinates.get(x, None) is None else city_coordinates.get(x, None).split(',')[0])\n",
        "\n"
      ]
    },
    {
      "cell_type": "code",
      "execution_count": 56,
      "id": "e3f3808d",
      "metadata": {},
      "outputs": [
        {
          "data": {
            "text/html": [
              "<div>\n",
              "<style scoped>\n",
              "    .dataframe tbody tr th:only-of-type {\n",
              "        vertical-align: middle;\n",
              "    }\n",
              "\n",
              "    .dataframe tbody tr th {\n",
              "        vertical-align: top;\n",
              "    }\n",
              "\n",
              "    .dataframe thead th {\n",
              "        text-align: right;\n",
              "    }\n",
              "</style>\n",
              "<table border=\"1\" class=\"dataframe\">\n",
              "  <thead>\n",
              "    <tr style=\"text-align: right;\">\n",
              "      <th></th>\n",
              "      <th></th>\n",
              "      <th></th>\n",
              "      <th></th>\n",
              "      <th>id</th>\n",
              "    </tr>\n",
              "    <tr>\n",
              "      <th>сity_name</th>\n",
              "      <th>average_salary</th>\n",
              "      <th>longitude</th>\n",
              "      <th>latitude</th>\n",
              "      <th></th>\n",
              "    </tr>\n",
              "  </thead>\n",
              "  <tbody>\n",
              "    <tr>\n",
              "      <th>Никосия</th>\n",
              "      <th>300000.00</th>\n",
              "      <th>33.36</th>\n",
              "      <th>35.18</th>\n",
              "      <td>5</td>\n",
              "    </tr>\n",
              "    <tr>\n",
              "      <th>Ереван</th>\n",
              "      <th>268862.67</th>\n",
              "      <th>44.51</th>\n",
              "      <th>40.18</th>\n",
              "      <td>6</td>\n",
              "    </tr>\n",
              "    <tr>\n",
              "      <th>Анкара</th>\n",
              "      <th>233794.00</th>\n",
              "      <th>32.85</th>\n",
              "      <th>39.92</th>\n",
              "      <td>2</td>\n",
              "    </tr>\n",
              "    <tr>\n",
              "      <th>Подгорица</th>\n",
              "      <th>233794.00</th>\n",
              "      <th>19.26</th>\n",
              "      <th>42.44</th>\n",
              "      <td>1</td>\n",
              "    </tr>\n",
              "    <tr>\n",
              "      <th>Белград</th>\n",
              "      <th>233794.00</th>\n",
              "      <th>20.47</th>\n",
              "      <th>44.8</th>\n",
              "      <td>3</td>\n",
              "    </tr>\n",
              "    <tr>\n",
              "      <th>Москва</th>\n",
              "      <th>215375.00</th>\n",
              "      <th>37.62</th>\n",
              "      <th>55.75</th>\n",
              "      <td>217</td>\n",
              "    </tr>\n",
              "    <tr>\n",
              "      <th>Санкт-Петербург</th>\n",
              "      <th>183409.60</th>\n",
              "      <th>30.31</th>\n",
              "      <th>59.94</th>\n",
              "      <td>64</td>\n",
              "    </tr>\n",
              "    <tr>\n",
              "      <th>Екатеринбург</th>\n",
              "      <th>142833.33</th>\n",
              "      <th>60.61</th>\n",
              "      <th>56.85</th>\n",
              "      <td>7</td>\n",
              "    </tr>\n",
              "    <tr>\n",
              "      <th>Рязань</th>\n",
              "      <th>137500.00</th>\n",
              "      <th>39.69</th>\n",
              "      <th>54.63</th>\n",
              "      <td>4</td>\n",
              "    </tr>\n",
              "    <tr>\n",
              "      <th>Новосибирск</th>\n",
              "      <th>129833.33</th>\n",
              "      <th>82.93</th>\n",
              "      <th>55.04</th>\n",
              "      <td>23</td>\n",
              "    </tr>\n",
              "    <tr>\n",
              "      <th>Астана</th>\n",
              "      <th>94586.50</th>\n",
              "      <th>71.45</th>\n",
              "      <th>51.18</th>\n",
              "      <td>16</td>\n",
              "    </tr>\n",
              "    <tr>\n",
              "      <th>Уфа</th>\n",
              "      <th>90000.00</th>\n",
              "      <th>55.97</th>\n",
              "      <th>54.74</th>\n",
              "      <td>2</td>\n",
              "    </tr>\n",
              "    <tr>\n",
              "      <th>Владивосток</th>\n",
              "      <th>85000.00</th>\n",
              "      <th>131.87</th>\n",
              "      <th>43.11</th>\n",
              "      <td>3</td>\n",
              "    </tr>\n",
              "    <tr>\n",
              "      <th>Пермь</th>\n",
              "      <th>65000.00</th>\n",
              "      <th>56.25</th>\n",
              "      <th>58.01</th>\n",
              "      <td>5</td>\n",
              "    </tr>\n",
              "    <tr>\n",
              "      <th>Барнаул</th>\n",
              "      <th>60000.00</th>\n",
              "      <th>83.76</th>\n",
              "      <th>53.36</th>\n",
              "      <td>1</td>\n",
              "    </tr>\n",
              "    <tr>\n",
              "      <th>Казань</th>\n",
              "      <th>50000.00</th>\n",
              "      <th>49.12</th>\n",
              "      <th>55.79</th>\n",
              "      <td>16</td>\n",
              "    </tr>\n",
              "    <tr>\n",
              "      <th>Ростов-на-Дону</th>\n",
              "      <th>50000.00</th>\n",
              "      <th>39.72</th>\n",
              "      <th>47.23</th>\n",
              "      <td>6</td>\n",
              "    </tr>\n",
              "  </tbody>\n",
              "</table>\n",
              "</div>"
            ],
            "text/plain": [
              "                                                    id\n",
              "сity_name       average_salary longitude latitude     \n",
              "Никосия         300000.00       33.36    35.18       5\n",
              "Ереван          268862.67       44.51    40.18       6\n",
              "Анкара          233794.00       32.85    39.92       2\n",
              "Подгорица       233794.00       19.26    42.44       1\n",
              "Белград         233794.00       20.47    44.8        3\n",
              "Москва          215375.00       37.62    55.75     217\n",
              "Санкт-Петербург 183409.60       30.31    59.94      64\n",
              "Екатеринбург    142833.33       60.61    56.85       7\n",
              "Рязань          137500.00       39.69    54.63       4\n",
              "Новосибирск     129833.33       82.93    55.04      23\n",
              "Астана          94586.50        71.45    51.18      16\n",
              "Уфа             90000.00        55.97    54.74       2\n",
              "Владивосток     85000.00        131.87   43.11       3\n",
              "Пермь           65000.00        56.25    58.01       5\n",
              "Барнаул         60000.00        83.76    53.36       1\n",
              "Казань          50000.00        49.12    55.79      16\n",
              "Ростов-на-Дону  50000.00        39.72    47.23       6"
            ]
          },
          "execution_count": 56,
          "metadata": {},
          "output_type": "execute_result"
        }
      ],
      "source": [
        "#Предварительно делаю сортировку данных, для отображения графика\n",
        "pivot_df = pd.pivot_table(merged_df, \n",
        "                          index=('сity_name', 'average_salary', 'longitude', 'latitude'), \t\n",
        "                          values='id', \n",
        "                          aggfunc='nunique', \n",
        "                          fill_value=0)\n",
        "\n",
        "pivot_df.sort_values('average_salary', ascending=False)"
      ]
    },
    {
      "cell_type": "code",
      "execution_count": 57,
      "id": "622e622b",
      "metadata": {},
      "outputs": [
        {
          "data": {
            "application/vnd.plotly.v1+json": {
              "config": {
                "plotlyServerURL": "https://plot.ly"
              },
              "data": [
                {
                  "geo": "geo",
                  "hovertemplate": "<b>%{hovertext}</b><br><br>Средняя зарплата=%{marker.size}<br>latitude=%{lat}<br>longitude=%{lon}<br>Кол-во вакансий=%{marker.color}<extra></extra>",
                  "hovertext": [
                    "Анкара",
                    "Астана",
                    "Барнаул",
                    "Белград",
                    "Владивосток",
                    "Екатеринбург",
                    "Ереван",
                    "Казань",
                    "Москва",
                    "Никосия",
                    "Новосибирск",
                    "Пермь",
                    "Подгорица",
                    "Ростов-на-Дону",
                    "Рязань",
                    "Санкт-Петербург",
                    "Уфа"
                  ],
                  "lat": [
                    "39.92",
                    "51.18",
                    "53.36",
                    "44.8",
                    "43.11",
                    "56.85",
                    "40.18",
                    "55.79",
                    "55.75",
                    "35.18",
                    "55.04",
                    "58.01",
                    "42.44",
                    "47.23",
                    "54.63",
                    "59.94",
                    "54.74"
                  ],
                  "legendgroup": "",
                  "lon": [
                    " 32.85",
                    " 71.45",
                    " 83.76",
                    " 20.47",
                    " 131.87",
                    " 60.61",
                    " 44.51",
                    " 49.12",
                    " 37.62",
                    " 33.36",
                    " 82.93",
                    " 56.25",
                    " 19.26",
                    " 39.72",
                    " 39.69",
                    " 30.31",
                    " 55.97"
                  ],
                  "marker": {
                    "color": [
                      2,
                      16,
                      1,
                      3,
                      3,
                      7,
                      6,
                      16,
                      217,
                      5,
                      23,
                      5,
                      1,
                      6,
                      4,
                      64,
                      2
                    ],
                    "coloraxis": "coloraxis",
                    "opacity": 0.8,
                    "size": [
                      233794,
                      94586.5,
                      60000,
                      233794,
                      85000,
                      142833.33,
                      268862.67,
                      50000,
                      215375,
                      300000,
                      129833.33,
                      65000,
                      233794,
                      50000,
                      137500,
                      183409.6,
                      90000
                    ],
                    "sizemode": "area",
                    "sizeref": 750,
                    "symbol": "circle"
                  },
                  "mode": "markers",
                  "name": "",
                  "showlegend": false,
                  "type": "scattergeo"
                }
              ],
              "layout": {
                "coloraxis": {
                  "colorbar": {
                    "title": {
                      "text": "Кол-во вакансий"
                    }
                  },
                  "colorscale": [
                    [
                      0,
                      "#0d0887"
                    ],
                    [
                      0.1111111111111111,
                      "#46039f"
                    ],
                    [
                      0.2222222222222222,
                      "#7201a8"
                    ],
                    [
                      0.3333333333333333,
                      "#9c179e"
                    ],
                    [
                      0.4444444444444444,
                      "#bd3786"
                    ],
                    [
                      0.5555555555555556,
                      "#d8576b"
                    ],
                    [
                      0.6666666666666666,
                      "#ed7953"
                    ],
                    [
                      0.7777777777777778,
                      "#fb9f3a"
                    ],
                    [
                      0.8888888888888888,
                      "#fdca26"
                    ],
                    [
                      1,
                      "#f0f921"
                    ]
                  ]
                },
                "geo": {
                  "center": {},
                  "domain": {
                    "x": [
                      0,
                      1
                    ],
                    "y": [
                      0,
                      1
                    ]
                  },
                  "fitbounds": "locations",
                  "projection": {
                    "type": "natural earth"
                  },
                  "showcoastlines": true
                },
                "legend": {
                  "itemsizing": "constant",
                  "tracegroupgap": 0
                },
                "template": {
                  "data": {
                    "bar": [
                      {
                        "error_x": {
                          "color": "#2a3f5f"
                        },
                        "error_y": {
                          "color": "#2a3f5f"
                        },
                        "marker": {
                          "line": {
                            "color": "#E5ECF6",
                            "width": 0.5
                          },
                          "pattern": {
                            "fillmode": "overlay",
                            "size": 10,
                            "solidity": 0.2
                          }
                        },
                        "type": "bar"
                      }
                    ],
                    "barpolar": [
                      {
                        "marker": {
                          "line": {
                            "color": "#E5ECF6",
                            "width": 0.5
                          },
                          "pattern": {
                            "fillmode": "overlay",
                            "size": 10,
                            "solidity": 0.2
                          }
                        },
                        "type": "barpolar"
                      }
                    ],
                    "carpet": [
                      {
                        "aaxis": {
                          "endlinecolor": "#2a3f5f",
                          "gridcolor": "white",
                          "linecolor": "white",
                          "minorgridcolor": "white",
                          "startlinecolor": "#2a3f5f"
                        },
                        "baxis": {
                          "endlinecolor": "#2a3f5f",
                          "gridcolor": "white",
                          "linecolor": "white",
                          "minorgridcolor": "white",
                          "startlinecolor": "#2a3f5f"
                        },
                        "type": "carpet"
                      }
                    ],
                    "choropleth": [
                      {
                        "colorbar": {
                          "outlinewidth": 0,
                          "ticks": ""
                        },
                        "type": "choropleth"
                      }
                    ],
                    "contour": [
                      {
                        "colorbar": {
                          "outlinewidth": 0,
                          "ticks": ""
                        },
                        "colorscale": [
                          [
                            0,
                            "#0d0887"
                          ],
                          [
                            0.1111111111111111,
                            "#46039f"
                          ],
                          [
                            0.2222222222222222,
                            "#7201a8"
                          ],
                          [
                            0.3333333333333333,
                            "#9c179e"
                          ],
                          [
                            0.4444444444444444,
                            "#bd3786"
                          ],
                          [
                            0.5555555555555556,
                            "#d8576b"
                          ],
                          [
                            0.6666666666666666,
                            "#ed7953"
                          ],
                          [
                            0.7777777777777778,
                            "#fb9f3a"
                          ],
                          [
                            0.8888888888888888,
                            "#fdca26"
                          ],
                          [
                            1,
                            "#f0f921"
                          ]
                        ],
                        "type": "contour"
                      }
                    ],
                    "contourcarpet": [
                      {
                        "colorbar": {
                          "outlinewidth": 0,
                          "ticks": ""
                        },
                        "type": "contourcarpet"
                      }
                    ],
                    "heatmap": [
                      {
                        "colorbar": {
                          "outlinewidth": 0,
                          "ticks": ""
                        },
                        "colorscale": [
                          [
                            0,
                            "#0d0887"
                          ],
                          [
                            0.1111111111111111,
                            "#46039f"
                          ],
                          [
                            0.2222222222222222,
                            "#7201a8"
                          ],
                          [
                            0.3333333333333333,
                            "#9c179e"
                          ],
                          [
                            0.4444444444444444,
                            "#bd3786"
                          ],
                          [
                            0.5555555555555556,
                            "#d8576b"
                          ],
                          [
                            0.6666666666666666,
                            "#ed7953"
                          ],
                          [
                            0.7777777777777778,
                            "#fb9f3a"
                          ],
                          [
                            0.8888888888888888,
                            "#fdca26"
                          ],
                          [
                            1,
                            "#f0f921"
                          ]
                        ],
                        "type": "heatmap"
                      }
                    ],
                    "heatmapgl": [
                      {
                        "colorbar": {
                          "outlinewidth": 0,
                          "ticks": ""
                        },
                        "colorscale": [
                          [
                            0,
                            "#0d0887"
                          ],
                          [
                            0.1111111111111111,
                            "#46039f"
                          ],
                          [
                            0.2222222222222222,
                            "#7201a8"
                          ],
                          [
                            0.3333333333333333,
                            "#9c179e"
                          ],
                          [
                            0.4444444444444444,
                            "#bd3786"
                          ],
                          [
                            0.5555555555555556,
                            "#d8576b"
                          ],
                          [
                            0.6666666666666666,
                            "#ed7953"
                          ],
                          [
                            0.7777777777777778,
                            "#fb9f3a"
                          ],
                          [
                            0.8888888888888888,
                            "#fdca26"
                          ],
                          [
                            1,
                            "#f0f921"
                          ]
                        ],
                        "type": "heatmapgl"
                      }
                    ],
                    "histogram": [
                      {
                        "marker": {
                          "pattern": {
                            "fillmode": "overlay",
                            "size": 10,
                            "solidity": 0.2
                          }
                        },
                        "type": "histogram"
                      }
                    ],
                    "histogram2d": [
                      {
                        "colorbar": {
                          "outlinewidth": 0,
                          "ticks": ""
                        },
                        "colorscale": [
                          [
                            0,
                            "#0d0887"
                          ],
                          [
                            0.1111111111111111,
                            "#46039f"
                          ],
                          [
                            0.2222222222222222,
                            "#7201a8"
                          ],
                          [
                            0.3333333333333333,
                            "#9c179e"
                          ],
                          [
                            0.4444444444444444,
                            "#bd3786"
                          ],
                          [
                            0.5555555555555556,
                            "#d8576b"
                          ],
                          [
                            0.6666666666666666,
                            "#ed7953"
                          ],
                          [
                            0.7777777777777778,
                            "#fb9f3a"
                          ],
                          [
                            0.8888888888888888,
                            "#fdca26"
                          ],
                          [
                            1,
                            "#f0f921"
                          ]
                        ],
                        "type": "histogram2d"
                      }
                    ],
                    "histogram2dcontour": [
                      {
                        "colorbar": {
                          "outlinewidth": 0,
                          "ticks": ""
                        },
                        "colorscale": [
                          [
                            0,
                            "#0d0887"
                          ],
                          [
                            0.1111111111111111,
                            "#46039f"
                          ],
                          [
                            0.2222222222222222,
                            "#7201a8"
                          ],
                          [
                            0.3333333333333333,
                            "#9c179e"
                          ],
                          [
                            0.4444444444444444,
                            "#bd3786"
                          ],
                          [
                            0.5555555555555556,
                            "#d8576b"
                          ],
                          [
                            0.6666666666666666,
                            "#ed7953"
                          ],
                          [
                            0.7777777777777778,
                            "#fb9f3a"
                          ],
                          [
                            0.8888888888888888,
                            "#fdca26"
                          ],
                          [
                            1,
                            "#f0f921"
                          ]
                        ],
                        "type": "histogram2dcontour"
                      }
                    ],
                    "mesh3d": [
                      {
                        "colorbar": {
                          "outlinewidth": 0,
                          "ticks": ""
                        },
                        "type": "mesh3d"
                      }
                    ],
                    "parcoords": [
                      {
                        "line": {
                          "colorbar": {
                            "outlinewidth": 0,
                            "ticks": ""
                          }
                        },
                        "type": "parcoords"
                      }
                    ],
                    "pie": [
                      {
                        "automargin": true,
                        "type": "pie"
                      }
                    ],
                    "scatter": [
                      {
                        "fillpattern": {
                          "fillmode": "overlay",
                          "size": 10,
                          "solidity": 0.2
                        },
                        "type": "scatter"
                      }
                    ],
                    "scatter3d": [
                      {
                        "line": {
                          "colorbar": {
                            "outlinewidth": 0,
                            "ticks": ""
                          }
                        },
                        "marker": {
                          "colorbar": {
                            "outlinewidth": 0,
                            "ticks": ""
                          }
                        },
                        "type": "scatter3d"
                      }
                    ],
                    "scattercarpet": [
                      {
                        "marker": {
                          "colorbar": {
                            "outlinewidth": 0,
                            "ticks": ""
                          }
                        },
                        "type": "scattercarpet"
                      }
                    ],
                    "scattergeo": [
                      {
                        "marker": {
                          "colorbar": {
                            "outlinewidth": 0,
                            "ticks": ""
                          }
                        },
                        "type": "scattergeo"
                      }
                    ],
                    "scattergl": [
                      {
                        "marker": {
                          "colorbar": {
                            "outlinewidth": 0,
                            "ticks": ""
                          }
                        },
                        "type": "scattergl"
                      }
                    ],
                    "scattermapbox": [
                      {
                        "marker": {
                          "colorbar": {
                            "outlinewidth": 0,
                            "ticks": ""
                          }
                        },
                        "type": "scattermapbox"
                      }
                    ],
                    "scatterpolar": [
                      {
                        "marker": {
                          "colorbar": {
                            "outlinewidth": 0,
                            "ticks": ""
                          }
                        },
                        "type": "scatterpolar"
                      }
                    ],
                    "scatterpolargl": [
                      {
                        "marker": {
                          "colorbar": {
                            "outlinewidth": 0,
                            "ticks": ""
                          }
                        },
                        "type": "scatterpolargl"
                      }
                    ],
                    "scatterternary": [
                      {
                        "marker": {
                          "colorbar": {
                            "outlinewidth": 0,
                            "ticks": ""
                          }
                        },
                        "type": "scatterternary"
                      }
                    ],
                    "surface": [
                      {
                        "colorbar": {
                          "outlinewidth": 0,
                          "ticks": ""
                        },
                        "colorscale": [
                          [
                            0,
                            "#0d0887"
                          ],
                          [
                            0.1111111111111111,
                            "#46039f"
                          ],
                          [
                            0.2222222222222222,
                            "#7201a8"
                          ],
                          [
                            0.3333333333333333,
                            "#9c179e"
                          ],
                          [
                            0.4444444444444444,
                            "#bd3786"
                          ],
                          [
                            0.5555555555555556,
                            "#d8576b"
                          ],
                          [
                            0.6666666666666666,
                            "#ed7953"
                          ],
                          [
                            0.7777777777777778,
                            "#fb9f3a"
                          ],
                          [
                            0.8888888888888888,
                            "#fdca26"
                          ],
                          [
                            1,
                            "#f0f921"
                          ]
                        ],
                        "type": "surface"
                      }
                    ],
                    "table": [
                      {
                        "cells": {
                          "fill": {
                            "color": "#EBF0F8"
                          },
                          "line": {
                            "color": "white"
                          }
                        },
                        "header": {
                          "fill": {
                            "color": "#C8D4E3"
                          },
                          "line": {
                            "color": "white"
                          }
                        },
                        "type": "table"
                      }
                    ]
                  },
                  "layout": {
                    "annotationdefaults": {
                      "arrowcolor": "#2a3f5f",
                      "arrowhead": 0,
                      "arrowwidth": 1
                    },
                    "autotypenumbers": "strict",
                    "coloraxis": {
                      "colorbar": {
                        "outlinewidth": 0,
                        "ticks": ""
                      }
                    },
                    "colorscale": {
                      "diverging": [
                        [
                          0,
                          "#8e0152"
                        ],
                        [
                          0.1,
                          "#c51b7d"
                        ],
                        [
                          0.2,
                          "#de77ae"
                        ],
                        [
                          0.3,
                          "#f1b6da"
                        ],
                        [
                          0.4,
                          "#fde0ef"
                        ],
                        [
                          0.5,
                          "#f7f7f7"
                        ],
                        [
                          0.6,
                          "#e6f5d0"
                        ],
                        [
                          0.7,
                          "#b8e186"
                        ],
                        [
                          0.8,
                          "#7fbc41"
                        ],
                        [
                          0.9,
                          "#4d9221"
                        ],
                        [
                          1,
                          "#276419"
                        ]
                      ],
                      "sequential": [
                        [
                          0,
                          "#0d0887"
                        ],
                        [
                          0.1111111111111111,
                          "#46039f"
                        ],
                        [
                          0.2222222222222222,
                          "#7201a8"
                        ],
                        [
                          0.3333333333333333,
                          "#9c179e"
                        ],
                        [
                          0.4444444444444444,
                          "#bd3786"
                        ],
                        [
                          0.5555555555555556,
                          "#d8576b"
                        ],
                        [
                          0.6666666666666666,
                          "#ed7953"
                        ],
                        [
                          0.7777777777777778,
                          "#fb9f3a"
                        ],
                        [
                          0.8888888888888888,
                          "#fdca26"
                        ],
                        [
                          1,
                          "#f0f921"
                        ]
                      ],
                      "sequentialminus": [
                        [
                          0,
                          "#0d0887"
                        ],
                        [
                          0.1111111111111111,
                          "#46039f"
                        ],
                        [
                          0.2222222222222222,
                          "#7201a8"
                        ],
                        [
                          0.3333333333333333,
                          "#9c179e"
                        ],
                        [
                          0.4444444444444444,
                          "#bd3786"
                        ],
                        [
                          0.5555555555555556,
                          "#d8576b"
                        ],
                        [
                          0.6666666666666666,
                          "#ed7953"
                        ],
                        [
                          0.7777777777777778,
                          "#fb9f3a"
                        ],
                        [
                          0.8888888888888888,
                          "#fdca26"
                        ],
                        [
                          1,
                          "#f0f921"
                        ]
                      ]
                    },
                    "colorway": [
                      "#636efa",
                      "#EF553B",
                      "#00cc96",
                      "#ab63fa",
                      "#FFA15A",
                      "#19d3f3",
                      "#FF6692",
                      "#B6E880",
                      "#FF97FF",
                      "#FECB52"
                    ],
                    "font": {
                      "color": "#2a3f5f"
                    },
                    "geo": {
                      "bgcolor": "white",
                      "lakecolor": "white",
                      "landcolor": "#E5ECF6",
                      "showlakes": true,
                      "showland": true,
                      "subunitcolor": "white"
                    },
                    "hoverlabel": {
                      "align": "left"
                    },
                    "hovermode": "closest",
                    "mapbox": {
                      "style": "light"
                    },
                    "paper_bgcolor": "white",
                    "plot_bgcolor": "#E5ECF6",
                    "polar": {
                      "angularaxis": {
                        "gridcolor": "white",
                        "linecolor": "white",
                        "ticks": ""
                      },
                      "bgcolor": "#E5ECF6",
                      "radialaxis": {
                        "gridcolor": "white",
                        "linecolor": "white",
                        "ticks": ""
                      }
                    },
                    "scene": {
                      "xaxis": {
                        "backgroundcolor": "#E5ECF6",
                        "gridcolor": "white",
                        "gridwidth": 2,
                        "linecolor": "white",
                        "showbackground": true,
                        "ticks": "",
                        "zerolinecolor": "white"
                      },
                      "yaxis": {
                        "backgroundcolor": "#E5ECF6",
                        "gridcolor": "white",
                        "gridwidth": 2,
                        "linecolor": "white",
                        "showbackground": true,
                        "ticks": "",
                        "zerolinecolor": "white"
                      },
                      "zaxis": {
                        "backgroundcolor": "#E5ECF6",
                        "gridcolor": "white",
                        "gridwidth": 2,
                        "linecolor": "white",
                        "showbackground": true,
                        "ticks": "",
                        "zerolinecolor": "white"
                      }
                    },
                    "shapedefaults": {
                      "line": {
                        "color": "#2a3f5f"
                      }
                    },
                    "ternary": {
                      "aaxis": {
                        "gridcolor": "white",
                        "linecolor": "white",
                        "ticks": ""
                      },
                      "baxis": {
                        "gridcolor": "white",
                        "linecolor": "white",
                        "ticks": ""
                      },
                      "bgcolor": "#E5ECF6",
                      "caxis": {
                        "gridcolor": "white",
                        "linecolor": "white",
                        "ticks": ""
                      }
                    },
                    "title": {
                      "x": 0.05
                    },
                    "xaxis": {
                      "automargin": true,
                      "gridcolor": "white",
                      "linecolor": "white",
                      "ticks": "",
                      "title": {
                        "standoff": 15
                      },
                      "zerolinecolor": "white",
                      "zerolinewidth": 2
                    },
                    "yaxis": {
                      "automargin": true,
                      "gridcolor": "white",
                      "linecolor": "white",
                      "ticks": "",
                      "title": {
                        "standoff": 15
                      },
                      "zerolinecolor": "white",
                      "zerolinewidth": 2
                    }
                  }
                },
                "title": {
                  "text": "Географическое распределение вакансий по городам"
                }
              }
            }
          },
          "metadata": {},
          "output_type": "display_data"
        }
      ],
      "source": [
        "#Задаю параметры графика и отображаю его \n",
        "map_df = pivot_df.reset_index()  \n",
        "\n",
        "\n",
        "fig = px.scatter_geo(map_df,\n",
        "                     lat='latitude',\n",
        "                     lon='longitude',\n",
        "                     hover_name='сity_name',\n",
        "                     size='average_salary',\n",
        "                     color='id',\n",
        "                     labels={'id': 'Кол-во вакансий', 'average_salary': 'Средняя зарплата'},\n",
        "                     projection='natural earth',\n",
        "                     opacity = 0.8,\n",
        "                     title='Географическое распределение вакансий по городам')\n",
        "\n",
        "fig.update_geos(\n",
        "    fitbounds=\"locations\",\n",
        "    showcoastlines=True\n",
        ")\n",
        "fig.show()\n",
        "\n"
      ]
    },
    {
      "cell_type": "markdown",
      "id": "f0917b9b",
      "metadata": {},
      "source": [
        "#### Вывод\n",
        "\n",
        "Анализируя выполненную работу, мы замечаем следующие интересные моменты на графике: \n",
        "* Большие кружки представлены вне России, что может объясняться высокой ценностью этих вакансий или изменениями в курсе рубля на момент сбора данных с сайта HH.ru.\n",
        "* Города с более крупным населением имеют более яркий цвет кружков, что указывает на большее количество представленных вакансий. Это наблюдается, например, в Москве, Санкт-Петербурге и Новосибирске."
      ]
    },
    {
      "cell_type": "code",
      "execution_count": 58,
      "id": "6564bcc3",
      "metadata": {},
      "outputs": [],
      "source": [
        "connection.close()"
      ]
    },
    {
      "cell_type": "markdown",
      "metadata": {},
      "source": [
        "# Общий вывод по проекту\n",
        "\n",
        "> Вся работа была разбита на 7 блоков:\n",
        "* Импорт основных библиотек для работы;\n",
        "* знакомство с данными;\n",
        "* предварительный анализ данных;\n",
        "* детальный анализ вакансий;\n",
        "* анализ работодателей;\n",
        "* предметный анализ;\n",
        "* дополнительные исследования. \n",
        "\n",
        "В первом блоке мы импортировали библиотеки, которые использовались в процессе работы для более корректного анализа данных;\n",
        "\n",
        "Во втором блоке мы ознакомились с данными и узнали, что в них содержится 5 таблиц, которые использовались для анализа;\n",
        "\n",
        "В третьем блоке мы провели предварительный анализ данных, включая распределение вакансий по регионам и оценку зарплатных интервалов. В этом блоке мы узнали что в таблице \"Employers\" содержится 23501 строк с наименованием работадателей и \"Vacancies\" в которой содержиться 49197 вакансий (строк);\n",
        "\n",
        "В-четвертом блоке, постарались сделать первчиный анализ данных и выявили распределение вакансий по регионам, увидели размер средней минимальной и максимальной вилки по зарплате;\n",
        "\n",
        "В пятом блоке сфокусировались на анализе работодателей и выявили интересные моменты в данных, такие как количество компаний, не указавших свою сферу деятельности а также выявили, что больше всего вакансий разместила компания \"Яндекс\" - 1933 вакансии в 181 регионах. Далее усложнив задачу, выписали 16 городов миллионников России с помощью запроса в \"Wikipidia\" и получили 485 вакансий, где в топ вошли такие города как Москва с 54 вакансиями и Санкт-Петербург с 42 вакансиями. \n",
        "\n",
        "В шестом блоке предметно расмотрели специалиста DataScience и результат оказался следующим, всего пристутсвует 51 вакансия для начинащих специалистов. Вакансий с требованием знания \"Python\", оказалось 351 шт. Вакансий с наличием навыка \"SQL\" и \"Postgres\" оказалось 201 шт. В среднем каждый DS специалист должен обладать как минимум 6 навыками. Специалисты у которых есть опыт от 3 до 6 лет в среднем могут получать 243115 руб.;\n",
        "\n",
        "В-седьмом блоке, был подробно разобран специалист DS и его возможности. Были выгружен запрост с SQL, после чего создана модель для расчета средней зарплаты по каждому представленному региону. Далее выгружен с HTML страницы долгота и широта каждого региона, после чего был построен график карты, на котором отчетливо видно, что DS может получать высокую зарплату трудоустроившись в заграничную компанию, а также видно, что больше всего вакансий предложено в наших двух столицах. \n",
        "\n",
        "Работа проделана великолепно, и анализ данных может быть полезен для агентств по подбору вакансий и соискателей..  \n",
        " "
      ]
    }
  ],
  "metadata": {
    "colab": {
      "collapsed_sections": [
        "8d62a9f3-f64e-4fe7-bdac-c4dffa16155e"
      ],
      "provenance": []
    },
    "kernelspec": {
      "display_name": "Python 3 (ipykernel)",
      "language": "python",
      "name": "python3"
    },
    "language_info": {
      "codemirror_mode": {
        "name": "ipython",
        "version": 3
      },
      "file_extension": ".py",
      "mimetype": "text/x-python",
      "name": "python",
      "nbconvert_exporter": "python",
      "pygments_lexer": "ipython3",
      "version": "3.11.2"
    }
  },
  "nbformat": 4,
  "nbformat_minor": 5
}
