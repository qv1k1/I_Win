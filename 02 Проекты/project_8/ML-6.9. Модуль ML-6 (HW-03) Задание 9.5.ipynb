{
 "cells": [
  {
   "cell_type": "markdown",
   "metadata": {},
   "source": [
    "# ML-6. Отбор и селекция признаков\n",
    "\n",
    "## 9. Отбор признаков: классификация методов\n",
    "\n",
    "### Задание 9.5. Модуль ML-6 (HW-03)\n",
    "\n",
    "Обучите модель линейной регрессии на найденных двумя способами трёх важных признаках и сравните полученные результаты. Загрузите полученный ноутбук (в формате IPYNB) в форму ниже.\n",
    "\n",
    ">КРИТЕРИИ ОЦЕНИВАНИЯ:\n",
    "\n",
    "|Баллы |Описание|\n",
    "|--|--|\n",
    "|1 балл|\tВерно выделены три столбца-признака для обучения, выбранные RFE.|\n",
    "1 балл|\tВерно выделены три столбца-признака для обучения, выбранные SelectKBest.\n",
    "3 балла|\tОбучена регрессия на первых трёх столбцах, оценено качество модели на тесте.\n",
    "3 балла|\tОбучена регрессия на вторых трёх столбцах, оценено качество модели на тесте.\n",
    "2 балла|\tПроизведено сравнение выбранных метрик в форме комментария. Дан ответ на вопрос «Какой метод отбора признаков показал наилучший результат на тестовой выборке?» (в текстовой ячейке).\n",
    "\n",
    "```Максимальное количество баллов за выполнение задания — 10.```"
   ]
  },
  {
   "cell_type": "code",
   "execution_count": 4,
   "metadata": {},
   "outputs": [
    {
     "name": "stdout",
     "output_type": "stream",
     "text": [
      "Выбранные признаки (RFE): Index(['year', 'cylinders', 'lat'], dtype='object')\n",
      "MAE с выбранными признаками (RFE): 5252.68\n",
      "Выбранные признаки (SelectKBest): ['year' 'cylinders' 'odometer']\n",
      "MAE с выбранными признаками (SelectKBest): 4910.27\n"
     ]
    }
   ],
   "source": [
    "import pandas as pd\n",
    "from sklearn.model_selection import train_test_split\n",
    "from sklearn.linear_model import LinearRegression\n",
    "from sklearn.feature_selection import SelectKBest, f_regression, RFE\n",
    "from sklearn.metrics import mean_absolute_error\n",
    "import numpy as np\n",
    "\n",
    "# Загрузка данных\n",
    "data = pd.read_excel('data/data_ford_price.xlsx')\n",
    "\n",
    "# Выбор нужных столбцов\n",
    "data = data[['price', 'year', 'cylinders', 'odometer', 'lat', 'long', 'weather']]\n",
    "\n",
    "# Удаление пропущенных значений\n",
    "data.dropna(inplace=True)\n",
    "\n",
    "# Определение целевой переменной и признаков\n",
    "y = data['price']\n",
    "X = data.drop(columns='price')\n",
    "\n",
    "# Разделение данных на обучающую и тестовую выборки\n",
    "X_train, X_test, y_train, y_test = train_test_split(X, y, test_size=0.3, random_state=30)\n",
    "\n",
    "# Использование RFE для выбора 3-х важных признаков\n",
    "estimator = LinearRegression()\n",
    "selector_rfe = RFE(estimator, n_features_to_select=3, step=1)\n",
    "selector_rfe = selector_rfe.fit(X_train, y_train)\n",
    "\n",
    "# Получение имен выбранных признаков RFE\n",
    "selected_features_rfe = X_train.columns[selector_rfe.support_]\n",
    "print(\"Выбранные признаки (RFE):\", selected_features_rfe)\n",
    "\n",
    "# Преобразование данных для выбранных признаков RFE\n",
    "X_train_selected_rfe = selector_rfe.transform(X_train)\n",
    "X_test_selected_rfe = selector_rfe.transform(X_test)\n",
    "\n",
    "# Обучение модели линейной регрессии на выбранных признаках RFE\n",
    "model_selected_rfe = LinearRegression()\n",
    "model_selected_rfe.fit(X_train_selected_rfe, y_train)\n",
    "y_pred_selected_rfe = model_selected_rfe.predict(X_test_selected_rfe)\n",
    "\n",
    "# Оценка модели на выбранных признаках RFE\n",
    "mae_selected_rfe = mean_absolute_error(y_test, y_pred_selected_rfe)\n",
    "print('MAE с выбранными признаками (RFE): %.2f' % mae_selected_rfe)\n",
    "\n",
    "# Использование SelectKBest для выбора 3-х важных признаков\n",
    "selector_kbest = SelectKBest(f_regression, k=3)\n",
    "X_train_selected_kbest = selector_kbest.fit_transform(X_train, y_train)\n",
    "X_test_selected_kbest = selector_kbest.transform(X_test)\n",
    "\n",
    "# Получение имен выбранных признаков SelectKBest\n",
    "selected_features_kbest = selector_kbest.get_feature_names_out(X.columns)\n",
    "print(\"Выбранные признаки (SelectKBest):\", selected_features_kbest)\n",
    "\n",
    "# Обучение модели линейной регрессии на выбранных признаках SelectKBest\n",
    "model_selected_kbest = LinearRegression()\n",
    "model_selected_kbest.fit(X_train_selected_kbest, y_train)\n",
    "y_pred_selected_kbest = model_selected_kbest.predict(X_test_selected_kbest)\n",
    "\n",
    "# Оценка модели на выбранных признаках SelectKBest\n",
    "mae_selected_kbest = mean_absolute_error(y_test, y_pred_selected_kbest)\n",
    "print('MAE с выбранными признаками (SelectKBest): %.2f' % mae_selected_kbest)\n"
   ]
  },
  {
   "cell_type": "markdown",
   "metadata": {},
   "source": [
    "### Вывод\n",
    "\n",
    "Метод отбора признаков **SelectKBest** показал наилучший результат на тестовой выборке, так как его значение MAE (4910.27) ниже, чем у метода RFE (5252.68). Это означает, что модель, обученная на признаках, выбранных с помощью SelectKBest, имеет меньшую среднюю абсолютную ошибку прогнозирования на тестовой выборке по сравнению с моделью, обученной на признаках, выбранных с помощью RFE.\n"
   ]
  }
 ],
 "metadata": {
  "kernelspec": {
   "display_name": "Python 3",
   "language": "python",
   "name": "python3"
  },
  "language_info": {
   "codemirror_mode": {
    "name": "ipython",
    "version": 3
   },
   "file_extension": ".py",
   "mimetype": "text/x-python",
   "name": "python",
   "nbconvert_exporter": "python",
   "pygments_lexer": "ipython3",
   "version": "3.11.2"
  }
 },
 "nbformat": 4,
 "nbformat_minor": 2
}
