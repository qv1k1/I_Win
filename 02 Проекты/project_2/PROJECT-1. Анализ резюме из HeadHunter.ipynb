{
 "cells": [
  {
   "cell_type": "markdown",
   "metadata": {},
   "source": [
    "# <center> 1. Постановка задачи </center>\n",
    "\n",
    "> ✍ Настало время попробовать свои силы в реальном Data Science-проекте. Вам предстоит решить часть настоящей бизнес-задачи и примерить роль аналитика в компании HeadHunter. Проект станет новым этапом сбора вашего портфолио на GitHub, которым вы сможете похвастаться перед работодателем!\n",
    "\n",
    "<center> <img src=https://lms-cdn.skillfactory.ru/assets/courseware/v1/7411a8e45affb7f8c37df2bb2ff1a8e4/asset-v1:SkillFactory+DSPR-2.0+14JULY2021+type@asset+block/dst-3.0_16_1_0.png width=400px height=300px> </center>\n",
    "\n",
    "**<center>ОПИСАНИЕ ЗАДАЧИ</center>**\n",
    "\n",
    "В вашем распоряжении будет база резюме, выгруженная с сайта поиска вакансий hh.ru.\n",
    "\n",
    "> Файл с исходными данными вы можете скачать [здесь](https://drive.google.com/file/d/1Kb78mAWYKcYlellTGhIjPI-bCcKbGuTn/view?usp=sharing).\n",
    "\n",
    "Проблематика: часть соискателей не указывает желаемую заработную плату, когда составляет своё резюме."
   ]
  },
  {
   "cell_type": "markdown",
   "metadata": {},
   "source": [
    "Чем это плохо?\n",
    "\n",
    "Это является помехой для рекомендательной системы *HeadHunter*, которая подбирает соискателям список наиболее подходящих вакансий, а работодателям — список наиболее подходящих специалистов.\n",
    "\n",
    "> ⭐ Компания HeadHunter хочет построить модель, которая бы автоматически определяла примерный уровень заработной платы, подходящей пользователю, исходя из информации, которую он указал о себе. Но, как вы знаете, прежде чем построить модель, данные необходимо преобразовать, исследовать и очистить. **В этом и состоит наша с вами задача**!\n",
    "\n",
    "**ОРГАНИЗАЦИОННАЯ ИНФОРМАЦИЯ**\n",
    "\n",
    "Наш проект будет состоять из четырёх частей:\n",
    "1. базовый анализ структуры данных\n",
    "2. преобразование данных\n",
    "3. разведывательный анализ\n",
    "4. очистка данных\n",
    "\n",
    "Каждая часть будет состоять из блока практических заданий, которые вам необходимо выполнить в своих *jupyter-ноутбуках*, и контрольных вопросов на платформе, отвечая на которые вы сможете проверить верность своего решения. Задания выполняются последовательно.\n",
    "\n",
    "Помимо проверки заданий на платформе, вам предстоит отправить свой код ментору для code-ревью. Вам будет предоставлен ноутбук-шаблон и требования, согласно которым вы должны оформить своё решение.\n",
    "\n",
    "**ЧТО НЕОБХОДИМО СДЕЛАТЬ ДЛЯ УСПЕШНОГО ВЫПОЛНЕНИЯ ПРОЕКТА?**\n",
    "\n",
    ">* Внимательно изучить детали задачи.\n",
    ">* Скачать уже знакомый [датасет](https://drive.google.com/file/d/1Kb78mAWYKcYlellTGhIjPI-bCcKbGuTn/view?usp=sharing) и [ноутбук-шаблон](https://lms-cdn.skillfactory.ru/assets/courseware/v1/1577d067038f8073197105c174f05822/asset-v1:SkillFactory+DSPR-2.0+14JULY2021+type@asset+block/Project-1._%D0%9D%D0%BE%D1%83%D1%82%D0%B1%D1%83%D0%BA-%D1%88%D0%B0%D0%B1%D0%BB%D0%BE%D0%BD.ipynb).\n",
    ">* Обязательно ознакомиться с дополнительным теоретическим материалом, который даётся перед заданием.\n",
    ">* Воспользоваться нашими советами и подсказками при выполнении проекта.\n",
    ">* Ответить на все контрольные вопросы: за них вы можете максимально **набрать 30 баллов на платформе**.\n",
    ">* Загрузить ноутбук со своим решением на GitHub, оформив его в соответствии с требованиями.\n",
    ">* Сдать проект на проверку и **получить 10 баллов** (из них 8 баллов — за основное задание и 2 балла — за дополнительное) за выводы по разведывательному анализу.\n",
    ">* Получить обратную связь от команды курса.\n",
    "\n",
    "**Для успешного выполнения проекта вам необходимо набрать 21 балл из 40 возможных.**\n",
    "\n",
    "> Требования к оформлению ноутбука-решения\n",
    ">* Решение оформляется только в Jupyter Notebook.\n",
    ">* Решение оформляется в соответствии с ноутбуком-шаблоном.\n",
    ">* Каждое задание выполняется в отдельной ячейке, выделенной под задание (в шаблоне они помечены **как ваш код здесь**). Не следует создавать множество ячеек для решения задачи — это создаёт неудобства при проверке.\n",
    ">* Код для каждого задания оформляется в одной-двух jupyter-ячейках (не стоит создавать множество ячеек для решения задачи, это усложняет проверку).\n",
    ">* Решение должно использовать только пройденный материал: переменные, основные структуры данных (списки, словари, множества), циклы, функции, библиотеки *numpy, pandas, matplotlib, seaborn, plotly*. Если вы думаете, что для решения необходимо воспользоваться сторонними библиотеками или инструментами (например Excel), другими языками программирования или неизученными конструкциями, вы ошибаетесь :) Все задания решаются с помощью уже знакомых методов.\n",
    ">* Код должен быть читаемым и понятным: имена переменных и функций отражают их сущность, важно избегать многострочных конструкций и условий.\n",
    ">* Пользуйтесь руководством [PEP 8](https://lms.skillfactory.ru/courses/course-v1:SkillFactory+DSPR-2.0+14JULY2021/jump_to_id/958c1e42860d475999e9f9381dfe8b5a).\n",
    ">* Графики оформляются в соответствии с теми правилами, которые мы приводили [в модуле по визуализации данных](https://lms.skillfactory.ru/courses/course-v1:SkillFactory+DSPR-2.0+14JULY2021/jump_to_id/1fa00a018157484a9bae5d4557ef3e7c).\n",
    ">* **Обязательное требование**: графики должны содержать название, отражающее их суть, и подписи осей.\n",
    ">* Выводы к графикам оформляются в формате Markdown под самим графиком в отдельной ячейке (в шаблоне они помечены как **ваши выводы здесь**). Выводы должны быть представлены в виде небольших связанных предложений на русском языке."
   ]
  },
  {
   "cell_type": "code",
   "execution_count": null,
   "metadata": {},
   "outputs": [],
   "source": [
    "# import pandas as pd\n",
    "# import numpy as np\n",
    "# import matplotlib.pyplot as plt\n",
    "# import seaborn as sns\n",
    "# import plotly.express as px"
   ]
  },
  {
   "cell_type": "markdown",
   "metadata": {},
   "source": [
    "Задание 2.1\n",
    "\n",
    "Прочитайте данные с помощью библиотеки Pandas. Перед чтением обратите внимание на разделитель внутри файла.\n",
    "\n",
    "Чему равна размерность таблицы? Введите её в виде кортежа (число строк, число столбцов).\n",
    "\n"
   ]
  },
  {
   "cell_type": "code",
   "execution_count": null,
   "metadata": {},
   "outputs": [],
   "source": [
    "data = pd.read_csv('data/dst-3.0_16_1_hh_database.csv', sep=';')\n",
    "print(data.shape)\n",
    "\n",
    "# (44744, 12)"
   ]
  },
  {
   "cell_type": "markdown",
   "metadata": {},
   "source": [
    "Задание 2.2\n",
    "\n",
    "Выведите несколько первых (последних) строк таблицы, чтобы убедиться в том, что ваши данные не повреждены. Ознакомьтесь с признаками и их структурой.\n",
    "\n",
    "В каком формате представлен порядок слов в признаке «Пол, возраст»?"
   ]
  },
  {
   "cell_type": "code",
   "execution_count": null,
   "metadata": {},
   "outputs": [],
   "source": [
    "data.tail(2)\n",
    "\n",
    "# <Пол , возраст , дата рождения>"
   ]
  },
  {
   "cell_type": "markdown",
   "metadata": {},
   "source": [
    "Задание 2.3\n",
    "\n",
    "Выведите основную информацию о числе непустых значений в столбцах и их типах в таблице.\n",
    "\n",
    "Какой тип данных имеют все столбцы? Введите его в поле для ответа."
   ]
  },
  {
   "cell_type": "code",
   "execution_count": null,
   "metadata": {},
   "outputs": [],
   "source": [
    "data.info()\n",
    "\n",
    "# object"
   ]
  },
  {
   "cell_type": "markdown",
   "metadata": {},
   "source": [
    "Задание 2.4\n",
    "\n",
    "Обратите внимание на информацию о числе непустых значений.\n",
    "\n",
    "Выберите все признаки, в которых есть пропуски в данных:"
   ]
  },
  {
   "cell_type": "markdown",
   "metadata": {},
   "source": [
    "* Опыт работы \n",
    "* Последнее/нынешнее место работы  \n",
    "* Последняя/нынешняя должность"
   ]
  },
  {
   "cell_type": "markdown",
   "metadata": {},
   "source": [
    "Задание 2.5\n",
    "\n",
    "Выведите основную статистическую информацию о столбцах.\n",
    "\n",
    "Сколько уникальных значений содержится в столбце «Опыт работы»?\n",
    "> 44413\n",
    "\n",
    " \n",
    "Какая из искомых должностей самая распространённая? Введите название.\n",
    ">Системный администратор\n"
   ]
  },
  {
   "cell_type": "code",
   "execution_count": null,
   "metadata": {},
   "outputs": [],
   "source": [
    "# 1-ый вариант\n",
    "# Сколько уникальных значений содержится в столбце «Опыт работы»?\n",
    "display(data['Опыт работы'].nunique())\n",
    "\n",
    "# 44413\n",
    "\n",
    "# Какая из искомых должностей самая распространённая? Введите название.\n",
    "result = data['Ищет работу на должность:'].value_counts(normalize=True)\n",
    "print(result.index[0])\n",
    "\n",
    "# Системный администратор\n",
    "\n",
    "# 2-ой вариант\n",
    "display(data.describe())"
   ]
  },
  {
   "cell_type": "markdown",
   "metadata": {},
   "source": [
    "**<center> 3. Преобразование данных</center>**\n",
    "\n",
    "> ✍ Теперь, когда мы познакомились с информацией в таблице, настало время самого сложного этапа — **предобработки данных**.\n",
    "\n",
    "Как вы могли уже заметить, наши данные очень «сырые»: признаки представлены в неудобном для анализа и очистки формате.\n",
    "\n",
    "Например, столбец «Пол/возраст» содержит информацию и о поле, и о возрасте, и о дате рождения. Желаемая заработная плата представлена в виде текста с указанием валюты, в которой она исчисляется, и так далее…\n",
    "\n",
    "Всё это не позволяет нам визуально оценить зависимости в данных: построить гистограмму распределения зарплаты и возраста, столбчатую диаграмму зарплаты по уровню образования и многое другое. Более того, мы не можем в таком виде заполнить пропущенные значения числовыми константами или найти выбросы. Иными словами, нам необходимо **преобразовать данные**, что позволит грамотно работать с ними.\n",
    "\n",
    ">⚡ **Важно**! Старайтесь выполнять обработку с помощью функций-преобразований (*lambda-функций*), которые принимают аргументом элемент столбца и возвращают его преобразованную версию. Данные функции применяйте к признакам с помощью метода *apply*()."
   ]
  },
  {
   "cell_type": "markdown",
   "metadata": {},
   "source": [
    "Преобразуем данные с помощью метода apply(): применим к столбцу lambda-функцию, в которой будем удалять из строки с комбинациями вакцин пробелы и разделять комбинацию на отдельные составляющие по запятым.\n",
    "\n",
    "```\n",
    "combination_last = combination_last.apply(lambda x: x.replace(' ', '').split(','))\n",
    "```\n",
    "\n",
    "В результате в каждой строке столбца получим список с отдельными вакцинами, которые используются в стране:\n",
    "\n",
    "Создадим словарь vaccines_dict={}, ключами которого будут являться уникальные вакцины, а значениями — количество стран, в которых они используются. Изначально словарь пустой.\n",
    "\n",
    "Заполнение словаря реализуем «в лоб» — используя циклы. Во внешнем цикле будем проходиться по всем элементам Series combination_last. На каждой итерации цикла в переменной цикла vaccines_list будет находиться список вакцин, которые используются в стране.\n",
    "\n",
    "Во внутреннем цикле будем проходиться по элементам этого списка, вакцинам. Переменную внутреннего цикла назовём vaccine.\n",
    "\n",
    "В теле внутреннего цикла проверяем условие, что текущей вакцины ещё нет среди ключей словаря vaccones_dict. Если это условие выполняется, добавляем вакцину в словарь со значением 1. В противном случае увеличиваем текущее количество стран, в которых используется данная вакцина:\n",
    "\n",
    "```\n",
    "vaccines_dict = {} \n",
    "#создаём цикл по элементам Series combination_last\n",
    "for vaccines_list in combination_last:\n",
    "    #создаём цикл по элементам списка с вакцинами\n",
    "    for vaccine in vaccines_list:\n",
    "        #проверяем условие, что текущей вакцины ещё нет среди ключей словаря\n",
    "        if vaccine not in vaccines_dict:#если условие выполняется\n",
    "            vaccines_dict[vaccine] = 1 #заносим вакцину в словарь со значением 1\n",
    "        else: #в противном случае\n",
    "            vaccines_dict[vaccine] += 1 #увеличивает количество\n",
    "```\n",
    "\n",
    "В результате работы получаем словарь, который преобразуем в объект Series. Далее выделим семь наиболее популярных вакцин, а остальные обозначим как 'other'. Для этого сортируем Series по убыванию. Вычислим суммарное количество стран, в которых используются вакцины, не попавшие в наш ТОП-7, результат запишем в Series по индексу 'other'.\n",
    "\n",
    "Далее выделим восемь наибольших значений в полученной Series — для них и будем строить круговую диаграмму.\n",
    "\n",
    "```\n",
    "vaccines = pd.Series(vaccines_dict).sort_values(ascending=False)\n",
    "vaccines['other'] = vaccines[7:].sum()\n",
    "vaccines = vaccines.sort_values(ascending=False)[:8]\n",
    "```"
   ]
  },
  {
   "cell_type": "markdown",
   "metadata": {},
   "source": [
    "> Начнём с простого — с признака «Образование и ВУЗ». Его текущий формат — это: <Уровень образования год выпуска ВУЗ специальность...>. Например:\n",
    "\n",
    "* Высшее образование 2016 Московский авиационный институт (Национальный исследовательский университет)\n",
    "* Неоконченное высшее образование 2000 Балтийская государственная академия рыбопромыслового флота\n",
    "\n",
    "Нас будет интересовать **только уровень образования**. Причём, для простоты мы будем считать, что соискатель указывает свой максимальный уровень образования в первых трёх словах столбца “Образование и ВУЗ”.\n",
    "\n",
    "Создайте с помощью функции-преобразования новый признак «Образование», который должен иметь четыре категории: «высшее», «неоконченное высшее», «среднее специальное» и «среднее».\n",
    "\n",
    "Выполните преобразование, ответьте на контрольные вопросы и удалите признак «Образование и ВУЗ».\n",
    "\n",
    "> Совет первый\n",
    "\n",
    "Обратите внимание на структуру текста в столбце «Образование и ВУЗ». Гарантируется, что текущий уровень образования соискателя всегда отражён в первых двух словах и начинается с заглавной буквы. Воспользуйтесь этим.\n",
    "\n",
    "> Совет второй\n",
    "\n",
    "Проверяйте полученные категории, например с помощью метода unique()"
   ]
  },
  {
   "cell_type": "code",
   "execution_count": null,
   "metadata": {},
   "outputs": [],
   "source": [
    "def get_education(arg):\n",
    "    # Разбиваем на слова и отбираем первые 3 слова\n",
    "    arg = ' '.join(arg.split(' ')[:3])\n",
    "    # Возводим функцию проверки слов на совпадение\n",
    "    if 'Высшее' in arg:\n",
    "        return 'высшее'\n",
    "    elif 'Неоконченное высшее' in arg:\n",
    "        return 'неоконченное высшее'\n",
    "    elif 'Среднее специальное' in arg:\n",
    "        return 'среднее специальное'\n",
    "    elif 'Среднее образование' in arg:\n",
    "        return 'среднее'\n",
    "# Создаем новую переменную и заносим туда функцию    \n",
    "data['Образование'] = data['Образование и ВУЗ'].apply(get_education)\n",
    "# Удаляем не нужный столбец\n",
    "data = data.drop('Образование и ВУЗ', axis=1)\n"
   ]
  },
  {
   "cell_type": "markdown",
   "metadata": {},
   "source": [
    "Задание 3.1\n",
    "\n",
    "Сколько соискателей имеет средний уровень образования (школьное образование)?"
   ]
  },
  {
   "cell_type": "code",
   "execution_count": null,
   "metadata": {},
   "outputs": [],
   "source": [
    "# Выводим ответ на задание\n",
    "print(data['Образование'].value_counts()['среднее'])\n",
    "\n",
    "# 559"
   ]
  },
  {
   "cell_type": "markdown",
   "metadata": {},
   "source": [
    "Теперь нас интересует столбец «Пол, возраст». Его текущий формат: <Пол , возраст, дата рождения>. Например:\n",
    "\n",
    "* Мужчина , 39 лет , родился 27 ноября 1979\n",
    "* Женщина , 21 год , родилась 13 января 2000\n",
    "\n",
    "Как вы понимаете, нам необходимо выделить каждый параметр в отдельный столбец..\n",
    "\n",
    "**Создайте два новых признака** «Пол» и «Возраст». При этом важно учесть:\n",
    "\n",
    "* Признак пола должен иметь два уникальных строковых значения: М — мужчина, Ж — женщина.\n",
    "* Признак возраста должен быть представлен целыми числами.\n",
    "\n",
    "Выполните преобразование, ответьте на контрольные вопросы и удалите признак «Пол, возраст» из таблицы.\n",
    "\n",
    "> Совет\n",
    "\n",
    "Обратите внимание на структуру текста в столбце, а точнее на то, как разделены параметры пола, возраста и даты рождения между собой — символом ' , '.\n",
    "\n",
    "Гарантируется, что структура одинакова для всех строк в таблице. Вы можете воспользоваться этим."
   ]
  },
  {
   "cell_type": "code",
   "execution_count": null,
   "metadata": {},
   "outputs": [],
   "source": [
    "# 1ый способ\n",
    "def get_gender(arg):\n",
    "    arg =' '.join(arg.split(' ')[:1])\n",
    "    if 'Мужчина' in arg:\n",
    "        return 'М'\n",
    "    elif 'Женщина' in arg:\n",
    "        return 'Ж'\n",
    "data['Пол']= data['Пол, возраст'].apply(get_gender)\n",
    "\n",
    "def get_age(arg):\n",
    "    arg =' '.join(arg.split(' ')[0:2])\n",
    "    return int(arg)\n",
    "data['Возраст']= data['Пол, возраст'].apply(get_age)\n",
    "\n",
    "data = data.drop('Пол, возраст', axis=1)\n",
    "\n",
    "print(round(data['Пол'].value_counts(normalize=True)['Ж'] * 100, 2))\n",
    "print(round(data['Возраст'].mean(), 2))\n",
    " "
   ]
  },
  {
   "cell_type": "code",
   "execution_count": null,
   "metadata": {},
   "outputs": [],
   "source": [
    "# 2ой способ\n",
    "def get_sex(arg):\n",
    "    if 'Мужчина' in arg:\n",
    "        return 'М'\n",
    "    else:\n",
    "        return 'Ж'\n",
    "    \n",
    "def get_age(arg):\n",
    "    arg_splitted = arg.split(' ')\n",
    "    year_words=['год', 'года', 'лет']\n",
    "    for index, item in enumerate (arg_splitted):\n",
    "        if item in year_words:\n",
    "            return int(arg_splitted[index-1])\n",
    "\n",
    "data['Пол'] = data['Пол, возраст'].apply(get_sex)\n",
    "data['Возраст'] = data['Пол, возраст'].apply(get_age)\n",
    "data = data.drop('Пол, возраст', axis=1)\n",
    "\n",
    "print(round(data['Пол'].value_counts(normalize=True)['Ж'] * 100, 2))\n",
    "print(round(data['Возраст'].mean(), 2))"
   ]
  },
  {
   "cell_type": "markdown",
   "metadata": {},
   "source": [
    "Следующим этапом преобразуем признак «Опыт работы». Его текущий формат: <Опыт работы: n лет m месяцев, периоды работы в различных компаниях…>.\n",
    "\n",
    "Из столбца нам необходимо выделить общий опыт работы соискателя в месяцах, новый признак назовём «Опыт работы (месяц)».\n",
    "\n",
    "Для начала обсудим условия решения задачи:\n",
    "\n",
    "1. Во-первых, в данном признаке есть пропуски. Условимся, что, если мы встречаем пропуск, оставляем его как есть (функция-преобразование возвращает NaN).\n",
    "2. Во-вторых, в данном признаке есть скрытые пропуски. Для некоторых соискателей в столбце стоит значение Не указано. Их тоже обозначим как NaN (функция-преобразование возвращает NaN)\n",
    "3. В-третьих, нас не интересует информация, которая описывается после указания опыта работы (периоды работы в различных компаниях).\n",
    "4. В-четвёртых, у нас есть проблема: опыт работы может быть представлен только в годах или только в месяцах. Например, можно встретить следующие варианты:\n",
    "* Опыт работы 3 года 2 месяца\n",
    "* Опыт работы 4 года\n",
    "* Опыт работы 11 месяцев\n",
    "\n",
    "Учитывайте эту особенность в вашем коде.\n",
    "\n",
    "**В результате преобразования у вас должен получиться столбец, содержащий информацию о том, сколько месяцев проработал соискатель**.\n",
    "\n",
    "Выполните преобразование и удалите столбец «Опыт работы» из таблицы."
   ]
  },
  {
   "cell_type": "code",
   "execution_count": null,
   "metadata": {},
   "outputs": [],
   "source": [
    "def get_experience(arg):\n",
    "    if arg is np.nan or arg == 'Не указано':\n",
    "        return None\n",
    "    year_words=['год', 'года', 'лет']\n",
    "    month_words=['месяц', 'месяца', 'месяцев']\n",
    "    arg_splitted = arg.split(' ')[:7]\n",
    "    years = 0\n",
    "    months = 0\n",
    "    for index, item in enumerate (arg_splitted):\n",
    "        if item in year_words:\n",
    "            years = int(arg_splitted[index-1])\n",
    "        if item in month_words:\n",
    "            months = int(arg_splitted[index-1])\n",
    "    return int(years*12 + months)\n",
    "data['Опыт работы (месяц)'] = data['Опыт работы'].apply(get_experience)\n",
    "data = data.drop('Опыт работы', axis=1)\n"
   ]
  },
  {
   "cell_type": "markdown",
   "metadata": {},
   "source": [
    "Задание 3.3\n",
    "\n",
    "Чему равен медианный опыт работы (в месяцах) в нашей таблице?"
   ]
  },
  {
   "cell_type": "code",
   "execution_count": null,
   "metadata": {},
   "outputs": [],
   "source": [
    "print(round(data['Опыт работы (месяц)'].median()))\n",
    "# 100"
   ]
  },
  {
   "cell_type": "markdown",
   "metadata": {},
   "source": [
    "Хорошо идём! :) Следующий на очереди — признак «Город, переезд, командировки». Информация в нём представлена в следующем виде: <Город , (метро) , готовность к переезду (города для переезда) , готовность к командировкам>.\n",
    "\n",
    "В скобках указаны необязательные параметры строки. Например, можно встретить следующие варианты:\n",
    "\n",
    "Москва , не готов к переезду , готов к командировкам\n",
    "Москва , м. Беломорская , не готов к переезду, не готов к командировкам\n",
    "Воронеж , готов к переезду (Сочи, Москва, Санкт-Петербург) , готов к командировкам\n",
    "Создадим отдельные признаки «Город», «Готовность к переезду», «Готовность к командировкам». При этом важно учесть:\n",
    "\n",
    "⛏ Признак «Город» может содержать только четыре категории: «Москва», «Санкт-Петербург» и «город-миллионник» (их список ниже), остальные обозначьте как «другие».\n",
    "\n",
    "Список городов-миллионников\n",
    "million_cities = ['Новосибирск', 'Екатеринбург', 'Нижний Новгород', 'Казань', 'Челябинск', 'Омск', 'Самара', 'Ростов-на-Дону', 'Уфа', 'Красноярск', 'Пермь', 'Воронеж', 'Волгоград' ]\n",
    "Информация о метро, рядом с которым проживает соискатель, нас не интересует.\n",
    "\n",
    "⛏ Признак «Готовность к переезду» должен иметь два возможных варианта: True или False. Обратите внимание, что возможны несколько вариантов описания готовности к переезду в признаке «Город, переезд, командировки». Например:\n",
    "\n",
    "… , готов к переезду , …\n",
    "… , не готова к переезду , …\n",
    "… , готова к переезду (Москва, Санкт-Петербург, Ростов-на-Дону)\n",
    "… , хочу переехать (США) , …\n",
    "Нас интересует только сам факт возможности/желания переезда.\n",
    "\n",
    "⛏ Признак «Готовность к командировкам» должен иметь два возможных варианта: True или False. Обратите внимание, что возможны несколько вариантов описания готовности к командировкам в признаке «Город, переезд, командировки». Например:\n",
    "\n",
    "… , готов к командировкам , …\n",
    "… , готова к редким командировкам , …\n",
    "… , не готов к командировкам , …\n",
    "Нас интересует только сам факт готовности к командировке.\n",
    "\n",
    "Ещё один важный момент: при выгрузке данных у некоторых соискателей «потерялась» информация о готовности к командировкам. Давайте по умолчанию будем считать, что такие соискатели не готовы к командировкам.\n",
    "\n",
    "Выполните преобразования и удалите столбец «Город, переезд, командировки» из таблицы.\n",
    "\n",
    "Совет\n",
    "Обратите внимание на то, что структура текста может меняться в зависимости от указания ближайшего метро. Учтите это, если будете использовать порядок слов в своей программе."
   ]
  },
  {
   "cell_type": "code",
   "execution_count": null,
   "metadata": {},
   "outputs": [],
   "source": [
    "def get_city(arg):\n",
    "    million_cities = ['Новосибирск', 'Екатеринбург', 'Нижний Новгород',\n",
    "                      'Казань', 'Челябинск', 'Омск', 'Самара', 'Ростов-на-Дону', \n",
    "                      'Уфа', 'Красноярск', 'Пермь', 'Воронеж', 'Волгоград'\n",
    "                     ]\n",
    "    city = arg.split(' , ')[0]\n",
    "    if (city == 'Москва') or (city == 'Санкт-Петербург'):\n",
    "        return city\n",
    "    elif city in million_cities:\n",
    "        return 'город миллионник'\n",
    "    else:\n",
    "        return 'другие'\n",
    "    \n",
    "def get_ready_to_move(arg):\n",
    "    if ('не готов к переезду' in arg) or ('не готова к переезду' in arg):\n",
    "        return False\n",
    "    elif 'хочу' in arg:\n",
    "        return True\n",
    "    else:\n",
    "        return True\n",
    "    \n",
    "def get_ready_for_bisiness_trips(arg):\n",
    "    if ('командировка' in arg):\n",
    "        if ('не готов к командировкам' in arg) or('не готова к командировкам' in arg):\n",
    "            return False\n",
    "        else: \n",
    "            \n",
    "            return True\n",
    "    else:\n",
    "        return False\n",
    "    \n",
    "data['Город'] = data['Город, переезд, командировки'].apply(get_city)\n",
    "data['Готовность к переезду'] = data['Город, переезд, командировки'].apply(get_ready_to_move)\n",
    "data['Готовность к командировкам'] = data['Город, переезд, командировки'].apply(get_ready_for_bisiness_trips)\n",
    "data = data.drop('Город, переезд, командировки', axis=1)\n",
    "\n"
   ]
  },
  {
   "cell_type": "markdown",
   "metadata": {},
   "source": [
    "Задание 3.4\n",
    "\n",
    "Сколько процентов соискателей живут в Санкт-Петербурге? Ответ округлите до целого."
   ]
  },
  {
   "cell_type": "code",
   "execution_count": null,
   "metadata": {},
   "outputs": [],
   "source": [
    "# Сколько процентов соискателей живут в Санкт-Петербурге? Ответ округлите до целого.\n",
    "print(round(data['Город'].value_counts(normalize=True)['Санкт-Петербург'] * 100)) \n",
    "\n"
   ]
  },
  {
   "cell_type": "markdown",
   "metadata": {},
   "source": [
    "Сколько процентов соискателей готовы одновременно и к переездам, и к командировкам? Ответ округлите до целого."
   ]
  },
  {
   "cell_type": "code",
   "execution_count": null,
   "metadata": {},
   "outputs": [],
   "source": [
    "# Сколько процентов соискателей готовы одновременно и к переездам, и к командировкам? Ответ округлите до целого.\n",
    "print(round(data[data['Готовность к переезду'] & data['Готовность к командировкам']].shape[0] / data.shape[0] *100))"
   ]
  },
  {
   "cell_type": "markdown",
   "metadata": {},
   "source": [
    "Рассмотрим поближе признаки «Занятость» и «График».\n",
    "\n",
    "Сейчас признаки представляют собой набор категорий желаемой занятости (полная занятость, частичная занятость, проектная работа, волонтёрство, стажировка) и желаемого графика работы (полный день, сменный график, гибкий график, удалённая работа, вахтовый метод).\n",
    "\n",
    "На сайте hh.ru соискатель может указывать различные комбинации данных категорий, например:\n",
    "\n",
    "полная занятость, частичная занятость;\n",
    "частичная занятость, проектная работа, волонтёрство;\n",
    "полный день, удалённая работа;\n",
    "вахтовый метод, гибкий график, удалённая работа, полная занятость.\n",
    "Такой вариант признаков имеет множество различных комбинаций, а значит, множество уникальных значений, что мешает анализу. Нужно это исправить!\n",
    "\n",
    "Давайте создадим признаки-«мигалки» для каждой категории: если категория присутствует в списке желаемых соискателем, то в столбце на месте строки рассматриваемого соискателя ставится True, иначе — False.\n",
    "\n",
    "Такой метод преобразования категориальных признаков называется One Hot Encoding, его схема представлена на рисунке ниже:\n",
    "\n",
    "<center> <img src=https://lms-cdn.skillfactory.ru/assets/courseware/v1/5461aeb8c39a8cb9731eb5f52b66f5a3/asset-v1:SkillFactory+DSPR-2.0+14JULY2021+type@asset+block/dst-3.0_16_3_1.png width=400px height=300px> </center>\n",
    "\n",
    "Выполните данное преобразование для признаков «Занятость» и «График», ответьте на контрольные вопросы, после чего удалите их из таблицы."
   ]
  },
  {
   "cell_type": "code",
   "execution_count": null,
   "metadata": {},
   "outputs": [],
   "source": [
    "employments = ['полная занятость', 'частичная занятость',\n",
    "              'проектная работа', 'волонтерство', 'стажировка']\n",
    "charts = ['полный день', 'сменный график', \n",
    "         'гибкий график', 'удаленная работа',\n",
    "         'вахтовый метод']\n",
    "for employment, chart in zip(employments, charts):\n",
    "    data[employment] = data['Занятость'].apply(lambda x: employment in x)\n",
    "    data[chart] = data['График'].apply(lambda x: chart in x)\n",
    "data = data.drop('Занятость', axis=1)\n",
    "data = data.drop('График', axis=1)\n",
    "\n",
    "# Сколько людей ищут проектную работу и волонтёрство (в обоих столбцах стоит True)?\n",
    "print(data[data['проектная работа'] & data['волонтерство']].shape[0])\n",
    "# Сколько людей хотят работать вахтовым методом и с гибким графиком (в обоих столбцах стоит True)?\n",
    "print(data[data['вахтовый метод'] & data['гибкий график']].shape[0])"
   ]
  },
  {
   "attachments": {
    "image.png": {
     "image/png": "[encoded data removed]"
    }
   },
   "cell_type": "markdown",
   "metadata": {},
   "source": [
    "Наконец, мы добрались до самого главного — признака заработной платы «ЗП». \n",
    "\n",
    "В чём наша проблема? — В том, что помимо желаемой заработной платы соискатель указывает валюту, в которой он хотел бы её получать, например:\n",
    "\n",
    "* 30 000 руб.;\n",
    "* 50 000 грн.;\n",
    "* 550 USD.\n",
    "\n",
    "Нам бы хотелось видеть заработную плату в единой валюте, например в рублях. Возникает вопрос: а где взять курс валют по отношению к рублю?\n",
    "\n",
    "На самом деле язык Python имеет в арсенале огромное количество возможностей получения данной информации: от обращения к API Центробанка, до использования специальных библиотек, например [pycbrf](https://github.com/idlesign/pycbrf). Однако в рамках нашего проекта эти темы мы рассматривать не будем.\n",
    "\n",
    "Поэтому просто обратимся к профильным интернет-ресурсам для получения данных о курсе в виде текстовых файлов. Например, [MDF.RU](https://mfd.ru/export/#Alias=false&Period=1&timeframeValue=1&timeframeDatePart=day&StartDate=04.10.2021&EndDate=04.10.2021&SaveFormat=0&SaveMode=0&FieldSeparator=%253b&DecimalSeparator=.&DateFormat=yyyyMMdd&TimeFormat=HHmmss&AddHeader=true&RecordFormat=0&Fill=false): данный ресурс позволяет удобно экспортировать данные о курсах различных валют и акций за указанные периоды в виде csv. Мы уже сделали выгрузку курсов валют, которые встречаются в наших данных за период с 29.12.2017 по 05.12.2019: скачать её вы можете [здесь](https://lms-cdn.skillfactory.ru/assets/courseware/v1/15abf80f45a2f3e93c3274101b451c67/asset-v1:SkillFactory+DSPR-2.0+14JULY2021+type@asset+block/ExchangeRates.zip).\n",
    "\n",
    "**Создайте новый DataFrame из скачанного файла**. В полученной таблице нас будут интересовать столбцы:\n",
    "\n",
    "* currency — наименование валюты в ISO-кодировке;\n",
    "* date — дата;\n",
    "* proportion — пропорция;\n",
    "* close — цена закрытия (последний зафиксированный курс валюты на указанный день).\n",
    "\n",
    "Перед вами таблица соответствия наименований иностранных валют в наших данных и их общепринятых сокращений, которые представлены в файле с курсами валют.\n",
    "\n",
    ">**Пропорция** — это число, отражающее, скольким единицам валюты соответствует курс в таблице с курсами. Например для казахстанского тенге курс на 20.08.2019 составляет 17.197 руб. за 100 тенге, тогда итоговый курс равен: 17.197 / 100 = 0.17197 руб. за 1 тенге.\n",
    "\n",
    "Воспользуйтесь этой информацией в ваших преобразованиях.\n",
    "\n",
    "![image.png](attachment:image.png)\n",
    "\n",
    "\n",
    "Осталось только понять, откуда брать дату, по которой определяется курс. А вот же она — в признаке «Обновление резюме» содержится дата и время, когда соискатель выложил текущий вариант своего резюме. Нас интересует только дата, по ней мы и будем сопоставлять курсы валют.\n",
    "\n",
    "Теперь у нас есть вся необходимая информация для того, чтобы создать признак «ЗП (руб)» — заработная плата в рублях.\n",
    "\n",
    "Итак, давайте обсудим возможный алгоритм преобразования.\n",
    "\n",
    "> Подсказки\n",
    "1. Обновить признак \"Обновление резюме\" из таблицы с резюме, переведя его в формат datetime и выделив из него дату. То есть в дате обновления резюме мы намеренно отсекаем время, оставляя только дату выставления резюме. В тот же формат привести признак date из таблицы с валютами. Обратите внимание на формат даты в исходных столбцах (день-месяц-год), учтите этот факт при преобразовании.\n",
    "\n",
    "2. Выделить из столбца «ЗП» сумму желаемой заработной платы и наименование валюты, в которой она исчисляется. Наименование валюты перевести в стандарт ISO согласно таблице выше.\n",
    "\n",
    "3. Присоединить к таблице с резюме таблицу с курсами по столбцам с датой и названием валюты (подумайте, какой тип объединения надо выбрать, чтобы в таблице с резюме сохранились данные о заработной плате, изначально представленной в рублях). Значение close для рубля заполнить единицей 1 (курс рубля самого к себе).\n",
    "\n",
    "4. Умножить сумму желаемой заработной платы на присоединённый курс валюты (close) и разделить на пропорцию. Обратите внимание на пропуски после объединения в этих столбцах. Результат занести в новый столбец «ЗП (руб)».\n",
    "\n",
    "Удалите исходный столбец заработной платы «ЗП» и все промежуточные столбцы, если вы их создавали."
   ]
  },
  {
   "cell_type": "markdown",
   "metadata": {},
   "source": [
    "def get_salary_num(arg):\n",
    "    salary = float(arg.split(' ')[0])\n",
    "    return salary\n",
    "\n",
    "def get_salary_currency(arg):\n",
    "    currency_dict = {\n",
    "        'USD': 'USD', 'KZT': 'KZT',\n",
    "        'грн': 'UAH', 'белруб': 'BYN',\n",
    "        'EUR': 'EUR', 'KGS': 'KGS',\n",
    "        'сум': 'UZS', 'AZN': 'AZN'\n",
    "    }\n",
    "    curr = arg.split(' ')[1].replace('.', '')\n",
    "    if curr == 'руб':\n",
    "        return 'RUB'\n",
    "    else:\n",
    "        return currency_dict[curr]\n",
    "    \n",
    "rates = pd.read_csv('data/ExchangeRates.csv')\n",
    "rates['date'] = pd.to_datetime(rates['date'], dayfirst=True).dt.date\n",
    "data['Обновление резюме'] = pd.to_datetime(data['Обновление резюме'], dayfirst=True).dt.date\n",
    "data['ЗП (tmp)'] = data['ЗП'].apply(get_salary_num)\n",
    "data['Курс (tmp)'] = data['ЗП'].apply(get_salary_currency)\n",
    "merged = data.merge(\n",
    "    rates, \n",
    "    left_on=['Курс (tmp)', 'Обновление резюме'],\n",
    "    right_on=['currency', 'date',], \n",
    "    how='left'\n",
    ")\n",
    "merged['close'] = merged['close'].fillna(1)\n",
    "merged['proportion'] = merged['proportion'].fillna(1)\n",
    "data['ЗП (руб)'] = merged['close'] * merged['ЗП (tmp)'] / merged['proportion']\n",
    "data = data.drop(['ЗП', 'ЗП (tmp)', 'Курс (tmp)'], axis=1)\n",
    "print(round(data['ЗП (руб)'].median()/1000))"
   ]
  },
  {
   "cell_type": "markdown",
   "metadata": {},
   "source": [
    "# <center> 4. Исследование зависимостей в данных </center>\n",
    "\n",
    "> ✍ Теперь у нас есть всё необходимое, чтобы провести первичный анализ зависимостей в наших данных о резюме. Такой анализ часто называют разведывательным анализом (EDA) и он предназначен для выявления связей между признаками, выявления закономерностей, определения распределений признаков, поиска аномалий и других дефектов данных.\n",
    "\n",
    ">Мы уже начали знакомиться с этой важнейшей темой, когда изучали визуализацию и очистку данных, но подробнее мы поговорим о ней в отдельном разделе нашего курса. А пока давайте применим знания о визуальном анализе на практике!\n",
    "\n",
    ">⚡ **Важно**! Основная часть дальнейшей работы будет производиться с созданными в прошлом юните признаками. Вы не сможете выполнить предстоящие задания, если ещё не прошли предыдущие.\n",
    "\n",
    "*Совет*\n",
    "\n",
    "Проще всего выполнять следующие задания с помощью интерактивной визуализации в plotly, чтобы сразу из графиков отвечать на контрольные вопросы. Но вы можете использовать и библиотеки pandas, matplotlib, seaborn.\n",
    "\n",
    ">Постройте распределение признака «Возраст». Опишите распределение, отвечая на следующие вопросы:\n",
    ">* Чему равна мода распределения?\n",
    ">* Каковы предельные значения признака, в каком примерном интервале находится возраст большинства соискателей?\n",
    ">* Есть ли аномалии для данного признака? Если есть, то какие значения вы бы причислили к таковым?\n",
    "\n",
    "*Совет*\n",
    "\n",
    "Постройте гистограмму и коробчатую диаграмму рядом."
   ]
  },
  {
   "cell_type": "code",
   "execution_count": null,
   "metadata": {},
   "outputs": [],
   "source": [
    "# import plotly.express as px\n",
    "fig = px.histogram(\n",
    "    data_frame=data,\n",
    "    x='Возраст',\n",
    "    title='Распределение возраста соискателей',\n",
    "    histnorm='percent',\n",
    "    width=500,\n",
    "    marginal='box',\n",
    ")\n",
    "fig.show()"
   ]
  },
  {
   "cell_type": "markdown",
   "metadata": {},
   "source": [
    "ваши выводы по графику здесь:\n",
    "\n",
    "* Большинство соискателей находятся в возрасте 27 и до 36 лет\n",
    "* Предельные значения в признаке находятся в диапозоне от 14 лет до 36 лет\n",
    "* Анамали в таблице присутсвуют и они проявляются с 50 лет и выше\n",
    "* Модальное значение возраста сосискателей составляет 30 лет "
   ]
  },
  {
   "cell_type": "markdown",
   "metadata": {},
   "source": [
    "2. Постройте распределение признака **\"Опыт работы (месяц)\"**. Опишите данное распределение, отвечая на следующие вопросы: чему равна мода распределения, каковы предельные значения признака, в каком примерном интервале находится опыт работы большинства соискателей? Есть ли аномалии для признака опыта работы, какие значения вы бы причислили к их числу?\n",
    "*Совет: постройте гистограмму и коробчатую диаграмму рядом.*"
   ]
  },
  {
   "cell_type": "code",
   "execution_count": null,
   "metadata": {},
   "outputs": [],
   "source": [
    "fig = px.histogram(\n",
    "    data_frame=data,\n",
    "    x='Опыт работы (месяц)',\n",
    "    title='Распределение опыта работы соискателей',\n",
    "    histnorm='percent',\n",
    "    width=500,\n",
    "    marginal='box',\n",
    ")\n",
    "fig.show()"
   ]
  },
  {
   "cell_type": "markdown",
   "metadata": {},
   "source": [
    "ваши выводы здесь:\n",
    "* Мода в данном графике равна 3.17\n",
    "* Предельные значения в признаке равны от 1 до 299 месяца\n",
    "* Большинства соискателей находятся в диапозоне 57 - 154 месяцев\n",
    "* Выбрысы начинаются от 300 месяцев и до 1188 месяца"
   ]
  },
  {
   "cell_type": "markdown",
   "metadata": {},
   "source": [
    "3. Постройте распределение признака **\"ЗП (руб)\"**. Опишите данное распределение, отвечая на следующие вопросы: каковы предельные значения признака, в каком примерном интервале находится заработная плата большинства соискателей? Есть ли аномалии для признака возраста? Обратите внимание на гигантские размеры желаемой заработной платы.\n",
    "*Совет: постройте гистограмму и коробчатую диаграмму рядом.*\n"
   ]
  },
  {
   "cell_type": "code",
   "execution_count": null,
   "metadata": {},
   "outputs": [],
   "source": [
    "fig = px.histogram(\n",
    "    data_frame=data,\n",
    "    x='ЗП (руб)',\n",
    "    title='Распределение желаемой з/п соискателей',\n",
    "    histnorm='percent',\n",
    "    width=500,\n",
    "    marginal='box'\n",
    ")\n",
    "fig.show()"
   ]
  },
  {
   "cell_type": "markdown",
   "metadata": {},
   "source": [
    "ваши выводы здесь:\n",
    "* 5 соискателей хотят зарплату больше 1 млн. руб.\n",
    "* Мода в распределении равна 59 тыс. руб. \n",
    "* Предельные значения в признаке равны от 1 до 180 тыс. руб.\n",
    "* Большинства соискателей хотят зарплату от 37 до 95 тыс. руб.\n",
    "* Выбрысы начинаются с зарплаты в 182 тыс.руб и предел воображения доходит до отметки в 24304 тыс. руб."
   ]
  },
  {
   "cell_type": "markdown",
   "metadata": {},
   "source": [
    "4. Постройте диаграмму, которая показывает зависимость **медианной** желаемой заработной платы (**\"ЗП (руб)\"**) от уровня образования (**\"Образование\"**). Используйте для диаграммы данные о резюме, где желаемая заработная плата меньше 1 млн рублей.\n",
    "*Сделайте выводы по представленной диаграмме: для каких уровней образования наблюдаются наибольшие и наименьшие уровни желаемой заработной платы? Как вы считаете, важен ли признак уровня образования при прогнозировании заработной платы?*"
   ]
  },
  {
   "cell_type": "code",
   "execution_count": null,
   "metadata": {},
   "outputs": [],
   "source": [
    "bar_data = data[data['ЗП (руб)']<1e6].groupby('Образование', as_index=False)['ЗП (руб)'].median()\n",
    "fig = px.bar(\n",
    "    data_frame=bar_data,\n",
    "    x='Образование',\n",
    "    y='ЗП (руб)',\n",
    "    title='Медианная з/п по уровню образования'\n",
    ")\n",
    "fig.show()"
   ]
  },
  {
   "cell_type": "markdown",
   "metadata": {},
   "source": [
    "ваши выводы здесь\n",
    "* У лиц которые имеют высшее оброзование желаемая заработная плата находится выше по отношению к другим лицам\n",
    "* Из графика отчетливо видно, чем выше уровень оброзования, тем выше их предпочтения по зарплате\n",
    "* Наверно для решения задачи, верно утверждать, что уровень оброзования важен. Но, все же я больше отношу предпочтения не уровню оброзования а его наличии. Взять пример школы \"SF\", по окончании я не получу диплом о высшем оброзовании, получу только сертификат. Но, знания, которые тут можно приобрести куда намного сильней будут цениться, чем наличие высшее оброзования. Ответом для меня будет таков: наличие оброзования имеет один из пунктов при подборе персонала, но не самым важным. "
   ]
  },
  {
   "cell_type": "markdown",
   "metadata": {},
   "source": [
    "5. Постройте диаграмму, которая показывает распределение желаемой заработной платы (**\"ЗП (руб)\"**) в зависимости от города (**\"Город\"**). Используйте для диаграммы данные о резюме, где желая заработная плата меньше 1 млн рублей.\n",
    "*Сделайте выводы по полученной диаграмме: как соотносятся медианные уровни желаемой заработной платы и их размах в городах? Как вы считаете, важен ли признак города при прогнозировании заработной платы?*"
   ]
  },
  {
   "cell_type": "code",
   "execution_count": null,
   "metadata": {},
   "outputs": [],
   "source": [
    "box_data = data[data['ЗП (руб)']<1e6]\n",
    "fig = px.box(\n",
    "    data_frame=box_data,\n",
    "    x='Город',\n",
    "    y='ЗП (руб)',\n",
    "    color='Город',\n",
    "    title='Распределение з/п по городам'\n",
    ")\n",
    "fig.show()"
   ]
  },
  {
   "cell_type": "code",
   "execution_count": null,
   "metadata": {},
   "outputs": [],
   "source": [
    "data[data['ЗП (руб)'] == 923983]"
   ]
  },
  {
   "cell_type": "markdown",
   "metadata": {},
   "source": [
    "ваши выводы здесь\n",
    "* Согласно графику можно отметить следующее: \n",
    "    1. Показатель моды у городов миллиоников и осальных городов он равен 40 тыс.руб. и размах желаемый з/п тоже равен. Это говрит о том, что конкурецния внутри этих двух городов проходит на равном уровне от сюда и показатели схожи.\n",
    "    2. Далее город Санк-Петербург с небольшим отрывом начинает превосходить первую категорию, где мода равна 60 тыс.руб. \n",
    "    3. Лидером анализа становится Москва, у которой мода равняется 85 тыс.руб. \n",
    "    * От сюда хочетса сделать вывод, что между городами с населением 1 млн. чел. и меньше уровень зарплат схожий, а в городах по типу населении Санкт-Петербурга и Москвы, где соотвественно население 7 и 15 млн.чел. уровень зарплаты в рззы больше по отношению к первой категории. \n",
    "* Я считаю, что важен город при прогнозировании зарплаты, т.к. население каждого города соотвествует уровню развития самого города, от сюда следует, чем более развитый город, тем больше он может предложить вакантных мест. А в условии нехватки калифицированных кадров, каждая отедельная компания готова повышать запрос ожидаемой заработной платы для соискателей. \n",
    "* В категории другие зафиксированна самая высокая ожидаемая зарплата, которая составляет 923 тыс.руб. Чтобы не засорять документ лишними кодами, я не прикрепил отбор этой личности. Ну из любыпытсва я без условно посмотрел на этого человека. Считаю, что эта женщина создала выброс, т.к. менеджер по продаж находясь в регионе другие, не может получать такую зарплату. А если и может, то скорей всего официальная зарплата одна, а все остальное проценты.  "
   ]
  },
  {
   "cell_type": "markdown",
   "metadata": {},
   "source": [
    "6. Постройте **многоуровневую столбчатую диаграмму**, которая показывает зависимость медианной заработной платы (**\"ЗП (руб)\"**) от признаков **\"Готовность к переезду\"** и **\"Готовность к командировкам\"**. Проанализируйте график, сравнив уровень заработной платы в категориях."
   ]
  },
  {
   "cell_type": "code",
   "execution_count": null,
   "metadata": {},
   "outputs": [],
   "source": [
    "bar_data = data.groupby(\n",
    "    ['Готовность к командировкам', 'Готовность к переезду'],\n",
    "    as_index=False\n",
    ")['ЗП (руб)'].median()\n",
    "fig = px.bar(\n",
    "    data_frame=bar_data,\n",
    "    y='Готовность к переезду',\n",
    "    x='ЗП (руб)',\n",
    "    barmode=\"group\",\n",
    "    color='Готовность к командировкам',\n",
    "    orientation='h',\n",
    "    title='Медианная з/п по готовности к командировкам/переезду'\n",
    ")\n",
    "fig.show()"
   ]
  },
  {
   "cell_type": "markdown",
   "metadata": {},
   "source": [
    "ваши выводы здесь:\n",
    "Данный график показывает следующие зависимости \n",
    "* Первая группа лиц желающие в среднем зарплату 66 тыс.руб. готовы и к переездам и к командировкам;\n",
    "* Вторая группа лиц желающие в среднем зарплату 50 тыс.руб. готовы только к переезду;\n",
    "* третья группа лиц желающие в среднем зарплату 60 тыс.руб. готовы только к командировкам;\n",
    "* четвертая группа лиц желающие в сренем зарплату 40 тыс.руб. не готовы ни к командировкам ни к переезду.\n",
    "\n",
    "Проанализировав числовые показатели, хочется отметить, что люди желающие зарплату выше 50 тыс.руб. готовы менять свою обычную дислокацию. "
   ]
  },
  {
   "cell_type": "markdown",
   "metadata": {},
   "source": [
    "7. Постройте сводную таблицу, иллюстрирующую зависимость **медианной** желаемой заработной платы от возраста (**\"Возраст\"**) и образования (**\"Образование\"**). На полученной сводной таблице постройте **тепловую карту**. Проанализируйте тепловую карту, сравнив показатели внутри групп."
   ]
  },
  {
   "cell_type": "code",
   "execution_count": null,
   "metadata": {},
   "outputs": [],
   "source": [
    "pivot = data.pivot_table(\n",
    "    index='Образование',\n",
    "    columns='Возраст',\n",
    "    values='ЗП (руб)',\n",
    "    aggfunc='median',\n",
    "    fill_value=0\n",
    ")\n",
    "fig = px.imshow(\n",
    "    pivot,\n",
    "    aspect='auto',\n",
    "    color_continuous_scale='greens',\n",
    "    title='Медианная з/п по образованию и возрасту'\n",
    ")\n",
    "fig.show()"
   ]
  },
  {
   "cell_type": "markdown",
   "metadata": {},
   "source": [
    "ваши выводы здесь:\n",
    "* соискатели с наличием высшего оброзования с возратом получают больше денег. Имеется отклонение в возрасте 16 лет, где запрос составляет 122 тыс.руб.;\n",
    "* вторая категория людей - это неоконченное высшее оброзование их запросы тоже растут, но не так интенсивно как в первой категории. Также в этой категории наблюдается выброс к 17 годам жизни их запрос составляет 80 тыс.руб.;\n",
    "* третья категория граждан имеют среднее оброзование и с повышением их возраста зарплата очень маленьками шагами поднимается. Также в этой категории наблюдается аномалии, где запрос на зарплату имеет высокий показатель, а их возраст и оброзование не соотвесвует этому показателю. \n",
    "* четвертая категория - это среднее специальное оброзование, их уровень зарплаты повышается незначительно, но к 67 годам наблюдается отклоенение и их запрос достигает в 120 тыс.руб. Также имеется выброс ближе к 100 годам. "
   ]
  },
  {
   "cell_type": "markdown",
   "metadata": {},
   "source": [
    "8. Постройте **диаграмму рассеяния**, показывающую зависимость опыта работы (**\"Опыт работы (месяц)\"**) от возраста (**\"Возраст\"**). Опыт работы переведите из месяцев в года, чтобы признаки были в едином масштабе. Постройте на графике дополнительно прямую, проходящую через точки (0, 0) и (100, 100). Данная прямая соответствует значениям, когда опыт работы равен возрасту человека. Точки, лежащие на этой прямой и выше нее - аномалии в наших данных (опыт работы больше либо равен возрасту соискателя)"
   ]
  },
  {
   "cell_type": "code",
   "execution_count": null,
   "metadata": {},
   "outputs": [],
   "source": [
    "import matplotlib.pyplot as plt\n",
    "import seaborn as sns\n",
    "fig = plt.figure(figsize=(10, 5))\n",
    "scatter_data = data.copy()\n",
    "scatter_data['Опыт работы (год)'] = scatter_data['Опыт работы (месяц)']/12\n",
    "sns.lineplot(x=[0, 100], y=[0, 100])\n",
    "ax = sns.scatterplot(\n",
    "    data=scatter_data, \n",
    "    x='Возраст',\n",
    "    y='Опыт работы (год)',\n",
    ")\n",
    "ax.set_title('Зависимость опыта работы от возраста');"
   ]
  },
  {
   "cell_type": "markdown",
   "metadata": {},
   "source": [
    "ваши выводы здесь:\n",
    "1. 7 точек лежат стого выше прямой.\n",
    "* на графике видно, что в основном все люди начинают свою трудовую деятельность с 16 лет и заканчивают искать работу ближе к 80 годам;\n",
    "* Имеется отклонение, где соискателю 100 лет и он ищет работу, а также у него отсутсвует опыт работы;\n",
    "* Еще интересный факт, что не смотря на то, что с  возратом у людей за спиной должен быть трудовой стаж, наблюдается большое количество людей, у которых первый опыт начинается с 30, 40, 50, 60 и 70 лет. Возможно многие не стали указывать свой первый опыт, поэтому такое присутсвует отклонение. Еще может у многих было долгое время не официальная работа. Не готов я верить в то, что все это время люди были без работны и сидели дома. Хотя, есть такая вероятность, но в не таком количестве. "
   ]
  },
  {
   "cell_type": "markdown",
   "metadata": {},
   "source": [
    "Начнем с теории. Я как житель центрального федерального округа, мне всегда казалось, что люди живущие за уралом ищут себе работу с графиком вахта.\n",
    "\n",
    "Строю график, а дальше расписываю,что на нем видно. "
   ]
  },
  {
   "cell_type": "code",
   "execution_count": null,
   "metadata": {},
   "outputs": [],
   "source": [
    "\n",
    "# Выделение столбцов \n",
    "selected_columns = data[['Город', 'полный день', 'частичная занятость', 'сменный график', 'полная занятость',\n",
    "                         'проектная работа','гибкий график', 'волонтерство', 'удаленная работа', \n",
    "                         'вахтовый метод','стажировка']]\n",
    "\n",
    "# Преобразование столбцов в тип bool\n",
    "selected_columns[['полный день', 'частичная занятость', 'сменный график', 'полная занятость', 'проектная работа',\n",
    "                'гибкий график', 'волонтерство', 'удаленная работа', \n",
    "                'вахтовый метод','стажировка']] = selected_columns[['полный день',\n",
    "                'частичная занятость', 'сменный график', 'полная занятость', 'проектная работа',\n",
    "                'гибкий график', 'волонтерство', 'удаленная работа', \n",
    "                'вахтовый метод','стажировка']].astype(bool)\n",
    "\n",
    "# Группировка данных по столбцу 'Город' и подсчет среднего количества значений True по каждому столбцу\n",
    "grouped_data = selected_columns.groupby('Город').mean().reset_index()\n",
    "\n",
    "# Построение столбчатой диаграммы \n",
    "fig = px.bar(grouped_data, x='Город', y=['полный день', 'частичная занятость', 'сменный график', 'полная занятость',\n",
    "                                    'проектная работа','гибкий график', 'волонтерство', 'удаленная работа', \n",
    "                                    'вахтовый метод','стажировка'],\n",
    "             labels={'value': 'Количество соискателей в среднем'}, \n",
    "             title='Подсчет среднего показателя графика работы в разрезе города')\n",
    "fig.show()\n"
   ]
  },
  {
   "cell_type": "markdown",
   "metadata": {},
   "source": [
    "Теперь опишем выводы:\n",
    "* Очень нравится мне библеотека (plotly.express), позволяет курсором выделять несколько областей, а также строить казалось бы сложные графики, но за счет курсора и выделение областей все раставлять по своим углам. И так начнем:\n",
    "1. На первый взгляд график кажется очень перегружен информацией и его трудно читать - согласен, но все же можно выделить такой момент, что столбец \"Санкт-Петербург\" выше остальных, это нам говорит о том, что в среднем люди здесь ищут больше работы, чем в других городах и регионах;\n",
    "2. Как я вначале писал, у меня в голове была теория, что люди живущие за уралом ищут работу в основном на график вахты. Это теория оказалась неверна, так как если навести курсор на столбец другие и вахта, то этот показатель составляет 0.1, а график полная занятость показывает 0.96. От сюда следует, что в основном люди ищут как и в других регионах обычный график;\n",
    "3. На этом я не остановился и возмоность диограммы px позволяет мне это сделать. Если отключить в легенде все графики и оставить только вахта, то виден очень интересный показатель, а именно чем меньше город по населению, тем выше показатель вахтового графика. Например: вахта в категории другие составляет 0.1, а в Москве этот показатель указывает на 0.03. Это говорит о том, что моя теория верна только если сравнивать именно этот тип графика между собой, с другими графиками так не сработает;\n",
    "4. Далее продлжив отключать одни легенды и включать другие, я оставил легенду со сменным графиком. Интерес к этой легенде заключается в том, что люди живущие в Москве неохотно ищут сменный график и тут этот показатель достигает 0.2, но зато в других регионах данный показатель начинается от 0.29 и доходит до 0.32. Думаю это связано с тем, что в Москве больше офисов, чем производств и сферы услуг, взять же хотя бы такое мнение, что все крупыне компании в России, размещают свои юридические адреса в Москве и следовательно офисы тоже. "
   ]
  },
  {
   "cell_type": "markdown",
   "metadata": {},
   "source": [
    "Следующую теорию, которую хочется проверить, это правда ли, что у людей которых имеется автомобиль желают получать больше зарплату? "
   ]
  },
  {
   "cell_type": "code",
   "execution_count": null,
   "metadata": {},
   "outputs": [],
   "source": [
    "# Сгруппируем данные по столбцу 'авто' и вычислим сумму зарплаты в каждой категории\n",
    "grouped_df = data.groupby('Авто', as_index=False)['ЗП (руб)'].median()\n",
    "\n",
    "# Строим график\n",
    "fig = px.bar(grouped_df,\n",
    "             x='Авто',\n",
    "             y='ЗП (руб)',\n",
    "             title='Средняя сумма зарплаты в зависимости от наличия автомобиля',\n",
    "             labels={'Авто': 'Наличие автомобиля', 'ЗП (руб)': 'Средняя зарплата'},\n",
    "             color='Авто'\n",
    "             )\n",
    "\n",
    "# Отображаем график\n",
    "fig.show()\n"
   ]
  },
  {
   "cell_type": "markdown",
   "metadata": {},
   "source": [
    "ваши выводы здесь:\n",
    "* Теория оказалась верна, люди которые имеют автомобиль в среднем хотят получать больше зарплату, так как это связано с тем, что машину надо обслуживать;\n",
    "* Само по себе отклонение явялется не критичным и различие находится в диапозоне 9 тыс.руб. (60-51)"
   ]
  },
  {
   "cell_type": "markdown",
   "metadata": {},
   "source": [
    "# <center>5. Очистка данных </center>\n",
    "\n",
    "✍ Когда мы проводили визуальный анализ, мы нашли несколько несостыковок в данных: пропуски, гигантские размеры желаемых заработных плат, резюме людей слишком «преклонного» возраста, опыт работы, превышающий возраст.\n",
    "\n",
    "Всё это говорит о том, что данные подлежат очистке. Приступим!"
   ]
  },
  {
   "cell_type": "markdown",
   "metadata": {},
   "source": [
    "Задание 5.1\n",
    "\n",
    "Начнём с дубликатов в наших данных. Найдите полные дубликаты в таблице с резюме и удалите их."
   ]
  },
  {
   "cell_type": "code",
   "execution_count": null,
   "metadata": {},
   "outputs": [],
   "source": [
    "dupl_columns = list(data.columns)\n",
    "\n",
    "mask = data.duplicated(subset=dupl_columns)\n",
    "data_duplicates = data[mask]\n",
    "print(f'Число найденных дубликатов: {data_duplicates.shape[0]}') #161\n",
    "\n",
    "data = data.drop_duplicates(subset=dupl_columns)"
   ]
  },
  {
   "cell_type": "markdown",
   "metadata": {},
   "source": [
    "⚡ Важно! Дальнейшая работа производится с очищенными от дубликатов данными.\n",
    "\n",
    "Задание 5.2\n",
    "\n",
    "Займёмся пропусками. Выведите информацию о числе пропусков в столбцах.\n",
    "\n",
    "Сколько пропусков в столбце «Опыт работы (месяц)»?"
   ]
  },
  {
   "cell_type": "code",
   "execution_count": null,
   "metadata": {},
   "outputs": [],
   "source": [
    "null_data = data.isnull().sum()\n",
    "display(null_data[null_data > 0])\n",
    "\n",
    "# Последнее/нынешнее место работы      1\n",
    "# Последняя/нынешняя должность         2\n",
    "# Опыт работы (месяц)                168\n",
    "# dtype: int64"
   ]
  },
  {
   "cell_type": "markdown",
   "metadata": {},
   "source": [
    "Итак, у нас есть пропуски в трёх столбцах: «Опыт работы (месяц)», «Последнее/нынешнее место работы», «Последняя/нынешняя должность». Поступим следующим образом: удалите строки, где есть пропуск в столбцах с местом работы и должностью.\n",
    "\n",
    "Пропуски в столбце с опытом работы заполните медианным значением.\n",
    "\n",
    "Задание 5.3\n",
    "\n",
    "Чему равно результирующее среднее значение в столбце «Опыт работы (месяц)» после заполнения пропусков? Ответ округлите до целых."
   ]
  },
  {
   "cell_type": "code",
   "execution_count": null,
   "metadata": {},
   "outputs": [],
   "source": [
    "data = data.dropna(subset=['Последнее/нынешнее место работы', 'Последняя/нынешняя должность'])\n",
    "data['Опыт работы (месяц)'] = data['Опыт работы (месяц)'].fillna(data['Опыт работы (месяц)'].median())\n",
    "print(round(data['Опыт работы (месяц)'].mean())) \n",
    "\n",
    "#114"
   ]
  },
  {
   "cell_type": "markdown",
   "metadata": {},
   "source": [
    "⚡ Важно! Дальнейшая работа производится с очищенными от дубликатов и пропусков данными.\n",
    "\n",
    "Мы добрались до ликвидации выбросов. Сначала очистим данные вручную.\n",
    "\n",
    "Удалите резюме, в которых указана заработная плата либо выше 1 миллиона рублей, либо ниже 1 тысячи рублей.\n",
    "\n",
    "Задание 5.4\n",
    "\n",
    "Сколько выбросов вы нашли?"
   ]
  },
  {
   "cell_type": "code",
   "execution_count": null,
   "metadata": {},
   "outputs": [],
   "source": [
    "outliers = data[(data['ЗП (руб)'] > 1e6) | (data['ЗП (руб)'] < 1e3)]\n",
    "data = data.drop(outliers.index)\n",
    "print(outliers.shape[0])\n",
    "\n",
    "#89"
   ]
  },
  {
   "cell_type": "markdown",
   "metadata": {},
   "source": [
    "В процессе разведывательного анализа мы обнаружили резюме, в которых опыт работы в годах превышал возраст соискателя. Найдите такие резюме и удалите их из данных.\n",
    "\n",
    "Задание 5.5\n",
    "\n",
    "Сколько выбросов вы нашли?"
   ]
  },
  {
   "cell_type": "code",
   "execution_count": null,
   "metadata": {},
   "outputs": [],
   "source": [
    "outliers = data[data['Опыт работы (месяц)']/12 >= data['Возраст']]\n",
    "data = data.drop(outliers.index)\n",
    "print(outliers.shape[0])\n",
    "\n",
    "#7"
   ]
  },
  {
   "cell_type": "markdown",
   "metadata": {},
   "source": [
    "В результате анализа мы обнаружили потенциальные выбросы в признаке Возраст. Это оказались резюме людей, чей возраст слишком преклонный для поиска работы.\n",
    "\n",
    "Попробуйте построить распределение признака в логарифмическом масштабе. Добавьте к графику линии, отображающие среднее и границы интервала метода трёх сигм. Напомним, сделать это можно с помощью метода axvline. Например, для построение линии среднего будет иметь вид:\n",
    "\n",
    "```\n",
    "histplot.axvline(log_age.mean(), color='k', lw=2)\n",
    "```\n",
    "\n",
    "В какую сторону асимметрично логарифмическое распределение? Напишите об этом в комментарии к графику. Найдите выбросы с помощью метода z-отклонения и удалите их из данных, используйте логарифмический масштаб. Давайте сделаем \"послабление\" на 1 сигму (возьмите 4 сигмы) в правую сторону. Выведите таблицу с полученными выбросами и оцените, с каким возрастом соискатели попадают под категорию выбросов?\n",
    "\n",
    "Задание 5.6\n",
    "\n",
    "Сколько выбросов вы нашли с помощью метода z-отклонений?"
   ]
  },
  {
   "cell_type": "code",
   "execution_count": null,
   "metadata": {},
   "outputs": [],
   "source": [
    "fig, ax = plt.subplots(1, 1, figsize=(8, 4))\n",
    "log_age = np.log(data['Возраст'] + 1)\n",
    "histplot = sns.histplot(log_age, bins=30, ax=ax)\n",
    "histplot.axvline(log_age.mean(), color='k', lw=2)\n",
    "histplot.axvline(log_age.mean()+ 4 *log_age.std(), color='k', ls='--', lw=2)\n",
    "histplot.axvline(log_age.mean()- 3 *log_age.std(), color='k', ls='--', lw=2)\n",
    "histplot.set_title('Log Age Distribution');\n",
    "\n",
    "def outliers_z_score_mod(data, feature, left=3, right=3, log_scale=False):\n",
    "    if log_scale:\n",
    "        x = np.log(data[feature]+1)\n",
    "    else:\n",
    "        x = data[feature]\n",
    "    mu = x.mean()\n",
    "    sigma = x.std()\n",
    "    lower_bound = mu - left * sigma\n",
    "    upper_bound = mu + right * sigma\n",
    "    outliers = data[(x < lower_bound) | (x > upper_bound)]\n",
    "    cleaned = data[(x >= lower_bound) & (x <= upper_bound)]\n",
    "    return outliers, cleaned\n",
    "outliers, cleaned_data = outliers_z_score_mod(data, 'Возраст', left=3,  right=4, log_scale=True)\n",
    "print(outliers.shape[0])\n",
    "\n",
    "#3"
   ]
  },
  {
   "cell_type": "markdown",
   "metadata": {},
   "source": [
    "# <center>6. Итоги и финальное задание </center>\n",
    "\n",
    "✍ Поздравляем! Вы успешно завершили свой первый data science проект, и это настоящий повод для гордости! Вы испытали на себе основные этапы работы с данными на примере датасета о резюме и теперь не понаслышке знаете, как важно уметь правильно работать с данными.\n",
    "\n",
    "Для завершения проекта вам осталось выложить ноутбук на [GitHub](https://github.com/) и отправить ссылку на решение ментору, чтобы он проверил ваши выводы по разведывательному анализу, а также указал на недочёты или просто похвалил вас за прекрасную работу :)"
   ]
  },
  {
   "cell_type": "markdown",
   "metadata": {},
   "source": [
    "* Решение оформляется только в Jupyter Notebook.\n",
    "* Решение оформляется в соответствии с ноутбуком-шаблоном.\n",
    "* Каждое задание выполняется в отдельной ячейке, выделенной под задание (в шаблоне они помечены **как ваш код здесь**).\n",
    "* Код для каждого задания оформляется в одной-двух jupyter-ячейках (не стоит создавать множество ячеек для решения задачи, это усложняет проверку).\n",
    "* Решение должно использовать только пройденный материал: переменные, основные структуры данных (списки, словари, множества), циклы, функции, библиотеки numpy, pandas, matplotlib, seaborn, plotly. Если вы думаете, что для решения необходимо воспользоваться сторонними библиотеками или инструментами (например Excel), другими языками программирования или неизученными конструкциями, вы ошибаетесь :) Все задания решаются с помощью уже знакомых методов.\n",
    "* Код должен быть читаемым и понятным: имена переменных и функций отражают их сущность, важно избегать многострочных конструкций и условий.\n",
    "* Пользуйтесь [руководством PEP 8](https://lms.skillfactory.ru/courses/course-v1:SkillFactory+DSPR-2.0+14JULY2021/jump_to_id/958c1e42860d475999e9f9381dfe8b5a).\n",
    "* Графики оформляются в соответствии с теми правилами, которые мы приводили [в модуле по визуализации данных](https://lms.skillfactory.ru/courses/course-v1:SkillFactory+DSPR-2.0+14JULY2021/jump_to_id/1fa00a018157484a9bae5d4557ef3e7c).\n",
    "* **Обязательное требование**: графики должны содержать название, отражающее их суть, и подписи осей.\n",
    "* Выводы к графикам оформляются в формате Markdown под самим графиком в отдельной ячейке (в шаблоне они помечены как **ваши выводы здесь**). Выводы должны быть представлены в виде небольших связанных предложений на русском языке."
   ]
  },
  {
   "cell_type": "markdown",
   "metadata": {},
   "source": [
    "**ВАЖНЫЕ ЗАМЕЧАНИЯ**:\n",
    "\n",
    "1. GitHub не позволяет выложить в репозиторий датасет, размер которого превышает 25 Мб. Наш файл с данными весит более 450 Мб. Поэтому добавьте название файла с данными в файл .gitignore, чтобы сделать push своего проекта на GitHub. Выложите файл с данными на другие сервисы для хранения, например:\n",
    "\n",
    "* [Google Диск](https://www.google.ru/drive/)\n",
    "* [Firebase](https://firebase.google.com/?hl=ru)\n",
    "\n",
    "В файле для описания вашего проекта Readme.md или в самом ноутбуке прикрепите ссылку на данные.\n",
    "\n",
    "2. GitHub не поддерживает отображение интерактивной визуализации в Plotly. Графики, построенные с помощью Plotly, могут не отображаться на странице репозитория.\n",
    "\n",
    "**Базовое решение проблемы**: создайте в вашем проекте папку, в которую сохраняйте построенные вами графики в формате HTML (мы разбирали данный метод в модуле по визуализации данных). Так вы сможете просматривать графики через GitHub, открывая файлы в браузере"
   ]
  }
 ],
 "metadata": {
  "kernelspec": {
   "display_name": "Python 3",
   "language": "python",
   "name": "python3"
  },
  "language_info": {
   "codemirror_mode": {
    "name": "ipython",
    "version": 3
   },
   "file_extension": ".py",
   "mimetype": "text/x-python",
   "name": "python",
   "nbconvert_exporter": "python",
   "pygments_lexer": "ipython3",
   "version": "3.11.2"
  },
  "orig_nbformat": 4
 },
 "nbformat": 4,
 "nbformat_minor": 2
}
