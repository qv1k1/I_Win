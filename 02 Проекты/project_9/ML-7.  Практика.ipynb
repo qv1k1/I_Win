{
 "cells": [
  {
   "cell_type": "markdown",
   "metadata": {},
   "source": [
    "# ML-7. Оптимизация гиперпараметров модели\n",
    "\n",
    "## 4. Практика\n",
    "\n",
    ">Необходимо предсказать биологический ответ молекул (столбец 'Activity') по их химическому составу (столбцы D1-D1776).\n",
    "\n",
    "Данные представлены в формате CSV.  Каждая строка представляет молекулу. \n",
    "\n",
    "Первый столбец Activity содержит экспериментальные данные, описывающие фактический биологический ответ [0, 1]; \n",
    "Остальные столбцы D1-D1776 представляют собой молекулярные дескрипторы — это вычисляемые свойства, которые могут фиксировать некоторые характеристики молекулы, например размер, форму или состав элементов.\n",
    "\n",
    "Предварительная обработка не требуется, данные уже закодированы и нормализованы.\n",
    "\n",
    "В качестве метрики будем использовать F1-score.\n",
    "\n",
    ">Необходимо обучить две модели: логистическую регрессию и случайный лес. Далее нужно сделать подбор гиперпараметров с помощью базовых и продвинутых методов оптимизации. Важно использовать все четыре метода (GridSeachCV, RandomizedSearchCV, Hyperopt, Optuna) хотя бы по разу, максимальное количество итераций не должно превышать 50."
   ]
  },
  {
   "cell_type": "code",
   "execution_count": null,
   "metadata": {},
   "outputs": [],
   "source": [
    "# Импорт библиотек\n",
    "import numpy as np  # для матричных вычислений\n",
    "import pandas as pd  # для анализа и предобработки данных\n",
    "import matplotlib.pyplot as plt  # для визуализации\n",
    "import seaborn as sns  # для визуализации\n",
    "import optuna  # для автоматической оптимизации гиперпараметров\n",
    "\n",
    "from sklearn import linear_model  # линейные модели\n",
    "from sklearn import tree  # деревья решений\n",
    "from sklearn import ensemble  # ансамбли моделей\n",
    "from sklearn import metrics  # метрики оценки\n",
    "from sklearn import preprocessing  # предобработка данных\n",
    "from sklearn.model_selection import train_test_split  # сплитование выборки\n",
    "from sklearn.model_selection import GridSearchCV  # поиск по сетке\n",
    "from sklearn.model_selection import RandomizedSearchCV  # случайный поиск\n",
    "from sklearn.model_selection import train_test_split, cross_val_score  # сплитование выборки и кросс-валидация\n",
    "from sklearn.tree import DecisionTreeClassifier  # классификатор на основе дерева решений\n",
    "from sklearn.ensemble import RandomForestClassifier  # классификатор на основе случайного леса\n",
    "from sklearn.metrics import accuracy_score, f1_score  # метрики точности и F1-метрики\n",
    "from scipy.stats import randint  # для генерации случайных чисел\n",
    "\n",
    "from hyperopt import hp, tpe, fmin, Trials, STATUS_OK  # для автоматической оптимизации гиперпараметров\n",
    "from hyperopt.pyll.base import scope  # для определения пространства поиска гиперпараметров\n",
    "\n",
    "# Визуализация графиков в блокноте\n",
    "%matplotlib inline\n",
    "plt.style.use('seaborn')  # установка стиля графиков\n"
   ]
  },
  {
   "cell_type": "markdown",
   "metadata": {},
   "source": [
    "#### Открываем и смотрим на данные"
   ]
  },
  {
   "cell_type": "code",
   "execution_count": 9,
   "metadata": {},
   "outputs": [
    {
     "data": {
      "text/html": [
       "<div>\n",
       "<style scoped>\n",
       "    .dataframe tbody tr th:only-of-type {\n",
       "        vertical-align: middle;\n",
       "    }\n",
       "\n",
       "    .dataframe tbody tr th {\n",
       "        vertical-align: top;\n",
       "    }\n",
       "\n",
       "    .dataframe thead th {\n",
       "        text-align: right;\n",
       "    }\n",
       "</style>\n",
       "<table border=\"1\" class=\"dataframe\">\n",
       "  <thead>\n",
       "    <tr style=\"text-align: right;\">\n",
       "      <th></th>\n",
       "      <th>Activity</th>\n",
       "      <th>D1</th>\n",
       "      <th>D2</th>\n",
       "      <th>D3</th>\n",
       "      <th>D4</th>\n",
       "      <th>D5</th>\n",
       "      <th>D6</th>\n",
       "      <th>D7</th>\n",
       "      <th>D8</th>\n",
       "      <th>D9</th>\n",
       "      <th>...</th>\n",
       "      <th>D1767</th>\n",
       "      <th>D1768</th>\n",
       "      <th>D1769</th>\n",
       "      <th>D1770</th>\n",
       "      <th>D1771</th>\n",
       "      <th>D1772</th>\n",
       "      <th>D1773</th>\n",
       "      <th>D1774</th>\n",
       "      <th>D1775</th>\n",
       "      <th>D1776</th>\n",
       "    </tr>\n",
       "  </thead>\n",
       "  <tbody>\n",
       "    <tr>\n",
       "      <th>0</th>\n",
       "      <td>1</td>\n",
       "      <td>0.000000</td>\n",
       "      <td>0.497009</td>\n",
       "      <td>0.10</td>\n",
       "      <td>0.0</td>\n",
       "      <td>0.132956</td>\n",
       "      <td>0.678031</td>\n",
       "      <td>0.273166</td>\n",
       "      <td>0.585445</td>\n",
       "      <td>0.743663</td>\n",
       "      <td>...</td>\n",
       "      <td>0</td>\n",
       "      <td>0</td>\n",
       "      <td>0</td>\n",
       "      <td>0</td>\n",
       "      <td>0</td>\n",
       "      <td>0</td>\n",
       "      <td>0</td>\n",
       "      <td>0</td>\n",
       "      <td>0</td>\n",
       "      <td>0</td>\n",
       "    </tr>\n",
       "    <tr>\n",
       "      <th>1</th>\n",
       "      <td>1</td>\n",
       "      <td>0.366667</td>\n",
       "      <td>0.606291</td>\n",
       "      <td>0.05</td>\n",
       "      <td>0.0</td>\n",
       "      <td>0.111209</td>\n",
       "      <td>0.803455</td>\n",
       "      <td>0.106105</td>\n",
       "      <td>0.411754</td>\n",
       "      <td>0.836582</td>\n",
       "      <td>...</td>\n",
       "      <td>1</td>\n",
       "      <td>1</td>\n",
       "      <td>1</td>\n",
       "      <td>1</td>\n",
       "      <td>0</td>\n",
       "      <td>1</td>\n",
       "      <td>0</td>\n",
       "      <td>0</td>\n",
       "      <td>1</td>\n",
       "      <td>0</td>\n",
       "    </tr>\n",
       "    <tr>\n",
       "      <th>2</th>\n",
       "      <td>1</td>\n",
       "      <td>0.033300</td>\n",
       "      <td>0.480124</td>\n",
       "      <td>0.00</td>\n",
       "      <td>0.0</td>\n",
       "      <td>0.209791</td>\n",
       "      <td>0.610350</td>\n",
       "      <td>0.356453</td>\n",
       "      <td>0.517720</td>\n",
       "      <td>0.679051</td>\n",
       "      <td>...</td>\n",
       "      <td>0</td>\n",
       "      <td>0</td>\n",
       "      <td>0</td>\n",
       "      <td>0</td>\n",
       "      <td>0</td>\n",
       "      <td>0</td>\n",
       "      <td>0</td>\n",
       "      <td>0</td>\n",
       "      <td>0</td>\n",
       "      <td>0</td>\n",
       "    </tr>\n",
       "    <tr>\n",
       "      <th>3</th>\n",
       "      <td>1</td>\n",
       "      <td>0.000000</td>\n",
       "      <td>0.538825</td>\n",
       "      <td>0.00</td>\n",
       "      <td>0.5</td>\n",
       "      <td>0.196344</td>\n",
       "      <td>0.724230</td>\n",
       "      <td>0.235606</td>\n",
       "      <td>0.288764</td>\n",
       "      <td>0.805110</td>\n",
       "      <td>...</td>\n",
       "      <td>0</td>\n",
       "      <td>0</td>\n",
       "      <td>0</td>\n",
       "      <td>0</td>\n",
       "      <td>0</td>\n",
       "      <td>0</td>\n",
       "      <td>0</td>\n",
       "      <td>0</td>\n",
       "      <td>0</td>\n",
       "      <td>0</td>\n",
       "    </tr>\n",
       "    <tr>\n",
       "      <th>4</th>\n",
       "      <td>0</td>\n",
       "      <td>0.100000</td>\n",
       "      <td>0.517794</td>\n",
       "      <td>0.00</td>\n",
       "      <td>0.0</td>\n",
       "      <td>0.494734</td>\n",
       "      <td>0.781422</td>\n",
       "      <td>0.154361</td>\n",
       "      <td>0.303809</td>\n",
       "      <td>0.812646</td>\n",
       "      <td>...</td>\n",
       "      <td>0</td>\n",
       "      <td>0</td>\n",
       "      <td>0</td>\n",
       "      <td>0</td>\n",
       "      <td>0</td>\n",
       "      <td>0</td>\n",
       "      <td>0</td>\n",
       "      <td>0</td>\n",
       "      <td>0</td>\n",
       "      <td>0</td>\n",
       "    </tr>\n",
       "  </tbody>\n",
       "</table>\n",
       "<p>5 rows × 1777 columns</p>\n",
       "</div>"
      ],
      "text/plain": [
       "   Activity        D1        D2    D3   D4        D5        D6        D7   \n",
       "0         1  0.000000  0.497009  0.10  0.0  0.132956  0.678031  0.273166  \\\n",
       "1         1  0.366667  0.606291  0.05  0.0  0.111209  0.803455  0.106105   \n",
       "2         1  0.033300  0.480124  0.00  0.0  0.209791  0.610350  0.356453   \n",
       "3         1  0.000000  0.538825  0.00  0.5  0.196344  0.724230  0.235606   \n",
       "4         0  0.100000  0.517794  0.00  0.0  0.494734  0.781422  0.154361   \n",
       "\n",
       "         D8        D9  ...  D1767  D1768  D1769  D1770  D1771  D1772  D1773   \n",
       "0  0.585445  0.743663  ...      0      0      0      0      0      0      0  \\\n",
       "1  0.411754  0.836582  ...      1      1      1      1      0      1      0   \n",
       "2  0.517720  0.679051  ...      0      0      0      0      0      0      0   \n",
       "3  0.288764  0.805110  ...      0      0      0      0      0      0      0   \n",
       "4  0.303809  0.812646  ...      0      0      0      0      0      0      0   \n",
       "\n",
       "   D1774  D1775  D1776  \n",
       "0      0      0      0  \n",
       "1      0      1      0  \n",
       "2      0      0      0  \n",
       "3      0      0      0  \n",
       "4      0      0      0  \n",
       "\n",
       "[5 rows x 1777 columns]"
      ]
     },
     "execution_count": 9,
     "metadata": {},
     "output_type": "execute_result"
    }
   ],
   "source": [
    "data = pd.read_csv('data/_train_sem09.csv')\n",
    "data.head()"
   ]
  },
  {
   "cell_type": "code",
   "execution_count": 5,
   "metadata": {},
   "outputs": [
    {
     "name": "stdout",
     "output_type": "stream",
     "text": [
      "<class 'pandas.core.frame.DataFrame'>\n",
      "RangeIndex: 3751 entries, 0 to 3750\n",
      "Columns: 1777 entries, Activity to D1776\n",
      "dtypes: float64(942), int64(835)\n",
      "memory usage: 50.9 MB\n"
     ]
    }
   ],
   "source": [
    "data.info()"
   ]
  },
  {
   "cell_type": "code",
   "execution_count": 6,
   "metadata": {},
   "outputs": [
    {
     "data": {
      "image/png": "[encoded data removed]",
      "text/plain": [
       "<Figure size 800x550 with 1 Axes>"
      ]
     },
     "metadata": {},
     "output_type": "display_data"
    }
   ],
   "source": [
    "sns.countplot(data=data, x='Activity');"
   ]
  },
  {
   "cell_type": "markdown",
   "metadata": {},
   "source": [
    "Создаем матрицу наблюдений $X$ и вектор ответов $y$"
   ]
  },
  {
   "cell_type": "code",
   "execution_count": 10,
   "metadata": {},
   "outputs": [],
   "source": [
    "X = data.drop(['Activity'], axis=1)\n",
    "y = data['Activity']"
   ]
  },
  {
   "cell_type": "markdown",
   "metadata": {},
   "source": [
    "Разделяем выборку на тренировочную и тестовую в соотношении 80/20. Для сохранения соотношений целевого признака используем параметр stratify (стратифицированное разбиение). "
   ]
  },
  {
   "cell_type": "code",
   "execution_count": 11,
   "metadata": {},
   "outputs": [],
   "source": [
    "X_train, X_test, y_train, y_test = train_test_split(X, y, stratify=y, random_state = 1, test_size = 0.2)"
   ]
  },
  {
   "cell_type": "markdown",
   "metadata": {},
   "source": [
    "#### **Логистическая регрессия**\n"
   ]
  },
  {
   "cell_type": "code",
   "execution_count": 5,
   "metadata": {},
   "outputs": [
    {
     "name": "stdout",
     "output_type": "stream",
     "text": [
      "accuracy на тестовом наборе: 0.76\n",
      "f1_score на тестовом наборе: 0.78\n"
     ]
    }
   ],
   "source": [
    "#Создаем объект класса логистическая регрессия\n",
    "log_reg = linear_model.LogisticRegression(max_iter = 1000)\n",
    "#Обучаем модель, минимизируя logloss\n",
    "log_reg.fit(X_train, y_train)\n",
    "print(\"accuracy на тестовом наборе: {:.2f}\".format(log_reg.score(X_test, y_test)))\n",
    "y_test_pred = log_reg.predict(X_test)\n",
    "print('f1_score на тестовом наборе: {:.2f}'.format(metrics.f1_score(y_test, y_test_pred)))\n",
    "\n",
    "# accuracy на тестовом наборе: 0.76\n",
    "# f1_score на тестовом наборе: 0.78"
   ]
  },
  {
   "cell_type": "markdown",
   "metadata": {},
   "source": [
    "### <center> **GridSearchCV**"
   ]
  },
  {
   "cell_type": "code",
   "execution_count": 5,
   "metadata": {},
   "outputs": [
    {
     "name": "stdout",
     "output_type": "stream",
     "text": [
      "Fitting 5 folds for each of 108 candidates, totalling 540 fits\n",
      "Лучшие параметры: {'max_depth': None, 'min_samples_leaf': 1, 'min_samples_split': 2, 'n_estimators': 100}\n",
      "Fitting 5 folds for each of 108 candidates, totalling 540 fits\n",
      "CPU times: total: 25.2 s\n",
      "Wall time: 21min 46s\n",
      "accuracy на тестовом наборе: 0.80\n",
      "f1_score на тестовом наборе: 0.82\n"
     ]
    }
   ],
   "source": [
    "# Определение модели и параметров для поиска\n",
    "model = RandomForestClassifier()\n",
    "param_grid = {\n",
    "    'n_estimators': [100, 200, 300],\n",
    "    'max_depth': [None, 10, 20, 30],\n",
    "    'min_samples_split': [2, 5, 10],\n",
    "    'min_samples_leaf': [1, 2, 4]\n",
    "}\n",
    "\n",
    "# Создание GridSearchCV\n",
    "grid_search = GridSearchCV(estimator=model,\n",
    "                           param_grid=param_grid,\n",
    "                           cv=5,\n",
    "                           n_jobs=-1,\n",
    "                           verbose=2)\n",
    "\n",
    "# Поиск лучших параметров\n",
    "grid_search.fit(X_train, y_train)\n",
    "\n",
    "# Лучшие параметры и модель\n",
    "best_params = grid_search.best_params_\n",
    "best_model = grid_search.best_estimator_\n",
    "\n",
    "print(\"Лучшие параметры:\", best_params)\n",
    "\n",
    "# Оценка модели на тестовом наборе данных\n",
    "y_pred = best_model.predict(X_test)\n",
    "accuracy = accuracy_score(y_test, y_pred)\n",
    "\n",
    "%time grid_search.fit(X_train, y_train) \n",
    "print(\"accuracy на тестовом наборе: {:.2f}\".format(grid_search.score(X_test, y_test)))\n",
    "y_test_pred = grid_search.predict(X_test)\n",
    "print('f1_score на тестовом наборе: {:.2f}'.format(metrics.f1_score(y_test, y_test_pred)))\n",
    "\n",
    "\n",
    "# Лучшие параметры: {'max_depth': None, 'min_samples_leaf': 1, 'min_samples_split': 2, 'n_estimators': 100}\n",
    "# Fitting 5 folds for each of 108 candidates, totalling 540 fits\n",
    "# CPU times: total: 25.2 s\n",
    "# Wall time: 21min 46s\n",
    "# accuracy на тестовом наборе: 0.80\n",
    "# f1_score на тестовом наборе: 0.82"
   ]
  },
  {
   "cell_type": "code",
   "execution_count": 15,
   "metadata": {},
   "outputs": [
    {
     "data": {
      "image/png": "[encoded data removed]",
      "text/plain": [
       "<Figure size 800x550 with 2 Axes>"
      ]
     },
     "metadata": {},
     "output_type": "display_data"
    }
   ],
   "source": [
    "# Получение результатов grid search\n",
    "results = pd.DataFrame(grid_search.cv_results_)\n",
    "\n",
    "# Заполнение пропусков в столбце param_max_depth значением 'None'\n",
    "results['param_max_depth'].fillna('None', inplace=True)\n",
    "\n",
    "# Преобразование всех параметров в строки, чтобы избежать проблем с типами данных\n",
    "results['param_max_depth'] = results['param_max_depth'].astype(str)\n",
    "results['param_n_estimators'] = results['param_n_estimators'].astype(str)\n",
    "results['param_min_samples_leaf'] = results['param_min_samples_leaf'].astype(str)\n",
    "results['param_min_samples_split'] = results['param_min_samples_split'].astype(str)\n",
    "\n",
    "# Удаление столбца params, так как он содержит словари\n",
    "results = results.drop(columns=['params'])\n",
    "\n",
    "# Группировка данных для устранения дубликатов\n",
    "grouped_results = results.groupby(['param_max_depth', 'param_n_estimators']).mean(numeric_only=True).reset_index()\n",
    "\n",
    "# Создание тепловой карты для max_depth и n_estimators\n",
    "pivot_table = grouped_results.pivot(index='param_max_depth', columns='param_n_estimators', values='mean_test_score')\n",
    "sns.heatmap(pivot_table, annot=True, cmap='viridis')\n",
    "plt.title('Тепловая карта accuracy в зависимости от max_depth и n_estimators')\n",
    "plt.xlabel('n_estimators')\n",
    "plt.ylabel('max_depth')\n",
    "plt.show()\n"
   ]
  },
  {
   "cell_type": "markdown",
   "metadata": {},
   "source": [
    "**Вывод:** Наивысшая точность (0.80) достигается при max_depth=None и n_estimators=300. Это предполагает, что для данной модели и набора данных неограниченная глубина деревьев и большое количество деревьев дают наилучший результат."
   ]
  },
  {
   "cell_type": "code",
   "execution_count": 7,
   "metadata": {},
   "outputs": [
    {
     "data": {
      "text/html": [
       "<div>\n",
       "<style scoped>\n",
       "    .dataframe tbody tr th:only-of-type {\n",
       "        vertical-align: middle;\n",
       "    }\n",
       "\n",
       "    .dataframe tbody tr th {\n",
       "        vertical-align: top;\n",
       "    }\n",
       "\n",
       "    .dataframe thead th {\n",
       "        text-align: right;\n",
       "    }\n",
       "</style>\n",
       "<table border=\"1\" class=\"dataframe\">\n",
       "  <thead>\n",
       "    <tr style=\"text-align: right;\">\n",
       "      <th></th>\n",
       "      <th>mean_fit_time</th>\n",
       "      <th>std_fit_time</th>\n",
       "      <th>mean_score_time</th>\n",
       "      <th>std_score_time</th>\n",
       "      <th>param_max_depth</th>\n",
       "      <th>param_max_features</th>\n",
       "      <th>param_min_samples_leaf</th>\n",
       "      <th>param_min_samples_split</th>\n",
       "      <th>param_n_estimators</th>\n",
       "      <th>params</th>\n",
       "      <th>split0_test_score</th>\n",
       "      <th>split1_test_score</th>\n",
       "      <th>split2_test_score</th>\n",
       "      <th>split3_test_score</th>\n",
       "      <th>split4_test_score</th>\n",
       "      <th>mean_test_score</th>\n",
       "      <th>std_test_score</th>\n",
       "      <th>rank_test_score</th>\n",
       "    </tr>\n",
       "  </thead>\n",
       "  <tbody>\n",
       "    <tr>\n",
       "      <th>0</th>\n",
       "      <td>0.380213</td>\n",
       "      <td>0.016290</td>\n",
       "      <td>0.023305</td>\n",
       "      <td>0.008167</td>\n",
       "      <td>None</td>\n",
       "      <td>sqrt</td>\n",
       "      <td>1</td>\n",
       "      <td>2</td>\n",
       "      <td>100</td>\n",
       "      <td>{'max_depth': None, 'max_features': 'sqrt', 'm...</td>\n",
       "      <td>0.958333</td>\n",
       "      <td>0.958333</td>\n",
       "      <td>0.833333</td>\n",
       "      <td>1.0</td>\n",
       "      <td>0.958333</td>\n",
       "      <td>0.941667</td>\n",
       "      <td>0.056519</td>\n",
       "      <td>141</td>\n",
       "    </tr>\n",
       "    <tr>\n",
       "      <th>1</th>\n",
       "      <td>0.754775</td>\n",
       "      <td>0.017831</td>\n",
       "      <td>0.036384</td>\n",
       "      <td>0.001561</td>\n",
       "      <td>None</td>\n",
       "      <td>sqrt</td>\n",
       "      <td>1</td>\n",
       "      <td>2</td>\n",
       "      <td>200</td>\n",
       "      <td>{'max_depth': None, 'max_features': 'sqrt', 'm...</td>\n",
       "      <td>0.958333</td>\n",
       "      <td>1.000000</td>\n",
       "      <td>0.833333</td>\n",
       "      <td>1.0</td>\n",
       "      <td>0.958333</td>\n",
       "      <td>0.950000</td>\n",
       "      <td>0.061237</td>\n",
       "      <td>17</td>\n",
       "    </tr>\n",
       "  </tbody>\n",
       "</table>\n",
       "</div>"
      ],
      "text/plain": [
       "   mean_fit_time  std_fit_time  mean_score_time  std_score_time   \n",
       "0       0.380213      0.016290         0.023305        0.008167  \\\n",
       "1       0.754775      0.017831         0.036384        0.001561   \n",
       "\n",
       "  param_max_depth param_max_features param_min_samples_leaf   \n",
       "0            None               sqrt                      1  \\\n",
       "1            None               sqrt                      1   \n",
       "\n",
       "  param_min_samples_split param_n_estimators   \n",
       "0                       2                100  \\\n",
       "1                       2                200   \n",
       "\n",
       "                                              params  split0_test_score   \n",
       "0  {'max_depth': None, 'max_features': 'sqrt', 'm...           0.958333  \\\n",
       "1  {'max_depth': None, 'max_features': 'sqrt', 'm...           0.958333   \n",
       "\n",
       "   split1_test_score  split2_test_score  split3_test_score  split4_test_score   \n",
       "0           0.958333           0.833333                1.0           0.958333  \\\n",
       "1           1.000000           0.833333                1.0           0.958333   \n",
       "\n",
       "   mean_test_score  std_test_score  rank_test_score  \n",
       "0         0.941667        0.056519              141  \n",
       "1         0.950000        0.061237               17  "
      ]
     },
     "execution_count": 7,
     "metadata": {},
     "output_type": "execute_result"
    }
   ],
   "source": [
    "# Взглянем на результаты кросс-валидации\n",
    "result_cv = pd.DataFrame(grid_search.cv_results_)\n",
    "result_cv.head(2)\n"
   ]
  },
  {
   "cell_type": "markdown",
   "metadata": {},
   "source": [
    "### <center> **RandomizedSearchCV**"
   ]
  },
  {
   "cell_type": "code",
   "execution_count": 8,
   "metadata": {},
   "outputs": [
    {
     "name": "stdout",
     "output_type": "stream",
     "text": [
      "Fitting 5 folds for each of 50 candidates, totalling 250 fits\n",
      "Лучшие параметры: {'max_depth': None, 'min_samples_leaf': 2, 'min_samples_split': 2, 'n_estimators': 333}\n",
      "Fitting 5 folds for each of 50 candidates, totalling 250 fits\n",
      "CPU times: total: 21.7 s\n",
      "Wall time: 15min 58s\n",
      "accuracy на тестовом наборе: 0.80\n",
      "f1_score на тестовом наборе: 0.83\n"
     ]
    }
   ],
   "source": [
    "\n",
    "# Определение модели и параметров для случайного поиска\n",
    "model = RandomForestClassifier()\n",
    "param_dist = {\n",
    "    'n_estimators': randint(200, 400),\n",
    "    'max_depth': [None, 10],\n",
    "    'min_samples_split': randint(2, 5),\n",
    "    'min_samples_leaf': randint(1, 4)\n",
    "}\n",
    "\n",
    "# Создание RandomizedSearchCV\n",
    "randomized_search = RandomizedSearchCV(\n",
    "    estimator=model,\n",
    "    param_distributions=param_dist,\n",
    "    n_iter=50,\n",
    "    cv=5,\n",
    "    n_jobs=-1,\n",
    "    verbose=2,\n",
    "    random_state=42\n",
    ")\n",
    "\n",
    "# Поиск лучших параметров\n",
    "randomized_search.fit(X_train, y_train)\n",
    "\n",
    "# Лучшие параметры и модель\n",
    "best_params = randomized_search.best_params_\n",
    "best_model = randomized_search.best_estimator_\n",
    "\n",
    "print(\"Лучшие параметры:\", best_params)\n",
    "\n",
    "\n",
    "# Оценка модели на тестовом наборе данных\n",
    "y_pred = best_model.predict(X_test)\n",
    "accuracy = accuracy_score(y_test, y_pred)\n",
    "# f1 = f1_score(y_test, y_pred, average='weighted')\n",
    "\n",
    "%time randomized_search.fit(X_train, y_train) \n",
    "print(\"accuracy на тестовом наборе: {:.2f}\".format(randomized_search.score(X_test, y_test)))\n",
    "y_test_pred = randomized_search.predict(X_test)\n",
    "print('f1_score на тестовом наборе: {:.2f}'.format(metrics.f1_score(y_test, y_test_pred)))\n",
    "\n",
    "\n",
    "# Fitting 5 folds for each of 50 candidates, totalling 250 fits\n",
    "# Лучшие параметры: {'max_depth': None, 'min_samples_leaf': 2, 'min_samples_split': 2, 'n_estimators': 333}\n",
    "# Fitting 5 folds for each of 50 candidates, totalling 250 fits\n",
    "# CPU times: total: 21.7 s\n",
    "# Wall time: 15min 58s\n",
    "# accuracy на тестовом наборе: 0.80\n",
    "# f1_score на тестовом наборе: 0.83"
   ]
  },
  {
   "cell_type": "code",
   "execution_count": 17,
   "metadata": {},
   "outputs": [
    {
     "data": {
      "image/png": "[encoded data removed]",
      "text/plain": [
       "<Figure size 800x550 with 2 Axes>"
      ]
     },
     "metadata": {},
     "output_type": "display_data"
    }
   ],
   "source": [
    "# Получение результатов grid search\n",
    "results = pd.DataFrame(randomized_search.cv_results_)\n",
    "\n",
    "# Заполнение пропусков в столбце param_max_depth значением 'None'\n",
    "results['param_max_depth'].fillna('None', inplace=True)\n",
    "\n",
    "# Преобразование всех параметров в строки, чтобы избежать проблем с типами данных\n",
    "results['param_max_depth'] = results['param_max_depth'].astype(str)\n",
    "results['param_n_estimators'] = results['param_n_estimators'].astype(str)\n",
    "results['param_min_samples_leaf'] = results['param_min_samples_leaf'].astype(str)\n",
    "results['param_min_samples_split'] = results['param_min_samples_split'].astype(str)\n",
    "\n",
    "# Удаление столбца params, так как он содержит словари\n",
    "results = results.drop(columns=['params'])\n",
    "\n",
    "# Группировка данных для устранения дубликатов\n",
    "grouped_results = results.groupby(['param_max_depth', 'param_n_estimators']).mean(numeric_only=True).reset_index()\n",
    "\n",
    "# Ограничение количества значений n_estimators до 5\n",
    "unique_estimators = sorted(grouped_results['param_n_estimators'].unique())[:5]\n",
    "filtered_results = grouped_results[grouped_results['param_n_estimators'].isin(unique_estimators)]\n",
    "\n",
    "# Создание тепловой карты для max_depth и n_estimators\n",
    "pivot_table = filtered_results.pivot(index='param_max_depth', columns='param_n_estimators', values='mean_test_score')\n",
    "sns.heatmap(pivot_table, annot=True, cmap='viridis')\n",
    "plt.title('Тепловая карта accuracy в зависимости от max_depth и n_estimators')\n",
    "plt.xlabel('n_estimators')\n",
    "plt.ylabel('max_depth')\n",
    "plt.show()\n"
   ]
  },
  {
   "cell_type": "markdown",
   "metadata": {},
   "source": [
    "**Вывод:** Модель RandomForestClassifier с подобранными параметрами показала достаточно высокую точность и F1-метрику на тестовом наборе данных. Значение точности в 80% указывает на то, что 80% предсказаний модели были правильными. F1-метрика, равная 83%, также показывает хорошее качество предсказаний модели, учитывая баланс между точностью (precision) и полнотой (recall)."
   ]
  },
  {
   "cell_type": "markdown",
   "metadata": {},
   "source": [
    "### <center> **Дерево решений**\n",
    "\n"
   ]
  },
  {
   "cell_type": "code",
   "execution_count": 20,
   "metadata": {},
   "outputs": [
    {
     "name": "stdout",
     "output_type": "stream",
     "text": [
      "Fitting 5 folds for each of 50 candidates, totalling 250 fits\n"
     ]
    },
    {
     "name": "stderr",
     "output_type": "stream",
     "text": [
      "c:\\Users\\Георгий\\AppData\\Local\\Programs\\Python\\Python311\\Lib\\site-packages\\sklearn\\model_selection\\_validation.py:425: FitFailedWarning: \n",
      "85 fits failed out of a total of 250.\n",
      "The score on these train-test partitions for these parameters will be set to nan.\n",
      "If these failures are not expected, you can try to debug them by setting error_score='raise'.\n",
      "\n",
      "Below are more details about the failures:\n",
      "--------------------------------------------------------------------------------\n",
      "40 fits failed with the following error:\n",
      "Traceback (most recent call last):\n",
      "  File \"c:\\Users\\Георгий\\AppData\\Local\\Programs\\Python\\Python311\\Lib\\site-packages\\sklearn\\model_selection\\_validation.py\", line 729, in _fit_and_score\n",
      "    estimator.fit(X_train, y_train, **fit_params)\n",
      "  File \"c:\\Users\\Георгий\\AppData\\Local\\Programs\\Python\\Python311\\Lib\\site-packages\\sklearn\\base.py\", line 1145, in wrapper\n",
      "    estimator._validate_params()\n",
      "  File \"c:\\Users\\Георгий\\AppData\\Local\\Programs\\Python\\Python311\\Lib\\site-packages\\sklearn\\base.py\", line 638, in _validate_params\n",
      "    validate_parameter_constraints(\n",
      "  File \"c:\\Users\\Георгий\\AppData\\Local\\Programs\\Python\\Python311\\Lib\\site-packages\\sklearn\\utils\\_param_validation.py\", line 96, in validate_parameter_constraints\n",
      "    raise InvalidParameterError(\n",
      "sklearn.utils._param_validation.InvalidParameterError: The 'max_features' parameter of DecisionTreeClassifier must be an int in the range [1, inf), a float in the range (0.0, 1.0], a str among {'sqrt', 'log2'} or None. Got 'auto' instead.\n",
      "\n",
      "--------------------------------------------------------------------------------\n",
      "45 fits failed with the following error:\n",
      "Traceback (most recent call last):\n",
      "  File \"c:\\Users\\Георгий\\AppData\\Local\\Programs\\Python\\Python311\\Lib\\site-packages\\sklearn\\model_selection\\_validation.py\", line 729, in _fit_and_score\n",
      "    estimator.fit(X_train, y_train, **fit_params)\n",
      "  File \"c:\\Users\\Георгий\\AppData\\Local\\Programs\\Python\\Python311\\Lib\\site-packages\\sklearn\\base.py\", line 1145, in wrapper\n",
      "    estimator._validate_params()\n",
      "  File \"c:\\Users\\Георгий\\AppData\\Local\\Programs\\Python\\Python311\\Lib\\site-packages\\sklearn\\base.py\", line 638, in _validate_params\n",
      "    validate_parameter_constraints(\n",
      "  File \"c:\\Users\\Георгий\\AppData\\Local\\Programs\\Python\\Python311\\Lib\\site-packages\\sklearn\\utils\\_param_validation.py\", line 96, in validate_parameter_constraints\n",
      "    raise InvalidParameterError(\n",
      "sklearn.utils._param_validation.InvalidParameterError: The 'max_features' parameter of DecisionTreeClassifier must be an int in the range [1, inf), a float in the range (0.0, 1.0], a str among {'log2', 'sqrt'} or None. Got 'auto' instead.\n",
      "\n",
      "  warnings.warn(some_fits_failed_message, FitFailedWarning)\n",
      "c:\\Users\\Георгий\\AppData\\Local\\Programs\\Python\\Python311\\Lib\\site-packages\\sklearn\\model_selection\\_search.py:979: UserWarning: One or more of the test scores are non-finite: [0.72433333 0.68533333 0.662             nan 0.727      0.68366667\n",
      "        nan 0.67033333 0.76533333 0.755             nan 0.62966667\n",
      " 0.73066667        nan        nan        nan 0.67966667 0.67766667\n",
      " 0.73966667 0.66933333 0.66433333        nan 0.77366667 0.673\n",
      "        nan 0.652             nan 0.67833333 0.68766667        nan\n",
      " 0.69233333 0.65633333        nan        nan 0.71366667 0.59933333\n",
      "        nan 0.66333333        nan        nan 0.65666667 0.57133333\n",
      "        nan 0.625      0.68233333        nan 0.72833333 0.604\n",
      " 0.607      0.75366667]\n",
      "  warnings.warn(\n"
     ]
    },
    {
     "name": "stdout",
     "output_type": "stream",
     "text": [
      "Лучшие параметры: {'criterion': 'entropy', 'max_depth': 6, 'max_features': None, 'min_samples_leaf': 8, 'min_samples_split': 13}\n",
      "Fitting 5 folds for each of 50 candidates, totalling 250 fits\n"
     ]
    },
    {
     "name": "stderr",
     "output_type": "stream",
     "text": [
      "c:\\Users\\Георгий\\AppData\\Local\\Programs\\Python\\Python311\\Lib\\site-packages\\sklearn\\model_selection\\_validation.py:425: FitFailedWarning: \n",
      "85 fits failed out of a total of 250.\n",
      "The score on these train-test partitions for these parameters will be set to nan.\n",
      "If these failures are not expected, you can try to debug them by setting error_score='raise'.\n",
      "\n",
      "Below are more details about the failures:\n",
      "--------------------------------------------------------------------------------\n",
      "42 fits failed with the following error:\n",
      "Traceback (most recent call last):\n",
      "  File \"c:\\Users\\Георгий\\AppData\\Local\\Programs\\Python\\Python311\\Lib\\site-packages\\sklearn\\model_selection\\_validation.py\", line 729, in _fit_and_score\n",
      "    estimator.fit(X_train, y_train, **fit_params)\n",
      "  File \"c:\\Users\\Георгий\\AppData\\Local\\Programs\\Python\\Python311\\Lib\\site-packages\\sklearn\\base.py\", line 1145, in wrapper\n",
      "    estimator._validate_params()\n",
      "  File \"c:\\Users\\Георгий\\AppData\\Local\\Programs\\Python\\Python311\\Lib\\site-packages\\sklearn\\base.py\", line 638, in _validate_params\n",
      "    validate_parameter_constraints(\n",
      "  File \"c:\\Users\\Георгий\\AppData\\Local\\Programs\\Python\\Python311\\Lib\\site-packages\\sklearn\\utils\\_param_validation.py\", line 96, in validate_parameter_constraints\n",
      "    raise InvalidParameterError(\n",
      "sklearn.utils._param_validation.InvalidParameterError: The 'max_features' parameter of DecisionTreeClassifier must be an int in the range [1, inf), a float in the range (0.0, 1.0], a str among {'log2', 'sqrt'} or None. Got 'auto' instead.\n",
      "\n",
      "--------------------------------------------------------------------------------\n",
      "43 fits failed with the following error:\n",
      "Traceback (most recent call last):\n",
      "  File \"c:\\Users\\Георгий\\AppData\\Local\\Programs\\Python\\Python311\\Lib\\site-packages\\sklearn\\model_selection\\_validation.py\", line 729, in _fit_and_score\n",
      "    estimator.fit(X_train, y_train, **fit_params)\n",
      "  File \"c:\\Users\\Георгий\\AppData\\Local\\Programs\\Python\\Python311\\Lib\\site-packages\\sklearn\\base.py\", line 1145, in wrapper\n",
      "    estimator._validate_params()\n",
      "  File \"c:\\Users\\Георгий\\AppData\\Local\\Programs\\Python\\Python311\\Lib\\site-packages\\sklearn\\base.py\", line 638, in _validate_params\n",
      "    validate_parameter_constraints(\n",
      "  File \"c:\\Users\\Георгий\\AppData\\Local\\Programs\\Python\\Python311\\Lib\\site-packages\\sklearn\\utils\\_param_validation.py\", line 96, in validate_parameter_constraints\n",
      "    raise InvalidParameterError(\n",
      "sklearn.utils._param_validation.InvalidParameterError: The 'max_features' parameter of DecisionTreeClassifier must be an int in the range [1, inf), a float in the range (0.0, 1.0], a str among {'sqrt', 'log2'} or None. Got 'auto' instead.\n",
      "\n",
      "  warnings.warn(some_fits_failed_message, FitFailedWarning)\n",
      "c:\\Users\\Георгий\\AppData\\Local\\Programs\\Python\\Python311\\Lib\\site-packages\\sklearn\\model_selection\\_search.py:979: UserWarning: One or more of the test scores are non-finite: [0.721      0.69766667 0.67933333        nan 0.725      0.677\n",
      "        nan 0.684      0.76433333 0.755             nan 0.635\n",
      " 0.731             nan        nan        nan 0.67933333 0.68633333\n",
      " 0.73466667 0.67       0.665             nan 0.77133333 0.655\n",
      "        nan 0.66933333        nan 0.69366667 0.693             nan\n",
      " 0.68733333 0.67133333        nan        nan 0.71466667 0.595\n",
      "        nan 0.659             nan        nan 0.66266667 0.56066667\n",
      "        nan 0.62833333 0.682             nan 0.73       0.57633333\n",
      " 0.61966667 0.754     ]\n",
      "  warnings.warn(\n"
     ]
    },
    {
     "name": "stdout",
     "output_type": "stream",
     "text": [
      "CPU times: total: 2.62 s\n",
      "Wall time: 36 s\n",
      "accuracy на тестовом наборе: 0.76\n",
      "f1_score на тестовом наборе: 0.78\n"
     ]
    }
   ],
   "source": [
    "\n",
    "# Определение модели и параметров для случайного поиска\n",
    "model = DecisionTreeClassifier()\n",
    "param_dist = {\n",
    "    'max_depth': [None] + list(range(1, 21)),\n",
    "    'min_samples_split': randint(2, 21),\n",
    "    'min_samples_leaf': randint(1, 21),\n",
    "    'criterion': ['gini', 'entropy'],\n",
    "    'max_features': [None, 'auto', 'sqrt', 'log2']\n",
    "}\n",
    "\n",
    "# Создание RandomizedSearchCV\n",
    "random_search_tree = RandomizedSearchCV(\n",
    "    estimator=model,\n",
    "    param_distributions=param_dist,\n",
    "    n_iter=50,\n",
    "    cv=5,\n",
    "    n_jobs=-1,\n",
    "    verbose=2,\n",
    "    random_state=42\n",
    ")\n",
    "\n",
    "# Поиск лучших параметров\n",
    "random_search_tree.fit(X_train, y_train)\n",
    "\n",
    "# Лучшие параметры и модель\n",
    "best_params = random_search_tree.best_params_\n",
    "best_model = random_search_tree.best_estimator_\n",
    "\n",
    "print(\"Лучшие параметры:\", best_params)\n",
    "\n",
    "\n",
    "# Оценка модели на тестовом наборе данных\n",
    "y_pred = best_model.predict(X_test)\n",
    "accuracy = accuracy_score(y_test, y_pred)\n",
    "\n",
    "\n",
    "%time random_search_tree.fit(X_train, y_train) \n",
    "print(\"accuracy на тестовом наборе: {:.2f}\".format(random_search_tree.score(X_test, y_test)))\n",
    "y_test_pred = random_search_tree.predict(X_test)\n",
    "print('f1_score на тестовом наборе: {:.2f}'.format(metrics.f1_score(y_test, y_test_pred)))\n",
    "\n",
    "# CPU times: total: 2.62 s\n",
    "# Wall time: 36 s\n",
    "# accuracy на тестовом наборе: 0.76\n",
    "# f1_score на тестовом наборе: 0.78\n"
   ]
  },
  {
   "cell_type": "code",
   "execution_count": 31,
   "metadata": {},
   "outputs": [
    {
     "data": {
      "image/png": "[encoded data removed]",
      "text/plain": [
       "<Figure size 800x550 with 2 Axes>"
      ]
     },
     "metadata": {},
     "output_type": "display_data"
    }
   ],
   "source": [
    "# Получение результатов grid search\n",
    "results = pd.DataFrame(random_search_tree.cv_results_)\n",
    "\n",
    "# Заполнение пропусков в столбце param_max_depth значением 'None'\n",
    "results['param_max_depth'].fillna('None', inplace=True)\n",
    "\n",
    "# Преобразование всех параметров в строки, чтобы избежать проблем с типами данных\n",
    "results['param_max_depth'] = results['param_max_depth'].astype(str)\n",
    "results['param_criterion'] = results['param_criterion'].astype(str)\n",
    "results['param_min_samples_leaf'] = results['param_min_samples_leaf'].astype(str)\n",
    "results['param_min_samples_split'] = results['param_min_samples_split'].astype(str)\n",
    "results['param_max_features'] = results['param_max_features'].astype(str)\n",
    "\n",
    "# Удаление столбца params, так как он содержит словари\n",
    "results = results.drop(columns=['params'])\n",
    "\n",
    "# Группировка данных для устранения дубликатов\n",
    "grouped_results = results.groupby(['param_max_depth', 'param_criterion']).mean(numeric_only=True).reset_index()\n",
    "\n",
    "# Ограничение количества значений n_estimators до 5\n",
    "unique_estimators = sorted(grouped_results['param_max_depth'].unique())[:5]\n",
    "filtered_results = grouped_results[grouped_results['param_max_depth'].isin(unique_estimators)]\n",
    "\n",
    "# Создание тепловой карты для max_depth и n_estimators\n",
    "pivot_table = filtered_results.pivot(index='param_max_depth', columns='param_criterion', values='mean_test_score')\n",
    "sns.heatmap(pivot_table, annot=True, cmap='viridis')\n",
    "plt.title('Тепловая карта accuracy в зависимости от max_depth и n_estimators')\n",
    "plt.xlabel('param_criterion')\n",
    "plt.ylabel('max_depth')\n",
    "plt.show()\n"
   ]
  },
  {
   "cell_type": "markdown",
   "metadata": {},
   "source": [
    "**Вывод:** При использовании случайного поиска с помощью RandomizedSearchCV для настройки параметров модели DecisionTreeClassifier произошло ухудшение метрик на тестовом наборе данных. Точность (accuracy) снизилась до 0.76, а F1-метрика до 0.78 по сравнению с предыдущими результатами."
   ]
  },
  {
   "cell_type": "markdown",
   "metadata": {},
   "source": [
    "---"
   ]
  },
  {
   "cell_type": "code",
   "execution_count": 6,
   "metadata": {},
   "outputs": [
    {
     "name": "stdout",
     "output_type": "stream",
     "text": [
      "Fitting 5 folds for each of 48 candidates, totalling 240 fits\n",
      "Лучшие параметры: {'criterion': 'gini', 'max_depth': 10, 'max_features': None, 'min_samples_leaf': 1, 'min_samples_split': 2}\n",
      "Fitting 5 folds for each of 48 candidates, totalling 240 fits\n",
      "CPU times: total: 3.42 s\n",
      "Wall time: 1min 31s\n",
      "accuracy на тестовом наборе: 0.75\n",
      "f1_score на тестовом наборе: 0.75\n"
     ]
    }
   ],
   "source": [
    "# Определение модели и параметров для поиска\n",
    "model = DecisionTreeClassifier()\n",
    "param_grid = {\n",
    "    'max_depth': [None, 10, 20],\n",
    "    'min_samples_split': [2, 10],\n",
    "    'min_samples_leaf': [1, 4],\n",
    "    'criterion': ['gini', 'entropy'],\n",
    "    'max_features': [None, 'sqrt']\n",
    "}\n",
    "\n",
    "# Создание GridSearchCV\n",
    "grid_search_tree = GridSearchCV(\n",
    "    estimator=model,\n",
    "    param_grid=param_grid,\n",
    "    cv=5,  # Уменьшено количество складок кросс-валидации\n",
    "    n_jobs=-1,\n",
    "    verbose=2,\n",
    "    scoring='accuracy'  # Также можно использовать 'f1_weighted' для оптимизации F1-метрики\n",
    ")\n",
    "\n",
    "# Поиск лучших параметров\n",
    "grid_search_tree.fit(X_train, y_train)\n",
    "\n",
    "# Лучшие параметры и модель\n",
    "best_params = grid_search_tree.best_params_\n",
    "best_model = grid_search_tree.best_estimator_\n",
    "\n",
    "print(\"Лучшие параметры:\", best_params)\n",
    "\n",
    "# Оценка модели на тестовом наборе данных\n",
    "y_pred = best_model.predict(X_test)\n",
    "accuracy = accuracy_score(y_test, y_pred)\n",
    "f1 = f1_score(y_test, y_pred, average='weighted')\n",
    "\n",
    "%time grid_search_tree.fit(X_train, y_train) \n",
    "print(\"accuracy на тестовом наборе: {:.2f}\".format(accuracy))\n",
    "print('f1_score на тестовом наборе: {:.2f}'.format(f1))\n",
    "\n",
    "# Лучшие параметры: {'criterion': 'gini', 'max_depth': 10, 'max_features': None, 'min_samples_leaf': 1, 'min_samples_split': 2}\n",
    "# Fitting 5 folds for each of 48 candidates, totalling 240 fits\n",
    "# CPU times: total: 3.42 s\n",
    "# Wall time: 1min 31s\n",
    "# accuracy на тестовом наборе: 0.75\n",
    "# f1_score на тестовом наборе: 0.75 - составь вывод"
   ]
  },
  {
   "cell_type": "code",
   "execution_count": 7,
   "metadata": {},
   "outputs": [
    {
     "data": {
      "image/png": "[encoded data removed]",
      "text/plain": [
       "<Figure size 800x550 with 2 Axes>"
      ]
     },
     "metadata": {},
     "output_type": "display_data"
    }
   ],
   "source": [
    "# Получение результатов grid search\n",
    "results = pd.DataFrame(grid_search_tree.cv_results_)\n",
    "\n",
    "# Заполнение пропусков в столбце param_max_depth значением 'None'\n",
    "results['param_max_depth'].fillna('None', inplace=True)\n",
    "\n",
    "# Преобразование всех параметров в строки, чтобы избежать проблем с типами данных\n",
    "results['param_max_depth'] = results['param_max_depth'].astype(str)\n",
    "results['param_min_samples_leaf'] = results['param_min_samples_leaf'].astype(str)\n",
    "results['param_min_samples_split'] = results['param_min_samples_split'].astype(str)\n",
    "results['param_criterion'] = results['param_criterion'].astype(str)\n",
    "results['param_max_features'] = results['param_max_features'].astype(str)\n",
    "\n",
    "# Удаление столбца params, так как он содержит словари\n",
    "results = results.drop(columns=['params'])\n",
    "\n",
    "# Группировка данных для устранения дубликатов\n",
    "grouped_results = results.groupby(['param_max_depth', 'param_min_samples_split']).mean(numeric_only=True).reset_index()\n",
    "\n",
    "# Создание тепловой карты для max_depth и min_samples_split\n",
    "pivot_table = grouped_results.pivot(index='param_max_depth', columns='param_min_samples_split', values='mean_test_score')\n",
    "sns.heatmap(pivot_table, annot=True, cmap='viridis')\n",
    "plt.title('Тепловая карта accuracy в зависимости от max_depth и min_samples_split')\n",
    "plt.xlabel('min_samples_split')\n",
    "plt.ylabel('max_depth')\n",
    "plt.show()\n"
   ]
  },
  {
   "cell_type": "markdown",
   "metadata": {},
   "source": [
    "**Вывод**\n",
    "\n",
    "* Текущая точность (accuracy) составляет 0.75, что немного ниже по сравнению с предыдущей (0.76).\n",
    "* Текущий F1-score также составляет 0.75, что ниже предыдущего значения (0.78)."
   ]
  },
  {
   "cell_type": "markdown",
   "metadata": {},
   "source": [
    "---"
   ]
  },
  {
   "cell_type": "markdown",
   "metadata": {},
   "source": [
    "### <center> Hyperopt"
   ]
  },
  {
   "cell_type": "code",
   "execution_count": 5,
   "metadata": {},
   "outputs": [
    {
     "name": "stdout",
     "output_type": "stream",
     "text": [
      "100%|██████████| 50/50 [13:20<00:00, 16.00s/trial, best loss: -0.7956666666666666]\n",
      "Наилучшие значения гиперпараметров: {'criterion': 1, 'max_depth': 20.0, 'max_features': 0, 'min_samples_leaf': 1.0, 'min_samples_split': 6.0, 'n_estimators': 300.0}\n",
      "Точность на тестовом наборе: 0.81\n",
      "F1-метрика на тестовом наборе: 0.80\n"
     ]
    }
   ],
   "source": [
    "\n",
    "# Определение пространства поиска гиперпараметров\n",
    "space = {\n",
    "    'n_estimators': scope.int(hp.quniform('n_estimators', 100, 300, 50)),\n",
    "    'max_depth': scope.int(hp.quniform('max_depth', 10, 30, 5)),\n",
    "    'min_samples_split': scope.int(hp.quniform('min_samples_split', 2, 10, 2)),\n",
    "    'min_samples_leaf': scope.int(hp.quniform('min_samples_leaf', 1, 5, 1)),\n",
    "    'criterion': hp.choice('criterion', ['gini', 'entropy']),\n",
    "    'max_features': hp.choice('max_features', ['sqrt', 'log2'])\n",
    "}\n",
    "\n",
    "# Определение функции цели для оптимизации\n",
    "def objective(params):\n",
    "    clf = RandomForestClassifier(**params)\n",
    "    score = cross_val_score(clf, X_train, y_train, cv=3, scoring='accuracy').mean()\n",
    "    return {'loss': -score, 'status': STATUS_OK}\n",
    "\n",
    "# Выполнение оптимизации с использованием Hyperopt\n",
    "trials = Trials()\n",
    "best = fmin(fn=objective,\n",
    "            space=space,\n",
    "            algo=tpe.suggest,\n",
    "            max_evals=50,\n",
    "            trials=trials,\n",
    "            rstate=np.random.default_rng(42))\n",
    "\n",
    "print(\"Наилучшие значения гиперпараметров:\", best)\n",
    "\n",
    "# Преобразование гиперпараметров для использования в модели\n",
    "best_params = {\n",
    "    'n_estimators': int(best['n_estimators']),\n",
    "    'max_depth': int(best['max_depth']),\n",
    "    'min_samples_split': int(best['min_samples_split']),\n",
    "    'min_samples_leaf': int(best['min_samples_leaf']),\n",
    "    'criterion': ['gini', 'entropy'][best['criterion']],\n",
    "    'max_features': ['sqrt', 'log2'][best['max_features']]\n",
    "}\n",
    "\n",
    "# Обучение модели с наилучшими параметрами\n",
    "best_model = RandomForestClassifier(**best_params)\n",
    "best_model.fit(X_train, y_train)\n",
    "\n",
    "# Оценка модели на тестовом наборе данных\n",
    "accuracy = best_model.score(X_test, y_test)\n",
    "print(\"Точность на тестовом наборе: {:.2f}\".format(accuracy))\n",
    "\n",
    "y_test_pred = best_model.predict(X_test)\n",
    "f1 = metrics.f1_score(y_test, y_test_pred, average='weighted')\n",
    "print('F1-метрика на тестовом наборе: {:.2f}'.format(f1))\n"
   ]
  },
  {
   "cell_type": "code",
   "execution_count": 7,
   "metadata": {},
   "outputs": [
    {
     "data": {
      "image/png": "[encoded data removed]",
      "text/plain": [
       "<Figure size 1000x800 with 2 Axes>"
      ]
     },
     "metadata": {},
     "output_type": "display_data"
    }
   ],
   "source": [
    "\n",
    "# Преобразование Trials в DataFrame\n",
    "trials_dict = trials.results\n",
    "trials_df = pd.DataFrame(trials_dict)\n",
    "\n",
    "# Извлечение параметров из Trials\n",
    "params_df = pd.DataFrame(trials.vals)\n",
    "params_df['loss'] = trials_df['loss']\n",
    "params_df['accuracy'] = -trials_df['loss']\n",
    "\n",
    "# Преобразование параметров в строки для построения графиков\n",
    "params_df['max_depth'] = params_df['max_depth'].astype(int).astype(str)\n",
    "params_df['n_estimators'] = params_df['n_estimators'].astype(int).astype(str)\n",
    "\n",
    "# Группировка данных и расчет среднего значения accuracy для каждой комбинации параметров\n",
    "grouped_params = params_df.groupby(['max_depth', 'n_estimators']).mean().reset_index()\n",
    "\n",
    "# Создание сводной таблицы для max_depth и n_estimators\n",
    "pivot_table = grouped_params.pivot(index='max_depth', columns='n_estimators', values='accuracy')\n",
    "\n",
    "# Создание тепловой карты для max_depth и n_estimators\n",
    "plt.figure(figsize=(10, 8))\n",
    "sns.heatmap(pivot_table, annot=True, cmap='viridis')\n",
    "plt.title('Тепловая карта accuracy в зависимости от max_depth и n_estimators')\n",
    "plt.xlabel('n_estimators')\n",
    "plt.ylabel('max_depth')\n",
    "plt.show()\n"
   ]
  },
  {
   "cell_type": "markdown",
   "metadata": {},
   "source": [
    "**Вывод:** Использование Hyperopt для оптимизации гиперпараметров привело к небольшой, но значимой улучшению производительности модели RandomForestClassifier по сравнению с предыдущими методами (GridSearchCV и DecisionTreeClassifier)."
   ]
  },
  {
   "cell_type": "markdown",
   "metadata": {},
   "source": [
    "## <center> Optuna"
   ]
  },
  {
   "cell_type": "code",
   "execution_count": 12,
   "metadata": {},
   "outputs": [
    {
     "name": "stderr",
     "output_type": "stream",
     "text": [
      "[I 2024-05-28 11:33:04,139] A new study created in memory with name: no-name-656c6f60-12e9-490b-a9fd-66a1e60b1d45\n",
      "C:\\Users\\Георгий\\AppData\\Local\\Temp\\ipykernel_2692\\3916093398.py:17: FutureWarning: suggest_uniform has been deprecated in v3.0.0. This feature will be removed in v6.0.0. See https://github.com/optuna/optuna/releases/tag/v3.0.0. Use suggest_float instead.\n",
      "  max_features = trial.suggest_uniform('max_features', 0.2, 0.8)\n",
      "C:\\Users\\Георгий\\AppData\\Local\\Temp\\ipykernel_2692\\3916093398.py:17: FutureWarning: suggest_uniform has been deprecated in v3.0.0. This feature will be removed in v6.0.0. See https://github.com/optuna/optuna/releases/tag/v3.0.0. Use suggest_float instead.\n",
      "  max_features = trial.suggest_uniform('max_features', 0.2, 0.8)\n",
      "C:\\Users\\Георгий\\AppData\\Local\\Temp\\ipykernel_2692\\3916093398.py:17: FutureWarning: suggest_uniform has been deprecated in v3.0.0. This feature will be removed in v6.0.0. See https://github.com/optuna/optuna/releases/tag/v3.0.0. Use suggest_float instead.\n",
      "  max_features = trial.suggest_uniform('max_features', 0.2, 0.8)\n",
      "[I 2024-05-28 11:36:39,710] Trial 3 finished with value: 0.7893333333333334 and parameters: {'n_estimators': 110, 'max_depth': 17, 'min_samples_split': 8, 'min_samples_leaf': 1, 'criterion': 'entropy', 'max_features': 0.5582499583298133}. Best is trial 3 with value: 0.7893333333333334.\n",
      "C:\\Users\\Георгий\\AppData\\Local\\Temp\\ipykernel_2692\\3916093398.py:17: FutureWarning: suggest_uniform has been deprecated in v3.0.0. This feature will be removed in v6.0.0. See https://github.com/optuna/optuna/releases/tag/v3.0.0. Use suggest_float instead.\n",
      "  max_features = trial.suggest_uniform('max_features', 0.2, 0.8)\n",
      "[I 2024-05-28 11:39:08,218] Trial 2 finished with value: 0.7880000000000001 and parameters: {'n_estimators': 242, 'max_depth': 30, 'min_samples_split': 3, 'min_samples_leaf': 5, 'criterion': 'gini', 'max_features': 0.40389328504277244}. Best is trial 3 with value: 0.7893333333333334.\n",
      "C:\\Users\\Георгий\\AppData\\Local\\Temp\\ipykernel_2692\\3916093398.py:17: FutureWarning: suggest_uniform has been deprecated in v3.0.0. This feature will be removed in v6.0.0. See https://github.com/optuna/optuna/releases/tag/v3.0.0. Use suggest_float instead.\n",
      "  max_features = trial.suggest_uniform('max_features', 0.2, 0.8)\n",
      "[I 2024-05-28 11:39:53,796] Trial 0 finished with value: 0.7873333333333333 and parameters: {'n_estimators': 267, 'max_depth': 43, 'min_samples_split': 7, 'min_samples_leaf': 5, 'criterion': 'gini', 'max_features': 0.6018324859942628}. Best is trial 3 with value: 0.7893333333333334.\n",
      "C:\\Users\\Георгий\\AppData\\Local\\Temp\\ipykernel_2692\\3916093398.py:17: FutureWarning: suggest_uniform has been deprecated in v3.0.0. This feature will be removed in v6.0.0. See https://github.com/optuna/optuna/releases/tag/v3.0.0. Use suggest_float instead.\n",
      "  max_features = trial.suggest_uniform('max_features', 0.2, 0.8)\n",
      "[I 2024-05-28 11:40:22,110] Trial 1 finished with value: 0.7903333333333333 and parameters: {'n_estimators': 155, 'max_depth': 13, 'min_samples_split': 10, 'min_samples_leaf': 3, 'criterion': 'entropy', 'max_features': 0.38163671763615525}. Best is trial 1 with value: 0.7903333333333333.\n",
      "C:\\Users\\Георгий\\AppData\\Local\\Temp\\ipykernel_2692\\3916093398.py:17: FutureWarning: suggest_uniform has been deprecated in v3.0.0. This feature will be removed in v6.0.0. See https://github.com/optuna/optuna/releases/tag/v3.0.0. Use suggest_float instead.\n",
      "  max_features = trial.suggest_uniform('max_features', 0.2, 0.8)\n",
      "[I 2024-05-28 11:42:14,485] Trial 4 finished with value: 0.7903333333333334 and parameters: {'n_estimators': 263, 'max_depth': 11, 'min_samples_split': 9, 'min_samples_leaf': 1, 'criterion': 'entropy', 'max_features': 0.36574811479857106}. Best is trial 4 with value: 0.7903333333333334.\n",
      "C:\\Users\\Георгий\\AppData\\Local\\Temp\\ipykernel_2692\\3916093398.py:17: FutureWarning: suggest_uniform has been deprecated in v3.0.0. This feature will be removed in v6.0.0. See https://github.com/optuna/optuna/releases/tag/v3.0.0. Use suggest_float instead.\n",
      "  max_features = trial.suggest_uniform('max_features', 0.2, 0.8)\n",
      "[I 2024-05-28 11:43:16,177] Trial 5 finished with value: 0.7893333333333334 and parameters: {'n_estimators': 146, 'max_depth': 42, 'min_samples_split': 5, 'min_samples_leaf': 5, 'criterion': 'gini', 'max_features': 0.46955119406107815}. Best is trial 4 with value: 0.7903333333333334.\n",
      "C:\\Users\\Георгий\\AppData\\Local\\Temp\\ipykernel_2692\\3916093398.py:17: FutureWarning: suggest_uniform has been deprecated in v3.0.0. This feature will be removed in v6.0.0. See https://github.com/optuna/optuna/releases/tag/v3.0.0. Use suggest_float instead.\n",
      "  max_features = trial.suggest_uniform('max_features', 0.2, 0.8)\n",
      "[I 2024-05-28 11:44:54,869] Trial 6 finished with value: 0.7906666666666667 and parameters: {'n_estimators': 155, 'max_depth': 28, 'min_samples_split': 5, 'min_samples_leaf': 5, 'criterion': 'entropy', 'max_features': 0.7389685493272298}. Best is trial 6 with value: 0.7906666666666667.\n",
      "C:\\Users\\Георгий\\AppData\\Local\\Temp\\ipykernel_2692\\3916093398.py:17: FutureWarning: suggest_uniform has been deprecated in v3.0.0. This feature will be removed in v6.0.0. See https://github.com/optuna/optuna/releases/tag/v3.0.0. Use suggest_float instead.\n",
      "  max_features = trial.suggest_uniform('max_features', 0.2, 0.8)\n",
      "[I 2024-05-28 11:48:32,224] Trial 7 finished with value: 0.7906666666666667 and parameters: {'n_estimators': 281, 'max_depth': 28, 'min_samples_split': 10, 'min_samples_leaf': 2, 'criterion': 'entropy', 'max_features': 0.6624393795641195}. Best is trial 6 with value: 0.7906666666666667.\n",
      "C:\\Users\\Георгий\\AppData\\Local\\Temp\\ipykernel_2692\\3916093398.py:17: FutureWarning: suggest_uniform has been deprecated in v3.0.0. This feature will be removed in v6.0.0. See https://github.com/optuna/optuna/releases/tag/v3.0.0. Use suggest_float instead.\n",
      "  max_features = trial.suggest_uniform('max_features', 0.2, 0.8)\n",
      "[I 2024-05-28 11:49:07,887] Trial 8 finished with value: 0.786 and parameters: {'n_estimators': 219, 'max_depth': 15, 'min_samples_split': 2, 'min_samples_leaf': 5, 'criterion': 'gini', 'max_features': 0.420687396203191}. Best is trial 6 with value: 0.7906666666666667.\n",
      "C:\\Users\\Георгий\\AppData\\Local\\Temp\\ipykernel_2692\\3916093398.py:17: FutureWarning: suggest_uniform has been deprecated in v3.0.0. This feature will be removed in v6.0.0. See https://github.com/optuna/optuna/releases/tag/v3.0.0. Use suggest_float instead.\n",
      "  max_features = trial.suggest_uniform('max_features', 0.2, 0.8)\n",
      "[I 2024-05-28 11:52:13,987] Trial 9 finished with value: 0.7916666666666666 and parameters: {'n_estimators': 245, 'max_depth': 43, 'min_samples_split': 7, 'min_samples_leaf': 5, 'criterion': 'entropy', 'max_features': 0.7801826264745133}. Best is trial 9 with value: 0.7916666666666666.\n",
      "C:\\Users\\Георгий\\AppData\\Local\\Temp\\ipykernel_2692\\3916093398.py:17: FutureWarning: suggest_uniform has been deprecated in v3.0.0. This feature will be removed in v6.0.0. See https://github.com/optuna/optuna/releases/tag/v3.0.0. Use suggest_float instead.\n",
      "  max_features = trial.suggest_uniform('max_features', 0.2, 0.8)\n",
      "[I 2024-05-28 11:53:38,379] Trial 10 finished with value: 0.789 and parameters: {'n_estimators': 142, 'max_depth': 13, 'min_samples_split': 6, 'min_samples_leaf': 2, 'criterion': 'gini', 'max_features': 0.5097487696025804}. Best is trial 9 with value: 0.7916666666666666.\n",
      "C:\\Users\\Георгий\\AppData\\Local\\Temp\\ipykernel_2692\\3916093398.py:17: FutureWarning: suggest_uniform has been deprecated in v3.0.0. This feature will be removed in v6.0.0. See https://github.com/optuna/optuna/releases/tag/v3.0.0. Use suggest_float instead.\n",
      "  max_features = trial.suggest_uniform('max_features', 0.2, 0.8)\n",
      "[I 2024-05-28 11:53:56,556] Trial 11 finished with value: 0.7913333333333333 and parameters: {'n_estimators': 142, 'max_depth': 13, 'min_samples_split': 9, 'min_samples_leaf': 4, 'criterion': 'entropy', 'max_features': 0.6154936530730163}. Best is trial 9 with value: 0.7916666666666666.\n",
      "C:\\Users\\Георгий\\AppData\\Local\\Temp\\ipykernel_2692\\3916093398.py:17: FutureWarning: suggest_uniform has been deprecated in v3.0.0. This feature will be removed in v6.0.0. See https://github.com/optuna/optuna/releases/tag/v3.0.0. Use suggest_float instead.\n",
      "  max_features = trial.suggest_uniform('max_features', 0.2, 0.8)\n",
      "[I 2024-05-28 11:56:25,360] Trial 12 finished with value: 0.789 and parameters: {'n_estimators': 113, 'max_depth': 39, 'min_samples_split': 7, 'min_samples_leaf': 1, 'criterion': 'gini', 'max_features': 0.7825468810341023}. Best is trial 9 with value: 0.7916666666666666.\n",
      "C:\\Users\\Георгий\\AppData\\Local\\Temp\\ipykernel_2692\\3916093398.py:17: FutureWarning: suggest_uniform has been deprecated in v3.0.0. This feature will be removed in v6.0.0. See https://github.com/optuna/optuna/releases/tag/v3.0.0. Use suggest_float instead.\n",
      "  max_features = trial.suggest_uniform('max_features', 0.2, 0.8)\n",
      "[I 2024-05-28 11:56:47,714] Trial 13 finished with value: 0.7996666666666666 and parameters: {'n_estimators': 194, 'max_depth': 50, 'min_samples_split': 6, 'min_samples_leaf': 3, 'criterion': 'entropy', 'max_features': 0.2141213980879848}. Best is trial 13 with value: 0.7996666666666666.\n",
      "C:\\Users\\Георгий\\AppData\\Local\\Temp\\ipykernel_2692\\3916093398.py:17: FutureWarning: suggest_uniform has been deprecated in v3.0.0. This feature will be removed in v6.0.0. See https://github.com/optuna/optuna/releases/tag/v3.0.0. Use suggest_float instead.\n",
      "  max_features = trial.suggest_uniform('max_features', 0.2, 0.8)\n",
      "[I 2024-05-28 11:59:14,560] Trial 14 finished with value: 0.7926666666666667 and parameters: {'n_estimators': 192, 'max_depth': 50, 'min_samples_split': 5, 'min_samples_leaf': 4, 'criterion': 'entropy', 'max_features': 0.7775123492540471}. Best is trial 13 with value: 0.7996666666666666.\n",
      "C:\\Users\\Георгий\\AppData\\Local\\Temp\\ipykernel_2692\\3916093398.py:17: FutureWarning: suggest_uniform has been deprecated in v3.0.0. This feature will be removed in v6.0.0. See https://github.com/optuna/optuna/releases/tag/v3.0.0. Use suggest_float instead.\n",
      "  max_features = trial.suggest_uniform('max_features', 0.2, 0.8)\n",
      "[I 2024-05-28 11:59:23,271] Trial 15 finished with value: 0.7936666666666667 and parameters: {'n_estimators': 196, 'max_depth': 50, 'min_samples_split': 8, 'min_samples_leaf': 4, 'criterion': 'entropy', 'max_features': 0.20886067571930544}. Best is trial 13 with value: 0.7996666666666666.\n",
      "C:\\Users\\Георгий\\AppData\\Local\\Temp\\ipykernel_2692\\3916093398.py:17: FutureWarning: suggest_uniform has been deprecated in v3.0.0. This feature will be removed in v6.0.0. See https://github.com/optuna/optuna/releases/tag/v3.0.0. Use suggest_float instead.\n",
      "  max_features = trial.suggest_uniform('max_features', 0.2, 0.8)\n",
      "[I 2024-05-28 12:02:09,339] Trial 16 finished with value: 0.7876666666666666 and parameters: {'n_estimators': 207, 'max_depth': 50, 'min_samples_split': 8, 'min_samples_leaf': 4, 'criterion': 'entropy', 'max_features': 0.6886375188747884}. Best is trial 13 with value: 0.7996666666666666.\n",
      "C:\\Users\\Георгий\\AppData\\Local\\Temp\\ipykernel_2692\\3916093398.py:17: FutureWarning: suggest_uniform has been deprecated in v3.0.0. This feature will be removed in v6.0.0. See https://github.com/optuna/optuna/releases/tag/v3.0.0. Use suggest_float instead.\n",
      "  max_features = trial.suggest_uniform('max_features', 0.2, 0.8)\n",
      "[I 2024-05-28 12:02:24,690] Trial 17 finished with value: 0.7976666666666666 and parameters: {'n_estimators': 198, 'max_depth': 50, 'min_samples_split': 4, 'min_samples_leaf': 3, 'criterion': 'entropy', 'max_features': 0.21550409634537415}. Best is trial 13 with value: 0.7996666666666666.\n",
      "C:\\Users\\Георгий\\AppData\\Local\\Temp\\ipykernel_2692\\3916093398.py:17: FutureWarning: suggest_uniform has been deprecated in v3.0.0. This feature will be removed in v6.0.0. See https://github.com/optuna/optuna/releases/tag/v3.0.0. Use suggest_float instead.\n",
      "  max_features = trial.suggest_uniform('max_features', 0.2, 0.8)\n",
      "[I 2024-05-28 12:03:04,223] Trial 18 finished with value: 0.7966666666666667 and parameters: {'n_estimators': 192, 'max_depth': 50, 'min_samples_split': 4, 'min_samples_leaf': 3, 'criterion': 'entropy', 'max_features': 0.20997007485529695}. Best is trial 13 with value: 0.7996666666666666.\n",
      "C:\\Users\\Георгий\\AppData\\Local\\Temp\\ipykernel_2692\\3916093398.py:17: FutureWarning: suggest_uniform has been deprecated in v3.0.0. This feature will be removed in v6.0.0. See https://github.com/optuna/optuna/releases/tag/v3.0.0. Use suggest_float instead.\n",
      "  max_features = trial.suggest_uniform('max_features', 0.2, 0.8)\n",
      "[I 2024-05-28 12:03:56,023] Trial 19 finished with value: 0.7906666666666666 and parameters: {'n_estimators': 189, 'max_depth': 50, 'min_samples_split': 4, 'min_samples_leaf': 3, 'criterion': 'entropy', 'max_features': 0.2070489704328933}. Best is trial 13 with value: 0.7996666666666666.\n",
      "C:\\Users\\Георгий\\AppData\\Local\\Temp\\ipykernel_2692\\3916093398.py:17: FutureWarning: suggest_uniform has been deprecated in v3.0.0. This feature will be removed in v6.0.0. See https://github.com/optuna/optuna/releases/tag/v3.0.0. Use suggest_float instead.\n",
      "  max_features = trial.suggest_uniform('max_features', 0.2, 0.8)\n",
      "[I 2024-05-28 12:04:44,025] Trial 20 finished with value: 0.7936666666666667 and parameters: {'n_estimators': 182, 'max_depth': 36, 'min_samples_split': 4, 'min_samples_leaf': 3, 'criterion': 'entropy', 'max_features': 0.20094829950385948}. Best is trial 13 with value: 0.7996666666666666.\n",
      "C:\\Users\\Георгий\\AppData\\Local\\Temp\\ipykernel_2692\\3916093398.py:17: FutureWarning: suggest_uniform has been deprecated in v3.0.0. This feature will be removed in v6.0.0. See https://github.com/optuna/optuna/releases/tag/v3.0.0. Use suggest_float instead.\n",
      "  max_features = trial.suggest_uniform('max_features', 0.2, 0.8)\n",
      "[I 2024-05-28 12:04:58,922] Trial 21 finished with value: 0.7926666666666667 and parameters: {'n_estimators': 177, 'max_depth': 36, 'min_samples_split': 4, 'min_samples_leaf': 3, 'criterion': 'entropy', 'max_features': 0.20142613205464863}. Best is trial 13 with value: 0.7996666666666666.\n",
      "C:\\Users\\Георгий\\AppData\\Local\\Temp\\ipykernel_2692\\3916093398.py:17: FutureWarning: suggest_uniform has been deprecated in v3.0.0. This feature will be removed in v6.0.0. See https://github.com/optuna/optuna/releases/tag/v3.0.0. Use suggest_float instead.\n",
      "  max_features = trial.suggest_uniform('max_features', 0.2, 0.8)\n",
      "[I 2024-05-28 12:05:57,652] Trial 22 finished with value: 0.7956666666666666 and parameters: {'n_estimators': 176, 'max_depth': 34, 'min_samples_split': 3, 'min_samples_leaf': 2, 'criterion': 'entropy', 'max_features': 0.29344848633603304}. Best is trial 13 with value: 0.7996666666666666.\n",
      "C:\\Users\\Георгий\\AppData\\Local\\Temp\\ipykernel_2692\\3916093398.py:17: FutureWarning: suggest_uniform has been deprecated in v3.0.0. This feature will be removed in v6.0.0. See https://github.com/optuna/optuna/releases/tag/v3.0.0. Use suggest_float instead.\n",
      "  max_features = trial.suggest_uniform('max_features', 0.2, 0.8)\n",
      "[I 2024-05-28 12:07:12,090] Trial 23 finished with value: 0.7949999999999999 and parameters: {'n_estimators': 173, 'max_depth': 35, 'min_samples_split': 2, 'min_samples_leaf': 2, 'criterion': 'entropy', 'max_features': 0.29966078641777943}. Best is trial 13 with value: 0.7996666666666666.\n",
      "C:\\Users\\Георгий\\AppData\\Local\\Temp\\ipykernel_2692\\3916093398.py:17: FutureWarning: suggest_uniform has been deprecated in v3.0.0. This feature will be removed in v6.0.0. See https://github.com/optuna/optuna/releases/tag/v3.0.0. Use suggest_float instead.\n",
      "  max_features = trial.suggest_uniform('max_features', 0.2, 0.8)\n",
      "[I 2024-05-28 12:08:17,426] Trial 24 finished with value: 0.7996666666666666 and parameters: {'n_estimators': 172, 'max_depth': 45, 'min_samples_split': 3, 'min_samples_leaf': 2, 'criterion': 'entropy', 'max_features': 0.2890289227433709}. Best is trial 13 with value: 0.7996666666666666.\n",
      "C:\\Users\\Георгий\\AppData\\Local\\Temp\\ipykernel_2692\\3916093398.py:17: FutureWarning: suggest_uniform has been deprecated in v3.0.0. This feature will be removed in v6.0.0. See https://github.com/optuna/optuna/releases/tag/v3.0.0. Use suggest_float instead.\n",
      "  max_features = trial.suggest_uniform('max_features', 0.2, 0.8)\n",
      "[I 2024-05-28 12:08:58,351] Trial 25 finished with value: 0.7986666666666666 and parameters: {'n_estimators': 223, 'max_depth': 46, 'min_samples_split': 2, 'min_samples_leaf': 2, 'criterion': 'entropy', 'max_features': 0.29947703447022556}. Best is trial 13 with value: 0.7996666666666666.\n",
      "C:\\Users\\Георгий\\AppData\\Local\\Temp\\ipykernel_2692\\3916093398.py:17: FutureWarning: suggest_uniform has been deprecated in v3.0.0. This feature will be removed in v6.0.0. See https://github.com/optuna/optuna/releases/tag/v3.0.0. Use suggest_float instead.\n",
      "  max_features = trial.suggest_uniform('max_features', 0.2, 0.8)\n",
      "[I 2024-05-28 12:10:14,044] Trial 26 finished with value: 0.7926666666666667 and parameters: {'n_estimators': 220, 'max_depth': 46, 'min_samples_split': 2, 'min_samples_leaf': 3, 'criterion': 'entropy', 'max_features': 0.290469735120585}. Best is trial 13 with value: 0.7996666666666666.\n",
      "C:\\Users\\Георгий\\AppData\\Local\\Temp\\ipykernel_2692\\3916093398.py:17: FutureWarning: suggest_uniform has been deprecated in v3.0.0. This feature will be removed in v6.0.0. See https://github.com/optuna/optuna/releases/tag/v3.0.0. Use suggest_float instead.\n",
      "  max_features = trial.suggest_uniform('max_features', 0.2, 0.8)\n",
      "[I 2024-05-28 12:11:43,856] Trial 27 finished with value: 0.794 and parameters: {'n_estimators': 225, 'max_depth': 46, 'min_samples_split': 6, 'min_samples_leaf': 3, 'criterion': 'entropy', 'max_features': 0.2933792387026258}. Best is trial 13 with value: 0.7996666666666666.\n",
      "C:\\Users\\Георгий\\AppData\\Local\\Temp\\ipykernel_2692\\3916093398.py:17: FutureWarning: suggest_uniform has been deprecated in v3.0.0. This feature will be removed in v6.0.0. See https://github.com/optuna/optuna/releases/tag/v3.0.0. Use suggest_float instead.\n",
      "  max_features = trial.suggest_uniform('max_features', 0.2, 0.8)\n",
      "[I 2024-05-28 12:12:42,747] Trial 28 finished with value: 0.799 and parameters: {'n_estimators': 216, 'max_depth': 46, 'min_samples_split': 3, 'min_samples_leaf': 2, 'criterion': 'entropy', 'max_features': 0.2778380638298319}. Best is trial 13 with value: 0.7996666666666666.\n",
      "C:\\Users\\Георгий\\AppData\\Local\\Temp\\ipykernel_2692\\3916093398.py:17: FutureWarning: suggest_uniform has been deprecated in v3.0.0. This feature will be removed in v6.0.0. See https://github.com/optuna/optuna/releases/tag/v3.0.0. Use suggest_float instead.\n",
      "  max_features = trial.suggest_uniform('max_features', 0.2, 0.8)\n",
      "[I 2024-05-28 12:13:28,961] Trial 29 finished with value: 0.7963333333333334 and parameters: {'n_estimators': 221, 'max_depth': 46, 'min_samples_split': 2, 'min_samples_leaf': 2, 'criterion': 'entropy', 'max_features': 0.2864827502192806}. Best is trial 13 with value: 0.7996666666666666.\n",
      "C:\\Users\\Георгий\\AppData\\Local\\Temp\\ipykernel_2692\\3916093398.py:17: FutureWarning: suggest_uniform has been deprecated in v3.0.0. This feature will be removed in v6.0.0. See https://github.com/optuna/optuna/releases/tag/v3.0.0. Use suggest_float instead.\n",
      "  max_features = trial.suggest_uniform('max_features', 0.2, 0.8)\n",
      "[I 2024-05-28 12:15:05,025] Trial 30 finished with value: 0.7930000000000001 and parameters: {'n_estimators': 233, 'max_depth': 46, 'min_samples_split': 3, 'min_samples_leaf': 2, 'criterion': 'entropy', 'max_features': 0.32631846689098504}. Best is trial 13 with value: 0.7996666666666666.\n",
      "C:\\Users\\Георгий\\AppData\\Local\\Temp\\ipykernel_2692\\3916093398.py:17: FutureWarning: suggest_uniform has been deprecated in v3.0.0. This feature will be removed in v6.0.0. See https://github.com/optuna/optuna/releases/tag/v3.0.0. Use suggest_float instead.\n",
      "  max_features = trial.suggest_uniform('max_features', 0.2, 0.8)\n",
      "[I 2024-05-28 12:16:53,344] Trial 31 finished with value: 0.794 and parameters: {'n_estimators': 236, 'max_depth': 21, 'min_samples_split': 3, 'min_samples_leaf': 2, 'criterion': 'entropy', 'max_features': 0.32970634351927114}. Best is trial 13 with value: 0.7996666666666666.\n",
      "C:\\Users\\Георгий\\AppData\\Local\\Temp\\ipykernel_2692\\3916093398.py:17: FutureWarning: suggest_uniform has been deprecated in v3.0.0. This feature will be removed in v6.0.0. See https://github.com/optuna/optuna/releases/tag/v3.0.0. Use suggest_float instead.\n",
      "  max_features = trial.suggest_uniform('max_features', 0.2, 0.8)\n",
      "[I 2024-05-28 12:18:31,420] Trial 32 finished with value: 0.7923333333333334 and parameters: {'n_estimators': 243, 'max_depth': 42, 'min_samples_split': 3, 'min_samples_leaf': 2, 'criterion': 'gini', 'max_features': 0.3426075974069477}. Best is trial 13 with value: 0.7996666666666666.\n",
      "C:\\Users\\Георгий\\AppData\\Local\\Temp\\ipykernel_2692\\3916093398.py:17: FutureWarning: suggest_uniform has been deprecated in v3.0.0. This feature will be removed in v6.0.0. See https://github.com/optuna/optuna/releases/tag/v3.0.0. Use suggest_float instead.\n",
      "  max_features = trial.suggest_uniform('max_features', 0.2, 0.8)\n",
      "[I 2024-05-28 12:20:31,105] Trial 33 finished with value: 0.7896666666666667 and parameters: {'n_estimators': 299, 'max_depth': 41, 'min_samples_split': 3, 'min_samples_leaf': 1, 'criterion': 'gini', 'max_features': 0.35198500209010336}. Best is trial 13 with value: 0.7996666666666666.\n",
      "C:\\Users\\Георгий\\AppData\\Local\\Temp\\ipykernel_2692\\3916093398.py:17: FutureWarning: suggest_uniform has been deprecated in v3.0.0. This feature will be removed in v6.0.0. See https://github.com/optuna/optuna/releases/tag/v3.0.0. Use suggest_float instead.\n",
      "  max_features = trial.suggest_uniform('max_features', 0.2, 0.8)\n",
      "[I 2024-05-28 12:21:15,476] Trial 34 finished with value: 0.7959999999999999 and parameters: {'n_estimators': 207, 'max_depth': 42, 'min_samples_split': 3, 'min_samples_leaf': 2, 'criterion': 'entropy', 'max_features': 0.2530788654984173}. Best is trial 13 with value: 0.7996666666666666.\n",
      "C:\\Users\\Георгий\\AppData\\Local\\Temp\\ipykernel_2692\\3916093398.py:17: FutureWarning: suggest_uniform has been deprecated in v3.0.0. This feature will be removed in v6.0.0. See https://github.com/optuna/optuna/releases/tag/v3.0.0. Use suggest_float instead.\n",
      "  max_features = trial.suggest_uniform('max_features', 0.2, 0.8)\n",
      "[I 2024-05-28 12:22:37,847] Trial 35 finished with value: 0.797 and parameters: {'n_estimators': 256, 'max_depth': 42, 'min_samples_split': 3, 'min_samples_leaf': 1, 'criterion': 'entropy', 'max_features': 0.25458041726074315}. Best is trial 13 with value: 0.7996666666666666.\n",
      "C:\\Users\\Георгий\\AppData\\Local\\Temp\\ipykernel_2692\\3916093398.py:17: FutureWarning: suggest_uniform has been deprecated in v3.0.0. This feature will be removed in v6.0.0. See https://github.com/optuna/optuna/releases/tag/v3.0.0. Use suggest_float instead.\n",
      "  max_features = trial.suggest_uniform('max_features', 0.2, 0.8)\n",
      "[I 2024-05-28 12:23:06,287] Trial 36 finished with value: 0.7959999999999999 and parameters: {'n_estimators': 163, 'max_depth': 39, 'min_samples_split': 2, 'min_samples_leaf': 1, 'criterion': 'entropy', 'max_features': 0.25090584892735557}. Best is trial 13 with value: 0.7996666666666666.\n",
      "C:\\Users\\Георгий\\AppData\\Local\\Temp\\ipykernel_2692\\3916093398.py:17: FutureWarning: suggest_uniform has been deprecated in v3.0.0. This feature will be removed in v6.0.0. See https://github.com/optuna/optuna/releases/tag/v3.0.0. Use suggest_float instead.\n",
      "  max_features = trial.suggest_uniform('max_features', 0.2, 0.8)\n",
      "[I 2024-05-28 12:23:58,494] Trial 37 finished with value: 0.7953333333333333 and parameters: {'n_estimators': 165, 'max_depth': 45, 'min_samples_split': 2, 'min_samples_leaf': 1, 'criterion': 'entropy', 'max_features': 0.2562891138001265}. Best is trial 13 with value: 0.7996666666666666.\n",
      "C:\\Users\\Георгий\\AppData\\Local\\Temp\\ipykernel_2692\\3916093398.py:17: FutureWarning: suggest_uniform has been deprecated in v3.0.0. This feature will be removed in v6.0.0. See https://github.com/optuna/optuna/releases/tag/v3.0.0. Use suggest_float instead.\n",
      "  max_features = trial.suggest_uniform('max_features', 0.2, 0.8)\n",
      "[I 2024-05-28 12:25:18,228] Trial 38 finished with value: 0.7959999999999999 and parameters: {'n_estimators': 260, 'max_depth': 39, 'min_samples_split': 2, 'min_samples_leaf': 1, 'criterion': 'entropy', 'max_features': 0.25685669579228027}. Best is trial 13 with value: 0.7996666666666666.\n",
      "C:\\Users\\Георгий\\AppData\\Local\\Temp\\ipykernel_2692\\3916093398.py:17: FutureWarning: suggest_uniform has been deprecated in v3.0.0. This feature will be removed in v6.0.0. See https://github.com/optuna/optuna/releases/tag/v3.0.0. Use suggest_float instead.\n",
      "  max_features = trial.suggest_uniform('max_features', 0.2, 0.8)\n",
      "[I 2024-05-28 12:26:56,183] Trial 39 finished with value: 0.7986666666666666 and parameters: {'n_estimators': 206, 'max_depth': 39, 'min_samples_split': 2, 'min_samples_leaf': 1, 'criterion': 'entropy', 'max_features': 0.401654854768991}. Best is trial 13 with value: 0.7996666666666666.\n",
      "C:\\Users\\Георгий\\AppData\\Local\\Temp\\ipykernel_2692\\3916093398.py:17: FutureWarning: suggest_uniform has been deprecated in v3.0.0. This feature will be removed in v6.0.0. See https://github.com/optuna/optuna/releases/tag/v3.0.0. Use suggest_float instead.\n",
      "  max_features = trial.suggest_uniform('max_features', 0.2, 0.8)\n",
      "[I 2024-05-28 12:28:42,746] Trial 40 finished with value: 0.793 and parameters: {'n_estimators': 208, 'max_depth': 47, 'min_samples_split': 6, 'min_samples_leaf': 2, 'criterion': 'entropy', 'max_features': 0.41852196596969166}. Best is trial 13 with value: 0.7996666666666666.\n",
      "C:\\Users\\Георгий\\AppData\\Local\\Temp\\ipykernel_2692\\3916093398.py:17: FutureWarning: suggest_uniform has been deprecated in v3.0.0. This feature will be removed in v6.0.0. See https://github.com/optuna/optuna/releases/tag/v3.0.0. Use suggest_float instead.\n",
      "  max_features = trial.suggest_uniform('max_features', 0.2, 0.8)\n",
      "[I 2024-05-28 12:29:08,556] Trial 41 finished with value: 0.7893333333333334 and parameters: {'n_estimators': 130, 'max_depth': 32, 'min_samples_split': 6, 'min_samples_leaf': 2, 'criterion': 'entropy', 'max_features': 0.41507243949305594}. Best is trial 13 with value: 0.7996666666666666.\n",
      "C:\\Users\\Георгий\\AppData\\Local\\Temp\\ipykernel_2692\\3916093398.py:17: FutureWarning: suggest_uniform has been deprecated in v3.0.0. This feature will be removed in v6.0.0. See https://github.com/optuna/optuna/releases/tag/v3.0.0. Use suggest_float instead.\n",
      "  max_features = trial.suggest_uniform('max_features', 0.2, 0.8)\n",
      "[I 2024-05-28 12:29:52,640] Trial 42 finished with value: 0.7920000000000001 and parameters: {'n_estimators': 125, 'max_depth': 22, 'min_samples_split': 6, 'min_samples_leaf': 2, 'criterion': 'entropy', 'max_features': 0.3993905370571106}. Best is trial 13 with value: 0.7996666666666666.\n",
      "C:\\Users\\Георгий\\AppData\\Local\\Temp\\ipykernel_2692\\3916093398.py:17: FutureWarning: suggest_uniform has been deprecated in v3.0.0. This feature will be removed in v6.0.0. See https://github.com/optuna/optuna/releases/tag/v3.0.0. Use suggest_float instead.\n",
      "  max_features = trial.suggest_uniform('max_features', 0.2, 0.8)\n",
      "[I 2024-05-28 12:31:06,733] Trial 43 finished with value: 0.7846666666666667 and parameters: {'n_estimators': 132, 'max_depth': 24, 'min_samples_split': 5, 'min_samples_leaf': 2, 'criterion': 'gini', 'max_features': 0.4457715514602928}. Best is trial 13 with value: 0.7996666666666666.\n",
      "C:\\Users\\Георгий\\AppData\\Local\\Temp\\ipykernel_2692\\3916093398.py:17: FutureWarning: suggest_uniform has been deprecated in v3.0.0. This feature will be removed in v6.0.0. See https://github.com/optuna/optuna/releases/tag/v3.0.0. Use suggest_float instead.\n",
      "  max_features = trial.suggest_uniform('max_features', 0.2, 0.8)\n",
      "[I 2024-05-28 12:32:35,381] Trial 44 finished with value: 0.7943333333333333 and parameters: {'n_estimators': 212, 'max_depth': 44, 'min_samples_split': 5, 'min_samples_leaf': 2, 'criterion': 'entropy', 'max_features': 0.3736406935017095}. Best is trial 13 with value: 0.7996666666666666.\n",
      "C:\\Users\\Георгий\\AppData\\Local\\Temp\\ipykernel_2692\\3916093398.py:17: FutureWarning: suggest_uniform has been deprecated in v3.0.0. This feature will be removed in v6.0.0. See https://github.com/optuna/optuna/releases/tag/v3.0.0. Use suggest_float instead.\n",
      "  max_features = trial.suggest_uniform('max_features', 0.2, 0.8)\n",
      "[I 2024-05-28 12:34:22,327] Trial 45 finished with value: 0.7956666666666666 and parameters: {'n_estimators': 210, 'max_depth': 44, 'min_samples_split': 5, 'min_samples_leaf': 1, 'criterion': 'entropy', 'max_features': 0.3703969063879608}. Best is trial 13 with value: 0.7996666666666666.\n",
      "C:\\Users\\Георгий\\AppData\\Local\\Temp\\ipykernel_2692\\3916093398.py:17: FutureWarning: suggest_uniform has been deprecated in v3.0.0. This feature will be removed in v6.0.0. See https://github.com/optuna/optuna/releases/tag/v3.0.0. Use suggest_float instead.\n",
      "  max_features = trial.suggest_uniform('max_features', 0.2, 0.8)\n",
      "[I 2024-05-28 12:35:49,870] Trial 46 finished with value: 0.7933333333333334 and parameters: {'n_estimators': 211, 'max_depth': 44, 'min_samples_split': 5, 'min_samples_leaf': 1, 'criterion': 'entropy', 'max_features': 0.4539672768100391}. Best is trial 13 with value: 0.7996666666666666.\n",
      "[I 2024-05-28 12:37:10,964] Trial 47 finished with value: 0.7919999999999999 and parameters: {'n_estimators': 212, 'max_depth': 48, 'min_samples_split': 2, 'min_samples_leaf': 1, 'criterion': 'entropy', 'max_features': 0.37693355647454674}. Best is trial 13 with value: 0.7996666666666666.\n",
      "[I 2024-05-28 12:39:03,802] Trial 48 finished with value: 0.791 and parameters: {'n_estimators': 185, 'max_depth': 48, 'min_samples_split': 2, 'min_samples_leaf': 1, 'criterion': 'entropy', 'max_features': 0.5186717110809874}. Best is trial 13 with value: 0.7996666666666666.\n",
      "[I 2024-05-28 12:40:54,051] Trial 49 finished with value: 0.7923333333333332 and parameters: {'n_estimators': 230, 'max_depth': 48, 'min_samples_split': 2, 'min_samples_leaf': 1, 'criterion': 'entropy', 'max_features': 0.5197294110319381}. Best is trial 13 with value: 0.7996666666666666.\n"
     ]
    },
    {
     "name": "stdout",
     "output_type": "stream",
     "text": [
      "Наилучшие значения гиперпараметров: {'n_estimators': 194, 'max_depth': 50, 'min_samples_split': 6, 'min_samples_leaf': 3, 'criterion': 'entropy', 'max_features': 0.2141213980879848}\n",
      "Точность на тестовом наборе: 0.80\n",
      "F1-метрика на тестовом наборе: 0.80\n"
     ]
    }
   ],
   "source": [
    "# Определение функции оптимизации\n",
    "def objective(trial):\n",
    "    # Определение пространства поиска гиперпараметров\n",
    "    n_estimators = trial.suggest_int('n_estimators', 100, 300)\n",
    "    max_depth = trial.suggest_int('max_depth', 10, 50)\n",
    "    min_samples_split = trial.suggest_int('min_samples_split', 2, 10)\n",
    "    min_samples_leaf = trial.suggest_int('min_samples_leaf', 1, 5)\n",
    "    criterion = trial.suggest_categorical('criterion', ['gini', 'entropy'])\n",
    "    max_features = trial.suggest_uniform('max_features', 0.2, 0.8)\n",
    "\n",
    "    # Создание и обучение модели\n",
    "    clf = RandomForestClassifier(\n",
    "        n_estimators=n_estimators,\n",
    "        max_depth=max_depth,\n",
    "        min_samples_split=min_samples_split,\n",
    "        min_samples_leaf=min_samples_leaf,\n",
    "        criterion=criterion,\n",
    "        max_features=max_features\n",
    "    )\n",
    "\n",
    "    # Оценка модели с использованием кросс-валидации\n",
    "    score = cross_val_score(\n",
    "        clf,\n",
    "        X_train, \n",
    "        y_train, \n",
    "        cv=3,  # Уменьшено количество складок кросс-валидации\n",
    "        scoring='accuracy',\n",
    "        n_jobs=-1\n",
    "    ).mean()\n",
    "    return score\n",
    "\n",
    "# Создание объекта для исследования с установленным генератором случайных чисел\n",
    "sampler = optuna.samplers.TPESampler(seed=42)\n",
    "study = optuna.create_study(direction='maximize', sampler=sampler)\n",
    "\n",
    "# Оптимизация с параллельным выполнением\n",
    "study.optimize(objective, n_trials=50, n_jobs=-1)\n",
    "\n",
    "print(\"Наилучшие значения гиперпараметров:\", study.best_params)\n",
    "\n",
    "# Использование наилучших гиперпараметров для обучения и оценки модели\n",
    "best_params = study.best_params\n",
    "\n",
    "best_model = RandomForestClassifier(\n",
    "    n_estimators=best_params['n_estimators'],\n",
    "    max_depth=best_params['max_depth'],\n",
    "    min_samples_split=best_params['min_samples_split'],\n",
    "    min_samples_leaf=best_params['min_samples_leaf'],\n",
    "    criterion=best_params['criterion'],\n",
    "    max_features=best_params['max_features']\n",
    ")\n",
    "\n",
    "best_model.fit(X_train, y_train)\n",
    "\n",
    "accuracy = best_model.score(X_test, y_test)\n",
    "print(\"Точность на тестовом наборе: {:.2f}\".format(accuracy))\n",
    "\n",
    "y_test_pred = best_model.predict(X_test)\n",
    "f1 = metrics.f1_score(y_test, y_test_pred, average='weighted')\n",
    "print('F1-метрика на тестовом наборе: {:.2f}'.format(f1))\n"
   ]
  },
  {
   "cell_type": "code",
   "execution_count": 13,
   "metadata": {},
   "outputs": [
    {
     "data": {
      "application/vnd.plotly.v1+json": {
       "config": {
        "plotlyServerURL": "https://plot.ly"
       },
       "data": [
        {
         "mode": "markers",
         "name": "f1_score",
         "type": "scatter",
         "x": [
          0,
          1,
          2,
          3,
          4,
          5,
          6,
          7,
          8,
          9,
          10,
          11,
          12,
          13,
          14,
          15,
          16,
          17,
          18,
          19,
          20,
          21,
          22,
          23,
          24,
          25,
          26,
          27,
          28,
          29,
          30,
          31,
          32,
          33,
          34,
          35,
          36,
          37,
          38,
          39,
          40,
          41,
          42,
          43,
          44,
          45,
          46,
          47,
          48,
          49
         ],
         "y": [
          0.7873333333333333,
          0.7903333333333333,
          0.7880000000000001,
          0.7893333333333334,
          0.7903333333333334,
          0.7893333333333334,
          0.7906666666666667,
          0.7906666666666667,
          0.786,
          0.7916666666666666,
          0.789,
          0.7913333333333333,
          0.789,
          0.7996666666666666,
          0.7926666666666667,
          0.7936666666666667,
          0.7876666666666666,
          0.7976666666666666,
          0.7966666666666667,
          0.7906666666666666,
          0.7936666666666667,
          0.7926666666666667,
          0.7956666666666666,
          0.7949999999999999,
          0.7996666666666666,
          0.7986666666666666,
          0.7926666666666667,
          0.794,
          0.799,
          0.7963333333333334,
          0.7930000000000001,
          0.794,
          0.7923333333333334,
          0.7896666666666667,
          0.7959999999999999,
          0.797,
          0.7959999999999999,
          0.7953333333333333,
          0.7959999999999999,
          0.7986666666666666,
          0.793,
          0.7893333333333334,
          0.7920000000000001,
          0.7846666666666667,
          0.7943333333333333,
          0.7956666666666666,
          0.7933333333333334,
          0.7919999999999999,
          0.791,
          0.7923333333333332
         ]
        },
        {
         "mode": "lines",
         "name": "Best Value",
         "type": "scatter",
         "x": [
          0,
          1,
          2,
          3,
          4,
          5,
          6,
          7,
          8,
          9,
          10,
          11,
          12,
          13,
          14,
          15,
          16,
          17,
          18,
          19,
          20,
          21,
          22,
          23,
          24,
          25,
          26,
          27,
          28,
          29,
          30,
          31,
          32,
          33,
          34,
          35,
          36,
          37,
          38,
          39,
          40,
          41,
          42,
          43,
          44,
          45,
          46,
          47,
          48,
          49
         ],
         "y": [
          0.7873333333333333,
          0.7903333333333333,
          0.7903333333333333,
          0.7903333333333333,
          0.7903333333333334,
          0.7903333333333334,
          0.7906666666666667,
          0.7906666666666667,
          0.7906666666666667,
          0.7916666666666666,
          0.7916666666666666,
          0.7916666666666666,
          0.7916666666666666,
          0.7996666666666666,
          0.7996666666666666,
          0.7996666666666666,
          0.7996666666666666,
          0.7996666666666666,
          0.7996666666666666,
          0.7996666666666666,
          0.7996666666666666,
          0.7996666666666666,
          0.7996666666666666,
          0.7996666666666666,
          0.7996666666666666,
          0.7996666666666666,
          0.7996666666666666,
          0.7996666666666666,
          0.7996666666666666,
          0.7996666666666666,
          0.7996666666666666,
          0.7996666666666666,
          0.7996666666666666,
          0.7996666666666666,
          0.7996666666666666,
          0.7996666666666666,
          0.7996666666666666,
          0.7996666666666666,
          0.7996666666666666,
          0.7996666666666666,
          0.7996666666666666,
          0.7996666666666666,
          0.7996666666666666,
          0.7996666666666666,
          0.7996666666666666,
          0.7996666666666666,
          0.7996666666666666,
          0.7996666666666666,
          0.7996666666666666,
          0.7996666666666666
         ]
        },
        {
         "marker": {
          "color": "#cccccc"
         },
         "mode": "markers",
         "name": "Infeasible Trial",
         "showlegend": false,
         "type": "scatter",
         "x": [],
         "y": []
        }
       ],
       "layout": {
        "template": {
         "data": {
          "bar": [
           {
            "error_x": {
             "color": "#2a3f5f"
            },
            "error_y": {
             "color": "#2a3f5f"
            },
            "marker": {
             "line": {
              "color": "#E5ECF6",
              "width": 0.5
             },
             "pattern": {
              "fillmode": "overlay",
              "size": 10,
              "solidity": 0.2
             }
            },
            "type": "bar"
           }
          ],
          "barpolar": [
           {
            "marker": {
             "line": {
              "color": "#E5ECF6",
              "width": 0.5
             },
             "pattern": {
              "fillmode": "overlay",
              "size": 10,
              "solidity": 0.2
             }
            },
            "type": "barpolar"
           }
          ],
          "carpet": [
           {
            "aaxis": {
             "endlinecolor": "#2a3f5f",
             "gridcolor": "white",
             "linecolor": "white",
             "minorgridcolor": "white",
             "startlinecolor": "#2a3f5f"
            },
            "baxis": {
             "endlinecolor": "#2a3f5f",
             "gridcolor": "white",
             "linecolor": "white",
             "minorgridcolor": "white",
             "startlinecolor": "#2a3f5f"
            },
            "type": "carpet"
           }
          ],
          "choropleth": [
           {
            "colorbar": {
             "outlinewidth": 0,
             "ticks": ""
            },
            "type": "choropleth"
           }
          ],
          "contour": [
           {
            "colorbar": {
             "outlinewidth": 0,
             "ticks": ""
            },
            "colorscale": [
             [
              0,
              "#0d0887"
             ],
             [
              0.1111111111111111,
              "#46039f"
             ],
             [
              0.2222222222222222,
              "#7201a8"
             ],
             [
              0.3333333333333333,
              "#9c179e"
             ],
             [
              0.4444444444444444,
              "#bd3786"
             ],
             [
              0.5555555555555556,
              "#d8576b"
             ],
             [
              0.6666666666666666,
              "#ed7953"
             ],
             [
              0.7777777777777778,
              "#fb9f3a"
             ],
             [
              0.8888888888888888,
              "#fdca26"
             ],
             [
              1,
              "#f0f921"
             ]
            ],
            "type": "contour"
           }
          ],
          "contourcarpet": [
           {
            "colorbar": {
             "outlinewidth": 0,
             "ticks": ""
            },
            "type": "contourcarpet"
           }
          ],
          "heatmap": [
           {
            "colorbar": {
             "outlinewidth": 0,
             "ticks": ""
            },
            "colorscale": [
             [
              0,
              "#0d0887"
             ],
             [
              0.1111111111111111,
              "#46039f"
             ],
             [
              0.2222222222222222,
              "#7201a8"
             ],
             [
              0.3333333333333333,
              "#9c179e"
             ],
             [
              0.4444444444444444,
              "#bd3786"
             ],
             [
              0.5555555555555556,
              "#d8576b"
             ],
             [
              0.6666666666666666,
              "#ed7953"
             ],
             [
              0.7777777777777778,
              "#fb9f3a"
             ],
             [
              0.8888888888888888,
              "#fdca26"
             ],
             [
              1,
              "#f0f921"
             ]
            ],
            "type": "heatmap"
           }
          ],
          "heatmapgl": [
           {
            "colorbar": {
             "outlinewidth": 0,
             "ticks": ""
            },
            "colorscale": [
             [
              0,
              "#0d0887"
             ],
             [
              0.1111111111111111,
              "#46039f"
             ],
             [
              0.2222222222222222,
              "#7201a8"
             ],
             [
              0.3333333333333333,
              "#9c179e"
             ],
             [
              0.4444444444444444,
              "#bd3786"
             ],
             [
              0.5555555555555556,
              "#d8576b"
             ],
             [
              0.6666666666666666,
              "#ed7953"
             ],
             [
              0.7777777777777778,
              "#fb9f3a"
             ],
             [
              0.8888888888888888,
              "#fdca26"
             ],
             [
              1,
              "#f0f921"
             ]
            ],
            "type": "heatmapgl"
           }
          ],
          "histogram": [
           {
            "marker": {
             "pattern": {
              "fillmode": "overlay",
              "size": 10,
              "solidity": 0.2
             }
            },
            "type": "histogram"
           }
          ],
          "histogram2d": [
           {
            "colorbar": {
             "outlinewidth": 0,
             "ticks": ""
            },
            "colorscale": [
             [
              0,
              "#0d0887"
             ],
             [
              0.1111111111111111,
              "#46039f"
             ],
             [
              0.2222222222222222,
              "#7201a8"
             ],
             [
              0.3333333333333333,
              "#9c179e"
             ],
             [
              0.4444444444444444,
              "#bd3786"
             ],
             [
              0.5555555555555556,
              "#d8576b"
             ],
             [
              0.6666666666666666,
              "#ed7953"
             ],
             [
              0.7777777777777778,
              "#fb9f3a"
             ],
             [
              0.8888888888888888,
              "#fdca26"
             ],
             [
              1,
              "#f0f921"
             ]
            ],
            "type": "histogram2d"
           }
          ],
          "histogram2dcontour": [
           {
            "colorbar": {
             "outlinewidth": 0,
             "ticks": ""
            },
            "colorscale": [
             [
              0,
              "#0d0887"
             ],
             [
              0.1111111111111111,
              "#46039f"
             ],
             [
              0.2222222222222222,
              "#7201a8"
             ],
             [
              0.3333333333333333,
              "#9c179e"
             ],
             [
              0.4444444444444444,
              "#bd3786"
             ],
             [
              0.5555555555555556,
              "#d8576b"
             ],
             [
              0.6666666666666666,
              "#ed7953"
             ],
             [
              0.7777777777777778,
              "#fb9f3a"
             ],
             [
              0.8888888888888888,
              "#fdca26"
             ],
             [
              1,
              "#f0f921"
             ]
            ],
            "type": "histogram2dcontour"
           }
          ],
          "mesh3d": [
           {
            "colorbar": {
             "outlinewidth": 0,
             "ticks": ""
            },
            "type": "mesh3d"
           }
          ],
          "parcoords": [
           {
            "line": {
             "colorbar": {
              "outlinewidth": 0,
              "ticks": ""
             }
            },
            "type": "parcoords"
           }
          ],
          "pie": [
           {
            "automargin": true,
            "type": "pie"
           }
          ],
          "scatter": [
           {
            "fillpattern": {
             "fillmode": "overlay",
             "size": 10,
             "solidity": 0.2
            },
            "type": "scatter"
           }
          ],
          "scatter3d": [
           {
            "line": {
             "colorbar": {
              "outlinewidth": 0,
              "ticks": ""
             }
            },
            "marker": {
             "colorbar": {
              "outlinewidth": 0,
              "ticks": ""
             }
            },
            "type": "scatter3d"
           }
          ],
          "scattercarpet": [
           {
            "marker": {
             "colorbar": {
              "outlinewidth": 0,
              "ticks": ""
             }
            },
            "type": "scattercarpet"
           }
          ],
          "scattergeo": [
           {
            "marker": {
             "colorbar": {
              "outlinewidth": 0,
              "ticks": ""
             }
            },
            "type": "scattergeo"
           }
          ],
          "scattergl": [
           {
            "marker": {
             "colorbar": {
              "outlinewidth": 0,
              "ticks": ""
             }
            },
            "type": "scattergl"
           }
          ],
          "scattermapbox": [
           {
            "marker": {
             "colorbar": {
              "outlinewidth": 0,
              "ticks": ""
             }
            },
            "type": "scattermapbox"
           }
          ],
          "scatterpolar": [
           {
            "marker": {
             "colorbar": {
              "outlinewidth": 0,
              "ticks": ""
             }
            },
            "type": "scatterpolar"
           }
          ],
          "scatterpolargl": [
           {
            "marker": {
             "colorbar": {
              "outlinewidth": 0,
              "ticks": ""
             }
            },
            "type": "scatterpolargl"
           }
          ],
          "scatterternary": [
           {
            "marker": {
             "colorbar": {
              "outlinewidth": 0,
              "ticks": ""
             }
            },
            "type": "scatterternary"
           }
          ],
          "surface": [
           {
            "colorbar": {
             "outlinewidth": 0,
             "ticks": ""
            },
            "colorscale": [
             [
              0,
              "#0d0887"
             ],
             [
              0.1111111111111111,
              "#46039f"
             ],
             [
              0.2222222222222222,
              "#7201a8"
             ],
             [
              0.3333333333333333,
              "#9c179e"
             ],
             [
              0.4444444444444444,
              "#bd3786"
             ],
             [
              0.5555555555555556,
              "#d8576b"
             ],
             [
              0.6666666666666666,
              "#ed7953"
             ],
             [
              0.7777777777777778,
              "#fb9f3a"
             ],
             [
              0.8888888888888888,
              "#fdca26"
             ],
             [
              1,
              "#f0f921"
             ]
            ],
            "type": "surface"
           }
          ],
          "table": [
           {
            "cells": {
             "fill": {
              "color": "#EBF0F8"
             },
             "line": {
              "color": "white"
             }
            },
            "header": {
             "fill": {
              "color": "#C8D4E3"
             },
             "line": {
              "color": "white"
             }
            },
            "type": "table"
           }
          ]
         },
         "layout": {
          "annotationdefaults": {
           "arrowcolor": "#2a3f5f",
           "arrowhead": 0,
           "arrowwidth": 1
          },
          "autotypenumbers": "strict",
          "coloraxis": {
           "colorbar": {
            "outlinewidth": 0,
            "ticks": ""
           }
          },
          "colorscale": {
           "diverging": [
            [
             0,
             "#8e0152"
            ],
            [
             0.1,
             "#c51b7d"
            ],
            [
             0.2,
             "#de77ae"
            ],
            [
             0.3,
             "#f1b6da"
            ],
            [
             0.4,
             "#fde0ef"
            ],
            [
             0.5,
             "#f7f7f7"
            ],
            [
             0.6,
             "#e6f5d0"
            ],
            [
             0.7,
             "#b8e186"
            ],
            [
             0.8,
             "#7fbc41"
            ],
            [
             0.9,
             "#4d9221"
            ],
            [
             1,
             "#276419"
            ]
           ],
           "sequential": [
            [
             0,
             "#0d0887"
            ],
            [
             0.1111111111111111,
             "#46039f"
            ],
            [
             0.2222222222222222,
             "#7201a8"
            ],
            [
             0.3333333333333333,
             "#9c179e"
            ],
            [
             0.4444444444444444,
             "#bd3786"
            ],
            [
             0.5555555555555556,
             "#d8576b"
            ],
            [
             0.6666666666666666,
             "#ed7953"
            ],
            [
             0.7777777777777778,
             "#fb9f3a"
            ],
            [
             0.8888888888888888,
             "#fdca26"
            ],
            [
             1,
             "#f0f921"
            ]
           ],
           "sequentialminus": [
            [
             0,
             "#0d0887"
            ],
            [
             0.1111111111111111,
             "#46039f"
            ],
            [
             0.2222222222222222,
             "#7201a8"
            ],
            [
             0.3333333333333333,
             "#9c179e"
            ],
            [
             0.4444444444444444,
             "#bd3786"
            ],
            [
             0.5555555555555556,
             "#d8576b"
            ],
            [
             0.6666666666666666,
             "#ed7953"
            ],
            [
             0.7777777777777778,
             "#fb9f3a"
            ],
            [
             0.8888888888888888,
             "#fdca26"
            ],
            [
             1,
             "#f0f921"
            ]
           ]
          },
          "colorway": [
           "#636efa",
           "#EF553B",
           "#00cc96",
           "#ab63fa",
           "#FFA15A",
           "#19d3f3",
           "#FF6692",
           "#B6E880",
           "#FF97FF",
           "#FECB52"
          ],
          "font": {
           "color": "#2a3f5f"
          },
          "geo": {
           "bgcolor": "white",
           "lakecolor": "white",
           "landcolor": "#E5ECF6",
           "showlakes": true,
           "showland": true,
           "subunitcolor": "white"
          },
          "hoverlabel": {
           "align": "left"
          },
          "hovermode": "closest",
          "mapbox": {
           "style": "light"
          },
          "paper_bgcolor": "white",
          "plot_bgcolor": "#E5ECF6",
          "polar": {
           "angularaxis": {
            "gridcolor": "white",
            "linecolor": "white",
            "ticks": ""
           },
           "bgcolor": "#E5ECF6",
           "radialaxis": {
            "gridcolor": "white",
            "linecolor": "white",
            "ticks": ""
           }
          },
          "scene": {
           "xaxis": {
            "backgroundcolor": "#E5ECF6",
            "gridcolor": "white",
            "gridwidth": 2,
            "linecolor": "white",
            "showbackground": true,
            "ticks": "",
            "zerolinecolor": "white"
           },
           "yaxis": {
            "backgroundcolor": "#E5ECF6",
            "gridcolor": "white",
            "gridwidth": 2,
            "linecolor": "white",
            "showbackground": true,
            "ticks": "",
            "zerolinecolor": "white"
           },
           "zaxis": {
            "backgroundcolor": "#E5ECF6",
            "gridcolor": "white",
            "gridwidth": 2,
            "linecolor": "white",
            "showbackground": true,
            "ticks": "",
            "zerolinecolor": "white"
           }
          },
          "shapedefaults": {
           "line": {
            "color": "#2a3f5f"
           }
          },
          "ternary": {
           "aaxis": {
            "gridcolor": "white",
            "linecolor": "white",
            "ticks": ""
           },
           "baxis": {
            "gridcolor": "white",
            "linecolor": "white",
            "ticks": ""
           },
           "bgcolor": "#E5ECF6",
           "caxis": {
            "gridcolor": "white",
            "linecolor": "white",
            "ticks": ""
           }
          },
          "title": {
           "x": 0.05
          },
          "xaxis": {
           "automargin": true,
           "gridcolor": "white",
           "linecolor": "white",
           "ticks": "",
           "title": {
            "standoff": 15
           },
           "zerolinecolor": "white",
           "zerolinewidth": 2
          },
          "yaxis": {
           "automargin": true,
           "gridcolor": "white",
           "linecolor": "white",
           "ticks": "",
           "title": {
            "standoff": 15
           },
           "zerolinecolor": "white",
           "zerolinewidth": 2
          }
         }
        },
        "title": {
         "text": "Optimization History Plot"
        },
        "xaxis": {
         "title": {
          "text": "Trial"
         }
        },
        "yaxis": {
         "title": {
          "text": "f1_score"
         }
        }
       }
      }
     },
     "metadata": {},
     "output_type": "display_data"
    }
   ],
   "source": [
    "optuna.visualization.plot_optimization_history(study, target_name=\"f1_score\")"
   ]
  },
  {
   "cell_type": "code",
   "execution_count": 14,
   "metadata": {},
   "outputs": [
    {
     "data": {
      "application/vnd.plotly.v1+json": {
       "config": {
        "plotlyServerURL": "https://plot.ly"
       },
       "data": [
        {
         "cliponaxis": false,
         "hovertemplate": [
          "min_samples_leaf (IntDistribution): 0.018968905549294653<extra></extra>",
          "n_estimators (IntDistribution): 0.036883204701979644<extra></extra>",
          "min_samples_split (IntDistribution): 0.04216878809569229<extra></extra>",
          "max_depth (IntDistribution): 0.06394078765721518<extra></extra>",
          "criterion (CategoricalDistribution): 0.1594967814994217<extra></extra>",
          "max_features (FloatDistribution): 0.6785415324963967<extra></extra>"
         ],
         "name": "f1_score",
         "orientation": "h",
         "text": [
          "0.02",
          "0.04",
          "0.04",
          "0.06",
          "0.16",
          "0.68"
         ],
         "textposition": "outside",
         "type": "bar",
         "x": [
          0.018968905549294653,
          0.036883204701979644,
          0.04216878809569229,
          0.06394078765721518,
          0.1594967814994217,
          0.6785415324963967
         ],
         "y": [
          "min_samples_leaf",
          "n_estimators",
          "min_samples_split",
          "max_depth",
          "criterion",
          "max_features"
         ]
        }
       ],
       "layout": {
        "template": {
         "data": {
          "bar": [
           {
            "error_x": {
             "color": "#2a3f5f"
            },
            "error_y": {
             "color": "#2a3f5f"
            },
            "marker": {
             "line": {
              "color": "#E5ECF6",
              "width": 0.5
             },
             "pattern": {
              "fillmode": "overlay",
              "size": 10,
              "solidity": 0.2
             }
            },
            "type": "bar"
           }
          ],
          "barpolar": [
           {
            "marker": {
             "line": {
              "color": "#E5ECF6",
              "width": 0.5
             },
             "pattern": {
              "fillmode": "overlay",
              "size": 10,
              "solidity": 0.2
             }
            },
            "type": "barpolar"
           }
          ],
          "carpet": [
           {
            "aaxis": {
             "endlinecolor": "#2a3f5f",
             "gridcolor": "white",
             "linecolor": "white",
             "minorgridcolor": "white",
             "startlinecolor": "#2a3f5f"
            },
            "baxis": {
             "endlinecolor": "#2a3f5f",
             "gridcolor": "white",
             "linecolor": "white",
             "minorgridcolor": "white",
             "startlinecolor": "#2a3f5f"
            },
            "type": "carpet"
           }
          ],
          "choropleth": [
           {
            "colorbar": {
             "outlinewidth": 0,
             "ticks": ""
            },
            "type": "choropleth"
           }
          ],
          "contour": [
           {
            "colorbar": {
             "outlinewidth": 0,
             "ticks": ""
            },
            "colorscale": [
             [
              0,
              "#0d0887"
             ],
             [
              0.1111111111111111,
              "#46039f"
             ],
             [
              0.2222222222222222,
              "#7201a8"
             ],
             [
              0.3333333333333333,
              "#9c179e"
             ],
             [
              0.4444444444444444,
              "#bd3786"
             ],
             [
              0.5555555555555556,
              "#d8576b"
             ],
             [
              0.6666666666666666,
              "#ed7953"
             ],
             [
              0.7777777777777778,
              "#fb9f3a"
             ],
             [
              0.8888888888888888,
              "#fdca26"
             ],
             [
              1,
              "#f0f921"
             ]
            ],
            "type": "contour"
           }
          ],
          "contourcarpet": [
           {
            "colorbar": {
             "outlinewidth": 0,
             "ticks": ""
            },
            "type": "contourcarpet"
           }
          ],
          "heatmap": [
           {
            "colorbar": {
             "outlinewidth": 0,
             "ticks": ""
            },
            "colorscale": [
             [
              0,
              "#0d0887"
             ],
             [
              0.1111111111111111,
              "#46039f"
             ],
             [
              0.2222222222222222,
              "#7201a8"
             ],
             [
              0.3333333333333333,
              "#9c179e"
             ],
             [
              0.4444444444444444,
              "#bd3786"
             ],
             [
              0.5555555555555556,
              "#d8576b"
             ],
             [
              0.6666666666666666,
              "#ed7953"
             ],
             [
              0.7777777777777778,
              "#fb9f3a"
             ],
             [
              0.8888888888888888,
              "#fdca26"
             ],
             [
              1,
              "#f0f921"
             ]
            ],
            "type": "heatmap"
           }
          ],
          "heatmapgl": [
           {
            "colorbar": {
             "outlinewidth": 0,
             "ticks": ""
            },
            "colorscale": [
             [
              0,
              "#0d0887"
             ],
             [
              0.1111111111111111,
              "#46039f"
             ],
             [
              0.2222222222222222,
              "#7201a8"
             ],
             [
              0.3333333333333333,
              "#9c179e"
             ],
             [
              0.4444444444444444,
              "#bd3786"
             ],
             [
              0.5555555555555556,
              "#d8576b"
             ],
             [
              0.6666666666666666,
              "#ed7953"
             ],
             [
              0.7777777777777778,
              "#fb9f3a"
             ],
             [
              0.8888888888888888,
              "#fdca26"
             ],
             [
              1,
              "#f0f921"
             ]
            ],
            "type": "heatmapgl"
           }
          ],
          "histogram": [
           {
            "marker": {
             "pattern": {
              "fillmode": "overlay",
              "size": 10,
              "solidity": 0.2
             }
            },
            "type": "histogram"
           }
          ],
          "histogram2d": [
           {
            "colorbar": {
             "outlinewidth": 0,
             "ticks": ""
            },
            "colorscale": [
             [
              0,
              "#0d0887"
             ],
             [
              0.1111111111111111,
              "#46039f"
             ],
             [
              0.2222222222222222,
              "#7201a8"
             ],
             [
              0.3333333333333333,
              "#9c179e"
             ],
             [
              0.4444444444444444,
              "#bd3786"
             ],
             [
              0.5555555555555556,
              "#d8576b"
             ],
             [
              0.6666666666666666,
              "#ed7953"
             ],
             [
              0.7777777777777778,
              "#fb9f3a"
             ],
             [
              0.8888888888888888,
              "#fdca26"
             ],
             [
              1,
              "#f0f921"
             ]
            ],
            "type": "histogram2d"
           }
          ],
          "histogram2dcontour": [
           {
            "colorbar": {
             "outlinewidth": 0,
             "ticks": ""
            },
            "colorscale": [
             [
              0,
              "#0d0887"
             ],
             [
              0.1111111111111111,
              "#46039f"
             ],
             [
              0.2222222222222222,
              "#7201a8"
             ],
             [
              0.3333333333333333,
              "#9c179e"
             ],
             [
              0.4444444444444444,
              "#bd3786"
             ],
             [
              0.5555555555555556,
              "#d8576b"
             ],
             [
              0.6666666666666666,
              "#ed7953"
             ],
             [
              0.7777777777777778,
              "#fb9f3a"
             ],
             [
              0.8888888888888888,
              "#fdca26"
             ],
             [
              1,
              "#f0f921"
             ]
            ],
            "type": "histogram2dcontour"
           }
          ],
          "mesh3d": [
           {
            "colorbar": {
             "outlinewidth": 0,
             "ticks": ""
            },
            "type": "mesh3d"
           }
          ],
          "parcoords": [
           {
            "line": {
             "colorbar": {
              "outlinewidth": 0,
              "ticks": ""
             }
            },
            "type": "parcoords"
           }
          ],
          "pie": [
           {
            "automargin": true,
            "type": "pie"
           }
          ],
          "scatter": [
           {
            "fillpattern": {
             "fillmode": "overlay",
             "size": 10,
             "solidity": 0.2
            },
            "type": "scatter"
           }
          ],
          "scatter3d": [
           {
            "line": {
             "colorbar": {
              "outlinewidth": 0,
              "ticks": ""
             }
            },
            "marker": {
             "colorbar": {
              "outlinewidth": 0,
              "ticks": ""
             }
            },
            "type": "scatter3d"
           }
          ],
          "scattercarpet": [
           {
            "marker": {
             "colorbar": {
              "outlinewidth": 0,
              "ticks": ""
             }
            },
            "type": "scattercarpet"
           }
          ],
          "scattergeo": [
           {
            "marker": {
             "colorbar": {
              "outlinewidth": 0,
              "ticks": ""
             }
            },
            "type": "scattergeo"
           }
          ],
          "scattergl": [
           {
            "marker": {
             "colorbar": {
              "outlinewidth": 0,
              "ticks": ""
             }
            },
            "type": "scattergl"
           }
          ],
          "scattermapbox": [
           {
            "marker": {
             "colorbar": {
              "outlinewidth": 0,
              "ticks": ""
             }
            },
            "type": "scattermapbox"
           }
          ],
          "scatterpolar": [
           {
            "marker": {
             "colorbar": {
              "outlinewidth": 0,
              "ticks": ""
             }
            },
            "type": "scatterpolar"
           }
          ],
          "scatterpolargl": [
           {
            "marker": {
             "colorbar": {
              "outlinewidth": 0,
              "ticks": ""
             }
            },
            "type": "scatterpolargl"
           }
          ],
          "scatterternary": [
           {
            "marker": {
             "colorbar": {
              "outlinewidth": 0,
              "ticks": ""
             }
            },
            "type": "scatterternary"
           }
          ],
          "surface": [
           {
            "colorbar": {
             "outlinewidth": 0,
             "ticks": ""
            },
            "colorscale": [
             [
              0,
              "#0d0887"
             ],
             [
              0.1111111111111111,
              "#46039f"
             ],
             [
              0.2222222222222222,
              "#7201a8"
             ],
             [
              0.3333333333333333,
              "#9c179e"
             ],
             [
              0.4444444444444444,
              "#bd3786"
             ],
             [
              0.5555555555555556,
              "#d8576b"
             ],
             [
              0.6666666666666666,
              "#ed7953"
             ],
             [
              0.7777777777777778,
              "#fb9f3a"
             ],
             [
              0.8888888888888888,
              "#fdca26"
             ],
             [
              1,
              "#f0f921"
             ]
            ],
            "type": "surface"
           }
          ],
          "table": [
           {
            "cells": {
             "fill": {
              "color": "#EBF0F8"
             },
             "line": {
              "color": "white"
             }
            },
            "header": {
             "fill": {
              "color": "#C8D4E3"
             },
             "line": {
              "color": "white"
             }
            },
            "type": "table"
           }
          ]
         },
         "layout": {
          "annotationdefaults": {
           "arrowcolor": "#2a3f5f",
           "arrowhead": 0,
           "arrowwidth": 1
          },
          "autotypenumbers": "strict",
          "coloraxis": {
           "colorbar": {
            "outlinewidth": 0,
            "ticks": ""
           }
          },
          "colorscale": {
           "diverging": [
            [
             0,
             "#8e0152"
            ],
            [
             0.1,
             "#c51b7d"
            ],
            [
             0.2,
             "#de77ae"
            ],
            [
             0.3,
             "#f1b6da"
            ],
            [
             0.4,
             "#fde0ef"
            ],
            [
             0.5,
             "#f7f7f7"
            ],
            [
             0.6,
             "#e6f5d0"
            ],
            [
             0.7,
             "#b8e186"
            ],
            [
             0.8,
             "#7fbc41"
            ],
            [
             0.9,
             "#4d9221"
            ],
            [
             1,
             "#276419"
            ]
           ],
           "sequential": [
            [
             0,
             "#0d0887"
            ],
            [
             0.1111111111111111,
             "#46039f"
            ],
            [
             0.2222222222222222,
             "#7201a8"
            ],
            [
             0.3333333333333333,
             "#9c179e"
            ],
            [
             0.4444444444444444,
             "#bd3786"
            ],
            [
             0.5555555555555556,
             "#d8576b"
            ],
            [
             0.6666666666666666,
             "#ed7953"
            ],
            [
             0.7777777777777778,
             "#fb9f3a"
            ],
            [
             0.8888888888888888,
             "#fdca26"
            ],
            [
             1,
             "#f0f921"
            ]
           ],
           "sequentialminus": [
            [
             0,
             "#0d0887"
            ],
            [
             0.1111111111111111,
             "#46039f"
            ],
            [
             0.2222222222222222,
             "#7201a8"
            ],
            [
             0.3333333333333333,
             "#9c179e"
            ],
            [
             0.4444444444444444,
             "#bd3786"
            ],
            [
             0.5555555555555556,
             "#d8576b"
            ],
            [
             0.6666666666666666,
             "#ed7953"
            ],
            [
             0.7777777777777778,
             "#fb9f3a"
            ],
            [
             0.8888888888888888,
             "#fdca26"
            ],
            [
             1,
             "#f0f921"
            ]
           ]
          },
          "colorway": [
           "#636efa",
           "#EF553B",
           "#00cc96",
           "#ab63fa",
           "#FFA15A",
           "#19d3f3",
           "#FF6692",
           "#B6E880",
           "#FF97FF",
           "#FECB52"
          ],
          "font": {
           "color": "#2a3f5f"
          },
          "geo": {
           "bgcolor": "white",
           "lakecolor": "white",
           "landcolor": "#E5ECF6",
           "showlakes": true,
           "showland": true,
           "subunitcolor": "white"
          },
          "hoverlabel": {
           "align": "left"
          },
          "hovermode": "closest",
          "mapbox": {
           "style": "light"
          },
          "paper_bgcolor": "white",
          "plot_bgcolor": "#E5ECF6",
          "polar": {
           "angularaxis": {
            "gridcolor": "white",
            "linecolor": "white",
            "ticks": ""
           },
           "bgcolor": "#E5ECF6",
           "radialaxis": {
            "gridcolor": "white",
            "linecolor": "white",
            "ticks": ""
           }
          },
          "scene": {
           "xaxis": {
            "backgroundcolor": "#E5ECF6",
            "gridcolor": "white",
            "gridwidth": 2,
            "linecolor": "white",
            "showbackground": true,
            "ticks": "",
            "zerolinecolor": "white"
           },
           "yaxis": {
            "backgroundcolor": "#E5ECF6",
            "gridcolor": "white",
            "gridwidth": 2,
            "linecolor": "white",
            "showbackground": true,
            "ticks": "",
            "zerolinecolor": "white"
           },
           "zaxis": {
            "backgroundcolor": "#E5ECF6",
            "gridcolor": "white",
            "gridwidth": 2,
            "linecolor": "white",
            "showbackground": true,
            "ticks": "",
            "zerolinecolor": "white"
           }
          },
          "shapedefaults": {
           "line": {
            "color": "#2a3f5f"
           }
          },
          "ternary": {
           "aaxis": {
            "gridcolor": "white",
            "linecolor": "white",
            "ticks": ""
           },
           "baxis": {
            "gridcolor": "white",
            "linecolor": "white",
            "ticks": ""
           },
           "bgcolor": "#E5ECF6",
           "caxis": {
            "gridcolor": "white",
            "linecolor": "white",
            "ticks": ""
           }
          },
          "title": {
           "x": 0.05
          },
          "xaxis": {
           "automargin": true,
           "gridcolor": "white",
           "linecolor": "white",
           "ticks": "",
           "title": {
            "standoff": 15
           },
           "zerolinecolor": "white",
           "zerolinewidth": 2
          },
          "yaxis": {
           "automargin": true,
           "gridcolor": "white",
           "linecolor": "white",
           "ticks": "",
           "title": {
            "standoff": 15
           },
           "zerolinecolor": "white",
           "zerolinewidth": 2
          }
         }
        },
        "title": {
         "text": "Hyperparameter Importances"
        },
        "xaxis": {
         "title": {
          "text": "Hyperparameter Importance"
         }
        },
        "yaxis": {
         "title": {
          "text": "Hyperparameter"
         }
        }
       }
      }
     },
     "metadata": {},
     "output_type": "display_data"
    }
   ],
   "source": [
    "optuna.visualization.plot_param_importances(study, target_name=\"f1_score\")"
   ]
  },
  {
   "cell_type": "code",
   "execution_count": 15,
   "metadata": {},
   "outputs": [
    {
     "data": {
      "application/vnd.plotly.v1+json": {
       "config": {
        "plotlyServerURL": "https://plot.ly"
       },
       "data": [
        {
         "colorbar": {
          "title": {
           "text": "f1_score"
          }
         },
         "colorscale": [
          [
           0,
           "rgb(247,251,255)"
          ],
          [
           0.125,
           "rgb(222,235,247)"
          ],
          [
           0.25,
           "rgb(198,219,239)"
          ],
          [
           0.375,
           "rgb(158,202,225)"
          ],
          [
           0.5,
           "rgb(107,174,214)"
          ],
          [
           0.625,
           "rgb(66,146,198)"
          ],
          [
           0.75,
           "rgb(33,113,181)"
          ],
          [
           0.875,
           "rgb(8,81,156)"
          ],
          [
           1,
           "rgb(8,48,107)"
          ]
         ],
         "connectgaps": true,
         "contours": {
          "coloring": "heatmap"
         },
         "hoverinfo": "none",
         "line": {
          "smoothing": 1.3
         },
         "reversescale": false,
         "type": "contour",
         "x": [
          9.05,
          11,
          13,
          15,
          17,
          21,
          22,
          24,
          28,
          30,
          32,
          34,
          35,
          36,
          39,
          41,
          42,
          43,
          44,
          45,
          46,
          47,
          48,
          50,
          51.95
         ],
         "y": [
          100.55,
          110,
          113,
          125,
          130,
          132,
          142,
          146,
          155,
          163,
          165,
          172,
          173,
          176,
          177,
          182,
          185,
          189,
          192,
          194,
          196,
          198,
          206,
          207,
          208,
          210,
          211,
          212,
          216,
          219,
          220,
          221,
          223,
          225,
          230,
          233,
          236,
          242,
          243,
          245,
          256,
          260,
          263,
          267,
          281,
          299,
          308.45
         ],
         "z": [
          [
           null,
           null,
           null,
           null,
           null,
           null,
           null,
           null,
           null,
           null,
           null,
           null,
           null,
           null,
           null,
           null,
           null,
           null,
           null,
           null,
           null,
           null,
           null,
           null,
           null
          ],
          [
           null,
           null,
           null,
           null,
           0.7893333333333334,
           null,
           null,
           null,
           null,
           null,
           null,
           null,
           null,
           null,
           null,
           null,
           null,
           null,
           null,
           null,
           null,
           null,
           null,
           null,
           null
          ],
          [
           null,
           null,
           null,
           null,
           null,
           null,
           null,
           null,
           null,
           null,
           null,
           null,
           null,
           null,
           0.789,
           null,
           null,
           null,
           null,
           null,
           null,
           null,
           null,
           null,
           null
          ],
          [
           null,
           null,
           null,
           null,
           null,
           null,
           0.7920000000000001,
           null,
           null,
           null,
           null,
           null,
           null,
           null,
           null,
           null,
           null,
           null,
           null,
           null,
           null,
           null,
           null,
           null,
           null
          ],
          [
           null,
           null,
           null,
           null,
           null,
           null,
           null,
           null,
           null,
           null,
           0.7893333333333334,
           null,
           null,
           null,
           null,
           null,
           null,
           null,
           null,
           null,
           null,
           null,
           null,
           null,
           null
          ],
          [
           null,
           null,
           null,
           null,
           null,
           null,
           null,
           0.7846666666666667,
           null,
           null,
           null,
           null,
           null,
           null,
           null,
           null,
           null,
           null,
           null,
           null,
           null,
           null,
           null,
           null,
           null
          ],
          [
           null,
           null,
           0.7913333333333333,
           null,
           null,
           null,
           null,
           null,
           null,
           null,
           null,
           null,
           null,
           null,
           null,
           null,
           null,
           null,
           null,
           null,
           null,
           null,
           null,
           null,
           null
          ],
          [
           null,
           null,
           null,
           null,
           null,
           null,
           null,
           null,
           null,
           null,
           null,
           null,
           null,
           null,
           null,
           null,
           0.7893333333333334,
           null,
           null,
           null,
           null,
           null,
           null,
           null,
           null
          ],
          [
           null,
           null,
           0.7903333333333333,
           null,
           null,
           null,
           null,
           null,
           0.7906666666666667,
           null,
           null,
           null,
           null,
           null,
           null,
           null,
           null,
           null,
           null,
           null,
           null,
           null,
           null,
           null,
           null
          ],
          [
           null,
           null,
           null,
           null,
           null,
           null,
           null,
           null,
           null,
           null,
           null,
           null,
           null,
           null,
           0.7959999999999999,
           null,
           null,
           null,
           null,
           null,
           null,
           null,
           null,
           null,
           null
          ],
          [
           null,
           null,
           null,
           null,
           null,
           null,
           null,
           null,
           null,
           null,
           null,
           null,
           null,
           null,
           null,
           null,
           null,
           null,
           null,
           0.7953333333333333,
           null,
           null,
           null,
           null,
           null
          ],
          [
           null,
           null,
           null,
           null,
           null,
           null,
           null,
           null,
           null,
           null,
           null,
           null,
           null,
           null,
           null,
           null,
           null,
           null,
           null,
           0.7996666666666666,
           null,
           null,
           null,
           null,
           null
          ],
          [
           null,
           null,
           null,
           null,
           null,
           null,
           null,
           null,
           null,
           null,
           null,
           null,
           0.7949999999999999,
           null,
           null,
           null,
           null,
           null,
           null,
           null,
           null,
           null,
           null,
           null,
           null
          ],
          [
           null,
           null,
           null,
           null,
           null,
           null,
           null,
           null,
           null,
           null,
           null,
           0.7956666666666666,
           null,
           null,
           null,
           null,
           null,
           null,
           null,
           null,
           null,
           null,
           null,
           null,
           null
          ],
          [
           null,
           null,
           null,
           null,
           null,
           null,
           null,
           null,
           null,
           null,
           null,
           null,
           null,
           0.7926666666666667,
           null,
           null,
           null,
           null,
           null,
           null,
           null,
           null,
           null,
           null,
           null
          ],
          [
           null,
           null,
           null,
           null,
           null,
           null,
           null,
           null,
           null,
           null,
           null,
           null,
           null,
           0.7936666666666667,
           null,
           null,
           null,
           null,
           null,
           null,
           null,
           null,
           null,
           null,
           null
          ],
          [
           null,
           null,
           null,
           null,
           null,
           null,
           null,
           null,
           null,
           null,
           null,
           null,
           null,
           null,
           null,
           null,
           null,
           null,
           null,
           null,
           null,
           null,
           0.791,
           null,
           null
          ],
          [
           null,
           null,
           null,
           null,
           null,
           null,
           null,
           null,
           null,
           null,
           null,
           null,
           null,
           null,
           null,
           null,
           null,
           null,
           null,
           null,
           null,
           null,
           null,
           0.7906666666666666,
           null
          ],
          [
           null,
           null,
           null,
           null,
           null,
           null,
           null,
           null,
           null,
           null,
           null,
           null,
           null,
           null,
           null,
           null,
           null,
           null,
           null,
           null,
           null,
           null,
           null,
           0.7966666666666667,
           null
          ],
          [
           null,
           null,
           null,
           null,
           null,
           null,
           null,
           null,
           null,
           null,
           null,
           null,
           null,
           null,
           null,
           null,
           null,
           null,
           null,
           null,
           null,
           null,
           null,
           0.7996666666666666,
           null
          ],
          [
           null,
           null,
           null,
           null,
           null,
           null,
           null,
           null,
           null,
           null,
           null,
           null,
           null,
           null,
           null,
           null,
           null,
           null,
           null,
           null,
           null,
           null,
           null,
           0.7936666666666667,
           null
          ],
          [
           null,
           null,
           null,
           null,
           null,
           null,
           null,
           null,
           null,
           null,
           null,
           null,
           null,
           null,
           null,
           null,
           null,
           null,
           null,
           null,
           null,
           null,
           null,
           0.7976666666666666,
           null
          ],
          [
           null,
           null,
           null,
           null,
           null,
           null,
           null,
           null,
           null,
           null,
           null,
           null,
           null,
           null,
           0.7986666666666666,
           null,
           null,
           null,
           null,
           null,
           null,
           null,
           null,
           null,
           null
          ],
          [
           null,
           null,
           null,
           null,
           null,
           null,
           null,
           null,
           null,
           null,
           null,
           null,
           null,
           null,
           null,
           null,
           0.7959999999999999,
           null,
           null,
           null,
           null,
           null,
           null,
           0.7876666666666666,
           null
          ],
          [
           null,
           null,
           null,
           null,
           null,
           null,
           null,
           null,
           null,
           null,
           null,
           null,
           null,
           null,
           null,
           null,
           null,
           null,
           null,
           null,
           null,
           0.793,
           null,
           null,
           null
          ],
          [
           null,
           null,
           null,
           null,
           null,
           null,
           null,
           null,
           null,
           null,
           null,
           null,
           null,
           null,
           null,
           null,
           null,
           null,
           0.7956666666666666,
           null,
           null,
           null,
           null,
           null,
           null
          ],
          [
           null,
           null,
           null,
           null,
           null,
           null,
           null,
           null,
           null,
           null,
           null,
           null,
           null,
           null,
           null,
           null,
           null,
           null,
           0.7933333333333334,
           null,
           null,
           null,
           null,
           null,
           null
          ],
          [
           null,
           null,
           null,
           null,
           null,
           null,
           null,
           null,
           null,
           null,
           null,
           null,
           null,
           null,
           null,
           null,
           null,
           null,
           0.7943333333333333,
           null,
           null,
           null,
           0.7919999999999999,
           null,
           null
          ],
          [
           null,
           null,
           null,
           null,
           null,
           null,
           null,
           null,
           null,
           null,
           null,
           null,
           null,
           null,
           null,
           null,
           null,
           null,
           null,
           null,
           0.799,
           null,
           null,
           null,
           null
          ],
          [
           null,
           null,
           null,
           0.786,
           null,
           null,
           null,
           null,
           null,
           null,
           null,
           null,
           null,
           null,
           null,
           null,
           null,
           null,
           null,
           null,
           null,
           null,
           null,
           null,
           null
          ],
          [
           null,
           null,
           null,
           null,
           null,
           null,
           null,
           null,
           null,
           null,
           null,
           null,
           null,
           null,
           null,
           null,
           null,
           null,
           null,
           null,
           0.7926666666666667,
           null,
           null,
           null,
           null
          ],
          [
           null,
           null,
           null,
           null,
           null,
           null,
           null,
           null,
           null,
           null,
           null,
           null,
           null,
           null,
           null,
           null,
           null,
           null,
           null,
           null,
           0.7963333333333334,
           null,
           null,
           null,
           null
          ],
          [
           null,
           null,
           null,
           null,
           null,
           null,
           null,
           null,
           null,
           null,
           null,
           null,
           null,
           null,
           null,
           null,
           null,
           null,
           null,
           null,
           0.7986666666666666,
           null,
           null,
           null,
           null
          ],
          [
           null,
           null,
           null,
           null,
           null,
           null,
           null,
           null,
           null,
           null,
           null,
           null,
           null,
           null,
           null,
           null,
           null,
           null,
           null,
           null,
           0.794,
           null,
           null,
           null,
           null
          ],
          [
           null,
           null,
           null,
           null,
           null,
           null,
           null,
           null,
           null,
           null,
           null,
           null,
           null,
           null,
           null,
           null,
           null,
           null,
           null,
           null,
           null,
           null,
           0.7923333333333332,
           null,
           null
          ],
          [
           null,
           null,
           null,
           null,
           null,
           null,
           null,
           null,
           null,
           null,
           null,
           null,
           null,
           null,
           null,
           null,
           null,
           null,
           null,
           null,
           0.7930000000000001,
           null,
           null,
           null,
           null
          ],
          [
           null,
           null,
           null,
           null,
           null,
           0.794,
           null,
           null,
           null,
           null,
           null,
           null,
           null,
           null,
           null,
           null,
           null,
           null,
           null,
           null,
           null,
           null,
           null,
           null,
           null
          ],
          [
           null,
           null,
           null,
           null,
           null,
           null,
           null,
           null,
           null,
           0.7880000000000001,
           null,
           null,
           null,
           null,
           null,
           null,
           null,
           null,
           null,
           null,
           null,
           null,
           null,
           null,
           null
          ],
          [
           null,
           null,
           null,
           null,
           null,
           null,
           null,
           null,
           null,
           null,
           null,
           null,
           null,
           null,
           null,
           null,
           0.7923333333333334,
           null,
           null,
           null,
           null,
           null,
           null,
           null,
           null
          ],
          [
           null,
           null,
           null,
           null,
           null,
           null,
           null,
           null,
           null,
           null,
           null,
           null,
           null,
           null,
           null,
           null,
           null,
           0.7916666666666666,
           null,
           null,
           null,
           null,
           null,
           null,
           null
          ],
          [
           null,
           null,
           null,
           null,
           null,
           null,
           null,
           null,
           null,
           null,
           null,
           null,
           null,
           null,
           null,
           null,
           0.797,
           null,
           null,
           null,
           null,
           null,
           null,
           null,
           null
          ],
          [
           null,
           null,
           null,
           null,
           null,
           null,
           null,
           null,
           null,
           null,
           null,
           null,
           null,
           null,
           0.7959999999999999,
           null,
           null,
           null,
           null,
           null,
           null,
           null,
           null,
           null,
           null
          ],
          [
           null,
           0.7903333333333334,
           null,
           null,
           null,
           null,
           null,
           null,
           null,
           null,
           null,
           null,
           null,
           null,
           null,
           null,
           null,
           null,
           null,
           null,
           null,
           null,
           null,
           null,
           null
          ],
          [
           null,
           null,
           null,
           null,
           null,
           null,
           null,
           null,
           null,
           null,
           null,
           null,
           null,
           null,
           null,
           null,
           null,
           0.7873333333333333,
           null,
           null,
           null,
           null,
           null,
           null,
           null
          ],
          [
           null,
           null,
           null,
           null,
           null,
           null,
           null,
           null,
           0.7906666666666667,
           null,
           null,
           null,
           null,
           null,
           null,
           null,
           null,
           null,
           null,
           null,
           null,
           null,
           null,
           null,
           null
          ],
          [
           null,
           null,
           null,
           null,
           null,
           null,
           null,
           null,
           null,
           null,
           null,
           null,
           null,
           null,
           null,
           0.7896666666666667,
           null,
           null,
           null,
           null,
           null,
           null,
           null,
           null,
           null
          ],
          [
           null,
           null,
           null,
           null,
           null,
           null,
           null,
           null,
           null,
           null,
           null,
           null,
           null,
           null,
           null,
           null,
           null,
           null,
           null,
           null,
           null,
           null,
           null,
           null,
           null
          ]
         ]
        },
        {
         "marker": {
          "color": "black",
          "line": {
           "color": "Gray",
           "width": 2
          }
         },
         "mode": "markers",
         "name": "Feasible Trial",
         "showlegend": false,
         "type": "scatter",
         "x": [
          43,
          13,
          30,
          17,
          11,
          42,
          28,
          28,
          15,
          43,
          13,
          13,
          39,
          50,
          50,
          50,
          50,
          50,
          50,
          50,
          36,
          36,
          34,
          35,
          45,
          46,
          46,
          46,
          46,
          46,
          46,
          21,
          42,
          41,
          42,
          42,
          39,
          45,
          39,
          39,
          47,
          32,
          22,
          24,
          44,
          44,
          44,
          48,
          48,
          48
         ],
         "y": [
          267,
          155,
          242,
          110,
          263,
          146,
          155,
          281,
          219,
          245,
          142,
          142,
          113,
          194,
          192,
          196,
          207,
          198,
          192,
          189,
          182,
          177,
          176,
          173,
          172,
          223,
          220,
          225,
          216,
          221,
          233,
          236,
          243,
          299,
          207,
          256,
          163,
          165,
          260,
          206,
          208,
          130,
          125,
          132,
          212,
          210,
          211,
          212,
          185,
          230
         ]
        },
        {
         "marker": {
          "color": "#cccccc",
          "line": {
           "color": "Gray",
           "width": 2
          }
         },
         "mode": "markers",
         "name": "Infeasible Trial",
         "showlegend": false,
         "type": "scatter",
         "x": [],
         "y": []
        }
       ],
       "layout": {
        "template": {
         "data": {
          "bar": [
           {
            "error_x": {
             "color": "#2a3f5f"
            },
            "error_y": {
             "color": "#2a3f5f"
            },
            "marker": {
             "line": {
              "color": "#E5ECF6",
              "width": 0.5
             },
             "pattern": {
              "fillmode": "overlay",
              "size": 10,
              "solidity": 0.2
             }
            },
            "type": "bar"
           }
          ],
          "barpolar": [
           {
            "marker": {
             "line": {
              "color": "#E5ECF6",
              "width": 0.5
             },
             "pattern": {
              "fillmode": "overlay",
              "size": 10,
              "solidity": 0.2
             }
            },
            "type": "barpolar"
           }
          ],
          "carpet": [
           {
            "aaxis": {
             "endlinecolor": "#2a3f5f",
             "gridcolor": "white",
             "linecolor": "white",
             "minorgridcolor": "white",
             "startlinecolor": "#2a3f5f"
            },
            "baxis": {
             "endlinecolor": "#2a3f5f",
             "gridcolor": "white",
             "linecolor": "white",
             "minorgridcolor": "white",
             "startlinecolor": "#2a3f5f"
            },
            "type": "carpet"
           }
          ],
          "choropleth": [
           {
            "colorbar": {
             "outlinewidth": 0,
             "ticks": ""
            },
            "type": "choropleth"
           }
          ],
          "contour": [
           {
            "colorbar": {
             "outlinewidth": 0,
             "ticks": ""
            },
            "colorscale": [
             [
              0,
              "#0d0887"
             ],
             [
              0.1111111111111111,
              "#46039f"
             ],
             [
              0.2222222222222222,
              "#7201a8"
             ],
             [
              0.3333333333333333,
              "#9c179e"
             ],
             [
              0.4444444444444444,
              "#bd3786"
             ],
             [
              0.5555555555555556,
              "#d8576b"
             ],
             [
              0.6666666666666666,
              "#ed7953"
             ],
             [
              0.7777777777777778,
              "#fb9f3a"
             ],
             [
              0.8888888888888888,
              "#fdca26"
             ],
             [
              1,
              "#f0f921"
             ]
            ],
            "type": "contour"
           }
          ],
          "contourcarpet": [
           {
            "colorbar": {
             "outlinewidth": 0,
             "ticks": ""
            },
            "type": "contourcarpet"
           }
          ],
          "heatmap": [
           {
            "colorbar": {
             "outlinewidth": 0,
             "ticks": ""
            },
            "colorscale": [
             [
              0,
              "#0d0887"
             ],
             [
              0.1111111111111111,
              "#46039f"
             ],
             [
              0.2222222222222222,
              "#7201a8"
             ],
             [
              0.3333333333333333,
              "#9c179e"
             ],
             [
              0.4444444444444444,
              "#bd3786"
             ],
             [
              0.5555555555555556,
              "#d8576b"
             ],
             [
              0.6666666666666666,
              "#ed7953"
             ],
             [
              0.7777777777777778,
              "#fb9f3a"
             ],
             [
              0.8888888888888888,
              "#fdca26"
             ],
             [
              1,
              "#f0f921"
             ]
            ],
            "type": "heatmap"
           }
          ],
          "heatmapgl": [
           {
            "colorbar": {
             "outlinewidth": 0,
             "ticks": ""
            },
            "colorscale": [
             [
              0,
              "#0d0887"
             ],
             [
              0.1111111111111111,
              "#46039f"
             ],
             [
              0.2222222222222222,
              "#7201a8"
             ],
             [
              0.3333333333333333,
              "#9c179e"
             ],
             [
              0.4444444444444444,
              "#bd3786"
             ],
             [
              0.5555555555555556,
              "#d8576b"
             ],
             [
              0.6666666666666666,
              "#ed7953"
             ],
             [
              0.7777777777777778,
              "#fb9f3a"
             ],
             [
              0.8888888888888888,
              "#fdca26"
             ],
             [
              1,
              "#f0f921"
             ]
            ],
            "type": "heatmapgl"
           }
          ],
          "histogram": [
           {
            "marker": {
             "pattern": {
              "fillmode": "overlay",
              "size": 10,
              "solidity": 0.2
             }
            },
            "type": "histogram"
           }
          ],
          "histogram2d": [
           {
            "colorbar": {
             "outlinewidth": 0,
             "ticks": ""
            },
            "colorscale": [
             [
              0,
              "#0d0887"
             ],
             [
              0.1111111111111111,
              "#46039f"
             ],
             [
              0.2222222222222222,
              "#7201a8"
             ],
             [
              0.3333333333333333,
              "#9c179e"
             ],
             [
              0.4444444444444444,
              "#bd3786"
             ],
             [
              0.5555555555555556,
              "#d8576b"
             ],
             [
              0.6666666666666666,
              "#ed7953"
             ],
             [
              0.7777777777777778,
              "#fb9f3a"
             ],
             [
              0.8888888888888888,
              "#fdca26"
             ],
             [
              1,
              "#f0f921"
             ]
            ],
            "type": "histogram2d"
           }
          ],
          "histogram2dcontour": [
           {
            "colorbar": {
             "outlinewidth": 0,
             "ticks": ""
            },
            "colorscale": [
             [
              0,
              "#0d0887"
             ],
             [
              0.1111111111111111,
              "#46039f"
             ],
             [
              0.2222222222222222,
              "#7201a8"
             ],
             [
              0.3333333333333333,
              "#9c179e"
             ],
             [
              0.4444444444444444,
              "#bd3786"
             ],
             [
              0.5555555555555556,
              "#d8576b"
             ],
             [
              0.6666666666666666,
              "#ed7953"
             ],
             [
              0.7777777777777778,
              "#fb9f3a"
             ],
             [
              0.8888888888888888,
              "#fdca26"
             ],
             [
              1,
              "#f0f921"
             ]
            ],
            "type": "histogram2dcontour"
           }
          ],
          "mesh3d": [
           {
            "colorbar": {
             "outlinewidth": 0,
             "ticks": ""
            },
            "type": "mesh3d"
           }
          ],
          "parcoords": [
           {
            "line": {
             "colorbar": {
              "outlinewidth": 0,
              "ticks": ""
             }
            },
            "type": "parcoords"
           }
          ],
          "pie": [
           {
            "automargin": true,
            "type": "pie"
           }
          ],
          "scatter": [
           {
            "fillpattern": {
             "fillmode": "overlay",
             "size": 10,
             "solidity": 0.2
            },
            "type": "scatter"
           }
          ],
          "scatter3d": [
           {
            "line": {
             "colorbar": {
              "outlinewidth": 0,
              "ticks": ""
             }
            },
            "marker": {
             "colorbar": {
              "outlinewidth": 0,
              "ticks": ""
             }
            },
            "type": "scatter3d"
           }
          ],
          "scattercarpet": [
           {
            "marker": {
             "colorbar": {
              "outlinewidth": 0,
              "ticks": ""
             }
            },
            "type": "scattercarpet"
           }
          ],
          "scattergeo": [
           {
            "marker": {
             "colorbar": {
              "outlinewidth": 0,
              "ticks": ""
             }
            },
            "type": "scattergeo"
           }
          ],
          "scattergl": [
           {
            "marker": {
             "colorbar": {
              "outlinewidth": 0,
              "ticks": ""
             }
            },
            "type": "scattergl"
           }
          ],
          "scattermapbox": [
           {
            "marker": {
             "colorbar": {
              "outlinewidth": 0,
              "ticks": ""
             }
            },
            "type": "scattermapbox"
           }
          ],
          "scatterpolar": [
           {
            "marker": {
             "colorbar": {
              "outlinewidth": 0,
              "ticks": ""
             }
            },
            "type": "scatterpolar"
           }
          ],
          "scatterpolargl": [
           {
            "marker": {
             "colorbar": {
              "outlinewidth": 0,
              "ticks": ""
             }
            },
            "type": "scatterpolargl"
           }
          ],
          "scatterternary": [
           {
            "marker": {
             "colorbar": {
              "outlinewidth": 0,
              "ticks": ""
             }
            },
            "type": "scatterternary"
           }
          ],
          "surface": [
           {
            "colorbar": {
             "outlinewidth": 0,
             "ticks": ""
            },
            "colorscale": [
             [
              0,
              "#0d0887"
             ],
             [
              0.1111111111111111,
              "#46039f"
             ],
             [
              0.2222222222222222,
              "#7201a8"
             ],
             [
              0.3333333333333333,
              "#9c179e"
             ],
             [
              0.4444444444444444,
              "#bd3786"
             ],
             [
              0.5555555555555556,
              "#d8576b"
             ],
             [
              0.6666666666666666,
              "#ed7953"
             ],
             [
              0.7777777777777778,
              "#fb9f3a"
             ],
             [
              0.8888888888888888,
              "#fdca26"
             ],
             [
              1,
              "#f0f921"
             ]
            ],
            "type": "surface"
           }
          ],
          "table": [
           {
            "cells": {
             "fill": {
              "color": "#EBF0F8"
             },
             "line": {
              "color": "white"
             }
            },
            "header": {
             "fill": {
              "color": "#C8D4E3"
             },
             "line": {
              "color": "white"
             }
            },
            "type": "table"
           }
          ]
         },
         "layout": {
          "annotationdefaults": {
           "arrowcolor": "#2a3f5f",
           "arrowhead": 0,
           "arrowwidth": 1
          },
          "autotypenumbers": "strict",
          "coloraxis": {
           "colorbar": {
            "outlinewidth": 0,
            "ticks": ""
           }
          },
          "colorscale": {
           "diverging": [
            [
             0,
             "#8e0152"
            ],
            [
             0.1,
             "#c51b7d"
            ],
            [
             0.2,
             "#de77ae"
            ],
            [
             0.3,
             "#f1b6da"
            ],
            [
             0.4,
             "#fde0ef"
            ],
            [
             0.5,
             "#f7f7f7"
            ],
            [
             0.6,
             "#e6f5d0"
            ],
            [
             0.7,
             "#b8e186"
            ],
            [
             0.8,
             "#7fbc41"
            ],
            [
             0.9,
             "#4d9221"
            ],
            [
             1,
             "#276419"
            ]
           ],
           "sequential": [
            [
             0,
             "#0d0887"
            ],
            [
             0.1111111111111111,
             "#46039f"
            ],
            [
             0.2222222222222222,
             "#7201a8"
            ],
            [
             0.3333333333333333,
             "#9c179e"
            ],
            [
             0.4444444444444444,
             "#bd3786"
            ],
            [
             0.5555555555555556,
             "#d8576b"
            ],
            [
             0.6666666666666666,
             "#ed7953"
            ],
            [
             0.7777777777777778,
             "#fb9f3a"
            ],
            [
             0.8888888888888888,
             "#fdca26"
            ],
            [
             1,
             "#f0f921"
            ]
           ],
           "sequentialminus": [
            [
             0,
             "#0d0887"
            ],
            [
             0.1111111111111111,
             "#46039f"
            ],
            [
             0.2222222222222222,
             "#7201a8"
            ],
            [
             0.3333333333333333,
             "#9c179e"
            ],
            [
             0.4444444444444444,
             "#bd3786"
            ],
            [
             0.5555555555555556,
             "#d8576b"
            ],
            [
             0.6666666666666666,
             "#ed7953"
            ],
            [
             0.7777777777777778,
             "#fb9f3a"
            ],
            [
             0.8888888888888888,
             "#fdca26"
            ],
            [
             1,
             "#f0f921"
            ]
           ]
          },
          "colorway": [
           "#636efa",
           "#EF553B",
           "#00cc96",
           "#ab63fa",
           "#FFA15A",
           "#19d3f3",
           "#FF6692",
           "#B6E880",
           "#FF97FF",
           "#FECB52"
          ],
          "font": {
           "color": "#2a3f5f"
          },
          "geo": {
           "bgcolor": "white",
           "lakecolor": "white",
           "landcolor": "#E5ECF6",
           "showlakes": true,
           "showland": true,
           "subunitcolor": "white"
          },
          "hoverlabel": {
           "align": "left"
          },
          "hovermode": "closest",
          "mapbox": {
           "style": "light"
          },
          "paper_bgcolor": "white",
          "plot_bgcolor": "#E5ECF6",
          "polar": {
           "angularaxis": {
            "gridcolor": "white",
            "linecolor": "white",
            "ticks": ""
           },
           "bgcolor": "#E5ECF6",
           "radialaxis": {
            "gridcolor": "white",
            "linecolor": "white",
            "ticks": ""
           }
          },
          "scene": {
           "xaxis": {
            "backgroundcolor": "#E5ECF6",
            "gridcolor": "white",
            "gridwidth": 2,
            "linecolor": "white",
            "showbackground": true,
            "ticks": "",
            "zerolinecolor": "white"
           },
           "yaxis": {
            "backgroundcolor": "#E5ECF6",
            "gridcolor": "white",
            "gridwidth": 2,
            "linecolor": "white",
            "showbackground": true,
            "ticks": "",
            "zerolinecolor": "white"
           },
           "zaxis": {
            "backgroundcolor": "#E5ECF6",
            "gridcolor": "white",
            "gridwidth": 2,
            "linecolor": "white",
            "showbackground": true,
            "ticks": "",
            "zerolinecolor": "white"
           }
          },
          "shapedefaults": {
           "line": {
            "color": "#2a3f5f"
           }
          },
          "ternary": {
           "aaxis": {
            "gridcolor": "white",
            "linecolor": "white",
            "ticks": ""
           },
           "baxis": {
            "gridcolor": "white",
            "linecolor": "white",
            "ticks": ""
           },
           "bgcolor": "#E5ECF6",
           "caxis": {
            "gridcolor": "white",
            "linecolor": "white",
            "ticks": ""
           }
          },
          "title": {
           "x": 0.05
          },
          "xaxis": {
           "automargin": true,
           "gridcolor": "white",
           "linecolor": "white",
           "ticks": "",
           "title": {
            "standoff": 15
           },
           "zerolinecolor": "white",
           "zerolinewidth": 2
          },
          "yaxis": {
           "automargin": true,
           "gridcolor": "white",
           "linecolor": "white",
           "ticks": "",
           "title": {
            "standoff": 15
           },
           "zerolinecolor": "white",
           "zerolinewidth": 2
          }
         }
        },
        "title": {
         "text": "Contour Plot"
        },
        "xaxis": {
         "range": [
          9.05,
          51.95
         ],
         "title": {
          "text": "max_depth"
         }
        },
        "yaxis": {
         "range": [
          100.55,
          308.45
         ],
         "title": {
          "text": "n_estimators"
         }
        }
       }
      }
     },
     "metadata": {},
     "output_type": "display_data"
    }
   ],
   "source": [
    "optuna.visualization.plot_contour(study, params=[\"max_depth\", \"n_estimators\"],\n",
    "                                  target_name=\"f1_score\")"
   ]
  },
  {
   "cell_type": "code",
   "execution_count": 16,
   "metadata": {},
   "outputs": [
    {
     "data": {
      "image/png": "[encoded data removed]",
      "text/plain": [
       "<Figure size 1000x800 with 2 Axes>"
      ]
     },
     "metadata": {},
     "output_type": "display_data"
    }
   ],
   "source": [
    "# Преобразование Trials в DataFrame\n",
    "trials_dict = trials.results\n",
    "trials_df = pd.DataFrame(trials_dict)\n",
    "\n",
    "# Извлечение параметров из Trials\n",
    "params_df = pd.DataFrame(trials.vals)\n",
    "params_df['loss'] = trials_df['loss']\n",
    "params_df['accuracy'] = -trials_df['loss']\n",
    "\n",
    "# Преобразование параметров в строки для построения графиков\n",
    "params_df['max_depth'] = params_df['max_depth'].astype(int).astype(str)\n",
    "params_df['n_estimators'] = params_df['n_estimators'].astype(int).astype(str)\n",
    "\n",
    "# Группировка данных и расчет среднего значения accuracy для каждой комбинации параметров\n",
    "grouped_params = params_df.groupby(['max_depth', 'n_estimators']).mean().reset_index()\n",
    "\n",
    "# Создание сводной таблицы для max_depth и n_estimators\n",
    "pivot_table = grouped_params.pivot(index='max_depth', columns='n_estimators', values='accuracy')\n",
    "\n",
    "# Создание тепловой карты для max_depth и n_estimators\n",
    "plt.figure(figsize=(10, 8))\n",
    "sns.heatmap(pivot_table, annot=True, cmap='viridis')\n",
    "plt.title('Тепловая карта accuracy в зависимости от max_depth и n_estimators')\n",
    "plt.xlabel('n_estimators')\n",
    "plt.ylabel('max_depth')\n",
    "plt.show()\n"
   ]
  },
  {
   "cell_type": "markdown",
   "metadata": {},
   "source": [
    "**Вывод:** Результаты показывают, что оптимизация гиперпараметров с использованием Optuna позволила достичь точности и F1-метрики на уровне 0.80 на тестовом наборе данных. Это свидетельствует о том, что подобранные гиперпараметры способствуют повышению производительности модели по сравнению с дефолтными настройками."
   ]
  },
  {
   "cell_type": "markdown",
   "metadata": {},
   "source": [
    "Модель| accuracy| f1_score\n",
    "|--|--|--|\n",
    "RandomForestClassifier - GridSearchCV | 0.80| 0.82\n",
    "RandomForestClassifier - RandomizedSearchCV| 0.80| 0.83\n",
    "DecisionTreeClassifier - RandomizedSearchCV | 0.76| 0.78\n",
    "DecisionTreeClassifier - GridSearchCV | 0.75| 0.75\n",
    "Hyperopt | 0.81 | 0.80\n",
    "optuna | 0.80| 0.80\n",
    "\n",
    "Основной  вывод:\n",
    "\n",
    "* RandomForestClassifier с RandomizedSearchCV показал наилучшие результаты по F1-метрике (0.83):\n",
    "\n",
    "Этот метод также показал высокую точность (0.80), что делает его предпочтительным выбором для задач, где важна точная классификация и балансировка классов.\n",
    "\n",
    "* RandomForestClassifier с GridSearchCV также показал хорошие результаты:\n",
    "\n",
    "Модель показала точность 0.80 и F1-метрику 0.82. GridSearchCV выполняет исчерпывающий поиск по пространству гиперпараметров, что приводит к хорошим результатам, но это может занять больше времени по сравнению с RandomizedSearchCV.\n",
    "\n",
    "* Hyperopt продемонстрировал самую высокую точность (0.81):\n",
    "\n",
    "Хотя F1-метрика немного ниже (0.80), использование Hyperopt для автоматической оптимизации гиперпараметров показало себя весьма эффективным.\n",
    "\n",
    "* Optuna показала стабильные результаты:\n",
    "\n",
    "Optuna продемонстрировала высокую точность (0.80) и F1-метрику (0.80), что делает её хорошим инструментом для оптимизации гиперпараметров, особенно учитывая её возможности для параллельной и распределённой оптимизации.\n",
    "\n",
    "* DecisionTreeClassifier показывает более низкие результаты по сравнению с RandomForestClassifier:\n",
    "\n",
    "RandomizedSearchCV для DecisionTreeClassifier показал точность 0.76 и F1-метрику 0.78, что выше, чем при использовании GridSearchCV (точность 0.75 и F1-метрика 0.75). Это подтверждает, что случайный поиск может быть более эффективным для деревьев решений."
   ]
  }
 ],
 "metadata": {
  "kernelspec": {
   "display_name": "Python 3",
   "language": "python",
   "name": "python3"
  },
  "language_info": {
   "codemirror_mode": {
    "name": "ipython",
    "version": 3
   },
   "file_extension": ".py",
   "mimetype": "text/x-python",
   "name": "python",
   "nbconvert_exporter": "python",
   "pygments_lexer": "ipython3",
   "version": "3.11.2"
  }
 },
 "nbformat": 4,
 "nbformat_minor": 2
}
